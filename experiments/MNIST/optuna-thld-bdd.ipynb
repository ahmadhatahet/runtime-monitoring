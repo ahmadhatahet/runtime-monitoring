{
 "cells": [
  {
   "cell_type": "code",
   "execution_count": 59,
   "id": "955e3871",
   "metadata": {},
   "outputs": [],
   "source": [
    "# https://optuna.readthedocs.io/en/stable/reference/generated/optuna.trial.Trial.html#\n",
    "\n",
    "import os\n",
    "from pathlib import Path\n",
    "\n",
    "import pandas as pd\n",
    "import numpy as np\n",
    "\n",
    "import optuna\n",
    "from optuna.trial import TrialState\n",
    "from optuna.samplers import CmaEsSampler, RandomSampler, TPESampler\n",
    "\n",
    "import torch\n",
    "import torch.nn as nn\n",
    "import torch.nn.functional as F\n",
    "import torch.optim as optim\n",
    "import torch.utils.data\n",
    "from torchvision import datasets\n",
    "from torchvision import transforms"
   ]
  },
  {
   "cell_type": "code",
   "execution_count": 60,
   "id": "1c4eda8d",
   "metadata": {},
   "outputs": [],
   "source": [
    "REPO_PATH = '/home/ah19/runtime-monitoring'\n",
    "DATASET = 'MNIST'\n",
    "PREFIX = 'MNIST32-L2-Adam-100'\n",
    "NUM_NEURONS = 100\n",
    "FILENAME_POSTFIX = f\"{DATASET}_{PREFIX}\"\n",
    "SEED = 42"
   ]
  },
  {
   "cell_type": "code",
   "execution_count": 61,
   "id": "86695396",
   "metadata": {},
   "outputs": [],
   "source": [
    "import sys\n",
    "sys.path.append(REPO_PATH + '/utilities')\n",
    "sys.path.append(f'{REPO_PATH}/{DATASET}/trainingModels')"
   ]
  },
  {
   "cell_type": "code",
   "execution_count": 62,
   "id": "368d2da0",
   "metadata": {},
   "outputs": [],
   "source": [
    "from utils import *\n",
    "from plotFunctions import *\n",
    "from MonitorUnifiedBDD import build_bdd\n",
    "from pathManager import fetchPaths"
   ]
  },
  {
   "cell_type": "code",
   "execution_count": 63,
   "id": "e89574d0",
   "metadata": {},
   "outputs": [
    {
     "data": {
      "text/plain": [
       "PosixPath('/home/ah19/runtime-monitoring/MNIST/lastHiddenLayer/raw/MNIST_MNIST32-L2-Adam-100')"
      ]
     },
     "execution_count": 63,
     "metadata": {},
     "output_type": "execute_result"
    }
   ],
   "source": [
    "base = Path(REPO_PATH)\n",
    "paths = fetchPaths(base, DATASET)\n",
    "\n",
    "path = paths[DATASET.lower()]\n",
    "path_dataset = paths['dataset']\n",
    "path_trainingModels = paths['trainingModels']\n",
    "path_lastHiddenLayer = paths['lastHiddenLayer']\n",
    "path_lastHiddenLayer_raw = paths['lastHiddenLayer_raw'] / FILENAME_POSTFIX\n",
    "path_lastHiddenLayer_pca = paths['lastHiddenLayer_pca'] / FILENAME_POSTFIX / 'Sinlge'\n",
    "\n",
    "path_trainingModels = path_trainingModels / 'optuna-last-hidden-layer'\n",
    "path_trainingModels.mkdir(exist_ok=True)\n",
    "\n",
    "path_lastHiddenLayer_raw"
   ]
  },
  {
   "cell_type": "code",
   "execution_count": 64,
   "id": "f8a4cc22",
   "metadata": {},
   "outputs": [],
   "source": [
    "def objective(trial):\n",
    "   \n",
    "    df = pd.read_csv(path_lastHiddenLayer_raw / f'{FILENAME_POSTFIX}_train.csv')\n",
    "    df_test = pd.read_csv(path_lastHiddenLayer_raw / f'{FILENAME_POSTFIX}_test.csv')\n",
    "\n",
    "    # split train data\n",
    "    df_true = df[df['true'] == True].copy()\n",
    "    df_true = df_true.drop('true', axis=1).reset_index(drop=True)\n",
    "\n",
    "\n",
    "#         read data\n",
    "    qnt_float = trial.suggest_float(\"quantile\", 0, 0.95, step=0.01)\n",
    "    thld = np.quantile(df_true.drop('y', axis=1), qnt_float, axis=0)\n",
    "\n",
    "    res_info, res_scores = build_bdd((df.copy(), df_test.copy(), df_true.copy(), None,\n",
    "                                      f'qt{round(qnt_float, 2)}', thld, 0, None))\n",
    "\n",
    "    result = float(res_scores.loc[(res_scores['y'] == 'all')\n",
    "                                  & (res_scores['stage'] == 'test')\n",
    "                                  , 'outOfPatternMissClassified'].values[0])\n",
    "    \n",
    "    # Handle pruning based on the intermediate value.\n",
    "    if trial.should_prune():\n",
    "        raise optuna.exceptions.TrialPruned()\n",
    "        \n",
    "\n",
    "    return result\n"
   ]
  },
  {
   "cell_type": "code",
   "execution_count": 65,
   "id": "c9d6e8a7",
   "metadata": {},
   "outputs": [],
   "source": [
    "total_time = int( 60 * 60 * 1.5 )\n",
    "total_trials = 100"
   ]
  },
  {
   "cell_type": "code",
   "execution_count": null,
   "id": "0fc3af09",
   "metadata": {
    "scrolled": false
   },
   "outputs": [
    {
     "name": "stderr",
     "output_type": "stream",
     "text": [
      "\u001b[32m[I 2023-04-09 22:33:11,332]\u001b[0m A new study created in memory with name: no-name-8550b939-9512-421f-acd0-0d8fc94cf439\u001b[0m\n"
     ]
    },
    {
     "name": "stdout",
     "output_type": "stream",
     "text": [
      "qt0.37 - eta: 0\n",
      "qt0.79 - eta: 0\n",
      "qt0.45 - eta: 0\n",
      "qt0.84 - eta: 0\n",
      "qt0.54 - eta: 0\n",
      "qt0.43 - eta: 0\n",
      "qt0.44 - eta: 0\n",
      "qt0.47 - eta: 0\n",
      "qt0.67 - eta: 0\n",
      "qt0.01 - eta: 0\n",
      "qt0.78 - eta: 0\n",
      "qt0.56 - eta: 0\n",
      "qt0.82 - eta: 0\n",
      "qt0.89 - eta: 0\n",
      "qt0.88 - eta: 0\n",
      "qt0.43 - eta: 0\n",
      "qt0.94 - eta: 0\n",
      "qt0.36 - eta: 0\n",
      "qt0.2 - eta: 0\n",
      "qt0.08 - eta: 0\n",
      "Applying thresholds ... \n",
      "Adding patterns with no degree of freedom ... \n",
      "Applying thresholds ... \n",
      "Adding patterns with no degree of freedom ... \n",
      "Applying thresholds ... \n",
      "Adding patterns with no degree of freedom ... \n",
      "Applying thresholds ... \n",
      "Applying thresholds ... \n",
      "Adding patterns with no degree of freedom ... Applying thresholds ... Adding patterns with no degree of freedom ... \n",
      "\n",
      "\n",
      "Adding patterns with no degree of freedom ... \n",
      "Applying thresholds ... \n",
      "Adding patterns with no degree of freedom ... \n",
      "Applying thresholds ... \n",
      "Applying thresholds ... Adding patterns with no degree of freedom ... \n",
      "\n",
      "Adding patterns with no degree of freedom ... \n",
      "Applying thresholds ... Applying thresholds ... \n",
      "\n",
      "Adding patterns with no degree of freedom ... \n",
      "Adding patterns with no degree of freedom ... \n",
      "Applying thresholds ... \n",
      "Applying thresholds ... \n",
      "Adding patterns with no degree of freedom ... \n",
      "Adding patterns with no degree of freedom ... \n",
      "Applying thresholds ... \n",
      "Applying thresholds ... \n",
      "Adding patterns with no degree of freedom ... \n",
      "Applying thresholds ... Adding patterns with no degree of freedom ... \n",
      "\n",
      "Adding patterns with no degree of freedom ... \n",
      "Applying thresholds ... \n",
      "Adding patterns with no degree of freedom ... \n",
      "Applying thresholds ... \n",
      "Adding patterns with no degree of freedom ... \n",
      "Applying thresholds ... \n",
      "Adding patterns with no degree of freedom ... \n",
      "Applying thresholds ... \n"
     ]
    }
   ],
   "source": [
    "# params: L2, L1, bs, bn, drop, optim\n",
    "#          3,  3,  4,  2,    6,     2 = 864\n",
    "\n",
    "sampler = TPESampler(seed=SEED) # Default\n",
    "# sampler = CmaEsSampler(seed=SEED)\n",
    "# sampler = RandomSampler(seed=SEED)\n",
    "\n",
    "study = optuna.create_study(direction=\"maximize\", sampler=sampler)\n",
    "study.optimize(objective, n_trials=total_trials, timeout=total_time, n_jobs=20)\n",
    "\n",
    "pruned_trials = study.get_trials(deepcopy=False, states=[TrialState.PRUNED])\n",
    "complete_trials = study.get_trials(deepcopy=False, states=[TrialState.COMPLETE])\n",
    "\n",
    "print(\"Study statistics: \")\n",
    "print(\"  Number of finished trials: \", len(study.trials))\n",
    "print(\"  Number of pruned trials: \", len(pruned_trials))\n",
    "print(\"  Number of complete trials: \", len(complete_trials))\n",
    "\n",
    "print(\"Best trial:\")\n",
    "trial = study.best_trial\n",
    "# trial = study.best_trials\n",
    "\n",
    "print(\"  Value: \", trial.value)\n",
    "\n",
    "print(\"  Params: \")\n",
    "for key, value in trial.params.items():\n",
    "    print(\"    {}: {}\".format(key, value))"
   ]
  },
  {
   "cell_type": "code",
   "execution_count": null,
   "id": "d5c8c3f6",
   "metadata": {},
   "outputs": [],
   "source": [
    "# optuna.visualization.plot_pareto_front(study, target_names=[\"loss\", \"accuracy\"])"
   ]
  },
  {
   "cell_type": "code",
   "execution_count": null,
   "id": "cea83cb8",
   "metadata": {},
   "outputs": [],
   "source": [
    "# optuna.visualization.plot_param_importances(study, target=lambda t: t.values[0], target_name=\"accuracy\")"
   ]
  },
  {
   "cell_type": "code",
   "execution_count": null,
   "id": "342b4aad",
   "metadata": {},
   "outputs": [],
   "source": [
    "df_studys = study.trials_dataframe().sort_values('value', ascending=False)"
   ]
  },
  {
   "cell_type": "code",
   "execution_count": null,
   "id": "834b3002",
   "metadata": {},
   "outputs": [],
   "source": [
    "df_studys.to_csv(path_trainingModels / f'optunaResults-{type(sampler).__name__}-{PREFIX}-{NUM_NEURONS}.csv' ,index=False)"
   ]
  },
  {
   "cell_type": "code",
   "execution_count": null,
   "id": "c31072ab",
   "metadata": {},
   "outputs": [],
   "source": [
    "df_studys = df_studys.set_index('number')"
   ]
  },
  {
   "cell_type": "code",
   "execution_count": null,
   "id": "3f52f415",
   "metadata": {},
   "outputs": [],
   "source": [
    "df_studys.head()"
   ]
  },
  {
   "cell_type": "code",
   "execution_count": null,
   "id": "9408d0d6",
   "metadata": {},
   "outputs": [],
   "source": [
    "import plotly.express as px\n",
    "\n",
    "y = np.random.randn(10_000)\n",
    "\n",
    "fig = px.histogram(y)\n",
    "\n",
    "std_ = np.std(y)\n",
    "qt_ = np.quantile(y, df_studys.iloc[0, -2])\n",
    "\n",
    "fig.add_vline(qt_, line_width=3, line_dash=\"dash\", line_color=\"green\")\n",
    "\n",
    "fig.add_vline(std_, line_width=3, line_dash=\"dash\", line_color=\"blue\")\n",
    "fig.add_vline(std_ * 2, line_width=3, line_dash=\"dash\", line_color=\"blue\")\n",
    "\n",
    "fig.add_vrect(x0=y.min(), x1=qt_, line_width=0, fillcolor=\"red\", opacity=0.2)\n",
    "fig.add_vrect(x0=qt_, x1=y.max(), line_width=0, fillcolor=\"green\", opacity=0.2)"
   ]
  },
  {
   "cell_type": "code",
   "execution_count": null,
   "id": "e6fcb983",
   "metadata": {},
   "outputs": [],
   "source": []
  },
  {
   "cell_type": "code",
   "execution_count": null,
   "id": "56c6c55c",
   "metadata": {},
   "outputs": [],
   "source": []
  },
  {
   "cell_type": "code",
   "execution_count": null,
   "id": "e7569596",
   "metadata": {},
   "outputs": [],
   "source": []
  },
  {
   "cell_type": "code",
   "execution_count": null,
   "id": "19180287",
   "metadata": {},
   "outputs": [],
   "source": []
  },
  {
   "cell_type": "code",
   "execution_count": null,
   "id": "cebbc25c",
   "metadata": {},
   "outputs": [],
   "source": []
  },
  {
   "cell_type": "code",
   "execution_count": null,
   "id": "d97016fd",
   "metadata": {},
   "outputs": [],
   "source": []
  },
  {
   "cell_type": "code",
   "execution_count": null,
   "id": "73acc6c7",
   "metadata": {},
   "outputs": [],
   "source": []
  },
  {
   "cell_type": "code",
   "execution_count": null,
   "id": "41e736f8",
   "metadata": {
    "scrolled": false
   },
   "outputs": [],
   "source": [
    "# # params: L2, L1, bs, bn, drop, optim\n",
    "# #          3,  3,  4,  2,    6,     2 = 864\n",
    "\n",
    "# # sampler = TPESampler(seed=SEED) # Default\n",
    "# # sampler = CmaEsSampler(seed=SEED)\n",
    "# sampler = RandomSampler(seed=SEED)\n",
    "\n",
    "# study = optuna.create_study(direction=\"maximize\", sampler=sampler)\n",
    "# study.optimize(objective, n_trials=total_trials, timeout=total_time)\n",
    "\n",
    "# pruned_trials = study.get_trials(deepcopy=False, states=[TrialState.PRUNED])\n",
    "# complete_trials = study.get_trials(deepcopy=False, states=[TrialState.COMPLETE])\n",
    "\n",
    "# print(\"Study statistics: \")\n",
    "# print(\"  Number of finished trials: \", len(study.trials))\n",
    "# print(\"  Number of pruned trials: \", len(pruned_trials))\n",
    "# print(\"  Number of complete trials: \", len(complete_trials))\n",
    "\n",
    "# print(\"Best trial:\")\n",
    "# trial = study.best_trial\n",
    "# # trial = study.best_trials\n",
    "\n",
    "# print(\"  Value: \", trial.value)\n",
    "\n",
    "# print(\"  Params: \")\n",
    "# for key, value in trial.params.items():\n",
    "#     print(\"    {}: {}\".format(key, value))"
   ]
  },
  {
   "cell_type": "code",
   "execution_count": null,
   "id": "da409cbf",
   "metadata": {},
   "outputs": [],
   "source": [
    "# optuna.visualization.plot_pareto_front(study, target_names=[\"loss\", \"accuracy\"])"
   ]
  },
  {
   "cell_type": "code",
   "execution_count": null,
   "id": "36158216",
   "metadata": {},
   "outputs": [],
   "source": [
    "# optuna.visualization.plot_param_importances(\n",
    "#     study, target=lambda t: t.values[0], target_name=\"accuracy\"\n",
    "# )"
   ]
  },
  {
   "cell_type": "code",
   "execution_count": null,
   "id": "7fc1836d",
   "metadata": {},
   "outputs": [],
   "source": [
    "# df_studys = study.trials_dataframe().sort_values('value', ascending=False)"
   ]
  },
  {
   "cell_type": "code",
   "execution_count": null,
   "id": "2a85466a",
   "metadata": {},
   "outputs": [],
   "source": [
    "# df_studys.to_csv(path_trainingModels / f'optunaResults_{type(sampler).__name__}.csv' ,index=False)"
   ]
  },
  {
   "cell_type": "code",
   "execution_count": null,
   "id": "680cb450",
   "metadata": {},
   "outputs": [],
   "source": [
    "# df_studys = df_studys.set_index('number')"
   ]
  },
  {
   "cell_type": "code",
   "execution_count": null,
   "id": "fc878989",
   "metadata": {},
   "outputs": [],
   "source": [
    "# df_studys.head()"
   ]
  },
  {
   "cell_type": "code",
   "execution_count": null,
   "id": "a8a42cfc",
   "metadata": {},
   "outputs": [],
   "source": []
  },
  {
   "cell_type": "code",
   "execution_count": null,
   "id": "6e1b533c",
   "metadata": {},
   "outputs": [],
   "source": []
  },
  {
   "cell_type": "code",
   "execution_count": null,
   "id": "e67007ca",
   "metadata": {},
   "outputs": [],
   "source": []
  },
  {
   "cell_type": "code",
   "execution_count": null,
   "id": "a133f619",
   "metadata": {
    "scrolled": false
   },
   "outputs": [],
   "source": [
    "# # params: L2, L1, bs, bn, drop, optim\n",
    "# #          3,  3,  4,  2,    6,     2 = 864\n",
    "\n",
    "# # sampler = TPESampler(seed=SEED) # Default\n",
    "# sampler = CmaEsSampler(seed=SEED)\n",
    "# # sampler = RandomSampler(seed=SEED)\n",
    "\n",
    "# study = optuna.create_study(direction=\"maximize\", sampler=sampler)\n",
    "# study.optimize(objective, n_trials=total_trials, timeout=total_time)\n",
    "\n",
    "# pruned_trials = study.get_trials(deepcopy=False, states=[TrialState.PRUNED])\n",
    "# complete_trials = study.get_trials(deepcopy=False, states=[TrialState.COMPLETE])\n",
    "\n",
    "# print(\"Study statistics: \")\n",
    "# print(\"  Number of finished trials: \", len(study.trials))\n",
    "# print(\"  Number of pruned trials: \", len(pruned_trials))\n",
    "# print(\"  Number of complete trials: \", len(complete_trials))\n",
    "\n",
    "# print(\"Best trial:\")\n",
    "# trial = study.best_trial\n",
    "# # trial = study.best_trials\n",
    "\n",
    "# print(\"  Value: \", trial.value)\n",
    "\n",
    "# print(\"  Params: \")\n",
    "# for key, value in trial.params.items():\n",
    "#     print(\"    {}: {}\".format(key, value))"
   ]
  },
  {
   "cell_type": "code",
   "execution_count": null,
   "id": "7f812276",
   "metadata": {},
   "outputs": [],
   "source": [
    "# optuna.visualization.plot_pareto_front(study, target_names=[\"loss\", \"accuracy\"])"
   ]
  },
  {
   "cell_type": "code",
   "execution_count": null,
   "id": "9098a4e9",
   "metadata": {},
   "outputs": [],
   "source": [
    "# optuna.visualization.plot_param_importances(\n",
    "#     study, target=lambda t: t.values[0], target_name=\"accuracy\"\n",
    "# )"
   ]
  },
  {
   "cell_type": "code",
   "execution_count": null,
   "id": "f3dd9d52",
   "metadata": {},
   "outputs": [],
   "source": [
    "# df_studys = study.trials_dataframe().sort_values('value', ascending=False)"
   ]
  },
  {
   "cell_type": "code",
   "execution_count": null,
   "id": "54ce8f69",
   "metadata": {},
   "outputs": [],
   "source": [
    "# df_studys.to_csv(path_trainingModels / f'optunaResults_{type(sampler).__name__}.csv' ,index=False)"
   ]
  },
  {
   "cell_type": "code",
   "execution_count": null,
   "id": "29af549d",
   "metadata": {},
   "outputs": [],
   "source": [
    "# df_studys = df_studys.set_index('number')"
   ]
  },
  {
   "cell_type": "code",
   "execution_count": null,
   "id": "f0454493",
   "metadata": {},
   "outputs": [],
   "source": [
    "# df_studys.head()"
   ]
  },
  {
   "cell_type": "code",
   "execution_count": null,
   "id": "38e0ea6e",
   "metadata": {},
   "outputs": [],
   "source": []
  },
  {
   "cell_type": "code",
   "execution_count": null,
   "id": "549824fd",
   "metadata": {},
   "outputs": [],
   "source": []
  },
  {
   "cell_type": "code",
   "execution_count": null,
   "id": "78c88e41",
   "metadata": {},
   "outputs": [],
   "source": []
  }
 ],
 "metadata": {
  "kernelspec": {
   "display_name": "Python 3",
   "language": "python",
   "name": "python3"
  },
  "language_info": {
   "codemirror_mode": {
    "name": "ipython",
    "version": 3
   },
   "file_extension": ".py",
   "mimetype": "text/x-python",
   "name": "python",
   "nbconvert_exporter": "python",
   "pygments_lexer": "ipython3",
   "version": "3.6.8"
  }
 },
 "nbformat": 4,
 "nbformat_minor": 5
}
