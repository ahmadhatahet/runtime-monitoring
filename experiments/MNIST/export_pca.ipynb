{
 "cells": [
  {
   "cell_type": "markdown",
   "metadata": {},
   "source": [
    "# Setup Variables"
   ]
  },
  {
   "cell_type": "code",
   "execution_count": 3,
   "metadata": {},
   "outputs": [
    {
     "data": {
      "text/plain": [
       "'MNIST_Adam-256-30'"
      ]
     },
     "execution_count": 3,
     "metadata": {},
     "output_type": "execute_result"
    }
   ],
   "source": [
    "REPO_PATH = '/home/ah19/runtime-monitoring'\n",
    "DATASET = 'MNIST'\n",
    "PREFIX = 'Adam-256-30'\n",
    "FILENAME_POSTFIX = f\"{DATASET}_{PREFIX}\"\n",
    "\n",
    "NUM_NEURONS = PREFIX.split('-')[-1]\n",
    "CLASSES_COLUMN = 'y'\n",
    "\n",
    "FILENAME_POSTFIX"
   ]
  },
  {
   "cell_type": "markdown",
   "metadata": {},
   "source": [
    "# Libraries"
   ]
  },
  {
   "cell_type": "code",
   "execution_count": 4,
   "metadata": {
    "executionInfo": {
     "elapsed": 9623,
     "status": "ok",
     "timestamp": 1671040500574,
     "user": {
      "displayName": "Ahmad Hatahet",
      "userId": "04744914436475368613"
     },
     "user_tz": -60
    },
    "id": "pXGE8-FrCtzm"
   },
   "outputs": [],
   "source": [
    "import pandas as pd\n",
    "import matplotlib.pyplot as plt\n",
    "import numpy as np\n",
    "from matplotlib import rcParams\n",
    "import seaborn as sns\n",
    "from pathlib import Path\n",
    "import time"
   ]
  },
  {
   "cell_type": "code",
   "execution_count": 5,
   "metadata": {},
   "outputs": [],
   "source": [
    "import sys\n",
    "sys.path.append(REPO_PATH + '/utilities')\n",
    "sys.path.append(f'{REPO_PATH}/{DATASET}/trainingModels')"
   ]
  },
  {
   "cell_type": "code",
   "execution_count": 6,
   "metadata": {},
   "outputs": [],
   "source": [
    "from utils import *\n",
    "from pcaFunctions import *\n",
    "from scaleFunctions import *\n",
    "from plotFunctions import *\n",
    "from pathManager import fetchPaths"
   ]
  },
  {
   "cell_type": "code",
   "execution_count": 7,
   "metadata": {},
   "outputs": [
    {
     "data": {
      "text/plain": [
       "(PosixPath('/home/ah19/runtime-monitoring/MNIST'),\n",
       " PosixPath('/home/ah19/runtime-monitoring/MNIST/lastHiddenLayer/pca/MNIST_Adam-256-30'))"
      ]
     },
     "execution_count": 7,
     "metadata": {},
     "output_type": "execute_result"
    }
   ],
   "source": [
    "base = Path(REPO_PATH)\n",
    "paths = fetchPaths(base, DATASET)\n",
    "\n",
    "path = paths[DATASET.lower()]\n",
    "path_dataset = paths['dataset']\n",
    "path_lastHiddenLayer = paths['lastHiddenLayer']\n",
    "path_lastHiddenLayer_raw = paths['lastHiddenLayer_raw'] / FILENAME_POSTFIX\n",
    "path_lastHiddenLayer_pca = paths['lastHiddenLayer_pca'] / FILENAME_POSTFIX\n",
    "path_savedModels = paths['savedModels']\n",
    "\n",
    "# save model and logs to dedicated directory\n",
    "path_lastHiddenLayer_pca_single = path_lastHiddenLayer_pca / 'Single'\n",
    "path_lastHiddenLayer_pca_single.mkdir(exist_ok=True, parents=True)\n",
    "\n",
    "path_lastHiddenLayer_pca_classes = path_lastHiddenLayer_pca / 'Classes'\n",
    "path_lastHiddenLayer_pca_classes.mkdir(exist_ok=True, parents=True)\n",
    "\n",
    "path, path_lastHiddenLayer_pca"
   ]
  },
  {
   "cell_type": "markdown",
   "metadata": {},
   "source": [
    "# Import Data"
   ]
  },
  {
   "cell_type": "code",
   "execution_count": 8,
   "metadata": {},
   "outputs": [
    {
     "data": {
      "text/plain": [
       "'Accuracy for train data: 0.9958666666666667'"
      ]
     },
     "execution_count": 8,
     "metadata": {},
     "output_type": "execute_result"
    }
   ],
   "source": [
    "df = pd.read_csv(path_lastHiddenLayer_raw / f'{FILENAME_POSTFIX}_train.csv')\n",
    "f\"Accuracy for train data: {df['true'].sum() / df.shape[0]}\""
   ]
  },
  {
   "cell_type": "code",
   "execution_count": 9,
   "metadata": {},
   "outputs": [
    {
     "data": {
      "text/plain": [
       "'Accuracy for test data: 0.9886'"
      ]
     },
     "execution_count": 9,
     "metadata": {},
     "output_type": "execute_result"
    }
   ],
   "source": [
    "df_test = pd.read_csv(path_lastHiddenLayer_raw / f'{FILENAME_POSTFIX}_test.csv')\n",
    "f\"Accuracy for test data: {df_test['true'].sum() / df_test.shape[0]}\""
   ]
  },
  {
   "cell_type": "markdown",
   "metadata": {},
   "source": [
    "### Export PCA - Single"
   ]
  },
  {
   "cell_type": "code",
   "execution_count": 11,
   "metadata": {},
   "outputs": [],
   "source": [
    "scaler_single = fitStandardScalerSingle(df, NUM_NEURONS)\n",
    "pca_single = fitPCASingle(df, scaler_single, NUM_NEURONS)"
   ]
  },
  {
   "cell_type": "code",
   "execution_count": 12,
   "metadata": {},
   "outputs": [],
   "source": [
    "df_single = {\n",
    "    'train': applyPCASingle(pca_single, df, scaler_single, NUM_NEURONS),\n",
    "    'test': applyPCASingle(pca_single, df_test, scaler_single, NUM_NEURONS),\n",
    "}"
   ]
  },
  {
   "cell_type": "code",
   "execution_count": 13,
   "metadata": {},
   "outputs": [],
   "source": [
    "for stage, df in df_single.items():\n",
    "    df.to_csv(path_lastHiddenLayer_pca_single / f'{FILENAME_POSTFIX}_{stage}.csv', index=False)"
   ]
  },
  {
   "cell_type": "code",
   "execution_count": 14,
   "metadata": {},
   "outputs": [],
   "source": [
    "neurons_single = neuronsLoadingsSingle(pca_single, NUM_NEURONS, var_thld=0.9, loadings_thld=0.5)\n",
    "save_json(path_lastHiddenLayer_pca_single / f'{FILENAME_POSTFIX}_neurons.json', neurons_single)"
   ]
  },
  {
   "cell_type": "markdown",
   "metadata": {},
   "source": [
    "### Export PCA - Classes"
   ]
  },
  {
   "cell_type": "code",
   "execution_count": 15,
   "metadata": {},
   "outputs": [],
   "source": [
    "scaler_classes = fitScalerClasses(df, CLASSES_COLUMN, NUM_NEURONS)\n",
    "pca_classes = fitPCAClasses(df, CLASSES_COLUMN, scaler_classes, NUM_NEURONS)"
   ]
  },
  {
   "cell_type": "code",
   "execution_count": 17,
   "metadata": {},
   "outputs": [],
   "source": [
    "df_classes = {\n",
    "    'train': applyPCAClasses(pca_classes, df, CLASSES_COLUMN, scaler_classes),\n",
    "    'test': applyPCAClasses(pca_classes, df_test, CLASSES_COLUMN, scaler_classes),\n",
    "}"
   ]
  },
  {
   "cell_type": "code",
   "execution_count": 18,
   "metadata": {},
   "outputs": [],
   "source": [
    "for stage, df in df_classes.items():\n",
    "    df.to_csv(path_lastHiddenLayer_pca_classes / f'{FILENAME_POSTFIX}_{stage}.csv', index=False)"
   ]
  },
  {
   "cell_type": "code",
   "execution_count": 19,
   "metadata": {},
   "outputs": [],
   "source": [
    "neurons_classes = neuronsLoadingsClasses(pca_classes, NUM_NEURONS, var_thld=0.9, loadings_thld=0.5)\n",
    "save_json(path_lastHiddenLayer_pca_classes / f'{FILENAME_POSTFIX}_neurons.json', neurons_classes)"
   ]
  }
 ],
 "metadata": {
  "colab": {
   "provenance": [
    {
     "file_id": "1r5x0yAy1Q1Glklq8woltTcizzfCm7Kwn",
     "timestamp": 1669503022126
    }
   ]
  },
  "gpuClass": "standard",
  "kernelspec": {
   "display_name": "Python 3",
   "language": "python",
   "name": "python3"
  },
  "language_info": {
   "codemirror_mode": {
    "name": "ipython",
    "version": 3
   },
   "file_extension": ".py",
   "mimetype": "text/x-python",
   "name": "python",
   "nbconvert_exporter": "python",
   "pygments_lexer": "ipython3",
   "version": "3.6.8"
  }
 },
 "nbformat": 4,
 "nbformat_minor": 1
}
