{
 "cells": [
  {
   "cell_type": "markdown",
   "metadata": {},
   "source": [
    "# Setup Variables"
   ]
  },
  {
   "cell_type": "code",
   "execution_count": 83,
   "metadata": {},
   "outputs": [],
   "source": [
    "REPO_PATH = '/home/ah19/runtime-monitoring'\n",
    "DATASET = 'MNIST'\n",
    "PREFIX = 'BestRegularization'\n",
    "FILENAME_POSTFIX = f\"{DATASET}_{PREFIX}\"\n",
    "SEED = 42\n",
    "\n",
    "GPU_NAME = 'cuda:0'\n",
    "\n",
    "model_config = {\n",
    "    'batch_size': 256,\n",
    "    'lr': 0.01,\n",
    "    'epochs': 10,\n",
    "    \"patience\": 2,\n",
    "    \"L2\": 0.0,\n",
    "    \"L1\": 0.0\n",
    "}"
   ]
  },
  {
   "cell_type": "markdown",
   "metadata": {},
   "source": [
    "# Libraries"
   ]
  },
  {
   "cell_type": "code",
   "execution_count": 84,
   "metadata": {
    "id": "FLmxFGnxg6ZG"
   },
   "outputs": [],
   "source": [
    "import matplotlib.pyplot as plt\n",
    "import numpy as np\n",
    "from pathlib import Path\n",
    "\n",
    "import torch\n",
    "import torch.nn as nn\n",
    "from torch.backends import cudnn\n",
    "from torchinfo import summary"
   ]
  },
  {
   "cell_type": "code",
   "execution_count": 85,
   "metadata": {},
   "outputs": [],
   "source": [
    "import sys\n",
    "sys.path.append(REPO_PATH + '/utilities')\n",
    "sys.path.append(f'{REPO_PATH}/{DATASET}/trainingModels')"
   ]
  },
  {
   "cell_type": "code",
   "execution_count": 86,
   "metadata": {},
   "outputs": [],
   "source": [
    "from utils import *\n",
    "from plotFunctions import *\n",
    "from pathManager import fetchPaths\n",
    "from MNIST_Model import MNIST_Model\n",
    "\n",
    "model_ = MNIST_Model"
   ]
  },
  {
   "cell_type": "markdown",
   "metadata": {
    "id": "h7eERD3yVH2H"
   },
   "source": [
    "# GPU Device & Seed"
   ]
  },
  {
   "cell_type": "code",
   "execution_count": 87,
   "metadata": {
    "id": "CS9DVaKDi_2C"
   },
   "outputs": [],
   "source": [
    "np.random.seed(SEED)\n",
    "torch.manual_seed(SEED)\n",
    "torch.cuda.manual_seed(SEED)"
   ]
  },
  {
   "cell_type": "code",
   "execution_count": 88,
   "metadata": {
    "colab": {
     "base_uri": "https://localhost:8080/"
    },
    "id": "5jRXv8RAhzqa",
    "outputId": "d8ccff46-cebe-4890-ab1c-5b498a395e64"
   },
   "outputs": [
    {
     "data": {
      "text/plain": [
       "'NVIDIA A100 80GB PCIe'"
      ]
     },
     "execution_count": 88,
     "metadata": {},
     "output_type": "execute_result"
    }
   ],
   "source": [
    "device = get_device(GPU_NAME)\n",
    "torch.cuda.get_device_name(device)"
   ]
  },
  {
   "cell_type": "markdown",
   "metadata": {},
   "source": [
    "# Paths"
   ]
  },
  {
   "cell_type": "code",
   "execution_count": 89,
   "metadata": {
    "scrolled": false
   },
   "outputs": [
    {
     "name": "stdout",
     "output_type": "stream",
     "text": [
      "! IMPORTANT: Model already exist !\n"
     ]
    },
    {
     "data": {
      "text/plain": [
       "(PosixPath('/home/ah19/runtime-monitoring/MNIST'),\n",
       " PosixPath('/home/ah19/runtime-monitoring/MNIST/savedModels/MNIST_Adam256'))"
      ]
     },
     "execution_count": 89,
     "metadata": {},
     "output_type": "execute_result"
    }
   ],
   "source": [
    "base = Path(REPO_PATH)\n",
    "paths = fetchPaths(base, DATASET)\n",
    "\n",
    "path = paths[DATASET.lower()]\n",
    "path_dataset = paths['dataset']\n",
    "path_trainingModels = paths['trainingModels']\n",
    "path_lastHiddenLayer = paths['lastHiddenLayer']\n",
    "path_lastHiddenLayer_raw = paths['lastHiddenLayer_raw']\n",
    "path_savedModels = paths['savedModels']\n",
    "\n",
    "# save model and logs to dedicated directory\n",
    "if path_savedModels.is_dir(): print('! IMPORTANT: Model already exist !')\n",
    "path_savedModels = path_savedModels / FILENAME_POSTFIX\n",
    "path_savedModels.mkdir(exist_ok=True)\n",
    "\n",
    "path_lastHiddenLayer_raw = path_lastHiddenLayer_raw / FILENAME_POSTFIX\n",
    "path_lastHiddenLayer_raw.mkdir(exist_ok=True)\n",
    "\n",
    "path, path_savedModels"
   ]
  },
  {
   "cell_type": "markdown",
   "metadata": {
    "id": "h7eERD3yVH2H"
   },
   "source": [
    "# Load / Split / DataLoader"
   ]
  },
  {
   "cell_type": "code",
   "execution_count": 53,
   "metadata": {},
   "outputs": [
    {
     "data": {
      "text/plain": [
       "(60000, 10000)"
      ]
     },
     "execution_count": 53,
     "metadata": {},
     "output_type": "execute_result"
    }
   ],
   "source": [
    "feature_names = get_labels(DATASET)\n",
    "\n",
    "tf_train = T.Compose([\n",
    "    T.ToTensor(),\n",
    "#     T.RandomHorizontalFlip(),\n",
    "    T.Normalize((0.1307), (0.3015))\n",
    "])\n",
    "\n",
    "\n",
    "tf_test = T.Compose([\n",
    "    T.ToTensor(),\n",
    "    T.Normalize((0.1307), (0.3015))\n",
    "])\n",
    "\n",
    "train_data = get_dataset(DATASET, path_dataset, train=True, transform=tf_train)\n",
    "test_data = get_dataset(DATASET, path_dataset, train=False, transform=tf_test)\n",
    "len(train_data), len(test_data)"
   ]
  },
  {
   "cell_type": "code",
   "execution_count": 54,
   "metadata": {
    "id": "94CFn70JlO-P"
   },
   "outputs": [],
   "source": [
    "trainloader = get_dataLoader(train_data, model_config['batch_size'], True)\n",
    "testloader = get_dataLoader(test_data, model_config['batch_size'], False)"
   ]
  },
  {
   "cell_type": "code",
   "execution_count": 55,
   "metadata": {},
   "outputs": [
    {
     "data": {
      "image/png": "[encoded data removed]",
      "text/plain": [
       "<Figure size 648x648 with 9 Axes>"
      ]
     },
     "metadata": {},
     "output_type": "display_data"
    }
   ],
   "source": [
    "show_images_loader(trainloader, feature_names=feature_names)"
   ]
  },
  {
   "cell_type": "markdown",
   "metadata": {},
   "source": [
    "# Model"
   ]
  },
  {
   "cell_type": "code",
   "execution_count": 56,
   "metadata": {},
   "outputs": [],
   "source": [
    "# skip classes\n",
    "skip_classes = None\n",
    "map_classes = None"
   ]
  },
  {
   "cell_type": "code",
   "execution_count": 37,
   "metadata": {
    "colab": {
     "base_uri": "https://localhost:8080/"
    },
    "id": "rreGzn6UjaJK",
    "outputId": "8addd560-e9b7-4614-ee45-1789bf19f285"
   },
   "outputs": [
    {
     "data": {
      "text/plain": [
       "==========================================================================================\n",
       "Layer (type:depth-idx)                   Output Shape              Param #\n",
       "==========================================================================================\n",
       "MNIST_Model                              --                        --\n",
       "├─Sequential: 1-1                        [1, 16, 12, 12]           --\n",
       "│    └─Conv2d: 2-1                       [1, 32, 26, 26]           288\n",
       "│    └─BatchNorm2d: 2-2                  [1, 32, 26, 26]           64\n",
       "│    └─ReLU: 2-3                         [1, 32, 26, 26]           --\n",
       "│    └─Dropout2d: 2-4                    [1, 32, 26, 26]           --\n",
       "│    └─Conv2d: 2-5                       [1, 16, 12, 12]           4,608\n",
       "│    └─BatchNorm2d: 2-6                  [1, 16, 12, 12]           32\n",
       "│    └─ReLU: 2-7                         [1, 16, 12, 12]           --\n",
       "│    └─Dropout2d: 2-8                    [1, 16, 12, 12]           --\n",
       "├─Flatten: 1-2                           [1, 2304]                 --\n",
       "├─Dropout: 1-3                           [1, 2304]                 --\n",
       "├─Linear: 1-4                            [1, 200]                  460,800\n",
       "├─BatchNorm1d: 1-5                       [1, 200]                  400\n",
       "├─ReLU: 1-6                              [1, 200]                  --\n",
       "├─Dropout: 1-7                           [1, 200]                  --\n",
       "├─Linear: 1-8                            [1, 30]                   6,000\n",
       "├─BatchNorm1d: 1-9                       [1, 30]                   60\n",
       "├─ReLU: 1-10                             [1, 30]                   --\n",
       "├─Linear: 1-11                           [1, 10]                   300\n",
       "==========================================================================================\n",
       "Total params: 472,552\n",
       "Trainable params: 472,552\n",
       "Non-trainable params: 0\n",
       "Total mult-adds (M): 1.33\n",
       "==========================================================================================\n",
       "Input size (MB): 0.00\n",
       "Forward/backward pass size (MB): 0.39\n",
       "Params size (MB): 1.89\n",
       "Estimated Total Size (MB): 2.28\n",
       "=========================================================================================="
      ]
     },
     "execution_count": 37,
     "metadata": {},
     "output_type": "execute_result"
    }
   ],
   "source": [
    "model = model_(**model_setup)\n",
    "model.to(device)\n",
    "\n",
    "nn.DataParallel(model, device_ids=[0])\n",
    "cudnn.benchmark = True\n",
    "\n",
    "summary(model, (1, 1, 28, 28))"
   ]
  },
  {
   "cell_type": "code",
   "execution_count": 39,
   "metadata": {
    "id": "K5ScFB620DCh",
    "scrolled": false
   },
   "outputs": [
    {
     "data": {
      "text/html": [
       "\n",
       "<style>\n",
       "    /* Turns off some styling */\n",
       "    progress {\n",
       "        /* gets rid of default border in Firefox and Opera. */\n",
       "        border: none;\n",
       "        /* Needs to be in here for Safari polyfill so background images work as expected. */\n",
       "        background-size: auto;\n",
       "    }\n",
       "    progress:not([value]), progress:not([value])::-webkit-progress-bar {\n",
       "        background: repeating-linear-gradient(45deg, #7e7e7e, #7e7e7e 10px, #5c5c5c 10px, #5c5c5c 20px);\n",
       "    }\n",
       "    .progress-bar-interrupted, .progress-bar-interrupted::-webkit-progress-bar {\n",
       "        background: #F44336;\n",
       "    }\n",
       "</style>\n"
      ],
      "text/plain": [
       "<IPython.core.display.HTML object>"
      ]
     },
     "metadata": {},
     "output_type": "display_data"
    },
    {
     "data": {
      "text/html": [
       "\n",
       "    <div>\n",
       "      <progress value='3' class='' max='10' style='width:300px; height:20px; vertical-align: middle;'></progress>\n",
       "      30.00% [3/10 00:52&lt;02:03 Epochs]\n",
       "    </div>\n",
       "    \n",
       "[Epoch: 00] Loss (0.126 / 0.040) - Accuracy (96.5% / 98.7%)<p>[Epoch: 01] Loss (0.040 / 0.047) - Accuracy (98.8% / 98.7%)<p>[Epoch: 02] Loss (0.024 / 0.037) - Accuracy (99.2% / 98.8%)<p>\n",
       "\n",
       "    <div>\n",
       "      <progress value='40' class='' max='40' style='width:300px; height:20px; vertical-align: middle;'></progress>\n",
       "      100.00% [40/40 00:02&lt;00:00 Testing]\n",
       "    </div>\n",
       "    "
      ],
      "text/plain": [
       "<IPython.core.display.HTML object>"
      ]
     },
     "metadata": {},
     "output_type": "display_data"
    },
    {
     "data": {
      "image/png": "[encoded data removed]",
      "text/plain": [
       "<Figure size 360x288 with 1 Axes>"
      ]
     },
     "metadata": {},
     "output_type": "display_data"
    },
    {
     "data": {
      "image/png": "[encoded data removed]",
      "text/plain": [
       "<Figure size 360x288 with 1 Axes>"
      ]
     },
     "metadata": {},
     "output_type": "display_data"
    }
   ],
   "source": [
    "# cost function\n",
    "loss_function = nn.CrossEntropyLoss()\n",
    "\n",
    "# optimizer\n",
    "# optimizer = torch.optim.SGD(model.parameters(), lr=model_config['lr'])\n",
    "optimizer = torch.optim.Adam(model.parameters(), lr=model_config['lr'])\n",
    "\n",
    "# LR Scheduler\n",
    "\n",
    "# lr_scheduler = torch.optim.lr_scheduler.CosineAnnealingWarmRestarts(\n",
    "#     optimizer, T_0=2, T_mult=1, eta_min=1e-4, verbose=True)\n",
    "\n",
    "\n",
    "# lr_scheduler = torch.optim.lr_scheduler.CosineAnnealingLR(\n",
    "#     optimizer, T_max=model_config['epochs'], verbose=True)\n",
    "\n",
    "# lr_scheduler = torch.optim.lr_scheduler.ReduceLROnPlateau(\n",
    "#     optimizer, patience=model_config['patience'], mode='max',\n",
    "#     factor=1e-1, min_lr=1e-4, verbose=True)\n",
    "\n",
    "lr_scheduler = torch.optim.lr_scheduler.StepLR(optimizer, gamma=0.1, step_size=5 )\n",
    "\n",
    "# lr_scheduler = None\n",
    "\n",
    "# run_training_testing arguments\n",
    "kwargs = {\n",
    "    'model': model,\n",
    "    'loss_function': loss_function,\n",
    "    'optimizer': optimizer,\n",
    "    'lr_scheduler': lr_scheduler,\n",
    "    'map_classes': map_classes,\n",
    "    'skip_classes': skip_classes,\n",
    "    'device': device,\n",
    "    'model_path': path_savedModels / f\"{DATASET}_{PREFIX}.pth.tar\",\n",
    "    'trainloader': trainloader,\n",
    "    'testloader': testloader,\n",
    "    'config': model_config\n",
    "}\n",
    "\n",
    "# train\n",
    "train_losses, test_losses, train_accs, test_accs, test_loss, test_acc, confusion_matrix_test, best_model_name = run_training_testing(**kwargs)"
   ]
  },
  {
   "cell_type": "markdown",
   "metadata": {
    "id": "LcwvG36f9Ov-"
   },
   "source": [
    "# Exporting last hidden layer data"
   ]
  },
  {
   "cell_type": "code",
   "execution_count": 57,
   "metadata": {},
   "outputs": [
    {
     "data": {
      "text/plain": [
       "PosixPath('/home/ah19/runtime-monitoring/MNIST/savedModels/MNIST_Adam256/MNIST_Adam256-acc-0.988-loss-0.037.pth.tar')"
      ]
     },
     "execution_count": 57,
     "metadata": {},
     "output_type": "execute_result"
    }
   ],
   "source": [
    "# create empty model\n",
    "model = model_(**model_setup)\n",
    "model.to(device)\n",
    "\n",
    "# load model\n",
    "# model_file_name = path_savedModels / 'MNIST_Adam256-acc-0.988-loss-0.037.pth.tar'\n",
    "model_file_name = best_model_name\n",
    "load_checkpoint(model, model_file_name)\n",
    "\n",
    "model_file_name"
   ]
  },
  {
   "cell_type": "code",
   "execution_count": 62,
   "metadata": {
    "colab": {
     "base_uri": "https://localhost:8080/",
     "height": 77
    },
    "id": "oqVyeo1s9ScA",
    "outputId": "bb6353f2-8b8b-494a-e5d1-3f69f2421825"
   },
   "outputs": [
    {
     "data": {
      "text/html": [
       "\n",
       "<style>\n",
       "    /* Turns off some styling */\n",
       "    progress {\n",
       "        /* gets rid of default border in Firefox and Opera. */\n",
       "        border: none;\n",
       "        /* Needs to be in here for Safari polyfill so background images work as expected. */\n",
       "        background-size: auto;\n",
       "    }\n",
       "    progress:not([value]), progress:not([value])::-webkit-progress-bar {\n",
       "        background: repeating-linear-gradient(45deg, #7e7e7e, #7e7e7e 10px, #5c5c5c 10px, #5c5c5c 20px);\n",
       "    }\n",
       "    .progress-bar-interrupted, .progress-bar-interrupted::-webkit-progress-bar {\n",
       "        background: #F44336;\n",
       "    }\n",
       "</style>\n"
      ],
      "text/plain": [
       "<IPython.core.display.HTML object>"
      ]
     },
     "metadata": {},
     "output_type": "display_data"
    },
    {
     "data": {
      "text/html": [
       "\n",
       "    <div>\n",
       "      <progress value='235' class='' max='235' style='width:300px; height:20px; vertical-align: middle;'></progress>\n",
       "      100.00% [235/235 00:20&lt;00:00]\n",
       "    </div>\n",
       "    "
      ],
      "text/plain": [
       "<IPython.core.display.HTML object>"
      ]
     },
     "metadata": {},
     "output_type": "display_data"
    },
    {
     "data": {
      "text/html": [
       "\n",
       "<style>\n",
       "    /* Turns off some styling */\n",
       "    progress {\n",
       "        /* gets rid of default border in Firefox and Opera. */\n",
       "        border: none;\n",
       "        /* Needs to be in here for Safari polyfill so background images work as expected. */\n",
       "        background-size: auto;\n",
       "    }\n",
       "    progress:not([value]), progress:not([value])::-webkit-progress-bar {\n",
       "        background: repeating-linear-gradient(45deg, #7e7e7e, #7e7e7e 10px, #5c5c5c 10px, #5c5c5c 20px);\n",
       "    }\n",
       "    .progress-bar-interrupted, .progress-bar-interrupted::-webkit-progress-bar {\n",
       "        background: #F44336;\n",
       "    }\n",
       "</style>\n"
      ],
      "text/plain": [
       "<IPython.core.display.HTML object>"
      ]
     },
     "metadata": {},
     "output_type": "display_data"
    },
    {
     "data": {
      "text/html": [
       "\n",
       "    <div>\n",
       "      <progress value='40' class='' max='40' style='width:300px; height:20px; vertical-align: middle;'></progress>\n",
       "      100.00% [40/40 00:04&lt;00:00]\n",
       "    </div>\n",
       "    "
      ],
      "text/plain": [
       "<IPython.core.display.HTML object>"
      ]
     },
     "metadata": {},
     "output_type": "display_data"
    }
   ],
   "source": [
    "# export last hidden layer for each data loader\n",
    "\n",
    "for loader, stage in [\n",
    "    (trainloader, 'train'),\n",
    "    (testloader, 'test'),\n",
    "]:\n",
    "    export_last_hidden_layer(loader, model, device, model.last_hidden_neurons,\n",
    "                          map_classes, path_lastHiddenLayer_raw, FILENAME_POSTFIX, stage)"
   ]
  },
  {
   "cell_type": "markdown",
   "metadata": {},
   "source": [
    "# Confusion Matrix"
   ]
  },
  {
   "cell_type": "code",
   "execution_count": 63,
   "metadata": {},
   "outputs": [],
   "source": [
    "save_confusion_matrix(confusion_matrix_test, path_savedModels, FILENAME_POSTFIX, 'test')"
   ]
  },
  {
   "cell_type": "code",
   "execution_count": 45,
   "metadata": {
    "scrolled": false
   },
   "outputs": [
    {
     "data": {
      "image/png": "[encoded data removed]",
      "text/plain": [
       "<Figure size 972x864 with 2 Axes>"
      ]
     },
     "metadata": {},
     "output_type": "display_data"
    }
   ],
   "source": [
    "confusion_matrix_test_norm = normalize_confusion_matrix(confusion_matrix_test)\n",
    "fig, ax = plot_confusion_matrix( confusion_matrix_test_norm, None, fmt='.2f')"
   ]
  },
  {
   "cell_type": "code",
   "execution_count": null,
   "metadata": {},
   "outputs": [],
   "source": []
  }
 ],
 "metadata": {
  "accelerator": "GPU",
  "colab": {
   "collapsed_sections": [
    "mcDeYOA8d1wL"
   ],
   "provenance": []
  },
  "gpuClass": "standard",
  "kernelspec": {
   "display_name": "Python 3",
   "language": "python",
   "name": "python3"
  },
  "language_info": {
   "codemirror_mode": {
    "name": "ipython",
    "version": 3
   },
   "file_extension": ".py",
   "mimetype": "text/x-python",
   "name": "python",
   "nbconvert_exporter": "python",
   "pygments_lexer": "ipython3",
   "version": "3.6.8"
  },
  "vscode": {
   "interpreter": {
    "hash": "2b89e4666a1b1f5f90ada5928a1b04d9ad859bf674b23c56e0417352230a6456"
   }
  }
 },
 "nbformat": 4,
 "nbformat_minor": 1
}
