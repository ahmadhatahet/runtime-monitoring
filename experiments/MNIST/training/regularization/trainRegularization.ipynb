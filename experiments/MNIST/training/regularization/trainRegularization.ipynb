{
 "cells": [
  {
   "cell_type": "markdown",
   "metadata": {},
   "source": [
    "# Setup Variables"
   ]
  },
  {
   "cell_type": "code",
   "execution_count": 1,
   "metadata": {},
   "outputs": [],
   "source": [
    "REPO_PATH = '/home/ah19/runtime-monitoring'\n",
    "DATASET = 'MNIST'\n",
    "PREFIX = 'Regularizations'\n",
    "FILENAME_POSTFIX = f\"{DATASET}_{PREFIX}\"\n",
    "SEED = 42\n",
    "\n",
    "CUDA = 1\n",
    "GPU_NAME = f'cuda:{CUDA}'\n",
    "model_setup = {'batchnorm': True, 'first_layer_norm': False}\n",
    "model_config = {'lr': 0.01,'epochs': 5}"
   ]
  },
  {
   "cell_type": "markdown",
   "metadata": {},
   "source": [
    "# Libraries"
   ]
  },
  {
   "cell_type": "code",
   "execution_count": 2,
   "metadata": {
    "id": "FLmxFGnxg6ZG"
   },
   "outputs": [],
   "source": [
    "import matplotlib.pyplot as plt\n",
    "import numpy as np\n",
    "import pandas as pd\n",
    "from fastprogress import progress_bar\n",
    "from pathlib import Path\n",
    "from time import perf_counter\n",
    "from itertools import product\n",
    "\n",
    "from sklearn.model_selection import train_test_split\n",
    "import torch\n",
    "from torch.backends import cudnn\n",
    "import torch.nn as nn\n",
    "import torch.nn.functional as F\n",
    "from torchinfo import summary"
   ]
  },
  {
   "cell_type": "code",
   "execution_count": 3,
   "metadata": {},
   "outputs": [],
   "source": [
    "import sys\n",
    "sys.path.append(REPO_PATH + '/utilities')\n",
    "sys.path.append(f'{REPO_PATH}/{DATASET}/trainingModels')"
   ]
  },
  {
   "cell_type": "code",
   "execution_count": 6,
   "metadata": {},
   "outputs": [],
   "source": [
    "from utils import *\n",
    "from pathManager import fetchPaths\n",
    "from MNIST_Model import MNIST_Model\n",
    "\n",
    "model_ = MNIST_Model\n",
    "\n",
    "LIMIT_TRAIN_DATA = 0.2\n",
    "LIMIT_TEST_DATA = 0.05"
   ]
  },
  {
   "cell_type": "markdown",
   "metadata": {
    "id": "h7eERD3yVH2H"
   },
   "source": [
    "# GPU Device & Seed"
   ]
  },
  {
   "cell_type": "code",
   "execution_count": 7,
   "metadata": {
    "id": "CS9DVaKDi_2C"
   },
   "outputs": [],
   "source": [
    "# np.random.seed(SEED)\n",
    "# torch.manual_seed(SEED)\n",
    "# torch.cuda.manual_seed(SEED)"
   ]
  },
  {
   "cell_type": "code",
   "execution_count": 8,
   "metadata": {
    "colab": {
     "base_uri": "https://localhost:8080/"
    },
    "id": "5jRXv8RAhzqa",
    "outputId": "d8ccff46-cebe-4890-ab1c-5b498a395e64"
   },
   "outputs": [
    {
     "data": {
      "text/plain": [
       "'Tesla T4'"
      ]
     },
     "execution_count": 8,
     "metadata": {},
     "output_type": "execute_result"
    }
   ],
   "source": [
    "device = get_device(GPU_NAME)\n",
    "torch.cuda.get_device_name(device)"
   ]
  },
  {
   "cell_type": "markdown",
   "metadata": {},
   "source": [
    "# Paths"
   ]
  },
  {
   "cell_type": "code",
   "execution_count": 9,
   "metadata": {
    "scrolled": true
   },
   "outputs": [
    {
     "data": {
      "text/plain": [
       "PosixPath('/home/ah19/runtime-monitoring/MNIST')"
      ]
     },
     "execution_count": 9,
     "metadata": {},
     "output_type": "execute_result"
    }
   ],
   "source": [
    "base = Path(REPO_PATH)\n",
    "paths = fetchPaths(base, DATASET)\n",
    "\n",
    "path = paths[DATASET.lower()]\n",
    "path_dataset = paths['dataset']\n",
    "path_trainingModels = paths['trainingModels']\n",
    "path_trainingModels_regularization = paths['trainingModels_regularization']\n",
    "\n",
    "path"
   ]
  },
  {
   "cell_type": "markdown",
   "metadata": {
    "id": "h7eERD3yVH2H"
   },
   "source": [
    "# Load / Split / DataLoader"
   ]
  },
  {
   "cell_type": "code",
   "execution_count": 10,
   "metadata": {},
   "outputs": [
    {
     "data": {
      "text/plain": [
       "(12000, 500)"
      ]
     },
     "execution_count": 10,
     "metadata": {},
     "output_type": "execute_result"
    }
   ],
   "source": [
    "feature_names = get_labels(DATASET)\n",
    "\n",
    "tf_train = T.Compose([\n",
    "    T.ToTensor(),\n",
    "    T.Normalize((0.1307), (0.3015))\n",
    "])\n",
    "\n",
    "\n",
    "tf_test = T.Compose([\n",
    "    T.ToTensor(),\n",
    "    T.Normalize((0.1307), (0.3015))\n",
    "])\n",
    "\n",
    "train_data = get_dataset(DATASET, path_dataset, train=True, transform=tf_train)\n",
    "test_data = get_dataset(DATASET, path_dataset, train=False, transform=tf_test)\n",
    "\n",
    "train_split = split_data(train_data.targets, LIMIT_TRAIN_DATA)\n",
    "test_split = split_data(test_data.targets, LIMIT_TEST_DATA)\n",
    "\n",
    "\n",
    "train_data = torch.utils.data.Subset(train_data, train_split)\n",
    "test_data = torch.utils.data.Subset(test_data, test_split)\n",
    "\n",
    "len(train_data), len(test_data)"
   ]
  },
  {
   "cell_type": "markdown",
   "metadata": {},
   "source": [
    "# Model"
   ]
  },
  {
   "cell_type": "code",
   "execution_count": 11,
   "metadata": {},
   "outputs": [],
   "source": [
    "def reg_type(l2, l1, p):\n",
    "    name = ''\n",
    "    if l2 > 0 and l1 == 0: name += 'L2'\n",
    "    elif l2 == 0 and l1 > 0: name += 'L1'\n",
    "    elif l2 > 0 and l1 > 0: name += 'Elastic'\n",
    "    \n",
    "    if p > 0 and name == '': name = 'Dropout'\n",
    "    elif p > 0: name += '-Dropout'\n",
    "        \n",
    "    if name == '': name = 'No Regularization'\n",
    "        \n",
    "    return name"
   ]
  },
  {
   "cell_type": "code",
   "execution_count": 12,
   "metadata": {},
   "outputs": [],
   "source": [
    "L2 = [0, 1e-3, 1e-2]\n",
    "L1 = [0, 1e-3, 1e-2]\n",
    "dropout = [0.0, 0.3]\n",
    "optims = ['Adam', 'SGD']\n",
    "batchsizes = [32, 64, 128, 256]"
   ]
  },
  {
   "cell_type": "code",
   "execution_count": 13,
   "metadata": {
    "scrolled": true
   },
   "outputs": [
    {
     "data": {
      "text/html": [
       "\n",
       "<style>\n",
       "    /* Turns off some styling */\n",
       "    progress {\n",
       "        /* gets rid of default border in Firefox and Opera. */\n",
       "        border: none;\n",
       "        /* Needs to be in here for Safari polyfill so background images work as expected. */\n",
       "        background-size: auto;\n",
       "    }\n",
       "    progress:not([value]), progress:not([value])::-webkit-progress-bar {\n",
       "        background: repeating-linear-gradient(45deg, #7e7e7e, #7e7e7e 10px, #5c5c5c 10px, #5c5c5c 20px);\n",
       "    }\n",
       "    .progress-bar-interrupted, .progress-bar-interrupted::-webkit-progress-bar {\n",
       "        background: #F44336;\n",
       "    }\n",
       "</style>\n"
      ],
      "text/plain": [
       "<IPython.core.display.HTML object>"
      ]
     },
     "metadata": {},
     "output_type": "display_data"
    },
    {
     "data": {
      "text/html": [
       "\n",
       "    <div>\n",
       "      <progress value='144' class='' max='144' style='width:300px; height:20px; vertical-align: middle;'></progress>\n",
       "      100.00% [144/144 52:04&lt;00:00]\n",
       "    </div>\n",
       "    "
      ],
      "text/plain": [
       "<IPython.core.display.HTML object>"
      ]
     },
     "metadata": {},
     "output_type": "display_data"
    },
    {
     "name": "stdout",
     "output_type": "stream",
     "text": [
      "[==================================================]\n",
      "Adam - 32: (0, 0, 0.0)\n"
     ]
    },
    {
     "data": {
      "text/html": [
       "\n",
       "<style>\n",
       "    /* Turns off some styling */\n",
       "    progress {\n",
       "        /* gets rid of default border in Firefox and Opera. */\n",
       "        border: none;\n",
       "        /* Needs to be in here for Safari polyfill so background images work as expected. */\n",
       "        background-size: auto;\n",
       "    }\n",
       "    progress:not([value]), progress:not([value])::-webkit-progress-bar {\n",
       "        background: repeating-linear-gradient(45deg, #7e7e7e, #7e7e7e 10px, #5c5c5c 10px, #5c5c5c 20px);\n",
       "    }\n",
       "    .progress-bar-interrupted, .progress-bar-interrupted::-webkit-progress-bar {\n",
       "        background: #F44336;\n",
       "    }\n",
       "</style>\n"
      ],
      "text/plain": [
       "<IPython.core.display.HTML object>"
      ]
     },
     "metadata": {},
     "output_type": "display_data"
    },
    {
     "data": {
      "text/html": [
       "[Epoch: 00] Loss (0.286 / 0.128) - Accuracy (91.3% / 96.2%)<p>[Epoch: 01] Loss (0.102 / 0.071) - Accuracy (97.0% / 97.2%)<p>[Epoch: 02] Loss (0.076 / 0.119) - Accuracy (97.5% / 96.6%)<p>[Epoch: 03] Loss (0.055 / 0.119) - Accuracy (98.3% / 97.0%)<p>[Epoch: 04] Loss (0.046 / 0.071) - Accuracy (98.5% / 97.2%)"
      ],
      "text/plain": [
       "<IPython.core.display.HTML object>"
      ]
     },
     "metadata": {},
     "output_type": "display_data"
    },
    {
     "name": "stdout",
     "output_type": "stream",
     "text": [
      "[==================================================]\n",
      "Adam - 32: (0, 0, 0.3)\n"
     ]
    },
    {
     "data": {
      "text/html": [
       "\n",
       "<style>\n",
       "    /* Turns off some styling */\n",
       "    progress {\n",
       "        /* gets rid of default border in Firefox and Opera. */\n",
       "        border: none;\n",
       "        /* Needs to be in here for Safari polyfill so background images work as expected. */\n",
       "        background-size: auto;\n",
       "    }\n",
       "    progress:not([value]), progress:not([value])::-webkit-progress-bar {\n",
       "        background: repeating-linear-gradient(45deg, #7e7e7e, #7e7e7e 10px, #5c5c5c 10px, #5c5c5c 20px);\n",
       "    }\n",
       "    .progress-bar-interrupted, .progress-bar-interrupted::-webkit-progress-bar {\n",
       "        background: #F44336;\n",
       "    }\n",
       "</style>\n"
      ],
      "text/plain": [
       "<IPython.core.display.HTML object>"
      ]
     },
     "metadata": {},
     "output_type": "display_data"
    },
    {
     "data": {
      "text/html": [
       "[Epoch: 00] Loss (0.574 / 0.189) - Accuracy (81.8% / 93.8%)<p>[Epoch: 01] Loss (0.299 / 0.140) - Accuracy (90.7% / 95.2%)<p>[Epoch: 02] Loss (0.245 / 0.139) - Accuracy (92.3% / 95.8%)<p>[Epoch: 03] Loss (0.208 / 0.096) - Accuracy (93.3% / 96.8%)<p>[Epoch: 04] Loss (0.186 / 0.092) - Accuracy (94.0% / 97.4%)"
      ],
      "text/plain": [
       "<IPython.core.display.HTML object>"
      ]
     },
     "metadata": {},
     "output_type": "display_data"
    },
    {
     "name": "stdout",
     "output_type": "stream",
     "text": [
      "[==================================================]\n",
      "Adam - 32: (0, 0.001, 0.0)\n"
     ]
    },
    {
     "data": {
      "text/html": [
       "\n",
       "<style>\n",
       "    /* Turns off some styling */\n",
       "    progress {\n",
       "        /* gets rid of default border in Firefox and Opera. */\n",
       "        border: none;\n",
       "        /* Needs to be in here for Safari polyfill so background images work as expected. */\n",
       "        background-size: auto;\n",
       "    }\n",
       "    progress:not([value]), progress:not([value])::-webkit-progress-bar {\n",
       "        background: repeating-linear-gradient(45deg, #7e7e7e, #7e7e7e 10px, #5c5c5c 10px, #5c5c5c 20px);\n",
       "    }\n",
       "    .progress-bar-interrupted, .progress-bar-interrupted::-webkit-progress-bar {\n",
       "        background: #F44336;\n",
       "    }\n",
       "</style>\n"
      ],
      "text/plain": [
       "<IPython.core.display.HTML object>"
      ]
     },
     "metadata": {},
     "output_type": "display_data"
    },
    {
     "data": {
      "text/html": [
       "[Epoch: 00] Loss (0.422 / 0.237) - Accuracy (87.1% / 92.6%)<p>[Epoch: 01] Loss (0.252 / 0.210) - Accuracy (92.3% / 94.2%)<p>[Epoch: 02] Loss (0.219 / 0.149) - Accuracy (93.2% / 95.2%)<p>[Epoch: 03] Loss (0.222 / 0.144) - Accuracy (93.4% / 95.6%)<p>[Epoch: 04] Loss (0.201 / 0.228) - Accuracy (93.9% / 92.8%)"
      ],
      "text/plain": [
       "<IPython.core.display.HTML object>"
      ]
     },
     "metadata": {},
     "output_type": "display_data"
    },
    {
     "name": "stdout",
     "output_type": "stream",
     "text": [
      "[==================================================]\n",
      "Adam - 32: (0, 0.001, 0.3)\n"
     ]
    },
    {
     "data": {
      "text/html": [
       "\n",
       "<style>\n",
       "    /* Turns off some styling */\n",
       "    progress {\n",
       "        /* gets rid of default border in Firefox and Opera. */\n",
       "        border: none;\n",
       "        /* Needs to be in here for Safari polyfill so background images work as expected. */\n",
       "        background-size: auto;\n",
       "    }\n",
       "    progress:not([value]), progress:not([value])::-webkit-progress-bar {\n",
       "        background: repeating-linear-gradient(45deg, #7e7e7e, #7e7e7e 10px, #5c5c5c 10px, #5c5c5c 20px);\n",
       "    }\n",
       "    .progress-bar-interrupted, .progress-bar-interrupted::-webkit-progress-bar {\n",
       "        background: #F44336;\n",
       "    }\n",
       "</style>\n"
      ],
      "text/plain": [
       "<IPython.core.display.HTML object>"
      ]
     },
     "metadata": {},
     "output_type": "display_data"
    },
    {
     "data": {
      "text/html": [
       "[Epoch: 00] Loss (0.804 / 0.317) - Accuracy (74.3% / 92.4%)<p>[Epoch: 01] Loss (0.683 / 0.322) - Accuracy (77.9% / 91.6%)<p>[Epoch: 02] Loss (0.673 / 0.322) - Accuracy (79.0% / 91.0%)<p>[Epoch: 03] Loss (0.664 / 0.352) - Accuracy (78.6% / 88.8%)<p>[Epoch: 04] Loss (0.668 / 0.303) - Accuracy (78.3% / 91.6%)"
      ],
      "text/plain": [
       "<IPython.core.display.HTML object>"
      ]
     },
     "metadata": {},
     "output_type": "display_data"
    },
    {
     "name": "stdout",
     "output_type": "stream",
     "text": [
      "[==================================================]\n",
      "Adam - 32: (0, 0.01, 0.0)\n"
     ]
    },
    {
     "data": {
      "text/html": [
       "\n",
       "<style>\n",
       "    /* Turns off some styling */\n",
       "    progress {\n",
       "        /* gets rid of default border in Firefox and Opera. */\n",
       "        border: none;\n",
       "        /* Needs to be in here for Safari polyfill so background images work as expected. */\n",
       "        background-size: auto;\n",
       "    }\n",
       "    progress:not([value]), progress:not([value])::-webkit-progress-bar {\n",
       "        background: repeating-linear-gradient(45deg, #7e7e7e, #7e7e7e 10px, #5c5c5c 10px, #5c5c5c 20px);\n",
       "    }\n",
       "    .progress-bar-interrupted, .progress-bar-interrupted::-webkit-progress-bar {\n",
       "        background: #F44336;\n",
       "    }\n",
       "</style>\n"
      ],
      "text/plain": [
       "<IPython.core.display.HTML object>"
      ]
     },
     "metadata": {},
     "output_type": "display_data"
    },
    {
     "data": {
      "text/html": [
       "[Epoch: 00] Loss (0.664 / 0.499) - Accuracy (81.5% / 86.0%)<p>[Epoch: 01] Loss (0.497 / 0.408) - Accuracy (85.8% / 88.0%)<p>[Epoch: 02] Loss (0.476 / 0.415) - Accuracy (86.0% / 87.6%)<p>[Epoch: 03] Loss (0.480 / 0.888) - Accuracy (86.3% / 77.2%)<p>[Epoch: 04] Loss (0.465 / 0.412) - Accuracy (86.5% / 88.8%)"
      ],
      "text/plain": [
       "<IPython.core.display.HTML object>"
      ]
     },
     "metadata": {},
     "output_type": "display_data"
    },
    {
     "name": "stdout",
     "output_type": "stream",
     "text": [
      "[==================================================]\n",
      "Adam - 32: (0, 0.01, 0.3)\n"
     ]
    },
    {
     "data": {
      "text/html": [
       "\n",
       "<style>\n",
       "    /* Turns off some styling */\n",
       "    progress {\n",
       "        /* gets rid of default border in Firefox and Opera. */\n",
       "        border: none;\n",
       "        /* Needs to be in here for Safari polyfill so background images work as expected. */\n",
       "        background-size: auto;\n",
       "    }\n",
       "    progress:not([value]), progress:not([value])::-webkit-progress-bar {\n",
       "        background: repeating-linear-gradient(45deg, #7e7e7e, #7e7e7e 10px, #5c5c5c 10px, #5c5c5c 20px);\n",
       "    }\n",
       "    .progress-bar-interrupted, .progress-bar-interrupted::-webkit-progress-bar {\n",
       "        background: #F44336;\n",
       "    }\n",
       "</style>\n"
      ],
      "text/plain": [
       "<IPython.core.display.HTML object>"
      ]
     },
     "metadata": {},
     "output_type": "display_data"
    },
    {
     "data": {
      "text/html": [
       "[Epoch: 00] Loss (1.409 / 1.129) - Accuracy (54.8% / 70.4%)<p>[Epoch: 01] Loss (1.438 / 1.106) - Accuracy (52.2% / 76.0%)<p>[Epoch: 02] Loss (1.404 / 0.979) - Accuracy (53.5% / 72.8%)<p>[Epoch: 03] Loss (1.408 / 1.261) - Accuracy (52.9% / 59.8%)<p>[Epoch: 04] Loss (1.409 / 1.001) - Accuracy (52.5% / 75.4%)"
      ],
      "text/plain": [
       "<IPython.core.display.HTML object>"
      ]
     },
     "metadata": {},
     "output_type": "display_data"
    },
    {
     "name": "stdout",
     "output_type": "stream",
     "text": [
      "[==================================================]\n",
      "Adam - 32: (0.001, 0, 0.0)\n"
     ]
    },
    {
     "data": {
      "text/html": [
       "\n",
       "<style>\n",
       "    /* Turns off some styling */\n",
       "    progress {\n",
       "        /* gets rid of default border in Firefox and Opera. */\n",
       "        border: none;\n",
       "        /* Needs to be in here for Safari polyfill so background images work as expected. */\n",
       "        background-size: auto;\n",
       "    }\n",
       "    progress:not([value]), progress:not([value])::-webkit-progress-bar {\n",
       "        background: repeating-linear-gradient(45deg, #7e7e7e, #7e7e7e 10px, #5c5c5c 10px, #5c5c5c 20px);\n",
       "    }\n",
       "    .progress-bar-interrupted, .progress-bar-interrupted::-webkit-progress-bar {\n",
       "        background: #F44336;\n",
       "    }\n",
       "</style>\n"
      ],
      "text/plain": [
       "<IPython.core.display.HTML object>"
      ]
     },
     "metadata": {},
     "output_type": "display_data"
    },
    {
     "data": {
      "text/html": [
       "[Epoch: 00] Loss (0.346 / 0.187) - Accuracy (89.5% / 94.6%)<p>[Epoch: 01] Loss (0.239 / 0.181) - Accuracy (92.9% / 95.4%)<p>[Epoch: 02] Loss (0.211 / 0.241) - Accuracy (93.6% / 93.0%)<p>[Epoch: 03] Loss (0.188 / 0.176) - Accuracy (94.1% / 94.8%)<p>[Epoch: 04] Loss (0.175 / 0.173) - Accuracy (95.0% / 94.6%)"
      ],
      "text/plain": [
       "<IPython.core.display.HTML object>"
      ]
     },
     "metadata": {},
     "output_type": "display_data"
    },
    {
     "name": "stdout",
     "output_type": "stream",
     "text": [
      "[==================================================]\n",
      "Adam - 32: (0.001, 0, 0.3)\n"
     ]
    },
    {
     "data": {
      "text/html": [
       "\n",
       "<style>\n",
       "    /* Turns off some styling */\n",
       "    progress {\n",
       "        /* gets rid of default border in Firefox and Opera. */\n",
       "        border: none;\n",
       "        /* Needs to be in here for Safari polyfill so background images work as expected. */\n",
       "        background-size: auto;\n",
       "    }\n",
       "    progress:not([value]), progress:not([value])::-webkit-progress-bar {\n",
       "        background: repeating-linear-gradient(45deg, #7e7e7e, #7e7e7e 10px, #5c5c5c 10px, #5c5c5c 20px);\n",
       "    }\n",
       "    .progress-bar-interrupted, .progress-bar-interrupted::-webkit-progress-bar {\n",
       "        background: #F44336;\n",
       "    }\n",
       "</style>\n"
      ],
      "text/plain": [
       "<IPython.core.display.HTML object>"
      ]
     },
     "metadata": {},
     "output_type": "display_data"
    },
    {
     "data": {
      "text/html": [
       "[Epoch: 00] Loss (0.649 / 0.248) - Accuracy (79.6% / 92.8%)<p>[Epoch: 01] Loss (0.469 / 0.244) - Accuracy (85.3% / 92.6%)<p>[Epoch: 02] Loss (0.472 / 0.269) - Accuracy (84.9% / 92.0%)<p>[Epoch: 03] Loss (0.469 / 0.248) - Accuracy (85.0% / 92.0%)<p>[Epoch: 04] Loss (0.458 / 0.166) - Accuracy (85.2% / 94.8%)"
      ],
      "text/plain": [
       "<IPython.core.display.HTML object>"
      ]
     },
     "metadata": {},
     "output_type": "display_data"
    },
    {
     "name": "stdout",
     "output_type": "stream",
     "text": [
      "[==================================================]\n",
      "Adam - 32: (0.001, 0.001, 0.0)\n"
     ]
    },
    {
     "data": {
      "text/html": [
       "\n",
       "<style>\n",
       "    /* Turns off some styling */\n",
       "    progress {\n",
       "        /* gets rid of default border in Firefox and Opera. */\n",
       "        border: none;\n",
       "        /* Needs to be in here for Safari polyfill so background images work as expected. */\n",
       "        background-size: auto;\n",
       "    }\n",
       "    progress:not([value]), progress:not([value])::-webkit-progress-bar {\n",
       "        background: repeating-linear-gradient(45deg, #7e7e7e, #7e7e7e 10px, #5c5c5c 10px, #5c5c5c 20px);\n",
       "    }\n",
       "    .progress-bar-interrupted, .progress-bar-interrupted::-webkit-progress-bar {\n",
       "        background: #F44336;\n",
       "    }\n",
       "</style>\n"
      ],
      "text/plain": [
       "<IPython.core.display.HTML object>"
      ]
     },
     "metadata": {},
     "output_type": "display_data"
    },
    {
     "data": {
      "text/html": [
       "[Epoch: 00] Loss (0.427 / 0.212) - Accuracy (87.2% / 92.8%)<p>[Epoch: 01] Loss (0.275 / 0.221) - Accuracy (92.0% / 95.2%)<p>[Epoch: 02] Loss (0.241 / 0.206) - Accuracy (93.1% / 94.2%)<p>[Epoch: 03] Loss (0.245 / 0.203) - Accuracy (92.9% / 95.0%)<p>[Epoch: 04] Loss (0.233 / 0.234) - Accuracy (93.4% / 93.0%)"
      ],
      "text/plain": [
       "<IPython.core.display.HTML object>"
      ]
     },
     "metadata": {},
     "output_type": "display_data"
    },
    {
     "name": "stdout",
     "output_type": "stream",
     "text": [
      "[==================================================]\n",
      "Adam - 32: (0.001, 0.001, 0.3)\n"
     ]
    },
    {
     "data": {
      "text/html": [
       "\n",
       "<style>\n",
       "    /* Turns off some styling */\n",
       "    progress {\n",
       "        /* gets rid of default border in Firefox and Opera. */\n",
       "        border: none;\n",
       "        /* Needs to be in here for Safari polyfill so background images work as expected. */\n",
       "        background-size: auto;\n",
       "    }\n",
       "    progress:not([value]), progress:not([value])::-webkit-progress-bar {\n",
       "        background: repeating-linear-gradient(45deg, #7e7e7e, #7e7e7e 10px, #5c5c5c 10px, #5c5c5c 20px);\n",
       "    }\n",
       "    .progress-bar-interrupted, .progress-bar-interrupted::-webkit-progress-bar {\n",
       "        background: #F44336;\n",
       "    }\n",
       "</style>\n"
      ],
      "text/plain": [
       "<IPython.core.display.HTML object>"
      ]
     },
     "metadata": {},
     "output_type": "display_data"
    },
    {
     "data": {
      "text/html": [
       "[Epoch: 00] Loss (0.837 / 0.382) - Accuracy (73.3% / 90.6%)<p>[Epoch: 01] Loss (0.725 / 0.381) - Accuracy (76.6% / 90.2%)<p>[Epoch: 02] Loss (0.735 / 0.367) - Accuracy (76.7% / 90.0%)<p>[Epoch: 03] Loss (0.738 / 0.338) - Accuracy (76.2% / 90.6%)<p>[Epoch: 04] Loss (0.720 / 0.423) - Accuracy (77.0% / 88.8%)"
      ],
      "text/plain": [
       "<IPython.core.display.HTML object>"
      ]
     },
     "metadata": {},
     "output_type": "display_data"
    },
    {
     "name": "stdout",
     "output_type": "stream",
     "text": [
      "[==================================================]\n",
      "Adam - 32: (0.001, 0.01, 0.0)\n"
     ]
    },
    {
     "data": {
      "text/html": [
       "\n",
       "<style>\n",
       "    /* Turns off some styling */\n",
       "    progress {\n",
       "        /* gets rid of default border in Firefox and Opera. */\n",
       "        border: none;\n",
       "        /* Needs to be in here for Safari polyfill so background images work as expected. */\n",
       "        background-size: auto;\n",
       "    }\n",
       "    progress:not([value]), progress:not([value])::-webkit-progress-bar {\n",
       "        background: repeating-linear-gradient(45deg, #7e7e7e, #7e7e7e 10px, #5c5c5c 10px, #5c5c5c 20px);\n",
       "    }\n",
       "    .progress-bar-interrupted, .progress-bar-interrupted::-webkit-progress-bar {\n",
       "        background: #F44336;\n",
       "    }\n",
       "</style>\n"
      ],
      "text/plain": [
       "<IPython.core.display.HTML object>"
      ]
     },
     "metadata": {},
     "output_type": "display_data"
    },
    {
     "data": {
      "text/html": [
       "[Epoch: 00] Loss (0.670 / 0.674) - Accuracy (81.9% / 80.0%)<p>[Epoch: 01] Loss (0.520 / 0.856) - Accuracy (85.7% / 76.8%)<p>[Epoch: 02] Loss (0.513 / 3.309) - Accuracy (85.7% / 43.2%)<p>[Epoch: 03] Loss (0.492 / 0.986) - Accuracy (85.9% / 69.0%)<p>[Epoch: 04] Loss (0.487 / 0.603) - Accuracy (86.2% / 80.6%)"
      ],
      "text/plain": [
       "<IPython.core.display.HTML object>"
      ]
     },
     "metadata": {},
     "output_type": "display_data"
    },
    {
     "name": "stdout",
     "output_type": "stream",
     "text": [
      "[==================================================]\n",
      "Adam - 32: (0.001, 0.01, 0.3)\n"
     ]
    },
    {
     "data": {
      "text/html": [
       "\n",
       "<style>\n",
       "    /* Turns off some styling */\n",
       "    progress {\n",
       "        /* gets rid of default border in Firefox and Opera. */\n",
       "        border: none;\n",
       "        /* Needs to be in here for Safari polyfill so background images work as expected. */\n",
       "        background-size: auto;\n",
       "    }\n",
       "    progress:not([value]), progress:not([value])::-webkit-progress-bar {\n",
       "        background: repeating-linear-gradient(45deg, #7e7e7e, #7e7e7e 10px, #5c5c5c 10px, #5c5c5c 20px);\n",
       "    }\n",
       "    .progress-bar-interrupted, .progress-bar-interrupted::-webkit-progress-bar {\n",
       "        background: #F44336;\n",
       "    }\n",
       "</style>\n"
      ],
      "text/plain": [
       "<IPython.core.display.HTML object>"
      ]
     },
     "metadata": {},
     "output_type": "display_data"
    },
    {
     "data": {
      "text/html": [
       "[Epoch: 00] Loss (1.404 / 1.182) - Accuracy (54.9% / 70.6%)<p>[Epoch: 01] Loss (1.444 / 1.174) - Accuracy (52.7% / 71.6%)<p>[Epoch: 02] Loss (1.439 / 1.134) - Accuracy (52.5% / 82.2%)<p>[Epoch: 03] Loss (1.426 / 1.182) - Accuracy (52.6% / 72.2%)<p>[Epoch: 04] Loss (1.424 / 1.021) - Accuracy (52.1% / 71.8%)"
      ],
      "text/plain": [
       "<IPython.core.display.HTML object>"
      ]
     },
     "metadata": {},
     "output_type": "display_data"
    },
    {
     "name": "stdout",
     "output_type": "stream",
     "text": [
      "[==================================================]\n",
      "Adam - 32: (0.01, 0, 0.0)\n"
     ]
    },
    {
     "data": {
      "text/html": [
       "\n",
       "<style>\n",
       "    /* Turns off some styling */\n",
       "    progress {\n",
       "        /* gets rid of default border in Firefox and Opera. */\n",
       "        border: none;\n",
       "        /* Needs to be in here for Safari polyfill so background images work as expected. */\n",
       "        background-size: auto;\n",
       "    }\n",
       "    progress:not([value]), progress:not([value])::-webkit-progress-bar {\n",
       "        background: repeating-linear-gradient(45deg, #7e7e7e, #7e7e7e 10px, #5c5c5c 10px, #5c5c5c 20px);\n",
       "    }\n",
       "    .progress-bar-interrupted, .progress-bar-interrupted::-webkit-progress-bar {\n",
       "        background: #F44336;\n",
       "    }\n",
       "</style>\n"
      ],
      "text/plain": [
       "<IPython.core.display.HTML object>"
      ]
     },
     "metadata": {},
     "output_type": "display_data"
    },
    {
     "data": {
      "text/html": [
       "[Epoch: 00] Loss (0.508 / 0.361) - Accuracy (87.2% / 91.8%)<p>[Epoch: 01] Loss (0.386 / 0.345) - Accuracy (90.6% / 91.0%)<p>[Epoch: 02] Loss (0.364 / 0.287) - Accuracy (91.4% / 92.2%)<p>[Epoch: 03] Loss (0.354 / 0.354) - Accuracy (91.8% / 92.0%)<p>[Epoch: 04] Loss (0.350 / 0.313) - Accuracy (92.0% / 93.0%)"
      ],
      "text/plain": [
       "<IPython.core.display.HTML object>"
      ]
     },
     "metadata": {},
     "output_type": "display_data"
    },
    {
     "name": "stdout",
     "output_type": "stream",
     "text": [
      "[==================================================]\n",
      "Adam - 32: (0.01, 0, 0.3)\n"
     ]
    },
    {
     "data": {
      "text/html": [
       "\n",
       "<style>\n",
       "    /* Turns off some styling */\n",
       "    progress {\n",
       "        /* gets rid of default border in Firefox and Opera. */\n",
       "        border: none;\n",
       "        /* Needs to be in here for Safari polyfill so background images work as expected. */\n",
       "        background-size: auto;\n",
       "    }\n",
       "    progress:not([value]), progress:not([value])::-webkit-progress-bar {\n",
       "        background: repeating-linear-gradient(45deg, #7e7e7e, #7e7e7e 10px, #5c5c5c 10px, #5c5c5c 20px);\n",
       "    }\n",
       "    .progress-bar-interrupted, .progress-bar-interrupted::-webkit-progress-bar {\n",
       "        background: #F44336;\n",
       "    }\n",
       "</style>\n"
      ],
      "text/plain": [
       "<IPython.core.display.HTML object>"
      ]
     },
     "metadata": {},
     "output_type": "display_data"
    },
    {
     "data": {
      "text/html": [
       "[Epoch: 00] Loss (0.907 / 0.597) - Accuracy (73.0% / 86.2%)<p>[Epoch: 01] Loss (0.855 / 0.529) - Accuracy (74.3% / 87.2%)<p>[Epoch: 02] Loss (0.857 / 0.595) - Accuracy (74.0% / 88.4%)<p>[Epoch: 03] Loss (0.861 / 0.536) - Accuracy (73.9% / 88.2%)<p>[Epoch: 04] Loss (0.859 / 0.587) - Accuracy (74.4% / 88.4%)"
      ],
      "text/plain": [
       "<IPython.core.display.HTML object>"
      ]
     },
     "metadata": {},
     "output_type": "display_data"
    },
    {
     "name": "stdout",
     "output_type": "stream",
     "text": [
      "[==================================================]\n",
      "Adam - 32: (0.01, 0.001, 0.0)\n"
     ]
    },
    {
     "data": {
      "text/html": [
       "\n",
       "<style>\n",
       "    /* Turns off some styling */\n",
       "    progress {\n",
       "        /* gets rid of default border in Firefox and Opera. */\n",
       "        border: none;\n",
       "        /* Needs to be in here for Safari polyfill so background images work as expected. */\n",
       "        background-size: auto;\n",
       "    }\n",
       "    progress:not([value]), progress:not([value])::-webkit-progress-bar {\n",
       "        background: repeating-linear-gradient(45deg, #7e7e7e, #7e7e7e 10px, #5c5c5c 10px, #5c5c5c 20px);\n",
       "    }\n",
       "    .progress-bar-interrupted, .progress-bar-interrupted::-webkit-progress-bar {\n",
       "        background: #F44336;\n",
       "    }\n",
       "</style>\n"
      ],
      "text/plain": [
       "<IPython.core.display.HTML object>"
      ]
     },
     "metadata": {},
     "output_type": "display_data"
    },
    {
     "data": {
      "text/html": [
       "[Epoch: 00] Loss (0.535 / 0.473) - Accuracy (86.3% / 89.2%)<p>[Epoch: 01] Loss (0.402 / 0.398) - Accuracy (90.3% / 89.4%)<p>[Epoch: 02] Loss (0.394 / 0.361) - Accuracy (91.0% / 91.0%)<p>[Epoch: 03] Loss (0.393 / 1.318) - Accuracy (90.7% / 65.2%)<p>[Epoch: 04] Loss (0.391 / 0.535) - Accuracy (90.8% / 84.6%)"
      ],
      "text/plain": [
       "<IPython.core.display.HTML object>"
      ]
     },
     "metadata": {},
     "output_type": "display_data"
    },
    {
     "name": "stdout",
     "output_type": "stream",
     "text": [
      "[==================================================]\n",
      "Adam - 32: (0.01, 0.001, 0.3)\n"
     ]
    },
    {
     "data": {
      "text/html": [
       "\n",
       "<style>\n",
       "    /* Turns off some styling */\n",
       "    progress {\n",
       "        /* gets rid of default border in Firefox and Opera. */\n",
       "        border: none;\n",
       "        /* Needs to be in here for Safari polyfill so background images work as expected. */\n",
       "        background-size: auto;\n",
       "    }\n",
       "    progress:not([value]), progress:not([value])::-webkit-progress-bar {\n",
       "        background: repeating-linear-gradient(45deg, #7e7e7e, #7e7e7e 10px, #5c5c5c 10px, #5c5c5c 20px);\n",
       "    }\n",
       "    .progress-bar-interrupted, .progress-bar-interrupted::-webkit-progress-bar {\n",
       "        background: #F44336;\n",
       "    }\n",
       "</style>\n"
      ],
      "text/plain": [
       "<IPython.core.display.HTML object>"
      ]
     },
     "metadata": {},
     "output_type": "display_data"
    },
    {
     "data": {
      "text/html": [
       "[Epoch: 00] Loss (1.021 / 0.693) - Accuracy (68.8% / 83.8%)<p>[Epoch: 01] Loss (0.998 / 0.674) - Accuracy (69.4% / 87.8%)<p>[Epoch: 02] Loss (1.021 / 0.843) - Accuracy (68.3% / 81.4%)<p>[Epoch: 03] Loss (0.999 / 0.703) - Accuracy (69.5% / 85.4%)<p>[Epoch: 04] Loss (1.020 / 0.713) - Accuracy (68.7% / 86.2%)"
      ],
      "text/plain": [
       "<IPython.core.display.HTML object>"
      ]
     },
     "metadata": {},
     "output_type": "display_data"
    },
    {
     "name": "stdout",
     "output_type": "stream",
     "text": [
      "[==================================================]\n",
      "Adam - 32: (0.01, 0.01, 0.0)\n"
     ]
    },
    {
     "data": {
      "text/html": [
       "\n",
       "<style>\n",
       "    /* Turns off some styling */\n",
       "    progress {\n",
       "        /* gets rid of default border in Firefox and Opera. */\n",
       "        border: none;\n",
       "        /* Needs to be in here for Safari polyfill so background images work as expected. */\n",
       "        background-size: auto;\n",
       "    }\n",
       "    progress:not([value]), progress:not([value])::-webkit-progress-bar {\n",
       "        background: repeating-linear-gradient(45deg, #7e7e7e, #7e7e7e 10px, #5c5c5c 10px, #5c5c5c 20px);\n",
       "    }\n",
       "    .progress-bar-interrupted, .progress-bar-interrupted::-webkit-progress-bar {\n",
       "        background: #F44336;\n",
       "    }\n",
       "</style>\n"
      ],
      "text/plain": [
       "<IPython.core.display.HTML object>"
      ]
     },
     "metadata": {},
     "output_type": "display_data"
    },
    {
     "data": {
      "text/html": [
       "[Epoch: 00] Loss (0.776 / 0.635) - Accuracy (81.0% / 85.2%)<p>[Epoch: 01] Loss (0.627 / 0.614) - Accuracy (84.7% / 86.8%)<p>[Epoch: 02] Loss (0.611 / 1.207) - Accuracy (84.9% / 59.6%)<p>[Epoch: 03] Loss (0.613 / 0.514) - Accuracy (84.4% / 88.2%)<p>[Epoch: 04] Loss (0.602 / 0.683) - Accuracy (85.3% / 83.4%)"
      ],
      "text/plain": [
       "<IPython.core.display.HTML object>"
      ]
     },
     "metadata": {},
     "output_type": "display_data"
    },
    {
     "name": "stdout",
     "output_type": "stream",
     "text": [
      "[==================================================]\n",
      "Adam - 32: (0.01, 0.01, 0.3)\n"
     ]
    },
    {
     "data": {
      "text/html": [
       "\n",
       "<style>\n",
       "    /* Turns off some styling */\n",
       "    progress {\n",
       "        /* gets rid of default border in Firefox and Opera. */\n",
       "        border: none;\n",
       "        /* Needs to be in here for Safari polyfill so background images work as expected. */\n",
       "        background-size: auto;\n",
       "    }\n",
       "    progress:not([value]), progress:not([value])::-webkit-progress-bar {\n",
       "        background: repeating-linear-gradient(45deg, #7e7e7e, #7e7e7e 10px, #5c5c5c 10px, #5c5c5c 20px);\n",
       "    }\n",
       "    .progress-bar-interrupted, .progress-bar-interrupted::-webkit-progress-bar {\n",
       "        background: #F44336;\n",
       "    }\n",
       "</style>\n"
      ],
      "text/plain": [
       "<IPython.core.display.HTML object>"
      ]
     },
     "metadata": {},
     "output_type": "display_data"
    },
    {
     "data": {
      "text/html": [
       "[Epoch: 00] Loss (1.588 / 1.475) - Accuracy (50.4% / 68.6%)<p>[Epoch: 01] Loss (1.691 / 1.575) - Accuracy (45.0% / 62.0%)<p>[Epoch: 02] Loss (1.672 / 1.349) - Accuracy (45.2% / 64.0%)<p>[Epoch: 03] Loss (1.678 / 1.461) - Accuracy (44.8% / 68.0%)<p>[Epoch: 04] Loss (1.704 / 1.568) - Accuracy (43.3% / 62.0%)"
      ],
      "text/plain": [
       "<IPython.core.display.HTML object>"
      ]
     },
     "metadata": {},
     "output_type": "display_data"
    },
    {
     "name": "stdout",
     "output_type": "stream",
     "text": [
      "[==================================================]\n",
      "Adam - 64: (0, 0, 0.0)\n"
     ]
    },
    {
     "data": {
      "text/html": [
       "\n",
       "<style>\n",
       "    /* Turns off some styling */\n",
       "    progress {\n",
       "        /* gets rid of default border in Firefox and Opera. */\n",
       "        border: none;\n",
       "        /* Needs to be in here for Safari polyfill so background images work as expected. */\n",
       "        background-size: auto;\n",
       "    }\n",
       "    progress:not([value]), progress:not([value])::-webkit-progress-bar {\n",
       "        background: repeating-linear-gradient(45deg, #7e7e7e, #7e7e7e 10px, #5c5c5c 10px, #5c5c5c 20px);\n",
       "    }\n",
       "    .progress-bar-interrupted, .progress-bar-interrupted::-webkit-progress-bar {\n",
       "        background: #F44336;\n",
       "    }\n",
       "</style>\n"
      ],
      "text/plain": [
       "<IPython.core.display.HTML object>"
      ]
     },
     "metadata": {},
     "output_type": "display_data"
    },
    {
     "data": {
      "text/html": [
       "[Epoch: 00] Loss (0.280 / 0.139) - Accuracy (91.6% / 95.0%)<p>[Epoch: 01] Loss (0.093 / 0.111) - Accuracy (97.0% / 96.4%)<p>[Epoch: 02] Loss (0.052 / 0.120) - Accuracy (98.3% / 96.4%)<p>[Epoch: 03] Loss (0.035 / 0.089) - Accuracy (98.8% / 97.2%)<p>[Epoch: 04] Loss (0.035 / 0.119) - Accuracy (98.8% / 96.6%)"
      ],
      "text/plain": [
       "<IPython.core.display.HTML object>"
      ]
     },
     "metadata": {},
     "output_type": "display_data"
    },
    {
     "name": "stdout",
     "output_type": "stream",
     "text": [
      "[==================================================]\n",
      "Adam - 64: (0, 0, 0.3)\n"
     ]
    },
    {
     "data": {
      "text/html": [
       "\n",
       "<style>\n",
       "    /* Turns off some styling */\n",
       "    progress {\n",
       "        /* gets rid of default border in Firefox and Opera. */\n",
       "        border: none;\n",
       "        /* Needs to be in here for Safari polyfill so background images work as expected. */\n",
       "        background-size: auto;\n",
       "    }\n",
       "    progress:not([value]), progress:not([value])::-webkit-progress-bar {\n",
       "        background: repeating-linear-gradient(45deg, #7e7e7e, #7e7e7e 10px, #5c5c5c 10px, #5c5c5c 20px);\n",
       "    }\n",
       "    .progress-bar-interrupted, .progress-bar-interrupted::-webkit-progress-bar {\n",
       "        background: #F44336;\n",
       "    }\n",
       "</style>\n"
      ],
      "text/plain": [
       "<IPython.core.display.HTML object>"
      ]
     },
     "metadata": {},
     "output_type": "display_data"
    },
    {
     "data": {
      "text/html": [
       "[Epoch: 00] Loss (0.560 / 0.170) - Accuracy (82.4% / 94.4%)<p>[Epoch: 01] Loss (0.265 / 0.101) - Accuracy (91.6% / 96.6%)<p>[Epoch: 02] Loss (0.207 / 0.099) - Accuracy (93.4% / 96.4%)<p>[Epoch: 03] Loss (0.179 / 0.103) - Accuracy (94.3% / 96.2%)<p>[Epoch: 04] Loss (0.160 / 0.074) - Accuracy (94.8% / 97.2%)"
      ],
      "text/plain": [
       "<IPython.core.display.HTML object>"
      ]
     },
     "metadata": {},
     "output_type": "display_data"
    },
    {
     "name": "stdout",
     "output_type": "stream",
     "text": [
      "[==================================================]\n",
      "Adam - 64: (0, 0.001, 0.0)\n"
     ]
    },
    {
     "data": {
      "text/html": [
       "\n",
       "<style>\n",
       "    /* Turns off some styling */\n",
       "    progress {\n",
       "        /* gets rid of default border in Firefox and Opera. */\n",
       "        border: none;\n",
       "        /* Needs to be in here for Safari polyfill so background images work as expected. */\n",
       "        background-size: auto;\n",
       "    }\n",
       "    progress:not([value]), progress:not([value])::-webkit-progress-bar {\n",
       "        background: repeating-linear-gradient(45deg, #7e7e7e, #7e7e7e 10px, #5c5c5c 10px, #5c5c5c 20px);\n",
       "    }\n",
       "    .progress-bar-interrupted, .progress-bar-interrupted::-webkit-progress-bar {\n",
       "        background: #F44336;\n",
       "    }\n",
       "</style>\n"
      ],
      "text/plain": [
       "<IPython.core.display.HTML object>"
      ]
     },
     "metadata": {},
     "output_type": "display_data"
    },
    {
     "data": {
      "text/html": [
       "[Epoch: 00] Loss (0.386 / 0.168) - Accuracy (88.7% / 95.0%)<p>[Epoch: 01] Loss (0.202 / 0.251) - Accuracy (94.0% / 93.8%)<p>[Epoch: 02] Loss (0.180 / 0.174) - Accuracy (94.6% / 94.8%)<p>[Epoch: 03] Loss (0.175 / 0.175) - Accuracy (95.0% / 95.8%)<p>[Epoch: 04] Loss (0.163 / 0.254) - Accuracy (95.1% / 91.2%)"
      ],
      "text/plain": [
       "<IPython.core.display.HTML object>"
      ]
     },
     "metadata": {},
     "output_type": "display_data"
    },
    {
     "name": "stdout",
     "output_type": "stream",
     "text": [
      "[==================================================]\n",
      "Adam - 64: (0, 0.001, 0.3)\n"
     ]
    },
    {
     "data": {
      "text/html": [
       "\n",
       "<style>\n",
       "    /* Turns off some styling */\n",
       "    progress {\n",
       "        /* gets rid of default border in Firefox and Opera. */\n",
       "        border: none;\n",
       "        /* Needs to be in here for Safari polyfill so background images work as expected. */\n",
       "        background-size: auto;\n",
       "    }\n",
       "    progress:not([value]), progress:not([value])::-webkit-progress-bar {\n",
       "        background: repeating-linear-gradient(45deg, #7e7e7e, #7e7e7e 10px, #5c5c5c 10px, #5c5c5c 20px);\n",
       "    }\n",
       "    .progress-bar-interrupted, .progress-bar-interrupted::-webkit-progress-bar {\n",
       "        background: #F44336;\n",
       "    }\n",
       "</style>\n"
      ],
      "text/plain": [
       "<IPython.core.display.HTML object>"
      ]
     },
     "metadata": {},
     "output_type": "display_data"
    },
    {
     "data": {
      "text/html": [
       "[Epoch: 00] Loss (0.774 / 0.379) - Accuracy (75.9% / 87.6%)<p>[Epoch: 01] Loss (0.581 / 0.336) - Accuracy (81.7% / 88.4%)<p>[Epoch: 02] Loss (0.557 / 0.322) - Accuracy (82.2% / 91.2%)<p>[Epoch: 03] Loss (0.562 / 0.260) - Accuracy (82.2% / 92.4%)<p>[Epoch: 04] Loss (0.550 / 0.242) - Accuracy (82.6% / 93.2%)"
      ],
      "text/plain": [
       "<IPython.core.display.HTML object>"
      ]
     },
     "metadata": {},
     "output_type": "display_data"
    },
    {
     "name": "stdout",
     "output_type": "stream",
     "text": [
      "[==================================================]\n",
      "Adam - 64: (0, 0.01, 0.0)\n"
     ]
    },
    {
     "data": {
      "text/html": [
       "\n",
       "<style>\n",
       "    /* Turns off some styling */\n",
       "    progress {\n",
       "        /* gets rid of default border in Firefox and Opera. */\n",
       "        border: none;\n",
       "        /* Needs to be in here for Safari polyfill so background images work as expected. */\n",
       "        background-size: auto;\n",
       "    }\n",
       "    progress:not([value]), progress:not([value])::-webkit-progress-bar {\n",
       "        background: repeating-linear-gradient(45deg, #7e7e7e, #7e7e7e 10px, #5c5c5c 10px, #5c5c5c 20px);\n",
       "    }\n",
       "    .progress-bar-interrupted, .progress-bar-interrupted::-webkit-progress-bar {\n",
       "        background: #F44336;\n",
       "    }\n",
       "</style>\n"
      ],
      "text/plain": [
       "<IPython.core.display.HTML object>"
      ]
     },
     "metadata": {},
     "output_type": "display_data"
    },
    {
     "data": {
      "text/html": [
       "[Epoch: 00] Loss (0.572 / 0.370) - Accuracy (84.7% / 91.8%)<p>[Epoch: 01] Loss (0.384 / 0.714) - Accuracy (89.9% / 80.4%)<p>[Epoch: 02] Loss (0.390 / 0.733) - Accuracy (89.5% / 76.2%)<p>[Epoch: 03] Loss (0.378 / 0.489) - Accuracy (89.7% / 85.6%)<p>[Epoch: 04] Loss (0.364 / 0.466) - Accuracy (90.0% / 85.4%)"
      ],
      "text/plain": [
       "<IPython.core.display.HTML object>"
      ]
     },
     "metadata": {},
     "output_type": "display_data"
    },
    {
     "name": "stdout",
     "output_type": "stream",
     "text": [
      "[==================================================]\n",
      "Adam - 64: (0, 0.01, 0.3)\n"
     ]
    },
    {
     "data": {
      "text/html": [
       "\n",
       "<style>\n",
       "    /* Turns off some styling */\n",
       "    progress {\n",
       "        /* gets rid of default border in Firefox and Opera. */\n",
       "        border: none;\n",
       "        /* Needs to be in here for Safari polyfill so background images work as expected. */\n",
       "        background-size: auto;\n",
       "    }\n",
       "    progress:not([value]), progress:not([value])::-webkit-progress-bar {\n",
       "        background: repeating-linear-gradient(45deg, #7e7e7e, #7e7e7e 10px, #5c5c5c 10px, #5c5c5c 20px);\n",
       "    }\n",
       "    .progress-bar-interrupted, .progress-bar-interrupted::-webkit-progress-bar {\n",
       "        background: #F44336;\n",
       "    }\n",
       "</style>\n"
      ],
      "text/plain": [
       "<IPython.core.display.HTML object>"
      ]
     },
     "metadata": {},
     "output_type": "display_data"
    },
    {
     "data": {
      "text/html": [
       "[Epoch: 00] Loss (1.192 / 0.947) - Accuracy (63.3% / 73.8%)<p>[Epoch: 01] Loss (1.172 / 0.818) - Accuracy (62.1% / 79.4%)<p>[Epoch: 02] Loss (1.167 / 0.901) - Accuracy (62.2% / 77.4%)<p>[Epoch: 03] Loss (1.176 / 0.619) - Accuracy (62.3% / 84.2%)<p>[Epoch: 04] Loss (1.162 / 1.017) - Accuracy (62.5% / 71.2%)"
      ],
      "text/plain": [
       "<IPython.core.display.HTML object>"
      ]
     },
     "metadata": {},
     "output_type": "display_data"
    },
    {
     "name": "stdout",
     "output_type": "stream",
     "text": [
      "[==================================================]\n",
      "Adam - 64: (0.001, 0, 0.0)\n"
     ]
    },
    {
     "data": {
      "text/html": [
       "\n",
       "<style>\n",
       "    /* Turns off some styling */\n",
       "    progress {\n",
       "        /* gets rid of default border in Firefox and Opera. */\n",
       "        border: none;\n",
       "        /* Needs to be in here for Safari polyfill so background images work as expected. */\n",
       "        background-size: auto;\n",
       "    }\n",
       "    progress:not([value]), progress:not([value])::-webkit-progress-bar {\n",
       "        background: repeating-linear-gradient(45deg, #7e7e7e, #7e7e7e 10px, #5c5c5c 10px, #5c5c5c 20px);\n",
       "    }\n",
       "    .progress-bar-interrupted, .progress-bar-interrupted::-webkit-progress-bar {\n",
       "        background: #F44336;\n",
       "    }\n",
       "</style>\n"
      ],
      "text/plain": [
       "<IPython.core.display.HTML object>"
      ]
     },
     "metadata": {},
     "output_type": "display_data"
    },
    {
     "data": {
      "text/html": [
       "[Epoch: 00] Loss (0.315 / 0.176) - Accuracy (91.2% / 93.8%)<p>[Epoch: 01] Loss (0.179 / 0.203) - Accuracy (94.7% / 93.6%)<p>[Epoch: 02] Loss (0.163 / 0.240) - Accuracy (95.3% / 92.0%)<p>[Epoch: 03] Loss (0.148 / 0.104) - Accuracy (95.7% / 96.4%)<p>[Epoch: 04] Loss (0.136 / 0.146) - Accuracy (96.0% / 96.2%)"
      ],
      "text/plain": [
       "<IPython.core.display.HTML object>"
      ]
     },
     "metadata": {},
     "output_type": "display_data"
    },
    {
     "name": "stdout",
     "output_type": "stream",
     "text": [
      "[==================================================]\n",
      "Adam - 64: (0.001, 0, 0.3)\n"
     ]
    },
    {
     "data": {
      "text/html": [
       "\n",
       "<style>\n",
       "    /* Turns off some styling */\n",
       "    progress {\n",
       "        /* gets rid of default border in Firefox and Opera. */\n",
       "        border: none;\n",
       "        /* Needs to be in here for Safari polyfill so background images work as expected. */\n",
       "        background-size: auto;\n",
       "    }\n",
       "    progress:not([value]), progress:not([value])::-webkit-progress-bar {\n",
       "        background: repeating-linear-gradient(45deg, #7e7e7e, #7e7e7e 10px, #5c5c5c 10px, #5c5c5c 20px);\n",
       "    }\n",
       "    .progress-bar-interrupted, .progress-bar-interrupted::-webkit-progress-bar {\n",
       "        background: #F44336;\n",
       "    }\n",
       "</style>\n"
      ],
      "text/plain": [
       "<IPython.core.display.HTML object>"
      ]
     },
     "metadata": {},
     "output_type": "display_data"
    },
    {
     "data": {
      "text/html": [
       "[Epoch: 00] Loss (0.585 / 0.240) - Accuracy (81.8% / 92.8%)<p>[Epoch: 01] Loss (0.382 / 0.219) - Accuracy (88.1% / 93.8%)<p>[Epoch: 02] Loss (0.374 / 0.170) - Accuracy (88.7% / 94.8%)<p>[Epoch: 03] Loss (0.374 / 0.226) - Accuracy (88.3% / 92.2%)<p>[Epoch: 04] Loss (0.366 / 0.157) - Accuracy (88.3% / 95.4%)"
      ],
      "text/plain": [
       "<IPython.core.display.HTML object>"
      ]
     },
     "metadata": {},
     "output_type": "display_data"
    },
    {
     "name": "stdout",
     "output_type": "stream",
     "text": [
      "[==================================================]\n",
      "Adam - 64: (0.001, 0.001, 0.0)\n"
     ]
    },
    {
     "data": {
      "text/html": [
       "\n",
       "<style>\n",
       "    /* Turns off some styling */\n",
       "    progress {\n",
       "        /* gets rid of default border in Firefox and Opera. */\n",
       "        border: none;\n",
       "        /* Needs to be in here for Safari polyfill so background images work as expected. */\n",
       "        background-size: auto;\n",
       "    }\n",
       "    progress:not([value]), progress:not([value])::-webkit-progress-bar {\n",
       "        background: repeating-linear-gradient(45deg, #7e7e7e, #7e7e7e 10px, #5c5c5c 10px, #5c5c5c 20px);\n",
       "    }\n",
       "    .progress-bar-interrupted, .progress-bar-interrupted::-webkit-progress-bar {\n",
       "        background: #F44336;\n",
       "    }\n",
       "</style>\n"
      ],
      "text/plain": [
       "<IPython.core.display.HTML object>"
      ]
     },
     "metadata": {},
     "output_type": "display_data"
    },
    {
     "data": {
      "text/html": [
       "[Epoch: 00] Loss (0.398 / 0.273) - Accuracy (88.4% / 91.8%)<p>[Epoch: 01] Loss (0.249 / 0.284) - Accuracy (92.9% / 92.6%)<p>[Epoch: 02] Loss (0.215 / 0.250) - Accuracy (93.9% / 92.2%)<p>[Epoch: 03] Loss (0.201 / 0.184) - Accuracy (94.2% / 94.0%)<p>[Epoch: 04] Loss (0.195 / 0.166) - Accuracy (94.4% / 94.6%)"
      ],
      "text/plain": [
       "<IPython.core.display.HTML object>"
      ]
     },
     "metadata": {},
     "output_type": "display_data"
    },
    {
     "name": "stdout",
     "output_type": "stream",
     "text": [
      "[==================================================]\n",
      "Adam - 64: (0.001, 0.001, 0.3)\n"
     ]
    },
    {
     "data": {
      "text/html": [
       "\n",
       "<style>\n",
       "    /* Turns off some styling */\n",
       "    progress {\n",
       "        /* gets rid of default border in Firefox and Opera. */\n",
       "        border: none;\n",
       "        /* Needs to be in here for Safari polyfill so background images work as expected. */\n",
       "        background-size: auto;\n",
       "    }\n",
       "    progress:not([value]), progress:not([value])::-webkit-progress-bar {\n",
       "        background: repeating-linear-gradient(45deg, #7e7e7e, #7e7e7e 10px, #5c5c5c 10px, #5c5c5c 20px);\n",
       "    }\n",
       "    .progress-bar-interrupted, .progress-bar-interrupted::-webkit-progress-bar {\n",
       "        background: #F44336;\n",
       "    }\n",
       "</style>\n"
      ],
      "text/plain": [
       "<IPython.core.display.HTML object>"
      ]
     },
     "metadata": {},
     "output_type": "display_data"
    },
    {
     "data": {
      "text/html": [
       "[Epoch: 00] Loss (0.783 / 0.325) - Accuracy (75.3% / 91.6%)<p>[Epoch: 01] Loss (0.615 / 0.341) - Accuracy (80.6% / 91.8%)<p>[Epoch: 02] Loss (0.604 / 0.379) - Accuracy (80.9% / 87.2%)<p>[Epoch: 03] Loss (0.588 / 0.329) - Accuracy (81.3% / 90.4%)<p>[Epoch: 04] Loss (0.592 / 0.316) - Accuracy (81.5% / 90.6%)"
      ],
      "text/plain": [
       "<IPython.core.display.HTML object>"
      ]
     },
     "metadata": {},
     "output_type": "display_data"
    },
    {
     "name": "stdout",
     "output_type": "stream",
     "text": [
      "[==================================================]\n",
      "Adam - 64: (0.001, 0.01, 0.0)\n"
     ]
    },
    {
     "data": {
      "text/html": [
       "\n",
       "<style>\n",
       "    /* Turns off some styling */\n",
       "    progress {\n",
       "        /* gets rid of default border in Firefox and Opera. */\n",
       "        border: none;\n",
       "        /* Needs to be in here for Safari polyfill so background images work as expected. */\n",
       "        background-size: auto;\n",
       "    }\n",
       "    progress:not([value]), progress:not([value])::-webkit-progress-bar {\n",
       "        background: repeating-linear-gradient(45deg, #7e7e7e, #7e7e7e 10px, #5c5c5c 10px, #5c5c5c 20px);\n",
       "    }\n",
       "    .progress-bar-interrupted, .progress-bar-interrupted::-webkit-progress-bar {\n",
       "        background: #F44336;\n",
       "    }\n",
       "</style>\n"
      ],
      "text/plain": [
       "<IPython.core.display.HTML object>"
      ]
     },
     "metadata": {},
     "output_type": "display_data"
    },
    {
     "data": {
      "text/html": [
       "[Epoch: 00] Loss (0.596 / 0.536) - Accuracy (84.4% / 84.4%)<p>[Epoch: 01] Loss (0.419 / 0.430) - Accuracy (89.0% / 88.6%)<p>[Epoch: 02] Loss (0.401 / 0.444) - Accuracy (89.2% / 89.6%)<p>[Epoch: 03] Loss (0.385 / 0.539) - Accuracy (89.7% / 84.0%)<p>[Epoch: 04] Loss (0.376 / 0.556) - Accuracy (89.8% / 87.0%)"
      ],
      "text/plain": [
       "<IPython.core.display.HTML object>"
      ]
     },
     "metadata": {},
     "output_type": "display_data"
    },
    {
     "name": "stdout",
     "output_type": "stream",
     "text": [
      "[==================================================]\n",
      "Adam - 64: (0.001, 0.01, 0.3)\n"
     ]
    },
    {
     "data": {
      "text/html": [
       "\n",
       "<style>\n",
       "    /* Turns off some styling */\n",
       "    progress {\n",
       "        /* gets rid of default border in Firefox and Opera. */\n",
       "        border: none;\n",
       "        /* Needs to be in here for Safari polyfill so background images work as expected. */\n",
       "        background-size: auto;\n",
       "    }\n",
       "    progress:not([value]), progress:not([value])::-webkit-progress-bar {\n",
       "        background: repeating-linear-gradient(45deg, #7e7e7e, #7e7e7e 10px, #5c5c5c 10px, #5c5c5c 20px);\n",
       "    }\n",
       "    .progress-bar-interrupted, .progress-bar-interrupted::-webkit-progress-bar {\n",
       "        background: #F44336;\n",
       "    }\n",
       "</style>\n"
      ],
      "text/plain": [
       "<IPython.core.display.HTML object>"
      ]
     },
     "metadata": {},
     "output_type": "display_data"
    },
    {
     "data": {
      "text/html": [
       "[Epoch: 00] Loss (1.200 / 1.037) - Accuracy (62.8% / 69.6%)<p>[Epoch: 01] Loss (1.213 / 0.813) - Accuracy (61.9% / 83.0%)<p>[Epoch: 02] Loss (1.200 / 1.026) - Accuracy (62.0% / 79.8%)<p>[Epoch: 03] Loss (1.198 / 0.952) - Accuracy (61.9% / 78.0%)<p>[Epoch: 04] Loss (1.202 / 0.831) - Accuracy (61.5% / 78.8%)"
      ],
      "text/plain": [
       "<IPython.core.display.HTML object>"
      ]
     },
     "metadata": {},
     "output_type": "display_data"
    },
    {
     "name": "stdout",
     "output_type": "stream",
     "text": [
      "[==================================================]\n",
      "Adam - 64: (0.01, 0, 0.0)\n"
     ]
    },
    {
     "data": {
      "text/html": [
       "\n",
       "<style>\n",
       "    /* Turns off some styling */\n",
       "    progress {\n",
       "        /* gets rid of default border in Firefox and Opera. */\n",
       "        border: none;\n",
       "        /* Needs to be in here for Safari polyfill so background images work as expected. */\n",
       "        background-size: auto;\n",
       "    }\n",
       "    progress:not([value]), progress:not([value])::-webkit-progress-bar {\n",
       "        background: repeating-linear-gradient(45deg, #7e7e7e, #7e7e7e 10px, #5c5c5c 10px, #5c5c5c 20px);\n",
       "    }\n",
       "    .progress-bar-interrupted, .progress-bar-interrupted::-webkit-progress-bar {\n",
       "        background: #F44336;\n",
       "    }\n",
       "</style>\n"
      ],
      "text/plain": [
       "<IPython.core.display.HTML object>"
      ]
     },
     "metadata": {},
     "output_type": "display_data"
    },
    {
     "data": {
      "text/html": [
       "[Epoch: 00] Loss (0.446 / 0.528) - Accuracy (89.0% / 87.8%)<p>[Epoch: 01] Loss (0.325 / 0.323) - Accuracy (92.5% / 92.8%)<p>[Epoch: 02] Loss (0.294 / 0.359) - Accuracy (93.6% / 90.8%)<p>[Epoch: 03] Loss (0.301 / 0.322) - Accuracy (93.1% / 93.0%)<p>[Epoch: 04] Loss (0.294 / 0.349) - Accuracy (93.5% / 91.0%)"
      ],
      "text/plain": [
       "<IPython.core.display.HTML object>"
      ]
     },
     "metadata": {},
     "output_type": "display_data"
    },
    {
     "name": "stdout",
     "output_type": "stream",
     "text": [
      "[==================================================]\n",
      "Adam - 64: (0.01, 0, 0.3)\n"
     ]
    },
    {
     "data": {
      "text/html": [
       "\n",
       "<style>\n",
       "    /* Turns off some styling */\n",
       "    progress {\n",
       "        /* gets rid of default border in Firefox and Opera. */\n",
       "        border: none;\n",
       "        /* Needs to be in here for Safari polyfill so background images work as expected. */\n",
       "        background-size: auto;\n",
       "    }\n",
       "    progress:not([value]), progress:not([value])::-webkit-progress-bar {\n",
       "        background: repeating-linear-gradient(45deg, #7e7e7e, #7e7e7e 10px, #5c5c5c 10px, #5c5c5c 20px);\n",
       "    }\n",
       "    .progress-bar-interrupted, .progress-bar-interrupted::-webkit-progress-bar {\n",
       "        background: #F44336;\n",
       "    }\n",
       "</style>\n"
      ],
      "text/plain": [
       "<IPython.core.display.HTML object>"
      ]
     },
     "metadata": {},
     "output_type": "display_data"
    },
    {
     "data": {
      "text/html": [
       "[Epoch: 00] Loss (0.788 / 0.472) - Accuracy (77.8% / 89.2%)<p>[Epoch: 01] Loss (0.703 / 0.465) - Accuracy (79.8% / 89.2%)<p>[Epoch: 02] Loss (0.699 / 0.504) - Accuracy (80.1% / 85.2%)<p>[Epoch: 03] Loss (0.706 / 0.464) - Accuracy (79.6% / 87.8%)<p>[Epoch: 04] Loss (0.701 / 0.551) - Accuracy (79.8% / 87.8%)"
      ],
      "text/plain": [
       "<IPython.core.display.HTML object>"
      ]
     },
     "metadata": {},
     "output_type": "display_data"
    },
    {
     "name": "stdout",
     "output_type": "stream",
     "text": [
      "[==================================================]\n",
      "Adam - 64: (0.01, 0.001, 0.0)\n"
     ]
    },
    {
     "data": {
      "text/html": [
       "\n",
       "<style>\n",
       "    /* Turns off some styling */\n",
       "    progress {\n",
       "        /* gets rid of default border in Firefox and Opera. */\n",
       "        border: none;\n",
       "        /* Needs to be in here for Safari polyfill so background images work as expected. */\n",
       "        background-size: auto;\n",
       "    }\n",
       "    progress:not([value]), progress:not([value])::-webkit-progress-bar {\n",
       "        background: repeating-linear-gradient(45deg, #7e7e7e, #7e7e7e 10px, #5c5c5c 10px, #5c5c5c 20px);\n",
       "    }\n",
       "    .progress-bar-interrupted, .progress-bar-interrupted::-webkit-progress-bar {\n",
       "        background: #F44336;\n",
       "    }\n",
       "</style>\n"
      ],
      "text/plain": [
       "<IPython.core.display.HTML object>"
      ]
     },
     "metadata": {},
     "output_type": "display_data"
    },
    {
     "data": {
      "text/html": [
       "[Epoch: 00] Loss (0.486 / 2.200) - Accuracy (87.9% / 46.2%)<p>[Epoch: 01] Loss (0.350 / 0.414) - Accuracy (92.1% / 91.0%)<p>[Epoch: 02] Loss (0.320 / 0.352) - Accuracy (93.0% / 92.6%)<p>[Epoch: 03] Loss (0.311 / 0.405) - Accuracy (92.9% / 92.6%)<p>[Epoch: 04] Loss (0.319 / 0.479) - Accuracy (93.1% / 86.0%)"
      ],
      "text/plain": [
       "<IPython.core.display.HTML object>"
      ]
     },
     "metadata": {},
     "output_type": "display_data"
    },
    {
     "name": "stdout",
     "output_type": "stream",
     "text": [
      "[==================================================]\n",
      "Adam - 64: (0.01, 0.001, 0.3)\n"
     ]
    },
    {
     "data": {
      "text/html": [
       "\n",
       "<style>\n",
       "    /* Turns off some styling */\n",
       "    progress {\n",
       "        /* gets rid of default border in Firefox and Opera. */\n",
       "        border: none;\n",
       "        /* Needs to be in here for Safari polyfill so background images work as expected. */\n",
       "        background-size: auto;\n",
       "    }\n",
       "    progress:not([value]), progress:not([value])::-webkit-progress-bar {\n",
       "        background: repeating-linear-gradient(45deg, #7e7e7e, #7e7e7e 10px, #5c5c5c 10px, #5c5c5c 20px);\n",
       "    }\n",
       "    .progress-bar-interrupted, .progress-bar-interrupted::-webkit-progress-bar {\n",
       "        background: #F44336;\n",
       "    }\n",
       "</style>\n"
      ],
      "text/plain": [
       "<IPython.core.display.HTML object>"
      ]
     },
     "metadata": {},
     "output_type": "display_data"
    },
    {
     "data": {
      "text/html": [
       "[Epoch: 00] Loss (0.873 / 0.654) - Accuracy (74.5% / 87.4%)<p>[Epoch: 01] Loss (0.816 / 0.617) - Accuracy (76.3% / 87.2%)<p>[Epoch: 02] Loss (0.832 / 0.620) - Accuracy (75.9% / 80.6%)<p>[Epoch: 03] Loss (0.852 / 0.597) - Accuracy (75.0% / 84.8%)<p>[Epoch: 04] Loss (0.855 / 0.556) - Accuracy (74.9% / 86.8%)"
      ],
      "text/plain": [
       "<IPython.core.display.HTML object>"
      ]
     },
     "metadata": {},
     "output_type": "display_data"
    },
    {
     "name": "stdout",
     "output_type": "stream",
     "text": [
      "[==================================================]\n",
      "Adam - 64: (0.01, 0.01, 0.0)\n"
     ]
    },
    {
     "data": {
      "text/html": [
       "\n",
       "<style>\n",
       "    /* Turns off some styling */\n",
       "    progress {\n",
       "        /* gets rid of default border in Firefox and Opera. */\n",
       "        border: none;\n",
       "        /* Needs to be in here for Safari polyfill so background images work as expected. */\n",
       "        background-size: auto;\n",
       "    }\n",
       "    progress:not([value]), progress:not([value])::-webkit-progress-bar {\n",
       "        background: repeating-linear-gradient(45deg, #7e7e7e, #7e7e7e 10px, #5c5c5c 10px, #5c5c5c 20px);\n",
       "    }\n",
       "    .progress-bar-interrupted, .progress-bar-interrupted::-webkit-progress-bar {\n",
       "        background: #F44336;\n",
       "    }\n",
       "</style>\n"
      ],
      "text/plain": [
       "<IPython.core.display.HTML object>"
      ]
     },
     "metadata": {},
     "output_type": "display_data"
    },
    {
     "data": {
      "text/html": [
       "[Epoch: 00] Loss (0.722 / 0.756) - Accuracy (83.5% / 82.2%)<p>[Epoch: 01] Loss (0.519 / 0.417) - Accuracy (89.0% / 88.6%)<p>[Epoch: 02] Loss (0.495 / 0.833) - Accuracy (89.0% / 70.8%)<p>[Epoch: 03] Loss (0.480 / 1.032) - Accuracy (89.4% / 66.8%)<p>[Epoch: 04] Loss (0.469 / 0.402) - Accuracy (89.3% / 88.4%)"
      ],
      "text/plain": [
       "<IPython.core.display.HTML object>"
      ]
     },
     "metadata": {},
     "output_type": "display_data"
    },
    {
     "name": "stdout",
     "output_type": "stream",
     "text": [
      "[==================================================]\n",
      "Adam - 64: (0.01, 0.01, 0.3)\n"
     ]
    },
    {
     "data": {
      "text/html": [
       "\n",
       "<style>\n",
       "    /* Turns off some styling */\n",
       "    progress {\n",
       "        /* gets rid of default border in Firefox and Opera. */\n",
       "        border: none;\n",
       "        /* Needs to be in here for Safari polyfill so background images work as expected. */\n",
       "        background-size: auto;\n",
       "    }\n",
       "    progress:not([value]), progress:not([value])::-webkit-progress-bar {\n",
       "        background: repeating-linear-gradient(45deg, #7e7e7e, #7e7e7e 10px, #5c5c5c 10px, #5c5c5c 20px);\n",
       "    }\n",
       "    .progress-bar-interrupted, .progress-bar-interrupted::-webkit-progress-bar {\n",
       "        background: #F44336;\n",
       "    }\n",
       "</style>\n"
      ],
      "text/plain": [
       "<IPython.core.display.HTML object>"
      ]
     },
     "metadata": {},
     "output_type": "display_data"
    },
    {
     "data": {
      "text/html": [
       "[Epoch: 00] Loss (1.327 / 1.303) - Accuracy (61.8% / 62.2%)<p>[Epoch: 01] Loss (1.397 / 1.107) - Accuracy (57.8% / 75.6%)<p>[Epoch: 02] Loss (1.441 / 1.115) - Accuracy (55.6% / 75.8%)<p>[Epoch: 03] Loss (1.459 / 1.392) - Accuracy (53.7% / 72.8%)<p>[Epoch: 04] Loss (1.464 / 1.352) - Accuracy (54.3% / 64.8%)"
      ],
      "text/plain": [
       "<IPython.core.display.HTML object>"
      ]
     },
     "metadata": {},
     "output_type": "display_data"
    },
    {
     "name": "stdout",
     "output_type": "stream",
     "text": [
      "[==================================================]\n",
      "Adam - 128: (0, 0, 0.0)\n"
     ]
    },
    {
     "data": {
      "text/html": [
       "\n",
       "<style>\n",
       "    /* Turns off some styling */\n",
       "    progress {\n",
       "        /* gets rid of default border in Firefox and Opera. */\n",
       "        border: none;\n",
       "        /* Needs to be in here for Safari polyfill so background images work as expected. */\n",
       "        background-size: auto;\n",
       "    }\n",
       "    progress:not([value]), progress:not([value])::-webkit-progress-bar {\n",
       "        background: repeating-linear-gradient(45deg, #7e7e7e, #7e7e7e 10px, #5c5c5c 10px, #5c5c5c 20px);\n",
       "    }\n",
       "    .progress-bar-interrupted, .progress-bar-interrupted::-webkit-progress-bar {\n",
       "        background: #F44336;\n",
       "    }\n",
       "</style>\n"
      ],
      "text/plain": [
       "<IPython.core.display.HTML object>"
      ]
     },
     "metadata": {},
     "output_type": "display_data"
    },
    {
     "data": {
      "text/html": [
       "[Epoch: 00] Loss (0.295 / 0.126) - Accuracy (92.0% / 96.2%)<p>[Epoch: 01] Loss (0.070 / 0.115) - Accuracy (97.9% / 96.8%)<p>[Epoch: 02] Loss (0.044 / 0.108) - Accuracy (98.7% / 97.2%)<p>[Epoch: 03] Loss (0.024 / 0.098) - Accuracy (99.2% / 97.4%)<p>[Epoch: 04] Loss (0.013 / 0.066) - Accuracy (99.7% / 97.4%)"
      ],
      "text/plain": [
       "<IPython.core.display.HTML object>"
      ]
     },
     "metadata": {},
     "output_type": "display_data"
    },
    {
     "name": "stdout",
     "output_type": "stream",
     "text": [
      "[==================================================]\n",
      "Adam - 128: (0, 0, 0.3)\n"
     ]
    },
    {
     "data": {
      "text/html": [
       "\n",
       "<style>\n",
       "    /* Turns off some styling */\n",
       "    progress {\n",
       "        /* gets rid of default border in Firefox and Opera. */\n",
       "        border: none;\n",
       "        /* Needs to be in here for Safari polyfill so background images work as expected. */\n",
       "        background-size: auto;\n",
       "    }\n",
       "    progress:not([value]), progress:not([value])::-webkit-progress-bar {\n",
       "        background: repeating-linear-gradient(45deg, #7e7e7e, #7e7e7e 10px, #5c5c5c 10px, #5c5c5c 20px);\n",
       "    }\n",
       "    .progress-bar-interrupted, .progress-bar-interrupted::-webkit-progress-bar {\n",
       "        background: #F44336;\n",
       "    }\n",
       "</style>\n"
      ],
      "text/plain": [
       "<IPython.core.display.HTML object>"
      ]
     },
     "metadata": {},
     "output_type": "display_data"
    },
    {
     "data": {
      "text/html": [
       "[Epoch: 00] Loss (0.589 / 0.148) - Accuracy (82.2% / 95.4%)<p>[Epoch: 01] Loss (0.240 / 0.131) - Accuracy (92.5% / 95.6%)<p>[Epoch: 02] Loss (0.194 / 0.107) - Accuracy (93.7% / 96.4%)<p>[Epoch: 03] Loss (0.167 / 0.117) - Accuracy (94.7% / 95.8%)<p>[Epoch: 04] Loss (0.145 / 0.098) - Accuracy (95.3% / 96.8%)"
      ],
      "text/plain": [
       "<IPython.core.display.HTML object>"
      ]
     },
     "metadata": {},
     "output_type": "display_data"
    },
    {
     "name": "stdout",
     "output_type": "stream",
     "text": [
      "[==================================================]\n",
      "Adam - 128: (0, 0.001, 0.0)\n"
     ]
    },
    {
     "data": {
      "text/html": [
       "\n",
       "<style>\n",
       "    /* Turns off some styling */\n",
       "    progress {\n",
       "        /* gets rid of default border in Firefox and Opera. */\n",
       "        border: none;\n",
       "        /* Needs to be in here for Safari polyfill so background images work as expected. */\n",
       "        background-size: auto;\n",
       "    }\n",
       "    progress:not([value]), progress:not([value])::-webkit-progress-bar {\n",
       "        background: repeating-linear-gradient(45deg, #7e7e7e, #7e7e7e 10px, #5c5c5c 10px, #5c5c5c 20px);\n",
       "    }\n",
       "    .progress-bar-interrupted, .progress-bar-interrupted::-webkit-progress-bar {\n",
       "        background: #F44336;\n",
       "    }\n",
       "</style>\n"
      ],
      "text/plain": [
       "<IPython.core.display.HTML object>"
      ]
     },
     "metadata": {},
     "output_type": "display_data"
    },
    {
     "data": {
      "text/html": [
       "[Epoch: 00] Loss (0.384 / 0.289) - Accuracy (89.4% / 91.8%)<p>[Epoch: 01] Loss (0.191 / 0.165) - Accuracy (94.3% / 95.2%)<p>[Epoch: 02] Loss (0.156 / 0.158) - Accuracy (95.3% / 95.2%)<p>[Epoch: 03] Loss (0.147 / 0.183) - Accuracy (95.5% / 93.8%)<p>[Epoch: 04] Loss (0.137 / 0.142) - Accuracy (96.0% / 96.6%)"
      ],
      "text/plain": [
       "<IPython.core.display.HTML object>"
      ]
     },
     "metadata": {},
     "output_type": "display_data"
    },
    {
     "name": "stdout",
     "output_type": "stream",
     "text": [
      "[==================================================]\n",
      "Adam - 128: (0, 0.001, 0.3)\n"
     ]
    },
    {
     "data": {
      "text/html": [
       "\n",
       "<style>\n",
       "    /* Turns off some styling */\n",
       "    progress {\n",
       "        /* gets rid of default border in Firefox and Opera. */\n",
       "        border: none;\n",
       "        /* Needs to be in here for Safari polyfill so background images work as expected. */\n",
       "        background-size: auto;\n",
       "    }\n",
       "    progress:not([value]), progress:not([value])::-webkit-progress-bar {\n",
       "        background: repeating-linear-gradient(45deg, #7e7e7e, #7e7e7e 10px, #5c5c5c 10px, #5c5c5c 20px);\n",
       "    }\n",
       "    .progress-bar-interrupted, .progress-bar-interrupted::-webkit-progress-bar {\n",
       "        background: #F44336;\n",
       "    }\n",
       "</style>\n"
      ],
      "text/plain": [
       "<IPython.core.display.HTML object>"
      ]
     },
     "metadata": {},
     "output_type": "display_data"
    },
    {
     "data": {
      "text/html": [
       "[Epoch: 00] Loss (0.706 / 0.327) - Accuracy (78.4% / 90.4%)<p>[Epoch: 01] Loss (0.508 / 0.335) - Accuracy (84.1% / 92.0%)<p>[Epoch: 02] Loss (0.486 / 0.247) - Accuracy (85.0% / 92.8%)<p>[Epoch: 03] Loss (0.471 / 0.277) - Accuracy (85.5% / 91.6%)<p>[Epoch: 04] Loss (0.478 / 0.243) - Accuracy (85.3% / 92.8%)"
      ],
      "text/plain": [
       "<IPython.core.display.HTML object>"
      ]
     },
     "metadata": {},
     "output_type": "display_data"
    },
    {
     "name": "stdout",
     "output_type": "stream",
     "text": [
      "[==================================================]\n",
      "Adam - 128: (0, 0.01, 0.0)\n"
     ]
    },
    {
     "data": {
      "text/html": [
       "\n",
       "<style>\n",
       "    /* Turns off some styling */\n",
       "    progress {\n",
       "        /* gets rid of default border in Firefox and Opera. */\n",
       "        border: none;\n",
       "        /* Needs to be in here for Safari polyfill so background images work as expected. */\n",
       "        background-size: auto;\n",
       "    }\n",
       "    progress:not([value]), progress:not([value])::-webkit-progress-bar {\n",
       "        background: repeating-linear-gradient(45deg, #7e7e7e, #7e7e7e 10px, #5c5c5c 10px, #5c5c5c 20px);\n",
       "    }\n",
       "    .progress-bar-interrupted, .progress-bar-interrupted::-webkit-progress-bar {\n",
       "        background: #F44336;\n",
       "    }\n",
       "</style>\n"
      ],
      "text/plain": [
       "<IPython.core.display.HTML object>"
      ]
     },
     "metadata": {},
     "output_type": "display_data"
    },
    {
     "data": {
      "text/html": [
       "[Epoch: 00] Loss (0.568 / 0.835) - Accuracy (85.4% / 86.6%)<p>[Epoch: 01] Loss (0.346 / 0.657) - Accuracy (91.2% / 77.4%)<p>[Epoch: 02] Loss (0.326 / 0.386) - Accuracy (91.3% / 91.0%)<p>[Epoch: 03] Loss (0.327 / 0.328) - Accuracy (91.4% / 92.0%)<p>[Epoch: 04] Loss (0.325 / 0.392) - Accuracy (91.1% / 90.4%)"
      ],
      "text/plain": [
       "<IPython.core.display.HTML object>"
      ]
     },
     "metadata": {},
     "output_type": "display_data"
    },
    {
     "name": "stdout",
     "output_type": "stream",
     "text": [
      "[==================================================]\n",
      "Adam - 128: (0, 0.01, 0.3)\n"
     ]
    },
    {
     "data": {
      "text/html": [
       "\n",
       "<style>\n",
       "    /* Turns off some styling */\n",
       "    progress {\n",
       "        /* gets rid of default border in Firefox and Opera. */\n",
       "        border: none;\n",
       "        /* Needs to be in here for Safari polyfill so background images work as expected. */\n",
       "        background-size: auto;\n",
       "    }\n",
       "    progress:not([value]), progress:not([value])::-webkit-progress-bar {\n",
       "        background: repeating-linear-gradient(45deg, #7e7e7e, #7e7e7e 10px, #5c5c5c 10px, #5c5c5c 20px);\n",
       "    }\n",
       "    .progress-bar-interrupted, .progress-bar-interrupted::-webkit-progress-bar {\n",
       "        background: #F44336;\n",
       "    }\n",
       "</style>\n"
      ],
      "text/plain": [
       "<IPython.core.display.HTML object>"
      ]
     },
     "metadata": {},
     "output_type": "display_data"
    },
    {
     "data": {
      "text/html": [
       "[Epoch: 00] Loss (1.045 / 1.257) - Accuracy (69.2% / 77.0%)<p>[Epoch: 01] Loss (0.961 / 0.720) - Accuracy (70.7% / 84.6%)<p>[Epoch: 02] Loss (0.981 / 0.684) - Accuracy (70.6% / 84.6%)<p>[Epoch: 03] Loss (1.019 / 0.860) - Accuracy (68.9% / 77.4%)<p>[Epoch: 04] Loss (0.993 / 0.590) - Accuracy (69.2% / 85.6%)"
      ],
      "text/plain": [
       "<IPython.core.display.HTML object>"
      ]
     },
     "metadata": {},
     "output_type": "display_data"
    },
    {
     "name": "stdout",
     "output_type": "stream",
     "text": [
      "[==================================================]\n",
      "Adam - 128: (0.001, 0, 0.0)\n"
     ]
    },
    {
     "data": {
      "text/html": [
       "\n",
       "<style>\n",
       "    /* Turns off some styling */\n",
       "    progress {\n",
       "        /* gets rid of default border in Firefox and Opera. */\n",
       "        border: none;\n",
       "        /* Needs to be in here for Safari polyfill so background images work as expected. */\n",
       "        background-size: auto;\n",
       "    }\n",
       "    progress:not([value]), progress:not([value])::-webkit-progress-bar {\n",
       "        background: repeating-linear-gradient(45deg, #7e7e7e, #7e7e7e 10px, #5c5c5c 10px, #5c5c5c 20px);\n",
       "    }\n",
       "    .progress-bar-interrupted, .progress-bar-interrupted::-webkit-progress-bar {\n",
       "        background: #F44336;\n",
       "    }\n",
       "</style>\n"
      ],
      "text/plain": [
       "<IPython.core.display.HTML object>"
      ]
     },
     "metadata": {},
     "output_type": "display_data"
    },
    {
     "data": {
      "text/html": [
       "[Epoch: 00] Loss (0.326 / 0.271) - Accuracy (91.1% / 93.4%)<p>[Epoch: 01] Loss (0.149 / 0.173) - Accuracy (95.8% / 94.4%)<p>[Epoch: 02] Loss (0.141 / 0.136) - Accuracy (95.7% / 96.2%)<p>[Epoch: 03] Loss (0.125 / 0.229) - Accuracy (96.3% / 93.2%)<p>[Epoch: 04] Loss (0.110 / 0.135) - Accuracy (96.8% / 96.0%)"
      ],
      "text/plain": [
       "<IPython.core.display.HTML object>"
      ]
     },
     "metadata": {},
     "output_type": "display_data"
    },
    {
     "name": "stdout",
     "output_type": "stream",
     "text": [
      "[==================================================]\n",
      "Adam - 128: (0.001, 0, 0.3)\n"
     ]
    },
    {
     "data": {
      "text/html": [
       "\n",
       "<style>\n",
       "    /* Turns off some styling */\n",
       "    progress {\n",
       "        /* gets rid of default border in Firefox and Opera. */\n",
       "        border: none;\n",
       "        /* Needs to be in here for Safari polyfill so background images work as expected. */\n",
       "        background-size: auto;\n",
       "    }\n",
       "    progress:not([value]), progress:not([value])::-webkit-progress-bar {\n",
       "        background: repeating-linear-gradient(45deg, #7e7e7e, #7e7e7e 10px, #5c5c5c 10px, #5c5c5c 20px);\n",
       "    }\n",
       "    .progress-bar-interrupted, .progress-bar-interrupted::-webkit-progress-bar {\n",
       "        background: #F44336;\n",
       "    }\n",
       "</style>\n"
      ],
      "text/plain": [
       "<IPython.core.display.HTML object>"
      ]
     },
     "metadata": {},
     "output_type": "display_data"
    },
    {
     "data": {
      "text/html": [
       "[Epoch: 00] Loss (0.609 / 0.218) - Accuracy (81.9% / 93.8%)<p>[Epoch: 01] Loss (0.323 / 0.176) - Accuracy (89.9% / 94.2%)<p>[Epoch: 02] Loss (0.320 / 0.157) - Accuracy (90.1% / 95.2%)<p>[Epoch: 03] Loss (0.294 / 0.121) - Accuracy (90.9% / 96.4%)<p>[Epoch: 04] Loss (0.299 / 0.173) - Accuracy (90.7% / 94.8%)"
      ],
      "text/plain": [
       "<IPython.core.display.HTML object>"
      ]
     },
     "metadata": {},
     "output_type": "display_data"
    },
    {
     "name": "stdout",
     "output_type": "stream",
     "text": [
      "[==================================================]\n",
      "Adam - 128: (0.001, 0.001, 0.0)\n"
     ]
    },
    {
     "data": {
      "text/html": [
       "\n",
       "<style>\n",
       "    /* Turns off some styling */\n",
       "    progress {\n",
       "        /* gets rid of default border in Firefox and Opera. */\n",
       "        border: none;\n",
       "        /* Needs to be in here for Safari polyfill so background images work as expected. */\n",
       "        background-size: auto;\n",
       "    }\n",
       "    progress:not([value]), progress:not([value])::-webkit-progress-bar {\n",
       "        background: repeating-linear-gradient(45deg, #7e7e7e, #7e7e7e 10px, #5c5c5c 10px, #5c5c5c 20px);\n",
       "    }\n",
       "    .progress-bar-interrupted, .progress-bar-interrupted::-webkit-progress-bar {\n",
       "        background: #F44336;\n",
       "    }\n",
       "</style>\n"
      ],
      "text/plain": [
       "<IPython.core.display.HTML object>"
      ]
     },
     "metadata": {},
     "output_type": "display_data"
    },
    {
     "data": {
      "text/html": [
       "[Epoch: 00] Loss (0.391 / 0.243) - Accuracy (89.3% / 93.8%)<p>[Epoch: 01] Loss (0.191 / 0.223) - Accuracy (94.7% / 94.6%)<p>[Epoch: 02] Loss (0.168 / 0.255) - Accuracy (95.2% / 91.8%)<p>[Epoch: 03] Loss (0.161 / 0.163) - Accuracy (95.6% / 95.2%)<p>[Epoch: 04] Loss (0.157 / 0.244) - Accuracy (95.5% / 93.8%)"
      ],
      "text/plain": [
       "<IPython.core.display.HTML object>"
      ]
     },
     "metadata": {},
     "output_type": "display_data"
    },
    {
     "name": "stdout",
     "output_type": "stream",
     "text": [
      "[==================================================]\n",
      "Adam - 128: (0.001, 0.001, 0.3)\n"
     ]
    },
    {
     "data": {
      "text/html": [
       "\n",
       "<style>\n",
       "    /* Turns off some styling */\n",
       "    progress {\n",
       "        /* gets rid of default border in Firefox and Opera. */\n",
       "        border: none;\n",
       "        /* Needs to be in here for Safari polyfill so background images work as expected. */\n",
       "        background-size: auto;\n",
       "    }\n",
       "    progress:not([value]), progress:not([value])::-webkit-progress-bar {\n",
       "        background: repeating-linear-gradient(45deg, #7e7e7e, #7e7e7e 10px, #5c5c5c 10px, #5c5c5c 20px);\n",
       "    }\n",
       "    .progress-bar-interrupted, .progress-bar-interrupted::-webkit-progress-bar {\n",
       "        background: #F44336;\n",
       "    }\n",
       "</style>\n"
      ],
      "text/plain": [
       "<IPython.core.display.HTML object>"
      ]
     },
     "metadata": {},
     "output_type": "display_data"
    },
    {
     "data": {
      "text/html": [
       "[Epoch: 00] Loss (0.735 / 0.407) - Accuracy (77.8% / 90.8%)<p>[Epoch: 01] Loss (0.525 / 0.268) - Accuracy (83.5% / 92.2%)<p>[Epoch: 02] Loss (0.504 / 0.329) - Accuracy (84.4% / 90.8%)<p>[Epoch: 03] Loss (0.496 / 0.267) - Accuracy (84.9% / 92.0%)<p>[Epoch: 04] Loss (0.489 / 0.271) - Accuracy (84.8% / 91.2%)"
      ],
      "text/plain": [
       "<IPython.core.display.HTML object>"
      ]
     },
     "metadata": {},
     "output_type": "display_data"
    },
    {
     "name": "stdout",
     "output_type": "stream",
     "text": [
      "[==================================================]\n",
      "Adam - 128: (0.001, 0.01, 0.0)\n"
     ]
    },
    {
     "data": {
      "text/html": [
       "\n",
       "<style>\n",
       "    /* Turns off some styling */\n",
       "    progress {\n",
       "        /* gets rid of default border in Firefox and Opera. */\n",
       "        border: none;\n",
       "        /* Needs to be in here for Safari polyfill so background images work as expected. */\n",
       "        background-size: auto;\n",
       "    }\n",
       "    progress:not([value]), progress:not([value])::-webkit-progress-bar {\n",
       "        background: repeating-linear-gradient(45deg, #7e7e7e, #7e7e7e 10px, #5c5c5c 10px, #5c5c5c 20px);\n",
       "    }\n",
       "    .progress-bar-interrupted, .progress-bar-interrupted::-webkit-progress-bar {\n",
       "        background: #F44336;\n",
       "    }\n",
       "</style>\n"
      ],
      "text/plain": [
       "<IPython.core.display.HTML object>"
      ]
     },
     "metadata": {},
     "output_type": "display_data"
    },
    {
     "data": {
      "text/html": [
       "[Epoch: 00] Loss (0.587 / 0.822) - Accuracy (85.2% / 83.2%)<p>[Epoch: 01] Loss (0.347 / 0.499) - Accuracy (91.6% / 92.0%)<p>[Epoch: 02] Loss (0.344 / 0.497) - Accuracy (91.6% / 87.8%)<p>[Epoch: 03] Loss (0.342 / 0.515) - Accuracy (91.3% / 84.6%)<p>[Epoch: 04] Loss (0.313 / 0.454) - Accuracy (91.9% / 87.4%)"
      ],
      "text/plain": [
       "<IPython.core.display.HTML object>"
      ]
     },
     "metadata": {},
     "output_type": "display_data"
    },
    {
     "name": "stdout",
     "output_type": "stream",
     "text": [
      "[==================================================]\n",
      "Adam - 128: (0.001, 0.01, 0.3)\n"
     ]
    },
    {
     "data": {
      "text/html": [
       "\n",
       "<style>\n",
       "    /* Turns off some styling */\n",
       "    progress {\n",
       "        /* gets rid of default border in Firefox and Opera. */\n",
       "        border: none;\n",
       "        /* Needs to be in here for Safari polyfill so background images work as expected. */\n",
       "        background-size: auto;\n",
       "    }\n",
       "    progress:not([value]), progress:not([value])::-webkit-progress-bar {\n",
       "        background: repeating-linear-gradient(45deg, #7e7e7e, #7e7e7e 10px, #5c5c5c 10px, #5c5c5c 20px);\n",
       "    }\n",
       "    .progress-bar-interrupted, .progress-bar-interrupted::-webkit-progress-bar {\n",
       "        background: #F44336;\n",
       "    }\n",
       "</style>\n"
      ],
      "text/plain": [
       "<IPython.core.display.HTML object>"
      ]
     },
     "metadata": {},
     "output_type": "display_data"
    },
    {
     "data": {
      "text/html": [
       "[Epoch: 00] Loss (1.084 / 1.413) - Accuracy (67.8% / 77.4%)<p>[Epoch: 01] Loss (0.973 / 0.706) - Accuracy (70.8% / 80.8%)<p>[Epoch: 02] Loss (0.988 / 0.805) - Accuracy (69.7% / 80.0%)<p>[Epoch: 03] Loss (0.993 / 0.596) - Accuracy (69.8% / 86.8%)<p>[Epoch: 04] Loss (0.989 / 0.784) - Accuracy (69.7% / 79.4%)"
      ],
      "text/plain": [
       "<IPython.core.display.HTML object>"
      ]
     },
     "metadata": {},
     "output_type": "display_data"
    },
    {
     "name": "stdout",
     "output_type": "stream",
     "text": [
      "[==================================================]\n",
      "Adam - 128: (0.01, 0, 0.0)\n"
     ]
    },
    {
     "data": {
      "text/html": [
       "\n",
       "<style>\n",
       "    /* Turns off some styling */\n",
       "    progress {\n",
       "        /* gets rid of default border in Firefox and Opera. */\n",
       "        border: none;\n",
       "        /* Needs to be in here for Safari polyfill so background images work as expected. */\n",
       "        background-size: auto;\n",
       "    }\n",
       "    progress:not([value]), progress:not([value])::-webkit-progress-bar {\n",
       "        background: repeating-linear-gradient(45deg, #7e7e7e, #7e7e7e 10px, #5c5c5c 10px, #5c5c5c 20px);\n",
       "    }\n",
       "    .progress-bar-interrupted, .progress-bar-interrupted::-webkit-progress-bar {\n",
       "        background: #F44336;\n",
       "    }\n",
       "</style>\n"
      ],
      "text/plain": [
       "<IPython.core.display.HTML object>"
      ]
     },
     "metadata": {},
     "output_type": "display_data"
    },
    {
     "data": {
      "text/html": [
       "[Epoch: 00] Loss (0.431 / 0.830) - Accuracy (89.9% / 86.0%)<p>[Epoch: 01] Loss (0.291 / 0.368) - Accuracy (93.7% / 90.6%)<p>[Epoch: 02] Loss (0.255 / 0.272) - Accuracy (94.8% / 94.6%)<p>[Epoch: 03] Loss (0.247 / 0.267) - Accuracy (94.9% / 94.0%)<p>[Epoch: 04] Loss (0.236 / 0.309) - Accuracy (95.4% / 93.2%)"
      ],
      "text/plain": [
       "<IPython.core.display.HTML object>"
      ]
     },
     "metadata": {},
     "output_type": "display_data"
    },
    {
     "name": "stdout",
     "output_type": "stream",
     "text": [
      "[==================================================]\n",
      "Adam - 128: (0.01, 0, 0.3)\n"
     ]
    },
    {
     "data": {
      "text/html": [
       "\n",
       "<style>\n",
       "    /* Turns off some styling */\n",
       "    progress {\n",
       "        /* gets rid of default border in Firefox and Opera. */\n",
       "        border: none;\n",
       "        /* Needs to be in here for Safari polyfill so background images work as expected. */\n",
       "        background-size: auto;\n",
       "    }\n",
       "    progress:not([value]), progress:not([value])::-webkit-progress-bar {\n",
       "        background: repeating-linear-gradient(45deg, #7e7e7e, #7e7e7e 10px, #5c5c5c 10px, #5c5c5c 20px);\n",
       "    }\n",
       "    .progress-bar-interrupted, .progress-bar-interrupted::-webkit-progress-bar {\n",
       "        background: #F44336;\n",
       "    }\n",
       "</style>\n"
      ],
      "text/plain": [
       "<IPython.core.display.HTML object>"
      ]
     },
     "metadata": {},
     "output_type": "display_data"
    },
    {
     "data": {
      "text/html": [
       "[Epoch: 00] Loss (0.742 / 0.609) - Accuracy (79.5% / 90.0%)<p>[Epoch: 01] Loss (0.553 / 0.522) - Accuracy (85.2% / 89.6%)<p>[Epoch: 02] Loss (0.557 / 0.367) - Accuracy (85.1% / 92.6%)<p>[Epoch: 03] Loss (0.548 / 0.390) - Accuracy (85.3% / 89.2%)<p>[Epoch: 04] Loss (0.569 / 0.320) - Accuracy (84.5% / 90.4%)"
      ],
      "text/plain": [
       "<IPython.core.display.HTML object>"
      ]
     },
     "metadata": {},
     "output_type": "display_data"
    },
    {
     "name": "stdout",
     "output_type": "stream",
     "text": [
      "[==================================================]\n",
      "Adam - 128: (0.01, 0.001, 0.0)\n"
     ]
    },
    {
     "data": {
      "text/html": [
       "\n",
       "<style>\n",
       "    /* Turns off some styling */\n",
       "    progress {\n",
       "        /* gets rid of default border in Firefox and Opera. */\n",
       "        border: none;\n",
       "        /* Needs to be in here for Safari polyfill so background images work as expected. */\n",
       "        background-size: auto;\n",
       "    }\n",
       "    progress:not([value]), progress:not([value])::-webkit-progress-bar {\n",
       "        background: repeating-linear-gradient(45deg, #7e7e7e, #7e7e7e 10px, #5c5c5c 10px, #5c5c5c 20px);\n",
       "    }\n",
       "    .progress-bar-interrupted, .progress-bar-interrupted::-webkit-progress-bar {\n",
       "        background: #F44336;\n",
       "    }\n",
       "</style>\n"
      ],
      "text/plain": [
       "<IPython.core.display.HTML object>"
      ]
     },
     "metadata": {},
     "output_type": "display_data"
    },
    {
     "data": {
      "text/html": [
       "[Epoch: 00] Loss (0.469 / 0.875) - Accuracy (89.1% / 91.6%)<p>[Epoch: 01] Loss (0.304 / 0.426) - Accuracy (93.5% / 92.8%)<p>[Epoch: 02] Loss (0.284 / 0.538) - Accuracy (94.0% / 86.6%)<p>[Epoch: 03] Loss (0.271 / 0.246) - Accuracy (94.6% / 93.6%)<p>[Epoch: 04] Loss (0.273 / 0.368) - Accuracy (94.3% / 92.6%)"
      ],
      "text/plain": [
       "<IPython.core.display.HTML object>"
      ]
     },
     "metadata": {},
     "output_type": "display_data"
    },
    {
     "name": "stdout",
     "output_type": "stream",
     "text": [
      "[==================================================]\n",
      "Adam - 128: (0.01, 0.001, 0.3)\n"
     ]
    },
    {
     "data": {
      "text/html": [
       "\n",
       "<style>\n",
       "    /* Turns off some styling */\n",
       "    progress {\n",
       "        /* gets rid of default border in Firefox and Opera. */\n",
       "        border: none;\n",
       "        /* Needs to be in here for Safari polyfill so background images work as expected. */\n",
       "        background-size: auto;\n",
       "    }\n",
       "    progress:not([value]), progress:not([value])::-webkit-progress-bar {\n",
       "        background: repeating-linear-gradient(45deg, #7e7e7e, #7e7e7e 10px, #5c5c5c 10px, #5c5c5c 20px);\n",
       "    }\n",
       "    .progress-bar-interrupted, .progress-bar-interrupted::-webkit-progress-bar {\n",
       "        background: #F44336;\n",
       "    }\n",
       "</style>\n"
      ],
      "text/plain": [
       "<IPython.core.display.HTML object>"
      ]
     },
     "metadata": {},
     "output_type": "display_data"
    },
    {
     "data": {
      "text/html": [
       "[Epoch: 00] Loss (0.823 / 0.892) - Accuracy (77.3% / 85.8%)<p>[Epoch: 01] Loss (0.672 / 0.520) - Accuracy (81.7% / 87.6%)<p>[Epoch: 02] Loss (0.685 / 0.541) - Accuracy (81.1% / 89.2%)<p>[Epoch: 03] Loss (0.688 / 0.524) - Accuracy (80.8% / 87.6%)<p>[Epoch: 04] Loss (0.691 / 0.515) - Accuracy (80.9% / 90.0%)"
      ],
      "text/plain": [
       "<IPython.core.display.HTML object>"
      ]
     },
     "metadata": {},
     "output_type": "display_data"
    },
    {
     "name": "stdout",
     "output_type": "stream",
     "text": [
      "[==================================================]\n",
      "Adam - 128: (0.01, 0.01, 0.0)\n"
     ]
    },
    {
     "data": {
      "text/html": [
       "\n",
       "<style>\n",
       "    /* Turns off some styling */\n",
       "    progress {\n",
       "        /* gets rid of default border in Firefox and Opera. */\n",
       "        border: none;\n",
       "        /* Needs to be in here for Safari polyfill so background images work as expected. */\n",
       "        background-size: auto;\n",
       "    }\n",
       "    progress:not([value]), progress:not([value])::-webkit-progress-bar {\n",
       "        background: repeating-linear-gradient(45deg, #7e7e7e, #7e7e7e 10px, #5c5c5c 10px, #5c5c5c 20px);\n",
       "    }\n",
       "    .progress-bar-interrupted, .progress-bar-interrupted::-webkit-progress-bar {\n",
       "        background: #F44336;\n",
       "    }\n",
       "</style>\n"
      ],
      "text/plain": [
       "<IPython.core.display.HTML object>"
      ]
     },
     "metadata": {},
     "output_type": "display_data"
    },
    {
     "data": {
      "text/html": [
       "[Epoch: 00] Loss (0.700 / 1.297) - Accuracy (84.5% / 86.0%)<p>[Epoch: 01] Loss (0.459 / 0.576) - Accuracy (91.0% / 88.6%)<p>[Epoch: 02] Loss (0.442 / 0.763) - Accuracy (91.2% / 77.6%)<p>[Epoch: 03] Loss (0.415 / 0.703) - Accuracy (91.8% / 79.0%)<p>[Epoch: 04] Loss (0.400 / 1.099) - Accuracy (92.1% / 64.2%)"
      ],
      "text/plain": [
       "<IPython.core.display.HTML object>"
      ]
     },
     "metadata": {},
     "output_type": "display_data"
    },
    {
     "name": "stdout",
     "output_type": "stream",
     "text": [
      "[==================================================]\n",
      "Adam - 128: (0.01, 0.01, 0.3)\n"
     ]
    },
    {
     "data": {
      "text/html": [
       "\n",
       "<style>\n",
       "    /* Turns off some styling */\n",
       "    progress {\n",
       "        /* gets rid of default border in Firefox and Opera. */\n",
       "        border: none;\n",
       "        /* Needs to be in here for Safari polyfill so background images work as expected. */\n",
       "        background-size: auto;\n",
       "    }\n",
       "    progress:not([value]), progress:not([value])::-webkit-progress-bar {\n",
       "        background: repeating-linear-gradient(45deg, #7e7e7e, #7e7e7e 10px, #5c5c5c 10px, #5c5c5c 20px);\n",
       "    }\n",
       "    .progress-bar-interrupted, .progress-bar-interrupted::-webkit-progress-bar {\n",
       "        background: #F44336;\n",
       "    }\n",
       "</style>\n"
      ],
      "text/plain": [
       "<IPython.core.display.HTML object>"
      ]
     },
     "metadata": {},
     "output_type": "display_data"
    },
    {
     "data": {
      "text/html": [
       "[Epoch: 00] Loss (1.168 / 1.665) - Accuracy (68.8% / 65.2%)<p>[Epoch: 01] Loss (1.088 / 1.031) - Accuracy (69.9% / 76.2%)<p>[Epoch: 02] Loss (1.148 / 0.900) - Accuracy (67.7% / 82.2%)<p>[Epoch: 03] Loss (1.155 / 0.758) - Accuracy (67.4% / 83.0%)<p>[Epoch: 04] Loss (1.174 / 1.035) - Accuracy (66.3% / 70.8%)"
      ],
      "text/plain": [
       "<IPython.core.display.HTML object>"
      ]
     },
     "metadata": {},
     "output_type": "display_data"
    },
    {
     "name": "stdout",
     "output_type": "stream",
     "text": [
      "[==================================================]\n",
      "Adam - 256: (0, 0, 0.0)\n"
     ]
    },
    {
     "data": {
      "text/html": [
       "\n",
       "<style>\n",
       "    /* Turns off some styling */\n",
       "    progress {\n",
       "        /* gets rid of default border in Firefox and Opera. */\n",
       "        border: none;\n",
       "        /* Needs to be in here for Safari polyfill so background images work as expected. */\n",
       "        background-size: auto;\n",
       "    }\n",
       "    progress:not([value]), progress:not([value])::-webkit-progress-bar {\n",
       "        background: repeating-linear-gradient(45deg, #7e7e7e, #7e7e7e 10px, #5c5c5c 10px, #5c5c5c 20px);\n",
       "    }\n",
       "    .progress-bar-interrupted, .progress-bar-interrupted::-webkit-progress-bar {\n",
       "        background: #F44336;\n",
       "    }\n",
       "</style>\n"
      ],
      "text/plain": [
       "<IPython.core.display.HTML object>"
      ]
     },
     "metadata": {},
     "output_type": "display_data"
    },
    {
     "data": {
      "text/html": [
       "[Epoch: 00] Loss (0.412 / 0.127) - Accuracy (88.7% / 96.6%)<p>[Epoch: 01] Loss (0.079 / 0.107) - Accuracy (97.7% / 96.4%)<p>[Epoch: 02] Loss (0.034 / 0.120) - Accuracy (99.1% / 96.0%)<p>[Epoch: 03] Loss (0.020 / 0.080) - Accuracy (99.5% / 97.6%)<p>[Epoch: 04] Loss (0.009 / 0.107) - Accuracy (99.8% / 96.6%)"
      ],
      "text/plain": [
       "<IPython.core.display.HTML object>"
      ]
     },
     "metadata": {},
     "output_type": "display_data"
    },
    {
     "name": "stdout",
     "output_type": "stream",
     "text": [
      "[==================================================]\n",
      "Adam - 256: (0, 0, 0.3)\n"
     ]
    },
    {
     "data": {
      "text/html": [
       "\n",
       "<style>\n",
       "    /* Turns off some styling */\n",
       "    progress {\n",
       "        /* gets rid of default border in Firefox and Opera. */\n",
       "        border: none;\n",
       "        /* Needs to be in here for Safari polyfill so background images work as expected. */\n",
       "        background-size: auto;\n",
       "    }\n",
       "    progress:not([value]), progress:not([value])::-webkit-progress-bar {\n",
       "        background: repeating-linear-gradient(45deg, #7e7e7e, #7e7e7e 10px, #5c5c5c 10px, #5c5c5c 20px);\n",
       "    }\n",
       "    .progress-bar-interrupted, .progress-bar-interrupted::-webkit-progress-bar {\n",
       "        background: #F44336;\n",
       "    }\n",
       "</style>\n"
      ],
      "text/plain": [
       "<IPython.core.display.HTML object>"
      ]
     },
     "metadata": {},
     "output_type": "display_data"
    },
    {
     "data": {
      "text/html": [
       "[Epoch: 00] Loss (0.787 / 0.207) - Accuracy (77.0% / 94.0%)<p>[Epoch: 01] Loss (0.288 / 0.132) - Accuracy (91.1% / 95.6%)<p>[Epoch: 02] Loss (0.210 / 0.104) - Accuracy (93.5% / 96.6%)<p>[Epoch: 03] Loss (0.169 / 0.109) - Accuracy (94.5% / 96.4%)<p>[Epoch: 04] Loss (0.149 / 0.087) - Accuracy (95.3% / 96.8%)"
      ],
      "text/plain": [
       "<IPython.core.display.HTML object>"
      ]
     },
     "metadata": {},
     "output_type": "display_data"
    },
    {
     "name": "stdout",
     "output_type": "stream",
     "text": [
      "[==================================================]\n",
      "Adam - 256: (0, 0.001, 0.0)\n"
     ]
    },
    {
     "data": {
      "text/html": [
       "\n",
       "<style>\n",
       "    /* Turns off some styling */\n",
       "    progress {\n",
       "        /* gets rid of default border in Firefox and Opera. */\n",
       "        border: none;\n",
       "        /* Needs to be in here for Safari polyfill so background images work as expected. */\n",
       "        background-size: auto;\n",
       "    }\n",
       "    progress:not([value]), progress:not([value])::-webkit-progress-bar {\n",
       "        background: repeating-linear-gradient(45deg, #7e7e7e, #7e7e7e 10px, #5c5c5c 10px, #5c5c5c 20px);\n",
       "    }\n",
       "    .progress-bar-interrupted, .progress-bar-interrupted::-webkit-progress-bar {\n",
       "        background: #F44336;\n",
       "    }\n",
       "</style>\n"
      ],
      "text/plain": [
       "<IPython.core.display.HTML object>"
      ]
     },
     "metadata": {},
     "output_type": "display_data"
    },
    {
     "data": {
      "text/html": [
       "[Epoch: 00] Loss (0.464 / 0.599) - Accuracy (87.8% / 84.8%)<p>[Epoch: 01] Loss (0.197 / 0.256) - Accuracy (94.0% / 93.0%)<p>[Epoch: 02] Loss (0.148 / 0.155) - Accuracy (95.7% / 96.0%)<p>[Epoch: 03] Loss (0.136 / 0.155) - Accuracy (96.0% / 94.6%)<p>[Epoch: 04] Loss (0.118 / 0.162) - Accuracy (96.5% / 95.4%)"
      ],
      "text/plain": [
       "<IPython.core.display.HTML object>"
      ]
     },
     "metadata": {},
     "output_type": "display_data"
    },
    {
     "name": "stdout",
     "output_type": "stream",
     "text": [
      "[==================================================]\n",
      "Adam - 256: (0, 0.001, 0.3)\n"
     ]
    },
    {
     "data": {
      "text/html": [
       "\n",
       "<style>\n",
       "    /* Turns off some styling */\n",
       "    progress {\n",
       "        /* gets rid of default border in Firefox and Opera. */\n",
       "        border: none;\n",
       "        /* Needs to be in here for Safari polyfill so background images work as expected. */\n",
       "        background-size: auto;\n",
       "    }\n",
       "    progress:not([value]), progress:not([value])::-webkit-progress-bar {\n",
       "        background: repeating-linear-gradient(45deg, #7e7e7e, #7e7e7e 10px, #5c5c5c 10px, #5c5c5c 20px);\n",
       "    }\n",
       "    .progress-bar-interrupted, .progress-bar-interrupted::-webkit-progress-bar {\n",
       "        background: #F44336;\n",
       "    }\n",
       "</style>\n"
      ],
      "text/plain": [
       "<IPython.core.display.HTML object>"
      ]
     },
     "metadata": {},
     "output_type": "display_data"
    },
    {
     "data": {
      "text/html": [
       "[Epoch: 00] Loss (0.778 / 0.361) - Accuracy (77.4% / 92.6%)<p>[Epoch: 01] Loss (0.453 / 0.267) - Accuracy (85.9% / 92.2%)<p>[Epoch: 02] Loss (0.433 / 0.250) - Accuracy (86.3% / 93.0%)<p>[Epoch: 03] Loss (0.407 / 0.233) - Accuracy (87.5% / 93.6%)<p>[Epoch: 04] Loss (0.407 / 0.232) - Accuracy (87.5% / 92.6%)"
      ],
      "text/plain": [
       "<IPython.core.display.HTML object>"
      ]
     },
     "metadata": {},
     "output_type": "display_data"
    },
    {
     "name": "stdout",
     "output_type": "stream",
     "text": [
      "[==================================================]\n",
      "Adam - 256: (0, 0.01, 0.0)\n"
     ]
    },
    {
     "data": {
      "text/html": [
       "\n",
       "<style>\n",
       "    /* Turns off some styling */\n",
       "    progress {\n",
       "        /* gets rid of default border in Firefox and Opera. */\n",
       "        border: none;\n",
       "        /* Needs to be in here for Safari polyfill so background images work as expected. */\n",
       "        background-size: auto;\n",
       "    }\n",
       "    progress:not([value]), progress:not([value])::-webkit-progress-bar {\n",
       "        background: repeating-linear-gradient(45deg, #7e7e7e, #7e7e7e 10px, #5c5c5c 10px, #5c5c5c 20px);\n",
       "    }\n",
       "    .progress-bar-interrupted, .progress-bar-interrupted::-webkit-progress-bar {\n",
       "        background: #F44336;\n",
       "    }\n",
       "</style>\n"
      ],
      "text/plain": [
       "<IPython.core.display.HTML object>"
      ]
     },
     "metadata": {},
     "output_type": "display_data"
    },
    {
     "data": {
      "text/html": [
       "[Epoch: 00] Loss (0.618 / 1.334) - Accuracy (84.6% / 68.4%)<p>[Epoch: 01] Loss (0.344 / 0.668) - Accuracy (91.5% / 89.6%)<p>[Epoch: 02] Loss (0.267 / 0.386) - Accuracy (93.6% / 92.0%)<p>[Epoch: 03] Loss (0.274 / 0.401) - Accuracy (93.4% / 91.6%)<p>[Epoch: 04] Loss (0.258 / 0.414) - Accuracy (93.7% / 90.8%)"
      ],
      "text/plain": [
       "<IPython.core.display.HTML object>"
      ]
     },
     "metadata": {},
     "output_type": "display_data"
    },
    {
     "name": "stdout",
     "output_type": "stream",
     "text": [
      "[==================================================]\n",
      "Adam - 256: (0, 0.01, 0.3)\n"
     ]
    },
    {
     "data": {
      "text/html": [
       "\n",
       "<style>\n",
       "    /* Turns off some styling */\n",
       "    progress {\n",
       "        /* gets rid of default border in Firefox and Opera. */\n",
       "        border: none;\n",
       "        /* Needs to be in here for Safari polyfill so background images work as expected. */\n",
       "        background-size: auto;\n",
       "    }\n",
       "    progress:not([value]), progress:not([value])::-webkit-progress-bar {\n",
       "        background: repeating-linear-gradient(45deg, #7e7e7e, #7e7e7e 10px, #5c5c5c 10px, #5c5c5c 20px);\n",
       "    }\n",
       "    .progress-bar-interrupted, .progress-bar-interrupted::-webkit-progress-bar {\n",
       "        background: #F44336;\n",
       "    }\n",
       "</style>\n"
      ],
      "text/plain": [
       "<IPython.core.display.HTML object>"
      ]
     },
     "metadata": {},
     "output_type": "display_data"
    },
    {
     "data": {
      "text/html": [
       "[Epoch: 00] Loss (1.059 / 1.622) - Accuracy (69.6% / 75.4%)<p>[Epoch: 01] Loss (0.792 / 1.639) - Accuracy (76.8% / 66.6%)<p>[Epoch: 02] Loss (0.792 / 0.728) - Accuracy (76.8% / 88.6%)<p>[Epoch: 03] Loss (0.802 / 0.580) - Accuracy (76.3% / 84.8%)<p>[Epoch: 04] Loss (0.819 / 0.678) - Accuracy (75.6% / 81.4%)"
      ],
      "text/plain": [
       "<IPython.core.display.HTML object>"
      ]
     },
     "metadata": {},
     "output_type": "display_data"
    },
    {
     "name": "stdout",
     "output_type": "stream",
     "text": [
      "[==================================================]\n",
      "Adam - 256: (0.001, 0, 0.0)\n"
     ]
    },
    {
     "data": {
      "text/html": [
       "\n",
       "<style>\n",
       "    /* Turns off some styling */\n",
       "    progress {\n",
       "        /* gets rid of default border in Firefox and Opera. */\n",
       "        border: none;\n",
       "        /* Needs to be in here for Safari polyfill so background images work as expected. */\n",
       "        background-size: auto;\n",
       "    }\n",
       "    progress:not([value]), progress:not([value])::-webkit-progress-bar {\n",
       "        background: repeating-linear-gradient(45deg, #7e7e7e, #7e7e7e 10px, #5c5c5c 10px, #5c5c5c 20px);\n",
       "    }\n",
       "    .progress-bar-interrupted, .progress-bar-interrupted::-webkit-progress-bar {\n",
       "        background: #F44336;\n",
       "    }\n",
       "</style>\n"
      ],
      "text/plain": [
       "<IPython.core.display.HTML object>"
      ]
     },
     "metadata": {},
     "output_type": "display_data"
    },
    {
     "data": {
      "text/html": [
       "[Epoch: 00] Loss (0.386 / 0.256) - Accuracy (90.3% / 92.6%)<p>[Epoch: 01] Loss (0.124 / 0.169) - Accuracy (96.7% / 95.2%)<p>[Epoch: 02] Loss (0.109 / 0.145) - Accuracy (96.8% / 95.2%)<p>[Epoch: 03] Loss (0.106 / 0.180) - Accuracy (96.8% / 94.4%)<p>[Epoch: 04] Loss (0.095 / 0.125) - Accuracy (97.3% / 95.8%)"
      ],
      "text/plain": [
       "<IPython.core.display.HTML object>"
      ]
     },
     "metadata": {},
     "output_type": "display_data"
    },
    {
     "name": "stdout",
     "output_type": "stream",
     "text": [
      "[==================================================]\n",
      "Adam - 256: (0.001, 0, 0.3)\n"
     ]
    },
    {
     "data": {
      "text/html": [
       "\n",
       "<style>\n",
       "    /* Turns off some styling */\n",
       "    progress {\n",
       "        /* gets rid of default border in Firefox and Opera. */\n",
       "        border: none;\n",
       "        /* Needs to be in here for Safari polyfill so background images work as expected. */\n",
       "        background-size: auto;\n",
       "    }\n",
       "    progress:not([value]), progress:not([value])::-webkit-progress-bar {\n",
       "        background: repeating-linear-gradient(45deg, #7e7e7e, #7e7e7e 10px, #5c5c5c 10px, #5c5c5c 20px);\n",
       "    }\n",
       "    .progress-bar-interrupted, .progress-bar-interrupted::-webkit-progress-bar {\n",
       "        background: #F44336;\n",
       "    }\n",
       "</style>\n"
      ],
      "text/plain": [
       "<IPython.core.display.HTML object>"
      ]
     },
     "metadata": {},
     "output_type": "display_data"
    },
    {
     "data": {
      "text/html": [
       "[Epoch: 00] Loss (0.728 / 0.285) - Accuracy (78.2% / 91.8%)<p>[Epoch: 01] Loss (0.321 / 0.180) - Accuracy (90.2% / 94.8%)<p>[Epoch: 02] Loss (0.269 / 0.149) - Accuracy (92.0% / 95.8%)<p>[Epoch: 03] Loss (0.251 / 0.150) - Accuracy (92.3% / 95.4%)<p>[Epoch: 04] Loss (0.252 / 0.155) - Accuracy (92.1% / 94.6%)"
      ],
      "text/plain": [
       "<IPython.core.display.HTML object>"
      ]
     },
     "metadata": {},
     "output_type": "display_data"
    },
    {
     "name": "stdout",
     "output_type": "stream",
     "text": [
      "[==================================================]\n",
      "Adam - 256: (0.001, 0.001, 0.0)\n"
     ]
    },
    {
     "data": {
      "text/html": [
       "\n",
       "<style>\n",
       "    /* Turns off some styling */\n",
       "    progress {\n",
       "        /* gets rid of default border in Firefox and Opera. */\n",
       "        border: none;\n",
       "        /* Needs to be in here for Safari polyfill so background images work as expected. */\n",
       "        background-size: auto;\n",
       "    }\n",
       "    progress:not([value]), progress:not([value])::-webkit-progress-bar {\n",
       "        background: repeating-linear-gradient(45deg, #7e7e7e, #7e7e7e 10px, #5c5c5c 10px, #5c5c5c 20px);\n",
       "    }\n",
       "    .progress-bar-interrupted, .progress-bar-interrupted::-webkit-progress-bar {\n",
       "        background: #F44336;\n",
       "    }\n",
       "</style>\n"
      ],
      "text/plain": [
       "<IPython.core.display.HTML object>"
      ]
     },
     "metadata": {},
     "output_type": "display_data"
    },
    {
     "data": {
      "text/html": [
       "[Epoch: 00] Loss (0.472 / 0.716) - Accuracy (87.7% / 80.2%)<p>[Epoch: 01] Loss (0.188 / 0.234) - Accuracy (94.5% / 94.0%)<p>[Epoch: 02] Loss (0.146 / 0.242) - Accuracy (96.0% / 94.0%)<p>[Epoch: 03] Loss (0.143 / 0.198) - Accuracy (96.2% / 94.2%)<p>[Epoch: 04] Loss (0.132 / 0.170) - Accuracy (96.4% / 95.6%)"
      ],
      "text/plain": [
       "<IPython.core.display.HTML object>"
      ]
     },
     "metadata": {},
     "output_type": "display_data"
    },
    {
     "name": "stdout",
     "output_type": "stream",
     "text": [
      "[==================================================]\n",
      "Adam - 256: (0.001, 0.001, 0.3)\n"
     ]
    },
    {
     "data": {
      "text/html": [
       "\n",
       "<style>\n",
       "    /* Turns off some styling */\n",
       "    progress {\n",
       "        /* gets rid of default border in Firefox and Opera. */\n",
       "        border: none;\n",
       "        /* Needs to be in here for Safari polyfill so background images work as expected. */\n",
       "        background-size: auto;\n",
       "    }\n",
       "    progress:not([value]), progress:not([value])::-webkit-progress-bar {\n",
       "        background: repeating-linear-gradient(45deg, #7e7e7e, #7e7e7e 10px, #5c5c5c 10px, #5c5c5c 20px);\n",
       "    }\n",
       "    .progress-bar-interrupted, .progress-bar-interrupted::-webkit-progress-bar {\n",
       "        background: #F44336;\n",
       "    }\n",
       "</style>\n"
      ],
      "text/plain": [
       "<IPython.core.display.HTML object>"
      ]
     },
     "metadata": {},
     "output_type": "display_data"
    },
    {
     "data": {
      "text/html": [
       "[Epoch: 00] Loss (0.771 / 0.522) - Accuracy (77.6% / 87.4%)<p>[Epoch: 01] Loss (0.442 / 0.289) - Accuracy (86.3% / 93.2%)<p>[Epoch: 02] Loss (0.436 / 0.285) - Accuracy (86.5% / 92.4%)<p>[Epoch: 03] Loss (0.413 / 0.253) - Accuracy (87.4% / 92.8%)<p>[Epoch: 04] Loss (0.418 / 0.211) - Accuracy (87.5% / 93.6%)"
      ],
      "text/plain": [
       "<IPython.core.display.HTML object>"
      ]
     },
     "metadata": {},
     "output_type": "display_data"
    },
    {
     "name": "stdout",
     "output_type": "stream",
     "text": [
      "[==================================================]\n",
      "Adam - 256: (0.001, 0.01, 0.0)\n"
     ]
    },
    {
     "data": {
      "text/html": [
       "\n",
       "<style>\n",
       "    /* Turns off some styling */\n",
       "    progress {\n",
       "        /* gets rid of default border in Firefox and Opera. */\n",
       "        border: none;\n",
       "        /* Needs to be in here for Safari polyfill so background images work as expected. */\n",
       "        background-size: auto;\n",
       "    }\n",
       "    progress:not([value]), progress:not([value])::-webkit-progress-bar {\n",
       "        background: repeating-linear-gradient(45deg, #7e7e7e, #7e7e7e 10px, #5c5c5c 10px, #5c5c5c 20px);\n",
       "    }\n",
       "    .progress-bar-interrupted, .progress-bar-interrupted::-webkit-progress-bar {\n",
       "        background: #F44336;\n",
       "    }\n",
       "</style>\n"
      ],
      "text/plain": [
       "<IPython.core.display.HTML object>"
      ]
     },
     "metadata": {},
     "output_type": "display_data"
    },
    {
     "data": {
      "text/html": [
       "[Epoch: 00] Loss (0.656 / 1.507) - Accuracy (84.0% / 63.6%)<p>[Epoch: 01] Loss (0.364 / 1.091) - Accuracy (91.2% / 87.4%)<p>[Epoch: 02] Loss (0.290 / 0.672) - Accuracy (93.3% / 83.0%)<p>[Epoch: 03] Loss (0.278 / 0.591) - Accuracy (93.8% / 86.2%)<p>[Epoch: 04] Loss (0.266 / 0.421) - Accuracy (93.7% / 89.4%)"
      ],
      "text/plain": [
       "<IPython.core.display.HTML object>"
      ]
     },
     "metadata": {},
     "output_type": "display_data"
    },
    {
     "name": "stdout",
     "output_type": "stream",
     "text": [
      "[==================================================]\n",
      "Adam - 256: (0.001, 0.01, 0.3)\n"
     ]
    },
    {
     "data": {
      "text/html": [
       "\n",
       "<style>\n",
       "    /* Turns off some styling */\n",
       "    progress {\n",
       "        /* gets rid of default border in Firefox and Opera. */\n",
       "        border: none;\n",
       "        /* Needs to be in here for Safari polyfill so background images work as expected. */\n",
       "        background-size: auto;\n",
       "    }\n",
       "    progress:not([value]), progress:not([value])::-webkit-progress-bar {\n",
       "        background: repeating-linear-gradient(45deg, #7e7e7e, #7e7e7e 10px, #5c5c5c 10px, #5c5c5c 20px);\n",
       "    }\n",
       "    .progress-bar-interrupted, .progress-bar-interrupted::-webkit-progress-bar {\n",
       "        background: #F44336;\n",
       "    }\n",
       "</style>\n"
      ],
      "text/plain": [
       "<IPython.core.display.HTML object>"
      ]
     },
     "metadata": {},
     "output_type": "display_data"
    },
    {
     "data": {
      "text/html": [
       "[Epoch: 00] Loss (1.061 / 1.498) - Accuracy (70.0% / 73.8%)<p>[Epoch: 01] Loss (0.804 / 1.695) - Accuracy (77.0% / 47.0%)<p>[Epoch: 02] Loss (0.814 / 0.647) - Accuracy (76.5% / 89.6%)<p>[Epoch: 03] Loss (0.804 / 0.663) - Accuracy (76.6% / 83.2%)<p>[Epoch: 04] Loss (0.828 / 0.575) - Accuracy (75.3% / 85.6%)"
      ],
      "text/plain": [
       "<IPython.core.display.HTML object>"
      ]
     },
     "metadata": {},
     "output_type": "display_data"
    },
    {
     "name": "stdout",
     "output_type": "stream",
     "text": [
      "[==================================================]\n",
      "Adam - 256: (0.01, 0, 0.0)\n"
     ]
    },
    {
     "data": {
      "text/html": [
       "\n",
       "<style>\n",
       "    /* Turns off some styling */\n",
       "    progress {\n",
       "        /* gets rid of default border in Firefox and Opera. */\n",
       "        border: none;\n",
       "        /* Needs to be in here for Safari polyfill so background images work as expected. */\n",
       "        background-size: auto;\n",
       "    }\n",
       "    progress:not([value]), progress:not([value])::-webkit-progress-bar {\n",
       "        background: repeating-linear-gradient(45deg, #7e7e7e, #7e7e7e 10px, #5c5c5c 10px, #5c5c5c 20px);\n",
       "    }\n",
       "    .progress-bar-interrupted, .progress-bar-interrupted::-webkit-progress-bar {\n",
       "        background: #F44336;\n",
       "    }\n",
       "</style>\n"
      ],
      "text/plain": [
       "<IPython.core.display.HTML object>"
      ]
     },
     "metadata": {},
     "output_type": "display_data"
    },
    {
     "data": {
      "text/html": [
       "[Epoch: 00] Loss (0.428 / 1.075) - Accuracy (90.3% / 87.6%)<p>[Epoch: 01] Loss (0.247 / 0.966) - Accuracy (95.1% / 77.8%)<p>[Epoch: 02] Loss (0.239 / 0.617) - Accuracy (95.4% / 89.0%)<p>[Epoch: 03] Loss (0.228 / 0.265) - Accuracy (95.7% / 94.6%)<p>[Epoch: 04] Loss (0.220 / 0.245) - Accuracy (95.9% / 95.8%)"
      ],
      "text/plain": [
       "<IPython.core.display.HTML object>"
      ]
     },
     "metadata": {},
     "output_type": "display_data"
    },
    {
     "name": "stdout",
     "output_type": "stream",
     "text": [
      "[==================================================]\n",
      "Adam - 256: (0.01, 0, 0.3)\n"
     ]
    },
    {
     "data": {
      "text/html": [
       "\n",
       "<style>\n",
       "    /* Turns off some styling */\n",
       "    progress {\n",
       "        /* gets rid of default border in Firefox and Opera. */\n",
       "        border: none;\n",
       "        /* Needs to be in here for Safari polyfill so background images work as expected. */\n",
       "        background-size: auto;\n",
       "    }\n",
       "    progress:not([value]), progress:not([value])::-webkit-progress-bar {\n",
       "        background: repeating-linear-gradient(45deg, #7e7e7e, #7e7e7e 10px, #5c5c5c 10px, #5c5c5c 20px);\n",
       "    }\n",
       "    .progress-bar-interrupted, .progress-bar-interrupted::-webkit-progress-bar {\n",
       "        background: #F44336;\n",
       "    }\n",
       "</style>\n"
      ],
      "text/plain": [
       "<IPython.core.display.HTML object>"
      ]
     },
     "metadata": {},
     "output_type": "display_data"
    },
    {
     "data": {
      "text/html": [
       "[Epoch: 00] Loss (0.807 / 0.904) - Accuracy (77.5% / 91.2%)<p>[Epoch: 01] Loss (0.486 / 0.660) - Accuracy (87.6% / 91.8%)<p>[Epoch: 02] Loss (0.464 / 0.566) - Accuracy (88.0% / 91.2%)<p>[Epoch: 03] Loss (0.473 / 0.340) - Accuracy (87.8% / 93.8%)<p>[Epoch: 04] Loss (0.466 / 0.340) - Accuracy (88.2% / 93.0%)"
      ],
      "text/plain": [
       "<IPython.core.display.HTML object>"
      ]
     },
     "metadata": {},
     "output_type": "display_data"
    },
    {
     "name": "stdout",
     "output_type": "stream",
     "text": [
      "[==================================================]\n",
      "Adam - 256: (0.01, 0.001, 0.0)\n"
     ]
    },
    {
     "data": {
      "text/html": [
       "\n",
       "<style>\n",
       "    /* Turns off some styling */\n",
       "    progress {\n",
       "        /* gets rid of default border in Firefox and Opera. */\n",
       "        border: none;\n",
       "        /* Needs to be in here for Safari polyfill so background images work as expected. */\n",
       "        background-size: auto;\n",
       "    }\n",
       "    progress:not([value]), progress:not([value])::-webkit-progress-bar {\n",
       "        background: repeating-linear-gradient(45deg, #7e7e7e, #7e7e7e 10px, #5c5c5c 10px, #5c5c5c 20px);\n",
       "    }\n",
       "    .progress-bar-interrupted, .progress-bar-interrupted::-webkit-progress-bar {\n",
       "        background: #F44336;\n",
       "    }\n",
       "</style>\n"
      ],
      "text/plain": [
       "<IPython.core.display.HTML object>"
      ]
     },
     "metadata": {},
     "output_type": "display_data"
    },
    {
     "data": {
      "text/html": [
       "[Epoch: 00] Loss (0.514 / 1.439) - Accuracy (88.2% / 44.2%)<p>[Epoch: 01] Loss (0.292 / 0.755) - Accuracy (94.2% / 89.8%)<p>[Epoch: 02] Loss (0.245 / 0.776) - Accuracy (95.4% / 90.4%)<p>[Epoch: 03] Loss (0.241 / 0.472) - Accuracy (95.4% / 92.2%)<p>[Epoch: 04] Loss (0.231 / 0.420) - Accuracy (95.6% / 90.2%)"
      ],
      "text/plain": [
       "<IPython.core.display.HTML object>"
      ]
     },
     "metadata": {},
     "output_type": "display_data"
    },
    {
     "name": "stdout",
     "output_type": "stream",
     "text": [
      "[==================================================]\n",
      "Adam - 256: (0.01, 0.001, 0.3)\n"
     ]
    },
    {
     "data": {
      "text/html": [
       "\n",
       "<style>\n",
       "    /* Turns off some styling */\n",
       "    progress {\n",
       "        /* gets rid of default border in Firefox and Opera. */\n",
       "        border: none;\n",
       "        /* Needs to be in here for Safari polyfill so background images work as expected. */\n",
       "        background-size: auto;\n",
       "    }\n",
       "    progress:not([value]), progress:not([value])::-webkit-progress-bar {\n",
       "        background: repeating-linear-gradient(45deg, #7e7e7e, #7e7e7e 10px, #5c5c5c 10px, #5c5c5c 20px);\n",
       "    }\n",
       "    .progress-bar-interrupted, .progress-bar-interrupted::-webkit-progress-bar {\n",
       "        background: #F44336;\n",
       "    }\n",
       "</style>\n"
      ],
      "text/plain": [
       "<IPython.core.display.HTML object>"
      ]
     },
     "metadata": {},
     "output_type": "display_data"
    },
    {
     "data": {
      "text/html": [
       "[Epoch: 00] Loss (0.879 / 1.182) - Accuracy (75.6% / 82.4%)<p>[Epoch: 01] Loss (0.585 / 1.026) - Accuracy (84.7% / 86.6%)<p>[Epoch: 02] Loss (0.559 / 0.593) - Accuracy (85.3% / 93.2%)<p>[Epoch: 03] Loss (0.561 / 0.435) - Accuracy (85.6% / 92.6%)<p>[Epoch: 04] Loss (0.580 / 0.494) - Accuracy (84.8% / 91.4%)"
      ],
      "text/plain": [
       "<IPython.core.display.HTML object>"
      ]
     },
     "metadata": {},
     "output_type": "display_data"
    },
    {
     "name": "stdout",
     "output_type": "stream",
     "text": [
      "[==================================================]\n",
      "Adam - 256: (0.01, 0.01, 0.0)\n"
     ]
    },
    {
     "data": {
      "text/html": [
       "\n",
       "<style>\n",
       "    /* Turns off some styling */\n",
       "    progress {\n",
       "        /* gets rid of default border in Firefox and Opera. */\n",
       "        border: none;\n",
       "        /* Needs to be in here for Safari polyfill so background images work as expected. */\n",
       "        background-size: auto;\n",
       "    }\n",
       "    progress:not([value]), progress:not([value])::-webkit-progress-bar {\n",
       "        background: repeating-linear-gradient(45deg, #7e7e7e, #7e7e7e 10px, #5c5c5c 10px, #5c5c5c 20px);\n",
       "    }\n",
       "    .progress-bar-interrupted, .progress-bar-interrupted::-webkit-progress-bar {\n",
       "        background: #F44336;\n",
       "    }\n",
       "</style>\n"
      ],
      "text/plain": [
       "<IPython.core.display.HTML object>"
      ]
     },
     "metadata": {},
     "output_type": "display_data"
    },
    {
     "data": {
      "text/html": [
       "[Epoch: 00] Loss (0.692 / 1.796) - Accuracy (85.4% / 67.0%)<p>[Epoch: 01] Loss (0.481 / 0.770) - Accuracy (91.0% / 87.6%)<p>[Epoch: 02] Loss (0.383 / 0.780) - Accuracy (93.3% / 87.6%)<p>[Epoch: 03] Loss (0.379 / 0.613) - Accuracy (93.7% / 88.8%)<p>[Epoch: 04] Loss (0.362 / 0.633) - Accuracy (93.8% / 86.2%)"
      ],
      "text/plain": [
       "<IPython.core.display.HTML object>"
      ]
     },
     "metadata": {},
     "output_type": "display_data"
    },
    {
     "name": "stdout",
     "output_type": "stream",
     "text": [
      "[==================================================]\n",
      "Adam - 256: (0.01, 0.01, 0.3)\n"
     ]
    },
    {
     "data": {
      "text/html": [
       "\n",
       "<style>\n",
       "    /* Turns off some styling */\n",
       "    progress {\n",
       "        /* gets rid of default border in Firefox and Opera. */\n",
       "        border: none;\n",
       "        /* Needs to be in here for Safari polyfill so background images work as expected. */\n",
       "        background-size: auto;\n",
       "    }\n",
       "    progress:not([value]), progress:not([value])::-webkit-progress-bar {\n",
       "        background: repeating-linear-gradient(45deg, #7e7e7e, #7e7e7e 10px, #5c5c5c 10px, #5c5c5c 20px);\n",
       "    }\n",
       "    .progress-bar-interrupted, .progress-bar-interrupted::-webkit-progress-bar {\n",
       "        background: #F44336;\n",
       "    }\n",
       "</style>\n"
      ],
      "text/plain": [
       "<IPython.core.display.HTML object>"
      ]
     },
     "metadata": {},
     "output_type": "display_data"
    },
    {
     "data": {
      "text/html": [
       "[Epoch: 00] Loss (1.154 / 1.871) - Accuracy (70.0% / 63.2%)<p>[Epoch: 01] Loss (0.929 / 1.701) - Accuracy (75.9% / 76.2%)<p>[Epoch: 02] Loss (0.933 / 1.170) - Accuracy (76.0% / 82.0%)<p>[Epoch: 03] Loss (0.961 / 0.783) - Accuracy (75.1% / 84.8%)<p>[Epoch: 04] Loss (0.976 / 0.756) - Accuracy (73.5% / 85.2%)"
      ],
      "text/plain": [
       "<IPython.core.display.HTML object>"
      ]
     },
     "metadata": {},
     "output_type": "display_data"
    },
    {
     "name": "stdout",
     "output_type": "stream",
     "text": [
      "[==================================================]\n",
      "SGD - 32: (0, 0, 0.0)\n"
     ]
    },
    {
     "data": {
      "text/html": [
       "\n",
       "<style>\n",
       "    /* Turns off some styling */\n",
       "    progress {\n",
       "        /* gets rid of default border in Firefox and Opera. */\n",
       "        border: none;\n",
       "        /* Needs to be in here for Safari polyfill so background images work as expected. */\n",
       "        background-size: auto;\n",
       "    }\n",
       "    progress:not([value]), progress:not([value])::-webkit-progress-bar {\n",
       "        background: repeating-linear-gradient(45deg, #7e7e7e, #7e7e7e 10px, #5c5c5c 10px, #5c5c5c 20px);\n",
       "    }\n",
       "    .progress-bar-interrupted, .progress-bar-interrupted::-webkit-progress-bar {\n",
       "        background: #F44336;\n",
       "    }\n",
       "</style>\n"
      ],
      "text/plain": [
       "<IPython.core.display.HTML object>"
      ]
     },
     "metadata": {},
     "output_type": "display_data"
    },
    {
     "data": {
      "text/html": [
       "[Epoch: 00] Loss (0.803 / 0.368) - Accuracy (80.7% / 92.8%)<p>[Epoch: 01] Loss (0.328 / 0.215) - Accuracy (93.5% / 95.4%)<p>[Epoch: 02] Loss (0.211 / 0.162) - Accuracy (95.8% / 96.2%)<p>[Epoch: 03] Loss (0.157 / 0.137) - Accuracy (96.9% / 95.4%)<p>[Epoch: 04] Loss (0.123 / 0.115) - Accuracy (97.5% / 96.2%)"
      ],
      "text/plain": [
       "<IPython.core.display.HTML object>"
      ]
     },
     "metadata": {},
     "output_type": "display_data"
    },
    {
     "name": "stdout",
     "output_type": "stream",
     "text": [
      "[==================================================]\n",
      "SGD - 32: (0, 0, 0.3)\n"
     ]
    },
    {
     "data": {
      "text/html": [
       "\n",
       "<style>\n",
       "    /* Turns off some styling */\n",
       "    progress {\n",
       "        /* gets rid of default border in Firefox and Opera. */\n",
       "        border: none;\n",
       "        /* Needs to be in here for Safari polyfill so background images work as expected. */\n",
       "        background-size: auto;\n",
       "    }\n",
       "    progress:not([value]), progress:not([value])::-webkit-progress-bar {\n",
       "        background: repeating-linear-gradient(45deg, #7e7e7e, #7e7e7e 10px, #5c5c5c 10px, #5c5c5c 20px);\n",
       "    }\n",
       "    .progress-bar-interrupted, .progress-bar-interrupted::-webkit-progress-bar {\n",
       "        background: #F44336;\n",
       "    }\n",
       "</style>\n"
      ],
      "text/plain": [
       "<IPython.core.display.HTML object>"
      ]
     },
     "metadata": {},
     "output_type": "display_data"
    },
    {
     "data": {
      "text/html": [
       "[Epoch: 00] Loss (1.608 / 0.850) - Accuracy (49.5% / 81.2%)<p>[Epoch: 01] Loss (0.957 / 0.554) - Accuracy (73.5% / 86.4%)<p>[Epoch: 02] Loss (0.721 / 0.417) - Accuracy (79.9% / 89.4%)<p>[Epoch: 03] Loss (0.619 / 0.354) - Accuracy (81.8% / 90.2%)<p>[Epoch: 04] Loss (0.544 / 0.297) - Accuracy (83.8% / 90.8%)"
      ],
      "text/plain": [
       "<IPython.core.display.HTML object>"
      ]
     },
     "metadata": {},
     "output_type": "display_data"
    },
    {
     "name": "stdout",
     "output_type": "stream",
     "text": [
      "[==================================================]\n",
      "SGD - 32: (0, 0.001, 0.0)\n"
     ]
    },
    {
     "data": {
      "text/html": [
       "\n",
       "<style>\n",
       "    /* Turns off some styling */\n",
       "    progress {\n",
       "        /* gets rid of default border in Firefox and Opera. */\n",
       "        border: none;\n",
       "        /* Needs to be in here for Safari polyfill so background images work as expected. */\n",
       "        background-size: auto;\n",
       "    }\n",
       "    progress:not([value]), progress:not([value])::-webkit-progress-bar {\n",
       "        background: repeating-linear-gradient(45deg, #7e7e7e, #7e7e7e 10px, #5c5c5c 10px, #5c5c5c 20px);\n",
       "    }\n",
       "    .progress-bar-interrupted, .progress-bar-interrupted::-webkit-progress-bar {\n",
       "        background: #F44336;\n",
       "    }\n",
       "</style>\n"
      ],
      "text/plain": [
       "<IPython.core.display.HTML object>"
      ]
     },
     "metadata": {},
     "output_type": "display_data"
    },
    {
     "data": {
      "text/html": [
       "[Epoch: 00] Loss (0.845 / 0.392) - Accuracy (79.1% / 93.4%)<p>[Epoch: 01] Loss (0.343 / 0.230) - Accuracy (93.3% / 95.6%)<p>[Epoch: 02] Loss (0.221 / 0.172) - Accuracy (95.7% / 96.4%)<p>[Epoch: 03] Loss (0.162 / 0.142) - Accuracy (96.8% / 96.4%)<p>[Epoch: 04] Loss (0.123 / 0.119) - Accuracy (97.9% / 96.6%)"
      ],
      "text/plain": [
       "<IPython.core.display.HTML object>"
      ]
     },
     "metadata": {},
     "output_type": "display_data"
    },
    {
     "name": "stdout",
     "output_type": "stream",
     "text": [
      "[==================================================]\n",
      "SGD - 32: (0, 0.001, 0.3)\n"
     ]
    },
    {
     "data": {
      "text/html": [
       "\n",
       "<style>\n",
       "    /* Turns off some styling */\n",
       "    progress {\n",
       "        /* gets rid of default border in Firefox and Opera. */\n",
       "        border: none;\n",
       "        /* Needs to be in here for Safari polyfill so background images work as expected. */\n",
       "        background-size: auto;\n",
       "    }\n",
       "    progress:not([value]), progress:not([value])::-webkit-progress-bar {\n",
       "        background: repeating-linear-gradient(45deg, #7e7e7e, #7e7e7e 10px, #5c5c5c 10px, #5c5c5c 20px);\n",
       "    }\n",
       "    .progress-bar-interrupted, .progress-bar-interrupted::-webkit-progress-bar {\n",
       "        background: #F44336;\n",
       "    }\n",
       "</style>\n"
      ],
      "text/plain": [
       "<IPython.core.display.HTML object>"
      ]
     },
     "metadata": {},
     "output_type": "display_data"
    },
    {
     "data": {
      "text/html": [
       "[Epoch: 00] Loss (1.625 / 0.866) - Accuracy (47.8% / 81.4%)<p>[Epoch: 01] Loss (0.937 / 0.541) - Accuracy (74.3% / 88.6%)<p>[Epoch: 02] Loss (0.717 / 0.405) - Accuracy (79.9% / 89.2%)<p>[Epoch: 03] Loss (0.584 / 0.327) - Accuracy (83.2% / 90.4%)<p>[Epoch: 04] Loss (0.506 / 0.276) - Accuracy (85.7% / 92.2%)"
      ],
      "text/plain": [
       "<IPython.core.display.HTML object>"
      ]
     },
     "metadata": {},
     "output_type": "display_data"
    },
    {
     "name": "stdout",
     "output_type": "stream",
     "text": [
      "[==================================================]\n",
      "SGD - 32: (0, 0.01, 0.0)\n"
     ]
    },
    {
     "data": {
      "text/html": [
       "\n",
       "<style>\n",
       "    /* Turns off some styling */\n",
       "    progress {\n",
       "        /* gets rid of default border in Firefox and Opera. */\n",
       "        border: none;\n",
       "        /* Needs to be in here for Safari polyfill so background images work as expected. */\n",
       "        background-size: auto;\n",
       "    }\n",
       "    progress:not([value]), progress:not([value])::-webkit-progress-bar {\n",
       "        background: repeating-linear-gradient(45deg, #7e7e7e, #7e7e7e 10px, #5c5c5c 10px, #5c5c5c 20px);\n",
       "    }\n",
       "    .progress-bar-interrupted, .progress-bar-interrupted::-webkit-progress-bar {\n",
       "        background: #F44336;\n",
       "    }\n",
       "</style>\n"
      ],
      "text/plain": [
       "<IPython.core.display.HTML object>"
      ]
     },
     "metadata": {},
     "output_type": "display_data"
    },
    {
     "data": {
      "text/html": [
       "[Epoch: 00] Loss (0.770 / 0.414) - Accuracy (82.7% / 92.4%)<p>[Epoch: 01] Loss (0.491 / 0.408) - Accuracy (89.1% / 91.8%)<p>[Epoch: 02] Loss (0.439 / 0.400) - Accuracy (90.1% / 90.0%)<p>[Epoch: 03] Loss (0.414 / 0.313) - Accuracy (90.2% / 92.6%)<p>[Epoch: 04] Loss (0.406 / 0.354) - Accuracy (90.5% / 92.4%)"
      ],
      "text/plain": [
       "<IPython.core.display.HTML object>"
      ]
     },
     "metadata": {},
     "output_type": "display_data"
    },
    {
     "name": "stdout",
     "output_type": "stream",
     "text": [
      "[==================================================]\n",
      "SGD - 32: (0, 0.01, 0.3)\n"
     ]
    },
    {
     "data": {
      "text/html": [
       "\n",
       "<style>\n",
       "    /* Turns off some styling */\n",
       "    progress {\n",
       "        /* gets rid of default border in Firefox and Opera. */\n",
       "        border: none;\n",
       "        /* Needs to be in here for Safari polyfill so background images work as expected. */\n",
       "        background-size: auto;\n",
       "    }\n",
       "    progress:not([value]), progress:not([value])::-webkit-progress-bar {\n",
       "        background: repeating-linear-gradient(45deg, #7e7e7e, #7e7e7e 10px, #5c5c5c 10px, #5c5c5c 20px);\n",
       "    }\n",
       "    .progress-bar-interrupted, .progress-bar-interrupted::-webkit-progress-bar {\n",
       "        background: #F44336;\n",
       "    }\n",
       "</style>\n"
      ],
      "text/plain": [
       "<IPython.core.display.HTML object>"
      ]
     },
     "metadata": {},
     "output_type": "display_data"
    },
    {
     "data": {
      "text/html": [
       "[Epoch: 00] Loss (1.513 / 0.839) - Accuracy (54.4% / 86.4%)<p>[Epoch: 01] Loss (0.969 / 0.781) - Accuracy (74.9% / 86.4%)<p>[Epoch: 02] Loss (0.890 / 0.598) - Accuracy (75.9% / 85.6%)<p>[Epoch: 03] Loss (0.841 / 0.598) - Accuracy (75.7% / 88.6%)<p>[Epoch: 04] Loss (0.846 / 0.579) - Accuracy (75.3% / 85.0%)"
      ],
      "text/plain": [
       "<IPython.core.display.HTML object>"
      ]
     },
     "metadata": {},
     "output_type": "display_data"
    },
    {
     "name": "stdout",
     "output_type": "stream",
     "text": [
      "[==================================================]\n",
      "SGD - 32: (0.001, 0, 0.0)\n"
     ]
    },
    {
     "data": {
      "text/html": [
       "\n",
       "<style>\n",
       "    /* Turns off some styling */\n",
       "    progress {\n",
       "        /* gets rid of default border in Firefox and Opera. */\n",
       "        border: none;\n",
       "        /* Needs to be in here for Safari polyfill so background images work as expected. */\n",
       "        background-size: auto;\n",
       "    }\n",
       "    progress:not([value]), progress:not([value])::-webkit-progress-bar {\n",
       "        background: repeating-linear-gradient(45deg, #7e7e7e, #7e7e7e 10px, #5c5c5c 10px, #5c5c5c 20px);\n",
       "    }\n",
       "    .progress-bar-interrupted, .progress-bar-interrupted::-webkit-progress-bar {\n",
       "        background: #F44336;\n",
       "    }\n",
       "</style>\n"
      ],
      "text/plain": [
       "<IPython.core.display.HTML object>"
      ]
     },
     "metadata": {},
     "output_type": "display_data"
    },
    {
     "data": {
      "text/html": [
       "[Epoch: 00] Loss (0.874 / 0.396) - Accuracy (78.1% / 93.2%)<p>[Epoch: 01] Loss (0.360 / 0.249) - Accuracy (93.1% / 94.4%)<p>[Epoch: 02] Loss (0.231 / 0.196) - Accuracy (95.6% / 96.0%)<p>[Epoch: 03] Loss (0.167 / 0.164) - Accuracy (97.0% / 96.4%)<p>[Epoch: 04] Loss (0.130 / 0.145) - Accuracy (97.6% / 97.0%)"
      ],
      "text/plain": [
       "<IPython.core.display.HTML object>"
      ]
     },
     "metadata": {},
     "output_type": "display_data"
    },
    {
     "name": "stdout",
     "output_type": "stream",
     "text": [
      "[==================================================]\n",
      "SGD - 32: (0.001, 0, 0.3)\n"
     ]
    },
    {
     "data": {
      "text/html": [
       "\n",
       "<style>\n",
       "    /* Turns off some styling */\n",
       "    progress {\n",
       "        /* gets rid of default border in Firefox and Opera. */\n",
       "        border: none;\n",
       "        /* Needs to be in here for Safari polyfill so background images work as expected. */\n",
       "        background-size: auto;\n",
       "    }\n",
       "    progress:not([value]), progress:not([value])::-webkit-progress-bar {\n",
       "        background: repeating-linear-gradient(45deg, #7e7e7e, #7e7e7e 10px, #5c5c5c 10px, #5c5c5c 20px);\n",
       "    }\n",
       "    .progress-bar-interrupted, .progress-bar-interrupted::-webkit-progress-bar {\n",
       "        background: #F44336;\n",
       "    }\n",
       "</style>\n"
      ],
      "text/plain": [
       "<IPython.core.display.HTML object>"
      ]
     },
     "metadata": {},
     "output_type": "display_data"
    },
    {
     "data": {
      "text/html": [
       "[Epoch: 00] Loss (1.652 / 0.841) - Accuracy (46.9% / 82.4%)<p>[Epoch: 01] Loss (0.947 / 0.558) - Accuracy (74.1% / 88.2%)<p>[Epoch: 02] Loss (0.724 / 0.403) - Accuracy (80.3% / 90.4%)<p>[Epoch: 03] Loss (0.610 / 0.324) - Accuracy (82.6% / 91.2%)<p>[Epoch: 04] Loss (0.523 / 0.279) - Accuracy (85.3% / 92.4%)"
      ],
      "text/plain": [
       "<IPython.core.display.HTML object>"
      ]
     },
     "metadata": {},
     "output_type": "display_data"
    },
    {
     "name": "stdout",
     "output_type": "stream",
     "text": [
      "[==================================================]\n",
      "SGD - 32: (0.001, 0.001, 0.0)\n"
     ]
    },
    {
     "data": {
      "text/html": [
       "\n",
       "<style>\n",
       "    /* Turns off some styling */\n",
       "    progress {\n",
       "        /* gets rid of default border in Firefox and Opera. */\n",
       "        border: none;\n",
       "        /* Needs to be in here for Safari polyfill so background images work as expected. */\n",
       "        background-size: auto;\n",
       "    }\n",
       "    progress:not([value]), progress:not([value])::-webkit-progress-bar {\n",
       "        background: repeating-linear-gradient(45deg, #7e7e7e, #7e7e7e 10px, #5c5c5c 10px, #5c5c5c 20px);\n",
       "    }\n",
       "    .progress-bar-interrupted, .progress-bar-interrupted::-webkit-progress-bar {\n",
       "        background: #F44336;\n",
       "    }\n",
       "</style>\n"
      ],
      "text/plain": [
       "<IPython.core.display.HTML object>"
      ]
     },
     "metadata": {},
     "output_type": "display_data"
    },
    {
     "data": {
      "text/html": [
       "[Epoch: 00] Loss (0.847 / 0.390) - Accuracy (78.5% / 92.6%)<p>[Epoch: 01] Loss (0.347 / 0.237) - Accuracy (93.3% / 96.2%)<p>[Epoch: 02] Loss (0.224 / 0.170) - Accuracy (95.8% / 96.6%)<p>[Epoch: 03] Loss (0.161 / 0.143) - Accuracy (97.2% / 96.4%)<p>[Epoch: 04] Loss (0.125 / 0.122) - Accuracy (97.9% / 97.0%)"
      ],
      "text/plain": [
       "<IPython.core.display.HTML object>"
      ]
     },
     "metadata": {},
     "output_type": "display_data"
    },
    {
     "name": "stdout",
     "output_type": "stream",
     "text": [
      "[==================================================]\n",
      "SGD - 32: (0.001, 0.001, 0.3)\n"
     ]
    },
    {
     "data": {
      "text/html": [
       "\n",
       "<style>\n",
       "    /* Turns off some styling */\n",
       "    progress {\n",
       "        /* gets rid of default border in Firefox and Opera. */\n",
       "        border: none;\n",
       "        /* Needs to be in here for Safari polyfill so background images work as expected. */\n",
       "        background-size: auto;\n",
       "    }\n",
       "    progress:not([value]), progress:not([value])::-webkit-progress-bar {\n",
       "        background: repeating-linear-gradient(45deg, #7e7e7e, #7e7e7e 10px, #5c5c5c 10px, #5c5c5c 20px);\n",
       "    }\n",
       "    .progress-bar-interrupted, .progress-bar-interrupted::-webkit-progress-bar {\n",
       "        background: #F44336;\n",
       "    }\n",
       "</style>\n"
      ],
      "text/plain": [
       "<IPython.core.display.HTML object>"
      ]
     },
     "metadata": {},
     "output_type": "display_data"
    },
    {
     "data": {
      "text/html": [
       "[Epoch: 00] Loss (1.673 / 0.941) - Accuracy (46.4% / 79.8%)<p>[Epoch: 01] Loss (0.970 / 0.552) - Accuracy (73.8% / 87.2%)<p>[Epoch: 02] Loss (0.708 / 0.390) - Accuracy (81.2% / 89.8%)<p>[Epoch: 03] Loss (0.572 / 0.312) - Accuracy (84.1% / 91.6%)<p>[Epoch: 04] Loss (0.481 / 0.252) - Accuracy (86.9% / 93.4%)"
      ],
      "text/plain": [
       "<IPython.core.display.HTML object>"
      ]
     },
     "metadata": {},
     "output_type": "display_data"
    },
    {
     "name": "stdout",
     "output_type": "stream",
     "text": [
      "[==================================================]\n",
      "SGD - 32: (0.001, 0.01, 0.0)\n"
     ]
    },
    {
     "data": {
      "text/html": [
       "\n",
       "<style>\n",
       "    /* Turns off some styling */\n",
       "    progress {\n",
       "        /* gets rid of default border in Firefox and Opera. */\n",
       "        border: none;\n",
       "        /* Needs to be in here for Safari polyfill so background images work as expected. */\n",
       "        background-size: auto;\n",
       "    }\n",
       "    progress:not([value]), progress:not([value])::-webkit-progress-bar {\n",
       "        background: repeating-linear-gradient(45deg, #7e7e7e, #7e7e7e 10px, #5c5c5c 10px, #5c5c5c 20px);\n",
       "    }\n",
       "    .progress-bar-interrupted, .progress-bar-interrupted::-webkit-progress-bar {\n",
       "        background: #F44336;\n",
       "    }\n",
       "</style>\n"
      ],
      "text/plain": [
       "<IPython.core.display.HTML object>"
      ]
     },
     "metadata": {},
     "output_type": "display_data"
    },
    {
     "data": {
      "text/html": [
       "[Epoch: 00] Loss (0.814 / 0.457) - Accuracy (81.1% / 92.2%)<p>[Epoch: 01] Loss (0.496 / 0.390) - Accuracy (89.7% / 89.0%)<p>[Epoch: 02] Loss (0.431 / 0.349) - Accuracy (90.7% / 92.6%)<p>[Epoch: 03] Loss (0.421 / 0.457) - Accuracy (90.0% / 89.0%)<p>[Epoch: 04] Loss (0.423 / 0.614) - Accuracy (89.7% / 84.4%)"
      ],
      "text/plain": [
       "<IPython.core.display.HTML object>"
      ]
     },
     "metadata": {},
     "output_type": "display_data"
    },
    {
     "name": "stdout",
     "output_type": "stream",
     "text": [
      "[==================================================]\n",
      "SGD - 32: (0.001, 0.01, 0.3)\n"
     ]
    },
    {
     "data": {
      "text/html": [
       "\n",
       "<style>\n",
       "    /* Turns off some styling */\n",
       "    progress {\n",
       "        /* gets rid of default border in Firefox and Opera. */\n",
       "        border: none;\n",
       "        /* Needs to be in here for Safari polyfill so background images work as expected. */\n",
       "        background-size: auto;\n",
       "    }\n",
       "    progress:not([value]), progress:not([value])::-webkit-progress-bar {\n",
       "        background: repeating-linear-gradient(45deg, #7e7e7e, #7e7e7e 10px, #5c5c5c 10px, #5c5c5c 20px);\n",
       "    }\n",
       "    .progress-bar-interrupted, .progress-bar-interrupted::-webkit-progress-bar {\n",
       "        background: #F44336;\n",
       "    }\n",
       "</style>\n"
      ],
      "text/plain": [
       "<IPython.core.display.HTML object>"
      ]
     },
     "metadata": {},
     "output_type": "display_data"
    },
    {
     "data": {
      "text/html": [
       "[Epoch: 00] Loss (1.519 / 0.775) - Accuracy (54.1% / 86.6%)<p>[Epoch: 01] Loss (0.949 / 0.667) - Accuracy (75.5% / 85.8%)<p>[Epoch: 02] Loss (0.876 / 0.581) - Accuracy (76.0% / 87.0%)<p>[Epoch: 03] Loss (0.841 / 0.545) - Accuracy (76.3% / 87.0%)<p>[Epoch: 04] Loss (0.848 / 0.598) - Accuracy (75.4% / 87.6%)"
      ],
      "text/plain": [
       "<IPython.core.display.HTML object>"
      ]
     },
     "metadata": {},
     "output_type": "display_data"
    },
    {
     "name": "stdout",
     "output_type": "stream",
     "text": [
      "[==================================================]\n",
      "SGD - 32: (0.01, 0, 0.0)\n"
     ]
    },
    {
     "data": {
      "text/html": [
       "\n",
       "<style>\n",
       "    /* Turns off some styling */\n",
       "    progress {\n",
       "        /* gets rid of default border in Firefox and Opera. */\n",
       "        border: none;\n",
       "        /* Needs to be in here for Safari polyfill so background images work as expected. */\n",
       "        background-size: auto;\n",
       "    }\n",
       "    progress:not([value]), progress:not([value])::-webkit-progress-bar {\n",
       "        background: repeating-linear-gradient(45deg, #7e7e7e, #7e7e7e 10px, #5c5c5c 10px, #5c5c5c 20px);\n",
       "    }\n",
       "    .progress-bar-interrupted, .progress-bar-interrupted::-webkit-progress-bar {\n",
       "        background: #F44336;\n",
       "    }\n",
       "</style>\n"
      ],
      "text/plain": [
       "<IPython.core.display.HTML object>"
      ]
     },
     "metadata": {},
     "output_type": "display_data"
    },
    {
     "data": {
      "text/html": [
       "[Epoch: 00] Loss (0.891 / 0.469) - Accuracy (78.1% / 92.0%)<p>[Epoch: 01] Loss (0.431 / 0.314) - Accuracy (92.0% / 93.8%)<p>[Epoch: 02] Loss (0.309 / 0.252) - Accuracy (94.9% / 95.4%)<p>[Epoch: 03] Loss (0.251 / 0.213) - Accuracy (96.1% / 96.4%)<p>[Epoch: 04] Loss (0.211 / 0.192) - Accuracy (97.1% / 95.8%)"
      ],
      "text/plain": [
       "<IPython.core.display.HTML object>"
      ]
     },
     "metadata": {},
     "output_type": "display_data"
    },
    {
     "name": "stdout",
     "output_type": "stream",
     "text": [
      "[==================================================]\n",
      "SGD - 32: (0.01, 0, 0.3)\n"
     ]
    },
    {
     "data": {
      "text/html": [
       "\n",
       "<style>\n",
       "    /* Turns off some styling */\n",
       "    progress {\n",
       "        /* gets rid of default border in Firefox and Opera. */\n",
       "        border: none;\n",
       "        /* Needs to be in here for Safari polyfill so background images work as expected. */\n",
       "        background-size: auto;\n",
       "    }\n",
       "    progress:not([value]), progress:not([value])::-webkit-progress-bar {\n",
       "        background: repeating-linear-gradient(45deg, #7e7e7e, #7e7e7e 10px, #5c5c5c 10px, #5c5c5c 20px);\n",
       "    }\n",
       "    .progress-bar-interrupted, .progress-bar-interrupted::-webkit-progress-bar {\n",
       "        background: #F44336;\n",
       "    }\n",
       "</style>\n"
      ],
      "text/plain": [
       "<IPython.core.display.HTML object>"
      ]
     },
     "metadata": {},
     "output_type": "display_data"
    },
    {
     "data": {
      "text/html": [
       "[Epoch: 00] Loss (1.734 / 0.989) - Accuracy (45.1% / 78.2%)<p>[Epoch: 01] Loss (1.068 / 0.680) - Accuracy (71.6% / 85.8%)<p>[Epoch: 02] Loss (0.835 / 0.535) - Accuracy (78.3% / 89.2%)<p>[Epoch: 03] Loss (0.700 / 0.443) - Accuracy (82.5% / 90.0%)<p>[Epoch: 04] Loss (0.620 / 0.385) - Accuracy (84.3% / 91.2%)"
      ],
      "text/plain": [
       "<IPython.core.display.HTML object>"
      ]
     },
     "metadata": {},
     "output_type": "display_data"
    },
    {
     "name": "stdout",
     "output_type": "stream",
     "text": [
      "[==================================================]\n",
      "SGD - 32: (0.01, 0.001, 0.0)\n"
     ]
    },
    {
     "data": {
      "text/html": [
       "\n",
       "<style>\n",
       "    /* Turns off some styling */\n",
       "    progress {\n",
       "        /* gets rid of default border in Firefox and Opera. */\n",
       "        border: none;\n",
       "        /* Needs to be in here for Safari polyfill so background images work as expected. */\n",
       "        background-size: auto;\n",
       "    }\n",
       "    progress:not([value]), progress:not([value])::-webkit-progress-bar {\n",
       "        background: repeating-linear-gradient(45deg, #7e7e7e, #7e7e7e 10px, #5c5c5c 10px, #5c5c5c 20px);\n",
       "    }\n",
       "    .progress-bar-interrupted, .progress-bar-interrupted::-webkit-progress-bar {\n",
       "        background: #F44336;\n",
       "    }\n",
       "</style>\n"
      ],
      "text/plain": [
       "<IPython.core.display.HTML object>"
      ]
     },
     "metadata": {},
     "output_type": "display_data"
    },
    {
     "data": {
      "text/html": [
       "[Epoch: 00] Loss (0.881 / 0.449) - Accuracy (78.9% / 92.4%)<p>[Epoch: 01] Loss (0.412 / 0.296) - Accuracy (93.2% / 94.2%)<p>[Epoch: 02] Loss (0.294 / 0.232) - Accuracy (95.5% / 96.0%)<p>[Epoch: 03] Loss (0.235 / 0.196) - Accuracy (96.9% / 96.4%)<p>[Epoch: 04] Loss (0.201 / 0.187) - Accuracy (97.6% / 96.6%)"
      ],
      "text/plain": [
       "<IPython.core.display.HTML object>"
      ]
     },
     "metadata": {},
     "output_type": "display_data"
    },
    {
     "name": "stdout",
     "output_type": "stream",
     "text": [
      "[==================================================]\n",
      "SGD - 32: (0.01, 0.001, 0.3)\n"
     ]
    },
    {
     "data": {
      "text/html": [
       "\n",
       "<style>\n",
       "    /* Turns off some styling */\n",
       "    progress {\n",
       "        /* gets rid of default border in Firefox and Opera. */\n",
       "        border: none;\n",
       "        /* Needs to be in here for Safari polyfill so background images work as expected. */\n",
       "        background-size: auto;\n",
       "    }\n",
       "    progress:not([value]), progress:not([value])::-webkit-progress-bar {\n",
       "        background: repeating-linear-gradient(45deg, #7e7e7e, #7e7e7e 10px, #5c5c5c 10px, #5c5c5c 20px);\n",
       "    }\n",
       "    .progress-bar-interrupted, .progress-bar-interrupted::-webkit-progress-bar {\n",
       "        background: #F44336;\n",
       "    }\n",
       "</style>\n"
      ],
      "text/plain": [
       "<IPython.core.display.HTML object>"
      ]
     },
     "metadata": {},
     "output_type": "display_data"
    },
    {
     "data": {
      "text/html": [
       "[Epoch: 00] Loss (1.620 / 0.905) - Accuracy (48.2% / 81.6%)<p>[Epoch: 01] Loss (0.976 / 0.603) - Accuracy (74.7% / 88.6%)<p>[Epoch: 02] Loss (0.749 / 0.466) - Accuracy (82.2% / 90.6%)<p>[Epoch: 03] Loss (0.621 / 0.376) - Accuracy (85.2% / 92.4%)<p>[Epoch: 04] Loss (0.545 / 0.315) - Accuracy (86.9% / 94.0%)"
      ],
      "text/plain": [
       "<IPython.core.display.HTML object>"
      ]
     },
     "metadata": {},
     "output_type": "display_data"
    },
    {
     "name": "stdout",
     "output_type": "stream",
     "text": [
      "[==================================================]\n",
      "SGD - 32: (0.01, 0.01, 0.0)\n"
     ]
    },
    {
     "data": {
      "text/html": [
       "\n",
       "<style>\n",
       "    /* Turns off some styling */\n",
       "    progress {\n",
       "        /* gets rid of default border in Firefox and Opera. */\n",
       "        border: none;\n",
       "        /* Needs to be in here for Safari polyfill so background images work as expected. */\n",
       "        background-size: auto;\n",
       "    }\n",
       "    progress:not([value]), progress:not([value])::-webkit-progress-bar {\n",
       "        background: repeating-linear-gradient(45deg, #7e7e7e, #7e7e7e 10px, #5c5c5c 10px, #5c5c5c 20px);\n",
       "    }\n",
       "    .progress-bar-interrupted, .progress-bar-interrupted::-webkit-progress-bar {\n",
       "        background: #F44336;\n",
       "    }\n",
       "</style>\n"
      ],
      "text/plain": [
       "<IPython.core.display.HTML object>"
      ]
     },
     "metadata": {},
     "output_type": "display_data"
    },
    {
     "data": {
      "text/html": [
       "[Epoch: 00] Loss (0.811 / 0.547) - Accuracy (82.2% / 93.4%)<p>[Epoch: 01] Loss (0.600 / 0.515) - Accuracy (88.0% / 89.4%)<p>[Epoch: 02] Loss (0.566 / 0.592) - Accuracy (88.6% / 87.4%)<p>[Epoch: 03] Loss (0.561 / 0.437) - Accuracy (88.9% / 91.8%)<p>[Epoch: 04] Loss (0.525 / 0.604) - Accuracy (89.7% / 92.0%)"
      ],
      "text/plain": [
       "<IPython.core.display.HTML object>"
      ]
     },
     "metadata": {},
     "output_type": "display_data"
    },
    {
     "name": "stdout",
     "output_type": "stream",
     "text": [
      "[==================================================]\n",
      "SGD - 32: (0.01, 0.01, 0.3)\n"
     ]
    },
    {
     "data": {
      "text/html": [
       "\n",
       "<style>\n",
       "    /* Turns off some styling */\n",
       "    progress {\n",
       "        /* gets rid of default border in Firefox and Opera. */\n",
       "        border: none;\n",
       "        /* Needs to be in here for Safari polyfill so background images work as expected. */\n",
       "        background-size: auto;\n",
       "    }\n",
       "    progress:not([value]), progress:not([value])::-webkit-progress-bar {\n",
       "        background: repeating-linear-gradient(45deg, #7e7e7e, #7e7e7e 10px, #5c5c5c 10px, #5c5c5c 20px);\n",
       "    }\n",
       "    .progress-bar-interrupted, .progress-bar-interrupted::-webkit-progress-bar {\n",
       "        background: #F44336;\n",
       "    }\n",
       "</style>\n"
      ],
      "text/plain": [
       "<IPython.core.display.HTML object>"
      ]
     },
     "metadata": {},
     "output_type": "display_data"
    },
    {
     "data": {
      "text/html": [
       "[Epoch: 00] Loss (1.457 / 0.826) - Accuracy (56.2% / 84.0%)<p>[Epoch: 01] Loss (0.999 / 0.785) - Accuracy (74.9% / 84.4%)<p>[Epoch: 02] Loss (0.939 / 0.824) - Accuracy (76.5% / 83.0%)<p>[Epoch: 03] Loss (0.934 / 0.643) - Accuracy (75.2% / 90.2%)<p>[Epoch: 04] Loss (0.961 / 0.830) - Accuracy (74.1% / 79.0%)"
      ],
      "text/plain": [
       "<IPython.core.display.HTML object>"
      ]
     },
     "metadata": {},
     "output_type": "display_data"
    },
    {
     "name": "stdout",
     "output_type": "stream",
     "text": [
      "[==================================================]\n",
      "SGD - 64: (0, 0, 0.0)\n"
     ]
    },
    {
     "data": {
      "text/html": [
       "\n",
       "<style>\n",
       "    /* Turns off some styling */\n",
       "    progress {\n",
       "        /* gets rid of default border in Firefox and Opera. */\n",
       "        border: none;\n",
       "        /* Needs to be in here for Safari polyfill so background images work as expected. */\n",
       "        background-size: auto;\n",
       "    }\n",
       "    progress:not([value]), progress:not([value])::-webkit-progress-bar {\n",
       "        background: repeating-linear-gradient(45deg, #7e7e7e, #7e7e7e 10px, #5c5c5c 10px, #5c5c5c 20px);\n",
       "    }\n",
       "    .progress-bar-interrupted, .progress-bar-interrupted::-webkit-progress-bar {\n",
       "        background: #F44336;\n",
       "    }\n",
       "</style>\n"
      ],
      "text/plain": [
       "<IPython.core.display.HTML object>"
      ]
     },
     "metadata": {},
     "output_type": "display_data"
    },
    {
     "data": {
      "text/html": [
       "[Epoch: 00] Loss (1.007 / 0.543) - Accuracy (74.7% / 89.6%)<p>[Epoch: 01] Loss (0.476 / 0.350) - Accuracy (91.2% / 93.6%)<p>[Epoch: 02] Loss (0.332 / 0.263) - Accuracy (94.1% / 95.6%)<p>[Epoch: 03] Loss (0.250 / 0.219) - Accuracy (95.4% / 95.8%)<p>[Epoch: 04] Loss (0.199 / 0.189) - Accuracy (96.4% / 96.4%)"
      ],
      "text/plain": [
       "<IPython.core.display.HTML object>"
      ]
     },
     "metadata": {},
     "output_type": "display_data"
    },
    {
     "name": "stdout",
     "output_type": "stream",
     "text": [
      "[==================================================]\n",
      "SGD - 64: (0, 0, 0.3)\n"
     ]
    },
    {
     "data": {
      "text/html": [
       "\n",
       "<style>\n",
       "    /* Turns off some styling */\n",
       "    progress {\n",
       "        /* gets rid of default border in Firefox and Opera. */\n",
       "        border: none;\n",
       "        /* Needs to be in here for Safari polyfill so background images work as expected. */\n",
       "        background-size: auto;\n",
       "    }\n",
       "    progress:not([value]), progress:not([value])::-webkit-progress-bar {\n",
       "        background: repeating-linear-gradient(45deg, #7e7e7e, #7e7e7e 10px, #5c5c5c 10px, #5c5c5c 20px);\n",
       "    }\n",
       "    .progress-bar-interrupted, .progress-bar-interrupted::-webkit-progress-bar {\n",
       "        background: #F44336;\n",
       "    }\n",
       "</style>\n"
      ],
      "text/plain": [
       "<IPython.core.display.HTML object>"
      ]
     },
     "metadata": {},
     "output_type": "display_data"
    },
    {
     "data": {
      "text/html": [
       "[Epoch: 00] Loss (1.938 / 1.163) - Accuracy (35.8% / 72.0%)<p>[Epoch: 01] Loss (1.228 / 0.796) - Accuracy (64.7% / 79.6%)<p>[Epoch: 02] Loss (0.958 / 0.605) - Accuracy (73.8% / 84.2%)<p>[Epoch: 03] Loss (0.799 / 0.497) - Accuracy (78.3% / 85.8%)<p>[Epoch: 04] Loss (0.692 / 0.429) - Accuracy (80.9% / 88.2%)"
      ],
      "text/plain": [
       "<IPython.core.display.HTML object>"
      ]
     },
     "metadata": {},
     "output_type": "display_data"
    },
    {
     "name": "stdout",
     "output_type": "stream",
     "text": [
      "[==================================================]\n",
      "SGD - 64: (0, 0.001, 0.0)\n"
     ]
    },
    {
     "data": {
      "text/html": [
       "\n",
       "<style>\n",
       "    /* Turns off some styling */\n",
       "    progress {\n",
       "        /* gets rid of default border in Firefox and Opera. */\n",
       "        border: none;\n",
       "        /* Needs to be in here for Safari polyfill so background images work as expected. */\n",
       "        background-size: auto;\n",
       "    }\n",
       "    progress:not([value]), progress:not([value])::-webkit-progress-bar {\n",
       "        background: repeating-linear-gradient(45deg, #7e7e7e, #7e7e7e 10px, #5c5c5c 10px, #5c5c5c 20px);\n",
       "    }\n",
       "    .progress-bar-interrupted, .progress-bar-interrupted::-webkit-progress-bar {\n",
       "        background: #F44336;\n",
       "    }\n",
       "</style>\n"
      ],
      "text/plain": [
       "<IPython.core.display.HTML object>"
      ]
     },
     "metadata": {},
     "output_type": "display_data"
    },
    {
     "data": {
      "text/html": [
       "[Epoch: 00] Loss (1.055 / 0.592) - Accuracy (71.2% / 88.8%)<p>[Epoch: 01] Loss (0.488 / 0.373) - Accuracy (91.1% / 92.8%)<p>[Epoch: 02] Loss (0.333 / 0.275) - Accuracy (94.1% / 94.4%)<p>[Epoch: 03] Loss (0.248 / 0.218) - Accuracy (95.6% / 95.8%)<p>[Epoch: 04] Loss (0.197 / 0.183) - Accuracy (96.4% / 95.8%)"
      ],
      "text/plain": [
       "<IPython.core.display.HTML object>"
      ]
     },
     "metadata": {},
     "output_type": "display_data"
    },
    {
     "name": "stdout",
     "output_type": "stream",
     "text": [
      "[==================================================]\n",
      "SGD - 64: (0, 0.001, 0.3)\n"
     ]
    },
    {
     "data": {
      "text/html": [
       "\n",
       "<style>\n",
       "    /* Turns off some styling */\n",
       "    progress {\n",
       "        /* gets rid of default border in Firefox and Opera. */\n",
       "        border: none;\n",
       "        /* Needs to be in here for Safari polyfill so background images work as expected. */\n",
       "        background-size: auto;\n",
       "    }\n",
       "    progress:not([value]), progress:not([value])::-webkit-progress-bar {\n",
       "        background: repeating-linear-gradient(45deg, #7e7e7e, #7e7e7e 10px, #5c5c5c 10px, #5c5c5c 20px);\n",
       "    }\n",
       "    .progress-bar-interrupted, .progress-bar-interrupted::-webkit-progress-bar {\n",
       "        background: #F44336;\n",
       "    }\n",
       "</style>\n"
      ],
      "text/plain": [
       "<IPython.core.display.HTML object>"
      ]
     },
     "metadata": {},
     "output_type": "display_data"
    },
    {
     "data": {
      "text/html": [
       "[Epoch: 00] Loss (1.976 / 1.242) - Accuracy (33.1% / 71.6%)<p>[Epoch: 01] Loss (1.294 / 0.851) - Accuracy (63.6% / 81.4%)<p>[Epoch: 02] Loss (1.004 / 0.630) - Accuracy (73.1% / 86.2%)<p>[Epoch: 03] Loss (0.822 / 0.502) - Accuracy (77.9% / 88.6%)<p>[Epoch: 04] Loss (0.698 / 0.417) - Accuracy (81.5% / 89.2%)"
      ],
      "text/plain": [
       "<IPython.core.display.HTML object>"
      ]
     },
     "metadata": {},
     "output_type": "display_data"
    },
    {
     "name": "stdout",
     "output_type": "stream",
     "text": [
      "[==================================================]\n",
      "SGD - 64: (0, 0.01, 0.0)\n"
     ]
    },
    {
     "data": {
      "text/html": [
       "\n",
       "<style>\n",
       "    /* Turns off some styling */\n",
       "    progress {\n",
       "        /* gets rid of default border in Firefox and Opera. */\n",
       "        border: none;\n",
       "        /* Needs to be in here for Safari polyfill so background images work as expected. */\n",
       "        background-size: auto;\n",
       "    }\n",
       "    progress:not([value]), progress:not([value])::-webkit-progress-bar {\n",
       "        background: repeating-linear-gradient(45deg, #7e7e7e, #7e7e7e 10px, #5c5c5c 10px, #5c5c5c 20px);\n",
       "    }\n",
       "    .progress-bar-interrupted, .progress-bar-interrupted::-webkit-progress-bar {\n",
       "        background: #F44336;\n",
       "    }\n",
       "</style>\n"
      ],
      "text/plain": [
       "<IPython.core.display.HTML object>"
      ]
     },
     "metadata": {},
     "output_type": "display_data"
    },
    {
     "data": {
      "text/html": [
       "[Epoch: 00] Loss (1.058 / 0.568) - Accuracy (72.3% / 90.8%)<p>[Epoch: 01] Loss (0.456 / 0.462) - Accuracy (93.0% / 93.8%)<p>[Epoch: 02] Loss (0.439 / 0.525) - Accuracy (91.4% / 88.0%)<p>[Epoch: 03] Loss (0.432 / 0.424) - Accuracy (90.9% / 90.8%)<p>[Epoch: 04] Loss (0.371 / 0.674) - Accuracy (92.2% / 78.8%)"
      ],
      "text/plain": [
       "<IPython.core.display.HTML object>"
      ]
     },
     "metadata": {},
     "output_type": "display_data"
    },
    {
     "name": "stdout",
     "output_type": "stream",
     "text": [
      "[==================================================]\n",
      "SGD - 64: (0, 0.01, 0.3)\n"
     ]
    },
    {
     "data": {
      "text/html": [
       "\n",
       "<style>\n",
       "    /* Turns off some styling */\n",
       "    progress {\n",
       "        /* gets rid of default border in Firefox and Opera. */\n",
       "        border: none;\n",
       "        /* Needs to be in here for Safari polyfill so background images work as expected. */\n",
       "        background-size: auto;\n",
       "    }\n",
       "    progress:not([value]), progress:not([value])::-webkit-progress-bar {\n",
       "        background: repeating-linear-gradient(45deg, #7e7e7e, #7e7e7e 10px, #5c5c5c 10px, #5c5c5c 20px);\n",
       "    }\n",
       "    .progress-bar-interrupted, .progress-bar-interrupted::-webkit-progress-bar {\n",
       "        background: #F44336;\n",
       "    }\n",
       "</style>\n"
      ],
      "text/plain": [
       "<IPython.core.display.HTML object>"
      ]
     },
     "metadata": {},
     "output_type": "display_data"
    },
    {
     "data": {
      "text/html": [
       "[Epoch: 00] Loss (1.842 / 1.162) - Accuracy (39.1% / 77.2%)<p>[Epoch: 01] Loss (1.092 / 0.807) - Accuracy (72.9% / 85.0%)<p>[Epoch: 02] Loss (0.861 / 0.693) - Accuracy (79.8% / 84.0%)<p>[Epoch: 03] Loss (0.840 / 0.809) - Accuracy (78.6% / 78.8%)<p>[Epoch: 04] Loss (0.785 / 0.626) - Accuracy (79.6% / 86.4%)"
      ],
      "text/plain": [
       "<IPython.core.display.HTML object>"
      ]
     },
     "metadata": {},
     "output_type": "display_data"
    },
    {
     "name": "stdout",
     "output_type": "stream",
     "text": [
      "[==================================================]\n",
      "SGD - 64: (0.001, 0, 0.0)\n"
     ]
    },
    {
     "data": {
      "text/html": [
       "\n",
       "<style>\n",
       "    /* Turns off some styling */\n",
       "    progress {\n",
       "        /* gets rid of default border in Firefox and Opera. */\n",
       "        border: none;\n",
       "        /* Needs to be in here for Safari polyfill so background images work as expected. */\n",
       "        background-size: auto;\n",
       "    }\n",
       "    progress:not([value]), progress:not([value])::-webkit-progress-bar {\n",
       "        background: repeating-linear-gradient(45deg, #7e7e7e, #7e7e7e 10px, #5c5c5c 10px, #5c5c5c 20px);\n",
       "    }\n",
       "    .progress-bar-interrupted, .progress-bar-interrupted::-webkit-progress-bar {\n",
       "        background: #F44336;\n",
       "    }\n",
       "</style>\n"
      ],
      "text/plain": [
       "<IPython.core.display.HTML object>"
      ]
     },
     "metadata": {},
     "output_type": "display_data"
    },
    {
     "data": {
      "text/html": [
       "[Epoch: 00] Loss (1.074 / 0.615) - Accuracy (70.5% / 87.6%)<p>[Epoch: 01] Loss (0.530 / 0.424) - Accuracy (90.0% / 91.2%)<p>[Epoch: 02] Loss (0.372 / 0.316) - Accuracy (93.2% / 93.8%)<p>[Epoch: 03] Loss (0.286 / 0.252) - Accuracy (94.8% / 94.6%)<p>[Epoch: 04] Loss (0.233 / 0.214) - Accuracy (95.5% / 95.6%)"
      ],
      "text/plain": [
       "<IPython.core.display.HTML object>"
      ]
     },
     "metadata": {},
     "output_type": "display_data"
    },
    {
     "name": "stdout",
     "output_type": "stream",
     "text": [
      "[==================================================]\n",
      "SGD - 64: (0.001, 0, 0.3)\n"
     ]
    },
    {
     "data": {
      "text/html": [
       "\n",
       "<style>\n",
       "    /* Turns off some styling */\n",
       "    progress {\n",
       "        /* gets rid of default border in Firefox and Opera. */\n",
       "        border: none;\n",
       "        /* Needs to be in here for Safari polyfill so background images work as expected. */\n",
       "        background-size: auto;\n",
       "    }\n",
       "    progress:not([value]), progress:not([value])::-webkit-progress-bar {\n",
       "        background: repeating-linear-gradient(45deg, #7e7e7e, #7e7e7e 10px, #5c5c5c 10px, #5c5c5c 20px);\n",
       "    }\n",
       "    .progress-bar-interrupted, .progress-bar-interrupted::-webkit-progress-bar {\n",
       "        background: #F44336;\n",
       "    }\n",
       "</style>\n"
      ],
      "text/plain": [
       "<IPython.core.display.HTML object>"
      ]
     },
     "metadata": {},
     "output_type": "display_data"
    },
    {
     "data": {
      "text/html": [
       "[Epoch: 00] Loss (1.972 / 1.206) - Accuracy (34.6% / 69.4%)<p>[Epoch: 01] Loss (1.319 / 0.879) - Accuracy (61.2% / 81.8%)<p>[Epoch: 02] Loss (1.052 / 0.687) - Accuracy (71.2% / 84.4%)<p>[Epoch: 03] Loss (0.883 / 0.568) - Accuracy (76.1% / 87.0%)<p>[Epoch: 04] Loss (0.766 / 0.476) - Accuracy (79.1% / 88.2%)"
      ],
      "text/plain": [
       "<IPython.core.display.HTML object>"
      ]
     },
     "metadata": {},
     "output_type": "display_data"
    },
    {
     "name": "stdout",
     "output_type": "stream",
     "text": [
      "[==================================================]\n",
      "SGD - 64: (0.001, 0.001, 0.0)\n"
     ]
    },
    {
     "data": {
      "text/html": [
       "\n",
       "<style>\n",
       "    /* Turns off some styling */\n",
       "    progress {\n",
       "        /* gets rid of default border in Firefox and Opera. */\n",
       "        border: none;\n",
       "        /* Needs to be in here for Safari polyfill so background images work as expected. */\n",
       "        background-size: auto;\n",
       "    }\n",
       "    progress:not([value]), progress:not([value])::-webkit-progress-bar {\n",
       "        background: repeating-linear-gradient(45deg, #7e7e7e, #7e7e7e 10px, #5c5c5c 10px, #5c5c5c 20px);\n",
       "    }\n",
       "    .progress-bar-interrupted, .progress-bar-interrupted::-webkit-progress-bar {\n",
       "        background: #F44336;\n",
       "    }\n",
       "</style>\n"
      ],
      "text/plain": [
       "<IPython.core.display.HTML object>"
      ]
     },
     "metadata": {},
     "output_type": "display_data"
    },
    {
     "data": {
      "text/html": [
       "[Epoch: 00] Loss (1.053 / 0.548) - Accuracy (72.0% / 88.4%)<p>[Epoch: 01] Loss (0.467 / 0.366) - Accuracy (91.8% / 93.4%)<p>[Epoch: 02] Loss (0.321 / 0.257) - Accuracy (94.7% / 96.2%)<p>[Epoch: 03] Loss (0.239 / 0.212) - Accuracy (96.0% / 95.8%)<p>[Epoch: 04] Loss (0.194 / 0.182) - Accuracy (96.8% / 96.0%)"
      ],
      "text/plain": [
       "<IPython.core.display.HTML object>"
      ]
     },
     "metadata": {},
     "output_type": "display_data"
    },
    {
     "name": "stdout",
     "output_type": "stream",
     "text": [
      "[==================================================]\n",
      "SGD - 64: (0.001, 0.001, 0.3)\n"
     ]
    },
    {
     "data": {
      "text/html": [
       "\n",
       "<style>\n",
       "    /* Turns off some styling */\n",
       "    progress {\n",
       "        /* gets rid of default border in Firefox and Opera. */\n",
       "        border: none;\n",
       "        /* Needs to be in here for Safari polyfill so background images work as expected. */\n",
       "        background-size: auto;\n",
       "    }\n",
       "    progress:not([value]), progress:not([value])::-webkit-progress-bar {\n",
       "        background: repeating-linear-gradient(45deg, #7e7e7e, #7e7e7e 10px, #5c5c5c 10px, #5c5c5c 20px);\n",
       "    }\n",
       "    .progress-bar-interrupted, .progress-bar-interrupted::-webkit-progress-bar {\n",
       "        background: #F44336;\n",
       "    }\n",
       "</style>\n"
      ],
      "text/plain": [
       "<IPython.core.display.HTML object>"
      ]
     },
     "metadata": {},
     "output_type": "display_data"
    },
    {
     "data": {
      "text/html": [
       "[Epoch: 00] Loss (1.994 / 1.250) - Accuracy (33.1% / 74.4%)<p>[Epoch: 01] Loss (1.273 / 0.849) - Accuracy (63.7% / 82.6%)<p>[Epoch: 02] Loss (0.982 / 0.649) - Accuracy (74.2% / 86.4%)<p>[Epoch: 03] Loss (0.808 / 0.521) - Accuracy (79.0% / 88.0%)<p>[Epoch: 04] Loss (0.688 / 0.433) - Accuracy (82.6% / 90.4%)"
      ],
      "text/plain": [
       "<IPython.core.display.HTML object>"
      ]
     },
     "metadata": {},
     "output_type": "display_data"
    },
    {
     "name": "stdout",
     "output_type": "stream",
     "text": [
      "[==================================================]\n",
      "SGD - 64: (0.001, 0.01, 0.0)\n"
     ]
    },
    {
     "data": {
      "text/html": [
       "\n",
       "<style>\n",
       "    /* Turns off some styling */\n",
       "    progress {\n",
       "        /* gets rid of default border in Firefox and Opera. */\n",
       "        border: none;\n",
       "        /* Needs to be in here for Safari polyfill so background images work as expected. */\n",
       "        background-size: auto;\n",
       "    }\n",
       "    progress:not([value]), progress:not([value])::-webkit-progress-bar {\n",
       "        background: repeating-linear-gradient(45deg, #7e7e7e, #7e7e7e 10px, #5c5c5c 10px, #5c5c5c 20px);\n",
       "    }\n",
       "    .progress-bar-interrupted, .progress-bar-interrupted::-webkit-progress-bar {\n",
       "        background: #F44336;\n",
       "    }\n",
       "</style>\n"
      ],
      "text/plain": [
       "<IPython.core.display.HTML object>"
      ]
     },
     "metadata": {},
     "output_type": "display_data"
    },
    {
     "data": {
      "text/html": [
       "[Epoch: 00] Loss (1.042 / 0.626) - Accuracy (72.8% / 88.8%)<p>[Epoch: 01] Loss (0.485 / 0.553) - Accuracy (92.2% / 90.2%)<p>[Epoch: 02] Loss (0.459 / 0.459) - Accuracy (91.1% / 89.2%)<p>[Epoch: 03] Loss (0.441 / 0.594) - Accuracy (90.8% / 87.4%)<p>[Epoch: 04] Loss (0.400 / 0.399) - Accuracy (91.5% / 91.4%)"
      ],
      "text/plain": [
       "<IPython.core.display.HTML object>"
      ]
     },
     "metadata": {},
     "output_type": "display_data"
    },
    {
     "name": "stdout",
     "output_type": "stream",
     "text": [
      "[==================================================]\n",
      "SGD - 64: (0.001, 0.01, 0.3)\n"
     ]
    },
    {
     "data": {
      "text/html": [
       "\n",
       "<style>\n",
       "    /* Turns off some styling */\n",
       "    progress {\n",
       "        /* gets rid of default border in Firefox and Opera. */\n",
       "        border: none;\n",
       "        /* Needs to be in here for Safari polyfill so background images work as expected. */\n",
       "        background-size: auto;\n",
       "    }\n",
       "    progress:not([value]), progress:not([value])::-webkit-progress-bar {\n",
       "        background: repeating-linear-gradient(45deg, #7e7e7e, #7e7e7e 10px, #5c5c5c 10px, #5c5c5c 20px);\n",
       "    }\n",
       "    .progress-bar-interrupted, .progress-bar-interrupted::-webkit-progress-bar {\n",
       "        background: #F44336;\n",
       "    }\n",
       "</style>\n"
      ],
      "text/plain": [
       "<IPython.core.display.HTML object>"
      ]
     },
     "metadata": {},
     "output_type": "display_data"
    },
    {
     "data": {
      "text/html": [
       "[Epoch: 00] Loss (1.890 / 1.196) - Accuracy (37.4% / 75.2%)<p>[Epoch: 01] Loss (1.093 / 0.751) - Accuracy (72.8% / 90.0%)<p>[Epoch: 02] Loss (0.851 / 0.754) - Accuracy (79.9% / 82.8%)<p>[Epoch: 03] Loss (0.819 / 0.767) - Accuracy (79.6% / 79.0%)<p>[Epoch: 04] Loss (0.747 / 0.897) - Accuracy (81.0% / 74.0%)"
      ],
      "text/plain": [
       "<IPython.core.display.HTML object>"
      ]
     },
     "metadata": {},
     "output_type": "display_data"
    },
    {
     "name": "stdout",
     "output_type": "stream",
     "text": [
      "[==================================================]\n",
      "SGD - 64: (0.01, 0, 0.0)\n"
     ]
    },
    {
     "data": {
      "text/html": [
       "\n",
       "<style>\n",
       "    /* Turns off some styling */\n",
       "    progress {\n",
       "        /* gets rid of default border in Firefox and Opera. */\n",
       "        border: none;\n",
       "        /* Needs to be in here for Safari polyfill so background images work as expected. */\n",
       "        background-size: auto;\n",
       "    }\n",
       "    progress:not([value]), progress:not([value])::-webkit-progress-bar {\n",
       "        background: repeating-linear-gradient(45deg, #7e7e7e, #7e7e7e 10px, #5c5c5c 10px, #5c5c5c 20px);\n",
       "    }\n",
       "    .progress-bar-interrupted, .progress-bar-interrupted::-webkit-progress-bar {\n",
       "        background: #F44336;\n",
       "    }\n",
       "</style>\n"
      ],
      "text/plain": [
       "<IPython.core.display.HTML object>"
      ]
     },
     "metadata": {},
     "output_type": "display_data"
    },
    {
     "data": {
      "text/html": [
       "[Epoch: 00] Loss (1.086 / 0.623) - Accuracy (73.2% / 88.6%)<p>[Epoch: 01] Loss (0.556 / 0.433) - Accuracy (90.4% / 92.6%)<p>[Epoch: 02] Loss (0.407 / 0.338) - Accuracy (93.4% / 94.0%)<p>[Epoch: 03] Loss (0.326 / 0.290) - Accuracy (95.0% / 94.6%)<p>[Epoch: 04] Loss (0.274 / 0.254) - Accuracy (96.0% / 95.4%)"
      ],
      "text/plain": [
       "<IPython.core.display.HTML object>"
      ]
     },
     "metadata": {},
     "output_type": "display_data"
    },
    {
     "name": "stdout",
     "output_type": "stream",
     "text": [
      "[==================================================]\n",
      "SGD - 64: (0.01, 0, 0.3)\n"
     ]
    },
    {
     "data": {
      "text/html": [
       "\n",
       "<style>\n",
       "    /* Turns off some styling */\n",
       "    progress {\n",
       "        /* gets rid of default border in Firefox and Opera. */\n",
       "        border: none;\n",
       "        /* Needs to be in here for Safari polyfill so background images work as expected. */\n",
       "        background-size: auto;\n",
       "    }\n",
       "    progress:not([value]), progress:not([value])::-webkit-progress-bar {\n",
       "        background: repeating-linear-gradient(45deg, #7e7e7e, #7e7e7e 10px, #5c5c5c 10px, #5c5c5c 20px);\n",
       "    }\n",
       "    .progress-bar-interrupted, .progress-bar-interrupted::-webkit-progress-bar {\n",
       "        background: #F44336;\n",
       "    }\n",
       "</style>\n"
      ],
      "text/plain": [
       "<IPython.core.display.HTML object>"
      ]
     },
     "metadata": {},
     "output_type": "display_data"
    },
    {
     "data": {
      "text/html": [
       "[Epoch: 00] Loss (1.943 / 1.155) - Accuracy (36.0% / 75.0%)<p>[Epoch: 01] Loss (1.270 / 0.862) - Accuracy (65.4% / 82.2%)<p>[Epoch: 02] Loss (1.015 / 0.698) - Accuracy (74.3% / 85.6%)<p>[Epoch: 03] Loss (0.866 / 0.573) - Accuracy (79.3% / 88.8%)<p>[Epoch: 04] Loss (0.756 / 0.498) - Accuracy (82.0% / 90.2%)"
      ],
      "text/plain": [
       "<IPython.core.display.HTML object>"
      ]
     },
     "metadata": {},
     "output_type": "display_data"
    },
    {
     "name": "stdout",
     "output_type": "stream",
     "text": [
      "[==================================================]\n",
      "SGD - 64: (0.01, 0.001, 0.0)\n"
     ]
    },
    {
     "data": {
      "text/html": [
       "\n",
       "<style>\n",
       "    /* Turns off some styling */\n",
       "    progress {\n",
       "        /* gets rid of default border in Firefox and Opera. */\n",
       "        border: none;\n",
       "        /* Needs to be in here for Safari polyfill so background images work as expected. */\n",
       "        background-size: auto;\n",
       "    }\n",
       "    progress:not([value]), progress:not([value])::-webkit-progress-bar {\n",
       "        background: repeating-linear-gradient(45deg, #7e7e7e, #7e7e7e 10px, #5c5c5c 10px, #5c5c5c 20px);\n",
       "    }\n",
       "    .progress-bar-interrupted, .progress-bar-interrupted::-webkit-progress-bar {\n",
       "        background: #F44336;\n",
       "    }\n",
       "</style>\n"
      ],
      "text/plain": [
       "<IPython.core.display.HTML object>"
      ]
     },
     "metadata": {},
     "output_type": "display_data"
    },
    {
     "data": {
      "text/html": [
       "[Epoch: 00] Loss (1.102 / 0.606) - Accuracy (69.3% / 89.2%)<p>[Epoch: 01] Loss (0.543 / 0.415) - Accuracy (90.5% / 93.0%)<p>[Epoch: 02] Loss (0.395 / 0.324) - Accuracy (93.4% / 94.6%)<p>[Epoch: 03] Loss (0.316 / 0.268) - Accuracy (95.4% / 95.4%)<p>[Epoch: 04] Loss (0.262 / 0.241) - Accuracy (96.4% / 96.0%)"
      ],
      "text/plain": [
       "<IPython.core.display.HTML object>"
      ]
     },
     "metadata": {},
     "output_type": "display_data"
    },
    {
     "name": "stdout",
     "output_type": "stream",
     "text": [
      "[==================================================]\n",
      "SGD - 64: (0.01, 0.001, 0.3)\n"
     ]
    },
    {
     "data": {
      "text/html": [
       "\n",
       "<style>\n",
       "    /* Turns off some styling */\n",
       "    progress {\n",
       "        /* gets rid of default border in Firefox and Opera. */\n",
       "        border: none;\n",
       "        /* Needs to be in here for Safari polyfill so background images work as expected. */\n",
       "        background-size: auto;\n",
       "    }\n",
       "    progress:not([value]), progress:not([value])::-webkit-progress-bar {\n",
       "        background: repeating-linear-gradient(45deg, #7e7e7e, #7e7e7e 10px, #5c5c5c 10px, #5c5c5c 20px);\n",
       "    }\n",
       "    .progress-bar-interrupted, .progress-bar-interrupted::-webkit-progress-bar {\n",
       "        background: #F44336;\n",
       "    }\n",
       "</style>\n"
      ],
      "text/plain": [
       "<IPython.core.display.HTML object>"
      ]
     },
     "metadata": {},
     "output_type": "display_data"
    },
    {
     "data": {
      "text/html": [
       "[Epoch: 00] Loss (2.009 / 1.305) - Accuracy (32.0% / 71.4%)<p>[Epoch: 01] Loss (1.308 / 0.969) - Accuracy (64.0% / 80.4%)<p>[Epoch: 02] Loss (1.056 / 0.767) - Accuracy (73.5% / 84.8%)<p>[Epoch: 03] Loss (0.897 / 0.645) - Accuracy (79.3% / 87.4%)<p>[Epoch: 04] Loss (0.781 / 0.541) - Accuracy (81.9% / 89.2%)"
      ],
      "text/plain": [
       "<IPython.core.display.HTML object>"
      ]
     },
     "metadata": {},
     "output_type": "display_data"
    },
    {
     "name": "stdout",
     "output_type": "stream",
     "text": [
      "[==================================================]\n",
      "SGD - 64: (0.01, 0.01, 0.0)\n"
     ]
    },
    {
     "data": {
      "text/html": [
       "\n",
       "<style>\n",
       "    /* Turns off some styling */\n",
       "    progress {\n",
       "        /* gets rid of default border in Firefox and Opera. */\n",
       "        border: none;\n",
       "        /* Needs to be in here for Safari polyfill so background images work as expected. */\n",
       "        background-size: auto;\n",
       "    }\n",
       "    progress:not([value]), progress:not([value])::-webkit-progress-bar {\n",
       "        background: repeating-linear-gradient(45deg, #7e7e7e, #7e7e7e 10px, #5c5c5c 10px, #5c5c5c 20px);\n",
       "    }\n",
       "    .progress-bar-interrupted, .progress-bar-interrupted::-webkit-progress-bar {\n",
       "        background: #F44336;\n",
       "    }\n",
       "</style>\n"
      ],
      "text/plain": [
       "<IPython.core.display.HTML object>"
      ]
     },
     "metadata": {},
     "output_type": "display_data"
    },
    {
     "data": {
      "text/html": [
       "[Epoch: 00] Loss (0.978 / 0.581) - Accuracy (75.5% / 89.8%)<p>[Epoch: 01] Loss (0.463 / 0.559) - Accuracy (93.1% / 91.6%)<p>[Epoch: 02] Loss (0.485 / 0.798) - Accuracy (91.4% / 78.4%)<p>[Epoch: 03] Loss (0.471 / 0.793) - Accuracy (91.1% / 79.6%)<p>[Epoch: 04] Loss (0.447 / 0.579) - Accuracy (92.0% / 88.2%)"
      ],
      "text/plain": [
       "<IPython.core.display.HTML object>"
      ]
     },
     "metadata": {},
     "output_type": "display_data"
    },
    {
     "name": "stdout",
     "output_type": "stream",
     "text": [
      "[==================================================]\n",
      "SGD - 64: (0.01, 0.01, 0.3)\n"
     ]
    },
    {
     "data": {
      "text/html": [
       "\n",
       "<style>\n",
       "    /* Turns off some styling */\n",
       "    progress {\n",
       "        /* gets rid of default border in Firefox and Opera. */\n",
       "        border: none;\n",
       "        /* Needs to be in here for Safari polyfill so background images work as expected. */\n",
       "        background-size: auto;\n",
       "    }\n",
       "    progress:not([value]), progress:not([value])::-webkit-progress-bar {\n",
       "        background: repeating-linear-gradient(45deg, #7e7e7e, #7e7e7e 10px, #5c5c5c 10px, #5c5c5c 20px);\n",
       "    }\n",
       "    .progress-bar-interrupted, .progress-bar-interrupted::-webkit-progress-bar {\n",
       "        background: #F44336;\n",
       "    }\n",
       "</style>\n"
      ],
      "text/plain": [
       "<IPython.core.display.HTML object>"
      ]
     },
     "metadata": {},
     "output_type": "display_data"
    },
    {
     "data": {
      "text/html": [
       "[Epoch: 00] Loss (1.916 / 1.254) - Accuracy (36.6% / 78.8%)<p>[Epoch: 01] Loss (1.142 / 0.848) - Accuracy (73.9% / 86.0%)<p>[Epoch: 02] Loss (0.945 / 0.906) - Accuracy (80.2% / 78.6%)<p>[Epoch: 03] Loss (0.929 / 0.776) - Accuracy (79.1% / 87.0%)<p>[Epoch: 04] Loss (0.877 / 0.727) - Accuracy (79.9% / 86.4%)"
      ],
      "text/plain": [
       "<IPython.core.display.HTML object>"
      ]
     },
     "metadata": {},
     "output_type": "display_data"
    },
    {
     "name": "stdout",
     "output_type": "stream",
     "text": [
      "[==================================================]\n",
      "SGD - 128: (0, 0, 0.0)\n"
     ]
    },
    {
     "data": {
      "text/html": [
       "\n",
       "<style>\n",
       "    /* Turns off some styling */\n",
       "    progress {\n",
       "        /* gets rid of default border in Firefox and Opera. */\n",
       "        border: none;\n",
       "        /* Needs to be in here for Safari polyfill so background images work as expected. */\n",
       "        background-size: auto;\n",
       "    }\n",
       "    progress:not([value]), progress:not([value])::-webkit-progress-bar {\n",
       "        background: repeating-linear-gradient(45deg, #7e7e7e, #7e7e7e 10px, #5c5c5c 10px, #5c5c5c 20px);\n",
       "    }\n",
       "    .progress-bar-interrupted, .progress-bar-interrupted::-webkit-progress-bar {\n",
       "        background: #F44336;\n",
       "    }\n",
       "</style>\n"
      ],
      "text/plain": [
       "<IPython.core.display.HTML object>"
      ]
     },
     "metadata": {},
     "output_type": "display_data"
    },
    {
     "data": {
      "text/html": [
       "[Epoch: 00] Loss (1.266 / 0.816) - Accuracy (64.6% / 81.8%)<p>[Epoch: 01] Loss (0.702 / 0.577) - Accuracy (86.2% / 88.6%)<p>[Epoch: 02] Loss (0.518 / 0.469) - Accuracy (90.6% / 90.0%)<p>[Epoch: 03] Loss (0.412 / 0.385) - Accuracy (92.7% / 91.2%)<p>[Epoch: 04] Loss (0.341 / 0.336) - Accuracy (93.8% / 92.8%)"
      ],
      "text/plain": [
       "<IPython.core.display.HTML object>"
      ]
     },
     "metadata": {},
     "output_type": "display_data"
    },
    {
     "name": "stdout",
     "output_type": "stream",
     "text": [
      "[==================================================]\n",
      "SGD - 128: (0, 0, 0.3)\n"
     ]
    },
    {
     "data": {
      "text/html": [
       "\n",
       "<style>\n",
       "    /* Turns off some styling */\n",
       "    progress {\n",
       "        /* gets rid of default border in Firefox and Opera. */\n",
       "        border: none;\n",
       "        /* Needs to be in here for Safari polyfill so background images work as expected. */\n",
       "        background-size: auto;\n",
       "    }\n",
       "    progress:not([value]), progress:not([value])::-webkit-progress-bar {\n",
       "        background: repeating-linear-gradient(45deg, #7e7e7e, #7e7e7e 10px, #5c5c5c 10px, #5c5c5c 20px);\n",
       "    }\n",
       "    .progress-bar-interrupted, .progress-bar-interrupted::-webkit-progress-bar {\n",
       "        background: #F44336;\n",
       "    }\n",
       "</style>\n"
      ],
      "text/plain": [
       "<IPython.core.display.HTML object>"
      ]
     },
     "metadata": {},
     "output_type": "display_data"
    },
    {
     "data": {
      "text/html": [
       "[Epoch: 00] Loss (2.216 / 1.622) - Accuracy (22.2% / 57.0%)<p>[Epoch: 01] Loss (1.650 / 1.261) - Accuracy (46.9% / 72.0%)<p>[Epoch: 02] Loss (1.367 / 1.080) - Accuracy (59.8% / 74.8%)<p>[Epoch: 03] Loss (1.188 / 0.930) - Accuracy (66.3% / 77.8%)<p>[Epoch: 04] Loss (1.064 / 0.822) - Accuracy (70.2% / 80.4%)"
      ],
      "text/plain": [
       "<IPython.core.display.HTML object>"
      ]
     },
     "metadata": {},
     "output_type": "display_data"
    },
    {
     "name": "stdout",
     "output_type": "stream",
     "text": [
      "[==================================================]\n",
      "SGD - 128: (0, 0.001, 0.0)\n"
     ]
    },
    {
     "data": {
      "text/html": [
       "\n",
       "<style>\n",
       "    /* Turns off some styling */\n",
       "    progress {\n",
       "        /* gets rid of default border in Firefox and Opera. */\n",
       "        border: none;\n",
       "        /* Needs to be in here for Safari polyfill so background images work as expected. */\n",
       "        background-size: auto;\n",
       "    }\n",
       "    progress:not([value]), progress:not([value])::-webkit-progress-bar {\n",
       "        background: repeating-linear-gradient(45deg, #7e7e7e, #7e7e7e 10px, #5c5c5c 10px, #5c5c5c 20px);\n",
       "    }\n",
       "    .progress-bar-interrupted, .progress-bar-interrupted::-webkit-progress-bar {\n",
       "        background: #F44336;\n",
       "    }\n",
       "</style>\n"
      ],
      "text/plain": [
       "<IPython.core.display.HTML object>"
      ]
     },
     "metadata": {},
     "output_type": "display_data"
    },
    {
     "data": {
      "text/html": [
       "[Epoch: 00] Loss (1.314 / 0.819) - Accuracy (62.4% / 82.4%)<p>[Epoch: 01] Loss (0.724 / 0.588) - Accuracy (86.3% / 89.0%)<p>[Epoch: 02] Loss (0.536 / 0.458) - Accuracy (90.5% / 91.6%)<p>[Epoch: 03] Loss (0.425 / 0.371) - Accuracy (92.8% / 93.0%)<p>[Epoch: 04] Loss (0.352 / 0.313) - Accuracy (94.0% / 94.2%)"
      ],
      "text/plain": [
       "<IPython.core.display.HTML object>"
      ]
     },
     "metadata": {},
     "output_type": "display_data"
    },
    {
     "name": "stdout",
     "output_type": "stream",
     "text": [
      "[==================================================]\n",
      "SGD - 128: (0, 0.001, 0.3)\n"
     ]
    },
    {
     "data": {
      "text/html": [
       "\n",
       "<style>\n",
       "    /* Turns off some styling */\n",
       "    progress {\n",
       "        /* gets rid of default border in Firefox and Opera. */\n",
       "        border: none;\n",
       "        /* Needs to be in here for Safari polyfill so background images work as expected. */\n",
       "        background-size: auto;\n",
       "    }\n",
       "    progress:not([value]), progress:not([value])::-webkit-progress-bar {\n",
       "        background: repeating-linear-gradient(45deg, #7e7e7e, #7e7e7e 10px, #5c5c5c 10px, #5c5c5c 20px);\n",
       "    }\n",
       "    .progress-bar-interrupted, .progress-bar-interrupted::-webkit-progress-bar {\n",
       "        background: #F44336;\n",
       "    }\n",
       "</style>\n"
      ],
      "text/plain": [
       "<IPython.core.display.HTML object>"
      ]
     },
     "metadata": {},
     "output_type": "display_data"
    },
    {
     "data": {
      "text/html": [
       "[Epoch: 00] Loss (2.263 / 1.494) - Accuracy (20.2% / 61.6%)<p>[Epoch: 01] Loss (1.552 / 1.117) - Accuracy (50.4% / 76.8%)<p>[Epoch: 02] Loss (1.249 / 0.915) - Accuracy (64.7% / 80.4%)<p>[Epoch: 03] Loss (1.067 / 0.779) - Accuracy (71.3% / 82.0%)<p>[Epoch: 04] Loss (0.941 / 0.673) - Accuracy (74.8% / 83.6%)"
      ],
      "text/plain": [
       "<IPython.core.display.HTML object>"
      ]
     },
     "metadata": {},
     "output_type": "display_data"
    },
    {
     "name": "stdout",
     "output_type": "stream",
     "text": [
      "[==================================================]\n",
      "SGD - 128: (0, 0.01, 0.0)\n"
     ]
    },
    {
     "data": {
      "text/html": [
       "\n",
       "<style>\n",
       "    /* Turns off some styling */\n",
       "    progress {\n",
       "        /* gets rid of default border in Firefox and Opera. */\n",
       "        border: none;\n",
       "        /* Needs to be in here for Safari polyfill so background images work as expected. */\n",
       "        background-size: auto;\n",
       "    }\n",
       "    progress:not([value]), progress:not([value])::-webkit-progress-bar {\n",
       "        background: repeating-linear-gradient(45deg, #7e7e7e, #7e7e7e 10px, #5c5c5c 10px, #5c5c5c 20px);\n",
       "    }\n",
       "    .progress-bar-interrupted, .progress-bar-interrupted::-webkit-progress-bar {\n",
       "        background: #F44336;\n",
       "    }\n",
       "</style>\n"
      ],
      "text/plain": [
       "<IPython.core.display.HTML object>"
      ]
     },
     "metadata": {},
     "output_type": "display_data"
    },
    {
     "data": {
      "text/html": [
       "[Epoch: 00] Loss (1.307 / 0.767) - Accuracy (63.7% / 84.2%)<p>[Epoch: 01] Loss (0.636 / 0.530) - Accuracy (88.8% / 91.4%)<p>[Epoch: 02] Loss (0.444 / 0.411) - Accuracy (93.4% / 94.6%)<p>[Epoch: 03] Loss (0.336 / 0.347) - Accuracy (95.6% / 96.2%)<p>[Epoch: 04] Loss (0.317 / 0.450) - Accuracy (95.3% / 93.6%)"
      ],
      "text/plain": [
       "<IPython.core.display.HTML object>"
      ]
     },
     "metadata": {},
     "output_type": "display_data"
    },
    {
     "name": "stdout",
     "output_type": "stream",
     "text": [
      "[==================================================]\n",
      "SGD - 128: (0, 0.01, 0.3)\n"
     ]
    },
    {
     "data": {
      "text/html": [
       "\n",
       "<style>\n",
       "    /* Turns off some styling */\n",
       "    progress {\n",
       "        /* gets rid of default border in Firefox and Opera. */\n",
       "        border: none;\n",
       "        /* Needs to be in here for Safari polyfill so background images work as expected. */\n",
       "        background-size: auto;\n",
       "    }\n",
       "    progress:not([value]), progress:not([value])::-webkit-progress-bar {\n",
       "        background: repeating-linear-gradient(45deg, #7e7e7e, #7e7e7e 10px, #5c5c5c 10px, #5c5c5c 20px);\n",
       "    }\n",
       "    .progress-bar-interrupted, .progress-bar-interrupted::-webkit-progress-bar {\n",
       "        background: #F44336;\n",
       "    }\n",
       "</style>\n"
      ],
      "text/plain": [
       "<IPython.core.display.HTML object>"
      ]
     },
     "metadata": {},
     "output_type": "display_data"
    },
    {
     "data": {
      "text/html": [
       "[Epoch: 00] Loss (2.251 / 1.597) - Accuracy (23.9% / 63.4%)<p>[Epoch: 01] Loss (1.601 / 1.232) - Accuracy (50.8% / 73.0%)<p>[Epoch: 02] Loss (1.263 / 0.977) - Accuracy (66.3% / 81.2%)<p>[Epoch: 03] Loss (1.014 / 0.787) - Accuracy (75.7% / 86.2%)<p>[Epoch: 04] Loss (0.837 / 0.755) - Accuracy (81.8% / 83.0%)"
      ],
      "text/plain": [
       "<IPython.core.display.HTML object>"
      ]
     },
     "metadata": {},
     "output_type": "display_data"
    },
    {
     "name": "stdout",
     "output_type": "stream",
     "text": [
      "[==================================================]\n",
      "SGD - 128: (0.001, 0, 0.0)\n"
     ]
    },
    {
     "data": {
      "text/html": [
       "\n",
       "<style>\n",
       "    /* Turns off some styling */\n",
       "    progress {\n",
       "        /* gets rid of default border in Firefox and Opera. */\n",
       "        border: none;\n",
       "        /* Needs to be in here for Safari polyfill so background images work as expected. */\n",
       "        background-size: auto;\n",
       "    }\n",
       "    progress:not([value]), progress:not([value])::-webkit-progress-bar {\n",
       "        background: repeating-linear-gradient(45deg, #7e7e7e, #7e7e7e 10px, #5c5c5c 10px, #5c5c5c 20px);\n",
       "    }\n",
       "    .progress-bar-interrupted, .progress-bar-interrupted::-webkit-progress-bar {\n",
       "        background: #F44336;\n",
       "    }\n",
       "</style>\n"
      ],
      "text/plain": [
       "<IPython.core.display.HTML object>"
      ]
     },
     "metadata": {},
     "output_type": "display_data"
    },
    {
     "data": {
      "text/html": [
       "[Epoch: 00] Loss (1.350 / 0.794) - Accuracy (59.9% / 82.6%)<p>[Epoch: 01] Loss (0.717 / 0.563) - Accuracy (86.3% / 89.2%)<p>[Epoch: 02] Loss (0.532 / 0.437) - Accuracy (90.6% / 91.8%)<p>[Epoch: 03] Loss (0.423 / 0.360) - Accuracy (92.8% / 93.2%)<p>[Epoch: 04] Loss (0.353 / 0.304) - Accuracy (93.8% / 94.4%)"
      ],
      "text/plain": [
       "<IPython.core.display.HTML object>"
      ]
     },
     "metadata": {},
     "output_type": "display_data"
    },
    {
     "name": "stdout",
     "output_type": "stream",
     "text": [
      "[==================================================]\n",
      "SGD - 128: (0.001, 0, 0.3)\n"
     ]
    },
    {
     "data": {
      "text/html": [
       "\n",
       "<style>\n",
       "    /* Turns off some styling */\n",
       "    progress {\n",
       "        /* gets rid of default border in Firefox and Opera. */\n",
       "        border: none;\n",
       "        /* Needs to be in here for Safari polyfill so background images work as expected. */\n",
       "        background-size: auto;\n",
       "    }\n",
       "    progress:not([value]), progress:not([value])::-webkit-progress-bar {\n",
       "        background: repeating-linear-gradient(45deg, #7e7e7e, #7e7e7e 10px, #5c5c5c 10px, #5c5c5c 20px);\n",
       "    }\n",
       "    .progress-bar-interrupted, .progress-bar-interrupted::-webkit-progress-bar {\n",
       "        background: #F44336;\n",
       "    }\n",
       "</style>\n"
      ],
      "text/plain": [
       "<IPython.core.display.HTML object>"
      ]
     },
     "metadata": {},
     "output_type": "display_data"
    },
    {
     "data": {
      "text/html": [
       "[Epoch: 00] Loss (2.223 / 1.584) - Accuracy (23.7% / 48.4%)<p>[Epoch: 01] Loss (1.648 / 1.254) - Accuracy (45.0% / 73.6%)<p>[Epoch: 02] Loss (1.363 / 1.036) - Accuracy (59.3% / 82.0%)<p>[Epoch: 03] Loss (1.193 / 0.872) - Accuracy (66.6% / 82.8%)<p>[Epoch: 04] Loss (1.051 / 0.753) - Accuracy (71.3% / 84.2%)"
      ],
      "text/plain": [
       "<IPython.core.display.HTML object>"
      ]
     },
     "metadata": {},
     "output_type": "display_data"
    },
    {
     "name": "stdout",
     "output_type": "stream",
     "text": [
      "[==================================================]\n",
      "SGD - 128: (0.001, 0.001, 0.0)\n"
     ]
    },
    {
     "data": {
      "text/html": [
       "\n",
       "<style>\n",
       "    /* Turns off some styling */\n",
       "    progress {\n",
       "        /* gets rid of default border in Firefox and Opera. */\n",
       "        border: none;\n",
       "        /* Needs to be in here for Safari polyfill so background images work as expected. */\n",
       "        background-size: auto;\n",
       "    }\n",
       "    progress:not([value]), progress:not([value])::-webkit-progress-bar {\n",
       "        background: repeating-linear-gradient(45deg, #7e7e7e, #7e7e7e 10px, #5c5c5c 10px, #5c5c5c 20px);\n",
       "    }\n",
       "    .progress-bar-interrupted, .progress-bar-interrupted::-webkit-progress-bar {\n",
       "        background: #F44336;\n",
       "    }\n",
       "</style>\n"
      ],
      "text/plain": [
       "<IPython.core.display.HTML object>"
      ]
     },
     "metadata": {},
     "output_type": "display_data"
    },
    {
     "data": {
      "text/html": [
       "[Epoch: 00] Loss (1.278 / 0.794) - Accuracy (62.7% / 84.2%)<p>[Epoch: 01] Loss (0.689 / 0.546) - Accuracy (87.2% / 91.2%)<p>[Epoch: 02] Loss (0.509 / 0.430) - Accuracy (91.0% / 92.8%)<p>[Epoch: 03] Loss (0.407 / 0.352) - Accuracy (93.0% / 93.8%)<p>[Epoch: 04] Loss (0.338 / 0.298) - Accuracy (94.3% / 94.2%)"
      ],
      "text/plain": [
       "<IPython.core.display.HTML object>"
      ]
     },
     "metadata": {},
     "output_type": "display_data"
    },
    {
     "name": "stdout",
     "output_type": "stream",
     "text": [
      "[==================================================]\n",
      "SGD - 128: (0.001, 0.001, 0.3)\n"
     ]
    },
    {
     "data": {
      "text/html": [
       "\n",
       "<style>\n",
       "    /* Turns off some styling */\n",
       "    progress {\n",
       "        /* gets rid of default border in Firefox and Opera. */\n",
       "        border: none;\n",
       "        /* Needs to be in here for Safari polyfill so background images work as expected. */\n",
       "        background-size: auto;\n",
       "    }\n",
       "    progress:not([value]), progress:not([value])::-webkit-progress-bar {\n",
       "        background: repeating-linear-gradient(45deg, #7e7e7e, #7e7e7e 10px, #5c5c5c 10px, #5c5c5c 20px);\n",
       "    }\n",
       "    .progress-bar-interrupted, .progress-bar-interrupted::-webkit-progress-bar {\n",
       "        background: #F44336;\n",
       "    }\n",
       "</style>\n"
      ],
      "text/plain": [
       "<IPython.core.display.HTML object>"
      ]
     },
     "metadata": {},
     "output_type": "display_data"
    },
    {
     "data": {
      "text/html": [
       "[Epoch: 00] Loss (2.194 / 1.594) - Accuracy (25.2% / 59.6%)<p>[Epoch: 01] Loss (1.623 / 1.282) - Accuracy (48.4% / 71.6%)<p>[Epoch: 02] Loss (1.348 / 1.057) - Accuracy (60.9% / 78.0%)<p>[Epoch: 03] Loss (1.179 / 0.902) - Accuracy (67.2% / 81.2%)<p>[Epoch: 04] Loss (1.050 / 0.787) - Accuracy (71.7% / 84.4%)"
      ],
      "text/plain": [
       "<IPython.core.display.HTML object>"
      ]
     },
     "metadata": {},
     "output_type": "display_data"
    },
    {
     "name": "stdout",
     "output_type": "stream",
     "text": [
      "[==================================================]\n",
      "SGD - 128: (0.001, 0.01, 0.0)\n"
     ]
    },
    {
     "data": {
      "text/html": [
       "\n",
       "<style>\n",
       "    /* Turns off some styling */\n",
       "    progress {\n",
       "        /* gets rid of default border in Firefox and Opera. */\n",
       "        border: none;\n",
       "        /* Needs to be in here for Safari polyfill so background images work as expected. */\n",
       "        background-size: auto;\n",
       "    }\n",
       "    progress:not([value]), progress:not([value])::-webkit-progress-bar {\n",
       "        background: repeating-linear-gradient(45deg, #7e7e7e, #7e7e7e 10px, #5c5c5c 10px, #5c5c5c 20px);\n",
       "    }\n",
       "    .progress-bar-interrupted, .progress-bar-interrupted::-webkit-progress-bar {\n",
       "        background: #F44336;\n",
       "    }\n",
       "</style>\n"
      ],
      "text/plain": [
       "<IPython.core.display.HTML object>"
      ]
     },
     "metadata": {},
     "output_type": "display_data"
    },
    {
     "data": {
      "text/html": [
       "[Epoch: 00] Loss (1.281 / 0.842) - Accuracy (65.4% / 84.6%)<p>[Epoch: 01] Loss (0.711 / 0.611) - Accuracy (87.6% / 90.6%)<p>[Epoch: 02] Loss (0.519 / 0.474) - Accuracy (92.1% / 93.0%)<p>[Epoch: 03] Loss (0.398 / 0.408) - Accuracy (94.6% / 94.4%)<p>[Epoch: 04] Loss (0.370 / 0.787) - Accuracy (94.4% / 79.8%)"
      ],
      "text/plain": [
       "<IPython.core.display.HTML object>"
      ]
     },
     "metadata": {},
     "output_type": "display_data"
    },
    {
     "name": "stdout",
     "output_type": "stream",
     "text": [
      "[==================================================]\n",
      "SGD - 128: (0.001, 0.01, 0.3)\n"
     ]
    },
    {
     "data": {
      "text/html": [
       "\n",
       "<style>\n",
       "    /* Turns off some styling */\n",
       "    progress {\n",
       "        /* gets rid of default border in Firefox and Opera. */\n",
       "        border: none;\n",
       "        /* Needs to be in here for Safari polyfill so background images work as expected. */\n",
       "        background-size: auto;\n",
       "    }\n",
       "    progress:not([value]), progress:not([value])::-webkit-progress-bar {\n",
       "        background: repeating-linear-gradient(45deg, #7e7e7e, #7e7e7e 10px, #5c5c5c 10px, #5c5c5c 20px);\n",
       "    }\n",
       "    .progress-bar-interrupted, .progress-bar-interrupted::-webkit-progress-bar {\n",
       "        background: #F44336;\n",
       "    }\n",
       "</style>\n"
      ],
      "text/plain": [
       "<IPython.core.display.HTML object>"
      ]
     },
     "metadata": {},
     "output_type": "display_data"
    },
    {
     "data": {
      "text/html": [
       "[Epoch: 00] Loss (2.204 / 1.565) - Accuracy (24.5% / 59.4%)<p>[Epoch: 01] Loss (1.545 / 1.171) - Accuracy (53.1% / 73.6%)<p>[Epoch: 02] Loss (1.206 / 0.931) - Accuracy (68.5% / 81.8%)<p>[Epoch: 03] Loss (0.964 / 0.760) - Accuracy (78.1% / 85.0%)<p>[Epoch: 04] Loss (0.822 / 0.629) - Accuracy (82.0% / 88.2%)"
      ],
      "text/plain": [
       "<IPython.core.display.HTML object>"
      ]
     },
     "metadata": {},
     "output_type": "display_data"
    },
    {
     "name": "stdout",
     "output_type": "stream",
     "text": [
      "[==================================================]\n",
      "SGD - 128: (0.01, 0, 0.0)\n"
     ]
    },
    {
     "data": {
      "text/html": [
       "\n",
       "<style>\n",
       "    /* Turns off some styling */\n",
       "    progress {\n",
       "        /* gets rid of default border in Firefox and Opera. */\n",
       "        border: none;\n",
       "        /* Needs to be in here for Safari polyfill so background images work as expected. */\n",
       "        background-size: auto;\n",
       "    }\n",
       "    progress:not([value]), progress:not([value])::-webkit-progress-bar {\n",
       "        background: repeating-linear-gradient(45deg, #7e7e7e, #7e7e7e 10px, #5c5c5c 10px, #5c5c5c 20px);\n",
       "    }\n",
       "    .progress-bar-interrupted, .progress-bar-interrupted::-webkit-progress-bar {\n",
       "        background: #F44336;\n",
       "    }\n",
       "</style>\n"
      ],
      "text/plain": [
       "<IPython.core.display.HTML object>"
      ]
     },
     "metadata": {},
     "output_type": "display_data"
    },
    {
     "data": {
      "text/html": [
       "[Epoch: 00] Loss (1.435 / 0.910) - Accuracy (55.8% / 79.6%)<p>[Epoch: 01] Loss (0.816 / 0.659) - Accuracy (83.5% / 87.4%)<p>[Epoch: 02] Loss (0.620 / 0.541) - Accuracy (89.4% / 90.6%)<p>[Epoch: 03] Loss (0.509 / 0.459) - Accuracy (91.7% / 92.4%)<p>[Epoch: 04] Loss (0.432 / 0.395) - Accuracy (93.2% / 93.0%)"
      ],
      "text/plain": [
       "<IPython.core.display.HTML object>"
      ]
     },
     "metadata": {},
     "output_type": "display_data"
    },
    {
     "name": "stdout",
     "output_type": "stream",
     "text": [
      "[==================================================]\n",
      "SGD - 128: (0.01, 0, 0.3)\n"
     ]
    },
    {
     "data": {
      "text/html": [
       "\n",
       "<style>\n",
       "    /* Turns off some styling */\n",
       "    progress {\n",
       "        /* gets rid of default border in Firefox and Opera. */\n",
       "        border: none;\n",
       "        /* Needs to be in here for Safari polyfill so background images work as expected. */\n",
       "        background-size: auto;\n",
       "    }\n",
       "    progress:not([value]), progress:not([value])::-webkit-progress-bar {\n",
       "        background: repeating-linear-gradient(45deg, #7e7e7e, #7e7e7e 10px, #5c5c5c 10px, #5c5c5c 20px);\n",
       "    }\n",
       "    .progress-bar-interrupted, .progress-bar-interrupted::-webkit-progress-bar {\n",
       "        background: #F44336;\n",
       "    }\n",
       "</style>\n"
      ],
      "text/plain": [
       "<IPython.core.display.HTML object>"
      ]
     },
     "metadata": {},
     "output_type": "display_data"
    },
    {
     "data": {
      "text/html": [
       "[Epoch: 00] Loss (2.274 / 1.652) - Accuracy (23.3% / 54.4%)<p>[Epoch: 01] Loss (1.717 / 1.314) - Accuracy (45.1% / 72.4%)<p>[Epoch: 02] Loss (1.443 / 1.121) - Accuracy (58.5% / 79.6%)<p>[Epoch: 03] Loss (1.269 / 0.977) - Accuracy (66.5% / 81.8%)<p>[Epoch: 04] Loss (1.134 / 0.849) - Accuracy (71.8% / 84.8%)"
      ],
      "text/plain": [
       "<IPython.core.display.HTML object>"
      ]
     },
     "metadata": {},
     "output_type": "display_data"
    },
    {
     "name": "stdout",
     "output_type": "stream",
     "text": [
      "[==================================================]\n",
      "SGD - 128: (0.01, 0.001, 0.0)\n"
     ]
    },
    {
     "data": {
      "text/html": [
       "\n",
       "<style>\n",
       "    /* Turns off some styling */\n",
       "    progress {\n",
       "        /* gets rid of default border in Firefox and Opera. */\n",
       "        border: none;\n",
       "        /* Needs to be in here for Safari polyfill so background images work as expected. */\n",
       "        background-size: auto;\n",
       "    }\n",
       "    progress:not([value]), progress:not([value])::-webkit-progress-bar {\n",
       "        background: repeating-linear-gradient(45deg, #7e7e7e, #7e7e7e 10px, #5c5c5c 10px, #5c5c5c 20px);\n",
       "    }\n",
       "    .progress-bar-interrupted, .progress-bar-interrupted::-webkit-progress-bar {\n",
       "        background: #F44336;\n",
       "    }\n",
       "</style>\n"
      ],
      "text/plain": [
       "<IPython.core.display.HTML object>"
      ]
     },
     "metadata": {},
     "output_type": "display_data"
    },
    {
     "data": {
      "text/html": [
       "[Epoch: 00] Loss (1.343 / 0.844) - Accuracy (62.1% / 82.2%)<p>[Epoch: 01] Loss (0.727 / 0.617) - Accuracy (86.5% / 88.6%)<p>[Epoch: 02] Loss (0.547 / 0.492) - Accuracy (91.3% / 91.2%)<p>[Epoch: 03] Loss (0.449 / 0.425) - Accuracy (93.2% / 92.4%)<p>[Epoch: 04] Loss (0.384 / 0.374) - Accuracy (94.2% / 93.0%)"
      ],
      "text/plain": [
       "<IPython.core.display.HTML object>"
      ]
     },
     "metadata": {},
     "output_type": "display_data"
    },
    {
     "name": "stdout",
     "output_type": "stream",
     "text": [
      "[==================================================]\n",
      "SGD - 128: (0.01, 0.001, 0.3)\n"
     ]
    },
    {
     "data": {
      "text/html": [
       "\n",
       "<style>\n",
       "    /* Turns off some styling */\n",
       "    progress {\n",
       "        /* gets rid of default border in Firefox and Opera. */\n",
       "        border: none;\n",
       "        /* Needs to be in here for Safari polyfill so background images work as expected. */\n",
       "        background-size: auto;\n",
       "    }\n",
       "    progress:not([value]), progress:not([value])::-webkit-progress-bar {\n",
       "        background: repeating-linear-gradient(45deg, #7e7e7e, #7e7e7e 10px, #5c5c5c 10px, #5c5c5c 20px);\n",
       "    }\n",
       "    .progress-bar-interrupted, .progress-bar-interrupted::-webkit-progress-bar {\n",
       "        background: #F44336;\n",
       "    }\n",
       "</style>\n"
      ],
      "text/plain": [
       "<IPython.core.display.HTML object>"
      ]
     },
     "metadata": {},
     "output_type": "display_data"
    },
    {
     "data": {
      "text/html": [
       "[Epoch: 00] Loss (2.164 / 1.564) - Accuracy (24.6% / 64.4%)<p>[Epoch: 01] Loss (1.575 / 1.222) - Accuracy (51.5% / 76.0%)<p>[Epoch: 02] Loss (1.320 / 1.042) - Accuracy (64.0% / 79.2%)<p>[Epoch: 03] Loss (1.150 / 0.907) - Accuracy (70.3% / 81.8%)<p>[Epoch: 04] Loss (1.028 / 0.789) - Accuracy (74.6% / 84.2%)"
      ],
      "text/plain": [
       "<IPython.core.display.HTML object>"
      ]
     },
     "metadata": {},
     "output_type": "display_data"
    },
    {
     "name": "stdout",
     "output_type": "stream",
     "text": [
      "[==================================================]\n",
      "SGD - 128: (0.01, 0.01, 0.0)\n"
     ]
    },
    {
     "data": {
      "text/html": [
       "\n",
       "<style>\n",
       "    /* Turns off some styling */\n",
       "    progress {\n",
       "        /* gets rid of default border in Firefox and Opera. */\n",
       "        border: none;\n",
       "        /* Needs to be in here for Safari polyfill so background images work as expected. */\n",
       "        background-size: auto;\n",
       "    }\n",
       "    progress:not([value]), progress:not([value])::-webkit-progress-bar {\n",
       "        background: repeating-linear-gradient(45deg, #7e7e7e, #7e7e7e 10px, #5c5c5c 10px, #5c5c5c 20px);\n",
       "    }\n",
       "    .progress-bar-interrupted, .progress-bar-interrupted::-webkit-progress-bar {\n",
       "        background: #F44336;\n",
       "    }\n",
       "</style>\n"
      ],
      "text/plain": [
       "<IPython.core.display.HTML object>"
      ]
     },
     "metadata": {},
     "output_type": "display_data"
    },
    {
     "data": {
      "text/html": [
       "[Epoch: 00] Loss (1.346 / 0.903) - Accuracy (59.6% / 80.6%)<p>[Epoch: 01] Loss (0.767 / 0.671) - Accuracy (84.4% / 89.6%)<p>[Epoch: 02] Loss (0.571 / 0.545) - Accuracy (91.3% / 92.6%)<p>[Epoch: 03] Loss (0.447 / 0.487) - Accuracy (94.2% / 94.6%)<p>[Epoch: 04] Loss (0.453 / 0.541) - Accuracy (93.5% / 87.8%)"
      ],
      "text/plain": [
       "<IPython.core.display.HTML object>"
      ]
     },
     "metadata": {},
     "output_type": "display_data"
    },
    {
     "name": "stdout",
     "output_type": "stream",
     "text": [
      "[==================================================]\n",
      "SGD - 128: (0.01, 0.01, 0.3)\n"
     ]
    },
    {
     "data": {
      "text/html": [
       "\n",
       "<style>\n",
       "    /* Turns off some styling */\n",
       "    progress {\n",
       "        /* gets rid of default border in Firefox and Opera. */\n",
       "        border: none;\n",
       "        /* Needs to be in here for Safari polyfill so background images work as expected. */\n",
       "        background-size: auto;\n",
       "    }\n",
       "    progress:not([value]), progress:not([value])::-webkit-progress-bar {\n",
       "        background: repeating-linear-gradient(45deg, #7e7e7e, #7e7e7e 10px, #5c5c5c 10px, #5c5c5c 20px);\n",
       "    }\n",
       "    .progress-bar-interrupted, .progress-bar-interrupted::-webkit-progress-bar {\n",
       "        background: #F44336;\n",
       "    }\n",
       "</style>\n"
      ],
      "text/plain": [
       "<IPython.core.display.HTML object>"
      ]
     },
     "metadata": {},
     "output_type": "display_data"
    },
    {
     "data": {
      "text/html": [
       "[Epoch: 00] Loss (2.197 / 1.508) - Accuracy (23.7% / 65.2%)<p>[Epoch: 01] Loss (1.521 / 1.151) - Accuracy (53.2% / 80.8%)<p>[Epoch: 02] Loss (1.193 / 0.948) - Accuracy (70.0% / 84.4%)<p>[Epoch: 03] Loss (0.979 / 0.784) - Accuracy (78.8% / 87.4%)<p>[Epoch: 04] Loss (0.863 / 0.720) - Accuracy (82.3% / 87.2%)"
      ],
      "text/plain": [
       "<IPython.core.display.HTML object>"
      ]
     },
     "metadata": {},
     "output_type": "display_data"
    },
    {
     "name": "stdout",
     "output_type": "stream",
     "text": [
      "[==================================================]\n",
      "SGD - 256: (0, 0, 0.0)\n"
     ]
    },
    {
     "data": {
      "text/html": [
       "\n",
       "<style>\n",
       "    /* Turns off some styling */\n",
       "    progress {\n",
       "        /* gets rid of default border in Firefox and Opera. */\n",
       "        border: none;\n",
       "        /* Needs to be in here for Safari polyfill so background images work as expected. */\n",
       "        background-size: auto;\n",
       "    }\n",
       "    progress:not([value]), progress:not([value])::-webkit-progress-bar {\n",
       "        background: repeating-linear-gradient(45deg, #7e7e7e, #7e7e7e 10px, #5c5c5c 10px, #5c5c5c 20px);\n",
       "    }\n",
       "    .progress-bar-interrupted, .progress-bar-interrupted::-webkit-progress-bar {\n",
       "        background: #F44336;\n",
       "    }\n",
       "</style>\n"
      ],
      "text/plain": [
       "<IPython.core.display.HTML object>"
      ]
     },
     "metadata": {},
     "output_type": "display_data"
    },
    {
     "data": {
      "text/html": [
       "[Epoch: 00] Loss (1.759 / 1.176) - Accuracy (42.5% / 68.0%)<p>[Epoch: 01] Loss (1.103 / 0.887) - Accuracy (72.4% / 77.4%)<p>[Epoch: 02] Loss (0.867 / 0.737) - Accuracy (81.7% / 83.2%)<p>[Epoch: 03] Loss (0.721 / 0.630) - Accuracy (86.3% / 87.6%)<p>[Epoch: 04] Loss (0.619 / 0.553) - Accuracy (88.9% / 89.4%)"
      ],
      "text/plain": [
       "<IPython.core.display.HTML object>"
      ]
     },
     "metadata": {},
     "output_type": "display_data"
    },
    {
     "name": "stdout",
     "output_type": "stream",
     "text": [
      "[==================================================]\n",
      "SGD - 256: (0, 0, 0.3)\n"
     ]
    },
    {
     "data": {
      "text/html": [
       "\n",
       "<style>\n",
       "    /* Turns off some styling */\n",
       "    progress {\n",
       "        /* gets rid of default border in Firefox and Opera. */\n",
       "        border: none;\n",
       "        /* Needs to be in here for Safari polyfill so background images work as expected. */\n",
       "        background-size: auto;\n",
       "    }\n",
       "    progress:not([value]), progress:not([value])::-webkit-progress-bar {\n",
       "        background: repeating-linear-gradient(45deg, #7e7e7e, #7e7e7e 10px, #5c5c5c 10px, #5c5c5c 20px);\n",
       "    }\n",
       "    .progress-bar-interrupted, .progress-bar-interrupted::-webkit-progress-bar {\n",
       "        background: #F44336;\n",
       "    }\n",
       "</style>\n"
      ],
      "text/plain": [
       "<IPython.core.display.HTML object>"
      ]
     },
     "metadata": {},
     "output_type": "display_data"
    },
    {
     "data": {
      "text/html": [
       "[Epoch: 00] Loss (2.399 / 1.808) - Accuracy (18.1% / 40.0%)<p>[Epoch: 01] Loss (1.993 / 1.483) - Accuracy (31.5% / 58.8%)<p>[Epoch: 02] Loss (1.720 / 1.273) - Accuracy (43.7% / 70.2%)<p>[Epoch: 03] Loss (1.513 / 1.117) - Accuracy (53.4% / 75.4%)<p>[Epoch: 04] Loss (1.362 / 1.013) - Accuracy (60.4% / 76.6%)"
      ],
      "text/plain": [
       "<IPython.core.display.HTML object>"
      ]
     },
     "metadata": {},
     "output_type": "display_data"
    },
    {
     "name": "stdout",
     "output_type": "stream",
     "text": [
      "[==================================================]\n",
      "SGD - 256: (0, 0.001, 0.0)\n"
     ]
    },
    {
     "data": {
      "text/html": [
       "\n",
       "<style>\n",
       "    /* Turns off some styling */\n",
       "    progress {\n",
       "        /* gets rid of default border in Firefox and Opera. */\n",
       "        border: none;\n",
       "        /* Needs to be in here for Safari polyfill so background images work as expected. */\n",
       "        background-size: auto;\n",
       "    }\n",
       "    progress:not([value]), progress:not([value])::-webkit-progress-bar {\n",
       "        background: repeating-linear-gradient(45deg, #7e7e7e, #7e7e7e 10px, #5c5c5c 10px, #5c5c5c 20px);\n",
       "    }\n",
       "    .progress-bar-interrupted, .progress-bar-interrupted::-webkit-progress-bar {\n",
       "        background: #F44336;\n",
       "    }\n",
       "</style>\n"
      ],
      "text/plain": [
       "<IPython.core.display.HTML object>"
      ]
     },
     "metadata": {},
     "output_type": "display_data"
    },
    {
     "data": {
      "text/html": [
       "[Epoch: 00] Loss (1.534 / 0.990) - Accuracy (54.7% / 78.6%)<p>[Epoch: 01] Loss (0.890 / 0.755) - Accuracy (82.2% / 86.6%)<p>[Epoch: 02] Loss (0.702 / 0.634) - Accuracy (87.3% / 89.4%)<p>[Epoch: 03] Loss (0.594 / 0.543) - Accuracy (89.5% / 90.6%)<p>[Epoch: 04] Loss (0.516 / 0.479) - Accuracy (91.2% / 92.2%)"
      ],
      "text/plain": [
       "<IPython.core.display.HTML object>"
      ]
     },
     "metadata": {},
     "output_type": "display_data"
    },
    {
     "name": "stdout",
     "output_type": "stream",
     "text": [
      "[==================================================]\n",
      "SGD - 256: (0, 0.001, 0.3)\n"
     ]
    },
    {
     "data": {
      "text/html": [
       "\n",
       "<style>\n",
       "    /* Turns off some styling */\n",
       "    progress {\n",
       "        /* gets rid of default border in Firefox and Opera. */\n",
       "        border: none;\n",
       "        /* Needs to be in here for Safari polyfill so background images work as expected. */\n",
       "        background-size: auto;\n",
       "    }\n",
       "    progress:not([value]), progress:not([value])::-webkit-progress-bar {\n",
       "        background: repeating-linear-gradient(45deg, #7e7e7e, #7e7e7e 10px, #5c5c5c 10px, #5c5c5c 20px);\n",
       "    }\n",
       "    .progress-bar-interrupted, .progress-bar-interrupted::-webkit-progress-bar {\n",
       "        background: #F44336;\n",
       "    }\n",
       "</style>\n"
      ],
      "text/plain": [
       "<IPython.core.display.HTML object>"
      ]
     },
     "metadata": {},
     "output_type": "display_data"
    },
    {
     "data": {
      "text/html": [
       "[Epoch: 00] Loss (2.467 / 2.012) - Accuracy (14.9% / 37.8%)<p>[Epoch: 01] Loss (2.086 / 1.663) - Accuracy (28.7% / 55.0%)<p>[Epoch: 02] Loss (1.806 / 1.445) - Accuracy (40.3% / 62.4%)<p>[Epoch: 03] Loss (1.609 / 1.285) - Accuracy (49.3% / 67.2%)<p>[Epoch: 04] Loss (1.462 / 1.170) - Accuracy (55.3% / 71.6%)"
      ],
      "text/plain": [
       "<IPython.core.display.HTML object>"
      ]
     },
     "metadata": {},
     "output_type": "display_data"
    },
    {
     "name": "stdout",
     "output_type": "stream",
     "text": [
      "[==================================================]\n",
      "SGD - 256: (0, 0.01, 0.0)\n"
     ]
    },
    {
     "data": {
      "text/html": [
       "\n",
       "<style>\n",
       "    /* Turns off some styling */\n",
       "    progress {\n",
       "        /* gets rid of default border in Firefox and Opera. */\n",
       "        border: none;\n",
       "        /* Needs to be in here for Safari polyfill so background images work as expected. */\n",
       "        background-size: auto;\n",
       "    }\n",
       "    progress:not([value]), progress:not([value])::-webkit-progress-bar {\n",
       "        background: repeating-linear-gradient(45deg, #7e7e7e, #7e7e7e 10px, #5c5c5c 10px, #5c5c5c 20px);\n",
       "    }\n",
       "    .progress-bar-interrupted, .progress-bar-interrupted::-webkit-progress-bar {\n",
       "        background: #F44336;\n",
       "    }\n",
       "</style>\n"
      ],
      "text/plain": [
       "<IPython.core.display.HTML object>"
      ]
     },
     "metadata": {},
     "output_type": "display_data"
    },
    {
     "data": {
      "text/html": [
       "[Epoch: 00] Loss (1.665 / 1.136) - Accuracy (49.4% / 71.2%)<p>[Epoch: 01] Loss (0.952 / 0.831) - Accuracy (78.8% / 83.0%)<p>[Epoch: 02] Loss (0.739 / 0.686) - Accuracy (86.0% / 86.8%)<p>[Epoch: 03] Loss (0.608 / 0.578) - Accuracy (89.7% / 91.8%)<p>[Epoch: 04] Loss (0.516 / 0.500) - Accuracy (91.7% / 92.8%)"
      ],
      "text/plain": [
       "<IPython.core.display.HTML object>"
      ]
     },
     "metadata": {},
     "output_type": "display_data"
    },
    {
     "name": "stdout",
     "output_type": "stream",
     "text": [
      "[==================================================]\n",
      "SGD - 256: (0, 0.01, 0.3)\n"
     ]
    },
    {
     "data": {
      "text/html": [
       "\n",
       "<style>\n",
       "    /* Turns off some styling */\n",
       "    progress {\n",
       "        /* gets rid of default border in Firefox and Opera. */\n",
       "        border: none;\n",
       "        /* Needs to be in here for Safari polyfill so background images work as expected. */\n",
       "        background-size: auto;\n",
       "    }\n",
       "    progress:not([value]), progress:not([value])::-webkit-progress-bar {\n",
       "        background: repeating-linear-gradient(45deg, #7e7e7e, #7e7e7e 10px, #5c5c5c 10px, #5c5c5c 20px);\n",
       "    }\n",
       "    .progress-bar-interrupted, .progress-bar-interrupted::-webkit-progress-bar {\n",
       "        background: #F44336;\n",
       "    }\n",
       "</style>\n"
      ],
      "text/plain": [
       "<IPython.core.display.HTML object>"
      ]
     },
     "metadata": {},
     "output_type": "display_data"
    },
    {
     "data": {
      "text/html": [
       "[Epoch: 00] Loss (2.406 / 1.792) - Accuracy (16.1% / 50.0%)<p>[Epoch: 01] Loss (1.869 / 1.437) - Accuracy (34.8% / 71.0%)<p>[Epoch: 02] Loss (1.534 / 1.224) - Accuracy (52.3% / 77.8%)<p>[Epoch: 03] Loss (1.329 / 1.055) - Accuracy (63.3% / 81.0%)<p>[Epoch: 04] Loss (1.159 / 0.938) - Accuracy (70.7% / 83.6%)"
      ],
      "text/plain": [
       "<IPython.core.display.HTML object>"
      ]
     },
     "metadata": {},
     "output_type": "display_data"
    },
    {
     "name": "stdout",
     "output_type": "stream",
     "text": [
      "[==================================================]\n",
      "SGD - 256: (0.001, 0, 0.0)\n"
     ]
    },
    {
     "data": {
      "text/html": [
       "\n",
       "<style>\n",
       "    /* Turns off some styling */\n",
       "    progress {\n",
       "        /* gets rid of default border in Firefox and Opera. */\n",
       "        border: none;\n",
       "        /* Needs to be in here for Safari polyfill so background images work as expected. */\n",
       "        background-size: auto;\n",
       "    }\n",
       "    progress:not([value]), progress:not([value])::-webkit-progress-bar {\n",
       "        background: repeating-linear-gradient(45deg, #7e7e7e, #7e7e7e 10px, #5c5c5c 10px, #5c5c5c 20px);\n",
       "    }\n",
       "    .progress-bar-interrupted, .progress-bar-interrupted::-webkit-progress-bar {\n",
       "        background: #F44336;\n",
       "    }\n",
       "</style>\n"
      ],
      "text/plain": [
       "<IPython.core.display.HTML object>"
      ]
     },
     "metadata": {},
     "output_type": "display_data"
    },
    {
     "data": {
      "text/html": [
       "[Epoch: 00] Loss (1.595 / 1.027) - Accuracy (49.7% / 74.4%)<p>[Epoch: 01] Loss (0.935 / 0.768) - Accuracy (78.7% / 84.6%)<p>[Epoch: 02] Loss (0.735 / 0.644) - Accuracy (86.0% / 87.0%)<p>[Epoch: 03] Loss (0.622 / 0.564) - Accuracy (88.8% / 87.8%)<p>[Epoch: 04] Loss (0.542 / 0.502) - Accuracy (90.5% / 89.6%)"
      ],
      "text/plain": [
       "<IPython.core.display.HTML object>"
      ]
     },
     "metadata": {},
     "output_type": "display_data"
    },
    {
     "name": "stdout",
     "output_type": "stream",
     "text": [
      "[==================================================]\n",
      "SGD - 256: (0.001, 0, 0.3)\n"
     ]
    },
    {
     "data": {
      "text/html": [
       "\n",
       "<style>\n",
       "    /* Turns off some styling */\n",
       "    progress {\n",
       "        /* gets rid of default border in Firefox and Opera. */\n",
       "        border: none;\n",
       "        /* Needs to be in here for Safari polyfill so background images work as expected. */\n",
       "        background-size: auto;\n",
       "    }\n",
       "    progress:not([value]), progress:not([value])::-webkit-progress-bar {\n",
       "        background: repeating-linear-gradient(45deg, #7e7e7e, #7e7e7e 10px, #5c5c5c 10px, #5c5c5c 20px);\n",
       "    }\n",
       "    .progress-bar-interrupted, .progress-bar-interrupted::-webkit-progress-bar {\n",
       "        background: #F44336;\n",
       "    }\n",
       "</style>\n"
      ],
      "text/plain": [
       "<IPython.core.display.HTML object>"
      ]
     },
     "metadata": {},
     "output_type": "display_data"
    },
    {
     "data": {
      "text/html": [
       "[Epoch: 00] Loss (2.332 / 1.887) - Accuracy (17.6% / 37.8%)<p>[Epoch: 01] Loss (1.949 / 1.609) - Accuracy (30.6% / 58.4%)<p>[Epoch: 02] Loss (1.715 / 1.407) - Accuracy (42.8% / 69.4%)<p>[Epoch: 03] Loss (1.538 / 1.266) - Accuracy (51.7% / 74.0%)<p>[Epoch: 04] Loss (1.409 / 1.145) - Accuracy (58.1% / 76.0%)"
      ],
      "text/plain": [
       "<IPython.core.display.HTML object>"
      ]
     },
     "metadata": {},
     "output_type": "display_data"
    },
    {
     "name": "stdout",
     "output_type": "stream",
     "text": [
      "[==================================================]\n",
      "SGD - 256: (0.001, 0.001, 0.0)\n"
     ]
    },
    {
     "data": {
      "text/html": [
       "\n",
       "<style>\n",
       "    /* Turns off some styling */\n",
       "    progress {\n",
       "        /* gets rid of default border in Firefox and Opera. */\n",
       "        border: none;\n",
       "        /* Needs to be in here for Safari polyfill so background images work as expected. */\n",
       "        background-size: auto;\n",
       "    }\n",
       "    progress:not([value]), progress:not([value])::-webkit-progress-bar {\n",
       "        background: repeating-linear-gradient(45deg, #7e7e7e, #7e7e7e 10px, #5c5c5c 10px, #5c5c5c 20px);\n",
       "    }\n",
       "    .progress-bar-interrupted, .progress-bar-interrupted::-webkit-progress-bar {\n",
       "        background: #F44336;\n",
       "    }\n",
       "</style>\n"
      ],
      "text/plain": [
       "<IPython.core.display.HTML object>"
      ]
     },
     "metadata": {},
     "output_type": "display_data"
    },
    {
     "data": {
      "text/html": [
       "[Epoch: 00] Loss (1.691 / 1.151) - Accuracy (45.7% / 66.8%)<p>[Epoch: 01] Loss (1.031 / 0.851) - Accuracy (73.9% / 80.0%)<p>[Epoch: 02] Loss (0.807 / 0.698) - Accuracy (82.6% / 86.2%)<p>[Epoch: 03] Loss (0.674 / 0.598) - Accuracy (86.8% / 88.4%)<p>[Epoch: 04] Loss (0.584 / 0.528) - Accuracy (89.1% / 89.4%)"
      ],
      "text/plain": [
       "<IPython.core.display.HTML object>"
      ]
     },
     "metadata": {},
     "output_type": "display_data"
    },
    {
     "name": "stdout",
     "output_type": "stream",
     "text": [
      "[==================================================]\n",
      "SGD - 256: (0.001, 0.001, 0.3)\n"
     ]
    },
    {
     "data": {
      "text/html": [
       "\n",
       "<style>\n",
       "    /* Turns off some styling */\n",
       "    progress {\n",
       "        /* gets rid of default border in Firefox and Opera. */\n",
       "        border: none;\n",
       "        /* Needs to be in here for Safari polyfill so background images work as expected. */\n",
       "        background-size: auto;\n",
       "    }\n",
       "    progress:not([value]), progress:not([value])::-webkit-progress-bar {\n",
       "        background: repeating-linear-gradient(45deg, #7e7e7e, #7e7e7e 10px, #5c5c5c 10px, #5c5c5c 20px);\n",
       "    }\n",
       "    .progress-bar-interrupted, .progress-bar-interrupted::-webkit-progress-bar {\n",
       "        background: #F44336;\n",
       "    }\n",
       "</style>\n"
      ],
      "text/plain": [
       "<IPython.core.display.HTML object>"
      ]
     },
     "metadata": {},
     "output_type": "display_data"
    },
    {
     "data": {
      "text/html": [
       "[Epoch: 00] Loss (2.520 / 1.963) - Accuracy (12.3% / 36.4%)<p>[Epoch: 01] Loss (2.052 / 1.636) - Accuracy (25.7% / 62.6%)<p>[Epoch: 02] Loss (1.737 / 1.391) - Accuracy (42.1% / 69.8%)<p>[Epoch: 03] Loss (1.531 / 1.226) - Accuracy (52.7% / 75.2%)<p>[Epoch: 04] Loss (1.369 / 1.096) - Accuracy (60.6% / 77.8%)"
      ],
      "text/plain": [
       "<IPython.core.display.HTML object>"
      ]
     },
     "metadata": {},
     "output_type": "display_data"
    },
    {
     "name": "stdout",
     "output_type": "stream",
     "text": [
      "[==================================================]\n",
      "SGD - 256: (0.001, 0.01, 0.0)\n"
     ]
    },
    {
     "data": {
      "text/html": [
       "\n",
       "<style>\n",
       "    /* Turns off some styling */\n",
       "    progress {\n",
       "        /* gets rid of default border in Firefox and Opera. */\n",
       "        border: none;\n",
       "        /* Needs to be in here for Safari polyfill so background images work as expected. */\n",
       "        background-size: auto;\n",
       "    }\n",
       "    progress:not([value]), progress:not([value])::-webkit-progress-bar {\n",
       "        background: repeating-linear-gradient(45deg, #7e7e7e, #7e7e7e 10px, #5c5c5c 10px, #5c5c5c 20px);\n",
       "    }\n",
       "    .progress-bar-interrupted, .progress-bar-interrupted::-webkit-progress-bar {\n",
       "        background: #F44336;\n",
       "    }\n",
       "</style>\n"
      ],
      "text/plain": [
       "<IPython.core.display.HTML object>"
      ]
     },
     "metadata": {},
     "output_type": "display_data"
    },
    {
     "data": {
      "text/html": [
       "[Epoch: 00] Loss (1.613 / 1.048) - Accuracy (49.6% / 72.6%)<p>[Epoch: 01] Loss (0.924 / 0.774) - Accuracy (78.4% / 83.8%)<p>[Epoch: 02] Loss (0.707 / 0.633) - Accuracy (86.3% / 88.4%)<p>[Epoch: 03] Loss (0.575 / 0.541) - Accuracy (90.0% / 92.6%)<p>[Epoch: 04] Loss (0.484 / 0.477) - Accuracy (92.2% / 93.4%)"
      ],
      "text/plain": [
       "<IPython.core.display.HTML object>"
      ]
     },
     "metadata": {},
     "output_type": "display_data"
    },
    {
     "name": "stdout",
     "output_type": "stream",
     "text": [
      "[==================================================]\n",
      "SGD - 256: (0.001, 0.01, 0.3)\n"
     ]
    },
    {
     "data": {
      "text/html": [
       "\n",
       "<style>\n",
       "    /* Turns off some styling */\n",
       "    progress {\n",
       "        /* gets rid of default border in Firefox and Opera. */\n",
       "        border: none;\n",
       "        /* Needs to be in here for Safari polyfill so background images work as expected. */\n",
       "        background-size: auto;\n",
       "    }\n",
       "    progress:not([value]), progress:not([value])::-webkit-progress-bar {\n",
       "        background: repeating-linear-gradient(45deg, #7e7e7e, #7e7e7e 10px, #5c5c5c 10px, #5c5c5c 20px);\n",
       "    }\n",
       "    .progress-bar-interrupted, .progress-bar-interrupted::-webkit-progress-bar {\n",
       "        background: #F44336;\n",
       "    }\n",
       "</style>\n"
      ],
      "text/plain": [
       "<IPython.core.display.HTML object>"
      ]
     },
     "metadata": {},
     "output_type": "display_data"
    },
    {
     "data": {
      "text/html": [
       "[Epoch: 00] Loss (2.321 / 1.749) - Accuracy (17.1% / 54.2%)<p>[Epoch: 01] Loss (1.864 / 1.406) - Accuracy (36.5% / 67.0%)<p>[Epoch: 02] Loss (1.554 / 1.225) - Accuracy (51.5% / 71.0%)<p>[Epoch: 03] Loss (1.349 / 1.076) - Accuracy (61.5% / 76.6%)<p>[Epoch: 04] Loss (1.199 / 0.963) - Accuracy (67.5% / 79.0%)"
      ],
      "text/plain": [
       "<IPython.core.display.HTML object>"
      ]
     },
     "metadata": {},
     "output_type": "display_data"
    },
    {
     "name": "stdout",
     "output_type": "stream",
     "text": [
      "[==================================================]\n",
      "SGD - 256: (0.01, 0, 0.0)\n"
     ]
    },
    {
     "data": {
      "text/html": [
       "\n",
       "<style>\n",
       "    /* Turns off some styling */\n",
       "    progress {\n",
       "        /* gets rid of default border in Firefox and Opera. */\n",
       "        border: none;\n",
       "        /* Needs to be in here for Safari polyfill so background images work as expected. */\n",
       "        background-size: auto;\n",
       "    }\n",
       "    progress:not([value]), progress:not([value])::-webkit-progress-bar {\n",
       "        background: repeating-linear-gradient(45deg, #7e7e7e, #7e7e7e 10px, #5c5c5c 10px, #5c5c5c 20px);\n",
       "    }\n",
       "    .progress-bar-interrupted, .progress-bar-interrupted::-webkit-progress-bar {\n",
       "        background: #F44336;\n",
       "    }\n",
       "</style>\n"
      ],
      "text/plain": [
       "<IPython.core.display.HTML object>"
      ]
     },
     "metadata": {},
     "output_type": "display_data"
    },
    {
     "data": {
      "text/html": [
       "[Epoch: 00] Loss (1.696 / 1.137) - Accuracy (44.4% / 69.0%)<p>[Epoch: 01] Loss (1.041 / 0.879) - Accuracy (75.3% / 81.2%)<p>[Epoch: 02] Loss (0.827 / 0.738) - Accuracy (83.4% / 84.4%)<p>[Epoch: 03] Loss (0.705 / 0.649) - Accuracy (86.8% / 86.8%)<p>[Epoch: 04] Loss (0.620 / 0.583) - Accuracy (89.0% / 88.2%)"
      ],
      "text/plain": [
       "<IPython.core.display.HTML object>"
      ]
     },
     "metadata": {},
     "output_type": "display_data"
    },
    {
     "name": "stdout",
     "output_type": "stream",
     "text": [
      "[==================================================]\n",
      "SGD - 256: (0.01, 0, 0.3)\n"
     ]
    },
    {
     "data": {
      "text/html": [
       "\n",
       "<style>\n",
       "    /* Turns off some styling */\n",
       "    progress {\n",
       "        /* gets rid of default border in Firefox and Opera. */\n",
       "        border: none;\n",
       "        /* Needs to be in here for Safari polyfill so background images work as expected. */\n",
       "        background-size: auto;\n",
       "    }\n",
       "    progress:not([value]), progress:not([value])::-webkit-progress-bar {\n",
       "        background: repeating-linear-gradient(45deg, #7e7e7e, #7e7e7e 10px, #5c5c5c 10px, #5c5c5c 20px);\n",
       "    }\n",
       "    .progress-bar-interrupted, .progress-bar-interrupted::-webkit-progress-bar {\n",
       "        background: #F44336;\n",
       "    }\n",
       "</style>\n"
      ],
      "text/plain": [
       "<IPython.core.display.HTML object>"
      ]
     },
     "metadata": {},
     "output_type": "display_data"
    },
    {
     "data": {
      "text/html": [
       "[Epoch: 00] Loss (2.394 / 1.888) - Accuracy (15.9% / 44.0%)<p>[Epoch: 01] Loss (1.963 / 1.562) - Accuracy (32.5% / 59.4%)<p>[Epoch: 02] Loss (1.667 / 1.362) - Accuracy (46.2% / 66.0%)<p>[Epoch: 03] Loss (1.491 / 1.208) - Accuracy (54.4% / 70.6%)<p>[Epoch: 04] Loss (1.352 / 1.102) - Accuracy (61.2% / 74.0%)"
      ],
      "text/plain": [
       "<IPython.core.display.HTML object>"
      ]
     },
     "metadata": {},
     "output_type": "display_data"
    },
    {
     "name": "stdout",
     "output_type": "stream",
     "text": [
      "[==================================================]\n",
      "SGD - 256: (0.01, 0.001, 0.0)\n"
     ]
    },
    {
     "data": {
      "text/html": [
       "\n",
       "<style>\n",
       "    /* Turns off some styling */\n",
       "    progress {\n",
       "        /* gets rid of default border in Firefox and Opera. */\n",
       "        border: none;\n",
       "        /* Needs to be in here for Safari polyfill so background images work as expected. */\n",
       "        background-size: auto;\n",
       "    }\n",
       "    progress:not([value]), progress:not([value])::-webkit-progress-bar {\n",
       "        background: repeating-linear-gradient(45deg, #7e7e7e, #7e7e7e 10px, #5c5c5c 10px, #5c5c5c 20px);\n",
       "    }\n",
       "    .progress-bar-interrupted, .progress-bar-interrupted::-webkit-progress-bar {\n",
       "        background: #F44336;\n",
       "    }\n",
       "</style>\n"
      ],
      "text/plain": [
       "<IPython.core.display.HTML object>"
      ]
     },
     "metadata": {},
     "output_type": "display_data"
    },
    {
     "data": {
      "text/html": [
       "[Epoch: 00] Loss (1.573 / 1.109) - Accuracy (50.4% / 70.4%)<p>[Epoch: 01] Loss (0.999 / 0.855) - Accuracy (76.7% / 83.8%)<p>[Epoch: 02] Loss (0.795 / 0.714) - Accuracy (84.6% / 86.8%)<p>[Epoch: 03] Loss (0.672 / 0.610) - Accuracy (88.4% / 89.0%)<p>[Epoch: 04] Loss (0.588 / 0.542) - Accuracy (90.3% / 90.2%)"
      ],
      "text/plain": [
       "<IPython.core.display.HTML object>"
      ]
     },
     "metadata": {},
     "output_type": "display_data"
    },
    {
     "name": "stdout",
     "output_type": "stream",
     "text": [
      "[==================================================]\n",
      "SGD - 256: (0.01, 0.001, 0.3)\n"
     ]
    },
    {
     "data": {
      "text/html": [
       "\n",
       "<style>\n",
       "    /* Turns off some styling */\n",
       "    progress {\n",
       "        /* gets rid of default border in Firefox and Opera. */\n",
       "        border: none;\n",
       "        /* Needs to be in here for Safari polyfill so background images work as expected. */\n",
       "        background-size: auto;\n",
       "    }\n",
       "    progress:not([value]), progress:not([value])::-webkit-progress-bar {\n",
       "        background: repeating-linear-gradient(45deg, #7e7e7e, #7e7e7e 10px, #5c5c5c 10px, #5c5c5c 20px);\n",
       "    }\n",
       "    .progress-bar-interrupted, .progress-bar-interrupted::-webkit-progress-bar {\n",
       "        background: #F44336;\n",
       "    }\n",
       "</style>\n"
      ],
      "text/plain": [
       "<IPython.core.display.HTML object>"
      ]
     },
     "metadata": {},
     "output_type": "display_data"
    },
    {
     "data": {
      "text/html": [
       "[Epoch: 00] Loss (2.475 / 1.940) - Accuracy (15.0% / 42.8%)<p>[Epoch: 01] Loss (2.036 / 1.658) - Accuracy (28.7% / 58.8%)<p>[Epoch: 02] Loss (1.753 / 1.457) - Accuracy (42.1% / 67.8%)<p>[Epoch: 03] Loss (1.564 / 1.301) - Accuracy (52.2% / 73.4%)<p>[Epoch: 04] Loss (1.419 / 1.171) - Accuracy (60.0% / 76.8%)"
      ],
      "text/plain": [
       "<IPython.core.display.HTML object>"
      ]
     },
     "metadata": {},
     "output_type": "display_data"
    },
    {
     "name": "stdout",
     "output_type": "stream",
     "text": [
      "[==================================================]\n",
      "SGD - 256: (0.01, 0.01, 0.0)\n"
     ]
    },
    {
     "data": {
      "text/html": [
       "\n",
       "<style>\n",
       "    /* Turns off some styling */\n",
       "    progress {\n",
       "        /* gets rid of default border in Firefox and Opera. */\n",
       "        border: none;\n",
       "        /* Needs to be in here for Safari polyfill so background images work as expected. */\n",
       "        background-size: auto;\n",
       "    }\n",
       "    progress:not([value]), progress:not([value])::-webkit-progress-bar {\n",
       "        background: repeating-linear-gradient(45deg, #7e7e7e, #7e7e7e 10px, #5c5c5c 10px, #5c5c5c 20px);\n",
       "    }\n",
       "    .progress-bar-interrupted, .progress-bar-interrupted::-webkit-progress-bar {\n",
       "        background: #F44336;\n",
       "    }\n",
       "</style>\n"
      ],
      "text/plain": [
       "<IPython.core.display.HTML object>"
      ]
     },
     "metadata": {},
     "output_type": "display_data"
    },
    {
     "data": {
      "text/html": [
       "[Epoch: 00] Loss (1.577 / 1.073) - Accuracy (50.9% / 74.0%)<p>[Epoch: 01] Loss (0.923 / 0.829) - Accuracy (80.1% / 84.8%)<p>[Epoch: 02] Loss (0.725 / 0.698) - Accuracy (87.4% / 87.6%)<p>[Epoch: 03] Loss (0.608 / 0.602) - Accuracy (90.6% / 91.0%)<p>[Epoch: 04] Loss (0.527 / 0.535) - Accuracy (92.5% / 93.4%)"
      ],
      "text/plain": [
       "<IPython.core.display.HTML object>"
      ]
     },
     "metadata": {},
     "output_type": "display_data"
    },
    {
     "name": "stdout",
     "output_type": "stream",
     "text": [
      "[==================================================]\n",
      "SGD - 256: (0.01, 0.01, 0.3)\n"
     ]
    },
    {
     "data": {
      "text/html": [
       "\n",
       "<style>\n",
       "    /* Turns off some styling */\n",
       "    progress {\n",
       "        /* gets rid of default border in Firefox and Opera. */\n",
       "        border: none;\n",
       "        /* Needs to be in here for Safari polyfill so background images work as expected. */\n",
       "        background-size: auto;\n",
       "    }\n",
       "    progress:not([value]), progress:not([value])::-webkit-progress-bar {\n",
       "        background: repeating-linear-gradient(45deg, #7e7e7e, #7e7e7e 10px, #5c5c5c 10px, #5c5c5c 20px);\n",
       "    }\n",
       "    .progress-bar-interrupted, .progress-bar-interrupted::-webkit-progress-bar {\n",
       "        background: #F44336;\n",
       "    }\n",
       "</style>\n"
      ],
      "text/plain": [
       "<IPython.core.display.HTML object>"
      ]
     },
     "metadata": {},
     "output_type": "display_data"
    },
    {
     "data": {
      "text/html": [
       "[Epoch: 00] Loss (2.369 / 1.867) - Accuracy (15.5% / 51.8%)<p>[Epoch: 01] Loss (1.926 / 1.536) - Accuracy (31.6% / 70.2%)<p>[Epoch: 02] Loss (1.615 / 1.344) - Accuracy (48.7% / 75.4%)<p>[Epoch: 03] Loss (1.403 / 1.208) - Accuracy (60.7% / 77.8%)<p>[Epoch: 04] Loss (1.262 / 1.068) - Accuracy (68.2% / 80.8%)"
      ],
      "text/plain": [
       "<IPython.core.display.HTML object>"
      ]
     },
     "metadata": {},
     "output_type": "display_data"
    }
   ],
   "source": [
    "df_scores = pd.DataFrame({\n",
    "    'optim': [],\n",
    "    'batchsize': [],\n",
    "    'lr': [],\n",
    "    'regularization': [],\n",
    "    'L2': [],\n",
    "    'L1': [],\n",
    "    'dropout': [],\n",
    "    'test_accuracy': [],\n",
    "    'test_loss': [],\n",
    "    'train_accuracy': [],\n",
    "    'train_loss': [],\n",
    "    'time': [],\n",
    "})\n",
    "\n",
    "\n",
    "mp = progress_bar( range(len(optims)*len(batchsizes)*len(L2)*len(L1)*len(dropout)) )\n",
    "for _, (optim, batchsize, l2_, l1_, p) in zip(mp, product(optims, batchsizes, L2, L1, dropout)):\n",
    "    \n",
    "    start_time = perf_counter()\n",
    "    \n",
    "    model_setup['dropout'] = p\n",
    "    model_config['batch_size'] = batchsize\n",
    "    model_config['L2'] = l2_\n",
    "    model_config['L1'] = l1_\n",
    "\n",
    "    trainloader = get_dataLoader(train_data, batchsize, True)\n",
    "    testloader = get_dataLoader(test_data, batchsize, False)\n",
    "\n",
    "    print('['+'='*50+']')\n",
    "    print(f\"{optim} - {batchsize}: ({l2_}, {l1_}, {p})\")\n",
    "\n",
    "    model = model_(**model_setup).to(device)\n",
    "    \n",
    "    nn.DataParallel(model, device_ids=[CUDA])\n",
    "    cudnn.benchmark = True\n",
    "\n",
    "    loss_function = nn.CrossEntropyLoss()\n",
    "    optimizer = getattr(torch.optim, optim)(model.parameters(), lr=model_config['lr'])\n",
    "\n",
    "\n",
    "    kwargs = {\n",
    "        'model': model,\n",
    "        'loss_function': loss_function,\n",
    "        'optimizer': optimizer,\n",
    "        'lr_scheduler': None,\n",
    "        'map_classes': None,\n",
    "        'skip_classes': None,\n",
    "        'device': device,\n",
    "        'model_path': None,\n",
    "        'trainloader': trainloader,\n",
    "        'testloader': testloader,\n",
    "        'config': model_config\n",
    "    }\n",
    "\n",
    "    train_losses, test_losses, train_accs, test_accs, test_loss, test_acc, confusion_matrix_test, best_model_name = run_training_testing(**kwargs)\n",
    "    \n",
    "    end_time = round(perf_counter() - start_time, 3)\n",
    "    \n",
    "    df_scores.loc[df_scores.shape[0] + 1] = [\n",
    "        optim, batchsize, model_config['lr'], reg_type(l2_, l1_, p), l2_, l1_, p, test_accs[-1], test_losses[-1], train_accs[-1], train_losses[-1], end_time\n",
    "    ]"
   ]
  },
  {
   "cell_type": "code",
   "execution_count": 16,
   "metadata": {},
   "outputs": [],
   "source": [
    "df_scores = df_scores.sort_values(\n",
    "    ['test_accuracy','test_loss','train_accuracy','train_loss'],\n",
    "    ascending=[False, True, False, True]\n",
    ").reset_index(drop=True)\n",
    "\n",
    "df_scores.to_csv(path_trainingModels_regularization / f'scores-{DATASET.lower()}-{PREFIX.lower()}.csv', index=False)"
   ]
  },
  {
   "cell_type": "code",
   "execution_count": 17,
   "metadata": {},
   "outputs": [
    {
     "data": {
      "text/html": [
       "<div>\n",
       "<style scoped>\n",
       "    .dataframe tbody tr th:only-of-type {\n",
       "        vertical-align: middle;\n",
       "    }\n",
       "\n",
       "    .dataframe tbody tr th {\n",
       "        vertical-align: top;\n",
       "    }\n",
       "\n",
       "    .dataframe thead th {\n",
       "        text-align: right;\n",
       "    }\n",
       "</style>\n",
       "<table border=\"1\" class=\"dataframe\">\n",
       "  <thead>\n",
       "    <tr style=\"text-align: right;\">\n",
       "      <th></th>\n",
       "      <th>optim</th>\n",
       "      <th>batchsize</th>\n",
       "      <th>lr</th>\n",
       "      <th>regularization</th>\n",
       "      <th>L2</th>\n",
       "      <th>L1</th>\n",
       "      <th>dropout</th>\n",
       "      <th>test_accuracy</th>\n",
       "      <th>test_loss</th>\n",
       "      <th>train_accuracy</th>\n",
       "      <th>train_loss</th>\n",
       "      <th>time</th>\n",
       "    </tr>\n",
       "  </thead>\n",
       "  <tbody>\n",
       "    <tr>\n",
       "      <th>0</th>\n",
       "      <td>Adam</td>\n",
       "      <td>128.0</td>\n",
       "      <td>0.01</td>\n",
       "      <td>No Regularization</td>\n",
       "      <td>0.000</td>\n",
       "      <td>0.000</td>\n",
       "      <td>0.0</td>\n",
       "      <td>0.974</td>\n",
       "      <td>0.065890</td>\n",
       "      <td>0.996917</td>\n",
       "      <td>0.012617</td>\n",
       "      <td>19.821</td>\n",
       "    </tr>\n",
       "    <tr>\n",
       "      <th>1</th>\n",
       "      <td>Adam</td>\n",
       "      <td>32.0</td>\n",
       "      <td>0.01</td>\n",
       "      <td>Dropout</td>\n",
       "      <td>0.000</td>\n",
       "      <td>0.000</td>\n",
       "      <td>0.3</td>\n",
       "      <td>0.974</td>\n",
       "      <td>0.091731</td>\n",
       "      <td>0.940167</td>\n",
       "      <td>0.186390</td>\n",
       "      <td>36.278</td>\n",
       "    </tr>\n",
       "    <tr>\n",
       "      <th>2</th>\n",
       "      <td>Adam</td>\n",
       "      <td>32.0</td>\n",
       "      <td>0.01</td>\n",
       "      <td>No Regularization</td>\n",
       "      <td>0.000</td>\n",
       "      <td>0.000</td>\n",
       "      <td>0.0</td>\n",
       "      <td>0.972</td>\n",
       "      <td>0.071462</td>\n",
       "      <td>0.985333</td>\n",
       "      <td>0.045915</td>\n",
       "      <td>49.117</td>\n",
       "    </tr>\n",
       "    <tr>\n",
       "      <th>3</th>\n",
       "      <td>Adam</td>\n",
       "      <td>64.0</td>\n",
       "      <td>0.01</td>\n",
       "      <td>Dropout</td>\n",
       "      <td>0.000</td>\n",
       "      <td>0.000</td>\n",
       "      <td>0.3</td>\n",
       "      <td>0.972</td>\n",
       "      <td>0.073828</td>\n",
       "      <td>0.947917</td>\n",
       "      <td>0.160027</td>\n",
       "      <td>18.433</td>\n",
       "    </tr>\n",
       "    <tr>\n",
       "      <th>4</th>\n",
       "      <td>SGD</td>\n",
       "      <td>32.0</td>\n",
       "      <td>0.01</td>\n",
       "      <td>Elastic</td>\n",
       "      <td>0.001</td>\n",
       "      <td>0.001</td>\n",
       "      <td>0.0</td>\n",
       "      <td>0.970</td>\n",
       "      <td>0.121799</td>\n",
       "      <td>0.979000</td>\n",
       "      <td>0.124932</td>\n",
       "      <td>29.548</td>\n",
       "    </tr>\n",
       "    <tr>\n",
       "      <th>5</th>\n",
       "      <td>SGD</td>\n",
       "      <td>32.0</td>\n",
       "      <td>0.01</td>\n",
       "      <td>L2</td>\n",
       "      <td>0.001</td>\n",
       "      <td>0.000</td>\n",
       "      <td>0.0</td>\n",
       "      <td>0.970</td>\n",
       "      <td>0.144889</td>\n",
       "      <td>0.976083</td>\n",
       "      <td>0.129819</td>\n",
       "      <td>29.395</td>\n",
       "    </tr>\n",
       "    <tr>\n",
       "      <th>6</th>\n",
       "      <td>Adam</td>\n",
       "      <td>256.0</td>\n",
       "      <td>0.01</td>\n",
       "      <td>Dropout</td>\n",
       "      <td>0.000</td>\n",
       "      <td>0.000</td>\n",
       "      <td>0.3</td>\n",
       "      <td>0.968</td>\n",
       "      <td>0.086753</td>\n",
       "      <td>0.952583</td>\n",
       "      <td>0.149193</td>\n",
       "      <td>18.716</td>\n",
       "    </tr>\n",
       "  </tbody>\n",
       "</table>\n",
       "</div>"
      ],
      "text/plain": [
       "  optim  batchsize    lr     regularization     L2     L1  dropout  \\\n",
       "0  Adam      128.0  0.01  No Regularization  0.000  0.000      0.0   \n",
       "1  Adam       32.0  0.01            Dropout  0.000  0.000      0.3   \n",
       "2  Adam       32.0  0.01  No Regularization  0.000  0.000      0.0   \n",
       "3  Adam       64.0  0.01            Dropout  0.000  0.000      0.3   \n",
       "4   SGD       32.0  0.01            Elastic  0.001  0.001      0.0   \n",
       "5   SGD       32.0  0.01                 L2  0.001  0.000      0.0   \n",
       "6  Adam      256.0  0.01            Dropout  0.000  0.000      0.3   \n",
       "\n",
       "   test_accuracy  test_loss  train_accuracy  train_loss    time  \n",
       "0          0.974   0.065890        0.996917    0.012617  19.821  \n",
       "1          0.974   0.091731        0.940167    0.186390  36.278  \n",
       "2          0.972   0.071462        0.985333    0.045915  49.117  \n",
       "3          0.972   0.073828        0.947917    0.160027  18.433  \n",
       "4          0.970   0.121799        0.979000    0.124932  29.548  \n",
       "5          0.970   0.144889        0.976083    0.129819  29.395  \n",
       "6          0.968   0.086753        0.952583    0.149193  18.716  "
      ]
     },
     "execution_count": 17,
     "metadata": {},
     "output_type": "execute_result"
    }
   ],
   "source": [
    "df_scores.head(7)"
   ]
  },
  {
   "cell_type": "code",
   "execution_count": null,
   "metadata": {},
   "outputs": [],
   "source": []
  }
 ],
 "metadata": {
  "accelerator": "GPU",
  "colab": {
   "collapsed_sections": [
    "mcDeYOA8d1wL"
   ],
   "provenance": []
  },
  "gpuClass": "standard",
  "kernelspec": {
   "display_name": "Python 3",
   "language": "python",
   "name": "python3"
  },
  "language_info": {
   "codemirror_mode": {
    "name": "ipython",
    "version": 3
   },
   "file_extension": ".py",
   "mimetype": "text/x-python",
   "name": "python",
   "nbconvert_exporter": "python",
   "pygments_lexer": "ipython3",
   "version": "3.6.8"
  },
  "vscode": {
   "interpreter": {
    "hash": "2b89e4666a1b1f5f90ada5928a1b04d9ad859bf674b23c56e0417352230a6456"
   }
  }
 },
 "nbformat": 4,
 "nbformat_minor": 1
}
