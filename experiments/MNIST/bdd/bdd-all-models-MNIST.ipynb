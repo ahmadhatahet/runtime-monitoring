{
 "cells": [
  {
   "cell_type": "code",
   "execution_count": 1,
   "id": "7ff685c3",
   "metadata": {},
   "outputs": [],
   "source": [
    "import os\n",
    "os.chdir('../..')"
   ]
  },
  {
   "cell_type": "code",
   "execution_count": 2,
   "id": "40394be7-39cb-46d8-9445-3927e15e4db0",
   "metadata": {},
   "outputs": [],
   "source": [
    "from utilities.utils import *\n",
    "from utilities.pathManager import fetchPaths\n",
    "from utilities.MonitorUnifiedBDD import build_bdd_multi_etas\n",
    "from utilities.train_models import train_models\n",
    "from utilities.bdd_test_thresholds import run_parallel"
   ]
  },
  {
   "cell_type": "code",
   "execution_count": 3,
   "id": "1d7f5801",
   "metadata": {},
   "outputs": [],
   "source": [
    "import pandas as pd\n",
    "import numpy as np\n",
    "import sys\n",
    "import gc\n",
    "import copy\n",
    "from pathlib import Path\n",
    "from itertools import product"
   ]
  },
  {
   "cell_type": "code",
   "execution_count": 4,
   "id": "c13750af-277a-45f5-8758-944f65df80ce",
   "metadata": {},
   "outputs": [
    {
     "data": {
      "text/plain": [
       "PosixPath('/home/ah19/runtime-monitoring')"
      ]
     },
     "execution_count": 4,
     "metadata": {},
     "output_type": "execute_result"
    }
   ],
   "source": [
    "Path().cwd()"
   ]
  },
  {
   "cell_type": "code",
   "execution_count": 5,
   "id": "5140f17f",
   "metadata": {},
   "outputs": [],
   "source": [
    "# env variables\n",
    "REPO_PATH = '/home/ah19/runtime-monitoring'\n",
    "DATASET = 'MNIST'\n",
    "\n",
    "# get essential paths\n",
    "base = Path().cwd()\n",
    "paths = fetchPaths(base, DATASET)\n",
    "path = paths[DATASET.lower()]\n",
    "path_dataset = paths[\"dataset\"]\n",
    "\n",
    "\n",
    "# from GTSRB.trainingModels.GTSRB_CNN import GTSRB_CNN\n",
    "# model = GTSRB_CNN\n",
    "\n",
    "# tf_train = T.Compose([\n",
    "#     T.ToTensor(),\n",
    "#     T.Resize((32, 32)),\n",
    "#     T.Normalize((0.3359, 0.3110, 0.3224), (0.3359, 0.3110, 0.3224))\n",
    "# ])\n",
    "\n",
    "\n",
    "# tf_test = T.Compose([\n",
    "#     T.ToTensor(),\n",
    "#     T.Resize((32, 32)),\n",
    "#     T.Normalize((0.3359, 0.3110, 0.3224), (0.3359, 0.3110, 0.3224))\n",
    "# ])\n",
    "\n",
    "# train_data = get_dataset(DATASET, path_dataset, train=True, transform=tf_train)\n",
    "# test_data = get_dataset(DATASET, path_dataset, train=False, transform=tf_test)\n",
    "\n",
    "\n",
    "model_setup = {'dropout': 0.2, 'first_layer_norm': False}\n",
    "\n",
    "model_config = {\n",
    "    'optim':'Adam',\n",
    "    'batch_size': 256,\n",
    "    'lr': 0.001,\n",
    "    'epochs': 15,\n",
    "    \"patience\": 3,\n",
    "    \"L2\": 0.0,\n",
    "    \"L1\": 0.0\n",
    "}\n",
    "\n",
    "# model varient name\n",
    "models_name = f\"{model_config['optim']}-{model_config['batch_size']}\"\n",
    "lhl_neurons = [30, 60, 100]"
   ]
  },
  {
   "cell_type": "code",
   "execution_count": 6,
   "id": "cfb076e8-3ab4-426f-ad57-d310cfecae02",
   "metadata": {},
   "outputs": [],
   "source": [
    "# # train model for each number of neurons\n",
    "# for n in lhl_neurons:\n",
    "#     # set last_hidden_neurons for model\n",
    "#     model_setup[\"last_hidden_neurons\"] = n\n",
    "#     train_models(model, DATASET, f\"{models_name}-{n}\", train_data, test_data, model_setup, model_config)\n",
    "#     gc.collect()"
   ]
  },
  {
   "cell_type": "code",
   "execution_count": 7,
   "id": "e706d244-cf31-4e53-a168-7927362313c6",
   "metadata": {
    "scrolled": false
   },
   "outputs": [
    {
     "name": "stdout",
     "output_type": "stream",
     "text": [
      "Start Time: 2023-04-23 22:38:42.908305\n",
      "MNIST Adam-256 30 raw True 0.9 0\n",
      "[ FOUNDED: raw_neurons_MNIST_Adam-256-30 ]\n",
      "Start Time: 2023-04-23 22:38:43.131399\n",
      "MNIST Adam-256 60 raw True 0.9 0\n",
      "[ FOUNDED: raw_neurons_MNIST_Adam-256-60 ]\n",
      "Start Time: 2023-04-23 22:38:43.412437\n",
      "MNIST Adam-256 100 raw True 0.9 0\n",
      "[ FOUNDED: raw_neurons_MNIST_Adam-256-100 ]\n",
      "Start Time: 2023-04-23 22:38:43.525640\n",
      "MNIST Adam-256 30 pca True 0.9 0\n",
      "[ FOUNDED: pca_components_MNIST_Adam-256-30 ]\n"
     ]
    },
    {
     "name": "stderr",
     "output_type": "stream",
     "text": [
      "/home/ah19/.local/lib/python3.6/site-packages/sklearn/base.py:315: UserWarning: Trying to unpickle estimator PCA from version 0.23.2 when using version 0.24.2. This might lead to breaking code or invalid results. Use at your own risk.\n",
      "  UserWarning)\n"
     ]
    },
    {
     "name": "stdout",
     "output_type": "stream",
     "text": [
      "Start Time: 2023-04-23 22:38:43.636229\n",
      "MNIST Adam-256 60 pca True 0.9 0\n",
      "[ FOUNDED: pca_components_MNIST_Adam-256-60 ]\n",
      "Start Time: 2023-04-23 22:38:43.746714\n",
      "MNIST Adam-256 100 pca True 0.9 0\n",
      "[ FOUNDED: pca_components_MNIST_Adam-256-100 ]\n",
      "Start Time: 2023-04-23 22:38:43.859833\n",
      "MNIST Adam-256 30 raw False 0.9 0\n",
      "[ FOUNDED: raw_MNIST_Adam-256-30 ]\n",
      "Start Time: 2023-04-23 22:38:43.961826\n",
      "MNIST Adam-256 60 raw False 0.9 0\n",
      "[ FOUNDED: raw_MNIST_Adam-256-60 ]\n",
      "Start Time: 2023-04-23 22:38:44.064124\n",
      "MNIST Adam-256 100 raw False 0.9 0\n",
      "[ FOUNDED: raw_MNIST_Adam-256-100 ]\n",
      "Start Time: 2023-04-23 22:38:44.165719\n",
      "MNIST Adam-256 30 pca False 0.9 0\n",
      "[ FOUNDED: pca_MNIST_Adam-256-30 ]\n",
      "Start Time: 2023-04-23 22:38:44.266117\n",
      "MNIST Adam-256 60 pca False 0.9 0\n",
      "[ FOUNDED: pca_MNIST_Adam-256-60 ]\n",
      "Start Time: 2023-04-23 22:38:44.369299\n",
      "MNIST Adam-256 100 pca False 0.9 0\n",
      "[ FOUNDED: pca_MNIST_Adam-256-100 ]\n",
      "Start Time: 2023-04-23 22:38:44.477914\n",
      "MNIST Adam-256 30 raw True 0 0\n",
      "[ FOUNDED: raw_neurons_MNIST_Adam-256-30 ]\n",
      "Start Time: 2023-04-23 22:38:44.593720\n",
      "MNIST Adam-256 60 raw True 0 0\n",
      "[ FOUNDED: raw_neurons_MNIST_Adam-256-60 ]\n",
      "Start Time: 2023-04-23 22:38:44.693356\n",
      "MNIST Adam-256 100 raw True 0 0\n",
      "[ FOUNDED: raw_neurons_MNIST_Adam-256-100 ]\n",
      "Start Time: 2023-04-23 22:38:44.809811\n",
      "MNIST Adam-256 30 pca True 0 0\n",
      "[ FOUNDED: pca_components_MNIST_Adam-256-30 ]\n",
      "Start Time: 2023-04-23 22:38:44.930732\n",
      "MNIST Adam-256 60 pca True 0 0\n",
      "[ FOUNDED: pca_components_MNIST_Adam-256-60 ]\n",
      "Start Time: 2023-04-23 22:38:45.125898\n",
      "MNIST Adam-256 100 pca True 0 0\n",
      "[ FOUNDED: pca_components_MNIST_Adam-256-100 ]\n",
      "Start Time: 2023-04-23 22:38:45.389203\n",
      "MNIST Adam-256 30 raw False 0 0\n",
      "[ FOUNDED: raw_MNIST_Adam-256-30 ]\n",
      "Start Time: 2023-04-23 22:38:45.530536\n",
      "MNIST Adam-256 60 raw False 0 0\n",
      "[ FOUNDED: raw_MNIST_Adam-256-60 ]\n",
      "Start Time: 2023-04-23 22:38:45.642966\n",
      "MNIST Adam-256 100 raw False 0 0\n",
      "[ FOUNDED: raw_MNIST_Adam-256-100 ]\n",
      "Start Time: 2023-04-23 22:38:45.755177\n",
      "MNIST Adam-256 30 pca False 0 0\n",
      "[ FOUNDED: pca_MNIST_Adam-256-30 ]\n",
      "Start Time: 2023-04-23 22:38:45.869675\n",
      "MNIST Adam-256 60 pca False 0 0\n",
      "[ FOUNDED: pca_MNIST_Adam-256-60 ]\n",
      "Start Time: 2023-04-23 22:38:45.979952\n",
      "MNIST Adam-256 100 pca False 0 0\n",
      "[ FOUNDED: pca_MNIST_Adam-256-100 ]\n",
      "Start Time: 2023-04-23 22:38:46.095033\n",
      "MNIST Adam-256 30 raw True 0.5 0\n",
      "[ FOUNDED: raw_neurons_MNIST_Adam-256-30 ]\n",
      "Start Time: 2023-04-23 22:38:46.224836\n",
      "MNIST Adam-256 60 raw True 0.5 0\n",
      "[ FOUNDED: raw_neurons_MNIST_Adam-256-60 ]\n",
      "Start Time: 2023-04-23 22:38:46.332140\n",
      "MNIST Adam-256 100 raw True 0.5 0\n",
      "[ FOUNDED: raw_neurons_MNIST_Adam-256-100 ]\n",
      "Start Time: 2023-04-23 22:38:46.423644\n",
      "MNIST Adam-256 30 pca True 0.5 0\n",
      "[ FOUNDED: pca_components_MNIST_Adam-256-30 ]\n",
      "Start Time: 2023-04-23 22:38:46.517074\n",
      "MNIST Adam-256 60 pca True 0.5 0\n",
      "[ FOUNDED: pca_components_MNIST_Adam-256-60 ]\n",
      "Start Time: 2023-04-23 22:38:46.621093\n",
      "MNIST Adam-256 100 pca True 0.5 0\n",
      "[ FOUNDED: pca_components_MNIST_Adam-256-100 ]\n",
      "Start Time: 2023-04-23 22:38:46.730251\n",
      "MNIST Adam-256 30 raw False 0.5 0\n",
      "[ FOUNDED: raw_MNIST_Adam-256-30 ]\n",
      "Start Time: 2023-04-23 22:38:46.856439\n",
      "MNIST Adam-256 60 raw False 0.5 0\n",
      "[ FOUNDED: raw_MNIST_Adam-256-60 ]\n",
      "Start Time: 2023-04-23 22:38:47.004107\n",
      "MNIST Adam-256 100 raw False 0.5 0\n",
      "[ FOUNDED: raw_MNIST_Adam-256-100 ]\n",
      "Start Time: 2023-04-23 22:38:47.119831\n",
      "MNIST Adam-256 30 pca False 0.5 0\n",
      "[ FOUNDED: pca_MNIST_Adam-256-30 ]\n",
      "Start Time: 2023-04-23 22:38:47.241840\n",
      "MNIST Adam-256 60 pca False 0.5 0\n",
      "[ FOUNDED: pca_MNIST_Adam-256-60 ]\n",
      "Start Time: 2023-04-23 22:38:47.447597\n",
      "MNIST Adam-256 100 pca False 0.5 0\n",
      "qth_0.5 - eta: 0\n",
      "> Done! [ qth_0.5 - eta: 0 ]\n",
      "[====================================================================================================]\n",
      "> Done ...\n",
      "> Finished!\n",
      "[****************************************************************************************************]\n",
      "Start Time: 2023-04-24 17:40:49.348851\n",
      "MNIST Adam-256 30 raw True 0.7 0\n",
      "[ FOUNDED: raw_neurons_MNIST_Adam-256-30 ]\n",
      "Start Time: 2023-04-24 17:40:49.522797\n",
      "MNIST Adam-256 60 raw True 0.7 0\n",
      "[ FOUNDED: raw_neurons_MNIST_Adam-256-60 ]\n",
      "Start Time: 2023-04-24 17:40:49.644392\n",
      "MNIST Adam-256 100 raw True 0.7 0\n",
      "[ FOUNDED: raw_neurons_MNIST_Adam-256-100 ]\n",
      "Start Time: 2023-04-24 17:40:49.759922\n",
      "MNIST Adam-256 30 pca True 0.7 0\n",
      "[ FOUNDED: pca_components_MNIST_Adam-256-30 ]\n",
      "Start Time: 2023-04-24 17:40:49.857894\n",
      "MNIST Adam-256 60 pca True 0.7 0\n",
      "[ FOUNDED: pca_components_MNIST_Adam-256-60 ]\n"
     ]
    },
    {
     "name": "stderr",
     "output_type": "stream",
     "text": [
      "/home/ah19/.local/lib/python3.6/site-packages/sklearn/base.py:315: UserWarning: Trying to unpickle estimator PCA from version 0.23.2 when using version 0.24.2. This might lead to breaking code or invalid results. Use at your own risk.\n",
      "  UserWarning)\n"
     ]
    },
    {
     "name": "stdout",
     "output_type": "stream",
     "text": [
      "Start Time: 2023-04-24 17:40:49.963329\n",
      "MNIST Adam-256 100 pca True 0.7 0\n",
      "qth_0.7 - eta: 0\n",
      "> Done! [ qth_0.7 - eta: 0 ]\n",
      "[====================================================================================================]\n",
      "> Done ...\n",
      "> Finished!\n",
      "[****************************************************************************************************]\n",
      "Start Time: 2023-04-25 10:47:36.810149\n",
      "MNIST Adam-256 30 raw False 0.7 0\n",
      "[ FOUNDED: raw_MNIST_Adam-256-30 ]\n",
      "Start Time: 2023-04-25 10:47:37.015772\n",
      "MNIST Adam-256 60 raw False 0.7 0\n",
      "[ FOUNDED: raw_MNIST_Adam-256-60 ]\n",
      "Start Time: 2023-04-25 10:47:37.258189\n",
      "MNIST Adam-256 100 raw False 0.7 0\n",
      "qth_0.7 - eta: 0\n"
     ]
    },
    {
     "ename": "KeyboardInterrupt",
     "evalue": "",
     "output_type": "error",
     "traceback": [
      "\u001b[0;31m---------------------------------------------------------------------------\u001b[0m",
      "\u001b[0;31mKeyboardInterrupt\u001b[0m                         Traceback (most recent call last)",
      "\u001b[0;32m<ipython-input-7-c4ceeafc62b0>\u001b[0m in \u001b[0;36m<module>\u001b[0;34m\u001b[0m\n\u001b[1;32m     12\u001b[0m     \u001b[0mprint\u001b[0m\u001b[0;34m(\u001b[0m\u001b[0;34mf'Start Time: {dt.now()}'\u001b[0m\u001b[0;34m)\u001b[0m\u001b[0;34m\u001b[0m\u001b[0;34m\u001b[0m\u001b[0m\n\u001b[1;32m     13\u001b[0m     \u001b[0mprint\u001b[0m\u001b[0;34m(\u001b[0m\u001b[0mDATASET\u001b[0m\u001b[0;34m,\u001b[0m \u001b[0mmodels_name\u001b[0m\u001b[0;34m,\u001b[0m \u001b[0mlhl_n\u001b[0m\u001b[0;34m,\u001b[0m \u001b[0mflavor\u001b[0m\u001b[0;34m,\u001b[0m \u001b[0mload_neurons\u001b[0m\u001b[0;34m,\u001b[0m \u001b[0mthld\u001b[0m\u001b[0;34m,\u001b[0m \u001b[0meta\u001b[0m\u001b[0;34m)\u001b[0m\u001b[0;34m\u001b[0m\u001b[0;34m\u001b[0m\u001b[0m\n\u001b[0;32m---> 14\u001b[0;31m     \u001b[0mrun_parallel\u001b[0m\u001b[0;34m(\u001b[0m\u001b[0mDATASET\u001b[0m\u001b[0;34m,\u001b[0m \u001b[0mmodels_name\u001b[0m\u001b[0;34m,\u001b[0m \u001b[0mlhl_n\u001b[0m\u001b[0;34m,\u001b[0m \u001b[0mflavor\u001b[0m\u001b[0;34m,\u001b[0m \u001b[0mload_neurons\u001b[0m\u001b[0;34m,\u001b[0m \u001b[0mthld\u001b[0m\u001b[0;34m,\u001b[0m \u001b[0meta\u001b[0m\u001b[0;34m)\u001b[0m\u001b[0;34m\u001b[0m\u001b[0;34m\u001b[0m\u001b[0m\n\u001b[0m\u001b[1;32m     15\u001b[0m     \u001b[0mgc\u001b[0m\u001b[0;34m.\u001b[0m\u001b[0mcollect\u001b[0m\u001b[0;34m(\u001b[0m\u001b[0;34m)\u001b[0m\u001b[0;34m\u001b[0m\u001b[0;34m\u001b[0m\u001b[0m\n",
      "\u001b[0;32m~/runtime-monitoring/utilities/bdd_test_thresholds.py\u001b[0m in \u001b[0;36mrun_parallel\u001b[0;34m(DATASET, PREFIX, N, DATA_FALVOR, LOAD_NEURONS, THLD, eta)\u001b[0m\n\u001b[1;32m    103\u001b[0m     df_bdd_info, df_bdd_scores = build_bdd_multi_etas((\n\u001b[1;32m    104\u001b[0m                 \u001b[0mdf\u001b[0m\u001b[0;34m,\u001b[0m \u001b[0mdf_test\u001b[0m\u001b[0;34m,\u001b[0m \u001b[0mdf_true\u001b[0m\u001b[0;34m,\u001b[0m \u001b[0mneurons\u001b[0m\u001b[0;34m,\u001b[0m\u001b[0;34m\u001b[0m\u001b[0;34m\u001b[0m\u001b[0m\n\u001b[0;32m--> 105\u001b[0;31m                 thld_name, thld, max_time, eta, save_path))\n\u001b[0m\u001b[1;32m    106\u001b[0m \u001b[0;34m\u001b[0m\u001b[0m\n\u001b[1;32m    107\u001b[0m     \u001b[0;31m# saving results\u001b[0m\u001b[0;34m\u001b[0m\u001b[0;34m\u001b[0m\u001b[0;34m\u001b[0m\u001b[0m\n",
      "\u001b[0;32m~/runtime-monitoring/utilities/MonitorUnifiedBDD.py\u001b[0m in \u001b[0;36mbuild_bdd_multi_etas\u001b[0;34m(args)\u001b[0m\n\u001b[1;32m    402\u001b[0m \u001b[0;34m\u001b[0m\u001b[0m\n\u001b[1;32m    403\u001b[0m     \u001b[0;31m# build\u001b[0m\u001b[0;34m\u001b[0m\u001b[0;34m\u001b[0m\u001b[0;34m\u001b[0m\u001b[0m\n\u001b[0;32m--> 404\u001b[0;31m     \u001b[0mpatterns\u001b[0m\u001b[0;34m.\u001b[0m\u001b[0madd_dataframe\u001b[0m\u001b[0;34m(\u001b[0m \u001b[0mdf_true\u001b[0m\u001b[0;34m,\u001b[0m \u001b[0meta\u001b[0m\u001b[0;34m,\u001b[0m \u001b[0meval_dfs\u001b[0m\u001b[0;34m=\u001b[0m\u001b[0;34m[\u001b[0m\u001b[0mdf_train\u001b[0m\u001b[0;34m,\u001b[0m \u001b[0mdf_test\u001b[0m\u001b[0;34m]\u001b[0m \u001b[0;34m)\u001b[0m\u001b[0;34m\u001b[0m\u001b[0;34m\u001b[0m\u001b[0m\n\u001b[0m\u001b[1;32m    405\u001b[0m \u001b[0;34m\u001b[0m\u001b[0m\n\u001b[1;32m    406\u001b[0m     \u001b[0;31m# collect scores\u001b[0m\u001b[0;34m\u001b[0m\u001b[0;34m\u001b[0m\u001b[0;34m\u001b[0m\u001b[0m\n",
      "\u001b[0;32m~/runtime-monitoring/utilities/MonitorUnifiedBDD.py\u001b[0m in \u001b[0;36madd_dataframe\u001b[0;34m(self, df, eta, eval_dfs)\u001b[0m\n\u001b[1;32m    185\u001b[0m \u001b[0;34m\u001b[0m\u001b[0m\n\u001b[1;32m    186\u001b[0m         \u001b[0mself\u001b[0m\u001b[0;34m.\u001b[0m\u001b[0mstats\u001b[0m\u001b[0;34m.\u001b[0m\u001b[0mloc\u001b[0m\u001b[0;34m[\u001b[0m\u001b[0mrow\u001b[0m\u001b[0;34m,\u001b[0m \u001b[0;34m'build_time'\u001b[0m\u001b[0;34m]\u001b[0m \u001b[0;34m=\u001b[0m \u001b[0mbuild_time\u001b[0m\u001b[0;34m\u001b[0m\u001b[0;34m\u001b[0m\u001b[0m\n\u001b[0;32m--> 187\u001b[0;31m         \u001b[0mself\u001b[0m\u001b[0;34m.\u001b[0m\u001b[0mstats\u001b[0m\u001b[0;34m.\u001b[0m\u001b[0mloc\u001b[0m\u001b[0;34m[\u001b[0m\u001b[0mrow\u001b[0m\u001b[0;34m,\u001b[0m \u001b[0;34m'size_before_reorder_mb'\u001b[0m\u001b[0;34m]\u001b[0m \u001b[0;34m=\u001b[0m \u001b[0mround\u001b[0m\u001b[0;34m(\u001b[0m \u001b[0masizeof\u001b[0m\u001b[0;34m.\u001b[0m\u001b[0masizeof\u001b[0m\u001b[0;34m(\u001b[0m\u001b[0mself\u001b[0m\u001b[0;34m)\u001b[0m \u001b[0;34m*\u001b[0m \u001b[0;36m1e-6\u001b[0m\u001b[0;34m,\u001b[0m \u001b[0;36m3\u001b[0m\u001b[0;34m)\u001b[0m\u001b[0;34m\u001b[0m\u001b[0;34m\u001b[0m\u001b[0m\n\u001b[0m\u001b[1;32m    188\u001b[0m \u001b[0;34m\u001b[0m\u001b[0m\n\u001b[1;32m    189\u001b[0m \u001b[0;34m\u001b[0m\u001b[0m\n",
      "\u001b[0;32m~/.local/lib/python3.6/site-packages/pympler/asizeof.py\u001b[0m in \u001b[0;36masizeof\u001b[0;34m(*objs, **opts)\u001b[0m\n\u001b[1;32m   2601\u001b[0m         \u001b[0;32mif\u001b[0m \u001b[0mx\u001b[0m\u001b[0;34m:\u001b[0m  \u001b[0;31m# don't size, profile or rank _getobjects tuple\u001b[0m\u001b[0;34m\u001b[0m\u001b[0;34m\u001b[0m\u001b[0m\n\u001b[1;32m   2602\u001b[0m             \u001b[0m_asizer\u001b[0m\u001b[0;34m.\u001b[0m\u001b[0mexclude_objs\u001b[0m\u001b[0;34m(\u001b[0m\u001b[0mt\u001b[0m\u001b[0;34m)\u001b[0m\u001b[0;34m\u001b[0m\u001b[0;34m\u001b[0m\u001b[0m\n\u001b[0;32m-> 2603\u001b[0;31m         \u001b[0ms\u001b[0m \u001b[0;34m=\u001b[0m \u001b[0m_asizer\u001b[0m\u001b[0;34m.\u001b[0m\u001b[0masizeof\u001b[0m\u001b[0;34m(\u001b[0m\u001b[0;34m*\u001b[0m\u001b[0mt\u001b[0m\u001b[0;34m)\u001b[0m\u001b[0;34m\u001b[0m\u001b[0;34m\u001b[0m\u001b[0m\n\u001b[0m\u001b[1;32m   2604\u001b[0m         \u001b[0m_asizer\u001b[0m\u001b[0;34m.\u001b[0m\u001b[0mprint_stats\u001b[0m\u001b[0;34m(\u001b[0m\u001b[0mobjs\u001b[0m\u001b[0;34m=\u001b[0m\u001b[0mt\u001b[0m\u001b[0;34m,\u001b[0m \u001b[0mopts\u001b[0m\u001b[0;34m=\u001b[0m\u001b[0mopts\u001b[0m\u001b[0;34m)\u001b[0m  \u001b[0;31m# show opts as _kwdstr\u001b[0m\u001b[0;34m\u001b[0m\u001b[0;34m\u001b[0m\u001b[0m\n\u001b[1;32m   2605\u001b[0m         \u001b[0m_asizer\u001b[0m\u001b[0;34m.\u001b[0m\u001b[0m_clear\u001b[0m\u001b[0;34m(\u001b[0m\u001b[0;34m)\u001b[0m\u001b[0;34m\u001b[0m\u001b[0;34m\u001b[0m\u001b[0m\n",
      "\u001b[0;32m~/.local/lib/python3.6/site-packages/pympler/asizeof.py\u001b[0m in \u001b[0;36masizeof\u001b[0;34m(self, *objs, **opts)\u001b[0m\n\u001b[1;32m   2030\u001b[0m             \u001b[0mself\u001b[0m\u001b[0;34m.\u001b[0m\u001b[0mset\u001b[0m\u001b[0;34m(\u001b[0m\u001b[0;34m**\u001b[0m\u001b[0mopts\u001b[0m\u001b[0;34m)\u001b[0m\u001b[0;34m\u001b[0m\u001b[0;34m\u001b[0m\u001b[0m\n\u001b[1;32m   2031\u001b[0m         \u001b[0mself\u001b[0m\u001b[0;34m.\u001b[0m\u001b[0mexclude_refs\u001b[0m\u001b[0;34m(\u001b[0m\u001b[0;34m*\u001b[0m\u001b[0mobjs\u001b[0m\u001b[0;34m)\u001b[0m  \u001b[0;31m# skip refs to objs\u001b[0m\u001b[0;34m\u001b[0m\u001b[0;34m\u001b[0m\u001b[0m\n\u001b[0;32m-> 2032\u001b[0;31m         \u001b[0;32mreturn\u001b[0m \u001b[0msum\u001b[0m\u001b[0;34m(\u001b[0m\u001b[0mself\u001b[0m\u001b[0;34m.\u001b[0m\u001b[0m_sizer\u001b[0m\u001b[0;34m(\u001b[0m\u001b[0mo\u001b[0m\u001b[0;34m,\u001b[0m \u001b[0;36m0\u001b[0m\u001b[0;34m,\u001b[0m \u001b[0;36m0\u001b[0m\u001b[0;34m,\u001b[0m \u001b[0;32mNone\u001b[0m\u001b[0;34m)\u001b[0m \u001b[0;32mfor\u001b[0m \u001b[0mo\u001b[0m \u001b[0;32min\u001b[0m \u001b[0mobjs\u001b[0m\u001b[0;34m)\u001b[0m\u001b[0;34m\u001b[0m\u001b[0;34m\u001b[0m\u001b[0m\n\u001b[0m\u001b[1;32m   2033\u001b[0m \u001b[0;34m\u001b[0m\u001b[0m\n\u001b[1;32m   2034\u001b[0m     \u001b[0;32mdef\u001b[0m \u001b[0masizesof\u001b[0m\u001b[0;34m(\u001b[0m\u001b[0mself\u001b[0m\u001b[0;34m,\u001b[0m \u001b[0;34m*\u001b[0m\u001b[0mobjs\u001b[0m\u001b[0;34m,\u001b[0m \u001b[0;34m**\u001b[0m\u001b[0mopts\u001b[0m\u001b[0;34m)\u001b[0m\u001b[0;34m:\u001b[0m\u001b[0;34m\u001b[0m\u001b[0;34m\u001b[0m\u001b[0m\n",
      "\u001b[0;32m~/.local/lib/python3.6/site-packages/pympler/asizeof.py\u001b[0m in \u001b[0;36m<genexpr>\u001b[0;34m(.0)\u001b[0m\n\u001b[1;32m   2030\u001b[0m             \u001b[0mself\u001b[0m\u001b[0;34m.\u001b[0m\u001b[0mset\u001b[0m\u001b[0;34m(\u001b[0m\u001b[0;34m**\u001b[0m\u001b[0mopts\u001b[0m\u001b[0;34m)\u001b[0m\u001b[0;34m\u001b[0m\u001b[0;34m\u001b[0m\u001b[0m\n\u001b[1;32m   2031\u001b[0m         \u001b[0mself\u001b[0m\u001b[0;34m.\u001b[0m\u001b[0mexclude_refs\u001b[0m\u001b[0;34m(\u001b[0m\u001b[0;34m*\u001b[0m\u001b[0mobjs\u001b[0m\u001b[0;34m)\u001b[0m  \u001b[0;31m# skip refs to objs\u001b[0m\u001b[0;34m\u001b[0m\u001b[0;34m\u001b[0m\u001b[0m\n\u001b[0;32m-> 2032\u001b[0;31m         \u001b[0;32mreturn\u001b[0m \u001b[0msum\u001b[0m\u001b[0;34m(\u001b[0m\u001b[0mself\u001b[0m\u001b[0;34m.\u001b[0m\u001b[0m_sizer\u001b[0m\u001b[0;34m(\u001b[0m\u001b[0mo\u001b[0m\u001b[0;34m,\u001b[0m \u001b[0;36m0\u001b[0m\u001b[0;34m,\u001b[0m \u001b[0;36m0\u001b[0m\u001b[0;34m,\u001b[0m \u001b[0;32mNone\u001b[0m\u001b[0;34m)\u001b[0m \u001b[0;32mfor\u001b[0m \u001b[0mo\u001b[0m \u001b[0;32min\u001b[0m \u001b[0mobjs\u001b[0m\u001b[0;34m)\u001b[0m\u001b[0;34m\u001b[0m\u001b[0;34m\u001b[0m\u001b[0m\n\u001b[0m\u001b[1;32m   2033\u001b[0m \u001b[0;34m\u001b[0m\u001b[0m\n\u001b[1;32m   2034\u001b[0m     \u001b[0;32mdef\u001b[0m \u001b[0masizesof\u001b[0m\u001b[0;34m(\u001b[0m\u001b[0mself\u001b[0m\u001b[0;34m,\u001b[0m \u001b[0;34m*\u001b[0m\u001b[0mobjs\u001b[0m\u001b[0;34m,\u001b[0m \u001b[0;34m**\u001b[0m\u001b[0mopts\u001b[0m\u001b[0;34m)\u001b[0m\u001b[0;34m:\u001b[0m\u001b[0;34m\u001b[0m\u001b[0;34m\u001b[0m\u001b[0m\n",
      "\u001b[0;32m~/.local/lib/python3.6/site-packages/pympler/asizeof.py\u001b[0m in \u001b[0;36m_sizer\u001b[0;34m(self, obj, pid, deep, sized)\u001b[0m\n\u001b[1;32m   1962\u001b[0m                         \u001b[0;32melse\u001b[0m\u001b[0;34m:\u001b[0m  \u001b[0;31m# just size and accumulate\u001b[0m\u001b[0;34m\u001b[0m\u001b[0;34m\u001b[0m\u001b[0m\n\u001b[1;32m   1963\u001b[0m                             \u001b[0;32mfor\u001b[0m \u001b[0mo\u001b[0m \u001b[0;32min\u001b[0m \u001b[0mv\u001b[0m\u001b[0;34m.\u001b[0m\u001b[0mrefs\u001b[0m\u001b[0;34m(\u001b[0m\u001b[0mobj\u001b[0m\u001b[0;34m,\u001b[0m \u001b[0;32mFalse\u001b[0m\u001b[0;34m)\u001b[0m\u001b[0;34m:\u001b[0m\u001b[0;34m\u001b[0m\u001b[0;34m\u001b[0m\u001b[0m\n\u001b[0;32m-> 1964\u001b[0;31m                                 \u001b[0ms\u001b[0m \u001b[0;34m+=\u001b[0m \u001b[0mz\u001b[0m\u001b[0;34m(\u001b[0m\u001b[0mo\u001b[0m\u001b[0;34m,\u001b[0m \u001b[0mi\u001b[0m\u001b[0;34m,\u001b[0m \u001b[0md\u001b[0m\u001b[0;34m,\u001b[0m \u001b[0;32mNone\u001b[0m\u001b[0;34m)\u001b[0m\u001b[0;34m\u001b[0m\u001b[0;34m\u001b[0m\u001b[0m\n\u001b[0m\u001b[1;32m   1965\u001b[0m                         \u001b[0;31m# deepest recursion reached\u001b[0m\u001b[0;34m\u001b[0m\u001b[0;34m\u001b[0m\u001b[0;34m\u001b[0m\u001b[0m\n\u001b[1;32m   1966\u001b[0m                         \u001b[0;32mif\u001b[0m \u001b[0mself\u001b[0m\u001b[0;34m.\u001b[0m\u001b[0m_depth\u001b[0m \u001b[0;34m<\u001b[0m \u001b[0md\u001b[0m\u001b[0;34m:\u001b[0m\u001b[0;34m\u001b[0m\u001b[0;34m\u001b[0m\u001b[0m\n",
      "\u001b[0;32m~/.local/lib/python3.6/site-packages/pympler/asizeof.py\u001b[0m in \u001b[0;36m_sizer\u001b[0;34m(self, obj, pid, deep, sized)\u001b[0m\n\u001b[1;32m   1962\u001b[0m                         \u001b[0;32melse\u001b[0m\u001b[0;34m:\u001b[0m  \u001b[0;31m# just size and accumulate\u001b[0m\u001b[0;34m\u001b[0m\u001b[0;34m\u001b[0m\u001b[0m\n\u001b[1;32m   1963\u001b[0m                             \u001b[0;32mfor\u001b[0m \u001b[0mo\u001b[0m \u001b[0;32min\u001b[0m \u001b[0mv\u001b[0m\u001b[0;34m.\u001b[0m\u001b[0mrefs\u001b[0m\u001b[0;34m(\u001b[0m\u001b[0mobj\u001b[0m\u001b[0;34m,\u001b[0m \u001b[0;32mFalse\u001b[0m\u001b[0;34m)\u001b[0m\u001b[0;34m:\u001b[0m\u001b[0;34m\u001b[0m\u001b[0;34m\u001b[0m\u001b[0m\n\u001b[0;32m-> 1964\u001b[0;31m                                 \u001b[0ms\u001b[0m \u001b[0;34m+=\u001b[0m \u001b[0mz\u001b[0m\u001b[0;34m(\u001b[0m\u001b[0mo\u001b[0m\u001b[0;34m,\u001b[0m \u001b[0mi\u001b[0m\u001b[0;34m,\u001b[0m \u001b[0md\u001b[0m\u001b[0;34m,\u001b[0m \u001b[0;32mNone\u001b[0m\u001b[0;34m)\u001b[0m\u001b[0;34m\u001b[0m\u001b[0;34m\u001b[0m\u001b[0m\n\u001b[0m\u001b[1;32m   1965\u001b[0m                         \u001b[0;31m# deepest recursion reached\u001b[0m\u001b[0;34m\u001b[0m\u001b[0;34m\u001b[0m\u001b[0;34m\u001b[0m\u001b[0m\n\u001b[1;32m   1966\u001b[0m                         \u001b[0;32mif\u001b[0m \u001b[0mself\u001b[0m\u001b[0;34m.\u001b[0m\u001b[0m_depth\u001b[0m \u001b[0;34m<\u001b[0m \u001b[0md\u001b[0m\u001b[0;34m:\u001b[0m\u001b[0;34m\u001b[0m\u001b[0;34m\u001b[0m\u001b[0m\n",
      "\u001b[0;32m~/.local/lib/python3.6/site-packages/pympler/asizeof.py\u001b[0m in \u001b[0;36m_sizer\u001b[0;34m(self, obj, pid, deep, sized)\u001b[0m\n\u001b[1;32m   1962\u001b[0m                         \u001b[0;32melse\u001b[0m\u001b[0;34m:\u001b[0m  \u001b[0;31m# just size and accumulate\u001b[0m\u001b[0;34m\u001b[0m\u001b[0;34m\u001b[0m\u001b[0m\n\u001b[1;32m   1963\u001b[0m                             \u001b[0;32mfor\u001b[0m \u001b[0mo\u001b[0m \u001b[0;32min\u001b[0m \u001b[0mv\u001b[0m\u001b[0;34m.\u001b[0m\u001b[0mrefs\u001b[0m\u001b[0;34m(\u001b[0m\u001b[0mobj\u001b[0m\u001b[0;34m,\u001b[0m \u001b[0;32mFalse\u001b[0m\u001b[0;34m)\u001b[0m\u001b[0;34m:\u001b[0m\u001b[0;34m\u001b[0m\u001b[0;34m\u001b[0m\u001b[0m\n\u001b[0;32m-> 1964\u001b[0;31m                                 \u001b[0ms\u001b[0m \u001b[0;34m+=\u001b[0m \u001b[0mz\u001b[0m\u001b[0;34m(\u001b[0m\u001b[0mo\u001b[0m\u001b[0;34m,\u001b[0m \u001b[0mi\u001b[0m\u001b[0;34m,\u001b[0m \u001b[0md\u001b[0m\u001b[0;34m,\u001b[0m \u001b[0;32mNone\u001b[0m\u001b[0;34m)\u001b[0m\u001b[0;34m\u001b[0m\u001b[0;34m\u001b[0m\u001b[0m\n\u001b[0m\u001b[1;32m   1965\u001b[0m                         \u001b[0;31m# deepest recursion reached\u001b[0m\u001b[0;34m\u001b[0m\u001b[0;34m\u001b[0m\u001b[0;34m\u001b[0m\u001b[0m\n\u001b[1;32m   1966\u001b[0m                         \u001b[0;32mif\u001b[0m \u001b[0mself\u001b[0m\u001b[0;34m.\u001b[0m\u001b[0m_depth\u001b[0m \u001b[0;34m<\u001b[0m \u001b[0md\u001b[0m\u001b[0;34m:\u001b[0m\u001b[0;34m\u001b[0m\u001b[0;34m\u001b[0m\u001b[0m\n",
      "\u001b[0;32m~/.local/lib/python3.6/site-packages/pympler/asizeof.py\u001b[0m in \u001b[0;36m_sizer\u001b[0;34m(self, obj, pid, deep, sized)\u001b[0m\n\u001b[1;32m   1962\u001b[0m                         \u001b[0;32melse\u001b[0m\u001b[0;34m:\u001b[0m  \u001b[0;31m# just size and accumulate\u001b[0m\u001b[0;34m\u001b[0m\u001b[0;34m\u001b[0m\u001b[0m\n\u001b[1;32m   1963\u001b[0m                             \u001b[0;32mfor\u001b[0m \u001b[0mo\u001b[0m \u001b[0;32min\u001b[0m \u001b[0mv\u001b[0m\u001b[0;34m.\u001b[0m\u001b[0mrefs\u001b[0m\u001b[0;34m(\u001b[0m\u001b[0mobj\u001b[0m\u001b[0;34m,\u001b[0m \u001b[0;32mFalse\u001b[0m\u001b[0;34m)\u001b[0m\u001b[0;34m:\u001b[0m\u001b[0;34m\u001b[0m\u001b[0;34m\u001b[0m\u001b[0m\n\u001b[0;32m-> 1964\u001b[0;31m                                 \u001b[0ms\u001b[0m \u001b[0;34m+=\u001b[0m \u001b[0mz\u001b[0m\u001b[0;34m(\u001b[0m\u001b[0mo\u001b[0m\u001b[0;34m,\u001b[0m \u001b[0mi\u001b[0m\u001b[0;34m,\u001b[0m \u001b[0md\u001b[0m\u001b[0;34m,\u001b[0m \u001b[0;32mNone\u001b[0m\u001b[0;34m)\u001b[0m\u001b[0;34m\u001b[0m\u001b[0;34m\u001b[0m\u001b[0m\n\u001b[0m\u001b[1;32m   1965\u001b[0m                         \u001b[0;31m# deepest recursion reached\u001b[0m\u001b[0;34m\u001b[0m\u001b[0;34m\u001b[0m\u001b[0;34m\u001b[0m\u001b[0m\n\u001b[1;32m   1966\u001b[0m                         \u001b[0;32mif\u001b[0m \u001b[0mself\u001b[0m\u001b[0;34m.\u001b[0m\u001b[0m_depth\u001b[0m \u001b[0;34m<\u001b[0m \u001b[0md\u001b[0m\u001b[0;34m:\u001b[0m\u001b[0;34m\u001b[0m\u001b[0;34m\u001b[0m\u001b[0m\n",
      "\u001b[0;32m~/.local/lib/python3.6/site-packages/pympler/asizeof.py\u001b[0m in \u001b[0;36m_sizer\u001b[0;34m(self, obj, pid, deep, sized)\u001b[0m\n\u001b[1;32m   1962\u001b[0m                         \u001b[0;32melse\u001b[0m\u001b[0;34m:\u001b[0m  \u001b[0;31m# just size and accumulate\u001b[0m\u001b[0;34m\u001b[0m\u001b[0;34m\u001b[0m\u001b[0m\n\u001b[1;32m   1963\u001b[0m                             \u001b[0;32mfor\u001b[0m \u001b[0mo\u001b[0m \u001b[0;32min\u001b[0m \u001b[0mv\u001b[0m\u001b[0;34m.\u001b[0m\u001b[0mrefs\u001b[0m\u001b[0;34m(\u001b[0m\u001b[0mobj\u001b[0m\u001b[0;34m,\u001b[0m \u001b[0;32mFalse\u001b[0m\u001b[0;34m)\u001b[0m\u001b[0;34m:\u001b[0m\u001b[0;34m\u001b[0m\u001b[0;34m\u001b[0m\u001b[0m\n\u001b[0;32m-> 1964\u001b[0;31m                                 \u001b[0ms\u001b[0m \u001b[0;34m+=\u001b[0m \u001b[0mz\u001b[0m\u001b[0;34m(\u001b[0m\u001b[0mo\u001b[0m\u001b[0;34m,\u001b[0m \u001b[0mi\u001b[0m\u001b[0;34m,\u001b[0m \u001b[0md\u001b[0m\u001b[0;34m,\u001b[0m \u001b[0;32mNone\u001b[0m\u001b[0;34m)\u001b[0m\u001b[0;34m\u001b[0m\u001b[0;34m\u001b[0m\u001b[0m\n\u001b[0m\u001b[1;32m   1965\u001b[0m                         \u001b[0;31m# deepest recursion reached\u001b[0m\u001b[0;34m\u001b[0m\u001b[0;34m\u001b[0m\u001b[0;34m\u001b[0m\u001b[0m\n\u001b[1;32m   1966\u001b[0m                         \u001b[0;32mif\u001b[0m \u001b[0mself\u001b[0m\u001b[0;34m.\u001b[0m\u001b[0m_depth\u001b[0m \u001b[0;34m<\u001b[0m \u001b[0md\u001b[0m\u001b[0;34m:\u001b[0m\u001b[0;34m\u001b[0m\u001b[0;34m\u001b[0m\u001b[0m\n",
      "\u001b[0;32m~/.local/lib/python3.6/site-packages/pympler/asizeof.py\u001b[0m in \u001b[0;36m_sizer\u001b[0;34m(self, obj, pid, deep, sized)\u001b[0m\n\u001b[1;32m   1962\u001b[0m                         \u001b[0;32melse\u001b[0m\u001b[0;34m:\u001b[0m  \u001b[0;31m# just size and accumulate\u001b[0m\u001b[0;34m\u001b[0m\u001b[0;34m\u001b[0m\u001b[0m\n\u001b[1;32m   1963\u001b[0m                             \u001b[0;32mfor\u001b[0m \u001b[0mo\u001b[0m \u001b[0;32min\u001b[0m \u001b[0mv\u001b[0m\u001b[0;34m.\u001b[0m\u001b[0mrefs\u001b[0m\u001b[0;34m(\u001b[0m\u001b[0mobj\u001b[0m\u001b[0;34m,\u001b[0m \u001b[0;32mFalse\u001b[0m\u001b[0;34m)\u001b[0m\u001b[0;34m:\u001b[0m\u001b[0;34m\u001b[0m\u001b[0;34m\u001b[0m\u001b[0m\n\u001b[0;32m-> 1964\u001b[0;31m                                 \u001b[0ms\u001b[0m \u001b[0;34m+=\u001b[0m \u001b[0mz\u001b[0m\u001b[0;34m(\u001b[0m\u001b[0mo\u001b[0m\u001b[0;34m,\u001b[0m \u001b[0mi\u001b[0m\u001b[0;34m,\u001b[0m \u001b[0md\u001b[0m\u001b[0;34m,\u001b[0m \u001b[0;32mNone\u001b[0m\u001b[0;34m)\u001b[0m\u001b[0;34m\u001b[0m\u001b[0;34m\u001b[0m\u001b[0m\n\u001b[0m\u001b[1;32m   1965\u001b[0m                         \u001b[0;31m# deepest recursion reached\u001b[0m\u001b[0;34m\u001b[0m\u001b[0;34m\u001b[0m\u001b[0;34m\u001b[0m\u001b[0m\n\u001b[1;32m   1966\u001b[0m                         \u001b[0;32mif\u001b[0m \u001b[0mself\u001b[0m\u001b[0;34m.\u001b[0m\u001b[0m_depth\u001b[0m \u001b[0;34m<\u001b[0m \u001b[0md\u001b[0m\u001b[0;34m:\u001b[0m\u001b[0;34m\u001b[0m\u001b[0;34m\u001b[0m\u001b[0m\n",
      "\u001b[0;32m~/.local/lib/python3.6/site-packages/pympler/asizeof.py\u001b[0m in \u001b[0;36m_sizer\u001b[0;34m(self, obj, pid, deep, sized)\u001b[0m\n\u001b[1;32m   1962\u001b[0m                         \u001b[0;32melse\u001b[0m\u001b[0;34m:\u001b[0m  \u001b[0;31m# just size and accumulate\u001b[0m\u001b[0;34m\u001b[0m\u001b[0;34m\u001b[0m\u001b[0m\n\u001b[1;32m   1963\u001b[0m                             \u001b[0;32mfor\u001b[0m \u001b[0mo\u001b[0m \u001b[0;32min\u001b[0m \u001b[0mv\u001b[0m\u001b[0;34m.\u001b[0m\u001b[0mrefs\u001b[0m\u001b[0;34m(\u001b[0m\u001b[0mobj\u001b[0m\u001b[0;34m,\u001b[0m \u001b[0;32mFalse\u001b[0m\u001b[0;34m)\u001b[0m\u001b[0;34m:\u001b[0m\u001b[0;34m\u001b[0m\u001b[0;34m\u001b[0m\u001b[0m\n\u001b[0;32m-> 1964\u001b[0;31m                                 \u001b[0ms\u001b[0m \u001b[0;34m+=\u001b[0m \u001b[0mz\u001b[0m\u001b[0;34m(\u001b[0m\u001b[0mo\u001b[0m\u001b[0;34m,\u001b[0m \u001b[0mi\u001b[0m\u001b[0;34m,\u001b[0m \u001b[0md\u001b[0m\u001b[0;34m,\u001b[0m \u001b[0;32mNone\u001b[0m\u001b[0;34m)\u001b[0m\u001b[0;34m\u001b[0m\u001b[0;34m\u001b[0m\u001b[0m\n\u001b[0m\u001b[1;32m   1965\u001b[0m                         \u001b[0;31m# deepest recursion reached\u001b[0m\u001b[0;34m\u001b[0m\u001b[0;34m\u001b[0m\u001b[0;34m\u001b[0m\u001b[0m\n\u001b[1;32m   1966\u001b[0m                         \u001b[0;32mif\u001b[0m \u001b[0mself\u001b[0m\u001b[0;34m.\u001b[0m\u001b[0m_depth\u001b[0m \u001b[0;34m<\u001b[0m \u001b[0md\u001b[0m\u001b[0;34m:\u001b[0m\u001b[0;34m\u001b[0m\u001b[0;34m\u001b[0m\u001b[0m\n",
      "\u001b[0;32m~/.local/lib/python3.6/site-packages/pympler/asizeof.py\u001b[0m in \u001b[0;36m_sizer\u001b[0;34m(self, obj, pid, deep, sized)\u001b[0m\n\u001b[1;32m   1962\u001b[0m                         \u001b[0;32melse\u001b[0m\u001b[0;34m:\u001b[0m  \u001b[0;31m# just size and accumulate\u001b[0m\u001b[0;34m\u001b[0m\u001b[0;34m\u001b[0m\u001b[0m\n\u001b[1;32m   1963\u001b[0m                             \u001b[0;32mfor\u001b[0m \u001b[0mo\u001b[0m \u001b[0;32min\u001b[0m \u001b[0mv\u001b[0m\u001b[0;34m.\u001b[0m\u001b[0mrefs\u001b[0m\u001b[0;34m(\u001b[0m\u001b[0mobj\u001b[0m\u001b[0;34m,\u001b[0m \u001b[0;32mFalse\u001b[0m\u001b[0;34m)\u001b[0m\u001b[0;34m:\u001b[0m\u001b[0;34m\u001b[0m\u001b[0;34m\u001b[0m\u001b[0m\n\u001b[0;32m-> 1964\u001b[0;31m                                 \u001b[0ms\u001b[0m \u001b[0;34m+=\u001b[0m \u001b[0mz\u001b[0m\u001b[0;34m(\u001b[0m\u001b[0mo\u001b[0m\u001b[0;34m,\u001b[0m \u001b[0mi\u001b[0m\u001b[0;34m,\u001b[0m \u001b[0md\u001b[0m\u001b[0;34m,\u001b[0m \u001b[0;32mNone\u001b[0m\u001b[0;34m)\u001b[0m\u001b[0;34m\u001b[0m\u001b[0;34m\u001b[0m\u001b[0m\n\u001b[0m\u001b[1;32m   1965\u001b[0m                         \u001b[0;31m# deepest recursion reached\u001b[0m\u001b[0;34m\u001b[0m\u001b[0;34m\u001b[0m\u001b[0;34m\u001b[0m\u001b[0m\n\u001b[1;32m   1966\u001b[0m                         \u001b[0;32mif\u001b[0m \u001b[0mself\u001b[0m\u001b[0;34m.\u001b[0m\u001b[0m_depth\u001b[0m \u001b[0;34m<\u001b[0m \u001b[0md\u001b[0m\u001b[0;34m:\u001b[0m\u001b[0;34m\u001b[0m\u001b[0;34m\u001b[0m\u001b[0m\n",
      "\u001b[0;32m~/.local/lib/python3.6/site-packages/pympler/asizeof.py\u001b[0m in \u001b[0;36m_sizer\u001b[0;34m(self, obj, pid, deep, sized)\u001b[0m\n\u001b[1;32m   1933\u001b[0m                 \u001b[0mself\u001b[0m\u001b[0;34m.\u001b[0m\u001b[0m_excl_d\u001b[0m\u001b[0;34m[\u001b[0m\u001b[0mk\u001b[0m\u001b[0;34m]\u001b[0m \u001b[0;34m+=\u001b[0m \u001b[0;36m1\u001b[0m\u001b[0;34m\u001b[0m\u001b[0;34m\u001b[0m\u001b[0m\n\u001b[1;32m   1934\u001b[0m             \u001b[0;32melse\u001b[0m\u001b[0;34m:\u001b[0m\u001b[0;34m\u001b[0m\u001b[0;34m\u001b[0m\u001b[0m\n\u001b[0;32m-> 1935\u001b[0;31m                 \u001b[0mv\u001b[0m \u001b[0;34m=\u001b[0m \u001b[0m_typedefs\u001b[0m\u001b[0;34m.\u001b[0m\u001b[0mget\u001b[0m\u001b[0;34m(\u001b[0m\u001b[0mk\u001b[0m\u001b[0;34m,\u001b[0m \u001b[0;32mNone\u001b[0m\u001b[0;34m)\u001b[0m\u001b[0;34m\u001b[0m\u001b[0;34m\u001b[0m\u001b[0m\n\u001b[0m\u001b[1;32m   1936\u001b[0m                 \u001b[0;32mif\u001b[0m \u001b[0;32mnot\u001b[0m \u001b[0mv\u001b[0m\u001b[0;34m:\u001b[0m  \u001b[0;31m# new typedef\u001b[0m\u001b[0;34m\u001b[0m\u001b[0;34m\u001b[0m\u001b[0m\n\u001b[1;32m   1937\u001b[0m                     _typedefs[k] = v = _typedef(obj, derive=self._derive_,\n",
      "\u001b[0;31mKeyboardInterrupt\u001b[0m: "
     ]
    }
   ],
   "source": [
    "# run testing bdd thresholds for all models\n",
    "# w/o neuron selections with eta = 0\n",
    "# flavor ['raw', 'pca']\n",
    "\n",
    "flavors = ['raw', 'pca']\n",
    "subset_neurons = [True, False]\n",
    "max_time = 0\n",
    "eta = 0\n",
    "thlds = [0.9, 0, 0.5, 0.7, 0.3]\n",
    "\n",
    "for thld, load_neurons, flavor, lhl_n in product(thlds, subset_neurons, flavors, lhl_neurons):\n",
    "    print(f'Start Time: {dt.now()}')\n",
    "    print(DATASET, models_name, lhl_n, flavor, load_neurons, thld, eta)\n",
    "    run_parallel(DATASET, models_name, lhl_n, flavor, load_neurons, thld, eta)\n",
    "    gc.collect()"
   ]
  },
  {
   "cell_type": "code",
   "execution_count": null,
   "id": "fa8d53af",
   "metadata": {},
   "outputs": [],
   "source": []
  },
  {
   "cell_type": "code",
   "execution_count": null,
   "id": "b5b9cc35",
   "metadata": {},
   "outputs": [],
   "source": []
  },
  {
   "cell_type": "code",
   "execution_count": null,
   "id": "642fc007",
   "metadata": {},
   "outputs": [],
   "source": []
  },
  {
   "cell_type": "code",
   "execution_count": null,
   "id": "7f2cf012",
   "metadata": {},
   "outputs": [],
   "source": []
  },
  {
   "cell_type": "code",
   "execution_count": null,
   "id": "fd3550f8",
   "metadata": {},
   "outputs": [],
   "source": []
  }
 ],
 "metadata": {
  "kernelspec": {
   "display_name": "Python 3",
   "language": "python",
   "name": "python3"
  },
  "language_info": {
   "codemirror_mode": {
    "name": "ipython",
    "version": 3
   },
   "file_extension": ".py",
   "mimetype": "text/x-python",
   "name": "python",
   "nbconvert_exporter": "python",
   "pygments_lexer": "ipython3",
   "version": "3.6.8"
  }
 },
 "nbformat": 4,
 "nbformat_minor": 5
}
