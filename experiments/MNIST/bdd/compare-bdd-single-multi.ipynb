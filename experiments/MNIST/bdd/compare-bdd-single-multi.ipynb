{
 "cells": [
  {
   "cell_type": "code",
   "execution_count": 13,
   "id": "1d7f5801",
   "metadata": {},
   "outputs": [],
   "source": [
    "import pandas as pd\n",
    "import numpy as np\n",
    "import sys\n",
    "from pathlib import Path\n",
    "from itertools import product"
   ]
  },
  {
   "cell_type": "code",
   "execution_count": 2,
   "id": "7ff685c3",
   "metadata": {},
   "outputs": [],
   "source": [
    "# env variables\n",
    "REPO_PATH = '/home/ah19/runtime-monitoring'\n",
    "DATASET = 'MNIST'\n",
    "PREFIX = 'Adam-256-30'\n",
    "FILENAME_POSTFIX = f'{DATASET}_{PREFIX}'\n",
    "DATA_FALVOR = 'raw'\n",
    "LOAD_NEURONS = True\n",
    "POSTFIX = ''\n",
    "\n",
    "import os\n",
    "os.chdir('../..')\n",
    "from utilities.utils import load_json\n",
    "from utilities.pathManager import fetchPaths\n",
    "from utilities.MonitorUnifiedBDD import build_bdd_multi_etas, build_bdd"
   ]
  },
  {
   "cell_type": "code",
   "execution_count": 4,
   "id": "4f97ec59",
   "metadata": {},
   "outputs": [],
   "source": [
    "# paths\n",
    "base = Path(REPO_PATH)\n",
    "paths = fetchPaths(base, DATASET)\n",
    "\n",
    "path = paths[DATASET.lower()]\n",
    "path_bdd_testingThresholds = paths['bdd_testingThresholds_' + DATA_FALVOR] / FILENAME_POSTFIX\n",
    "\n",
    "path_lastHiddenLayer_pca = paths['lastHiddenLayer_pca']\n",
    "path_lastHiddenLayer_pca_single = path_lastHiddenLayer_pca / FILENAME_POSTFIX / 'Single'\n",
    "# path_lastHiddenLayer_pca_classes = path_lastHiddenLayer_pca / FILENAME_POSTFIX / 'Classes'\n",
    "\n",
    "path_lastHiddenLayer = paths['lastHiddenLayer_raw'] / FILENAME_POSTFIX"
   ]
  },
  {
   "cell_type": "code",
   "execution_count": 5,
   "id": "ae325d2b",
   "metadata": {},
   "outputs": [
    {
     "name": "stdout",
     "output_type": "stream",
     "text": [
      "Loading train Data ...\n",
      "Loading test Data ...\n",
      "Loading Neurons ...\n"
     ]
    }
   ],
   "source": [
    "\n",
    "# import Data\n",
    "print('Loading train Data ...')\n",
    "df = pd.read_csv(path_lastHiddenLayer / f'{FILENAME_POSTFIX}_train.csv')\n",
    "\n",
    "# split train data\n",
    "df_true = df[df['true'] == True].copy()\n",
    "df_true = df_true.drop('true', axis=1).reset_index(drop=True)\n",
    "\n",
    "print('Loading test Data ...')\n",
    "df_test = pd.read_csv(path_lastHiddenLayer / f'{FILENAME_POSTFIX}_test.csv')\n",
    "\n",
    "\n",
    "print('Loading Neurons ...')\n",
    "neurons = None\n",
    "if LOAD_NEURONS:\n",
    "    neurons = load_json(path_lastHiddenLayer_pca_single / f'{FILENAME_POSTFIX}_neurons.json')\n"
   ]
  },
  {
   "cell_type": "code",
   "execution_count": 6,
   "id": "cd5d7552",
   "metadata": {},
   "outputs": [],
   "source": [
    "# define threshold\n",
    "\n",
    "p = 0.9\n",
    "\n",
    "thld = np.quantile(df_true.drop('y', axis=1), p, axis=0)\n",
    "thld_name = f'qth_{p}'\n",
    "\n",
    "# degree of freedom\n",
    "eta = 0"
   ]
  },
  {
   "cell_type": "code",
   "execution_count": 7,
   "id": "9152e532",
   "metadata": {},
   "outputs": [
    {
     "name": "stdout",
     "output_type": "stream",
     "text": [
      "qth_0.9 - eta: 0\n",
      "> Done! [ qth_0.9 - eta: 0 ]\n"
     ]
    }
   ],
   "source": [
    "res = build_bdd((df.copy(), df_test.copy(), df_true.copy(), neurons, thld_name, thld, eta, None))"
   ]
  },
  {
   "cell_type": "code",
   "execution_count": 8,
   "id": "0ba59849",
   "metadata": {},
   "outputs": [
    {
     "name": "stdout",
     "output_type": "stream",
     "text": [
      "qth_0.9 - eta: 0\n",
      "> Done! [ qth_0.9 - eta: 0 ]\n"
     ]
    }
   ],
   "source": [
    "res_m = build_bdd_multi_etas((df.copy(), df_test.copy(), df_true.copy(), neurons, thld_name, thld, eta, None))"
   ]
  },
  {
   "cell_type": "code",
   "execution_count": 9,
   "id": "367c77ed",
   "metadata": {},
   "outputs": [
    {
     "data": {
      "text/html": [
       "<div>\n",
       "<style scoped>\n",
       "    .dataframe tbody tr th:only-of-type {\n",
       "        vertical-align: middle;\n",
       "    }\n",
       "\n",
       "    .dataframe tbody tr th {\n",
       "        vertical-align: top;\n",
       "    }\n",
       "\n",
       "    .dataframe thead th {\n",
       "        text-align: right;\n",
       "    }\n",
       "</style>\n",
       "<table border=\"1\" class=\"dataframe\">\n",
       "  <thead>\n",
       "    <tr style=\"text-align: right;\">\n",
       "      <th></th>\n",
       "      <th>thld</th>\n",
       "      <th>df</th>\n",
       "      <th>build_time</th>\n",
       "      <th>size_before_reorder_mb</th>\n",
       "      <th>reorder_time</th>\n",
       "      <th>size_after_reorder_mb</th>\n",
       "    </tr>\n",
       "  </thead>\n",
       "  <tbody>\n",
       "    <tr>\n",
       "      <th>1</th>\n",
       "      <td>qth_0.9</td>\n",
       "      <td>0.0</td>\n",
       "      <td>16.146</td>\n",
       "      <td>35.547</td>\n",
       "      <td>0.68</td>\n",
       "      <td>4.012</td>\n",
       "    </tr>\n",
       "  </tbody>\n",
       "</table>\n",
       "</div>"
      ],
      "text/plain": [
       "      thld   df  build_time  size_before_reorder_mb  reorder_time  \\\n",
       "1  qth_0.9  0.0      16.146                  35.547          0.68   \n",
       "\n",
       "   size_after_reorder_mb  \n",
       "1                  4.012  "
      ]
     },
     "execution_count": 9,
     "metadata": {},
     "output_type": "execute_result"
    }
   ],
   "source": [
    "res[0]"
   ]
  },
  {
   "cell_type": "code",
   "execution_count": 10,
   "id": "a6a142e8",
   "metadata": {},
   "outputs": [
    {
     "data": {
      "text/plain": [
       "1.0"
      ]
     },
     "execution_count": 10,
     "metadata": {},
     "output_type": "execute_result"
    }
   ],
   "source": [
    "res[1].loc[(res[1]['stage'] == 'test') & (res[1]['y'] == 'all'), 'outOfPatternMissClassified'].values[0]"
   ]
  },
  {
   "cell_type": "code",
   "execution_count": 11,
   "id": "a4cb4e4c",
   "metadata": {},
   "outputs": [
    {
     "data": {
      "text/html": [
       "<div>\n",
       "<style scoped>\n",
       "    .dataframe tbody tr th:only-of-type {\n",
       "        vertical-align: middle;\n",
       "    }\n",
       "\n",
       "    .dataframe tbody tr th {\n",
       "        vertical-align: top;\n",
       "    }\n",
       "\n",
       "    .dataframe thead th {\n",
       "        text-align: right;\n",
       "    }\n",
       "</style>\n",
       "<table border=\"1\" class=\"dataframe\">\n",
       "  <thead>\n",
       "    <tr style=\"text-align: right;\">\n",
       "      <th></th>\n",
       "      <th>thld</th>\n",
       "      <th>df</th>\n",
       "      <th>build_time</th>\n",
       "      <th>size_before_reorder_mb</th>\n",
       "      <th>reorder_time</th>\n",
       "      <th>size_after_reorder_mb</th>\n",
       "    </tr>\n",
       "  </thead>\n",
       "  <tbody>\n",
       "    <tr>\n",
       "      <th>1</th>\n",
       "      <td>qth_0.9</td>\n",
       "      <td>0.0</td>\n",
       "      <td>17.426</td>\n",
       "      <td>35.547</td>\n",
       "      <td>0.69</td>\n",
       "      <td>4.012</td>\n",
       "    </tr>\n",
       "  </tbody>\n",
       "</table>\n",
       "</div>"
      ],
      "text/plain": [
       "      thld   df  build_time  size_before_reorder_mb  reorder_time  \\\n",
       "1  qth_0.9  0.0      17.426                  35.547          0.69   \n",
       "\n",
       "   size_after_reorder_mb  \n",
       "1                  4.012  "
      ]
     },
     "execution_count": 11,
     "metadata": {},
     "output_type": "execute_result"
    }
   ],
   "source": [
    "res_m[0]"
   ]
  },
  {
   "cell_type": "code",
   "execution_count": 12,
   "id": "8e87dfb0",
   "metadata": {},
   "outputs": [
    {
     "data": {
      "text/html": [
       "<div>\n",
       "<style scoped>\n",
       "    .dataframe tbody tr th:only-of-type {\n",
       "        vertical-align: middle;\n",
       "    }\n",
       "\n",
       "    .dataframe tbody tr th {\n",
       "        vertical-align: top;\n",
       "    }\n",
       "\n",
       "    .dataframe thead th {\n",
       "        text-align: right;\n",
       "    }\n",
       "</style>\n",
       "<table border=\"1\" class=\"dataframe\">\n",
       "  <thead>\n",
       "    <tr style=\"text-align: right;\">\n",
       "      <th></th>\n",
       "      <th>y</th>\n",
       "      <th>_false</th>\n",
       "      <th>_false_miss_classified</th>\n",
       "      <th>count</th>\n",
       "      <th>outOfPattern</th>\n",
       "      <th>outOfPatternMissClassified</th>\n",
       "      <th>eta</th>\n",
       "      <th>stage</th>\n",
       "      <th>thld</th>\n",
       "    </tr>\n",
       "  </thead>\n",
       "  <tbody>\n",
       "    <tr>\n",
       "      <th>4</th>\n",
       "      <td>2</td>\n",
       "      <td>2.0</td>\n",
       "      <td>0.0</td>\n",
       "      <td>1032.0</td>\n",
       "      <td>0.001938</td>\n",
       "      <td>1.0</td>\n",
       "      <td>0</td>\n",
       "      <td>test</td>\n",
       "      <td>qth_0.9</td>\n",
       "    </tr>\n",
       "    <tr>\n",
       "      <th>5</th>\n",
       "      <td>4</td>\n",
       "      <td>3.0</td>\n",
       "      <td>0.0</td>\n",
       "      <td>982.0</td>\n",
       "      <td>0.003055</td>\n",
       "      <td>1.0</td>\n",
       "      <td>0</td>\n",
       "      <td>test</td>\n",
       "      <td>qth_0.9</td>\n",
       "    </tr>\n",
       "    <tr>\n",
       "      <th>6</th>\n",
       "      <td>5</td>\n",
       "      <td>4.0</td>\n",
       "      <td>0.0</td>\n",
       "      <td>892.0</td>\n",
       "      <td>0.004484</td>\n",
       "      <td>1.0</td>\n",
       "      <td>0</td>\n",
       "      <td>test</td>\n",
       "      <td>qth_0.9</td>\n",
       "    </tr>\n",
       "    <tr>\n",
       "      <th>7</th>\n",
       "      <td>6</td>\n",
       "      <td>2.0</td>\n",
       "      <td>0.0</td>\n",
       "      <td>958.0</td>\n",
       "      <td>0.002088</td>\n",
       "      <td>1.0</td>\n",
       "      <td>0</td>\n",
       "      <td>test</td>\n",
       "      <td>qth_0.9</td>\n",
       "    </tr>\n",
       "    <tr>\n",
       "      <th>8</th>\n",
       "      <td>8</td>\n",
       "      <td>6.0</td>\n",
       "      <td>0.0</td>\n",
       "      <td>974.0</td>\n",
       "      <td>0.006160</td>\n",
       "      <td>1.0</td>\n",
       "      <td>0</td>\n",
       "      <td>test</td>\n",
       "      <td>qth_0.9</td>\n",
       "    </tr>\n",
       "    <tr>\n",
       "      <th>9</th>\n",
       "      <td>9</td>\n",
       "      <td>1.0</td>\n",
       "      <td>0.0</td>\n",
       "      <td>1009.0</td>\n",
       "      <td>0.000991</td>\n",
       "      <td>1.0</td>\n",
       "      <td>0</td>\n",
       "      <td>test</td>\n",
       "      <td>qth_0.9</td>\n",
       "    </tr>\n",
       "    <tr>\n",
       "      <th>10</th>\n",
       "      <td>all</td>\n",
       "      <td>18.0</td>\n",
       "      <td>0.0</td>\n",
       "      <td>10000.0</td>\n",
       "      <td>0.001800</td>\n",
       "      <td>1.0</td>\n",
       "      <td>0</td>\n",
       "      <td>test</td>\n",
       "      <td>qth_0.9</td>\n",
       "    </tr>\n",
       "    <tr>\n",
       "      <th>11</th>\n",
       "      <td>all_mean</td>\n",
       "      <td>0.0</td>\n",
       "      <td>0.0</td>\n",
       "      <td>10000.0</td>\n",
       "      <td>0.003119</td>\n",
       "      <td>1.0</td>\n",
       "      <td>0</td>\n",
       "      <td>test</td>\n",
       "      <td>qth_0.9</td>\n",
       "    </tr>\n",
       "  </tbody>\n",
       "</table>\n",
       "</div>"
      ],
      "text/plain": [
       "           y  _false  _false_miss_classified    count  outOfPattern  \\\n",
       "4          2     2.0                     0.0   1032.0      0.001938   \n",
       "5          4     3.0                     0.0    982.0      0.003055   \n",
       "6          5     4.0                     0.0    892.0      0.004484   \n",
       "7          6     2.0                     0.0    958.0      0.002088   \n",
       "8          8     6.0                     0.0    974.0      0.006160   \n",
       "9          9     1.0                     0.0   1009.0      0.000991   \n",
       "10       all    18.0                     0.0  10000.0      0.001800   \n",
       "11  all_mean     0.0                     0.0  10000.0      0.003119   \n",
       "\n",
       "    outOfPatternMissClassified  eta stage     thld  \n",
       "4                          1.0    0  test  qth_0.9  \n",
       "5                          1.0    0  test  qth_0.9  \n",
       "6                          1.0    0  test  qth_0.9  \n",
       "7                          1.0    0  test  qth_0.9  \n",
       "8                          1.0    0  test  qth_0.9  \n",
       "9                          1.0    0  test  qth_0.9  \n",
       "10                         1.0    0  test  qth_0.9  \n",
       "11                         1.0    0  test  qth_0.9  "
      ]
     },
     "execution_count": 12,
     "metadata": {},
     "output_type": "execute_result"
    }
   ],
   "source": [
    "res_m[1].loc[(res_m[1]['stage'] == 'test') & (res_m[1]['eta'] == eta)]"
   ]
  },
  {
   "cell_type": "code",
   "execution_count": 14,
   "id": "e98e8b95",
   "metadata": {},
   "outputs": [
    {
     "data": {
      "text/plain": [
       "True"
      ]
     },
     "execution_count": 14,
     "metadata": {},
     "output_type": "execute_result"
    }
   ],
   "source": [
    "np.all(res_m[1].loc[(res_m[1]['stage'] == 'test') & (res_m[1]['eta'] == eta), 'outOfPatternMissClassified'] \\\n",
    "== res[1].loc[res[1]['stage'] == 'test', 'outOfPatternMissClassified'])"
   ]
  },
  {
   "cell_type": "code",
   "execution_count": null,
   "id": "1fca6b45",
   "metadata": {},
   "outputs": [],
   "source": []
  }
 ],
 "metadata": {
  "kernelspec": {
   "display_name": "Python 3",
   "language": "python",
   "name": "python3"
  },
  "language_info": {
   "codemirror_mode": {
    "name": "ipython",
    "version": 3
   },
   "file_extension": ".py",
   "mimetype": "text/x-python",
   "name": "python",
   "nbconvert_exporter": "python",
   "pygments_lexer": "ipython3",
   "version": "3.6.8"
  }
 },
 "nbformat": 4,
 "nbformat_minor": 5
}
