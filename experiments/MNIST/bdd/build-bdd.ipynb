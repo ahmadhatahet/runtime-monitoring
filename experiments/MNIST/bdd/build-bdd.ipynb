{
 "cells": [
  {
   "cell_type": "code",
   "execution_count": 1,
   "id": "ef928b2d",
   "metadata": {},
   "outputs": [
    {
     "name": "stdout",
     "output_type": "stream",
     "text": [
      "MNIST\n",
      "/home/ah19/runtime-monitoring\n"
     ]
    }
   ],
   "source": [
    "import os\n",
    "from pathlib import Path\n",
    "base = Path().cwd()\n",
    "# switch to home directory to import helper scripts\n",
    "if str(base).split('/')[-1] != 'runtime-monitoring':\n",
    "    DATASET = str(base).split('/')[5]\n",
    "    os.chdir('../../..')\n",
    "    base = Path().cwd()\n",
    "\n",
    "print(DATASET)\n",
    "print(base)"
   ]
  },
  {
   "cell_type": "code",
   "execution_count": 2,
   "id": "3d9468df",
   "metadata": {},
   "outputs": [],
   "source": [
    "# import env virables\n",
    "from dotenv import load_dotenv\n",
    "load_dotenv(base / 'configurations' / 'thresholds.env')\n",
    "\n",
    "# import helper functions\n",
    "from utilities.pathManager import fetchPaths\n",
    "from utilities.bdd_threshold import build_threshold"
   ]
  },
  {
   "cell_type": "code",
   "execution_count": 3,
   "id": "04c9c486",
   "metadata": {},
   "outputs": [],
   "source": [
    "# env variables\n",
    "POSTFIX = 'Adam-256-30'\n",
    "FILENAME_POSTFIX = f'{DATASET}_{POSTFIX}'\n",
    "FALVOR = 'raw'"
   ]
  },
  {
   "cell_type": "code",
   "execution_count": 4,
   "id": "cf5aeb8e",
   "metadata": {},
   "outputs": [],
   "source": [
    "paths = fetchPaths(base, DATASET, POSTFIX)\n",
    "\n",
    "path_data = paths['data']\n",
    "path_model = paths['model']\n",
    "path_saved_models = paths['saved_models']\n",
    "path_bdd = paths['bdd'] / FALVOR\n",
    "path_lhl = paths['lhl_' + FALVOR]"
   ]
  },
  {
   "cell_type": "code",
   "execution_count": 5,
   "id": "daa940e2",
   "metadata": {
    "scrolled": false
   },
   "outputs": [
    {
     "name": "stdout",
     "output_type": "stream",
     "text": [
      "Threshold: relu, eta: 1\n",
      "\teta: 0\n"
     ]
    },
    {
     "name": "stderr",
     "output_type": "stream",
     "text": [
      "/home/ah19/runtime-monitoring/utilities/MonitorUnifiedBDD.py:150: UserWarning: Changed in `dd` version 0.5.7: In the `dict` returned by the method `dd.cudd.BDD.statistics`, the value of the key `'mem'` has changed to bytes (from 10**6 bytes).\n",
      "  bdd_stats = self.bdd.statistics()\n"
     ]
    },
    {
     "name": "stdout",
     "output_type": "stream",
     "text": [
      "thld                            NaN\n",
      "eta                             0.0\n",
      "build_time                    0.028\n",
      "size_mb                    2157.018\n",
      "reorder_time                   0.04\n",
      "num_reorder                     1.0\n",
      "num_neurons                    22.0\n",
      "start_time      2023-05-07 20:48:16\n",
      "end_time        2023-05-07 20:48:18\n",
      "Name: 1, dtype: object\n",
      "\teta: 1\n"
     ]
    },
    {
     "name": "stderr",
     "output_type": "stream",
     "text": [
      "/home/ah19/runtime-monitoring/utilities/MonitorUnifiedBDD.py:182: UserWarning: Changed in `dd` version 0.5.7: In the `dict` returned by the method `dd.cudd.BDD.statistics`, the value of the key `'mem'` has changed to bytes (from 10**6 bytes).\n",
      "  bdd_stats = self.bdd.statistics()\n",
      "/home/ah19/runtime-monitoring/utilities/MonitorUnifiedBDD.py:185: UserWarning: Changed in `dd` version 0.5.7: In the `dict` returned by the method `dd.cudd.BDD.statistics`, the value of the key `'mem'` has changed to bytes (from 10**6 bytes).\n",
      "  self.stats.loc[row, 'size_mb'] = round( self.bdd.statistics()['mem'] * 1e-6, 3)\n"
     ]
    },
    {
     "name": "stdout",
     "output_type": "stream",
     "text": [
      "thld                            NaN\n",
      "eta                             1.0\n",
      "build_time                    0.152\n",
      "size_mb                     2158.87\n",
      "reorder_time                   0.72\n",
      "num_reorder                     4.0\n",
      "num_neurons                    22.0\n",
      "start_time      2023-05-07 20:48:20\n",
      "end_time        2023-05-07 20:48:29\n",
      "Name: 2, dtype: object\n",
      "> Done! [ relu - eta: 1 ]\n",
      "[====================================================================================================]\n",
      "> Done ...\n",
      "> Finished!\n",
      "[****************************************************************************************************]\n"
     ]
    }
   ],
   "source": [
    "N = int(POSTFIX.split('-')[-1])\n",
    "LOAD_NEURONS = True\n",
    "THLD = 0\n",
    "eta = 1\n",
    "save_path = path_bdd\n",
    "\n",
    "\n",
    "build_threshold(DATASET, POSTFIX, N, FALVOR, LOAD_NEURONS, THLD, eta, save_path)"
   ]
  },
  {
   "cell_type": "code",
   "execution_count": null,
   "id": "e06dfe6d",
   "metadata": {},
   "outputs": [],
   "source": []
  },
  {
   "cell_type": "code",
   "execution_count": null,
   "id": "2fe64ea1",
   "metadata": {},
   "outputs": [],
   "source": []
  }
 ],
 "metadata": {
  "kernelspec": {
   "display_name": "Python 3 (ipykernel)",
   "language": "python",
   "name": "python3"
  },
  "language_info": {
   "codemirror_mode": {
    "name": "ipython",
    "version": 3
   },
   "file_extension": ".py",
   "mimetype": "text/x-python",
   "name": "python",
   "nbconvert_exporter": "python",
   "pygments_lexer": "ipython3",
   "version": "3.10.11"
  }
 },
 "nbformat": 4,
 "nbformat_minor": 5
}
