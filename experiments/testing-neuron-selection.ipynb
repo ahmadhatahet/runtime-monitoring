{
 "cells": [
  {
   "cell_type": "markdown",
   "metadata": {},
   "source": [
    "# Setup Variables"
   ]
  },
  {
   "cell_type": "code",
   "execution_count": 1,
   "metadata": {},
   "outputs": [],
   "source": [
    "DATASET = 'FashionMNIST'\n",
    "POSTFIX = 'Adam-32-30'\n",
    "FILENAME_POSTFIX = f'{DATASET}_{POSTFIX}'\n",
    "SEED = 42\n",
    "CUDA = 0\n",
    "LHL = int(POSTFIX.split('-')[-1])\n",
    "GPU_NAME = f'cuda:{CUDA}'"
   ]
  },
  {
   "cell_type": "markdown",
   "metadata": {},
   "source": [
    "# Libraries"
   ]
  },
  {
   "cell_type": "code",
   "execution_count": 4,
   "metadata": {
    "id": "FLmxFGnxg6ZG"
   },
   "outputs": [],
   "source": [
    "import matplotlib.pyplot as plt\n",
    "import numpy as np\n",
    "import pandas as pd\n",
    "import seaborn as sns\n",
    "from fastprogress import progress_bar\n",
    "from pathlib import Path"
   ]
  },
  {
   "cell_type": "code",
   "execution_count": 2,
   "metadata": {},
   "outputs": [],
   "source": [
    "import os\n",
    "from pathlib import Path\n",
    "\n",
    "base = Path().cwd()\n",
    "\n",
    "if base.name != 'runtime-monitoring':\n",
    "    os.chdir('../')\n",
    "    base = Path().cwd()\n",
    "\n",
    "base"
   ]
  },
  {
   "cell_type": "code",
   "execution_count": 3,
   "metadata": {},
   "outputs": [],
   "source": [
    "# disable warnings\n",
    "import warnings\n",
    "warnings.filterwarnings('ignore')"
   ]
  },
  {
   "cell_type": "code",
   "execution_count": 5,
   "metadata": {},
   "outputs": [],
   "source": [
    "from utilities.utils import *\n",
    "from utilities.pathManager import fetchPaths\n",
    "from utilities.plotFunctions import *\n",
    "from utilities.scaleFunctions import *\n",
    "from utilities.pcaFunctions import *"
   ]
  },
  {
   "cell_type": "markdown",
   "metadata": {
    "id": "h7eERD3yVH2H"
   },
   "source": [
    "# GPU Device & Seed"
   ]
  },
  {
   "cell_type": "code",
   "execution_count": 6,
   "metadata": {
    "id": "CS9DVaKDi_2C"
   },
   "outputs": [],
   "source": [
    "np.random.seed(SEED)"
   ]
  },
  {
   "cell_type": "markdown",
   "metadata": {},
   "source": [
    "# Paths"
   ]
  },
  {
   "cell_type": "code",
   "execution_count": 7,
   "metadata": {
    "scrolled": true
   },
   "outputs": [],
   "source": [
    "paths = fetchPaths(base, DATASET, POSTFIX, False)\n",
    "\n",
    "path_data = paths['data']\n",
    "path_lhl = paths['lhl']\n",
    "path_lhl_raw = paths['lhl_raw']\n",
    "path_lhl_pca = paths['lhl_pca']"
   ]
  },
  {
   "cell_type": "markdown",
   "metadata": {
    "id": "h7eERD3yVH2H"
   },
   "source": [
    "# Load / Split / DataLoader"
   ]
  },
  {
   "cell_type": "code",
   "execution_count": 8,
   "metadata": {},
   "outputs": [],
   "source": [
    "# import Data\n",
    "df_raw_train = pd.read_csv(path_lhl_raw / f\"{FILENAME_POSTFIX}_raw_train.csv\")\n",
    "\n",
    "# select only true classified\n",
    "df_raw_true = df_train[df_train[\"true\"] == True].copy()\n",
    "df_raw_true = df_true.drop(\"true\", axis=1).reset_index(drop=True)\n",
    "\n",
    "df_raw_test = pd.read_csv(path_lhl_raw / f\"{FILENAME_POSTFIX}_raw_test.csv\")"
   ]
  },
  {
   "cell_type": "code",
   "execution_count": 9,
   "metadata": {},
   "outputs": [],
   "source": [
    "# import Data\n",
    "df_pca_train = pd.read_csv(path_lhl_pca / f\"{FILENAME_POSTFIX}_pca_train.csv\")\n",
    "\n",
    "# select only true classified\n",
    "df_pca_true = df_train[df_train[\"true\"] == True].copy()\n",
    "df_pca_true = df_true.drop(\"true\", axis=1).reset_index(drop=True)\n",
    "\n",
    "df_pca_test = pd.read_csv(path_lhl_pca / f\"{FILENAME_POSTFIX}_pca_test.csv\")"
   ]
  },
  {
   "cell_type": "code",
   "execution_count": null,
   "metadata": {},
   "outputs": [],
   "source": []
  },
  {
   "cell_type": "code",
   "execution_count": null,
   "metadata": {},
   "outputs": [],
   "source": []
  }
 ],
 "metadata": {
  "accelerator": "GPU",
  "colab": {
   "collapsed_sections": [
    "mcDeYOA8d1wL"
   ],
   "provenance": []
  },
  "gpuClass": "standard",
  "kernelspec": {
   "display_name": "Python 3",
   "language": "python",
   "name": "python3"
  },
  "language_info": {
   "codemirror_mode": {
    "name": "ipython",
    "version": 3
   },
   "file_extension": ".py",
   "mimetype": "text/x-python",
   "name": "python",
   "nbconvert_exporter": "python",
   "pygments_lexer": "ipython3",
   "version": "3.10.11"
  },
  "vscode": {
   "interpreter": {
    "hash": "2b89e4666a1b1f5f90ada5928a1b04d9ad859bf674b23c56e0417352230a6456"
   }
  }
 },
 "nbformat": 4,
 "nbformat_minor": 4
}
