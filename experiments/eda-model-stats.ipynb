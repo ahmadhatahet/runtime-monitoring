{
 "cells": [
  {
   "cell_type": "markdown",
   "metadata": {},
   "source": [
    "# Setup Variables and home directory"
   ]
  },
  {
   "cell_type": "markdown",
   "metadata": {},
   "source": [
    "MNIST, FashionMNIST, GTSRB, Cifar10"
   ]
  },
  {
   "cell_type": "code",
   "execution_count": 1,
   "metadata": {},
   "outputs": [
    {
     "data": {
      "text/plain": [
       "PosixPath('/home/ah19/runtime-monitoring')"
      ]
     },
     "execution_count": 1,
     "metadata": {},
     "output_type": "execute_result"
    }
   ],
   "source": [
    "# set homw directory\n",
    "import os\n",
    "from pathlib import Path\n",
    "\n",
    "base = Path().cwd()\n",
    "\n",
    "if base.name != 'runtime-monitoring':\n",
    "    os.chdir('../')\n",
    "    base = Path().cwd()\n",
    "\n",
    "base"
   ]
  },
  {
   "cell_type": "code",
   "execution_count": 109,
   "metadata": {},
   "outputs": [],
   "source": [
    "DATASET = 'GTSRB'\n",
    "SEED = 42\n",
    "CUDA = 0\n",
    "GPU_NAME = f'cuda:{CUDA}'"
   ]
  },
  {
   "cell_type": "code",
   "execution_count": 110,
   "metadata": {},
   "outputs": [],
   "source": [
    "# disable warnings\n",
    "import warnings\n",
    "warnings.filterwarnings('ignore')"
   ]
  },
  {
   "cell_type": "markdown",
   "metadata": {},
   "source": [
    "# Libraries"
   ]
  },
  {
   "cell_type": "code",
   "execution_count": 111,
   "metadata": {
    "id": "FLmxFGnxg6ZG"
   },
   "outputs": [],
   "source": [
    "import pandas as pd\n",
    "import numpy as np\n",
    "import matplotlib.pyplot as plt\n",
    "import seaborn as sns\n",
    "import ast\n",
    "from fastprogress import progress_bar\n",
    "\n",
    "from utilities.utils import load_json, load_pickle\n",
    "from utilities.pathManager import fetchPaths\n",
    "from utilities.MonitorUnifiedBDD import MonitorBDD"
   ]
  },
  {
   "cell_type": "markdown",
   "metadata": {},
   "source": [
    "# Paths"
   ]
  },
  {
   "cell_type": "code",
   "execution_count": 112,
   "metadata": {},
   "outputs": [],
   "source": [
    "paths = fetchPaths(base, DATASET, '', False)\n",
    "\n",
    "path_data = paths['data']\n",
    "path_model_stats = paths['saved_models'].parent.parent"
   ]
  },
  {
   "cell_type": "markdown",
   "metadata": {
    "id": "h7eERD3yVH2H"
   },
   "source": [
    "# Seed"
   ]
  },
  {
   "cell_type": "code",
   "execution_count": 113,
   "metadata": {
    "id": "CS9DVaKDi_2C"
   },
   "outputs": [],
   "source": [
    "np.random.seed(SEED)"
   ]
  },
  {
   "cell_type": "markdown",
   "metadata": {
    "id": "h7eERD3yVH2H"
   },
   "source": [
    "# Import Data"
   ]
  },
  {
   "cell_type": "code",
   "execution_count": 121,
   "metadata": {},
   "outputs": [],
   "source": [
    "# import Data\n",
    "model_stats = pd.read_csv(path_model_stats / f\"{DATASET}_model_stats.csv\")\n",
    "\n",
    "for i in range(model_stats.shape[0]):\n",
    "    model_stats.at[i, 'train_losses'] = ast.literal_eval(model_stats.loc[i, 'train_losses'])\n",
    "    model_stats.at[i, 'test_losses'] = ast.literal_eval(model_stats.loc[i, 'test_losses'])\n",
    "    model_stats.at[i, 'train_accs'] = ast.literal_eval(model_stats.loc[i, 'train_accs'])\n",
    "    model_stats.at[i, 'test_accs'] = ast.literal_eval(model_stats.loc[i, 'test_accs'])"
   ]
  },
  {
   "cell_type": "code",
   "execution_count": 122,
   "metadata": {},
   "outputs": [
    {
     "data": {
      "text/html": [
       "<div>\n",
       "<style scoped>\n",
       "    .dataframe tbody tr th:only-of-type {\n",
       "        vertical-align: middle;\n",
       "    }\n",
       "\n",
       "    .dataframe tbody tr th {\n",
       "        vertical-align: top;\n",
       "    }\n",
       "\n",
       "    .dataframe thead th {\n",
       "        text-align: right;\n",
       "    }\n",
       "</style>\n",
       "<table border=\"1\" class=\"dataframe\">\n",
       "  <thead>\n",
       "    <tr style=\"text-align: right;\">\n",
       "      <th></th>\n",
       "      <th>lhl</th>\n",
       "      <th>optim</th>\n",
       "      <th>scheduler</th>\n",
       "      <th>epochs</th>\n",
       "      <th>best_epoch</th>\n",
       "      <th>train_losses</th>\n",
       "      <th>test_losses</th>\n",
       "      <th>train_accs</th>\n",
       "      <th>test_accs</th>\n",
       "      <th>test_loss</th>\n",
       "      <th>test_acc</th>\n",
       "    </tr>\n",
       "  </thead>\n",
       "  <tbody>\n",
       "    <tr>\n",
       "      <th>0</th>\n",
       "      <td>30</td>\n",
       "      <td>AdamW</td>\n",
       "      <td>MultiStepLR</td>\n",
       "      <td>16</td>\n",
       "      <td>5</td>\n",
       "      <td>[1.090770547861991, 0.5553423764855937, 0.4620...</td>\n",
       "      <td>[0.35838051727539255, 0.2738835567338321, 0.27...</td>\n",
       "      <td>[0.6905797123908997, 0.8324318528175354, 0.856...</td>\n",
       "      <td>[0.8947996497154236, 0.9212786555290222, 0.922...</td>\n",
       "      <td>0.132908</td>\n",
       "      <td>0.954437</td>\n",
       "    </tr>\n",
       "    <tr>\n",
       "      <th>1</th>\n",
       "      <td>50</td>\n",
       "      <td>AdamW</td>\n",
       "      <td>MultiStepLR</td>\n",
       "      <td>19</td>\n",
       "      <td>8</td>\n",
       "      <td>[1.032119691014111, 0.5271015473757463, 0.4516...</td>\n",
       "      <td>[0.339003027679811, 0.28493828562493545, 0.243...</td>\n",
       "      <td>[0.7064626216888428, 0.8388413190841675, 0.859...</td>\n",
       "      <td>[0.9031488299369812, 0.9169847369194031, 0.934...</td>\n",
       "      <td>0.136836</td>\n",
       "      <td>0.964933</td>\n",
       "    </tr>\n",
       "    <tr>\n",
       "      <th>2</th>\n",
       "      <td>80</td>\n",
       "      <td>AdamW</td>\n",
       "      <td>MultiStepLR</td>\n",
       "      <td>18</td>\n",
       "      <td>7</td>\n",
       "      <td>[1.001645063492225, 0.5372965036835028, 0.4557...</td>\n",
       "      <td>[0.3669426899602395, 0.26232243846845993, 0.27...</td>\n",
       "      <td>[0.714451014995575, 0.8356209397315979, 0.8583...</td>\n",
       "      <td>[0.8981392979621887, 0.9246183037757874, 0.915...</td>\n",
       "      <td>0.150521</td>\n",
       "      <td>0.958254</td>\n",
       "    </tr>\n",
       "    <tr>\n",
       "      <th>3</th>\n",
       "      <td>150</td>\n",
       "      <td>AdamW</td>\n",
       "      <td>MultiStepLR</td>\n",
       "      <td>17</td>\n",
       "      <td>6</td>\n",
       "      <td>[0.9685861806740697, 0.5306843919302148, 0.462...</td>\n",
       "      <td>[0.31592916930449827, 0.3715250091129587, 0.56...</td>\n",
       "      <td>[0.7241120934486389, 0.837715744972229, 0.8561...</td>\n",
       "      <td>[0.8979007601737976, 0.895753800868988, 0.8637...</td>\n",
       "      <td>0.127612</td>\n",
       "      <td>0.955630</td>\n",
       "    </tr>\n",
       "  </tbody>\n",
       "</table>\n",
       "</div>"
      ],
      "text/plain": [
       "   lhl  optim    scheduler  epochs  best_epoch   \n",
       "0   30  AdamW  MultiStepLR      16           5  \\\n",
       "1   50  AdamW  MultiStepLR      19           8   \n",
       "2   80  AdamW  MultiStepLR      18           7   \n",
       "3  150  AdamW  MultiStepLR      17           6   \n",
       "\n",
       "                                        train_losses   \n",
       "0  [1.090770547861991, 0.5553423764855937, 0.4620...  \\\n",
       "1  [1.032119691014111, 0.5271015473757463, 0.4516...   \n",
       "2  [1.001645063492225, 0.5372965036835028, 0.4557...   \n",
       "3  [0.9685861806740697, 0.5306843919302148, 0.462...   \n",
       "\n",
       "                                         test_losses   \n",
       "0  [0.35838051727539255, 0.2738835567338321, 0.27...  \\\n",
       "1  [0.339003027679811, 0.28493828562493545, 0.243...   \n",
       "2  [0.3669426899602395, 0.26232243846845993, 0.27...   \n",
       "3  [0.31592916930449827, 0.3715250091129587, 0.56...   \n",
       "\n",
       "                                          train_accs   \n",
       "0  [0.6905797123908997, 0.8324318528175354, 0.856...  \\\n",
       "1  [0.7064626216888428, 0.8388413190841675, 0.859...   \n",
       "2  [0.714451014995575, 0.8356209397315979, 0.8583...   \n",
       "3  [0.7241120934486389, 0.837715744972229, 0.8561...   \n",
       "\n",
       "                                           test_accs  test_loss  test_acc  \n",
       "0  [0.8947996497154236, 0.9212786555290222, 0.922...   0.132908  0.954437  \n",
       "1  [0.9031488299369812, 0.9169847369194031, 0.934...   0.136836  0.964933  \n",
       "2  [0.8981392979621887, 0.9246183037757874, 0.915...   0.150521  0.958254  \n",
       "3  [0.8979007601737976, 0.895753800868988, 0.8637...   0.127612  0.955630  "
      ]
     },
     "execution_count": 122,
     "metadata": {},
     "output_type": "execute_result"
    }
   ],
   "source": [
    "model_stats"
   ]
  },
  {
   "cell_type": "code",
   "execution_count": 135,
   "metadata": {},
   "outputs": [
    {
     "data": {
      "text/plain": [
       "<matplotlib.lines.Line2D at 0x7f3d3720afe0>"
      ]
     },
     "execution_count": 135,
     "metadata": {},
     "output_type": "execute_result"
    },
    {
     "data": {
      "image/png": "[encoded data removed]",
      "text/plain": [
       "<Figure size 640x480 with 1 Axes>"
      ]
     },
     "metadata": {},
     "output_type": "display_data"
    }
   ],
   "source": [
    "palette = sns.dark_palette('#69d', model_stats.shape[0])\n",
    "\n",
    "col = 'test_accs'\n",
    "\n",
    "for i in range(model_stats.shape[0]):\n",
    "    plt.scatter(model_stats['best_epoch'][i], model_stats['test_acc'][i], color=palette[i])\n",
    "    sns.lineplot(\n",
    "        x=range(len(model_stats[col][i])),\n",
    "        y=model_stats[col][i],\n",
    "        palette=[palette[i]],\n",
    "        label=f\"LHL: {model_stats['lhl'][i]} - Epochs: {model_stats['epochs'][i]} - BE: {model_stats['best_epoch'][i]}\"\n",
    "    )\n",
    "    \n",
    "plt.axhline(0.95, color='black', linewidth=2, linestyle='--')"
   ]
  },
  {
   "cell_type": "code",
   "execution_count": null,
   "metadata": {},
   "outputs": [],
   "source": []
  },
  {
   "cell_type": "code",
   "execution_count": null,
   "metadata": {},
   "outputs": [],
   "source": []
  },
  {
   "cell_type": "code",
   "execution_count": null,
   "metadata": {},
   "outputs": [],
   "source": []
  },
  {
   "cell_type": "code",
   "execution_count": null,
   "metadata": {},
   "outputs": [],
   "source": []
  }
 ],
 "metadata": {
  "accelerator": "GPU",
  "colab": {
   "collapsed_sections": [
    "mcDeYOA8d1wL"
   ],
   "provenance": []
  },
  "gpuClass": "standard",
  "kernelspec": {
   "display_name": "Python 3",
   "language": "python",
   "name": "python3"
  },
  "language_info": {
   "codemirror_mode": {
    "name": "ipython",
    "version": 3
   },
   "file_extension": ".py",
   "mimetype": "text/x-python",
   "name": "python",
   "nbconvert_exporter": "python",
   "pygments_lexer": "ipython3",
   "version": "3.10.11"
  },
  "vscode": {
   "interpreter": {
    "hash": "2b89e4666a1b1f5f90ada5928a1b04d9ad859bf674b23c56e0417352230a6456"
   }
  }
 },
 "nbformat": 4,
 "nbformat_minor": 4
}
