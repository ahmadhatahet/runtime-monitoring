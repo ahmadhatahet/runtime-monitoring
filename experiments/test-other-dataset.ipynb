{
 "cells": [
  {
   "cell_type": "markdown",
   "metadata": {},
   "source": [
    "# Setup Variables"
   ]
  },
  {
   "cell_type": "markdown",
   "metadata": {},
   "source": [
    "MNIST, FashionMNIST, GTSRB, Cifar10"
   ]
  },
  {
   "cell_type": "code",
   "execution_count": 196,
   "metadata": {},
   "outputs": [],
   "source": [
    "DATASET = 'MNIST'\n",
    "POSTFIX = 'SGD-32-60'\n",
    "FILENAME_POSTFIX = f'{DATASET}_{POSTFIX}'\n",
    "SEED = 42\n",
    "CUDA = 0\n",
    "LHL = int(POSTFIX.split('-')[-1])\n",
    "GPU_NAME = f'cuda:{CUDA}'"
   ]
  },
  {
   "cell_type": "code",
   "execution_count": 197,
   "metadata": {},
   "outputs": [],
   "source": [
    "TEST_DATASET = 'FashionMNIST'\n",
    "TEST_POSTFIX = 'AdamW-64-60'\n",
    "TEST_FILENAME_POSTFIX = f'{TEST_DATASET}_{TEST_POSTFIX}'"
   ]
  },
  {
   "cell_type": "code",
   "execution_count": 198,
   "metadata": {},
   "outputs": [
    {
     "data": {
      "text/plain": [
       "PosixPath('/home/ah19/runtime-monitoring')"
      ]
     },
     "execution_count": 198,
     "metadata": {},
     "output_type": "execute_result"
    }
   ],
   "source": [
    "import os\n",
    "from pathlib import Path\n",
    "\n",
    "base = Path().cwd()\n",
    "\n",
    "if base.name != 'runtime-monitoring':\n",
    "    os.chdir('../')\n",
    "    base = Path().cwd()\n",
    "\n",
    "base"
   ]
  },
  {
   "cell_type": "code",
   "execution_count": 199,
   "metadata": {},
   "outputs": [],
   "source": [
    "# disable warnings\n",
    "import warnings\n",
    "warnings.filterwarnings('ignore')"
   ]
  },
  {
   "cell_type": "markdown",
   "metadata": {},
   "source": [
    "# Libraries"
   ]
  },
  {
   "cell_type": "code",
   "execution_count": 200,
   "metadata": {
    "id": "FLmxFGnxg6ZG"
   },
   "outputs": [],
   "source": [
    "import pandas as pd\n",
    "import numpy as np\n",
    "from pathlib import Path\n",
    "from sklearn.model_selection import train_test_split\n",
    "from fastprogress import progress_bar\n",
    "\n",
    "from utilities.utils import *\n",
    "from utilities.pathManager import fetchPaths\n",
    "from utilities.MonitorUnifiedBDD import MonitorBDD"
   ]
  },
  {
   "cell_type": "markdown",
   "metadata": {},
   "source": [
    "# Paths"
   ]
  },
  {
   "cell_type": "code",
   "execution_count": 201,
   "metadata": {},
   "outputs": [
    {
     "data": {
      "text/plain": [
       "PosixPath('/home/ah19/runtime-monitoring/experiments/MNIST/saved-models/MNIST_SGD-32-60/MNIST_SGD-32-60-acc-0.983-loss-0.063.pth.tar')"
      ]
     },
     "execution_count": 201,
     "metadata": {},
     "output_type": "execute_result"
    }
   ],
   "source": [
    "paths = fetchPaths(base, DATASET, POSTFIX, False)\n",
    "\n",
    "path_data = paths['data']\n",
    "path_lhl = paths['lhl']\n",
    "path_lhl_raw = paths['lhl_raw']\n",
    "path_lhl_pca = paths['lhl_scaler_pca']\n",
    "\n",
    "\n",
    "# load config file\n",
    "configs = load_json(paths['configuration'])\n",
    "config = configs['configuration']\n",
    "\n",
    "# model config\n",
    "model_setup = configs['model_setup']\n",
    "model_config = configs['model_config']\n",
    "\n",
    "# saved model\n",
    "path_model = next(paths['saved_models'].glob('*.pth.tar'))\n",
    "\n",
    "path_model"
   ]
  },
  {
   "cell_type": "code",
   "execution_count": 202,
   "metadata": {},
   "outputs": [],
   "source": [
    "test_paths = fetchPaths(base, TEST_DATASET, TEST_POSTFIX, False)\n",
    "\n",
    "test_path_data = test_paths['data']\n",
    "test_path_lhl = test_paths['lhl']\n",
    "test_path_lhl_raw = test_paths['lhl_raw']\n",
    "test_path_lhl_pca = test_paths['lhl_scaler_pca']"
   ]
  },
  {
   "cell_type": "markdown",
   "metadata": {},
   "source": [
    "# Get LHL Data for the Test Dataset"
   ]
  },
  {
   "cell_type": "code",
   "execution_count": 203,
   "metadata": {},
   "outputs": [],
   "source": [
    "import torch\n",
    "import torchvision\n",
    "import torch.nn as nn\n",
    "import torch.backends.cudnn as cudnn"
   ]
  },
  {
   "cell_type": "code",
   "execution_count": 204,
   "metadata": {},
   "outputs": [],
   "source": [
    "from models.mnist_model import MNIST_Model\n",
    "from models.fashionmnist_model import FashionMNIST_CNN\n",
    "from models.gtsrb_model import GTSRB_CNN\n",
    "from models.cifar10_dla import Cifar10_DLA\n",
    "from models.cifar10_model import Cifar10_CNN\n",
    "\n",
    "from models.transformers import transformers\n",
    "\n",
    "models = {\n",
    "    'mnist': MNIST_Model,\n",
    "    'fashionmnist': FashionMNIST_CNN,\n",
    "    'gtsrb': GTSRB_CNN,\n",
    "#     'cifar10': Cifar10_DLA,\n",
    "    'cifar10': Cifar10_CNN\n",
    "}\n",
    "\n",
    "model_ = models[DATASET.lower()]\n",
    "transformer = transformers[DATASET.lower()]"
   ]
  },
  {
   "cell_type": "code",
   "execution_count": 205,
   "metadata": {},
   "outputs": [
    {
     "data": {
      "text/plain": [
       "'NVIDIA A100 80GB PCIe'"
      ]
     },
     "execution_count": 205,
     "metadata": {},
     "output_type": "execute_result"
    }
   ],
   "source": [
    "device = get_device(GPU_NAME)\n",
    "torch.cuda.get_device_name(device)"
   ]
  },
  {
   "cell_type": "code",
   "execution_count": 206,
   "metadata": {},
   "outputs": [],
   "source": [
    "feature_names_test = get_labels(TEST_DATASET)\n",
    "\n",
    "# train_data = get_dataset(TEST_DATASET, test_path_data, train=True, transform=transformer['train'])\n",
    "test_data = get_dataset(TEST_DATASET, test_path_data, train=False)"
   ]
  },
  {
   "cell_type": "code",
   "execution_count": 207,
   "metadata": {},
   "outputs": [],
   "source": [
    "_, test_sample = train_test_split(\n",
    "    torch.range(0, len(test_data.targets)-1, dtype=torch.int32),\n",
    "    test_size=1000, shuffle=True, stratify=test_data.targets\n",
    ")\n",
    "\n",
    "testloader = get_dataLoader(test_data, model_config['batch_size'], False)"
   ]
  },
  {
   "cell_type": "code",
   "execution_count": 208,
   "metadata": {},
   "outputs": [
    {
     "data": {
      "image/png": "[encoded data removed]",
      "text/plain": [
       "<Figure size 1200x500 with 12 Axes>"
      ]
     },
     "metadata": {},
     "output_type": "display_data"
    }
   ],
   "source": [
    "show_images_loader(testloader, feature_names=feature_names_test)"
   ]
  },
  {
   "cell_type": "code",
   "execution_count": 209,
   "metadata": {},
   "outputs": [
    {
     "data": {
      "text/plain": [
       "''"
      ]
     },
     "execution_count": 209,
     "metadata": {},
     "output_type": "execute_result"
    }
   ],
   "source": [
    "# torch 2.0 compile and parallel data training\n",
    "model_setup['last_hidden_neurons'] = LHL\n",
    "model = model_(**model_setup).to(device)\n",
    "model = torch.compile(model)\n",
    "\n",
    "# load model weights\n",
    "model.load_state_dict(torch.load(path_model)['model'])\n",
    "\n",
    "# eavluation mode\n",
    "model.eval()\n",
    "\n",
    "''"
   ]
  },
  {
   "cell_type": "code",
   "execution_count": 210,
   "metadata": {},
   "outputs": [
    {
     "data": {
      "text/plain": [
       "(0.1307, 0.3015)"
      ]
     },
     "execution_count": 210,
     "metadata": {},
     "output_type": "execute_result"
    }
   ],
   "source": [
    "mean_, std_ = transformer['test'].transforms[1].mean, transformer['test'].transforms[1].std\n",
    "mean_, std_"
   ]
  },
  {
   "cell_type": "code",
   "execution_count": 211,
   "metadata": {},
   "outputs": [],
   "source": [
    "x = torch.stack([test_data[i][0] for i in test_sample]) - mean_ / std_"
   ]
  },
  {
   "cell_type": "code",
   "execution_count": 212,
   "metadata": {},
   "outputs": [
    {
     "data": {
      "text/plain": [
       "torch.Size([1000, 1, 28, 28])"
      ]
     },
     "execution_count": 212,
     "metadata": {},
     "output_type": "execute_result"
    }
   ],
   "source": [
    "x.shape"
   ]
  },
  {
   "cell_type": "code",
   "execution_count": 213,
   "metadata": {},
   "outputs": [
    {
     "data": {
      "text/plain": [
       "(1000, 60)"
      ]
     },
     "execution_count": 213,
     "metadata": {},
     "output_type": "execute_result"
    }
   ],
   "source": [
    "logits, _ = model.output_last_layer(x.to(device))\n",
    "logits = logits.cpu().numpy()\n",
    "logits = pd.DataFrame(logits, columns=[f'x{i}' for i in range(logits.shape[1])])\n",
    "logits.shape"
   ]
  },
  {
   "cell_type": "code",
   "execution_count": null,
   "metadata": {},
   "outputs": [],
   "source": []
  },
  {
   "cell_type": "code",
   "execution_count": 214,
   "metadata": {},
   "outputs": [],
   "source": [
    "# res = torch.zeros((len(testloader), model_config['batch_size'], LHL))"
   ]
  },
  {
   "cell_type": "code",
   "execution_count": 215,
   "metadata": {},
   "outputs": [],
   "source": [
    "# for i, (x, _) in enumerate(trainloader):\n",
    "#     x = x.to(device)\n",
    "#     logits, _ = model.output_last_layer(x)\n",
    "#     res[i] = logits"
   ]
  },
  {
   "cell_type": "code",
   "execution_count": 216,
   "metadata": {},
   "outputs": [],
   "source": [
    "# (res.reshape([len(train_data), LHL])[:model_config['batch_size']] == res[0]).all()"
   ]
  },
  {
   "cell_type": "code",
   "execution_count": 217,
   "metadata": {},
   "outputs": [],
   "source": [
    "# inference_df = pd.DataFrame(res.reshape([len(train_data), LHL]), columns=[f'x_{i}' for i in range(LHL)])"
   ]
  },
  {
   "cell_type": "code",
   "execution_count": 218,
   "metadata": {},
   "outputs": [],
   "source": [
    "# num_samples = 20\n",
    "\n",
    "# viz_sample = inference_df.sample(num_samples)\n",
    "# x = np.repeat(np.arange(LHL, dtype=np.int8), num_samples) + 1"
   ]
  },
  {
   "cell_type": "markdown",
   "metadata": {
    "id": "h7eERD3yVH2H"
   },
   "source": [
    "# Seed"
   ]
  },
  {
   "cell_type": "code",
   "execution_count": 219,
   "metadata": {
    "id": "CS9DVaKDi_2C"
   },
   "outputs": [],
   "source": [
    "np.random.seed(SEED)"
   ]
  },
  {
   "cell_type": "markdown",
   "metadata": {
    "id": "h7eERD3yVH2H"
   },
   "source": [
    "# Import Data"
   ]
  },
  {
   "cell_type": "code",
   "execution_count": 220,
   "metadata": {},
   "outputs": [
    {
     "name": "stdout",
     "output_type": "stream",
     "text": [
      "Train accuracy: 98.44%\n",
      "Test accuracy: 98.26%\n"
     ]
    }
   ],
   "source": [
    "FLAVOR = 'raw'\n",
    "\n",
    "if FLAVOR == 'raw':\n",
    "    path_lhl = path_lhl_raw\n",
    "else: path_lhl = path_lhl_pca\n",
    "\n",
    "# import Data\n",
    "df_train = pd.read_csv(path_lhl / f\"{FILENAME_POSTFIX}_{FLAVOR}_train.csv\")\n",
    "\n",
    "# select only true classified\n",
    "df_true = df_train[df_train[\"true\"] == True].copy()\n",
    "df_true = df_true.drop(\"true\", axis=1).reset_index(drop=True)\n",
    "\n",
    "df_test = pd.read_csv(path_lhl / f\"{FILENAME_POSTFIX}_{FLAVOR}_test.csv\")\n",
    "\n",
    "print(f\"Train accuracy: {(df_train['true'].sum() / df_train.shape[0] * 100).round(2)}%\")\n",
    "print(f\"Test accuracy: {(df_test['true'].sum() / df_test.shape[0] * 100).round(2)}%\")"
   ]
  },
  {
   "cell_type": "code",
   "execution_count": 221,
   "metadata": {},
   "outputs": [],
   "source": [
    "# each set of data has its own threshold\n",
    "thld_p = 0.5\n",
    "eta = 0\n",
    "neurons = []\n",
    "\n",
    "# calculate threshold\n",
    "thld = np.quantile( df_true.drop('y', axis=1), thld_p, axis=0)"
   ]
  },
  {
   "cell_type": "code",
   "execution_count": 222,
   "metadata": {},
   "outputs": [
    {
     "data": {
      "text/plain": [
       "<Axes: ylabel='x0'>"
      ]
     },
     "execution_count": 222,
     "metadata": {},
     "output_type": "execute_result"
    },
    {
     "data": {
      "image/png": "[encoded data removed]",
      "text/plain": [
       "<Figure size 1200x500 with 1 Axes>"
      ]
     },
     "metadata": {},
     "output_type": "display_data"
    }
   ],
   "source": [
    "for i, c in enumerate(logits.columns):\n",
    "    sns.scatterplot( x=i+1,  y=logits[c] )\n",
    "\n",
    "sns.scatterplot(\n",
    "    x=[*range(1, df_true.shape[1])],\n",
    "    y=thld,\n",
    "    marker='_', s=100, c='red', linewidth=3\n",
    "\n",
    ")"
   ]
  },
  {
   "cell_type": "markdown",
   "metadata": {},
   "source": [
    "# Build BDD"
   ]
  },
  {
   "cell_type": "code",
   "execution_count": 223,
   "metadata": {},
   "outputs": [],
   "source": [
    "# BDD\n",
    "patterns = MonitorBDD( df_true.shape[1]-1, thld, neurons=neurons)\n",
    "df_train_copy, df_test_copy = patterns.add_dataframe( df_true, eta, eval_dfs=[df_train.copy(), df_test.copy()] )\n",
    "\n",
    "    \n",
    "# score\n",
    "df_train_scores = patterns.score_dataframe_multi_eta(df_train_copy, eta)\n",
    "df_test_scores = patterns.score_dataframe_multi_eta(df_test_copy, eta)\n",
    "\n",
    "    \n",
    "# add metadata\n",
    "patterns.stats['thld'] = f'qth_{thld_p}'"
   ]
  },
  {
   "cell_type": "code",
   "execution_count": 224,
   "metadata": {},
   "outputs": [
    {
     "data": {
      "text/html": [
       "<div>\n",
       "<style scoped>\n",
       "    .dataframe tbody tr th:only-of-type {\n",
       "        vertical-align: middle;\n",
       "    }\n",
       "\n",
       "    .dataframe tbody tr th {\n",
       "        vertical-align: top;\n",
       "    }\n",
       "\n",
       "    .dataframe thead th {\n",
       "        text-align: right;\n",
       "    }\n",
       "</style>\n",
       "<table border=\"1\" class=\"dataframe\">\n",
       "  <thead>\n",
       "    <tr style=\"text-align: right;\">\n",
       "      <th></th>\n",
       "      <th>thld</th>\n",
       "      <th>eta</th>\n",
       "      <th>build_time</th>\n",
       "      <th>size_mb</th>\n",
       "      <th>reorder_time</th>\n",
       "      <th>num_patterns</th>\n",
       "      <th>num_unique_patterns</th>\n",
       "      <th>num_reorder</th>\n",
       "      <th>num_neurons</th>\n",
       "      <th>start_time</th>\n",
       "      <th>end_time</th>\n",
       "    </tr>\n",
       "  </thead>\n",
       "  <tbody>\n",
       "    <tr>\n",
       "      <th>1</th>\n",
       "      <td>qth_0.5</td>\n",
       "      <td>0.0</td>\n",
       "      <td>0.346</td>\n",
       "      <td>4386.628</td>\n",
       "      <td>0.0</td>\n",
       "      <td>59065.0</td>\n",
       "      <td>54337.0</td>\n",
       "      <td>0.0</td>\n",
       "      <td>60.0</td>\n",
       "      <td>2023-07-26 14:37:30</td>\n",
       "      <td>2023-07-26 14:37:51</td>\n",
       "    </tr>\n",
       "  </tbody>\n",
       "</table>\n",
       "</div>"
      ],
      "text/plain": [
       "      thld  eta  build_time   size_mb  reorder_time  num_patterns   \n",
       "1  qth_0.5  0.0       0.346  4386.628           0.0       59065.0  \\\n",
       "\n",
       "   num_unique_patterns  num_reorder  num_neurons           start_time   \n",
       "1              54337.0          0.0         60.0  2023-07-26 14:37:30  \\\n",
       "\n",
       "              end_time  \n",
       "1  2023-07-26 14:37:51  "
      ]
     },
     "execution_count": 224,
     "metadata": {},
     "output_type": "execute_result"
    }
   ],
   "source": [
    "patterns.stats"
   ]
  },
  {
   "cell_type": "code",
   "execution_count": 225,
   "metadata": {},
   "outputs": [
    {
     "data": {
      "text/html": [
       "<div>\n",
       "<style scoped>\n",
       "    .dataframe tbody tr th:only-of-type {\n",
       "        vertical-align: middle;\n",
       "    }\n",
       "\n",
       "    .dataframe tbody tr th {\n",
       "        vertical-align: top;\n",
       "    }\n",
       "\n",
       "    .dataframe thead th {\n",
       "        text-align: right;\n",
       "    }\n",
       "</style>\n",
       "<table border=\"1\" class=\"dataframe\">\n",
       "  <thead>\n",
       "    <tr style=\"text-align: right;\">\n",
       "      <th></th>\n",
       "      <th>y</th>\n",
       "      <th>count</th>\n",
       "      <th>false</th>\n",
       "      <th>false_misclassified</th>\n",
       "      <th>false_classified</th>\n",
       "      <th>outOfPattern</th>\n",
       "      <th>outOfPatternMisclassified</th>\n",
       "      <th>outOfPatternClassified</th>\n",
       "      <th>eta</th>\n",
       "    </tr>\n",
       "  </thead>\n",
       "  <tbody>\n",
       "    <tr>\n",
       "      <th>0</th>\n",
       "      <td>0</td>\n",
       "      <td>5923.0</td>\n",
       "      <td>28.0</td>\n",
       "      <td>28.0</td>\n",
       "      <td>0.0</td>\n",
       "      <td>0.004727</td>\n",
       "      <td>1.00000</td>\n",
       "      <td>0.0</td>\n",
       "      <td>0</td>\n",
       "    </tr>\n",
       "    <tr>\n",
       "      <th>1</th>\n",
       "      <td>1</td>\n",
       "      <td>6742.0</td>\n",
       "      <td>56.0</td>\n",
       "      <td>56.0</td>\n",
       "      <td>0.0</td>\n",
       "      <td>0.008306</td>\n",
       "      <td>1.00000</td>\n",
       "      <td>0.0</td>\n",
       "      <td>0</td>\n",
       "    </tr>\n",
       "    <tr>\n",
       "      <th>2</th>\n",
       "      <td>2</td>\n",
       "      <td>5958.0</td>\n",
       "      <td>129.0</td>\n",
       "      <td>129.0</td>\n",
       "      <td>0.0</td>\n",
       "      <td>0.021652</td>\n",
       "      <td>1.00000</td>\n",
       "      <td>0.0</td>\n",
       "      <td>0</td>\n",
       "    </tr>\n",
       "    <tr>\n",
       "      <th>3</th>\n",
       "      <td>3</td>\n",
       "      <td>6131.0</td>\n",
       "      <td>95.0</td>\n",
       "      <td>95.0</td>\n",
       "      <td>0.0</td>\n",
       "      <td>0.015495</td>\n",
       "      <td>1.00000</td>\n",
       "      <td>0.0</td>\n",
       "      <td>0</td>\n",
       "    </tr>\n",
       "    <tr>\n",
       "      <th>4</th>\n",
       "      <td>4</td>\n",
       "      <td>5842.0</td>\n",
       "      <td>111.0</td>\n",
       "      <td>111.0</td>\n",
       "      <td>0.0</td>\n",
       "      <td>0.019000</td>\n",
       "      <td>1.00000</td>\n",
       "      <td>0.0</td>\n",
       "      <td>0</td>\n",
       "    </tr>\n",
       "    <tr>\n",
       "      <th>5</th>\n",
       "      <td>5</td>\n",
       "      <td>5421.0</td>\n",
       "      <td>77.0</td>\n",
       "      <td>77.0</td>\n",
       "      <td>0.0</td>\n",
       "      <td>0.014204</td>\n",
       "      <td>1.00000</td>\n",
       "      <td>0.0</td>\n",
       "      <td>0</td>\n",
       "    </tr>\n",
       "    <tr>\n",
       "      <th>6</th>\n",
       "      <td>6</td>\n",
       "      <td>5918.0</td>\n",
       "      <td>82.0</td>\n",
       "      <td>82.0</td>\n",
       "      <td>0.0</td>\n",
       "      <td>0.013856</td>\n",
       "      <td>1.00000</td>\n",
       "      <td>0.0</td>\n",
       "      <td>0</td>\n",
       "    </tr>\n",
       "    <tr>\n",
       "      <th>7</th>\n",
       "      <td>7</td>\n",
       "      <td>6265.0</td>\n",
       "      <td>85.0</td>\n",
       "      <td>85.0</td>\n",
       "      <td>0.0</td>\n",
       "      <td>0.013567</td>\n",
       "      <td>1.00000</td>\n",
       "      <td>0.0</td>\n",
       "      <td>0</td>\n",
       "    </tr>\n",
       "    <tr>\n",
       "      <th>8</th>\n",
       "      <td>8</td>\n",
       "      <td>5851.0</td>\n",
       "      <td>124.0</td>\n",
       "      <td>124.0</td>\n",
       "      <td>0.0</td>\n",
       "      <td>0.021193</td>\n",
       "      <td>1.00000</td>\n",
       "      <td>0.0</td>\n",
       "      <td>0</td>\n",
       "    </tr>\n",
       "    <tr>\n",
       "      <th>9</th>\n",
       "      <td>9</td>\n",
       "      <td>5949.0</td>\n",
       "      <td>138.0</td>\n",
       "      <td>138.0</td>\n",
       "      <td>0.0</td>\n",
       "      <td>0.023197</td>\n",
       "      <td>1.00000</td>\n",
       "      <td>0.0</td>\n",
       "      <td>0</td>\n",
       "    </tr>\n",
       "    <tr>\n",
       "      <th>10</th>\n",
       "      <td>all</td>\n",
       "      <td>60000.0</td>\n",
       "      <td>925.0</td>\n",
       "      <td>925.0</td>\n",
       "      <td>0.0</td>\n",
       "      <td>0.015417</td>\n",
       "      <td>1.00000</td>\n",
       "      <td>0.0</td>\n",
       "      <td>0</td>\n",
       "    </tr>\n",
       "    <tr>\n",
       "      <th>11</th>\n",
       "      <td>all_mean</td>\n",
       "      <td>60000.0</td>\n",
       "      <td>925.0</td>\n",
       "      <td>925.0</td>\n",
       "      <td>1.0</td>\n",
       "      <td>0.000000</td>\n",
       "      <td>0.01552</td>\n",
       "      <td>0.0</td>\n",
       "      <td>0</td>\n",
       "    </tr>\n",
       "  </tbody>\n",
       "</table>\n",
       "</div>"
      ],
      "text/plain": [
       "           y    count  false  false_misclassified  false_classified   \n",
       "0          0   5923.0   28.0                 28.0               0.0  \\\n",
       "1          1   6742.0   56.0                 56.0               0.0   \n",
       "2          2   5958.0  129.0                129.0               0.0   \n",
       "3          3   6131.0   95.0                 95.0               0.0   \n",
       "4          4   5842.0  111.0                111.0               0.0   \n",
       "5          5   5421.0   77.0                 77.0               0.0   \n",
       "6          6   5918.0   82.0                 82.0               0.0   \n",
       "7          7   6265.0   85.0                 85.0               0.0   \n",
       "8          8   5851.0  124.0                124.0               0.0   \n",
       "9          9   5949.0  138.0                138.0               0.0   \n",
       "10       all  60000.0  925.0                925.0               0.0   \n",
       "11  all_mean  60000.0  925.0                925.0               1.0   \n",
       "\n",
       "    outOfPattern  outOfPatternMisclassified  outOfPatternClassified  eta  \n",
       "0       0.004727                    1.00000                     0.0    0  \n",
       "1       0.008306                    1.00000                     0.0    0  \n",
       "2       0.021652                    1.00000                     0.0    0  \n",
       "3       0.015495                    1.00000                     0.0    0  \n",
       "4       0.019000                    1.00000                     0.0    0  \n",
       "5       0.014204                    1.00000                     0.0    0  \n",
       "6       0.013856                    1.00000                     0.0    0  \n",
       "7       0.013567                    1.00000                     0.0    0  \n",
       "8       0.021193                    1.00000                     0.0    0  \n",
       "9       0.023197                    1.00000                     0.0    0  \n",
       "10      0.015417                    1.00000                     0.0    0  \n",
       "11      0.000000                    0.01552                     0.0    0  "
      ]
     },
     "execution_count": 225,
     "metadata": {},
     "output_type": "execute_result"
    }
   ],
   "source": [
    "df_train_scores"
   ]
  },
  {
   "cell_type": "code",
   "execution_count": 226,
   "metadata": {},
   "outputs": [
    {
     "data": {
      "text/html": [
       "<div>\n",
       "<style scoped>\n",
       "    .dataframe tbody tr th:only-of-type {\n",
       "        vertical-align: middle;\n",
       "    }\n",
       "\n",
       "    .dataframe tbody tr th {\n",
       "        vertical-align: top;\n",
       "    }\n",
       "\n",
       "    .dataframe thead th {\n",
       "        text-align: right;\n",
       "    }\n",
       "</style>\n",
       "<table border=\"1\" class=\"dataframe\">\n",
       "  <thead>\n",
       "    <tr style=\"text-align: right;\">\n",
       "      <th></th>\n",
       "      <th>y</th>\n",
       "      <th>count</th>\n",
       "      <th>false</th>\n",
       "      <th>false_misclassified</th>\n",
       "      <th>false_classified</th>\n",
       "      <th>outOfPattern</th>\n",
       "      <th>outOfPatternMisclassified</th>\n",
       "      <th>outOfPatternClassified</th>\n",
       "      <th>eta</th>\n",
       "    </tr>\n",
       "  </thead>\n",
       "  <tbody>\n",
       "    <tr>\n",
       "      <th>0</th>\n",
       "      <td>0</td>\n",
       "      <td>979.0</td>\n",
       "      <td>923.0</td>\n",
       "      <td>5.0</td>\n",
       "      <td>918.000000</td>\n",
       "      <td>0.942799</td>\n",
       "      <td>0.005417</td>\n",
       "      <td>0.994583</td>\n",
       "      <td>0</td>\n",
       "    </tr>\n",
       "    <tr>\n",
       "      <th>1</th>\n",
       "      <td>1</td>\n",
       "      <td>1133.0</td>\n",
       "      <td>716.0</td>\n",
       "      <td>3.0</td>\n",
       "      <td>713.000000</td>\n",
       "      <td>0.631951</td>\n",
       "      <td>0.004190</td>\n",
       "      <td>0.995810</td>\n",
       "      <td>0</td>\n",
       "    </tr>\n",
       "    <tr>\n",
       "      <th>2</th>\n",
       "      <td>2</td>\n",
       "      <td>1030.0</td>\n",
       "      <td>992.0</td>\n",
       "      <td>25.0</td>\n",
       "      <td>967.000000</td>\n",
       "      <td>0.963107</td>\n",
       "      <td>0.025202</td>\n",
       "      <td>0.974798</td>\n",
       "      <td>0</td>\n",
       "    </tr>\n",
       "    <tr>\n",
       "      <th>3</th>\n",
       "      <td>3</td>\n",
       "      <td>1008.0</td>\n",
       "      <td>836.0</td>\n",
       "      <td>12.0</td>\n",
       "      <td>824.000000</td>\n",
       "      <td>0.829365</td>\n",
       "      <td>0.014354</td>\n",
       "      <td>0.985646</td>\n",
       "      <td>0</td>\n",
       "    </tr>\n",
       "    <tr>\n",
       "      <th>4</th>\n",
       "      <td>4</td>\n",
       "      <td>980.0</td>\n",
       "      <td>947.0</td>\n",
       "      <td>22.0</td>\n",
       "      <td>925.000000</td>\n",
       "      <td>0.966327</td>\n",
       "      <td>0.023231</td>\n",
       "      <td>0.976769</td>\n",
       "      <td>0</td>\n",
       "    </tr>\n",
       "    <tr>\n",
       "      <th>5</th>\n",
       "      <td>5</td>\n",
       "      <td>890.0</td>\n",
       "      <td>788.0</td>\n",
       "      <td>13.0</td>\n",
       "      <td>775.000000</td>\n",
       "      <td>0.885393</td>\n",
       "      <td>0.016497</td>\n",
       "      <td>0.983503</td>\n",
       "      <td>0</td>\n",
       "    </tr>\n",
       "    <tr>\n",
       "      <th>6</th>\n",
       "      <td>6</td>\n",
       "      <td>956.0</td>\n",
       "      <td>842.0</td>\n",
       "      <td>22.0</td>\n",
       "      <td>820.000000</td>\n",
       "      <td>0.880753</td>\n",
       "      <td>0.026128</td>\n",
       "      <td>0.973872</td>\n",
       "      <td>0</td>\n",
       "    </tr>\n",
       "    <tr>\n",
       "      <th>7</th>\n",
       "      <td>7</td>\n",
       "      <td>1027.0</td>\n",
       "      <td>820.0</td>\n",
       "      <td>17.0</td>\n",
       "      <td>803.000000</td>\n",
       "      <td>0.798442</td>\n",
       "      <td>0.020732</td>\n",
       "      <td>0.979268</td>\n",
       "      <td>0</td>\n",
       "    </tr>\n",
       "    <tr>\n",
       "      <th>8</th>\n",
       "      <td>8</td>\n",
       "      <td>973.0</td>\n",
       "      <td>954.0</td>\n",
       "      <td>18.0</td>\n",
       "      <td>936.000000</td>\n",
       "      <td>0.980473</td>\n",
       "      <td>0.018868</td>\n",
       "      <td>0.981132</td>\n",
       "      <td>0</td>\n",
       "    </tr>\n",
       "    <tr>\n",
       "      <th>9</th>\n",
       "      <td>9</td>\n",
       "      <td>1008.0</td>\n",
       "      <td>893.0</td>\n",
       "      <td>35.0</td>\n",
       "      <td>858.000000</td>\n",
       "      <td>0.885913</td>\n",
       "      <td>0.039194</td>\n",
       "      <td>0.960806</td>\n",
       "      <td>0</td>\n",
       "    </tr>\n",
       "    <tr>\n",
       "      <th>10</th>\n",
       "      <td>all</td>\n",
       "      <td>9984.0</td>\n",
       "      <td>8711.0</td>\n",
       "      <td>172.0</td>\n",
       "      <td>8539.000000</td>\n",
       "      <td>0.872496</td>\n",
       "      <td>0.019745</td>\n",
       "      <td>0.980255</td>\n",
       "      <td>0</td>\n",
       "    </tr>\n",
       "    <tr>\n",
       "      <th>11</th>\n",
       "      <td>all_mean</td>\n",
       "      <td>9984.0</td>\n",
       "      <td>8711.0</td>\n",
       "      <td>172.0</td>\n",
       "      <td>0.019381</td>\n",
       "      <td>0.000000</td>\n",
       "      <td>0.876452</td>\n",
       "      <td>0.980619</td>\n",
       "      <td>0</td>\n",
       "    </tr>\n",
       "  </tbody>\n",
       "</table>\n",
       "</div>"
      ],
      "text/plain": [
       "           y   count   false  false_misclassified  false_classified   \n",
       "0          0   979.0   923.0                  5.0        918.000000  \\\n",
       "1          1  1133.0   716.0                  3.0        713.000000   \n",
       "2          2  1030.0   992.0                 25.0        967.000000   \n",
       "3          3  1008.0   836.0                 12.0        824.000000   \n",
       "4          4   980.0   947.0                 22.0        925.000000   \n",
       "5          5   890.0   788.0                 13.0        775.000000   \n",
       "6          6   956.0   842.0                 22.0        820.000000   \n",
       "7          7  1027.0   820.0                 17.0        803.000000   \n",
       "8          8   973.0   954.0                 18.0        936.000000   \n",
       "9          9  1008.0   893.0                 35.0        858.000000   \n",
       "10       all  9984.0  8711.0                172.0       8539.000000   \n",
       "11  all_mean  9984.0  8711.0                172.0          0.019381   \n",
       "\n",
       "    outOfPattern  outOfPatternMisclassified  outOfPatternClassified  eta  \n",
       "0       0.942799                   0.005417                0.994583    0  \n",
       "1       0.631951                   0.004190                0.995810    0  \n",
       "2       0.963107                   0.025202                0.974798    0  \n",
       "3       0.829365                   0.014354                0.985646    0  \n",
       "4       0.966327                   0.023231                0.976769    0  \n",
       "5       0.885393                   0.016497                0.983503    0  \n",
       "6       0.880753                   0.026128                0.973872    0  \n",
       "7       0.798442                   0.020732                0.979268    0  \n",
       "8       0.980473                   0.018868                0.981132    0  \n",
       "9       0.885913                   0.039194                0.960806    0  \n",
       "10      0.872496                   0.019745                0.980255    0  \n",
       "11      0.000000                   0.876452                0.980619    0  "
      ]
     },
     "execution_count": 226,
     "metadata": {},
     "output_type": "execute_result"
    }
   ],
   "source": [
    "df_test_scores"
   ]
  },
  {
   "cell_type": "code",
   "execution_count": 227,
   "metadata": {},
   "outputs": [
    {
     "data": {
      "text/html": [
       "<div>\n",
       "<style scoped>\n",
       "    .dataframe tbody tr th:only-of-type {\n",
       "        vertical-align: middle;\n",
       "    }\n",
       "\n",
       "    .dataframe tbody tr th {\n",
       "        vertical-align: top;\n",
       "    }\n",
       "\n",
       "    .dataframe thead th {\n",
       "        text-align: right;\n",
       "    }\n",
       "</style>\n",
       "<table border=\"1\" class=\"dataframe\">\n",
       "  <thead>\n",
       "    <tr style=\"text-align: right;\">\n",
       "      <th></th>\n",
       "      <th>y</th>\n",
       "      <th>count</th>\n",
       "      <th>bdd_false</th>\n",
       "      <th>bdd_false_misclassified</th>\n",
       "      <th>bdd_false_classified</th>\n",
       "      <th>outOfPattern</th>\n",
       "      <th>outOfPatternMisclassified</th>\n",
       "      <th>outOfPatternClassified</th>\n",
       "    </tr>\n",
       "  </thead>\n",
       "  <tbody>\n",
       "    <tr>\n",
       "      <th>0</th>\n",
       "      <td>1</td>\n",
       "      <td>1000.0</td>\n",
       "      <td>1000.0</td>\n",
       "      <td>0.0</td>\n",
       "      <td>1000.0</td>\n",
       "      <td>1.0</td>\n",
       "      <td>1.0</td>\n",
       "      <td>0.0</td>\n",
       "    </tr>\n",
       "    <tr>\n",
       "      <th>1</th>\n",
       "      <td>all</td>\n",
       "      <td>1000.0</td>\n",
       "      <td>1000.0</td>\n",
       "      <td>0.0</td>\n",
       "      <td>1000.0</td>\n",
       "      <td>1.0</td>\n",
       "      <td>1.0</td>\n",
       "      <td>0.0</td>\n",
       "    </tr>\n",
       "    <tr>\n",
       "      <th>2</th>\n",
       "      <td>all_mean</td>\n",
       "      <td>1000.0</td>\n",
       "      <td>1000.0</td>\n",
       "      <td>0.0</td>\n",
       "      <td>0.0</td>\n",
       "      <td>0.0</td>\n",
       "      <td>1.0</td>\n",
       "      <td>0.0</td>\n",
       "    </tr>\n",
       "  </tbody>\n",
       "</table>\n",
       "</div>"
      ],
      "text/plain": [
       "          y   count  bdd_false  bdd_false_misclassified  bdd_false_classified   \n",
       "0         1  1000.0     1000.0                      0.0                1000.0  \\\n",
       "1       all  1000.0     1000.0                      0.0                1000.0   \n",
       "2  all_mean  1000.0     1000.0                      0.0                   0.0   \n",
       "\n",
       "   outOfPattern  outOfPatternMisclassified  outOfPatternClassified  \n",
       "0           1.0                        1.0                     0.0  \n",
       "1           1.0                        1.0                     0.0  \n",
       "2           0.0                        1.0                     0.0  "
      ]
     },
     "execution_count": 227,
     "metadata": {},
     "output_type": "execute_result"
    }
   ],
   "source": [
    "logits['y'] = 1\n",
    "logits['true'] = 1\n",
    "\n",
    "patterns.evaluate_dataframe(logits.copy())"
   ]
  },
  {
   "cell_type": "code",
   "execution_count": null,
   "metadata": {},
   "outputs": [],
   "source": []
  },
  {
   "cell_type": "code",
   "execution_count": null,
   "metadata": {},
   "outputs": [],
   "source": []
  },
  {
   "cell_type": "code",
   "execution_count": null,
   "metadata": {},
   "outputs": [],
   "source": []
  }
 ],
 "metadata": {
  "accelerator": "GPU",
  "colab": {
   "collapsed_sections": [
    "mcDeYOA8d1wL"
   ],
   "provenance": []
  },
  "gpuClass": "standard",
  "kernelspec": {
   "display_name": "Python 3",
   "language": "python",
   "name": "python3"
  },
  "language_info": {
   "codemirror_mode": {
    "name": "ipython",
    "version": 3
   },
   "file_extension": ".py",
   "mimetype": "text/x-python",
   "name": "python",
   "nbconvert_exporter": "python",
   "pygments_lexer": "ipython3",
   "version": "3.10.11"
  },
  "vscode": {
   "interpreter": {
    "hash": "2b89e4666a1b1f5f90ada5928a1b04d9ad859bf674b23c56e0417352230a6456"
   }
  }
 },
 "nbformat": 4,
 "nbformat_minor": 4
}
