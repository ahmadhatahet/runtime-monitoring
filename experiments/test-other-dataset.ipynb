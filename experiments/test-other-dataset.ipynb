{
 "cells": [
  {
   "cell_type": "markdown",
   "metadata": {},
   "source": [
    "# Setup Variables"
   ]
  },
  {
   "cell_type": "markdown",
   "metadata": {},
   "source": [
    "MNIST, FashionMNIST, GTSRB, Cifar10"
   ]
  },
  {
   "cell_type": "code",
   "execution_count": 105,
   "metadata": {},
   "outputs": [],
   "source": [
    "DATASET = 'FashionMNIST'\n",
    "POSTFIX = 'Adam-32-30'\n",
    "FILENAME_POSTFIX = f'{DATASET}_{POSTFIX}'\n",
    "SEED = 42\n",
    "CUDA = 0\n",
    "LHL = int(POSTFIX.split('-')[-1])\n",
    "GPU_NAME = f'cuda:{CUDA}'"
   ]
  },
  {
   "cell_type": "code",
   "execution_count": 2,
   "metadata": {},
   "outputs": [],
   "source": [
    "TEST_DATASET = 'MNIST'\n",
    "TEST_POSTFIX = 'Adam-32-30'\n",
    "TEST_FILENAME_POSTFIX = f'{TEST_DATASET}_{TEST_POSTFIX}'"
   ]
  },
  {
   "cell_type": "code",
   "execution_count": 3,
   "metadata": {},
   "outputs": [
    {
     "data": {
      "text/plain": [
       "PosixPath('/home/ah19/runtime-monitoring')"
      ]
     },
     "execution_count": 3,
     "metadata": {},
     "output_type": "execute_result"
    }
   ],
   "source": [
    "import os\n",
    "from pathlib import Path\n",
    "\n",
    "base = Path().cwd()\n",
    "\n",
    "if base.name != 'runtime-monitoring':\n",
    "    os.chdir('../')\n",
    "    base = Path().cwd()\n",
    "\n",
    "base"
   ]
  },
  {
   "cell_type": "code",
   "execution_count": 4,
   "metadata": {},
   "outputs": [],
   "source": [
    "# disable warnings\n",
    "import warnings\n",
    "warnings.filterwarnings('ignore')"
   ]
  },
  {
   "cell_type": "markdown",
   "metadata": {},
   "source": [
    "# Libraries"
   ]
  },
  {
   "cell_type": "code",
   "execution_count": 5,
   "metadata": {
    "id": "FLmxFGnxg6ZG"
   },
   "outputs": [],
   "source": [
    "import pandas as pd\n",
    "import numpy as np\n",
    "from pathlib import Path\n",
    "\n",
    "from fastprogress import progress_bar\n",
    "\n",
    "from utilities.utils import *\n",
    "from utilities.pathManager import fetchPaths\n",
    "from utilities.MonitorUnifiedBDD import MonitorBDD"
   ]
  },
  {
   "cell_type": "markdown",
   "metadata": {},
   "source": [
    "# Paths"
   ]
  },
  {
   "cell_type": "code",
   "execution_count": 23,
   "metadata": {},
   "outputs": [
    {
     "data": {
      "text/plain": [
       "PosixPath('/home/ah19/runtime-monitoring/experiments/FashionMNIST/saved-models/FashionMNIST_Adam-32-30/FashionMNIST_Adam-32-30-acc-0.926-loss-0.209.pth.tar')"
      ]
     },
     "execution_count": 23,
     "metadata": {},
     "output_type": "execute_result"
    }
   ],
   "source": [
    "paths = fetchPaths(base, DATASET, POSTFIX, False)\n",
    "\n",
    "path_data = paths['data']\n",
    "path_lhl = paths['lhl']\n",
    "path_lhl_raw = paths['lhl_raw']\n",
    "path_lhl_pca = paths['lhl_pca']\n",
    "\n",
    "\n",
    "# load config file\n",
    "configs = load_json(paths['configuration'])\n",
    "config = configs['configuration']\n",
    "\n",
    "# model config\n",
    "model_setup = configs['model_setup']\n",
    "model_config = configs['model_config']\n",
    "\n",
    "# saved model\n",
    "path_model = next(paths['saved_models'].glob('*.pth.tar'))\n",
    "\n",
    "path_model"
   ]
  },
  {
   "cell_type": "code",
   "execution_count": 9,
   "metadata": {},
   "outputs": [],
   "source": [
    "test_paths = fetchPaths(base, TEST_DATASET, TEST_POSTFIX, False)\n",
    "\n",
    "test_path_data = test_paths['data']\n",
    "test_path_lhl = test_paths['lhl']\n",
    "test_path_lhl_raw = test_paths['lhl_raw']\n",
    "test_path_lhl_pca = test_paths['lhl_pca']"
   ]
  },
  {
   "cell_type": "markdown",
   "metadata": {},
   "source": [
    "# Get LHL Data for the Test Dataset"
   ]
  },
  {
   "cell_type": "code",
   "execution_count": 10,
   "metadata": {},
   "outputs": [],
   "source": [
    "import torch\n",
    "import torchvision\n",
    "import torch.nn as nn\n",
    "import torch.backends.cudnn as cudnn"
   ]
  },
  {
   "cell_type": "code",
   "execution_count": 11,
   "metadata": {},
   "outputs": [],
   "source": [
    "from models.mnist_model import MNIST_Model\n",
    "from models.fashionmnist_model import FashionMNIST_CNN\n",
    "from models.gtsrb_model import GTSRB_CNN\n",
    "from models.cifar10_dla import Cifar10_DLA\n",
    "\n",
    "from models.transformers import transformers\n",
    "\n",
    "models = {\n",
    "    'mnist': MNIST_Model,\n",
    "    'fashionmnist': FashionMNIST_CNN,\n",
    "    'gtsrb': GTSRB_CNN,\n",
    "    'cifar10': Cifar10_DLA    \n",
    "}\n",
    "\n",
    "model_ = models[DATASET.lower()]\n",
    "transformer = transformers[DATASET.lower()]"
   ]
  },
  {
   "cell_type": "code",
   "execution_count": 12,
   "metadata": {},
   "outputs": [
    {
     "data": {
      "text/plain": [
       "'NVIDIA A100 80GB PCIe'"
      ]
     },
     "execution_count": 12,
     "metadata": {},
     "output_type": "execute_result"
    }
   ],
   "source": [
    "device = get_device(GPU_NAME)\n",
    "torch.cuda.get_device_name(device)"
   ]
  },
  {
   "cell_type": "code",
   "execution_count": 13,
   "metadata": {},
   "outputs": [
    {
     "data": {
      "text/plain": [
       "(60000, 10000)"
      ]
     },
     "execution_count": 13,
     "metadata": {},
     "output_type": "execute_result"
    }
   ],
   "source": [
    "feature_names = get_labels(TEST_DATASET)\n",
    "\n",
    "train_data = get_dataset(TEST_DATASET, test_path_data, train=True, transform=transformer['train'])\n",
    "test_data = get_dataset(TEST_DATASET, test_path_data, train=False, transform=transformer['test'])\n",
    "len(train_data), len(test_data)"
   ]
  },
  {
   "cell_type": "code",
   "execution_count": 14,
   "metadata": {},
   "outputs": [
    {
     "data": {
      "text/plain": [
       "{0: 0, 1: 1, 2: 2, 3: 3, 4: 4, 5: 5, 6: 6, 7: 7, 8: 8, 9: 9}"
      ]
     },
     "execution_count": 14,
     "metadata": {},
     "output_type": "execute_result"
    }
   ],
   "source": [
    "feature_names"
   ]
  },
  {
   "cell_type": "code",
   "execution_count": 15,
   "metadata": {},
   "outputs": [],
   "source": [
    "trainloader = get_dataLoader(train_data, model_config['batch_size'], True)\n",
    "testloader = get_dataLoader(test_data, model_config['batch_size'], False)"
   ]
  },
  {
   "cell_type": "code",
   "execution_count": 16,
   "metadata": {},
   "outputs": [
    {
     "data": {
      "image/png": "[encoded data removed]",
      "text/plain": [
       "<Figure size 1200x500 with 12 Axes>"
      ]
     },
     "metadata": {},
     "output_type": "display_data"
    }
   ],
   "source": [
    "show_images_loader(trainloader, feature_names=feature_names)"
   ]
  },
  {
   "cell_type": "code",
   "execution_count": 42,
   "metadata": {},
   "outputs": [
    {
     "data": {
      "text/plain": [
       "''"
      ]
     },
     "execution_count": 42,
     "metadata": {},
     "output_type": "execute_result"
    }
   ],
   "source": [
    "# torch 2.0 compile and parallel data training\n",
    "model_setup['last_hidden_neurons'] = LHL\n",
    "model = model_(**model_setup).to(device)\n",
    "model = torch.compile(model)\n",
    "\n",
    "# load model weights\n",
    "model.load_state_dict(torch.load(path_model)['model'])\n",
    "\n",
    "# eavluation mode\n",
    "model.eval()\n",
    "\n",
    "''"
   ]
  },
  {
   "cell_type": "code",
   "execution_count": 68,
   "metadata": {},
   "outputs": [],
   "source": [
    "assert (len(trainloader) * model_config['batch_size']) == len(train_data)"
   ]
  },
  {
   "cell_type": "code",
   "execution_count": 58,
   "metadata": {},
   "outputs": [
    {
     "data": {
      "text/plain": [
       "torch.Size([32, 30])"
      ]
     },
     "execution_count": 58,
     "metadata": {},
     "output_type": "execute_result"
    }
   ],
   "source": [
    "res = torch.zeros((len(trainloader), model_config['batch_size'], LHL))"
   ]
  },
  {
   "cell_type": "code",
   "execution_count": 67,
   "metadata": {},
   "outputs": [],
   "source": [
    "for i, (x, _) in enumerate(trainloader):\n",
    "    x = x.to(device)\n",
    "    logits, _ = model.output_last_layer(x)\n",
    "    res[i] = logits"
   ]
  },
  {
   "cell_type": "code",
   "execution_count": 108,
   "metadata": {},
   "outputs": [
    {
     "data": {
      "text/plain": [
       "tensor(True)"
      ]
     },
     "execution_count": 108,
     "metadata": {},
     "output_type": "execute_result"
    }
   ],
   "source": [
    "(res.reshape([len(train_data), LHL])[:model_config['batch_size']] == res[0]).all()"
   ]
  },
  {
   "cell_type": "code",
   "execution_count": 109,
   "metadata": {},
   "outputs": [],
   "source": [
    "inference_df = pd.DataFrame(res.reshape([len(train_data), LHL]), columns=[f'x_{i}' for i in range(LHL)])"
   ]
  },
  {
   "cell_type": "code",
   "execution_count": 149,
   "metadata": {},
   "outputs": [],
   "source": [
    "num_samples = 20\n",
    "\n",
    "viz_sample = inference_df.sample(num_samples)\n",
    "x = np.repeat(np.arange(LHL, dtype=np.int8), num_samples) + 1"
   ]
  },
  {
   "cell_type": "code",
   "execution_count": 150,
   "metadata": {},
   "outputs": [
    {
     "data": {
      "text/plain": [
       "<Axes: >"
      ]
     },
     "execution_count": 150,
     "metadata": {},
     "output_type": "execute_result"
    },
    {
     "data": {
      "image/png": "[encoded data removed]",
      "text/plain": [
       "<Figure size 1200x500 with 1 Axes>"
      ]
     },
     "metadata": {},
     "output_type": "display_data"
    }
   ],
   "source": [
    "sns.scatterplot(x=x, y=np.reshape(viz_sample.to_numpy(), -1))"
   ]
  },
  {
   "cell_type": "markdown",
   "metadata": {
    "id": "h7eERD3yVH2H"
   },
   "source": [
    "# Seed"
   ]
  },
  {
   "cell_type": "code",
   "execution_count": 151,
   "metadata": {
    "id": "CS9DVaKDi_2C"
   },
   "outputs": [],
   "source": [
    "np.random.seed(SEED)"
   ]
  },
  {
   "cell_type": "markdown",
   "metadata": {
    "id": "h7eERD3yVH2H"
   },
   "source": [
    "# Import Data"
   ]
  },
  {
   "cell_type": "code",
   "execution_count": 152,
   "metadata": {},
   "outputs": [],
   "source": [
    "FLAVOR = 'raw'\n",
    "\n",
    "if FLAVOR == 'raw':\n",
    "    path_lhl = path_lhl_raw\n",
    "else: path_lhl = path_lhl_pca\n",
    "\n",
    "# import Data\n",
    "df_train = pd.read_csv(path_lhl / f\"{FILENAME_POSTFIX}_{FLAVOR}_train.csv\")\n",
    "\n",
    "# select only true classified\n",
    "df_true = df_train[df_train[\"true\"] == True].copy()\n",
    "df_true = df_true.drop(\"true\", axis=1).reset_index(drop=True)\n",
    "\n",
    "df_test = pd.read_csv(path_lhl / f\"{FILENAME_POSTFIX}_{FLAVOR}_test.csv\")"
   ]
  },
  {
   "cell_type": "markdown",
   "metadata": {},
   "source": [
    "# Build BDD"
   ]
  },
  {
   "cell_type": "code",
   "execution_count": 173,
   "metadata": {},
   "outputs": [],
   "source": [
    "# each set of data has its own threshold\n",
    "thld_p = 0.3\n",
    "eta = 0\n",
    "neurons = []\n",
    "\n",
    "# calculate threshold\n",
    "thld = np.quantile( df_true.loc[ix].drop('y', axis=1), thld_p)\n",
    "    \n",
    "# BDD\n",
    "patterns = MonitorBDD( df_true.shape[1]-1, thld, neurons=neurons)\n",
    "df_train_copy, df_test_copy = patterns.add_dataframe( df_true, eta, eval_dfs=[df_train.copy(), df_test.copy()] )\n",
    "\n",
    "    \n",
    "# score\n",
    "df_train_scores = patterns.score_dataframe_multi_eta(df_train_copy, eta)\n",
    "df_test_scores = patterns.score_dataframe_multi_eta(df_test_copy, eta)\n",
    "\n",
    "    \n",
    "# add metadata\n",
    "patterns.stats['thld'] = f'qth_{thld_p}'"
   ]
  },
  {
   "cell_type": "code",
   "execution_count": 174,
   "metadata": {},
   "outputs": [
    {
     "data": {
      "text/html": [
       "<div>\n",
       "<style scoped>\n",
       "    .dataframe tbody tr th:only-of-type {\n",
       "        vertical-align: middle;\n",
       "    }\n",
       "\n",
       "    .dataframe tbody tr th {\n",
       "        vertical-align: top;\n",
       "    }\n",
       "\n",
       "    .dataframe thead th {\n",
       "        text-align: right;\n",
       "    }\n",
       "</style>\n",
       "<table border=\"1\" class=\"dataframe\">\n",
       "  <thead>\n",
       "    <tr style=\"text-align: right;\">\n",
       "      <th></th>\n",
       "      <th>thld</th>\n",
       "      <th>eta</th>\n",
       "      <th>build_time</th>\n",
       "      <th>size_mb</th>\n",
       "      <th>reorder_time</th>\n",
       "      <th>num_reorder</th>\n",
       "      <th>num_neurons</th>\n",
       "      <th>start_time</th>\n",
       "      <th>end_time</th>\n",
       "    </tr>\n",
       "  </thead>\n",
       "  <tbody>\n",
       "    <tr>\n",
       "      <th>1</th>\n",
       "      <td>qth_0.3</td>\n",
       "      <td>0.0</td>\n",
       "      <td>0.04</td>\n",
       "      <td>4306.231</td>\n",
       "      <td>0.0</td>\n",
       "      <td>0.0</td>\n",
       "      <td>30.0</td>\n",
       "      <td>2023-07-05 20:12:41</td>\n",
       "      <td>2023-07-05 20:12:43</td>\n",
       "    </tr>\n",
       "  </tbody>\n",
       "</table>\n",
       "</div>"
      ],
      "text/plain": [
       "      thld  eta  build_time   size_mb  reorder_time  num_reorder  num_neurons   \n",
       "1  qth_0.3  0.0        0.04  4306.231           0.0          0.0         30.0  \\\n",
       "\n",
       "            start_time             end_time  \n",
       "1  2023-07-05 20:12:41  2023-07-05 20:12:43  "
      ]
     },
     "execution_count": 174,
     "metadata": {},
     "output_type": "execute_result"
    }
   ],
   "source": [
    "patterns.stats"
   ]
  },
  {
   "cell_type": "code",
   "execution_count": 175,
   "metadata": {},
   "outputs": [
    {
     "data": {
      "text/html": [
       "<div>\n",
       "<style scoped>\n",
       "    .dataframe tbody tr th:only-of-type {\n",
       "        vertical-align: middle;\n",
       "    }\n",
       "\n",
       "    .dataframe tbody tr th {\n",
       "        vertical-align: top;\n",
       "    }\n",
       "\n",
       "    .dataframe thead th {\n",
       "        text-align: right;\n",
       "    }\n",
       "</style>\n",
       "<table border=\"1\" class=\"dataframe\">\n",
       "  <thead>\n",
       "    <tr style=\"text-align: right;\">\n",
       "      <th></th>\n",
       "      <th>y</th>\n",
       "      <th>count</th>\n",
       "      <th>false</th>\n",
       "      <th>false_misclassified</th>\n",
       "      <th>false_classified</th>\n",
       "      <th>outOfPattern</th>\n",
       "      <th>outOfPatternMisclassified</th>\n",
       "      <th>outOfPatternClassified</th>\n",
       "      <th>eta</th>\n",
       "    </tr>\n",
       "  </thead>\n",
       "  <tbody>\n",
       "    <tr>\n",
       "      <th>0</th>\n",
       "      <td>0</td>\n",
       "      <td>6000.0</td>\n",
       "      <td>219.0</td>\n",
       "      <td>219.0</td>\n",
       "      <td>0.0</td>\n",
       "      <td>0.036500</td>\n",
       "      <td>1.000000</td>\n",
       "      <td>0.0</td>\n",
       "      <td>0</td>\n",
       "    </tr>\n",
       "    <tr>\n",
       "      <th>1</th>\n",
       "      <td>1</td>\n",
       "      <td>6000.0</td>\n",
       "      <td>21.0</td>\n",
       "      <td>21.0</td>\n",
       "      <td>0.0</td>\n",
       "      <td>0.003500</td>\n",
       "      <td>1.000000</td>\n",
       "      <td>0.0</td>\n",
       "      <td>0</td>\n",
       "    </tr>\n",
       "    <tr>\n",
       "      <th>2</th>\n",
       "      <td>2</td>\n",
       "      <td>6000.0</td>\n",
       "      <td>173.0</td>\n",
       "      <td>173.0</td>\n",
       "      <td>0.0</td>\n",
       "      <td>0.028833</td>\n",
       "      <td>1.000000</td>\n",
       "      <td>0.0</td>\n",
       "      <td>0</td>\n",
       "    </tr>\n",
       "    <tr>\n",
       "      <th>3</th>\n",
       "      <td>3</td>\n",
       "      <td>6000.0</td>\n",
       "      <td>81.0</td>\n",
       "      <td>81.0</td>\n",
       "      <td>0.0</td>\n",
       "      <td>0.013500</td>\n",
       "      <td>1.000000</td>\n",
       "      <td>0.0</td>\n",
       "      <td>0</td>\n",
       "    </tr>\n",
       "    <tr>\n",
       "      <th>4</th>\n",
       "      <td>4</td>\n",
       "      <td>6000.0</td>\n",
       "      <td>118.0</td>\n",
       "      <td>118.0</td>\n",
       "      <td>0.0</td>\n",
       "      <td>0.019667</td>\n",
       "      <td>1.000000</td>\n",
       "      <td>0.0</td>\n",
       "      <td>0</td>\n",
       "    </tr>\n",
       "    <tr>\n",
       "      <th>5</th>\n",
       "      <td>5</td>\n",
       "      <td>6000.0</td>\n",
       "      <td>6.0</td>\n",
       "      <td>6.0</td>\n",
       "      <td>0.0</td>\n",
       "      <td>0.001000</td>\n",
       "      <td>1.000000</td>\n",
       "      <td>0.0</td>\n",
       "      <td>0</td>\n",
       "    </tr>\n",
       "    <tr>\n",
       "      <th>6</th>\n",
       "      <td>6</td>\n",
       "      <td>6000.0</td>\n",
       "      <td>219.0</td>\n",
       "      <td>219.0</td>\n",
       "      <td>0.0</td>\n",
       "      <td>0.036500</td>\n",
       "      <td>1.000000</td>\n",
       "      <td>0.0</td>\n",
       "      <td>0</td>\n",
       "    </tr>\n",
       "    <tr>\n",
       "      <th>7</th>\n",
       "      <td>7</td>\n",
       "      <td>6000.0</td>\n",
       "      <td>14.0</td>\n",
       "      <td>14.0</td>\n",
       "      <td>0.0</td>\n",
       "      <td>0.002333</td>\n",
       "      <td>1.000000</td>\n",
       "      <td>0.0</td>\n",
       "      <td>0</td>\n",
       "    </tr>\n",
       "    <tr>\n",
       "      <th>8</th>\n",
       "      <td>8</td>\n",
       "      <td>6000.0</td>\n",
       "      <td>27.0</td>\n",
       "      <td>27.0</td>\n",
       "      <td>0.0</td>\n",
       "      <td>0.004500</td>\n",
       "      <td>1.000000</td>\n",
       "      <td>0.0</td>\n",
       "      <td>0</td>\n",
       "    </tr>\n",
       "    <tr>\n",
       "      <th>9</th>\n",
       "      <td>9</td>\n",
       "      <td>6000.0</td>\n",
       "      <td>20.0</td>\n",
       "      <td>20.0</td>\n",
       "      <td>0.0</td>\n",
       "      <td>0.003333</td>\n",
       "      <td>1.000000</td>\n",
       "      <td>0.0</td>\n",
       "      <td>0</td>\n",
       "    </tr>\n",
       "    <tr>\n",
       "      <th>10</th>\n",
       "      <td>all</td>\n",
       "      <td>60000.0</td>\n",
       "      <td>898.0</td>\n",
       "      <td>898.0</td>\n",
       "      <td>0.0</td>\n",
       "      <td>0.014967</td>\n",
       "      <td>1.000000</td>\n",
       "      <td>0.0</td>\n",
       "      <td>0</td>\n",
       "    </tr>\n",
       "    <tr>\n",
       "      <th>11</th>\n",
       "      <td>all_mean</td>\n",
       "      <td>60000.0</td>\n",
       "      <td>898.0</td>\n",
       "      <td>898.0</td>\n",
       "      <td>1.0</td>\n",
       "      <td>0.000000</td>\n",
       "      <td>0.014967</td>\n",
       "      <td>0.0</td>\n",
       "      <td>0</td>\n",
       "    </tr>\n",
       "  </tbody>\n",
       "</table>\n",
       "</div>"
      ],
      "text/plain": [
       "           y    count  false  false_misclassified  false_classified   \n",
       "0          0   6000.0  219.0                219.0               0.0  \\\n",
       "1          1   6000.0   21.0                 21.0               0.0   \n",
       "2          2   6000.0  173.0                173.0               0.0   \n",
       "3          3   6000.0   81.0                 81.0               0.0   \n",
       "4          4   6000.0  118.0                118.0               0.0   \n",
       "5          5   6000.0    6.0                  6.0               0.0   \n",
       "6          6   6000.0  219.0                219.0               0.0   \n",
       "7          7   6000.0   14.0                 14.0               0.0   \n",
       "8          8   6000.0   27.0                 27.0               0.0   \n",
       "9          9   6000.0   20.0                 20.0               0.0   \n",
       "10       all  60000.0  898.0                898.0               0.0   \n",
       "11  all_mean  60000.0  898.0                898.0               1.0   \n",
       "\n",
       "    outOfPattern  outOfPatternMisclassified  outOfPatternClassified  eta  \n",
       "0       0.036500                   1.000000                     0.0    0  \n",
       "1       0.003500                   1.000000                     0.0    0  \n",
       "2       0.028833                   1.000000                     0.0    0  \n",
       "3       0.013500                   1.000000                     0.0    0  \n",
       "4       0.019667                   1.000000                     0.0    0  \n",
       "5       0.001000                   1.000000                     0.0    0  \n",
       "6       0.036500                   1.000000                     0.0    0  \n",
       "7       0.002333                   1.000000                     0.0    0  \n",
       "8       0.004500                   1.000000                     0.0    0  \n",
       "9       0.003333                   1.000000                     0.0    0  \n",
       "10      0.014967                   1.000000                     0.0    0  \n",
       "11      0.000000                   0.014967                     0.0    0  "
      ]
     },
     "execution_count": 175,
     "metadata": {},
     "output_type": "execute_result"
    }
   ],
   "source": [
    "df_train_scores"
   ]
  },
  {
   "cell_type": "code",
   "execution_count": 176,
   "metadata": {},
   "outputs": [
    {
     "data": {
      "text/html": [
       "<div>\n",
       "<style scoped>\n",
       "    .dataframe tbody tr th:only-of-type {\n",
       "        vertical-align: middle;\n",
       "    }\n",
       "\n",
       "    .dataframe tbody tr th {\n",
       "        vertical-align: top;\n",
       "    }\n",
       "\n",
       "    .dataframe thead th {\n",
       "        text-align: right;\n",
       "    }\n",
       "</style>\n",
       "<table border=\"1\" class=\"dataframe\">\n",
       "  <thead>\n",
       "    <tr style=\"text-align: right;\">\n",
       "      <th></th>\n",
       "      <th>y</th>\n",
       "      <th>count</th>\n",
       "      <th>false</th>\n",
       "      <th>false_misclassified</th>\n",
       "      <th>false_classified</th>\n",
       "      <th>outOfPattern</th>\n",
       "      <th>outOfPatternMisclassified</th>\n",
       "      <th>outOfPatternClassified</th>\n",
       "      <th>eta</th>\n",
       "    </tr>\n",
       "  </thead>\n",
       "  <tbody>\n",
       "    <tr>\n",
       "      <th>0</th>\n",
       "      <td>0</td>\n",
       "      <td>1000.0</td>\n",
       "      <td>163.0</td>\n",
       "      <td>50.0</td>\n",
       "      <td>113.000000</td>\n",
       "      <td>0.1630</td>\n",
       "      <td>0.306748</td>\n",
       "      <td>0.693252</td>\n",
       "      <td>0</td>\n",
       "    </tr>\n",
       "    <tr>\n",
       "      <th>1</th>\n",
       "      <td>1</td>\n",
       "      <td>1000.0</td>\n",
       "      <td>23.0</td>\n",
       "      <td>7.0</td>\n",
       "      <td>16.000000</td>\n",
       "      <td>0.0230</td>\n",
       "      <td>0.304348</td>\n",
       "      <td>0.695652</td>\n",
       "      <td>0</td>\n",
       "    </tr>\n",
       "    <tr>\n",
       "      <th>2</th>\n",
       "      <td>2</td>\n",
       "      <td>1000.0</td>\n",
       "      <td>142.0</td>\n",
       "      <td>32.0</td>\n",
       "      <td>110.000000</td>\n",
       "      <td>0.1420</td>\n",
       "      <td>0.225352</td>\n",
       "      <td>0.774648</td>\n",
       "      <td>0</td>\n",
       "    </tr>\n",
       "    <tr>\n",
       "      <th>3</th>\n",
       "      <td>3</td>\n",
       "      <td>1000.0</td>\n",
       "      <td>161.0</td>\n",
       "      <td>22.0</td>\n",
       "      <td>139.000000</td>\n",
       "      <td>0.1610</td>\n",
       "      <td>0.136646</td>\n",
       "      <td>0.863354</td>\n",
       "      <td>0</td>\n",
       "    </tr>\n",
       "    <tr>\n",
       "      <th>4</th>\n",
       "      <td>4</td>\n",
       "      <td>1000.0</td>\n",
       "      <td>83.0</td>\n",
       "      <td>23.0</td>\n",
       "      <td>60.000000</td>\n",
       "      <td>0.0830</td>\n",
       "      <td>0.277108</td>\n",
       "      <td>0.722892</td>\n",
       "      <td>0</td>\n",
       "    </tr>\n",
       "    <tr>\n",
       "      <th>5</th>\n",
       "      <td>5</td>\n",
       "      <td>1000.0</td>\n",
       "      <td>96.0</td>\n",
       "      <td>2.0</td>\n",
       "      <td>94.000000</td>\n",
       "      <td>0.0960</td>\n",
       "      <td>0.020833</td>\n",
       "      <td>0.979167</td>\n",
       "      <td>0</td>\n",
       "    </tr>\n",
       "    <tr>\n",
       "      <th>6</th>\n",
       "      <td>6</td>\n",
       "      <td>1000.0</td>\n",
       "      <td>258.0</td>\n",
       "      <td>58.0</td>\n",
       "      <td>200.000000</td>\n",
       "      <td>0.2580</td>\n",
       "      <td>0.224806</td>\n",
       "      <td>0.775194</td>\n",
       "      <td>0</td>\n",
       "    </tr>\n",
       "    <tr>\n",
       "      <th>7</th>\n",
       "      <td>7</td>\n",
       "      <td>1000.0</td>\n",
       "      <td>37.0</td>\n",
       "      <td>1.0</td>\n",
       "      <td>36.000000</td>\n",
       "      <td>0.0370</td>\n",
       "      <td>0.027027</td>\n",
       "      <td>0.972973</td>\n",
       "      <td>0</td>\n",
       "    </tr>\n",
       "    <tr>\n",
       "      <th>8</th>\n",
       "      <td>8</td>\n",
       "      <td>1000.0</td>\n",
       "      <td>176.0</td>\n",
       "      <td>6.0</td>\n",
       "      <td>170.000000</td>\n",
       "      <td>0.1760</td>\n",
       "      <td>0.034091</td>\n",
       "      <td>0.965909</td>\n",
       "      <td>0</td>\n",
       "    </tr>\n",
       "    <tr>\n",
       "      <th>9</th>\n",
       "      <td>9</td>\n",
       "      <td>1000.0</td>\n",
       "      <td>80.0</td>\n",
       "      <td>9.0</td>\n",
       "      <td>71.000000</td>\n",
       "      <td>0.0800</td>\n",
       "      <td>0.112500</td>\n",
       "      <td>0.887500</td>\n",
       "      <td>0</td>\n",
       "    </tr>\n",
       "    <tr>\n",
       "      <th>10</th>\n",
       "      <td>all</td>\n",
       "      <td>10000.0</td>\n",
       "      <td>1219.0</td>\n",
       "      <td>210.0</td>\n",
       "      <td>1009.000000</td>\n",
       "      <td>0.1219</td>\n",
       "      <td>0.172272</td>\n",
       "      <td>0.827728</td>\n",
       "      <td>0</td>\n",
       "    </tr>\n",
       "    <tr>\n",
       "      <th>11</th>\n",
       "      <td>all_mean</td>\n",
       "      <td>10000.0</td>\n",
       "      <td>1219.0</td>\n",
       "      <td>210.0</td>\n",
       "      <td>0.166946</td>\n",
       "      <td>0.0000</td>\n",
       "      <td>0.121900</td>\n",
       "      <td>0.833054</td>\n",
       "      <td>0</td>\n",
       "    </tr>\n",
       "  </tbody>\n",
       "</table>\n",
       "</div>"
      ],
      "text/plain": [
       "           y    count   false  false_misclassified  false_classified   \n",
       "0          0   1000.0   163.0                 50.0        113.000000  \\\n",
       "1          1   1000.0    23.0                  7.0         16.000000   \n",
       "2          2   1000.0   142.0                 32.0        110.000000   \n",
       "3          3   1000.0   161.0                 22.0        139.000000   \n",
       "4          4   1000.0    83.0                 23.0         60.000000   \n",
       "5          5   1000.0    96.0                  2.0         94.000000   \n",
       "6          6   1000.0   258.0                 58.0        200.000000   \n",
       "7          7   1000.0    37.0                  1.0         36.000000   \n",
       "8          8   1000.0   176.0                  6.0        170.000000   \n",
       "9          9   1000.0    80.0                  9.0         71.000000   \n",
       "10       all  10000.0  1219.0                210.0       1009.000000   \n",
       "11  all_mean  10000.0  1219.0                210.0          0.166946   \n",
       "\n",
       "    outOfPattern  outOfPatternMisclassified  outOfPatternClassified  eta  \n",
       "0         0.1630                   0.306748                0.693252    0  \n",
       "1         0.0230                   0.304348                0.695652    0  \n",
       "2         0.1420                   0.225352                0.774648    0  \n",
       "3         0.1610                   0.136646                0.863354    0  \n",
       "4         0.0830                   0.277108                0.722892    0  \n",
       "5         0.0960                   0.020833                0.979167    0  \n",
       "6         0.2580                   0.224806                0.775194    0  \n",
       "7         0.0370                   0.027027                0.972973    0  \n",
       "8         0.1760                   0.034091                0.965909    0  \n",
       "9         0.0800                   0.112500                0.887500    0  \n",
       "10        0.1219                   0.172272                0.827728    0  \n",
       "11        0.0000                   0.121900                0.833054    0  "
      ]
     },
     "execution_count": 176,
     "metadata": {},
     "output_type": "execute_result"
    }
   ],
   "source": [
    "df_test_scores"
   ]
  },
  {
   "cell_type": "code",
   "execution_count": 177,
   "metadata": {},
   "outputs": [
    {
     "data": {
      "text/html": [
       "<div>\n",
       "<style scoped>\n",
       "    .dataframe tbody tr th:only-of-type {\n",
       "        vertical-align: middle;\n",
       "    }\n",
       "\n",
       "    .dataframe tbody tr th {\n",
       "        vertical-align: top;\n",
       "    }\n",
       "\n",
       "    .dataframe thead th {\n",
       "        text-align: right;\n",
       "    }\n",
       "</style>\n",
       "<table border=\"1\" class=\"dataframe\">\n",
       "  <thead>\n",
       "    <tr style=\"text-align: right;\">\n",
       "      <th></th>\n",
       "      <th>y</th>\n",
       "      <th>count</th>\n",
       "      <th>bdd_false</th>\n",
       "      <th>bdd_false_misclassified</th>\n",
       "      <th>bdd_false_classified</th>\n",
       "      <th>outOfPattern</th>\n",
       "      <th>outOfPatternMisclassified</th>\n",
       "      <th>outOfPatternClassified</th>\n",
       "    </tr>\n",
       "  </thead>\n",
       "  <tbody>\n",
       "    <tr>\n",
       "      <th>0</th>\n",
       "      <td>1</td>\n",
       "      <td>60000.0</td>\n",
       "      <td>31819.0</td>\n",
       "      <td>0.0</td>\n",
       "      <td>31819.0</td>\n",
       "      <td>0.530317</td>\n",
       "      <td>1.000000</td>\n",
       "      <td>0.0</td>\n",
       "    </tr>\n",
       "    <tr>\n",
       "      <th>1</th>\n",
       "      <td>all</td>\n",
       "      <td>60000.0</td>\n",
       "      <td>31819.0</td>\n",
       "      <td>0.0</td>\n",
       "      <td>31819.0</td>\n",
       "      <td>0.530317</td>\n",
       "      <td>1.000000</td>\n",
       "      <td>0.0</td>\n",
       "    </tr>\n",
       "    <tr>\n",
       "      <th>2</th>\n",
       "      <td>all_mean</td>\n",
       "      <td>60000.0</td>\n",
       "      <td>31819.0</td>\n",
       "      <td>0.0</td>\n",
       "      <td>0.0</td>\n",
       "      <td>0.000000</td>\n",
       "      <td>0.530317</td>\n",
       "      <td>0.0</td>\n",
       "    </tr>\n",
       "  </tbody>\n",
       "</table>\n",
       "</div>"
      ],
      "text/plain": [
       "          y    count  bdd_false  bdd_false_misclassified   \n",
       "0         1  60000.0    31819.0                      0.0  \\\n",
       "1       all  60000.0    31819.0                      0.0   \n",
       "2  all_mean  60000.0    31819.0                      0.0   \n",
       "\n",
       "   bdd_false_classified  outOfPattern  outOfPatternMisclassified   \n",
       "0               31819.0      0.530317                   1.000000  \\\n",
       "1               31819.0      0.530317                   1.000000   \n",
       "2                   0.0      0.000000                   0.530317   \n",
       "\n",
       "   outOfPatternClassified  \n",
       "0                     0.0  \n",
       "1                     0.0  \n",
       "2                     0.0  "
      ]
     },
     "execution_count": 177,
     "metadata": {},
     "output_type": "execute_result"
    }
   ],
   "source": [
    "inference_df['y'] = 1\n",
    "inference_df['true'] = 1\n",
    "\n",
    "patterns.evaluate_dataframe(inference_df)"
   ]
  },
  {
   "cell_type": "code",
   "execution_count": null,
   "metadata": {},
   "outputs": [],
   "source": []
  },
  {
   "cell_type": "code",
   "execution_count": null,
   "metadata": {},
   "outputs": [],
   "source": []
  },
  {
   "cell_type": "code",
   "execution_count": null,
   "metadata": {},
   "outputs": [],
   "source": []
  }
 ],
 "metadata": {
  "accelerator": "GPU",
  "colab": {
   "collapsed_sections": [
    "mcDeYOA8d1wL"
   ],
   "provenance": []
  },
  "gpuClass": "standard",
  "kernelspec": {
   "display_name": "Python 3",
   "language": "python",
   "name": "python3"
  },
  "language_info": {
   "codemirror_mode": {
    "name": "ipython",
    "version": 3
   },
   "file_extension": ".py",
   "mimetype": "text/x-python",
   "name": "python",
   "nbconvert_exporter": "python",
   "pygments_lexer": "ipython3",
   "version": "3.10.11"
  },
  "vscode": {
   "interpreter": {
    "hash": "2b89e4666a1b1f5f90ada5928a1b04d9ad859bf674b23c56e0417352230a6456"
   }
  }
 },
 "nbformat": 4,
 "nbformat_minor": 4
}
