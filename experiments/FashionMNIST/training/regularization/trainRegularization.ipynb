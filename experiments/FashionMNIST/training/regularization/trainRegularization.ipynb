{
 "cells": [
  {
   "cell_type": "markdown",
   "metadata": {},
   "source": [
    "# Setup Variables"
   ]
  },
  {
   "cell_type": "code",
   "execution_count": 1,
   "metadata": {},
   "outputs": [],
   "source": [
    "REPO_PATH = '/home/ah19/runtime-monitoring'\n",
    "DATASET = 'FashionMNIST'\n",
    "PREFIX = 'Regularizations'\n",
    "FILENAME_POSTFIX = f\"{DATASET}_{PREFIX}\"\n",
    "SEED = 42\n",
    "\n",
    "CUDA = 1\n",
    "GPU_NAME = f'cuda:{CUDA}'\n",
    "model_setup = {'first_layer_norm': False}\n",
    "model_config = {'lr': 0.01,'epochs': 5}"
   ]
  },
  {
   "cell_type": "markdown",
   "metadata": {},
   "source": [
    "# Libraries"
   ]
  },
  {
   "cell_type": "code",
   "execution_count": 2,
   "metadata": {
    "id": "FLmxFGnxg6ZG"
   },
   "outputs": [],
   "source": [
    "import matplotlib.pyplot as plt\n",
    "import numpy as np\n",
    "import pandas as pd\n",
    "from fastprogress import progress_bar\n",
    "from pathlib import Path\n",
    "from time import perf_counter\n",
    "from itertools import product\n",
    "\n",
    "from sklearn.model_selection import train_test_split\n",
    "import torch\n",
    "from torch.backends import cudnn\n",
    "import torch.nn as nn\n",
    "import torch.nn.functional as F\n",
    "from torchinfo import summary"
   ]
  },
  {
   "cell_type": "code",
   "execution_count": 3,
   "metadata": {},
   "outputs": [],
   "source": [
    "import sys\n",
    "sys.path.append(REPO_PATH + '/utilities')\n",
    "sys.path.append(f'{REPO_PATH}/{DATASET}/trainingModels')"
   ]
  },
  {
   "cell_type": "code",
   "execution_count": 4,
   "metadata": {},
   "outputs": [],
   "source": [
    "from utils import *\n",
    "from pathManager import fetchPaths\n",
    "from FashionMNIST_CNN import FashionMNIST_CNN\n",
    "\n",
    "model_ = FashionMNIST_CNN\n",
    "\n",
    "LIMIT_TRAIN_DATA = 0.2\n",
    "LIMIT_TEST_DATA = 0.05"
   ]
  },
  {
   "cell_type": "markdown",
   "metadata": {
    "id": "h7eERD3yVH2H"
   },
   "source": [
    "# GPU Device & Seed"
   ]
  },
  {
   "cell_type": "code",
   "execution_count": 5,
   "metadata": {
    "id": "CS9DVaKDi_2C"
   },
   "outputs": [],
   "source": [
    "# np.random.seed(SEED)\n",
    "# torch.manual_seed(SEED)\n",
    "# torch.cuda.manual_seed(SEED)"
   ]
  },
  {
   "cell_type": "code",
   "execution_count": 6,
   "metadata": {
    "colab": {
     "base_uri": "https://localhost:8080/"
    },
    "id": "5jRXv8RAhzqa",
    "outputId": "d8ccff46-cebe-4890-ab1c-5b498a395e64"
   },
   "outputs": [
    {
     "data": {
      "text/plain": [
       "'Tesla T4'"
      ]
     },
     "execution_count": 6,
     "metadata": {},
     "output_type": "execute_result"
    }
   ],
   "source": [
    "device = get_device(GPU_NAME)\n",
    "torch.cuda.get_device_name(device)"
   ]
  },
  {
   "cell_type": "markdown",
   "metadata": {},
   "source": [
    "# Paths"
   ]
  },
  {
   "cell_type": "code",
   "execution_count": 7,
   "metadata": {
    "scrolled": true
   },
   "outputs": [
    {
     "data": {
      "text/plain": [
       "PosixPath('/home/ah19/runtime-monitoring/FashionMNIST')"
      ]
     },
     "execution_count": 7,
     "metadata": {},
     "output_type": "execute_result"
    }
   ],
   "source": [
    "base = Path(REPO_PATH)\n",
    "paths = fetchPaths(base, DATASET)\n",
    "\n",
    "path = paths[DATASET.lower()]\n",
    "path_dataset = paths['dataset']\n",
    "path_trainingModels = paths['trainingModels']\n",
    "path_trainingModels_regularization = paths['trainingModels_regularization']\n",
    "\n",
    "path"
   ]
  },
  {
   "cell_type": "markdown",
   "metadata": {
    "id": "h7eERD3yVH2H"
   },
   "source": [
    "# Load / Split / DataLoader"
   ]
  },
  {
   "cell_type": "code",
   "execution_count": 8,
   "metadata": {},
   "outputs": [
    {
     "data": {
      "text/plain": [
       "(12000, 500)"
      ]
     },
     "execution_count": 8,
     "metadata": {},
     "output_type": "execute_result"
    }
   ],
   "source": [
    "feature_names = get_labels(DATASET)\n",
    "\n",
    "tf_train = T.Compose([\n",
    "    T.ToTensor(),\n",
    "    T.Normalize((0.2850), (0.3200))\n",
    "])\n",
    "\n",
    "\n",
    "tf_test = T.Compose([\n",
    "    T.ToTensor(),\n",
    "    T.Normalize((0.2850), (0.3200))\n",
    "])\n",
    "\n",
    "train_data = get_dataset(DATASET, path_dataset, train=True, transform=tf_train)\n",
    "test_data = get_dataset(DATASET, path_dataset, train=False, transform=tf_test)\n",
    "\n",
    "train_split = split_data(train_data.targets, LIMIT_TRAIN_DATA)\n",
    "test_split = split_data(test_data.targets, LIMIT_TEST_DATA)\n",
    "\n",
    "\n",
    "train_data = torch.utils.data.Subset(train_data, train_split)\n",
    "test_data = torch.utils.data.Subset(test_data, test_split)\n",
    "\n",
    "\n",
    "len(train_data), len(test_data)"
   ]
  },
  {
   "cell_type": "markdown",
   "metadata": {},
   "source": [
    "# Model"
   ]
  },
  {
   "cell_type": "code",
   "execution_count": 9,
   "metadata": {},
   "outputs": [],
   "source": [
    "def reg_type(l2, l1, p):\n",
    "    name = ''\n",
    "    if l2 > 0 and l1 == 0: name += 'L2'\n",
    "    elif l2 == 0 and l1 > 0: name += 'L1'\n",
    "    elif l2 > 0 and l1 > 0: name += 'Elastic'\n",
    "    \n",
    "    if p > 0 and name == '': name = 'Dropout'\n",
    "    elif p > 0: name += '-Dropout'\n",
    "        \n",
    "    if name == '': name = 'No Regularization'\n",
    "        \n",
    "    return name"
   ]
  },
  {
   "cell_type": "code",
   "execution_count": 11,
   "metadata": {},
   "outputs": [],
   "source": [
    "L2 = [0, 1e-3, 1e-2]\n",
    "L1 = [0, 1e-3, 1e-2]\n",
    "dropout = [0.0, 0.3]\n",
    "optims = ['Adam', 'SGD']\n",
    "batchsizes = [32, 64, 128, 256]"
   ]
  },
  {
   "cell_type": "code",
   "execution_count": 12,
   "metadata": {
    "scrolled": true
   },
   "outputs": [
    {
     "data": {
      "text/html": [
       "\n",
       "<style>\n",
       "    /* Turns off some styling */\n",
       "    progress {\n",
       "        /* gets rid of default border in Firefox and Opera. */\n",
       "        border: none;\n",
       "        /* Needs to be in here for Safari polyfill so background images work as expected. */\n",
       "        background-size: auto;\n",
       "    }\n",
       "    progress:not([value]), progress:not([value])::-webkit-progress-bar {\n",
       "        background: repeating-linear-gradient(45deg, #7e7e7e, #7e7e7e 10px, #5c5c5c 10px, #5c5c5c 20px);\n",
       "    }\n",
       "    .progress-bar-interrupted, .progress-bar-interrupted::-webkit-progress-bar {\n",
       "        background: #F44336;\n",
       "    }\n",
       "</style>\n"
      ],
      "text/plain": [
       "<IPython.core.display.HTML object>"
      ]
     },
     "metadata": {},
     "output_type": "display_data"
    },
    {
     "data": {
      "text/html": [
       "\n",
       "    <div>\n",
       "      <progress value='144' class='' max='144' style='width:300px; height:20px; vertical-align: middle;'></progress>\n",
       "      100.00% [144/144 1:27:14&lt;00:00]\n",
       "    </div>\n",
       "    "
      ],
      "text/plain": [
       "<IPython.core.display.HTML object>"
      ]
     },
     "metadata": {},
     "output_type": "display_data"
    },
    {
     "name": "stdout",
     "output_type": "stream",
     "text": [
      "[==================================================]\n",
      "Adam - 32: (0, 0, 0.0)\n"
     ]
    },
    {
     "data": {
      "text/html": [
       "\n",
       "<style>\n",
       "    /* Turns off some styling */\n",
       "    progress {\n",
       "        /* gets rid of default border in Firefox and Opera. */\n",
       "        border: none;\n",
       "        /* Needs to be in here for Safari polyfill so background images work as expected. */\n",
       "        background-size: auto;\n",
       "    }\n",
       "    progress:not([value]), progress:not([value])::-webkit-progress-bar {\n",
       "        background: repeating-linear-gradient(45deg, #7e7e7e, #7e7e7e 10px, #5c5c5c 10px, #5c5c5c 20px);\n",
       "    }\n",
       "    .progress-bar-interrupted, .progress-bar-interrupted::-webkit-progress-bar {\n",
       "        background: #F44336;\n",
       "    }\n",
       "</style>\n"
      ],
      "text/plain": [
       "<IPython.core.display.HTML object>"
      ]
     },
     "metadata": {},
     "output_type": "display_data"
    },
    {
     "data": {
      "text/html": [
       "[Epoch: 00] Loss (0.582 / 0.498) - Accuracy (78.7% / 83.6%)<p>[Epoch: 01] Loss (0.384 / 0.375) - Accuracy (85.8% / 88.0%)<p>[Epoch: 02] Loss (0.316 / 0.393) - Accuracy (88.4% / 86.2%)<p>[Epoch: 03] Loss (0.288 / 0.341) - Accuracy (89.2% / 88.6%)<p>[Epoch: 04] Loss (0.251 / 0.397) - Accuracy (90.8% / 86.8%)"
      ],
      "text/plain": [
       "<IPython.core.display.HTML object>"
      ]
     },
     "metadata": {},
     "output_type": "display_data"
    },
    {
     "name": "stdout",
     "output_type": "stream",
     "text": [
      "[==================================================]\n",
      "Adam - 32: (0, 0, 0.3)\n"
     ]
    },
    {
     "data": {
      "text/html": [
       "\n",
       "<style>\n",
       "    /* Turns off some styling */\n",
       "    progress {\n",
       "        /* gets rid of default border in Firefox and Opera. */\n",
       "        border: none;\n",
       "        /* Needs to be in here for Safari polyfill so background images work as expected. */\n",
       "        background-size: auto;\n",
       "    }\n",
       "    progress:not([value]), progress:not([value])::-webkit-progress-bar {\n",
       "        background: repeating-linear-gradient(45deg, #7e7e7e, #7e7e7e 10px, #5c5c5c 10px, #5c5c5c 20px);\n",
       "    }\n",
       "    .progress-bar-interrupted, .progress-bar-interrupted::-webkit-progress-bar {\n",
       "        background: #F44336;\n",
       "    }\n",
       "</style>\n"
      ],
      "text/plain": [
       "<IPython.core.display.HTML object>"
      ]
     },
     "metadata": {},
     "output_type": "display_data"
    },
    {
     "data": {
      "text/html": [
       "[Epoch: 00] Loss (0.599 / 0.504) - Accuracy (77.6% / 82.2%)<p>[Epoch: 01] Loss (0.412 / 0.436) - Accuracy (84.6% / 85.4%)<p>[Epoch: 02] Loss (0.352 / 0.363) - Accuracy (87.1% / 86.0%)<p>[Epoch: 03] Loss (0.307 / 0.341) - Accuracy (88.5% / 89.6%)<p>[Epoch: 04] Loss (0.283 / 0.528) - Accuracy (89.3% / 83.2%)"
      ],
      "text/plain": [
       "<IPython.core.display.HTML object>"
      ]
     },
     "metadata": {},
     "output_type": "display_data"
    },
    {
     "name": "stdout",
     "output_type": "stream",
     "text": [
      "[==================================================]\n",
      "Adam - 32: (0, 0.001, 0.0)\n"
     ]
    },
    {
     "data": {
      "text/html": [
       "\n",
       "<style>\n",
       "    /* Turns off some styling */\n",
       "    progress {\n",
       "        /* gets rid of default border in Firefox and Opera. */\n",
       "        border: none;\n",
       "        /* Needs to be in here for Safari polyfill so background images work as expected. */\n",
       "        background-size: auto;\n",
       "    }\n",
       "    progress:not([value]), progress:not([value])::-webkit-progress-bar {\n",
       "        background: repeating-linear-gradient(45deg, #7e7e7e, #7e7e7e 10px, #5c5c5c 10px, #5c5c5c 20px);\n",
       "    }\n",
       "    .progress-bar-interrupted, .progress-bar-interrupted::-webkit-progress-bar {\n",
       "        background: #F44336;\n",
       "    }\n",
       "</style>\n"
      ],
      "text/plain": [
       "<IPython.core.display.HTML object>"
      ]
     },
     "metadata": {},
     "output_type": "display_data"
    },
    {
     "data": {
      "text/html": [
       "[Epoch: 00] Loss (0.791 / 0.752) - Accuracy (70.6% / 72.6%)<p>[Epoch: 01] Loss (0.602 / 0.613) - Accuracy (77.4% / 76.6%)<p>[Epoch: 02] Loss (0.569 / 0.623) - Accuracy (78.6% / 76.6%)<p>[Epoch: 03] Loss (0.558 / 0.611) - Accuracy (79.3% / 77.2%)<p>[Epoch: 04] Loss (0.520 / 0.537) - Accuracy (80.6% / 79.4%)"
      ],
      "text/plain": [
       "<IPython.core.display.HTML object>"
      ]
     },
     "metadata": {},
     "output_type": "display_data"
    },
    {
     "name": "stdout",
     "output_type": "stream",
     "text": [
      "[==================================================]\n",
      "Adam - 32: (0, 0.001, 0.3)\n"
     ]
    },
    {
     "data": {
      "text/html": [
       "\n",
       "<style>\n",
       "    /* Turns off some styling */\n",
       "    progress {\n",
       "        /* gets rid of default border in Firefox and Opera. */\n",
       "        border: none;\n",
       "        /* Needs to be in here for Safari polyfill so background images work as expected. */\n",
       "        background-size: auto;\n",
       "    }\n",
       "    progress:not([value]), progress:not([value])::-webkit-progress-bar {\n",
       "        background: repeating-linear-gradient(45deg, #7e7e7e, #7e7e7e 10px, #5c5c5c 10px, #5c5c5c 20px);\n",
       "    }\n",
       "    .progress-bar-interrupted, .progress-bar-interrupted::-webkit-progress-bar {\n",
       "        background: #F44336;\n",
       "    }\n",
       "</style>\n"
      ],
      "text/plain": [
       "<IPython.core.display.HTML object>"
      ]
     },
     "metadata": {},
     "output_type": "display_data"
    },
    {
     "data": {
      "text/html": [
       "[Epoch: 00] Loss (0.830 / 0.786) - Accuracy (69.4% / 71.6%)<p>[Epoch: 01] Loss (0.658 / 0.681) - Accuracy (75.4% / 76.6%)<p>[Epoch: 02] Loss (0.622 / 0.583) - Accuracy (76.8% / 77.2%)<p>[Epoch: 03] Loss (0.597 / 0.562) - Accuracy (77.9% / 81.2%)<p>[Epoch: 04] Loss (0.587 / 0.861) - Accuracy (78.2% / 69.8%)"
      ],
      "text/plain": [
       "<IPython.core.display.HTML object>"
      ]
     },
     "metadata": {},
     "output_type": "display_data"
    },
    {
     "name": "stdout",
     "output_type": "stream",
     "text": [
      "[==================================================]\n",
      "Adam - 32: (0, 0.01, 0.0)\n"
     ]
    },
    {
     "data": {
      "text/html": [
       "\n",
       "<style>\n",
       "    /* Turns off some styling */\n",
       "    progress {\n",
       "        /* gets rid of default border in Firefox and Opera. */\n",
       "        border: none;\n",
       "        /* Needs to be in here for Safari polyfill so background images work as expected. */\n",
       "        background-size: auto;\n",
       "    }\n",
       "    progress:not([value]), progress:not([value])::-webkit-progress-bar {\n",
       "        background: repeating-linear-gradient(45deg, #7e7e7e, #7e7e7e 10px, #5c5c5c 10px, #5c5c5c 20px);\n",
       "    }\n",
       "    .progress-bar-interrupted, .progress-bar-interrupted::-webkit-progress-bar {\n",
       "        background: #F44336;\n",
       "    }\n",
       "</style>\n"
      ],
      "text/plain": [
       "<IPython.core.display.HTML object>"
      ]
     },
     "metadata": {},
     "output_type": "display_data"
    },
    {
     "data": {
      "text/html": [
       "[Epoch: 00] Loss (1.041 / 1.313) - Accuracy (65.1% / 52.4%)<p>[Epoch: 01] Loss (0.822 / 0.994) - Accuracy (71.6% / 63.4%)<p>[Epoch: 02] Loss (0.790 / 1.062) - Accuracy (72.6% / 65.8%)<p>[Epoch: 03] Loss (0.777 / 1.326) - Accuracy (73.2% / 53.0%)<p>[Epoch: 04] Loss (0.753 / 1.419) - Accuracy (73.8% / 51.0%)"
      ],
      "text/plain": [
       "<IPython.core.display.HTML object>"
      ]
     },
     "metadata": {},
     "output_type": "display_data"
    },
    {
     "name": "stdout",
     "output_type": "stream",
     "text": [
      "[==================================================]\n",
      "Adam - 32: (0, 0.01, 0.3)\n"
     ]
    },
    {
     "data": {
      "text/html": [
       "\n",
       "<style>\n",
       "    /* Turns off some styling */\n",
       "    progress {\n",
       "        /* gets rid of default border in Firefox and Opera. */\n",
       "        border: none;\n",
       "        /* Needs to be in here for Safari polyfill so background images work as expected. */\n",
       "        background-size: auto;\n",
       "    }\n",
       "    progress:not([value]), progress:not([value])::-webkit-progress-bar {\n",
       "        background: repeating-linear-gradient(45deg, #7e7e7e, #7e7e7e 10px, #5c5c5c 10px, #5c5c5c 20px);\n",
       "    }\n",
       "    .progress-bar-interrupted, .progress-bar-interrupted::-webkit-progress-bar {\n",
       "        background: #F44336;\n",
       "    }\n",
       "</style>\n"
      ],
      "text/plain": [
       "<IPython.core.display.HTML object>"
      ]
     },
     "metadata": {},
     "output_type": "display_data"
    },
    {
     "data": {
      "text/html": [
       "[Epoch: 00] Loss (1.096 / 1.133) - Accuracy (62.2% / 56.6%)<p>[Epoch: 01] Loss (0.903 / 1.656) - Accuracy (68.5% / 57.4%)<p>[Epoch: 02] Loss (0.884 / 0.793) - Accuracy (69.2% / 72.0%)<p>[Epoch: 03] Loss (0.887 / 1.002) - Accuracy (68.0% / 62.4%)<p>[Epoch: 04] Loss (0.883 / 1.339) - Accuracy (68.3% / 53.0%)"
      ],
      "text/plain": [
       "<IPython.core.display.HTML object>"
      ]
     },
     "metadata": {},
     "output_type": "display_data"
    },
    {
     "name": "stdout",
     "output_type": "stream",
     "text": [
      "[==================================================]\n",
      "Adam - 32: (0.001, 0, 0.0)\n"
     ]
    },
    {
     "data": {
      "text/html": [
       "\n",
       "<style>\n",
       "    /* Turns off some styling */\n",
       "    progress {\n",
       "        /* gets rid of default border in Firefox and Opera. */\n",
       "        border: none;\n",
       "        /* Needs to be in here for Safari polyfill so background images work as expected. */\n",
       "        background-size: auto;\n",
       "    }\n",
       "    progress:not([value]), progress:not([value])::-webkit-progress-bar {\n",
       "        background: repeating-linear-gradient(45deg, #7e7e7e, #7e7e7e 10px, #5c5c5c 10px, #5c5c5c 20px);\n",
       "    }\n",
       "    .progress-bar-interrupted, .progress-bar-interrupted::-webkit-progress-bar {\n",
       "        background: #F44336;\n",
       "    }\n",
       "</style>\n"
      ],
      "text/plain": [
       "<IPython.core.display.HTML object>"
      ]
     },
     "metadata": {},
     "output_type": "display_data"
    },
    {
     "data": {
      "text/html": [
       "[Epoch: 00] Loss (0.723 / 0.775) - Accuracy (73.7% / 71.8%)<p>[Epoch: 01] Loss (0.579 / 0.779) - Accuracy (79.0% / 69.6%)<p>[Epoch: 02] Loss (0.514 / 0.562) - Accuracy (81.2% / 79.4%)<p>[Epoch: 03] Loss (0.481 / 0.482) - Accuracy (82.3% / 82.6%)<p>[Epoch: 04] Loss (0.454 / 0.494) - Accuracy (83.8% / 81.2%)"
      ],
      "text/plain": [
       "<IPython.core.display.HTML object>"
      ]
     },
     "metadata": {},
     "output_type": "display_data"
    },
    {
     "name": "stdout",
     "output_type": "stream",
     "text": [
      "[==================================================]\n",
      "Adam - 32: (0.001, 0, 0.3)\n"
     ]
    },
    {
     "data": {
      "text/html": [
       "\n",
       "<style>\n",
       "    /* Turns off some styling */\n",
       "    progress {\n",
       "        /* gets rid of default border in Firefox and Opera. */\n",
       "        border: none;\n",
       "        /* Needs to be in here for Safari polyfill so background images work as expected. */\n",
       "        background-size: auto;\n",
       "    }\n",
       "    progress:not([value]), progress:not([value])::-webkit-progress-bar {\n",
       "        background: repeating-linear-gradient(45deg, #7e7e7e, #7e7e7e 10px, #5c5c5c 10px, #5c5c5c 20px);\n",
       "    }\n",
       "    .progress-bar-interrupted, .progress-bar-interrupted::-webkit-progress-bar {\n",
       "        background: #F44336;\n",
       "    }\n",
       "</style>\n"
      ],
      "text/plain": [
       "<IPython.core.display.HTML object>"
      ]
     },
     "metadata": {},
     "output_type": "display_data"
    },
    {
     "data": {
      "text/html": [
       "[Epoch: 00] Loss (0.752 / 1.539) - Accuracy (72.6% / 43.0%)<p>[Epoch: 01] Loss (0.636 / 0.791) - Accuracy (76.4% / 73.2%)<p>[Epoch: 02] Loss (0.577 / 0.645) - Accuracy (79.2% / 76.6%)<p>[Epoch: 03] Loss (0.553 / 0.564) - Accuracy (79.6% / 81.0%)<p>[Epoch: 04] Loss (0.541 / 0.550) - Accuracy (80.6% / 82.0%)"
      ],
      "text/plain": [
       "<IPython.core.display.HTML object>"
      ]
     },
     "metadata": {},
     "output_type": "display_data"
    },
    {
     "name": "stdout",
     "output_type": "stream",
     "text": [
      "[==================================================]\n",
      "Adam - 32: (0.001, 0.001, 0.0)\n"
     ]
    },
    {
     "data": {
      "text/html": [
       "\n",
       "<style>\n",
       "    /* Turns off some styling */\n",
       "    progress {\n",
       "        /* gets rid of default border in Firefox and Opera. */\n",
       "        border: none;\n",
       "        /* Needs to be in here for Safari polyfill so background images work as expected. */\n",
       "        background-size: auto;\n",
       "    }\n",
       "    progress:not([value]), progress:not([value])::-webkit-progress-bar {\n",
       "        background: repeating-linear-gradient(45deg, #7e7e7e, #7e7e7e 10px, #5c5c5c 10px, #5c5c5c 20px);\n",
       "    }\n",
       "    .progress-bar-interrupted, .progress-bar-interrupted::-webkit-progress-bar {\n",
       "        background: #F44336;\n",
       "    }\n",
       "</style>\n"
      ],
      "text/plain": [
       "<IPython.core.display.HTML object>"
      ]
     },
     "metadata": {},
     "output_type": "display_data"
    },
    {
     "data": {
      "text/html": [
       "[Epoch: 00] Loss (0.795 / 0.845) - Accuracy (70.8% / 69.4%)<p>[Epoch: 01] Loss (0.587 / 0.741) - Accuracy (78.9% / 73.2%)<p>[Epoch: 02] Loss (0.538 / 0.717) - Accuracy (81.1% / 72.0%)<p>[Epoch: 03] Loss (0.525 / 0.830) - Accuracy (81.4% / 69.6%)<p>[Epoch: 04] Loss (0.513 / 0.480) - Accuracy (82.1% / 84.2%)"
      ],
      "text/plain": [
       "<IPython.core.display.HTML object>"
      ]
     },
     "metadata": {},
     "output_type": "display_data"
    },
    {
     "name": "stdout",
     "output_type": "stream",
     "text": [
      "[==================================================]\n",
      "Adam - 32: (0.001, 0.001, 0.3)\n"
     ]
    },
    {
     "data": {
      "text/html": [
       "\n",
       "<style>\n",
       "    /* Turns off some styling */\n",
       "    progress {\n",
       "        /* gets rid of default border in Firefox and Opera. */\n",
       "        border: none;\n",
       "        /* Needs to be in here for Safari polyfill so background images work as expected. */\n",
       "        background-size: auto;\n",
       "    }\n",
       "    progress:not([value]), progress:not([value])::-webkit-progress-bar {\n",
       "        background: repeating-linear-gradient(45deg, #7e7e7e, #7e7e7e 10px, #5c5c5c 10px, #5c5c5c 20px);\n",
       "    }\n",
       "    .progress-bar-interrupted, .progress-bar-interrupted::-webkit-progress-bar {\n",
       "        background: #F44336;\n",
       "    }\n",
       "</style>\n"
      ],
      "text/plain": [
       "<IPython.core.display.HTML object>"
      ]
     },
     "metadata": {},
     "output_type": "display_data"
    },
    {
     "data": {
      "text/html": [
       "[Epoch: 00] Loss (0.858 / 1.087) - Accuracy (68.8% / 63.4%)<p>[Epoch: 01] Loss (0.693 / 0.919) - Accuracy (74.4% / 69.8%)<p>[Epoch: 02] Loss (0.673 / 1.487) - Accuracy (75.0% / 51.6%)<p>[Epoch: 03] Loss (0.667 / 0.627) - Accuracy (75.3% / 75.8%)<p>[Epoch: 04] Loss (0.654 / 0.617) - Accuracy (75.8% / 79.0%)"
      ],
      "text/plain": [
       "<IPython.core.display.HTML object>"
      ]
     },
     "metadata": {},
     "output_type": "display_data"
    },
    {
     "name": "stdout",
     "output_type": "stream",
     "text": [
      "[==================================================]\n",
      "Adam - 32: (0.001, 0.01, 0.0)\n"
     ]
    },
    {
     "data": {
      "text/html": [
       "\n",
       "<style>\n",
       "    /* Turns off some styling */\n",
       "    progress {\n",
       "        /* gets rid of default border in Firefox and Opera. */\n",
       "        border: none;\n",
       "        /* Needs to be in here for Safari polyfill so background images work as expected. */\n",
       "        background-size: auto;\n",
       "    }\n",
       "    progress:not([value]), progress:not([value])::-webkit-progress-bar {\n",
       "        background: repeating-linear-gradient(45deg, #7e7e7e, #7e7e7e 10px, #5c5c5c 10px, #5c5c5c 20px);\n",
       "    }\n",
       "    .progress-bar-interrupted, .progress-bar-interrupted::-webkit-progress-bar {\n",
       "        background: #F44336;\n",
       "    }\n",
       "</style>\n"
      ],
      "text/plain": [
       "<IPython.core.display.HTML object>"
      ]
     },
     "metadata": {},
     "output_type": "display_data"
    },
    {
     "data": {
      "text/html": [
       "[Epoch: 00] Loss (1.039 / 1.918) - Accuracy (65.1% / 38.4%)<p>[Epoch: 01] Loss (0.818 / 0.988) - Accuracy (71.4% / 62.8%)<p>[Epoch: 02] Loss (0.827 / 1.033) - Accuracy (69.3% / 64.8%)<p>[Epoch: 03] Loss (0.816 / 4.365) - Accuracy (69.2% / 53.4%)<p>[Epoch: 04] Loss (0.821 / 2.045) - Accuracy (68.7% / 49.8%)"
      ],
      "text/plain": [
       "<IPython.core.display.HTML object>"
      ]
     },
     "metadata": {},
     "output_type": "display_data"
    },
    {
     "name": "stdout",
     "output_type": "stream",
     "text": [
      "[==================================================]\n",
      "Adam - 32: (0.001, 0.01, 0.3)\n"
     ]
    },
    {
     "data": {
      "text/html": [
       "\n",
       "<style>\n",
       "    /* Turns off some styling */\n",
       "    progress {\n",
       "        /* gets rid of default border in Firefox and Opera. */\n",
       "        border: none;\n",
       "        /* Needs to be in here for Safari polyfill so background images work as expected. */\n",
       "        background-size: auto;\n",
       "    }\n",
       "    progress:not([value]), progress:not([value])::-webkit-progress-bar {\n",
       "        background: repeating-linear-gradient(45deg, #7e7e7e, #7e7e7e 10px, #5c5c5c 10px, #5c5c5c 20px);\n",
       "    }\n",
       "    .progress-bar-interrupted, .progress-bar-interrupted::-webkit-progress-bar {\n",
       "        background: #F44336;\n",
       "    }\n",
       "</style>\n"
      ],
      "text/plain": [
       "<IPython.core.display.HTML object>"
      ]
     },
     "metadata": {},
     "output_type": "display_data"
    },
    {
     "data": {
      "text/html": [
       "[Epoch: 00] Loss (1.121 / 1.008) - Accuracy (62.1% / 60.0%)<p>[Epoch: 01] Loss (0.942 / 0.811) - Accuracy (68.0% / 69.6%)<p>[Epoch: 02] Loss (0.937 / 1.263) - Accuracy (67.8% / 53.2%)<p>[Epoch: 03] Loss (0.915 / 1.434) - Accuracy (67.9% / 51.0%)<p>[Epoch: 04] Loss (0.919 / 0.930) - Accuracy (67.6% / 70.0%)"
      ],
      "text/plain": [
       "<IPython.core.display.HTML object>"
      ]
     },
     "metadata": {},
     "output_type": "display_data"
    },
    {
     "name": "stdout",
     "output_type": "stream",
     "text": [
      "[==================================================]\n",
      "Adam - 32: (0.01, 0, 0.0)\n"
     ]
    },
    {
     "data": {
      "text/html": [
       "\n",
       "<style>\n",
       "    /* Turns off some styling */\n",
       "    progress {\n",
       "        /* gets rid of default border in Firefox and Opera. */\n",
       "        border: none;\n",
       "        /* Needs to be in here for Safari polyfill so background images work as expected. */\n",
       "        background-size: auto;\n",
       "    }\n",
       "    progress:not([value]), progress:not([value])::-webkit-progress-bar {\n",
       "        background: repeating-linear-gradient(45deg, #7e7e7e, #7e7e7e 10px, #5c5c5c 10px, #5c5c5c 20px);\n",
       "    }\n",
       "    .progress-bar-interrupted, .progress-bar-interrupted::-webkit-progress-bar {\n",
       "        background: #F44336;\n",
       "    }\n",
       "</style>\n"
      ],
      "text/plain": [
       "<IPython.core.display.HTML object>"
      ]
     },
     "metadata": {},
     "output_type": "display_data"
    },
    {
     "data": {
      "text/html": [
       "[Epoch: 00] Loss (0.873 / 1.091) - Accuracy (70.1% / 65.6%)<p>[Epoch: 01] Loss (0.730 / 1.098) - Accuracy (75.2% / 62.8%)<p>[Epoch: 02] Loss (0.698 / 0.671) - Accuracy (76.8% / 78.6%)<p>[Epoch: 03] Loss (0.687 / 0.692) - Accuracy (77.3% / 80.0%)<p>[Epoch: 04] Loss (0.687 / 0.689) - Accuracy (77.2% / 78.8%)"
      ],
      "text/plain": [
       "<IPython.core.display.HTML object>"
      ]
     },
     "metadata": {},
     "output_type": "display_data"
    },
    {
     "name": "stdout",
     "output_type": "stream",
     "text": [
      "[==================================================]\n",
      "Adam - 32: (0.01, 0, 0.3)\n"
     ]
    },
    {
     "data": {
      "text/html": [
       "\n",
       "<style>\n",
       "    /* Turns off some styling */\n",
       "    progress {\n",
       "        /* gets rid of default border in Firefox and Opera. */\n",
       "        border: none;\n",
       "        /* Needs to be in here for Safari polyfill so background images work as expected. */\n",
       "        background-size: auto;\n",
       "    }\n",
       "    progress:not([value]), progress:not([value])::-webkit-progress-bar {\n",
       "        background: repeating-linear-gradient(45deg, #7e7e7e, #7e7e7e 10px, #5c5c5c 10px, #5c5c5c 20px);\n",
       "    }\n",
       "    .progress-bar-interrupted, .progress-bar-interrupted::-webkit-progress-bar {\n",
       "        background: #F44336;\n",
       "    }\n",
       "</style>\n"
      ],
      "text/plain": [
       "<IPython.core.display.HTML object>"
      ]
     },
     "metadata": {},
     "output_type": "display_data"
    },
    {
     "data": {
      "text/html": [
       "[Epoch: 00] Loss (0.933 / 1.157) - Accuracy (67.7% / 68.0%)<p>[Epoch: 01] Loss (0.826 / 0.756) - Accuracy (72.0% / 73.2%)<p>[Epoch: 02] Loss (0.797 / 0.782) - Accuracy (72.7% / 75.6%)<p>[Epoch: 03] Loss (0.776 / 0.767) - Accuracy (73.6% / 76.0%)<p>[Epoch: 04] Loss (0.768 / 0.751) - Accuracy (74.1% / 71.6%)"
      ],
      "text/plain": [
       "<IPython.core.display.HTML object>"
      ]
     },
     "metadata": {},
     "output_type": "display_data"
    },
    {
     "name": "stdout",
     "output_type": "stream",
     "text": [
      "[==================================================]\n",
      "Adam - 32: (0.01, 0.001, 0.0)\n"
     ]
    },
    {
     "data": {
      "text/html": [
       "\n",
       "<style>\n",
       "    /* Turns off some styling */\n",
       "    progress {\n",
       "        /* gets rid of default border in Firefox and Opera. */\n",
       "        border: none;\n",
       "        /* Needs to be in here for Safari polyfill so background images work as expected. */\n",
       "        background-size: auto;\n",
       "    }\n",
       "    progress:not([value]), progress:not([value])::-webkit-progress-bar {\n",
       "        background: repeating-linear-gradient(45deg, #7e7e7e, #7e7e7e 10px, #5c5c5c 10px, #5c5c5c 20px);\n",
       "    }\n",
       "    .progress-bar-interrupted, .progress-bar-interrupted::-webkit-progress-bar {\n",
       "        background: #F44336;\n",
       "    }\n",
       "</style>\n"
      ],
      "text/plain": [
       "<IPython.core.display.HTML object>"
      ]
     },
     "metadata": {},
     "output_type": "display_data"
    },
    {
     "data": {
      "text/html": [
       "[Epoch: 00] Loss (0.939 / 1.122) - Accuracy (68.3% / 62.6%)<p>[Epoch: 01] Loss (0.751 / 0.890) - Accuracy (75.3% / 71.0%)<p>[Epoch: 02] Loss (0.738 / 0.835) - Accuracy (75.6% / 72.0%)<p>[Epoch: 03] Loss (0.730 / 1.428) - Accuracy (75.7% / 53.8%)<p>[Epoch: 04] Loss (0.719 / 1.543) - Accuracy (76.1% / 48.8%)"
      ],
      "text/plain": [
       "<IPython.core.display.HTML object>"
      ]
     },
     "metadata": {},
     "output_type": "display_data"
    },
    {
     "name": "stdout",
     "output_type": "stream",
     "text": [
      "[==================================================]\n",
      "Adam - 32: (0.01, 0.001, 0.3)\n"
     ]
    },
    {
     "data": {
      "text/html": [
       "\n",
       "<style>\n",
       "    /* Turns off some styling */\n",
       "    progress {\n",
       "        /* gets rid of default border in Firefox and Opera. */\n",
       "        border: none;\n",
       "        /* Needs to be in here for Safari polyfill so background images work as expected. */\n",
       "        background-size: auto;\n",
       "    }\n",
       "    progress:not([value]), progress:not([value])::-webkit-progress-bar {\n",
       "        background: repeating-linear-gradient(45deg, #7e7e7e, #7e7e7e 10px, #5c5c5c 10px, #5c5c5c 20px);\n",
       "    }\n",
       "    .progress-bar-interrupted, .progress-bar-interrupted::-webkit-progress-bar {\n",
       "        background: #F44336;\n",
       "    }\n",
       "</style>\n"
      ],
      "text/plain": [
       "<IPython.core.display.HTML object>"
      ]
     },
     "metadata": {},
     "output_type": "display_data"
    },
    {
     "data": {
      "text/html": [
       "[Epoch: 00] Loss (1.000 / 0.872) - Accuracy (65.4% / 74.2%)<p>[Epoch: 01] Loss (0.863 / 0.940) - Accuracy (70.7% / 70.6%)<p>[Epoch: 02] Loss (0.820 / 0.867) - Accuracy (72.2% / 74.4%)<p>[Epoch: 03] Loss (0.814 / 0.802) - Accuracy (72.6% / 73.8%)<p>[Epoch: 04] Loss (0.808 / 0.883) - Accuracy (72.8% / 73.8%)"
      ],
      "text/plain": [
       "<IPython.core.display.HTML object>"
      ]
     },
     "metadata": {},
     "output_type": "display_data"
    },
    {
     "name": "stdout",
     "output_type": "stream",
     "text": [
      "[==================================================]\n",
      "Adam - 32: (0.01, 0.01, 0.0)\n"
     ]
    },
    {
     "data": {
      "text/html": [
       "\n",
       "<style>\n",
       "    /* Turns off some styling */\n",
       "    progress {\n",
       "        /* gets rid of default border in Firefox and Opera. */\n",
       "        border: none;\n",
       "        /* Needs to be in here for Safari polyfill so background images work as expected. */\n",
       "        background-size: auto;\n",
       "    }\n",
       "    progress:not([value]), progress:not([value])::-webkit-progress-bar {\n",
       "        background: repeating-linear-gradient(45deg, #7e7e7e, #7e7e7e 10px, #5c5c5c 10px, #5c5c5c 20px);\n",
       "    }\n",
       "    .progress-bar-interrupted, .progress-bar-interrupted::-webkit-progress-bar {\n",
       "        background: #F44336;\n",
       "    }\n",
       "</style>\n"
      ],
      "text/plain": [
       "<IPython.core.display.HTML object>"
      ]
     },
     "metadata": {},
     "output_type": "display_data"
    },
    {
     "data": {
      "text/html": [
       "[Epoch: 00] Loss (1.180 / 1.095) - Accuracy (61.4% / 60.0%)<p>[Epoch: 01] Loss (0.942 / 1.015) - Accuracy (68.0% / 68.6%)<p>[Epoch: 02] Loss (0.914 / 1.140) - Accuracy (67.9% / 56.4%)<p>[Epoch: 03] Loss (0.908 / 2.550) - Accuracy (68.4% / 32.0%)<p>[Epoch: 04] Loss (0.903 / 1.016) - Accuracy (68.8% / 62.4%)"
      ],
      "text/plain": [
       "<IPython.core.display.HTML object>"
      ]
     },
     "metadata": {},
     "output_type": "display_data"
    },
    {
     "name": "stdout",
     "output_type": "stream",
     "text": [
      "[==================================================]\n",
      "Adam - 32: (0.01, 0.01, 0.3)\n"
     ]
    },
    {
     "data": {
      "text/html": [
       "\n",
       "<style>\n",
       "    /* Turns off some styling */\n",
       "    progress {\n",
       "        /* gets rid of default border in Firefox and Opera. */\n",
       "        border: none;\n",
       "        /* Needs to be in here for Safari polyfill so background images work as expected. */\n",
       "        background-size: auto;\n",
       "    }\n",
       "    progress:not([value]), progress:not([value])::-webkit-progress-bar {\n",
       "        background: repeating-linear-gradient(45deg, #7e7e7e, #7e7e7e 10px, #5c5c5c 10px, #5c5c5c 20px);\n",
       "    }\n",
       "    .progress-bar-interrupted, .progress-bar-interrupted::-webkit-progress-bar {\n",
       "        background: #F44336;\n",
       "    }\n",
       "</style>\n"
      ],
      "text/plain": [
       "<IPython.core.display.HTML object>"
      ]
     },
     "metadata": {},
     "output_type": "display_data"
    },
    {
     "data": {
      "text/html": [
       "[Epoch: 00] Loss (1.237 / 1.229) - Accuracy (59.2% / 67.0%)<p>[Epoch: 01] Loss (1.035 / 1.302) - Accuracy (64.9% / 63.0%)<p>[Epoch: 02] Loss (1.023 / 0.943) - Accuracy (64.4% / 69.8%)<p>[Epoch: 03] Loss (1.000 / 1.050) - Accuracy (66.0% / 62.0%)<p>[Epoch: 04] Loss (1.013 / 1.078) - Accuracy (64.8% / 65.8%)"
      ],
      "text/plain": [
       "<IPython.core.display.HTML object>"
      ]
     },
     "metadata": {},
     "output_type": "display_data"
    },
    {
     "name": "stdout",
     "output_type": "stream",
     "text": [
      "[==================================================]\n",
      "Adam - 64: (0, 0, 0.0)\n"
     ]
    },
    {
     "data": {
      "text/html": [
       "\n",
       "<style>\n",
       "    /* Turns off some styling */\n",
       "    progress {\n",
       "        /* gets rid of default border in Firefox and Opera. */\n",
       "        border: none;\n",
       "        /* Needs to be in here for Safari polyfill so background images work as expected. */\n",
       "        background-size: auto;\n",
       "    }\n",
       "    progress:not([value]), progress:not([value])::-webkit-progress-bar {\n",
       "        background: repeating-linear-gradient(45deg, #7e7e7e, #7e7e7e 10px, #5c5c5c 10px, #5c5c5c 20px);\n",
       "    }\n",
       "    .progress-bar-interrupted, .progress-bar-interrupted::-webkit-progress-bar {\n",
       "        background: #F44336;\n",
       "    }\n",
       "</style>\n"
      ],
      "text/plain": [
       "<IPython.core.display.HTML object>"
      ]
     },
     "metadata": {},
     "output_type": "display_data"
    },
    {
     "data": {
      "text/html": [
       "[Epoch: 00] Loss (0.552 / 0.525) - Accuracy (79.3% / 83.8%)<p>[Epoch: 01] Loss (0.362 / 0.419) - Accuracy (86.6% / 84.6%)<p>[Epoch: 02] Loss (0.302 / 0.416) - Accuracy (88.9% / 85.0%)<p>[Epoch: 03] Loss (0.258 / 0.345) - Accuracy (90.5% / 88.8%)<p>[Epoch: 04] Loss (0.218 / 0.347) - Accuracy (92.0% / 88.2%)"
      ],
      "text/plain": [
       "<IPython.core.display.HTML object>"
      ]
     },
     "metadata": {},
     "output_type": "display_data"
    },
    {
     "name": "stdout",
     "output_type": "stream",
     "text": [
      "[==================================================]\n",
      "Adam - 64: (0, 0, 0.3)\n"
     ]
    },
    {
     "data": {
      "text/html": [
       "\n",
       "<style>\n",
       "    /* Turns off some styling */\n",
       "    progress {\n",
       "        /* gets rid of default border in Firefox and Opera. */\n",
       "        border: none;\n",
       "        /* Needs to be in here for Safari polyfill so background images work as expected. */\n",
       "        background-size: auto;\n",
       "    }\n",
       "    progress:not([value]), progress:not([value])::-webkit-progress-bar {\n",
       "        background: repeating-linear-gradient(45deg, #7e7e7e, #7e7e7e 10px, #5c5c5c 10px, #5c5c5c 20px);\n",
       "    }\n",
       "    .progress-bar-interrupted, .progress-bar-interrupted::-webkit-progress-bar {\n",
       "        background: #F44336;\n",
       "    }\n",
       "</style>\n"
      ],
      "text/plain": [
       "<IPython.core.display.HTML object>"
      ]
     },
     "metadata": {},
     "output_type": "display_data"
    },
    {
     "data": {
      "text/html": [
       "[Epoch: 00] Loss (0.609 / 0.469) - Accuracy (77.3% / 83.0%)<p>[Epoch: 01] Loss (0.394 / 0.399) - Accuracy (85.4% / 85.6%)<p>[Epoch: 02] Loss (0.324 / 0.411) - Accuracy (87.7% / 84.2%)<p>[Epoch: 03] Loss (0.287 / 0.403) - Accuracy (89.1% / 86.2%)<p>[Epoch: 04] Loss (0.264 / 0.349) - Accuracy (90.3% / 88.6%)"
      ],
      "text/plain": [
       "<IPython.core.display.HTML object>"
      ]
     },
     "metadata": {},
     "output_type": "display_data"
    },
    {
     "name": "stdout",
     "output_type": "stream",
     "text": [
      "[==================================================]\n",
      "Adam - 64: (0, 0.001, 0.0)\n"
     ]
    },
    {
     "data": {
      "text/html": [
       "\n",
       "<style>\n",
       "    /* Turns off some styling */\n",
       "    progress {\n",
       "        /* gets rid of default border in Firefox and Opera. */\n",
       "        border: none;\n",
       "        /* Needs to be in here for Safari polyfill so background images work as expected. */\n",
       "        background-size: auto;\n",
       "    }\n",
       "    progress:not([value]), progress:not([value])::-webkit-progress-bar {\n",
       "        background: repeating-linear-gradient(45deg, #7e7e7e, #7e7e7e 10px, #5c5c5c 10px, #5c5c5c 20px);\n",
       "    }\n",
       "    .progress-bar-interrupted, .progress-bar-interrupted::-webkit-progress-bar {\n",
       "        background: #F44336;\n",
       "    }\n",
       "</style>\n"
      ],
      "text/plain": [
       "<IPython.core.display.HTML object>"
      ]
     },
     "metadata": {},
     "output_type": "display_data"
    },
    {
     "data": {
      "text/html": [
       "[Epoch: 00] Loss (0.760 / 0.710) - Accuracy (72.2% / 75.8%)<p>[Epoch: 01] Loss (0.546 / 0.697) - Accuracy (80.0% / 73.0%)<p>[Epoch: 02] Loss (0.487 / 0.518) - Accuracy (82.3% / 83.6%)<p>[Epoch: 03] Loss (0.474 / 0.541) - Accuracy (82.6% / 81.0%)<p>[Epoch: 04] Loss (0.451 / 0.567) - Accuracy (83.4% / 80.0%)"
      ],
      "text/plain": [
       "<IPython.core.display.HTML object>"
      ]
     },
     "metadata": {},
     "output_type": "display_data"
    },
    {
     "name": "stdout",
     "output_type": "stream",
     "text": [
      "[==================================================]\n",
      "Adam - 64: (0, 0.001, 0.3)\n"
     ]
    },
    {
     "data": {
      "text/html": [
       "\n",
       "<style>\n",
       "    /* Turns off some styling */\n",
       "    progress {\n",
       "        /* gets rid of default border in Firefox and Opera. */\n",
       "        border: none;\n",
       "        /* Needs to be in here for Safari polyfill so background images work as expected. */\n",
       "        background-size: auto;\n",
       "    }\n",
       "    progress:not([value]), progress:not([value])::-webkit-progress-bar {\n",
       "        background: repeating-linear-gradient(45deg, #7e7e7e, #7e7e7e 10px, #5c5c5c 10px, #5c5c5c 20px);\n",
       "    }\n",
       "    .progress-bar-interrupted, .progress-bar-interrupted::-webkit-progress-bar {\n",
       "        background: #F44336;\n",
       "    }\n",
       "</style>\n"
      ],
      "text/plain": [
       "<IPython.core.display.HTML object>"
      ]
     },
     "metadata": {},
     "output_type": "display_data"
    },
    {
     "data": {
      "text/html": [
       "[Epoch: 00] Loss (0.788 / 1.546) - Accuracy (71.0% / 40.4%)<p>[Epoch: 01] Loss (0.617 / 0.778) - Accuracy (77.0% / 73.6%)<p>[Epoch: 02] Loss (0.555 / 0.572) - Accuracy (79.5% / 80.4%)<p>[Epoch: 03] Loss (0.543 / 0.513) - Accuracy (80.0% / 82.8%)<p>[Epoch: 04] Loss (0.533 / 0.498) - Accuracy (80.4% / 82.8%)"
      ],
      "text/plain": [
       "<IPython.core.display.HTML object>"
      ]
     },
     "metadata": {},
     "output_type": "display_data"
    },
    {
     "name": "stdout",
     "output_type": "stream",
     "text": [
      "[==================================================]\n",
      "Adam - 64: (0, 0.01, 0.0)\n"
     ]
    },
    {
     "data": {
      "text/html": [
       "\n",
       "<style>\n",
       "    /* Turns off some styling */\n",
       "    progress {\n",
       "        /* gets rid of default border in Firefox and Opera. */\n",
       "        border: none;\n",
       "        /* Needs to be in here for Safari polyfill so background images work as expected. */\n",
       "        background-size: auto;\n",
       "    }\n",
       "    progress:not([value]), progress:not([value])::-webkit-progress-bar {\n",
       "        background: repeating-linear-gradient(45deg, #7e7e7e, #7e7e7e 10px, #5c5c5c 10px, #5c5c5c 20px);\n",
       "    }\n",
       "    .progress-bar-interrupted, .progress-bar-interrupted::-webkit-progress-bar {\n",
       "        background: #F44336;\n",
       "    }\n",
       "</style>\n"
      ],
      "text/plain": [
       "<IPython.core.display.HTML object>"
      ]
     },
     "metadata": {},
     "output_type": "display_data"
    },
    {
     "data": {
      "text/html": [
       "[Epoch: 00] Loss (1.064 / 1.699) - Accuracy (64.0% / 50.2%)<p>[Epoch: 01] Loss (0.720 / 0.869) - Accuracy (75.5% / 69.4%)<p>[Epoch: 02] Loss (0.695 / 1.039) - Accuracy (76.1% / 65.8%)<p>[Epoch: 03] Loss (0.685 / 1.021) - Accuracy (76.4% / 63.2%)<p>[Epoch: 04] Loss (0.671 / 1.139) - Accuracy (76.7% / 62.4%)"
      ],
      "text/plain": [
       "<IPython.core.display.HTML object>"
      ]
     },
     "metadata": {},
     "output_type": "display_data"
    },
    {
     "name": "stdout",
     "output_type": "stream",
     "text": [
      "[==================================================]\n",
      "Adam - 64: (0, 0.01, 0.3)\n"
     ]
    },
    {
     "data": {
      "text/html": [
       "\n",
       "<style>\n",
       "    /* Turns off some styling */\n",
       "    progress {\n",
       "        /* gets rid of default border in Firefox and Opera. */\n",
       "        border: none;\n",
       "        /* Needs to be in here for Safari polyfill so background images work as expected. */\n",
       "        background-size: auto;\n",
       "    }\n",
       "    progress:not([value]), progress:not([value])::-webkit-progress-bar {\n",
       "        background: repeating-linear-gradient(45deg, #7e7e7e, #7e7e7e 10px, #5c5c5c 10px, #5c5c5c 20px);\n",
       "    }\n",
       "    .progress-bar-interrupted, .progress-bar-interrupted::-webkit-progress-bar {\n",
       "        background: #F44336;\n",
       "    }\n",
       "</style>\n"
      ],
      "text/plain": [
       "<IPython.core.display.HTML object>"
      ]
     },
     "metadata": {},
     "output_type": "display_data"
    },
    {
     "data": {
      "text/html": [
       "[Epoch: 00] Loss (1.067 / 1.050) - Accuracy (64.0% / 59.6%)<p>[Epoch: 01] Loss (0.841 / 0.968) - Accuracy (71.0% / 67.4%)<p>[Epoch: 02] Loss (0.821 / 0.839) - Accuracy (71.7% / 72.4%)<p>[Epoch: 03] Loss (0.802 / 0.805) - Accuracy (72.3% / 75.0%)<p>[Epoch: 04] Loss (0.785 / 1.027) - Accuracy (72.6% / 63.8%)"
      ],
      "text/plain": [
       "<IPython.core.display.HTML object>"
      ]
     },
     "metadata": {},
     "output_type": "display_data"
    },
    {
     "name": "stdout",
     "output_type": "stream",
     "text": [
      "[==================================================]\n",
      "Adam - 64: (0.001, 0, 0.0)\n"
     ]
    },
    {
     "data": {
      "text/html": [
       "\n",
       "<style>\n",
       "    /* Turns off some styling */\n",
       "    progress {\n",
       "        /* gets rid of default border in Firefox and Opera. */\n",
       "        border: none;\n",
       "        /* Needs to be in here for Safari polyfill so background images work as expected. */\n",
       "        background-size: auto;\n",
       "    }\n",
       "    progress:not([value]), progress:not([value])::-webkit-progress-bar {\n",
       "        background: repeating-linear-gradient(45deg, #7e7e7e, #7e7e7e 10px, #5c5c5c 10px, #5c5c5c 20px);\n",
       "    }\n",
       "    .progress-bar-interrupted, .progress-bar-interrupted::-webkit-progress-bar {\n",
       "        background: #F44336;\n",
       "    }\n",
       "</style>\n"
      ],
      "text/plain": [
       "<IPython.core.display.HTML object>"
      ]
     },
     "metadata": {},
     "output_type": "display_data"
    },
    {
     "data": {
      "text/html": [
       "[Epoch: 00] Loss (0.651 / 0.915) - Accuracy (75.8% / 67.6%)<p>[Epoch: 01] Loss (0.531 / 0.553) - Accuracy (80.5% / 82.6%)<p>[Epoch: 02] Loss (0.475 / 0.650) - Accuracy (82.6% / 78.2%)<p>[Epoch: 03] Loss (0.432 / 0.479) - Accuracy (84.5% / 83.8%)<p>[Epoch: 04] Loss (0.403 / 0.472) - Accuracy (85.1% / 82.6%)"
      ],
      "text/plain": [
       "<IPython.core.display.HTML object>"
      ]
     },
     "metadata": {},
     "output_type": "display_data"
    },
    {
     "name": "stdout",
     "output_type": "stream",
     "text": [
      "[==================================================]\n",
      "Adam - 64: (0.001, 0, 0.3)\n"
     ]
    },
    {
     "data": {
      "text/html": [
       "\n",
       "<style>\n",
       "    /* Turns off some styling */\n",
       "    progress {\n",
       "        /* gets rid of default border in Firefox and Opera. */\n",
       "        border: none;\n",
       "        /* Needs to be in here for Safari polyfill so background images work as expected. */\n",
       "        background-size: auto;\n",
       "    }\n",
       "    progress:not([value]), progress:not([value])::-webkit-progress-bar {\n",
       "        background: repeating-linear-gradient(45deg, #7e7e7e, #7e7e7e 10px, #5c5c5c 10px, #5c5c5c 20px);\n",
       "    }\n",
       "    .progress-bar-interrupted, .progress-bar-interrupted::-webkit-progress-bar {\n",
       "        background: #F44336;\n",
       "    }\n",
       "</style>\n"
      ],
      "text/plain": [
       "<IPython.core.display.HTML object>"
      ]
     },
     "metadata": {},
     "output_type": "display_data"
    },
    {
     "data": {
      "text/html": [
       "[Epoch: 00] Loss (0.661 / 0.975) - Accuracy (75.9% / 67.4%)<p>[Epoch: 01] Loss (0.564 / 0.645) - Accuracy (79.1% / 76.6%)<p>[Epoch: 02] Loss (0.534 / 0.646) - Accuracy (80.4% / 75.4%)<p>[Epoch: 03] Loss (0.512 / 0.557) - Accuracy (81.3% / 80.6%)<p>[Epoch: 04] Loss (0.474 / 0.528) - Accuracy (82.5% / 82.6%)"
      ],
      "text/plain": [
       "<IPython.core.display.HTML object>"
      ]
     },
     "metadata": {},
     "output_type": "display_data"
    },
    {
     "name": "stdout",
     "output_type": "stream",
     "text": [
      "[==================================================]\n",
      "Adam - 64: (0.001, 0.001, 0.0)\n"
     ]
    },
    {
     "data": {
      "text/html": [
       "\n",
       "<style>\n",
       "    /* Turns off some styling */\n",
       "    progress {\n",
       "        /* gets rid of default border in Firefox and Opera. */\n",
       "        border: none;\n",
       "        /* Needs to be in here for Safari polyfill so background images work as expected. */\n",
       "        background-size: auto;\n",
       "    }\n",
       "    progress:not([value]), progress:not([value])::-webkit-progress-bar {\n",
       "        background: repeating-linear-gradient(45deg, #7e7e7e, #7e7e7e 10px, #5c5c5c 10px, #5c5c5c 20px);\n",
       "    }\n",
       "    .progress-bar-interrupted, .progress-bar-interrupted::-webkit-progress-bar {\n",
       "        background: #F44336;\n",
       "    }\n",
       "</style>\n"
      ],
      "text/plain": [
       "<IPython.core.display.HTML object>"
      ]
     },
     "metadata": {},
     "output_type": "display_data"
    },
    {
     "data": {
      "text/html": [
       "[Epoch: 00] Loss (0.781 / 1.199) - Accuracy (71.7% / 56.4%)<p>[Epoch: 01] Loss (0.562 / 0.902) - Accuracy (79.5% / 69.0%)<p>[Epoch: 02] Loss (0.494 / 0.619) - Accuracy (82.2% / 79.6%)<p>[Epoch: 03] Loss (0.475 / 0.741) - Accuracy (83.5% / 74.2%)<p>[Epoch: 04] Loss (0.464 / 0.658) - Accuracy (83.5% / 78.8%)"
      ],
      "text/plain": [
       "<IPython.core.display.HTML object>"
      ]
     },
     "metadata": {},
     "output_type": "display_data"
    },
    {
     "name": "stdout",
     "output_type": "stream",
     "text": [
      "[==================================================]\n",
      "Adam - 64: (0.001, 0.001, 0.3)\n"
     ]
    },
    {
     "data": {
      "text/html": [
       "\n",
       "<style>\n",
       "    /* Turns off some styling */\n",
       "    progress {\n",
       "        /* gets rid of default border in Firefox and Opera. */\n",
       "        border: none;\n",
       "        /* Needs to be in here for Safari polyfill so background images work as expected. */\n",
       "        background-size: auto;\n",
       "    }\n",
       "    progress:not([value]), progress:not([value])::-webkit-progress-bar {\n",
       "        background: repeating-linear-gradient(45deg, #7e7e7e, #7e7e7e 10px, #5c5c5c 10px, #5c5c5c 20px);\n",
       "    }\n",
       "    .progress-bar-interrupted, .progress-bar-interrupted::-webkit-progress-bar {\n",
       "        background: #F44336;\n",
       "    }\n",
       "</style>\n"
      ],
      "text/plain": [
       "<IPython.core.display.HTML object>"
      ]
     },
     "metadata": {},
     "output_type": "display_data"
    },
    {
     "data": {
      "text/html": [
       "[Epoch: 00] Loss (0.809 / 0.694) - Accuracy (70.0% / 76.0%)<p>[Epoch: 01] Loss (0.635 / 0.796) - Accuracy (76.4% / 73.2%)<p>[Epoch: 02] Loss (0.606 / 0.614) - Accuracy (77.2% / 77.8%)<p>[Epoch: 03] Loss (0.575 / 0.702) - Accuracy (78.7% / 73.8%)<p>[Epoch: 04] Loss (0.572 / 0.603) - Accuracy (79.0% / 79.0%)"
      ],
      "text/plain": [
       "<IPython.core.display.HTML object>"
      ]
     },
     "metadata": {},
     "output_type": "display_data"
    },
    {
     "name": "stdout",
     "output_type": "stream",
     "text": [
      "[==================================================]\n",
      "Adam - 64: (0.001, 0.01, 0.0)\n"
     ]
    },
    {
     "data": {
      "text/html": [
       "\n",
       "<style>\n",
       "    /* Turns off some styling */\n",
       "    progress {\n",
       "        /* gets rid of default border in Firefox and Opera. */\n",
       "        border: none;\n",
       "        /* Needs to be in here for Safari polyfill so background images work as expected. */\n",
       "        background-size: auto;\n",
       "    }\n",
       "    progress:not([value]), progress:not([value])::-webkit-progress-bar {\n",
       "        background: repeating-linear-gradient(45deg, #7e7e7e, #7e7e7e 10px, #5c5c5c 10px, #5c5c5c 20px);\n",
       "    }\n",
       "    .progress-bar-interrupted, .progress-bar-interrupted::-webkit-progress-bar {\n",
       "        background: #F44336;\n",
       "    }\n",
       "</style>\n"
      ],
      "text/plain": [
       "<IPython.core.display.HTML object>"
      ]
     },
     "metadata": {},
     "output_type": "display_data"
    },
    {
     "data": {
      "text/html": [
       "[Epoch: 00] Loss (1.064 / 1.912) - Accuracy (64.6% / 37.0%)<p>[Epoch: 01] Loss (0.750 / 1.405) - Accuracy (74.4% / 66.2%)<p>[Epoch: 02] Loss (0.723 / 0.961) - Accuracy (74.9% / 68.4%)<p>[Epoch: 03] Loss (0.710 / 0.808) - Accuracy (75.4% / 74.8%)<p>[Epoch: 04] Loss (0.680 / 1.209) - Accuracy (76.2% / 64.8%)"
      ],
      "text/plain": [
       "<IPython.core.display.HTML object>"
      ]
     },
     "metadata": {},
     "output_type": "display_data"
    },
    {
     "name": "stdout",
     "output_type": "stream",
     "text": [
      "[==================================================]\n",
      "Adam - 64: (0.001, 0.01, 0.3)\n"
     ]
    },
    {
     "data": {
      "text/html": [
       "\n",
       "<style>\n",
       "    /* Turns off some styling */\n",
       "    progress {\n",
       "        /* gets rid of default border in Firefox and Opera. */\n",
       "        border: none;\n",
       "        /* Needs to be in here for Safari polyfill so background images work as expected. */\n",
       "        background-size: auto;\n",
       "    }\n",
       "    progress:not([value]), progress:not([value])::-webkit-progress-bar {\n",
       "        background: repeating-linear-gradient(45deg, #7e7e7e, #7e7e7e 10px, #5c5c5c 10px, #5c5c5c 20px);\n",
       "    }\n",
       "    .progress-bar-interrupted, .progress-bar-interrupted::-webkit-progress-bar {\n",
       "        background: #F44336;\n",
       "    }\n",
       "</style>\n"
      ],
      "text/plain": [
       "<IPython.core.display.HTML object>"
      ]
     },
     "metadata": {},
     "output_type": "display_data"
    },
    {
     "data": {
      "text/html": [
       "[Epoch: 00] Loss (1.121 / 2.161) - Accuracy (61.9% / 30.8%)<p>[Epoch: 01] Loss (0.849 / 1.109) - Accuracy (71.1% / 65.2%)<p>[Epoch: 02] Loss (0.806 / 1.067) - Accuracy (72.4% / 61.6%)<p>[Epoch: 03] Loss (0.795 / 1.206) - Accuracy (72.7% / 59.2%)<p>[Epoch: 04] Loss (0.790 / 0.838) - Accuracy (72.4% / 72.2%)"
      ],
      "text/plain": [
       "<IPython.core.display.HTML object>"
      ]
     },
     "metadata": {},
     "output_type": "display_data"
    },
    {
     "name": "stdout",
     "output_type": "stream",
     "text": [
      "[==================================================]\n",
      "Adam - 64: (0.01, 0, 0.0)\n"
     ]
    },
    {
     "data": {
      "text/html": [
       "\n",
       "<style>\n",
       "    /* Turns off some styling */\n",
       "    progress {\n",
       "        /* gets rid of default border in Firefox and Opera. */\n",
       "        border: none;\n",
       "        /* Needs to be in here for Safari polyfill so background images work as expected. */\n",
       "        background-size: auto;\n",
       "    }\n",
       "    progress:not([value]), progress:not([value])::-webkit-progress-bar {\n",
       "        background: repeating-linear-gradient(45deg, #7e7e7e, #7e7e7e 10px, #5c5c5c 10px, #5c5c5c 20px);\n",
       "    }\n",
       "    .progress-bar-interrupted, .progress-bar-interrupted::-webkit-progress-bar {\n",
       "        background: #F44336;\n",
       "    }\n",
       "</style>\n"
      ],
      "text/plain": [
       "<IPython.core.display.HTML object>"
      ]
     },
     "metadata": {},
     "output_type": "display_data"
    },
    {
     "data": {
      "text/html": [
       "[Epoch: 00] Loss (0.823 / 1.168) - Accuracy (71.7% / 59.0%)<p>[Epoch: 01] Loss (0.689 / 0.807) - Accuracy (76.5% / 72.2%)<p>[Epoch: 02] Loss (0.634 / 0.851) - Accuracy (79.0% / 73.8%)<p>[Epoch: 03] Loss (0.615 / 0.768) - Accuracy (79.3% / 78.0%)<p>[Epoch: 04] Loss (0.606 / 1.501) - Accuracy (79.8% / 48.0%)"
      ],
      "text/plain": [
       "<IPython.core.display.HTML object>"
      ]
     },
     "metadata": {},
     "output_type": "display_data"
    },
    {
     "name": "stdout",
     "output_type": "stream",
     "text": [
      "[==================================================]\n",
      "Adam - 64: (0.01, 0, 0.3)\n"
     ]
    },
    {
     "data": {
      "text/html": [
       "\n",
       "<style>\n",
       "    /* Turns off some styling */\n",
       "    progress {\n",
       "        /* gets rid of default border in Firefox and Opera. */\n",
       "        border: none;\n",
       "        /* Needs to be in here for Safari polyfill so background images work as expected. */\n",
       "        background-size: auto;\n",
       "    }\n",
       "    progress:not([value]), progress:not([value])::-webkit-progress-bar {\n",
       "        background: repeating-linear-gradient(45deg, #7e7e7e, #7e7e7e 10px, #5c5c5c 10px, #5c5c5c 20px);\n",
       "    }\n",
       "    .progress-bar-interrupted, .progress-bar-interrupted::-webkit-progress-bar {\n",
       "        background: #F44336;\n",
       "    }\n",
       "</style>\n"
      ],
      "text/plain": [
       "<IPython.core.display.HTML object>"
      ]
     },
     "metadata": {},
     "output_type": "display_data"
    },
    {
     "data": {
      "text/html": [
       "[Epoch: 00] Loss (0.847 / 1.140) - Accuracy (70.6% / 59.2%)<p>[Epoch: 01] Loss (0.761 / 1.063) - Accuracy (73.6% / 61.0%)<p>[Epoch: 02] Loss (0.711 / 0.702) - Accuracy (75.7% / 78.6%)<p>[Epoch: 03] Loss (0.695 / 0.791) - Accuracy (76.3% / 74.8%)<p>[Epoch: 04] Loss (0.687 / 0.896) - Accuracy (76.4% / 75.2%)"
      ],
      "text/plain": [
       "<IPython.core.display.HTML object>"
      ]
     },
     "metadata": {},
     "output_type": "display_data"
    },
    {
     "name": "stdout",
     "output_type": "stream",
     "text": [
      "[==================================================]\n",
      "Adam - 64: (0.01, 0.001, 0.0)\n"
     ]
    },
    {
     "data": {
      "text/html": [
       "\n",
       "<style>\n",
       "    /* Turns off some styling */\n",
       "    progress {\n",
       "        /* gets rid of default border in Firefox and Opera. */\n",
       "        border: none;\n",
       "        /* Needs to be in here for Safari polyfill so background images work as expected. */\n",
       "        background-size: auto;\n",
       "    }\n",
       "    progress:not([value]), progress:not([value])::-webkit-progress-bar {\n",
       "        background: repeating-linear-gradient(45deg, #7e7e7e, #7e7e7e 10px, #5c5c5c 10px, #5c5c5c 20px);\n",
       "    }\n",
       "    .progress-bar-interrupted, .progress-bar-interrupted::-webkit-progress-bar {\n",
       "        background: #F44336;\n",
       "    }\n",
       "</style>\n"
      ],
      "text/plain": [
       "<IPython.core.display.HTML object>"
      ]
     },
     "metadata": {},
     "output_type": "display_data"
    },
    {
     "data": {
      "text/html": [
       "[Epoch: 00] Loss (0.933 / 1.861) - Accuracy (68.1% / 35.8%)<p>[Epoch: 01] Loss (0.694 / 0.704) - Accuracy (76.4% / 75.6%)<p>[Epoch: 02] Loss (0.653 / 0.859) - Accuracy (78.3% / 73.6%)<p>[Epoch: 03] Loss (0.623 / 0.699) - Accuracy (79.6% / 80.2%)<p>[Epoch: 04] Loss (0.623 / 0.969) - Accuracy (79.5% / 74.0%)"
      ],
      "text/plain": [
       "<IPython.core.display.HTML object>"
      ]
     },
     "metadata": {},
     "output_type": "display_data"
    },
    {
     "name": "stdout",
     "output_type": "stream",
     "text": [
      "[==================================================]\n",
      "Adam - 64: (0.01, 0.001, 0.3)\n"
     ]
    },
    {
     "data": {
      "text/html": [
       "\n",
       "<style>\n",
       "    /* Turns off some styling */\n",
       "    progress {\n",
       "        /* gets rid of default border in Firefox and Opera. */\n",
       "        border: none;\n",
       "        /* Needs to be in here for Safari polyfill so background images work as expected. */\n",
       "        background-size: auto;\n",
       "    }\n",
       "    progress:not([value]), progress:not([value])::-webkit-progress-bar {\n",
       "        background: repeating-linear-gradient(45deg, #7e7e7e, #7e7e7e 10px, #5c5c5c 10px, #5c5c5c 20px);\n",
       "    }\n",
       "    .progress-bar-interrupted, .progress-bar-interrupted::-webkit-progress-bar {\n",
       "        background: #F44336;\n",
       "    }\n",
       "</style>\n"
      ],
      "text/plain": [
       "<IPython.core.display.HTML object>"
      ]
     },
     "metadata": {},
     "output_type": "display_data"
    },
    {
     "data": {
      "text/html": [
       "[Epoch: 00] Loss (0.936 / 1.860) - Accuracy (68.1% / 39.0%)<p>[Epoch: 01] Loss (0.765 / 0.954) - Accuracy (74.0% / 65.2%)<p>[Epoch: 02] Loss (0.742 / 0.708) - Accuracy (74.9% / 76.8%)<p>[Epoch: 03] Loss (0.730 / 1.003) - Accuracy (75.6% / 77.0%)<p>[Epoch: 04] Loss (0.721 / 0.680) - Accuracy (75.8% / 78.2%)"
      ],
      "text/plain": [
       "<IPython.core.display.HTML object>"
      ]
     },
     "metadata": {},
     "output_type": "display_data"
    },
    {
     "name": "stdout",
     "output_type": "stream",
     "text": [
      "[==================================================]\n",
      "Adam - 64: (0.01, 0.01, 0.0)\n"
     ]
    },
    {
     "data": {
      "text/html": [
       "\n",
       "<style>\n",
       "    /* Turns off some styling */\n",
       "    progress {\n",
       "        /* gets rid of default border in Firefox and Opera. */\n",
       "        border: none;\n",
       "        /* Needs to be in here for Safari polyfill so background images work as expected. */\n",
       "        background-size: auto;\n",
       "    }\n",
       "    progress:not([value]), progress:not([value])::-webkit-progress-bar {\n",
       "        background: repeating-linear-gradient(45deg, #7e7e7e, #7e7e7e 10px, #5c5c5c 10px, #5c5c5c 20px);\n",
       "    }\n",
       "    .progress-bar-interrupted, .progress-bar-interrupted::-webkit-progress-bar {\n",
       "        background: #F44336;\n",
       "    }\n",
       "</style>\n"
      ],
      "text/plain": [
       "<IPython.core.display.HTML object>"
      ]
     },
     "metadata": {},
     "output_type": "display_data"
    },
    {
     "data": {
      "text/html": [
       "[Epoch: 00] Loss (1.165 / 2.153) - Accuracy (64.2% / 24.0%)<p>[Epoch: 01] Loss (0.850 / 1.480) - Accuracy (73.8% / 63.4%)<p>[Epoch: 02] Loss (0.822 / 1.363) - Accuracy (74.6% / 66.4%)<p>[Epoch: 03] Loss (0.794 / 1.050) - Accuracy (75.0% / 72.2%)<p>[Epoch: 04] Loss (0.785 / 0.997) - Accuracy (75.8% / 69.6%)"
      ],
      "text/plain": [
       "<IPython.core.display.HTML object>"
      ]
     },
     "metadata": {},
     "output_type": "display_data"
    },
    {
     "name": "stdout",
     "output_type": "stream",
     "text": [
      "[==================================================]\n",
      "Adam - 64: (0.01, 0.01, 0.3)\n"
     ]
    },
    {
     "data": {
      "text/html": [
       "\n",
       "<style>\n",
       "    /* Turns off some styling */\n",
       "    progress {\n",
       "        /* gets rid of default border in Firefox and Opera. */\n",
       "        border: none;\n",
       "        /* Needs to be in here for Safari polyfill so background images work as expected. */\n",
       "        background-size: auto;\n",
       "    }\n",
       "    progress:not([value]), progress:not([value])::-webkit-progress-bar {\n",
       "        background: repeating-linear-gradient(45deg, #7e7e7e, #7e7e7e 10px, #5c5c5c 10px, #5c5c5c 20px);\n",
       "    }\n",
       "    .progress-bar-interrupted, .progress-bar-interrupted::-webkit-progress-bar {\n",
       "        background: #F44336;\n",
       "    }\n",
       "</style>\n"
      ],
      "text/plain": [
       "<IPython.core.display.HTML object>"
      ]
     },
     "metadata": {},
     "output_type": "display_data"
    },
    {
     "data": {
      "text/html": [
       "[Epoch: 00] Loss (1.228 / 1.521) - Accuracy (61.3% / 51.8%)<p>[Epoch: 01] Loss (0.979 / 1.485) - Accuracy (69.7% / 50.6%)<p>[Epoch: 02] Loss (0.912 / 1.119) - Accuracy (71.4% / 65.6%)<p>[Epoch: 03] Loss (0.908 / 1.044) - Accuracy (71.1% / 66.8%)<p>[Epoch: 04] Loss (0.901 / 0.986) - Accuracy (70.7% / 71.8%)"
      ],
      "text/plain": [
       "<IPython.core.display.HTML object>"
      ]
     },
     "metadata": {},
     "output_type": "display_data"
    },
    {
     "name": "stdout",
     "output_type": "stream",
     "text": [
      "[==================================================]\n",
      "Adam - 128: (0, 0, 0.0)\n"
     ]
    },
    {
     "data": {
      "text/html": [
       "\n",
       "<style>\n",
       "    /* Turns off some styling */\n",
       "    progress {\n",
       "        /* gets rid of default border in Firefox and Opera. */\n",
       "        border: none;\n",
       "        /* Needs to be in here for Safari polyfill so background images work as expected. */\n",
       "        background-size: auto;\n",
       "    }\n",
       "    progress:not([value]), progress:not([value])::-webkit-progress-bar {\n",
       "        background: repeating-linear-gradient(45deg, #7e7e7e, #7e7e7e 10px, #5c5c5c 10px, #5c5c5c 20px);\n",
       "    }\n",
       "    .progress-bar-interrupted, .progress-bar-interrupted::-webkit-progress-bar {\n",
       "        background: #F44336;\n",
       "    }\n",
       "</style>\n"
      ],
      "text/plain": [
       "<IPython.core.display.HTML object>"
      ]
     },
     "metadata": {},
     "output_type": "display_data"
    },
    {
     "data": {
      "text/html": [
       "[Epoch: 00] Loss (0.580 / 0.479) - Accuracy (78.6% / 83.2%)<p>[Epoch: 01] Loss (0.354 / 0.406) - Accuracy (86.7% / 86.0%)<p>[Epoch: 02] Loss (0.290 / 0.378) - Accuracy (89.3% / 86.8%)<p>[Epoch: 03] Loss (0.242 / 0.380) - Accuracy (91.0% / 87.6%)<p>[Epoch: 04] Loss (0.206 / 0.326) - Accuracy (92.2% / 89.0%)"
      ],
      "text/plain": [
       "<IPython.core.display.HTML object>"
      ]
     },
     "metadata": {},
     "output_type": "display_data"
    },
    {
     "name": "stdout",
     "output_type": "stream",
     "text": [
      "[==================================================]\n",
      "Adam - 128: (0, 0, 0.3)\n"
     ]
    },
    {
     "data": {
      "text/html": [
       "\n",
       "<style>\n",
       "    /* Turns off some styling */\n",
       "    progress {\n",
       "        /* gets rid of default border in Firefox and Opera. */\n",
       "        border: none;\n",
       "        /* Needs to be in here for Safari polyfill so background images work as expected. */\n",
       "        background-size: auto;\n",
       "    }\n",
       "    progress:not([value]), progress:not([value])::-webkit-progress-bar {\n",
       "        background: repeating-linear-gradient(45deg, #7e7e7e, #7e7e7e 10px, #5c5c5c 10px, #5c5c5c 20px);\n",
       "    }\n",
       "    .progress-bar-interrupted, .progress-bar-interrupted::-webkit-progress-bar {\n",
       "        background: #F44336;\n",
       "    }\n",
       "</style>\n"
      ],
      "text/plain": [
       "<IPython.core.display.HTML object>"
      ]
     },
     "metadata": {},
     "output_type": "display_data"
    },
    {
     "data": {
      "text/html": [
       "[Epoch: 00] Loss (0.617 / 0.456) - Accuracy (77.6% / 83.0%)<p>[Epoch: 01] Loss (0.385 / 0.424) - Accuracy (85.8% / 85.4%)<p>[Epoch: 02] Loss (0.324 / 0.387) - Accuracy (88.0% / 85.8%)<p>[Epoch: 03] Loss (0.276 / 0.424) - Accuracy (89.3% / 86.2%)<p>[Epoch: 04] Loss (0.253 / 0.413) - Accuracy (90.3% / 88.2%)"
      ],
      "text/plain": [
       "<IPython.core.display.HTML object>"
      ]
     },
     "metadata": {},
     "output_type": "display_data"
    },
    {
     "name": "stdout",
     "output_type": "stream",
     "text": [
      "[==================================================]\n",
      "Adam - 128: (0, 0.001, 0.0)\n"
     ]
    },
    {
     "data": {
      "text/html": [
       "\n",
       "<style>\n",
       "    /* Turns off some styling */\n",
       "    progress {\n",
       "        /* gets rid of default border in Firefox and Opera. */\n",
       "        border: none;\n",
       "        /* Needs to be in here for Safari polyfill so background images work as expected. */\n",
       "        background-size: auto;\n",
       "    }\n",
       "    progress:not([value]), progress:not([value])::-webkit-progress-bar {\n",
       "        background: repeating-linear-gradient(45deg, #7e7e7e, #7e7e7e 10px, #5c5c5c 10px, #5c5c5c 20px);\n",
       "    }\n",
       "    .progress-bar-interrupted, .progress-bar-interrupted::-webkit-progress-bar {\n",
       "        background: #F44336;\n",
       "    }\n",
       "</style>\n"
      ],
      "text/plain": [
       "<IPython.core.display.HTML object>"
      ]
     },
     "metadata": {},
     "output_type": "display_data"
    },
    {
     "data": {
      "text/html": [
       "[Epoch: 00] Loss (0.762 / 1.470) - Accuracy (72.0% / 47.2%)<p>[Epoch: 01] Loss (0.530 / 0.706) - Accuracy (80.6% / 76.4%)<p>[Epoch: 02] Loss (0.460 / 0.488) - Accuracy (83.1% / 82.6%)<p>[Epoch: 03] Loss (0.431 / 0.502) - Accuracy (84.1% / 81.8%)<p>[Epoch: 04] Loss (0.415 / 0.547) - Accuracy (84.8% / 80.4%)"
      ],
      "text/plain": [
       "<IPython.core.display.HTML object>"
      ]
     },
     "metadata": {},
     "output_type": "display_data"
    },
    {
     "name": "stdout",
     "output_type": "stream",
     "text": [
      "[==================================================]\n",
      "Adam - 128: (0, 0.001, 0.3)\n"
     ]
    },
    {
     "data": {
      "text/html": [
       "\n",
       "<style>\n",
       "    /* Turns off some styling */\n",
       "    progress {\n",
       "        /* gets rid of default border in Firefox and Opera. */\n",
       "        border: none;\n",
       "        /* Needs to be in here for Safari polyfill so background images work as expected. */\n",
       "        background-size: auto;\n",
       "    }\n",
       "    progress:not([value]), progress:not([value])::-webkit-progress-bar {\n",
       "        background: repeating-linear-gradient(45deg, #7e7e7e, #7e7e7e 10px, #5c5c5c 10px, #5c5c5c 20px);\n",
       "    }\n",
       "    .progress-bar-interrupted, .progress-bar-interrupted::-webkit-progress-bar {\n",
       "        background: #F44336;\n",
       "    }\n",
       "</style>\n"
      ],
      "text/plain": [
       "<IPython.core.display.HTML object>"
      ]
     },
     "metadata": {},
     "output_type": "display_data"
    },
    {
     "data": {
      "text/html": [
       "[Epoch: 00] Loss (0.781 / 1.190) - Accuracy (71.5% / 54.4%)<p>[Epoch: 01] Loss (0.582 / 0.618) - Accuracy (78.3% / 79.4%)<p>[Epoch: 02] Loss (0.525 / 0.539) - Accuracy (80.5% / 83.2%)<p>[Epoch: 03] Loss (0.497 / 0.525) - Accuracy (81.7% / 82.4%)<p>[Epoch: 04] Loss (0.483 / 0.458) - Accuracy (82.4% / 85.0%)"
      ],
      "text/plain": [
       "<IPython.core.display.HTML object>"
      ]
     },
     "metadata": {},
     "output_type": "display_data"
    },
    {
     "name": "stdout",
     "output_type": "stream",
     "text": [
      "[==================================================]\n",
      "Adam - 128: (0, 0.01, 0.0)\n"
     ]
    },
    {
     "data": {
      "text/html": [
       "\n",
       "<style>\n",
       "    /* Turns off some styling */\n",
       "    progress {\n",
       "        /* gets rid of default border in Firefox and Opera. */\n",
       "        border: none;\n",
       "        /* Needs to be in here for Safari polyfill so background images work as expected. */\n",
       "        background-size: auto;\n",
       "    }\n",
       "    progress:not([value]), progress:not([value])::-webkit-progress-bar {\n",
       "        background: repeating-linear-gradient(45deg, #7e7e7e, #7e7e7e 10px, #5c5c5c 10px, #5c5c5c 20px);\n",
       "    }\n",
       "    .progress-bar-interrupted, .progress-bar-interrupted::-webkit-progress-bar {\n",
       "        background: #F44336;\n",
       "    }\n",
       "</style>\n"
      ],
      "text/plain": [
       "<IPython.core.display.HTML object>"
      ]
     },
     "metadata": {},
     "output_type": "display_data"
    },
    {
     "data": {
      "text/html": [
       "[Epoch: 00] Loss (1.163 / 2.113) - Accuracy (60.8% / 25.4%)<p>[Epoch: 01] Loss (0.733 / 1.561) - Accuracy (74.9% / 50.8%)<p>[Epoch: 02] Loss (0.651 / 1.253) - Accuracy (77.8% / 58.8%)<p>[Epoch: 03] Loss (0.621 / 1.614) - Accuracy (78.4% / 50.4%)<p>[Epoch: 04] Loss (0.616 / 1.679) - Accuracy (78.3% / 53.6%)"
      ],
      "text/plain": [
       "<IPython.core.display.HTML object>"
      ]
     },
     "metadata": {},
     "output_type": "display_data"
    },
    {
     "name": "stdout",
     "output_type": "stream",
     "text": [
      "[==================================================]\n",
      "Adam - 128: (0, 0.01, 0.3)\n"
     ]
    },
    {
     "data": {
      "text/html": [
       "\n",
       "<style>\n",
       "    /* Turns off some styling */\n",
       "    progress {\n",
       "        /* gets rid of default border in Firefox and Opera. */\n",
       "        border: none;\n",
       "        /* Needs to be in here for Safari polyfill so background images work as expected. */\n",
       "        background-size: auto;\n",
       "    }\n",
       "    progress:not([value]), progress:not([value])::-webkit-progress-bar {\n",
       "        background: repeating-linear-gradient(45deg, #7e7e7e, #7e7e7e 10px, #5c5c5c 10px, #5c5c5c 20px);\n",
       "    }\n",
       "    .progress-bar-interrupted, .progress-bar-interrupted::-webkit-progress-bar {\n",
       "        background: #F44336;\n",
       "    }\n",
       "</style>\n"
      ],
      "text/plain": [
       "<IPython.core.display.HTML object>"
      ]
     },
     "metadata": {},
     "output_type": "display_data"
    },
    {
     "data": {
      "text/html": [
       "[Epoch: 00] Loss (1.173 / 2.292) - Accuracy (60.9% / 14.2%)<p>[Epoch: 01] Loss (0.862 / 2.123) - Accuracy (70.9% / 22.8%)<p>[Epoch: 02] Loss (0.807 / 0.798) - Accuracy (72.5% / 72.0%)<p>[Epoch: 03] Loss (0.764 / 1.255) - Accuracy (74.0% / 59.6%)<p>[Epoch: 04] Loss (0.751 / 1.467) - Accuracy (74.5% / 52.8%)"
      ],
      "text/plain": [
       "<IPython.core.display.HTML object>"
      ]
     },
     "metadata": {},
     "output_type": "display_data"
    },
    {
     "name": "stdout",
     "output_type": "stream",
     "text": [
      "[==================================================]\n",
      "Adam - 128: (0.001, 0, 0.0)\n"
     ]
    },
    {
     "data": {
      "text/html": [
       "\n",
       "<style>\n",
       "    /* Turns off some styling */\n",
       "    progress {\n",
       "        /* gets rid of default border in Firefox and Opera. */\n",
       "        border: none;\n",
       "        /* Needs to be in here for Safari polyfill so background images work as expected. */\n",
       "        background-size: auto;\n",
       "    }\n",
       "    progress:not([value]), progress:not([value])::-webkit-progress-bar {\n",
       "        background: repeating-linear-gradient(45deg, #7e7e7e, #7e7e7e 10px, #5c5c5c 10px, #5c5c5c 20px);\n",
       "    }\n",
       "    .progress-bar-interrupted, .progress-bar-interrupted::-webkit-progress-bar {\n",
       "        background: #F44336;\n",
       "    }\n",
       "</style>\n"
      ],
      "text/plain": [
       "<IPython.core.display.HTML object>"
      ]
     },
     "metadata": {},
     "output_type": "display_data"
    },
    {
     "data": {
      "text/html": [
       "[Epoch: 00] Loss (0.642 / 2.031) - Accuracy (76.4% / 39.8%)<p>[Epoch: 01] Loss (0.477 / 0.945) - Accuracy (82.0% / 67.2%)<p>[Epoch: 02] Loss (0.452 / 0.578) - Accuracy (83.5% / 80.0%)<p>[Epoch: 03] Loss (0.429 / 0.797) - Accuracy (84.5% / 71.0%)<p>[Epoch: 04] Loss (0.396 / 0.758) - Accuracy (85.4% / 74.6%)"
      ],
      "text/plain": [
       "<IPython.core.display.HTML object>"
      ]
     },
     "metadata": {},
     "output_type": "display_data"
    },
    {
     "name": "stdout",
     "output_type": "stream",
     "text": [
      "[==================================================]\n",
      "Adam - 128: (0.001, 0, 0.3)\n"
     ]
    },
    {
     "data": {
      "text/html": [
       "\n",
       "<style>\n",
       "    /* Turns off some styling */\n",
       "    progress {\n",
       "        /* gets rid of default border in Firefox and Opera. */\n",
       "        border: none;\n",
       "        /* Needs to be in here for Safari polyfill so background images work as expected. */\n",
       "        background-size: auto;\n",
       "    }\n",
       "    progress:not([value]), progress:not([value])::-webkit-progress-bar {\n",
       "        background: repeating-linear-gradient(45deg, #7e7e7e, #7e7e7e 10px, #5c5c5c 10px, #5c5c5c 20px);\n",
       "    }\n",
       "    .progress-bar-interrupted, .progress-bar-interrupted::-webkit-progress-bar {\n",
       "        background: #F44336;\n",
       "    }\n",
       "</style>\n"
      ],
      "text/plain": [
       "<IPython.core.display.HTML object>"
      ]
     },
     "metadata": {},
     "output_type": "display_data"
    },
    {
     "data": {
      "text/html": [
       "[Epoch: 00] Loss (0.653 / 1.339) - Accuracy (76.3% / 53.8%)<p>[Epoch: 01] Loss (0.498 / 0.797) - Accuracy (81.4% / 71.6%)<p>[Epoch: 02] Loss (0.485 / 0.592) - Accuracy (82.0% / 78.6%)<p>[Epoch: 03] Loss (0.450 / 0.518) - Accuracy (83.5% / 81.8%)<p>[Epoch: 04] Loss (0.432 / 0.534) - Accuracy (84.2% / 82.2%)"
      ],
      "text/plain": [
       "<IPython.core.display.HTML object>"
      ]
     },
     "metadata": {},
     "output_type": "display_data"
    },
    {
     "name": "stdout",
     "output_type": "stream",
     "text": [
      "[==================================================]\n",
      "Adam - 128: (0.001, 0.001, 0.0)\n"
     ]
    },
    {
     "data": {
      "text/html": [
       "\n",
       "<style>\n",
       "    /* Turns off some styling */\n",
       "    progress {\n",
       "        /* gets rid of default border in Firefox and Opera. */\n",
       "        border: none;\n",
       "        /* Needs to be in here for Safari polyfill so background images work as expected. */\n",
       "        background-size: auto;\n",
       "    }\n",
       "    progress:not([value]), progress:not([value])::-webkit-progress-bar {\n",
       "        background: repeating-linear-gradient(45deg, #7e7e7e, #7e7e7e 10px, #5c5c5c 10px, #5c5c5c 20px);\n",
       "    }\n",
       "    .progress-bar-interrupted, .progress-bar-interrupted::-webkit-progress-bar {\n",
       "        background: #F44336;\n",
       "    }\n",
       "</style>\n"
      ],
      "text/plain": [
       "<IPython.core.display.HTML object>"
      ]
     },
     "metadata": {},
     "output_type": "display_data"
    },
    {
     "data": {
      "text/html": [
       "[Epoch: 00] Loss (0.789 / 1.962) - Accuracy (71.9% / 25.0%)<p>[Epoch: 01] Loss (0.533 / 0.716) - Accuracy (80.7% / 74.4%)<p>[Epoch: 02] Loss (0.462 / 0.512) - Accuracy (83.6% / 84.0%)<p>[Epoch: 03] Loss (0.430 / 0.666) - Accuracy (84.5% / 74.0%)<p>[Epoch: 04] Loss (0.412 / 0.579) - Accuracy (85.2% / 82.2%)"
      ],
      "text/plain": [
       "<IPython.core.display.HTML object>"
      ]
     },
     "metadata": {},
     "output_type": "display_data"
    },
    {
     "name": "stdout",
     "output_type": "stream",
     "text": [
      "[==================================================]\n",
      "Adam - 128: (0.001, 0.001, 0.3)\n"
     ]
    },
    {
     "data": {
      "text/html": [
       "\n",
       "<style>\n",
       "    /* Turns off some styling */\n",
       "    progress {\n",
       "        /* gets rid of default border in Firefox and Opera. */\n",
       "        border: none;\n",
       "        /* Needs to be in here for Safari polyfill so background images work as expected. */\n",
       "        background-size: auto;\n",
       "    }\n",
       "    progress:not([value]), progress:not([value])::-webkit-progress-bar {\n",
       "        background: repeating-linear-gradient(45deg, #7e7e7e, #7e7e7e 10px, #5c5c5c 10px, #5c5c5c 20px);\n",
       "    }\n",
       "    .progress-bar-interrupted, .progress-bar-interrupted::-webkit-progress-bar {\n",
       "        background: #F44336;\n",
       "    }\n",
       "</style>\n"
      ],
      "text/plain": [
       "<IPython.core.display.HTML object>"
      ]
     },
     "metadata": {},
     "output_type": "display_data"
    },
    {
     "data": {
      "text/html": [
       "[Epoch: 00] Loss (0.817 / 1.851) - Accuracy (70.7% / 35.6%)<p>[Epoch: 01] Loss (0.606 / 0.805) - Accuracy (78.0% / 74.8%)<p>[Epoch: 02] Loss (0.541 / 0.571) - Accuracy (80.3% / 79.0%)<p>[Epoch: 03] Loss (0.502 / 0.510) - Accuracy (81.7% / 81.4%)<p>[Epoch: 04] Loss (0.493 / 0.555) - Accuracy (82.1% / 81.0%)"
      ],
      "text/plain": [
       "<IPython.core.display.HTML object>"
      ]
     },
     "metadata": {},
     "output_type": "display_data"
    },
    {
     "name": "stdout",
     "output_type": "stream",
     "text": [
      "[==================================================]\n",
      "Adam - 128: (0.001, 0.01, 0.0)\n"
     ]
    },
    {
     "data": {
      "text/html": [
       "\n",
       "<style>\n",
       "    /* Turns off some styling */\n",
       "    progress {\n",
       "        /* gets rid of default border in Firefox and Opera. */\n",
       "        border: none;\n",
       "        /* Needs to be in here for Safari polyfill so background images work as expected. */\n",
       "        background-size: auto;\n",
       "    }\n",
       "    progress:not([value]), progress:not([value])::-webkit-progress-bar {\n",
       "        background: repeating-linear-gradient(45deg, #7e7e7e, #7e7e7e 10px, #5c5c5c 10px, #5c5c5c 20px);\n",
       "    }\n",
       "    .progress-bar-interrupted, .progress-bar-interrupted::-webkit-progress-bar {\n",
       "        background: #F44336;\n",
       "    }\n",
       "</style>\n"
      ],
      "text/plain": [
       "<IPython.core.display.HTML object>"
      ]
     },
     "metadata": {},
     "output_type": "display_data"
    },
    {
     "data": {
      "text/html": [
       "[Epoch: 00] Loss (1.167 / 2.338) - Accuracy (61.1% / 14.0%)<p>[Epoch: 01] Loss (0.756 / 1.642) - Accuracy (74.9% / 36.8%)<p>[Epoch: 02] Loss (0.688 / 0.891) - Accuracy (76.8% / 72.4%)<p>[Epoch: 03] Loss (0.652 / 1.032) - Accuracy (77.8% / 65.4%)<p>[Epoch: 04] Loss (0.635 / 0.938) - Accuracy (78.4% / 69.4%)"
      ],
      "text/plain": [
       "<IPython.core.display.HTML object>"
      ]
     },
     "metadata": {},
     "output_type": "display_data"
    },
    {
     "name": "stdout",
     "output_type": "stream",
     "text": [
      "[==================================================]\n",
      "Adam - 128: (0.001, 0.01, 0.3)\n"
     ]
    },
    {
     "data": {
      "text/html": [
       "\n",
       "<style>\n",
       "    /* Turns off some styling */\n",
       "    progress {\n",
       "        /* gets rid of default border in Firefox and Opera. */\n",
       "        border: none;\n",
       "        /* Needs to be in here for Safari polyfill so background images work as expected. */\n",
       "        background-size: auto;\n",
       "    }\n",
       "    progress:not([value]), progress:not([value])::-webkit-progress-bar {\n",
       "        background: repeating-linear-gradient(45deg, #7e7e7e, #7e7e7e 10px, #5c5c5c 10px, #5c5c5c 20px);\n",
       "    }\n",
       "    .progress-bar-interrupted, .progress-bar-interrupted::-webkit-progress-bar {\n",
       "        background: #F44336;\n",
       "    }\n",
       "</style>\n"
      ],
      "text/plain": [
       "<IPython.core.display.HTML object>"
      ]
     },
     "metadata": {},
     "output_type": "display_data"
    },
    {
     "data": {
      "text/html": [
       "[Epoch: 00] Loss (1.174 / 2.208) - Accuracy (61.8% / 19.8%)<p>[Epoch: 01] Loss (0.874 / 2.222) - Accuracy (70.6% / 20.6%)<p>[Epoch: 02] Loss (0.796 / 0.949) - Accuracy (73.1% / 64.0%)<p>[Epoch: 03] Loss (0.761 / 1.623) - Accuracy (74.5% / 48.8%)<p>[Epoch: 04] Loss (0.747 / 0.821) - Accuracy (74.3% / 70.2%)"
      ],
      "text/plain": [
       "<IPython.core.display.HTML object>"
      ]
     },
     "metadata": {},
     "output_type": "display_data"
    },
    {
     "name": "stdout",
     "output_type": "stream",
     "text": [
      "[==================================================]\n",
      "Adam - 128: (0.01, 0, 0.0)\n"
     ]
    },
    {
     "data": {
      "text/html": [
       "\n",
       "<style>\n",
       "    /* Turns off some styling */\n",
       "    progress {\n",
       "        /* gets rid of default border in Firefox and Opera. */\n",
       "        border: none;\n",
       "        /* Needs to be in here for Safari polyfill so background images work as expected. */\n",
       "        background-size: auto;\n",
       "    }\n",
       "    progress:not([value]), progress:not([value])::-webkit-progress-bar {\n",
       "        background: repeating-linear-gradient(45deg, #7e7e7e, #7e7e7e 10px, #5c5c5c 10px, #5c5c5c 20px);\n",
       "    }\n",
       "    .progress-bar-interrupted, .progress-bar-interrupted::-webkit-progress-bar {\n",
       "        background: #F44336;\n",
       "    }\n",
       "</style>\n"
      ],
      "text/plain": [
       "<IPython.core.display.HTML object>"
      ]
     },
     "metadata": {},
     "output_type": "display_data"
    },
    {
     "data": {
      "text/html": [
       "[Epoch: 00] Loss (0.786 / 2.992) - Accuracy (73.2% / 10.0%)<p>[Epoch: 01] Loss (0.699 / 0.916) - Accuracy (76.2% / 73.2%)<p>[Epoch: 02] Loss (0.592 / 1.340) - Accuracy (80.4% / 64.2%)<p>[Epoch: 03] Loss (0.537 / 0.987) - Accuracy (82.9% / 70.8%)<p>[Epoch: 04] Loss (0.525 / 0.947) - Accuracy (83.1% / 73.0%)"
      ],
      "text/plain": [
       "<IPython.core.display.HTML object>"
      ]
     },
     "metadata": {},
     "output_type": "display_data"
    },
    {
     "name": "stdout",
     "output_type": "stream",
     "text": [
      "[==================================================]\n",
      "Adam - 128: (0.01, 0, 0.3)\n"
     ]
    },
    {
     "data": {
      "text/html": [
       "\n",
       "<style>\n",
       "    /* Turns off some styling */\n",
       "    progress {\n",
       "        /* gets rid of default border in Firefox and Opera. */\n",
       "        border: none;\n",
       "        /* Needs to be in here for Safari polyfill so background images work as expected. */\n",
       "        background-size: auto;\n",
       "    }\n",
       "    progress:not([value]), progress:not([value])::-webkit-progress-bar {\n",
       "        background: repeating-linear-gradient(45deg, #7e7e7e, #7e7e7e 10px, #5c5c5c 10px, #5c5c5c 20px);\n",
       "    }\n",
       "    .progress-bar-interrupted, .progress-bar-interrupted::-webkit-progress-bar {\n",
       "        background: #F44336;\n",
       "    }\n",
       "</style>\n"
      ],
      "text/plain": [
       "<IPython.core.display.HTML object>"
      ]
     },
     "metadata": {},
     "output_type": "display_data"
    },
    {
     "data": {
      "text/html": [
       "[Epoch: 00] Loss (0.779 / 2.499) - Accuracy (72.9% / 20.8%)<p>[Epoch: 01] Loss (0.731 / 2.019) - Accuracy (75.0% / 32.2%)<p>[Epoch: 02] Loss (0.675 / 1.095) - Accuracy (77.0% / 58.4%)<p>[Epoch: 03] Loss (0.633 / 0.706) - Accuracy (79.0% / 78.0%)<p>[Epoch: 04] Loss (0.601 / 0.742) - Accuracy (80.4% / 71.6%)"
      ],
      "text/plain": [
       "<IPython.core.display.HTML object>"
      ]
     },
     "metadata": {},
     "output_type": "display_data"
    },
    {
     "name": "stdout",
     "output_type": "stream",
     "text": [
      "[==================================================]\n",
      "Adam - 128: (0.01, 0.001, 0.0)\n"
     ]
    },
    {
     "data": {
      "text/html": [
       "\n",
       "<style>\n",
       "    /* Turns off some styling */\n",
       "    progress {\n",
       "        /* gets rid of default border in Firefox and Opera. */\n",
       "        border: none;\n",
       "        /* Needs to be in here for Safari polyfill so background images work as expected. */\n",
       "        background-size: auto;\n",
       "    }\n",
       "    progress:not([value]), progress:not([value])::-webkit-progress-bar {\n",
       "        background: repeating-linear-gradient(45deg, #7e7e7e, #7e7e7e 10px, #5c5c5c 10px, #5c5c5c 20px);\n",
       "    }\n",
       "    .progress-bar-interrupted, .progress-bar-interrupted::-webkit-progress-bar {\n",
       "        background: #F44336;\n",
       "    }\n",
       "</style>\n"
      ],
      "text/plain": [
       "<IPython.core.display.HTML object>"
      ]
     },
     "metadata": {},
     "output_type": "display_data"
    },
    {
     "data": {
      "text/html": [
       "[Epoch: 00] Loss (0.938 / 2.128) - Accuracy (68.1% / 33.4%)<p>[Epoch: 01] Loss (0.739 / 0.764) - Accuracy (75.0% / 75.2%)<p>[Epoch: 02] Loss (0.625 / 0.786) - Accuracy (79.0% / 74.0%)<p>[Epoch: 03] Loss (0.599 / 0.666) - Accuracy (79.8% / 77.6%)<p>[Epoch: 04] Loss (0.584 / 0.775) - Accuracy (80.2% / 74.0%)"
      ],
      "text/plain": [
       "<IPython.core.display.HTML object>"
      ]
     },
     "metadata": {},
     "output_type": "display_data"
    },
    {
     "name": "stdout",
     "output_type": "stream",
     "text": [
      "[==================================================]\n",
      "Adam - 128: (0.01, 0.001, 0.3)\n"
     ]
    },
    {
     "data": {
      "text/html": [
       "\n",
       "<style>\n",
       "    /* Turns off some styling */\n",
       "    progress {\n",
       "        /* gets rid of default border in Firefox and Opera. */\n",
       "        border: none;\n",
       "        /* Needs to be in here for Safari polyfill so background images work as expected. */\n",
       "        background-size: auto;\n",
       "    }\n",
       "    progress:not([value]), progress:not([value])::-webkit-progress-bar {\n",
       "        background: repeating-linear-gradient(45deg, #7e7e7e, #7e7e7e 10px, #5c5c5c 10px, #5c5c5c 20px);\n",
       "    }\n",
       "    .progress-bar-interrupted, .progress-bar-interrupted::-webkit-progress-bar {\n",
       "        background: #F44336;\n",
       "    }\n",
       "</style>\n"
      ],
      "text/plain": [
       "<IPython.core.display.HTML object>"
      ]
     },
     "metadata": {},
     "output_type": "display_data"
    },
    {
     "data": {
      "text/html": [
       "[Epoch: 00] Loss (0.941 / 11.496) - Accuracy (67.0% / 19.4%)<p>[Epoch: 01] Loss (0.803 / 1.036) - Accuracy (72.6% / 70.0%)<p>[Epoch: 02] Loss (0.701 / 0.733) - Accuracy (76.4% / 76.4%)<p>[Epoch: 03] Loss (0.685 / 0.861) - Accuracy (76.9% / 71.6%)<p>[Epoch: 04] Loss (0.676 / 0.925) - Accuracy (77.0% / 70.6%)"
      ],
      "text/plain": [
       "<IPython.core.display.HTML object>"
      ]
     },
     "metadata": {},
     "output_type": "display_data"
    },
    {
     "name": "stdout",
     "output_type": "stream",
     "text": [
      "[==================================================]\n",
      "Adam - 128: (0.01, 0.01, 0.0)\n"
     ]
    },
    {
     "data": {
      "text/html": [
       "\n",
       "<style>\n",
       "    /* Turns off some styling */\n",
       "    progress {\n",
       "        /* gets rid of default border in Firefox and Opera. */\n",
       "        border: none;\n",
       "        /* Needs to be in here for Safari polyfill so background images work as expected. */\n",
       "        background-size: auto;\n",
       "    }\n",
       "    progress:not([value]), progress:not([value])::-webkit-progress-bar {\n",
       "        background: repeating-linear-gradient(45deg, #7e7e7e, #7e7e7e 10px, #5c5c5c 10px, #5c5c5c 20px);\n",
       "    }\n",
       "    .progress-bar-interrupted, .progress-bar-interrupted::-webkit-progress-bar {\n",
       "        background: #F44336;\n",
       "    }\n",
       "</style>\n"
      ],
      "text/plain": [
       "<IPython.core.display.HTML object>"
      ]
     },
     "metadata": {},
     "output_type": "display_data"
    },
    {
     "data": {
      "text/html": [
       "[Epoch: 00] Loss (1.296 / 2.265) - Accuracy (59.8% / 16.8%)<p>[Epoch: 01] Loss (0.997 / 1.886) - Accuracy (69.6% / 37.4%)<p>[Epoch: 02] Loss (0.765 / 1.203) - Accuracy (76.7% / 59.8%)<p>[Epoch: 03] Loss (0.751 / 1.157) - Accuracy (77.1% / 59.4%)<p>[Epoch: 04] Loss (0.723 / 2.053) - Accuracy (77.7% / 29.2%)"
      ],
      "text/plain": [
       "<IPython.core.display.HTML object>"
      ]
     },
     "metadata": {},
     "output_type": "display_data"
    },
    {
     "name": "stdout",
     "output_type": "stream",
     "text": [
      "[==================================================]\n",
      "Adam - 128: (0.01, 0.01, 0.3)\n"
     ]
    },
    {
     "data": {
      "text/html": [
       "\n",
       "<style>\n",
       "    /* Turns off some styling */\n",
       "    progress {\n",
       "        /* gets rid of default border in Firefox and Opera. */\n",
       "        border: none;\n",
       "        /* Needs to be in here for Safari polyfill so background images work as expected. */\n",
       "        background-size: auto;\n",
       "    }\n",
       "    progress:not([value]), progress:not([value])::-webkit-progress-bar {\n",
       "        background: repeating-linear-gradient(45deg, #7e7e7e, #7e7e7e 10px, #5c5c5c 10px, #5c5c5c 20px);\n",
       "    }\n",
       "    .progress-bar-interrupted, .progress-bar-interrupted::-webkit-progress-bar {\n",
       "        background: #F44336;\n",
       "    }\n",
       "</style>\n"
      ],
      "text/plain": [
       "<IPython.core.display.HTML object>"
      ]
     },
     "metadata": {},
     "output_type": "display_data"
    },
    {
     "data": {
      "text/html": [
       "[Epoch: 00] Loss (1.249 / 2.128) - Accuracy (61.3% / 18.4%)<p>[Epoch: 01] Loss (1.002 / 1.193) - Accuracy (69.9% / 68.6%)<p>[Epoch: 02] Loss (0.877 / 0.973) - Accuracy (73.4% / 71.6%)<p>[Epoch: 03] Loss (0.850 / 1.223) - Accuracy (73.4% / 65.4%)<p>[Epoch: 04] Loss (0.839 / 1.126) - Accuracy (73.5% / 71.4%)"
      ],
      "text/plain": [
       "<IPython.core.display.HTML object>"
      ]
     },
     "metadata": {},
     "output_type": "display_data"
    },
    {
     "name": "stdout",
     "output_type": "stream",
     "text": [
      "[==================================================]\n",
      "Adam - 256: (0, 0, 0.0)\n"
     ]
    },
    {
     "data": {
      "text/html": [
       "\n",
       "<style>\n",
       "    /* Turns off some styling */\n",
       "    progress {\n",
       "        /* gets rid of default border in Firefox and Opera. */\n",
       "        border: none;\n",
       "        /* Needs to be in here for Safari polyfill so background images work as expected. */\n",
       "        background-size: auto;\n",
       "    }\n",
       "    progress:not([value]), progress:not([value])::-webkit-progress-bar {\n",
       "        background: repeating-linear-gradient(45deg, #7e7e7e, #7e7e7e 10px, #5c5c5c 10px, #5c5c5c 20px);\n",
       "    }\n",
       "    .progress-bar-interrupted, .progress-bar-interrupted::-webkit-progress-bar {\n",
       "        background: #F44336;\n",
       "    }\n",
       "</style>\n"
      ],
      "text/plain": [
       "<IPython.core.display.HTML object>"
      ]
     },
     "metadata": {},
     "output_type": "display_data"
    },
    {
     "data": {
      "text/html": [
       "[Epoch: 00] Loss (0.662 / 0.497) - Accuracy (76.1% / 81.4%)<p>[Epoch: 01] Loss (0.374 / 0.460) - Accuracy (85.9% / 84.6%)<p>[Epoch: 02] Loss (0.297 / 0.392) - Accuracy (88.8% / 86.2%)<p>[Epoch: 03] Loss (0.271 / 0.357) - Accuracy (89.5% / 86.6%)<p>[Epoch: 04] Loss (0.225 / 0.355) - Accuracy (91.8% / 87.0%)"
      ],
      "text/plain": [
       "<IPython.core.display.HTML object>"
      ]
     },
     "metadata": {},
     "output_type": "display_data"
    },
    {
     "name": "stdout",
     "output_type": "stream",
     "text": [
      "[==================================================]\n",
      "Adam - 256: (0, 0, 0.3)\n"
     ]
    },
    {
     "data": {
      "text/html": [
       "\n",
       "<style>\n",
       "    /* Turns off some styling */\n",
       "    progress {\n",
       "        /* gets rid of default border in Firefox and Opera. */\n",
       "        border: none;\n",
       "        /* Needs to be in here for Safari polyfill so background images work as expected. */\n",
       "        background-size: auto;\n",
       "    }\n",
       "    progress:not([value]), progress:not([value])::-webkit-progress-bar {\n",
       "        background: repeating-linear-gradient(45deg, #7e7e7e, #7e7e7e 10px, #5c5c5c 10px, #5c5c5c 20px);\n",
       "    }\n",
       "    .progress-bar-interrupted, .progress-bar-interrupted::-webkit-progress-bar {\n",
       "        background: #F44336;\n",
       "    }\n",
       "</style>\n"
      ],
      "text/plain": [
       "<IPython.core.display.HTML object>"
      ]
     },
     "metadata": {},
     "output_type": "display_data"
    },
    {
     "data": {
      "text/html": [
       "[Epoch: 00] Loss (0.705 / 0.475) - Accuracy (74.7% / 81.6%)<p>[Epoch: 01] Loss (0.408 / 0.433) - Accuracy (84.6% / 85.0%)<p>[Epoch: 02] Loss (0.339 / 0.392) - Accuracy (87.5% / 85.2%)<p>[Epoch: 03] Loss (0.290 / 0.347) - Accuracy (89.1% / 88.4%)<p>[Epoch: 04] Loss (0.253 / 0.369) - Accuracy (90.4% / 86.8%)"
      ],
      "text/plain": [
       "<IPython.core.display.HTML object>"
      ]
     },
     "metadata": {},
     "output_type": "display_data"
    },
    {
     "name": "stdout",
     "output_type": "stream",
     "text": [
      "[==================================================]\n",
      "Adam - 256: (0, 0.001, 0.0)\n"
     ]
    },
    {
     "data": {
      "text/html": [
       "\n",
       "<style>\n",
       "    /* Turns off some styling */\n",
       "    progress {\n",
       "        /* gets rid of default border in Firefox and Opera. */\n",
       "        border: none;\n",
       "        /* Needs to be in here for Safari polyfill so background images work as expected. */\n",
       "        background-size: auto;\n",
       "    }\n",
       "    progress:not([value]), progress:not([value])::-webkit-progress-bar {\n",
       "        background: repeating-linear-gradient(45deg, #7e7e7e, #7e7e7e 10px, #5c5c5c 10px, #5c5c5c 20px);\n",
       "    }\n",
       "    .progress-bar-interrupted, .progress-bar-interrupted::-webkit-progress-bar {\n",
       "        background: #F44336;\n",
       "    }\n",
       "</style>\n"
      ],
      "text/plain": [
       "<IPython.core.display.HTML object>"
      ]
     },
     "metadata": {},
     "output_type": "display_data"
    },
    {
     "data": {
      "text/html": [
       "[Epoch: 00] Loss (0.808 / 2.661) - Accuracy (71.7% / 10.8%)<p>[Epoch: 01] Loss (0.618 / 0.822) - Accuracy (76.9% / 72.4%)<p>[Epoch: 02] Loss (0.481 / 1.276) - Accuracy (82.2% / 60.6%)<p>[Epoch: 03] Loss (0.421 / 0.783) - Accuracy (84.6% / 69.8%)<p>[Epoch: 04] Loss (0.404 / 0.557) - Accuracy (85.4% / 82.0%)"
      ],
      "text/plain": [
       "<IPython.core.display.HTML object>"
      ]
     },
     "metadata": {},
     "output_type": "display_data"
    },
    {
     "name": "stdout",
     "output_type": "stream",
     "text": [
      "[==================================================]\n",
      "Adam - 256: (0, 0.001, 0.3)\n"
     ]
    },
    {
     "data": {
      "text/html": [
       "\n",
       "<style>\n",
       "    /* Turns off some styling */\n",
       "    progress {\n",
       "        /* gets rid of default border in Firefox and Opera. */\n",
       "        border: none;\n",
       "        /* Needs to be in here for Safari polyfill so background images work as expected. */\n",
       "        background-size: auto;\n",
       "    }\n",
       "    progress:not([value]), progress:not([value])::-webkit-progress-bar {\n",
       "        background: repeating-linear-gradient(45deg, #7e7e7e, #7e7e7e 10px, #5c5c5c 10px, #5c5c5c 20px);\n",
       "    }\n",
       "    .progress-bar-interrupted, .progress-bar-interrupted::-webkit-progress-bar {\n",
       "        background: #F44336;\n",
       "    }\n",
       "</style>\n"
      ],
      "text/plain": [
       "<IPython.core.display.HTML object>"
      ]
     },
     "metadata": {},
     "output_type": "display_data"
    },
    {
     "data": {
      "text/html": [
       "[Epoch: 00] Loss (0.825 / 2.724) - Accuracy (71.0% / 23.0%)<p>[Epoch: 01] Loss (0.634 / 1.236) - Accuracy (76.8% / 63.8%)<p>[Epoch: 02] Loss (0.523 / 0.741) - Accuracy (80.5% / 77.0%)<p>[Epoch: 03] Loss (0.471 / 0.517) - Accuracy (82.7% / 80.6%)<p>[Epoch: 04] Loss (0.440 / 0.554) - Accuracy (84.1% / 80.6%)"
      ],
      "text/plain": [
       "<IPython.core.display.HTML object>"
      ]
     },
     "metadata": {},
     "output_type": "display_data"
    },
    {
     "name": "stdout",
     "output_type": "stream",
     "text": [
      "[==================================================]\n",
      "Adam - 256: (0, 0.01, 0.0)\n"
     ]
    },
    {
     "data": {
      "text/html": [
       "\n",
       "<style>\n",
       "    /* Turns off some styling */\n",
       "    progress {\n",
       "        /* gets rid of default border in Firefox and Opera. */\n",
       "        border: none;\n",
       "        /* Needs to be in here for Safari polyfill so background images work as expected. */\n",
       "        background-size: auto;\n",
       "    }\n",
       "    progress:not([value]), progress:not([value])::-webkit-progress-bar {\n",
       "        background: repeating-linear-gradient(45deg, #7e7e7e, #7e7e7e 10px, #5c5c5c 10px, #5c5c5c 20px);\n",
       "    }\n",
       "    .progress-bar-interrupted, .progress-bar-interrupted::-webkit-progress-bar {\n",
       "        background: #F44336;\n",
       "    }\n",
       "</style>\n"
      ],
      "text/plain": [
       "<IPython.core.display.HTML object>"
      ]
     },
     "metadata": {},
     "output_type": "display_data"
    },
    {
     "data": {
      "text/html": [
       "[Epoch: 00] Loss (1.147 / 2.375) - Accuracy (62.3% / 10.0%)<p>[Epoch: 01] Loss (1.098 / 2.177) - Accuracy (63.6% / 19.6%)<p>[Epoch: 02] Loss (0.793 / 1.758) - Accuracy (73.4% / 44.6%)<p>[Epoch: 03] Loss (0.640 / 1.714) - Accuracy (78.5% / 43.4%)<p>[Epoch: 04] Loss (0.593 / 0.872) - Accuracy (80.4% / 70.2%)"
      ],
      "text/plain": [
       "<IPython.core.display.HTML object>"
      ]
     },
     "metadata": {},
     "output_type": "display_data"
    },
    {
     "name": "stdout",
     "output_type": "stream",
     "text": [
      "[==================================================]\n",
      "Adam - 256: (0, 0.01, 0.3)\n"
     ]
    },
    {
     "data": {
      "text/html": [
       "\n",
       "<style>\n",
       "    /* Turns off some styling */\n",
       "    progress {\n",
       "        /* gets rid of default border in Firefox and Opera. */\n",
       "        border: none;\n",
       "        /* Needs to be in here for Safari polyfill so background images work as expected. */\n",
       "        background-size: auto;\n",
       "    }\n",
       "    progress:not([value]), progress:not([value])::-webkit-progress-bar {\n",
       "        background: repeating-linear-gradient(45deg, #7e7e7e, #7e7e7e 10px, #5c5c5c 10px, #5c5c5c 20px);\n",
       "    }\n",
       "    .progress-bar-interrupted, .progress-bar-interrupted::-webkit-progress-bar {\n",
       "        background: #F44336;\n",
       "    }\n",
       "</style>\n"
      ],
      "text/plain": [
       "<IPython.core.display.HTML object>"
      ]
     },
     "metadata": {},
     "output_type": "display_data"
    },
    {
     "data": {
      "text/html": [
       "[Epoch: 00] Loss (1.193 / 2.211) - Accuracy (60.2% / 22.4%)<p>[Epoch: 01] Loss (1.090 / 2.028) - Accuracy (64.4% / 32.6%)<p>[Epoch: 02] Loss (0.822 / 2.150) - Accuracy (71.9% / 16.6%)<p>[Epoch: 03] Loss (0.750 / 1.147) - Accuracy (74.3% / 67.0%)<p>[Epoch: 04] Loss (0.718 / 0.731) - Accuracy (75.5% / 74.8%)"
      ],
      "text/plain": [
       "<IPython.core.display.HTML object>"
      ]
     },
     "metadata": {},
     "output_type": "display_data"
    },
    {
     "name": "stdout",
     "output_type": "stream",
     "text": [
      "[==================================================]\n",
      "Adam - 256: (0.001, 0, 0.0)\n"
     ]
    },
    {
     "data": {
      "text/html": [
       "\n",
       "<style>\n",
       "    /* Turns off some styling */\n",
       "    progress {\n",
       "        /* gets rid of default border in Firefox and Opera. */\n",
       "        border: none;\n",
       "        /* Needs to be in here for Safari polyfill so background images work as expected. */\n",
       "        background-size: auto;\n",
       "    }\n",
       "    progress:not([value]), progress:not([value])::-webkit-progress-bar {\n",
       "        background: repeating-linear-gradient(45deg, #7e7e7e, #7e7e7e 10px, #5c5c5c 10px, #5c5c5c 20px);\n",
       "    }\n",
       "    .progress-bar-interrupted, .progress-bar-interrupted::-webkit-progress-bar {\n",
       "        background: #F44336;\n",
       "    }\n",
       "</style>\n"
      ],
      "text/plain": [
       "<IPython.core.display.HTML object>"
      ]
     },
     "metadata": {},
     "output_type": "display_data"
    },
    {
     "data": {
      "text/html": [
       "[Epoch: 00] Loss (0.695 / 1.739) - Accuracy (76.1% / 47.6%)<p>[Epoch: 01] Loss (0.444 / 1.592) - Accuracy (83.4% / 43.0%)<p>[Epoch: 02] Loss (0.395 / 0.795) - Accuracy (85.3% / 74.6%)<p>[Epoch: 03] Loss (0.381 / 0.568) - Accuracy (86.1% / 79.2%)<p>[Epoch: 04] Loss (0.371 / 0.754) - Accuracy (86.3% / 75.2%)"
      ],
      "text/plain": [
       "<IPython.core.display.HTML object>"
      ]
     },
     "metadata": {},
     "output_type": "display_data"
    },
    {
     "name": "stdout",
     "output_type": "stream",
     "text": [
      "[==================================================]\n",
      "Adam - 256: (0.001, 0, 0.3)\n"
     ]
    },
    {
     "data": {
      "text/html": [
       "\n",
       "<style>\n",
       "    /* Turns off some styling */\n",
       "    progress {\n",
       "        /* gets rid of default border in Firefox and Opera. */\n",
       "        border: none;\n",
       "        /* Needs to be in here for Safari polyfill so background images work as expected. */\n",
       "        background-size: auto;\n",
       "    }\n",
       "    progress:not([value]), progress:not([value])::-webkit-progress-bar {\n",
       "        background: repeating-linear-gradient(45deg, #7e7e7e, #7e7e7e 10px, #5c5c5c 10px, #5c5c5c 20px);\n",
       "    }\n",
       "    .progress-bar-interrupted, .progress-bar-interrupted::-webkit-progress-bar {\n",
       "        background: #F44336;\n",
       "    }\n",
       "</style>\n"
      ],
      "text/plain": [
       "<IPython.core.display.HTML object>"
      ]
     },
     "metadata": {},
     "output_type": "display_data"
    },
    {
     "data": {
      "text/html": [
       "[Epoch: 00] Loss (0.694 / 2.118) - Accuracy (74.8% / 20.6%)<p>[Epoch: 01] Loss (0.451 / 1.918) - Accuracy (83.3% / 36.0%)<p>[Epoch: 02] Loss (0.425 / 0.732) - Accuracy (84.3% / 75.4%)<p>[Epoch: 03] Loss (0.419 / 0.724) - Accuracy (84.7% / 72.6%)<p>[Epoch: 04] Loss (0.405 / 0.588) - Accuracy (85.4% / 78.2%)"
      ],
      "text/plain": [
       "<IPython.core.display.HTML object>"
      ]
     },
     "metadata": {},
     "output_type": "display_data"
    },
    {
     "name": "stdout",
     "output_type": "stream",
     "text": [
      "[==================================================]\n",
      "Adam - 256: (0.001, 0.001, 0.0)\n"
     ]
    },
    {
     "data": {
      "text/html": [
       "\n",
       "<style>\n",
       "    /* Turns off some styling */\n",
       "    progress {\n",
       "        /* gets rid of default border in Firefox and Opera. */\n",
       "        border: none;\n",
       "        /* Needs to be in here for Safari polyfill so background images work as expected. */\n",
       "        background-size: auto;\n",
       "    }\n",
       "    progress:not([value]), progress:not([value])::-webkit-progress-bar {\n",
       "        background: repeating-linear-gradient(45deg, #7e7e7e, #7e7e7e 10px, #5c5c5c 10px, #5c5c5c 20px);\n",
       "    }\n",
       "    .progress-bar-interrupted, .progress-bar-interrupted::-webkit-progress-bar {\n",
       "        background: #F44336;\n",
       "    }\n",
       "</style>\n"
      ],
      "text/plain": [
       "<IPython.core.display.HTML object>"
      ]
     },
     "metadata": {},
     "output_type": "display_data"
    },
    {
     "data": {
      "text/html": [
       "[Epoch: 00] Loss (0.817 / 2.893) - Accuracy (70.4% / 16.2%)<p>[Epoch: 01] Loss (0.644 / 1.829) - Accuracy (76.4% / 35.6%)<p>[Epoch: 02] Loss (0.473 / 0.793) - Accuracy (82.8% / 75.4%)<p>[Epoch: 03] Loss (0.417 / 0.603) - Accuracy (85.2% / 80.4%)<p>[Epoch: 04] Loss (0.393 / 0.724) - Accuracy (85.9% / 73.2%)"
      ],
      "text/plain": [
       "<IPython.core.display.HTML object>"
      ]
     },
     "metadata": {},
     "output_type": "display_data"
    },
    {
     "name": "stdout",
     "output_type": "stream",
     "text": [
      "[==================================================]\n",
      "Adam - 256: (0.001, 0.001, 0.3)\n"
     ]
    },
    {
     "data": {
      "text/html": [
       "\n",
       "<style>\n",
       "    /* Turns off some styling */\n",
       "    progress {\n",
       "        /* gets rid of default border in Firefox and Opera. */\n",
       "        border: none;\n",
       "        /* Needs to be in here for Safari polyfill so background images work as expected. */\n",
       "        background-size: auto;\n",
       "    }\n",
       "    progress:not([value]), progress:not([value])::-webkit-progress-bar {\n",
       "        background: repeating-linear-gradient(45deg, #7e7e7e, #7e7e7e 10px, #5c5c5c 10px, #5c5c5c 20px);\n",
       "    }\n",
       "    .progress-bar-interrupted, .progress-bar-interrupted::-webkit-progress-bar {\n",
       "        background: #F44336;\n",
       "    }\n",
       "</style>\n"
      ],
      "text/plain": [
       "<IPython.core.display.HTML object>"
      ]
     },
     "metadata": {},
     "output_type": "display_data"
    },
    {
     "data": {
      "text/html": [
       "[Epoch: 00] Loss (0.825 / 1.916) - Accuracy (70.3% / 29.0%)<p>[Epoch: 01] Loss (0.659 / 1.212) - Accuracy (75.9% / 67.2%)<p>[Epoch: 02] Loss (0.541 / 0.963) - Accuracy (80.5% / 72.2%)<p>[Epoch: 03] Loss (0.487 / 0.864) - Accuracy (82.3% / 72.8%)<p>[Epoch: 04] Loss (0.460 / 0.724) - Accuracy (83.5% / 78.2%)"
      ],
      "text/plain": [
       "<IPython.core.display.HTML object>"
      ]
     },
     "metadata": {},
     "output_type": "display_data"
    },
    {
     "name": "stdout",
     "output_type": "stream",
     "text": [
      "[==================================================]\n",
      "Adam - 256: (0.001, 0.01, 0.0)\n"
     ]
    },
    {
     "data": {
      "text/html": [
       "\n",
       "<style>\n",
       "    /* Turns off some styling */\n",
       "    progress {\n",
       "        /* gets rid of default border in Firefox and Opera. */\n",
       "        border: none;\n",
       "        /* Needs to be in here for Safari polyfill so background images work as expected. */\n",
       "        background-size: auto;\n",
       "    }\n",
       "    progress:not([value]), progress:not([value])::-webkit-progress-bar {\n",
       "        background: repeating-linear-gradient(45deg, #7e7e7e, #7e7e7e 10px, #5c5c5c 10px, #5c5c5c 20px);\n",
       "    }\n",
       "    .progress-bar-interrupted, .progress-bar-interrupted::-webkit-progress-bar {\n",
       "        background: #F44336;\n",
       "    }\n",
       "</style>\n"
      ],
      "text/plain": [
       "<IPython.core.display.HTML object>"
      ]
     },
     "metadata": {},
     "output_type": "display_data"
    },
    {
     "data": {
      "text/html": [
       "[Epoch: 00] Loss (1.108 / 2.507) - Accuracy (63.9% / 10.2%)<p>[Epoch: 01] Loss (1.155 / 2.279) - Accuracy (62.2% / 17.8%)<p>[Epoch: 02] Loss (0.786 / 2.433) - Accuracy (73.1% / 10.0%)<p>[Epoch: 03] Loss (0.639 / 1.163) - Accuracy (78.2% / 60.0%)<p>[Epoch: 04] Loss (0.632 / 1.833) - Accuracy (78.5% / 39.8%)"
      ],
      "text/plain": [
       "<IPython.core.display.HTML object>"
      ]
     },
     "metadata": {},
     "output_type": "display_data"
    },
    {
     "name": "stdout",
     "output_type": "stream",
     "text": [
      "[==================================================]\n",
      "Adam - 256: (0.001, 0.01, 0.3)\n"
     ]
    },
    {
     "data": {
      "text/html": [
       "\n",
       "<style>\n",
       "    /* Turns off some styling */\n",
       "    progress {\n",
       "        /* gets rid of default border in Firefox and Opera. */\n",
       "        border: none;\n",
       "        /* Needs to be in here for Safari polyfill so background images work as expected. */\n",
       "        background-size: auto;\n",
       "    }\n",
       "    progress:not([value]), progress:not([value])::-webkit-progress-bar {\n",
       "        background: repeating-linear-gradient(45deg, #7e7e7e, #7e7e7e 10px, #5c5c5c 10px, #5c5c5c 20px);\n",
       "    }\n",
       "    .progress-bar-interrupted, .progress-bar-interrupted::-webkit-progress-bar {\n",
       "        background: #F44336;\n",
       "    }\n",
       "</style>\n"
      ],
      "text/plain": [
       "<IPython.core.display.HTML object>"
      ]
     },
     "metadata": {},
     "output_type": "display_data"
    },
    {
     "data": {
      "text/html": [
       "[Epoch: 00] Loss (1.138 / 2.299) - Accuracy (61.9% / 10.0%)<p>[Epoch: 01] Loss (1.121 / 2.188) - Accuracy (62.9% / 21.4%)<p>[Epoch: 02] Loss (0.813 / 1.924) - Accuracy (72.9% / 46.2%)<p>[Epoch: 03] Loss (0.720 / 1.641) - Accuracy (76.1% / 50.2%)<p>[Epoch: 04] Loss (0.707 / 0.883) - Accuracy (76.1% / 71.6%)"
      ],
      "text/plain": [
       "<IPython.core.display.HTML object>"
      ]
     },
     "metadata": {},
     "output_type": "display_data"
    },
    {
     "name": "stdout",
     "output_type": "stream",
     "text": [
      "[==================================================]\n",
      "Adam - 256: (0.01, 0, 0.0)\n"
     ]
    },
    {
     "data": {
      "text/html": [
       "\n",
       "<style>\n",
       "    /* Turns off some styling */\n",
       "    progress {\n",
       "        /* gets rid of default border in Firefox and Opera. */\n",
       "        border: none;\n",
       "        /* Needs to be in here for Safari polyfill so background images work as expected. */\n",
       "        background-size: auto;\n",
       "    }\n",
       "    progress:not([value]), progress:not([value])::-webkit-progress-bar {\n",
       "        background: repeating-linear-gradient(45deg, #7e7e7e, #7e7e7e 10px, #5c5c5c 10px, #5c5c5c 20px);\n",
       "    }\n",
       "    .progress-bar-interrupted, .progress-bar-interrupted::-webkit-progress-bar {\n",
       "        background: #F44336;\n",
       "    }\n",
       "</style>\n"
      ],
      "text/plain": [
       "<IPython.core.display.HTML object>"
      ]
     },
     "metadata": {},
     "output_type": "display_data"
    },
    {
     "data": {
      "text/html": [
       "[Epoch: 00] Loss (0.797 / 2.746) - Accuracy (73.1% / 10.0%)<p>[Epoch: 01] Loss (0.633 / 2.404) - Accuracy (78.8% / 15.4%)<p>[Epoch: 02] Loss (0.624 / 2.347) - Accuracy (79.0% / 10.0%)<p>[Epoch: 03] Loss (0.582 / 1.837) - Accuracy (81.1% / 26.2%)<p>[Epoch: 04] Loss (0.531 / 1.362) - Accuracy (82.9% / 62.0%)"
      ],
      "text/plain": [
       "<IPython.core.display.HTML object>"
      ]
     },
     "metadata": {},
     "output_type": "display_data"
    },
    {
     "name": "stdout",
     "output_type": "stream",
     "text": [
      "[==================================================]\n",
      "Adam - 256: (0.01, 0, 0.3)\n"
     ]
    },
    {
     "data": {
      "text/html": [
       "\n",
       "<style>\n",
       "    /* Turns off some styling */\n",
       "    progress {\n",
       "        /* gets rid of default border in Firefox and Opera. */\n",
       "        border: none;\n",
       "        /* Needs to be in here for Safari polyfill so background images work as expected. */\n",
       "        background-size: auto;\n",
       "    }\n",
       "    progress:not([value]), progress:not([value])::-webkit-progress-bar {\n",
       "        background: repeating-linear-gradient(45deg, #7e7e7e, #7e7e7e 10px, #5c5c5c 10px, #5c5c5c 20px);\n",
       "    }\n",
       "    .progress-bar-interrupted, .progress-bar-interrupted::-webkit-progress-bar {\n",
       "        background: #F44336;\n",
       "    }\n",
       "</style>\n"
      ],
      "text/plain": [
       "<IPython.core.display.HTML object>"
      ]
     },
     "metadata": {},
     "output_type": "display_data"
    },
    {
     "data": {
      "text/html": [
       "[Epoch: 00] Loss (0.808 / 2.610) - Accuracy (73.5% / 10.0%)<p>[Epoch: 01] Loss (0.651 / 1.877) - Accuracy (77.9% / 22.2%)<p>[Epoch: 02] Loss (0.643 / 2.184) - Accuracy (78.5% / 28.2%)<p>[Epoch: 03] Loss (0.626 / 1.896) - Accuracy (79.7% / 29.6%)<p>[Epoch: 04] Loss (0.584 / 0.726) - Accuracy (80.9% / 75.6%)"
      ],
      "text/plain": [
       "<IPython.core.display.HTML object>"
      ]
     },
     "metadata": {},
     "output_type": "display_data"
    },
    {
     "name": "stdout",
     "output_type": "stream",
     "text": [
      "[==================================================]\n",
      "Adam - 256: (0.01, 0.001, 0.0)\n"
     ]
    },
    {
     "data": {
      "text/html": [
       "\n",
       "<style>\n",
       "    /* Turns off some styling */\n",
       "    progress {\n",
       "        /* gets rid of default border in Firefox and Opera. */\n",
       "        border: none;\n",
       "        /* Needs to be in here for Safari polyfill so background images work as expected. */\n",
       "        background-size: auto;\n",
       "    }\n",
       "    progress:not([value]), progress:not([value])::-webkit-progress-bar {\n",
       "        background: repeating-linear-gradient(45deg, #7e7e7e, #7e7e7e 10px, #5c5c5c 10px, #5c5c5c 20px);\n",
       "    }\n",
       "    .progress-bar-interrupted, .progress-bar-interrupted::-webkit-progress-bar {\n",
       "        background: #F44336;\n",
       "    }\n",
       "</style>\n"
      ],
      "text/plain": [
       "<IPython.core.display.HTML object>"
      ]
     },
     "metadata": {},
     "output_type": "display_data"
    },
    {
     "data": {
      "text/html": [
       "[Epoch: 00] Loss (0.914 / 2.215) - Accuracy (69.2% / 18.4%)<p>[Epoch: 01] Loss (0.861 / 2.429) - Accuracy (71.0% / 10.0%)<p>[Epoch: 02] Loss (0.760 / 2.274) - Accuracy (73.9% / 10.4%)<p>[Epoch: 03] Loss (0.606 / 2.017) - Accuracy (79.5% / 31.0%)<p>[Epoch: 04] Loss (0.565 / 0.625) - Accuracy (81.2% / 77.8%)"
      ],
      "text/plain": [
       "<IPython.core.display.HTML object>"
      ]
     },
     "metadata": {},
     "output_type": "display_data"
    },
    {
     "name": "stdout",
     "output_type": "stream",
     "text": [
      "[==================================================]\n",
      "Adam - 256: (0.01, 0.001, 0.3)\n"
     ]
    },
    {
     "data": {
      "text/html": [
       "\n",
       "<style>\n",
       "    /* Turns off some styling */\n",
       "    progress {\n",
       "        /* gets rid of default border in Firefox and Opera. */\n",
       "        border: none;\n",
       "        /* Needs to be in here for Safari polyfill so background images work as expected. */\n",
       "        background-size: auto;\n",
       "    }\n",
       "    progress:not([value]), progress:not([value])::-webkit-progress-bar {\n",
       "        background: repeating-linear-gradient(45deg, #7e7e7e, #7e7e7e 10px, #5c5c5c 10px, #5c5c5c 20px);\n",
       "    }\n",
       "    .progress-bar-interrupted, .progress-bar-interrupted::-webkit-progress-bar {\n",
       "        background: #F44336;\n",
       "    }\n",
       "</style>\n"
      ],
      "text/plain": [
       "<IPython.core.display.HTML object>"
      ]
     },
     "metadata": {},
     "output_type": "display_data"
    },
    {
     "data": {
      "text/html": [
       "[Epoch: 00] Loss (0.899 / 1.979) - Accuracy (68.8% / 27.2%)<p>[Epoch: 01] Loss (0.844 / 2.364) - Accuracy (71.1% / 13.0%)<p>[Epoch: 02] Loss (0.811 / 2.177) - Accuracy (72.0% / 10.4%)<p>[Epoch: 03] Loss (0.689 / 2.294) - Accuracy (76.4% / 16.2%)<p>[Epoch: 04] Loss (0.658 / 1.659) - Accuracy (77.4% / 40.6%)"
      ],
      "text/plain": [
       "<IPython.core.display.HTML object>"
      ]
     },
     "metadata": {},
     "output_type": "display_data"
    },
    {
     "name": "stdout",
     "output_type": "stream",
     "text": [
      "[==================================================]\n",
      "Adam - 256: (0.01, 0.01, 0.0)\n"
     ]
    },
    {
     "data": {
      "text/html": [
       "\n",
       "<style>\n",
       "    /* Turns off some styling */\n",
       "    progress {\n",
       "        /* gets rid of default border in Firefox and Opera. */\n",
       "        border: none;\n",
       "        /* Needs to be in here for Safari polyfill so background images work as expected. */\n",
       "        background-size: auto;\n",
       "    }\n",
       "    progress:not([value]), progress:not([value])::-webkit-progress-bar {\n",
       "        background: repeating-linear-gradient(45deg, #7e7e7e, #7e7e7e 10px, #5c5c5c 10px, #5c5c5c 20px);\n",
       "    }\n",
       "    .progress-bar-interrupted, .progress-bar-interrupted::-webkit-progress-bar {\n",
       "        background: #F44336;\n",
       "    }\n",
       "</style>\n"
      ],
      "text/plain": [
       "<IPython.core.display.HTML object>"
      ]
     },
     "metadata": {},
     "output_type": "display_data"
    },
    {
     "data": {
      "text/html": [
       "[Epoch: 00] Loss (1.210 / 2.170) - Accuracy (62.7% / 10.4%)<p>[Epoch: 01] Loss (1.237 / 2.294) - Accuracy (62.3% / 10.4%)<p>[Epoch: 02] Loss (0.968 / 2.132) - Accuracy (70.5% / 20.6%)<p>[Epoch: 03] Loss (0.763 / 1.226) - Accuracy (77.1% / 61.6%)<p>[Epoch: 04] Loss (0.727 / 1.151) - Accuracy (78.0% / 62.0%)"
      ],
      "text/plain": [
       "<IPython.core.display.HTML object>"
      ]
     },
     "metadata": {},
     "output_type": "display_data"
    },
    {
     "name": "stdout",
     "output_type": "stream",
     "text": [
      "[==================================================]\n",
      "Adam - 256: (0.01, 0.01, 0.3)\n"
     ]
    },
    {
     "data": {
      "text/html": [
       "\n",
       "<style>\n",
       "    /* Turns off some styling */\n",
       "    progress {\n",
       "        /* gets rid of default border in Firefox and Opera. */\n",
       "        border: none;\n",
       "        /* Needs to be in here for Safari polyfill so background images work as expected. */\n",
       "        background-size: auto;\n",
       "    }\n",
       "    progress:not([value]), progress:not([value])::-webkit-progress-bar {\n",
       "        background: repeating-linear-gradient(45deg, #7e7e7e, #7e7e7e 10px, #5c5c5c 10px, #5c5c5c 20px);\n",
       "    }\n",
       "    .progress-bar-interrupted, .progress-bar-interrupted::-webkit-progress-bar {\n",
       "        background: #F44336;\n",
       "    }\n",
       "</style>\n"
      ],
      "text/plain": [
       "<IPython.core.display.HTML object>"
      ]
     },
     "metadata": {},
     "output_type": "display_data"
    },
    {
     "data": {
      "text/html": [
       "[Epoch: 00] Loss (1.193 / 2.295) - Accuracy (62.4% / 16.8%)<p>[Epoch: 01] Loss (1.220 / 2.295) - Accuracy (62.6% / 10.0%)<p>[Epoch: 02] Loss (1.060 / 2.141) - Accuracy (67.5% / 17.0%)<p>[Epoch: 03] Loss (0.881 / 1.775) - Accuracy (73.0% / 38.2%)<p>[Epoch: 04] Loss (0.838 / 0.964) - Accuracy (73.8% / 69.0%)"
      ],
      "text/plain": [
       "<IPython.core.display.HTML object>"
      ]
     },
     "metadata": {},
     "output_type": "display_data"
    },
    {
     "name": "stdout",
     "output_type": "stream",
     "text": [
      "[==================================================]\n",
      "SGD - 32: (0, 0, 0.0)\n"
     ]
    },
    {
     "data": {
      "text/html": [
       "\n",
       "<style>\n",
       "    /* Turns off some styling */\n",
       "    progress {\n",
       "        /* gets rid of default border in Firefox and Opera. */\n",
       "        border: none;\n",
       "        /* Needs to be in here for Safari polyfill so background images work as expected. */\n",
       "        background-size: auto;\n",
       "    }\n",
       "    progress:not([value]), progress:not([value])::-webkit-progress-bar {\n",
       "        background: repeating-linear-gradient(45deg, #7e7e7e, #7e7e7e 10px, #5c5c5c 10px, #5c5c5c 20px);\n",
       "    }\n",
       "    .progress-bar-interrupted, .progress-bar-interrupted::-webkit-progress-bar {\n",
       "        background: #F44336;\n",
       "    }\n",
       "</style>\n"
      ],
      "text/plain": [
       "<IPython.core.display.HTML object>"
      ]
     },
     "metadata": {},
     "output_type": "display_data"
    },
    {
     "data": {
      "text/html": [
       "[Epoch: 00] Loss (0.783 / 0.530) - Accuracy (77.5% / 83.2%)<p>[Epoch: 01] Loss (0.450 / 0.450) - Accuracy (86.1% / 86.0%)<p>[Epoch: 02] Loss (0.351 / 0.428) - Accuracy (88.8% / 85.4%)<p>[Epoch: 03] Loss (0.285 / 0.413) - Accuracy (91.3% / 86.4%)<p>[Epoch: 04] Loss (0.236 / 0.406) - Accuracy (92.6% / 87.2%)"
      ],
      "text/plain": [
       "<IPython.core.display.HTML object>"
      ]
     },
     "metadata": {},
     "output_type": "display_data"
    },
    {
     "name": "stdout",
     "output_type": "stream",
     "text": [
      "[==================================================]\n",
      "SGD - 32: (0, 0, 0.3)\n"
     ]
    },
    {
     "data": {
      "text/html": [
       "\n",
       "<style>\n",
       "    /* Turns off some styling */\n",
       "    progress {\n",
       "        /* gets rid of default border in Firefox and Opera. */\n",
       "        border: none;\n",
       "        /* Needs to be in here for Safari polyfill so background images work as expected. */\n",
       "        background-size: auto;\n",
       "    }\n",
       "    progress:not([value]), progress:not([value])::-webkit-progress-bar {\n",
       "        background: repeating-linear-gradient(45deg, #7e7e7e, #7e7e7e 10px, #5c5c5c 10px, #5c5c5c 20px);\n",
       "    }\n",
       "    .progress-bar-interrupted, .progress-bar-interrupted::-webkit-progress-bar {\n",
       "        background: #F44336;\n",
       "    }\n",
       "</style>\n"
      ],
      "text/plain": [
       "<IPython.core.display.HTML object>"
      ]
     },
     "metadata": {},
     "output_type": "display_data"
    },
    {
     "data": {
      "text/html": [
       "[Epoch: 00] Loss (0.874 / 0.589) - Accuracy (72.3% / 78.8%)<p>[Epoch: 01] Loss (0.572 / 0.505) - Accuracy (81.2% / 82.6%)<p>[Epoch: 02] Loss (0.490 / 0.448) - Accuracy (83.7% / 85.6%)<p>[Epoch: 03] Loss (0.428 / 0.415) - Accuracy (85.6% / 85.0%)<p>[Epoch: 04] Loss (0.387 / 0.397) - Accuracy (87.0% / 86.4%)"
      ],
      "text/plain": [
       "<IPython.core.display.HTML object>"
      ]
     },
     "metadata": {},
     "output_type": "display_data"
    },
    {
     "name": "stdout",
     "output_type": "stream",
     "text": [
      "[==================================================]\n",
      "SGD - 32: (0, 0.001, 0.0)\n"
     ]
    },
    {
     "data": {
      "text/html": [
       "\n",
       "<style>\n",
       "    /* Turns off some styling */\n",
       "    progress {\n",
       "        /* gets rid of default border in Firefox and Opera. */\n",
       "        border: none;\n",
       "        /* Needs to be in here for Safari polyfill so background images work as expected. */\n",
       "        background-size: auto;\n",
       "    }\n",
       "    progress:not([value]), progress:not([value])::-webkit-progress-bar {\n",
       "        background: repeating-linear-gradient(45deg, #7e7e7e, #7e7e7e 10px, #5c5c5c 10px, #5c5c5c 20px);\n",
       "    }\n",
       "    .progress-bar-interrupted, .progress-bar-interrupted::-webkit-progress-bar {\n",
       "        background: #F44336;\n",
       "    }\n",
       "</style>\n"
      ],
      "text/plain": [
       "<IPython.core.display.HTML object>"
      ]
     },
     "metadata": {},
     "output_type": "display_data"
    },
    {
     "data": {
      "text/html": [
       "[Epoch: 00] Loss (0.754 / 0.512) - Accuracy (77.4% / 83.8%)<p>[Epoch: 01] Loss (0.438 / 0.420) - Accuracy (86.6% / 86.0%)<p>[Epoch: 02] Loss (0.351 / 0.396) - Accuracy (89.1% / 85.8%)<p>[Epoch: 03] Loss (0.290 / 0.493) - Accuracy (90.7% / 82.8%)<p>[Epoch: 04] Loss (0.259 / 0.380) - Accuracy (91.9% / 87.0%)"
      ],
      "text/plain": [
       "<IPython.core.display.HTML object>"
      ]
     },
     "metadata": {},
     "output_type": "display_data"
    },
    {
     "name": "stdout",
     "output_type": "stream",
     "text": [
      "[==================================================]\n",
      "SGD - 32: (0, 0.001, 0.3)\n"
     ]
    },
    {
     "data": {
      "text/html": [
       "\n",
       "<style>\n",
       "    /* Turns off some styling */\n",
       "    progress {\n",
       "        /* gets rid of default border in Firefox and Opera. */\n",
       "        border: none;\n",
       "        /* Needs to be in here for Safari polyfill so background images work as expected. */\n",
       "        background-size: auto;\n",
       "    }\n",
       "    progress:not([value]), progress:not([value])::-webkit-progress-bar {\n",
       "        background: repeating-linear-gradient(45deg, #7e7e7e, #7e7e7e 10px, #5c5c5c 10px, #5c5c5c 20px);\n",
       "    }\n",
       "    .progress-bar-interrupted, .progress-bar-interrupted::-webkit-progress-bar {\n",
       "        background: #F44336;\n",
       "    }\n",
       "</style>\n"
      ],
      "text/plain": [
       "<IPython.core.display.HTML object>"
      ]
     },
     "metadata": {},
     "output_type": "display_data"
    },
    {
     "data": {
      "text/html": [
       "[Epoch: 00] Loss (0.887 / 0.569) - Accuracy (72.5% / 81.4%)<p>[Epoch: 01] Loss (0.556 / 0.454) - Accuracy (82.1% / 84.4%)<p>[Epoch: 02] Loss (0.464 / 0.420) - Accuracy (84.7% / 85.2%)<p>[Epoch: 03] Loss (0.402 / 0.394) - Accuracy (86.5% / 86.0%)<p>[Epoch: 04] Loss (0.373 / 0.384) - Accuracy (87.3% / 86.8%)"
      ],
      "text/plain": [
       "<IPython.core.display.HTML object>"
      ]
     },
     "metadata": {},
     "output_type": "display_data"
    },
    {
     "name": "stdout",
     "output_type": "stream",
     "text": [
      "[==================================================]\n",
      "SGD - 32: (0, 0.01, 0.0)\n"
     ]
    },
    {
     "data": {
      "text/html": [
       "\n",
       "<style>\n",
       "    /* Turns off some styling */\n",
       "    progress {\n",
       "        /* gets rid of default border in Firefox and Opera. */\n",
       "        border: none;\n",
       "        /* Needs to be in here for Safari polyfill so background images work as expected. */\n",
       "        background-size: auto;\n",
       "    }\n",
       "    progress:not([value]), progress:not([value])::-webkit-progress-bar {\n",
       "        background: repeating-linear-gradient(45deg, #7e7e7e, #7e7e7e 10px, #5c5c5c 10px, #5c5c5c 20px);\n",
       "    }\n",
       "    .progress-bar-interrupted, .progress-bar-interrupted::-webkit-progress-bar {\n",
       "        background: #F44336;\n",
       "    }\n",
       "</style>\n"
      ],
      "text/plain": [
       "<IPython.core.display.HTML object>"
      ]
     },
     "metadata": {},
     "output_type": "display_data"
    },
    {
     "data": {
      "text/html": [
       "[Epoch: 00] Loss (0.791 / 0.871) - Accuracy (76.6% / 74.4%)<p>[Epoch: 01] Loss (0.995 / 1.419) - Accuracy (66.9% / 55.2%)<p>[Epoch: 02] Loss (1.005 / 1.200) - Accuracy (67.2% / 60.4%)<p>[Epoch: 03] Loss (0.966 / 1.097) - Accuracy (68.7% / 64.2%)<p>[Epoch: 04] Loss (0.919 / 1.494) - Accuracy (70.6% / 51.0%)"
      ],
      "text/plain": [
       "<IPython.core.display.HTML object>"
      ]
     },
     "metadata": {},
     "output_type": "display_data"
    },
    {
     "name": "stdout",
     "output_type": "stream",
     "text": [
      "[==================================================]\n",
      "SGD - 32: (0, 0.01, 0.3)\n"
     ]
    },
    {
     "data": {
      "text/html": [
       "\n",
       "<style>\n",
       "    /* Turns off some styling */\n",
       "    progress {\n",
       "        /* gets rid of default border in Firefox and Opera. */\n",
       "        border: none;\n",
       "        /* Needs to be in here for Safari polyfill so background images work as expected. */\n",
       "        background-size: auto;\n",
       "    }\n",
       "    progress:not([value]), progress:not([value])::-webkit-progress-bar {\n",
       "        background: repeating-linear-gradient(45deg, #7e7e7e, #7e7e7e 10px, #5c5c5c 10px, #5c5c5c 20px);\n",
       "    }\n",
       "    .progress-bar-interrupted, .progress-bar-interrupted::-webkit-progress-bar {\n",
       "        background: #F44336;\n",
       "    }\n",
       "</style>\n"
      ],
      "text/plain": [
       "<IPython.core.display.HTML object>"
      ]
     },
     "metadata": {},
     "output_type": "display_data"
    },
    {
     "data": {
      "text/html": [
       "[Epoch: 00] Loss (0.922 / 0.881) - Accuracy (72.0% / 71.4%)<p>[Epoch: 01] Loss (0.997 / 1.299) - Accuracy (66.5% / 58.0%)<p>[Epoch: 02] Loss (1.057 / 7.060) - Accuracy (63.9% / 13.0%)<p>[Epoch: 03] Loss (1.045 / 1.275) - Accuracy (65.5% / 61.2%)<p>[Epoch: 04] Loss (0.981 / 1.525) - Accuracy (67.9% / 61.6%)"
      ],
      "text/plain": [
       "<IPython.core.display.HTML object>"
      ]
     },
     "metadata": {},
     "output_type": "display_data"
    },
    {
     "name": "stdout",
     "output_type": "stream",
     "text": [
      "[==================================================]\n",
      "SGD - 32: (0.001, 0, 0.0)\n"
     ]
    },
    {
     "data": {
      "text/html": [
       "\n",
       "<style>\n",
       "    /* Turns off some styling */\n",
       "    progress {\n",
       "        /* gets rid of default border in Firefox and Opera. */\n",
       "        border: none;\n",
       "        /* Needs to be in here for Safari polyfill so background images work as expected. */\n",
       "        background-size: auto;\n",
       "    }\n",
       "    progress:not([value]), progress:not([value])::-webkit-progress-bar {\n",
       "        background: repeating-linear-gradient(45deg, #7e7e7e, #7e7e7e 10px, #5c5c5c 10px, #5c5c5c 20px);\n",
       "    }\n",
       "    .progress-bar-interrupted, .progress-bar-interrupted::-webkit-progress-bar {\n",
       "        background: #F44336;\n",
       "    }\n",
       "</style>\n"
      ],
      "text/plain": [
       "<IPython.core.display.HTML object>"
      ]
     },
     "metadata": {},
     "output_type": "display_data"
    },
    {
     "data": {
      "text/html": [
       "[Epoch: 00] Loss (0.749 / 0.519) - Accuracy (77.2% / 82.8%)<p>[Epoch: 01] Loss (0.448 / 0.451) - Accuracy (86.3% / 84.8%)<p>[Epoch: 02] Loss (0.348 / 0.402) - Accuracy (89.1% / 86.0%)<p>[Epoch: 03] Loss (0.286 / 0.408) - Accuracy (91.0% / 85.0%)<p>[Epoch: 04] Loss (0.235 / 0.400) - Accuracy (93.0% / 84.6%)"
      ],
      "text/plain": [
       "<IPython.core.display.HTML object>"
      ]
     },
     "metadata": {},
     "output_type": "display_data"
    },
    {
     "name": "stdout",
     "output_type": "stream",
     "text": [
      "[==================================================]\n",
      "SGD - 32: (0.001, 0, 0.3)\n"
     ]
    },
    {
     "data": {
      "text/html": [
       "\n",
       "<style>\n",
       "    /* Turns off some styling */\n",
       "    progress {\n",
       "        /* gets rid of default border in Firefox and Opera. */\n",
       "        border: none;\n",
       "        /* Needs to be in here for Safari polyfill so background images work as expected. */\n",
       "        background-size: auto;\n",
       "    }\n",
       "    progress:not([value]), progress:not([value])::-webkit-progress-bar {\n",
       "        background: repeating-linear-gradient(45deg, #7e7e7e, #7e7e7e 10px, #5c5c5c 10px, #5c5c5c 20px);\n",
       "    }\n",
       "    .progress-bar-interrupted, .progress-bar-interrupted::-webkit-progress-bar {\n",
       "        background: #F44336;\n",
       "    }\n",
       "</style>\n"
      ],
      "text/plain": [
       "<IPython.core.display.HTML object>"
      ]
     },
     "metadata": {},
     "output_type": "display_data"
    },
    {
     "data": {
      "text/html": [
       "[Epoch: 00] Loss (0.944 / 0.584) - Accuracy (71.3% / 80.4%)<p>[Epoch: 01] Loss (0.577 / 0.479) - Accuracy (81.8% / 84.4%)<p>[Epoch: 02] Loss (0.481 / 0.429) - Accuracy (84.5% / 84.2%)<p>[Epoch: 03] Loss (0.422 / 0.387) - Accuracy (86.1% / 85.8%)<p>[Epoch: 04] Loss (0.376 / 0.369) - Accuracy (87.2% / 86.6%)"
      ],
      "text/plain": [
       "<IPython.core.display.HTML object>"
      ]
     },
     "metadata": {},
     "output_type": "display_data"
    },
    {
     "name": "stdout",
     "output_type": "stream",
     "text": [
      "[==================================================]\n",
      "SGD - 32: (0.001, 0.001, 0.0)\n"
     ]
    },
    {
     "data": {
      "text/html": [
       "\n",
       "<style>\n",
       "    /* Turns off some styling */\n",
       "    progress {\n",
       "        /* gets rid of default border in Firefox and Opera. */\n",
       "        border: none;\n",
       "        /* Needs to be in here for Safari polyfill so background images work as expected. */\n",
       "        background-size: auto;\n",
       "    }\n",
       "    progress:not([value]), progress:not([value])::-webkit-progress-bar {\n",
       "        background: repeating-linear-gradient(45deg, #7e7e7e, #7e7e7e 10px, #5c5c5c 10px, #5c5c5c 20px);\n",
       "    }\n",
       "    .progress-bar-interrupted, .progress-bar-interrupted::-webkit-progress-bar {\n",
       "        background: #F44336;\n",
       "    }\n",
       "</style>\n"
      ],
      "text/plain": [
       "<IPython.core.display.HTML object>"
      ]
     },
     "metadata": {},
     "output_type": "display_data"
    },
    {
     "data": {
      "text/html": [
       "[Epoch: 00] Loss (0.746 / 0.530) - Accuracy (77.6% / 82.6%)<p>[Epoch: 01] Loss (0.443 / 0.443) - Accuracy (86.8% / 84.4%)<p>[Epoch: 02] Loss (0.356 / 0.433) - Accuracy (89.1% / 85.0%)<p>[Epoch: 03] Loss (0.300 / 0.399) - Accuracy (90.5% / 86.4%)<p>[Epoch: 04] Loss (0.276 / 0.389) - Accuracy (91.2% / 88.0%)"
      ],
      "text/plain": [
       "<IPython.core.display.HTML object>"
      ]
     },
     "metadata": {},
     "output_type": "display_data"
    },
    {
     "name": "stdout",
     "output_type": "stream",
     "text": [
      "[==================================================]\n",
      "SGD - 32: (0.001, 0.001, 0.3)\n"
     ]
    },
    {
     "data": {
      "text/html": [
       "\n",
       "<style>\n",
       "    /* Turns off some styling */\n",
       "    progress {\n",
       "        /* gets rid of default border in Firefox and Opera. */\n",
       "        border: none;\n",
       "        /* Needs to be in here for Safari polyfill so background images work as expected. */\n",
       "        background-size: auto;\n",
       "    }\n",
       "    progress:not([value]), progress:not([value])::-webkit-progress-bar {\n",
       "        background: repeating-linear-gradient(45deg, #7e7e7e, #7e7e7e 10px, #5c5c5c 10px, #5c5c5c 20px);\n",
       "    }\n",
       "    .progress-bar-interrupted, .progress-bar-interrupted::-webkit-progress-bar {\n",
       "        background: #F44336;\n",
       "    }\n",
       "</style>\n"
      ],
      "text/plain": [
       "<IPython.core.display.HTML object>"
      ]
     },
     "metadata": {},
     "output_type": "display_data"
    },
    {
     "data": {
      "text/html": [
       "[Epoch: 00] Loss (0.903 / 0.584) - Accuracy (71.2% / 80.2%)<p>[Epoch: 01] Loss (0.580 / 0.489) - Accuracy (81.2% / 84.4%)<p>[Epoch: 02] Loss (0.474 / 0.454) - Accuracy (84.5% / 83.6%)<p>[Epoch: 03] Loss (0.414 / 0.431) - Accuracy (86.3% / 85.2%)<p>[Epoch: 04] Loss (0.380 / 0.395) - Accuracy (87.4% / 87.8%)"
      ],
      "text/plain": [
       "<IPython.core.display.HTML object>"
      ]
     },
     "metadata": {},
     "output_type": "display_data"
    },
    {
     "name": "stdout",
     "output_type": "stream",
     "text": [
      "[==================================================]\n",
      "SGD - 32: (0.001, 0.01, 0.0)\n"
     ]
    },
    {
     "data": {
      "text/html": [
       "\n",
       "<style>\n",
       "    /* Turns off some styling */\n",
       "    progress {\n",
       "        /* gets rid of default border in Firefox and Opera. */\n",
       "        border: none;\n",
       "        /* Needs to be in here for Safari polyfill so background images work as expected. */\n",
       "        background-size: auto;\n",
       "    }\n",
       "    progress:not([value]), progress:not([value])::-webkit-progress-bar {\n",
       "        background: repeating-linear-gradient(45deg, #7e7e7e, #7e7e7e 10px, #5c5c5c 10px, #5c5c5c 20px);\n",
       "    }\n",
       "    .progress-bar-interrupted, .progress-bar-interrupted::-webkit-progress-bar {\n",
       "        background: #F44336;\n",
       "    }\n",
       "</style>\n"
      ],
      "text/plain": [
       "<IPython.core.display.HTML object>"
      ]
     },
     "metadata": {},
     "output_type": "display_data"
    },
    {
     "data": {
      "text/html": [
       "[Epoch: 00] Loss (0.787 / 0.972) - Accuracy (77.3% / 73.6%)<p>[Epoch: 01] Loss (0.997 / 1.523) - Accuracy (66.7% / 48.4%)<p>[Epoch: 02] Loss (1.022 / 6.683) - Accuracy (66.1% / 19.2%)<p>[Epoch: 03] Loss (0.984 / 6.898) - Accuracy (68.0% / 14.0%)<p>[Epoch: 04] Loss (0.921 / 0.946) - Accuracy (70.3% / 69.8%)"
      ],
      "text/plain": [
       "<IPython.core.display.HTML object>"
      ]
     },
     "metadata": {},
     "output_type": "display_data"
    },
    {
     "name": "stdout",
     "output_type": "stream",
     "text": [
      "[==================================================]\n",
      "SGD - 32: (0.001, 0.01, 0.3)\n"
     ]
    },
    {
     "data": {
      "text/html": [
       "\n",
       "<style>\n",
       "    /* Turns off some styling */\n",
       "    progress {\n",
       "        /* gets rid of default border in Firefox and Opera. */\n",
       "        border: none;\n",
       "        /* Needs to be in here for Safari polyfill so background images work as expected. */\n",
       "        background-size: auto;\n",
       "    }\n",
       "    progress:not([value]), progress:not([value])::-webkit-progress-bar {\n",
       "        background: repeating-linear-gradient(45deg, #7e7e7e, #7e7e7e 10px, #5c5c5c 10px, #5c5c5c 20px);\n",
       "    }\n",
       "    .progress-bar-interrupted, .progress-bar-interrupted::-webkit-progress-bar {\n",
       "        background: #F44336;\n",
       "    }\n",
       "</style>\n"
      ],
      "text/plain": [
       "<IPython.core.display.HTML object>"
      ]
     },
     "metadata": {},
     "output_type": "display_data"
    },
    {
     "data": {
      "text/html": [
       "[Epoch: 00] Loss (0.889 / 0.882) - Accuracy (73.1% / 75.2%)<p>[Epoch: 01] Loss (0.980 / 1.445) - Accuracy (66.9% / 46.4%)<p>[Epoch: 02] Loss (1.072 / 1.895) - Accuracy (63.6% / 24.8%)<p>[Epoch: 03] Loss (1.042 / 1.948) - Accuracy (65.6% / 33.0%)<p>[Epoch: 04] Loss (0.980 / 1.047) - Accuracy (68.6% / 62.4%)"
      ],
      "text/plain": [
       "<IPython.core.display.HTML object>"
      ]
     },
     "metadata": {},
     "output_type": "display_data"
    },
    {
     "name": "stdout",
     "output_type": "stream",
     "text": [
      "[==================================================]\n",
      "SGD - 32: (0.01, 0, 0.0)\n"
     ]
    },
    {
     "data": {
      "text/html": [
       "\n",
       "<style>\n",
       "    /* Turns off some styling */\n",
       "    progress {\n",
       "        /* gets rid of default border in Firefox and Opera. */\n",
       "        border: none;\n",
       "        /* Needs to be in here for Safari polyfill so background images work as expected. */\n",
       "        background-size: auto;\n",
       "    }\n",
       "    progress:not([value]), progress:not([value])::-webkit-progress-bar {\n",
       "        background: repeating-linear-gradient(45deg, #7e7e7e, #7e7e7e 10px, #5c5c5c 10px, #5c5c5c 20px);\n",
       "    }\n",
       "    .progress-bar-interrupted, .progress-bar-interrupted::-webkit-progress-bar {\n",
       "        background: #F44336;\n",
       "    }\n",
       "</style>\n"
      ],
      "text/plain": [
       "<IPython.core.display.HTML object>"
      ]
     },
     "metadata": {},
     "output_type": "display_data"
    },
    {
     "data": {
      "text/html": [
       "[Epoch: 00] Loss (0.754 / 0.587) - Accuracy (77.2% / 82.6%)<p>[Epoch: 01] Loss (0.490 / 0.505) - Accuracy (86.6% / 85.0%)<p>[Epoch: 02] Loss (0.407 / 0.444) - Accuracy (88.9% / 86.0%)<p>[Epoch: 03] Loss (0.357 / 0.431) - Accuracy (90.7% / 86.6%)<p>[Epoch: 04] Loss (0.316 / 0.425) - Accuracy (92.2% / 85.2%)"
      ],
      "text/plain": [
       "<IPython.core.display.HTML object>"
      ]
     },
     "metadata": {},
     "output_type": "display_data"
    },
    {
     "name": "stdout",
     "output_type": "stream",
     "text": [
      "[==================================================]\n",
      "SGD - 32: (0.01, 0, 0.3)\n"
     ]
    },
    {
     "data": {
      "text/html": [
       "\n",
       "<style>\n",
       "    /* Turns off some styling */\n",
       "    progress {\n",
       "        /* gets rid of default border in Firefox and Opera. */\n",
       "        border: none;\n",
       "        /* Needs to be in here for Safari polyfill so background images work as expected. */\n",
       "        background-size: auto;\n",
       "    }\n",
       "    progress:not([value]), progress:not([value])::-webkit-progress-bar {\n",
       "        background: repeating-linear-gradient(45deg, #7e7e7e, #7e7e7e 10px, #5c5c5c 10px, #5c5c5c 20px);\n",
       "    }\n",
       "    .progress-bar-interrupted, .progress-bar-interrupted::-webkit-progress-bar {\n",
       "        background: #F44336;\n",
       "    }\n",
       "</style>\n"
      ],
      "text/plain": [
       "<IPython.core.display.HTML object>"
      ]
     },
     "metadata": {},
     "output_type": "display_data"
    },
    {
     "data": {
      "text/html": [
       "[Epoch: 00] Loss (0.909 / 0.604) - Accuracy (72.1% / 80.6%)<p>[Epoch: 01] Loss (0.609 / 0.515) - Accuracy (81.6% / 83.2%)<p>[Epoch: 02] Loss (0.526 / 0.474) - Accuracy (84.2% / 84.4%)<p>[Epoch: 03] Loss (0.475 / 0.439) - Accuracy (86.0% / 86.0%)<p>[Epoch: 04] Loss (0.434 / 0.419) - Accuracy (87.2% / 86.0%)"
      ],
      "text/plain": [
       "<IPython.core.display.HTML object>"
      ]
     },
     "metadata": {},
     "output_type": "display_data"
    },
    {
     "name": "stdout",
     "output_type": "stream",
     "text": [
      "[==================================================]\n",
      "SGD - 32: (0.01, 0.001, 0.0)\n"
     ]
    },
    {
     "data": {
      "text/html": [
       "\n",
       "<style>\n",
       "    /* Turns off some styling */\n",
       "    progress {\n",
       "        /* gets rid of default border in Firefox and Opera. */\n",
       "        border: none;\n",
       "        /* Needs to be in here for Safari polyfill so background images work as expected. */\n",
       "        background-size: auto;\n",
       "    }\n",
       "    progress:not([value]), progress:not([value])::-webkit-progress-bar {\n",
       "        background: repeating-linear-gradient(45deg, #7e7e7e, #7e7e7e 10px, #5c5c5c 10px, #5c5c5c 20px);\n",
       "    }\n",
       "    .progress-bar-interrupted, .progress-bar-interrupted::-webkit-progress-bar {\n",
       "        background: #F44336;\n",
       "    }\n",
       "</style>\n"
      ],
      "text/plain": [
       "<IPython.core.display.HTML object>"
      ]
     },
     "metadata": {},
     "output_type": "display_data"
    },
    {
     "data": {
      "text/html": [
       "[Epoch: 00] Loss (0.765 / 0.537) - Accuracy (77.3% / 85.0%)<p>[Epoch: 01] Loss (0.486 / 0.495) - Accuracy (85.8% / 84.4%)<p>[Epoch: 02] Loss (0.422 / 0.441) - Accuracy (88.2% / 86.0%)<p>[Epoch: 03] Loss (0.379 / 0.503) - Accuracy (89.8% / 80.2%)<p>[Epoch: 04] Loss (0.367 / 0.462) - Accuracy (89.7% / 85.8%)"
      ],
      "text/plain": [
       "<IPython.core.display.HTML object>"
      ]
     },
     "metadata": {},
     "output_type": "display_data"
    },
    {
     "name": "stdout",
     "output_type": "stream",
     "text": [
      "[==================================================]\n",
      "SGD - 32: (0.01, 0.001, 0.3)\n"
     ]
    },
    {
     "data": {
      "text/html": [
       "\n",
       "<style>\n",
       "    /* Turns off some styling */\n",
       "    progress {\n",
       "        /* gets rid of default border in Firefox and Opera. */\n",
       "        border: none;\n",
       "        /* Needs to be in here for Safari polyfill so background images work as expected. */\n",
       "        background-size: auto;\n",
       "    }\n",
       "    progress:not([value]), progress:not([value])::-webkit-progress-bar {\n",
       "        background: repeating-linear-gradient(45deg, #7e7e7e, #7e7e7e 10px, #5c5c5c 10px, #5c5c5c 20px);\n",
       "    }\n",
       "    .progress-bar-interrupted, .progress-bar-interrupted::-webkit-progress-bar {\n",
       "        background: #F44336;\n",
       "    }\n",
       "</style>\n"
      ],
      "text/plain": [
       "<IPython.core.display.HTML object>"
      ]
     },
     "metadata": {},
     "output_type": "display_data"
    },
    {
     "data": {
      "text/html": [
       "[Epoch: 00] Loss (0.925 / 0.624) - Accuracy (72.4% / 81.6%)<p>[Epoch: 01] Loss (0.620 / 0.525) - Accuracy (81.4% / 82.8%)<p>[Epoch: 02] Loss (0.526 / 0.470) - Accuracy (84.4% / 85.2%)<p>[Epoch: 03] Loss (0.473 / 0.467) - Accuracy (86.6% / 85.0%)<p>[Epoch: 04] Loss (0.446 / 0.462) - Accuracy (86.9% / 85.6%)"
      ],
      "text/plain": [
       "<IPython.core.display.HTML object>"
      ]
     },
     "metadata": {},
     "output_type": "display_data"
    },
    {
     "name": "stdout",
     "output_type": "stream",
     "text": [
      "[==================================================]\n",
      "SGD - 32: (0.01, 0.01, 0.0)\n"
     ]
    },
    {
     "data": {
      "text/html": [
       "\n",
       "<style>\n",
       "    /* Turns off some styling */\n",
       "    progress {\n",
       "        /* gets rid of default border in Firefox and Opera. */\n",
       "        border: none;\n",
       "        /* Needs to be in here for Safari polyfill so background images work as expected. */\n",
       "        background-size: auto;\n",
       "    }\n",
       "    progress:not([value]), progress:not([value])::-webkit-progress-bar {\n",
       "        background: repeating-linear-gradient(45deg, #7e7e7e, #7e7e7e 10px, #5c5c5c 10px, #5c5c5c 20px);\n",
       "    }\n",
       "    .progress-bar-interrupted, .progress-bar-interrupted::-webkit-progress-bar {\n",
       "        background: #F44336;\n",
       "    }\n",
       "</style>\n"
      ],
      "text/plain": [
       "<IPython.core.display.HTML object>"
      ]
     },
     "metadata": {},
     "output_type": "display_data"
    },
    {
     "data": {
      "text/html": [
       "[Epoch: 00] Loss (0.832 / 1.137) - Accuracy (76.1% / 65.0%)<p>[Epoch: 01] Loss (1.040 / 1.642) - Accuracy (67.0% / 57.4%)<p>[Epoch: 02] Loss (1.071 / 1.494) - Accuracy (65.9% / 59.2%)<p>[Epoch: 03] Loss (1.044 / 1.290) - Accuracy (67.8% / 64.4%)<p>[Epoch: 04] Loss (0.998 / 1.475) - Accuracy (70.5% / 53.0%)"
      ],
      "text/plain": [
       "<IPython.core.display.HTML object>"
      ]
     },
     "metadata": {},
     "output_type": "display_data"
    },
    {
     "name": "stdout",
     "output_type": "stream",
     "text": [
      "[==================================================]\n",
      "SGD - 32: (0.01, 0.01, 0.3)\n"
     ]
    },
    {
     "data": {
      "text/html": [
       "\n",
       "<style>\n",
       "    /* Turns off some styling */\n",
       "    progress {\n",
       "        /* gets rid of default border in Firefox and Opera. */\n",
       "        border: none;\n",
       "        /* Needs to be in here for Safari polyfill so background images work as expected. */\n",
       "        background-size: auto;\n",
       "    }\n",
       "    progress:not([value]), progress:not([value])::-webkit-progress-bar {\n",
       "        background: repeating-linear-gradient(45deg, #7e7e7e, #7e7e7e 10px, #5c5c5c 10px, #5c5c5c 20px);\n",
       "    }\n",
       "    .progress-bar-interrupted, .progress-bar-interrupted::-webkit-progress-bar {\n",
       "        background: #F44336;\n",
       "    }\n",
       "</style>\n"
      ],
      "text/plain": [
       "<IPython.core.display.HTML object>"
      ]
     },
     "metadata": {},
     "output_type": "display_data"
    },
    {
     "data": {
      "text/html": [
       "[Epoch: 00] Loss (0.902 / 1.013) - Accuracy (73.3% / 68.6%)<p>[Epoch: 01] Loss (1.035 / 1.205) - Accuracy (66.7% / 67.4%)<p>[Epoch: 02] Loss (1.132 / 1.578) - Accuracy (64.0% / 62.2%)<p>[Epoch: 03] Loss (1.095 / 1.829) - Accuracy (66.5% / 47.8%)<p>[Epoch: 04] Loss (1.066 / 1.437) - Accuracy (67.9% / 62.0%)"
      ],
      "text/plain": [
       "<IPython.core.display.HTML object>"
      ]
     },
     "metadata": {},
     "output_type": "display_data"
    },
    {
     "name": "stdout",
     "output_type": "stream",
     "text": [
      "[==================================================]\n",
      "SGD - 64: (0, 0, 0.0)\n"
     ]
    },
    {
     "data": {
      "text/html": [
       "\n",
       "<style>\n",
       "    /* Turns off some styling */\n",
       "    progress {\n",
       "        /* gets rid of default border in Firefox and Opera. */\n",
       "        border: none;\n",
       "        /* Needs to be in here for Safari polyfill so background images work as expected. */\n",
       "        background-size: auto;\n",
       "    }\n",
       "    progress:not([value]), progress:not([value])::-webkit-progress-bar {\n",
       "        background: repeating-linear-gradient(45deg, #7e7e7e, #7e7e7e 10px, #5c5c5c 10px, #5c5c5c 20px);\n",
       "    }\n",
       "    .progress-bar-interrupted, .progress-bar-interrupted::-webkit-progress-bar {\n",
       "        background: #F44336;\n",
       "    }\n",
       "</style>\n"
      ],
      "text/plain": [
       "<IPython.core.display.HTML object>"
      ]
     },
     "metadata": {},
     "output_type": "display_data"
    },
    {
     "data": {
      "text/html": [
       "[Epoch: 00] Loss (0.842 / 0.599) - Accuracy (75.4% / 82.6%)<p>[Epoch: 01] Loss (0.507 / 0.500) - Accuracy (85.5% / 84.8%)<p>[Epoch: 02] Loss (0.396 / 0.437) - Accuracy (88.6% / 86.8%)<p>[Epoch: 03] Loss (0.329 / 0.426) - Accuracy (90.7% / 87.4%)<p>[Epoch: 04] Loss (0.273 / 0.407) - Accuracy (92.4% / 85.4%)"
      ],
      "text/plain": [
       "<IPython.core.display.HTML object>"
      ]
     },
     "metadata": {},
     "output_type": "display_data"
    },
    {
     "name": "stdout",
     "output_type": "stream",
     "text": [
      "[==================================================]\n",
      "SGD - 64: (0, 0, 0.3)\n"
     ]
    },
    {
     "data": {
      "text/html": [
       "\n",
       "<style>\n",
       "    /* Turns off some styling */\n",
       "    progress {\n",
       "        /* gets rid of default border in Firefox and Opera. */\n",
       "        border: none;\n",
       "        /* Needs to be in here for Safari polyfill so background images work as expected. */\n",
       "        background-size: auto;\n",
       "    }\n",
       "    progress:not([value]), progress:not([value])::-webkit-progress-bar {\n",
       "        background: repeating-linear-gradient(45deg, #7e7e7e, #7e7e7e 10px, #5c5c5c 10px, #5c5c5c 20px);\n",
       "    }\n",
       "    .progress-bar-interrupted, .progress-bar-interrupted::-webkit-progress-bar {\n",
       "        background: #F44336;\n",
       "    }\n",
       "</style>\n"
      ],
      "text/plain": [
       "<IPython.core.display.HTML object>"
      ]
     },
     "metadata": {},
     "output_type": "display_data"
    },
    {
     "data": {
      "text/html": [
       "[Epoch: 00] Loss (1.054 / 0.687) - Accuracy (68.0% / 79.2%)<p>[Epoch: 01] Loss (0.663 / 0.573) - Accuracy (79.6% / 80.0%)<p>[Epoch: 02] Loss (0.550 / 0.505) - Accuracy (82.4% / 84.4%)<p>[Epoch: 03] Loss (0.490 / 0.476) - Accuracy (84.0% / 83.2%)<p>[Epoch: 04] Loss (0.433 / 0.436) - Accuracy (85.8% / 84.2%)"
      ],
      "text/plain": [
       "<IPython.core.display.HTML object>"
      ]
     },
     "metadata": {},
     "output_type": "display_data"
    },
    {
     "name": "stdout",
     "output_type": "stream",
     "text": [
      "[==================================================]\n",
      "SGD - 64: (0, 0.001, 0.0)\n"
     ]
    },
    {
     "data": {
      "text/html": [
       "\n",
       "<style>\n",
       "    /* Turns off some styling */\n",
       "    progress {\n",
       "        /* gets rid of default border in Firefox and Opera. */\n",
       "        border: none;\n",
       "        /* Needs to be in here for Safari polyfill so background images work as expected. */\n",
       "        background-size: auto;\n",
       "    }\n",
       "    progress:not([value]), progress:not([value])::-webkit-progress-bar {\n",
       "        background: repeating-linear-gradient(45deg, #7e7e7e, #7e7e7e 10px, #5c5c5c 10px, #5c5c5c 20px);\n",
       "    }\n",
       "    .progress-bar-interrupted, .progress-bar-interrupted::-webkit-progress-bar {\n",
       "        background: #F44336;\n",
       "    }\n",
       "</style>\n"
      ],
      "text/plain": [
       "<IPython.core.display.HTML object>"
      ]
     },
     "metadata": {},
     "output_type": "display_data"
    },
    {
     "data": {
      "text/html": [
       "[Epoch: 00] Loss (0.841 / 0.585) - Accuracy (75.5% / 82.6%)<p>[Epoch: 01] Loss (0.499 / 0.485) - Accuracy (85.4% / 85.6%)<p>[Epoch: 02] Loss (0.392 / 0.461) - Accuracy (88.7% / 84.2%)<p>[Epoch: 03] Loss (0.324 / 0.492) - Accuracy (90.9% / 83.2%)<p>[Epoch: 04] Loss (0.276 / 0.428) - Accuracy (92.3% / 87.0%)"
      ],
      "text/plain": [
       "<IPython.core.display.HTML object>"
      ]
     },
     "metadata": {},
     "output_type": "display_data"
    },
    {
     "name": "stdout",
     "output_type": "stream",
     "text": [
      "[==================================================]\n",
      "SGD - 64: (0, 0.001, 0.3)\n"
     ]
    },
    {
     "data": {
      "text/html": [
       "\n",
       "<style>\n",
       "    /* Turns off some styling */\n",
       "    progress {\n",
       "        /* gets rid of default border in Firefox and Opera. */\n",
       "        border: none;\n",
       "        /* Needs to be in here for Safari polyfill so background images work as expected. */\n",
       "        background-size: auto;\n",
       "    }\n",
       "    progress:not([value]), progress:not([value])::-webkit-progress-bar {\n",
       "        background: repeating-linear-gradient(45deg, #7e7e7e, #7e7e7e 10px, #5c5c5c 10px, #5c5c5c 20px);\n",
       "    }\n",
       "    .progress-bar-interrupted, .progress-bar-interrupted::-webkit-progress-bar {\n",
       "        background: #F44336;\n",
       "    }\n",
       "</style>\n"
      ],
      "text/plain": [
       "<IPython.core.display.HTML object>"
      ]
     },
     "metadata": {},
     "output_type": "display_data"
    },
    {
     "data": {
      "text/html": [
       "[Epoch: 00] Loss (1.027 / 0.666) - Accuracy (68.7% / 78.4%)<p>[Epoch: 01] Loss (0.667 / 0.558) - Accuracy (79.2% / 81.4%)<p>[Epoch: 02] Loss (0.552 / 0.489) - Accuracy (82.5% / 84.0%)<p>[Epoch: 03] Loss (0.484 / 0.448) - Accuracy (84.5% / 85.2%)<p>[Epoch: 04] Loss (0.434 / 0.419) - Accuracy (86.3% / 85.8%)"
      ],
      "text/plain": [
       "<IPython.core.display.HTML object>"
      ]
     },
     "metadata": {},
     "output_type": "display_data"
    },
    {
     "name": "stdout",
     "output_type": "stream",
     "text": [
      "[==================================================]\n",
      "SGD - 64: (0, 0.01, 0.0)\n"
     ]
    },
    {
     "data": {
      "text/html": [
       "\n",
       "<style>\n",
       "    /* Turns off some styling */\n",
       "    progress {\n",
       "        /* gets rid of default border in Firefox and Opera. */\n",
       "        border: none;\n",
       "        /* Needs to be in here for Safari polyfill so background images work as expected. */\n",
       "        background-size: auto;\n",
       "    }\n",
       "    progress:not([value]), progress:not([value])::-webkit-progress-bar {\n",
       "        background: repeating-linear-gradient(45deg, #7e7e7e, #7e7e7e 10px, #5c5c5c 10px, #5c5c5c 20px);\n",
       "    }\n",
       "    .progress-bar-interrupted, .progress-bar-interrupted::-webkit-progress-bar {\n",
       "        background: #F44336;\n",
       "    }\n",
       "</style>\n"
      ],
      "text/plain": [
       "<IPython.core.display.HTML object>"
      ]
     },
     "metadata": {},
     "output_type": "display_data"
    },
    {
     "data": {
      "text/html": [
       "[Epoch: 00] Loss (0.810 / 0.706) - Accuracy (75.4% / 79.0%)<p>[Epoch: 01] Loss (0.573 / 0.970) - Accuracy (82.6% / 68.6%)<p>[Epoch: 02] Loss (0.880 / 2.379) - Accuracy (71.1% / 17.2%)<p>[Epoch: 03] Loss (0.926 / 1.578) - Accuracy (68.5% / 49.6%)<p>[Epoch: 04] Loss (0.891 / 3.602) - Accuracy (69.8% / 10.0%)"
      ],
      "text/plain": [
       "<IPython.core.display.HTML object>"
      ]
     },
     "metadata": {},
     "output_type": "display_data"
    },
    {
     "name": "stdout",
     "output_type": "stream",
     "text": [
      "[==================================================]\n",
      "SGD - 64: (0, 0.01, 0.3)\n"
     ]
    },
    {
     "data": {
      "text/html": [
       "\n",
       "<style>\n",
       "    /* Turns off some styling */\n",
       "    progress {\n",
       "        /* gets rid of default border in Firefox and Opera. */\n",
       "        border: none;\n",
       "        /* Needs to be in here for Safari polyfill so background images work as expected. */\n",
       "        background-size: auto;\n",
       "    }\n",
       "    progress:not([value]), progress:not([value])::-webkit-progress-bar {\n",
       "        background: repeating-linear-gradient(45deg, #7e7e7e, #7e7e7e 10px, #5c5c5c 10px, #5c5c5c 20px);\n",
       "    }\n",
       "    .progress-bar-interrupted, .progress-bar-interrupted::-webkit-progress-bar {\n",
       "        background: #F44336;\n",
       "    }\n",
       "</style>\n"
      ],
      "text/plain": [
       "<IPython.core.display.HTML object>"
      ]
     },
     "metadata": {},
     "output_type": "display_data"
    },
    {
     "data": {
      "text/html": [
       "[Epoch: 00] Loss (1.008 / 0.721) - Accuracy (70.1% / 79.4%)<p>[Epoch: 01] Loss (0.647 / 1.102) - Accuracy (80.6% / 60.0%)<p>[Epoch: 02] Loss (0.871 / 1.402) - Accuracy (70.8% / 47.8%)<p>[Epoch: 03] Loss (0.927 / 3.352) - Accuracy (69.3% / 12.2%)<p>[Epoch: 04] Loss (0.911 / 1.487) - Accuracy (69.8% / 42.8%)"
      ],
      "text/plain": [
       "<IPython.core.display.HTML object>"
      ]
     },
     "metadata": {},
     "output_type": "display_data"
    },
    {
     "name": "stdout",
     "output_type": "stream",
     "text": [
      "[==================================================]\n",
      "SGD - 64: (0.001, 0, 0.0)\n"
     ]
    },
    {
     "data": {
      "text/html": [
       "\n",
       "<style>\n",
       "    /* Turns off some styling */\n",
       "    progress {\n",
       "        /* gets rid of default border in Firefox and Opera. */\n",
       "        border: none;\n",
       "        /* Needs to be in here for Safari polyfill so background images work as expected. */\n",
       "        background-size: auto;\n",
       "    }\n",
       "    progress:not([value]), progress:not([value])::-webkit-progress-bar {\n",
       "        background: repeating-linear-gradient(45deg, #7e7e7e, #7e7e7e 10px, #5c5c5c 10px, #5c5c5c 20px);\n",
       "    }\n",
       "    .progress-bar-interrupted, .progress-bar-interrupted::-webkit-progress-bar {\n",
       "        background: #F44336;\n",
       "    }\n",
       "</style>\n"
      ],
      "text/plain": [
       "<IPython.core.display.HTML object>"
      ]
     },
     "metadata": {},
     "output_type": "display_data"
    },
    {
     "data": {
      "text/html": [
       "[Epoch: 00] Loss (0.829 / 0.587) - Accuracy (74.8% / 82.6%)<p>[Epoch: 01] Loss (0.499 / 0.499) - Accuracy (85.5% / 84.6%)<p>[Epoch: 02] Loss (0.391 / 0.463) - Accuracy (89.1% / 85.2%)<p>[Epoch: 03] Loss (0.325 / 0.436) - Accuracy (91.0% / 86.4%)<p>[Epoch: 04] Loss (0.274 / 0.427) - Accuracy (92.9% / 85.2%)"
      ],
      "text/plain": [
       "<IPython.core.display.HTML object>"
      ]
     },
     "metadata": {},
     "output_type": "display_data"
    },
    {
     "name": "stdout",
     "output_type": "stream",
     "text": [
      "[==================================================]\n",
      "SGD - 64: (0.001, 0, 0.3)\n"
     ]
    },
    {
     "data": {
      "text/html": [
       "\n",
       "<style>\n",
       "    /* Turns off some styling */\n",
       "    progress {\n",
       "        /* gets rid of default border in Firefox and Opera. */\n",
       "        border: none;\n",
       "        /* Needs to be in here for Safari polyfill so background images work as expected. */\n",
       "        background-size: auto;\n",
       "    }\n",
       "    progress:not([value]), progress:not([value])::-webkit-progress-bar {\n",
       "        background: repeating-linear-gradient(45deg, #7e7e7e, #7e7e7e 10px, #5c5c5c 10px, #5c5c5c 20px);\n",
       "    }\n",
       "    .progress-bar-interrupted, .progress-bar-interrupted::-webkit-progress-bar {\n",
       "        background: #F44336;\n",
       "    }\n",
       "</style>\n"
      ],
      "text/plain": [
       "<IPython.core.display.HTML object>"
      ]
     },
     "metadata": {},
     "output_type": "display_data"
    },
    {
     "data": {
      "text/html": [
       "[Epoch: 00] Loss (1.024 / 0.669) - Accuracy (67.8% / 79.2%)<p>[Epoch: 01] Loss (0.659 / 0.566) - Accuracy (79.3% / 80.4%)<p>[Epoch: 02] Loss (0.551 / 0.506) - Accuracy (82.8% / 84.2%)<p>[Epoch: 03] Loss (0.488 / 0.464) - Accuracy (84.5% / 83.0%)<p>[Epoch: 04] Loss (0.439 / 0.445) - Accuracy (86.0% / 83.6%)"
      ],
      "text/plain": [
       "<IPython.core.display.HTML object>"
      ]
     },
     "metadata": {},
     "output_type": "display_data"
    },
    {
     "name": "stdout",
     "output_type": "stream",
     "text": [
      "[==================================================]\n",
      "SGD - 64: (0.001, 0.001, 0.0)\n"
     ]
    },
    {
     "data": {
      "text/html": [
       "\n",
       "<style>\n",
       "    /* Turns off some styling */\n",
       "    progress {\n",
       "        /* gets rid of default border in Firefox and Opera. */\n",
       "        border: none;\n",
       "        /* Needs to be in here for Safari polyfill so background images work as expected. */\n",
       "        background-size: auto;\n",
       "    }\n",
       "    progress:not([value]), progress:not([value])::-webkit-progress-bar {\n",
       "        background: repeating-linear-gradient(45deg, #7e7e7e, #7e7e7e 10px, #5c5c5c 10px, #5c5c5c 20px);\n",
       "    }\n",
       "    .progress-bar-interrupted, .progress-bar-interrupted::-webkit-progress-bar {\n",
       "        background: #F44336;\n",
       "    }\n",
       "</style>\n"
      ],
      "text/plain": [
       "<IPython.core.display.HTML object>"
      ]
     },
     "metadata": {},
     "output_type": "display_data"
    },
    {
     "data": {
      "text/html": [
       "[Epoch: 00] Loss (0.806 / 0.585) - Accuracy (75.4% / 81.6%)<p>[Epoch: 01] Loss (0.499 / 0.497) - Accuracy (85.5% / 85.6%)<p>[Epoch: 02] Loss (0.398 / 0.443) - Accuracy (88.6% / 85.4%)<p>[Epoch: 03] Loss (0.333 / 0.414) - Accuracy (90.8% / 86.8%)<p>[Epoch: 04] Loss (0.282 / 0.417) - Accuracy (92.3% / 85.4%)"
      ],
      "text/plain": [
       "<IPython.core.display.HTML object>"
      ]
     },
     "metadata": {},
     "output_type": "display_data"
    },
    {
     "name": "stdout",
     "output_type": "stream",
     "text": [
      "[==================================================]\n",
      "SGD - 64: (0.001, 0.001, 0.3)\n"
     ]
    },
    {
     "data": {
      "text/html": [
       "\n",
       "<style>\n",
       "    /* Turns off some styling */\n",
       "    progress {\n",
       "        /* gets rid of default border in Firefox and Opera. */\n",
       "        border: none;\n",
       "        /* Needs to be in here for Safari polyfill so background images work as expected. */\n",
       "        background-size: auto;\n",
       "    }\n",
       "    progress:not([value]), progress:not([value])::-webkit-progress-bar {\n",
       "        background: repeating-linear-gradient(45deg, #7e7e7e, #7e7e7e 10px, #5c5c5c 10px, #5c5c5c 20px);\n",
       "    }\n",
       "    .progress-bar-interrupted, .progress-bar-interrupted::-webkit-progress-bar {\n",
       "        background: #F44336;\n",
       "    }\n",
       "</style>\n"
      ],
      "text/plain": [
       "<IPython.core.display.HTML object>"
      ]
     },
     "metadata": {},
     "output_type": "display_data"
    },
    {
     "data": {
      "text/html": [
       "[Epoch: 00] Loss (1.010 / 0.661) - Accuracy (69.0% / 79.0%)<p>[Epoch: 01] Loss (0.643 / 0.547) - Accuracy (80.0% / 80.2%)<p>[Epoch: 02] Loss (0.533 / 0.487) - Accuracy (83.3% / 83.6%)<p>[Epoch: 03] Loss (0.480 / 0.468) - Accuracy (84.5% / 84.0%)<p>[Epoch: 04] Loss (0.426 / 0.427) - Accuracy (86.3% / 84.0%)"
      ],
      "text/plain": [
       "<IPython.core.display.HTML object>"
      ]
     },
     "metadata": {},
     "output_type": "display_data"
    },
    {
     "name": "stdout",
     "output_type": "stream",
     "text": [
      "[==================================================]\n",
      "SGD - 64: (0.001, 0.01, 0.0)\n"
     ]
    },
    {
     "data": {
      "text/html": [
       "\n",
       "<style>\n",
       "    /* Turns off some styling */\n",
       "    progress {\n",
       "        /* gets rid of default border in Firefox and Opera. */\n",
       "        border: none;\n",
       "        /* Needs to be in here for Safari polyfill so background images work as expected. */\n",
       "        background-size: auto;\n",
       "    }\n",
       "    progress:not([value]), progress:not([value])::-webkit-progress-bar {\n",
       "        background: repeating-linear-gradient(45deg, #7e7e7e, #7e7e7e 10px, #5c5c5c 10px, #5c5c5c 20px);\n",
       "    }\n",
       "    .progress-bar-interrupted, .progress-bar-interrupted::-webkit-progress-bar {\n",
       "        background: #F44336;\n",
       "    }\n",
       "</style>\n"
      ],
      "text/plain": [
       "<IPython.core.display.HTML object>"
      ]
     },
     "metadata": {},
     "output_type": "display_data"
    },
    {
     "data": {
      "text/html": [
       "[Epoch: 00] Loss (0.870 / 0.690) - Accuracy (74.1% / 79.6%)<p>[Epoch: 01] Loss (0.566 / 1.081) - Accuracy (83.1% / 66.2%)<p>[Epoch: 02] Loss (0.856 / 2.812) - Accuracy (71.8% / 15.0%)<p>[Epoch: 03] Loss (0.886 / 1.612) - Accuracy (70.6% / 59.4%)<p>[Epoch: 04] Loss (0.869 / 1.787) - Accuracy (71.1% / 40.8%)"
      ],
      "text/plain": [
       "<IPython.core.display.HTML object>"
      ]
     },
     "metadata": {},
     "output_type": "display_data"
    },
    {
     "name": "stdout",
     "output_type": "stream",
     "text": [
      "[==================================================]\n",
      "SGD - 64: (0.001, 0.01, 0.3)\n"
     ]
    },
    {
     "data": {
      "text/html": [
       "\n",
       "<style>\n",
       "    /* Turns off some styling */\n",
       "    progress {\n",
       "        /* gets rid of default border in Firefox and Opera. */\n",
       "        border: none;\n",
       "        /* Needs to be in here for Safari polyfill so background images work as expected. */\n",
       "        background-size: auto;\n",
       "    }\n",
       "    progress:not([value]), progress:not([value])::-webkit-progress-bar {\n",
       "        background: repeating-linear-gradient(45deg, #7e7e7e, #7e7e7e 10px, #5c5c5c 10px, #5c5c5c 20px);\n",
       "    }\n",
       "    .progress-bar-interrupted, .progress-bar-interrupted::-webkit-progress-bar {\n",
       "        background: #F44336;\n",
       "    }\n",
       "</style>\n"
      ],
      "text/plain": [
       "<IPython.core.display.HTML object>"
      ]
     },
     "metadata": {},
     "output_type": "display_data"
    },
    {
     "data": {
      "text/html": [
       "[Epoch: 00] Loss (1.016 / 0.725) - Accuracy (70.2% / 79.2%)<p>[Epoch: 01] Loss (0.643 / 0.963) - Accuracy (80.6% / 67.8%)<p>[Epoch: 02] Loss (0.847 / 1.507) - Accuracy (72.2% / 49.0%)<p>[Epoch: 03] Loss (0.915 / 3.857) - Accuracy (69.4% / 25.4%)<p>[Epoch: 04] Loss (0.920 / 1.224) - Accuracy (69.1% / 66.4%)"
      ],
      "text/plain": [
       "<IPython.core.display.HTML object>"
      ]
     },
     "metadata": {},
     "output_type": "display_data"
    },
    {
     "name": "stdout",
     "output_type": "stream",
     "text": [
      "[==================================================]\n",
      "SGD - 64: (0.01, 0, 0.0)\n"
     ]
    },
    {
     "data": {
      "text/html": [
       "\n",
       "<style>\n",
       "    /* Turns off some styling */\n",
       "    progress {\n",
       "        /* gets rid of default border in Firefox and Opera. */\n",
       "        border: none;\n",
       "        /* Needs to be in here for Safari polyfill so background images work as expected. */\n",
       "        background-size: auto;\n",
       "    }\n",
       "    progress:not([value]), progress:not([value])::-webkit-progress-bar {\n",
       "        background: repeating-linear-gradient(45deg, #7e7e7e, #7e7e7e 10px, #5c5c5c 10px, #5c5c5c 20px);\n",
       "    }\n",
       "    .progress-bar-interrupted, .progress-bar-interrupted::-webkit-progress-bar {\n",
       "        background: #F44336;\n",
       "    }\n",
       "</style>\n"
      ],
      "text/plain": [
       "<IPython.core.display.HTML object>"
      ]
     },
     "metadata": {},
     "output_type": "display_data"
    },
    {
     "data": {
      "text/html": [
       "[Epoch: 00] Loss (0.862 / 0.619) - Accuracy (75.2% / 81.2%)<p>[Epoch: 01] Loss (0.543 / 0.526) - Accuracy (85.4% / 84.4%)<p>[Epoch: 02] Loss (0.442 / 0.488) - Accuracy (88.4% / 85.8%)<p>[Epoch: 03] Loss (0.382 / 0.458) - Accuracy (90.6% / 85.2%)<p>[Epoch: 04] Loss (0.341 / 0.444) - Accuracy (91.8% / 85.8%)"
      ],
      "text/plain": [
       "<IPython.core.display.HTML object>"
      ]
     },
     "metadata": {},
     "output_type": "display_data"
    },
    {
     "name": "stdout",
     "output_type": "stream",
     "text": [
      "[==================================================]\n",
      "SGD - 64: (0.01, 0, 0.3)\n"
     ]
    },
    {
     "data": {
      "text/html": [
       "\n",
       "<style>\n",
       "    /* Turns off some styling */\n",
       "    progress {\n",
       "        /* gets rid of default border in Firefox and Opera. */\n",
       "        border: none;\n",
       "        /* Needs to be in here for Safari polyfill so background images work as expected. */\n",
       "        background-size: auto;\n",
       "    }\n",
       "    progress:not([value]), progress:not([value])::-webkit-progress-bar {\n",
       "        background: repeating-linear-gradient(45deg, #7e7e7e, #7e7e7e 10px, #5c5c5c 10px, #5c5c5c 20px);\n",
       "    }\n",
       "    .progress-bar-interrupted, .progress-bar-interrupted::-webkit-progress-bar {\n",
       "        background: #F44336;\n",
       "    }\n",
       "</style>\n"
      ],
      "text/plain": [
       "<IPython.core.display.HTML object>"
      ]
     },
     "metadata": {},
     "output_type": "display_data"
    },
    {
     "data": {
      "text/html": [
       "[Epoch: 00] Loss (1.065 / 0.734) - Accuracy (67.4% / 78.8%)<p>[Epoch: 01] Loss (0.700 / 0.612) - Accuracy (79.4% / 81.0%)<p>[Epoch: 02] Loss (0.602 / 0.559) - Accuracy (82.1% / 83.2%)<p>[Epoch: 03] Loss (0.538 / 0.517) - Accuracy (84.0% / 83.2%)<p>[Epoch: 04] Loss (0.497 / 0.489) - Accuracy (85.6% / 83.6%)"
      ],
      "text/plain": [
       "<IPython.core.display.HTML object>"
      ]
     },
     "metadata": {},
     "output_type": "display_data"
    },
    {
     "name": "stdout",
     "output_type": "stream",
     "text": [
      "[==================================================]\n",
      "SGD - 64: (0.01, 0.001, 0.0)\n"
     ]
    },
    {
     "data": {
      "text/html": [
       "\n",
       "<style>\n",
       "    /* Turns off some styling */\n",
       "    progress {\n",
       "        /* gets rid of default border in Firefox and Opera. */\n",
       "        border: none;\n",
       "        /* Needs to be in here for Safari polyfill so background images work as expected. */\n",
       "        background-size: auto;\n",
       "    }\n",
       "    progress:not([value]), progress:not([value])::-webkit-progress-bar {\n",
       "        background: repeating-linear-gradient(45deg, #7e7e7e, #7e7e7e 10px, #5c5c5c 10px, #5c5c5c 20px);\n",
       "    }\n",
       "    .progress-bar-interrupted, .progress-bar-interrupted::-webkit-progress-bar {\n",
       "        background: #F44336;\n",
       "    }\n",
       "</style>\n"
      ],
      "text/plain": [
       "<IPython.core.display.HTML object>"
      ]
     },
     "metadata": {},
     "output_type": "display_data"
    },
    {
     "data": {
      "text/html": [
       "[Epoch: 00] Loss (0.890 / 0.643) - Accuracy (74.6% / 80.8%)<p>[Epoch: 01] Loss (0.545 / 0.535) - Accuracy (85.4% / 83.6%)<p>[Epoch: 02] Loss (0.446 / 0.476) - Accuracy (88.4% / 85.0%)<p>[Epoch: 03] Loss (0.385 / 0.471) - Accuracy (90.5% / 85.4%)<p>[Epoch: 04] Loss (0.343 / 0.453) - Accuracy (91.9% / 87.0%)"
      ],
      "text/plain": [
       "<IPython.core.display.HTML object>"
      ]
     },
     "metadata": {},
     "output_type": "display_data"
    },
    {
     "name": "stdout",
     "output_type": "stream",
     "text": [
      "[==================================================]\n",
      "SGD - 64: (0.01, 0.001, 0.3)\n"
     ]
    },
    {
     "data": {
      "text/html": [
       "\n",
       "<style>\n",
       "    /* Turns off some styling */\n",
       "    progress {\n",
       "        /* gets rid of default border in Firefox and Opera. */\n",
       "        border: none;\n",
       "        /* Needs to be in here for Safari polyfill so background images work as expected. */\n",
       "        background-size: auto;\n",
       "    }\n",
       "    progress:not([value]), progress:not([value])::-webkit-progress-bar {\n",
       "        background: repeating-linear-gradient(45deg, #7e7e7e, #7e7e7e 10px, #5c5c5c 10px, #5c5c5c 20px);\n",
       "    }\n",
       "    .progress-bar-interrupted, .progress-bar-interrupted::-webkit-progress-bar {\n",
       "        background: #F44336;\n",
       "    }\n",
       "</style>\n"
      ],
      "text/plain": [
       "<IPython.core.display.HTML object>"
      ]
     },
     "metadata": {},
     "output_type": "display_data"
    },
    {
     "data": {
      "text/html": [
       "[Epoch: 00] Loss (1.049 / 0.715) - Accuracy (67.6% / 78.4%)<p>[Epoch: 01] Loss (0.688 / 0.595) - Accuracy (79.0% / 80.6%)<p>[Epoch: 02] Loss (0.590 / 0.537) - Accuracy (82.3% / 83.8%)<p>[Epoch: 03] Loss (0.530 / 0.499) - Accuracy (84.4% / 83.8%)<p>[Epoch: 04] Loss (0.482 / 0.493) - Accuracy (86.0% / 83.2%)"
      ],
      "text/plain": [
       "<IPython.core.display.HTML object>"
      ]
     },
     "metadata": {},
     "output_type": "display_data"
    },
    {
     "name": "stdout",
     "output_type": "stream",
     "text": [
      "[==================================================]\n",
      "SGD - 64: (0.01, 0.01, 0.0)\n"
     ]
    },
    {
     "data": {
      "text/html": [
       "\n",
       "<style>\n",
       "    /* Turns off some styling */\n",
       "    progress {\n",
       "        /* gets rid of default border in Firefox and Opera. */\n",
       "        border: none;\n",
       "        /* Needs to be in here for Safari polyfill so background images work as expected. */\n",
       "        background-size: auto;\n",
       "    }\n",
       "    progress:not([value]), progress:not([value])::-webkit-progress-bar {\n",
       "        background: repeating-linear-gradient(45deg, #7e7e7e, #7e7e7e 10px, #5c5c5c 10px, #5c5c5c 20px);\n",
       "    }\n",
       "    .progress-bar-interrupted, .progress-bar-interrupted::-webkit-progress-bar {\n",
       "        background: #F44336;\n",
       "    }\n",
       "</style>\n"
      ],
      "text/plain": [
       "<IPython.core.display.HTML object>"
      ]
     },
     "metadata": {},
     "output_type": "display_data"
    },
    {
     "data": {
      "text/html": [
       "[Epoch: 00] Loss (0.886 / 0.756) - Accuracy (75.4% / 81.4%)<p>[Epoch: 01] Loss (0.624 / 1.242) - Accuracy (82.8% / 58.4%)<p>[Epoch: 02] Loss (0.922 / 2.176) - Accuracy (71.6% / 19.6%)<p>[Epoch: 03] Loss (0.946 / 1.816) - Accuracy (70.1% / 32.4%)<p>[Epoch: 04] Loss (0.939 / 2.353) - Accuracy (70.7% / 25.4%)"
      ],
      "text/plain": [
       "<IPython.core.display.HTML object>"
      ]
     },
     "metadata": {},
     "output_type": "display_data"
    },
    {
     "name": "stdout",
     "output_type": "stream",
     "text": [
      "[==================================================]\n",
      "SGD - 64: (0.01, 0.01, 0.3)\n"
     ]
    },
    {
     "data": {
      "text/html": [
       "\n",
       "<style>\n",
       "    /* Turns off some styling */\n",
       "    progress {\n",
       "        /* gets rid of default border in Firefox and Opera. */\n",
       "        border: none;\n",
       "        /* Needs to be in here for Safari polyfill so background images work as expected. */\n",
       "        background-size: auto;\n",
       "    }\n",
       "    progress:not([value]), progress:not([value])::-webkit-progress-bar {\n",
       "        background: repeating-linear-gradient(45deg, #7e7e7e, #7e7e7e 10px, #5c5c5c 10px, #5c5c5c 20px);\n",
       "    }\n",
       "    .progress-bar-interrupted, .progress-bar-interrupted::-webkit-progress-bar {\n",
       "        background: #F44336;\n",
       "    }\n",
       "</style>\n"
      ],
      "text/plain": [
       "<IPython.core.display.HTML object>"
      ]
     },
     "metadata": {},
     "output_type": "display_data"
    },
    {
     "data": {
      "text/html": [
       "[Epoch: 00] Loss (1.027 / 0.745) - Accuracy (68.8% / 78.8%)<p>[Epoch: 01] Loss (0.681 / 1.164) - Accuracy (80.2% / 63.2%)<p>[Epoch: 02] Loss (0.911 / 2.185) - Accuracy (71.0% / 18.8%)<p>[Epoch: 03] Loss (0.987 / 1.454) - Accuracy (68.2% / 51.0%)<p>[Epoch: 04] Loss (1.005 / 5.703) - Accuracy (68.2% / 13.8%)"
      ],
      "text/plain": [
       "<IPython.core.display.HTML object>"
      ]
     },
     "metadata": {},
     "output_type": "display_data"
    },
    {
     "name": "stdout",
     "output_type": "stream",
     "text": [
      "[==================================================]\n",
      "SGD - 128: (0, 0, 0.0)\n"
     ]
    },
    {
     "data": {
      "text/html": [
       "\n",
       "<style>\n",
       "    /* Turns off some styling */\n",
       "    progress {\n",
       "        /* gets rid of default border in Firefox and Opera. */\n",
       "        border: none;\n",
       "        /* Needs to be in here for Safari polyfill so background images work as expected. */\n",
       "        background-size: auto;\n",
       "    }\n",
       "    progress:not([value]), progress:not([value])::-webkit-progress-bar {\n",
       "        background: repeating-linear-gradient(45deg, #7e7e7e, #7e7e7e 10px, #5c5c5c 10px, #5c5c5c 20px);\n",
       "    }\n",
       "    .progress-bar-interrupted, .progress-bar-interrupted::-webkit-progress-bar {\n",
       "        background: #F44336;\n",
       "    }\n",
       "</style>\n"
      ],
      "text/plain": [
       "<IPython.core.display.HTML object>"
      ]
     },
     "metadata": {},
     "output_type": "display_data"
    },
    {
     "data": {
      "text/html": [
       "[Epoch: 00] Loss (1.019 / 0.680) - Accuracy (69.7% / 81.6%)<p>[Epoch: 01] Loss (0.617 / 0.578) - Accuracy (83.2% / 84.0%)<p>[Epoch: 02] Loss (0.497 / 0.517) - Accuracy (86.7% / 85.0%)<p>[Epoch: 03] Loss (0.426 / 0.484) - Accuracy (88.8% / 85.0%)<p>[Epoch: 04] Loss (0.367 / 0.459) - Accuracy (90.7% / 86.8%)"
      ],
      "text/plain": [
       "<IPython.core.display.HTML object>"
      ]
     },
     "metadata": {},
     "output_type": "display_data"
    },
    {
     "name": "stdout",
     "output_type": "stream",
     "text": [
      "[==================================================]\n",
      "SGD - 128: (0, 0, 0.3)\n"
     ]
    },
    {
     "data": {
      "text/html": [
       "\n",
       "<style>\n",
       "    /* Turns off some styling */\n",
       "    progress {\n",
       "        /* gets rid of default border in Firefox and Opera. */\n",
       "        border: none;\n",
       "        /* Needs to be in here for Safari polyfill so background images work as expected. */\n",
       "        background-size: auto;\n",
       "    }\n",
       "    progress:not([value]), progress:not([value])::-webkit-progress-bar {\n",
       "        background: repeating-linear-gradient(45deg, #7e7e7e, #7e7e7e 10px, #5c5c5c 10px, #5c5c5c 20px);\n",
       "    }\n",
       "    .progress-bar-interrupted, .progress-bar-interrupted::-webkit-progress-bar {\n",
       "        background: #F44336;\n",
       "    }\n",
       "</style>\n"
      ],
      "text/plain": [
       "<IPython.core.display.HTML object>"
      ]
     },
     "metadata": {},
     "output_type": "display_data"
    },
    {
     "data": {
      "text/html": [
       "[Epoch: 00] Loss (1.254 / 0.791) - Accuracy (60.9% / 76.4%)<p>[Epoch: 01] Loss (0.799 / 0.651) - Accuracy (76.8% / 78.6%)<p>[Epoch: 02] Loss (0.673 / 0.595) - Accuracy (79.4% / 79.4%)<p>[Epoch: 03] Loss (0.603 / 0.549) - Accuracy (81.3% / 82.2%)<p>[Epoch: 04] Loss (0.552 / 0.518) - Accuracy (82.8% / 82.6%)"
      ],
      "text/plain": [
       "<IPython.core.display.HTML object>"
      ]
     },
     "metadata": {},
     "output_type": "display_data"
    },
    {
     "name": "stdout",
     "output_type": "stream",
     "text": [
      "[==================================================]\n",
      "SGD - 128: (0, 0.001, 0.0)\n"
     ]
    },
    {
     "data": {
      "text/html": [
       "\n",
       "<style>\n",
       "    /* Turns off some styling */\n",
       "    progress {\n",
       "        /* gets rid of default border in Firefox and Opera. */\n",
       "        border: none;\n",
       "        /* Needs to be in here for Safari polyfill so background images work as expected. */\n",
       "        background-size: auto;\n",
       "    }\n",
       "    progress:not([value]), progress:not([value])::-webkit-progress-bar {\n",
       "        background: repeating-linear-gradient(45deg, #7e7e7e, #7e7e7e 10px, #5c5c5c 10px, #5c5c5c 20px);\n",
       "    }\n",
       "    .progress-bar-interrupted, .progress-bar-interrupted::-webkit-progress-bar {\n",
       "        background: #F44336;\n",
       "    }\n",
       "</style>\n"
      ],
      "text/plain": [
       "<IPython.core.display.HTML object>"
      ]
     },
     "metadata": {},
     "output_type": "display_data"
    },
    {
     "data": {
      "text/html": [
       "[Epoch: 00] Loss (1.030 / 0.701) - Accuracy (70.0% / 81.0%)<p>[Epoch: 01] Loss (0.622 / 0.586) - Accuracy (83.3% / 82.4%)<p>[Epoch: 02] Loss (0.499 / 0.526) - Accuracy (86.5% / 83.6%)<p>[Epoch: 03] Loss (0.421 / 0.468) - Accuracy (88.9% / 85.4%)<p>[Epoch: 04] Loss (0.366 / 0.442) - Accuracy (90.5% / 85.2%)"
      ],
      "text/plain": [
       "<IPython.core.display.HTML object>"
      ]
     },
     "metadata": {},
     "output_type": "display_data"
    },
    {
     "name": "stdout",
     "output_type": "stream",
     "text": [
      "[==================================================]\n",
      "SGD - 128: (0, 0.001, 0.3)\n"
     ]
    },
    {
     "data": {
      "text/html": [
       "\n",
       "<style>\n",
       "    /* Turns off some styling */\n",
       "    progress {\n",
       "        /* gets rid of default border in Firefox and Opera. */\n",
       "        border: none;\n",
       "        /* Needs to be in here for Safari polyfill so background images work as expected. */\n",
       "        background-size: auto;\n",
       "    }\n",
       "    progress:not([value]), progress:not([value])::-webkit-progress-bar {\n",
       "        background: repeating-linear-gradient(45deg, #7e7e7e, #7e7e7e 10px, #5c5c5c 10px, #5c5c5c 20px);\n",
       "    }\n",
       "    .progress-bar-interrupted, .progress-bar-interrupted::-webkit-progress-bar {\n",
       "        background: #F44336;\n",
       "    }\n",
       "</style>\n"
      ],
      "text/plain": [
       "<IPython.core.display.HTML object>"
      ]
     },
     "metadata": {},
     "output_type": "display_data"
    },
    {
     "data": {
      "text/html": [
       "[Epoch: 00] Loss (1.269 / 0.830) - Accuracy (61.3% / 77.6%)<p>[Epoch: 01] Loss (0.805 / 0.672) - Accuracy (76.5% / 79.8%)<p>[Epoch: 02] Loss (0.676 / 0.598) - Accuracy (80.0% / 79.6%)<p>[Epoch: 03] Loss (0.595 / 0.551) - Accuracy (81.8% / 82.2%)<p>[Epoch: 04] Loss (0.543 / 0.523) - Accuracy (83.2% / 82.8%)"
      ],
      "text/plain": [
       "<IPython.core.display.HTML object>"
      ]
     },
     "metadata": {},
     "output_type": "display_data"
    },
    {
     "name": "stdout",
     "output_type": "stream",
     "text": [
      "[==================================================]\n",
      "SGD - 128: (0, 0.01, 0.0)\n"
     ]
    },
    {
     "data": {
      "text/html": [
       "\n",
       "<style>\n",
       "    /* Turns off some styling */\n",
       "    progress {\n",
       "        /* gets rid of default border in Firefox and Opera. */\n",
       "        border: none;\n",
       "        /* Needs to be in here for Safari polyfill so background images work as expected. */\n",
       "        background-size: auto;\n",
       "    }\n",
       "    progress:not([value]), progress:not([value])::-webkit-progress-bar {\n",
       "        background: repeating-linear-gradient(45deg, #7e7e7e, #7e7e7e 10px, #5c5c5c 10px, #5c5c5c 20px);\n",
       "    }\n",
       "    .progress-bar-interrupted, .progress-bar-interrupted::-webkit-progress-bar {\n",
       "        background: #F44336;\n",
       "    }\n",
       "</style>\n"
      ],
      "text/plain": [
       "<IPython.core.display.HTML object>"
      ]
     },
     "metadata": {},
     "output_type": "display_data"
    },
    {
     "data": {
      "text/html": [
       "[Epoch: 00] Loss (0.993 / 0.768) - Accuracy (70.5% / 78.8%)<p>[Epoch: 01] Loss (0.609 / 0.663) - Accuracy (83.5% / 80.8%)<p>[Epoch: 02] Loss (0.514 / 0.646) - Accuracy (85.8% / 83.0%)<p>[Epoch: 03] Loss (0.531 / 1.094) - Accuracy (83.9% / 64.8%)<p>[Epoch: 04] Loss (0.758 / 1.847) - Accuracy (75.6% / 37.2%)"
      ],
      "text/plain": [
       "<IPython.core.display.HTML object>"
      ]
     },
     "metadata": {},
     "output_type": "display_data"
    },
    {
     "name": "stdout",
     "output_type": "stream",
     "text": [
      "[==================================================]\n",
      "SGD - 128: (0, 0.01, 0.3)\n"
     ]
    },
    {
     "data": {
      "text/html": [
       "\n",
       "<style>\n",
       "    /* Turns off some styling */\n",
       "    progress {\n",
       "        /* gets rid of default border in Firefox and Opera. */\n",
       "        border: none;\n",
       "        /* Needs to be in here for Safari polyfill so background images work as expected. */\n",
       "        background-size: auto;\n",
       "    }\n",
       "    progress:not([value]), progress:not([value])::-webkit-progress-bar {\n",
       "        background: repeating-linear-gradient(45deg, #7e7e7e, #7e7e7e 10px, #5c5c5c 10px, #5c5c5c 20px);\n",
       "    }\n",
       "    .progress-bar-interrupted, .progress-bar-interrupted::-webkit-progress-bar {\n",
       "        background: #F44336;\n",
       "    }\n",
       "</style>\n"
      ],
      "text/plain": [
       "<IPython.core.display.HTML object>"
      ]
     },
     "metadata": {},
     "output_type": "display_data"
    },
    {
     "data": {
      "text/html": [
       "[Epoch: 00] Loss (1.189 / 0.838) - Accuracy (62.8% / 77.6%)<p>[Epoch: 01] Loss (0.743 / 0.695) - Accuracy (77.9% / 80.0%)<p>[Epoch: 02] Loss (0.622 / 0.666) - Accuracy (81.2% / 82.4%)<p>[Epoch: 03] Loss (0.569 / 0.913) - Accuracy (82.4% / 72.2%)<p>[Epoch: 04] Loss (0.743 / 1.855) - Accuracy (75.8% / 40.2%)"
      ],
      "text/plain": [
       "<IPython.core.display.HTML object>"
      ]
     },
     "metadata": {},
     "output_type": "display_data"
    },
    {
     "name": "stdout",
     "output_type": "stream",
     "text": [
      "[==================================================]\n",
      "SGD - 128: (0.001, 0, 0.0)\n"
     ]
    },
    {
     "data": {
      "text/html": [
       "\n",
       "<style>\n",
       "    /* Turns off some styling */\n",
       "    progress {\n",
       "        /* gets rid of default border in Firefox and Opera. */\n",
       "        border: none;\n",
       "        /* Needs to be in here for Safari polyfill so background images work as expected. */\n",
       "        background-size: auto;\n",
       "    }\n",
       "    progress:not([value]), progress:not([value])::-webkit-progress-bar {\n",
       "        background: repeating-linear-gradient(45deg, #7e7e7e, #7e7e7e 10px, #5c5c5c 10px, #5c5c5c 20px);\n",
       "    }\n",
       "    .progress-bar-interrupted, .progress-bar-interrupted::-webkit-progress-bar {\n",
       "        background: #F44336;\n",
       "    }\n",
       "</style>\n"
      ],
      "text/plain": [
       "<IPython.core.display.HTML object>"
      ]
     },
     "metadata": {},
     "output_type": "display_data"
    },
    {
     "data": {
      "text/html": [
       "[Epoch: 00] Loss (1.006 / 0.703) - Accuracy (70.4% / 76.6%)<p>[Epoch: 01] Loss (0.616 / 0.580) - Accuracy (82.9% / 83.8%)<p>[Epoch: 02] Loss (0.500 / 0.525) - Accuracy (86.0% / 83.8%)<p>[Epoch: 03] Loss (0.419 / 0.482) - Accuracy (88.8% / 85.2%)<p>[Epoch: 04] Loss (0.367 / 0.462) - Accuracy (90.2% / 85.8%)"
      ],
      "text/plain": [
       "<IPython.core.display.HTML object>"
      ]
     },
     "metadata": {},
     "output_type": "display_data"
    },
    {
     "name": "stdout",
     "output_type": "stream",
     "text": [
      "[==================================================]\n",
      "SGD - 128: (0.001, 0, 0.3)\n"
     ]
    },
    {
     "data": {
      "text/html": [
       "\n",
       "<style>\n",
       "    /* Turns off some styling */\n",
       "    progress {\n",
       "        /* gets rid of default border in Firefox and Opera. */\n",
       "        border: none;\n",
       "        /* Needs to be in here for Safari polyfill so background images work as expected. */\n",
       "        background-size: auto;\n",
       "    }\n",
       "    progress:not([value]), progress:not([value])::-webkit-progress-bar {\n",
       "        background: repeating-linear-gradient(45deg, #7e7e7e, #7e7e7e 10px, #5c5c5c 10px, #5c5c5c 20px);\n",
       "    }\n",
       "    .progress-bar-interrupted, .progress-bar-interrupted::-webkit-progress-bar {\n",
       "        background: #F44336;\n",
       "    }\n",
       "</style>\n"
      ],
      "text/plain": [
       "<IPython.core.display.HTML object>"
      ]
     },
     "metadata": {},
     "output_type": "display_data"
    },
    {
     "data": {
      "text/html": [
       "[Epoch: 00] Loss (1.293 / 0.825) - Accuracy (60.0% / 76.6%)<p>[Epoch: 01] Loss (0.827 / 0.684) - Accuracy (76.1% / 77.6%)<p>[Epoch: 02] Loss (0.693 / 0.608) - Accuracy (79.9% / 79.4%)<p>[Epoch: 03] Loss (0.608 / 0.564) - Accuracy (81.6% / 80.6%)<p>[Epoch: 04] Loss (0.553 / 0.514) - Accuracy (83.3% / 82.8%)"
      ],
      "text/plain": [
       "<IPython.core.display.HTML object>"
      ]
     },
     "metadata": {},
     "output_type": "display_data"
    },
    {
     "name": "stdout",
     "output_type": "stream",
     "text": [
      "[==================================================]\n",
      "SGD - 128: (0.001, 0.001, 0.0)\n"
     ]
    },
    {
     "data": {
      "text/html": [
       "\n",
       "<style>\n",
       "    /* Turns off some styling */\n",
       "    progress {\n",
       "        /* gets rid of default border in Firefox and Opera. */\n",
       "        border: none;\n",
       "        /* Needs to be in here for Safari polyfill so background images work as expected. */\n",
       "        background-size: auto;\n",
       "    }\n",
       "    progress:not([value]), progress:not([value])::-webkit-progress-bar {\n",
       "        background: repeating-linear-gradient(45deg, #7e7e7e, #7e7e7e 10px, #5c5c5c 10px, #5c5c5c 20px);\n",
       "    }\n",
       "    .progress-bar-interrupted, .progress-bar-interrupted::-webkit-progress-bar {\n",
       "        background: #F44336;\n",
       "    }\n",
       "</style>\n"
      ],
      "text/plain": [
       "<IPython.core.display.HTML object>"
      ]
     },
     "metadata": {},
     "output_type": "display_data"
    },
    {
     "data": {
      "text/html": [
       "[Epoch: 00] Loss (0.983 / 0.708) - Accuracy (71.2% / 77.6%)<p>[Epoch: 01] Loss (0.610 / 0.606) - Accuracy (83.1% / 79.8%)<p>[Epoch: 02] Loss (0.495 / 0.541) - Accuracy (86.3% / 82.4%)<p>[Epoch: 03] Loss (0.422 / 0.509) - Accuracy (88.7% / 84.4%)<p>[Epoch: 04] Loss (0.363 / 0.472) - Accuracy (90.5% / 84.8%)"
      ],
      "text/plain": [
       "<IPython.core.display.HTML object>"
      ]
     },
     "metadata": {},
     "output_type": "display_data"
    },
    {
     "name": "stdout",
     "output_type": "stream",
     "text": [
      "[==================================================]\n",
      "SGD - 128: (0.001, 0.001, 0.3)\n"
     ]
    },
    {
     "data": {
      "text/html": [
       "\n",
       "<style>\n",
       "    /* Turns off some styling */\n",
       "    progress {\n",
       "        /* gets rid of default border in Firefox and Opera. */\n",
       "        border: none;\n",
       "        /* Needs to be in here for Safari polyfill so background images work as expected. */\n",
       "        background-size: auto;\n",
       "    }\n",
       "    progress:not([value]), progress:not([value])::-webkit-progress-bar {\n",
       "        background: repeating-linear-gradient(45deg, #7e7e7e, #7e7e7e 10px, #5c5c5c 10px, #5c5c5c 20px);\n",
       "    }\n",
       "    .progress-bar-interrupted, .progress-bar-interrupted::-webkit-progress-bar {\n",
       "        background: #F44336;\n",
       "    }\n",
       "</style>\n"
      ],
      "text/plain": [
       "<IPython.core.display.HTML object>"
      ]
     },
     "metadata": {},
     "output_type": "display_data"
    },
    {
     "data": {
      "text/html": [
       "[Epoch: 00] Loss (1.193 / 0.785) - Accuracy (62.5% / 77.6%)<p>[Epoch: 01] Loss (0.782 / 0.653) - Accuracy (77.0% / 79.6%)<p>[Epoch: 02] Loss (0.671 / 0.590) - Accuracy (79.3% / 80.8%)<p>[Epoch: 03] Loss (0.597 / 0.539) - Accuracy (81.6% / 80.8%)<p>[Epoch: 04] Loss (0.544 / 0.522) - Accuracy (83.3% / 82.4%)"
      ],
      "text/plain": [
       "<IPython.core.display.HTML object>"
      ]
     },
     "metadata": {},
     "output_type": "display_data"
    },
    {
     "name": "stdout",
     "output_type": "stream",
     "text": [
      "[==================================================]\n",
      "SGD - 128: (0.001, 0.01, 0.0)\n"
     ]
    },
    {
     "data": {
      "text/html": [
       "\n",
       "<style>\n",
       "    /* Turns off some styling */\n",
       "    progress {\n",
       "        /* gets rid of default border in Firefox and Opera. */\n",
       "        border: none;\n",
       "        /* Needs to be in here for Safari polyfill so background images work as expected. */\n",
       "        background-size: auto;\n",
       "    }\n",
       "    progress:not([value]), progress:not([value])::-webkit-progress-bar {\n",
       "        background: repeating-linear-gradient(45deg, #7e7e7e, #7e7e7e 10px, #5c5c5c 10px, #5c5c5c 20px);\n",
       "    }\n",
       "    .progress-bar-interrupted, .progress-bar-interrupted::-webkit-progress-bar {\n",
       "        background: #F44336;\n",
       "    }\n",
       "</style>\n"
      ],
      "text/plain": [
       "<IPython.core.display.HTML object>"
      ]
     },
     "metadata": {},
     "output_type": "display_data"
    },
    {
     "data": {
      "text/html": [
       "[Epoch: 00] Loss (1.026 / 0.793) - Accuracy (70.0% / 81.4%)<p>[Epoch: 01] Loss (0.648 / 0.691) - Accuracy (82.7% / 83.2%)<p>[Epoch: 02] Loss (0.543 / 0.798) - Accuracy (85.2% / 76.8%)<p>[Epoch: 03] Loss (0.536 / 0.808) - Accuracy (84.3% / 77.8%)<p>[Epoch: 04] Loss (0.766 / 1.383) - Accuracy (75.9% / 58.6%)"
      ],
      "text/plain": [
       "<IPython.core.display.HTML object>"
      ]
     },
     "metadata": {},
     "output_type": "display_data"
    },
    {
     "name": "stdout",
     "output_type": "stream",
     "text": [
      "[==================================================]\n",
      "SGD - 128: (0.001, 0.01, 0.3)\n"
     ]
    },
    {
     "data": {
      "text/html": [
       "\n",
       "<style>\n",
       "    /* Turns off some styling */\n",
       "    progress {\n",
       "        /* gets rid of default border in Firefox and Opera. */\n",
       "        border: none;\n",
       "        /* Needs to be in here for Safari polyfill so background images work as expected. */\n",
       "        background-size: auto;\n",
       "    }\n",
       "    progress:not([value]), progress:not([value])::-webkit-progress-bar {\n",
       "        background: repeating-linear-gradient(45deg, #7e7e7e, #7e7e7e 10px, #5c5c5c 10px, #5c5c5c 20px);\n",
       "    }\n",
       "    .progress-bar-interrupted, .progress-bar-interrupted::-webkit-progress-bar {\n",
       "        background: #F44336;\n",
       "    }\n",
       "</style>\n"
      ],
      "text/plain": [
       "<IPython.core.display.HTML object>"
      ]
     },
     "metadata": {},
     "output_type": "display_data"
    },
    {
     "data": {
      "text/html": [
       "[Epoch: 00] Loss (1.192 / 0.852) - Accuracy (64.1% / 76.8%)<p>[Epoch: 01] Loss (0.759 / 0.716) - Accuracy (78.0% / 78.2%)<p>[Epoch: 02] Loss (0.628 / 0.663) - Accuracy (81.4% / 81.4%)<p>[Epoch: 03] Loss (0.574 / 0.707) - Accuracy (82.4% / 80.2%)<p>[Epoch: 04] Loss (0.750 / 1.379) - Accuracy (75.7% / 54.4%)"
      ],
      "text/plain": [
       "<IPython.core.display.HTML object>"
      ]
     },
     "metadata": {},
     "output_type": "display_data"
    },
    {
     "name": "stdout",
     "output_type": "stream",
     "text": [
      "[==================================================]\n",
      "SGD - 128: (0.01, 0, 0.0)\n"
     ]
    },
    {
     "data": {
      "text/html": [
       "\n",
       "<style>\n",
       "    /* Turns off some styling */\n",
       "    progress {\n",
       "        /* gets rid of default border in Firefox and Opera. */\n",
       "        border: none;\n",
       "        /* Needs to be in here for Safari polyfill so background images work as expected. */\n",
       "        background-size: auto;\n",
       "    }\n",
       "    progress:not([value]), progress:not([value])::-webkit-progress-bar {\n",
       "        background: repeating-linear-gradient(45deg, #7e7e7e, #7e7e7e 10px, #5c5c5c 10px, #5c5c5c 20px);\n",
       "    }\n",
       "    .progress-bar-interrupted, .progress-bar-interrupted::-webkit-progress-bar {\n",
       "        background: #F44336;\n",
       "    }\n",
       "</style>\n"
      ],
      "text/plain": [
       "<IPython.core.display.HTML object>"
      ]
     },
     "metadata": {},
     "output_type": "display_data"
    },
    {
     "data": {
      "text/html": [
       "[Epoch: 00] Loss (0.986 / 0.734) - Accuracy (70.4% / 77.4%)<p>[Epoch: 01] Loss (0.646 / 0.632) - Accuracy (82.0% / 82.0%)<p>[Epoch: 02] Loss (0.540 / 0.584) - Accuracy (85.8% / 82.2%)<p>[Epoch: 03] Loss (0.474 / 0.547) - Accuracy (88.1% / 83.2%)<p>[Epoch: 04] Loss (0.422 / 0.528) - Accuracy (89.5% / 84.0%)"
      ],
      "text/plain": [
       "<IPython.core.display.HTML object>"
      ]
     },
     "metadata": {},
     "output_type": "display_data"
    },
    {
     "name": "stdout",
     "output_type": "stream",
     "text": [
      "[==================================================]\n",
      "SGD - 128: (0.01, 0, 0.3)\n"
     ]
    },
    {
     "data": {
      "text/html": [
       "\n",
       "<style>\n",
       "    /* Turns off some styling */\n",
       "    progress {\n",
       "        /* gets rid of default border in Firefox and Opera. */\n",
       "        border: none;\n",
       "        /* Needs to be in here for Safari polyfill so background images work as expected. */\n",
       "        background-size: auto;\n",
       "    }\n",
       "    progress:not([value]), progress:not([value])::-webkit-progress-bar {\n",
       "        background: repeating-linear-gradient(45deg, #7e7e7e, #7e7e7e 10px, #5c5c5c 10px, #5c5c5c 20px);\n",
       "    }\n",
       "    .progress-bar-interrupted, .progress-bar-interrupted::-webkit-progress-bar {\n",
       "        background: #F44336;\n",
       "    }\n",
       "</style>\n"
      ],
      "text/plain": [
       "<IPython.core.display.HTML object>"
      ]
     },
     "metadata": {},
     "output_type": "display_data"
    },
    {
     "data": {
      "text/html": [
       "[Epoch: 00] Loss (1.210 / 0.787) - Accuracy (62.4% / 75.8%)<p>[Epoch: 01] Loss (0.798 / 0.675) - Accuracy (76.5% / 77.6%)<p>[Epoch: 02] Loss (0.683 / 0.620) - Accuracy (79.6% / 80.0%)<p>[Epoch: 03] Loss (0.621 / 0.573) - Accuracy (81.2% / 82.0%)<p>[Epoch: 04] Loss (0.574 / 0.539) - Accuracy (82.8% / 83.6%)"
      ],
      "text/plain": [
       "<IPython.core.display.HTML object>"
      ]
     },
     "metadata": {},
     "output_type": "display_data"
    },
    {
     "name": "stdout",
     "output_type": "stream",
     "text": [
      "[==================================================]\n",
      "SGD - 128: (0.01, 0.001, 0.0)\n"
     ]
    },
    {
     "data": {
      "text/html": [
       "\n",
       "<style>\n",
       "    /* Turns off some styling */\n",
       "    progress {\n",
       "        /* gets rid of default border in Firefox and Opera. */\n",
       "        border: none;\n",
       "        /* Needs to be in here for Safari polyfill so background images work as expected. */\n",
       "        background-size: auto;\n",
       "    }\n",
       "    progress:not([value]), progress:not([value])::-webkit-progress-bar {\n",
       "        background: repeating-linear-gradient(45deg, #7e7e7e, #7e7e7e 10px, #5c5c5c 10px, #5c5c5c 20px);\n",
       "    }\n",
       "    .progress-bar-interrupted, .progress-bar-interrupted::-webkit-progress-bar {\n",
       "        background: #F44336;\n",
       "    }\n",
       "</style>\n"
      ],
      "text/plain": [
       "<IPython.core.display.HTML object>"
      ]
     },
     "metadata": {},
     "output_type": "display_data"
    },
    {
     "data": {
      "text/html": [
       "[Epoch: 00] Loss (0.935 / 0.716) - Accuracy (72.4% / 78.0%)<p>[Epoch: 01] Loss (0.609 / 0.607) - Accuracy (82.8% / 80.6%)<p>[Epoch: 02] Loss (0.515 / 0.566) - Accuracy (86.1% / 83.8%)<p>[Epoch: 03] Loss (0.453 / 0.535) - Accuracy (88.1% / 85.4%)<p>[Epoch: 04] Loss (0.404 / 0.500) - Accuracy (90.4% / 85.2%)"
      ],
      "text/plain": [
       "<IPython.core.display.HTML object>"
      ]
     },
     "metadata": {},
     "output_type": "display_data"
    },
    {
     "name": "stdout",
     "output_type": "stream",
     "text": [
      "[==================================================]\n",
      "SGD - 128: (0.01, 0.001, 0.3)\n"
     ]
    },
    {
     "data": {
      "text/html": [
       "\n",
       "<style>\n",
       "    /* Turns off some styling */\n",
       "    progress {\n",
       "        /* gets rid of default border in Firefox and Opera. */\n",
       "        border: none;\n",
       "        /* Needs to be in here for Safari polyfill so background images work as expected. */\n",
       "        background-size: auto;\n",
       "    }\n",
       "    progress:not([value]), progress:not([value])::-webkit-progress-bar {\n",
       "        background: repeating-linear-gradient(45deg, #7e7e7e, #7e7e7e 10px, #5c5c5c 10px, #5c5c5c 20px);\n",
       "    }\n",
       "    .progress-bar-interrupted, .progress-bar-interrupted::-webkit-progress-bar {\n",
       "        background: #F44336;\n",
       "    }\n",
       "</style>\n"
      ],
      "text/plain": [
       "<IPython.core.display.HTML object>"
      ]
     },
     "metadata": {},
     "output_type": "display_data"
    },
    {
     "data": {
      "text/html": [
       "[Epoch: 00] Loss (1.277 / 0.810) - Accuracy (61.2% / 77.0%)<p>[Epoch: 01] Loss (0.809 / 0.684) - Accuracy (76.6% / 80.0%)<p>[Epoch: 02] Loss (0.688 / 0.622) - Accuracy (80.1% / 81.8%)<p>[Epoch: 03] Loss (0.624 / 0.577) - Accuracy (81.6% / 83.4%)<p>[Epoch: 04] Loss (0.573 / 0.539) - Accuracy (83.5% / 85.2%)"
      ],
      "text/plain": [
       "<IPython.core.display.HTML object>"
      ]
     },
     "metadata": {},
     "output_type": "display_data"
    },
    {
     "name": "stdout",
     "output_type": "stream",
     "text": [
      "[==================================================]\n",
      "SGD - 128: (0.01, 0.01, 0.0)\n"
     ]
    },
    {
     "data": {
      "text/html": [
       "\n",
       "<style>\n",
       "    /* Turns off some styling */\n",
       "    progress {\n",
       "        /* gets rid of default border in Firefox and Opera. */\n",
       "        border: none;\n",
       "        /* Needs to be in here for Safari polyfill so background images work as expected. */\n",
       "        background-size: auto;\n",
       "    }\n",
       "    progress:not([value]), progress:not([value])::-webkit-progress-bar {\n",
       "        background: repeating-linear-gradient(45deg, #7e7e7e, #7e7e7e 10px, #5c5c5c 10px, #5c5c5c 20px);\n",
       "    }\n",
       "    .progress-bar-interrupted, .progress-bar-interrupted::-webkit-progress-bar {\n",
       "        background: #F44336;\n",
       "    }\n",
       "</style>\n"
      ],
      "text/plain": [
       "<IPython.core.display.HTML object>"
      ]
     },
     "metadata": {},
     "output_type": "display_data"
    },
    {
     "data": {
      "text/html": [
       "[Epoch: 00] Loss (0.946 / 0.763) - Accuracy (72.1% / 79.0%)<p>[Epoch: 01] Loss (0.618 / 0.733) - Accuracy (83.3% / 81.0%)<p>[Epoch: 02] Loss (0.546 / 0.769) - Accuracy (85.3% / 75.8%)<p>[Epoch: 03] Loss (0.579 / 1.774) - Accuracy (83.6% / 37.2%)<p>[Epoch: 04] Loss (0.834 / 2.026) - Accuracy (73.8% / 30.8%)"
      ],
      "text/plain": [
       "<IPython.core.display.HTML object>"
      ]
     },
     "metadata": {},
     "output_type": "display_data"
    },
    {
     "name": "stdout",
     "output_type": "stream",
     "text": [
      "[==================================================]\n",
      "SGD - 128: (0.01, 0.01, 0.3)\n"
     ]
    },
    {
     "data": {
      "text/html": [
       "\n",
       "<style>\n",
       "    /* Turns off some styling */\n",
       "    progress {\n",
       "        /* gets rid of default border in Firefox and Opera. */\n",
       "        border: none;\n",
       "        /* Needs to be in here for Safari polyfill so background images work as expected. */\n",
       "        background-size: auto;\n",
       "    }\n",
       "    progress:not([value]), progress:not([value])::-webkit-progress-bar {\n",
       "        background: repeating-linear-gradient(45deg, #7e7e7e, #7e7e7e 10px, #5c5c5c 10px, #5c5c5c 20px);\n",
       "    }\n",
       "    .progress-bar-interrupted, .progress-bar-interrupted::-webkit-progress-bar {\n",
       "        background: #F44336;\n",
       "    }\n",
       "</style>\n"
      ],
      "text/plain": [
       "<IPython.core.display.HTML object>"
      ]
     },
     "metadata": {},
     "output_type": "display_data"
    },
    {
     "data": {
      "text/html": [
       "[Epoch: 00] Loss (1.243 / 0.914) - Accuracy (62.4% / 78.4%)<p>[Epoch: 01] Loss (0.811 / 0.799) - Accuracy (77.7% / 79.8%)<p>[Epoch: 02] Loss (0.694 / 0.728) - Accuracy (80.8% / 82.4%)<p>[Epoch: 03] Loss (0.643 / 1.088) - Accuracy (82.0% / 70.8%)<p>[Epoch: 04] Loss (0.850 / 1.511) - Accuracy (74.1% / 53.8%)"
      ],
      "text/plain": [
       "<IPython.core.display.HTML object>"
      ]
     },
     "metadata": {},
     "output_type": "display_data"
    },
    {
     "name": "stdout",
     "output_type": "stream",
     "text": [
      "[==================================================]\n",
      "SGD - 256: (0, 0, 0.0)\n"
     ]
    },
    {
     "data": {
      "text/html": [
       "\n",
       "<style>\n",
       "    /* Turns off some styling */\n",
       "    progress {\n",
       "        /* gets rid of default border in Firefox and Opera. */\n",
       "        border: none;\n",
       "        /* Needs to be in here for Safari polyfill so background images work as expected. */\n",
       "        background-size: auto;\n",
       "    }\n",
       "    progress:not([value]), progress:not([value])::-webkit-progress-bar {\n",
       "        background: repeating-linear-gradient(45deg, #7e7e7e, #7e7e7e 10px, #5c5c5c 10px, #5c5c5c 20px);\n",
       "    }\n",
       "    .progress-bar-interrupted, .progress-bar-interrupted::-webkit-progress-bar {\n",
       "        background: #F44336;\n",
       "    }\n",
       "</style>\n"
      ],
      "text/plain": [
       "<IPython.core.display.HTML object>"
      ]
     },
     "metadata": {},
     "output_type": "display_data"
    },
    {
     "data": {
      "text/html": [
       "[Epoch: 00] Loss (1.240 / 0.920) - Accuracy (63.1% / 76.6%)<p>[Epoch: 01] Loss (0.815 / 0.760) - Accuracy (77.7% / 78.8%)<p>[Epoch: 02] Loss (0.682 / 0.681) - Accuracy (81.6% / 79.0%)<p>[Epoch: 03] Loss (0.596 / 0.625) - Accuracy (84.1% / 81.4%)<p>[Epoch: 04] Loss (0.536 / 0.589) - Accuracy (86.0% / 82.6%)"
      ],
      "text/plain": [
       "<IPython.core.display.HTML object>"
      ]
     },
     "metadata": {},
     "output_type": "display_data"
    },
    {
     "name": "stdout",
     "output_type": "stream",
     "text": [
      "[==================================================]\n",
      "SGD - 256: (0, 0, 0.3)\n"
     ]
    },
    {
     "data": {
      "text/html": [
       "\n",
       "<style>\n",
       "    /* Turns off some styling */\n",
       "    progress {\n",
       "        /* gets rid of default border in Firefox and Opera. */\n",
       "        border: none;\n",
       "        /* Needs to be in here for Safari polyfill so background images work as expected. */\n",
       "        background-size: auto;\n",
       "    }\n",
       "    progress:not([value]), progress:not([value])::-webkit-progress-bar {\n",
       "        background: repeating-linear-gradient(45deg, #7e7e7e, #7e7e7e 10px, #5c5c5c 10px, #5c5c5c 20px);\n",
       "    }\n",
       "    .progress-bar-interrupted, .progress-bar-interrupted::-webkit-progress-bar {\n",
       "        background: #F44336;\n",
       "    }\n",
       "</style>\n"
      ],
      "text/plain": [
       "<IPython.core.display.HTML object>"
      ]
     },
     "metadata": {},
     "output_type": "display_data"
    },
    {
     "data": {
      "text/html": [
       "[Epoch: 00] Loss (1.439 / 0.944) - Accuracy (53.9% / 76.0%)<p>[Epoch: 01] Loss (0.962 / 0.800) - Accuracy (72.2% / 76.6%)<p>[Epoch: 02] Loss (0.829 / 0.710) - Accuracy (75.8% / 78.6%)<p>[Epoch: 03] Loss (0.743 / 0.664) - Accuracy (77.7% / 78.8%)<p>[Epoch: 04] Loss (0.687 / 0.624) - Accuracy (79.2% / 80.0%)"
      ],
      "text/plain": [
       "<IPython.core.display.HTML object>"
      ]
     },
     "metadata": {},
     "output_type": "display_data"
    },
    {
     "name": "stdout",
     "output_type": "stream",
     "text": [
      "[==================================================]\n",
      "SGD - 256: (0, 0.001, 0.0)\n"
     ]
    },
    {
     "data": {
      "text/html": [
       "\n",
       "<style>\n",
       "    /* Turns off some styling */\n",
       "    progress {\n",
       "        /* gets rid of default border in Firefox and Opera. */\n",
       "        border: none;\n",
       "        /* Needs to be in here for Safari polyfill so background images work as expected. */\n",
       "        background-size: auto;\n",
       "    }\n",
       "    progress:not([value]), progress:not([value])::-webkit-progress-bar {\n",
       "        background: repeating-linear-gradient(45deg, #7e7e7e, #7e7e7e 10px, #5c5c5c 10px, #5c5c5c 20px);\n",
       "    }\n",
       "    .progress-bar-interrupted, .progress-bar-interrupted::-webkit-progress-bar {\n",
       "        background: #F44336;\n",
       "    }\n",
       "</style>\n"
      ],
      "text/plain": [
       "<IPython.core.display.HTML object>"
      ]
     },
     "metadata": {},
     "output_type": "display_data"
    },
    {
     "data": {
      "text/html": [
       "[Epoch: 00] Loss (1.171 / 0.826) - Accuracy (64.8% / 76.2%)<p>[Epoch: 01] Loss (0.743 / 0.727) - Accuracy (79.6% / 79.0%)<p>[Epoch: 02] Loss (0.625 / 0.659) - Accuracy (83.1% / 79.6%)<p>[Epoch: 03] Loss (0.549 / 0.617) - Accuracy (85.5% / 80.8%)<p>[Epoch: 04] Loss (0.492 / 0.588) - Accuracy (87.2% / 82.4%)"
      ],
      "text/plain": [
       "<IPython.core.display.HTML object>"
      ]
     },
     "metadata": {},
     "output_type": "display_data"
    },
    {
     "name": "stdout",
     "output_type": "stream",
     "text": [
      "[==================================================]\n",
      "SGD - 256: (0, 0.001, 0.3)\n"
     ]
    },
    {
     "data": {
      "text/html": [
       "\n",
       "<style>\n",
       "    /* Turns off some styling */\n",
       "    progress {\n",
       "        /* gets rid of default border in Firefox and Opera. */\n",
       "        border: none;\n",
       "        /* Needs to be in here for Safari polyfill so background images work as expected. */\n",
       "        background-size: auto;\n",
       "    }\n",
       "    progress:not([value]), progress:not([value])::-webkit-progress-bar {\n",
       "        background: repeating-linear-gradient(45deg, #7e7e7e, #7e7e7e 10px, #5c5c5c 10px, #5c5c5c 20px);\n",
       "    }\n",
       "    .progress-bar-interrupted, .progress-bar-interrupted::-webkit-progress-bar {\n",
       "        background: #F44336;\n",
       "    }\n",
       "</style>\n"
      ],
      "text/plain": [
       "<IPython.core.display.HTML object>"
      ]
     },
     "metadata": {},
     "output_type": "display_data"
    },
    {
     "data": {
      "text/html": [
       "[Epoch: 00] Loss (1.467 / 0.923) - Accuracy (52.6% / 75.8%)<p>[Epoch: 01] Loss (0.964 / 0.783) - Accuracy (72.1% / 78.2%)<p>[Epoch: 02] Loss (0.827 / 0.693) - Accuracy (75.5% / 80.2%)<p>[Epoch: 03] Loss (0.747 / 0.641) - Accuracy (78.3% / 82.0%)<p>[Epoch: 04] Loss (0.686 / 0.604) - Accuracy (79.5% / 82.4%)"
      ],
      "text/plain": [
       "<IPython.core.display.HTML object>"
      ]
     },
     "metadata": {},
     "output_type": "display_data"
    },
    {
     "name": "stdout",
     "output_type": "stream",
     "text": [
      "[==================================================]\n",
      "SGD - 256: (0, 0.01, 0.0)\n"
     ]
    },
    {
     "data": {
      "text/html": [
       "\n",
       "<style>\n",
       "    /* Turns off some styling */\n",
       "    progress {\n",
       "        /* gets rid of default border in Firefox and Opera. */\n",
       "        border: none;\n",
       "        /* Needs to be in here for Safari polyfill so background images work as expected. */\n",
       "        background-size: auto;\n",
       "    }\n",
       "    progress:not([value]), progress:not([value])::-webkit-progress-bar {\n",
       "        background: repeating-linear-gradient(45deg, #7e7e7e, #7e7e7e 10px, #5c5c5c 10px, #5c5c5c 20px);\n",
       "    }\n",
       "    .progress-bar-interrupted, .progress-bar-interrupted::-webkit-progress-bar {\n",
       "        background: #F44336;\n",
       "    }\n",
       "</style>\n"
      ],
      "text/plain": [
       "<IPython.core.display.HTML object>"
      ]
     },
     "metadata": {},
     "output_type": "display_data"
    },
    {
     "data": {
      "text/html": [
       "[Epoch: 00] Loss (1.155 / 0.862) - Accuracy (66.8% / 77.6%)<p>[Epoch: 01] Loss (0.719 / 0.731) - Accuracy (80.8% / 79.6%)<p>[Epoch: 02] Loss (0.603 / 0.691) - Accuracy (84.2% / 80.0%)<p>[Epoch: 03] Loss (0.531 / 0.656) - Accuracy (86.7% / 82.0%)<p>[Epoch: 04] Loss (0.483 / 0.595) - Accuracy (88.0% / 84.0%)"
      ],
      "text/plain": [
       "<IPython.core.display.HTML object>"
      ]
     },
     "metadata": {},
     "output_type": "display_data"
    },
    {
     "name": "stdout",
     "output_type": "stream",
     "text": [
      "[==================================================]\n",
      "SGD - 256: (0, 0.01, 0.3)\n"
     ]
    },
    {
     "data": {
      "text/html": [
       "\n",
       "<style>\n",
       "    /* Turns off some styling */\n",
       "    progress {\n",
       "        /* gets rid of default border in Firefox and Opera. */\n",
       "        border: none;\n",
       "        /* Needs to be in here for Safari polyfill so background images work as expected. */\n",
       "        background-size: auto;\n",
       "    }\n",
       "    progress:not([value]), progress:not([value])::-webkit-progress-bar {\n",
       "        background: repeating-linear-gradient(45deg, #7e7e7e, #7e7e7e 10px, #5c5c5c 10px, #5c5c5c 20px);\n",
       "    }\n",
       "    .progress-bar-interrupted, .progress-bar-interrupted::-webkit-progress-bar {\n",
       "        background: #F44336;\n",
       "    }\n",
       "</style>\n"
      ],
      "text/plain": [
       "<IPython.core.display.HTML object>"
      ]
     },
     "metadata": {},
     "output_type": "display_data"
    },
    {
     "data": {
      "text/html": [
       "[Epoch: 00] Loss (1.417 / 0.981) - Accuracy (54.6% / 77.6%)<p>[Epoch: 01] Loss (0.935 / 0.814) - Accuracy (73.5% / 79.6%)<p>[Epoch: 02] Loss (0.794 / 0.750) - Accuracy (77.2% / 79.6%)<p>[Epoch: 03] Loss (0.708 / 0.700) - Accuracy (79.4% / 79.6%)<p>[Epoch: 04] Loss (0.648 / 0.669) - Accuracy (81.4% / 81.2%)"
      ],
      "text/plain": [
       "<IPython.core.display.HTML object>"
      ]
     },
     "metadata": {},
     "output_type": "display_data"
    },
    {
     "name": "stdout",
     "output_type": "stream",
     "text": [
      "[==================================================]\n",
      "SGD - 256: (0.001, 0, 0.0)\n"
     ]
    },
    {
     "data": {
      "text/html": [
       "\n",
       "<style>\n",
       "    /* Turns off some styling */\n",
       "    progress {\n",
       "        /* gets rid of default border in Firefox and Opera. */\n",
       "        border: none;\n",
       "        /* Needs to be in here for Safari polyfill so background images work as expected. */\n",
       "        background-size: auto;\n",
       "    }\n",
       "    progress:not([value]), progress:not([value])::-webkit-progress-bar {\n",
       "        background: repeating-linear-gradient(45deg, #7e7e7e, #7e7e7e 10px, #5c5c5c 10px, #5c5c5c 20px);\n",
       "    }\n",
       "    .progress-bar-interrupted, .progress-bar-interrupted::-webkit-progress-bar {\n",
       "        background: #F44336;\n",
       "    }\n",
       "</style>\n"
      ],
      "text/plain": [
       "<IPython.core.display.HTML object>"
      ]
     },
     "metadata": {},
     "output_type": "display_data"
    },
    {
     "data": {
      "text/html": [
       "[Epoch: 00] Loss (1.252 / 0.868) - Accuracy (61.7% / 76.2%)<p>[Epoch: 01] Loss (0.789 / 0.735) - Accuracy (78.6% / 79.2%)<p>[Epoch: 02] Loss (0.664 / 0.661) - Accuracy (82.2% / 81.4%)<p>[Epoch: 03] Loss (0.584 / 0.603) - Accuracy (84.6% / 82.8%)<p>[Epoch: 04] Loss (0.529 / 0.565) - Accuracy (86.3% / 83.2%)"
      ],
      "text/plain": [
       "<IPython.core.display.HTML object>"
      ]
     },
     "metadata": {},
     "output_type": "display_data"
    },
    {
     "name": "stdout",
     "output_type": "stream",
     "text": [
      "[==================================================]\n",
      "SGD - 256: (0.001, 0, 0.3)\n"
     ]
    },
    {
     "data": {
      "text/html": [
       "\n",
       "<style>\n",
       "    /* Turns off some styling */\n",
       "    progress {\n",
       "        /* gets rid of default border in Firefox and Opera. */\n",
       "        border: none;\n",
       "        /* Needs to be in here for Safari polyfill so background images work as expected. */\n",
       "        background-size: auto;\n",
       "    }\n",
       "    progress:not([value]), progress:not([value])::-webkit-progress-bar {\n",
       "        background: repeating-linear-gradient(45deg, #7e7e7e, #7e7e7e 10px, #5c5c5c 10px, #5c5c5c 20px);\n",
       "    }\n",
       "    .progress-bar-interrupted, .progress-bar-interrupted::-webkit-progress-bar {\n",
       "        background: #F44336;\n",
       "    }\n",
       "</style>\n"
      ],
      "text/plain": [
       "<IPython.core.display.HTML object>"
      ]
     },
     "metadata": {},
     "output_type": "display_data"
    },
    {
     "data": {
      "text/html": [
       "[Epoch: 00] Loss (1.462 / 0.942) - Accuracy (54.9% / 74.2%)<p>[Epoch: 01] Loss (0.960 / 0.774) - Accuracy (73.3% / 78.6%)<p>[Epoch: 02] Loss (0.817 / 0.689) - Accuracy (77.0% / 80.2%)<p>[Epoch: 03] Loss (0.728 / 0.638) - Accuracy (78.8% / 81.0%)<p>[Epoch: 04] Loss (0.676 / 0.597) - Accuracy (79.9% / 81.0%)"
      ],
      "text/plain": [
       "<IPython.core.display.HTML object>"
      ]
     },
     "metadata": {},
     "output_type": "display_data"
    },
    {
     "name": "stdout",
     "output_type": "stream",
     "text": [
      "[==================================================]\n",
      "SGD - 256: (0.001, 0.001, 0.0)\n"
     ]
    },
    {
     "data": {
      "text/html": [
       "\n",
       "<style>\n",
       "    /* Turns off some styling */\n",
       "    progress {\n",
       "        /* gets rid of default border in Firefox and Opera. */\n",
       "        border: none;\n",
       "        /* Needs to be in here for Safari polyfill so background images work as expected. */\n",
       "        background-size: auto;\n",
       "    }\n",
       "    progress:not([value]), progress:not([value])::-webkit-progress-bar {\n",
       "        background: repeating-linear-gradient(45deg, #7e7e7e, #7e7e7e 10px, #5c5c5c 10px, #5c5c5c 20px);\n",
       "    }\n",
       "    .progress-bar-interrupted, .progress-bar-interrupted::-webkit-progress-bar {\n",
       "        background: #F44336;\n",
       "    }\n",
       "</style>\n"
      ],
      "text/plain": [
       "<IPython.core.display.HTML object>"
      ]
     },
     "metadata": {},
     "output_type": "display_data"
    },
    {
     "data": {
      "text/html": [
       "[Epoch: 00] Loss (1.163 / 0.842) - Accuracy (65.3% / 77.0%)<p>[Epoch: 01] Loss (0.725 / 0.692) - Accuracy (80.9% / 80.6%)<p>[Epoch: 02] Loss (0.603 / 0.627) - Accuracy (84.3% / 82.2%)<p>[Epoch: 03] Loss (0.529 / 0.585) - Accuracy (86.3% / 83.0%)<p>[Epoch: 04] Loss (0.472 / 0.548) - Accuracy (88.1% / 84.0%)"
      ],
      "text/plain": [
       "<IPython.core.display.HTML object>"
      ]
     },
     "metadata": {},
     "output_type": "display_data"
    },
    {
     "name": "stdout",
     "output_type": "stream",
     "text": [
      "[==================================================]\n",
      "SGD - 256: (0.001, 0.001, 0.3)\n"
     ]
    },
    {
     "data": {
      "text/html": [
       "\n",
       "<style>\n",
       "    /* Turns off some styling */\n",
       "    progress {\n",
       "        /* gets rid of default border in Firefox and Opera. */\n",
       "        border: none;\n",
       "        /* Needs to be in here for Safari polyfill so background images work as expected. */\n",
       "        background-size: auto;\n",
       "    }\n",
       "    progress:not([value]), progress:not([value])::-webkit-progress-bar {\n",
       "        background: repeating-linear-gradient(45deg, #7e7e7e, #7e7e7e 10px, #5c5c5c 10px, #5c5c5c 20px);\n",
       "    }\n",
       "    .progress-bar-interrupted, .progress-bar-interrupted::-webkit-progress-bar {\n",
       "        background: #F44336;\n",
       "    }\n",
       "</style>\n"
      ],
      "text/plain": [
       "<IPython.core.display.HTML object>"
      ]
     },
     "metadata": {},
     "output_type": "display_data"
    },
    {
     "data": {
      "text/html": [
       "[Epoch: 00] Loss (1.502 / 0.973) - Accuracy (53.6% / 74.8%)<p>[Epoch: 01] Loss (0.988 / 0.797) - Accuracy (73.1% / 77.8%)<p>[Epoch: 02] Loss (0.839 / 0.703) - Accuracy (76.4% / 79.8%)<p>[Epoch: 03] Loss (0.747 / 0.648) - Accuracy (79.1% / 80.6%)<p>[Epoch: 04] Loss (0.687 / 0.600) - Accuracy (79.9% / 82.2%)"
      ],
      "text/plain": [
       "<IPython.core.display.HTML object>"
      ]
     },
     "metadata": {},
     "output_type": "display_data"
    },
    {
     "name": "stdout",
     "output_type": "stream",
     "text": [
      "[==================================================]\n",
      "SGD - 256: (0.001, 0.01, 0.0)\n"
     ]
    },
    {
     "data": {
      "text/html": [
       "\n",
       "<style>\n",
       "    /* Turns off some styling */\n",
       "    progress {\n",
       "        /* gets rid of default border in Firefox and Opera. */\n",
       "        border: none;\n",
       "        /* Needs to be in here for Safari polyfill so background images work as expected. */\n",
       "        background-size: auto;\n",
       "    }\n",
       "    progress:not([value]), progress:not([value])::-webkit-progress-bar {\n",
       "        background: repeating-linear-gradient(45deg, #7e7e7e, #7e7e7e 10px, #5c5c5c 10px, #5c5c5c 20px);\n",
       "    }\n",
       "    .progress-bar-interrupted, .progress-bar-interrupted::-webkit-progress-bar {\n",
       "        background: #F44336;\n",
       "    }\n",
       "</style>\n"
      ],
      "text/plain": [
       "<IPython.core.display.HTML object>"
      ]
     },
     "metadata": {},
     "output_type": "display_data"
    },
    {
     "data": {
      "text/html": [
       "[Epoch: 00] Loss (1.178 / 0.904) - Accuracy (65.4% / 75.4%)<p>[Epoch: 01] Loss (0.763 / 0.778) - Accuracy (79.8% / 80.0%)<p>[Epoch: 02] Loss (0.647 / 0.707) - Accuracy (83.2% / 83.0%)<p>[Epoch: 03] Loss (0.572 / 0.655) - Accuracy (85.3% / 85.0%)<p>[Epoch: 04] Loss (0.519 / 0.631) - Accuracy (86.7% / 85.6%)"
      ],
      "text/plain": [
       "<IPython.core.display.HTML object>"
      ]
     },
     "metadata": {},
     "output_type": "display_data"
    },
    {
     "name": "stdout",
     "output_type": "stream",
     "text": [
      "[==================================================]\n",
      "SGD - 256: (0.001, 0.01, 0.3)\n"
     ]
    },
    {
     "data": {
      "text/html": [
       "\n",
       "<style>\n",
       "    /* Turns off some styling */\n",
       "    progress {\n",
       "        /* gets rid of default border in Firefox and Opera. */\n",
       "        border: none;\n",
       "        /* Needs to be in here for Safari polyfill so background images work as expected. */\n",
       "        background-size: auto;\n",
       "    }\n",
       "    progress:not([value]), progress:not([value])::-webkit-progress-bar {\n",
       "        background: repeating-linear-gradient(45deg, #7e7e7e, #7e7e7e 10px, #5c5c5c 10px, #5c5c5c 20px);\n",
       "    }\n",
       "    .progress-bar-interrupted, .progress-bar-interrupted::-webkit-progress-bar {\n",
       "        background: #F44336;\n",
       "    }\n",
       "</style>\n"
      ],
      "text/plain": [
       "<IPython.core.display.HTML object>"
      ]
     },
     "metadata": {},
     "output_type": "display_data"
    },
    {
     "data": {
      "text/html": [
       "[Epoch: 00] Loss (1.510 / 1.057) - Accuracy (52.7% / 71.2%)<p>[Epoch: 01] Loss (0.967 / 0.890) - Accuracy (73.0% / 73.6%)<p>[Epoch: 02] Loss (0.815 / 0.797) - Accuracy (77.1% / 75.6%)<p>[Epoch: 03] Loss (0.721 / 0.740) - Accuracy (79.1% / 76.2%)<p>[Epoch: 04] Loss (0.660 / 0.710) - Accuracy (81.2% / 78.2%)"
      ],
      "text/plain": [
       "<IPython.core.display.HTML object>"
      ]
     },
     "metadata": {},
     "output_type": "display_data"
    },
    {
     "name": "stdout",
     "output_type": "stream",
     "text": [
      "[==================================================]\n",
      "SGD - 256: (0.01, 0, 0.0)\n"
     ]
    },
    {
     "data": {
      "text/html": [
       "\n",
       "<style>\n",
       "    /* Turns off some styling */\n",
       "    progress {\n",
       "        /* gets rid of default border in Firefox and Opera. */\n",
       "        border: none;\n",
       "        /* Needs to be in here for Safari polyfill so background images work as expected. */\n",
       "        background-size: auto;\n",
       "    }\n",
       "    progress:not([value]), progress:not([value])::-webkit-progress-bar {\n",
       "        background: repeating-linear-gradient(45deg, #7e7e7e, #7e7e7e 10px, #5c5c5c 10px, #5c5c5c 20px);\n",
       "    }\n",
       "    .progress-bar-interrupted, .progress-bar-interrupted::-webkit-progress-bar {\n",
       "        background: #F44336;\n",
       "    }\n",
       "</style>\n"
      ],
      "text/plain": [
       "<IPython.core.display.HTML object>"
      ]
     },
     "metadata": {},
     "output_type": "display_data"
    },
    {
     "data": {
      "text/html": [
       "[Epoch: 00] Loss (1.194 / 0.857) - Accuracy (62.2% / 75.6%)<p>[Epoch: 01] Loss (0.751 / 0.720) - Accuracy (79.0% / 80.6%)<p>[Epoch: 02] Loss (0.637 / 0.656) - Accuracy (82.7% / 80.2%)<p>[Epoch: 03] Loss (0.566 / 0.617) - Accuracy (85.2% / 81.0%)<p>[Epoch: 04] Loss (0.516 / 0.582) - Accuracy (87.1% / 81.0%)"
      ],
      "text/plain": [
       "<IPython.core.display.HTML object>"
      ]
     },
     "metadata": {},
     "output_type": "display_data"
    },
    {
     "name": "stdout",
     "output_type": "stream",
     "text": [
      "[==================================================]\n",
      "SGD - 256: (0.01, 0, 0.3)\n"
     ]
    },
    {
     "data": {
      "text/html": [
       "\n",
       "<style>\n",
       "    /* Turns off some styling */\n",
       "    progress {\n",
       "        /* gets rid of default border in Firefox and Opera. */\n",
       "        border: none;\n",
       "        /* Needs to be in here for Safari polyfill so background images work as expected. */\n",
       "        background-size: auto;\n",
       "    }\n",
       "    progress:not([value]), progress:not([value])::-webkit-progress-bar {\n",
       "        background: repeating-linear-gradient(45deg, #7e7e7e, #7e7e7e 10px, #5c5c5c 10px, #5c5c5c 20px);\n",
       "    }\n",
       "    .progress-bar-interrupted, .progress-bar-interrupted::-webkit-progress-bar {\n",
       "        background: #F44336;\n",
       "    }\n",
       "</style>\n"
      ],
      "text/plain": [
       "<IPython.core.display.HTML object>"
      ]
     },
     "metadata": {},
     "output_type": "display_data"
    },
    {
     "data": {
      "text/html": [
       "[Epoch: 00] Loss (1.538 / 1.056) - Accuracy (51.2% / 74.4%)<p>[Epoch: 01] Loss (1.025 / 0.875) - Accuracy (71.7% / 77.2%)<p>[Epoch: 02] Loss (0.879 / 0.784) - Accuracy (76.0% / 78.4%)<p>[Epoch: 03] Loss (0.798 / 0.734) - Accuracy (77.4% / 78.8%)<p>[Epoch: 04] Loss (0.742 / 0.693) - Accuracy (79.2% / 79.8%)"
      ],
      "text/plain": [
       "<IPython.core.display.HTML object>"
      ]
     },
     "metadata": {},
     "output_type": "display_data"
    },
    {
     "name": "stdout",
     "output_type": "stream",
     "text": [
      "[==================================================]\n",
      "SGD - 256: (0.01, 0.001, 0.0)\n"
     ]
    },
    {
     "data": {
      "text/html": [
       "\n",
       "<style>\n",
       "    /* Turns off some styling */\n",
       "    progress {\n",
       "        /* gets rid of default border in Firefox and Opera. */\n",
       "        border: none;\n",
       "        /* Needs to be in here for Safari polyfill so background images work as expected. */\n",
       "        background-size: auto;\n",
       "    }\n",
       "    progress:not([value]), progress:not([value])::-webkit-progress-bar {\n",
       "        background: repeating-linear-gradient(45deg, #7e7e7e, #7e7e7e 10px, #5c5c5c 10px, #5c5c5c 20px);\n",
       "    }\n",
       "    .progress-bar-interrupted, .progress-bar-interrupted::-webkit-progress-bar {\n",
       "        background: #F44336;\n",
       "    }\n",
       "</style>\n"
      ],
      "text/plain": [
       "<IPython.core.display.HTML object>"
      ]
     },
     "metadata": {},
     "output_type": "display_data"
    },
    {
     "data": {
      "text/html": [
       "[Epoch: 00] Loss (1.219 / 0.869) - Accuracy (63.5% / 76.8%)<p>[Epoch: 01] Loss (0.772 / 0.730) - Accuracy (79.4% / 81.0%)<p>[Epoch: 02] Loss (0.654 / 0.660) - Accuracy (82.9% / 82.4%)<p>[Epoch: 03] Loss (0.581 / 0.614) - Accuracy (85.4% / 82.2%)<p>[Epoch: 04] Loss (0.526 / 0.574) - Accuracy (87.2% / 84.4%)"
      ],
      "text/plain": [
       "<IPython.core.display.HTML object>"
      ]
     },
     "metadata": {},
     "output_type": "display_data"
    },
    {
     "name": "stdout",
     "output_type": "stream",
     "text": [
      "[==================================================]\n",
      "SGD - 256: (0.01, 0.001, 0.3)\n"
     ]
    },
    {
     "data": {
      "text/html": [
       "\n",
       "<style>\n",
       "    /* Turns off some styling */\n",
       "    progress {\n",
       "        /* gets rid of default border in Firefox and Opera. */\n",
       "        border: none;\n",
       "        /* Needs to be in here for Safari polyfill so background images work as expected. */\n",
       "        background-size: auto;\n",
       "    }\n",
       "    progress:not([value]), progress:not([value])::-webkit-progress-bar {\n",
       "        background: repeating-linear-gradient(45deg, #7e7e7e, #7e7e7e 10px, #5c5c5c 10px, #5c5c5c 20px);\n",
       "    }\n",
       "    .progress-bar-interrupted, .progress-bar-interrupted::-webkit-progress-bar {\n",
       "        background: #F44336;\n",
       "    }\n",
       "</style>\n"
      ],
      "text/plain": [
       "<IPython.core.display.HTML object>"
      ]
     },
     "metadata": {},
     "output_type": "display_data"
    },
    {
     "data": {
      "text/html": [
       "[Epoch: 00] Loss (1.480 / 0.955) - Accuracy (53.3% / 75.8%)<p>[Epoch: 01] Loss (0.976 / 0.788) - Accuracy (72.5% / 79.0%)<p>[Epoch: 02] Loss (0.843 / 0.715) - Accuracy (76.0% / 79.2%)<p>[Epoch: 03] Loss (0.762 / 0.669) - Accuracy (78.3% / 79.6%)<p>[Epoch: 04] Loss (0.711 / 0.630) - Accuracy (79.1% / 81.6%)"
      ],
      "text/plain": [
       "<IPython.core.display.HTML object>"
      ]
     },
     "metadata": {},
     "output_type": "display_data"
    },
    {
     "name": "stdout",
     "output_type": "stream",
     "text": [
      "[==================================================]\n",
      "SGD - 256: (0.01, 0.01, 0.0)\n"
     ]
    },
    {
     "data": {
      "text/html": [
       "\n",
       "<style>\n",
       "    /* Turns off some styling */\n",
       "    progress {\n",
       "        /* gets rid of default border in Firefox and Opera. */\n",
       "        border: none;\n",
       "        /* Needs to be in here for Safari polyfill so background images work as expected. */\n",
       "        background-size: auto;\n",
       "    }\n",
       "    progress:not([value]), progress:not([value])::-webkit-progress-bar {\n",
       "        background: repeating-linear-gradient(45deg, #7e7e7e, #7e7e7e 10px, #5c5c5c 10px, #5c5c5c 20px);\n",
       "    }\n",
       "    .progress-bar-interrupted, .progress-bar-interrupted::-webkit-progress-bar {\n",
       "        background: #F44336;\n",
       "    }\n",
       "</style>\n"
      ],
      "text/plain": [
       "<IPython.core.display.HTML object>"
      ]
     },
     "metadata": {},
     "output_type": "display_data"
    },
    {
     "data": {
      "text/html": [
       "[Epoch: 00] Loss (1.197 / 0.935) - Accuracy (63.9% / 74.8%)<p>[Epoch: 01] Loss (0.763 / 0.813) - Accuracy (79.5% / 78.6%)<p>[Epoch: 02] Loss (0.655 / 0.746) - Accuracy (82.8% / 80.6%)<p>[Epoch: 03] Loss (0.589 / 0.702) - Accuracy (84.7% / 82.0%)<p>[Epoch: 04] Loss (0.543 / 0.679) - Accuracy (86.5% / 83.0%)"
      ],
      "text/plain": [
       "<IPython.core.display.HTML object>"
      ]
     },
     "metadata": {},
     "output_type": "display_data"
    },
    {
     "name": "stdout",
     "output_type": "stream",
     "text": [
      "[==================================================]\n",
      "SGD - 256: (0.01, 0.01, 0.3)\n"
     ]
    },
    {
     "data": {
      "text/html": [
       "\n",
       "<style>\n",
       "    /* Turns off some styling */\n",
       "    progress {\n",
       "        /* gets rid of default border in Firefox and Opera. */\n",
       "        border: none;\n",
       "        /* Needs to be in here for Safari polyfill so background images work as expected. */\n",
       "        background-size: auto;\n",
       "    }\n",
       "    progress:not([value]), progress:not([value])::-webkit-progress-bar {\n",
       "        background: repeating-linear-gradient(45deg, #7e7e7e, #7e7e7e 10px, #5c5c5c 10px, #5c5c5c 20px);\n",
       "    }\n",
       "    .progress-bar-interrupted, .progress-bar-interrupted::-webkit-progress-bar {\n",
       "        background: #F44336;\n",
       "    }\n",
       "</style>\n"
      ],
      "text/plain": [
       "<IPython.core.display.HTML object>"
      ]
     },
     "metadata": {},
     "output_type": "display_data"
    },
    {
     "data": {
      "text/html": [
       "[Epoch: 00] Loss (1.499 / 1.078) - Accuracy (51.4% / 71.2%)<p>[Epoch: 01] Loss (1.011 / 0.912) - Accuracy (71.5% / 76.0%)<p>[Epoch: 02] Loss (0.853 / 0.823) - Accuracy (76.3% / 77.6%)<p>[Epoch: 03] Loss (0.764 / 0.766) - Accuracy (78.7% / 80.0%)<p>[Epoch: 04] Loss (0.691 / 0.726) - Accuracy (81.3% / 82.2%)"
      ],
      "text/plain": [
       "<IPython.core.display.HTML object>"
      ]
     },
     "metadata": {},
     "output_type": "display_data"
    }
   ],
   "source": [
    "df_scores = pd.DataFrame({\n",
    "    'optim': [],\n",
    "    'batchsize': [],\n",
    "    'lr': [],\n",
    "    'regularization': [],\n",
    "    'L2': [],\n",
    "    'L1': [],\n",
    "    'dropout': [],\n",
    "    'test_accuracy': [],\n",
    "    'test_loss': [],\n",
    "    'train_accuracy': [],\n",
    "    'train_loss': [],\n",
    "    'time': [],\n",
    "})\n",
    "\n",
    "\n",
    "mp = progress_bar( range(len(optims)*len(batchsizes)*len(L2)*len(L1)*len(dropout)) )\n",
    "for _, (optim, batchsize, l2_, l1_, p) in zip(mp, product(optims, batchsizes, L2, L1, dropout)):\n",
    "    \n",
    "    start_time = perf_counter()\n",
    "    \n",
    "    model_setup['dropout'] = p\n",
    "    model_config['batch_size'] = batchsize\n",
    "    model_config['L2'] = l2_\n",
    "    model_config['L1'] = l1_\n",
    "\n",
    "    trainloader = get_dataLoader(train_data, batchsize, True)\n",
    "    testloader = get_dataLoader(test_data, batchsize, False)\n",
    "\n",
    "    print('['+'='*50+']')\n",
    "    print(f\"{optim} - {batchsize}: ({l2_}, {l1_}, {p})\")\n",
    "\n",
    "    model = model_(**model_setup).to(device)\n",
    "    \n",
    "    nn.DataParallel(model, device_ids=[CUDA])\n",
    "    cudnn.benchmark = True\n",
    "\n",
    "    loss_function = nn.CrossEntropyLoss()\n",
    "    optimizer = getattr(torch.optim, optim)(model.parameters(), lr=model_config['lr'])\n",
    "\n",
    "\n",
    "    kwargs = {\n",
    "        'model': model,\n",
    "        'loss_function': loss_function,\n",
    "        'optimizer': optimizer,\n",
    "        'lr_scheduler': None,\n",
    "        'map_classes': None,\n",
    "        'skip_classes': None,\n",
    "        'device': device,\n",
    "        'model_path': None,\n",
    "        'trainloader': trainloader,\n",
    "        'testloader': testloader,\n",
    "        'config': model_config\n",
    "    }\n",
    "\n",
    "    train_losses, test_losses, train_accs, test_accs, test_loss, test_acc, confusion_matrix_test, best_model_name = run_training_testing(**kwargs)\n",
    "    \n",
    "    end_time = round(perf_counter() - start_time, 3)\n",
    "    \n",
    "    df_scores.loc[df_scores.shape[0] + 1] = [\n",
    "        optim, batchsize, model_config['lr'], reg_type(l2_, l1_, p), l2_, l1_, p, test_accs[-1], test_losses[-1], train_accs[-1], train_losses[-1], end_time\n",
    "    ]"
   ]
  },
  {
   "cell_type": "code",
   "execution_count": 13,
   "metadata": {},
   "outputs": [],
   "source": [
    "df_scores = df_scores.sort_values(\n",
    "    ['test_accuracy','test_loss','train_accuracy','train_loss'],\n",
    "    ascending=[False, True, False, True]\n",
    ").reset_index(drop=True)\n",
    "\n",
    "df_scores.to_csv(path_trainingModels_regularization / f'scores-{DATASET.lower()}-{PREFIX.lower()}.csv', index=False)"
   ]
  },
  {
   "cell_type": "code",
   "execution_count": 14,
   "metadata": {},
   "outputs": [
    {
     "data": {
      "text/html": [
       "<div>\n",
       "<style scoped>\n",
       "    .dataframe tbody tr th:only-of-type {\n",
       "        vertical-align: middle;\n",
       "    }\n",
       "\n",
       "    .dataframe tbody tr th {\n",
       "        vertical-align: top;\n",
       "    }\n",
       "\n",
       "    .dataframe thead th {\n",
       "        text-align: right;\n",
       "    }\n",
       "</style>\n",
       "<table border=\"1\" class=\"dataframe\">\n",
       "  <thead>\n",
       "    <tr style=\"text-align: right;\">\n",
       "      <th></th>\n",
       "      <th>optim</th>\n",
       "      <th>batchsize</th>\n",
       "      <th>lr</th>\n",
       "      <th>regularization</th>\n",
       "      <th>L2</th>\n",
       "      <th>L1</th>\n",
       "      <th>dropout</th>\n",
       "      <th>test_accuracy</th>\n",
       "      <th>test_loss</th>\n",
       "      <th>train_accuracy</th>\n",
       "      <th>train_loss</th>\n",
       "      <th>time</th>\n",
       "    </tr>\n",
       "  </thead>\n",
       "  <tbody>\n",
       "    <tr>\n",
       "      <th>0</th>\n",
       "      <td>Adam</td>\n",
       "      <td>128.0</td>\n",
       "      <td>0.01</td>\n",
       "      <td>No Regularization</td>\n",
       "      <td>0.000</td>\n",
       "      <td>0.000</td>\n",
       "      <td>0.0</td>\n",
       "      <td>0.890</td>\n",
       "      <td>0.326143</td>\n",
       "      <td>0.922417</td>\n",
       "      <td>0.205739</td>\n",
       "      <td>33.166</td>\n",
       "    </tr>\n",
       "    <tr>\n",
       "      <th>1</th>\n",
       "      <td>Adam</td>\n",
       "      <td>64.0</td>\n",
       "      <td>0.01</td>\n",
       "      <td>Dropout</td>\n",
       "      <td>0.000</td>\n",
       "      <td>0.000</td>\n",
       "      <td>0.3</td>\n",
       "      <td>0.886</td>\n",
       "      <td>0.349073</td>\n",
       "      <td>0.903417</td>\n",
       "      <td>0.264438</td>\n",
       "      <td>31.643</td>\n",
       "    </tr>\n",
       "    <tr>\n",
       "      <th>2</th>\n",
       "      <td>Adam</td>\n",
       "      <td>64.0</td>\n",
       "      <td>0.01</td>\n",
       "      <td>No Regularization</td>\n",
       "      <td>0.000</td>\n",
       "      <td>0.000</td>\n",
       "      <td>0.0</td>\n",
       "      <td>0.882</td>\n",
       "      <td>0.346871</td>\n",
       "      <td>0.920000</td>\n",
       "      <td>0.218169</td>\n",
       "      <td>31.955</td>\n",
       "    </tr>\n",
       "    <tr>\n",
       "      <th>3</th>\n",
       "      <td>Adam</td>\n",
       "      <td>128.0</td>\n",
       "      <td>0.01</td>\n",
       "      <td>Dropout</td>\n",
       "      <td>0.000</td>\n",
       "      <td>0.000</td>\n",
       "      <td>0.3</td>\n",
       "      <td>0.882</td>\n",
       "      <td>0.413287</td>\n",
       "      <td>0.903000</td>\n",
       "      <td>0.253092</td>\n",
       "      <td>33.151</td>\n",
       "    </tr>\n",
       "    <tr>\n",
       "      <th>4</th>\n",
       "      <td>SGD</td>\n",
       "      <td>32.0</td>\n",
       "      <td>0.01</td>\n",
       "      <td>Elastic</td>\n",
       "      <td>0.001</td>\n",
       "      <td>0.001</td>\n",
       "      <td>0.0</td>\n",
       "      <td>0.880</td>\n",
       "      <td>0.389259</td>\n",
       "      <td>0.911750</td>\n",
       "      <td>0.275724</td>\n",
       "      <td>46.623</td>\n",
       "    </tr>\n",
       "    <tr>\n",
       "      <th>5</th>\n",
       "      <td>SGD</td>\n",
       "      <td>32.0</td>\n",
       "      <td>0.01</td>\n",
       "      <td>Elastic-Dropout</td>\n",
       "      <td>0.001</td>\n",
       "      <td>0.001</td>\n",
       "      <td>0.3</td>\n",
       "      <td>0.878</td>\n",
       "      <td>0.394885</td>\n",
       "      <td>0.874083</td>\n",
       "      <td>0.380386</td>\n",
       "      <td>41.048</td>\n",
       "    </tr>\n",
       "    <tr>\n",
       "      <th>6</th>\n",
       "      <td>SGD</td>\n",
       "      <td>32.0</td>\n",
       "      <td>0.01</td>\n",
       "      <td>No Regularization</td>\n",
       "      <td>0.000</td>\n",
       "      <td>0.000</td>\n",
       "      <td>0.0</td>\n",
       "      <td>0.872</td>\n",
       "      <td>0.406174</td>\n",
       "      <td>0.926417</td>\n",
       "      <td>0.236095</td>\n",
       "      <td>49.189</td>\n",
       "    </tr>\n",
       "  </tbody>\n",
       "</table>\n",
       "</div>"
      ],
      "text/plain": [
       "  optim  batchsize    lr     regularization     L2     L1  dropout  \\\n",
       "0  Adam      128.0  0.01  No Regularization  0.000  0.000      0.0   \n",
       "1  Adam       64.0  0.01            Dropout  0.000  0.000      0.3   \n",
       "2  Adam       64.0  0.01  No Regularization  0.000  0.000      0.0   \n",
       "3  Adam      128.0  0.01            Dropout  0.000  0.000      0.3   \n",
       "4   SGD       32.0  0.01            Elastic  0.001  0.001      0.0   \n",
       "5   SGD       32.0  0.01    Elastic-Dropout  0.001  0.001      0.3   \n",
       "6   SGD       32.0  0.01  No Regularization  0.000  0.000      0.0   \n",
       "\n",
       "   test_accuracy  test_loss  train_accuracy  train_loss    time  \n",
       "0          0.890   0.326143        0.922417    0.205739  33.166  \n",
       "1          0.886   0.349073        0.903417    0.264438  31.643  \n",
       "2          0.882   0.346871        0.920000    0.218169  31.955  \n",
       "3          0.882   0.413287        0.903000    0.253092  33.151  \n",
       "4          0.880   0.389259        0.911750    0.275724  46.623  \n",
       "5          0.878   0.394885        0.874083    0.380386  41.048  \n",
       "6          0.872   0.406174        0.926417    0.236095  49.189  "
      ]
     },
     "execution_count": 14,
     "metadata": {},
     "output_type": "execute_result"
    }
   ],
   "source": [
    "df_scores.head(7)"
   ]
  },
  {
   "cell_type": "code",
   "execution_count": null,
   "metadata": {},
   "outputs": [],
   "source": []
  }
 ],
 "metadata": {
  "accelerator": "GPU",
  "colab": {
   "collapsed_sections": [
    "mcDeYOA8d1wL"
   ],
   "provenance": []
  },
  "gpuClass": "standard",
  "kernelspec": {
   "display_name": "Python 3",
   "language": "python",
   "name": "python3"
  },
  "language_info": {
   "codemirror_mode": {
    "name": "ipython",
    "version": 3
   },
   "file_extension": ".py",
   "mimetype": "text/x-python",
   "name": "python",
   "nbconvert_exporter": "python",
   "pygments_lexer": "ipython3",
   "version": "3.6.8"
  },
  "vscode": {
   "interpreter": {
    "hash": "2b89e4666a1b1f5f90ada5928a1b04d9ad859bf674b23c56e0417352230a6456"
   }
  }
 },
 "nbformat": 4,
 "nbformat_minor": 1
}
