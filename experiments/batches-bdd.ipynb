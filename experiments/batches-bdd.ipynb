{
 "cells": [
  {
   "cell_type": "markdown",
   "metadata": {},
   "source": [
    "# Setup Variables"
   ]
  },
  {
   "cell_type": "markdown",
   "metadata": {},
   "source": [
    "MNIST, FashionMNIST, GTSRB, Cifar10"
   ]
  },
  {
   "cell_type": "code",
   "execution_count": 12,
   "metadata": {},
   "outputs": [],
   "source": [
    "DATASET = 'FashionMNIST'\n",
    "POSTFIX = 'Adam-32-60'\n",
    "FILENAME_POSTFIX = f'{DATASET}_{POSTFIX}'\n",
    "SEED = 42\n",
    "CUDA = 0\n",
    "GPU_NAME = f'cuda:{CUDA}'"
   ]
  },
  {
   "cell_type": "code",
   "execution_count": 13,
   "metadata": {},
   "outputs": [
    {
     "data": {
      "text/plain": [
       "PosixPath('/home/ah19/runtime-monitoring')"
      ]
     },
     "execution_count": 13,
     "metadata": {},
     "output_type": "execute_result"
    }
   ],
   "source": [
    "import os\n",
    "from pathlib import Path\n",
    "\n",
    "base = Path().cwd()\n",
    "\n",
    "if base.name != 'runtime-monitoring':\n",
    "    os.chdir('../')\n",
    "    base = Path().cwd()\n",
    "\n",
    "base"
   ]
  },
  {
   "cell_type": "code",
   "execution_count": 14,
   "metadata": {},
   "outputs": [],
   "source": [
    "# disable warnings\n",
    "import warnings\n",
    "warnings.filterwarnings('ignore')"
   ]
  },
  {
   "cell_type": "markdown",
   "metadata": {},
   "source": [
    "# Libraries"
   ]
  },
  {
   "cell_type": "code",
   "execution_count": 15,
   "metadata": {
    "id": "FLmxFGnxg6ZG"
   },
   "outputs": [],
   "source": [
    "import pandas as pd\n",
    "import numpy as np\n",
    "from pathlib import Path\n",
    "\n",
    "from fastprogress import progress_bar\n",
    "\n",
    "from utilities.utils import load_json, load_pickle\n",
    "from utilities.pathManager import fetchPaths\n",
    "from utilities.MonitorUnifiedBDD import MonitorBDD"
   ]
  },
  {
   "cell_type": "markdown",
   "metadata": {},
   "source": [
    "# Paths"
   ]
  },
  {
   "cell_type": "code",
   "execution_count": 16,
   "metadata": {},
   "outputs": [],
   "source": [
    "paths = fetchPaths(base, DATASET, POSTFIX, False)\n",
    "\n",
    "path_data = paths['data']\n",
    "path_lhl = paths['lhl']\n",
    "path_lhl_raw = paths['lhl_raw']\n",
    "path_lhl_pca = paths['lhl_pca']\n",
    "\n",
    "# configs = load_json(paths['configuration'])\n",
    "# config = configs['configuration']\n",
    "# model_setup = configs['model_setup']\n",
    "# model_config = configs['model_config']\n",
    "# optim_name = list(config['optimizer'].keys())[0]\n",
    "# optim_args = config['optimizer'][optim_name]\n",
    "# scheduler_name = list(config['scheduler'].keys())[0]\n",
    "# scheduler_args = config['scheduler'][scheduler_name]"
   ]
  },
  {
   "cell_type": "markdown",
   "metadata": {
    "id": "h7eERD3yVH2H"
   },
   "source": [
    "# Seed"
   ]
  },
  {
   "cell_type": "code",
   "execution_count": 17,
   "metadata": {
    "id": "CS9DVaKDi_2C"
   },
   "outputs": [],
   "source": [
    "np.random.seed(SEED)"
   ]
  },
  {
   "cell_type": "markdown",
   "metadata": {
    "id": "h7eERD3yVH2H"
   },
   "source": [
    "# Import Data"
   ]
  },
  {
   "cell_type": "code",
   "execution_count": 18,
   "metadata": {},
   "outputs": [],
   "source": [
    "FLAVOR = 'raw'\n",
    "\n",
    "if FLAVOR == 'raw':\n",
    "    path_lhl = path_lhl_raw\n",
    "else: path_lhl = path_lhl_pca\n",
    "\n",
    "# import Data\n",
    "df_train = pd.read_csv(path_lhl / f\"{FILENAME_POSTFIX}_{FLAVOR}_train.csv\")\n",
    "\n",
    "# select only true classified\n",
    "df_true = df_train[df_train[\"true\"] == True].copy()\n",
    "df_true = df_true.drop(\"true\", axis=1).reset_index(drop=True)\n",
    "\n",
    "df_test = pd.read_csv(path_lhl / f\"{FILENAME_POSTFIX}_{FLAVOR}_test.csv\")"
   ]
  },
  {
   "cell_type": "markdown",
   "metadata": {},
   "source": [
    "# Shuffel and Split indecies"
   ]
  },
  {
   "cell_type": "code",
   "execution_count": 19,
   "metadata": {},
   "outputs": [
    {
     "data": {
      "text/plain": [
       "((57816,), (57816,))"
      ]
     },
     "execution_count": 19,
     "metadata": {},
     "output_type": "execute_result"
    }
   ],
   "source": [
    "periods = 5\n",
    "\n",
    "# shuffle data\n",
    "schuffled_index = df_true.index.to_numpy().copy()\n",
    "np.random.shuffle(schuffled_index)\n",
    "\n",
    "# split data into batches\n",
    "fragments_index = np.array_split(schuffled_index, periods)\n",
    "\n",
    "# print shape\n",
    "schuffled_index.shape, np.concatenate(fragments_index).shape"
   ]
  },
  {
   "cell_type": "markdown",
   "metadata": {},
   "source": [
    "# Build BDD"
   ]
  },
  {
   "cell_type": "code",
   "execution_count": 20,
   "metadata": {},
   "outputs": [
    {
     "data": {
      "text/html": [
       "\n",
       "    <div>\n",
       "        <style>\n",
       "            /* Turns off some styling */\n",
       "            progress {\n",
       "                /* gets rid of default border in Firefox and Opera. */\n",
       "                border: none;\n",
       "                /* Needs to be in here for Safari polyfill so background images work as expected. */\n",
       "                background-size: auto;\n",
       "            }\n",
       "            .progress-bar-interrupted, .progress-bar-interrupted::-webkit-progress-bar {\n",
       "                background: #F44336;\n",
       "            }\n",
       "        </style>\n",
       "      <progress value='5' class='' max='5' style='width:300px; height:20px; vertical-align: middle;'></progress>\n",
       "      100.00% [5/5 01:05<00:00]\n",
       "    </div>\n",
       "    "
      ],
      "text/plain": [
       "<IPython.core.display.HTML object>"
      ]
     },
     "metadata": {},
     "output_type": "display_data"
    }
   ],
   "source": [
    "# each set of data has its own threshold\n",
    "thld_p = 0.9\n",
    "eta = 0\n",
    "neurons = []\n",
    "\n",
    "\n",
    "# save scores and stats\n",
    "stats = pd.DataFrame()\n",
    "train_scores = pd.DataFrame()\n",
    "test_scores = pd.DataFrame()\n",
    "\n",
    "# progress bar\n",
    "pb = progress_bar(range(len(fragments_index)))\n",
    "\n",
    "# buidl for each fragment\n",
    "for fragment in pb:\n",
    "    # indecies\n",
    "    ix = np.concatenate(fragments_index[0:fragment+1])\n",
    "\n",
    "    # calculate threshold\n",
    "    thld = np.quantile( df_true.loc[ix].drop('y', axis=1), thld_p)\n",
    "    \n",
    "    # BDD\n",
    "    patterns = MonitorBDD( df_true.loc[ix].shape[1]-1, thld, neurons=neurons)\n",
    "    df_train_copy, df_test_copy = patterns.add_dataframe( df_true.loc[ix], eta, eval_dfs=[df_train.loc[ix].copy(), df_test.copy()] )\n",
    "\n",
    "    \n",
    "    # score\n",
    "    df_train_scores = patterns.score_dataframe_multi_eta(df_train_copy, eta)\n",
    "    df_test_scores = patterns.score_dataframe_multi_eta(df_test_copy, eta)\n",
    "\n",
    "    \n",
    "    # add metadata\n",
    "    patterns.stats['thld'] = f'qth_{thld_p}'\n",
    "    patterns.stats['period'] = fragment\n",
    "    patterns.stats['num_observations'] = ix.shape[0]\n",
    "    df_train_scores['period'] = fragment\n",
    "    df_train_scores['num_observations'] = ix.shape[0]\n",
    "    df_test_scores['period'] = fragment\n",
    "    df_test_scores['num_observations'] = ix.shape[0]\n",
    "    \n",
    "    \n",
    "    # collect scores\n",
    "    stats = pd.concat([stats, patterns.stats])\n",
    "    train_scores = pd.concat([train_scores, df_train_scores])\n",
    "    test_scores = pd.concat([test_scores, df_test_scores])"
   ]
  },
  {
   "cell_type": "code",
   "execution_count": 21,
   "metadata": {},
   "outputs": [
    {
     "data": {
      "text/html": [
       "<div>\n",
       "<style scoped>\n",
       "    .dataframe tbody tr th:only-of-type {\n",
       "        vertical-align: middle;\n",
       "    }\n",
       "\n",
       "    .dataframe tbody tr th {\n",
       "        vertical-align: top;\n",
       "    }\n",
       "\n",
       "    .dataframe thead th {\n",
       "        text-align: right;\n",
       "    }\n",
       "</style>\n",
       "<table border=\"1\" class=\"dataframe\">\n",
       "  <thead>\n",
       "    <tr style=\"text-align: right;\">\n",
       "      <th></th>\n",
       "      <th>thld</th>\n",
       "      <th>eta</th>\n",
       "      <th>build_time</th>\n",
       "      <th>size_mb</th>\n",
       "      <th>reorder_time</th>\n",
       "      <th>num_reorder</th>\n",
       "      <th>num_neurons</th>\n",
       "      <th>start_time</th>\n",
       "      <th>end_time</th>\n",
       "      <th>period</th>\n",
       "      <th>num_observations</th>\n",
       "    </tr>\n",
       "  </thead>\n",
       "  <tbody>\n",
       "    <tr>\n",
       "      <th>1</th>\n",
       "      <td>qth_0.9</td>\n",
       "      <td>0.0</td>\n",
       "      <td>0.029</td>\n",
       "      <td>4306.823</td>\n",
       "      <td>0.0</td>\n",
       "      <td>0.0</td>\n",
       "      <td>60.0</td>\n",
       "      <td>2023-07-02 14:39:27</td>\n",
       "      <td>2023-07-02 14:39:29</td>\n",
       "      <td>0</td>\n",
       "      <td>11564</td>\n",
       "    </tr>\n",
       "    <tr>\n",
       "      <th>1</th>\n",
       "      <td>qth_0.9</td>\n",
       "      <td>0.0</td>\n",
       "      <td>0.055</td>\n",
       "      <td>4307.610</td>\n",
       "      <td>0.0</td>\n",
       "      <td>0.0</td>\n",
       "      <td>60.0</td>\n",
       "      <td>2023-07-02 14:39:34</td>\n",
       "      <td>2023-07-02 14:39:38</td>\n",
       "      <td>1</td>\n",
       "      <td>23127</td>\n",
       "    </tr>\n",
       "    <tr>\n",
       "      <th>1</th>\n",
       "      <td>qth_0.9</td>\n",
       "      <td>0.0</td>\n",
       "      <td>0.078</td>\n",
       "      <td>4307.815</td>\n",
       "      <td>0.0</td>\n",
       "      <td>0.0</td>\n",
       "      <td>60.0</td>\n",
       "      <td>2023-07-02 14:39:44</td>\n",
       "      <td>2023-07-02 14:39:49</td>\n",
       "      <td>2</td>\n",
       "      <td>34690</td>\n",
       "    </tr>\n",
       "    <tr>\n",
       "      <th>1</th>\n",
       "      <td>qth_0.9</td>\n",
       "      <td>0.0</td>\n",
       "      <td>0.103</td>\n",
       "      <td>4308.310</td>\n",
       "      <td>0.0</td>\n",
       "      <td>0.0</td>\n",
       "      <td>60.0</td>\n",
       "      <td>2023-07-02 14:39:57</td>\n",
       "      <td>2023-07-02 14:40:03</td>\n",
       "      <td>3</td>\n",
       "      <td>46253</td>\n",
       "    </tr>\n",
       "    <tr>\n",
       "      <th>1</th>\n",
       "      <td>qth_0.9</td>\n",
       "      <td>0.0</td>\n",
       "      <td>0.135</td>\n",
       "      <td>4308.419</td>\n",
       "      <td>0.0</td>\n",
       "      <td>0.0</td>\n",
       "      <td>60.0</td>\n",
       "      <td>2023-07-02 14:40:13</td>\n",
       "      <td>2023-07-02 14:40:21</td>\n",
       "      <td>4</td>\n",
       "      <td>57816</td>\n",
       "    </tr>\n",
       "  </tbody>\n",
       "</table>\n",
       "</div>"
      ],
      "text/plain": [
       "      thld  eta  build_time   size_mb  reorder_time  num_reorder  num_neurons   \n",
       "1  qth_0.9  0.0       0.029  4306.823           0.0          0.0         60.0  \\\n",
       "1  qth_0.9  0.0       0.055  4307.610           0.0          0.0         60.0   \n",
       "1  qth_0.9  0.0       0.078  4307.815           0.0          0.0         60.0   \n",
       "1  qth_0.9  0.0       0.103  4308.310           0.0          0.0         60.0   \n",
       "1  qth_0.9  0.0       0.135  4308.419           0.0          0.0         60.0   \n",
       "\n",
       "            start_time             end_time  period  num_observations  \n",
       "1  2023-07-02 14:39:27  2023-07-02 14:39:29       0             11564  \n",
       "1  2023-07-02 14:39:34  2023-07-02 14:39:38       1             23127  \n",
       "1  2023-07-02 14:39:44  2023-07-02 14:39:49       2             34690  \n",
       "1  2023-07-02 14:39:57  2023-07-02 14:40:03       3             46253  \n",
       "1  2023-07-02 14:40:13  2023-07-02 14:40:21       4             57816  "
      ]
     },
     "execution_count": 21,
     "metadata": {},
     "output_type": "execute_result"
    }
   ],
   "source": [
    "stats"
   ]
  },
  {
   "cell_type": "code",
   "execution_count": 22,
   "metadata": {},
   "outputs": [
    {
     "data": {
      "text/html": [
       "<div>\n",
       "<style scoped>\n",
       "    .dataframe tbody tr th:only-of-type {\n",
       "        vertical-align: middle;\n",
       "    }\n",
       "\n",
       "    .dataframe tbody tr th {\n",
       "        vertical-align: top;\n",
       "    }\n",
       "\n",
       "    .dataframe thead th {\n",
       "        text-align: right;\n",
       "    }\n",
       "</style>\n",
       "<table border=\"1\" class=\"dataframe\">\n",
       "  <thead>\n",
       "    <tr style=\"text-align: right;\">\n",
       "      <th></th>\n",
       "      <th>y</th>\n",
       "      <th>count</th>\n",
       "      <th>false</th>\n",
       "      <th>false_misclassified</th>\n",
       "      <th>false_classified</th>\n",
       "      <th>outOfPattern</th>\n",
       "      <th>outOfPatternMisclassified</th>\n",
       "      <th>outOfPatternClassified</th>\n",
       "      <th>eta</th>\n",
       "      <th>period</th>\n",
       "      <th>num_observations</th>\n",
       "    </tr>\n",
       "  </thead>\n",
       "  <tbody>\n",
       "    <tr>\n",
       "      <th>10</th>\n",
       "      <td>all</td>\n",
       "      <td>11564.0</td>\n",
       "      <td>1702.0</td>\n",
       "      <td>57.0</td>\n",
       "      <td>1645.0</td>\n",
       "      <td>0.147181</td>\n",
       "      <td>0.033490</td>\n",
       "      <td>0.966510</td>\n",
       "      <td>0</td>\n",
       "      <td>0</td>\n",
       "      <td>11564</td>\n",
       "    </tr>\n",
       "    <tr>\n",
       "      <th>10</th>\n",
       "      <td>all</td>\n",
       "      <td>23127.0</td>\n",
       "      <td>1838.0</td>\n",
       "      <td>72.0</td>\n",
       "      <td>1766.0</td>\n",
       "      <td>0.079474</td>\n",
       "      <td>0.039173</td>\n",
       "      <td>0.960827</td>\n",
       "      <td>0</td>\n",
       "      <td>1</td>\n",
       "      <td>23127</td>\n",
       "    </tr>\n",
       "    <tr>\n",
       "      <th>10</th>\n",
       "      <td>all</td>\n",
       "      <td>34690.0</td>\n",
       "      <td>1556.0</td>\n",
       "      <td>88.0</td>\n",
       "      <td>1468.0</td>\n",
       "      <td>0.044854</td>\n",
       "      <td>0.056555</td>\n",
       "      <td>0.943445</td>\n",
       "      <td>0</td>\n",
       "      <td>2</td>\n",
       "      <td>34690</td>\n",
       "    </tr>\n",
       "    <tr>\n",
       "      <th>10</th>\n",
       "      <td>all</td>\n",
       "      <td>46253.0</td>\n",
       "      <td>975.0</td>\n",
       "      <td>102.0</td>\n",
       "      <td>873.0</td>\n",
       "      <td>0.021080</td>\n",
       "      <td>0.104615</td>\n",
       "      <td>0.895385</td>\n",
       "      <td>0</td>\n",
       "      <td>3</td>\n",
       "      <td>46253</td>\n",
       "    </tr>\n",
       "    <tr>\n",
       "      <th>10</th>\n",
       "      <td>all</td>\n",
       "      <td>57816.0</td>\n",
       "      <td>102.0</td>\n",
       "      <td>102.0</td>\n",
       "      <td>0.0</td>\n",
       "      <td>0.001764</td>\n",
       "      <td>1.000000</td>\n",
       "      <td>0.000000</td>\n",
       "      <td>0</td>\n",
       "      <td>4</td>\n",
       "      <td>57816</td>\n",
       "    </tr>\n",
       "  </tbody>\n",
       "</table>\n",
       "</div>"
      ],
      "text/plain": [
       "      y    count   false  false_misclassified  false_classified  outOfPattern   \n",
       "10  all  11564.0  1702.0                 57.0            1645.0      0.147181  \\\n",
       "10  all  23127.0  1838.0                 72.0            1766.0      0.079474   \n",
       "10  all  34690.0  1556.0                 88.0            1468.0      0.044854   \n",
       "10  all  46253.0   975.0                102.0             873.0      0.021080   \n",
       "10  all  57816.0   102.0                102.0               0.0      0.001764   \n",
       "\n",
       "    outOfPatternMisclassified  outOfPatternClassified  eta  period   \n",
       "10                   0.033490                0.966510    0       0  \\\n",
       "10                   0.039173                0.960827    0       1   \n",
       "10                   0.056555                0.943445    0       2   \n",
       "10                   0.104615                0.895385    0       3   \n",
       "10                   1.000000                0.000000    0       4   \n",
       "\n",
       "    num_observations  \n",
       "10             11564  \n",
       "10             23127  \n",
       "10             34690  \n",
       "10             46253  \n",
       "10             57816  "
      ]
     },
     "execution_count": 22,
     "metadata": {},
     "output_type": "execute_result"
    }
   ],
   "source": [
    "train_scores.loc[ train_scores['y'] == 'all' ]"
   ]
  },
  {
   "cell_type": "code",
   "execution_count": 23,
   "metadata": {},
   "outputs": [
    {
     "data": {
      "text/html": [
       "<div>\n",
       "<style scoped>\n",
       "    .dataframe tbody tr th:only-of-type {\n",
       "        vertical-align: middle;\n",
       "    }\n",
       "\n",
       "    .dataframe tbody tr th {\n",
       "        vertical-align: top;\n",
       "    }\n",
       "\n",
       "    .dataframe thead th {\n",
       "        text-align: right;\n",
       "    }\n",
       "</style>\n",
       "<table border=\"1\" class=\"dataframe\">\n",
       "  <thead>\n",
       "    <tr style=\"text-align: right;\">\n",
       "      <th></th>\n",
       "      <th>y</th>\n",
       "      <th>count</th>\n",
       "      <th>false</th>\n",
       "      <th>false_misclassified</th>\n",
       "      <th>false_classified</th>\n",
       "      <th>outOfPattern</th>\n",
       "      <th>outOfPatternMisclassified</th>\n",
       "      <th>outOfPatternClassified</th>\n",
       "      <th>eta</th>\n",
       "      <th>period</th>\n",
       "      <th>num_observations</th>\n",
       "    </tr>\n",
       "  </thead>\n",
       "  <tbody>\n",
       "    <tr>\n",
       "      <th>10</th>\n",
       "      <td>all</td>\n",
       "      <td>10000.0</td>\n",
       "      <td>1773.0</td>\n",
       "      <td>100.0</td>\n",
       "      <td>1673.0</td>\n",
       "      <td>0.1773</td>\n",
       "      <td>0.056402</td>\n",
       "      <td>0.943598</td>\n",
       "      <td>0</td>\n",
       "      <td>0</td>\n",
       "      <td>11564</td>\n",
       "    </tr>\n",
       "    <tr>\n",
       "      <th>10</th>\n",
       "      <td>all</td>\n",
       "      <td>10000.0</td>\n",
       "      <td>1280.0</td>\n",
       "      <td>70.0</td>\n",
       "      <td>1210.0</td>\n",
       "      <td>0.1280</td>\n",
       "      <td>0.054688</td>\n",
       "      <td>0.945312</td>\n",
       "      <td>0</td>\n",
       "      <td>1</td>\n",
       "      <td>23127</td>\n",
       "    </tr>\n",
       "    <tr>\n",
       "      <th>10</th>\n",
       "      <td>all</td>\n",
       "      <td>10000.0</td>\n",
       "      <td>1030.0</td>\n",
       "      <td>54.0</td>\n",
       "      <td>976.0</td>\n",
       "      <td>0.1030</td>\n",
       "      <td>0.052427</td>\n",
       "      <td>0.947573</td>\n",
       "      <td>0</td>\n",
       "      <td>2</td>\n",
       "      <td>34690</td>\n",
       "    </tr>\n",
       "    <tr>\n",
       "      <th>10</th>\n",
       "      <td>all</td>\n",
       "      <td>10000.0</td>\n",
       "      <td>879.0</td>\n",
       "      <td>51.0</td>\n",
       "      <td>828.0</td>\n",
       "      <td>0.0879</td>\n",
       "      <td>0.058020</td>\n",
       "      <td>0.941980</td>\n",
       "      <td>0</td>\n",
       "      <td>3</td>\n",
       "      <td>46253</td>\n",
       "    </tr>\n",
       "    <tr>\n",
       "      <th>10</th>\n",
       "      <td>all</td>\n",
       "      <td>10000.0</td>\n",
       "      <td>760.0</td>\n",
       "      <td>42.0</td>\n",
       "      <td>718.0</td>\n",
       "      <td>0.0760</td>\n",
       "      <td>0.055263</td>\n",
       "      <td>0.944737</td>\n",
       "      <td>0</td>\n",
       "      <td>4</td>\n",
       "      <td>57816</td>\n",
       "    </tr>\n",
       "  </tbody>\n",
       "</table>\n",
       "</div>"
      ],
      "text/plain": [
       "      y    count   false  false_misclassified  false_classified  outOfPattern   \n",
       "10  all  10000.0  1773.0                100.0            1673.0        0.1773  \\\n",
       "10  all  10000.0  1280.0                 70.0            1210.0        0.1280   \n",
       "10  all  10000.0  1030.0                 54.0             976.0        0.1030   \n",
       "10  all  10000.0   879.0                 51.0             828.0        0.0879   \n",
       "10  all  10000.0   760.0                 42.0             718.0        0.0760   \n",
       "\n",
       "    outOfPatternMisclassified  outOfPatternClassified  eta  period   \n",
       "10                   0.056402                0.943598    0       0  \\\n",
       "10                   0.054688                0.945312    0       1   \n",
       "10                   0.052427                0.947573    0       2   \n",
       "10                   0.058020                0.941980    0       3   \n",
       "10                   0.055263                0.944737    0       4   \n",
       "\n",
       "    num_observations  \n",
       "10             11564  \n",
       "10             23127  \n",
       "10             34690  \n",
       "10             46253  \n",
       "10             57816  "
      ]
     },
     "execution_count": 23,
     "metadata": {},
     "output_type": "execute_result"
    }
   ],
   "source": [
    "test_scores.loc[ test_scores['y'] == 'all' ]"
   ]
  },
  {
   "cell_type": "code",
   "execution_count": null,
   "metadata": {},
   "outputs": [],
   "source": []
  },
  {
   "cell_type": "code",
   "execution_count": null,
   "metadata": {},
   "outputs": [],
   "source": []
  },
  {
   "cell_type": "code",
   "execution_count": null,
   "metadata": {},
   "outputs": [],
   "source": []
  },
  {
   "cell_type": "code",
   "execution_count": null,
   "metadata": {},
   "outputs": [],
   "source": []
  },
  {
   "cell_type": "code",
   "execution_count": null,
   "metadata": {},
   "outputs": [],
   "source": []
  }
 ],
 "metadata": {
  "accelerator": "GPU",
  "colab": {
   "collapsed_sections": [
    "mcDeYOA8d1wL"
   ],
   "provenance": []
  },
  "gpuClass": "standard",
  "kernelspec": {
   "display_name": "Python 3",
   "language": "python",
   "name": "python3"
  },
  "language_info": {
   "codemirror_mode": {
    "name": "ipython",
    "version": 3
   },
   "file_extension": ".py",
   "mimetype": "text/x-python",
   "name": "python",
   "nbconvert_exporter": "python",
   "pygments_lexer": "ipython3",
   "version": "3.10.11"
  },
  "vscode": {
   "interpreter": {
    "hash": "2b89e4666a1b1f5f90ada5928a1b04d9ad859bf674b23c56e0417352230a6456"
   }
  }
 },
 "nbformat": 4,
 "nbformat_minor": 4
}
