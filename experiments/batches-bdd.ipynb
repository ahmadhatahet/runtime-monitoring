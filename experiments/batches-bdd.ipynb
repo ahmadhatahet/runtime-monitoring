{
 "cells": [
  {
   "cell_type": "markdown",
   "metadata": {},
   "source": [
    "# Setup Variables and home directory"
   ]
  },
  {
   "cell_type": "markdown",
   "metadata": {},
   "source": [
    "MNIST, FashionMNIST, GTSRB, Cifar10"
   ]
  },
  {
   "cell_type": "code",
   "execution_count": 73,
   "metadata": {},
   "outputs": [],
   "source": [
    "DATASET = 'GTSRB'\n",
    "SEED = 42\n",
    "CUDA = 0\n",
    "GPU_NAME = f'cuda:{CUDA}'"
   ]
  },
  {
   "cell_type": "code",
   "execution_count": 74,
   "metadata": {},
   "outputs": [
    {
     "data": {
      "text/plain": [
       "PosixPath('/home/ah19/runtime-monitoring')"
      ]
     },
     "execution_count": 74,
     "metadata": {},
     "output_type": "execute_result"
    }
   ],
   "source": [
    "# set homw directory\n",
    "import os\n",
    "from pathlib import Path\n",
    "\n",
    "base = Path().cwd()\n",
    "\n",
    "if base.name != 'runtime-monitoring':\n",
    "    os.chdir('../')\n",
    "    base = Path().cwd()\n",
    "\n",
    "base"
   ]
  },
  {
   "cell_type": "code",
   "execution_count": 83,
   "metadata": {},
   "outputs": [
    {
     "data": {
      "text/plain": [
       "['AdamW-32-30', 'AdamW-32-50', 'AdamW-32-80', 'AdamW-32-150']"
      ]
     },
     "execution_count": 83,
     "metadata": {},
     "output_type": "execute_result"
    }
   ],
   "source": [
    "# print available models\n",
    "model_names = []\n",
    "for i in (base / 'experiments' / DATASET / 'saved-models').iterdir():\n",
    "    if i.name[:len(DATASET)] == DATASET:\n",
    "        model_names.append(i.name.replace(DATASET + '_', ''))\n",
    "        \n",
    "\n",
    "model_names.sort(key=lambda x: int(x.split('-')[-1]))\n",
    "model_names"
   ]
  },
  {
   "cell_type": "code",
   "execution_count": 86,
   "metadata": {},
   "outputs": [
    {
     "data": {
      "text/plain": [
       "'GTSRB_AdamW-32-30'"
      ]
     },
     "execution_count": 86,
     "metadata": {},
     "output_type": "execute_result"
    }
   ],
   "source": [
    "POSTFIX = model_names[0]\n",
    "FILENAME_POSTFIX = f'{DATASET}_{POSTFIX}'\n",
    "\n",
    "FILENAME_POSTFIX"
   ]
  },
  {
   "cell_type": "code",
   "execution_count": 85,
   "metadata": {},
   "outputs": [],
   "source": [
    "# disable warnings\n",
    "import warnings\n",
    "warnings.filterwarnings('ignore')"
   ]
  },
  {
   "cell_type": "markdown",
   "metadata": {},
   "source": [
    "# Libraries"
   ]
  },
  {
   "cell_type": "code",
   "execution_count": 87,
   "metadata": {
    "id": "FLmxFGnxg6ZG"
   },
   "outputs": [],
   "source": [
    "import pandas as pd\n",
    "import numpy as np\n",
    "import matplotlib.pyplot as plt\n",
    "import seaborn as sns\n",
    "\n",
    "from fastprogress import progress_bar\n",
    "\n",
    "from utilities.utils import load_json, load_pickle\n",
    "from utilities.pathManager import fetchPaths\n",
    "from utilities.MonitorUnifiedBDD import MonitorBDD"
   ]
  },
  {
   "cell_type": "markdown",
   "metadata": {},
   "source": [
    "# Paths"
   ]
  },
  {
   "cell_type": "code",
   "execution_count": 88,
   "metadata": {},
   "outputs": [],
   "source": [
    "paths = fetchPaths(base, DATASET, POSTFIX, False)\n",
    "\n",
    "path_data = paths['data']\n",
    "path_lhl = paths['lhl']\n",
    "path_lhl_raw = paths['lhl_raw']\n",
    "path_lhl_pca = paths['lhl_pca']\n",
    "\n",
    "# configs = load_json(paths['configuration'])\n",
    "# config = configs['configuration']\n",
    "# model_setup = configs['model_setup']\n",
    "# model_config = configs['model_config']\n",
    "# optim_name = list(config['optimizer'].keys())[0]\n",
    "# optim_args = config['optimizer'][optim_name]\n",
    "# scheduler_name = list(config['scheduler'].keys())[0]\n",
    "# scheduler_args = config['scheduler'][scheduler_name]"
   ]
  },
  {
   "cell_type": "markdown",
   "metadata": {
    "id": "h7eERD3yVH2H"
   },
   "source": [
    "# Seed"
   ]
  },
  {
   "cell_type": "code",
   "execution_count": 89,
   "metadata": {
    "id": "CS9DVaKDi_2C"
   },
   "outputs": [],
   "source": [
    "np.random.seed(SEED)"
   ]
  },
  {
   "cell_type": "markdown",
   "metadata": {
    "id": "h7eERD3yVH2H"
   },
   "source": [
    "# Import Data"
   ]
  },
  {
   "cell_type": "code",
   "execution_count": 90,
   "metadata": {},
   "outputs": [],
   "source": [
    "FLAVOR = 'raw'\n",
    "\n",
    "if FLAVOR == 'raw':\n",
    "    path_lhl = path_lhl_raw\n",
    "else: path_lhl = path_lhl_pca\n",
    "\n",
    "# import Data\n",
    "df_train = pd.read_csv(path_lhl / f\"{FILENAME_POSTFIX}_{FLAVOR}_train.csv\")\n",
    "\n",
    "# select only true classified\n",
    "df_true = df_train[df_train[\"true\"] == True].copy()\n",
    "df_true = df_true.drop(\"true\", axis=1).reset_index(drop=True)\n",
    "\n",
    "df_test = pd.read_csv(path_lhl / f\"{FILENAME_POSTFIX}_{FLAVOR}_test.csv\")"
   ]
  },
  {
   "cell_type": "markdown",
   "metadata": {},
   "source": [
    "# Shuffel and Split indecies"
   ]
  },
  {
   "cell_type": "code",
   "execution_count": 92,
   "metadata": {},
   "outputs": [],
   "source": [
    "indecies = {}\n",
    "u_bound = df_true['y'].value_counts().max()\n",
    "classes = df_true['y'].drop_duplicates().sort_values().values\n",
    "\n",
    "for c in classes:\n",
    "    indecies[c] = df_true.loc[df_true['y'] == c].index.values\n",
    "    np.random.shuffle(indecies[c])"
   ]
  },
  {
   "cell_type": "code",
   "execution_count": 93,
   "metadata": {},
   "outputs": [
    {
     "data": {
      "text/plain": [
       "True"
      ]
     },
     "execution_count": 93,
     "metadata": {},
     "output_type": "execute_result"
    }
   ],
   "source": [
    "sum([len(i) for i in indecies.values()]) == df_true.shape[0]"
   ]
  },
  {
   "cell_type": "code",
   "execution_count": 331,
   "metadata": {},
   "outputs": [],
   "source": [
    "# periods = 10\n",
    "\n",
    "# # shuffle data\n",
    "# schuffled_index = df_true.index.to_numpy().copy()\n",
    "# np.random.shuffle(schuffled_index)\n",
    "\n",
    "# # split data into batches\n",
    "# fragments_index = np.array_split(schuffled_index, periods)\n",
    "\n",
    "# # print shape\n",
    "# schuffled_index.shape, np.concatenate(fragments_index).shape"
   ]
  },
  {
   "cell_type": "markdown",
   "metadata": {},
   "source": [
    "# Build BDD"
   ]
  },
  {
   "cell_type": "code",
   "execution_count": 101,
   "metadata": {},
   "outputs": [
    {
     "data": {
      "text/html": [
       "\n",
       "    <div>\n",
       "        <style>\n",
       "            /* Turns off some styling */\n",
       "            progress {\n",
       "                /* gets rid of default border in Firefox and Opera. */\n",
       "                border: none;\n",
       "                /* Needs to be in here for Safari polyfill so background images work as expected. */\n",
       "                background-size: auto;\n",
       "            }\n",
       "            .progress-bar-interrupted, .progress-bar-interrupted::-webkit-progress-bar {\n",
       "                background: #F44336;\n",
       "            }\n",
       "        </style>\n",
       "      <progress value='4' class='' max='4' style='width:300px; height:20px; vertical-align: middle;'></progress>\n",
       "      100.00% [4/4 00:17<00:00]\n",
       "    </div>\n",
       "    "
      ],
      "text/plain": [
       "<IPython.core.display.HTML object>"
      ]
     },
     "metadata": {},
     "output_type": "display_data"
    }
   ],
   "source": [
    "# each set of data has its own threshold\n",
    "thld_p = 0.9\n",
    "eta = 0\n",
    "neurons = []\n",
    "\n",
    "\n",
    "# save scores and stats\n",
    "stats = pd.DataFrame()\n",
    "train_scores = pd.DataFrame()\n",
    "test_scores = pd.DataFrame()\n",
    "\n",
    "# progress bar\n",
    "pb = progress_bar(range(step, u_bound+start, step))\n",
    "\n",
    "# number of instances per class\n",
    "step = 250\n",
    "\n",
    "# buidl for each i\n",
    "for i in pb:\n",
    "    \n",
    "    # indecies\n",
    "    ix = np.concatenate([v[:i] for v in indecies.values()], axis=None)\n",
    "    \n",
    "    # calculate threshold\n",
    "    thld = np.quantile( df_true.loc[ix].drop('y', axis=1), thld_p)\n",
    "    \n",
    "    # BDD\n",
    "    patterns = MonitorBDD( df_true.loc[ix].shape[1]-1, thld, neurons=neurons)\n",
    "    df_train_copy, df_test_copy = patterns.add_dataframe( df_true.loc[ix], eta, eval_dfs=[df_train.loc[ix].copy(), df_test.copy()] )\n",
    "\n",
    "    \n",
    "    # score\n",
    "    df_train_scores = patterns.score_dataframe_multi_eta(df_train_copy, eta)\n",
    "    df_test_scores = patterns.score_dataframe_multi_eta(df_test_copy, eta)\n",
    "\n",
    "    \n",
    "    # add metadata\n",
    "    patterns.stats['thld'] = f'qth_{thld_p}'\n",
    "    patterns.stats['period'] = i\n",
    "    patterns.stats['num_observations'] = ix.shape[0]\n",
    "    df_train_scores['period'] = i\n",
    "    df_train_scores['num_observations'] = ix.shape[0]\n",
    "    df_test_scores['period'] = i\n",
    "    df_test_scores['num_observations'] = ix.shape[0]\n",
    "    \n",
    "    \n",
    "    # collect scores\n",
    "    stats = pd.concat([stats, patterns.stats])\n",
    "    train_scores = pd.concat([train_scores, df_train_scores])\n",
    "    test_scores = pd.concat([test_scores, df_test_scores])"
   ]
  },
  {
   "cell_type": "code",
   "execution_count": 95,
   "metadata": {
    "scrolled": false
   },
   "outputs": [
    {
     "data": {
      "text/html": [
       "<div>\n",
       "<style scoped>\n",
       "    .dataframe tbody tr th:only-of-type {\n",
       "        vertical-align: middle;\n",
       "    }\n",
       "\n",
       "    .dataframe tbody tr th {\n",
       "        vertical-align: top;\n",
       "    }\n",
       "\n",
       "    .dataframe thead th {\n",
       "        text-align: right;\n",
       "    }\n",
       "</style>\n",
       "<table border=\"1\" class=\"dataframe\">\n",
       "  <thead>\n",
       "    <tr style=\"text-align: right;\">\n",
       "      <th></th>\n",
       "      <th>thld</th>\n",
       "      <th>eta</th>\n",
       "      <th>build_time</th>\n",
       "      <th>size_mb</th>\n",
       "      <th>reorder_time</th>\n",
       "      <th>num_patterns</th>\n",
       "      <th>num_unique_patterns</th>\n",
       "      <th>num_reorder</th>\n",
       "      <th>num_neurons</th>\n",
       "      <th>start_time</th>\n",
       "      <th>end_time</th>\n",
       "      <th>period</th>\n",
       "      <th>num_observations</th>\n",
       "    </tr>\n",
       "  </thead>\n",
       "  <tbody>\n",
       "    <tr>\n",
       "      <th>1</th>\n",
       "      <td>qth_0.9</td>\n",
       "      <td>0.0</td>\n",
       "      <td>0.004</td>\n",
       "      <td>4304.457</td>\n",
       "      <td>0.0</td>\n",
       "      <td>21500.0</td>\n",
       "      <td>2784.0</td>\n",
       "      <td>0.0</td>\n",
       "      <td>30.0</td>\n",
       "      <td>2023-07-22 16:26:03</td>\n",
       "      <td>2023-07-22 16:26:03</td>\n",
       "      <td>500</td>\n",
       "      <td>21500</td>\n",
       "    </tr>\n",
       "    <tr>\n",
       "      <th>1</th>\n",
       "      <td>qth_0.9</td>\n",
       "      <td>0.0</td>\n",
       "      <td>0.006</td>\n",
       "      <td>4305.152</td>\n",
       "      <td>0.0</td>\n",
       "      <td>43000.0</td>\n",
       "      <td>3529.0</td>\n",
       "      <td>0.0</td>\n",
       "      <td>30.0</td>\n",
       "      <td>2023-07-22 16:26:06</td>\n",
       "      <td>2023-07-22 16:26:06</td>\n",
       "      <td>1000</td>\n",
       "      <td>43000</td>\n",
       "    </tr>\n",
       "    <tr>\n",
       "      <th>1</th>\n",
       "      <td>qth_0.9</td>\n",
       "      <td>0.0</td>\n",
       "      <td>0.008</td>\n",
       "      <td>4304.708</td>\n",
       "      <td>0.0</td>\n",
       "      <td>61314.0</td>\n",
       "      <td>3911.0</td>\n",
       "      <td>0.0</td>\n",
       "      <td>30.0</td>\n",
       "      <td>2023-07-22 16:26:10</td>\n",
       "      <td>2023-07-22 16:26:11</td>\n",
       "      <td>1500</td>\n",
       "      <td>61314</td>\n",
       "    </tr>\n",
       "    <tr>\n",
       "      <th>1</th>\n",
       "      <td>qth_0.9</td>\n",
       "      <td>0.0</td>\n",
       "      <td>0.008</td>\n",
       "      <td>4304.708</td>\n",
       "      <td>0.0</td>\n",
       "      <td>61361.0</td>\n",
       "      <td>3913.0</td>\n",
       "      <td>0.0</td>\n",
       "      <td>30.0</td>\n",
       "      <td>2023-07-22 16:26:15</td>\n",
       "      <td>2023-07-22 16:26:15</td>\n",
       "      <td>2000</td>\n",
       "      <td>61361</td>\n",
       "    </tr>\n",
       "  </tbody>\n",
       "</table>\n",
       "</div>"
      ],
      "text/plain": [
       "      thld  eta  build_time   size_mb  reorder_time  num_patterns   \n",
       "1  qth_0.9  0.0       0.004  4304.457           0.0       21500.0  \\\n",
       "1  qth_0.9  0.0       0.006  4305.152           0.0       43000.0   \n",
       "1  qth_0.9  0.0       0.008  4304.708           0.0       61314.0   \n",
       "1  qth_0.9  0.0       0.008  4304.708           0.0       61361.0   \n",
       "\n",
       "   num_unique_patterns  num_reorder  num_neurons           start_time   \n",
       "1               2784.0          0.0         30.0  2023-07-22 16:26:03  \\\n",
       "1               3529.0          0.0         30.0  2023-07-22 16:26:06   \n",
       "1               3911.0          0.0         30.0  2023-07-22 16:26:10   \n",
       "1               3913.0          0.0         30.0  2023-07-22 16:26:15   \n",
       "\n",
       "              end_time  period  num_observations  \n",
       "1  2023-07-22 16:26:03     500             21500  \n",
       "1  2023-07-22 16:26:06    1000             43000  \n",
       "1  2023-07-22 16:26:11    1500             61314  \n",
       "1  2023-07-22 16:26:15    2000             61361  "
      ]
     },
     "execution_count": 95,
     "metadata": {},
     "output_type": "execute_result"
    }
   ],
   "source": [
    "stats"
   ]
  },
  {
   "cell_type": "code",
   "execution_count": 96,
   "metadata": {},
   "outputs": [
    {
     "data": {
      "text/html": [
       "<div>\n",
       "<style scoped>\n",
       "    .dataframe tbody tr th:only-of-type {\n",
       "        vertical-align: middle;\n",
       "    }\n",
       "\n",
       "    .dataframe tbody tr th {\n",
       "        vertical-align: top;\n",
       "    }\n",
       "\n",
       "    .dataframe thead th {\n",
       "        text-align: right;\n",
       "    }\n",
       "</style>\n",
       "<table border=\"1\" class=\"dataframe\">\n",
       "  <thead>\n",
       "    <tr style=\"text-align: right;\">\n",
       "      <th></th>\n",
       "      <th>y</th>\n",
       "      <th>count</th>\n",
       "      <th>false</th>\n",
       "      <th>false_misclassified</th>\n",
       "      <th>false_classified</th>\n",
       "      <th>outOfPattern</th>\n",
       "      <th>outOfPatternMisclassified</th>\n",
       "      <th>outOfPatternClassified</th>\n",
       "      <th>eta</th>\n",
       "      <th>period</th>\n",
       "      <th>num_observations</th>\n",
       "    </tr>\n",
       "  </thead>\n",
       "  <tbody>\n",
       "    <tr>\n",
       "      <th>43</th>\n",
       "      <td>all</td>\n",
       "      <td>21500.0</td>\n",
       "      <td>680.0</td>\n",
       "      <td>30.0</td>\n",
       "      <td>650.0</td>\n",
       "      <td>0.031628</td>\n",
       "      <td>0.044118</td>\n",
       "      <td>0.955882</td>\n",
       "      <td>0</td>\n",
       "      <td>500</td>\n",
       "      <td>21500</td>\n",
       "    </tr>\n",
       "    <tr>\n",
       "      <th>43</th>\n",
       "      <td>all</td>\n",
       "      <td>43000.0</td>\n",
       "      <td>340.0</td>\n",
       "      <td>40.0</td>\n",
       "      <td>300.0</td>\n",
       "      <td>0.007907</td>\n",
       "      <td>0.117647</td>\n",
       "      <td>0.882353</td>\n",
       "      <td>0</td>\n",
       "      <td>1000</td>\n",
       "      <td>43000</td>\n",
       "    </tr>\n",
       "    <tr>\n",
       "      <th>43</th>\n",
       "      <td>all</td>\n",
       "      <td>61314.0</td>\n",
       "      <td>45.0</td>\n",
       "      <td>43.0</td>\n",
       "      <td>2.0</td>\n",
       "      <td>0.000734</td>\n",
       "      <td>0.955556</td>\n",
       "      <td>0.044444</td>\n",
       "      <td>0</td>\n",
       "      <td>1500</td>\n",
       "      <td>61314</td>\n",
       "    </tr>\n",
       "    <tr>\n",
       "      <th>43</th>\n",
       "      <td>all</td>\n",
       "      <td>61361.0</td>\n",
       "      <td>43.0</td>\n",
       "      <td>43.0</td>\n",
       "      <td>0.0</td>\n",
       "      <td>0.000701</td>\n",
       "      <td>1.000000</td>\n",
       "      <td>0.000000</td>\n",
       "      <td>0</td>\n",
       "      <td>2000</td>\n",
       "      <td>61361</td>\n",
       "    </tr>\n",
       "  </tbody>\n",
       "</table>\n",
       "</div>"
      ],
      "text/plain": [
       "      y    count  false  false_misclassified  false_classified  outOfPattern   \n",
       "43  all  21500.0  680.0                 30.0             650.0      0.031628  \\\n",
       "43  all  43000.0  340.0                 40.0             300.0      0.007907   \n",
       "43  all  61314.0   45.0                 43.0               2.0      0.000734   \n",
       "43  all  61361.0   43.0                 43.0               0.0      0.000701   \n",
       "\n",
       "    outOfPatternMisclassified  outOfPatternClassified  eta  period   \n",
       "43                   0.044118                0.955882    0     500  \\\n",
       "43                   0.117647                0.882353    0    1000   \n",
       "43                   0.955556                0.044444    0    1500   \n",
       "43                   1.000000                0.000000    0    2000   \n",
       "\n",
       "    num_observations  \n",
       "43             21500  \n",
       "43             43000  \n",
       "43             61314  \n",
       "43             61361  "
      ]
     },
     "execution_count": 96,
     "metadata": {},
     "output_type": "execute_result"
    }
   ],
   "source": [
    "train_scores.loc[ train_scores['y'] == 'all' ]"
   ]
  },
  {
   "cell_type": "code",
   "execution_count": 97,
   "metadata": {},
   "outputs": [
    {
     "data": {
      "text/html": [
       "<div>\n",
       "<style scoped>\n",
       "    .dataframe tbody tr th:only-of-type {\n",
       "        vertical-align: middle;\n",
       "    }\n",
       "\n",
       "    .dataframe tbody tr th {\n",
       "        vertical-align: top;\n",
       "    }\n",
       "\n",
       "    .dataframe thead th {\n",
       "        text-align: right;\n",
       "    }\n",
       "</style>\n",
       "<table border=\"1\" class=\"dataframe\">\n",
       "  <thead>\n",
       "    <tr style=\"text-align: right;\">\n",
       "      <th></th>\n",
       "      <th>y</th>\n",
       "      <th>count</th>\n",
       "      <th>false</th>\n",
       "      <th>false_misclassified</th>\n",
       "      <th>false_classified</th>\n",
       "      <th>outOfPattern</th>\n",
       "      <th>outOfPatternMisclassified</th>\n",
       "      <th>outOfPatternClassified</th>\n",
       "      <th>eta</th>\n",
       "      <th>period</th>\n",
       "      <th>num_observations</th>\n",
       "    </tr>\n",
       "  </thead>\n",
       "  <tbody>\n",
       "    <tr>\n",
       "      <th>43</th>\n",
       "      <td>all</td>\n",
       "      <td>4192.0</td>\n",
       "      <td>430.0</td>\n",
       "      <td>14.0</td>\n",
       "      <td>416.0</td>\n",
       "      <td>0.102576</td>\n",
       "      <td>0.032558</td>\n",
       "      <td>0.967442</td>\n",
       "      <td>0</td>\n",
       "      <td>500</td>\n",
       "      <td>21500</td>\n",
       "    </tr>\n",
       "    <tr>\n",
       "      <th>43</th>\n",
       "      <td>all</td>\n",
       "      <td>4192.0</td>\n",
       "      <td>344.0</td>\n",
       "      <td>7.0</td>\n",
       "      <td>337.0</td>\n",
       "      <td>0.082061</td>\n",
       "      <td>0.020349</td>\n",
       "      <td>0.979651</td>\n",
       "      <td>0</td>\n",
       "      <td>1000</td>\n",
       "      <td>43000</td>\n",
       "    </tr>\n",
       "    <tr>\n",
       "      <th>43</th>\n",
       "      <td>all</td>\n",
       "      <td>4192.0</td>\n",
       "      <td>314.0</td>\n",
       "      <td>7.0</td>\n",
       "      <td>307.0</td>\n",
       "      <td>0.074905</td>\n",
       "      <td>0.022293</td>\n",
       "      <td>0.977707</td>\n",
       "      <td>0</td>\n",
       "      <td>1500</td>\n",
       "      <td>61314</td>\n",
       "    </tr>\n",
       "    <tr>\n",
       "      <th>43</th>\n",
       "      <td>all</td>\n",
       "      <td>4192.0</td>\n",
       "      <td>314.0</td>\n",
       "      <td>7.0</td>\n",
       "      <td>307.0</td>\n",
       "      <td>0.074905</td>\n",
       "      <td>0.022293</td>\n",
       "      <td>0.977707</td>\n",
       "      <td>0</td>\n",
       "      <td>2000</td>\n",
       "      <td>61361</td>\n",
       "    </tr>\n",
       "  </tbody>\n",
       "</table>\n",
       "</div>"
      ],
      "text/plain": [
       "      y   count  false  false_misclassified  false_classified  outOfPattern   \n",
       "43  all  4192.0  430.0                 14.0             416.0      0.102576  \\\n",
       "43  all  4192.0  344.0                  7.0             337.0      0.082061   \n",
       "43  all  4192.0  314.0                  7.0             307.0      0.074905   \n",
       "43  all  4192.0  314.0                  7.0             307.0      0.074905   \n",
       "\n",
       "    outOfPatternMisclassified  outOfPatternClassified  eta  period   \n",
       "43                   0.032558                0.967442    0     500  \\\n",
       "43                   0.020349                0.979651    0    1000   \n",
       "43                   0.022293                0.977707    0    1500   \n",
       "43                   0.022293                0.977707    0    2000   \n",
       "\n",
       "    num_observations  \n",
       "43             21500  \n",
       "43             43000  \n",
       "43             61314  \n",
       "43             61361  "
      ]
     },
     "execution_count": 97,
     "metadata": {},
     "output_type": "execute_result"
    }
   ],
   "source": [
    "test_scores.loc[ test_scores['y'] == 'all' ]"
   ]
  },
  {
   "cell_type": "code",
   "execution_count": 98,
   "metadata": {},
   "outputs": [
    {
     "data": {
      "text/plain": [
       "<Axes: xlabel='period', ylabel='false'>"
      ]
     },
     "execution_count": 98,
     "metadata": {},
     "output_type": "execute_result"
    },
    {
     "data": {
      "image/png": "[encoded data removed]",
      "text/plain": [
       "<Figure size 640x480 with 1 Axes>"
      ]
     },
     "metadata": {},
     "output_type": "display_data"
    }
   ],
   "source": [
    "sns.lineplot(data=test_scores.loc[ test_scores['y'] == 'all' ], x='period', y='false')"
   ]
  },
  {
   "cell_type": "code",
   "execution_count": 99,
   "metadata": {},
   "outputs": [
    {
     "data": {
      "text/plain": [
       "<Axes: xlabel='period', ylabel='outOfPatternMisclassified'>"
      ]
     },
     "execution_count": 99,
     "metadata": {},
     "output_type": "execute_result"
    },
    {
     "data": {
      "image/png": "[encoded data removed]",
      "text/plain": [
       "<Figure size 640x480 with 1 Axes>"
      ]
     },
     "metadata": {},
     "output_type": "display_data"
    }
   ],
   "source": [
    "sns.lineplot(data=test_scores.loc[ test_scores['y'] == 'all' ], x='period', y='outOfPatternMisclassified')"
   ]
  },
  {
   "cell_type": "code",
   "execution_count": null,
   "metadata": {},
   "outputs": [],
   "source": []
  },
  {
   "cell_type": "code",
   "execution_count": null,
   "metadata": {},
   "outputs": [],
   "source": []
  }
 ],
 "metadata": {
  "accelerator": "GPU",
  "colab": {
   "collapsed_sections": [
    "mcDeYOA8d1wL"
   ],
   "provenance": []
  },
  "gpuClass": "standard",
  "kernelspec": {
   "display_name": "Python 3",
   "language": "python",
   "name": "python3"
  },
  "language_info": {
   "codemirror_mode": {
    "name": "ipython",
    "version": 3
   },
   "file_extension": ".py",
   "mimetype": "text/x-python",
   "name": "python",
   "nbconvert_exporter": "python",
   "pygments_lexer": "ipython3",
   "version": "3.10.11"
  },
  "vscode": {
   "interpreter": {
    "hash": "2b89e4666a1b1f5f90ada5928a1b04d9ad859bf674b23c56e0417352230a6456"
   }
  }
 },
 "nbformat": 4,
 "nbformat_minor": 4
}
