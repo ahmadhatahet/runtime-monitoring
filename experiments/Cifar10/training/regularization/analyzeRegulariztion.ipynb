{
 "cells": [
  {
   "cell_type": "markdown",
   "metadata": {},
   "source": [
    "# Setup"
   ]
  },
  {
   "cell_type": "code",
   "execution_count": 1,
   "metadata": {
    "id": "oKZV5fKvcqA4"
   },
   "outputs": [],
   "source": [
    "import numpy as np\n",
    "import pandas as pd\n",
    "import matplotlib.pyplot as plt\n",
    "import seaborn as sns\n",
    "\n",
    "import time\n",
    "from pathlib import Path\n",
    "\n",
    "from ipywidgets import interactive_output, widgets, Dropdown\n",
    "from IPython import display"
   ]
  },
  {
   "cell_type": "code",
   "execution_count": 2,
   "metadata": {},
   "outputs": [],
   "source": [
    "REPO_PATH = '/home/ah19/runtime-monitoring'\n",
    "DATASET = 'Cifar10'\n",
    "PREFIX = 'Regularizations'\n",
    "FILENAME_POSTFIX = f\"{DATASET}_{PREFIX}\"\n",
    "SEED = 42"
   ]
  },
  {
   "cell_type": "code",
   "execution_count": 3,
   "metadata": {},
   "outputs": [],
   "source": [
    "import sys\n",
    "sys.path.append(REPO_PATH + '/utilities')\n",
    "sys.path.append(f'{REPO_PATH}/{DATASET}/trainingModels')"
   ]
  },
  {
   "cell_type": "code",
   "execution_count": 4,
   "metadata": {},
   "outputs": [],
   "source": [
    "from pathManager import fetchPaths\n",
    "from plotFunctions import *"
   ]
  },
  {
   "cell_type": "code",
   "execution_count": 5,
   "metadata": {},
   "outputs": [
    {
     "data": {
      "text/plain": [
       "PosixPath('/home/ah19/runtime-monitoring/Cifar10')"
      ]
     },
     "execution_count": 5,
     "metadata": {},
     "output_type": "execute_result"
    }
   ],
   "source": [
    "base = Path(REPO_PATH)\n",
    "paths = fetchPaths(base, DATASET)\n",
    "\n",
    "path = paths[DATASET.lower()]\n",
    "path_dataset = paths['dataset']\n",
    "path_trainingModels = paths['trainingModels']\n",
    "path_trainingModels_regularization = paths['trainingModels_regularization']\n",
    "\n",
    "path"
   ]
  },
  {
   "cell_type": "markdown",
   "metadata": {},
   "source": [
    " # Read Data"
   ]
  },
  {
   "cell_type": "code",
   "execution_count": 6,
   "metadata": {
    "id": "NkJJ9EFVdgNq"
   },
   "outputs": [],
   "source": [
    "df = pd.read_csv( path_trainingModels_regularization / f'scores-{DATASET.lower()}-{PREFIX.lower()}.csv' )"
   ]
  },
  {
   "cell_type": "code",
   "execution_count": 7,
   "metadata": {},
   "outputs": [
    {
     "data": {
      "text/html": [
       "<div>\n",
       "<style scoped>\n",
       "    .dataframe tbody tr th:only-of-type {\n",
       "        vertical-align: middle;\n",
       "    }\n",
       "\n",
       "    .dataframe tbody tr th {\n",
       "        vertical-align: top;\n",
       "    }\n",
       "\n",
       "    .dataframe thead th {\n",
       "        text-align: right;\n",
       "    }\n",
       "</style>\n",
       "<table border=\"1\" class=\"dataframe\">\n",
       "  <thead>\n",
       "    <tr style=\"text-align: right;\">\n",
       "      <th></th>\n",
       "      <th>optim</th>\n",
       "      <th>batchsize</th>\n",
       "      <th>lr</th>\n",
       "      <th>regularization</th>\n",
       "      <th>L2</th>\n",
       "      <th>L1</th>\n",
       "      <th>dropout</th>\n",
       "      <th>test_accuracy</th>\n",
       "      <th>test_loss</th>\n",
       "      <th>train_accuracy</th>\n",
       "      <th>train_loss</th>\n",
       "      <th>time</th>\n",
       "    </tr>\n",
       "  </thead>\n",
       "  <tbody>\n",
       "    <tr>\n",
       "      <th>0</th>\n",
       "      <td>Adam</td>\n",
       "      <td>32.0</td>\n",
       "      <td>0.001</td>\n",
       "      <td>No Regularization</td>\n",
       "      <td>0.000</td>\n",
       "      <td>0.0</td>\n",
       "      <td>0.0</td>\n",
       "      <td>0.616</td>\n",
       "      <td>1.282959</td>\n",
       "      <td>0.8572</td>\n",
       "      <td>0.419754</td>\n",
       "      <td>212.090</td>\n",
       "    </tr>\n",
       "    <tr>\n",
       "      <th>1</th>\n",
       "      <td>Adam</td>\n",
       "      <td>64.0</td>\n",
       "      <td>0.001</td>\n",
       "      <td>No Regularization</td>\n",
       "      <td>0.000</td>\n",
       "      <td>0.0</td>\n",
       "      <td>0.0</td>\n",
       "      <td>0.596</td>\n",
       "      <td>1.300453</td>\n",
       "      <td>0.8881</td>\n",
       "      <td>0.330363</td>\n",
       "      <td>108.064</td>\n",
       "    </tr>\n",
       "    <tr>\n",
       "      <th>2</th>\n",
       "      <td>Adam</td>\n",
       "      <td>32.0</td>\n",
       "      <td>0.001</td>\n",
       "      <td>L2</td>\n",
       "      <td>0.001</td>\n",
       "      <td>0.0</td>\n",
       "      <td>0.0</td>\n",
       "      <td>0.562</td>\n",
       "      <td>1.214446</td>\n",
       "      <td>0.5916</td>\n",
       "      <td>1.137040</td>\n",
       "      <td>249.002</td>\n",
       "    </tr>\n",
       "    <tr>\n",
       "      <th>3</th>\n",
       "      <td>Adam</td>\n",
       "      <td>32.0</td>\n",
       "      <td>0.001</td>\n",
       "      <td>L2</td>\n",
       "      <td>0.001</td>\n",
       "      <td>0.0</td>\n",
       "      <td>0.0</td>\n",
       "      <td>0.562</td>\n",
       "      <td>1.214446</td>\n",
       "      <td>0.5916</td>\n",
       "      <td>1.137040</td>\n",
       "      <td>249.002</td>\n",
       "    </tr>\n",
       "    <tr>\n",
       "      <th>4</th>\n",
       "      <td>Adam</td>\n",
       "      <td>128.0</td>\n",
       "      <td>0.001</td>\n",
       "      <td>No Regularization</td>\n",
       "      <td>0.000</td>\n",
       "      <td>0.0</td>\n",
       "      <td>0.0</td>\n",
       "      <td>0.558</td>\n",
       "      <td>1.506384</td>\n",
       "      <td>0.9152</td>\n",
       "      <td>0.262124</td>\n",
       "      <td>83.235</td>\n",
       "    </tr>\n",
       "    <tr>\n",
       "      <th>5</th>\n",
       "      <td>Adam</td>\n",
       "      <td>256.0</td>\n",
       "      <td>0.001</td>\n",
       "      <td>No Regularization</td>\n",
       "      <td>0.000</td>\n",
       "      <td>0.0</td>\n",
       "      <td>0.0</td>\n",
       "      <td>0.544</td>\n",
       "      <td>1.487538</td>\n",
       "      <td>0.8677</td>\n",
       "      <td>0.420148</td>\n",
       "      <td>83.641</td>\n",
       "    </tr>\n",
       "    <tr>\n",
       "      <th>6</th>\n",
       "      <td>Adam</td>\n",
       "      <td>64.0</td>\n",
       "      <td>0.001</td>\n",
       "      <td>L2</td>\n",
       "      <td>0.001</td>\n",
       "      <td>0.0</td>\n",
       "      <td>0.0</td>\n",
       "      <td>0.470</td>\n",
       "      <td>1.512524</td>\n",
       "      <td>0.6612</td>\n",
       "      <td>0.956905</td>\n",
       "      <td>150.908</td>\n",
       "    </tr>\n",
       "    <tr>\n",
       "      <th>7</th>\n",
       "      <td>Adam</td>\n",
       "      <td>64.0</td>\n",
       "      <td>0.001</td>\n",
       "      <td>L2</td>\n",
       "      <td>0.001</td>\n",
       "      <td>0.0</td>\n",
       "      <td>0.0</td>\n",
       "      <td>0.470</td>\n",
       "      <td>1.512524</td>\n",
       "      <td>0.6612</td>\n",
       "      <td>0.956905</td>\n",
       "      <td>150.908</td>\n",
       "    </tr>\n",
       "    <tr>\n",
       "      <th>8</th>\n",
       "      <td>Adam</td>\n",
       "      <td>128.0</td>\n",
       "      <td>0.001</td>\n",
       "      <td>L2</td>\n",
       "      <td>0.001</td>\n",
       "      <td>0.0</td>\n",
       "      <td>0.0</td>\n",
       "      <td>0.436</td>\n",
       "      <td>2.063028</td>\n",
       "      <td>0.7250</td>\n",
       "      <td>0.775030</td>\n",
       "      <td>103.447</td>\n",
       "    </tr>\n",
       "    <tr>\n",
       "      <th>9</th>\n",
       "      <td>Adam</td>\n",
       "      <td>128.0</td>\n",
       "      <td>0.001</td>\n",
       "      <td>L2</td>\n",
       "      <td>0.001</td>\n",
       "      <td>0.0</td>\n",
       "      <td>0.0</td>\n",
       "      <td>0.436</td>\n",
       "      <td>2.063028</td>\n",
       "      <td>0.7250</td>\n",
       "      <td>0.775030</td>\n",
       "      <td>103.447</td>\n",
       "    </tr>\n",
       "  </tbody>\n",
       "</table>\n",
       "</div>"
      ],
      "text/plain": [
       "  optim  batchsize     lr     regularization     L2   L1  dropout  \\\n",
       "0  Adam       32.0  0.001  No Regularization  0.000  0.0      0.0   \n",
       "1  Adam       64.0  0.001  No Regularization  0.000  0.0      0.0   \n",
       "2  Adam       32.0  0.001                 L2  0.001  0.0      0.0   \n",
       "3  Adam       32.0  0.001                 L2  0.001  0.0      0.0   \n",
       "4  Adam      128.0  0.001  No Regularization  0.000  0.0      0.0   \n",
       "5  Adam      256.0  0.001  No Regularization  0.000  0.0      0.0   \n",
       "6  Adam       64.0  0.001                 L2  0.001  0.0      0.0   \n",
       "7  Adam       64.0  0.001                 L2  0.001  0.0      0.0   \n",
       "8  Adam      128.0  0.001                 L2  0.001  0.0      0.0   \n",
       "9  Adam      128.0  0.001                 L2  0.001  0.0      0.0   \n",
       "\n",
       "   test_accuracy  test_loss  train_accuracy  train_loss     time  \n",
       "0          0.616   1.282959          0.8572    0.419754  212.090  \n",
       "1          0.596   1.300453          0.8881    0.330363  108.064  \n",
       "2          0.562   1.214446          0.5916    1.137040  249.002  \n",
       "3          0.562   1.214446          0.5916    1.137040  249.002  \n",
       "4          0.558   1.506384          0.9152    0.262124   83.235  \n",
       "5          0.544   1.487538          0.8677    0.420148   83.641  \n",
       "6          0.470   1.512524          0.6612    0.956905  150.908  \n",
       "7          0.470   1.512524          0.6612    0.956905  150.908  \n",
       "8          0.436   2.063028          0.7250    0.775030  103.447  \n",
       "9          0.436   2.063028          0.7250    0.775030  103.447  "
      ]
     },
     "execution_count": 7,
     "metadata": {},
     "output_type": "execute_result"
    }
   ],
   "source": [
    "df.head(10)"
   ]
  },
  {
   "cell_type": "code",
   "execution_count": null,
   "metadata": {},
   "outputs": [],
   "source": []
  }
 ],
 "metadata": {
  "colab": {
   "provenance": []
  },
  "kernelspec": {
   "display_name": "Python 3",
   "language": "python",
   "name": "python3"
  },
  "language_info": {
   "codemirror_mode": {
    "name": "ipython",
    "version": 3
   },
   "file_extension": ".py",
   "mimetype": "text/x-python",
   "name": "python",
   "nbconvert_exporter": "python",
   "pygments_lexer": "ipython3",
   "version": "3.6.8"
  },
  "vscode": {
   "interpreter": {
    "hash": "25a19fbe0a9132dfb9279d48d161753c6352f8f9478c2e74383d340069b907c3"
   }
  }
 },
 "nbformat": 4,
 "nbformat_minor": 1
}
