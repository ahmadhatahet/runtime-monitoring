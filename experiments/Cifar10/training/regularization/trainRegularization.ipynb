{
 "cells": [
  {
   "cell_type": "markdown",
   "metadata": {},
   "source": [
    "# Setup Variables"
   ]
  },
  {
   "cell_type": "code",
   "execution_count": 2,
   "metadata": {},
   "outputs": [],
   "source": [
    "REPO_PATH = '/home/ah19/runtime-monitoring'\n",
    "DATASET = 'Cifar10'\n",
    "PREFIX = 'Regularizations'\n",
    "FILENAME_POSTFIX = f\"{DATASET}_{PREFIX}\"\n",
    "SEED = 42\n",
    "\n",
    "CUDA = 0\n",
    "GPU_NAME = f'cuda:{CUDA}'\n",
    "model_setup = {'first_layer_norm': False}\n",
    "model_config = {'lr': 0.001,'epochs': 10}"
   ]
  },
  {
   "cell_type": "markdown",
   "metadata": {},
   "source": [
    "# Libraries"
   ]
  },
  {
   "cell_type": "code",
   "execution_count": 3,
   "metadata": {
    "id": "FLmxFGnxg6ZG"
   },
   "outputs": [],
   "source": [
    "import matplotlib.pyplot as plt\n",
    "import numpy as np\n",
    "import pandas as pd\n",
    "from fastprogress import progress_bar\n",
    "from pathlib import Path\n",
    "from time import perf_counter\n",
    "from itertools import product\n",
    "\n",
    "from sklearn.model_selection import train_test_split\n",
    "import torch\n",
    "from torch.backends import cudnn\n",
    "import torch.nn as nn\n",
    "import torch.nn.functional as F\n",
    "from torchinfo import summary"
   ]
  },
  {
   "cell_type": "code",
   "execution_count": 4,
   "metadata": {},
   "outputs": [],
   "source": [
    "import sys\n",
    "sys.path.append(REPO_PATH + '/utilities')\n",
    "sys.path.append(f'{REPO_PATH}/{DATASET}/trainingModels')"
   ]
  },
  {
   "cell_type": "code",
   "execution_count": 5,
   "metadata": {},
   "outputs": [],
   "source": [
    "from utils import *\n",
    "from pathManager import fetchPaths\n",
    "from Cifar10_DLA import Cifar10_DLA\n",
    "\n",
    "model_ = Cifar10_DLA\n",
    "\n",
    "LIMIT_TRAIN_DATA = 0.2\n",
    "LIMIT_TEST_DATA = 0.05"
   ]
  },
  {
   "cell_type": "markdown",
   "metadata": {
    "id": "h7eERD3yVH2H"
   },
   "source": [
    "# GPU Device & Seed"
   ]
  },
  {
   "cell_type": "code",
   "execution_count": 6,
   "metadata": {
    "id": "CS9DVaKDi_2C"
   },
   "outputs": [],
   "source": [
    "# np.random.seed(SEED)\n",
    "# torch.manual_seed(SEED)\n",
    "# torch.cuda.manual_seed(SEED)"
   ]
  },
  {
   "cell_type": "code",
   "execution_count": 7,
   "metadata": {
    "colab": {
     "base_uri": "https://localhost:8080/"
    },
    "id": "5jRXv8RAhzqa",
    "outputId": "d8ccff46-cebe-4890-ab1c-5b498a395e64"
   },
   "outputs": [
    {
     "data": {
      "text/plain": [
       "'NVIDIA A100 80GB PCIe'"
      ]
     },
     "execution_count": 7,
     "metadata": {},
     "output_type": "execute_result"
    }
   ],
   "source": [
    "device = get_device(GPU_NAME)\n",
    "torch.cuda.get_device_name(device)"
   ]
  },
  {
   "cell_type": "markdown",
   "metadata": {},
   "source": [
    "# Paths"
   ]
  },
  {
   "cell_type": "code",
   "execution_count": 8,
   "metadata": {
    "scrolled": true
   },
   "outputs": [
    {
     "data": {
      "text/plain": [
       "PosixPath('/home/ah19/runtime-monitoring/Cifar10')"
      ]
     },
     "execution_count": 8,
     "metadata": {},
     "output_type": "execute_result"
    }
   ],
   "source": [
    "base = Path(REPO_PATH)\n",
    "paths = fetchPaths(base, DATASET)\n",
    "\n",
    "path = paths[DATASET.lower()]\n",
    "path_dataset = paths['dataset']\n",
    "path_trainingModels = paths['trainingModels']\n",
    "path_trainingModels_regularization = paths['trainingModels_regularization']\n",
    "\n",
    "path"
   ]
  },
  {
   "cell_type": "markdown",
   "metadata": {
    "id": "h7eERD3yVH2H"
   },
   "source": [
    "# Load / Split / DataLoader"
   ]
  },
  {
   "cell_type": "code",
   "execution_count": 9,
   "metadata": {},
   "outputs": [
    {
     "name": "stdout",
     "output_type": "stream",
     "text": [
      "Files already downloaded and verified\n",
      "Files already downloaded and verified\n"
     ]
    },
    {
     "data": {
      "text/plain": [
       "(10000, 500)"
      ]
     },
     "execution_count": 9,
     "metadata": {},
     "output_type": "execute_result"
    }
   ],
   "source": [
    "feature_names = get_labels(DATASET)\n",
    "\n",
    "tf_train = T.Compose([\n",
    "    T.ToTensor(),\n",
    "    T.Normalize((0.4906, 0.4811, 0.4453), (0.2020, 0.1991, 0.2008))\n",
    "])\n",
    "\n",
    "\n",
    "tf_test = T.Compose([\n",
    "    T.ToTensor(),\n",
    "    T.Normalize((0.4906, 0.4811, 0.4453), (0.2020, 0.1991, 0.2008))\n",
    "])\n",
    "\n",
    "train_data = get_dataset(DATASET, path_dataset, train=True, transform=tf_train)\n",
    "test_data = get_dataset(DATASET, path_dataset, train=False, transform=tf_test)\n",
    "\n",
    "train_split = split_data(train_data.targets, LIMIT_TRAIN_DATA)\n",
    "test_split = split_data(test_data.targets, LIMIT_TEST_DATA)\n",
    "\n",
    "\n",
    "train_data = torch.utils.data.Subset(train_data, train_split)\n",
    "test_data = torch.utils.data.Subset(test_data, test_split)\n",
    "\n",
    "len(train_data), len(test_data)"
   ]
  },
  {
   "cell_type": "markdown",
   "metadata": {},
   "source": [
    "# Model"
   ]
  },
  {
   "cell_type": "code",
   "execution_count": 10,
   "metadata": {},
   "outputs": [],
   "source": [
    "def reg_type(l2, l1, p):\n",
    "    name = ''\n",
    "    if l2 > 0 and l1 == 0: name += 'L2'\n",
    "    elif l2 == 0 and l1 > 0: name += 'L1'\n",
    "    elif l2 > 0 and l1 > 0: name += 'Elastic'\n",
    "    \n",
    "    if p > 0 and name == '': name = 'Dropout'\n",
    "    elif p > 0: name += '-Dropout'\n",
    "        \n",
    "    if name == '': name = 'No Regularization'\n",
    "        \n",
    "    return name"
   ]
  },
  {
   "cell_type": "code",
   "execution_count": 35,
   "metadata": {},
   "outputs": [],
   "source": [
    "L2 = [0] #[0, 1e-3, 1e-2]\n",
    "L1 = [0] #[0, 1e-3, 1e-2]\n",
    "dropout = [0.0]\n",
    "optims = ['Adam', 'SGD']\n",
    "batchsizes = [32, 64, 128, 256]"
   ]
  },
  {
   "cell_type": "code",
   "execution_count": 36,
   "metadata": {
    "scrolled": true
   },
   "outputs": [
    {
     "data": {
      "text/html": [
       "\n",
       "<style>\n",
       "    /* Turns off some styling */\n",
       "    progress {\n",
       "        /* gets rid of default border in Firefox and Opera. */\n",
       "        border: none;\n",
       "        /* Needs to be in here for Safari polyfill so background images work as expected. */\n",
       "        background-size: auto;\n",
       "    }\n",
       "    progress:not([value]), progress:not([value])::-webkit-progress-bar {\n",
       "        background: repeating-linear-gradient(45deg, #7e7e7e, #7e7e7e 10px, #5c5c5c 10px, #5c5c5c 20px);\n",
       "    }\n",
       "    .progress-bar-interrupted, .progress-bar-interrupted::-webkit-progress-bar {\n",
       "        background: #F44336;\n",
       "    }\n",
       "</style>\n"
      ],
      "text/plain": [
       "<IPython.core.display.HTML object>"
      ]
     },
     "metadata": {},
     "output_type": "display_data"
    },
    {
     "data": {
      "text/html": [
       "\n",
       "    <div>\n",
       "      <progress value='16' class='' max='16' style='width:300px; height:20px; vertical-align: middle;'></progress>\n",
       "      100.00% [16/16 31:26&lt;00:00]\n",
       "    </div>\n",
       "    "
      ],
      "text/plain": [
       "<IPython.core.display.HTML object>"
      ]
     },
     "metadata": {},
     "output_type": "display_data"
    },
    {
     "name": "stdout",
     "output_type": "stream",
     "text": [
      "[==================================================]\n",
      "Adam - 32: (0, 0.001, 0.0)\n"
     ]
    },
    {
     "data": {
      "text/html": [
       "\n",
       "<style>\n",
       "    /* Turns off some styling */\n",
       "    progress {\n",
       "        /* gets rid of default border in Firefox and Opera. */\n",
       "        border: none;\n",
       "        /* Needs to be in here for Safari polyfill so background images work as expected. */\n",
       "        background-size: auto;\n",
       "    }\n",
       "    progress:not([value]), progress:not([value])::-webkit-progress-bar {\n",
       "        background: repeating-linear-gradient(45deg, #7e7e7e, #7e7e7e 10px, #5c5c5c 10px, #5c5c5c 20px);\n",
       "    }\n",
       "    .progress-bar-interrupted, .progress-bar-interrupted::-webkit-progress-bar {\n",
       "        background: #F44336;\n",
       "    }\n",
       "</style>\n"
      ],
      "text/plain": [
       "<IPython.core.display.HTML object>"
      ]
     },
     "metadata": {},
     "output_type": "display_data"
    },
    {
     "data": {
      "text/html": [
       "[Epoch: 00] Loss (2.030 / 2.023) - Accuracy (23.4% / 22.8%)<p>[Epoch: 01] Loss (1.984 / 2.461) - Accuracy (22.8% / 13.8%)<p>[Epoch: 02] Loss (1.940 / 2.220) - Accuracy (24.3% / 19.4%)<p>[Epoch: 03] Loss (1.877 / 2.133) - Accuracy (26.8% / 23.4%)<p>[Epoch: 04] Loss (1.805 / 1.859) - Accuracy (30.2% / 32.6%)<p>[Epoch: 05] Loss (1.730 / 1.747) - Accuracy (34.0% / 30.4%)<p>[Epoch: 06] Loss (1.663 / 1.726) - Accuracy (37.3% / 35.4%)<p>[Epoch: 07] Loss (1.613 / 1.667) - Accuracy (39.0% / 37.8%)<p>[Epoch: 08] Loss (1.558 / 1.675) - Accuracy (42.3% / 37.0%)<p>[Epoch: 09] Loss (1.535 / 1.665) - Accuracy (42.8% / 36.2%)"
      ],
      "text/plain": [
       "<IPython.core.display.HTML object>"
      ]
     },
     "metadata": {},
     "output_type": "display_data"
    },
    {
     "name": "stdout",
     "output_type": "stream",
     "text": [
      "[==================================================]\n",
      "Adam - 32: (0, 0.01, 0.0)\n"
     ]
    },
    {
     "data": {
      "text/html": [
       "\n",
       "<style>\n",
       "    /* Turns off some styling */\n",
       "    progress {\n",
       "        /* gets rid of default border in Firefox and Opera. */\n",
       "        border: none;\n",
       "        /* Needs to be in here for Safari polyfill so background images work as expected. */\n",
       "        background-size: auto;\n",
       "    }\n",
       "    progress:not([value]), progress:not([value])::-webkit-progress-bar {\n",
       "        background: repeating-linear-gradient(45deg, #7e7e7e, #7e7e7e 10px, #5c5c5c 10px, #5c5c5c 20px);\n",
       "    }\n",
       "    .progress-bar-interrupted, .progress-bar-interrupted::-webkit-progress-bar {\n",
       "        background: #F44336;\n",
       "    }\n",
       "</style>\n"
      ],
      "text/plain": [
       "<IPython.core.display.HTML object>"
      ]
     },
     "metadata": {},
     "output_type": "display_data"
    },
    {
     "data": {
      "text/html": [
       "[Epoch: 00] Loss (2.216 / 2.377) - Accuracy (16.0% / 10.0%)<p>[Epoch: 01] Loss (2.236 / 2.303) - Accuracy (14.8% / 12.4%)<p>[Epoch: 02] Loss (2.231 / 2.362) - Accuracy (14.9% / 11.8%)<p>[Epoch: 03] Loss (2.169 / 2.217) - Accuracy (16.5% / 16.6%)<p>[Epoch: 04] Loss (2.088 / 2.209) - Accuracy (17.2% / 13.4%)<p>[Epoch: 05] Loss (2.021 / 2.055) - Accuracy (17.5% / 16.0%)<p>[Epoch: 06] Loss (1.997 / 2.071) - Accuracy (17.7% / 16.8%)<p>[Epoch: 07] Loss (1.980 / 2.025) - Accuracy (17.9% / 20.0%)<p>[Epoch: 08] Loss (1.963 / 1.960) - Accuracy (18.4% / 19.2%)<p>[Epoch: 09] Loss (1.968 / 2.551) - Accuracy (18.4% / 10.0%)"
      ],
      "text/plain": [
       "<IPython.core.display.HTML object>"
      ]
     },
     "metadata": {},
     "output_type": "display_data"
    },
    {
     "name": "stdout",
     "output_type": "stream",
     "text": [
      "[==================================================]\n",
      "Adam - 64: (0, 0.001, 0.0)\n"
     ]
    },
    {
     "data": {
      "text/html": [
       "\n",
       "<style>\n",
       "    /* Turns off some styling */\n",
       "    progress {\n",
       "        /* gets rid of default border in Firefox and Opera. */\n",
       "        border: none;\n",
       "        /* Needs to be in here for Safari polyfill so background images work as expected. */\n",
       "        background-size: auto;\n",
       "    }\n",
       "    progress:not([value]), progress:not([value])::-webkit-progress-bar {\n",
       "        background: repeating-linear-gradient(45deg, #7e7e7e, #7e7e7e 10px, #5c5c5c 10px, #5c5c5c 20px);\n",
       "    }\n",
       "    .progress-bar-interrupted, .progress-bar-interrupted::-webkit-progress-bar {\n",
       "        background: #F44336;\n",
       "    }\n",
       "</style>\n"
      ],
      "text/plain": [
       "<IPython.core.display.HTML object>"
      ]
     },
     "metadata": {},
     "output_type": "display_data"
    },
    {
     "data": {
      "text/html": [
       "[Epoch: 00] Loss (1.964 / 2.000) - Accuracy (25.3% / 23.4%)<p>[Epoch: 01] Loss (1.884 / 2.238) - Accuracy (27.7% / 15.0%)<p>[Epoch: 02] Loss (1.879 / 33.822) - Accuracy (27.3% / 14.2%)<p>[Epoch: 03] Loss (1.872 / 2.406) - Accuracy (27.2% / 14.8%)<p>[Epoch: 04] Loss (1.848 / 86.643) - Accuracy (27.7% / 14.2%)<p>[Epoch: 05] Loss (1.807 / 2.443) - Accuracy (29.2% / 20.0%)<p>[Epoch: 06] Loss (1.764 / 1.928) - Accuracy (30.6% / 24.6%)<p>[Epoch: 07] Loss (1.704 / 3.416) - Accuracy (34.1% / 19.4%)<p>[Epoch: 08] Loss (1.625 / 1.748) - Accuracy (37.8% / 32.6%)<p>[Epoch: 09] Loss (1.564 / 2.124) - Accuracy (40.3% / 23.8%)"
      ],
      "text/plain": [
       "<IPython.core.display.HTML object>"
      ]
     },
     "metadata": {},
     "output_type": "display_data"
    },
    {
     "name": "stdout",
     "output_type": "stream",
     "text": [
      "[==================================================]\n",
      "Adam - 64: (0, 0.01, 0.0)\n"
     ]
    },
    {
     "data": {
      "text/html": [
       "\n",
       "<style>\n",
       "    /* Turns off some styling */\n",
       "    progress {\n",
       "        /* gets rid of default border in Firefox and Opera. */\n",
       "        border: none;\n",
       "        /* Needs to be in here for Safari polyfill so background images work as expected. */\n",
       "        background-size: auto;\n",
       "    }\n",
       "    progress:not([value]), progress:not([value])::-webkit-progress-bar {\n",
       "        background: repeating-linear-gradient(45deg, #7e7e7e, #7e7e7e 10px, #5c5c5c 10px, #5c5c5c 20px);\n",
       "    }\n",
       "    .progress-bar-interrupted, .progress-bar-interrupted::-webkit-progress-bar {\n",
       "        background: #F44336;\n",
       "    }\n",
       "</style>\n"
      ],
      "text/plain": [
       "<IPython.core.display.HTML object>"
      ]
     },
     "metadata": {},
     "output_type": "display_data"
    },
    {
     "data": {
      "text/html": [
       "[Epoch: 00] Loss (2.235 / 2.477) - Accuracy (17.3% / 10.0%)<p>[Epoch: 01] Loss (2.241 / 2.404) - Accuracy (14.6% / 10.0%)<p>[Epoch: 02] Loss (2.244 / 2.293) - Accuracy (15.0% / 13.2%)<p>[Epoch: 03] Loss (2.252 / 2.304) - Accuracy (15.0% / 10.2%)<p>[Epoch: 04] Loss (2.266 / 2.302) - Accuracy (14.6% / 10.0%)<p>[Epoch: 05] Loss (2.258 / 2.732) - Accuracy (16.6% / 10.0%)<p>[Epoch: 06] Loss (2.221 / 2.185) - Accuracy (18.4% / 19.6%)<p>[Epoch: 07] Loss (2.178 / 2.184) - Accuracy (19.4% / 22.4%)<p>[Epoch: 08] Loss (2.141 / 2.165) - Accuracy (19.0% / 18.6%)<p>[Epoch: 09] Loss (2.120 / 2.082) - Accuracy (19.2% / 18.8%)"
      ],
      "text/plain": [
       "<IPython.core.display.HTML object>"
      ]
     },
     "metadata": {},
     "output_type": "display_data"
    },
    {
     "name": "stdout",
     "output_type": "stream",
     "text": [
      "[==================================================]\n",
      "Adam - 128: (0, 0.001, 0.0)\n"
     ]
    },
    {
     "data": {
      "text/html": [
       "\n",
       "<style>\n",
       "    /* Turns off some styling */\n",
       "    progress {\n",
       "        /* gets rid of default border in Firefox and Opera. */\n",
       "        border: none;\n",
       "        /* Needs to be in here for Safari polyfill so background images work as expected. */\n",
       "        background-size: auto;\n",
       "    }\n",
       "    progress:not([value]), progress:not([value])::-webkit-progress-bar {\n",
       "        background: repeating-linear-gradient(45deg, #7e7e7e, #7e7e7e 10px, #5c5c5c 10px, #5c5c5c 20px);\n",
       "    }\n",
       "    .progress-bar-interrupted, .progress-bar-interrupted::-webkit-progress-bar {\n",
       "        background: #F44336;\n",
       "    }\n",
       "</style>\n"
      ],
      "text/plain": [
       "<IPython.core.display.HTML object>"
      ]
     },
     "metadata": {},
     "output_type": "display_data"
    },
    {
     "data": {
      "text/html": [
       "[Epoch: 00] Loss (1.962 / 2.048) - Accuracy (27.7% / 27.4%)<p>[Epoch: 01] Loss (1.712 / 2.413) - Accuracy (36.2% / 15.4%)<p>[Epoch: 02] Loss (1.704 / 2.116) - Accuracy (37.3% / 18.6%)<p>[Epoch: 03] Loss (1.674 / 2.125) - Accuracy (37.0% / 24.2%)<p>[Epoch: 04] Loss (1.606 / 3.147) - Accuracy (39.5% / 18.4%)<p>[Epoch: 05] Loss (1.585 / 14.624) - Accuracy (40.2% / 13.8%)<p>[Epoch: 06] Loss (1.557 / 1.847) - Accuracy (41.4% / 34.0%)<p>[Epoch: 07] Loss (1.532 / 2.120) - Accuracy (42.5% / 26.0%)<p>[Epoch: 08] Loss (1.481 / 3.314) - Accuracy (44.7% / 11.2%)<p>[Epoch: 09] Loss (1.476 / 2.515) - Accuracy (44.9% / 27.8%)"
      ],
      "text/plain": [
       "<IPython.core.display.HTML object>"
      ]
     },
     "metadata": {},
     "output_type": "display_data"
    },
    {
     "name": "stdout",
     "output_type": "stream",
     "text": [
      "[==================================================]\n",
      "Adam - 128: (0, 0.01, 0.0)\n"
     ]
    },
    {
     "data": {
      "text/html": [
       "\n",
       "<style>\n",
       "    /* Turns off some styling */\n",
       "    progress {\n",
       "        /* gets rid of default border in Firefox and Opera. */\n",
       "        border: none;\n",
       "        /* Needs to be in here for Safari polyfill so background images work as expected. */\n",
       "        background-size: auto;\n",
       "    }\n",
       "    progress:not([value]), progress:not([value])::-webkit-progress-bar {\n",
       "        background: repeating-linear-gradient(45deg, #7e7e7e, #7e7e7e 10px, #5c5c5c 10px, #5c5c5c 20px);\n",
       "    }\n",
       "    .progress-bar-interrupted, .progress-bar-interrupted::-webkit-progress-bar {\n",
       "        background: #F44336;\n",
       "    }\n",
       "</style>\n"
      ],
      "text/plain": [
       "<IPython.core.display.HTML object>"
      ]
     },
     "metadata": {},
     "output_type": "display_data"
    },
    {
     "data": {
      "text/html": [
       "[Epoch: 00] Loss (2.110 / 2.374) - Accuracy (20.5% / 10.0%)<p>[Epoch: 01] Loss (2.104 / 2.319) - Accuracy (19.0% / 10.0%)<p>[Epoch: 02] Loss (2.175 / 2.337) - Accuracy (16.8% / 10.6%)<p>[Epoch: 03] Loss (2.166 / 2.343) - Accuracy (16.3% / 9.8%)<p>[Epoch: 04] Loss (2.205 / 2.309) - Accuracy (15.6% / 10.0%)<p>[Epoch: 05] Loss (2.198 / 2.308) - Accuracy (15.5% / 10.0%)<p>[Epoch: 06] Loss (2.214 / 2.303) - Accuracy (14.9% / 10.0%)<p>[Epoch: 07] Loss (2.237 / 13.322) - Accuracy (15.1% / 10.0%)<p>[Epoch: 08] Loss (2.259 / 2.303) - Accuracy (15.7% / 10.0%)<p>[Epoch: 09] Loss (2.264 / 2.300) - Accuracy (15.9% / 11.0%)"
      ],
      "text/plain": [
       "<IPython.core.display.HTML object>"
      ]
     },
     "metadata": {},
     "output_type": "display_data"
    },
    {
     "name": "stdout",
     "output_type": "stream",
     "text": [
      "[==================================================]\n",
      "Adam - 256: (0, 0.001, 0.0)\n"
     ]
    },
    {
     "data": {
      "text/html": [
       "\n",
       "<style>\n",
       "    /* Turns off some styling */\n",
       "    progress {\n",
       "        /* gets rid of default border in Firefox and Opera. */\n",
       "        border: none;\n",
       "        /* Needs to be in here for Safari polyfill so background images work as expected. */\n",
       "        background-size: auto;\n",
       "    }\n",
       "    progress:not([value]), progress:not([value])::-webkit-progress-bar {\n",
       "        background: repeating-linear-gradient(45deg, #7e7e7e, #7e7e7e 10px, #5c5c5c 10px, #5c5c5c 20px);\n",
       "    }\n",
       "    .progress-bar-interrupted, .progress-bar-interrupted::-webkit-progress-bar {\n",
       "        background: #F44336;\n",
       "    }\n",
       "</style>\n"
      ],
      "text/plain": [
       "<IPython.core.display.HTML object>"
      ]
     },
     "metadata": {},
     "output_type": "display_data"
    },
    {
     "data": {
      "text/html": [
       "[Epoch: 00] Loss (2.059 / 2.325) - Accuracy (23.8% / 18.2%)<p>[Epoch: 01] Loss (1.769 / 2.345) - Accuracy (34.5% / 16.2%)<p>[Epoch: 02] Loss (1.714 / 2.271) - Accuracy (36.3% / 16.2%)<p>[Epoch: 03] Loss (1.669 / 2.394) - Accuracy (38.2% / 14.6%)<p>[Epoch: 04] Loss (1.627 / 3.552) - Accuracy (39.4% / 13.6%)<p>[Epoch: 05] Loss (1.690 / 3.067) - Accuracy (37.0% / 13.0%)<p>[Epoch: 06] Loss (1.696 / 2.202) - Accuracy (35.6% / 17.6%)<p>[Epoch: 07] Loss (1.646 / 5.372) - Accuracy (37.9% / 20.2%)<p>[Epoch: 08] Loss (1.623 / 2.333) - Accuracy (38.7% / 16.2%)<p>[Epoch: 09] Loss (1.617 / 2.328) - Accuracy (39.0% / 16.0%)"
      ],
      "text/plain": [
       "<IPython.core.display.HTML object>"
      ]
     },
     "metadata": {},
     "output_type": "display_data"
    },
    {
     "name": "stdout",
     "output_type": "stream",
     "text": [
      "[==================================================]\n",
      "Adam - 256: (0, 0.01, 0.0)\n"
     ]
    },
    {
     "data": {
      "text/html": [
       "\n",
       "<style>\n",
       "    /* Turns off some styling */\n",
       "    progress {\n",
       "        /* gets rid of default border in Firefox and Opera. */\n",
       "        border: none;\n",
       "        /* Needs to be in here for Safari polyfill so background images work as expected. */\n",
       "        background-size: auto;\n",
       "    }\n",
       "    progress:not([value]), progress:not([value])::-webkit-progress-bar {\n",
       "        background: repeating-linear-gradient(45deg, #7e7e7e, #7e7e7e 10px, #5c5c5c 10px, #5c5c5c 20px);\n",
       "    }\n",
       "    .progress-bar-interrupted, .progress-bar-interrupted::-webkit-progress-bar {\n",
       "        background: #F44336;\n",
       "    }\n",
       "</style>\n"
      ],
      "text/plain": [
       "<IPython.core.display.HTML object>"
      ]
     },
     "metadata": {},
     "output_type": "display_data"
    },
    {
     "data": {
      "text/html": [
       "[Epoch: 00] Loss (2.247 / 2.311) - Accuracy (17.3% / 10.0%)<p>[Epoch: 01] Loss (2.074 / 2.329) - Accuracy (23.3% / 10.0%)<p>[Epoch: 02] Loss (2.116 / 2.658) - Accuracy (20.3% / 10.0%)<p>[Epoch: 03] Loss (2.158 / 2.345) - Accuracy (16.5% / 10.0%)<p>[Epoch: 04] Loss (2.134 / 2.613) - Accuracy (17.4% / 10.0%)<p>[Epoch: 05] Loss (2.167 / 10.029) - Accuracy (17.4% / 15.6%)<p>[Epoch: 06] Loss (2.166 / 2.315) - Accuracy (16.8% / 10.0%)<p>[Epoch: 07] Loss (2.176 / 2.328) - Accuracy (17.1% / 10.0%)<p>[Epoch: 08] Loss (2.172 / 3.021) - Accuracy (17.0% / 15.2%)<p>[Epoch: 09] Loss (2.235 / 2.316) - Accuracy (15.2% / 4.8%)"
      ],
      "text/plain": [
       "<IPython.core.display.HTML object>"
      ]
     },
     "metadata": {},
     "output_type": "display_data"
    },
    {
     "name": "stdout",
     "output_type": "stream",
     "text": [
      "[==================================================]\n",
      "SGD - 32: (0, 0.001, 0.0)\n"
     ]
    },
    {
     "data": {
      "text/html": [
       "\n",
       "<style>\n",
       "    /* Turns off some styling */\n",
       "    progress {\n",
       "        /* gets rid of default border in Firefox and Opera. */\n",
       "        border: none;\n",
       "        /* Needs to be in here for Safari polyfill so background images work as expected. */\n",
       "        background-size: auto;\n",
       "    }\n",
       "    progress:not([value]), progress:not([value])::-webkit-progress-bar {\n",
       "        background: repeating-linear-gradient(45deg, #7e7e7e, #7e7e7e 10px, #5c5c5c 10px, #5c5c5c 20px);\n",
       "    }\n",
       "    .progress-bar-interrupted, .progress-bar-interrupted::-webkit-progress-bar {\n",
       "        background: #F44336;\n",
       "    }\n",
       "</style>\n"
      ],
      "text/plain": [
       "<IPython.core.display.HTML object>"
      ]
     },
     "metadata": {},
     "output_type": "display_data"
    },
    {
     "data": {
      "text/html": [
       "[Epoch: 00] Loss (2.371 / 2.286) - Accuracy (13.2% / 16.0%)<p>[Epoch: 01] Loss (2.219 / 2.223) - Accuracy (17.0% / 19.0%)<p>[Epoch: 02] Loss (2.131 / 2.074) - Accuracy (20.9% / 25.0%)<p>[Epoch: 03] Loss (2.035 / 2.000) - Accuracy (24.3% / 25.6%)<p>[Epoch: 04] Loss (1.963 / 1.948) - Accuracy (27.4% / 29.2%)<p>[Epoch: 05] Loss (1.897 / 1.861) - Accuracy (29.6% / 28.8%)<p>[Epoch: 06] Loss (1.830 / 1.780) - Accuracy (31.5% / 32.2%)<p>[Epoch: 07] Loss (1.793 / 1.754) - Accuracy (32.7% / 32.2%)<p>[Epoch: 08] Loss (1.747 / 1.726) - Accuracy (35.0% / 34.2%)<p>[Epoch: 09] Loss (1.724 / 1.713) - Accuracy (35.1% / 34.8%)"
      ],
      "text/plain": [
       "<IPython.core.display.HTML object>"
      ]
     },
     "metadata": {},
     "output_type": "display_data"
    },
    {
     "name": "stdout",
     "output_type": "stream",
     "text": [
      "[==================================================]\n",
      "SGD - 32: (0, 0.01, 0.0)\n"
     ]
    },
    {
     "data": {
      "text/html": [
       "\n",
       "<style>\n",
       "    /* Turns off some styling */\n",
       "    progress {\n",
       "        /* gets rid of default border in Firefox and Opera. */\n",
       "        border: none;\n",
       "        /* Needs to be in here for Safari polyfill so background images work as expected. */\n",
       "        background-size: auto;\n",
       "    }\n",
       "    progress:not([value]), progress:not([value])::-webkit-progress-bar {\n",
       "        background: repeating-linear-gradient(45deg, #7e7e7e, #7e7e7e 10px, #5c5c5c 10px, #5c5c5c 20px);\n",
       "    }\n",
       "    .progress-bar-interrupted, .progress-bar-interrupted::-webkit-progress-bar {\n",
       "        background: #F44336;\n",
       "    }\n",
       "</style>\n"
      ],
      "text/plain": [
       "<IPython.core.display.HTML object>"
      ]
     },
     "metadata": {},
     "output_type": "display_data"
    },
    {
     "data": {
      "text/html": [
       "[Epoch: 00] Loss (2.386 / 2.268) - Accuracy (11.9% / 17.0%)<p>[Epoch: 01] Loss (2.214 / 2.190) - Accuracy (18.2% / 20.8%)<p>[Epoch: 02] Loss (2.109 / 2.088) - Accuracy (22.7% / 23.0%)<p>[Epoch: 03] Loss (2.050 / 1.990) - Accuracy (24.4% / 29.6%)<p>[Epoch: 04] Loss (1.989 / 1.991) - Accuracy (26.7% / 30.0%)<p>[Epoch: 05] Loss (1.933 / 1.870) - Accuracy (28.8% / 35.0%)<p>[Epoch: 06] Loss (1.858 / 1.792) - Accuracy (32.0% / 35.2%)<p>[Epoch: 07] Loss (1.791 / 1.783) - Accuracy (34.4% / 33.2%)<p>[Epoch: 08] Loss (1.730 / 1.896) - Accuracy (37.2% / 32.2%)<p>[Epoch: 09] Loss (1.686 / 2.112) - Accuracy (38.2% / 28.0%)"
      ],
      "text/plain": [
       "<IPython.core.display.HTML object>"
      ]
     },
     "metadata": {},
     "output_type": "display_data"
    },
    {
     "name": "stdout",
     "output_type": "stream",
     "text": [
      "[==================================================]\n",
      "SGD - 64: (0, 0.001, 0.0)\n"
     ]
    },
    {
     "data": {
      "text/html": [
       "\n",
       "<style>\n",
       "    /* Turns off some styling */\n",
       "    progress {\n",
       "        /* gets rid of default border in Firefox and Opera. */\n",
       "        border: none;\n",
       "        /* Needs to be in here for Safari polyfill so background images work as expected. */\n",
       "        background-size: auto;\n",
       "    }\n",
       "    progress:not([value]), progress:not([value])::-webkit-progress-bar {\n",
       "        background: repeating-linear-gradient(45deg, #7e7e7e, #7e7e7e 10px, #5c5c5c 10px, #5c5c5c 20px);\n",
       "    }\n",
       "    .progress-bar-interrupted, .progress-bar-interrupted::-webkit-progress-bar {\n",
       "        background: #F44336;\n",
       "    }\n",
       "</style>\n"
      ],
      "text/plain": [
       "<IPython.core.display.HTML object>"
      ]
     },
     "metadata": {},
     "output_type": "display_data"
    },
    {
     "data": {
      "text/html": [
       "[Epoch: 00] Loss (2.484 / 2.353) - Accuracy (12.9% / 15.6%)<p>[Epoch: 01] Loss (2.334 / 2.318) - Accuracy (16.1% / 13.6%)<p>[Epoch: 02] Loss (2.247 / 2.208) - Accuracy (18.9% / 18.6%)<p>[Epoch: 03] Loss (2.174 / 2.161) - Accuracy (21.0% / 19.6%)<p>[Epoch: 04] Loss (2.118 / 2.105) - Accuracy (22.9% / 25.6%)<p>[Epoch: 05] Loss (2.071 / 2.062) - Accuracy (23.6% / 25.4%)<p>[Epoch: 06] Loss (2.033 / 1.995) - Accuracy (24.4% / 23.8%)<p>[Epoch: 07] Loss (2.005 / 1.977) - Accuracy (25.5% / 24.6%)<p>[Epoch: 08] Loss (1.968 / 1.928) - Accuracy (27.0% / 27.2%)<p>[Epoch: 09] Loss (1.927 / 1.902) - Accuracy (28.7% / 27.6%)"
      ],
      "text/plain": [
       "<IPython.core.display.HTML object>"
      ]
     },
     "metadata": {},
     "output_type": "display_data"
    },
    {
     "name": "stdout",
     "output_type": "stream",
     "text": [
      "[==================================================]\n",
      "SGD - 64: (0, 0.01, 0.0)\n"
     ]
    },
    {
     "data": {
      "text/html": [
       "\n",
       "<style>\n",
       "    /* Turns off some styling */\n",
       "    progress {\n",
       "        /* gets rid of default border in Firefox and Opera. */\n",
       "        border: none;\n",
       "        /* Needs to be in here for Safari polyfill so background images work as expected. */\n",
       "        background-size: auto;\n",
       "    }\n",
       "    progress:not([value]), progress:not([value])::-webkit-progress-bar {\n",
       "        background: repeating-linear-gradient(45deg, #7e7e7e, #7e7e7e 10px, #5c5c5c 10px, #5c5c5c 20px);\n",
       "    }\n",
       "    .progress-bar-interrupted, .progress-bar-interrupted::-webkit-progress-bar {\n",
       "        background: #F44336;\n",
       "    }\n",
       "</style>\n"
      ],
      "text/plain": [
       "<IPython.core.display.HTML object>"
      ]
     },
     "metadata": {},
     "output_type": "display_data"
    },
    {
     "data": {
      "text/html": [
       "[Epoch: 00] Loss (2.418 / 2.403) - Accuracy (12.5% / 15.0%)<p>[Epoch: 01] Loss (2.292 / 2.259) - Accuracy (15.6% / 18.2%)<p>[Epoch: 02] Loss (2.223 / 2.211) - Accuracy (18.3% / 18.0%)<p>[Epoch: 03] Loss (2.153 / 2.125) - Accuracy (20.8% / 23.4%)<p>[Epoch: 04] Loss (2.098 / 2.098) - Accuracy (22.7% / 23.6%)<p>[Epoch: 05] Loss (2.054 / 2.028) - Accuracy (24.7% / 27.8%)<p>[Epoch: 06] Loss (2.006 / 2.007) - Accuracy (26.3% / 28.4%)<p>[Epoch: 07] Loss (1.954 / 1.957) - Accuracy (28.7% / 27.8%)<p>[Epoch: 08] Loss (1.919 / 1.902) - Accuracy (28.9% / 30.0%)<p>[Epoch: 09] Loss (1.858 / 1.844) - Accuracy (31.3% / 33.8%)"
      ],
      "text/plain": [
       "<IPython.core.display.HTML object>"
      ]
     },
     "metadata": {},
     "output_type": "display_data"
    },
    {
     "name": "stdout",
     "output_type": "stream",
     "text": [
      "[==================================================]\n",
      "SGD - 128: (0, 0.001, 0.0)\n"
     ]
    },
    {
     "data": {
      "text/html": [
       "\n",
       "<style>\n",
       "    /* Turns off some styling */\n",
       "    progress {\n",
       "        /* gets rid of default border in Firefox and Opera. */\n",
       "        border: none;\n",
       "        /* Needs to be in here for Safari polyfill so background images work as expected. */\n",
       "        background-size: auto;\n",
       "    }\n",
       "    progress:not([value]), progress:not([value])::-webkit-progress-bar {\n",
       "        background: repeating-linear-gradient(45deg, #7e7e7e, #7e7e7e 10px, #5c5c5c 10px, #5c5c5c 20px);\n",
       "    }\n",
       "    .progress-bar-interrupted, .progress-bar-interrupted::-webkit-progress-bar {\n",
       "        background: #F44336;\n",
       "    }\n",
       "</style>\n"
      ],
      "text/plain": [
       "<IPython.core.display.HTML object>"
      ]
     },
     "metadata": {},
     "output_type": "display_data"
    },
    {
     "data": {
      "text/html": [
       "[Epoch: 00] Loss (2.473 / 2.424) - Accuracy (11.3% / 11.6%)<p>[Epoch: 01] Loss (2.331 / 2.280) - Accuracy (13.5% / 16.2%)<p>[Epoch: 02] Loss (2.268 / 2.236) - Accuracy (15.9% / 16.4%)<p>[Epoch: 03] Loss (2.217 / 2.181) - Accuracy (17.8% / 19.8%)<p>[Epoch: 04] Loss (2.185 / 2.192) - Accuracy (19.3% / 17.8%)<p>[Epoch: 05] Loss (2.155 / 2.165) - Accuracy (20.4% / 19.8%)<p>[Epoch: 06] Loss (2.122 / 2.138) - Accuracy (22.5% / 20.0%)<p>[Epoch: 07] Loss (2.097 / 2.138) - Accuracy (23.1% / 22.4%)<p>[Epoch: 08] Loss (2.071 / 2.082) - Accuracy (23.7% / 22.8%)<p>[Epoch: 09] Loss (2.048 / 2.088) - Accuracy (24.9% / 21.2%)"
      ],
      "text/plain": [
       "<IPython.core.display.HTML object>"
      ]
     },
     "metadata": {},
     "output_type": "display_data"
    },
    {
     "name": "stdout",
     "output_type": "stream",
     "text": [
      "[==================================================]\n",
      "SGD - 128: (0, 0.01, 0.0)\n"
     ]
    },
    {
     "data": {
      "text/html": [
       "\n",
       "<style>\n",
       "    /* Turns off some styling */\n",
       "    progress {\n",
       "        /* gets rid of default border in Firefox and Opera. */\n",
       "        border: none;\n",
       "        /* Needs to be in here for Safari polyfill so background images work as expected. */\n",
       "        background-size: auto;\n",
       "    }\n",
       "    progress:not([value]), progress:not([value])::-webkit-progress-bar {\n",
       "        background: repeating-linear-gradient(45deg, #7e7e7e, #7e7e7e 10px, #5c5c5c 10px, #5c5c5c 20px);\n",
       "    }\n",
       "    .progress-bar-interrupted, .progress-bar-interrupted::-webkit-progress-bar {\n",
       "        background: #F44336;\n",
       "    }\n",
       "</style>\n"
      ],
      "text/plain": [
       "<IPython.core.display.HTML object>"
      ]
     },
     "metadata": {},
     "output_type": "display_data"
    },
    {
     "data": {
      "text/html": [
       "[Epoch: 00] Loss (2.526 / 2.469) - Accuracy (11.7% / 12.8%)<p>[Epoch: 01] Loss (2.335 / 2.314) - Accuracy (15.1% / 16.8%)<p>[Epoch: 02] Loss (2.240 / 2.254) - Accuracy (17.0% / 16.8%)<p>[Epoch: 03] Loss (2.191 / 2.185) - Accuracy (19.0% / 19.2%)<p>[Epoch: 04] Loss (2.152 / 2.177) - Accuracy (20.5% / 18.8%)<p>[Epoch: 05] Loss (2.105 / 2.103) - Accuracy (22.8% / 25.0%)<p>[Epoch: 06] Loss (2.064 / 2.058) - Accuracy (24.5% / 24.4%)<p>[Epoch: 07] Loss (2.034 / 2.055) - Accuracy (25.2% / 25.0%)<p>[Epoch: 08] Loss (2.003 / 2.090) - Accuracy (26.3% / 23.6%)<p>[Epoch: 09] Loss (1.978 / 2.032) - Accuracy (27.0% / 23.8%)"
      ],
      "text/plain": [
       "<IPython.core.display.HTML object>"
      ]
     },
     "metadata": {},
     "output_type": "display_data"
    },
    {
     "name": "stdout",
     "output_type": "stream",
     "text": [
      "[==================================================]\n",
      "SGD - 256: (0, 0.001, 0.0)\n"
     ]
    },
    {
     "data": {
      "text/html": [
       "\n",
       "<style>\n",
       "    /* Turns off some styling */\n",
       "    progress {\n",
       "        /* gets rid of default border in Firefox and Opera. */\n",
       "        border: none;\n",
       "        /* Needs to be in here for Safari polyfill so background images work as expected. */\n",
       "        background-size: auto;\n",
       "    }\n",
       "    progress:not([value]), progress:not([value])::-webkit-progress-bar {\n",
       "        background: repeating-linear-gradient(45deg, #7e7e7e, #7e7e7e 10px, #5c5c5c 10px, #5c5c5c 20px);\n",
       "    }\n",
       "    .progress-bar-interrupted, .progress-bar-interrupted::-webkit-progress-bar {\n",
       "        background: #F44336;\n",
       "    }\n",
       "</style>\n"
      ],
      "text/plain": [
       "<IPython.core.display.HTML object>"
      ]
     },
     "metadata": {},
     "output_type": "display_data"
    },
    {
     "data": {
      "text/html": [
       "[Epoch: 00] Loss (2.615 / 2.507) - Accuracy (10.2% / 9.8%)<p>[Epoch: 01] Loss (2.474 / 2.437) - Accuracy (13.0% / 12.8%)<p>[Epoch: 02] Loss (2.400 / 2.365) - Accuracy (13.1% / 14.6%)<p>[Epoch: 03] Loss (2.332 / 2.319) - Accuracy (14.6% / 13.2%)<p>[Epoch: 04] Loss (2.328 / 2.292) - Accuracy (14.9% / 13.8%)<p>[Epoch: 05] Loss (2.284 / 2.269) - Accuracy (15.4% / 16.0%)<p>[Epoch: 06] Loss (2.253 / 2.254) - Accuracy (16.1% / 16.0%)<p>[Epoch: 07] Loss (2.227 / 2.218) - Accuracy (17.4% / 17.4%)<p>[Epoch: 08] Loss (2.235 / 2.221) - Accuracy (17.9% / 16.0%)<p>[Epoch: 09] Loss (2.220 / 2.217) - Accuracy (18.2% / 16.8%)"
      ],
      "text/plain": [
       "<IPython.core.display.HTML object>"
      ]
     },
     "metadata": {},
     "output_type": "display_data"
    },
    {
     "name": "stdout",
     "output_type": "stream",
     "text": [
      "[==================================================]\n",
      "SGD - 256: (0, 0.01, 0.0)\n"
     ]
    },
    {
     "data": {
      "text/html": [
       "\n",
       "<style>\n",
       "    /* Turns off some styling */\n",
       "    progress {\n",
       "        /* gets rid of default border in Firefox and Opera. */\n",
       "        border: none;\n",
       "        /* Needs to be in here for Safari polyfill so background images work as expected. */\n",
       "        background-size: auto;\n",
       "    }\n",
       "    progress:not([value]), progress:not([value])::-webkit-progress-bar {\n",
       "        background: repeating-linear-gradient(45deg, #7e7e7e, #7e7e7e 10px, #5c5c5c 10px, #5c5c5c 20px);\n",
       "    }\n",
       "    .progress-bar-interrupted, .progress-bar-interrupted::-webkit-progress-bar {\n",
       "        background: #F44336;\n",
       "    }\n",
       "</style>\n"
      ],
      "text/plain": [
       "<IPython.core.display.HTML object>"
      ]
     },
     "metadata": {},
     "output_type": "display_data"
    },
    {
     "data": {
      "text/html": [
       "[Epoch: 00] Loss (2.530 / 2.369) - Accuracy (12.4% / 14.8%)<p>[Epoch: 01] Loss (2.422 / 2.390) - Accuracy (14.2% / 16.2%)<p>[Epoch: 02] Loss (2.342 / 2.293) - Accuracy (16.0% / 20.0%)<p>[Epoch: 03] Loss (2.326 / 2.280) - Accuracy (16.2% / 17.0%)<p>[Epoch: 04] Loss (2.266 / 2.248) - Accuracy (17.4% / 17.6%)<p>[Epoch: 05] Loss (2.256 / 2.204) - Accuracy (18.2% / 18.0%)<p>[Epoch: 06] Loss (2.230 / 2.193) - Accuracy (18.4% / 19.4%)<p>[Epoch: 07] Loss (2.199 / 2.202) - Accuracy (18.7% / 17.4%)<p>[Epoch: 08] Loss (2.176 / 2.194) - Accuracy (19.0% / 17.6%)<p>[Epoch: 09] Loss (2.152 / 2.173) - Accuracy (20.2% / 18.8%)"
      ],
      "text/plain": [
       "<IPython.core.display.HTML object>"
      ]
     },
     "metadata": {},
     "output_type": "display_data"
    }
   ],
   "source": [
    "df_scores = pd.DataFrame({\n",
    "    'optim': [],\n",
    "    'batchsize': [],\n",
    "    'lr': [],\n",
    "    'regularization': [],\n",
    "    'L2': [],\n",
    "    'L1': [],\n",
    "    'dropout': [],\n",
    "    'test_accuracy': [],\n",
    "    'test_loss': [],\n",
    "    'train_accuracy': [],\n",
    "    'train_loss': [],\n",
    "    'time': [],\n",
    "})\n",
    "\n",
    "\n",
    "mp = progress_bar( range(len(optims)*len(batchsizes)*len(L2)*len(L1)*len(dropout)) )\n",
    "for _, (optim, batchsize, l2_, l1_, p) in zip(mp, product(optims, batchsizes, L2, L1, dropout)):\n",
    "    \n",
    "    start_time = perf_counter()\n",
    "    \n",
    "    model_setup['dropout'] = p\n",
    "    model_config['batch_size'] = batchsize\n",
    "    model_config['L2'] = l2_\n",
    "    model_config['L1'] = l1_\n",
    "\n",
    "    trainloader = get_dataLoader(train_data, batchsize, True)\n",
    "    testloader = get_dataLoader(test_data, batchsize, False)\n",
    "\n",
    "    print('['+'='*50+']')\n",
    "    print(f\"{optim} - {batchsize}: ({l2_}, {l1_}, {p})\")\n",
    "\n",
    "    model = model_(**model_setup).to(device)\n",
    "    \n",
    "    nn.DataParallel(model, device_ids=[CUDA])\n",
    "    cudnn.benchmark = True\n",
    "\n",
    "    loss_function = nn.CrossEntropyLoss()\n",
    "    optimizer = getattr(torch.optim, optim)(model.parameters(), lr=model_config['lr'])\n",
    "\n",
    "\n",
    "    kwargs = {\n",
    "        'model': model,\n",
    "        'loss_function': loss_function,\n",
    "        'optimizer': optimizer,\n",
    "        'lr_scheduler': None,\n",
    "        'map_classes': None,\n",
    "        'skip_classes': None,\n",
    "        'device': device,\n",
    "        'model_path': None,\n",
    "        'trainloader': trainloader,\n",
    "        'testloader': testloader,\n",
    "        'config': model_config\n",
    "    }\n",
    "\n",
    "    train_losses, test_losses, train_accs, test_accs, test_loss, test_acc, confusion_matrix_test, best_model_name = run_training_testing(**kwargs)\n",
    "    \n",
    "    end_time = round(perf_counter() - start_time, 3)\n",
    "    \n",
    "    df_scores.loc[df_scores.shape[0] + 1] = [\n",
    "        optim, batchsize, model_config['lr'], reg_type(l2_, l1_, p), l2_, l1_, p, test_accs[-1], test_losses[-1], train_accs[-1], train_losses[-1], end_time\n",
    "    ]"
   ]
  },
  {
   "cell_type": "code",
   "execution_count": 37,
   "metadata": {},
   "outputs": [],
   "source": [
    "df_scores = df_scores.sort_values(\n",
    "    ['test_accuracy','test_loss','train_accuracy','train_loss'],\n",
    "    ascending=[False, True, False, True]\n",
    ").reset_index(drop=True)\n",
    "\n",
    "df_scores.to_csv(path_trainingModels_regularization / f'scores-{DATASET.lower()}-{PREFIX.lower()}.csv', index=False)"
   ]
  },
  {
   "cell_type": "code",
   "execution_count": 38,
   "metadata": {},
   "outputs": [
    {
     "data": {
      "text/html": [
       "<div>\n",
       "<style scoped>\n",
       "    .dataframe tbody tr th:only-of-type {\n",
       "        vertical-align: middle;\n",
       "    }\n",
       "\n",
       "    .dataframe tbody tr th {\n",
       "        vertical-align: top;\n",
       "    }\n",
       "\n",
       "    .dataframe thead th {\n",
       "        text-align: right;\n",
       "    }\n",
       "</style>\n",
       "<table border=\"1\" class=\"dataframe\">\n",
       "  <thead>\n",
       "    <tr style=\"text-align: right;\">\n",
       "      <th></th>\n",
       "      <th>optim</th>\n",
       "      <th>batchsize</th>\n",
       "      <th>lr</th>\n",
       "      <th>regularization</th>\n",
       "      <th>L2</th>\n",
       "      <th>L1</th>\n",
       "      <th>dropout</th>\n",
       "      <th>test_accuracy</th>\n",
       "      <th>test_loss</th>\n",
       "      <th>train_accuracy</th>\n",
       "      <th>train_loss</th>\n",
       "      <th>time</th>\n",
       "    </tr>\n",
       "  </thead>\n",
       "  <tbody>\n",
       "    <tr>\n",
       "      <th>0</th>\n",
       "      <td>Adam</td>\n",
       "      <td>32.0</td>\n",
       "      <td>0.001</td>\n",
       "      <td>No Regularization</td>\n",
       "      <td>0.000</td>\n",
       "      <td>0.000</td>\n",
       "      <td>0.0</td>\n",
       "      <td>0.616</td>\n",
       "      <td>1.282959</td>\n",
       "      <td>0.8572</td>\n",
       "      <td>0.419754</td>\n",
       "      <td>212.090</td>\n",
       "    </tr>\n",
       "    <tr>\n",
       "      <th>1</th>\n",
       "      <td>Adam</td>\n",
       "      <td>64.0</td>\n",
       "      <td>0.001</td>\n",
       "      <td>No Regularization</td>\n",
       "      <td>0.000</td>\n",
       "      <td>0.000</td>\n",
       "      <td>0.0</td>\n",
       "      <td>0.596</td>\n",
       "      <td>1.300453</td>\n",
       "      <td>0.8881</td>\n",
       "      <td>0.330363</td>\n",
       "      <td>108.064</td>\n",
       "    </tr>\n",
       "    <tr>\n",
       "      <th>2</th>\n",
       "      <td>Adam</td>\n",
       "      <td>32.0</td>\n",
       "      <td>0.001</td>\n",
       "      <td>L2</td>\n",
       "      <td>0.001</td>\n",
       "      <td>0.000</td>\n",
       "      <td>0.0</td>\n",
       "      <td>0.562</td>\n",
       "      <td>1.214446</td>\n",
       "      <td>0.5916</td>\n",
       "      <td>1.137040</td>\n",
       "      <td>249.002</td>\n",
       "    </tr>\n",
       "    <tr>\n",
       "      <th>3</th>\n",
       "      <td>Adam</td>\n",
       "      <td>32.0</td>\n",
       "      <td>0.001</td>\n",
       "      <td>L2</td>\n",
       "      <td>0.001</td>\n",
       "      <td>0.000</td>\n",
       "      <td>0.0</td>\n",
       "      <td>0.562</td>\n",
       "      <td>1.214446</td>\n",
       "      <td>0.5916</td>\n",
       "      <td>1.137040</td>\n",
       "      <td>249.002</td>\n",
       "    </tr>\n",
       "    <tr>\n",
       "      <th>4</th>\n",
       "      <td>Adam</td>\n",
       "      <td>128.0</td>\n",
       "      <td>0.001</td>\n",
       "      <td>No Regularization</td>\n",
       "      <td>0.000</td>\n",
       "      <td>0.000</td>\n",
       "      <td>0.0</td>\n",
       "      <td>0.558</td>\n",
       "      <td>1.506384</td>\n",
       "      <td>0.9152</td>\n",
       "      <td>0.262124</td>\n",
       "      <td>83.235</td>\n",
       "    </tr>\n",
       "    <tr>\n",
       "      <th>...</th>\n",
       "      <td>...</td>\n",
       "      <td>...</td>\n",
       "      <td>...</td>\n",
       "      <td>...</td>\n",
       "      <td>...</td>\n",
       "      <td>...</td>\n",
       "      <td>...</td>\n",
       "      <td>...</td>\n",
       "      <td>...</td>\n",
       "      <td>...</td>\n",
       "      <td>...</td>\n",
       "      <td>...</td>\n",
       "    </tr>\n",
       "    <tr>\n",
       "      <th>83</th>\n",
       "      <td>Adam</td>\n",
       "      <td>256.0</td>\n",
       "      <td>0.001</td>\n",
       "      <td>Elastic</td>\n",
       "      <td>0.001</td>\n",
       "      <td>0.010</td>\n",
       "      <td>0.0</td>\n",
       "      <td>0.100</td>\n",
       "      <td>2.315507</td>\n",
       "      <td>0.1765</td>\n",
       "      <td>2.150175</td>\n",
       "      <td>60.920</td>\n",
       "    </tr>\n",
       "    <tr>\n",
       "      <th>84</th>\n",
       "      <td>Adam</td>\n",
       "      <td>256.0</td>\n",
       "      <td>0.001</td>\n",
       "      <td>Elastic</td>\n",
       "      <td>0.010</td>\n",
       "      <td>0.001</td>\n",
       "      <td>0.0</td>\n",
       "      <td>0.100</td>\n",
       "      <td>2.531505</td>\n",
       "      <td>0.3268</td>\n",
       "      <td>1.773082</td>\n",
       "      <td>70.303</td>\n",
       "    </tr>\n",
       "    <tr>\n",
       "      <th>85</th>\n",
       "      <td>Adam</td>\n",
       "      <td>32.0</td>\n",
       "      <td>0.001</td>\n",
       "      <td>L1</td>\n",
       "      <td>0.000</td>\n",
       "      <td>0.010</td>\n",
       "      <td>0.0</td>\n",
       "      <td>0.100</td>\n",
       "      <td>2.551419</td>\n",
       "      <td>0.1842</td>\n",
       "      <td>1.968440</td>\n",
       "      <td>229.342</td>\n",
       "    </tr>\n",
       "    <tr>\n",
       "      <th>86</th>\n",
       "      <td>Adam</td>\n",
       "      <td>128.0</td>\n",
       "      <td>0.001</td>\n",
       "      <td>Elastic</td>\n",
       "      <td>0.010</td>\n",
       "      <td>0.010</td>\n",
       "      <td>0.0</td>\n",
       "      <td>0.100</td>\n",
       "      <td>13565.438721</td>\n",
       "      <td>0.1265</td>\n",
       "      <td>2.286082</td>\n",
       "      <td>92.097</td>\n",
       "    </tr>\n",
       "    <tr>\n",
       "      <th>87</th>\n",
       "      <td>Adam</td>\n",
       "      <td>256.0</td>\n",
       "      <td>0.001</td>\n",
       "      <td>L1</td>\n",
       "      <td>0.000</td>\n",
       "      <td>0.010</td>\n",
       "      <td>0.0</td>\n",
       "      <td>0.048</td>\n",
       "      <td>2.315973</td>\n",
       "      <td>0.1516</td>\n",
       "      <td>2.234790</td>\n",
       "      <td>55.397</td>\n",
       "    </tr>\n",
       "  </tbody>\n",
       "</table>\n",
       "<p>88 rows × 12 columns</p>\n",
       "</div>"
      ],
      "text/plain": [
       "   optim  batchsize     lr     regularization     L2     L1  dropout  \\\n",
       "0   Adam       32.0  0.001  No Regularization  0.000  0.000      0.0   \n",
       "1   Adam       64.0  0.001  No Regularization  0.000  0.000      0.0   \n",
       "2   Adam       32.0  0.001                 L2  0.001  0.000      0.0   \n",
       "3   Adam       32.0  0.001                 L2  0.001  0.000      0.0   \n",
       "4   Adam      128.0  0.001  No Regularization  0.000  0.000      0.0   \n",
       "..   ...        ...    ...                ...    ...    ...      ...   \n",
       "83  Adam      256.0  0.001            Elastic  0.001  0.010      0.0   \n",
       "84  Adam      256.0  0.001            Elastic  0.010  0.001      0.0   \n",
       "85  Adam       32.0  0.001                 L1  0.000  0.010      0.0   \n",
       "86  Adam      128.0  0.001            Elastic  0.010  0.010      0.0   \n",
       "87  Adam      256.0  0.001                 L1  0.000  0.010      0.0   \n",
       "\n",
       "    test_accuracy     test_loss  train_accuracy  train_loss     time  \n",
       "0           0.616      1.282959          0.8572    0.419754  212.090  \n",
       "1           0.596      1.300453          0.8881    0.330363  108.064  \n",
       "2           0.562      1.214446          0.5916    1.137040  249.002  \n",
       "3           0.562      1.214446          0.5916    1.137040  249.002  \n",
       "4           0.558      1.506384          0.9152    0.262124   83.235  \n",
       "..            ...           ...             ...         ...      ...  \n",
       "83          0.100      2.315507          0.1765    2.150175   60.920  \n",
       "84          0.100      2.531505          0.3268    1.773082   70.303  \n",
       "85          0.100      2.551419          0.1842    1.968440  229.342  \n",
       "86          0.100  13565.438721          0.1265    2.286082   92.097  \n",
       "87          0.048      2.315973          0.1516    2.234790   55.397  \n",
       "\n",
       "[88 rows x 12 columns]"
      ]
     },
     "execution_count": 38,
     "metadata": {},
     "output_type": "execute_result"
    }
   ],
   "source": [
    "df_scores"
   ]
  },
  {
   "cell_type": "code",
   "execution_count": null,
   "metadata": {},
   "outputs": [],
   "source": []
  }
 ],
 "metadata": {
  "accelerator": "GPU",
  "colab": {
   "collapsed_sections": [
    "mcDeYOA8d1wL"
   ],
   "provenance": []
  },
  "gpuClass": "standard",
  "kernelspec": {
   "display_name": "Python 3",
   "language": "python",
   "name": "python3"
  },
  "language_info": {
   "codemirror_mode": {
    "name": "ipython",
    "version": 3
   },
   "file_extension": ".py",
   "mimetype": "text/x-python",
   "name": "python",
   "nbconvert_exporter": "python",
   "pygments_lexer": "ipython3",
   "version": "3.6.8"
  },
  "vscode": {
   "interpreter": {
    "hash": "2b89e4666a1b1f5f90ada5928a1b04d9ad859bf674b23c56e0417352230a6456"
   }
  }
 },
 "nbformat": 4,
 "nbformat_minor": 1
}
