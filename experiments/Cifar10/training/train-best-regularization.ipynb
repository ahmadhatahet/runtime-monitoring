{
 "cells": [
  {
   "cell_type": "markdown",
   "metadata": {},
   "source": [
    "# Setup Variables"
   ]
  },
  {
   "cell_type": "code",
   "execution_count": 20,
   "metadata": {},
   "outputs": [],
   "source": [
    "REPO_PATH = '/home/ah19/runtime-monitoring'\n",
    "DATASET = 'Cifar10'\n",
    "PREFIX = 'BestRegularization'\n",
    "FILENAME_POSTFIX = f\"{DATASET}_{PREFIX}\"\n",
    "SEED = 42\n",
    "\n",
    "GPU_NAME = 'cuda:0'\n",
    "\n",
    "model_setup = {'dropout': 0.1, 'first_layer_norm': False}\n",
    "model_config = {\n",
    "    'batch_size': 128,\n",
    "    'lr': 0.001,\n",
    "    'epochs': 30,\n",
    "    \"patience\": 5,\n",
    "    \"L2\": 0.0,\n",
    "    \"L1\": 0.0\n",
    "}"
   ]
  },
  {
   "cell_type": "markdown",
   "metadata": {},
   "source": [
    "# Libraries"
   ]
  },
  {
   "cell_type": "code",
   "execution_count": 21,
   "metadata": {
    "id": "FLmxFGnxg6ZG"
   },
   "outputs": [],
   "source": [
    "import matplotlib.pyplot as plt\n",
    "import numpy as np\n",
    "from pathlib import Path\n",
    "\n",
    "import torch\n",
    "import torch.nn as nn\n",
    "from torch.backends import cudnn\n",
    "from torchinfo import summary"
   ]
  },
  {
   "cell_type": "code",
   "execution_count": 22,
   "metadata": {},
   "outputs": [],
   "source": [
    "import sys\n",
    "sys.path.append(REPO_PATH + '/utilities')\n",
    "sys.path.append(f'{REPO_PATH}/{DATASET}/trainingModels')"
   ]
  },
  {
   "cell_type": "code",
   "execution_count": 23,
   "metadata": {},
   "outputs": [],
   "source": [
    "from utils import *\n",
    "from plotFunctions import *\n",
    "from pathManager import fetchPaths\n",
    "from Cifar10_DLA import Cifar10_DLA\n",
    "\n",
    "model_ = Cifar10_DLA"
   ]
  },
  {
   "cell_type": "markdown",
   "metadata": {
    "id": "h7eERD3yVH2H"
   },
   "source": [
    "# GPU Device & Seed"
   ]
  },
  {
   "cell_type": "code",
   "execution_count": 24,
   "metadata": {
    "id": "CS9DVaKDi_2C"
   },
   "outputs": [],
   "source": [
    "np.random.seed(SEED)\n",
    "torch.manual_seed(SEED)\n",
    "torch.cuda.manual_seed(SEED)"
   ]
  },
  {
   "cell_type": "code",
   "execution_count": 25,
   "metadata": {
    "colab": {
     "base_uri": "https://localhost:8080/"
    },
    "id": "5jRXv8RAhzqa",
    "outputId": "d8ccff46-cebe-4890-ab1c-5b498a395e64"
   },
   "outputs": [
    {
     "data": {
      "text/plain": [
       "'NVIDIA A100 80GB PCIe'"
      ]
     },
     "execution_count": 25,
     "metadata": {},
     "output_type": "execute_result"
    }
   ],
   "source": [
    "device = get_device(GPU_NAME)\n",
    "torch.cuda.get_device_name(device)"
   ]
  },
  {
   "cell_type": "markdown",
   "metadata": {},
   "source": [
    "# Paths"
   ]
  },
  {
   "cell_type": "code",
   "execution_count": 26,
   "metadata": {
    "scrolled": false
   },
   "outputs": [
    {
     "name": "stdout",
     "output_type": "stream",
     "text": [
      "! IMPORTANT: Model already exist !\n"
     ]
    },
    {
     "data": {
      "text/plain": [
       "(PosixPath('/home/ah19/runtime-monitoring/Cifar10'),\n",
       " PosixPath('/home/ah19/runtime-monitoring/Cifar10/savedModels/Cifar10_BestRegularization'))"
      ]
     },
     "execution_count": 26,
     "metadata": {},
     "output_type": "execute_result"
    }
   ],
   "source": [
    "base = Path(REPO_PATH)\n",
    "paths = fetchPaths(base, DATASET)\n",
    "\n",
    "path = paths[DATASET.lower()]\n",
    "path_dataset = paths['dataset']\n",
    "path_trainingModels = paths['trainingModels']\n",
    "path_lastHiddenLayer = paths['lastHiddenLayer']\n",
    "path_lastHiddenLayer_raw = paths['lastHiddenLayer_raw']\n",
    "path_savedModels = paths['savedModels']\n",
    "\n",
    "# save model and logs to dedicated directory\n",
    "if path_savedModels.is_dir(): print('! IMPORTANT: Model already exist !')\n",
    "path_savedModels = path_savedModels / FILENAME_POSTFIX\n",
    "path_savedModels.mkdir(exist_ok=True)\n",
    "\n",
    "path_lastHiddenLayer_raw = path_lastHiddenLayer_raw / FILENAME_POSTFIX\n",
    "path_lastHiddenLayer_raw.mkdir(exist_ok=True)\n",
    "\n",
    "path, path_savedModels"
   ]
  },
  {
   "cell_type": "markdown",
   "metadata": {
    "id": "h7eERD3yVH2H"
   },
   "source": [
    "# Load / Split / DataLoader"
   ]
  },
  {
   "cell_type": "code",
   "execution_count": 33,
   "metadata": {},
   "outputs": [
    {
     "name": "stdout",
     "output_type": "stream",
     "text": [
      "Files already downloaded and verified\n",
      "Files already downloaded and verified\n"
     ]
    },
    {
     "data": {
      "text/plain": [
       "(50000, 10000)"
      ]
     },
     "execution_count": 33,
     "metadata": {},
     "output_type": "execute_result"
    }
   ],
   "source": [
    "feature_names = get_labels(DATASET)\n",
    "\n",
    "tf_train = T.Compose([\n",
    "    T.ToTensor(),\n",
    "    T.RandomCrop(32, padding=4),\n",
    "    T.RandomHorizontalFlip(),\n",
    "    T.Normalize((0.4914, 0.4822, 0.4465), (0.2023, 0.1994, 0.2010))\n",
    "])\n",
    "\n",
    "\n",
    "tf_test = T.Compose([\n",
    "    T.ToTensor(),\n",
    "    T.Normalize((0.4914, 0.4822, 0.4465), (0.2023, 0.1994, 0.2010))\n",
    "])\n",
    "\n",
    "train_data = get_dataset(DATASET, path_dataset, train=True, transform=tf_train)\n",
    "test_data = get_dataset(DATASET, path_dataset, train=False, transform=tf_test)\n",
    "\n",
    "len(train_data), len(test_data)"
   ]
  },
  {
   "cell_type": "code",
   "execution_count": 34,
   "metadata": {
    "id": "94CFn70JlO-P"
   },
   "outputs": [],
   "source": [
    "trainloader = get_dataLoader(train_data, model_config['batch_size'], True)\n",
    "testloader = get_dataLoader(test_data, model_config['batch_size'], False)"
   ]
  },
  {
   "cell_type": "code",
   "execution_count": 35,
   "metadata": {},
   "outputs": [
    {
     "name": "stderr",
     "output_type": "stream",
     "text": [
      "Clipping input data to the valid range for imshow with RGB data ([0..1] for floats or [0..255] for integers).\n",
      "Clipping input data to the valid range for imshow with RGB data ([0..1] for floats or [0..255] for integers).\n",
      "Clipping input data to the valid range for imshow with RGB data ([0..1] for floats or [0..255] for integers).\n",
      "Clipping input data to the valid range for imshow with RGB data ([0..1] for floats or [0..255] for integers).\n",
      "Clipping input data to the valid range for imshow with RGB data ([0..1] for floats or [0..255] for integers).\n",
      "Clipping input data to the valid range for imshow with RGB data ([0..1] for floats or [0..255] for integers).\n",
      "Clipping input data to the valid range for imshow with RGB data ([0..1] for floats or [0..255] for integers).\n",
      "Clipping input data to the valid range for imshow with RGB data ([0..1] for floats or [0..255] for integers).\n",
      "Clipping input data to the valid range for imshow with RGB data ([0..1] for floats or [0..255] for integers).\n"
     ]
    },
    {
     "data": {
      "image/png": "[encoded data removed]",
      "text/plain": [
       "<Figure size 648x648 with 9 Axes>"
      ]
     },
     "metadata": {},
     "output_type": "display_data"
    }
   ],
   "source": [
    "show_images_loader(trainloader, feature_names=feature_names)"
   ]
  },
  {
   "cell_type": "markdown",
   "metadata": {},
   "source": [
    "# Model"
   ]
  },
  {
   "cell_type": "code",
   "execution_count": 36,
   "metadata": {},
   "outputs": [],
   "source": [
    "# skip classes\n",
    "skip_classes = None\n",
    "map_classes = None"
   ]
  },
  {
   "cell_type": "code",
   "execution_count": 37,
   "metadata": {
    "colab": {
     "base_uri": "https://localhost:8080/"
    },
    "id": "rreGzn6UjaJK",
    "outputId": "8addd560-e9b7-4614-ee45-1789bf19f285"
   },
   "outputs": [
    {
     "data": {
      "text/plain": [
       "===============================================================================================\n",
       "Layer (type:depth-idx)                        Output Shape              Param #\n",
       "===============================================================================================\n",
       "Cifar10_DLA                                   --                        --\n",
       "├─Sequential: 1-1                             [1, 16, 32, 32]           --\n",
       "│    └─Conv2d: 2-1                            [1, 16, 32, 32]           432\n",
       "│    └─BatchNorm2d: 2-2                       [1, 16, 32, 32]           32\n",
       "│    └─ReLU: 2-3                              [1, 16, 32, 32]           --\n",
       "├─Sequential: 1-2                             [1, 16, 32, 32]           --\n",
       "│    └─Conv2d: 2-4                            [1, 16, 32, 32]           2,304\n",
       "│    └─BatchNorm2d: 2-5                       [1, 16, 32, 32]           32\n",
       "│    └─ReLU: 2-6                              [1, 16, 32, 32]           --\n",
       "├─Sequential: 1-3                             [1, 32, 32, 32]           --\n",
       "│    └─Conv2d: 2-7                            [1, 32, 32, 32]           4,608\n",
       "│    └─BatchNorm2d: 2-8                       [1, 32, 32, 32]           64\n",
       "│    └─ReLU: 2-9                              [1, 32, 32, 32]           --\n",
       "├─Tree: 1-4                                   [1, 64, 32, 32]           --\n",
       "│    └─BasicBlock: 2-10                       [1, 64, 32, 32]           --\n",
       "│    │    └─Conv2d: 3-1                       [1, 64, 32, 32]           18,432\n",
       "│    │    └─BatchNorm2d: 3-2                  [1, 64, 32, 32]           128\n",
       "│    │    └─Conv2d: 3-3                       [1, 64, 32, 32]           36,864\n",
       "│    │    └─BatchNorm2d: 3-4                  [1, 64, 32, 32]           128\n",
       "│    │    └─Sequential: 3-5                   [1, 64, 32, 32]           2,176\n",
       "│    └─BasicBlock: 2-11                       [1, 64, 32, 32]           --\n",
       "│    │    └─Conv2d: 3-6                       [1, 64, 32, 32]           36,864\n",
       "│    │    └─BatchNorm2d: 3-7                  [1, 64, 32, 32]           128\n",
       "│    │    └─Conv2d: 3-8                       [1, 64, 32, 32]           36,864\n",
       "│    │    └─BatchNorm2d: 3-9                  [1, 64, 32, 32]           128\n",
       "│    │    └─Sequential: 3-10                  [1, 64, 32, 32]           --\n",
       "│    └─Root: 2-12                             [1, 64, 32, 32]           --\n",
       "│    │    └─Conv2d: 3-11                      [1, 64, 32, 32]           8,192\n",
       "│    │    └─BatchNorm2d: 3-12                 [1, 64, 32, 32]           128\n",
       "├─Tree: 1-5                                   [1, 128, 16, 16]          --\n",
       "│    └─Tree: 2-13                             [1, 128, 16, 16]          --\n",
       "│    │    └─BasicBlock: 3-13                  [1, 128, 16, 16]          230,144\n",
       "│    │    └─BasicBlock: 3-14                  [1, 128, 16, 16]          295,424\n",
       "│    │    └─Root: 3-15                        [1, 128, 16, 16]          33,024\n",
       "│    └─Tree: 2-14                             [1, 128, 16, 16]          --\n",
       "│    │    └─BasicBlock: 3-16                  [1, 128, 16, 16]          295,424\n",
       "│    │    └─BasicBlock: 3-17                  [1, 128, 16, 16]          295,424\n",
       "│    │    └─Root: 3-18                        [1, 128, 16, 16]          33,024\n",
       "│    └─Root: 2-15                             [1, 128, 16, 16]          --\n",
       "│    │    └─Conv2d: 3-19                      [1, 128, 16, 16]          32,768\n",
       "│    │    └─BatchNorm2d: 3-20                 [1, 128, 16, 16]          256\n",
       "├─Tree: 1-6                                   [1, 256, 8, 8]            --\n",
       "│    └─Tree: 2-16                             [1, 256, 8, 8]            --\n",
       "│    │    └─BasicBlock: 3-21                  [1, 256, 8, 8]            919,040\n",
       "│    │    └─BasicBlock: 3-22                  [1, 256, 8, 8]            1,180,672\n",
       "│    │    └─Root: 3-23                        [1, 256, 8, 8]            131,584\n",
       "│    └─Tree: 2-17                             [1, 256, 8, 8]            --\n",
       "│    │    └─BasicBlock: 3-24                  [1, 256, 8, 8]            1,180,672\n",
       "│    │    └─BasicBlock: 3-25                  [1, 256, 8, 8]            1,180,672\n",
       "│    │    └─Root: 3-26                        [1, 256, 8, 8]            131,584\n",
       "│    └─Root: 2-18                             [1, 256, 8, 8]            --\n",
       "│    │    └─Conv2d: 3-27                      [1, 256, 8, 8]            131,072\n",
       "│    │    └─BatchNorm2d: 3-28                 [1, 256, 8, 8]            512\n",
       "├─Tree: 1-7                                   [1, 512, 4, 4]            --\n",
       "│    └─BasicBlock: 2-19                       [1, 512, 4, 4]            --\n",
       "│    │    └─Conv2d: 3-29                      [1, 512, 4, 4]            1,179,648\n",
       "│    │    └─BatchNorm2d: 3-30                 [1, 512, 4, 4]            1,024\n",
       "│    │    └─Conv2d: 3-31                      [1, 512, 4, 4]            2,359,296\n",
       "│    │    └─BatchNorm2d: 3-32                 [1, 512, 4, 4]            1,024\n",
       "│    │    └─Sequential: 3-33                  [1, 512, 4, 4]            132,096\n",
       "│    └─BasicBlock: 2-20                       [1, 512, 4, 4]            --\n",
       "│    │    └─Conv2d: 3-34                      [1, 512, 4, 4]            2,359,296\n",
       "│    │    └─BatchNorm2d: 3-35                 [1, 512, 4, 4]            1,024\n",
       "│    │    └─Conv2d: 3-36                      [1, 512, 4, 4]            2,359,296\n",
       "│    │    └─BatchNorm2d: 3-37                 [1, 512, 4, 4]            1,024\n",
       "│    │    └─Sequential: 3-38                  [1, 512, 4, 4]            --\n",
       "│    └─Root: 2-21                             [1, 512, 4, 4]            --\n",
       "│    │    └─Conv2d: 3-39                      [1, 512, 4, 4]            524,288\n",
       "│    │    └─BatchNorm2d: 3-40                 [1, 512, 4, 4]            1,024\n",
       "├─Flatten: 1-8                                [1, 512]                  --\n",
       "├─Linear: 1-9                                 [1, 80]                   41,040\n",
       "├─BatchNorm1d: 1-10                           [1, 80]                   160\n",
       "├─ReLU: 1-11                                  [1, 80]                   --\n",
       "├─Linear: 1-12                                [1, 10]                   810\n",
       "===============================================================================================\n",
       "Total params: 15,179,850\n",
       "Trainable params: 15,179,850\n",
       "Non-trainable params: 0\n",
       "Total mult-adds (M): 913.55\n",
       "===============================================================================================\n",
       "Input size (MB): 0.01\n",
       "Forward/backward pass size (MB): 17.57\n",
       "Params size (MB): 60.72\n",
       "Estimated Total Size (MB): 78.30\n",
       "==============================================================================================="
      ]
     },
     "execution_count": 37,
     "metadata": {},
     "output_type": "execute_result"
    }
   ],
   "source": [
    "model = model_(**model_setup)\n",
    "model.to(device)\n",
    "\n",
    "nn.DataParallel(model, device_ids=[0])\n",
    "cudnn.benchmark = True\n",
    "\n",
    "summary(model, (1, 3, 32, 32))"
   ]
  },
  {
   "cell_type": "code",
   "execution_count": 38,
   "metadata": {
    "id": "K5ScFB620DCh",
    "scrolled": false
   },
   "outputs": [
    {
     "data": {
      "text/html": [
       "\n",
       "<style>\n",
       "    /* Turns off some styling */\n",
       "    progress {\n",
       "        /* gets rid of default border in Firefox and Opera. */\n",
       "        border: none;\n",
       "        /* Needs to be in here for Safari polyfill so background images work as expected. */\n",
       "        background-size: auto;\n",
       "    }\n",
       "    progress:not([value]), progress:not([value])::-webkit-progress-bar {\n",
       "        background: repeating-linear-gradient(45deg, #7e7e7e, #7e7e7e 10px, #5c5c5c 10px, #5c5c5c 20px);\n",
       "    }\n",
       "    .progress-bar-interrupted, .progress-bar-interrupted::-webkit-progress-bar {\n",
       "        background: #F44336;\n",
       "    }\n",
       "</style>\n"
      ],
      "text/plain": [
       "<IPython.core.display.HTML object>"
      ]
     },
     "metadata": {},
     "output_type": "display_data"
    },
    {
     "data": {
      "text/html": [
       "\n",
       "    <div>\n",
       "      <progress value='29' class='' max='30' style='width:300px; height:20px; vertical-align: middle;'></progress>\n",
       "      96.67% [29/30 21:16&lt;00:44 Epochs]\n",
       "    </div>\n",
       "    \n",
       "[Epoch: 00] Loss (1.548 / 1.508) - Accuracy (43.2% / 48.3%)<p>[Epoch: 01] Loss (1.069 / 0.999) - Accuracy (61.7% / 65.4%)<p>[Epoch: 02] Loss (0.842 / 0.902) - Accuracy (70.3% / 68.5%)<p>[Epoch: 03] Loss (0.697 / 0.712) - Accuracy (75.9% / 75.8%)<p>[Epoch: 04] Loss (0.599 / 0.732) - Accuracy (79.1% / 75.4%)<p>[Epoch: 05] Loss (0.533 / 0.564) - Accuracy (81.7% / 80.7%)<p>[Epoch: 06] Loss (0.482 / 0.546) - Accuracy (83.3% / 81.6%)<p>[Epoch: 07] Loss (0.440 / 0.503) - Accuracy (84.8% / 83.1%)<p>[Epoch: 08] Loss (0.402 / 0.505) - Accuracy (86.3% / 82.9%)<p>[Epoch: 09] Loss (0.371 / 0.494) - Accuracy (87.1% / 84.0%)<p>[Epoch: 10] Loss (0.261 / 0.321) - Accuracy (91.2% / 89.1%)<p>[Epoch: 11] Loss (0.226 / 0.313) - Accuracy (92.4% / 89.4%)<p>[Epoch: 12] Loss (0.208 / 0.315) - Accuracy (93.0% / 89.6%)<p>[Epoch: 13] Loss (0.194 / 0.307) - Accuracy (93.4% / 89.8%)<p>[Epoch: 14] Loss (0.183 / 0.308) - Accuracy (93.8% / 90.0%)<p>[Epoch: 15] Loss (0.175 / 0.306) - Accuracy (94.1% / 89.9%)<p>[Epoch: 16] Loss (0.163 / 0.304) - Accuracy (94.5% / 89.9%)<p>[Epoch: 17] Loss (0.152 / 0.309) - Accuracy (94.8% / 90.1%)<p>[Epoch: 18] Loss (0.145 / 0.304) - Accuracy (95.1% / 90.2%)<p>[Epoch: 19] Loss (0.136 / 0.304) - Accuracy (95.3% / 90.5%)<p>[Epoch: 20] Loss (0.119 / 0.293) - Accuracy (96.1% / 90.8%)<p>[Epoch: 21] Loss (0.114 / 0.294) - Accuracy (96.3% / 90.8%)<p>[Epoch: 22] Loss (0.112 / 0.293) - Accuracy (96.3% / 90.8%)<p>[Epoch: 23] Loss (0.111 / 0.295) - Accuracy (96.3% / 90.9%)<p>[Epoch: 24] Loss (0.107 / 0.295) - Accuracy (96.5% / 91.0%)<p>[Epoch: 25] Loss (0.106 / 0.296) - Accuracy (96.5% / 90.7%)<p>[Epoch: 26] Loss (0.104 / 0.298) - Accuracy (96.6% / 90.8%)<p>[Epoch: 27] Loss (0.104 / 0.297) - Accuracy (96.6% / 90.8%)<p>[Epoch: 28] Loss (0.104 / 0.297) - Accuracy (96.7% / 90.8%)<p>\n",
       "\n",
       "    <div>\n",
       "      <progress value='79' class='' max='79' style='width:300px; height:20px; vertical-align: middle;'></progress>\n",
       "      100.00% [79/79 00:03&lt;00:00 Testing]\n",
       "    </div>\n",
       "    "
      ],
      "text/plain": [
       "<IPython.core.display.HTML object>"
      ]
     },
     "metadata": {},
     "output_type": "display_data"
    },
    {
     "data": {
      "image/png": "[encoded data removed]",
      "text/plain": [
       "<Figure size 781.2x288 with 1 Axes>"
      ]
     },
     "metadata": {},
     "output_type": "display_data"
    },
    {
     "data": {
      "image/png": "[encoded data removed]",
      "text/plain": [
       "<Figure size 781.2x288 with 1 Axes>"
      ]
     },
     "metadata": {},
     "output_type": "display_data"
    }
   ],
   "source": [
    "# cost function\n",
    "loss_function = nn.CrossEntropyLoss()\n",
    "\n",
    "# optimizer\n",
    "# optimizer = torch.optim.SGD(model.parameters(), lr=model_config['lr'])\n",
    "optimizer = torch.optim.Adam(model.parameters(), lr=model_config['lr'])\n",
    "\n",
    "# LR Scheduler\n",
    "\n",
    "# lr_scheduler = torch.optim.lr_scheduler.CosineAnnealingWarmRestarts(\n",
    "#     optimizer, T_0=5, T_mult=2, eta_min=1e-4, verbose=False)\n",
    "\n",
    "\n",
    "# lr_scheduler = torch.optim.lr_scheduler.CosineAnnealingLR(\n",
    "#     optimizer, T_max=model_config['epochs'], verbose=False)\n",
    "\n",
    "# lr_scheduler = torch.optim.lr_scheduler.ReduceLROnPlateau(\n",
    "#     optimizer, patience=model_config['patience'], mode='max',\n",
    "#     factor=1e-1, min_lr=1e-4, verbose=True)\n",
    "\n",
    "lr_scheduler = torch.optim.lr_scheduler.StepLR(optimizer, gamma=0.1, step_size=10 )\n",
    "\n",
    "# lr_scheduler = None\n",
    "\n",
    "# run_training_testing arguments\n",
    "kwargs = {\n",
    "    'model': model,\n",
    "    'loss_function': loss_function,\n",
    "    'optimizer': optimizer,\n",
    "    'lr_scheduler': lr_scheduler,\n",
    "    'map_classes': map_classes,\n",
    "    'skip_classes': skip_classes,\n",
    "    'device': device,\n",
    "    'model_path': path_savedModels / f\"{DATASET}_{PREFIX}.pth.tar\",\n",
    "    'trainloader': trainloader,\n",
    "    'testloader': testloader,\n",
    "    'config': model_config\n",
    "}\n",
    "\n",
    "# train\n",
    "train_losses, test_losses, train_accs, test_accs, test_loss, test_acc, confusion_matrix_test, best_model_name = run_training_testing(**kwargs)"
   ]
  },
  {
   "cell_type": "markdown",
   "metadata": {
    "id": "LcwvG36f9Ov-"
   },
   "source": [
    "# Exporting last hidden layer data"
   ]
  },
  {
   "cell_type": "code",
   "execution_count": 39,
   "metadata": {},
   "outputs": [
    {
     "data": {
      "text/plain": [
       "PosixPath('/home/ah19/runtime-monitoring/Cifar10/savedModels/Cifar10_BestRegularization/Cifar10_BestRegularization-acc-0.91-loss-0.295.pth.tar')"
      ]
     },
     "execution_count": 39,
     "metadata": {},
     "output_type": "execute_result"
    }
   ],
   "source": [
    "# create empty model\n",
    "model = model_(**model_setup)\n",
    "model.to(device)\n",
    "\n",
    "# load model\n",
    "# model_file_name = path_savedModels / 'MNIST_Adam256-acc-0.988-loss-0.037.pth.tar'\n",
    "model_file_name = best_model_name\n",
    "load_checkpoint(model, model_file_name)\n",
    "\n",
    "model_file_name"
   ]
  },
  {
   "cell_type": "code",
   "execution_count": 19,
   "metadata": {
    "colab": {
     "base_uri": "https://localhost:8080/",
     "height": 77
    },
    "id": "oqVyeo1s9ScA",
    "outputId": "bb6353f2-8b8b-494a-e5d1-3f69f2421825"
   },
   "outputs": [
    {
     "data": {
      "text/html": [
       "\n",
       "<style>\n",
       "    /* Turns off some styling */\n",
       "    progress {\n",
       "        /* gets rid of default border in Firefox and Opera. */\n",
       "        border: none;\n",
       "        /* Needs to be in here for Safari polyfill so background images work as expected. */\n",
       "        background-size: auto;\n",
       "    }\n",
       "    progress:not([value]), progress:not([value])::-webkit-progress-bar {\n",
       "        background: repeating-linear-gradient(45deg, #7e7e7e, #7e7e7e 10px, #5c5c5c 10px, #5c5c5c 20px);\n",
       "    }\n",
       "    .progress-bar-interrupted, .progress-bar-interrupted::-webkit-progress-bar {\n",
       "        background: #F44336;\n",
       "    }\n",
       "</style>\n"
      ],
      "text/plain": [
       "<IPython.core.display.HTML object>"
      ]
     },
     "metadata": {},
     "output_type": "display_data"
    },
    {
     "data": {
      "text/html": [
       "\n",
       "    <div>\n",
       "      <progress value='391' class='' max='391' style='width:300px; height:20px; vertical-align: middle;'></progress>\n",
       "      100.00% [391/391 00:26&lt;00:00]\n",
       "    </div>\n",
       "    "
      ],
      "text/plain": [
       "<IPython.core.display.HTML object>"
      ]
     },
     "metadata": {},
     "output_type": "display_data"
    },
    {
     "data": {
      "text/html": [
       "\n",
       "<style>\n",
       "    /* Turns off some styling */\n",
       "    progress {\n",
       "        /* gets rid of default border in Firefox and Opera. */\n",
       "        border: none;\n",
       "        /* Needs to be in here for Safari polyfill so background images work as expected. */\n",
       "        background-size: auto;\n",
       "    }\n",
       "    progress:not([value]), progress:not([value])::-webkit-progress-bar {\n",
       "        background: repeating-linear-gradient(45deg, #7e7e7e, #7e7e7e 10px, #5c5c5c 10px, #5c5c5c 20px);\n",
       "    }\n",
       "    .progress-bar-interrupted, .progress-bar-interrupted::-webkit-progress-bar {\n",
       "        background: #F44336;\n",
       "    }\n",
       "</style>\n"
      ],
      "text/plain": [
       "<IPython.core.display.HTML object>"
      ]
     },
     "metadata": {},
     "output_type": "display_data"
    },
    {
     "data": {
      "text/html": [
       "\n",
       "    <div>\n",
       "      <progress value='79' class='' max='79' style='width:300px; height:20px; vertical-align: middle;'></progress>\n",
       "      100.00% [79/79 00:04&lt;00:00]\n",
       "    </div>\n",
       "    "
      ],
      "text/plain": [
       "<IPython.core.display.HTML object>"
      ]
     },
     "metadata": {},
     "output_type": "display_data"
    }
   ],
   "source": [
    "# export last hidden layer for each data loader\n",
    "\n",
    "for loader, stage in [\n",
    "    (trainloader, 'train'),\n",
    "    (testloader, 'test'),\n",
    "]:\n",
    "    export_last_hidden_layer(loader, model, device, model.last_hidden_neurons,\n",
    "                          map_classes, path_lastHiddenLayer_raw, FILENAME_POSTFIX, stage)"
   ]
  },
  {
   "cell_type": "markdown",
   "metadata": {},
   "source": [
    "# Confusion Matrix"
   ]
  },
  {
   "cell_type": "code",
   "execution_count": null,
   "metadata": {},
   "outputs": [],
   "source": [
    "save_confusion_matrix(confusion_matrix_test, path_savedModels, FILENAME_POSTFIX, 'test')"
   ]
  },
  {
   "cell_type": "code",
   "execution_count": null,
   "metadata": {
    "scrolled": false
   },
   "outputs": [],
   "source": [
    "confusion_matrix_test_norm = normalize_confusion_matrix(confusion_matrix_test)\n",
    "fig, ax = plot_confusion_matrix( confusion_matrix_test_norm, feature_names, fea, None, fmt='.2f')"
   ]
  },
  {
   "cell_type": "code",
   "execution_count": null,
   "metadata": {},
   "outputs": [],
   "source": []
  }
 ],
 "metadata": {
  "accelerator": "GPU",
  "colab": {
   "collapsed_sections": [
    "mcDeYOA8d1wL"
   ],
   "provenance": []
  },
  "gpuClass": "standard",
  "kernelspec": {
   "display_name": "Python 3",
   "language": "python",
   "name": "python3"
  },
  "language_info": {
   "codemirror_mode": {
    "name": "ipython",
    "version": 3
   },
   "file_extension": ".py",
   "mimetype": "text/x-python",
   "name": "python",
   "nbconvert_exporter": "python",
   "pygments_lexer": "ipython3",
   "version": "3.6.8"
  },
  "vscode": {
   "interpreter": {
    "hash": "2b89e4666a1b1f5f90ada5928a1b04d9ad859bf674b23c56e0417352230a6456"
   }
  }
 },
 "nbformat": 4,
 "nbformat_minor": 1
}
