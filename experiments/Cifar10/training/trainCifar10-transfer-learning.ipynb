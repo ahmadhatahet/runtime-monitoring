{
 "cells": [
  {
   "cell_type": "markdown",
   "metadata": {},
   "source": [
    "# Setup Variables"
   ]
  },
  {
   "cell_type": "code",
   "execution_count": 69,
   "metadata": {},
   "outputs": [],
   "source": [
    "REPO_PATH = '/home/ah19/runtime-monitoring'\n",
    "DATASET = 'Cifar10'\n",
    "PREFIX = 'MonileNet'\n",
    "FILENAME_POSTFIX = f\"{DATASET}_{PREFIX}\"\n",
    "SEED = 42\n",
    "\n",
    "GPU_NAME = 'cuda:0'\n",
    "\n",
    "model_setup = {'batchnorm': True, 'dropout': 0.1}\n",
    "\n",
    "model_config = {\n",
    "    'batch_size': 64,\n",
    "    'lr': 0.001,\n",
    "    'epochs': 15,\n",
    "    \"patience\": 15,\n",
    "    \"L2\": 0.00,\n",
    "    \"L1\": 0.00,\n",
    "    \n",
    "    \"accuracyThold\": 0.90,\n",
    "    \"lossThold\": 0.20,\n",
    "    \n",
    "    \"accuracyTrainThold\": 0.90,\n",
    "    \"lossTrainThold\": 0.20,\n",
    "    \n",
    "    \"accuracyTerminateThold\": 0.10,\n",
    "    \"lossTerminateThold\": 1.0,\n",
    "}"
   ]
  },
  {
   "cell_type": "markdown",
   "metadata": {},
   "source": [
    "# Libraries"
   ]
  },
  {
   "cell_type": "code",
   "execution_count": 70,
   "metadata": {
    "id": "FLmxFGnxg6ZG"
   },
   "outputs": [],
   "source": [
    "import matplotlib.pyplot as plt\n",
    "import numpy as np\n",
    "from pathlib import Path\n",
    "\n",
    "import torch\n",
    "from torchvision.transforms import InterpolationMode\n",
    "import torch.nn as nn\n",
    "import torch.nn.functional as F\n",
    "from torchinfo import summary"
   ]
  },
  {
   "cell_type": "code",
   "execution_count": 71,
   "metadata": {},
   "outputs": [],
   "source": [
    "import sys\n",
    "sys.path.append(REPO_PATH + '/utilities')\n",
    "sys.path.append(f'{REPO_PATH}/{DATASET}/trainingModels')"
   ]
  },
  {
   "cell_type": "code",
   "execution_count": 72,
   "metadata": {},
   "outputs": [],
   "source": [
    "from utils import *\n",
    "from pathManager import fetchPaths\n",
    "# from Cifar10_CNN import Cifar10_CNN\n",
    "\n",
    "# model_ = Cifar10_CNN"
   ]
  },
  {
   "cell_type": "markdown",
   "metadata": {
    "id": "h7eERD3yVH2H"
   },
   "source": [
    "# GPU Device & Seed"
   ]
  },
  {
   "cell_type": "code",
   "execution_count": 73,
   "metadata": {
    "id": "CS9DVaKDi_2C"
   },
   "outputs": [],
   "source": [
    "np.random.seed(SEED)\n",
    "torch.manual_seed(SEED)\n",
    "torch.cuda.manual_seed(SEED)"
   ]
  },
  {
   "cell_type": "code",
   "execution_count": 74,
   "metadata": {
    "colab": {
     "base_uri": "https://localhost:8080/"
    },
    "id": "5jRXv8RAhzqa",
    "outputId": "d8ccff46-cebe-4890-ab1c-5b498a395e64"
   },
   "outputs": [
    {
     "data": {
      "text/plain": [
       "'NVIDIA A100 80GB PCIe'"
      ]
     },
     "execution_count": 74,
     "metadata": {},
     "output_type": "execute_result"
    }
   ],
   "source": [
    "device = get_device(GPU_NAME)\n",
    "torch.cuda.get_device_name(device)"
   ]
  },
  {
   "cell_type": "markdown",
   "metadata": {},
   "source": [
    "# Paths"
   ]
  },
  {
   "cell_type": "code",
   "execution_count": 101,
   "metadata": {
    "scrolled": false
   },
   "outputs": [
    {
     "data": {
      "text/plain": [
       "(PosixPath('/home/ah19/runtime-monitoring/Cifar10'),\n",
       " PosixPath('/home/ah19/runtime-monitoring/Cifar10/savedModels'))"
      ]
     },
     "execution_count": 101,
     "metadata": {},
     "output_type": "execute_result"
    }
   ],
   "source": [
    "base = Path(REPO_PATH)\n",
    "paths = fetchPaths(base, DATASET)\n",
    "\n",
    "path = paths[DATASET.lower()]\n",
    "path_dataset = paths['dataset']\n",
    "path_trainingModels = paths['trainingModels']\n",
    "path_lastHiddenLayer = paths['lastHiddenLayer']\n",
    "path_lastHiddenLayer_raw = paths['lastHiddenLayer_raw']\n",
    "path_savedModels = paths['savedModels']\n",
    "\n",
    "# # save model and logs to dedicated directory\n",
    "# path_savedModels = path_savedModels / FILENAME_POSTFIX\n",
    "# path_savedModels.mkdir(exist_ok=True) # raise error if model name was used previously\n",
    "\n",
    "path, path_savedModels"
   ]
  },
  {
   "cell_type": "markdown",
   "metadata": {
    "id": "h7eERD3yVH2H"
   },
   "source": [
    "# Load / Split / DataLoader"
   ]
  },
  {
   "cell_type": "code",
   "execution_count": 127,
   "metadata": {},
   "outputs": [
    {
     "name": "stdout",
     "output_type": "stream",
     "text": [
      "Files already downloaded and verified\n",
      "Files already downloaded and verified\n"
     ]
    },
    {
     "data": {
      "text/plain": [
       "(50000, 10000)"
      ]
     },
     "execution_count": 127,
     "metadata": {},
     "output_type": "execute_result"
    }
   ],
   "source": [
    "feature_names = get_labels(DATASET)\n",
    "\n",
    "# IMPORTANT Augmentation\n",
    "tf = T.Compose([\n",
    "    T.ToTensor(),\n",
    "#     T.Normalize((0.4914, 0.4822, 0.4465), (0.2023, 0.1994, 0.2010))\n",
    "])\n",
    "\n",
    "train_full = get_dataset(DATASET, path_dataset, train=True)\n",
    "test_data = get_dataset(DATASET, path_dataset, train=False)\n",
    "len(train_full), len(test_data)"
   ]
  },
  {
   "cell_type": "code",
   "execution_count": 128,
   "metadata": {
    "id": "hHu_RPxerSxf"
   },
   "outputs": [],
   "source": [
    "val_split = int( len(train_full) * 0.10 )\n",
    "train_split = len(train_full) - val_split\n",
    "train_data, val_data = split_data(train_full, [train_split, val_split], SEED)"
   ]
  },
  {
   "cell_type": "code",
   "execution_count": 143,
   "metadata": {
    "id": "94CFn70JlO-P"
   },
   "outputs": [],
   "source": [
    "# transformer_augmentation = T.Compose(\n",
    "#         [\n",
    "#             T.ToPILImage(),\n",
    "#             T.Resize((224, 224), interpolation=InterpolationMode.BILINEAR),\n",
    "# #             T.Normalize((0.485, 0.456, 0.406), (0.229, 0.224, 0.225)),\n",
    "# #             T.RandomCrop(32, padding=4),\n",
    "# #             T.RandomHorizontalFlip(),\n",
    "#             T.RandomApply(\n",
    "#                 [\n",
    "#                     T.RandomAffine((10, 45)),\n",
    "#                     T.RandomAffine(0, translate=(0.1, 0.25)),\n",
    "#                     T.RandomAffine(0, scale=(1.1, 1.25)),\n",
    "#                 ],\n",
    "#                 p=0.3,\n",
    "#             ),\n",
    "#             T.ToTensor(),\n",
    "#         ]\n",
    "#     )\n",
    "# train_dataloader = get_dataLoader(train_data, model_config['batch_size'], True, collate_fn=collat_fn_augmentation)\n",
    "train_dataloader = get_dataLoader(train_data, model_config['batch_size'], True)\n",
    "val_dataloader = get_dataLoader(val_data, model_config['batch_size'], False)\n",
    "test_dataloader = get_dataLoader(test_data, model_config['batch_size'], False)"
   ]
  },
  {
   "cell_type": "markdown",
   "metadata": {},
   "source": [
    "# Model"
   ]
  },
  {
   "cell_type": "code",
   "execution_count": 144,
   "metadata": {},
   "outputs": [],
   "source": [
    "from torchvision.models import mobilenet_v3_small, densenet121, densenet161"
   ]
  },
  {
   "cell_type": "code",
   "execution_count": 145,
   "metadata": {
    "scrolled": false
   },
   "outputs": [],
   "source": [
    "# m = densenet161(pretrained=True)\n",
    "# m"
   ]
  },
  {
   "cell_type": "code",
   "execution_count": 151,
   "metadata": {},
   "outputs": [],
   "source": [
    "path_savedModels = paths['savedModels']\n",
    "\n",
    "PREFIX = 'densenet161'\n",
    "FILENAME_POSTFIX = f\"{DATASET}_{PREFIX}\"\n",
    "\n",
    "path_savedModels = path_savedModels / FILENAME_POSTFIX\n",
    "path_savedModels.mkdir(exist_ok=True)\n",
    "\n",
    "class Cifar10_CNN(nn.Module):\n",
    "    def __init__(self, channels=3, img_dim=32, outneurons=10, last_hidden_neurons=80,\n",
    "        weight_init=\"kaiming_uniform\", bias=True, dropout=0.0, batchnorm=True):\n",
    "\n",
    "        super(Cifar10_CNN, self).__init__()\n",
    "\n",
    "        self.channels = channels\n",
    "        self.img_dim = img_dim\n",
    "        self.in_features = channels * img_dim * img_dim\n",
    "        self.num_classes = outneurons\n",
    "        self.last_hidden_neurons = last_hidden_neurons\n",
    "        self.dropout_p = dropout\n",
    "        self.batchnorm = batchnorm\n",
    "\n",
    "\n",
    "        self.relu = nn.ReLU()\n",
    "#         self.flatten = nn.Flatten()\n",
    "        # scaling data\n",
    "        self.scaleInputs = nn.BatchNorm2d(channels)\n",
    "#         self.dropout_l = nn.Dropout(self.dropout_p)\n",
    "#         self.pool = nn.MaxPool2d(2, 2)\n",
    "\n",
    "#         self.tl = densenet121(pretrained=True)\n",
    "#         self.tl.classifier = nn.Linear(self.tl.classifier.in_features, last_hidden_neurons)\n",
    "\n",
    "#         self.tl = mobilenet_v3_small(pretrained=True)\n",
    "#         self.tl.classifier[3] = nn.Linear(self.tl.classifier[3].in_features, last_hidden_neurons)\n",
    "\n",
    "        self.tl = densenet161(pretrained=True)\n",
    "        self.tl.classifier = nn.Linear(self.tl.classifier.in_features, last_hidden_neurons)\n",
    "\n",
    "        self.bn = nn.BatchNorm1d(last_hidden_neurons)\n",
    "\n",
    "        self.output = nn.Linear(last_hidden_neurons, outneurons, bias=bias)\n",
    "\n",
    "\n",
    "    def forward(self, x):\n",
    "\n",
    "        x = self._train(x)\n",
    "        if self.batchnorm: x = self.bn(x)\n",
    "        x = self.relu(x)\n",
    "        x = self.output(x)\n",
    "\n",
    "        return x\n",
    "\n",
    "\n",
    "    def _train(self, x):\n",
    "        \n",
    "        x = self.scaleInputs(x)\n",
    "        x = self.tl(x)\n",
    "\n",
    "        return x\n",
    "\n",
    "    def output_last_layer(self, x):\n",
    "\n",
    "        x = self._train(x)\n",
    "        out = x.clone().detach()\n",
    "        if self.batchnorm: x = self.bn9(x)\n",
    "        x = self.relu(x)\n",
    "        x = self.output(x)\n",
    "\n",
    "        return out, x\n",
    "\n",
    "\n",
    "    def _sum_weights(self):\n",
    "\n",
    "        total_weights = 0\n",
    "        for _, p in self.named_parameters():\n",
    "            total_weights += p.sum()\n",
    "\n",
    "        return total_weights.item()\n",
    "\n",
    "    def _sum_abs_weights(self):\n",
    "\n",
    "        total_weights = 0\n",
    "        for _, p in self.named_parameters():\n",
    "            total_weights += p.abs().sum()\n",
    "\n",
    "        return total_weights.item()\n",
    "\n",
    "    def _l1_regularization(self, alpha=1e-3):\n",
    "\n",
    "        total_weights = 0\n",
    "        for _, p in self.named_parameters():\n",
    "            total_weights += p.abs().sum()\n",
    "\n",
    "        return alpha * total_weights\n",
    "\n",
    "    def _l2_regularization(self, lambd=1e-3):\n",
    "\n",
    "        total_weights = 0\n",
    "        for _, p in self.named_parameters():\n",
    "            total_weights += p.pow(2).sum()\n",
    "\n",
    "        return lambd * total_weights\n",
    "\n",
    "    def _elastic_regularization(self, lambd=1e-3, alpha=1e-3):\n",
    "        return self._l2_regularization(lambd) + self._l1_regularization(alpha)\n",
    "\n"
   ]
  },
  {
   "cell_type": "code",
   "execution_count": 152,
   "metadata": {},
   "outputs": [],
   "source": [
    "# skip classes\n",
    "skip_classes = None\n",
    "map_classes = None\n",
    "\n",
    "# skip_classes = set()\n",
    "# map_classes = {*feature_names.values()} - skip_classes\n",
    "# map_classes = { v:k for k,v in enumerate(map_classes) }\n",
    "\n",
    "# add to model_config\n",
    "# model_config['num_classes'] = len(map_classes)\n",
    "# model_config['map_classes'] = map_classes\n",
    "# model_config['skip_classes'] = skip_classes"
   ]
  },
  {
   "cell_type": "code",
   "execution_count": 153,
   "metadata": {
    "colab": {
     "base_uri": "https://localhost:8080/"
    },
    "id": "rreGzn6UjaJK",
    "outputId": "8addd560-e9b7-4614-ee45-1789bf19f285"
   },
   "outputs": [
    {
     "data": {
      "text/plain": [
       "===============================================================================================\n",
       "Layer (type:depth-idx)                        Output Shape              Param #\n",
       "===============================================================================================\n",
       "Cifar10_CNN                                   --                        --\n",
       "├─BatchNorm2d: 1-1                            [1, 3, 224, 224]          6\n",
       "├─DenseNet: 1-2                               [1, 80]                   --\n",
       "│    └─Sequential: 2-1                        [1, 2208, 7, 7]           --\n",
       "│    │    └─Conv2d: 3-1                       [1, 96, 112, 112]         14,112\n",
       "│    │    └─BatchNorm2d: 3-2                  [1, 96, 112, 112]         192\n",
       "│    │    └─ReLU: 3-3                         [1, 96, 112, 112]         --\n",
       "│    │    └─MaxPool2d: 3-4                    [1, 96, 56, 56]           --\n",
       "│    │    └─_DenseBlock: 3-5                  [1, 384, 56, 56]          751,392\n",
       "│    │    └─_Transition: 3-6                  [1, 192, 28, 28]          74,496\n",
       "│    │    └─_DenseBlock: 3-7                  [1, 768, 28, 28]          2,061,504\n",
       "│    │    └─_Transition: 3-8                  [1, 384, 14, 14]          296,448\n",
       "│    │    └─_DenseBlock: 3-9                  [1, 2112, 14, 14]         11,548,224\n",
       "│    │    └─_Transition: 3-10                 [1, 1056, 7, 7]           2,234,496\n",
       "│    │    └─_DenseBlock: 3-11                 [1, 2208, 7, 7]           9,486,720\n",
       "│    │    └─BatchNorm2d: 3-12                 [1, 2208, 7, 7]           4,416\n",
       "│    └─Linear: 2-2                            [1, 80]                   176,720\n",
       "├─BatchNorm1d: 1-3                            [1, 80]                   160\n",
       "├─ReLU: 1-4                                   [1, 80]                   --\n",
       "├─Linear: 1-5                                 [1, 10]                   810\n",
       "===============================================================================================\n",
       "Total params: 26,649,696\n",
       "Trainable params: 26,649,696\n",
       "Non-trainable params: 0\n",
       "Total mult-adds (G): 7.73\n",
       "===============================================================================================\n",
       "Input size (MB): 0.60\n",
       "Forward/backward pass size (MB): 325.03\n",
       "Params size (MB): 106.60\n",
       "Estimated Total Size (MB): 432.23\n",
       "==============================================================================================="
      ]
     },
     "execution_count": 153,
     "metadata": {},
     "output_type": "execute_result"
    }
   ],
   "source": [
    "model_ = Cifar10_CNN\n",
    "\n",
    "# model\n",
    "model = model_(**model_setup)\n",
    "model.to(device)\n",
    "\n",
    "# model(torch.randn(1, 3, 224, 224).to(device))\n",
    "\n",
    "summary(model, (1, 3, 224, 224))"
   ]
  },
  {
   "cell_type": "code",
   "execution_count": 154,
   "metadata": {
    "id": "T0pUWI8C-RGk"
   },
   "outputs": [],
   "source": [
    "# initiate log files\n",
    "\n",
    "modelFile = path_savedModels / f\"{FILENAME_POSTFIX}_model.txt\"\n",
    "epochFile = path_savedModels / f\"{FILENAME_POSTFIX}_epoch.txt\"\n",
    "\n",
    "modelFile.touch()\n",
    "epochFile.touch()\n",
    "\n",
    "modelWriter, epochWriter = start_wrtier(modelFile, epochFile)"
   ]
  },
  {
   "cell_type": "code",
   "execution_count": 155,
   "metadata": {
    "id": "K5ScFB620DCh",
    "scrolled": false
   },
   "outputs": [
    {
     "data": {
      "text/html": [
       "\n",
       "<style>\n",
       "    /* Turns off some styling */\n",
       "    progress {\n",
       "        /* gets rid of default border in Firefox and Opera. */\n",
       "        border: none;\n",
       "        /* Needs to be in here for Safari polyfill so background images work as expected. */\n",
       "        background-size: auto;\n",
       "    }\n",
       "    progress:not([value]), progress:not([value])::-webkit-progress-bar {\n",
       "        background: repeating-linear-gradient(45deg, #7e7e7e, #7e7e7e 10px, #5c5c5c 10px, #5c5c5c 20px);\n",
       "    }\n",
       "    .progress-bar-interrupted, .progress-bar-interrupted::-webkit-progress-bar {\n",
       "        background: #F44336;\n",
       "    }\n",
       "</style>\n"
      ],
      "text/plain": [
       "<IPython.core.display.HTML object>"
      ]
     },
     "metadata": {},
     "output_type": "display_data"
    },
    {
     "data": {
      "text/html": [
       "<pre>        Loss         |       Accuracy      </pre><p><pre>Train     Validation | Train     Validation</pre><p><pre>1.018     0.775      | 0.654     0.733     </pre><p><pre>0.589     0.606      | 0.801     0.792     </pre><p><pre>0.467     0.546      | 0.842     0.812     </pre><p><pre>0.376     0.505      | 0.873     0.825     </pre><p><pre>0.180     0.373      | 0.945     0.873     </pre><p><pre>0.109     0.382      | 0.968     0.873     </pre><p><pre>0.069     0.424      | 0.981     0.870     </pre><p><pre>0.040     0.445      | 0.989     0.876     </pre><p><pre>0.023     0.457      | 0.995     0.873     </pre><p><pre>0.020     0.467      | 0.996     0.870     </pre><p><pre>0.017     0.490      | 0.997     0.865     </pre><p><pre>0.016     0.483      | 0.997     0.873     </pre><p><pre>0.014     0.476      | 0.998     0.875     </pre><p><pre>0.013     0.472      | 0.998     0.877     </pre><p><pre>0.013     0.484      | 0.998     0.872     </pre>"
      ],
      "text/plain": [
       "<IPython.core.display.HTML object>"
      ]
     },
     "metadata": {},
     "output_type": "display_data"
    },
    {
     "data": {
      "text/html": [
       "\n",
       "<style>\n",
       "    /* Turns off some styling */\n",
       "    progress {\n",
       "        /* gets rid of default border in Firefox and Opera. */\n",
       "        border: none;\n",
       "        /* Needs to be in here for Safari polyfill so background images work as expected. */\n",
       "        background-size: auto;\n",
       "    }\n",
       "    progress:not([value]), progress:not([value])::-webkit-progress-bar {\n",
       "        background: repeating-linear-gradient(45deg, #7e7e7e, #7e7e7e 10px, #5c5c5c 10px, #5c5c5c 20px);\n",
       "    }\n",
       "    .progress-bar-interrupted, .progress-bar-interrupted::-webkit-progress-bar {\n",
       "        background: #F44336;\n",
       "    }\n",
       "</style>\n"
      ],
      "text/plain": [
       "<IPython.core.display.HTML object>"
      ]
     },
     "metadata": {},
     "output_type": "display_data"
    },
    {
     "data": {
      "text/html": [
       "\n",
       "    <div>\n",
       "      <progress value='157' class='' max='157' style='width:300px; height:20px; vertical-align: middle;'></progress>\n",
       "      100.00% [157/157 00:14&lt;00:00]\n",
       "    </div>\n",
       "    "
      ],
      "text/plain": [
       "<IPython.core.display.HTML object>"
      ]
     },
     "metadata": {},
     "output_type": "display_data"
    },
    {
     "data": {
      "image/png": "[encoded data removed]",
      "text/plain": [
       "<Figure size 403.2x288 with 1 Axes>"
      ]
     },
     "metadata": {},
     "output_type": "display_data"
    },
    {
     "data": {
      "image/png": "[encoded data removed]",
      "text/plain": [
       "<Figure size 403.2x288 with 1 Axes>"
      ]
     },
     "metadata": {},
     "output_type": "display_data"
    }
   ],
   "source": [
    "# cost function\n",
    "loss_function = nn.CrossEntropyLoss()\n",
    "\n",
    "# optimizer\n",
    "# optimizer = torch.optim.SGD(model.parameters(), lr=model_config['lr'])\n",
    "optimizer = torch.optim.Adam(model.parameters(), lr=model_config['lr'])\n",
    "\n",
    "# LR Scheduler\n",
    "\n",
    "# lr_scheduler = torch.optim.lr_scheduler.CosineAnnealingLR(optimizer, T_max=model_config['epochs'])\n",
    "\n",
    "# lr_scheduler = torch.optim.lr_scheduler.ReduceLROnPlateau(\n",
    "#     optimizer, patience=model_config['patience'], mode='min',\n",
    "#     factor=1e-1, min_lr=1e-4, verbose=True)\n",
    "lr_scheduler = torch.optim.lr_scheduler.StepLR(optimizer, gamma=0.1, step_size=4 )\n",
    "# lr_scheduler = None\n",
    "\n",
    "# run_training_testing arguments\n",
    "kwargs = {\n",
    "    'model': model,\n",
    "    'loss_function': loss_function,\n",
    "    'optimizer': optimizer,\n",
    "    'lr_scheduler': lr_scheduler,\n",
    "    'map_classes': map_classes,\n",
    "    'skip_classes': skip_classes,\n",
    "    'device': device,\n",
    "    'model_path': path_savedModels / f\"{DATASET}_{PREFIX}.pth.tar\",\n",
    "    'train_dataloader': train_dataloader,\n",
    "    'val_dataloader': val_dataloader,\n",
    "    'test_dataloader': test_dataloader,\n",
    "    'config': model_config,\n",
    "    'model_file': modelWriter,\n",
    "    'epoch_file': epochWriter\n",
    "}\n",
    "\n",
    "# train\n",
    "train_losses, val_losses, train_accs, val_accs, test_loss, test_acc, confusion_matrix_test, best_model_name = run_training_testing(**kwargs)"
   ]
  },
  {
   "cell_type": "code",
   "execution_count": 156,
   "metadata": {},
   "outputs": [],
   "source": [
    "# close log files\n",
    "close_wrtier(modelFile, epochFile, modelWriter, epochWriter)"
   ]
  },
  {
   "cell_type": "markdown",
   "metadata": {
    "id": "LcwvG36f9Ov-"
   },
   "source": [
    "# Exporting last hidden layer data"
   ]
  },
  {
   "cell_type": "code",
   "execution_count": null,
   "metadata": {},
   "outputs": [],
   "source": [
    "# create empty model\n",
    "model = MNIST_Model(**model_setup)\n",
    "model.to(device)\n",
    "\n",
    "# load model\n",
    "# model_file_name = f'{DATASET}_{PREFIX}-test_acc-{round(test_acc,3)}-test_loss-{round(test_loss,3)}.pth.tar'\n",
    "model_file_name = 'MNIST_Elastic32-test_acc-0.971-test_loss-0.123.pth.tar'\n",
    "saved_model_path = path_savedModels / model_file_name\n",
    "load_checkpoint(model, None, None, saved_model_path)"
   ]
  },
  {
   "cell_type": "code",
   "execution_count": null,
   "metadata": {
    "colab": {
     "base_uri": "https://localhost:8080/",
     "height": 77
    },
    "id": "oqVyeo1s9ScA",
    "outputId": "bb6353f2-8b8b-494a-e5d1-3f69f2421825"
   },
   "outputs": [],
   "source": [
    "# export last hidden layer for each data loader\n",
    "\n",
    "for loader, stage in [\n",
    "    (train_dataloader, 'train'),\n",
    "    (val_dataloader, 'val'),\n",
    "    (test_dataloader, 'test'),\n",
    "]:\n",
    "    get_last_hidden_layer(loader, model, device, model.last_hidden_neurons,\n",
    "                          map_classes, path_lastHiddenLayer_raw, FILENAME_POSTFIX, stage)"
   ]
  },
  {
   "cell_type": "markdown",
   "metadata": {},
   "source": [
    "# Confusion Matrix"
   ]
  },
  {
   "cell_type": "code",
   "execution_count": null,
   "metadata": {},
   "outputs": [],
   "source": [
    "save_confusion_matrix(confusion_matrix_test, path_savedModels, FILENAME_POSTFIX, 'test')"
   ]
  },
  {
   "cell_type": "code",
   "execution_count": null,
   "metadata": {
    "scrolled": false
   },
   "outputs": [],
   "source": [
    "confusion_matrix_test_norm = normalize_confusion_matrix(confusion_matrix_test)\n",
    "fig, ax = plot_confusion_matrix( confusion_matrix_test_norm, map_classes=map_classes, fmt='.2f')"
   ]
  },
  {
   "cell_type": "code",
   "execution_count": null,
   "metadata": {},
   "outputs": [],
   "source": []
  }
 ],
 "metadata": {
  "accelerator": "GPU",
  "colab": {
   "collapsed_sections": [
    "mcDeYOA8d1wL"
   ],
   "provenance": []
  },
  "gpuClass": "standard",
  "kernelspec": {
   "display_name": "Python 3",
   "language": "python",
   "name": "python3"
  },
  "language_info": {
   "codemirror_mode": {
    "name": "ipython",
    "version": 3
   },
   "file_extension": ".py",
   "mimetype": "text/x-python",
   "name": "python",
   "nbconvert_exporter": "python",
   "pygments_lexer": "ipython3",
   "version": "3.6.8"
  },
  "vscode": {
   "interpreter": {
    "hash": "2b89e4666a1b1f5f90ada5928a1b04d9ad859bf674b23c56e0417352230a6456"
   }
  }
 },
 "nbformat": 4,
 "nbformat_minor": 1
}
