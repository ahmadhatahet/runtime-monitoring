{
 "cells": [
  {
   "cell_type": "markdown",
   "metadata": {},
   "source": [
    "# Setup Variables"
   ]
  },
  {
   "cell_type": "code",
   "execution_count": 1,
   "metadata": {},
   "outputs": [],
   "source": [
    "REPO_PATH = '/home/ah19/runtime-monitoring'\n",
    "DATASET = 'Cifar10'\n",
    "PREFIX = 'TEMP'\n",
    "FILENAME_POSTFIX = f\"{DATASET}_{PREFIX}\"\n",
    "SEED = 42\n",
    "\n",
    "GPU_NAME = 'cuda:0'\n",
    "\n",
    "model_config = {\n",
    "    'batch_size': 64,\n",
    "    'lr': 0.001,\n",
    "    'epochs': 25,\n",
    "    \"patience\": 5,\n",
    "    \"L2\": 0.00,\n",
    "    \"L1\": 0.00,\n",
    "}"
   ]
  },
  {
   "cell_type": "markdown",
   "metadata": {},
   "source": [
    "# Libraries"
   ]
  },
  {
   "cell_type": "code",
   "execution_count": 2,
   "metadata": {
    "id": "FLmxFGnxg6ZG"
   },
   "outputs": [],
   "source": [
    "import matplotlib.pyplot as plt\n",
    "import numpy as np\n",
    "from pathlib import Path\n",
    "\n",
    "import torch\n",
    "from torch.backends import cudnn\n",
    "import torch.nn as nn\n",
    "import torch.nn.functional as F\n",
    "from torchinfo import summary"
   ]
  },
  {
   "cell_type": "code",
   "execution_count": 3,
   "metadata": {},
   "outputs": [],
   "source": [
    "import sys\n",
    "sys.path.append(REPO_PATH + '/utilities')\n",
    "sys.path.append(f'{REPO_PATH}/{DATASET}/trainingModels')"
   ]
  },
  {
   "cell_type": "code",
   "execution_count": 4,
   "metadata": {},
   "outputs": [],
   "source": [
    "from utils import *\n",
    "from plotFunctions import *\n",
    "from pathManager import fetchPaths\n",
    "# from Cifar10_CNN import Cifar10_CNN\n",
    "\n",
    "# model_ = Cifar10_CNN"
   ]
  },
  {
   "cell_type": "markdown",
   "metadata": {
    "id": "h7eERD3yVH2H"
   },
   "source": [
    "# GPU Device & Seed"
   ]
  },
  {
   "cell_type": "code",
   "execution_count": 5,
   "metadata": {
    "id": "CS9DVaKDi_2C"
   },
   "outputs": [],
   "source": [
    "np.random.seed(SEED)\n",
    "torch.manual_seed(SEED)\n",
    "torch.cuda.manual_seed(SEED)"
   ]
  },
  {
   "cell_type": "code",
   "execution_count": 6,
   "metadata": {
    "colab": {
     "base_uri": "https://localhost:8080/"
    },
    "id": "5jRXv8RAhzqa",
    "outputId": "d8ccff46-cebe-4890-ab1c-5b498a395e64"
   },
   "outputs": [
    {
     "data": {
      "text/plain": [
       "'NVIDIA A100 80GB PCIe'"
      ]
     },
     "execution_count": 6,
     "metadata": {},
     "output_type": "execute_result"
    }
   ],
   "source": [
    "device = get_device(GPU_NAME)\n",
    "torch.cuda.get_device_name(device)"
   ]
  },
  {
   "cell_type": "markdown",
   "metadata": {},
   "source": [
    "# Paths"
   ]
  },
  {
   "cell_type": "code",
   "execution_count": 7,
   "metadata": {
    "scrolled": false
   },
   "outputs": [
    {
     "data": {
      "text/plain": [
       "(PosixPath('/home/ah19/runtime-monitoring/Cifar10'),\n",
       " PosixPath('/home/ah19/runtime-monitoring/Cifar10/savedModels/Cifar10_TEMP'))"
      ]
     },
     "execution_count": 7,
     "metadata": {},
     "output_type": "execute_result"
    }
   ],
   "source": [
    "base = Path(REPO_PATH)\n",
    "paths = fetchPaths(base, DATASET)\n",
    "\n",
    "path = paths[DATASET.lower()]\n",
    "path_dataset = paths['dataset']\n",
    "path_trainingModels = paths['trainingModels']\n",
    "path_lastHiddenLayer = paths['lastHiddenLayer']\n",
    "path_lastHiddenLayer_raw = paths['lastHiddenLayer_raw']\n",
    "path_savedModels = paths['savedModels']\n",
    "\n",
    "# save model and logs to dedicated directory\n",
    "path_savedModels = path_savedModels / FILENAME_POSTFIX\n",
    "path_savedModels.mkdir(exist_ok=True) # raise error if model name was used previously\n",
    "\n",
    "path, path_savedModels"
   ]
  },
  {
   "cell_type": "markdown",
   "metadata": {
    "id": "h7eERD3yVH2H"
   },
   "source": [
    "# Load / Split / DataLoader"
   ]
  },
  {
   "cell_type": "code",
   "execution_count": 8,
   "metadata": {},
   "outputs": [
    {
     "name": "stdout",
     "output_type": "stream",
     "text": [
      "Files already downloaded and verified\n",
      "Files already downloaded and verified\n"
     ]
    },
    {
     "data": {
      "text/plain": [
       "(50000, 10000)"
      ]
     },
     "execution_count": 8,
     "metadata": {},
     "output_type": "execute_result"
    }
   ],
   "source": [
    "feature_names = get_labels(DATASET)\n",
    "\n",
    "# IMPORTANT Augmentation\n",
    "tf_train = T.Compose([\n",
    "#     T.RandomHorizontalFlip(),\n",
    "#     T.RandomCrop(32, 4),\n",
    "    T.ToTensor(),\n",
    "    T.Normalize((0.4914, 0.4822, 0.4465), (0.2023, 0.1994, 0.2010))\n",
    "])\n",
    "\n",
    "tf_test = T.Compose([\n",
    "    T.ToTensor(),\n",
    "    T.Normalize((0.4914, 0.4822, 0.4465), (0.2023, 0.1994, 0.2010))\n",
    "])\n",
    "\n",
    "\n",
    "train_data = get_dataset(DATASET, path_dataset, train=True, transform=tf_train)\n",
    "test_data = get_dataset(DATASET, path_dataset, train=False, transform=tf_test)\n",
    "\n",
    "trainloader = get_dataLoader(train_data, model_config['batch_size'], True)\n",
    "testloader = get_dataLoader(test_data, model_config['batch_size'], False)\n",
    "\n",
    "len(train_data), len(test_data)"
   ]
  },
  {
   "cell_type": "code",
   "execution_count": null,
   "metadata": {},
   "outputs": [],
   "source": []
  },
  {
   "cell_type": "code",
   "execution_count": 9,
   "metadata": {},
   "outputs": [],
   "source": [
    "# import torchvision\n",
    "\n",
    "# tf_train = T.Compose([\n",
    "#     T.RandomHorizontalFlip(),\n",
    "#     T.RandomCrop(32, 4),\n",
    "#     T.ToTensor(),\n",
    "#     T.Normalize((0.5071, 0.4865, 0.4409), (0.2009, 0.1984, 0.2023))\n",
    "# ])\n",
    "\n",
    "# tf_test = T.Compose([\n",
    "#     T.ToTensor(),\n",
    "#     T.Normalize((0.5071, 0.4865, 0.4409), (0.2009, 0.1984, 0.2023))\n",
    "# ])\n",
    "\n",
    "# train_data = torchvision.datasets.CIFAR100(path_dataset, train=True, transform=tf_train, download=True)\n",
    "# test_data = torchvision.datasets.CIFAR100(path_dataset, train=False, transform=tf_test, download=True)\n",
    "\n",
    "# trainloader = get_dataLoader(train_data, model_config['batch_size'], True)\n",
    "# testloader = get_dataLoader(test_data, model_config['batch_size'], False)"
   ]
  },
  {
   "cell_type": "code",
   "execution_count": 10,
   "metadata": {},
   "outputs": [],
   "source": [
    "# feature_names = {0: 'apple',1: 'aquarium_fish',2: 'baby',3: 'bear',4: 'beaver',5: 'bed',6: 'bee',\n",
    "#     7: 'beetle',8: 'bicycle',9: 'bottle',10: 'bowl',11: 'boy',12: 'bridge',13: 'bus',14: 'butterfly',\n",
    "#     15: 'camel',16: 'can',17: 'castle',18: 'caterpillar',19: 'cattle',20: 'chair',21: 'chimpanzee',\n",
    "#     22: 'clock',23: 'cloud',24: 'cockroach',25: 'couch',26: 'cra',27: 'crocodile',28: 'cup',29: 'dinosaur',\n",
    "#     30: 'dolphin',31: 'elephant',32: 'flatfish',33: 'forest',34: 'fox',35: 'girl',36: 'hamster',37: 'house',\n",
    "#     38: 'kangaroo',\n",
    "#     39: 'keyboard',\n",
    "#     40: 'lamp',\n",
    "#     41: 'lawn_mower',\n",
    "#     42: 'leopard',\n",
    "#     43: 'lion',\n",
    "#     44: 'lizard',\n",
    "#     45: 'lobster',\n",
    "#     46: 'man',\n",
    "#     47: 'maple_tree',\n",
    "#     48: 'motorcycle',\n",
    "#     49: 'mountain',\n",
    "#     50: 'mouse',\n",
    "#     51: 'mushroom',\n",
    "#     52: 'oak_tree',\n",
    "#     53: 'orange',\n",
    "#     54: 'orchid',\n",
    "#     55: 'otter',\n",
    "#     56: 'palm_tree',\n",
    "#     57: 'pear',\n",
    "#     58: 'pickup_truck',\n",
    "#     59: 'pine_tree',\n",
    "#     60: 'plain',\n",
    "#     61: 'plate',\n",
    "#     62: 'poppy',\n",
    "#     63: 'porcupine',\n",
    "#     64: 'possum',\n",
    "#     65: 'rabbit',\n",
    "#     66: 'raccoon',\n",
    "#     67: 'ray',\n",
    "#     68: 'road',\n",
    "#     69: 'rocket',\n",
    "#     70: 'rose',\n",
    "#     71: 'sea',\n",
    "#     72: 'seal',\n",
    "#     73: 'shark',\n",
    "#     74: 'shrew',\n",
    "#     75: 'skunk',\n",
    "#     76: 'skyscraper',\n",
    "#     77: 'snail',\n",
    "#     78: 'snake',\n",
    "#     79: 'spider',\n",
    "#     80: 'squirrel',\n",
    "#     81: 'streetcar',\n",
    "#     82: 'sunflower',\n",
    "#     83: 'sweet_pepper',\n",
    "#     84: 'table',\n",
    "#     85: 'tank',\n",
    "#     86: 'telephone',\n",
    "#     87: 'television',\n",
    "#     88: 'tiger',\n",
    "#     89: 'tractor',\n",
    "#     90: 'train',\n",
    "#     91: 'trout',\n",
    "#     92: 'tulip',\n",
    "#     93: 'turtle',\n",
    "#     94: 'wardrobe',\n",
    "#     95: 'whale',\n",
    "#     96: 'willow_tree',\n",
    "#     97: 'wolf',\n",
    "#     98: 'woman',\n",
    "#     99: 'worm',\n",
    "# }"
   ]
  },
  {
   "cell_type": "code",
   "execution_count": 11,
   "metadata": {},
   "outputs": [
    {
     "name": "stderr",
     "output_type": "stream",
     "text": [
      "Clipping input data to the valid range for imshow with RGB data ([0..1] for floats or [0..255] for integers).\n",
      "Clipping input data to the valid range for imshow with RGB data ([0..1] for floats or [0..255] for integers).\n",
      "Clipping input data to the valid range for imshow with RGB data ([0..1] for floats or [0..255] for integers).\n",
      "Clipping input data to the valid range for imshow with RGB data ([0..1] for floats or [0..255] for integers).\n",
      "Clipping input data to the valid range for imshow with RGB data ([0..1] for floats or [0..255] for integers).\n",
      "Clipping input data to the valid range for imshow with RGB data ([0..1] for floats or [0..255] for integers).\n",
      "Clipping input data to the valid range for imshow with RGB data ([0..1] for floats or [0..255] for integers).\n",
      "Clipping input data to the valid range for imshow with RGB data ([0..1] for floats or [0..255] for integers).\n",
      "Clipping input data to the valid range for imshow with RGB data ([0..1] for floats or [0..255] for integers).\n"
     ]
    },
    {
     "data": {
      "image/png": "[encoded data removed]",
      "text/plain": [
       "<Figure size 648x648 with 9 Axes>"
      ]
     },
     "metadata": {},
     "output_type": "display_data"
    }
   ],
   "source": [
    "show_images_loader(trainloader, feature_names=feature_names)"
   ]
  },
  {
   "cell_type": "markdown",
   "metadata": {},
   "source": [
    "# Model"
   ]
  },
  {
   "cell_type": "code",
   "execution_count": 12,
   "metadata": {},
   "outputs": [],
   "source": [
    "class Cifar10_CNN(nn.Module):\n",
    "    def __init__(self, img_dim=32, outneurons=100, last_hidden_neurons=200,  first_layer_norm=True,\n",
    "        weight_init=\"kaiming_uniform\", bias=True, dropout=0.0, batchnorm=True):\n",
    "\n",
    "        super(Cifar10_CNN, self).__init__()\n",
    "\n",
    "        self.channels = 3\n",
    "        self.img_dim = img_dim\n",
    "        self.in_features = 3 * img_dim * img_dim\n",
    "        self.num_classes = outneurons\n",
    "        self.last_hidden_neurons = last_hidden_neurons\n",
    "        self.dropout_p = dropout\n",
    "        self.batchnorm = batchnorm\n",
    "        self.first_layer_norm = first_layer_norm\n",
    "\n",
    "        # uniform(-1/sqrt(in_features), 1/sqrt(in_features))\n",
    "        weights = {\n",
    "            \"normal\": nn.init.normal_,\n",
    "            \"xavier\": nn.init.xavier_normal_,\n",
    "            \"xavier_uniform\": nn.init.xavier_uniform_,\n",
    "            \"kaiming\": nn.init.kaiming_normal_,\n",
    "            \"kaiming_uniform\": nn.init.kaiming_uniform_,\n",
    "        }\n",
    "\n",
    "\n",
    "        self.relu = nn.ReLU()\n",
    "        self.flatten = nn.Flatten()\n",
    "        # scaling data\n",
    "        self.scaleInputs = nn.BatchNorm2d(self.channels)\n",
    "        self.dropout_l = nn.Dropout(self.dropout_p)\n",
    "        self.pool = nn.MaxPool2d(2, 2)\n",
    "        self.avgpool = nn.AvgPool2d(2, 2)\n",
    "\n",
    "        self.layer1 = nn.Sequential(\n",
    "            nn.Conv2d(self.channels, 96, 3, padding=3, bias=bias),\n",
    "            nn.BatchNorm2d(96),\n",
    "            nn.ReLU(),\n",
    "            nn.Dropout2d(self.dropout_p),\n",
    "            \n",
    "            nn.Conv2d(96, 96, 3, bias=bias),\n",
    "            nn.BatchNorm2d(96),\n",
    "            nn.ReLU(),\n",
    "            nn.Dropout2d(self.dropout_p),\n",
    "\n",
    "            nn.Conv2d(96, 192, 3, bias=bias),\n",
    "            nn.BatchNorm2d(192),\n",
    "            nn.ReLU(),\n",
    "            nn.Dropout2d(self.dropout_p),\n",
    "            nn.AvgPool2d(2, 2),\n",
    "\n",
    "            nn.Conv2d(192, 192, 3, padding=3, bias=bias),\n",
    "            nn.BatchNorm2d(192),\n",
    "            nn.ReLU(),\n",
    "            nn.Dropout2d(self.dropout_p),\n",
    "\n",
    "            nn.Conv2d(192, 64, 3, bias=bias),\n",
    "            nn.BatchNorm2d(64),\n",
    "            nn.ReLU(),\n",
    "            nn.Dropout2d(self.dropout_p),\n",
    "            \n",
    "            nn.Conv2d(64, 64, 3, bias=bias),\n",
    "            nn.BatchNorm2d(64),\n",
    "            nn.ReLU(),\n",
    "            nn.Dropout2d(self.dropout_p),\n",
    "            nn.AvgPool2d(2, 2)\n",
    "            )\n",
    "\n",
    "        self.fc7 = nn.Linear(64 * 8 * 8, 1024, bias=bias)\n",
    "        self.bn7 = nn.BatchNorm1d(1024)\n",
    "\n",
    "        self.fc8 = nn.Linear(1024, 256, bias=bias)\n",
    "        self.bn8 = nn.BatchNorm1d(256)\n",
    "\n",
    "        self.fc9 = nn.Linear(256, last_hidden_neurons, bias=bias)\n",
    "        self.bn9 = nn.BatchNorm1d(last_hidden_neurons)\n",
    "\n",
    "        self.output = nn.Linear(last_hidden_neurons, outneurons, bias=bias)\n",
    "\n",
    "        if weight_init is not None:\n",
    "            self.__weight_init(weights[weight_init], bias)\n",
    "\n",
    "    def forward(self, x):\n",
    "\n",
    "        x = self._train(x)\n",
    "        if self.batchnorm: x = self.bn9(x)\n",
    "        x = self.relu(x)\n",
    "        x = self.output(x)\n",
    "\n",
    "        return x\n",
    "\n",
    "\n",
    "    def _train(self, x):\n",
    "\n",
    "        if self.first_layer_norm: x = self.scaleInputs(x)\n",
    "\n",
    "        x = self.layer1(x)\n",
    "        \n",
    "        x = self.flatten(x)\n",
    "        x = self.dropout_l(x)\n",
    "        x = self.relu(self.bn7(self.fc7(x)))\n",
    "        x = self.dropout_l(x)\n",
    "        x = self.relu(self.bn8(self.fc8(x)))\n",
    "\n",
    "        x = self.dropout_l(x)\n",
    "        x = self.fc9(x)\n",
    "\n",
    "        return x\n",
    "\n",
    "    def output_last_layer(self, x):\n",
    "\n",
    "        x = self._train(x)\n",
    "        out = x.clone().detach()\n",
    "        if self.batchnorm: x = self.bn9(x)\n",
    "        x = self.relu(x)\n",
    "        x = self.output(x)\n",
    "\n",
    "        return out, x\n",
    "\n",
    "\n",
    "    def _sum_weights(self):\n",
    "\n",
    "        total_weights = 0\n",
    "        for _, p in self.named_parameters():\n",
    "            total_weights += p.sum()\n",
    "\n",
    "        return total_weights.item()\n",
    "\n",
    "    def _sum_abs_weights(self):\n",
    "\n",
    "        total_weights = 0\n",
    "        for _, p in self.named_parameters():\n",
    "            total_weights += p.abs().sum()\n",
    "\n",
    "        return total_weights.item()\n",
    "\n",
    "    def _l1_regularization(self, alpha=1e-3):\n",
    "\n",
    "        total_weights = 0\n",
    "        for _, p in self.named_parameters():\n",
    "            total_weights += p.abs().sum()\n",
    "\n",
    "        return alpha * total_weights\n",
    "\n",
    "    def _l2_regularization(self, lambd=1e-3):\n",
    "\n",
    "        total_weights = 0\n",
    "        for _, p in self.named_parameters():\n",
    "            total_weights += p.pow(2).sum()\n",
    "\n",
    "        return lambd * total_weights\n",
    "\n",
    "    def _elastic_regularization(self, lambd=1e-3, alpha=1e-3):\n",
    "        return self._l2_regularization(lambd) + self._l1_regularization(alpha)\n",
    "\n",
    "    def __weight_init(self, fn, bias):\n",
    "\n",
    "        for m in self.modules():\n",
    "\n",
    "            if (\n",
    "                isinstance(m, nn.Linear)\n",
    "                or isinstance(m, nn.Conv2d)\n",
    "                or isinstance(m, nn.Conv1d)\n",
    "               ):\n",
    "                fn(m.weight)\n",
    "\n",
    "                if bias:\n",
    "                    nn.init.constant_(m.bias, 0)\n",
    "\n",
    "            if isinstance(m, nn.BatchNorm1d) or isinstance(m, nn.BatchNorm2d):\n",
    "                nn.init.constant_(m.weight, 1)\n",
    "                nn.init.constant_(m.bias, 0)\n"
   ]
  },
  {
   "cell_type": "code",
   "execution_count": 13,
   "metadata": {
    "colab": {
     "base_uri": "https://localhost:8080/"
    },
    "id": "rreGzn6UjaJK",
    "outputId": "8addd560-e9b7-4614-ee45-1789bf19f285"
   },
   "outputs": [
    {
     "data": {
      "text/plain": [
       "==========================================================================================\n",
       "Layer (type:depth-idx)                   Output Shape              Param #\n",
       "==========================================================================================\n",
       "Cifar10_CNN                              --                        --\n",
       "├─Sequential: 1-1                        [1, 64, 8, 8]             --\n",
       "│    └─Conv2d: 2-1                       [1, 96, 36, 36]           2,688\n",
       "│    └─BatchNorm2d: 2-2                  [1, 96, 36, 36]           192\n",
       "│    └─ReLU: 2-3                         [1, 96, 36, 36]           --\n",
       "│    └─Dropout2d: 2-4                    [1, 96, 36, 36]           --\n",
       "│    └─Conv2d: 2-5                       [1, 96, 34, 34]           83,040\n",
       "│    └─BatchNorm2d: 2-6                  [1, 96, 34, 34]           192\n",
       "│    └─ReLU: 2-7                         [1, 96, 34, 34]           --\n",
       "│    └─Dropout2d: 2-8                    [1, 96, 34, 34]           --\n",
       "│    └─Conv2d: 2-9                       [1, 192, 32, 32]          166,080\n",
       "│    └─BatchNorm2d: 2-10                 [1, 192, 32, 32]          384\n",
       "│    └─ReLU: 2-11                        [1, 192, 32, 32]          --\n",
       "│    └─Dropout2d: 2-12                   [1, 192, 32, 32]          --\n",
       "│    └─AvgPool2d: 2-13                   [1, 192, 16, 16]          --\n",
       "│    └─Conv2d: 2-14                      [1, 192, 20, 20]          331,968\n",
       "│    └─BatchNorm2d: 2-15                 [1, 192, 20, 20]          384\n",
       "│    └─ReLU: 2-16                        [1, 192, 20, 20]          --\n",
       "│    └─Dropout2d: 2-17                   [1, 192, 20, 20]          --\n",
       "│    └─Conv2d: 2-18                      [1, 64, 18, 18]           110,656\n",
       "│    └─BatchNorm2d: 2-19                 [1, 64, 18, 18]           128\n",
       "│    └─ReLU: 2-20                        [1, 64, 18, 18]           --\n",
       "│    └─Dropout2d: 2-21                   [1, 64, 18, 18]           --\n",
       "│    └─Conv2d: 2-22                      [1, 64, 16, 16]           36,928\n",
       "│    └─BatchNorm2d: 2-23                 [1, 64, 16, 16]           128\n",
       "│    └─ReLU: 2-24                        [1, 64, 16, 16]           --\n",
       "│    └─Dropout2d: 2-25                   [1, 64, 16, 16]           --\n",
       "│    └─AvgPool2d: 2-26                   [1, 64, 8, 8]             --\n",
       "├─Flatten: 1-2                           [1, 4096]                 --\n",
       "├─Dropout: 1-3                           [1, 4096]                 --\n",
       "├─Linear: 1-4                            [1, 1024]                 4,195,328\n",
       "├─BatchNorm1d: 1-5                       [1, 1024]                 2,048\n",
       "├─ReLU: 1-6                              [1, 1024]                 --\n",
       "├─Dropout: 1-7                           [1, 1024]                 --\n",
       "├─Linear: 1-8                            [1, 256]                  262,400\n",
       "├─BatchNorm1d: 1-9                       [1, 256]                  512\n",
       "├─ReLU: 1-10                             [1, 256]                  --\n",
       "├─Dropout: 1-11                          [1, 256]                  --\n",
       "├─Linear: 1-12                           [1, 200]                  51,400\n",
       "├─BatchNorm1d: 1-13                      [1, 200]                  400\n",
       "├─ReLU: 1-14                             [1, 200]                  --\n",
       "├─Linear: 1-15                           [1, 100]                  20,100\n",
       "==========================================================================================\n",
       "Total params: 5,264,956\n",
       "Trainable params: 5,264,956\n",
       "Non-trainable params: 0\n",
       "Total mult-adds (M): 452.17\n",
       "==========================================================================================\n",
       "Input size (MB): 0.01\n",
       "Forward/backward pass size (MB): 8.76\n",
       "Params size (MB): 21.06\n",
       "Estimated Total Size (MB): 29.83\n",
       "=========================================================================================="
      ]
     },
     "execution_count": 13,
     "metadata": {},
     "output_type": "execute_result"
    }
   ],
   "source": [
    "# skip classes\n",
    "skip_classes = None\n",
    "map_classes = None\n",
    "\n",
    "model_setup = {'dropout': 0.3, 'first_layer_norm': False, 'weight_init': None}\n",
    "\n",
    "model_ = Cifar10_CNN\n",
    "\n",
    "# model\n",
    "model = model_(**model_setup)\n",
    "model.to(device)\n",
    "\n",
    "# nn.DataParallel(model, device_ids=[0])\n",
    "cudnn.benchmark = True\n",
    "\n",
    "summary(model, (1, 3, 32, 32))"
   ]
  },
  {
   "cell_type": "code",
   "execution_count": 20,
   "metadata": {
    "id": "K5ScFB620DCh",
    "scrolled": false
   },
   "outputs": [
    {
     "data": {
      "text/html": [
       "\n",
       "<style>\n",
       "    /* Turns off some styling */\n",
       "    progress {\n",
       "        /* gets rid of default border in Firefox and Opera. */\n",
       "        border: none;\n",
       "        /* Needs to be in here for Safari polyfill so background images work as expected. */\n",
       "        background-size: auto;\n",
       "    }\n",
       "    progress:not([value]), progress:not([value])::-webkit-progress-bar {\n",
       "        background: repeating-linear-gradient(45deg, #7e7e7e, #7e7e7e 10px, #5c5c5c 10px, #5c5c5c 20px);\n",
       "    }\n",
       "    .progress-bar-interrupted, .progress-bar-interrupted::-webkit-progress-bar {\n",
       "        background: #F44336;\n",
       "    }\n",
       "</style>\n"
      ],
      "text/plain": [
       "<IPython.core.display.HTML object>"
      ]
     },
     "metadata": {},
     "output_type": "display_data"
    },
    {
     "data": {
      "text/html": [
       "\n",
       "    <div>\n",
       "      <progress value='8' class='' max='25' style='width:300px; height:20px; vertical-align: middle;'></progress>\n",
       "      32.00% [8/25 04:19&lt;09:11 Epochs]\n",
       "    </div>\n",
       "    \n",
       "[Epoch: 00] Loss (0.361 / 0.525) - Accuracy (87.4% / 83.2%)<p>[Epoch: 01] Loss (0.354 / 0.529) - Accuracy (87.6% / 83.2%)<p>[Epoch: 02] Loss (0.341 / 0.529) - Accuracy (88.0% / 83.2%)<p>[Epoch: 03] Loss (0.333 / 0.529) - Accuracy (88.2% / 83.2%)<p>[Epoch: 04] Loss (0.322 / 0.538) - Accuracy (88.6% / 83.2%)<p>[Epoch: 05] Loss (0.326 / 0.541) - Accuracy (88.5% / 83.2%)<p>[Epoch: 06] Loss (0.315 / 0.539) - Accuracy (89.0% / 83.3%)<p>[Epoch: 07] Loss (0.305 / 0.537) - Accuracy (89.3% / 83.3%)<p>\n",
       "\n",
       "    <div>\n",
       "      <progress value='157' class='' max='157' style='width:300px; height:20px; vertical-align: middle;'></progress>\n",
       "      100.00% [157/157 00:04&lt;00:00 Testing]\n",
       "    </div>\n",
       "    "
      ],
      "text/plain": [
       "<IPython.core.display.HTML object>"
      ]
     },
     "metadata": {},
     "output_type": "display_data"
    },
    {
     "data": {
      "image/png": "[encoded data removed]",
      "text/plain": [
       "<Figure size 360x288 with 1 Axes>"
      ]
     },
     "metadata": {},
     "output_type": "display_data"
    },
    {
     "data": {
      "image/png": "[encoded data removed]",
      "text/plain": [
       "<Figure size 360x288 with 1 Axes>"
      ]
     },
     "metadata": {},
     "output_type": "display_data"
    }
   ],
   "source": [
    "# cost function\n",
    "loss_function = nn.CrossEntropyLoss()\n",
    "\n",
    "# optimizer\n",
    "# optimizer = torch.optim.SGD(model.parameters(), lr=model_config['lr'])\n",
    "optimizer = torch.optim.Adam(model.parameters(), lr=model_config['lr'])\n",
    "\n",
    "# LR Scheduler\n",
    "\n",
    "# lr_scheduler = torch.optim.lr_scheduler.CosineAnnealingWarmRestarts(\n",
    "#     optimizer, T_0=5, T_mult=1, eta_min=1e-6, verbose=True)\n",
    "\n",
    "\n",
    "# lr_scheduler = torch.optim.lr_scheduler.CosineAnnealingLR(\n",
    "#     optimizer, T_max=model_config['epochs'], verbose=True)\n",
    "\n",
    "# lr_scheduler = torch.optim.lr_scheduler.ReduceLROnPlateau(\n",
    "#     optimizer, patience=model_config['patience'], mode='max',\n",
    "#     factor=1e-1, min_lr=1e-4, verbose=True)\n",
    "\n",
    "# lr_scheduler = torch.optim.lr_scheduler.StepLR(optimizer, gamma=0.1, step_size=5 )\n",
    "\n",
    "lr_scheduler = None\n",
    "\n",
    "model_config[\"thld_accuracy\"] = 0.0\n",
    "\n",
    "# run_training_testing arguments\n",
    "kwargs = {\n",
    "    'model': model,\n",
    "    'loss_function': loss_function,\n",
    "    'optimizer': optimizer,\n",
    "    'lr_scheduler': lr_scheduler,\n",
    "    'map_classes': map_classes,\n",
    "    'skip_classes': skip_classes,\n",
    "    'device': device,\n",
    "    'model_path': path_savedModels / f\"{DATASET}_{PREFIX}.pth.tar\",\n",
    "    'trainloader': trainloader,\n",
    "    'testloader': testloader,\n",
    "    'config': model_config\n",
    "}\n",
    "\n",
    "# train\n",
    "train_losses, val_losses, train_accs, val_accs, test_loss, test_acc, confusion_matrix_test, best_model_name = run_training_testing(**kwargs)"
   ]
  },
  {
   "cell_type": "markdown",
   "metadata": {
    "id": "LcwvG36f9Ov-"
   },
   "source": [
    "# Exporting last hidden layer data"
   ]
  },
  {
   "cell_type": "code",
   "execution_count": 15,
   "metadata": {},
   "outputs": [],
   "source": [
    "# # create empty model\n",
    "# model = model_(**model_setup)\n",
    "# model.to(device)\n",
    "\n",
    "# # load model\n",
    "# # model_file_name = path_savedModels / 'MNIST_Elastic32-test_acc-0.971-test_loss-0.123.pth.tar'\n",
    "# model_file_name = best_model_name\n",
    "# load_checkpoint(model, model_file_name)\n",
    "\n",
    "# model_file_name"
   ]
  },
  {
   "cell_type": "code",
   "execution_count": 16,
   "metadata": {
    "colab": {
     "base_uri": "https://localhost:8080/",
     "height": 77
    },
    "id": "oqVyeo1s9ScA",
    "outputId": "bb6353f2-8b8b-494a-e5d1-3f69f2421825"
   },
   "outputs": [],
   "source": [
    "# export last hidden layer for each data loader\n",
    "\n",
    "# for loader, stage in [\n",
    "#     (train_dataloader, 'train'),\n",
    "#     (test_dataloader, 'test'),\n",
    "# ]:\n",
    "#     export_last_hidden_layer(loader, model, device, model.last_hidden_neurons,\n",
    "#                           map_classes, path_lastHiddenLayer_raw, FILENAME_POSTFIX, stage)"
   ]
  },
  {
   "cell_type": "markdown",
   "metadata": {},
   "source": [
    "# Confusion Matrix"
   ]
  },
  {
   "cell_type": "code",
   "execution_count": 17,
   "metadata": {},
   "outputs": [],
   "source": [
    "# save_confusion_matrix(confusion_matrix_test, path_savedModels, FILENAME_POSTFIX, 'test')"
   ]
  },
  {
   "cell_type": "code",
   "execution_count": 18,
   "metadata": {
    "scrolled": false
   },
   "outputs": [],
   "source": [
    "# confusion_matrix_test_norm = normalize_confusion_matrix(confusion_matrix_test)\n",
    "# fig, ax = plot_confusion_matrix( confusion_matrix_test_norm, map_classes=map_classes, fmt='.2f')"
   ]
  },
  {
   "cell_type": "code",
   "execution_count": null,
   "metadata": {},
   "outputs": [],
   "source": []
  }
 ],
 "metadata": {
  "accelerator": "GPU",
  "colab": {
   "collapsed_sections": [
    "mcDeYOA8d1wL"
   ],
   "provenance": []
  },
  "gpuClass": "standard",
  "kernelspec": {
   "display_name": "Python 3",
   "language": "python",
   "name": "python3"
  },
  "language_info": {
   "codemirror_mode": {
    "name": "ipython",
    "version": 3
   },
   "file_extension": ".py",
   "mimetype": "text/x-python",
   "name": "python",
   "nbconvert_exporter": "python",
   "pygments_lexer": "ipython3",
   "version": "3.6.8"
  },
  "vscode": {
   "interpreter": {
    "hash": "2b89e4666a1b1f5f90ada5928a1b04d9ad859bf674b23c56e0417352230a6456"
   }
  }
 },
 "nbformat": 4,
 "nbformat_minor": 1
}
