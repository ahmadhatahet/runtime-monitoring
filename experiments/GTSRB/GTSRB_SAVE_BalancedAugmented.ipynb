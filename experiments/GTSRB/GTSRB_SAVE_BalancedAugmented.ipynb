{
 "cells": [
  {
   "cell_type": "code",
   "execution_count": 1,
   "metadata": {
    "id": "xo0N6Clg2AIW"
   },
   "outputs": [],
   "source": [
    "import numpy as np\n",
    "import pandas as pd\n",
    "import matplotlib.pyplot as plt\n",
    "from matplotlib import rcParams\n",
    "from PIL import Image\n",
    "import time\n",
    "from fastprogress import master_bar, progress_bar\n",
    "\n",
    "import torch\n",
    "from torch.utils.data import DataLoader, Dataset, random_split, WeightedRandomSampler\n",
    "import torch.nn as nn\n",
    "from torchvision.datasets import ImageFolder\n",
    "import torchvision.transforms as T\n",
    "from torchsummary import summary\n",
    "\n",
    "rcParams['figure.figsize'] = (14, 6)"
   ]
  },
  {
   "cell_type": "code",
   "execution_count": 2,
   "metadata": {},
   "outputs": [
    {
     "name": "stdout",
     "output_type": "stream",
     "text": [
      "/home/ah19/live-time-monitoring/GTSRB/models\r\n"
     ]
    }
   ],
   "source": [
    "!pwd"
   ]
  },
  {
   "cell_type": "code",
   "execution_count": 3,
   "metadata": {},
   "outputs": [],
   "source": [
    "import sys\n",
    "sys.path.append('/home/ah19/live-time-monitoring/utilities')"
   ]
  },
  {
   "cell_type": "code",
   "execution_count": 4,
   "metadata": {
    "id": "3C2S1Lv86ytn"
   },
   "outputs": [],
   "source": [
    "from utils import *"
   ]
  },
  {
   "cell_type": "code",
   "execution_count": 2,
   "metadata": {},
   "outputs": [
    {
     "data": {
      "text/plain": [
       "(PosixPath('/home/ah19/live-time-monitoring'),\n",
       " PosixPath('/home/ah19/live-time-monitoring/GTSRB'))"
      ]
     },
     "execution_count": 2,
     "metadata": {},
     "output_type": "execute_result"
    }
   ],
   "source": [
    "from pathlib import Path\n",
    "\n",
    "base = Path(\"/home/ah19/live-time-monitoring\")\n",
    "gtsrb = base / 'GTSRB'\n",
    "\n",
    "base, gtsrb"
   ]
  },
  {
   "cell_type": "code",
   "execution_count": 7,
   "metadata": {
    "id": "PTXdZwCE2C1Z"
   },
   "outputs": [],
   "source": [
    "np.random.seed(config['seed'])\n",
    "torch.manual_seed(config['seed'])\n",
    "torch.cuda.manual_seed(config['seed'])"
   ]
  },
  {
   "cell_type": "markdown",
   "metadata": {
    "id": "Hk9vswJsbC82"
   },
   "source": [
    "# Load Data"
   ]
  },
  {
   "cell_type": "code",
   "execution_count": 6,
   "metadata": {
    "id": "CAW5ocWRn9qc"
   },
   "outputs": [],
   "source": [
    "feature_names = {0: \"20_speed\",1: \"30_speed\",2: \"50_speed\",3: \"60_speed\",4: \"70_speed\",5: \"80_speed\",6: \"80_lifted\",7: \"100_speed\",8: \"120_speed\",\n",
    "        9: \"no_overtaking_general\",10: \"no_overtaking_trucks\",11: \"right_of_way_crossing\",12: \"right_of_way_general\",13: \"give_way\",14: \"stop\",\n",
    "        15: \"no_way_general\",16: \"no_way_trucks\",17: \"no_way_one_way\",18: \"attention_general\",19: \"attention_left_turn\",20: \"attention_right_turn\",\n",
    "        21: \"attention_curvy\",22: \"attention_bumpers\",23: \"attention_slippery\",24: \"attention_bottleneck\",25: \"attention_construction\",\n",
    "        26: \"attention_traffic_light\",27: \"attention_pedestrian\",28: \"attention_children\",29: \"attention_bikes\",30: \"attention_snowflake\",\n",
    "        31: \"attention_deer\",32: \"lifted_general\",33: \"turn_right\",34: \"turn_left\",35: \"turn_straight\",36: \"turn_straight_right\",\n",
    "        37: \"turn_straight_left\",38: \"turn_right_down\",39: \"turn_left_down\",40: \"turn_circle\",41: \"lifted_no_overtaking_general\",\n",
    "        42: \"lifted_no_overtaking_trucks\"}"
   ]
  },
  {
   "cell_type": "code",
   "execution_count": 7,
   "metadata": {
    "id": "M388LsnJbRZa"
   },
   "outputs": [],
   "source": [
    "class GTSRB(Dataset):\n",
    "    def __init__(self, root, csv_file, transform=None):\n",
    "        self.root = root\n",
    "        self.data = pd.read_csv(root / csv_file)\n",
    "        self.transform = transform\n",
    "\n",
    "    def __len__(self):\n",
    "        return len(self.data)\n",
    "\n",
    "    def __getitem__(self, index):\n",
    "        img = Image.open(self.root / self.data.iloc[index, 0])\n",
    "        label = torch.tensor( self.data.iloc[index, 1] )\n",
    "        \n",
    "        if self.transform:\n",
    "            img = self.transform(img)\n",
    "\n",
    "        return (img, label)"
   ]
  },
  {
   "cell_type": "code",
   "execution_count": 96,
   "metadata": {
    "colab": {
     "base_uri": "https://localhost:8080/"
    },
    "id": "eGKbVqu4-nr6",
    "outputId": "6ff9006d-ba29-4f60-83a1-4a9e04b9cdee"
   },
   "outputs": [
    {
     "data": {
      "text/plain": [
       "39208"
      ]
     },
     "execution_count": 96,
     "metadata": {},
     "output_type": "execute_result"
    }
   ],
   "source": [
    "tf = T.Compose([\n",
    "    T.ToTensor(),\n",
    "    T.Resize((30, 30))\n",
    "])\n",
    "\n",
    "train_full = GTSRB(gtsrb / 'data' / 'gtsrb_ppm' / 'trainingset', 'training.csv', tf)\n",
    "\n",
    "len(train_full)"
   ]
  },
  {
   "cell_type": "markdown",
   "metadata": {
    "id": "KHUXl5LdbE2a"
   },
   "source": [
    "# Data Augmentation"
   ]
  },
  {
   "cell_type": "code",
   "execution_count": 10,
   "metadata": {
    "colab": {
     "base_uri": "https://localhost:8080/",
     "height": 339
    },
    "id": "8J1s48tOcxX2",
    "outputId": "34b83881-f8e2-4219-89f4-d912877f7277"
   },
   "outputs": [
    {
     "data": {
      "image/png": "[encoded data removed]",
      "text/plain": [
       "<Figure size 864x360 with 8 Axes>"
      ]
     },
     "metadata": {
      "needs_background": "light"
     },
     "output_type": "display_data"
    }
   ],
   "source": [
    "img, label = next( iter( DataLoader(train_full, 2, True) ) )\n",
    "\n",
    "fig, axs = plt.subplots( 2, 4, figsize=(3 *4, 5) )\n",
    "\n",
    "[a.set_title(x) for a, x in zip(axs[0], [\"Original\", \"Rotation\", \"Translate\", \"Scale\"])]\n",
    "[a.set_axis_off() for a in axs[0]]\n",
    "[a.set_axis_off() for a in axs[1]]\n",
    "\n",
    "fig.suptitle(f\"{feature_names[label[0].item()]} | {feature_names[label[1].item()]}\")\n",
    "\n",
    "axs[0, 0].imshow( img[0].permute(1, 2, 0) )\n",
    "axs[0, 1].imshow( T.RandomAffine(25 )(img[0]).permute(1, 2, 0) )\n",
    "axs[0, 2].imshow( T.RandomAffine(0, translate=(0, 0.1) )(img[0]).permute(1, 2, 0) )\n",
    "axs[0, 3].imshow( T.RandomAffine(0, scale=(1, 1.25) )(img[0]).permute(1, 2, 0) )\n",
    "\n",
    "axs[1, 0].imshow( img[1].permute(1, 2, 0) )\n",
    "axs[1, 1].imshow( T.RandomAffine(25 )(img[1]).permute(1, 2, 0) )\n",
    "axs[1, 2].imshow( T.RandomAffine(0, translate=(0, 0.1) )(img[1]).permute(1, 2, 0) )\n",
    "axs[1, 3].imshow( T.RandomAffine(0, scale=(1, 1.25) )(img[1]).permute(1, 2, 0) )\n",
    "\n",
    "\n",
    "# plt.savefig(base / 'Important for writing' / 'gtsrb_aug_good.jpg', transparent=False, dpi=100)\n",
    "\n",
    "plt.show()"
   ]
  },
  {
   "cell_type": "markdown",
   "metadata": {
    "id": "JUKfcGjgbC6b"
   },
   "source": [
    "# Analyzind Class Weights"
   ]
  },
  {
   "cell_type": "code",
   "execution_count": 97,
   "metadata": {
    "id": "_SDfVBGCcknP"
   },
   "outputs": [],
   "source": [
    "def get_class_weights(dataloader):\n",
    "    c = np.zeros(43)\n",
    "\n",
    "    for _, label in dataloader:\n",
    "        c += np.bincount(label.numpy(), minlength=43)\n",
    "\n",
    "    return c\n",
    "\n",
    "def get_instance_weights(dataloader):\n",
    "\n",
    "    weight_classes = get_class_weights(dataloader)\n",
    "    weight_classes_normlized = 1 / weight_classes\n",
    "    \n",
    "    weights_intances = np.array([])\n",
    "\n",
    "    for _, label in dataloader:\n",
    "        weights_intances = np.append(weights_intances, weight_classes_normlized[label.numpy()])\n",
    "\n",
    "    return weight_classes, weights_intances\n"
   ]
  },
  {
   "cell_type": "code",
   "execution_count": 98,
   "metadata": {
    "id": "9CN5qpdvvPBT"
   },
   "outputs": [],
   "source": [
    "train_dataloader = get_dataLoader(train_full, 256)"
   ]
  },
  {
   "cell_type": "code",
   "execution_count": 99,
   "metadata": {
    "id": "UZvSpy4dj3wh"
   },
   "outputs": [],
   "source": [
    "train_weight_classes, train_weights_intances = get_instance_weights(train_dataloader)"
   ]
  },
  {
   "cell_type": "markdown",
   "metadata": {},
   "source": [
    "# Balanced Dataset"
   ]
  },
  {
   "cell_type": "code",
   "execution_count": 100,
   "metadata": {
    "id": "_alqwY-OBGl0"
   },
   "outputs": [],
   "source": [
    "train_num_instances = 1800\n",
    "\n",
    "train_sampler = WeightedRandomSampler(train_weights_intances, 43 * train_num_instances)\n",
    "\n",
    "train_dataloader = get_dataLoader(train_full, 256, sampler=train_sampler, collate_fn=collat_fn_augmentation)"
   ]
  },
  {
   "cell_type": "code",
   "execution_count": 101,
   "metadata": {},
   "outputs": [],
   "source": [
    "balanced_collat_classes_train = get_class_weights(train_dataloader)"
   ]
  },
  {
   "cell_type": "code",
   "execution_count": 119,
   "metadata": {},
   "outputs": [
    {
     "data": {
      "text/plain": [
       "array([1828., 1829., 1822., 1809., 1780., 1860., 1689., 1782., 1798.,\n",
       "       1806., 1807., 1781., 1741., 1793., 1823., 1876., 1752., 1809.,\n",
       "       1794., 1825., 1836., 1819., 1704., 1753., 1779., 1744., 1815.,\n",
       "       1841., 1852., 1771., 1823., 1817., 1761., 1845., 1782., 1866.,\n",
       "       1787., 1820., 1738., 1879., 1727., 1795., 1842.])"
      ]
     },
     "execution_count": 119,
     "metadata": {},
     "output_type": "execute_result"
    }
   ],
   "source": [
    "balanced_collat_classes_train"
   ]
  },
  {
   "cell_type": "markdown",
   "metadata": {},
   "source": [
    "# Saving augmented images"
   ]
  },
  {
   "cell_type": "code",
   "execution_count": 4,
   "metadata": {},
   "outputs": [
    {
     "data": {
      "text/plain": [
       "PosixPath('/home/ah19/live-time-monitoring/GTSRB/data/gtsrb_aug')"
      ]
     },
     "execution_count": 4,
     "metadata": {},
     "output_type": "execute_result"
    }
   ],
   "source": [
    "folder_path = gtsrb / 'data' / 'gtsrb_aug'\n",
    "folder_path.mkdir(exist_ok=True)\n",
    "folder_path"
   ]
  },
  {
   "cell_type": "code",
   "execution_count": 5,
   "metadata": {},
   "outputs": [
    {
     "data": {
      "text/plain": [
       "PosixPath('/home/ah19/live-time-monitoring/GTSRB/data/gtsrb_aug/trainingset')"
      ]
     },
     "execution_count": 5,
     "metadata": {},
     "output_type": "execute_result"
    }
   ],
   "source": [
    "trainfolder_path = folder_path / 'trainingset'\n",
    "trainfolder_path.mkdir(exist_ok=True)\n",
    "trainfolder_path"
   ]
  },
  {
   "cell_type": "code",
   "execution_count": 112,
   "metadata": {},
   "outputs": [],
   "source": [
    "range_num_classes = range(43)\n",
    "\n",
    "for i in range_num_classes:\n",
    "    (trainfolder_path / str(i)).mkdir(exist_ok=True)"
   ]
  },
  {
   "cell_type": "code",
   "execution_count": 122,
   "metadata": {},
   "outputs": [],
   "source": [
    "counter = {i: 0 for i in range_num_classes}"
   ]
  },
  {
   "cell_type": "code",
   "execution_count": 138,
   "metadata": {},
   "outputs": [
    {
     "data": {
      "text/html": [
       "\n",
       "<style>\n",
       "    /* Turns off some styling */\n",
       "    progress {\n",
       "        /* gets rid of default border in Firefox and Opera. */\n",
       "        border: none;\n",
       "        /* Needs to be in here for Safari polyfill so background images work as expected. */\n",
       "        background-size: auto;\n",
       "    }\n",
       "    progress:not([value]), progress:not([value])::-webkit-progress-bar {\n",
       "        background: repeating-linear-gradient(45deg, #7e7e7e, #7e7e7e 10px, #5c5c5c 10px, #5c5c5c 20px);\n",
       "    }\n",
       "    .progress-bar-interrupted, .progress-bar-interrupted::-webkit-progress-bar {\n",
       "        background: #F44336;\n",
       "    }\n",
       "</style>\n"
      ],
      "text/plain": [
       "<IPython.core.display.HTML object>"
      ]
     },
     "metadata": {},
     "output_type": "display_data"
    },
    {
     "data": {
      "text/html": [],
      "text/plain": [
       "<IPython.core.display.HTML object>"
      ]
     },
     "metadata": {},
     "output_type": "display_data"
    }
   ],
   "source": [
    "import csv\n",
    "\n",
    "f = trainfolder_path / 'training.csv'\n",
    "f.touch()\n",
    "mb = master_bar( range(len(train_dataloader)) )\n",
    "\n",
    "with f.open('w+', newline='') as ff:\n",
    "\n",
    "    writer = csv.writer(ff)\n",
    "    writer.writerow(['label', 'path'])\n",
    "\n",
    "    for _, (img, label) in zip(mb, train_dataloader):\n",
    "        for i, l in zip(img, label):\n",
    "            img_name = f\"{str(l.item()).zfill(2)}_{str(counter[l.item()]).zfill(4)}\"\n",
    "            T.ToPILImage()(i).save(trainfolder_path / str(l.item()) / f'{img_name}.ppm' )\n",
    "            writer.writerow([str(l.item()), f'{str(l.item())}/{img_name}.ppm'])\n",
    "\n",
    "            counter[l.item()] += 1"
   ]
  },
  {
   "cell_type": "code",
   "execution_count": 6,
   "metadata": {},
   "outputs": [],
   "source": [
    "f = trainfolder_path / 'training.csv'\n",
    "df_aug = pd.read_csv(f)"
   ]
  },
  {
   "cell_type": "code",
   "execution_count": 7,
   "metadata": {},
   "outputs": [
    {
     "data": {
      "text/html": [
       "<div>\n",
       "<style scoped>\n",
       "    .dataframe tbody tr th:only-of-type {\n",
       "        vertical-align: middle;\n",
       "    }\n",
       "\n",
       "    .dataframe tbody tr th {\n",
       "        vertical-align: top;\n",
       "    }\n",
       "\n",
       "    .dataframe thead th {\n",
       "        text-align: right;\n",
       "    }\n",
       "</style>\n",
       "<table border=\"1\" class=\"dataframe\">\n",
       "  <thead>\n",
       "    <tr style=\"text-align: right;\">\n",
       "      <th></th>\n",
       "      <th>label</th>\n",
       "      <th>path</th>\n",
       "    </tr>\n",
       "  </thead>\n",
       "  <tbody>\n",
       "    <tr>\n",
       "      <th>0</th>\n",
       "      <td>3</td>\n",
       "      <td>3/0000.ppm</td>\n",
       "    </tr>\n",
       "    <tr>\n",
       "      <th>1</th>\n",
       "      <td>39</td>\n",
       "      <td>39/0000.ppm</td>\n",
       "    </tr>\n",
       "    <tr>\n",
       "      <th>2</th>\n",
       "      <td>39</td>\n",
       "      <td>39/0001.ppm</td>\n",
       "    </tr>\n",
       "    <tr>\n",
       "      <th>3</th>\n",
       "      <td>33</td>\n",
       "      <td>33/0000.ppm</td>\n",
       "    </tr>\n",
       "    <tr>\n",
       "      <th>4</th>\n",
       "      <td>11</td>\n",
       "      <td>11/0000.ppm</td>\n",
       "    </tr>\n",
       "  </tbody>\n",
       "</table>\n",
       "</div>"
      ],
      "text/plain": [
       "   label         path\n",
       "0      3   3/0000.ppm\n",
       "1     39  39/0000.ppm\n",
       "2     39  39/0001.ppm\n",
       "3     33  33/0000.ppm\n",
       "4     11  11/0000.ppm"
      ]
     },
     "execution_count": 7,
     "metadata": {},
     "output_type": "execute_result"
    }
   ],
   "source": [
    "df_aug.head()"
   ]
  },
  {
   "cell_type": "code",
   "execution_count": 8,
   "metadata": {},
   "outputs": [
    {
     "data": {
      "text/plain": [
       "<AxesSubplot:>"
      ]
     },
     "execution_count": 8,
     "metadata": {},
     "output_type": "execute_result"
    },
    {
     "data": {
      "image/png": "[encoded data removed]",
      "text/plain": [
       "<Figure size 1008x432 with 1 Axes>"
      ]
     },
     "metadata": {
      "needs_background": "light"
     },
     "output_type": "display_data"
    }
   ],
   "source": [
    "df_aug.label.value_counts().sort_index().plot.bar()"
   ]
  }
 ],
 "metadata": {
  "accelerator": "GPU",
  "colab": {
   "provenance": []
  },
  "gpuClass": "standard",
  "kernelspec": {
   "display_name": "Python 3",
   "language": "python",
   "name": "python3"
  },
  "language_info": {
   "codemirror_mode": {
    "name": "ipython",
    "version": 3
   },
   "file_extension": ".py",
   "mimetype": "text/x-python",
   "name": "python",
   "nbconvert_exporter": "python",
   "pygments_lexer": "ipython3",
   "version": "3.6.8"
  }
 },
 "nbformat": 4,
 "nbformat_minor": 1
}
