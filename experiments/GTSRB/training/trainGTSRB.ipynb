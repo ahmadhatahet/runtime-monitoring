{
 "cells": [
  {
   "cell_type": "markdown",
   "metadata": {},
   "source": [
    "# Setup Variables"
   ]
  },
  {
   "cell_type": "code",
   "execution_count": 1,
   "metadata": {},
   "outputs": [],
   "source": [
    "REPO_PATH = '/home/ah19/runtime-monitoring'\n",
    "DATASET = 'GTSRB'\n",
    "PREFIX = 'TEMP'\n",
    "FILENAME_POSTFIX = f\"{DATASET}_{PREFIX}\"\n",
    "SEED = 42\n",
    "\n",
    "GPU_NAME = 'cuda:0'\n",
    "\n",
    "model_setup = {'last_hidden_neurons': 100, 'batchnorm': True, 'dropout': 0.0}\n",
    "\n",
    "model_config = {\n",
    "    'batch_size': 32,\n",
    "    'lr': 0.01,\n",
    "    'epochs': 10,\n",
    "    \"patience\": 3,\n",
    "    \"L2\": 0.001,\n",
    "    \"L1\": 0.001,\n",
    "    \n",
    "    \"accuracyThold\": 0.95,\n",
    "    \"lossThold\": 0.15,\n",
    "    \n",
    "    \"accuracyTrainThold\": 0.95,\n",
    "    \"lossTrainThold\": 0.10,\n",
    "    \n",
    "    \"accuracyTerminateThold\": 0.10,\n",
    "    \"lossTerminateThold\": 1.0,\n",
    "}"
   ]
  },
  {
   "cell_type": "markdown",
   "metadata": {},
   "source": [
    "# Libraries"
   ]
  },
  {
   "cell_type": "code",
   "execution_count": 2,
   "metadata": {
    "id": "FLmxFGnxg6ZG"
   },
   "outputs": [],
   "source": [
    "import matplotlib.pyplot as plt\n",
    "import numpy as np\n",
    "from pathlib import Path\n",
    "\n",
    "import torch\n",
    "import torch.nn as nn\n",
    "import torch.nn.functional as F\n",
    "from torchinfo import summary"
   ]
  },
  {
   "cell_type": "code",
   "execution_count": 3,
   "metadata": {},
   "outputs": [],
   "source": [
    "import sys\n",
    "sys.path.append(REPO_PATH + '/utilities')\n",
    "sys.path.append(f'{REPO_PATH}/{DATASET}/trainingModels')"
   ]
  },
  {
   "cell_type": "code",
   "execution_count": 4,
   "metadata": {},
   "outputs": [],
   "source": [
    "from utils import *\n",
    "from pathManager import fetchPaths\n",
    "from GTSRB_CNN import GTSRB_CNN"
   ]
  },
  {
   "cell_type": "markdown",
   "metadata": {
    "id": "h7eERD3yVH2H"
   },
   "source": [
    "# GPU Device & Seed"
   ]
  },
  {
   "cell_type": "code",
   "execution_count": 5,
   "metadata": {
    "id": "CS9DVaKDi_2C"
   },
   "outputs": [],
   "source": [
    "np.random.seed(SEED)\n",
    "torch.manual_seed(SEED)\n",
    "torch.cuda.manual_seed(SEED)"
   ]
  },
  {
   "cell_type": "code",
   "execution_count": 6,
   "metadata": {
    "colab": {
     "base_uri": "https://localhost:8080/"
    },
    "id": "5jRXv8RAhzqa",
    "outputId": "d8ccff46-cebe-4890-ab1c-5b498a395e64"
   },
   "outputs": [
    {
     "data": {
      "text/plain": [
       "'NVIDIA A100 80GB PCIe'"
      ]
     },
     "execution_count": 6,
     "metadata": {},
     "output_type": "execute_result"
    }
   ],
   "source": [
    "device = get_device(GPU_NAME)\n",
    "torch.cuda.get_device_name(device)"
   ]
  },
  {
   "cell_type": "markdown",
   "metadata": {},
   "source": [
    "# Paths"
   ]
  },
  {
   "cell_type": "code",
   "execution_count": 7,
   "metadata": {
    "scrolled": false
   },
   "outputs": [
    {
     "data": {
      "text/plain": [
       "(PosixPath('/home/ah19/runtime-monitoring/GTSRB'),\n",
       " PosixPath('/home/ah19/runtime-monitoring/GTSRB/savedModels/GTSRB_TEMP'))"
      ]
     },
     "execution_count": 7,
     "metadata": {},
     "output_type": "execute_result"
    }
   ],
   "source": [
    "base = Path(REPO_PATH)\n",
    "paths = fetchPaths(base, DATASET)\n",
    "\n",
    "path = paths[DATASET.lower()]\n",
    "path_dataset = paths['dataset']\n",
    "path_trainingModels = paths['trainingModels']\n",
    "path_lastHiddenLayer = paths['lastHiddenLayer']\n",
    "path_lastHiddenLayer_raw = paths['lastHiddenLayer_raw']\n",
    "path_savedModels = paths['savedModels']\n",
    "\n",
    "# save model and logs to dedicated directory\n",
    "path_savedModels = path_savedModels / FILENAME_POSTFIX\n",
    "# path_savedModels.mkdir() # raise error if model name was used previously\n",
    "\n",
    "path, path_savedModels"
   ]
  },
  {
   "cell_type": "markdown",
   "metadata": {
    "id": "h7eERD3yVH2H"
   },
   "source": [
    "# Load / Split / DataLoader"
   ]
  },
  {
   "cell_type": "code",
   "execution_count": 8,
   "metadata": {},
   "outputs": [
    {
     "data": {
      "text/plain": [
       "(77400, 12630)"
      ]
     },
     "execution_count": 8,
     "metadata": {},
     "output_type": "execute_result"
    }
   ],
   "source": [
    "feature_names = get_labels(DATASET)\n",
    "\n",
    "tf = T.Compose([\n",
    "    T.ToTensor(),\n",
    "    T.Resize((32, 32))\n",
    "])\n",
    "\n",
    "train_full = get_dataset(DATASET, path_dataset, train=True, transform=tf)\n",
    "test_data = get_dataset(DATASET, path_dataset, train=False, transform=tf)\n",
    "\n",
    "len(train_full), len(test_data)"
   ]
  },
  {
   "cell_type": "code",
   "execution_count": 9,
   "metadata": {
    "id": "hHu_RPxerSxf"
   },
   "outputs": [],
   "source": [
    "val_split = int( len(train_full) * 0.10 )\n",
    "train_split = len(train_full) - val_split\n",
    "train_data, val_data = split_data(train_full, [train_split, val_split], SEED)"
   ]
  },
  {
   "cell_type": "code",
   "execution_count": 10,
   "metadata": {
    "id": "94CFn70JlO-P"
   },
   "outputs": [],
   "source": [
    "train_dataloader = get_dataLoader(train_data, model_config['batch_size'], True)\n",
    "val_dataloader = get_dataLoader(val_data, model_config['batch_size'], False)\n",
    "test_dataloader = get_dataLoader(test_data, model_config['batch_size'], False)"
   ]
  },
  {
   "cell_type": "markdown",
   "metadata": {},
   "source": [
    "# Model"
   ]
  },
  {
   "cell_type": "code",
   "execution_count": 11,
   "metadata": {},
   "outputs": [],
   "source": [
    "# skip classes\n",
    "skip_classes = None\n",
    "map_classes = None\n",
    "\n",
    "# skip_classes = set()\n",
    "# map_classes = {*feature_names.values()} - skip_classes\n",
    "# map_classes = { v:k for k,v in enumerate(map_classes) }\n",
    "\n",
    "# add to model_config\n",
    "# model_config['num_classes'] = len(map_classes)\n",
    "# model_config['map_classes'] = map_classes\n",
    "# model_config['skip_classes'] = skip_classes"
   ]
  },
  {
   "cell_type": "code",
   "execution_count": 12,
   "metadata": {
    "colab": {
     "base_uri": "https://localhost:8080/"
    },
    "id": "rreGzn6UjaJK",
    "outputId": "8addd560-e9b7-4614-ee45-1789bf19f285"
   },
   "outputs": [
    {
     "data": {
      "text/plain": [
       "==========================================================================================\n",
       "Layer (type:depth-idx)                   Output Shape              Param #\n",
       "==========================================================================================\n",
       "GTSRB_CNN                                --                        --\n",
       "├─BatchNorm2d: 1-1                       [1, 3, 32, 32]            6\n",
       "├─Conv2d: 1-2                            [1, 128, 28, 28]          9,600\n",
       "├─BatchNorm2d: 1-3                       [1, 128, 28, 28]          256\n",
       "├─ReLU: 1-4                              [1, 128, 28, 28]          --\n",
       "├─MaxPool2d: 1-5                         [1, 128, 14, 14]          --\n",
       "├─Conv2d: 1-6                            [1, 128, 12, 12]          147,456\n",
       "├─BatchNorm2d: 1-7                       [1, 128, 12, 12]          256\n",
       "├─ReLU: 1-8                              [1, 128, 12, 12]          --\n",
       "├─MaxPool2d: 1-9                         [1, 128, 6, 6]            --\n",
       "├─Conv2d: 1-10                           [1, 64, 5, 5]             32,768\n",
       "├─BatchNorm2d: 1-11                      [1, 64, 5, 5]             128\n",
       "├─ReLU: 1-12                             [1, 64, 5, 5]             --\n",
       "├─Conv2d: 1-13                           [1, 64, 4, 4]             16,384\n",
       "├─BatchNorm2d: 1-14                      [1, 64, 4, 4]             128\n",
       "├─ReLU: 1-15                             [1, 64, 4, 4]             --\n",
       "├─Flatten: 1-16                          [1, 1024]                 --\n",
       "├─Linear: 1-17                           [1, 100]                  102,400\n",
       "├─BatchNorm1d: 1-18                      [1, 100]                  200\n",
       "├─ReLU: 1-19                             [1, 100]                  --\n",
       "├─Linear: 1-20                           [1, 43]                   4,300\n",
       "==========================================================================================\n",
       "Total params: 313,882\n",
       "Trainable params: 313,882\n",
       "Non-trainable params: 0\n",
       "Total mult-adds (M): 29.95\n",
       "==========================================================================================\n",
       "Input size (MB): 0.01\n",
       "Forward/backward pass size (MB): 1.97\n",
       "Params size (MB): 1.26\n",
       "Estimated Total Size (MB): 3.24\n",
       "=========================================================================================="
      ]
     },
     "execution_count": 12,
     "metadata": {},
     "output_type": "execute_result"
    }
   ],
   "source": [
    "# model\n",
    "model = GTSRB_CNN(**model_setup)\n",
    "model.to(device)\n",
    "\n",
    "summary(model, (1, 3, 32, 32))"
   ]
  },
  {
   "cell_type": "code",
   "execution_count": 13,
   "metadata": {
    "id": "T0pUWI8C-RGk"
   },
   "outputs": [],
   "source": [
    "# initiate log files\n",
    "\n",
    "modelFile = path_savedModels / f\"{FILENAME_POSTFIX}_model.txt\"\n",
    "epochFile = path_savedModels / f\"{FILENAME_POSTFIX}_epoch.txt\"\n",
    "\n",
    "modelFile.touch()\n",
    "epochFile.touch()\n",
    "\n",
    "modelWriter, epochWriter = start_wrtier(modelFile, epochFile)"
   ]
  },
  {
   "cell_type": "code",
   "execution_count": 14,
   "metadata": {
    "id": "K5ScFB620DCh",
    "scrolled": false
   },
   "outputs": [
    {
     "data": {
      "text/html": [
       "\n",
       "<style>\n",
       "    /* Turns off some styling */\n",
       "    progress {\n",
       "        /* gets rid of default border in Firefox and Opera. */\n",
       "        border: none;\n",
       "        /* Needs to be in here for Safari polyfill so background images work as expected. */\n",
       "        background-size: auto;\n",
       "    }\n",
       "    progress:not([value]), progress:not([value])::-webkit-progress-bar {\n",
       "        background: repeating-linear-gradient(45deg, #7e7e7e, #7e7e7e 10px, #5c5c5c 10px, #5c5c5c 20px);\n",
       "    }\n",
       "    .progress-bar-interrupted, .progress-bar-interrupted::-webkit-progress-bar {\n",
       "        background: #F44336;\n",
       "    }\n",
       "</style>\n"
      ],
      "text/plain": [
       "<IPython.core.display.HTML object>"
      ]
     },
     "metadata": {},
     "output_type": "display_data"
    },
    {
     "data": {
      "text/html": [
       "\n",
       "    <div>\n",
       "      <progress value='5' class='' max='10' style='width:300px; height:20px; vertical-align: middle;'></progress>\n",
       "      50.00% [5/10 01:53&lt;01:53 Epochs]\n",
       "    </div>\n",
       "    \n",
       "<pre>        Loss         |       Accuracy      </pre><p><pre>Train     Validation | Train     Validation</pre><p><pre>0.548     0.390      | 0.861     0.919     </pre><p><pre>0.231     0.312      | 0.939     0.935     </pre><p><pre>0.169     0.270      | 0.954     0.945     </pre><p><pre>0.170     0.183      | 0.952     0.949     </pre><p><pre>0.114     0.123      | 0.970     0.969     </pre><p>\n",
       "\n",
       "    <div>\n",
       "      <progress value='188' class='' max='188' style='width:300px; height:20px; vertical-align: middle;'></progress>\n",
       "      100.00% [188/188 00:01&lt;00:00 Validating]\n",
       "    </div>\n",
       "    "
      ],
      "text/plain": [
       "<IPython.core.display.HTML object>"
      ]
     },
     "metadata": {},
     "output_type": "display_data"
    },
    {
     "data": {
      "text/html": [
       "\n",
       "<style>\n",
       "    /* Turns off some styling */\n",
       "    progress {\n",
       "        /* gets rid of default border in Firefox and Opera. */\n",
       "        border: none;\n",
       "        /* Needs to be in here for Safari polyfill so background images work as expected. */\n",
       "        background-size: auto;\n",
       "    }\n",
       "    progress:not([value]), progress:not([value])::-webkit-progress-bar {\n",
       "        background: repeating-linear-gradient(45deg, #7e7e7e, #7e7e7e 10px, #5c5c5c 10px, #5c5c5c 20px);\n",
       "    }\n",
       "    .progress-bar-interrupted, .progress-bar-interrupted::-webkit-progress-bar {\n",
       "        background: #F44336;\n",
       "    }\n",
       "</style>\n"
      ],
      "text/plain": [
       "<IPython.core.display.HTML object>"
      ]
     },
     "metadata": {},
     "output_type": "display_data"
    },
    {
     "data": {
      "text/html": [
       "\n",
       "    <div>\n",
       "      <progress value='313' class='' max='313' style='width:300px; height:20px; vertical-align: middle;'></progress>\n",
       "      100.00% [313/313 00:02&lt;00:00]\n",
       "    </div>\n",
       "    "
      ],
      "text/plain": [
       "<IPython.core.display.HTML object>"
      ]
     },
     "metadata": {},
     "output_type": "display_data"
    },
    {
     "data": {
      "text/html": [
       "\n",
       "<style>\n",
       "    /* Turns off some styling */\n",
       "    progress {\n",
       "        /* gets rid of default border in Firefox and Opera. */\n",
       "        border: none;\n",
       "        /* Needs to be in here for Safari polyfill so background images work as expected. */\n",
       "        background-size: auto;\n",
       "    }\n",
       "    progress:not([value]), progress:not([value])::-webkit-progress-bar {\n",
       "        background: repeating-linear-gradient(45deg, #7e7e7e, #7e7e7e 10px, #5c5c5c 10px, #5c5c5c 20px);\n",
       "    }\n",
       "    .progress-bar-interrupted, .progress-bar-interrupted::-webkit-progress-bar {\n",
       "        background: #F44336;\n",
       "    }\n",
       "</style>\n"
      ],
      "text/plain": [
       "<IPython.core.display.HTML object>"
      ]
     },
     "metadata": {},
     "output_type": "display_data"
    },
    {
     "data": {
      "text/html": [
       "\n",
       "    <div>\n",
       "      <progress value='313' class='' max='313' style='width:300px; height:20px; vertical-align: middle;'></progress>\n",
       "      100.00% [313/313 00:02&lt;00:00]\n",
       "    </div>\n",
       "    "
      ],
      "text/plain": [
       "<IPython.core.display.HTML object>"
      ]
     },
     "metadata": {},
     "output_type": "display_data"
    },
    {
     "data": {
      "image/png": "[encoded data removed]",
      "text/plain": [
       "<Figure size 176.4x288 with 1 Axes>"
      ]
     },
     "metadata": {},
     "output_type": "display_data"
    },
    {
     "data": {
      "image/png": "[encoded data removed]",
      "text/plain": [
       "<Figure size 176.4x288 with 1 Axes>"
      ]
     },
     "metadata": {},
     "output_type": "display_data"
    }
   ],
   "source": [
    "# cost function\n",
    "loss_function = nn.CrossEntropyLoss()\n",
    "\n",
    "# optimizer\n",
    "optimizer = torch.optim.SGD(model.parameters(), lr=model_config['lr'])\n",
    "# optimizer = torch.optim.Adam(model.parameters(), lr=model_config['lr'])\n",
    "\n",
    "# LR Scheduler\n",
    "# lr_scheduler = torch.optim.lr_scheduler.ReduceLROnPlateau(\n",
    "#     optimizer, patience=model_config['patience'], mode='min',\n",
    "#     factor=1e-1, min_lr=1e-4, verbose=True)\n",
    "lr_scheduler = torch.optim.lr_scheduler.StepLR(optimizer, gamma=0.1, step_size=4 )\n",
    "# lr_scheduler = None\n",
    "\n",
    "# run_training_testing arguments\n",
    "kwargs = {\n",
    "    'model': model,\n",
    "    'loss_function': loss_function,\n",
    "    'optimizer': optimizer,\n",
    "    'lr_scheduler': lr_scheduler,\n",
    "    'map_classes': map_classes,\n",
    "    'skip_classes': skip_classes,\n",
    "    'device': device,\n",
    "    'model_path': path_savedModels / f\"{DATASET}_{PREFIX}.pth.tar\",\n",
    "    'train_dataloader': train_dataloader,\n",
    "    'val_dataloader': val_dataloader,\n",
    "    'test_dataloader': test_dataloader,\n",
    "    'config': model_config,\n",
    "    'model_file': modelWriter,\n",
    "    'epoch_file': epochWriter\n",
    "}\n",
    "\n",
    "# train\n",
    "train_losses, val_losses, train_accs, val_accs, test_loss, test_acc, confusion_matrix_test, best_model_name = run_training_testing(**kwargs)"
   ]
  },
  {
   "cell_type": "code",
   "execution_count": 15,
   "metadata": {},
   "outputs": [],
   "source": [
    "# close log files\n",
    "close_wrtier(modelFile, epochFile, modelWriter, epochWriter)"
   ]
  },
  {
   "cell_type": "markdown",
   "metadata": {
    "id": "LcwvG36f9Ov-"
   },
   "source": [
    "# Exporting last hidden layer data"
   ]
  },
  {
   "cell_type": "code",
   "execution_count": 21,
   "metadata": {},
   "outputs": [],
   "source": [
    "# create empty model\n",
    "model = MNIST_Model(**model_setup)\n",
    "model.to(device)\n",
    "\n",
    "# load model\n",
    "# model_file_name = f'{DATASET}_{PREFIX}-test_acc-{round(test_acc,3)}-test_loss-{round(test_loss,3)}.pth.tar'\n",
    "model_file_name = 'MNIST_Elastic32-test_acc-0.971-test_loss-0.123.pth.tar'\n",
    "saved_model_path = path_savedModels / model_file_name\n",
    "load_checkpoint(model, None, None, saved_model_path)"
   ]
  },
  {
   "cell_type": "code",
   "execution_count": 22,
   "metadata": {
    "colab": {
     "base_uri": "https://localhost:8080/",
     "height": 77
    },
    "id": "oqVyeo1s9ScA",
    "outputId": "bb6353f2-8b8b-494a-e5d1-3f69f2421825"
   },
   "outputs": [
    {
     "data": {
      "text/html": [
       "\n",
       "<style>\n",
       "    /* Turns off some styling */\n",
       "    progress {\n",
       "        /* gets rid of default border in Firefox and Opera. */\n",
       "        border: none;\n",
       "        /* Needs to be in here for Safari polyfill so background images work as expected. */\n",
       "        background-size: auto;\n",
       "    }\n",
       "    progress:not([value]), progress:not([value])::-webkit-progress-bar {\n",
       "        background: repeating-linear-gradient(45deg, #7e7e7e, #7e7e7e 10px, #5c5c5c 10px, #5c5c5c 20px);\n",
       "    }\n",
       "    .progress-bar-interrupted, .progress-bar-interrupted::-webkit-progress-bar {\n",
       "        background: #F44336;\n",
       "    }\n",
       "</style>\n"
      ],
      "text/plain": [
       "<IPython.core.display.HTML object>"
      ]
     },
     "metadata": {},
     "output_type": "display_data"
    },
    {
     "data": {
      "text/html": [
       "\n",
       "    <div>\n",
       "      <progress value='1688' class='' max='1688' style='width:300px; height:20px; vertical-align: middle;'></progress>\n",
       "      100.00% [1688/1688 00:32&lt;00:00]\n",
       "    </div>\n",
       "    "
      ],
      "text/plain": [
       "<IPython.core.display.HTML object>"
      ]
     },
     "metadata": {},
     "output_type": "display_data"
    },
    {
     "data": {
      "text/html": [
       "\n",
       "<style>\n",
       "    /* Turns off some styling */\n",
       "    progress {\n",
       "        /* gets rid of default border in Firefox and Opera. */\n",
       "        border: none;\n",
       "        /* Needs to be in here for Safari polyfill so background images work as expected. */\n",
       "        background-size: auto;\n",
       "    }\n",
       "    progress:not([value]), progress:not([value])::-webkit-progress-bar {\n",
       "        background: repeating-linear-gradient(45deg, #7e7e7e, #7e7e7e 10px, #5c5c5c 10px, #5c5c5c 20px);\n",
       "    }\n",
       "    .progress-bar-interrupted, .progress-bar-interrupted::-webkit-progress-bar {\n",
       "        background: #F44336;\n",
       "    }\n",
       "</style>\n"
      ],
      "text/plain": [
       "<IPython.core.display.HTML object>"
      ]
     },
     "metadata": {},
     "output_type": "display_data"
    },
    {
     "data": {
      "text/html": [
       "\n",
       "    <div>\n",
       "      <progress value='188' class='' max='188' style='width:300px; height:20px; vertical-align: middle;'></progress>\n",
       "      100.00% [188/188 00:05&lt;00:00]\n",
       "    </div>\n",
       "    "
      ],
      "text/plain": [
       "<IPython.core.display.HTML object>"
      ]
     },
     "metadata": {},
     "output_type": "display_data"
    },
    {
     "data": {
      "text/html": [
       "\n",
       "<style>\n",
       "    /* Turns off some styling */\n",
       "    progress {\n",
       "        /* gets rid of default border in Firefox and Opera. */\n",
       "        border: none;\n",
       "        /* Needs to be in here for Safari polyfill so background images work as expected. */\n",
       "        background-size: auto;\n",
       "    }\n",
       "    progress:not([value]), progress:not([value])::-webkit-progress-bar {\n",
       "        background: repeating-linear-gradient(45deg, #7e7e7e, #7e7e7e 10px, #5c5c5c 10px, #5c5c5c 20px);\n",
       "    }\n",
       "    .progress-bar-interrupted, .progress-bar-interrupted::-webkit-progress-bar {\n",
       "        background: #F44336;\n",
       "    }\n",
       "</style>\n"
      ],
      "text/plain": [
       "<IPython.core.display.HTML object>"
      ]
     },
     "metadata": {},
     "output_type": "display_data"
    },
    {
     "data": {
      "text/html": [
       "\n",
       "    <div>\n",
       "      <progress value='313' class='' max='313' style='width:300px; height:20px; vertical-align: middle;'></progress>\n",
       "      100.00% [313/313 00:05&lt;00:00]\n",
       "    </div>\n",
       "    "
      ],
      "text/plain": [
       "<IPython.core.display.HTML object>"
      ]
     },
     "metadata": {},
     "output_type": "display_data"
    }
   ],
   "source": [
    "# export last hidden layer for each data loader\n",
    "\n",
    "for loader, stage in [\n",
    "    (train_dataloader, 'train'),\n",
    "    (val_dataloader, 'val'),\n",
    "    (test_dataloader, 'test'),\n",
    "]:\n",
    "    get_last_hidden_layer(loader, model, device, model.last_hidden_neurons,\n",
    "                          map_classes, path_lastHiddenLayer_raw, FILENAME_POSTFIX, stage)"
   ]
  },
  {
   "cell_type": "markdown",
   "metadata": {},
   "source": [
    "# Confusion Matrix"
   ]
  },
  {
   "cell_type": "code",
   "execution_count": 18,
   "metadata": {},
   "outputs": [],
   "source": [
    "save_confusion_matrix(confusion_matrix_test, path_savedModels, FILENAME_POSTFIX, 'test')"
   ]
  },
  {
   "cell_type": "code",
   "execution_count": 19,
   "metadata": {
    "scrolled": false
   },
   "outputs": [
    {
     "data": {
      "image/png": "[encoded data removed]",
      "text/plain": [
       "<Figure size 972x864 with 2 Axes>"
      ]
     },
     "metadata": {},
     "output_type": "display_data"
    }
   ],
   "source": [
    "confusion_matrix_test_norm = normalize_confusion_matrix(confusion_matrix_test)\n",
    "fig, ax = plot_confusion_matrix( confusion_matrix_test_norm, map_classes=map_classes, fmt='.2f')"
   ]
  },
  {
   "cell_type": "code",
   "execution_count": null,
   "metadata": {},
   "outputs": [],
   "source": []
  }
 ],
 "metadata": {
  "accelerator": "GPU",
  "colab": {
   "collapsed_sections": [
    "mcDeYOA8d1wL"
   ],
   "provenance": []
  },
  "gpuClass": "standard",
  "kernelspec": {
   "display_name": "Python 3 (ipykernel)",
   "language": "python",
   "name": "python3"
  },
  "language_info": {
   "codemirror_mode": {
    "name": "ipython",
    "version": 3
   },
   "file_extension": ".py",
   "mimetype": "text/x-python",
   "name": "python",
   "nbconvert_exporter": "python",
   "pygments_lexer": "ipython3",
   "version": "3.10.11"
  },
  "vscode": {
   "interpreter": {
    "hash": "2b89e4666a1b1f5f90ada5928a1b04d9ad859bf674b23c56e0417352230a6456"
   }
  }
 },
 "nbformat": 4,
 "nbformat_minor": 1
}
