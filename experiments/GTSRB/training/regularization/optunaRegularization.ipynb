{
 "cells": [
  {
   "cell_type": "code",
   "execution_count": 1,
   "id": "955e3871",
   "metadata": {},
   "outputs": [],
   "source": [
    "from pathlib import Path\n",
    "import optuna\n",
    "from optuna.trial import TrialState\n",
    "\n",
    "import torch\n",
    "import torch.nn as nn\n",
    "from torchvision import datasets\n",
    "from torchvision import transforms as T"
   ]
  },
  {
   "cell_type": "code",
   "execution_count": 2,
   "id": "1c4eda8d",
   "metadata": {},
   "outputs": [],
   "source": [
    "REPO_PATH = '/home/ah19/runtime-monitoring'\n",
    "DATASET = 'MNIST'\n",
    "PREFIX = 'Regularization'\n",
    "FILENAME_POSTFIX = f\"{DATASET}_{PREFIX}\"\n",
    "SEED = 42"
   ]
  },
  {
   "cell_type": "code",
   "execution_count": 3,
   "id": "576a71dc",
   "metadata": {},
   "outputs": [],
   "source": [
    "DEVICE = torch.device(\"cuda:0\")\n",
    "EPOCHS = 5\n",
    "LIMIT_TRAIN_DATA = 0.2\n",
    "LIMIT_TEST_DATA = 0.05\n",
    "TIMOUT_MINUTES = 10\n",
    "NUM_TRIALS = 25"
   ]
  },
  {
   "cell_type": "code",
   "execution_count": 4,
   "id": "86695396",
   "metadata": {},
   "outputs": [],
   "source": [
    "import sys\n",
    "sys.path.append(REPO_PATH + '/utilities')\n",
    "sys.path.append(f'{REPO_PATH}/{DATASET}/trainingModels')"
   ]
  },
  {
   "cell_type": "code",
   "execution_count": 5,
   "id": "368d2da0",
   "metadata": {},
   "outputs": [],
   "source": [
    "from utils import *\n",
    "from plotFunctions import *\n",
    "from pathManager import fetchPaths\n",
    "from MNIST_Model import MNIST_Model\n",
    "\n",
    "model_ = MNIST_Model"
   ]
  },
  {
   "cell_type": "code",
   "execution_count": 6,
   "id": "e89574d0",
   "metadata": {},
   "outputs": [
    {
     "data": {
      "text/plain": [
       "PosixPath('/home/ah19/runtime-monitoring/MNIST')"
      ]
     },
     "execution_count": 6,
     "metadata": {},
     "output_type": "execute_result"
    }
   ],
   "source": [
    "base = Path(REPO_PATH)\n",
    "paths = fetchPaths(base, DATASET)\n",
    "\n",
    "path = paths[DATASET.lower()]\n",
    "path_dataset = paths['dataset']\n",
    "path_trainingModels = paths['trainingModels']\n",
    "path_trainingModels_regularization = paths['trainingModels_regularization']\n",
    "\n",
    "path"
   ]
  },
  {
   "cell_type": "code",
   "execution_count": 7,
   "id": "d2922769",
   "metadata": {},
   "outputs": [
    {
     "data": {
      "text/plain": [
       "(12000, 500)"
      ]
     },
     "execution_count": 7,
     "metadata": {},
     "output_type": "execute_result"
    }
   ],
   "source": [
    "feature_names = get_labels(DATASET)\n",
    "\n",
    "tf_train = T.Compose([\n",
    "    T.ToTensor(),\n",
    "#     T.RandomHorizontalFlip(),\n",
    "    T.Normalize((0.1307), (0.3015))\n",
    "])\n",
    "\n",
    "\n",
    "tf_test = T.Compose([\n",
    "    T.ToTensor(),\n",
    "    T.Normalize((0.1307), (0.3015))\n",
    "])\n",
    "\n",
    "train_data = get_dataset(DATASET, path_dataset, train=True, transform=tf_train)\n",
    "test_data = get_dataset(DATASET, path_dataset, train=False, transform=tf_test)\n",
    "\n",
    "train_split = int( len(train_data) * LIMIT_TRAIN_DATA )\n",
    "test_split = int( len(test_data) * LIMIT_TEST_DATA )\n",
    "\n",
    "train_data, _ = split_data(train_data, [train_split, len(train_data) - train_split], SEED)\n",
    "test_data, _ = split_data(test_data, [test_split, len(test_data) - test_split], SEED)\n",
    "\n",
    "len(train_data), len(test_data)"
   ]
  },
  {
   "cell_type": "code",
   "execution_count": 8,
   "id": "b16735ed",
   "metadata": {},
   "outputs": [],
   "source": [
    "def define_model(trial):\n",
    "    \n",
    "    # dropout\n",
    "    dropout = trial.suggest_float(\"dropout\", 0.0, 0.5, step=0.1)\n",
    "    \n",
    "    # model\n",
    "    model = model_(dropout=dropout, first_layer_norm=False)\n",
    "    \n",
    "    return model"
   ]
  },
  {
   "cell_type": "code",
   "execution_count": 9,
   "id": "bb12d5de",
   "metadata": {},
   "outputs": [],
   "source": [
    "def get_mnist(trial):\n",
    "    batchsize = trial.suggest_categorical(\"batchsize\", [32, 64, 128, 256])\n",
    "    \n",
    "    trainloader = get_dataLoader(train_data, batchsize, True)\n",
    "    testloader = get_dataLoader(test_data, batchsize, False)\n",
    "\n",
    "    return trainloader, testloader, batchsize"
   ]
  },
  {
   "cell_type": "code",
   "execution_count": 17,
   "id": "f8a4cc22",
   "metadata": {},
   "outputs": [],
   "source": [
    "def objective(trial):\n",
    "    # Generate the model.\n",
    "    model = define_model(trial).to(DEVICE)\n",
    "\n",
    "    # Generate the optimizers.\n",
    "    optimizer_name = trial.suggest_categorical(\"optimizer\", [\"Adam\", \"SGD\"])\n",
    "    lr = trial.suggest_float(\"lr\", 1e-4, 1e-1)\n",
    "    optimizer = getattr(torch.optim, optimizer_name)(model.parameters(), lr=lr)\n",
    "\n",
    "    # Get the FashionMNIST dataset.\n",
    "    trainloader, testloader, batchsize = get_mnist(trial)\n",
    "    \n",
    "    # loss function\n",
    "    loss_function = nn.CrossEntropyLoss()\n",
    "    \n",
    "    # regularization\n",
    "    l2_ = trial.suggest_float(\"L2\", 0.0, 0.1, step=0.001)\n",
    "    l1_ = trial.suggest_float(\"L1\", 0.0, 0.1, step=0.001)\n",
    "\n",
    "    \n",
    "    # Training of the model.\n",
    "    for epoch in range(EPOCHS):\n",
    "        model.train()\n",
    "        for batch_idx, (data, target) in enumerate(trainloader):\n",
    "\n",
    "            data, target = data.to(DEVICE), target.to(DEVICE)\n",
    "\n",
    "            optimizer.zero_grad()\n",
    "            output = model(data)\n",
    "            \n",
    "            # regularization\n",
    "            l2_loss = model._l2_regularization(l2_)\n",
    "            l1_loss = model._l1_regularization(l1_)\n",
    "            \n",
    "            # calc loss\n",
    "            loss = loss_function(output, target) + l1_loss + l2_loss\n",
    "            loss.backward()\n",
    "            optimizer.step()\n",
    "\n",
    "        # Validation of the model.\n",
    "        model.eval()\n",
    "        losses = []\n",
    "        correct = 0\n",
    "        with torch.no_grad():\n",
    "            for batch_idx, (data, target) in enumerate(testloader):\n",
    "                \n",
    "                data, target = data.to(DEVICE), target.to(DEVICE)\n",
    "                output = model(data)\n",
    "                \n",
    "                loss = loss_function(output, target)\n",
    "                losses.append(loss.item())\n",
    "                \n",
    "                # Get the index of the max log-probability.\n",
    "                correct += sum(target.to(DEVICE) == output.argmax(dim=1))\n",
    "\n",
    "        accuracy = correct / len(testloader.dataset)\n",
    "\n",
    "#         Handle pruning based on the intermediate value.\n",
    "        if trial.should_prune():\n",
    "            raise optuna.exceptions.TrialPruned()\n",
    "\n",
    "    return accuracy"
   ]
  },
  {
   "cell_type": "code",
   "execution_count": 18,
   "id": "0fc3af09",
   "metadata": {
    "scrolled": false
   },
   "outputs": [
    {
     "name": "stderr",
     "output_type": "stream",
     "text": [
      "\u001b[32m[I 2023-04-10 02:59:13,969]\u001b[0m A new study created in memory with name: no-name-31727b6d-12eb-41c5-afe7-50aa0f4264fb\u001b[0m\n",
      "\u001b[32m[I 2023-04-10 02:59:32,360]\u001b[0m Trial 0 finished with value: 0.10200000554323196 and parameters: {'dropout': 0.2, 'optimizer': 'Adam', 'lr': 0.05990598257128396, 'batchsize': 256, 'L2': 0.06, 'L1': 0.07100000000000001}. Best is trial 0 with value: 0.10200000554323196.\u001b[0m\n",
      "\u001b[32m[I 2023-04-10 02:59:49,697]\u001b[0m Trial 1 finished with value: 0.30000001192092896 and parameters: {'dropout': 0.0, 'optimizer': 'Adam', 'lr': 0.021312677156759788, 'batchsize': 256, 'L2': 0.043000000000000003, 'L1': 0.029}. Best is trial 1 with value: 0.30000001192092896.\u001b[0m\n",
      "\u001b[32m[I 2023-04-10 03:00:11,172]\u001b[0m Trial 2 finished with value: 0.7280000448226929 and parameters: {'dropout': 0.30000000000000004, 'optimizer': 'SGD', 'lr': 0.036699548145039805, 'batchsize': 64, 'L2': 0.059000000000000004, 'L1': 0.004}. Best is trial 2 with value: 0.7280000448226929.\u001b[0m\n",
      "\u001b[32m[I 2023-04-10 03:00:43,477]\u001b[0m Trial 3 finished with value: 0.09600000083446503 and parameters: {'dropout': 0.30000000000000004, 'optimizer': 'Adam', 'lr': 0.094893665171608, 'batchsize': 32, 'L2': 0.069, 'L1': 0.044}. Best is trial 2 with value: 0.7280000448226929.\u001b[0m\n",
      "\u001b[32m[I 2023-04-10 03:01:07,242]\u001b[0m Trial 4 finished with value: 0.10400000214576721 and parameters: {'dropout': 0.0, 'optimizer': 'Adam', 'lr': 0.09094110816767033, 'batchsize': 64, 'L2': 0.055, 'L1': 0.018000000000000002}. Best is trial 2 with value: 0.7280000448226929.\u001b[0m\n",
      "\u001b[32m[I 2023-04-10 03:01:27,587]\u001b[0m Trial 5 finished with value: 0.09600000083446503 and parameters: {'dropout': 0.5, 'optimizer': 'SGD', 'lr': 0.08949325230772212, 'batchsize': 64, 'L2': 0.004, 'L1': 0.032}. Best is trial 2 with value: 0.7280000448226929.\u001b[0m\n",
      "\u001b[32m[I 2023-04-10 03:01:41,681]\u001b[0m Trial 6 finished with value: 0.12400000542402267 and parameters: {'dropout': 0.2, 'optimizer': 'SGD', 'lr': 0.03573965733668957, 'batchsize': 256, 'L2': 0.007, 'L1': 0.099}. Best is trial 2 with value: 0.7280000448226929.\u001b[0m\n",
      "\u001b[32m[I 2023-04-10 03:02:02,331]\u001b[0m Trial 7 finished with value: 0.0820000022649765 and parameters: {'dropout': 0.4, 'optimizer': 'Adam', 'lr': 0.08156459670263794, 'batchsize': 128, 'L2': 0.036000000000000004, 'L1': 0.011}. Best is trial 2 with value: 0.7280000448226929.\u001b[0m\n",
      "\u001b[32m[I 2023-04-10 03:02:21,896]\u001b[0m Trial 8 finished with value: 0.11000000685453415 and parameters: {'dropout': 0.5, 'optimizer': 'Adam', 'lr': 0.006449479193573761, 'batchsize': 128, 'L2': 0.089, 'L1': 0.047}. Best is trial 2 with value: 0.7280000448226929.\u001b[0m\n",
      "\u001b[32m[I 2023-04-10 03:02:49,315]\u001b[0m Trial 9 finished with value: 0.9080000519752502 and parameters: {'dropout': 0.0, 'optimizer': 'SGD', 'lr': 0.05617159203719268, 'batchsize': 32, 'L2': 0.002, 'L1': 0.01}. Best is trial 9 with value: 0.9080000519752502.\u001b[0m\n",
      "\u001b[32m[I 2023-04-10 03:03:19,270]\u001b[0m Trial 10 finished with value: 0.08000000566244125 and parameters: {'dropout': 0.1, 'optimizer': 'SGD', 'lr': 0.06964216855549628, 'batchsize': 32, 'L2': 0.027, 'L1': 0.069}. Best is trial 9 with value: 0.9080000519752502.\u001b[0m\n",
      "\u001b[32m[I 2023-04-10 03:03:48,873]\u001b[0m Trial 11 finished with value: 0.9200000166893005 and parameters: {'dropout': 0.30000000000000004, 'optimizer': 'SGD', 'lr': 0.04237551094419184, 'batchsize': 32, 'L2': 0.078, 'L1': 0.0}. Best is trial 11 with value: 0.9200000166893005.\u001b[0m\n",
      "\u001b[32m[I 2023-04-10 03:04:15,647]\u001b[0m Trial 12 finished with value: 0.6840000152587891 and parameters: {'dropout': 0.1, 'optimizer': 'SGD', 'lr': 0.047324129265129085, 'batchsize': 32, 'L2': 0.099, 'L1': 0.0}. Best is trial 11 with value: 0.9200000166893005.\u001b[0m\n",
      "\u001b[32m[I 2023-04-10 03:04:48,394]\u001b[0m Trial 13 finished with value: 0.0820000022649765 and parameters: {'dropout': 0.4, 'optimizer': 'SGD', 'lr': 0.057806202340310926, 'batchsize': 32, 'L2': 0.078, 'L1': 0.021}. Best is trial 11 with value: 0.9200000166893005.\u001b[0m\n",
      "\u001b[32m[I 2023-04-10 03:05:16,009]\u001b[0m Trial 14 finished with value: 0.984000027179718 and parameters: {'dropout': 0.1, 'optimizer': 'SGD', 'lr': 0.038678762298957156, 'batchsize': 32, 'L2': 0.019, 'L1': 0.0}. Best is trial 14 with value: 0.984000027179718.\u001b[0m\n",
      "\u001b[32m[I 2023-04-10 03:05:45,783]\u001b[0m Trial 15 finished with value: 0.11000000685453415 and parameters: {'dropout': 0.1, 'optimizer': 'SGD', 'lr': 0.023923524612412102, 'batchsize': 32, 'L2': 0.024, 'L1': 0.065}. Best is trial 14 with value: 0.984000027179718.\u001b[0m\n",
      "\u001b[32m[I 2023-04-10 03:06:15,234]\u001b[0m Trial 16 finished with value: 0.6140000224113464 and parameters: {'dropout': 0.2, 'optimizer': 'SGD', 'lr': 0.006875476095634284, 'batchsize': 32, 'L2': 0.019, 'L1': 0.029}. Best is trial 14 with value: 0.984000027179718.\u001b[0m\n",
      "\u001b[32m[I 2023-04-10 03:06:41,946]\u001b[0m Trial 17 finished with value: 0.10200000554323196 and parameters: {'dropout': 0.30000000000000004, 'optimizer': 'SGD', 'lr': 0.04277219390065566, 'batchsize': 32, 'L2': 0.079, 'L1': 0.097}. Best is trial 14 with value: 0.984000027179718.\u001b[0m\n",
      "\u001b[32m[I 2023-04-10 03:07:02,294]\u001b[0m Trial 18 finished with value: 0.10200000554323196 and parameters: {'dropout': 0.4, 'optimizer': 'SGD', 'lr': 0.026763684832347735, 'batchsize': 128, 'L2': 0.042, 'L1': 0.058}. Best is trial 14 with value: 0.984000027179718.\u001b[0m\n",
      "\u001b[32m[I 2023-04-10 03:07:33,683]\u001b[0m Trial 19 finished with value: 0.09600000083446503 and parameters: {'dropout': 0.1, 'optimizer': 'SGD', 'lr': 0.0772680204070969, 'batchsize': 32, 'L2': 0.015, 'L1': 0.08600000000000001}. Best is trial 14 with value: 0.984000027179718.\u001b[0m\n",
      "\u001b[32m[I 2023-04-10 03:08:01,652]\u001b[0m Trial 20 finished with value: 0.1380000114440918 and parameters: {'dropout': 0.2, 'optimizer': 'SGD', 'lr': 0.06668691036684114, 'batchsize': 32, 'L2': 0.099, 'L1': 0.041}. Best is trial 14 with value: 0.984000027179718.\u001b[0m\n",
      "\u001b[32m[I 2023-04-10 03:08:36,681]\u001b[0m Trial 21 finished with value: 0.8720000386238098 and parameters: {'dropout': 0.0, 'optimizer': 'SGD', 'lr': 0.0541156009149259, 'batchsize': 32, 'L2': 0.002, 'L1': 0.009000000000000001}. Best is trial 14 with value: 0.984000027179718.\u001b[0m\n",
      "\u001b[32m[I 2023-04-10 03:09:04,203]\u001b[0m Trial 22 finished with value: 0.5480000376701355 and parameters: {'dropout': 0.0, 'optimizer': 'SGD', 'lr': 0.03895993084755598, 'batchsize': 32, 'L2': 0.011, 'L1': 0.016}. Best is trial 14 with value: 0.984000027179718.\u001b[0m\n",
      "\u001b[32m[I 2023-04-10 03:09:35,860]\u001b[0m Trial 23 finished with value: 0.8840000629425049 and parameters: {'dropout': 0.1, 'optimizer': 'SGD', 'lr': 0.049560474888736265, 'batchsize': 32, 'L2': 0.032, 'L1': 0.002}. Best is trial 14 with value: 0.984000027179718.\u001b[0m\n",
      "\u001b[32m[I 2023-04-10 03:09:35,915]\u001b[0m A new study created in memory with name: no-name-84238f17-b9b7-4c07-a154-43fbac39fd40\u001b[0m\n"
     ]
    },
    {
     "name": "stdout",
     "output_type": "stream",
     "text": [
      "Study statistics: \n",
      "  Number of finished trials:  24\n",
      "  Number of pruned trials:  0\n",
      "  Number of complete trials:  24\n",
      "Best trial:\n",
      "  Value:  0.984000027179718\n",
      "  Params: \n",
      "    dropout: 0.1\n",
      "    optimizer: SGD\n",
      "    lr: 0.038678762298957156\n",
      "    batchsize: 32\n",
      "    L2: 0.019\n",
      "    L1: 0.0\n"
     ]
    },
    {
     "name": "stderr",
     "output_type": "stream",
     "text": [
      "\u001b[32m[I 2023-04-10 03:09:52,921]\u001b[0m Trial 0 finished with value: 0.10200000554323196 and parameters: {'dropout': 0.2, 'optimizer': 'Adam', 'lr': 0.05990598257128396, 'batchsize': 256, 'L2': 0.06, 'L1': 0.07100000000000001}. Best is trial 0 with value: 0.10200000554323196.\u001b[0m\n",
      "\u001b[32m[I 2023-04-10 03:10:08,443]\u001b[0m Trial 1 finished with value: 0.4320000112056732 and parameters: {'dropout': 0.0, 'optimizer': 'Adam', 'lr': 0.021312677156759788, 'batchsize': 256, 'L2': 0.043000000000000003, 'L1': 0.029}. Best is trial 1 with value: 0.4320000112056732.\u001b[0m\n",
      "\u001b[32m[I 2023-04-10 03:10:28,686]\u001b[0m Trial 2 finished with value: 0.8320000171661377 and parameters: {'dropout': 0.30000000000000004, 'optimizer': 'SGD', 'lr': 0.036699548145039805, 'batchsize': 64, 'L2': 0.059000000000000004, 'L1': 0.004}. Best is trial 2 with value: 0.8320000171661377.\u001b[0m\n",
      "\u001b[32m[I 2023-04-10 03:11:06,554]\u001b[0m Trial 3 finished with value: 0.10200000554323196 and parameters: {'dropout': 0.30000000000000004, 'optimizer': 'Adam', 'lr': 0.094893665171608, 'batchsize': 32, 'L2': 0.069, 'L1': 0.044}. Best is trial 2 with value: 0.8320000171661377.\u001b[0m\n",
      "\u001b[32m[I 2023-04-10 03:11:29,325]\u001b[0m Trial 4 finished with value: 0.08000000566244125 and parameters: {'dropout': 0.0, 'optimizer': 'Adam', 'lr': 0.09094110816767033, 'batchsize': 64, 'L2': 0.055, 'L1': 0.018000000000000002}. Best is trial 2 with value: 0.8320000171661377.\u001b[0m\n",
      "\u001b[32m[I 2023-04-10 03:11:49,316]\u001b[0m Trial 5 finished with value: 0.08000000566244125 and parameters: {'dropout': 0.5, 'optimizer': 'SGD', 'lr': 0.08949325230772212, 'batchsize': 64, 'L2': 0.004, 'L1': 0.032}. Best is trial 2 with value: 0.8320000171661377.\u001b[0m\n",
      "\u001b[32m[I 2023-04-10 03:12:08,283]\u001b[0m Trial 6 finished with value: 0.09600000083446503 and parameters: {'dropout': 0.2, 'optimizer': 'SGD', 'lr': 0.03573965733668957, 'batchsize': 256, 'L2': 0.007, 'L1': 0.099}. Best is trial 2 with value: 0.8320000171661377.\u001b[0m\n",
      "\u001b[32m[I 2023-04-10 03:12:26,914]\u001b[0m Trial 7 finished with value: 0.1340000033378601 and parameters: {'dropout': 0.4, 'optimizer': 'Adam', 'lr': 0.08156459670263794, 'batchsize': 128, 'L2': 0.036000000000000004, 'L1': 0.011}. Best is trial 2 with value: 0.8320000171661377.\u001b[0m\n",
      "\u001b[32m[I 2023-04-10 03:12:45,052]\u001b[0m Trial 8 finished with value: 0.0820000022649765 and parameters: {'dropout': 0.5, 'optimizer': 'Adam', 'lr': 0.006449479193573761, 'batchsize': 128, 'L2': 0.089, 'L1': 0.047}. Best is trial 2 with value: 0.8320000171661377.\u001b[0m\n",
      "\u001b[32m[I 2023-04-10 03:13:14,739]\u001b[0m Trial 9 finished with value: 0.8380000591278076 and parameters: {'dropout': 0.0, 'optimizer': 'SGD', 'lr': 0.05617159203719268, 'batchsize': 32, 'L2': 0.002, 'L1': 0.01}. Best is trial 9 with value: 0.8380000591278076.\u001b[0m\n",
      "\u001b[32m[I 2023-04-10 03:13:47,075]\u001b[0m Trial 10 finished with value: 0.5200000405311584 and parameters: {'dropout': 0.0, 'optimizer': 'Adam', 'lr': 0.05090621204735381, 'batchsize': 32, 'L2': 0.023, 'L1': 0.007}. Best is trial 9 with value: 0.8380000591278076.\u001b[0m\n",
      "\u001b[32m[I 2023-04-10 03:14:07,419]\u001b[0m Trial 11 finished with value: 0.0820000022649765 and parameters: {'dropout': 0.1, 'optimizer': 'SGD', 'lr': 0.08083122591848525, 'batchsize': 64, 'L2': 0.09, 'L1': 0.054}. Best is trial 9 with value: 0.8380000591278076.\u001b[0m\n",
      "\u001b[32m[I 2023-04-10 03:14:24,663]\u001b[0m Trial 12 finished with value: 0.08000000566244125 and parameters: {'dropout': 0.4, 'optimizer': 'Adam', 'lr': 0.011094187260314909, 'batchsize': 256, 'L2': 0.0, 'L1': 0.051000000000000004}. Best is trial 9 with value: 0.8380000591278076.\u001b[0m\n",
      "\u001b[32m[I 2023-04-10 03:14:58,234]\u001b[0m Trial 13 finished with value: 0.09600000083446503 and parameters: {'dropout': 0.2, 'optimizer': 'Adam', 'lr': 0.03382775562322244, 'batchsize': 32, 'L2': 0.036000000000000004, 'L1': 0.098}. Best is trial 9 with value: 0.8380000591278076.\u001b[0m\n",
      "\u001b[32m[I 2023-04-10 03:15:15,758]\u001b[0m Trial 14 finished with value: 0.5 and parameters: {'dropout': 0.5, 'optimizer': 'SGD', 'lr': 0.03015774315069529, 'batchsize': 128, 'L2': 0.005, 'L1': 0.028}. Best is trial 9 with value: 0.8380000591278076.\u001b[0m\n",
      "\u001b[32m[I 2023-04-10 03:15:49,795]\u001b[0m Trial 15 finished with value: 0.11000000685453415 and parameters: {'dropout': 0.5, 'optimizer': 'Adam', 'lr': 0.04899633075172855, 'batchsize': 32, 'L2': 0.024, 'L1': 0.073}. Best is trial 9 with value: 0.8380000591278076.\u001b[0m\n",
      "\u001b[32m[I 2023-04-10 03:16:12,297]\u001b[0m Trial 16 finished with value: 0.08800000697374344 and parameters: {'dropout': 0.2, 'optimizer': 'SGD', 'lr': 0.05362389093906838, 'batchsize': 64, 'L2': 0.004, 'L1': 0.059000000000000004}. Best is trial 9 with value: 0.8380000591278076.\u001b[0m\n",
      "\u001b[32m[I 2023-04-10 03:16:29,524]\u001b[0m Trial 17 finished with value: 0.4520000219345093 and parameters: {'dropout': 0.4, 'optimizer': 'SGD', 'lr': 0.022726927942274003, 'batchsize': 128, 'L2': 0.094, 'L1': 0.013000000000000001}. Best is trial 9 with value: 0.8380000591278076.\u001b[0m\n",
      "\u001b[32m[I 2023-04-10 03:16:45,162]\u001b[0m Trial 18 finished with value: 0.11000000685453415 and parameters: {'dropout': 0.2, 'optimizer': 'SGD', 'lr': 0.08774620140276, 'batchsize': 128, 'L2': 0.053, 'L1': 0.024}. Best is trial 9 with value: 0.8380000591278076.\u001b[0m\n",
      "\u001b[32m[I 2023-04-10 03:17:02,502]\u001b[0m Trial 19 finished with value: 0.08800000697374344 and parameters: {'dropout': 0.0, 'optimizer': 'SGD', 'lr': 0.06334683558159947, 'batchsize': 256, 'L2': 0.089, 'L1': 0.078}. Best is trial 9 with value: 0.8380000591278076.\u001b[0m\n",
      "\u001b[32m[I 2023-04-10 03:17:20,112]\u001b[0m Trial 20 finished with value: 0.6340000033378601 and parameters: {'dropout': 0.30000000000000004, 'optimizer': 'SGD', 'lr': 0.08986556343385523, 'batchsize': 256, 'L2': 0.0, 'L1': 0.016}. Best is trial 9 with value: 0.8380000591278076.\u001b[0m\n",
      "\u001b[32m[I 2023-04-10 03:17:35,978]\u001b[0m Trial 21 finished with value: 0.09600000083446503 and parameters: {'dropout': 0.30000000000000004, 'optimizer': 'Adam', 'lr': 0.022504504015109922, 'batchsize': 256, 'L2': 0.065, 'L1': 0.085}. Best is trial 9 with value: 0.8380000591278076.\u001b[0m\n",
      "\u001b[32m[I 2023-04-10 03:17:53,705]\u001b[0m Trial 22 finished with value: 0.10200000554323196 and parameters: {'dropout': 0.30000000000000004, 'optimizer': 'Adam', 'lr': 0.036834808725637415, 'batchsize': 128, 'L2': 0.09, 'L1': 0.063}. Best is trial 9 with value: 0.8380000591278076.\u001b[0m\n",
      "\u001b[32m[I 2023-04-10 03:18:17,890]\u001b[0m Trial 23 finished with value: 0.09600000083446503 and parameters: {'dropout': 0.4, 'optimizer': 'SGD', 'lr': 0.04930251761250451, 'batchsize': 64, 'L2': 0.065, 'L1': 0.017}. Best is trial 9 with value: 0.8380000591278076.\u001b[0m\n",
      "\u001b[32m[I 2023-04-10 03:18:35,380]\u001b[0m Trial 24 finished with value: 0.10200000554323196 and parameters: {'dropout': 0.5, 'optimizer': 'Adam', 'lr': 0.0370788541555189, 'batchsize': 256, 'L2': 0.097, 'L1': 0.08600000000000001}. Best is trial 9 with value: 0.8380000591278076.\u001b[0m\n"
     ]
    },
    {
     "name": "stdout",
     "output_type": "stream",
     "text": [
      "Study statistics: \n",
      "  Number of finished trials:  25\n",
      "  Number of pruned trials:  0\n",
      "  Number of complete trials:  25\n",
      "Best trial:\n",
      "  Value:  0.8380000591278076\n",
      "  Params: \n",
      "    dropout: 0.0\n",
      "    optimizer: SGD\n",
      "    lr: 0.05617159203719268\n",
      "    batchsize: 32\n",
      "    L2: 0.002\n",
      "    L1: 0.01\n"
     ]
    }
   ],
   "source": [
    "samplers = ['TPESampler', 'RandomSampler', 'CmaEsSampler']\n",
    "for sampler_name in samplers[:-1]:\n",
    "    sampler = getattr(optuna.samplers, sampler_name)(seed=SEED)\n",
    "\n",
    "    study = optuna.create_study(direction=\"maximize\", sampler=sampler)\n",
    "    study.optimize(objective, n_trials=NUM_TRIALS, timeout=TIMOUT_MINUTES*60)\n",
    "\n",
    "    pruned_trials = study.get_trials(deepcopy=False, states=[TrialState.PRUNED])\n",
    "    complete_trials = study.get_trials(deepcopy=False, states=[TrialState.COMPLETE])\n",
    "\n",
    "    print(\"Study statistics: \")\n",
    "    print(\"  Number of finished trials: \", len(study.trials))\n",
    "    print(\"  Number of pruned trials: \", len(pruned_trials))\n",
    "    print(\"  Number of complete trials: \", len(complete_trials))\n",
    "\n",
    "    print(\"Best trial:\")\n",
    "    trial = study.best_trial\n",
    "    # trial = study.best_trials\n",
    "\n",
    "    print(\"  Value: \", trial.value)\n",
    "\n",
    "    print(\"  Params: \")\n",
    "    for key, value in trial.params.items():\n",
    "        print(\"    {}: {}\".format(key, value))\n",
    "        \n",
    "    df_studys = study.trials_dataframe().sort_values('value', ascending=False)\n",
    "    df_studys.to_csv(path_trainingModels_regularization / f'optuna-{DATASET}-{PREFIX}-{sampler_name}.csv' ,index=False)"
   ]
  },
  {
   "cell_type": "code",
   "execution_count": null,
   "id": "38e0ea6e",
   "metadata": {},
   "outputs": [],
   "source": []
  },
  {
   "cell_type": "code",
   "execution_count": null,
   "id": "549824fd",
   "metadata": {},
   "outputs": [],
   "source": []
  },
  {
   "cell_type": "code",
   "execution_count": null,
   "id": "78c88e41",
   "metadata": {},
   "outputs": [],
   "source": []
  }
 ],
 "metadata": {
  "kernelspec": {
   "display_name": "Python 3",
   "language": "python",
   "name": "python3"
  },
  "language_info": {
   "codemirror_mode": {
    "name": "ipython",
    "version": 3
   },
   "file_extension": ".py",
   "mimetype": "text/x-python",
   "name": "python",
   "nbconvert_exporter": "python",
   "pygments_lexer": "ipython3",
   "version": "3.6.8"
  }
 },
 "nbformat": 4,
 "nbformat_minor": 5
}
