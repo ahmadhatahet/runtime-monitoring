{
 "cells": [
  {
   "cell_type": "markdown",
   "metadata": {},
   "source": [
    "# Setup"
   ]
  },
  {
   "cell_type": "code",
   "execution_count": 1,
   "metadata": {
    "id": "oKZV5fKvcqA4"
   },
   "outputs": [],
   "source": [
    "import numpy as np\n",
    "import pandas as pd\n",
    "import matplotlib.pyplot as plt\n",
    "from matplotlib import rcParams\n",
    "import seaborn as sns\n",
    "import time\n",
    "from pathlib import Path\n",
    "\n",
    "from ipywidgets import interactive_output, widgets, Dropdown\n",
    "from IPython import display"
   ]
  },
  {
   "cell_type": "code",
   "execution_count": 2,
   "metadata": {},
   "outputs": [],
   "source": [
    "REPO_PATH = '/home/ah19/runtime-monitoring'\n",
    "DATASET = 'GTSRB'\n",
    "PREFIX = 'Regularizations'\n",
    "FILENAME_POSTFIX = f\"{DATASET}_{PREFIX}\"\n",
    "SEED = 42"
   ]
  },
  {
   "cell_type": "code",
   "execution_count": 3,
   "metadata": {},
   "outputs": [],
   "source": [
    "import sys\n",
    "sys.path.append(REPO_PATH + '/utilities')\n",
    "sys.path.append(f'{REPO_PATH}/{DATASET}/trainingModels')"
   ]
  },
  {
   "cell_type": "code",
   "execution_count": 4,
   "metadata": {},
   "outputs": [],
   "source": [
    "from pathManager import fetchPaths\n",
    "from plotFunctions import *"
   ]
  },
  {
   "cell_type": "code",
   "execution_count": 5,
   "metadata": {},
   "outputs": [
    {
     "data": {
      "text/plain": [
       "PosixPath('/home/ah19/runtime-monitoring/GTSRB')"
      ]
     },
     "execution_count": 5,
     "metadata": {},
     "output_type": "execute_result"
    }
   ],
   "source": [
    "base = Path(REPO_PATH)\n",
    "paths = fetchPaths(base, DATASET)\n",
    "\n",
    "path = paths[DATASET.lower()]\n",
    "path_dataset = paths['dataset']\n",
    "path_trainingModels = paths['trainingModels']\n",
    "path_trainingModels_regularization = paths['trainingModels_regularization']\n",
    "\n",
    "path"
   ]
  },
  {
   "cell_type": "markdown",
   "metadata": {},
   "source": [
    " # Read Data"
   ]
  },
  {
   "cell_type": "code",
   "execution_count": 6,
   "metadata": {
    "id": "NkJJ9EFVdgNq"
   },
   "outputs": [],
   "source": [
    "df = pd.read_csv( path_trainingModels_regularization / f'scores-{DATASET.lower()}-{PREFIX.lower()}.csv' )"
   ]
  },
  {
   "cell_type": "code",
   "execution_count": 7,
   "metadata": {},
   "outputs": [
    {
     "data": {
      "text/html": [
       "<div>\n",
       "<style scoped>\n",
       "    .dataframe tbody tr th:only-of-type {\n",
       "        vertical-align: middle;\n",
       "    }\n",
       "\n",
       "    .dataframe tbody tr th {\n",
       "        vertical-align: top;\n",
       "    }\n",
       "\n",
       "    .dataframe thead th {\n",
       "        text-align: right;\n",
       "    }\n",
       "</style>\n",
       "<table border=\"1\" class=\"dataframe\">\n",
       "  <thead>\n",
       "    <tr style=\"text-align: right;\">\n",
       "      <th></th>\n",
       "      <th>optim</th>\n",
       "      <th>batchsize</th>\n",
       "      <th>lr</th>\n",
       "      <th>regularization</th>\n",
       "      <th>L2</th>\n",
       "      <th>L1</th>\n",
       "      <th>dropout</th>\n",
       "      <th>test_accuracy</th>\n",
       "      <th>test_loss</th>\n",
       "      <th>train_accuracy</th>\n",
       "      <th>train_loss</th>\n",
       "      <th>time</th>\n",
       "    </tr>\n",
       "  </thead>\n",
       "  <tbody>\n",
       "    <tr>\n",
       "      <th>0</th>\n",
       "      <td>Adam</td>\n",
       "      <td>128.0</td>\n",
       "      <td>0.001</td>\n",
       "      <td>L2</td>\n",
       "      <td>0.001</td>\n",
       "      <td>0.0</td>\n",
       "      <td>0.0</td>\n",
       "      <td>0.955696</td>\n",
       "      <td>0.201967</td>\n",
       "      <td>0.995866</td>\n",
       "      <td>0.058822</td>\n",
       "      <td>128.117</td>\n",
       "    </tr>\n",
       "    <tr>\n",
       "      <th>1</th>\n",
       "      <td>Adam</td>\n",
       "      <td>128.0</td>\n",
       "      <td>0.001</td>\n",
       "      <td>L2</td>\n",
       "      <td>0.010</td>\n",
       "      <td>0.0</td>\n",
       "      <td>0.0</td>\n",
       "      <td>0.954114</td>\n",
       "      <td>0.636400</td>\n",
       "      <td>0.986757</td>\n",
       "      <td>0.343672</td>\n",
       "      <td>127.145</td>\n",
       "    </tr>\n",
       "    <tr>\n",
       "      <th>2</th>\n",
       "      <td>Adam</td>\n",
       "      <td>32.0</td>\n",
       "      <td>0.001</td>\n",
       "      <td>Dropout</td>\n",
       "      <td>0.000</td>\n",
       "      <td>0.0</td>\n",
       "      <td>0.3</td>\n",
       "      <td>0.950949</td>\n",
       "      <td>0.144069</td>\n",
       "      <td>0.979587</td>\n",
       "      <td>0.077799</td>\n",
       "      <td>141.991</td>\n",
       "    </tr>\n",
       "    <tr>\n",
       "      <th>3</th>\n",
       "      <td>Adam</td>\n",
       "      <td>32.0</td>\n",
       "      <td>0.001</td>\n",
       "      <td>L2-Dropout</td>\n",
       "      <td>0.001</td>\n",
       "      <td>0.0</td>\n",
       "      <td>0.3</td>\n",
       "      <td>0.950949</td>\n",
       "      <td>0.188374</td>\n",
       "      <td>0.975452</td>\n",
       "      <td>0.127791</td>\n",
       "      <td>150.114</td>\n",
       "    </tr>\n",
       "    <tr>\n",
       "      <th>4</th>\n",
       "      <td>Adam</td>\n",
       "      <td>128.0</td>\n",
       "      <td>0.001</td>\n",
       "      <td>L2-Dropout</td>\n",
       "      <td>0.010</td>\n",
       "      <td>0.0</td>\n",
       "      <td>0.3</td>\n",
       "      <td>0.949367</td>\n",
       "      <td>0.547436</td>\n",
       "      <td>0.977713</td>\n",
       "      <td>0.409302</td>\n",
       "      <td>128.422</td>\n",
       "    </tr>\n",
       "    <tr>\n",
       "      <th>5</th>\n",
       "      <td>Adam</td>\n",
       "      <td>256.0</td>\n",
       "      <td>0.001</td>\n",
       "      <td>L2</td>\n",
       "      <td>0.010</td>\n",
       "      <td>0.0</td>\n",
       "      <td>0.0</td>\n",
       "      <td>0.949367</td>\n",
       "      <td>0.662289</td>\n",
       "      <td>0.991408</td>\n",
       "      <td>0.316603</td>\n",
       "      <td>117.270</td>\n",
       "    </tr>\n",
       "    <tr>\n",
       "      <th>6</th>\n",
       "      <td>Adam</td>\n",
       "      <td>128.0</td>\n",
       "      <td>0.001</td>\n",
       "      <td>Dropout</td>\n",
       "      <td>0.000</td>\n",
       "      <td>0.0</td>\n",
       "      <td>0.3</td>\n",
       "      <td>0.947785</td>\n",
       "      <td>0.206136</td>\n",
       "      <td>0.981718</td>\n",
       "      <td>0.100997</td>\n",
       "      <td>129.107</td>\n",
       "    </tr>\n",
       "    <tr>\n",
       "      <th>7</th>\n",
       "      <td>Adam</td>\n",
       "      <td>64.0</td>\n",
       "      <td>0.001</td>\n",
       "      <td>Dropout</td>\n",
       "      <td>0.000</td>\n",
       "      <td>0.0</td>\n",
       "      <td>0.3</td>\n",
       "      <td>0.946203</td>\n",
       "      <td>0.196807</td>\n",
       "      <td>0.984625</td>\n",
       "      <td>0.070758</td>\n",
       "      <td>134.518</td>\n",
       "    </tr>\n",
       "    <tr>\n",
       "      <th>8</th>\n",
       "      <td>Adam</td>\n",
       "      <td>256.0</td>\n",
       "      <td>0.001</td>\n",
       "      <td>L2-Dropout</td>\n",
       "      <td>0.010</td>\n",
       "      <td>0.0</td>\n",
       "      <td>0.3</td>\n",
       "      <td>0.946203</td>\n",
       "      <td>0.754828</td>\n",
       "      <td>0.979393</td>\n",
       "      <td>0.399031</td>\n",
       "      <td>113.444</td>\n",
       "    </tr>\n",
       "    <tr>\n",
       "      <th>9</th>\n",
       "      <td>Adam</td>\n",
       "      <td>32.0</td>\n",
       "      <td>0.001</td>\n",
       "      <td>No Regularization</td>\n",
       "      <td>0.000</td>\n",
       "      <td>0.0</td>\n",
       "      <td>0.0</td>\n",
       "      <td>0.944620</td>\n",
       "      <td>0.212448</td>\n",
       "      <td>0.993605</td>\n",
       "      <td>0.032009</td>\n",
       "      <td>172.573</td>\n",
       "    </tr>\n",
       "  </tbody>\n",
       "</table>\n",
       "</div>"
      ],
      "text/plain": [
       "  optim  batchsize     lr     regularization     L2   L1  dropout  \\\n",
       "0  Adam      128.0  0.001                 L2  0.001  0.0      0.0   \n",
       "1  Adam      128.0  0.001                 L2  0.010  0.0      0.0   \n",
       "2  Adam       32.0  0.001            Dropout  0.000  0.0      0.3   \n",
       "3  Adam       32.0  0.001         L2-Dropout  0.001  0.0      0.3   \n",
       "4  Adam      128.0  0.001         L2-Dropout  0.010  0.0      0.3   \n",
       "5  Adam      256.0  0.001                 L2  0.010  0.0      0.0   \n",
       "6  Adam      128.0  0.001            Dropout  0.000  0.0      0.3   \n",
       "7  Adam       64.0  0.001            Dropout  0.000  0.0      0.3   \n",
       "8  Adam      256.0  0.001         L2-Dropout  0.010  0.0      0.3   \n",
       "9  Adam       32.0  0.001  No Regularization  0.000  0.0      0.0   \n",
       "\n",
       "   test_accuracy  test_loss  train_accuracy  train_loss     time  \n",
       "0       0.955696   0.201967        0.995866    0.058822  128.117  \n",
       "1       0.954114   0.636400        0.986757    0.343672  127.145  \n",
       "2       0.950949   0.144069        0.979587    0.077799  141.991  \n",
       "3       0.950949   0.188374        0.975452    0.127791  150.114  \n",
       "4       0.949367   0.547436        0.977713    0.409302  128.422  \n",
       "5       0.949367   0.662289        0.991408    0.316603  117.270  \n",
       "6       0.947785   0.206136        0.981718    0.100997  129.107  \n",
       "7       0.946203   0.196807        0.984625    0.070758  134.518  \n",
       "8       0.946203   0.754828        0.979393    0.399031  113.444  \n",
       "9       0.944620   0.212448        0.993605    0.032009  172.573  "
      ]
     },
     "execution_count": 7,
     "metadata": {},
     "output_type": "execute_result"
    }
   ],
   "source": [
    "df.head(10)"
   ]
  },
  {
   "cell_type": "code",
   "execution_count": null,
   "metadata": {},
   "outputs": [],
   "source": []
  }
 ],
 "metadata": {
  "colab": {
   "provenance": []
  },
  "kernelspec": {
   "display_name": "Python 3",
   "language": "python",
   "name": "python3"
  },
  "language_info": {
   "codemirror_mode": {
    "name": "ipython",
    "version": 3
   },
   "file_extension": ".py",
   "mimetype": "text/x-python",
   "name": "python",
   "nbconvert_exporter": "python",
   "pygments_lexer": "ipython3",
   "version": "3.6.8"
  },
  "vscode": {
   "interpreter": {
    "hash": "25a19fbe0a9132dfb9279d48d161753c6352f8f9478c2e74383d340069b907c3"
   }
  }
 },
 "nbformat": 4,
 "nbformat_minor": 1
}
