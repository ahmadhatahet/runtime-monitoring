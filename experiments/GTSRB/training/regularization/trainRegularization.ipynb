{
 "cells": [
  {
   "cell_type": "markdown",
   "metadata": {},
   "source": [
    "# Setup Variables"
   ]
  },
  {
   "cell_type": "code",
   "execution_count": 1,
   "metadata": {},
   "outputs": [],
   "source": [
    "REPO_PATH = '/home/ah19/runtime-monitoring'\n",
    "DATASET = 'GTSRB'\n",
    "PREFIX = 'Regularizations'\n",
    "FILENAME_POSTFIX = f\"{DATASET}_{PREFIX}\"\n",
    "SEED = 42\n",
    "\n",
    "CUDA = 0\n",
    "GPU_NAME = f'cuda:{CUDA}'\n",
    "model_setup = {'first_layer_norm': False}\n",
    "model_config = {'lr': 0.001,'epochs': 5}"
   ]
  },
  {
   "cell_type": "markdown",
   "metadata": {},
   "source": [
    "# Libraries"
   ]
  },
  {
   "cell_type": "code",
   "execution_count": 2,
   "metadata": {
    "id": "FLmxFGnxg6ZG"
   },
   "outputs": [],
   "source": [
    "import matplotlib.pyplot as plt\n",
    "import numpy as np\n",
    "import pandas as pd\n",
    "from fastprogress import progress_bar\n",
    "from pathlib import Path\n",
    "from time import perf_counter\n",
    "from itertools import product\n",
    "\n",
    "from sklearn.model_selection import train_test_split\n",
    "import torch\n",
    "from torch.backends import cudnn\n",
    "import torch.nn as nn\n",
    "import torch.nn.functional as F\n",
    "from torchinfo import summary"
   ]
  },
  {
   "cell_type": "code",
   "execution_count": 3,
   "metadata": {},
   "outputs": [],
   "source": [
    "import sys\n",
    "sys.path.append(REPO_PATH + '/utilities')\n",
    "sys.path.append(f'{REPO_PATH}/{DATASET}/trainingModels')"
   ]
  },
  {
   "cell_type": "code",
   "execution_count": 4,
   "metadata": {},
   "outputs": [],
   "source": [
    "from utils import *\n",
    "from pathManager import fetchPaths\n",
    "from GTSRB_CNN import GTSRB_CNN\n",
    "\n",
    "model_ = GTSRB_CNN\n",
    "\n",
    "LIMIT_TRAIN_DATA = 0.2\n",
    "LIMIT_TEST_DATA = 0.05"
   ]
  },
  {
   "cell_type": "markdown",
   "metadata": {
    "id": "h7eERD3yVH2H"
   },
   "source": [
    "# GPU Device & Seed"
   ]
  },
  {
   "cell_type": "code",
   "execution_count": 5,
   "metadata": {
    "id": "CS9DVaKDi_2C"
   },
   "outputs": [],
   "source": [
    "# np.random.seed(SEED)\n",
    "# torch.manual_seed(SEED)\n",
    "# torch.cuda.manual_seed(SEED)"
   ]
  },
  {
   "cell_type": "code",
   "execution_count": 6,
   "metadata": {
    "colab": {
     "base_uri": "https://localhost:8080/"
    },
    "id": "5jRXv8RAhzqa",
    "outputId": "d8ccff46-cebe-4890-ab1c-5b498a395e64"
   },
   "outputs": [
    {
     "data": {
      "text/plain": [
       "'NVIDIA A100 80GB PCIe'"
      ]
     },
     "execution_count": 6,
     "metadata": {},
     "output_type": "execute_result"
    }
   ],
   "source": [
    "device = get_device(GPU_NAME)\n",
    "torch.cuda.get_device_name(device)"
   ]
  },
  {
   "cell_type": "markdown",
   "metadata": {},
   "source": [
    "# Paths"
   ]
  },
  {
   "cell_type": "code",
   "execution_count": 7,
   "metadata": {
    "scrolled": true
   },
   "outputs": [
    {
     "data": {
      "text/plain": [
       "PosixPath('/home/ah19/runtime-monitoring/GTSRB')"
      ]
     },
     "execution_count": 7,
     "metadata": {},
     "output_type": "execute_result"
    }
   ],
   "source": [
    "base = Path(REPO_PATH)\n",
    "paths = fetchPaths(base, DATASET)\n",
    "\n",
    "path = paths[DATASET.lower()]\n",
    "path_dataset = paths['dataset']\n",
    "path_trainingModels = paths['trainingModels']\n",
    "path_trainingModels_regularization = paths['trainingModels_regularization']\n",
    "\n",
    "path"
   ]
  },
  {
   "cell_type": "markdown",
   "metadata": {
    "id": "h7eERD3yVH2H"
   },
   "source": [
    "# Load / Split / DataLoader"
   ]
  },
  {
   "cell_type": "code",
   "execution_count": 8,
   "metadata": {},
   "outputs": [
    {
     "data": {
      "text/plain": [
       "(15480, 632)"
      ]
     },
     "execution_count": 8,
     "metadata": {},
     "output_type": "execute_result"
    }
   ],
   "source": [
    "feature_names = get_labels(DATASET)\n",
    "\n",
    "tf_train = T.Compose([\n",
    "    T.ToTensor(),\n",
    "    T.Resize((32, 32)),\n",
    "    T.Normalize((0.3359, 0.3110, 0.3224), (0.3359, 0.3110, 0.3224))\n",
    "])\n",
    "\n",
    "\n",
    "tf_test = T.Compose([\n",
    "    T.ToTensor(),\n",
    "    T.Resize((32, 32)),\n",
    "    T.Normalize((0.3359, 0.3110, 0.3224), (0.3359, 0.3110, 0.3224))\n",
    "])\n",
    "\n",
    "train_data = get_dataset(DATASET, path_dataset, train=True, transform=tf_train)\n",
    "test_data = get_dataset(DATASET, path_dataset, train=False, transform=tf_test)\n",
    "\n",
    "train_split = split_data(train_data.data['ClassId'], LIMIT_TRAIN_DATA)\n",
    "test_split = split_data(test_data.data['ClassId'], LIMIT_TEST_DATA)\n",
    "\n",
    "\n",
    "train_data = torch.utils.data.Subset(train_data, train_split)\n",
    "test_data = torch.utils.data.Subset(test_data, test_split)\n",
    "\n",
    "len(train_data), len(test_data)"
   ]
  },
  {
   "cell_type": "markdown",
   "metadata": {},
   "source": [
    "# Model"
   ]
  },
  {
   "cell_type": "code",
   "execution_count": 9,
   "metadata": {},
   "outputs": [],
   "source": [
    "def reg_type(l2, l1, p):\n",
    "    name = ''\n",
    "    if l2 > 0 and l1 == 0: name += 'L2'\n",
    "    elif l2 == 0 and l1 > 0: name += 'L1'\n",
    "    elif l2 > 0 and l1 > 0: name += 'Elastic'\n",
    "    \n",
    "    if p > 0 and name == '': name = 'Dropout'\n",
    "    elif p > 0: name += '-Dropout'\n",
    "        \n",
    "    if name == '': name = 'No Regularization'\n",
    "        \n",
    "    return name"
   ]
  },
  {
   "cell_type": "code",
   "execution_count": 10,
   "metadata": {},
   "outputs": [],
   "source": [
    "L2 = [0, 1e-3, 1e-2]\n",
    "L1 = [0, 1e-3, 1e-2]\n",
    "dropout = [0.0, 0.3]\n",
    "optims = ['Adam', 'SGD']\n",
    "batchsizes = [32, 64, 128, 256]"
   ]
  },
  {
   "cell_type": "code",
   "execution_count": 11,
   "metadata": {
    "scrolled": true
   },
   "outputs": [
    {
     "data": {
      "text/html": [
       "\n",
       "<style>\n",
       "    /* Turns off some styling */\n",
       "    progress {\n",
       "        /* gets rid of default border in Firefox and Opera. */\n",
       "        border: none;\n",
       "        /* Needs to be in here for Safari polyfill so background images work as expected. */\n",
       "        background-size: auto;\n",
       "    }\n",
       "    progress:not([value]), progress:not([value])::-webkit-progress-bar {\n",
       "        background: repeating-linear-gradient(45deg, #7e7e7e, #7e7e7e 10px, #5c5c5c 10px, #5c5c5c 20px);\n",
       "    }\n",
       "    .progress-bar-interrupted, .progress-bar-interrupted::-webkit-progress-bar {\n",
       "        background: #F44336;\n",
       "    }\n",
       "</style>\n"
      ],
      "text/plain": [
       "<IPython.core.display.HTML object>"
      ]
     },
     "metadata": {},
     "output_type": "display_data"
    },
    {
     "data": {
      "text/html": [
       "\n",
       "    <div>\n",
       "      <progress value='144' class='' max='144' style='width:300px; height:20px; vertical-align: middle;'></progress>\n",
       "      100.00% [144/144 5:18:25&lt;00:00]\n",
       "    </div>\n",
       "    "
      ],
      "text/plain": [
       "<IPython.core.display.HTML object>"
      ]
     },
     "metadata": {},
     "output_type": "display_data"
    },
    {
     "name": "stdout",
     "output_type": "stream",
     "text": [
      "[==================================================]\n",
      "Adam - 32: (0, 0, 0.0)\n"
     ]
    },
    {
     "data": {
      "text/html": [
       "\n",
       "<style>\n",
       "    /* Turns off some styling */\n",
       "    progress {\n",
       "        /* gets rid of default border in Firefox and Opera. */\n",
       "        border: none;\n",
       "        /* Needs to be in here for Safari polyfill so background images work as expected. */\n",
       "        background-size: auto;\n",
       "    }\n",
       "    progress:not([value]), progress:not([value])::-webkit-progress-bar {\n",
       "        background: repeating-linear-gradient(45deg, #7e7e7e, #7e7e7e 10px, #5c5c5c 10px, #5c5c5c 20px);\n",
       "    }\n",
       "    .progress-bar-interrupted, .progress-bar-interrupted::-webkit-progress-bar {\n",
       "        background: #F44336;\n",
       "    }\n",
       "</style>\n"
      ],
      "text/plain": [
       "<IPython.core.display.HTML object>"
      ]
     },
     "metadata": {},
     "output_type": "display_data"
    },
    {
     "data": {
      "text/html": [
       "[Epoch: 00] Loss (1.148 / 0.407) - Accuracy (74.2% / 89.2%)<p>[Epoch: 01] Loss (0.203 / 0.252) - Accuracy (95.7% / 94.1%)<p>[Epoch: 02] Loss (0.086 / 0.264) - Accuracy (98.2% / 92.7%)<p>[Epoch: 03] Loss (0.051 / 0.225) - Accuracy (99.0% / 93.7%)<p>[Epoch: 04] Loss (0.032 / 0.212) - Accuracy (99.4% / 94.5%)"
      ],
      "text/plain": [
       "<IPython.core.display.HTML object>"
      ]
     },
     "metadata": {},
     "output_type": "display_data"
    },
    {
     "name": "stdout",
     "output_type": "stream",
     "text": [
      "[==================================================]\n",
      "Adam - 32: (0, 0, 0.3)\n"
     ]
    },
    {
     "data": {
      "text/html": [
       "\n",
       "<style>\n",
       "    /* Turns off some styling */\n",
       "    progress {\n",
       "        /* gets rid of default border in Firefox and Opera. */\n",
       "        border: none;\n",
       "        /* Needs to be in here for Safari polyfill so background images work as expected. */\n",
       "        background-size: auto;\n",
       "    }\n",
       "    progress:not([value]), progress:not([value])::-webkit-progress-bar {\n",
       "        background: repeating-linear-gradient(45deg, #7e7e7e, #7e7e7e 10px, #5c5c5c 10px, #5c5c5c 20px);\n",
       "    }\n",
       "    .progress-bar-interrupted, .progress-bar-interrupted::-webkit-progress-bar {\n",
       "        background: #F44336;\n",
       "    }\n",
       "</style>\n"
      ],
      "text/plain": [
       "<IPython.core.display.HTML object>"
      ]
     },
     "metadata": {},
     "output_type": "display_data"
    },
    {
     "data": {
      "text/html": [
       "[Epoch: 00] Loss (1.481 / 0.514) - Accuracy (64.3% / 88.3%)<p>[Epoch: 01] Loss (0.329 / 0.289) - Accuracy (92.2% / 91.5%)<p>[Epoch: 02] Loss (0.158 / 0.174) - Accuracy (96.2% / 95.4%)<p>[Epoch: 03] Loss (0.106 / 0.150) - Accuracy (97.4% / 96.0%)<p>[Epoch: 04] Loss (0.078 / 0.144) - Accuracy (98.0% / 95.1%)"
      ],
      "text/plain": [
       "<IPython.core.display.HTML object>"
      ]
     },
     "metadata": {},
     "output_type": "display_data"
    },
    {
     "name": "stdout",
     "output_type": "stream",
     "text": [
      "[==================================================]\n",
      "Adam - 32: (0, 0.001, 0.0)\n"
     ]
    },
    {
     "data": {
      "text/html": [
       "\n",
       "<style>\n",
       "    /* Turns off some styling */\n",
       "    progress {\n",
       "        /* gets rid of default border in Firefox and Opera. */\n",
       "        border: none;\n",
       "        /* Needs to be in here for Safari polyfill so background images work as expected. */\n",
       "        background-size: auto;\n",
       "    }\n",
       "    progress:not([value]), progress:not([value])::-webkit-progress-bar {\n",
       "        background: repeating-linear-gradient(45deg, #7e7e7e, #7e7e7e 10px, #5c5c5c 10px, #5c5c5c 20px);\n",
       "    }\n",
       "    .progress-bar-interrupted, .progress-bar-interrupted::-webkit-progress-bar {\n",
       "        background: #F44336;\n",
       "    }\n",
       "</style>\n"
      ],
      "text/plain": [
       "<IPython.core.display.HTML object>"
      ]
     },
     "metadata": {},
     "output_type": "display_data"
    },
    {
     "data": {
      "text/html": [
       "[Epoch: 00] Loss (1.165 / 0.739) - Accuracy (73.8% / 83.7%)<p>[Epoch: 01] Loss (0.416 / 0.589) - Accuracy (90.8% / 83.7%)<p>[Epoch: 02] Loss (0.348 / 0.524) - Accuracy (91.9% / 85.9%)<p>[Epoch: 03] Loss (0.307 / 0.329) - Accuracy (92.6% / 91.6%)<p>[Epoch: 04] Loss (0.275 / 0.348) - Accuracy (93.6% / 90.0%)"
      ],
      "text/plain": [
       "<IPython.core.display.HTML object>"
      ]
     },
     "metadata": {},
     "output_type": "display_data"
    },
    {
     "name": "stdout",
     "output_type": "stream",
     "text": [
      "[==================================================]\n",
      "Adam - 32: (0, 0.001, 0.3)\n"
     ]
    },
    {
     "data": {
      "text/html": [
       "\n",
       "<style>\n",
       "    /* Turns off some styling */\n",
       "    progress {\n",
       "        /* gets rid of default border in Firefox and Opera. */\n",
       "        border: none;\n",
       "        /* Needs to be in here for Safari polyfill so background images work as expected. */\n",
       "        background-size: auto;\n",
       "    }\n",
       "    progress:not([value]), progress:not([value])::-webkit-progress-bar {\n",
       "        background: repeating-linear-gradient(45deg, #7e7e7e, #7e7e7e 10px, #5c5c5c 10px, #5c5c5c 20px);\n",
       "    }\n",
       "    .progress-bar-interrupted, .progress-bar-interrupted::-webkit-progress-bar {\n",
       "        background: #F44336;\n",
       "    }\n",
       "</style>\n"
      ],
      "text/plain": [
       "<IPython.core.display.HTML object>"
      ]
     },
     "metadata": {},
     "output_type": "display_data"
    },
    {
     "data": {
      "text/html": [
       "[Epoch: 00] Loss (1.459 / 0.930) - Accuracy (66.1% / 74.4%)<p>[Epoch: 01] Loss (0.522 / 0.516) - Accuracy (87.8% / 87.8%)<p>[Epoch: 02] Loss (0.416 / 0.474) - Accuracy (90.2% / 88.1%)<p>[Epoch: 03] Loss (0.368 / 0.397) - Accuracy (90.8% / 89.2%)<p>[Epoch: 04] Loss (0.330 / 0.274) - Accuracy (91.9% / 93.4%)"
      ],
      "text/plain": [
       "<IPython.core.display.HTML object>"
      ]
     },
     "metadata": {},
     "output_type": "display_data"
    },
    {
     "name": "stdout",
     "output_type": "stream",
     "text": [
      "[==================================================]\n",
      "Adam - 32: (0, 0.01, 0.0)\n"
     ]
    },
    {
     "data": {
      "text/html": [
       "\n",
       "<style>\n",
       "    /* Turns off some styling */\n",
       "    progress {\n",
       "        /* gets rid of default border in Firefox and Opera. */\n",
       "        border: none;\n",
       "        /* Needs to be in here for Safari polyfill so background images work as expected. */\n",
       "        background-size: auto;\n",
       "    }\n",
       "    progress:not([value]), progress:not([value])::-webkit-progress-bar {\n",
       "        background: repeating-linear-gradient(45deg, #7e7e7e, #7e7e7e 10px, #5c5c5c 10px, #5c5c5c 20px);\n",
       "    }\n",
       "    .progress-bar-interrupted, .progress-bar-interrupted::-webkit-progress-bar {\n",
       "        background: #F44336;\n",
       "    }\n",
       "</style>\n"
      ],
      "text/plain": [
       "<IPython.core.display.HTML object>"
      ]
     },
     "metadata": {},
     "output_type": "display_data"
    },
    {
     "data": {
      "text/html": [
       "[Epoch: 00] Loss (2.197 / 2.333) - Accuracy (53.8% / 40.8%)<p>[Epoch: 01] Loss (1.450 / 1.346) - Accuracy (72.1% / 70.1%)<p>[Epoch: 02] Loss (1.086 / 0.945) - Accuracy (79.2% / 84.0%)<p>[Epoch: 03] Loss (0.958 / 0.882) - Accuracy (80.6% / 80.7%)<p>[Epoch: 04] Loss (0.875 / 0.782) - Accuracy (82.0% / 80.9%)"
      ],
      "text/plain": [
       "<IPython.core.display.HTML object>"
      ]
     },
     "metadata": {},
     "output_type": "display_data"
    },
    {
     "name": "stdout",
     "output_type": "stream",
     "text": [
      "[==================================================]\n",
      "Adam - 32: (0, 0.01, 0.3)\n"
     ]
    },
    {
     "data": {
      "text/html": [
       "\n",
       "<style>\n",
       "    /* Turns off some styling */\n",
       "    progress {\n",
       "        /* gets rid of default border in Firefox and Opera. */\n",
       "        border: none;\n",
       "        /* Needs to be in here for Safari polyfill so background images work as expected. */\n",
       "        background-size: auto;\n",
       "    }\n",
       "    progress:not([value]), progress:not([value])::-webkit-progress-bar {\n",
       "        background: repeating-linear-gradient(45deg, #7e7e7e, #7e7e7e 10px, #5c5c5c 10px, #5c5c5c 20px);\n",
       "    }\n",
       "    .progress-bar-interrupted, .progress-bar-interrupted::-webkit-progress-bar {\n",
       "        background: #F44336;\n",
       "    }\n",
       "</style>\n"
      ],
      "text/plain": [
       "<IPython.core.display.HTML object>"
      ]
     },
     "metadata": {},
     "output_type": "display_data"
    },
    {
     "data": {
      "text/html": [
       "[Epoch: 00] Loss (2.328 / 2.305) - Accuracy (48.8% / 45.6%)<p>[Epoch: 01] Loss (1.693 / 1.364) - Accuracy (63.5% / 71.2%)<p>[Epoch: 02] Loss (1.319 / 1.306) - Accuracy (71.9% / 72.5%)<p>[Epoch: 03] Loss (1.153 / 1.058) - Accuracy (74.8% / 74.8%)<p>[Epoch: 04] Loss (1.082 / 0.947) - Accuracy (75.7% / 75.0%)"
      ],
      "text/plain": [
       "<IPython.core.display.HTML object>"
      ]
     },
     "metadata": {},
     "output_type": "display_data"
    },
    {
     "name": "stdout",
     "output_type": "stream",
     "text": [
      "[==================================================]\n",
      "Adam - 32: (0.001, 0, 0.0)\n"
     ]
    },
    {
     "data": {
      "text/html": [
       "\n",
       "<style>\n",
       "    /* Turns off some styling */\n",
       "    progress {\n",
       "        /* gets rid of default border in Firefox and Opera. */\n",
       "        border: none;\n",
       "        /* Needs to be in here for Safari polyfill so background images work as expected. */\n",
       "        background-size: auto;\n",
       "    }\n",
       "    progress:not([value]), progress:not([value])::-webkit-progress-bar {\n",
       "        background: repeating-linear-gradient(45deg, #7e7e7e, #7e7e7e 10px, #5c5c5c 10px, #5c5c5c 20px);\n",
       "    }\n",
       "    .progress-bar-interrupted, .progress-bar-interrupted::-webkit-progress-bar {\n",
       "        background: #F44336;\n",
       "    }\n",
       "</style>\n"
      ],
      "text/plain": [
       "<IPython.core.display.HTML object>"
      ]
     },
     "metadata": {},
     "output_type": "display_data"
    },
    {
     "data": {
      "text/html": [
       "[Epoch: 00] Loss (1.186 / 0.401) - Accuracy (73.4% / 90.8%)<p>[Epoch: 01] Loss (0.216 / 0.289) - Accuracy (96.0% / 92.7%)<p>[Epoch: 02] Loss (0.118 / 0.269) - Accuracy (98.1% / 92.2%)<p>[Epoch: 03] Loss (0.099 / 0.246) - Accuracy (98.4% / 94.9%)<p>[Epoch: 04] Loss (0.086 / 0.220) - Accuracy (98.7% / 93.5%)"
      ],
      "text/plain": [
       "<IPython.core.display.HTML object>"
      ]
     },
     "metadata": {},
     "output_type": "display_data"
    },
    {
     "name": "stdout",
     "output_type": "stream",
     "text": [
      "[==================================================]\n",
      "Adam - 32: (0.001, 0, 0.3)\n"
     ]
    },
    {
     "data": {
      "text/html": [
       "\n",
       "<style>\n",
       "    /* Turns off some styling */\n",
       "    progress {\n",
       "        /* gets rid of default border in Firefox and Opera. */\n",
       "        border: none;\n",
       "        /* Needs to be in here for Safari polyfill so background images work as expected. */\n",
       "        background-size: auto;\n",
       "    }\n",
       "    progress:not([value]), progress:not([value])::-webkit-progress-bar {\n",
       "        background: repeating-linear-gradient(45deg, #7e7e7e, #7e7e7e 10px, #5c5c5c 10px, #5c5c5c 20px);\n",
       "    }\n",
       "    .progress-bar-interrupted, .progress-bar-interrupted::-webkit-progress-bar {\n",
       "        background: #F44336;\n",
       "    }\n",
       "</style>\n"
      ],
      "text/plain": [
       "<IPython.core.display.HTML object>"
      ]
     },
     "metadata": {},
     "output_type": "display_data"
    },
    {
     "data": {
      "text/html": [
       "[Epoch: 00] Loss (1.471 / 0.510) - Accuracy (65.7% / 88.0%)<p>[Epoch: 01] Loss (0.338 / 0.276) - Accuracy (92.8% / 93.5%)<p>[Epoch: 02] Loss (0.186 / 0.207) - Accuracy (96.1% / 94.6%)<p>[Epoch: 03] Loss (0.140 / 0.229) - Accuracy (97.3% / 94.1%)<p>[Epoch: 04] Loss (0.128 / 0.188) - Accuracy (97.5% / 95.1%)"
      ],
      "text/plain": [
       "<IPython.core.display.HTML object>"
      ]
     },
     "metadata": {},
     "output_type": "display_data"
    },
    {
     "name": "stdout",
     "output_type": "stream",
     "text": [
      "[==================================================]\n",
      "Adam - 32: (0.001, 0.001, 0.0)\n"
     ]
    },
    {
     "data": {
      "text/html": [
       "\n",
       "<style>\n",
       "    /* Turns off some styling */\n",
       "    progress {\n",
       "        /* gets rid of default border in Firefox and Opera. */\n",
       "        border: none;\n",
       "        /* Needs to be in here for Safari polyfill so background images work as expected. */\n",
       "        background-size: auto;\n",
       "    }\n",
       "    progress:not([value]), progress:not([value])::-webkit-progress-bar {\n",
       "        background: repeating-linear-gradient(45deg, #7e7e7e, #7e7e7e 10px, #5c5c5c 10px, #5c5c5c 20px);\n",
       "    }\n",
       "    .progress-bar-interrupted, .progress-bar-interrupted::-webkit-progress-bar {\n",
       "        background: #F44336;\n",
       "    }\n",
       "</style>\n"
      ],
      "text/plain": [
       "<IPython.core.display.HTML object>"
      ]
     },
     "metadata": {},
     "output_type": "display_data"
    },
    {
     "data": {
      "text/html": [
       "[Epoch: 00] Loss (1.246 / 0.657) - Accuracy (72.7% / 84.2%)<p>[Epoch: 01] Loss (0.450 / 0.490) - Accuracy (90.7% / 87.8%)<p>[Epoch: 02] Loss (0.382 / 0.471) - Accuracy (92.1% / 87.8%)<p>[Epoch: 03] Loss (0.325 / 0.480) - Accuracy (93.4% / 88.4%)<p>[Epoch: 04] Loss (0.299 / 0.318) - Accuracy (94.0% / 91.0%)"
      ],
      "text/plain": [
       "<IPython.core.display.HTML object>"
      ]
     },
     "metadata": {},
     "output_type": "display_data"
    },
    {
     "name": "stdout",
     "output_type": "stream",
     "text": [
      "[==================================================]\n",
      "Adam - 32: (0.001, 0.001, 0.3)\n"
     ]
    },
    {
     "data": {
      "text/html": [
       "\n",
       "<style>\n",
       "    /* Turns off some styling */\n",
       "    progress {\n",
       "        /* gets rid of default border in Firefox and Opera. */\n",
       "        border: none;\n",
       "        /* Needs to be in here for Safari polyfill so background images work as expected. */\n",
       "        background-size: auto;\n",
       "    }\n",
       "    progress:not([value]), progress:not([value])::-webkit-progress-bar {\n",
       "        background: repeating-linear-gradient(45deg, #7e7e7e, #7e7e7e 10px, #5c5c5c 10px, #5c5c5c 20px);\n",
       "    }\n",
       "    .progress-bar-interrupted, .progress-bar-interrupted::-webkit-progress-bar {\n",
       "        background: #F44336;\n",
       "    }\n",
       "</style>\n"
      ],
      "text/plain": [
       "<IPython.core.display.HTML object>"
      ]
     },
     "metadata": {},
     "output_type": "display_data"
    },
    {
     "data": {
      "text/html": [
       "[Epoch: 00] Loss (1.496 / 0.764) - Accuracy (65.2% / 83.5%)<p>[Epoch: 01] Loss (0.539 / 0.524) - Accuracy (88.2% / 86.7%)<p>[Epoch: 02] Loss (0.442 / 0.494) - Accuracy (90.5% / 90.5%)<p>[Epoch: 03] Loss (0.380 / 0.447) - Accuracy (92.0% / 87.2%)<p>[Epoch: 04] Loss (0.352 / 0.345) - Accuracy (92.5% / 89.7%)"
      ],
      "text/plain": [
       "<IPython.core.display.HTML object>"
      ]
     },
     "metadata": {},
     "output_type": "display_data"
    },
    {
     "name": "stdout",
     "output_type": "stream",
     "text": [
      "[==================================================]\n",
      "Adam - 32: (0.001, 0.01, 0.0)\n"
     ]
    },
    {
     "data": {
      "text/html": [
       "\n",
       "<style>\n",
       "    /* Turns off some styling */\n",
       "    progress {\n",
       "        /* gets rid of default border in Firefox and Opera. */\n",
       "        border: none;\n",
       "        /* Needs to be in here for Safari polyfill so background images work as expected. */\n",
       "        background-size: auto;\n",
       "    }\n",
       "    progress:not([value]), progress:not([value])::-webkit-progress-bar {\n",
       "        background: repeating-linear-gradient(45deg, #7e7e7e, #7e7e7e 10px, #5c5c5c 10px, #5c5c5c 20px);\n",
       "    }\n",
       "    .progress-bar-interrupted, .progress-bar-interrupted::-webkit-progress-bar {\n",
       "        background: #F44336;\n",
       "    }\n",
       "</style>\n"
      ],
      "text/plain": [
       "<IPython.core.display.HTML object>"
      ]
     },
     "metadata": {},
     "output_type": "display_data"
    },
    {
     "data": {
      "text/html": [
       "[Epoch: 00] Loss (2.197 / 2.181) - Accuracy (53.9% / 53.6%)<p>[Epoch: 01] Loss (1.588 / 1.503) - Accuracy (68.6% / 67.7%)<p>[Epoch: 02] Loss (1.176 / 1.035) - Accuracy (77.5% / 78.2%)<p>[Epoch: 03] Loss (1.024 / 0.869) - Accuracy (79.8% / 77.1%)<p>[Epoch: 04] Loss (0.960 / 1.074) - Accuracy (80.9% / 80.9%)"
      ],
      "text/plain": [
       "<IPython.core.display.HTML object>"
      ]
     },
     "metadata": {},
     "output_type": "display_data"
    },
    {
     "name": "stdout",
     "output_type": "stream",
     "text": [
      "[==================================================]\n",
      "Adam - 32: (0.001, 0.01, 0.3)\n"
     ]
    },
    {
     "data": {
      "text/html": [
       "\n",
       "<style>\n",
       "    /* Turns off some styling */\n",
       "    progress {\n",
       "        /* gets rid of default border in Firefox and Opera. */\n",
       "        border: none;\n",
       "        /* Needs to be in here for Safari polyfill so background images work as expected. */\n",
       "        background-size: auto;\n",
       "    }\n",
       "    progress:not([value]), progress:not([value])::-webkit-progress-bar {\n",
       "        background: repeating-linear-gradient(45deg, #7e7e7e, #7e7e7e 10px, #5c5c5c 10px, #5c5c5c 20px);\n",
       "    }\n",
       "    .progress-bar-interrupted, .progress-bar-interrupted::-webkit-progress-bar {\n",
       "        background: #F44336;\n",
       "    }\n",
       "</style>\n"
      ],
      "text/plain": [
       "<IPython.core.display.HTML object>"
      ]
     },
     "metadata": {},
     "output_type": "display_data"
    },
    {
     "data": {
      "text/html": [
       "[Epoch: 00] Loss (2.426 / 2.493) - Accuracy (45.2% / 47.0%)<p>[Epoch: 01] Loss (1.868 / 1.626) - Accuracy (58.9% / 65.5%)<p>[Epoch: 02] Loss (1.481 / 1.323) - Accuracy (67.8% / 71.8%)<p>[Epoch: 03] Loss (1.292 / 1.177) - Accuracy (72.3% / 77.5%)<p>[Epoch: 04] Loss (1.205 / 0.987) - Accuracy (73.3% / 78.3%)"
      ],
      "text/plain": [
       "<IPython.core.display.HTML object>"
      ]
     },
     "metadata": {},
     "output_type": "display_data"
    },
    {
     "name": "stdout",
     "output_type": "stream",
     "text": [
      "[==================================================]\n",
      "Adam - 32: (0.01, 0, 0.0)\n"
     ]
    },
    {
     "data": {
      "text/html": [
       "\n",
       "<style>\n",
       "    /* Turns off some styling */\n",
       "    progress {\n",
       "        /* gets rid of default border in Firefox and Opera. */\n",
       "        border: none;\n",
       "        /* Needs to be in here for Safari polyfill so background images work as expected. */\n",
       "        background-size: auto;\n",
       "    }\n",
       "    progress:not([value]), progress:not([value])::-webkit-progress-bar {\n",
       "        background: repeating-linear-gradient(45deg, #7e7e7e, #7e7e7e 10px, #5c5c5c 10px, #5c5c5c 20px);\n",
       "    }\n",
       "    .progress-bar-interrupted, .progress-bar-interrupted::-webkit-progress-bar {\n",
       "        background: #F44336;\n",
       "    }\n",
       "</style>\n"
      ],
      "text/plain": [
       "<IPython.core.display.HTML object>"
      ]
     },
     "metadata": {},
     "output_type": "display_data"
    },
    {
     "data": {
      "text/html": [
       "[Epoch: 00] Loss (1.356 / 0.730) - Accuracy (73.9% / 88.3%)<p>[Epoch: 01] Loss (0.546 / 0.735) - Accuracy (94.7% / 92.9%)<p>[Epoch: 02] Loss (0.472 / 0.654) - Accuracy (96.2% / 92.2%)<p>[Epoch: 03] Loss (0.422 / 0.616) - Accuracy (97.1% / 93.0%)<p>[Epoch: 04] Loss (0.396 / 0.552) - Accuracy (97.4% / 94.3%)"
      ],
      "text/plain": [
       "<IPython.core.display.HTML object>"
      ]
     },
     "metadata": {},
     "output_type": "display_data"
    },
    {
     "name": "stdout",
     "output_type": "stream",
     "text": [
      "[==================================================]\n",
      "Adam - 32: (0.01, 0, 0.3)\n"
     ]
    },
    {
     "data": {
      "text/html": [
       "\n",
       "<style>\n",
       "    /* Turns off some styling */\n",
       "    progress {\n",
       "        /* gets rid of default border in Firefox and Opera. */\n",
       "        border: none;\n",
       "        /* Needs to be in here for Safari polyfill so background images work as expected. */\n",
       "        background-size: auto;\n",
       "    }\n",
       "    progress:not([value]), progress:not([value])::-webkit-progress-bar {\n",
       "        background: repeating-linear-gradient(45deg, #7e7e7e, #7e7e7e 10px, #5c5c5c 10px, #5c5c5c 20px);\n",
       "    }\n",
       "    .progress-bar-interrupted, .progress-bar-interrupted::-webkit-progress-bar {\n",
       "        background: #F44336;\n",
       "    }\n",
       "</style>\n"
      ],
      "text/plain": [
       "<IPython.core.display.HTML object>"
      ]
     },
     "metadata": {},
     "output_type": "display_data"
    },
    {
     "data": {
      "text/html": [
       "[Epoch: 00] Loss (1.627 / 0.784) - Accuracy (66.8% / 89.6%)<p>[Epoch: 01] Loss (0.658 / 0.759) - Accuracy (92.5% / 92.1%)<p>[Epoch: 02] Loss (0.557 / 0.610) - Accuracy (94.4% / 94.1%)<p>[Epoch: 03] Loss (0.504 / 0.664) - Accuracy (95.4% / 92.9%)<p>[Epoch: 04] Loss (0.471 / 0.471) - Accuracy (96.1% / 93.5%)"
      ],
      "text/plain": [
       "<IPython.core.display.HTML object>"
      ]
     },
     "metadata": {},
     "output_type": "display_data"
    },
    {
     "name": "stdout",
     "output_type": "stream",
     "text": [
      "[==================================================]\n",
      "Adam - 32: (0.01, 0.001, 0.0)\n"
     ]
    },
    {
     "data": {
      "text/html": [
       "\n",
       "<style>\n",
       "    /* Turns off some styling */\n",
       "    progress {\n",
       "        /* gets rid of default border in Firefox and Opera. */\n",
       "        border: none;\n",
       "        /* Needs to be in here for Safari polyfill so background images work as expected. */\n",
       "        background-size: auto;\n",
       "    }\n",
       "    progress:not([value]), progress:not([value])::-webkit-progress-bar {\n",
       "        background: repeating-linear-gradient(45deg, #7e7e7e, #7e7e7e 10px, #5c5c5c 10px, #5c5c5c 20px);\n",
       "    }\n",
       "    .progress-bar-interrupted, .progress-bar-interrupted::-webkit-progress-bar {\n",
       "        background: #F44336;\n",
       "    }\n",
       "</style>\n"
      ],
      "text/plain": [
       "<IPython.core.display.HTML object>"
      ]
     },
     "metadata": {},
     "output_type": "display_data"
    },
    {
     "data": {
      "text/html": [
       "[Epoch: 00] Loss (1.461 / 0.937) - Accuracy (72.6% / 86.7%)<p>[Epoch: 01] Loss (0.806 / 0.909) - Accuracy (90.1% / 89.1%)<p>[Epoch: 02] Loss (0.684 / 0.786) - Accuracy (92.4% / 89.2%)<p>[Epoch: 03] Loss (0.612 / 0.712) - Accuracy (93.4% / 90.7%)<p>[Epoch: 04] Loss (0.562 / 0.774) - Accuracy (94.6% / 92.4%)"
      ],
      "text/plain": [
       "<IPython.core.display.HTML object>"
      ]
     },
     "metadata": {},
     "output_type": "display_data"
    },
    {
     "name": "stdout",
     "output_type": "stream",
     "text": [
      "[==================================================]\n",
      "Adam - 32: (0.01, 0.001, 0.3)\n"
     ]
    },
    {
     "data": {
      "text/html": [
       "\n",
       "<style>\n",
       "    /* Turns off some styling */\n",
       "    progress {\n",
       "        /* gets rid of default border in Firefox and Opera. */\n",
       "        border: none;\n",
       "        /* Needs to be in here for Safari polyfill so background images work as expected. */\n",
       "        background-size: auto;\n",
       "    }\n",
       "    progress:not([value]), progress:not([value])::-webkit-progress-bar {\n",
       "        background: repeating-linear-gradient(45deg, #7e7e7e, #7e7e7e 10px, #5c5c5c 10px, #5c5c5c 20px);\n",
       "    }\n",
       "    .progress-bar-interrupted, .progress-bar-interrupted::-webkit-progress-bar {\n",
       "        background: #F44336;\n",
       "    }\n",
       "</style>\n"
      ],
      "text/plain": [
       "<IPython.core.display.HTML object>"
      ]
     },
     "metadata": {},
     "output_type": "display_data"
    },
    {
     "data": {
      "text/html": [
       "[Epoch: 00] Loss (1.733 / 1.183) - Accuracy (64.2% / 83.4%)<p>[Epoch: 01] Loss (0.966 / 0.795) - Accuracy (86.0% / 89.4%)<p>[Epoch: 02] Loss (0.803 / 0.737) - Accuracy (89.9% / 90.8%)<p>[Epoch: 03] Loss (0.709 / 1.019) - Accuracy (91.8% / 85.3%)<p>[Epoch: 04] Loss (0.658 / 0.624) - Accuracy (92.8% / 88.8%)"
      ],
      "text/plain": [
       "<IPython.core.display.HTML object>"
      ]
     },
     "metadata": {},
     "output_type": "display_data"
    },
    {
     "name": "stdout",
     "output_type": "stream",
     "text": [
      "[==================================================]\n",
      "Adam - 32: (0.01, 0.01, 0.0)\n"
     ]
    },
    {
     "data": {
      "text/html": [
       "\n",
       "<style>\n",
       "    /* Turns off some styling */\n",
       "    progress {\n",
       "        /* gets rid of default border in Firefox and Opera. */\n",
       "        border: none;\n",
       "        /* Needs to be in here for Safari polyfill so background images work as expected. */\n",
       "        background-size: auto;\n",
       "    }\n",
       "    progress:not([value]), progress:not([value])::-webkit-progress-bar {\n",
       "        background: repeating-linear-gradient(45deg, #7e7e7e, #7e7e7e 10px, #5c5c5c 10px, #5c5c5c 20px);\n",
       "    }\n",
       "    .progress-bar-interrupted, .progress-bar-interrupted::-webkit-progress-bar {\n",
       "        background: #F44336;\n",
       "    }\n",
       "</style>\n"
      ],
      "text/plain": [
       "<IPython.core.display.HTML object>"
      ]
     },
     "metadata": {},
     "output_type": "display_data"
    },
    {
     "data": {
      "text/html": [
       "[Epoch: 00] Loss (2.534 / 2.831) - Accuracy (47.6% / 39.9%)<p>[Epoch: 01] Loss (2.427 / 2.467) - Accuracy (51.7% / 49.7%)<p>[Epoch: 02] Loss (2.154 / 1.990) - Accuracy (57.4% / 55.4%)<p>[Epoch: 03] Loss (1.908 / 2.025) - Accuracy (60.7% / 54.0%)<p>[Epoch: 04] Loss (1.762 / 1.662) - Accuracy (63.3% / 58.9%)"
      ],
      "text/plain": [
       "<IPython.core.display.HTML object>"
      ]
     },
     "metadata": {},
     "output_type": "display_data"
    },
    {
     "name": "stdout",
     "output_type": "stream",
     "text": [
      "[==================================================]\n",
      "Adam - 32: (0.01, 0.01, 0.3)\n"
     ]
    },
    {
     "data": {
      "text/html": [
       "\n",
       "<style>\n",
       "    /* Turns off some styling */\n",
       "    progress {\n",
       "        /* gets rid of default border in Firefox and Opera. */\n",
       "        border: none;\n",
       "        /* Needs to be in here for Safari polyfill so background images work as expected. */\n",
       "        background-size: auto;\n",
       "    }\n",
       "    progress:not([value]), progress:not([value])::-webkit-progress-bar {\n",
       "        background: repeating-linear-gradient(45deg, #7e7e7e, #7e7e7e 10px, #5c5c5c 10px, #5c5c5c 20px);\n",
       "    }\n",
       "    .progress-bar-interrupted, .progress-bar-interrupted::-webkit-progress-bar {\n",
       "        background: #F44336;\n",
       "    }\n",
       "</style>\n"
      ],
      "text/plain": [
       "<IPython.core.display.HTML object>"
      ]
     },
     "metadata": {},
     "output_type": "display_data"
    },
    {
     "data": {
      "text/html": [
       "[Epoch: 00] Loss (2.705 / 3.036) - Accuracy (39.9% / 25.5%)<p>[Epoch: 01] Loss (2.688 / 2.705) - Accuracy (40.5% / 38.8%)<p>[Epoch: 02] Loss (2.594 / 2.641) - Accuracy (42.0% / 39.7%)<p>[Epoch: 03] Loss (2.459 / 2.286) - Accuracy (42.9% / 42.7%)<p>[Epoch: 04] Loss (2.339 / 2.293) - Accuracy (43.9% / 40.0%)"
      ],
      "text/plain": [
       "<IPython.core.display.HTML object>"
      ]
     },
     "metadata": {},
     "output_type": "display_data"
    },
    {
     "name": "stdout",
     "output_type": "stream",
     "text": [
      "[==================================================]\n",
      "Adam - 64: (0, 0, 0.0)\n"
     ]
    },
    {
     "data": {
      "text/html": [
       "\n",
       "<style>\n",
       "    /* Turns off some styling */\n",
       "    progress {\n",
       "        /* gets rid of default border in Firefox and Opera. */\n",
       "        border: none;\n",
       "        /* Needs to be in here for Safari polyfill so background images work as expected. */\n",
       "        background-size: auto;\n",
       "    }\n",
       "    progress:not([value]), progress:not([value])::-webkit-progress-bar {\n",
       "        background: repeating-linear-gradient(45deg, #7e7e7e, #7e7e7e 10px, #5c5c5c 10px, #5c5c5c 20px);\n",
       "    }\n",
       "    .progress-bar-interrupted, .progress-bar-interrupted::-webkit-progress-bar {\n",
       "        background: #F44336;\n",
       "    }\n",
       "</style>\n"
      ],
      "text/plain": [
       "<IPython.core.display.HTML object>"
      ]
     },
     "metadata": {},
     "output_type": "display_data"
    },
    {
     "data": {
      "text/html": [
       "[Epoch: 00] Loss (1.417 / 0.619) - Accuracy (68.2% / 87.0%)<p>[Epoch: 01] Loss (0.256 / 0.332) - Accuracy (95.6% / 91.8%)<p>[Epoch: 02] Loss (0.093 / 0.276) - Accuracy (98.6% / 91.5%)<p>[Epoch: 03] Loss (0.045 / 0.223) - Accuracy (99.4% / 94.5%)<p>[Epoch: 04] Loss (0.025 / 0.233) - Accuracy (99.7% / 94.0%)"
      ],
      "text/plain": [
       "<IPython.core.display.HTML object>"
      ]
     },
     "metadata": {},
     "output_type": "display_data"
    },
    {
     "name": "stdout",
     "output_type": "stream",
     "text": [
      "[==================================================]\n",
      "Adam - 64: (0, 0, 0.3)\n"
     ]
    },
    {
     "data": {
      "text/html": [
       "\n",
       "<style>\n",
       "    /* Turns off some styling */\n",
       "    progress {\n",
       "        /* gets rid of default border in Firefox and Opera. */\n",
       "        border: none;\n",
       "        /* Needs to be in here for Safari polyfill so background images work as expected. */\n",
       "        background-size: auto;\n",
       "    }\n",
       "    progress:not([value]), progress:not([value])::-webkit-progress-bar {\n",
       "        background: repeating-linear-gradient(45deg, #7e7e7e, #7e7e7e 10px, #5c5c5c 10px, #5c5c5c 20px);\n",
       "    }\n",
       "    .progress-bar-interrupted, .progress-bar-interrupted::-webkit-progress-bar {\n",
       "        background: #F44336;\n",
       "    }\n",
       "</style>\n"
      ],
      "text/plain": [
       "<IPython.core.display.HTML object>"
      ]
     },
     "metadata": {},
     "output_type": "display_data"
    },
    {
     "data": {
      "text/html": [
       "[Epoch: 00] Loss (1.645 / 0.719) - Accuracy (61.4% / 84.0%)<p>[Epoch: 01] Loss (0.394 / 0.382) - Accuracy (92.0% / 91.0%)<p>[Epoch: 02] Loss (0.177 / 0.237) - Accuracy (96.3% / 93.5%)<p>[Epoch: 03] Loss (0.107 / 0.206) - Accuracy (97.8% / 94.3%)<p>[Epoch: 04] Loss (0.071 / 0.197) - Accuracy (98.5% / 94.6%)"
      ],
      "text/plain": [
       "<IPython.core.display.HTML object>"
      ]
     },
     "metadata": {},
     "output_type": "display_data"
    },
    {
     "name": "stdout",
     "output_type": "stream",
     "text": [
      "[==================================================]\n",
      "Adam - 64: (0, 0.001, 0.0)\n"
     ]
    },
    {
     "data": {
      "text/html": [
       "\n",
       "<style>\n",
       "    /* Turns off some styling */\n",
       "    progress {\n",
       "        /* gets rid of default border in Firefox and Opera. */\n",
       "        border: none;\n",
       "        /* Needs to be in here for Safari polyfill so background images work as expected. */\n",
       "        background-size: auto;\n",
       "    }\n",
       "    progress:not([value]), progress:not([value])::-webkit-progress-bar {\n",
       "        background: repeating-linear-gradient(45deg, #7e7e7e, #7e7e7e 10px, #5c5c5c 10px, #5c5c5c 20px);\n",
       "    }\n",
       "    .progress-bar-interrupted, .progress-bar-interrupted::-webkit-progress-bar {\n",
       "        background: #F44336;\n",
       "    }\n",
       "</style>\n"
      ],
      "text/plain": [
       "<IPython.core.display.HTML object>"
      ]
     },
     "metadata": {},
     "output_type": "display_data"
    },
    {
     "data": {
      "text/html": [
       "[Epoch: 00] Loss (1.368 / 0.618) - Accuracy (70.4% / 86.6%)<p>[Epoch: 01] Loss (0.386 / 0.521) - Accuracy (92.8% / 88.9%)<p>[Epoch: 02] Loss (0.306 / 0.498) - Accuracy (93.7% / 87.8%)<p>[Epoch: 03] Loss (0.270 / 0.651) - Accuracy (94.3% / 82.9%)<p>[Epoch: 04] Loss (0.253 / 0.500) - Accuracy (94.4% / 87.7%)"
      ],
      "text/plain": [
       "<IPython.core.display.HTML object>"
      ]
     },
     "metadata": {},
     "output_type": "display_data"
    },
    {
     "name": "stdout",
     "output_type": "stream",
     "text": [
      "[==================================================]\n",
      "Adam - 64: (0, 0.001, 0.3)\n"
     ]
    },
    {
     "data": {
      "text/html": [
       "\n",
       "<style>\n",
       "    /* Turns off some styling */\n",
       "    progress {\n",
       "        /* gets rid of default border in Firefox and Opera. */\n",
       "        border: none;\n",
       "        /* Needs to be in here for Safari polyfill so background images work as expected. */\n",
       "        background-size: auto;\n",
       "    }\n",
       "    progress:not([value]), progress:not([value])::-webkit-progress-bar {\n",
       "        background: repeating-linear-gradient(45deg, #7e7e7e, #7e7e7e 10px, #5c5c5c 10px, #5c5c5c 20px);\n",
       "    }\n",
       "    .progress-bar-interrupted, .progress-bar-interrupted::-webkit-progress-bar {\n",
       "        background: #F44336;\n",
       "    }\n",
       "</style>\n"
      ],
      "text/plain": [
       "<IPython.core.display.HTML object>"
      ]
     },
     "metadata": {},
     "output_type": "display_data"
    },
    {
     "data": {
      "text/html": [
       "[Epoch: 00] Loss (1.691 / 0.826) - Accuracy (61.1% / 82.1%)<p>[Epoch: 01] Loss (0.516 / 0.442) - Accuracy (89.6% / 89.9%)<p>[Epoch: 02] Loss (0.372 / 0.479) - Accuracy (92.2% / 88.8%)<p>[Epoch: 03] Loss (0.329 / 0.473) - Accuracy (92.7% / 88.0%)<p>[Epoch: 04] Loss (0.299 / 0.455) - Accuracy (93.3% / 87.2%)"
      ],
      "text/plain": [
       "<IPython.core.display.HTML object>"
      ]
     },
     "metadata": {},
     "output_type": "display_data"
    },
    {
     "name": "stdout",
     "output_type": "stream",
     "text": [
      "[==================================================]\n",
      "Adam - 64: (0, 0.01, 0.0)\n"
     ]
    },
    {
     "data": {
      "text/html": [
       "\n",
       "<style>\n",
       "    /* Turns off some styling */\n",
       "    progress {\n",
       "        /* gets rid of default border in Firefox and Opera. */\n",
       "        border: none;\n",
       "        /* Needs to be in here for Safari polyfill so background images work as expected. */\n",
       "        background-size: auto;\n",
       "    }\n",
       "    progress:not([value]), progress:not([value])::-webkit-progress-bar {\n",
       "        background: repeating-linear-gradient(45deg, #7e7e7e, #7e7e7e 10px, #5c5c5c 10px, #5c5c5c 20px);\n",
       "    }\n",
       "    .progress-bar-interrupted, .progress-bar-interrupted::-webkit-progress-bar {\n",
       "        background: #F44336;\n",
       "    }\n",
       "</style>\n"
      ],
      "text/plain": [
       "<IPython.core.display.HTML object>"
      ]
     },
     "metadata": {},
     "output_type": "display_data"
    },
    {
     "data": {
      "text/html": [
       "[Epoch: 00] Loss (2.015 / 2.181) - Accuracy (59.1% / 50.9%)<p>[Epoch: 01] Loss (1.326 / 1.498) - Accuracy (77.5% / 69.9%)<p>[Epoch: 02] Loss (1.037 / 1.298) - Accuracy (81.5% / 75.9%)<p>[Epoch: 03] Loss (0.835 / 0.727) - Accuracy (85.4% / 85.0%)<p>[Epoch: 04] Loss (0.750 / 1.006) - Accuracy (87.0% / 78.3%)"
      ],
      "text/plain": [
       "<IPython.core.display.HTML object>"
      ]
     },
     "metadata": {},
     "output_type": "display_data"
    },
    {
     "name": "stdout",
     "output_type": "stream",
     "text": [
      "[==================================================]\n",
      "Adam - 64: (0, 0.01, 0.3)\n"
     ]
    },
    {
     "data": {
      "text/html": [
       "\n",
       "<style>\n",
       "    /* Turns off some styling */\n",
       "    progress {\n",
       "        /* gets rid of default border in Firefox and Opera. */\n",
       "        border: none;\n",
       "        /* Needs to be in here for Safari polyfill so background images work as expected. */\n",
       "        background-size: auto;\n",
       "    }\n",
       "    progress:not([value]), progress:not([value])::-webkit-progress-bar {\n",
       "        background: repeating-linear-gradient(45deg, #7e7e7e, #7e7e7e 10px, #5c5c5c 10px, #5c5c5c 20px);\n",
       "    }\n",
       "    .progress-bar-interrupted, .progress-bar-interrupted::-webkit-progress-bar {\n",
       "        background: #F44336;\n",
       "    }\n",
       "</style>\n"
      ],
      "text/plain": [
       "<IPython.core.display.HTML object>"
      ]
     },
     "metadata": {},
     "output_type": "display_data"
    },
    {
     "data": {
      "text/html": [
       "[Epoch: 00] Loss (2.403 / 2.298) - Accuracy (47.2% / 57.1%)<p>[Epoch: 01] Loss (1.662 / 1.900) - Accuracy (68.9% / 61.1%)<p>[Epoch: 02] Loss (1.306 / 1.496) - Accuracy (75.7% / 74.2%)<p>[Epoch: 03] Loss (1.067 / 1.192) - Accuracy (79.3% / 80.9%)<p>[Epoch: 04] Loss (0.957 / 1.030) - Accuracy (81.0% / 84.8%)"
      ],
      "text/plain": [
       "<IPython.core.display.HTML object>"
      ]
     },
     "metadata": {},
     "output_type": "display_data"
    },
    {
     "name": "stdout",
     "output_type": "stream",
     "text": [
      "[==================================================]\n",
      "Adam - 64: (0.001, 0, 0.0)\n"
     ]
    },
    {
     "data": {
      "text/html": [
       "\n",
       "<style>\n",
       "    /* Turns off some styling */\n",
       "    progress {\n",
       "        /* gets rid of default border in Firefox and Opera. */\n",
       "        border: none;\n",
       "        /* Needs to be in here for Safari polyfill so background images work as expected. */\n",
       "        background-size: auto;\n",
       "    }\n",
       "    progress:not([value]), progress:not([value])::-webkit-progress-bar {\n",
       "        background: repeating-linear-gradient(45deg, #7e7e7e, #7e7e7e 10px, #5c5c5c 10px, #5c5c5c 20px);\n",
       "    }\n",
       "    .progress-bar-interrupted, .progress-bar-interrupted::-webkit-progress-bar {\n",
       "        background: #F44336;\n",
       "    }\n",
       "</style>\n"
      ],
      "text/plain": [
       "<IPython.core.display.HTML object>"
      ]
     },
     "metadata": {},
     "output_type": "display_data"
    },
    {
     "data": {
      "text/html": [
       "[Epoch: 00] Loss (1.361 / 0.657) - Accuracy (69.6% / 86.9%)<p>[Epoch: 01] Loss (0.264 / 0.330) - Accuracy (95.6% / 91.9%)<p>[Epoch: 02] Loss (0.118 / 0.286) - Accuracy (98.3% / 93.8%)<p>[Epoch: 03] Loss (0.075 / 0.245) - Accuracy (99.2% / 94.6%)<p>[Epoch: 04] Loss (0.068 / 0.268) - Accuracy (99.3% / 93.8%)"
      ],
      "text/plain": [
       "<IPython.core.display.HTML object>"
      ]
     },
     "metadata": {},
     "output_type": "display_data"
    },
    {
     "name": "stdout",
     "output_type": "stream",
     "text": [
      "[==================================================]\n",
      "Adam - 64: (0.001, 0, 0.3)\n"
     ]
    },
    {
     "data": {
      "text/html": [
       "\n",
       "<style>\n",
       "    /* Turns off some styling */\n",
       "    progress {\n",
       "        /* gets rid of default border in Firefox and Opera. */\n",
       "        border: none;\n",
       "        /* Needs to be in here for Safari polyfill so background images work as expected. */\n",
       "        background-size: auto;\n",
       "    }\n",
       "    progress:not([value]), progress:not([value])::-webkit-progress-bar {\n",
       "        background: repeating-linear-gradient(45deg, #7e7e7e, #7e7e7e 10px, #5c5c5c 10px, #5c5c5c 20px);\n",
       "    }\n",
       "    .progress-bar-interrupted, .progress-bar-interrupted::-webkit-progress-bar {\n",
       "        background: #F44336;\n",
       "    }\n",
       "</style>\n"
      ],
      "text/plain": [
       "<IPython.core.display.HTML object>"
      ]
     },
     "metadata": {},
     "output_type": "display_data"
    },
    {
     "data": {
      "text/html": [
       "[Epoch: 00] Loss (1.740 / 0.727) - Accuracy (59.4% / 82.3%)<p>[Epoch: 01] Loss (0.427 / 0.339) - Accuracy (91.5% / 93.0%)<p>[Epoch: 02] Loss (0.203 / 0.244) - Accuracy (96.2% / 93.0%)<p>[Epoch: 03] Loss (0.128 / 0.219) - Accuracy (98.0% / 94.5%)<p>[Epoch: 04] Loss (0.100 / 0.205) - Accuracy (98.5% / 94.3%)"
      ],
      "text/plain": [
       "<IPython.core.display.HTML object>"
      ]
     },
     "metadata": {},
     "output_type": "display_data"
    },
    {
     "name": "stdout",
     "output_type": "stream",
     "text": [
      "[==================================================]\n",
      "Adam - 64: (0.001, 0.001, 0.0)\n"
     ]
    },
    {
     "data": {
      "text/html": [
       "\n",
       "<style>\n",
       "    /* Turns off some styling */\n",
       "    progress {\n",
       "        /* gets rid of default border in Firefox and Opera. */\n",
       "        border: none;\n",
       "        /* Needs to be in here for Safari polyfill so background images work as expected. */\n",
       "        background-size: auto;\n",
       "    }\n",
       "    progress:not([value]), progress:not([value])::-webkit-progress-bar {\n",
       "        background: repeating-linear-gradient(45deg, #7e7e7e, #7e7e7e 10px, #5c5c5c 10px, #5c5c5c 20px);\n",
       "    }\n",
       "    .progress-bar-interrupted, .progress-bar-interrupted::-webkit-progress-bar {\n",
       "        background: #F44336;\n",
       "    }\n",
       "</style>\n"
      ],
      "text/plain": [
       "<IPython.core.display.HTML object>"
      ]
     },
     "metadata": {},
     "output_type": "display_data"
    },
    {
     "data": {
      "text/html": [
       "[Epoch: 00] Loss (1.414 / 0.816) - Accuracy (69.3% / 84.0%)<p>[Epoch: 01] Loss (0.414 / 0.611) - Accuracy (93.0% / 85.0%)<p>[Epoch: 02] Loss (0.334 / 0.538) - Accuracy (93.9% / 87.3%)<p>[Epoch: 03] Loss (0.295 / 0.418) - Accuracy (94.7% / 91.9%)<p>[Epoch: 04] Loss (0.272 / 0.396) - Accuracy (95.0% / 91.5%)"
      ],
      "text/plain": [
       "<IPython.core.display.HTML object>"
      ]
     },
     "metadata": {},
     "output_type": "display_data"
    },
    {
     "name": "stdout",
     "output_type": "stream",
     "text": [
      "[==================================================]\n",
      "Adam - 64: (0.001, 0.001, 0.3)\n"
     ]
    },
    {
     "data": {
      "text/html": [
       "\n",
       "<style>\n",
       "    /* Turns off some styling */\n",
       "    progress {\n",
       "        /* gets rid of default border in Firefox and Opera. */\n",
       "        border: none;\n",
       "        /* Needs to be in here for Safari polyfill so background images work as expected. */\n",
       "        background-size: auto;\n",
       "    }\n",
       "    progress:not([value]), progress:not([value])::-webkit-progress-bar {\n",
       "        background: repeating-linear-gradient(45deg, #7e7e7e, #7e7e7e 10px, #5c5c5c 10px, #5c5c5c 20px);\n",
       "    }\n",
       "    .progress-bar-interrupted, .progress-bar-interrupted::-webkit-progress-bar {\n",
       "        background: #F44336;\n",
       "    }\n",
       "</style>\n"
      ],
      "text/plain": [
       "<IPython.core.display.HTML object>"
      ]
     },
     "metadata": {},
     "output_type": "display_data"
    },
    {
     "data": {
      "text/html": [
       "[Epoch: 00] Loss (1.677 / 0.757) - Accuracy (61.4% / 84.7%)<p>[Epoch: 01] Loss (0.532 / 0.705) - Accuracy (89.7% / 84.7%)<p>[Epoch: 02] Loss (0.405 / 0.397) - Accuracy (92.0% / 92.7%)<p>[Epoch: 03] Loss (0.360 / 0.407) - Accuracy (92.8% / 90.3%)<p>[Epoch: 04] Loss (0.324 / 0.366) - Accuracy (93.5% / 92.4%)"
      ],
      "text/plain": [
       "<IPython.core.display.HTML object>"
      ]
     },
     "metadata": {},
     "output_type": "display_data"
    },
    {
     "name": "stdout",
     "output_type": "stream",
     "text": [
      "[==================================================]\n",
      "Adam - 64: (0.001, 0.01, 0.0)\n"
     ]
    },
    {
     "data": {
      "text/html": [
       "\n",
       "<style>\n",
       "    /* Turns off some styling */\n",
       "    progress {\n",
       "        /* gets rid of default border in Firefox and Opera. */\n",
       "        border: none;\n",
       "        /* Needs to be in here for Safari polyfill so background images work as expected. */\n",
       "        background-size: auto;\n",
       "    }\n",
       "    progress:not([value]), progress:not([value])::-webkit-progress-bar {\n",
       "        background: repeating-linear-gradient(45deg, #7e7e7e, #7e7e7e 10px, #5c5c5c 10px, #5c5c5c 20px);\n",
       "    }\n",
       "    .progress-bar-interrupted, .progress-bar-interrupted::-webkit-progress-bar {\n",
       "        background: #F44336;\n",
       "    }\n",
       "</style>\n"
      ],
      "text/plain": [
       "<IPython.core.display.HTML object>"
      ]
     },
     "metadata": {},
     "output_type": "display_data"
    },
    {
     "data": {
      "text/html": [
       "[Epoch: 00] Loss (2.085 / 1.729) - Accuracy (59.2% / 62.0%)<p>[Epoch: 01] Loss (1.423 / 1.610) - Accuracy (76.6% / 72.9%)<p>[Epoch: 02] Loss (1.121 / 1.535) - Accuracy (81.0% / 74.4%)<p>[Epoch: 03] Loss (0.921 / 1.071) - Accuracy (84.5% / 79.7%)<p>[Epoch: 04] Loss (0.823 / 0.841) - Accuracy (86.3% / 81.3%)"
      ],
      "text/plain": [
       "<IPython.core.display.HTML object>"
      ]
     },
     "metadata": {},
     "output_type": "display_data"
    },
    {
     "name": "stdout",
     "output_type": "stream",
     "text": [
      "[==================================================]\n",
      "Adam - 64: (0.001, 0.01, 0.3)\n"
     ]
    },
    {
     "data": {
      "text/html": [
       "\n",
       "<style>\n",
       "    /* Turns off some styling */\n",
       "    progress {\n",
       "        /* gets rid of default border in Firefox and Opera. */\n",
       "        border: none;\n",
       "        /* Needs to be in here for Safari polyfill so background images work as expected. */\n",
       "        background-size: auto;\n",
       "    }\n",
       "    progress:not([value]), progress:not([value])::-webkit-progress-bar {\n",
       "        background: repeating-linear-gradient(45deg, #7e7e7e, #7e7e7e 10px, #5c5c5c 10px, #5c5c5c 20px);\n",
       "    }\n",
       "    .progress-bar-interrupted, .progress-bar-interrupted::-webkit-progress-bar {\n",
       "        background: #F44336;\n",
       "    }\n",
       "</style>\n"
      ],
      "text/plain": [
       "<IPython.core.display.HTML object>"
      ]
     },
     "metadata": {},
     "output_type": "display_data"
    },
    {
     "data": {
      "text/html": [
       "[Epoch: 00] Loss (2.326 / 2.421) - Accuracy (50.1% / 53.0%)<p>[Epoch: 01] Loss (1.652 / 1.919) - Accuracy (70.1% / 61.4%)<p>[Epoch: 02] Loss (1.349 / 1.520) - Accuracy (75.3% / 68.5%)<p>[Epoch: 03] Loss (1.115 / 0.954) - Accuracy (79.6% / 79.0%)<p>[Epoch: 04] Loss (0.980 / 1.272) - Accuracy (81.7% / 80.5%)"
      ],
      "text/plain": [
       "<IPython.core.display.HTML object>"
      ]
     },
     "metadata": {},
     "output_type": "display_data"
    },
    {
     "name": "stdout",
     "output_type": "stream",
     "text": [
      "[==================================================]\n",
      "Adam - 64: (0.01, 0, 0.0)\n"
     ]
    },
    {
     "data": {
      "text/html": [
       "\n",
       "<style>\n",
       "    /* Turns off some styling */\n",
       "    progress {\n",
       "        /* gets rid of default border in Firefox and Opera. */\n",
       "        border: none;\n",
       "        /* Needs to be in here for Safari polyfill so background images work as expected. */\n",
       "        background-size: auto;\n",
       "    }\n",
       "    progress:not([value]), progress:not([value])::-webkit-progress-bar {\n",
       "        background: repeating-linear-gradient(45deg, #7e7e7e, #7e7e7e 10px, #5c5c5c 10px, #5c5c5c 20px);\n",
       "    }\n",
       "    .progress-bar-interrupted, .progress-bar-interrupted::-webkit-progress-bar {\n",
       "        background: #F44336;\n",
       "    }\n",
       "</style>\n"
      ],
      "text/plain": [
       "<IPython.core.display.HTML object>"
      ]
     },
     "metadata": {},
     "output_type": "display_data"
    },
    {
     "data": {
      "text/html": [
       "[Epoch: 00] Loss (1.493 / 0.870) - Accuracy (70.9% / 88.6%)<p>[Epoch: 01] Loss (0.517 / 0.742) - Accuracy (95.6% / 94.5%)<p>[Epoch: 02] Loss (0.414 / 0.544) - Accuracy (97.4% / 94.8%)<p>[Epoch: 03] Loss (0.384 / 0.555) - Accuracy (98.0% / 94.9%)<p>[Epoch: 04] Loss (0.352 / 0.839) - Accuracy (98.3% / 94.5%)"
      ],
      "text/plain": [
       "<IPython.core.display.HTML object>"
      ]
     },
     "metadata": {},
     "output_type": "display_data"
    },
    {
     "name": "stdout",
     "output_type": "stream",
     "text": [
      "[==================================================]\n",
      "Adam - 64: (0.01, 0, 0.3)\n"
     ]
    },
    {
     "data": {
      "text/html": [
       "\n",
       "<style>\n",
       "    /* Turns off some styling */\n",
       "    progress {\n",
       "        /* gets rid of default border in Firefox and Opera. */\n",
       "        border: none;\n",
       "        /* Needs to be in here for Safari polyfill so background images work as expected. */\n",
       "        background-size: auto;\n",
       "    }\n",
       "    progress:not([value]), progress:not([value])::-webkit-progress-bar {\n",
       "        background: repeating-linear-gradient(45deg, #7e7e7e, #7e7e7e 10px, #5c5c5c 10px, #5c5c5c 20px);\n",
       "    }\n",
       "    .progress-bar-interrupted, .progress-bar-interrupted::-webkit-progress-bar {\n",
       "        background: #F44336;\n",
       "    }\n",
       "</style>\n"
      ],
      "text/plain": [
       "<IPython.core.display.HTML object>"
      ]
     },
     "metadata": {},
     "output_type": "display_data"
    },
    {
     "data": {
      "text/html": [
       "[Epoch: 00] Loss (1.824 / 1.156) - Accuracy (61.1% / 84.8%)<p>[Epoch: 01] Loss (0.670 / 0.794) - Accuracy (92.4% / 94.0%)<p>[Epoch: 02] Loss (0.508 / 0.528) - Accuracy (96.0% / 94.1%)<p>[Epoch: 03] Loss (0.465 / 0.618) - Accuracy (96.5% / 93.5%)<p>[Epoch: 04] Loss (0.434 / 0.557) - Accuracy (96.9% / 92.4%)"
      ],
      "text/plain": [
       "<IPython.core.display.HTML object>"
      ]
     },
     "metadata": {},
     "output_type": "display_data"
    },
    {
     "name": "stdout",
     "output_type": "stream",
     "text": [
      "[==================================================]\n",
      "Adam - 64: (0.01, 0.001, 0.0)\n"
     ]
    },
    {
     "data": {
      "text/html": [
       "\n",
       "<style>\n",
       "    /* Turns off some styling */\n",
       "    progress {\n",
       "        /* gets rid of default border in Firefox and Opera. */\n",
       "        border: none;\n",
       "        /* Needs to be in here for Safari polyfill so background images work as expected. */\n",
       "        background-size: auto;\n",
       "    }\n",
       "    progress:not([value]), progress:not([value])::-webkit-progress-bar {\n",
       "        background: repeating-linear-gradient(45deg, #7e7e7e, #7e7e7e 10px, #5c5c5c 10px, #5c5c5c 20px);\n",
       "    }\n",
       "    .progress-bar-interrupted, .progress-bar-interrupted::-webkit-progress-bar {\n",
       "        background: #F44336;\n",
       "    }\n",
       "</style>\n"
      ],
      "text/plain": [
       "<IPython.core.display.HTML object>"
      ]
     },
     "metadata": {},
     "output_type": "display_data"
    },
    {
     "data": {
      "text/html": [
       "[Epoch: 00] Loss (1.549 / 1.226) - Accuracy (69.7% / 85.0%)<p>[Epoch: 01] Loss (0.730 / 0.902) - Accuracy (92.5% / 87.2%)<p>[Epoch: 02] Loss (0.649 / 0.990) - Accuracy (93.9% / 85.4%)<p>[Epoch: 03] Loss (0.599 / 0.973) - Accuracy (94.5% / 85.1%)<p>[Epoch: 04] Loss (0.543 / 0.752) - Accuracy (95.1% / 91.9%)"
      ],
      "text/plain": [
       "<IPython.core.display.HTML object>"
      ]
     },
     "metadata": {},
     "output_type": "display_data"
    },
    {
     "name": "stdout",
     "output_type": "stream",
     "text": [
      "[==================================================]\n",
      "Adam - 64: (0.01, 0.001, 0.3)\n"
     ]
    },
    {
     "data": {
      "text/html": [
       "\n",
       "<style>\n",
       "    /* Turns off some styling */\n",
       "    progress {\n",
       "        /* gets rid of default border in Firefox and Opera. */\n",
       "        border: none;\n",
       "        /* Needs to be in here for Safari polyfill so background images work as expected. */\n",
       "        background-size: auto;\n",
       "    }\n",
       "    progress:not([value]), progress:not([value])::-webkit-progress-bar {\n",
       "        background: repeating-linear-gradient(45deg, #7e7e7e, #7e7e7e 10px, #5c5c5c 10px, #5c5c5c 20px);\n",
       "    }\n",
       "    .progress-bar-interrupted, .progress-bar-interrupted::-webkit-progress-bar {\n",
       "        background: #F44336;\n",
       "    }\n",
       "</style>\n"
      ],
      "text/plain": [
       "<IPython.core.display.HTML object>"
      ]
     },
     "metadata": {},
     "output_type": "display_data"
    },
    {
     "data": {
      "text/html": [
       "[Epoch: 00] Loss (1.824 / 1.211) - Accuracy (62.0% / 84.0%)<p>[Epoch: 01] Loss (0.866 / 0.958) - Accuracy (88.9% / 88.6%)<p>[Epoch: 02] Loss (0.767 / 1.010) - Accuracy (91.2% / 88.0%)<p>[Epoch: 03] Loss (0.717 / 1.001) - Accuracy (92.3% / 88.1%)<p>[Epoch: 04] Loss (0.631 / 0.915) - Accuracy (94.1% / 92.2%)"
      ],
      "text/plain": [
       "<IPython.core.display.HTML object>"
      ]
     },
     "metadata": {},
     "output_type": "display_data"
    },
    {
     "name": "stdout",
     "output_type": "stream",
     "text": [
      "[==================================================]\n",
      "Adam - 64: (0.01, 0.01, 0.0)\n"
     ]
    },
    {
     "data": {
      "text/html": [
       "\n",
       "<style>\n",
       "    /* Turns off some styling */\n",
       "    progress {\n",
       "        /* gets rid of default border in Firefox and Opera. */\n",
       "        border: none;\n",
       "        /* Needs to be in here for Safari polyfill so background images work as expected. */\n",
       "        background-size: auto;\n",
       "    }\n",
       "    progress:not([value]), progress:not([value])::-webkit-progress-bar {\n",
       "        background: repeating-linear-gradient(45deg, #7e7e7e, #7e7e7e 10px, #5c5c5c 10px, #5c5c5c 20px);\n",
       "    }\n",
       "    .progress-bar-interrupted, .progress-bar-interrupted::-webkit-progress-bar {\n",
       "        background: #F44336;\n",
       "    }\n",
       "</style>\n"
      ],
      "text/plain": [
       "<IPython.core.display.HTML object>"
      ]
     },
     "metadata": {},
     "output_type": "display_data"
    },
    {
     "data": {
      "text/html": [
       "[Epoch: 00] Loss (2.293 / 2.325) - Accuracy (55.5% / 63.1%)<p>[Epoch: 01] Loss (1.951 / 2.085) - Accuracy (69.3% / 61.6%)<p>[Epoch: 02] Loss (1.805 / 1.738) - Accuracy (71.4% / 66.9%)<p>[Epoch: 03] Loss (1.623 / 1.594) - Accuracy (74.6% / 67.4%)<p>[Epoch: 04] Loss (1.420 / 1.305) - Accuracy (78.7% / 76.7%)"
      ],
      "text/plain": [
       "<IPython.core.display.HTML object>"
      ]
     },
     "metadata": {},
     "output_type": "display_data"
    },
    {
     "name": "stdout",
     "output_type": "stream",
     "text": [
      "[==================================================]\n",
      "Adam - 64: (0.01, 0.01, 0.3)\n"
     ]
    },
    {
     "data": {
      "text/html": [
       "\n",
       "<style>\n",
       "    /* Turns off some styling */\n",
       "    progress {\n",
       "        /* gets rid of default border in Firefox and Opera. */\n",
       "        border: none;\n",
       "        /* Needs to be in here for Safari polyfill so background images work as expected. */\n",
       "        background-size: auto;\n",
       "    }\n",
       "    progress:not([value]), progress:not([value])::-webkit-progress-bar {\n",
       "        background: repeating-linear-gradient(45deg, #7e7e7e, #7e7e7e 10px, #5c5c5c 10px, #5c5c5c 20px);\n",
       "    }\n",
       "    .progress-bar-interrupted, .progress-bar-interrupted::-webkit-progress-bar {\n",
       "        background: #F44336;\n",
       "    }\n",
       "</style>\n"
      ],
      "text/plain": [
       "<IPython.core.display.HTML object>"
      ]
     },
     "metadata": {},
     "output_type": "display_data"
    },
    {
     "data": {
      "text/html": [
       "[Epoch: 00] Loss (2.500 / 2.549) - Accuracy (47.5% / 43.2%)<p>[Epoch: 01] Loss (2.213 / 2.538) - Accuracy (58.8% / 58.4%)<p>[Epoch: 02] Loss (2.160 / 2.259) - Accuracy (59.5% / 61.2%)<p>[Epoch: 03] Loss (2.016 / 1.978) - Accuracy (63.9% / 59.3%)<p>[Epoch: 04] Loss (1.837 / 1.880) - Accuracy (67.5% / 63.8%)"
      ],
      "text/plain": [
       "<IPython.core.display.HTML object>"
      ]
     },
     "metadata": {},
     "output_type": "display_data"
    },
    {
     "name": "stdout",
     "output_type": "stream",
     "text": [
      "[==================================================]\n",
      "Adam - 128: (0, 0, 0.0)\n"
     ]
    },
    {
     "data": {
      "text/html": [
       "\n",
       "<style>\n",
       "    /* Turns off some styling */\n",
       "    progress {\n",
       "        /* gets rid of default border in Firefox and Opera. */\n",
       "        border: none;\n",
       "        /* Needs to be in here for Safari polyfill so background images work as expected. */\n",
       "        background-size: auto;\n",
       "    }\n",
       "    progress:not([value]), progress:not([value])::-webkit-progress-bar {\n",
       "        background: repeating-linear-gradient(45deg, #7e7e7e, #7e7e7e 10px, #5c5c5c 10px, #5c5c5c 20px);\n",
       "    }\n",
       "    .progress-bar-interrupted, .progress-bar-interrupted::-webkit-progress-bar {\n",
       "        background: #F44336;\n",
       "    }\n",
       "</style>\n"
      ],
      "text/plain": [
       "<IPython.core.display.HTML object>"
      ]
     },
     "metadata": {},
     "output_type": "display_data"
    },
    {
     "data": {
      "text/html": [
       "[Epoch: 00] Loss (1.653 / 0.851) - Accuracy (63.3% / 82.4%)<p>[Epoch: 01] Loss (0.389 / 0.471) - Accuracy (93.6% / 88.0%)<p>[Epoch: 02] Loss (0.151 / 0.305) - Accuracy (97.8% / 93.7%)<p>[Epoch: 03] Loss (0.065 / 0.265) - Accuracy (99.4% / 93.4%)<p>[Epoch: 04] Loss (0.035 / 0.224) - Accuracy (99.8% / 94.1%)"
      ],
      "text/plain": [
       "<IPython.core.display.HTML object>"
      ]
     },
     "metadata": {},
     "output_type": "display_data"
    },
    {
     "name": "stdout",
     "output_type": "stream",
     "text": [
      "[==================================================]\n",
      "Adam - 128: (0, 0, 0.3)\n"
     ]
    },
    {
     "data": {
      "text/html": [
       "\n",
       "<style>\n",
       "    /* Turns off some styling */\n",
       "    progress {\n",
       "        /* gets rid of default border in Firefox and Opera. */\n",
       "        border: none;\n",
       "        /* Needs to be in here for Safari polyfill so background images work as expected. */\n",
       "        background-size: auto;\n",
       "    }\n",
       "    progress:not([value]), progress:not([value])::-webkit-progress-bar {\n",
       "        background: repeating-linear-gradient(45deg, #7e7e7e, #7e7e7e 10px, #5c5c5c 10px, #5c5c5c 20px);\n",
       "    }\n",
       "    .progress-bar-interrupted, .progress-bar-interrupted::-webkit-progress-bar {\n",
       "        background: #F44336;\n",
       "    }\n",
       "</style>\n"
      ],
      "text/plain": [
       "<IPython.core.display.HTML object>"
      ]
     },
     "metadata": {},
     "output_type": "display_data"
    },
    {
     "data": {
      "text/html": [
       "[Epoch: 00] Loss (2.024 / 1.141) - Accuracy (52.5% / 74.2%)<p>[Epoch: 01] Loss (0.623 / 0.542) - Accuracy (87.5% / 87.7%)<p>[Epoch: 02] Loss (0.283 / 0.361) - Accuracy (94.9% / 89.6%)<p>[Epoch: 03] Loss (0.157 / 0.265) - Accuracy (97.2% / 92.4%)<p>[Epoch: 04] Loss (0.101 / 0.206) - Accuracy (98.2% / 94.8%)"
      ],
      "text/plain": [
       "<IPython.core.display.HTML object>"
      ]
     },
     "metadata": {},
     "output_type": "display_data"
    },
    {
     "name": "stdout",
     "output_type": "stream",
     "text": [
      "[==================================================]\n",
      "Adam - 128: (0, 0.001, 0.0)\n"
     ]
    },
    {
     "data": {
      "text/html": [
       "\n",
       "<style>\n",
       "    /* Turns off some styling */\n",
       "    progress {\n",
       "        /* gets rid of default border in Firefox and Opera. */\n",
       "        border: none;\n",
       "        /* Needs to be in here for Safari polyfill so background images work as expected. */\n",
       "        background-size: auto;\n",
       "    }\n",
       "    progress:not([value]), progress:not([value])::-webkit-progress-bar {\n",
       "        background: repeating-linear-gradient(45deg, #7e7e7e, #7e7e7e 10px, #5c5c5c 10px, #5c5c5c 20px);\n",
       "    }\n",
       "    .progress-bar-interrupted, .progress-bar-interrupted::-webkit-progress-bar {\n",
       "        background: #F44336;\n",
       "    }\n",
       "</style>\n"
      ],
      "text/plain": [
       "<IPython.core.display.HTML object>"
      ]
     },
     "metadata": {},
     "output_type": "display_data"
    },
    {
     "data": {
      "text/html": [
       "[Epoch: 00] Loss (1.602 / 0.842) - Accuracy (65.1% / 85.9%)<p>[Epoch: 01] Loss (0.402 / 0.536) - Accuracy (94.0% / 88.1%)<p>[Epoch: 02] Loss (0.280 / 0.772) - Accuracy (95.5% / 82.6%)<p>[Epoch: 03] Loss (0.249 / 0.557) - Accuracy (95.4% / 85.3%)<p>[Epoch: 04] Loss (0.229 / 0.464) - Accuracy (95.7% / 89.9%)"
      ],
      "text/plain": [
       "<IPython.core.display.HTML object>"
      ]
     },
     "metadata": {},
     "output_type": "display_data"
    },
    {
     "name": "stdout",
     "output_type": "stream",
     "text": [
      "[==================================================]\n",
      "Adam - 128: (0, 0.001, 0.3)\n"
     ]
    },
    {
     "data": {
      "text/html": [
       "\n",
       "<style>\n",
       "    /* Turns off some styling */\n",
       "    progress {\n",
       "        /* gets rid of default border in Firefox and Opera. */\n",
       "        border: none;\n",
       "        /* Needs to be in here for Safari polyfill so background images work as expected. */\n",
       "        background-size: auto;\n",
       "    }\n",
       "    progress:not([value]), progress:not([value])::-webkit-progress-bar {\n",
       "        background: repeating-linear-gradient(45deg, #7e7e7e, #7e7e7e 10px, #5c5c5c 10px, #5c5c5c 20px);\n",
       "    }\n",
       "    .progress-bar-interrupted, .progress-bar-interrupted::-webkit-progress-bar {\n",
       "        background: #F44336;\n",
       "    }\n",
       "</style>\n"
      ],
      "text/plain": [
       "<IPython.core.display.HTML object>"
      ]
     },
     "metadata": {},
     "output_type": "display_data"
    },
    {
     "data": {
      "text/html": [
       "[Epoch: 00] Loss (1.926 / 1.162) - Accuracy (55.9% / 78.6%)<p>[Epoch: 01] Loss (0.583 / 0.547) - Accuracy (89.8% / 91.8%)<p>[Epoch: 02] Loss (0.368 / 0.475) - Accuracy (93.5% / 87.7%)<p>[Epoch: 03] Loss (0.305 / 0.460) - Accuracy (94.1% / 90.0%)<p>[Epoch: 04] Loss (0.280 / 0.490) - Accuracy (94.4% / 88.0%)"
      ],
      "text/plain": [
       "<IPython.core.display.HTML object>"
      ]
     },
     "metadata": {},
     "output_type": "display_data"
    },
    {
     "name": "stdout",
     "output_type": "stream",
     "text": [
      "[==================================================]\n",
      "Adam - 128: (0, 0.01, 0.0)\n"
     ]
    },
    {
     "data": {
      "text/html": [
       "\n",
       "<style>\n",
       "    /* Turns off some styling */\n",
       "    progress {\n",
       "        /* gets rid of default border in Firefox and Opera. */\n",
       "        border: none;\n",
       "        /* Needs to be in here for Safari polyfill so background images work as expected. */\n",
       "        background-size: auto;\n",
       "    }\n",
       "    progress:not([value]), progress:not([value])::-webkit-progress-bar {\n",
       "        background: repeating-linear-gradient(45deg, #7e7e7e, #7e7e7e 10px, #5c5c5c 10px, #5c5c5c 20px);\n",
       "    }\n",
       "    .progress-bar-interrupted, .progress-bar-interrupted::-webkit-progress-bar {\n",
       "        background: #F44336;\n",
       "    }\n",
       "</style>\n"
      ],
      "text/plain": [
       "<IPython.core.display.HTML object>"
      ]
     },
     "metadata": {},
     "output_type": "display_data"
    },
    {
     "data": {
      "text/html": [
       "[Epoch: 00] Loss (2.321 / 2.347) - Accuracy (50.5% / 67.7%)<p>[Epoch: 01] Loss (1.424 / 1.744) - Accuracy (79.2% / 66.6%)<p>[Epoch: 02] Loss (1.150 / 1.335) - Accuracy (82.8% / 71.2%)<p>[Epoch: 03] Loss (0.970 / 1.102) - Accuracy (84.3% / 76.3%)<p>[Epoch: 04] Loss (0.826 / 1.362) - Accuracy (86.3% / 70.4%)"
      ],
      "text/plain": [
       "<IPython.core.display.HTML object>"
      ]
     },
     "metadata": {},
     "output_type": "display_data"
    },
    {
     "name": "stdout",
     "output_type": "stream",
     "text": [
      "[==================================================]\n",
      "Adam - 128: (0, 0.01, 0.3)\n"
     ]
    },
    {
     "data": {
      "text/html": [
       "\n",
       "<style>\n",
       "    /* Turns off some styling */\n",
       "    progress {\n",
       "        /* gets rid of default border in Firefox and Opera. */\n",
       "        border: none;\n",
       "        /* Needs to be in here for Safari polyfill so background images work as expected. */\n",
       "        background-size: auto;\n",
       "    }\n",
       "    progress:not([value]), progress:not([value])::-webkit-progress-bar {\n",
       "        background: repeating-linear-gradient(45deg, #7e7e7e, #7e7e7e 10px, #5c5c5c 10px, #5c5c5c 20px);\n",
       "    }\n",
       "    .progress-bar-interrupted, .progress-bar-interrupted::-webkit-progress-bar {\n",
       "        background: #F44336;\n",
       "    }\n",
       "</style>\n"
      ],
      "text/plain": [
       "<IPython.core.display.HTML object>"
      ]
     },
     "metadata": {},
     "output_type": "display_data"
    },
    {
     "data": {
      "text/html": [
       "[Epoch: 00] Loss (2.573 / 2.604) - Accuracy (42.0% / 56.3%)<p>[Epoch: 01] Loss (1.624 / 2.509) - Accuracy (74.0% / 57.1%)<p>[Epoch: 02] Loss (1.353 / 1.496) - Accuracy (78.1% / 77.7%)<p>[Epoch: 03] Loss (1.143 / 1.104) - Accuracy (80.7% / 77.1%)<p>[Epoch: 04] Loss (1.000 / 1.184) - Accuracy (82.8% / 78.6%)"
      ],
      "text/plain": [
       "<IPython.core.display.HTML object>"
      ]
     },
     "metadata": {},
     "output_type": "display_data"
    },
    {
     "name": "stdout",
     "output_type": "stream",
     "text": [
      "[==================================================]\n",
      "Adam - 128: (0.001, 0, 0.0)\n"
     ]
    },
    {
     "data": {
      "text/html": [
       "\n",
       "<style>\n",
       "    /* Turns off some styling */\n",
       "    progress {\n",
       "        /* gets rid of default border in Firefox and Opera. */\n",
       "        border: none;\n",
       "        /* Needs to be in here for Safari polyfill so background images work as expected. */\n",
       "        background-size: auto;\n",
       "    }\n",
       "    progress:not([value]), progress:not([value])::-webkit-progress-bar {\n",
       "        background: repeating-linear-gradient(45deg, #7e7e7e, #7e7e7e 10px, #5c5c5c 10px, #5c5c5c 20px);\n",
       "    }\n",
       "    .progress-bar-interrupted, .progress-bar-interrupted::-webkit-progress-bar {\n",
       "        background: #F44336;\n",
       "    }\n",
       "</style>\n"
      ],
      "text/plain": [
       "<IPython.core.display.HTML object>"
      ]
     },
     "metadata": {},
     "output_type": "display_data"
    },
    {
     "data": {
      "text/html": [
       "[Epoch: 00] Loss (1.643 / 0.815) - Accuracy (63.8% / 85.0%)<p>[Epoch: 01] Loss (0.388 / 0.378) - Accuracy (94.0% / 93.2%)<p>[Epoch: 02] Loss (0.156 / 0.265) - Accuracy (98.2% / 94.1%)<p>[Epoch: 03] Loss (0.085 / 0.262) - Accuracy (99.3% / 95.3%)<p>[Epoch: 04] Loss (0.059 / 0.202) - Accuracy (99.6% / 95.6%)"
      ],
      "text/plain": [
       "<IPython.core.display.HTML object>"
      ]
     },
     "metadata": {},
     "output_type": "display_data"
    },
    {
     "name": "stdout",
     "output_type": "stream",
     "text": [
      "[==================================================]\n",
      "Adam - 128: (0.001, 0, 0.3)\n"
     ]
    },
    {
     "data": {
      "text/html": [
       "\n",
       "<style>\n",
       "    /* Turns off some styling */\n",
       "    progress {\n",
       "        /* gets rid of default border in Firefox and Opera. */\n",
       "        border: none;\n",
       "        /* Needs to be in here for Safari polyfill so background images work as expected. */\n",
       "        background-size: auto;\n",
       "    }\n",
       "    progress:not([value]), progress:not([value])::-webkit-progress-bar {\n",
       "        background: repeating-linear-gradient(45deg, #7e7e7e, #7e7e7e 10px, #5c5c5c 10px, #5c5c5c 20px);\n",
       "    }\n",
       "    .progress-bar-interrupted, .progress-bar-interrupted::-webkit-progress-bar {\n",
       "        background: #F44336;\n",
       "    }\n",
       "</style>\n"
      ],
      "text/plain": [
       "<IPython.core.display.HTML object>"
      ]
     },
     "metadata": {},
     "output_type": "display_data"
    },
    {
     "data": {
      "text/html": [
       "[Epoch: 00] Loss (2.014 / 1.088) - Accuracy (53.5% / 79.0%)<p>[Epoch: 01] Loss (0.613 / 0.445) - Accuracy (88.6% / 91.0%)<p>[Epoch: 02] Loss (0.286 / 0.319) - Accuracy (95.3% / 92.6%)<p>[Epoch: 03] Loss (0.170 / 0.261) - Accuracy (97.4% / 93.5%)<p>[Epoch: 04] Loss (0.120 / 0.303) - Accuracy (98.2% / 92.6%)"
      ],
      "text/plain": [
       "<IPython.core.display.HTML object>"
      ]
     },
     "metadata": {},
     "output_type": "display_data"
    },
    {
     "name": "stdout",
     "output_type": "stream",
     "text": [
      "[==================================================]\n",
      "Adam - 128: (0.001, 0.001, 0.0)\n"
     ]
    },
    {
     "data": {
      "text/html": [
       "\n",
       "<style>\n",
       "    /* Turns off some styling */\n",
       "    progress {\n",
       "        /* gets rid of default border in Firefox and Opera. */\n",
       "        border: none;\n",
       "        /* Needs to be in here for Safari polyfill so background images work as expected. */\n",
       "        background-size: auto;\n",
       "    }\n",
       "    progress:not([value]), progress:not([value])::-webkit-progress-bar {\n",
       "        background: repeating-linear-gradient(45deg, #7e7e7e, #7e7e7e 10px, #5c5c5c 10px, #5c5c5c 20px);\n",
       "    }\n",
       "    .progress-bar-interrupted, .progress-bar-interrupted::-webkit-progress-bar {\n",
       "        background: #F44336;\n",
       "    }\n",
       "</style>\n"
      ],
      "text/plain": [
       "<IPython.core.display.HTML object>"
      ]
     },
     "metadata": {},
     "output_type": "display_data"
    },
    {
     "data": {
      "text/html": [
       "[Epoch: 00] Loss (1.623 / 0.884) - Accuracy (65.1% / 85.1%)<p>[Epoch: 01] Loss (0.445 / 0.556) - Accuracy (93.6% / 89.2%)<p>[Epoch: 02] Loss (0.307 / 0.593) - Accuracy (95.3% / 90.7%)<p>[Epoch: 03] Loss (0.275 / 0.559) - Accuracy (95.8% / 86.6%)<p>[Epoch: 04] Loss (0.235 / 0.551) - Accuracy (96.5% / 84.7%)"
      ],
      "text/plain": [
       "<IPython.core.display.HTML object>"
      ]
     },
     "metadata": {},
     "output_type": "display_data"
    },
    {
     "name": "stdout",
     "output_type": "stream",
     "text": [
      "[==================================================]\n",
      "Adam - 128: (0.001, 0.001, 0.3)\n"
     ]
    },
    {
     "data": {
      "text/html": [
       "\n",
       "<style>\n",
       "    /* Turns off some styling */\n",
       "    progress {\n",
       "        /* gets rid of default border in Firefox and Opera. */\n",
       "        border: none;\n",
       "        /* Needs to be in here for Safari polyfill so background images work as expected. */\n",
       "        background-size: auto;\n",
       "    }\n",
       "    progress:not([value]), progress:not([value])::-webkit-progress-bar {\n",
       "        background: repeating-linear-gradient(45deg, #7e7e7e, #7e7e7e 10px, #5c5c5c 10px, #5c5c5c 20px);\n",
       "    }\n",
       "    .progress-bar-interrupted, .progress-bar-interrupted::-webkit-progress-bar {\n",
       "        background: #F44336;\n",
       "    }\n",
       "</style>\n"
      ],
      "text/plain": [
       "<IPython.core.display.HTML object>"
      ]
     },
     "metadata": {},
     "output_type": "display_data"
    },
    {
     "data": {
      "text/html": [
       "[Epoch: 00] Loss (2.002 / 1.133) - Accuracy (54.0% / 79.4%)<p>[Epoch: 01] Loss (0.627 / 0.696) - Accuracy (89.5% / 88.1%)<p>[Epoch: 02] Loss (0.401 / 0.502) - Accuracy (93.2% / 90.0%)<p>[Epoch: 03] Loss (0.334 / 0.445) - Accuracy (94.1% / 91.1%)<p>[Epoch: 04] Loss (0.294 / 0.496) - Accuracy (95.1% / 88.9%)"
      ],
      "text/plain": [
       "<IPython.core.display.HTML object>"
      ]
     },
     "metadata": {},
     "output_type": "display_data"
    },
    {
     "name": "stdout",
     "output_type": "stream",
     "text": [
      "[==================================================]\n",
      "Adam - 128: (0.001, 0.01, 0.0)\n"
     ]
    },
    {
     "data": {
      "text/html": [
       "\n",
       "<style>\n",
       "    /* Turns off some styling */\n",
       "    progress {\n",
       "        /* gets rid of default border in Firefox and Opera. */\n",
       "        border: none;\n",
       "        /* Needs to be in here for Safari polyfill so background images work as expected. */\n",
       "        background-size: auto;\n",
       "    }\n",
       "    progress:not([value]), progress:not([value])::-webkit-progress-bar {\n",
       "        background: repeating-linear-gradient(45deg, #7e7e7e, #7e7e7e 10px, #5c5c5c 10px, #5c5c5c 20px);\n",
       "    }\n",
       "    .progress-bar-interrupted, .progress-bar-interrupted::-webkit-progress-bar {\n",
       "        background: #F44336;\n",
       "    }\n",
       "</style>\n"
      ],
      "text/plain": [
       "<IPython.core.display.HTML object>"
      ]
     },
     "metadata": {},
     "output_type": "display_data"
    },
    {
     "data": {
      "text/html": [
       "[Epoch: 00] Loss (2.285 / 2.419) - Accuracy (52.2% / 55.5%)<p>[Epoch: 01] Loss (1.433 / 1.463) - Accuracy (80.1% / 72.3%)<p>[Epoch: 02] Loss (1.167 / 1.438) - Accuracy (83.2% / 68.8%)<p>[Epoch: 03] Loss (0.997 / 1.520) - Accuracy (84.5% / 71.8%)<p>[Epoch: 04] Loss (0.892 / 1.195) - Accuracy (85.5% / 80.9%)"
      ],
      "text/plain": [
       "<IPython.core.display.HTML object>"
      ]
     },
     "metadata": {},
     "output_type": "display_data"
    },
    {
     "name": "stdout",
     "output_type": "stream",
     "text": [
      "[==================================================]\n",
      "Adam - 128: (0.001, 0.01, 0.3)\n"
     ]
    },
    {
     "data": {
      "text/html": [
       "\n",
       "<style>\n",
       "    /* Turns off some styling */\n",
       "    progress {\n",
       "        /* gets rid of default border in Firefox and Opera. */\n",
       "        border: none;\n",
       "        /* Needs to be in here for Safari polyfill so background images work as expected. */\n",
       "        background-size: auto;\n",
       "    }\n",
       "    progress:not([value]), progress:not([value])::-webkit-progress-bar {\n",
       "        background: repeating-linear-gradient(45deg, #7e7e7e, #7e7e7e 10px, #5c5c5c 10px, #5c5c5c 20px);\n",
       "    }\n",
       "    .progress-bar-interrupted, .progress-bar-interrupted::-webkit-progress-bar {\n",
       "        background: #F44336;\n",
       "    }\n",
       "</style>\n"
      ],
      "text/plain": [
       "<IPython.core.display.HTML object>"
      ]
     },
     "metadata": {},
     "output_type": "display_data"
    },
    {
     "data": {
      "text/html": [
       "[Epoch: 00] Loss (2.584 / 2.851) - Accuracy (41.1% / 48.9%)<p>[Epoch: 01] Loss (1.720 / 1.770) - Accuracy (71.5% / 69.3%)<p>[Epoch: 02] Loss (1.478 / 1.681) - Accuracy (75.9% / 72.8%)<p>[Epoch: 03] Loss (1.260 / 1.535) - Accuracy (79.0% / 72.0%)<p>[Epoch: 04] Loss (1.117 / 1.084) - Accuracy (80.7% / 78.2%)"
      ],
      "text/plain": [
       "<IPython.core.display.HTML object>"
      ]
     },
     "metadata": {},
     "output_type": "display_data"
    },
    {
     "name": "stdout",
     "output_type": "stream",
     "text": [
      "[==================================================]\n",
      "Adam - 128: (0.01, 0, 0.0)\n"
     ]
    },
    {
     "data": {
      "text/html": [
       "\n",
       "<style>\n",
       "    /* Turns off some styling */\n",
       "    progress {\n",
       "        /* gets rid of default border in Firefox and Opera. */\n",
       "        border: none;\n",
       "        /* Needs to be in here for Safari polyfill so background images work as expected. */\n",
       "        background-size: auto;\n",
       "    }\n",
       "    progress:not([value]), progress:not([value])::-webkit-progress-bar {\n",
       "        background: repeating-linear-gradient(45deg, #7e7e7e, #7e7e7e 10px, #5c5c5c 10px, #5c5c5c 20px);\n",
       "    }\n",
       "    .progress-bar-interrupted, .progress-bar-interrupted::-webkit-progress-bar {\n",
       "        background: #F44336;\n",
       "    }\n",
       "</style>\n"
      ],
      "text/plain": [
       "<IPython.core.display.HTML object>"
      ]
     },
     "metadata": {},
     "output_type": "display_data"
    },
    {
     "data": {
      "text/html": [
       "[Epoch: 00] Loss (1.809 / 1.149) - Accuracy (62.0% / 79.9%)<p>[Epoch: 01] Loss (0.604 / 0.698) - Accuracy (94.0% / 92.7%)<p>[Epoch: 02] Loss (0.414 / 0.654) - Accuracy (97.4% / 93.7%)<p>[Epoch: 03] Loss (0.360 / 0.517) - Accuracy (98.5% / 95.7%)<p>[Epoch: 04] Loss (0.344 / 0.636) - Accuracy (98.7% / 95.4%)"
      ],
      "text/plain": [
       "<IPython.core.display.HTML object>"
      ]
     },
     "metadata": {},
     "output_type": "display_data"
    },
    {
     "name": "stdout",
     "output_type": "stream",
     "text": [
      "[==================================================]\n",
      "Adam - 128: (0.01, 0, 0.3)\n"
     ]
    },
    {
     "data": {
      "text/html": [
       "\n",
       "<style>\n",
       "    /* Turns off some styling */\n",
       "    progress {\n",
       "        /* gets rid of default border in Firefox and Opera. */\n",
       "        border: none;\n",
       "        /* Needs to be in here for Safari polyfill so background images work as expected. */\n",
       "        background-size: auto;\n",
       "    }\n",
       "    progress:not([value]), progress:not([value])::-webkit-progress-bar {\n",
       "        background: repeating-linear-gradient(45deg, #7e7e7e, #7e7e7e 10px, #5c5c5c 10px, #5c5c5c 20px);\n",
       "    }\n",
       "    .progress-bar-interrupted, .progress-bar-interrupted::-webkit-progress-bar {\n",
       "        background: #F44336;\n",
       "    }\n",
       "</style>\n"
      ],
      "text/plain": [
       "<IPython.core.display.HTML object>"
      ]
     },
     "metadata": {},
     "output_type": "display_data"
    },
    {
     "data": {
      "text/html": [
       "[Epoch: 00] Loss (2.042 / 1.344) - Accuracy (54.5% / 79.9%)<p>[Epoch: 01] Loss (0.788 / 0.794) - Accuracy (90.1% / 91.6%)<p>[Epoch: 02] Loss (0.511 / 0.704) - Accuracy (96.0% / 93.8%)<p>[Epoch: 03] Loss (0.429 / 0.631) - Accuracy (97.3% / 94.9%)<p>[Epoch: 04] Loss (0.409 / 0.547) - Accuracy (97.8% / 94.9%)"
      ],
      "text/plain": [
       "<IPython.core.display.HTML object>"
      ]
     },
     "metadata": {},
     "output_type": "display_data"
    },
    {
     "name": "stdout",
     "output_type": "stream",
     "text": [
      "[==================================================]\n",
      "Adam - 128: (0.01, 0.001, 0.0)\n"
     ]
    },
    {
     "data": {
      "text/html": [
       "\n",
       "<style>\n",
       "    /* Turns off some styling */\n",
       "    progress {\n",
       "        /* gets rid of default border in Firefox and Opera. */\n",
       "        border: none;\n",
       "        /* Needs to be in here for Safari polyfill so background images work as expected. */\n",
       "        background-size: auto;\n",
       "    }\n",
       "    progress:not([value]), progress:not([value])::-webkit-progress-bar {\n",
       "        background: repeating-linear-gradient(45deg, #7e7e7e, #7e7e7e 10px, #5c5c5c 10px, #5c5c5c 20px);\n",
       "    }\n",
       "    .progress-bar-interrupted, .progress-bar-interrupted::-webkit-progress-bar {\n",
       "        background: #F44336;\n",
       "    }\n",
       "</style>\n"
      ],
      "text/plain": [
       "<IPython.core.display.HTML object>"
      ]
     },
     "metadata": {},
     "output_type": "display_data"
    },
    {
     "data": {
      "text/html": [
       "[Epoch: 00] Loss (1.739 / 1.338) - Accuracy (65.0% / 84.7%)<p>[Epoch: 01] Loss (0.698 / 0.974) - Accuracy (93.2% / 86.2%)<p>[Epoch: 02] Loss (0.583 / 0.833) - Accuracy (95.5% / 88.4%)<p>[Epoch: 03] Loss (0.553 / 0.714) - Accuracy (96.0% / 92.4%)<p>[Epoch: 04] Loss (0.530 / 0.825) - Accuracy (96.3% / 88.8%)"
      ],
      "text/plain": [
       "<IPython.core.display.HTML object>"
      ]
     },
     "metadata": {},
     "output_type": "display_data"
    },
    {
     "name": "stdout",
     "output_type": "stream",
     "text": [
      "[==================================================]\n",
      "Adam - 128: (0.01, 0.001, 0.3)\n"
     ]
    },
    {
     "data": {
      "text/html": [
       "\n",
       "<style>\n",
       "    /* Turns off some styling */\n",
       "    progress {\n",
       "        /* gets rid of default border in Firefox and Opera. */\n",
       "        border: none;\n",
       "        /* Needs to be in here for Safari polyfill so background images work as expected. */\n",
       "        background-size: auto;\n",
       "    }\n",
       "    progress:not([value]), progress:not([value])::-webkit-progress-bar {\n",
       "        background: repeating-linear-gradient(45deg, #7e7e7e, #7e7e7e 10px, #5c5c5c 10px, #5c5c5c 20px);\n",
       "    }\n",
       "    .progress-bar-interrupted, .progress-bar-interrupted::-webkit-progress-bar {\n",
       "        background: #F44336;\n",
       "    }\n",
       "</style>\n"
      ],
      "text/plain": [
       "<IPython.core.display.HTML object>"
      ]
     },
     "metadata": {},
     "output_type": "display_data"
    },
    {
     "data": {
      "text/html": [
       "[Epoch: 00] Loss (2.057 / 1.522) - Accuracy (55.9% / 78.0%)<p>[Epoch: 01] Loss (0.891 / 1.093) - Accuracy (88.7% / 90.0%)<p>[Epoch: 02] Loss (0.711 / 0.977) - Accuracy (92.8% / 92.9%)<p>[Epoch: 03] Loss (0.660 / 0.888) - Accuracy (94.1% / 90.5%)<p>[Epoch: 04] Loss (0.621 / 1.085) - Accuracy (95.0% / 87.3%)"
      ],
      "text/plain": [
       "<IPython.core.display.HTML object>"
      ]
     },
     "metadata": {},
     "output_type": "display_data"
    },
    {
     "name": "stdout",
     "output_type": "stream",
     "text": [
      "[==================================================]\n",
      "Adam - 128: (0.01, 0.01, 0.0)\n"
     ]
    },
    {
     "data": {
      "text/html": [
       "\n",
       "<style>\n",
       "    /* Turns off some styling */\n",
       "    progress {\n",
       "        /* gets rid of default border in Firefox and Opera. */\n",
       "        border: none;\n",
       "        /* Needs to be in here for Safari polyfill so background images work as expected. */\n",
       "        background-size: auto;\n",
       "    }\n",
       "    progress:not([value]), progress:not([value])::-webkit-progress-bar {\n",
       "        background: repeating-linear-gradient(45deg, #7e7e7e, #7e7e7e 10px, #5c5c5c 10px, #5c5c5c 20px);\n",
       "    }\n",
       "    .progress-bar-interrupted, .progress-bar-interrupted::-webkit-progress-bar {\n",
       "        background: #F44336;\n",
       "    }\n",
       "</style>\n"
      ],
      "text/plain": [
       "<IPython.core.display.HTML object>"
      ]
     },
     "metadata": {},
     "output_type": "display_data"
    },
    {
     "data": {
      "text/html": [
       "[Epoch: 00] Loss (2.417 / 2.818) - Accuracy (48.7% / 48.3%)<p>[Epoch: 01] Loss (1.867 / 2.379) - Accuracy (71.8% / 63.1%)<p>[Epoch: 02] Loss (1.748 / 2.226) - Accuracy (74.6% / 63.1%)<p>[Epoch: 03] Loss (1.608 / 1.903) - Accuracy (77.5% / 66.6%)<p>[Epoch: 04] Loss (1.498 / 1.633) - Accuracy (79.5% / 76.4%)"
      ],
      "text/plain": [
       "<IPython.core.display.HTML object>"
      ]
     },
     "metadata": {},
     "output_type": "display_data"
    },
    {
     "name": "stdout",
     "output_type": "stream",
     "text": [
      "[==================================================]\n",
      "Adam - 128: (0.01, 0.01, 0.3)\n"
     ]
    },
    {
     "data": {
      "text/html": [
       "\n",
       "<style>\n",
       "    /* Turns off some styling */\n",
       "    progress {\n",
       "        /* gets rid of default border in Firefox and Opera. */\n",
       "        border: none;\n",
       "        /* Needs to be in here for Safari polyfill so background images work as expected. */\n",
       "        background-size: auto;\n",
       "    }\n",
       "    progress:not([value]), progress:not([value])::-webkit-progress-bar {\n",
       "        background: repeating-linear-gradient(45deg, #7e7e7e, #7e7e7e 10px, #5c5c5c 10px, #5c5c5c 20px);\n",
       "    }\n",
       "    .progress-bar-interrupted, .progress-bar-interrupted::-webkit-progress-bar {\n",
       "        background: #F44336;\n",
       "    }\n",
       "</style>\n"
      ],
      "text/plain": [
       "<IPython.core.display.HTML object>"
      ]
     },
     "metadata": {},
     "output_type": "display_data"
    },
    {
     "data": {
      "text/html": [
       "[Epoch: 00] Loss (2.724 / 2.936) - Accuracy (38.2% / 41.9%)<p>[Epoch: 01] Loss (2.061 / 2.211) - Accuracy (65.8% / 61.6%)<p>[Epoch: 02] Loss (1.983 / 2.336) - Accuracy (67.1% / 58.9%)<p>[Epoch: 03] Loss (1.905 / 2.123) - Accuracy (67.8% / 55.9%)<p>[Epoch: 04] Loss (1.816 / 2.001) - Accuracy (69.3% / 61.1%)"
      ],
      "text/plain": [
       "<IPython.core.display.HTML object>"
      ]
     },
     "metadata": {},
     "output_type": "display_data"
    },
    {
     "name": "stdout",
     "output_type": "stream",
     "text": [
      "[==================================================]\n",
      "Adam - 256: (0, 0, 0.0)\n"
     ]
    },
    {
     "data": {
      "text/html": [
       "\n",
       "<style>\n",
       "    /* Turns off some styling */\n",
       "    progress {\n",
       "        /* gets rid of default border in Firefox and Opera. */\n",
       "        border: none;\n",
       "        /* Needs to be in here for Safari polyfill so background images work as expected. */\n",
       "        background-size: auto;\n",
       "    }\n",
       "    progress:not([value]), progress:not([value])::-webkit-progress-bar {\n",
       "        background: repeating-linear-gradient(45deg, #7e7e7e, #7e7e7e 10px, #5c5c5c 10px, #5c5c5c 20px);\n",
       "    }\n",
       "    .progress-bar-interrupted, .progress-bar-interrupted::-webkit-progress-bar {\n",
       "        background: #F44336;\n",
       "    }\n",
       "</style>\n"
      ],
      "text/plain": [
       "<IPython.core.display.HTML object>"
      ]
     },
     "metadata": {},
     "output_type": "display_data"
    },
    {
     "data": {
      "text/html": [
       "[Epoch: 00] Loss (1.960 / 1.253) - Accuracy (55.8% / 72.9%)<p>[Epoch: 01] Loss (0.620 / 0.599) - Accuracy (90.0% / 86.4%)<p>[Epoch: 02] Loss (0.272 / 0.390) - Accuracy (96.3% / 90.5%)<p>[Epoch: 03] Loss (0.137 / 0.311) - Accuracy (98.6% / 93.2%)<p>[Epoch: 04] Loss (0.078 / 0.277) - Accuracy (99.4% / 93.5%)"
      ],
      "text/plain": [
       "<IPython.core.display.HTML object>"
      ]
     },
     "metadata": {},
     "output_type": "display_data"
    },
    {
     "name": "stdout",
     "output_type": "stream",
     "text": [
      "[==================================================]\n",
      "Adam - 256: (0, 0, 0.3)\n"
     ]
    },
    {
     "data": {
      "text/html": [
       "\n",
       "<style>\n",
       "    /* Turns off some styling */\n",
       "    progress {\n",
       "        /* gets rid of default border in Firefox and Opera. */\n",
       "        border: none;\n",
       "        /* Needs to be in here for Safari polyfill so background images work as expected. */\n",
       "        background-size: auto;\n",
       "    }\n",
       "    progress:not([value]), progress:not([value])::-webkit-progress-bar {\n",
       "        background: repeating-linear-gradient(45deg, #7e7e7e, #7e7e7e 10px, #5c5c5c 10px, #5c5c5c 20px);\n",
       "    }\n",
       "    .progress-bar-interrupted, .progress-bar-interrupted::-webkit-progress-bar {\n",
       "        background: #F44336;\n",
       "    }\n",
       "</style>\n"
      ],
      "text/plain": [
       "<IPython.core.display.HTML object>"
      ]
     },
     "metadata": {},
     "output_type": "display_data"
    },
    {
     "data": {
      "text/html": [
       "[Epoch: 00] Loss (2.414 / 1.701) - Accuracy (42.0% / 63.0%)<p>[Epoch: 01] Loss (0.966 / 0.778) - Accuracy (81.4% / 85.4%)<p>[Epoch: 02] Loss (0.462 / 0.492) - Accuracy (92.2% / 89.4%)<p>[Epoch: 03] Loss (0.261 / 0.328) - Accuracy (95.9% / 92.6%)<p>[Epoch: 04] Loss (0.166 / 0.286) - Accuracy (97.6% / 94.0%)"
      ],
      "text/plain": [
       "<IPython.core.display.HTML object>"
      ]
     },
     "metadata": {},
     "output_type": "display_data"
    },
    {
     "name": "stdout",
     "output_type": "stream",
     "text": [
      "[==================================================]\n",
      "Adam - 256: (0, 0.001, 0.0)\n"
     ]
    },
    {
     "data": {
      "text/html": [
       "\n",
       "<style>\n",
       "    /* Turns off some styling */\n",
       "    progress {\n",
       "        /* gets rid of default border in Firefox and Opera. */\n",
       "        border: none;\n",
       "        /* Needs to be in here for Safari polyfill so background images work as expected. */\n",
       "        background-size: auto;\n",
       "    }\n",
       "    progress:not([value]), progress:not([value])::-webkit-progress-bar {\n",
       "        background: repeating-linear-gradient(45deg, #7e7e7e, #7e7e7e 10px, #5c5c5c 10px, #5c5c5c 20px);\n",
       "    }\n",
       "    .progress-bar-interrupted, .progress-bar-interrupted::-webkit-progress-bar {\n",
       "        background: #F44336;\n",
       "    }\n",
       "</style>\n"
      ],
      "text/plain": [
       "<IPython.core.display.HTML object>"
      ]
     },
     "metadata": {},
     "output_type": "display_data"
    },
    {
     "data": {
      "text/html": [
       "[Epoch: 00] Loss (2.062 / 1.467) - Accuracy (53.6% / 74.5%)<p>[Epoch: 01] Loss (0.652 / 0.662) - Accuracy (90.4% / 89.4%)<p>[Epoch: 02] Loss (0.304 / 0.613) - Accuracy (96.3% / 86.7%)<p>[Epoch: 03] Loss (0.236 / 0.822) - Accuracy (97.1% / 81.6%)<p>[Epoch: 04] Loss (0.216 / 0.431) - Accuracy (97.1% / 91.3%)"
      ],
      "text/plain": [
       "<IPython.core.display.HTML object>"
      ]
     },
     "metadata": {},
     "output_type": "display_data"
    },
    {
     "name": "stdout",
     "output_type": "stream",
     "text": [
      "[==================================================]\n",
      "Adam - 256: (0, 0.001, 0.3)\n"
     ]
    },
    {
     "data": {
      "text/html": [
       "\n",
       "<style>\n",
       "    /* Turns off some styling */\n",
       "    progress {\n",
       "        /* gets rid of default border in Firefox and Opera. */\n",
       "        border: none;\n",
       "        /* Needs to be in here for Safari polyfill so background images work as expected. */\n",
       "        background-size: auto;\n",
       "    }\n",
       "    progress:not([value]), progress:not([value])::-webkit-progress-bar {\n",
       "        background: repeating-linear-gradient(45deg, #7e7e7e, #7e7e7e 10px, #5c5c5c 10px, #5c5c5c 20px);\n",
       "    }\n",
       "    .progress-bar-interrupted, .progress-bar-interrupted::-webkit-progress-bar {\n",
       "        background: #F44336;\n",
       "    }\n",
       "</style>\n"
      ],
      "text/plain": [
       "<IPython.core.display.HTML object>"
      ]
     },
     "metadata": {},
     "output_type": "display_data"
    },
    {
     "data": {
      "text/html": [
       "[Epoch: 00] Loss (2.376 / 1.631) - Accuracy (44.0% / 69.1%)<p>[Epoch: 01] Loss (0.933 / 0.758) - Accuracy (83.4% / 86.4%)<p>[Epoch: 02] Loss (0.472 / 0.627) - Accuracy (92.6% / 90.2%)<p>[Epoch: 03] Loss (0.334 / 0.550) - Accuracy (94.9% / 88.1%)<p>[Epoch: 04] Loss (0.283 / 0.673) - Accuracy (95.4% / 86.4%)"
      ],
      "text/plain": [
       "<IPython.core.display.HTML object>"
      ]
     },
     "metadata": {},
     "output_type": "display_data"
    },
    {
     "name": "stdout",
     "output_type": "stream",
     "text": [
      "[==================================================]\n",
      "Adam - 256: (0, 0.01, 0.0)\n"
     ]
    },
    {
     "data": {
      "text/html": [
       "\n",
       "<style>\n",
       "    /* Turns off some styling */\n",
       "    progress {\n",
       "        /* gets rid of default border in Firefox and Opera. */\n",
       "        border: none;\n",
       "        /* Needs to be in here for Safari polyfill so background images work as expected. */\n",
       "        background-size: auto;\n",
       "    }\n",
       "    progress:not([value]), progress:not([value])::-webkit-progress-bar {\n",
       "        background: repeating-linear-gradient(45deg, #7e7e7e, #7e7e7e 10px, #5c5c5c 10px, #5c5c5c 20px);\n",
       "    }\n",
       "    .progress-bar-interrupted, .progress-bar-interrupted::-webkit-progress-bar {\n",
       "        background: #F44336;\n",
       "    }\n",
       "</style>\n"
      ],
      "text/plain": [
       "<IPython.core.display.HTML object>"
      ]
     },
     "metadata": {},
     "output_type": "display_data"
    },
    {
     "data": {
      "text/html": [
       "[Epoch: 00] Loss (2.685 / 2.964) - Accuracy (39.0% / 42.4%)<p>[Epoch: 01] Loss (1.554 / 2.345) - Accuracy (75.1% / 61.4%)<p>[Epoch: 02] Loss (1.276 / 2.086) - Accuracy (82.7% / 68.0%)<p>[Epoch: 03] Loss (1.087 / 1.661) - Accuracy (85.3% / 71.7%)<p>[Epoch: 04] Loss (0.961 / 1.579) - Accuracy (86.2% / 65.5%)"
      ],
      "text/plain": [
       "<IPython.core.display.HTML object>"
      ]
     },
     "metadata": {},
     "output_type": "display_data"
    },
    {
     "name": "stdout",
     "output_type": "stream",
     "text": [
      "[==================================================]\n",
      "Adam - 256: (0, 0.01, 0.3)\n"
     ]
    },
    {
     "data": {
      "text/html": [
       "\n",
       "<style>\n",
       "    /* Turns off some styling */\n",
       "    progress {\n",
       "        /* gets rid of default border in Firefox and Opera. */\n",
       "        border: none;\n",
       "        /* Needs to be in here for Safari polyfill so background images work as expected. */\n",
       "        background-size: auto;\n",
       "    }\n",
       "    progress:not([value]), progress:not([value])::-webkit-progress-bar {\n",
       "        background: repeating-linear-gradient(45deg, #7e7e7e, #7e7e7e 10px, #5c5c5c 10px, #5c5c5c 20px);\n",
       "    }\n",
       "    .progress-bar-interrupted, .progress-bar-interrupted::-webkit-progress-bar {\n",
       "        background: #F44336;\n",
       "    }\n",
       "</style>\n"
      ],
      "text/plain": [
       "<IPython.core.display.HTML object>"
      ]
     },
     "metadata": {},
     "output_type": "display_data"
    },
    {
     "data": {
      "text/html": [
       "[Epoch: 00] Loss (3.050 / 3.207) - Accuracy (25.7% / 40.0%)<p>[Epoch: 01] Loss (1.777 / 2.601) - Accuracy (68.8% / 60.6%)<p>[Epoch: 02] Loss (1.418 / 1.939) - Accuracy (80.0% / 68.8%)<p>[Epoch: 03] Loss (1.232 / 1.509) - Accuracy (82.7% / 79.0%)<p>[Epoch: 04] Loss (1.111 / 1.610) - Accuracy (83.6% / 78.8%)"
      ],
      "text/plain": [
       "<IPython.core.display.HTML object>"
      ]
     },
     "metadata": {},
     "output_type": "display_data"
    },
    {
     "name": "stdout",
     "output_type": "stream",
     "text": [
      "[==================================================]\n",
      "Adam - 256: (0.001, 0, 0.0)\n"
     ]
    },
    {
     "data": {
      "text/html": [
       "\n",
       "<style>\n",
       "    /* Turns off some styling */\n",
       "    progress {\n",
       "        /* gets rid of default border in Firefox and Opera. */\n",
       "        border: none;\n",
       "        /* Needs to be in here for Safari polyfill so background images work as expected. */\n",
       "        background-size: auto;\n",
       "    }\n",
       "    progress:not([value]), progress:not([value])::-webkit-progress-bar {\n",
       "        background: repeating-linear-gradient(45deg, #7e7e7e, #7e7e7e 10px, #5c5c5c 10px, #5c5c5c 20px);\n",
       "    }\n",
       "    .progress-bar-interrupted, .progress-bar-interrupted::-webkit-progress-bar {\n",
       "        background: #F44336;\n",
       "    }\n",
       "</style>\n"
      ],
      "text/plain": [
       "<IPython.core.display.HTML object>"
      ]
     },
     "metadata": {},
     "output_type": "display_data"
    },
    {
     "data": {
      "text/html": [
       "[Epoch: 00] Loss (1.941 / 1.241) - Accuracy (55.8% / 75.0%)<p>[Epoch: 01] Loss (0.622 / 0.625) - Accuracy (90.4% / 87.8%)<p>[Epoch: 02] Loss (0.268 / 0.434) - Accuracy (96.6% / 91.3%)<p>[Epoch: 03] Loss (0.138 / 0.321) - Accuracy (98.7% / 94.0%)<p>[Epoch: 04] Loss (0.085 / 0.309) - Accuracy (99.4% / 93.8%)"
      ],
      "text/plain": [
       "<IPython.core.display.HTML object>"
      ]
     },
     "metadata": {},
     "output_type": "display_data"
    },
    {
     "name": "stdout",
     "output_type": "stream",
     "text": [
      "[==================================================]\n",
      "Adam - 256: (0.001, 0, 0.3)\n"
     ]
    },
    {
     "data": {
      "text/html": [
       "\n",
       "<style>\n",
       "    /* Turns off some styling */\n",
       "    progress {\n",
       "        /* gets rid of default border in Firefox and Opera. */\n",
       "        border: none;\n",
       "        /* Needs to be in here for Safari polyfill so background images work as expected. */\n",
       "        background-size: auto;\n",
       "    }\n",
       "    progress:not([value]), progress:not([value])::-webkit-progress-bar {\n",
       "        background: repeating-linear-gradient(45deg, #7e7e7e, #7e7e7e 10px, #5c5c5c 10px, #5c5c5c 20px);\n",
       "    }\n",
       "    .progress-bar-interrupted, .progress-bar-interrupted::-webkit-progress-bar {\n",
       "        background: #F44336;\n",
       "    }\n",
       "</style>\n"
      ],
      "text/plain": [
       "<IPython.core.display.HTML object>"
      ]
     },
     "metadata": {},
     "output_type": "display_data"
    },
    {
     "data": {
      "text/html": [
       "[Epoch: 00] Loss (2.380 / 1.599) - Accuracy (43.0% / 65.2%)<p>[Epoch: 01] Loss (0.977 / 0.858) - Accuracy (81.2% / 82.8%)<p>[Epoch: 02] Loss (0.488 / 0.486) - Accuracy (91.5% / 89.7%)<p>[Epoch: 03] Loss (0.297 / 0.374) - Accuracy (95.3% / 93.0%)<p>[Epoch: 04] Loss (0.197 / 0.335) - Accuracy (97.1% / 92.2%)"
      ],
      "text/plain": [
       "<IPython.core.display.HTML object>"
      ]
     },
     "metadata": {},
     "output_type": "display_data"
    },
    {
     "name": "stdout",
     "output_type": "stream",
     "text": [
      "[==================================================]\n",
      "Adam - 256: (0.001, 0.001, 0.0)\n"
     ]
    },
    {
     "data": {
      "text/html": [
       "\n",
       "<style>\n",
       "    /* Turns off some styling */\n",
       "    progress {\n",
       "        /* gets rid of default border in Firefox and Opera. */\n",
       "        border: none;\n",
       "        /* Needs to be in here for Safari polyfill so background images work as expected. */\n",
       "        background-size: auto;\n",
       "    }\n",
       "    progress:not([value]), progress:not([value])::-webkit-progress-bar {\n",
       "        background: repeating-linear-gradient(45deg, #7e7e7e, #7e7e7e 10px, #5c5c5c 10px, #5c5c5c 20px);\n",
       "    }\n",
       "    .progress-bar-interrupted, .progress-bar-interrupted::-webkit-progress-bar {\n",
       "        background: #F44336;\n",
       "    }\n",
       "</style>\n"
      ],
      "text/plain": [
       "<IPython.core.display.HTML object>"
      ]
     },
     "metadata": {},
     "output_type": "display_data"
    },
    {
     "data": {
      "text/html": [
       "[Epoch: 00] Loss (2.014 / 1.350) - Accuracy (55.8% / 76.1%)<p>[Epoch: 01] Loss (0.633 / 0.845) - Accuracy (91.2% / 88.0%)<p>[Epoch: 02] Loss (0.329 / 0.683) - Accuracy (96.2% / 87.5%)<p>[Epoch: 03] Loss (0.266 / 0.781) - Accuracy (96.8% / 88.0%)<p>[Epoch: 04] Loss (0.238 / 0.577) - Accuracy (97.1% / 87.7%)"
      ],
      "text/plain": [
       "<IPython.core.display.HTML object>"
      ]
     },
     "metadata": {},
     "output_type": "display_data"
    },
    {
     "name": "stdout",
     "output_type": "stream",
     "text": [
      "[==================================================]\n",
      "Adam - 256: (0.001, 0.001, 0.3)\n"
     ]
    },
    {
     "data": {
      "text/html": [
       "\n",
       "<style>\n",
       "    /* Turns off some styling */\n",
       "    progress {\n",
       "        /* gets rid of default border in Firefox and Opera. */\n",
       "        border: none;\n",
       "        /* Needs to be in here for Safari polyfill so background images work as expected. */\n",
       "        background-size: auto;\n",
       "    }\n",
       "    progress:not([value]), progress:not([value])::-webkit-progress-bar {\n",
       "        background: repeating-linear-gradient(45deg, #7e7e7e, #7e7e7e 10px, #5c5c5c 10px, #5c5c5c 20px);\n",
       "    }\n",
       "    .progress-bar-interrupted, .progress-bar-interrupted::-webkit-progress-bar {\n",
       "        background: #F44336;\n",
       "    }\n",
       "</style>\n"
      ],
      "text/plain": [
       "<IPython.core.display.HTML object>"
      ]
     },
     "metadata": {},
     "output_type": "display_data"
    },
    {
     "data": {
      "text/html": [
       "[Epoch: 00] Loss (2.350 / 1.753) - Accuracy (44.1% / 67.6%)<p>[Epoch: 01] Loss (0.912 / 0.861) - Accuracy (83.4% / 86.7%)<p>[Epoch: 02] Loss (0.493 / 0.717) - Accuracy (92.4% / 88.1%)<p>[Epoch: 03] Loss (0.356 / 0.657) - Accuracy (94.8% / 87.8%)<p>[Epoch: 04] Loss (0.305 / 0.502) - Accuracy (95.5% / 90.8%)"
      ],
      "text/plain": [
       "<IPython.core.display.HTML object>"
      ]
     },
     "metadata": {},
     "output_type": "display_data"
    },
    {
     "name": "stdout",
     "output_type": "stream",
     "text": [
      "[==================================================]\n",
      "Adam - 256: (0.001, 0.01, 0.0)\n"
     ]
    },
    {
     "data": {
      "text/html": [
       "\n",
       "<style>\n",
       "    /* Turns off some styling */\n",
       "    progress {\n",
       "        /* gets rid of default border in Firefox and Opera. */\n",
       "        border: none;\n",
       "        /* Needs to be in here for Safari polyfill so background images work as expected. */\n",
       "        background-size: auto;\n",
       "    }\n",
       "    progress:not([value]), progress:not([value])::-webkit-progress-bar {\n",
       "        background: repeating-linear-gradient(45deg, #7e7e7e, #7e7e7e 10px, #5c5c5c 10px, #5c5c5c 20px);\n",
       "    }\n",
       "    .progress-bar-interrupted, .progress-bar-interrupted::-webkit-progress-bar {\n",
       "        background: #F44336;\n",
       "    }\n",
       "</style>\n"
      ],
      "text/plain": [
       "<IPython.core.display.HTML object>"
      ]
     },
     "metadata": {},
     "output_type": "display_data"
    },
    {
     "data": {
      "text/html": [
       "[Epoch: 00] Loss (2.747 / 3.039) - Accuracy (37.0% / 40.3%)<p>[Epoch: 01] Loss (1.645 / 2.478) - Accuracy (73.5% / 56.0%)<p>[Epoch: 02] Loss (1.358 / 1.940) - Accuracy (82.2% / 63.1%)<p>[Epoch: 03] Loss (1.208 / 1.630) - Accuracy (83.6% / 73.9%)<p>[Epoch: 04] Loss (1.007 / 1.236) - Accuracy (86.3% / 78.3%)"
      ],
      "text/plain": [
       "<IPython.core.display.HTML object>"
      ]
     },
     "metadata": {},
     "output_type": "display_data"
    },
    {
     "name": "stdout",
     "output_type": "stream",
     "text": [
      "[==================================================]\n",
      "Adam - 256: (0.001, 0.01, 0.3)\n"
     ]
    },
    {
     "data": {
      "text/html": [
       "\n",
       "<style>\n",
       "    /* Turns off some styling */\n",
       "    progress {\n",
       "        /* gets rid of default border in Firefox and Opera. */\n",
       "        border: none;\n",
       "        /* Needs to be in here for Safari polyfill so background images work as expected. */\n",
       "        background-size: auto;\n",
       "    }\n",
       "    progress:not([value]), progress:not([value])::-webkit-progress-bar {\n",
       "        background: repeating-linear-gradient(45deg, #7e7e7e, #7e7e7e 10px, #5c5c5c 10px, #5c5c5c 20px);\n",
       "    }\n",
       "    .progress-bar-interrupted, .progress-bar-interrupted::-webkit-progress-bar {\n",
       "        background: #F44336;\n",
       "    }\n",
       "</style>\n"
      ],
      "text/plain": [
       "<IPython.core.display.HTML object>"
      ]
     },
     "metadata": {},
     "output_type": "display_data"
    },
    {
     "data": {
      "text/html": [
       "[Epoch: 00] Loss (3.087 / 3.180) - Accuracy (25.2% / 35.8%)<p>[Epoch: 01] Loss (1.866 / 2.586) - Accuracy (66.9% / 58.4%)<p>[Epoch: 02] Loss (1.557 / 2.185) - Accuracy (76.5% / 58.9%)<p>[Epoch: 03] Loss (1.372 / 2.013) - Accuracy (80.3% / 67.7%)<p>[Epoch: 04] Loss (1.258 / 1.503) - Accuracy (80.6% / 73.4%)"
      ],
      "text/plain": [
       "<IPython.core.display.HTML object>"
      ]
     },
     "metadata": {},
     "output_type": "display_data"
    },
    {
     "name": "stdout",
     "output_type": "stream",
     "text": [
      "[==================================================]\n",
      "Adam - 256: (0.01, 0, 0.0)\n"
     ]
    },
    {
     "data": {
      "text/html": [
       "\n",
       "<style>\n",
       "    /* Turns off some styling */\n",
       "    progress {\n",
       "        /* gets rid of default border in Firefox and Opera. */\n",
       "        border: none;\n",
       "        /* Needs to be in here for Safari polyfill so background images work as expected. */\n",
       "        background-size: auto;\n",
       "    }\n",
       "    progress:not([value]), progress:not([value])::-webkit-progress-bar {\n",
       "        background: repeating-linear-gradient(45deg, #7e7e7e, #7e7e7e 10px, #5c5c5c 10px, #5c5c5c 20px);\n",
       "    }\n",
       "    .progress-bar-interrupted, .progress-bar-interrupted::-webkit-progress-bar {\n",
       "        background: #F44336;\n",
       "    }\n",
       "</style>\n"
      ],
      "text/plain": [
       "<IPython.core.display.HTML object>"
      ]
     },
     "metadata": {},
     "output_type": "display_data"
    },
    {
     "data": {
      "text/html": [
       "[Epoch: 00] Loss (2.071 / 1.633) - Accuracy (54.9% / 71.0%)<p>[Epoch: 01] Loss (0.809 / 0.878) - Accuracy (90.3% / 87.7%)<p>[Epoch: 02] Loss (0.467 / 0.795) - Accuracy (97.0% / 94.8%)<p>[Epoch: 03] Loss (0.349 / 0.675) - Accuracy (98.6% / 94.1%)<p>[Epoch: 04] Loss (0.317 / 0.662) - Accuracy (99.1% / 94.9%)"
      ],
      "text/plain": [
       "<IPython.core.display.HTML object>"
      ]
     },
     "metadata": {},
     "output_type": "display_data"
    },
    {
     "name": "stdout",
     "output_type": "stream",
     "text": [
      "[==================================================]\n",
      "Adam - 256: (0.01, 0, 0.3)\n"
     ]
    },
    {
     "data": {
      "text/html": [
       "\n",
       "<style>\n",
       "    /* Turns off some styling */\n",
       "    progress {\n",
       "        /* gets rid of default border in Firefox and Opera. */\n",
       "        border: none;\n",
       "        /* Needs to be in here for Safari polyfill so background images work as expected. */\n",
       "        background-size: auto;\n",
       "    }\n",
       "    progress:not([value]), progress:not([value])::-webkit-progress-bar {\n",
       "        background: repeating-linear-gradient(45deg, #7e7e7e, #7e7e7e 10px, #5c5c5c 10px, #5c5c5c 20px);\n",
       "    }\n",
       "    .progress-bar-interrupted, .progress-bar-interrupted::-webkit-progress-bar {\n",
       "        background: #F44336;\n",
       "    }\n",
       "</style>\n"
      ],
      "text/plain": [
       "<IPython.core.display.HTML object>"
      ]
     },
     "metadata": {},
     "output_type": "display_data"
    },
    {
     "data": {
      "text/html": [
       "[Epoch: 00] Loss (2.436 / 1.906) - Accuracy (42.8% / 66.1%)<p>[Epoch: 01] Loss (1.116 / 1.107) - Accuracy (82.5% / 86.7%)<p>[Epoch: 02] Loss (0.643 / 0.861) - Accuracy (93.7% / 91.3%)<p>[Epoch: 03] Loss (0.467 / 0.725) - Accuracy (96.8% / 92.9%)<p>[Epoch: 04] Loss (0.399 / 0.755) - Accuracy (97.9% / 94.6%)"
      ],
      "text/plain": [
       "<IPython.core.display.HTML object>"
      ]
     },
     "metadata": {},
     "output_type": "display_data"
    },
    {
     "name": "stdout",
     "output_type": "stream",
     "text": [
      "[==================================================]\n",
      "Adam - 256: (0.01, 0.001, 0.0)\n"
     ]
    },
    {
     "data": {
      "text/html": [
       "\n",
       "<style>\n",
       "    /* Turns off some styling */\n",
       "    progress {\n",
       "        /* gets rid of default border in Firefox and Opera. */\n",
       "        border: none;\n",
       "        /* Needs to be in here for Safari polyfill so background images work as expected. */\n",
       "        background-size: auto;\n",
       "    }\n",
       "    progress:not([value]), progress:not([value])::-webkit-progress-bar {\n",
       "        background: repeating-linear-gradient(45deg, #7e7e7e, #7e7e7e 10px, #5c5c5c 10px, #5c5c5c 20px);\n",
       "    }\n",
       "    .progress-bar-interrupted, .progress-bar-interrupted::-webkit-progress-bar {\n",
       "        background: #F44336;\n",
       "    }\n",
       "</style>\n"
      ],
      "text/plain": [
       "<IPython.core.display.HTML object>"
      ]
     },
     "metadata": {},
     "output_type": "display_data"
    },
    {
     "data": {
      "text/html": [
       "[Epoch: 00] Loss (2.184 / 1.844) - Accuracy (52.6% / 65.0%)<p>[Epoch: 01] Loss (0.874 / 1.347) - Accuracy (89.9% / 85.8%)<p>[Epoch: 02] Loss (0.589 / 1.071) - Accuracy (95.5% / 90.0%)<p>[Epoch: 03] Loss (0.515 / 0.884) - Accuracy (96.7% / 88.6%)<p>[Epoch: 04] Loss (0.494 / 0.799) - Accuracy (97.0% / 92.1%)"
      ],
      "text/plain": [
       "<IPython.core.display.HTML object>"
      ]
     },
     "metadata": {},
     "output_type": "display_data"
    },
    {
     "name": "stdout",
     "output_type": "stream",
     "text": [
      "[==================================================]\n",
      "Adam - 256: (0.01, 0.001, 0.3)\n"
     ]
    },
    {
     "data": {
      "text/html": [
       "\n",
       "<style>\n",
       "    /* Turns off some styling */\n",
       "    progress {\n",
       "        /* gets rid of default border in Firefox and Opera. */\n",
       "        border: none;\n",
       "        /* Needs to be in here for Safari polyfill so background images work as expected. */\n",
       "        background-size: auto;\n",
       "    }\n",
       "    progress:not([value]), progress:not([value])::-webkit-progress-bar {\n",
       "        background: repeating-linear-gradient(45deg, #7e7e7e, #7e7e7e 10px, #5c5c5c 10px, #5c5c5c 20px);\n",
       "    }\n",
       "    .progress-bar-interrupted, .progress-bar-interrupted::-webkit-progress-bar {\n",
       "        background: #F44336;\n",
       "    }\n",
       "</style>\n"
      ],
      "text/plain": [
       "<IPython.core.display.HTML object>"
      ]
     },
     "metadata": {},
     "output_type": "display_data"
    },
    {
     "data": {
      "text/html": [
       "[Epoch: 00] Loss (2.470 / 2.017) - Accuracy (42.8% / 60.6%)<p>[Epoch: 01] Loss (1.173 / 1.495) - Accuracy (82.0% / 83.9%)<p>[Epoch: 02] Loss (0.765 / 1.261) - Accuracy (92.1% / 87.2%)<p>[Epoch: 03] Loss (0.644 / 0.809) - Accuracy (94.6% / 93.8%)<p>[Epoch: 04] Loss (0.591 / 0.749) - Accuracy (95.6% / 91.0%)"
      ],
      "text/plain": [
       "<IPython.core.display.HTML object>"
      ]
     },
     "metadata": {},
     "output_type": "display_data"
    },
    {
     "name": "stdout",
     "output_type": "stream",
     "text": [
      "[==================================================]\n",
      "Adam - 256: (0.01, 0.01, 0.0)\n"
     ]
    },
    {
     "data": {
      "text/html": [
       "\n",
       "<style>\n",
       "    /* Turns off some styling */\n",
       "    progress {\n",
       "        /* gets rid of default border in Firefox and Opera. */\n",
       "        border: none;\n",
       "        /* Needs to be in here for Safari polyfill so background images work as expected. */\n",
       "        background-size: auto;\n",
       "    }\n",
       "    progress:not([value]), progress:not([value])::-webkit-progress-bar {\n",
       "        background: repeating-linear-gradient(45deg, #7e7e7e, #7e7e7e 10px, #5c5c5c 10px, #5c5c5c 20px);\n",
       "    }\n",
       "    .progress-bar-interrupted, .progress-bar-interrupted::-webkit-progress-bar {\n",
       "        background: #F44336;\n",
       "    }\n",
       "</style>\n"
      ],
      "text/plain": [
       "<IPython.core.display.HTML object>"
      ]
     },
     "metadata": {},
     "output_type": "display_data"
    },
    {
     "data": {
      "text/html": [
       "[Epoch: 00] Loss (2.790 / 3.275) - Accuracy (36.3% / 29.0%)<p>[Epoch: 01] Loss (1.809 / 2.917) - Accuracy (71.9% / 44.6%)<p>[Epoch: 02] Loss (1.699 / 2.508) - Accuracy (79.3% / 53.2%)<p>[Epoch: 03] Loss (1.592 / 2.180) - Accuracy (81.7% / 66.9%)<p>[Epoch: 04] Loss (1.524 / 2.125) - Accuracy (82.6% / 60.8%)"
      ],
      "text/plain": [
       "<IPython.core.display.HTML object>"
      ]
     },
     "metadata": {},
     "output_type": "display_data"
    },
    {
     "name": "stdout",
     "output_type": "stream",
     "text": [
      "[==================================================]\n",
      "Adam - 256: (0.01, 0.01, 0.3)\n"
     ]
    },
    {
     "data": {
      "text/html": [
       "\n",
       "<style>\n",
       "    /* Turns off some styling */\n",
       "    progress {\n",
       "        /* gets rid of default border in Firefox and Opera. */\n",
       "        border: none;\n",
       "        /* Needs to be in here for Safari polyfill so background images work as expected. */\n",
       "        background-size: auto;\n",
       "    }\n",
       "    progress:not([value]), progress:not([value])::-webkit-progress-bar {\n",
       "        background: repeating-linear-gradient(45deg, #7e7e7e, #7e7e7e 10px, #5c5c5c 10px, #5c5c5c 20px);\n",
       "    }\n",
       "    .progress-bar-interrupted, .progress-bar-interrupted::-webkit-progress-bar {\n",
       "        background: #F44336;\n",
       "    }\n",
       "</style>\n"
      ],
      "text/plain": [
       "<IPython.core.display.HTML object>"
      ]
     },
     "metadata": {},
     "output_type": "display_data"
    },
    {
     "data": {
      "text/html": [
       "[Epoch: 00] Loss (3.078 / 3.183) - Accuracy (24.6% / 39.4%)<p>[Epoch: 01] Loss (2.003 / 2.770) - Accuracy (64.6% / 60.0%)<p>[Epoch: 02] Loss (1.884 / 2.337) - Accuracy (72.9% / 64.2%)<p>[Epoch: 03] Loss (1.797 / 2.253) - Accuracy (75.0% / 60.1%)<p>[Epoch: 04] Loss (1.713 / 2.428) - Accuracy (76.1% / 60.6%)"
      ],
      "text/plain": [
       "<IPython.core.display.HTML object>"
      ]
     },
     "metadata": {},
     "output_type": "display_data"
    },
    {
     "name": "stdout",
     "output_type": "stream",
     "text": [
      "[==================================================]\n",
      "SGD - 32: (0, 0, 0.0)\n"
     ]
    },
    {
     "data": {
      "text/html": [
       "\n",
       "<style>\n",
       "    /* Turns off some styling */\n",
       "    progress {\n",
       "        /* gets rid of default border in Firefox and Opera. */\n",
       "        border: none;\n",
       "        /* Needs to be in here for Safari polyfill so background images work as expected. */\n",
       "        background-size: auto;\n",
       "    }\n",
       "    progress:not([value]), progress:not([value])::-webkit-progress-bar {\n",
       "        background: repeating-linear-gradient(45deg, #7e7e7e, #7e7e7e 10px, #5c5c5c 10px, #5c5c5c 20px);\n",
       "    }\n",
       "    .progress-bar-interrupted, .progress-bar-interrupted::-webkit-progress-bar {\n",
       "        background: #F44336;\n",
       "    }\n",
       "</style>\n"
      ],
      "text/plain": [
       "<IPython.core.display.HTML object>"
      ]
     },
     "metadata": {},
     "output_type": "display_data"
    },
    {
     "data": {
      "text/html": [
       "[Epoch: 00] Loss (3.526 / 3.255) - Accuracy (11.5% / 19.3%)<p>[Epoch: 01] Loss (2.796 / 2.814) - Accuracy (29.9% / 32.0%)<p>[Epoch: 02] Loss (2.413 / 2.534) - Accuracy (43.1% / 37.7%)<p>[Epoch: 03] Loss (2.132 / 2.289) - Accuracy (52.6% / 45.6%)<p>[Epoch: 04] Loss (1.921 / 2.095) - Accuracy (59.8% / 50.8%)"
      ],
      "text/plain": [
       "<IPython.core.display.HTML object>"
      ]
     },
     "metadata": {},
     "output_type": "display_data"
    },
    {
     "name": "stdout",
     "output_type": "stream",
     "text": [
      "[==================================================]\n",
      "SGD - 32: (0, 0, 0.3)\n"
     ]
    },
    {
     "data": {
      "text/html": [
       "\n",
       "<style>\n",
       "    /* Turns off some styling */\n",
       "    progress {\n",
       "        /* gets rid of default border in Firefox and Opera. */\n",
       "        border: none;\n",
       "        /* Needs to be in here for Safari polyfill so background images work as expected. */\n",
       "        background-size: auto;\n",
       "    }\n",
       "    progress:not([value]), progress:not([value])::-webkit-progress-bar {\n",
       "        background: repeating-linear-gradient(45deg, #7e7e7e, #7e7e7e 10px, #5c5c5c 10px, #5c5c5c 20px);\n",
       "    }\n",
       "    .progress-bar-interrupted, .progress-bar-interrupted::-webkit-progress-bar {\n",
       "        background: #F44336;\n",
       "    }\n",
       "</style>\n"
      ],
      "text/plain": [
       "<IPython.core.display.HTML object>"
      ]
     },
     "metadata": {},
     "output_type": "display_data"
    },
    {
     "data": {
      "text/html": [
       "[Epoch: 00] Loss (3.779 / 3.463) - Accuracy (5.5% / 12.5%)<p>[Epoch: 01] Loss (3.264 / 3.151) - Accuracy (16.1% / 18.5%)<p>[Epoch: 02] Loss (2.964 / 2.902) - Accuracy (25.2% / 26.9%)<p>[Epoch: 03] Loss (2.722 / 2.709) - Accuracy (32.9% / 33.1%)<p>[Epoch: 04] Loss (2.518 / 2.541) - Accuracy (39.9% / 39.2%)"
      ],
      "text/plain": [
       "<IPython.core.display.HTML object>"
      ]
     },
     "metadata": {},
     "output_type": "display_data"
    },
    {
     "name": "stdout",
     "output_type": "stream",
     "text": [
      "[==================================================]\n",
      "SGD - 32: (0, 0.001, 0.0)\n"
     ]
    },
    {
     "data": {
      "text/html": [
       "\n",
       "<style>\n",
       "    /* Turns off some styling */\n",
       "    progress {\n",
       "        /* gets rid of default border in Firefox and Opera. */\n",
       "        border: none;\n",
       "        /* Needs to be in here for Safari polyfill so background images work as expected. */\n",
       "        background-size: auto;\n",
       "    }\n",
       "    progress:not([value]), progress:not([value])::-webkit-progress-bar {\n",
       "        background: repeating-linear-gradient(45deg, #7e7e7e, #7e7e7e 10px, #5c5c5c 10px, #5c5c5c 20px);\n",
       "    }\n",
       "    .progress-bar-interrupted, .progress-bar-interrupted::-webkit-progress-bar {\n",
       "        background: #F44336;\n",
       "    }\n",
       "</style>\n"
      ],
      "text/plain": [
       "<IPython.core.display.HTML object>"
      ]
     },
     "metadata": {},
     "output_type": "display_data"
    },
    {
     "data": {
      "text/html": [
       "[Epoch: 00] Loss (3.518 / 3.391) - Accuracy (11.8% / 13.8%)<p>[Epoch: 01] Loss (2.878 / 2.986) - Accuracy (29.2% / 23.3%)<p>[Epoch: 02] Loss (2.519 / 2.689) - Accuracy (41.4% / 34.3%)<p>[Epoch: 03] Loss (2.256 / 2.433) - Accuracy (50.5% / 40.3%)<p>[Epoch: 04] Loss (2.039 / 2.238) - Accuracy (56.7% / 45.3%)"
      ],
      "text/plain": [
       "<IPython.core.display.HTML object>"
      ]
     },
     "metadata": {},
     "output_type": "display_data"
    },
    {
     "name": "stdout",
     "output_type": "stream",
     "text": [
      "[==================================================]\n",
      "SGD - 32: (0, 0.001, 0.3)\n"
     ]
    },
    {
     "data": {
      "text/html": [
       "\n",
       "<style>\n",
       "    /* Turns off some styling */\n",
       "    progress {\n",
       "        /* gets rid of default border in Firefox and Opera. */\n",
       "        border: none;\n",
       "        /* Needs to be in here for Safari polyfill so background images work as expected. */\n",
       "        background-size: auto;\n",
       "    }\n",
       "    progress:not([value]), progress:not([value])::-webkit-progress-bar {\n",
       "        background: repeating-linear-gradient(45deg, #7e7e7e, #7e7e7e 10px, #5c5c5c 10px, #5c5c5c 20px);\n",
       "    }\n",
       "    .progress-bar-interrupted, .progress-bar-interrupted::-webkit-progress-bar {\n",
       "        background: #F44336;\n",
       "    }\n",
       "</style>\n"
      ],
      "text/plain": [
       "<IPython.core.display.HTML object>"
      ]
     },
     "metadata": {},
     "output_type": "display_data"
    },
    {
     "data": {
      "text/html": [
       "[Epoch: 00] Loss (3.783 / 3.291) - Accuracy (6.2% / 14.9%)<p>[Epoch: 01] Loss (3.237 / 2.933) - Accuracy (17.1% / 25.8%)<p>[Epoch: 02] Loss (2.918 / 2.714) - Accuracy (26.8% / 31.5%)<p>[Epoch: 03] Loss (2.667 / 2.538) - Accuracy (35.5% / 39.2%)<p>[Epoch: 04] Loss (2.465 / 2.345) - Accuracy (41.9% / 46.4%)"
      ],
      "text/plain": [
       "<IPython.core.display.HTML object>"
      ]
     },
     "metadata": {},
     "output_type": "display_data"
    },
    {
     "name": "stdout",
     "output_type": "stream",
     "text": [
      "[==================================================]\n",
      "SGD - 32: (0, 0.01, 0.0)\n"
     ]
    },
    {
     "data": {
      "text/html": [
       "\n",
       "<style>\n",
       "    /* Turns off some styling */\n",
       "    progress {\n",
       "        /* gets rid of default border in Firefox and Opera. */\n",
       "        border: none;\n",
       "        /* Needs to be in here for Safari polyfill so background images work as expected. */\n",
       "        background-size: auto;\n",
       "    }\n",
       "    progress:not([value]), progress:not([value])::-webkit-progress-bar {\n",
       "        background: repeating-linear-gradient(45deg, #7e7e7e, #7e7e7e 10px, #5c5c5c 10px, #5c5c5c 20px);\n",
       "    }\n",
       "    .progress-bar-interrupted, .progress-bar-interrupted::-webkit-progress-bar {\n",
       "        background: #F44336;\n",
       "    }\n",
       "</style>\n"
      ],
      "text/plain": [
       "<IPython.core.display.HTML object>"
      ]
     },
     "metadata": {},
     "output_type": "display_data"
    },
    {
     "data": {
      "text/html": [
       "[Epoch: 00] Loss (3.580 / 3.274) - Accuracy (10.5% / 19.5%)<p>[Epoch: 01] Loss (2.893 / 2.791) - Accuracy (28.6% / 32.1%)<p>[Epoch: 02] Loss (2.519 / 2.481) - Accuracy (42.7% / 44.0%)<p>[Epoch: 03] Loss (2.239 / 2.250) - Accuracy (53.2% / 53.2%)<p>[Epoch: 04] Loss (2.009 / 2.070) - Accuracy (62.3% / 59.5%)"
      ],
      "text/plain": [
       "<IPython.core.display.HTML object>"
      ]
     },
     "metadata": {},
     "output_type": "display_data"
    },
    {
     "name": "stdout",
     "output_type": "stream",
     "text": [
      "[==================================================]\n",
      "SGD - 32: (0, 0.01, 0.3)\n"
     ]
    },
    {
     "data": {
      "text/html": [
       "\n",
       "<style>\n",
       "    /* Turns off some styling */\n",
       "    progress {\n",
       "        /* gets rid of default border in Firefox and Opera. */\n",
       "        border: none;\n",
       "        /* Needs to be in here for Safari polyfill so background images work as expected. */\n",
       "        background-size: auto;\n",
       "    }\n",
       "    progress:not([value]), progress:not([value])::-webkit-progress-bar {\n",
       "        background: repeating-linear-gradient(45deg, #7e7e7e, #7e7e7e 10px, #5c5c5c 10px, #5c5c5c 20px);\n",
       "    }\n",
       "    .progress-bar-interrupted, .progress-bar-interrupted::-webkit-progress-bar {\n",
       "        background: #F44336;\n",
       "    }\n",
       "</style>\n"
      ],
      "text/plain": [
       "<IPython.core.display.HTML object>"
      ]
     },
     "metadata": {},
     "output_type": "display_data"
    },
    {
     "data": {
      "text/html": [
       "[Epoch: 00] Loss (3.720 / 3.260) - Accuracy (6.3% / 16.6%)<p>[Epoch: 01] Loss (3.170 / 2.892) - Accuracy (18.7% / 28.8%)<p>[Epoch: 02] Loss (2.817 / 2.622) - Accuracy (31.3% / 36.9%)<p>[Epoch: 03] Loss (2.548 / 2.410) - Accuracy (40.2% / 45.4%)<p>[Epoch: 04] Loss (2.313 / 2.240) - Accuracy (48.6% / 49.2%)"
      ],
      "text/plain": [
       "<IPython.core.display.HTML object>"
      ]
     },
     "metadata": {},
     "output_type": "display_data"
    },
    {
     "name": "stdout",
     "output_type": "stream",
     "text": [
      "[==================================================]\n",
      "SGD - 32: (0.001, 0, 0.0)\n"
     ]
    },
    {
     "data": {
      "text/html": [
       "\n",
       "<style>\n",
       "    /* Turns off some styling */\n",
       "    progress {\n",
       "        /* gets rid of default border in Firefox and Opera. */\n",
       "        border: none;\n",
       "        /* Needs to be in here for Safari polyfill so background images work as expected. */\n",
       "        background-size: auto;\n",
       "    }\n",
       "    progress:not([value]), progress:not([value])::-webkit-progress-bar {\n",
       "        background: repeating-linear-gradient(45deg, #7e7e7e, #7e7e7e 10px, #5c5c5c 10px, #5c5c5c 20px);\n",
       "    }\n",
       "    .progress-bar-interrupted, .progress-bar-interrupted::-webkit-progress-bar {\n",
       "        background: #F44336;\n",
       "    }\n",
       "</style>\n"
      ],
      "text/plain": [
       "<IPython.core.display.HTML object>"
      ]
     },
     "metadata": {},
     "output_type": "display_data"
    },
    {
     "data": {
      "text/html": [
       "[Epoch: 00] Loss (3.496 / 3.275) - Accuracy (11.0% / 17.1%)<p>[Epoch: 01] Loss (2.857 / 2.872) - Accuracy (29.9% / 29.9%)<p>[Epoch: 02] Loss (2.514 / 2.633) - Accuracy (42.6% / 35.1%)<p>[Epoch: 03] Loss (2.259 / 2.437) - Accuracy (51.6% / 42.2%)<p>[Epoch: 04] Loss (2.055 / 2.273) - Accuracy (57.5% / 47.8%)"
      ],
      "text/plain": [
       "<IPython.core.display.HTML object>"
      ]
     },
     "metadata": {},
     "output_type": "display_data"
    },
    {
     "name": "stdout",
     "output_type": "stream",
     "text": [
      "[==================================================]\n",
      "SGD - 32: (0.001, 0, 0.3)\n"
     ]
    },
    {
     "data": {
      "text/html": [
       "\n",
       "<style>\n",
       "    /* Turns off some styling */\n",
       "    progress {\n",
       "        /* gets rid of default border in Firefox and Opera. */\n",
       "        border: none;\n",
       "        /* Needs to be in here for Safari polyfill so background images work as expected. */\n",
       "        background-size: auto;\n",
       "    }\n",
       "    progress:not([value]), progress:not([value])::-webkit-progress-bar {\n",
       "        background: repeating-linear-gradient(45deg, #7e7e7e, #7e7e7e 10px, #5c5c5c 10px, #5c5c5c 20px);\n",
       "    }\n",
       "    .progress-bar-interrupted, .progress-bar-interrupted::-webkit-progress-bar {\n",
       "        background: #F44336;\n",
       "    }\n",
       "</style>\n"
      ],
      "text/plain": [
       "<IPython.core.display.HTML object>"
      ]
     },
     "metadata": {},
     "output_type": "display_data"
    },
    {
     "data": {
      "text/html": [
       "[Epoch: 00] Loss (3.843 / 3.418) - Accuracy (5.8% / 13.8%)<p>[Epoch: 01] Loss (3.300 / 3.058) - Accuracy (15.6% / 22.3%)<p>[Epoch: 02] Loss (2.953 / 2.824) - Accuracy (25.6% / 34.3%)<p>[Epoch: 03] Loss (2.690 / 2.576) - Accuracy (34.1% / 41.9%)<p>[Epoch: 04] Loss (2.472 / 2.417) - Accuracy (41.7% / 43.8%)"
      ],
      "text/plain": [
       "<IPython.core.display.HTML object>"
      ]
     },
     "metadata": {},
     "output_type": "display_data"
    },
    {
     "name": "stdout",
     "output_type": "stream",
     "text": [
      "[==================================================]\n",
      "SGD - 32: (0.001, 0.001, 0.0)\n"
     ]
    },
    {
     "data": {
      "text/html": [
       "\n",
       "<style>\n",
       "    /* Turns off some styling */\n",
       "    progress {\n",
       "        /* gets rid of default border in Firefox and Opera. */\n",
       "        border: none;\n",
       "        /* Needs to be in here for Safari polyfill so background images work as expected. */\n",
       "        background-size: auto;\n",
       "    }\n",
       "    progress:not([value]), progress:not([value])::-webkit-progress-bar {\n",
       "        background: repeating-linear-gradient(45deg, #7e7e7e, #7e7e7e 10px, #5c5c5c 10px, #5c5c5c 20px);\n",
       "    }\n",
       "    .progress-bar-interrupted, .progress-bar-interrupted::-webkit-progress-bar {\n",
       "        background: #F44336;\n",
       "    }\n",
       "</style>\n"
      ],
      "text/plain": [
       "<IPython.core.display.HTML object>"
      ]
     },
     "metadata": {},
     "output_type": "display_data"
    },
    {
     "data": {
      "text/html": [
       "[Epoch: 00] Loss (3.577 / 3.372) - Accuracy (10.9% / 15.0%)<p>[Epoch: 01] Loss (2.859 / 2.873) - Accuracy (29.7% / 28.2%)<p>[Epoch: 02] Loss (2.481 / 2.561) - Accuracy (42.3% / 38.6%)<p>[Epoch: 03] Loss (2.207 / 2.326) - Accuracy (52.5% / 45.4%)<p>[Epoch: 04] Loss (1.986 / 2.133) - Accuracy (59.7% / 51.1%)"
      ],
      "text/plain": [
       "<IPython.core.display.HTML object>"
      ]
     },
     "metadata": {},
     "output_type": "display_data"
    },
    {
     "name": "stdout",
     "output_type": "stream",
     "text": [
      "[==================================================]\n",
      "SGD - 32: (0.001, 0.001, 0.3)\n"
     ]
    },
    {
     "data": {
      "text/html": [
       "\n",
       "<style>\n",
       "    /* Turns off some styling */\n",
       "    progress {\n",
       "        /* gets rid of default border in Firefox and Opera. */\n",
       "        border: none;\n",
       "        /* Needs to be in here for Safari polyfill so background images work as expected. */\n",
       "        background-size: auto;\n",
       "    }\n",
       "    progress:not([value]), progress:not([value])::-webkit-progress-bar {\n",
       "        background: repeating-linear-gradient(45deg, #7e7e7e, #7e7e7e 10px, #5c5c5c 10px, #5c5c5c 20px);\n",
       "    }\n",
       "    .progress-bar-interrupted, .progress-bar-interrupted::-webkit-progress-bar {\n",
       "        background: #F44336;\n",
       "    }\n",
       "</style>\n"
      ],
      "text/plain": [
       "<IPython.core.display.HTML object>"
      ]
     },
     "metadata": {},
     "output_type": "display_data"
    },
    {
     "data": {
      "text/html": [
       "[Epoch: 00] Loss (3.705 / 3.303) - Accuracy (6.9% / 16.5%)<p>[Epoch: 01] Loss (3.176 / 2.933) - Accuracy (18.7% / 26.9%)<p>[Epoch: 02] Loss (2.864 / 2.696) - Accuracy (28.7% / 35.3%)<p>[Epoch: 03] Loss (2.615 / 2.493) - Accuracy (37.0% / 41.5%)<p>[Epoch: 04] Loss (2.413 / 2.294) - Accuracy (44.2% / 48.9%)"
      ],
      "text/plain": [
       "<IPython.core.display.HTML object>"
      ]
     },
     "metadata": {},
     "output_type": "display_data"
    },
    {
     "name": "stdout",
     "output_type": "stream",
     "text": [
      "[==================================================]\n",
      "SGD - 32: (0.001, 0.01, 0.0)\n"
     ]
    },
    {
     "data": {
      "text/html": [
       "\n",
       "<style>\n",
       "    /* Turns off some styling */\n",
       "    progress {\n",
       "        /* gets rid of default border in Firefox and Opera. */\n",
       "        border: none;\n",
       "        /* Needs to be in here for Safari polyfill so background images work as expected. */\n",
       "        background-size: auto;\n",
       "    }\n",
       "    progress:not([value]), progress:not([value])::-webkit-progress-bar {\n",
       "        background: repeating-linear-gradient(45deg, #7e7e7e, #7e7e7e 10px, #5c5c5c 10px, #5c5c5c 20px);\n",
       "    }\n",
       "    .progress-bar-interrupted, .progress-bar-interrupted::-webkit-progress-bar {\n",
       "        background: #F44336;\n",
       "    }\n",
       "</style>\n"
      ],
      "text/plain": [
       "<IPython.core.display.HTML object>"
      ]
     },
     "metadata": {},
     "output_type": "display_data"
    },
    {
     "data": {
      "text/html": [
       "[Epoch: 00] Loss (3.467 / 3.291) - Accuracy (13.2% / 15.8%)<p>[Epoch: 01] Loss (2.791 / 2.776) - Accuracy (33.4% / 32.1%)<p>[Epoch: 02] Loss (2.389 / 2.481) - Accuracy (47.6% / 42.6%)<p>[Epoch: 03] Loss (2.103 / 2.220) - Accuracy (58.1% / 49.7%)<p>[Epoch: 04] Loss (1.885 / 2.008) - Accuracy (65.9% / 57.1%)"
      ],
      "text/plain": [
       "<IPython.core.display.HTML object>"
      ]
     },
     "metadata": {},
     "output_type": "display_data"
    },
    {
     "name": "stdout",
     "output_type": "stream",
     "text": [
      "[==================================================]\n",
      "SGD - 32: (0.001, 0.01, 0.3)\n"
     ]
    },
    {
     "data": {
      "text/html": [
       "\n",
       "<style>\n",
       "    /* Turns off some styling */\n",
       "    progress {\n",
       "        /* gets rid of default border in Firefox and Opera. */\n",
       "        border: none;\n",
       "        /* Needs to be in here for Safari polyfill so background images work as expected. */\n",
       "        background-size: auto;\n",
       "    }\n",
       "    progress:not([value]), progress:not([value])::-webkit-progress-bar {\n",
       "        background: repeating-linear-gradient(45deg, #7e7e7e, #7e7e7e 10px, #5c5c5c 10px, #5c5c5c 20px);\n",
       "    }\n",
       "    .progress-bar-interrupted, .progress-bar-interrupted::-webkit-progress-bar {\n",
       "        background: #F44336;\n",
       "    }\n",
       "</style>\n"
      ],
      "text/plain": [
       "<IPython.core.display.HTML object>"
      ]
     },
     "metadata": {},
     "output_type": "display_data"
    },
    {
     "data": {
      "text/html": [
       "[Epoch: 00] Loss (3.806 / 3.544) - Accuracy (6.8% / 10.6%)<p>[Epoch: 01] Loss (3.266 / 3.136) - Accuracy (17.4% / 21.5%)<p>[Epoch: 02] Loss (2.914 / 2.906) - Accuracy (28.9% / 30.2%)<p>[Epoch: 03] Loss (2.635 / 2.629) - Accuracy (38.9% / 40.0%)<p>[Epoch: 04] Loss (2.402 / 2.436) - Accuracy (47.1% / 46.2%)"
      ],
      "text/plain": [
       "<IPython.core.display.HTML object>"
      ]
     },
     "metadata": {},
     "output_type": "display_data"
    },
    {
     "name": "stdout",
     "output_type": "stream",
     "text": [
      "[==================================================]\n",
      "SGD - 32: (0.01, 0, 0.0)\n"
     ]
    },
    {
     "data": {
      "text/html": [
       "\n",
       "<style>\n",
       "    /* Turns off some styling */\n",
       "    progress {\n",
       "        /* gets rid of default border in Firefox and Opera. */\n",
       "        border: none;\n",
       "        /* Needs to be in here for Safari polyfill so background images work as expected. */\n",
       "        background-size: auto;\n",
       "    }\n",
       "    progress:not([value]), progress:not([value])::-webkit-progress-bar {\n",
       "        background: repeating-linear-gradient(45deg, #7e7e7e, #7e7e7e 10px, #5c5c5c 10px, #5c5c5c 20px);\n",
       "    }\n",
       "    .progress-bar-interrupted, .progress-bar-interrupted::-webkit-progress-bar {\n",
       "        background: #F44336;\n",
       "    }\n",
       "</style>\n"
      ],
      "text/plain": [
       "<IPython.core.display.HTML object>"
      ]
     },
     "metadata": {},
     "output_type": "display_data"
    },
    {
     "data": {
      "text/html": [
       "[Epoch: 00] Loss (3.508 / 3.163) - Accuracy (11.2% / 19.6%)<p>[Epoch: 01] Loss (2.843 / 2.767) - Accuracy (30.1% / 31.5%)<p>[Epoch: 02] Loss (2.496 / 2.485) - Accuracy (41.8% / 40.8%)<p>[Epoch: 03] Loss (2.240 / 2.293) - Accuracy (50.8% / 45.7%)<p>[Epoch: 04] Loss (2.044 / 2.124) - Accuracy (57.4% / 52.2%)"
      ],
      "text/plain": [
       "<IPython.core.display.HTML object>"
      ]
     },
     "metadata": {},
     "output_type": "display_data"
    },
    {
     "name": "stdout",
     "output_type": "stream",
     "text": [
      "[==================================================]\n",
      "SGD - 32: (0.01, 0, 0.3)\n"
     ]
    },
    {
     "data": {
      "text/html": [
       "\n",
       "<style>\n",
       "    /* Turns off some styling */\n",
       "    progress {\n",
       "        /* gets rid of default border in Firefox and Opera. */\n",
       "        border: none;\n",
       "        /* Needs to be in here for Safari polyfill so background images work as expected. */\n",
       "        background-size: auto;\n",
       "    }\n",
       "    progress:not([value]), progress:not([value])::-webkit-progress-bar {\n",
       "        background: repeating-linear-gradient(45deg, #7e7e7e, #7e7e7e 10px, #5c5c5c 10px, #5c5c5c 20px);\n",
       "    }\n",
       "    .progress-bar-interrupted, .progress-bar-interrupted::-webkit-progress-bar {\n",
       "        background: #F44336;\n",
       "    }\n",
       "</style>\n"
      ],
      "text/plain": [
       "<IPython.core.display.HTML object>"
      ]
     },
     "metadata": {},
     "output_type": "display_data"
    },
    {
     "data": {
      "text/html": [
       "[Epoch: 00] Loss (3.829 / 3.372) - Accuracy (6.4% / 13.1%)<p>[Epoch: 01] Loss (3.294 / 3.054) - Accuracy (14.9% / 22.9%)<p>[Epoch: 02] Loss (2.978 / 2.826) - Accuracy (24.5% / 30.5%)<p>[Epoch: 03] Loss (2.734 / 2.666) - Accuracy (33.6% / 39.9%)<p>[Epoch: 04] Loss (2.541 / 2.497) - Accuracy (40.7% / 45.7%)"
      ],
      "text/plain": [
       "<IPython.core.display.HTML object>"
      ]
     },
     "metadata": {},
     "output_type": "display_data"
    },
    {
     "name": "stdout",
     "output_type": "stream",
     "text": [
      "[==================================================]\n",
      "SGD - 32: (0.01, 0.001, 0.0)\n"
     ]
    },
    {
     "data": {
      "text/html": [
       "\n",
       "<style>\n",
       "    /* Turns off some styling */\n",
       "    progress {\n",
       "        /* gets rid of default border in Firefox and Opera. */\n",
       "        border: none;\n",
       "        /* Needs to be in here for Safari polyfill so background images work as expected. */\n",
       "        background-size: auto;\n",
       "    }\n",
       "    progress:not([value]), progress:not([value])::-webkit-progress-bar {\n",
       "        background: repeating-linear-gradient(45deg, #7e7e7e, #7e7e7e 10px, #5c5c5c 10px, #5c5c5c 20px);\n",
       "    }\n",
       "    .progress-bar-interrupted, .progress-bar-interrupted::-webkit-progress-bar {\n",
       "        background: #F44336;\n",
       "    }\n",
       "</style>\n"
      ],
      "text/plain": [
       "<IPython.core.display.HTML object>"
      ]
     },
     "metadata": {},
     "output_type": "display_data"
    },
    {
     "data": {
      "text/html": [
       "[Epoch: 00] Loss (3.640 / 3.477) - Accuracy (10.4% / 13.6%)<p>[Epoch: 01] Loss (2.967 / 3.005) - Accuracy (27.1% / 25.9%)<p>[Epoch: 02] Loss (2.589 / 2.655) - Accuracy (38.6% / 35.6%)<p>[Epoch: 03] Loss (2.315 / 2.400) - Accuracy (49.5% / 43.5%)<p>[Epoch: 04] Loss (2.099 / 2.240) - Accuracy (57.1% / 49.5%)"
      ],
      "text/plain": [
       "<IPython.core.display.HTML object>"
      ]
     },
     "metadata": {},
     "output_type": "display_data"
    },
    {
     "name": "stdout",
     "output_type": "stream",
     "text": [
      "[==================================================]\n",
      "SGD - 32: (0.01, 0.001, 0.3)\n"
     ]
    },
    {
     "data": {
      "text/html": [
       "\n",
       "<style>\n",
       "    /* Turns off some styling */\n",
       "    progress {\n",
       "        /* gets rid of default border in Firefox and Opera. */\n",
       "        border: none;\n",
       "        /* Needs to be in here for Safari polyfill so background images work as expected. */\n",
       "        background-size: auto;\n",
       "    }\n",
       "    progress:not([value]), progress:not([value])::-webkit-progress-bar {\n",
       "        background: repeating-linear-gradient(45deg, #7e7e7e, #7e7e7e 10px, #5c5c5c 10px, #5c5c5c 20px);\n",
       "    }\n",
       "    .progress-bar-interrupted, .progress-bar-interrupted::-webkit-progress-bar {\n",
       "        background: #F44336;\n",
       "    }\n",
       "</style>\n"
      ],
      "text/plain": [
       "<IPython.core.display.HTML object>"
      ]
     },
     "metadata": {},
     "output_type": "display_data"
    },
    {
     "data": {
      "text/html": [
       "[Epoch: 00] Loss (3.738 / 3.385) - Accuracy (7.1% / 14.7%)<p>[Epoch: 01] Loss (3.212 / 3.012) - Accuracy (17.2% / 26.1%)<p>[Epoch: 02] Loss (2.899 / 2.722) - Accuracy (28.2% / 35.1%)<p>[Epoch: 03] Loss (2.644 / 2.564) - Accuracy (38.0% / 41.5%)<p>[Epoch: 04] Loss (2.436 / 2.390) - Accuracy (45.6% / 48.3%)"
      ],
      "text/plain": [
       "<IPython.core.display.HTML object>"
      ]
     },
     "metadata": {},
     "output_type": "display_data"
    },
    {
     "name": "stdout",
     "output_type": "stream",
     "text": [
      "[==================================================]\n",
      "SGD - 32: (0.01, 0.01, 0.0)\n"
     ]
    },
    {
     "data": {
      "text/html": [
       "\n",
       "<style>\n",
       "    /* Turns off some styling */\n",
       "    progress {\n",
       "        /* gets rid of default border in Firefox and Opera. */\n",
       "        border: none;\n",
       "        /* Needs to be in here for Safari polyfill so background images work as expected. */\n",
       "        background-size: auto;\n",
       "    }\n",
       "    progress:not([value]), progress:not([value])::-webkit-progress-bar {\n",
       "        background: repeating-linear-gradient(45deg, #7e7e7e, #7e7e7e 10px, #5c5c5c 10px, #5c5c5c 20px);\n",
       "    }\n",
       "    .progress-bar-interrupted, .progress-bar-interrupted::-webkit-progress-bar {\n",
       "        background: #F44336;\n",
       "    }\n",
       "</style>\n"
      ],
      "text/plain": [
       "<IPython.core.display.HTML object>"
      ]
     },
     "metadata": {},
     "output_type": "display_data"
    },
    {
     "data": {
      "text/html": [
       "[Epoch: 00] Loss (3.503 / 3.264) - Accuracy (12.4% / 18.5%)<p>[Epoch: 01] Loss (2.862 / 2.878) - Accuracy (31.5% / 30.5%)<p>[Epoch: 02] Loss (2.496 / 2.619) - Accuracy (44.8% / 38.3%)<p>[Epoch: 03] Loss (2.233 / 2.392) - Accuracy (54.5% / 47.0%)<p>[Epoch: 04] Loss (2.035 / 2.161) - Accuracy (61.6% / 54.7%)"
      ],
      "text/plain": [
       "<IPython.core.display.HTML object>"
      ]
     },
     "metadata": {},
     "output_type": "display_data"
    },
    {
     "name": "stdout",
     "output_type": "stream",
     "text": [
      "[==================================================]\n",
      "SGD - 32: (0.01, 0.01, 0.3)\n"
     ]
    },
    {
     "data": {
      "text/html": [
       "\n",
       "<style>\n",
       "    /* Turns off some styling */\n",
       "    progress {\n",
       "        /* gets rid of default border in Firefox and Opera. */\n",
       "        border: none;\n",
       "        /* Needs to be in here for Safari polyfill so background images work as expected. */\n",
       "        background-size: auto;\n",
       "    }\n",
       "    progress:not([value]), progress:not([value])::-webkit-progress-bar {\n",
       "        background: repeating-linear-gradient(45deg, #7e7e7e, #7e7e7e 10px, #5c5c5c 10px, #5c5c5c 20px);\n",
       "    }\n",
       "    .progress-bar-interrupted, .progress-bar-interrupted::-webkit-progress-bar {\n",
       "        background: #F44336;\n",
       "    }\n",
       "</style>\n"
      ],
      "text/plain": [
       "<IPython.core.display.HTML object>"
      ]
     },
     "metadata": {},
     "output_type": "display_data"
    },
    {
     "data": {
      "text/html": [
       "[Epoch: 00] Loss (3.826 / 3.433) - Accuracy (6.5% / 13.4%)<p>[Epoch: 01] Loss (3.266 / 3.055) - Accuracy (17.6% / 28.0%)<p>[Epoch: 02] Loss (2.925 / 2.832) - Accuracy (29.3% / 36.7%)<p>[Epoch: 03] Loss (2.675 / 2.623) - Accuracy (39.1% / 44.6%)<p>[Epoch: 04] Loss (2.484 / 2.476) - Accuracy (47.2% / 49.8%)"
      ],
      "text/plain": [
       "<IPython.core.display.HTML object>"
      ]
     },
     "metadata": {},
     "output_type": "display_data"
    },
    {
     "name": "stdout",
     "output_type": "stream",
     "text": [
      "[==================================================]\n",
      "SGD - 64: (0, 0, 0.0)\n"
     ]
    },
    {
     "data": {
      "text/html": [
       "\n",
       "<style>\n",
       "    /* Turns off some styling */\n",
       "    progress {\n",
       "        /* gets rid of default border in Firefox and Opera. */\n",
       "        border: none;\n",
       "        /* Needs to be in here for Safari polyfill so background images work as expected. */\n",
       "        background-size: auto;\n",
       "    }\n",
       "    progress:not([value]), progress:not([value])::-webkit-progress-bar {\n",
       "        background: repeating-linear-gradient(45deg, #7e7e7e, #7e7e7e 10px, #5c5c5c 10px, #5c5c5c 20px);\n",
       "    }\n",
       "    .progress-bar-interrupted, .progress-bar-interrupted::-webkit-progress-bar {\n",
       "        background: #F44336;\n",
       "    }\n",
       "</style>\n"
      ],
      "text/plain": [
       "<IPython.core.display.HTML object>"
      ]
     },
     "metadata": {},
     "output_type": "display_data"
    },
    {
     "data": {
      "text/html": [
       "[Epoch: 00] Loss (3.832 / 3.700) - Accuracy (6.1% / 6.0%)<p>[Epoch: 01] Loss (3.292 / 3.366) - Accuracy (16.5% / 14.6%)<p>[Epoch: 02] Loss (2.992 / 3.159) - Accuracy (25.3% / 19.6%)<p>[Epoch: 03] Loss (2.758 / 2.963) - Accuracy (33.1% / 24.7%)<p>[Epoch: 04] Loss (2.569 / 2.825) - Accuracy (39.6% / 28.0%)"
      ],
      "text/plain": [
       "<IPython.core.display.HTML object>"
      ]
     },
     "metadata": {},
     "output_type": "display_data"
    },
    {
     "name": "stdout",
     "output_type": "stream",
     "text": [
      "[==================================================]\n",
      "SGD - 64: (0, 0, 0.3)\n"
     ]
    },
    {
     "data": {
      "text/html": [
       "\n",
       "<style>\n",
       "    /* Turns off some styling */\n",
       "    progress {\n",
       "        /* gets rid of default border in Firefox and Opera. */\n",
       "        border: none;\n",
       "        /* Needs to be in here for Safari polyfill so background images work as expected. */\n",
       "        background-size: auto;\n",
       "    }\n",
       "    progress:not([value]), progress:not([value])::-webkit-progress-bar {\n",
       "        background: repeating-linear-gradient(45deg, #7e7e7e, #7e7e7e 10px, #5c5c5c 10px, #5c5c5c 20px);\n",
       "    }\n",
       "    .progress-bar-interrupted, .progress-bar-interrupted::-webkit-progress-bar {\n",
       "        background: #F44336;\n",
       "    }\n",
       "</style>\n"
      ],
      "text/plain": [
       "<IPython.core.display.HTML object>"
      ]
     },
     "metadata": {},
     "output_type": "display_data"
    },
    {
     "data": {
      "text/html": [
       "[Epoch: 00] Loss (3.964 / 3.527) - Accuracy (4.2% / 10.3%)<p>[Epoch: 01] Loss (3.597 / 3.278) - Accuracy (8.6% / 20.1%)<p>[Epoch: 02] Loss (3.348 / 3.088) - Accuracy (14.7% / 23.9%)<p>[Epoch: 03] Loss (3.131 / 2.954) - Accuracy (20.6% / 28.3%)<p>[Epoch: 04] Loss (2.968 / 2.831) - Accuracy (25.6% / 33.1%)"
      ],
      "text/plain": [
       "<IPython.core.display.HTML object>"
      ]
     },
     "metadata": {},
     "output_type": "display_data"
    },
    {
     "name": "stdout",
     "output_type": "stream",
     "text": [
      "[==================================================]\n",
      "SGD - 64: (0, 0.001, 0.0)\n"
     ]
    },
    {
     "data": {
      "text/html": [
       "\n",
       "<style>\n",
       "    /* Turns off some styling */\n",
       "    progress {\n",
       "        /* gets rid of default border in Firefox and Opera. */\n",
       "        border: none;\n",
       "        /* Needs to be in here for Safari polyfill so background images work as expected. */\n",
       "        background-size: auto;\n",
       "    }\n",
       "    progress:not([value]), progress:not([value])::-webkit-progress-bar {\n",
       "        background: repeating-linear-gradient(45deg, #7e7e7e, #7e7e7e 10px, #5c5c5c 10px, #5c5c5c 20px);\n",
       "    }\n",
       "    .progress-bar-interrupted, .progress-bar-interrupted::-webkit-progress-bar {\n",
       "        background: #F44336;\n",
       "    }\n",
       "</style>\n"
      ],
      "text/plain": [
       "<IPython.core.display.HTML object>"
      ]
     },
     "metadata": {},
     "output_type": "display_data"
    },
    {
     "data": {
      "text/html": [
       "[Epoch: 00] Loss (3.788 / 3.716) - Accuracy (6.3% / 8.2%)<p>[Epoch: 01] Loss (3.265 / 3.323) - Accuracy (16.1% / 15.2%)<p>[Epoch: 02] Loss (2.945 / 3.083) - Accuracy (26.3% / 19.9%)<p>[Epoch: 03] Loss (2.693 / 2.872) - Accuracy (35.8% / 26.6%)<p>[Epoch: 04] Loss (2.487 / 2.692) - Accuracy (43.5% / 31.6%)"
      ],
      "text/plain": [
       "<IPython.core.display.HTML object>"
      ]
     },
     "metadata": {},
     "output_type": "display_data"
    },
    {
     "name": "stdout",
     "output_type": "stream",
     "text": [
      "[==================================================]\n",
      "SGD - 64: (0, 0.001, 0.3)\n"
     ]
    },
    {
     "data": {
      "text/html": [
       "\n",
       "<style>\n",
       "    /* Turns off some styling */\n",
       "    progress {\n",
       "        /* gets rid of default border in Firefox and Opera. */\n",
       "        border: none;\n",
       "        /* Needs to be in here for Safari polyfill so background images work as expected. */\n",
       "        background-size: auto;\n",
       "    }\n",
       "    progress:not([value]), progress:not([value])::-webkit-progress-bar {\n",
       "        background: repeating-linear-gradient(45deg, #7e7e7e, #7e7e7e 10px, #5c5c5c 10px, #5c5c5c 20px);\n",
       "    }\n",
       "    .progress-bar-interrupted, .progress-bar-interrupted::-webkit-progress-bar {\n",
       "        background: #F44336;\n",
       "    }\n",
       "</style>\n"
      ],
      "text/plain": [
       "<IPython.core.display.HTML object>"
      ]
     },
     "metadata": {},
     "output_type": "display_data"
    },
    {
     "data": {
      "text/html": [
       "[Epoch: 00] Loss (3.930 / 3.756) - Accuracy (4.2% / 9.7%)<p>[Epoch: 01] Loss (3.507 / 3.430) - Accuracy (10.8% / 16.1%)<p>[Epoch: 02] Loss (3.247 / 3.239) - Accuracy (17.4% / 21.8%)<p>[Epoch: 03] Loss (3.044 / 3.072) - Accuracy (23.5% / 25.3%)<p>[Epoch: 04] Loss (2.897 / 2.934) - Accuracy (28.2% / 29.6%)"
      ],
      "text/plain": [
       "<IPython.core.display.HTML object>"
      ]
     },
     "metadata": {},
     "output_type": "display_data"
    },
    {
     "name": "stdout",
     "output_type": "stream",
     "text": [
      "[==================================================]\n",
      "SGD - 64: (0, 0.01, 0.0)\n"
     ]
    },
    {
     "data": {
      "text/html": [
       "\n",
       "<style>\n",
       "    /* Turns off some styling */\n",
       "    progress {\n",
       "        /* gets rid of default border in Firefox and Opera. */\n",
       "        border: none;\n",
       "        /* Needs to be in here for Safari polyfill so background images work as expected. */\n",
       "        background-size: auto;\n",
       "    }\n",
       "    progress:not([value]), progress:not([value])::-webkit-progress-bar {\n",
       "        background: repeating-linear-gradient(45deg, #7e7e7e, #7e7e7e 10px, #5c5c5c 10px, #5c5c5c 20px);\n",
       "    }\n",
       "    .progress-bar-interrupted, .progress-bar-interrupted::-webkit-progress-bar {\n",
       "        background: #F44336;\n",
       "    }\n",
       "</style>\n"
      ],
      "text/plain": [
       "<IPython.core.display.HTML object>"
      ]
     },
     "metadata": {},
     "output_type": "display_data"
    },
    {
     "data": {
      "text/html": [
       "[Epoch: 00] Loss (3.821 / 3.841) - Accuracy (5.1% / 6.5%)<p>[Epoch: 01] Loss (3.303 / 3.436) - Accuracy (15.0% / 12.8%)<p>[Epoch: 02] Loss (2.988 / 3.155) - Accuracy (25.3% / 19.1%)<p>[Epoch: 03] Loss (2.753 / 2.957) - Accuracy (34.4% / 25.3%)<p>[Epoch: 04] Loss (2.556 / 2.784) - Accuracy (41.6% / 31.0%)"
      ],
      "text/plain": [
       "<IPython.core.display.HTML object>"
      ]
     },
     "metadata": {},
     "output_type": "display_data"
    },
    {
     "name": "stdout",
     "output_type": "stream",
     "text": [
      "[==================================================]\n",
      "SGD - 64: (0, 0.01, 0.3)\n"
     ]
    },
    {
     "data": {
      "text/html": [
       "\n",
       "<style>\n",
       "    /* Turns off some styling */\n",
       "    progress {\n",
       "        /* gets rid of default border in Firefox and Opera. */\n",
       "        border: none;\n",
       "        /* Needs to be in here for Safari polyfill so background images work as expected. */\n",
       "        background-size: auto;\n",
       "    }\n",
       "    progress:not([value]), progress:not([value])::-webkit-progress-bar {\n",
       "        background: repeating-linear-gradient(45deg, #7e7e7e, #7e7e7e 10px, #5c5c5c 10px, #5c5c5c 20px);\n",
       "    }\n",
       "    .progress-bar-interrupted, .progress-bar-interrupted::-webkit-progress-bar {\n",
       "        background: #F44336;\n",
       "    }\n",
       "</style>\n"
      ],
      "text/plain": [
       "<IPython.core.display.HTML object>"
      ]
     },
     "metadata": {},
     "output_type": "display_data"
    },
    {
     "data": {
      "text/html": [
       "[Epoch: 00] Loss (3.935 / 3.609) - Accuracy (5.3% / 8.7%)<p>[Epoch: 01] Loss (3.512 / 3.320) - Accuracy (11.7% / 16.3%)<p>[Epoch: 02] Loss (3.227 / 3.111) - Accuracy (18.4% / 22.9%)<p>[Epoch: 03] Loss (3.004 / 2.936) - Accuracy (25.3% / 29.0%)<p>[Epoch: 04] Loss (2.821 / 2.796) - Accuracy (31.5% / 33.2%)"
      ],
      "text/plain": [
       "<IPython.core.display.HTML object>"
      ]
     },
     "metadata": {},
     "output_type": "display_data"
    },
    {
     "name": "stdout",
     "output_type": "stream",
     "text": [
      "[==================================================]\n",
      "SGD - 64: (0.001, 0, 0.0)\n"
     ]
    },
    {
     "data": {
      "text/html": [
       "\n",
       "<style>\n",
       "    /* Turns off some styling */\n",
       "    progress {\n",
       "        /* gets rid of default border in Firefox and Opera. */\n",
       "        border: none;\n",
       "        /* Needs to be in here for Safari polyfill so background images work as expected. */\n",
       "        background-size: auto;\n",
       "    }\n",
       "    progress:not([value]), progress:not([value])::-webkit-progress-bar {\n",
       "        background: repeating-linear-gradient(45deg, #7e7e7e, #7e7e7e 10px, #5c5c5c 10px, #5c5c5c 20px);\n",
       "    }\n",
       "    .progress-bar-interrupted, .progress-bar-interrupted::-webkit-progress-bar {\n",
       "        background: #F44336;\n",
       "    }\n",
       "</style>\n"
      ],
      "text/plain": [
       "<IPython.core.display.HTML object>"
      ]
     },
     "metadata": {},
     "output_type": "display_data"
    },
    {
     "data": {
      "text/html": [
       "[Epoch: 00] Loss (3.767 / 3.606) - Accuracy (7.6% / 10.8%)<p>[Epoch: 01] Loss (3.246 / 3.275) - Accuracy (18.3% / 18.5%)<p>[Epoch: 02] Loss (2.933 / 3.027) - Accuracy (27.4% / 23.6%)<p>[Epoch: 03] Loss (2.706 / 2.830) - Accuracy (34.5% / 31.3%)<p>[Epoch: 04] Loss (2.512 / 2.695) - Accuracy (41.1% / 35.8%)"
      ],
      "text/plain": [
       "<IPython.core.display.HTML object>"
      ]
     },
     "metadata": {},
     "output_type": "display_data"
    },
    {
     "name": "stdout",
     "output_type": "stream",
     "text": [
      "[==================================================]\n",
      "SGD - 64: (0.001, 0, 0.3)\n"
     ]
    },
    {
     "data": {
      "text/html": [
       "\n",
       "<style>\n",
       "    /* Turns off some styling */\n",
       "    progress {\n",
       "        /* gets rid of default border in Firefox and Opera. */\n",
       "        border: none;\n",
       "        /* Needs to be in here for Safari polyfill so background images work as expected. */\n",
       "        background-size: auto;\n",
       "    }\n",
       "    progress:not([value]), progress:not([value])::-webkit-progress-bar {\n",
       "        background: repeating-linear-gradient(45deg, #7e7e7e, #7e7e7e 10px, #5c5c5c 10px, #5c5c5c 20px);\n",
       "    }\n",
       "    .progress-bar-interrupted, .progress-bar-interrupted::-webkit-progress-bar {\n",
       "        background: #F44336;\n",
       "    }\n",
       "</style>\n"
      ],
      "text/plain": [
       "<IPython.core.display.HTML object>"
      ]
     },
     "metadata": {},
     "output_type": "display_data"
    },
    {
     "data": {
      "text/html": [
       "[Epoch: 00] Loss (3.951 / 3.644) - Accuracy (4.4% / 9.0%)<p>[Epoch: 01] Loss (3.563 / 3.361) - Accuracy (10.6% / 17.9%)<p>[Epoch: 02] Loss (3.292 / 3.156) - Accuracy (17.2% / 23.6%)<p>[Epoch: 03] Loss (3.092 / 2.994) - Accuracy (22.9% / 27.8%)<p>[Epoch: 04] Loss (2.919 / 2.860) - Accuracy (27.9% / 33.7%)"
      ],
      "text/plain": [
       "<IPython.core.display.HTML object>"
      ]
     },
     "metadata": {},
     "output_type": "display_data"
    },
    {
     "name": "stdout",
     "output_type": "stream",
     "text": [
      "[==================================================]\n",
      "SGD - 64: (0.001, 0.001, 0.0)\n"
     ]
    },
    {
     "data": {
      "text/html": [
       "\n",
       "<style>\n",
       "    /* Turns off some styling */\n",
       "    progress {\n",
       "        /* gets rid of default border in Firefox and Opera. */\n",
       "        border: none;\n",
       "        /* Needs to be in here for Safari polyfill so background images work as expected. */\n",
       "        background-size: auto;\n",
       "    }\n",
       "    progress:not([value]), progress:not([value])::-webkit-progress-bar {\n",
       "        background: repeating-linear-gradient(45deg, #7e7e7e, #7e7e7e 10px, #5c5c5c 10px, #5c5c5c 20px);\n",
       "    }\n",
       "    .progress-bar-interrupted, .progress-bar-interrupted::-webkit-progress-bar {\n",
       "        background: #F44336;\n",
       "    }\n",
       "</style>\n"
      ],
      "text/plain": [
       "<IPython.core.display.HTML object>"
      ]
     },
     "metadata": {},
     "output_type": "display_data"
    },
    {
     "data": {
      "text/html": [
       "[Epoch: 00] Loss (3.744 / 3.470) - Accuracy (7.1% / 11.7%)<p>[Epoch: 01] Loss (3.177 / 3.128) - Accuracy (20.2% / 19.6%)<p>[Epoch: 02] Loss (2.856 / 2.895) - Accuracy (30.4% / 26.3%)<p>[Epoch: 03] Loss (2.628 / 2.713) - Accuracy (37.8% / 31.8%)<p>[Epoch: 04] Loss (2.446 / 2.581) - Accuracy (44.8% / 37.2%)"
      ],
      "text/plain": [
       "<IPython.core.display.HTML object>"
      ]
     },
     "metadata": {},
     "output_type": "display_data"
    },
    {
     "name": "stdout",
     "output_type": "stream",
     "text": [
      "[==================================================]\n",
      "SGD - 64: (0.001, 0.001, 0.3)\n"
     ]
    },
    {
     "data": {
      "text/html": [
       "\n",
       "<style>\n",
       "    /* Turns off some styling */\n",
       "    progress {\n",
       "        /* gets rid of default border in Firefox and Opera. */\n",
       "        border: none;\n",
       "        /* Needs to be in here for Safari polyfill so background images work as expected. */\n",
       "        background-size: auto;\n",
       "    }\n",
       "    progress:not([value]), progress:not([value])::-webkit-progress-bar {\n",
       "        background: repeating-linear-gradient(45deg, #7e7e7e, #7e7e7e 10px, #5c5c5c 10px, #5c5c5c 20px);\n",
       "    }\n",
       "    .progress-bar-interrupted, .progress-bar-interrupted::-webkit-progress-bar {\n",
       "        background: #F44336;\n",
       "    }\n",
       "</style>\n"
      ],
      "text/plain": [
       "<IPython.core.display.HTML object>"
      ]
     },
     "metadata": {},
     "output_type": "display_data"
    },
    {
     "data": {
      "text/html": [
       "[Epoch: 00] Loss (3.991 / 3.728) - Accuracy (4.4% / 5.2%)<p>[Epoch: 01] Loss (3.608 / 3.427) - Accuracy (8.5% / 11.7%)<p>[Epoch: 02] Loss (3.336 / 3.191) - Accuracy (13.3% / 17.7%)<p>[Epoch: 03] Loss (3.115 / 3.013) - Accuracy (18.9% / 24.2%)<p>[Epoch: 04] Loss (2.935 / 2.868) - Accuracy (25.0% / 27.7%)"
      ],
      "text/plain": [
       "<IPython.core.display.HTML object>"
      ]
     },
     "metadata": {},
     "output_type": "display_data"
    },
    {
     "name": "stdout",
     "output_type": "stream",
     "text": [
      "[==================================================]\n",
      "SGD - 64: (0.001, 0.01, 0.0)\n"
     ]
    },
    {
     "data": {
      "text/html": [
       "\n",
       "<style>\n",
       "    /* Turns off some styling */\n",
       "    progress {\n",
       "        /* gets rid of default border in Firefox and Opera. */\n",
       "        border: none;\n",
       "        /* Needs to be in here for Safari polyfill so background images work as expected. */\n",
       "        background-size: auto;\n",
       "    }\n",
       "    progress:not([value]), progress:not([value])::-webkit-progress-bar {\n",
       "        background: repeating-linear-gradient(45deg, #7e7e7e, #7e7e7e 10px, #5c5c5c 10px, #5c5c5c 20px);\n",
       "    }\n",
       "    .progress-bar-interrupted, .progress-bar-interrupted::-webkit-progress-bar {\n",
       "        background: #F44336;\n",
       "    }\n",
       "</style>\n"
      ],
      "text/plain": [
       "<IPython.core.display.HTML object>"
      ]
     },
     "metadata": {},
     "output_type": "display_data"
    },
    {
     "data": {
      "text/html": [
       "[Epoch: 00] Loss (3.705 / 3.540) - Accuracy (8.1% / 9.7%)<p>[Epoch: 01] Loss (3.183 / 3.182) - Accuracy (19.2% / 19.6%)<p>[Epoch: 02] Loss (2.874 / 2.931) - Accuracy (28.8% / 25.0%)<p>[Epoch: 03] Loss (2.646 / 2.737) - Accuracy (37.6% / 32.8%)<p>[Epoch: 04] Loss (2.462 / 2.581) - Accuracy (43.9% / 36.7%)"
      ],
      "text/plain": [
       "<IPython.core.display.HTML object>"
      ]
     },
     "metadata": {},
     "output_type": "display_data"
    },
    {
     "name": "stdout",
     "output_type": "stream",
     "text": [
      "[==================================================]\n",
      "SGD - 64: (0.001, 0.01, 0.3)\n"
     ]
    },
    {
     "data": {
      "text/html": [
       "\n",
       "<style>\n",
       "    /* Turns off some styling */\n",
       "    progress {\n",
       "        /* gets rid of default border in Firefox and Opera. */\n",
       "        border: none;\n",
       "        /* Needs to be in here for Safari polyfill so background images work as expected. */\n",
       "        background-size: auto;\n",
       "    }\n",
       "    progress:not([value]), progress:not([value])::-webkit-progress-bar {\n",
       "        background: repeating-linear-gradient(45deg, #7e7e7e, #7e7e7e 10px, #5c5c5c 10px, #5c5c5c 20px);\n",
       "    }\n",
       "    .progress-bar-interrupted, .progress-bar-interrupted::-webkit-progress-bar {\n",
       "        background: #F44336;\n",
       "    }\n",
       "</style>\n"
      ],
      "text/plain": [
       "<IPython.core.display.HTML object>"
      ]
     },
     "metadata": {},
     "output_type": "display_data"
    },
    {
     "data": {
      "text/html": [
       "[Epoch: 00] Loss (4.079 / 3.834) - Accuracy (2.8% / 5.2%)<p>[Epoch: 01] Loss (3.685 / 3.540) - Accuracy (6.6% / 10.6%)<p>[Epoch: 02] Loss (3.407 / 3.326) - Accuracy (12.0% / 16.5%)<p>[Epoch: 03] Loss (3.180 / 3.173) - Accuracy (18.8% / 20.4%)<p>[Epoch: 04] Loss (2.995 / 3.012) - Accuracy (24.8% / 25.9%)"
      ],
      "text/plain": [
       "<IPython.core.display.HTML object>"
      ]
     },
     "metadata": {},
     "output_type": "display_data"
    },
    {
     "name": "stdout",
     "output_type": "stream",
     "text": [
      "[==================================================]\n",
      "SGD - 64: (0.01, 0, 0.0)\n"
     ]
    },
    {
     "data": {
      "text/html": [
       "\n",
       "<style>\n",
       "    /* Turns off some styling */\n",
       "    progress {\n",
       "        /* gets rid of default border in Firefox and Opera. */\n",
       "        border: none;\n",
       "        /* Needs to be in here for Safari polyfill so background images work as expected. */\n",
       "        background-size: auto;\n",
       "    }\n",
       "    progress:not([value]), progress:not([value])::-webkit-progress-bar {\n",
       "        background: repeating-linear-gradient(45deg, #7e7e7e, #7e7e7e 10px, #5c5c5c 10px, #5c5c5c 20px);\n",
       "    }\n",
       "    .progress-bar-interrupted, .progress-bar-interrupted::-webkit-progress-bar {\n",
       "        background: #F44336;\n",
       "    }\n",
       "</style>\n"
      ],
      "text/plain": [
       "<IPython.core.display.HTML object>"
      ]
     },
     "metadata": {},
     "output_type": "display_data"
    },
    {
     "data": {
      "text/html": [
       "[Epoch: 00] Loss (3.837 / 3.612) - Accuracy (6.8% / 9.8%)<p>[Epoch: 01] Loss (3.299 / 3.277) - Accuracy (17.0% / 15.8%)<p>[Epoch: 02] Loss (2.978 / 3.029) - Accuracy (26.0% / 22.9%)<p>[Epoch: 03] Loss (2.742 / 2.854) - Accuracy (33.9% / 27.1%)<p>[Epoch: 04] Loss (2.552 / 2.691) - Accuracy (39.9% / 31.8%)"
      ],
      "text/plain": [
       "<IPython.core.display.HTML object>"
      ]
     },
     "metadata": {},
     "output_type": "display_data"
    },
    {
     "name": "stdout",
     "output_type": "stream",
     "text": [
      "[==================================================]\n",
      "SGD - 64: (0.01, 0, 0.3)\n"
     ]
    },
    {
     "data": {
      "text/html": [
       "\n",
       "<style>\n",
       "    /* Turns off some styling */\n",
       "    progress {\n",
       "        /* gets rid of default border in Firefox and Opera. */\n",
       "        border: none;\n",
       "        /* Needs to be in here for Safari polyfill so background images work as expected. */\n",
       "        background-size: auto;\n",
       "    }\n",
       "    progress:not([value]), progress:not([value])::-webkit-progress-bar {\n",
       "        background: repeating-linear-gradient(45deg, #7e7e7e, #7e7e7e 10px, #5c5c5c 10px, #5c5c5c 20px);\n",
       "    }\n",
       "    .progress-bar-interrupted, .progress-bar-interrupted::-webkit-progress-bar {\n",
       "        background: #F44336;\n",
       "    }\n",
       "</style>\n"
      ],
      "text/plain": [
       "<IPython.core.display.HTML object>"
      ]
     },
     "metadata": {},
     "output_type": "display_data"
    },
    {
     "data": {
      "text/html": [
       "[Epoch: 00] Loss (3.954 / 3.618) - Accuracy (4.0% / 7.8%)<p>[Epoch: 01] Loss (3.541 / 3.355) - Accuracy (9.4% / 14.9%)<p>[Epoch: 02] Loss (3.290 / 3.169) - Accuracy (16.1% / 20.9%)<p>[Epoch: 03] Loss (3.091 / 3.048) - Accuracy (22.1% / 24.4%)<p>[Epoch: 04] Loss (2.939 / 2.934) - Accuracy (27.1% / 27.1%)"
      ],
      "text/plain": [
       "<IPython.core.display.HTML object>"
      ]
     },
     "metadata": {},
     "output_type": "display_data"
    },
    {
     "name": "stdout",
     "output_type": "stream",
     "text": [
      "[==================================================]\n",
      "SGD - 64: (0.01, 0.001, 0.0)\n"
     ]
    },
    {
     "data": {
      "text/html": [
       "\n",
       "<style>\n",
       "    /* Turns off some styling */\n",
       "    progress {\n",
       "        /* gets rid of default border in Firefox and Opera. */\n",
       "        border: none;\n",
       "        /* Needs to be in here for Safari polyfill so background images work as expected. */\n",
       "        background-size: auto;\n",
       "    }\n",
       "    progress:not([value]), progress:not([value])::-webkit-progress-bar {\n",
       "        background: repeating-linear-gradient(45deg, #7e7e7e, #7e7e7e 10px, #5c5c5c 10px, #5c5c5c 20px);\n",
       "    }\n",
       "    .progress-bar-interrupted, .progress-bar-interrupted::-webkit-progress-bar {\n",
       "        background: #F44336;\n",
       "    }\n",
       "</style>\n"
      ],
      "text/plain": [
       "<IPython.core.display.HTML object>"
      ]
     },
     "metadata": {},
     "output_type": "display_data"
    },
    {
     "data": {
      "text/html": [
       "[Epoch: 00] Loss (3.788 / 3.543) - Accuracy (5.8% / 9.8%)<p>[Epoch: 01] Loss (3.228 / 3.191) - Accuracy (17.2% / 18.0%)<p>[Epoch: 02] Loss (2.896 / 2.944) - Accuracy (28.4% / 27.1%)<p>[Epoch: 03] Loss (2.658 / 2.756) - Accuracy (37.9% / 33.5%)<p>[Epoch: 04] Loss (2.469 / 2.610) - Accuracy (45.0% / 37.3%)"
      ],
      "text/plain": [
       "<IPython.core.display.HTML object>"
      ]
     },
     "metadata": {},
     "output_type": "display_data"
    },
    {
     "name": "stdout",
     "output_type": "stream",
     "text": [
      "[==================================================]\n",
      "SGD - 64: (0.01, 0.001, 0.3)\n"
     ]
    },
    {
     "data": {
      "text/html": [
       "\n",
       "<style>\n",
       "    /* Turns off some styling */\n",
       "    progress {\n",
       "        /* gets rid of default border in Firefox and Opera. */\n",
       "        border: none;\n",
       "        /* Needs to be in here for Safari polyfill so background images work as expected. */\n",
       "        background-size: auto;\n",
       "    }\n",
       "    progress:not([value]), progress:not([value])::-webkit-progress-bar {\n",
       "        background: repeating-linear-gradient(45deg, #7e7e7e, #7e7e7e 10px, #5c5c5c 10px, #5c5c5c 20px);\n",
       "    }\n",
       "    .progress-bar-interrupted, .progress-bar-interrupted::-webkit-progress-bar {\n",
       "        background: #F44336;\n",
       "    }\n",
       "</style>\n"
      ],
      "text/plain": [
       "<IPython.core.display.HTML object>"
      ]
     },
     "metadata": {},
     "output_type": "display_data"
    },
    {
     "data": {
      "text/html": [
       "[Epoch: 00] Loss (3.958 / 3.633) - Accuracy (4.3% / 7.0%)<p>[Epoch: 01] Loss (3.570 / 3.366) - Accuracy (9.5% / 14.4%)<p>[Epoch: 02] Loss (3.307 / 3.178) - Accuracy (15.7% / 19.9%)<p>[Epoch: 03] Loss (3.116 / 3.040) - Accuracy (21.5% / 24.7%)<p>[Epoch: 04] Loss (2.956 / 2.924) - Accuracy (27.2% / 29.4%)"
      ],
      "text/plain": [
       "<IPython.core.display.HTML object>"
      ]
     },
     "metadata": {},
     "output_type": "display_data"
    },
    {
     "name": "stdout",
     "output_type": "stream",
     "text": [
      "[==================================================]\n",
      "SGD - 64: (0.01, 0.01, 0.0)\n"
     ]
    },
    {
     "data": {
      "text/html": [
       "\n",
       "<style>\n",
       "    /* Turns off some styling */\n",
       "    progress {\n",
       "        /* gets rid of default border in Firefox and Opera. */\n",
       "        border: none;\n",
       "        /* Needs to be in here for Safari polyfill so background images work as expected. */\n",
       "        background-size: auto;\n",
       "    }\n",
       "    progress:not([value]), progress:not([value])::-webkit-progress-bar {\n",
       "        background: repeating-linear-gradient(45deg, #7e7e7e, #7e7e7e 10px, #5c5c5c 10px, #5c5c5c 20px);\n",
       "    }\n",
       "    .progress-bar-interrupted, .progress-bar-interrupted::-webkit-progress-bar {\n",
       "        background: #F44336;\n",
       "    }\n",
       "</style>\n"
      ],
      "text/plain": [
       "<IPython.core.display.HTML object>"
      ]
     },
     "metadata": {},
     "output_type": "display_data"
    },
    {
     "data": {
      "text/html": [
       "[Epoch: 00] Loss (3.801 / 3.622) - Accuracy (5.5% / 12.7%)<p>[Epoch: 01] Loss (3.265 / 3.248) - Accuracy (16.2% / 19.1%)<p>[Epoch: 02] Loss (2.951 / 2.994) - Accuracy (26.2% / 24.2%)<p>[Epoch: 03] Loss (2.720 / 2.783) - Accuracy (35.3% / 30.1%)<p>[Epoch: 04] Loss (2.533 / 2.605) - Accuracy (42.7% / 36.6%)"
      ],
      "text/plain": [
       "<IPython.core.display.HTML object>"
      ]
     },
     "metadata": {},
     "output_type": "display_data"
    },
    {
     "name": "stdout",
     "output_type": "stream",
     "text": [
      "[==================================================]\n",
      "SGD - 64: (0.01, 0.01, 0.3)\n"
     ]
    },
    {
     "data": {
      "text/html": [
       "\n",
       "<style>\n",
       "    /* Turns off some styling */\n",
       "    progress {\n",
       "        /* gets rid of default border in Firefox and Opera. */\n",
       "        border: none;\n",
       "        /* Needs to be in here for Safari polyfill so background images work as expected. */\n",
       "        background-size: auto;\n",
       "    }\n",
       "    progress:not([value]), progress:not([value])::-webkit-progress-bar {\n",
       "        background: repeating-linear-gradient(45deg, #7e7e7e, #7e7e7e 10px, #5c5c5c 10px, #5c5c5c 20px);\n",
       "    }\n",
       "    .progress-bar-interrupted, .progress-bar-interrupted::-webkit-progress-bar {\n",
       "        background: #F44336;\n",
       "    }\n",
       "</style>\n"
      ],
      "text/plain": [
       "<IPython.core.display.HTML object>"
      ]
     },
     "metadata": {},
     "output_type": "display_data"
    },
    {
     "data": {
      "text/html": [
       "[Epoch: 00] Loss (3.944 / 3.667) - Accuracy (3.5% / 8.5%)<p>[Epoch: 01] Loss (3.535 / 3.361) - Accuracy (8.9% / 12.3%)<p>[Epoch: 02] Loss (3.268 / 3.164) - Accuracy (15.3% / 19.0%)<p>[Epoch: 03] Loss (3.066 / 3.018) - Accuracy (21.6% / 25.6%)<p>[Epoch: 04] Loss (2.898 / 2.891) - Accuracy (28.2% / 30.4%)"
      ],
      "text/plain": [
       "<IPython.core.display.HTML object>"
      ]
     },
     "metadata": {},
     "output_type": "display_data"
    },
    {
     "name": "stdout",
     "output_type": "stream",
     "text": [
      "[==================================================]\n",
      "SGD - 128: (0, 0, 0.0)\n"
     ]
    },
    {
     "data": {
      "text/html": [
       "\n",
       "<style>\n",
       "    /* Turns off some styling */\n",
       "    progress {\n",
       "        /* gets rid of default border in Firefox and Opera. */\n",
       "        border: none;\n",
       "        /* Needs to be in here for Safari polyfill so background images work as expected. */\n",
       "        background-size: auto;\n",
       "    }\n",
       "    progress:not([value]), progress:not([value])::-webkit-progress-bar {\n",
       "        background: repeating-linear-gradient(45deg, #7e7e7e, #7e7e7e 10px, #5c5c5c 10px, #5c5c5c 20px);\n",
       "    }\n",
       "    .progress-bar-interrupted, .progress-bar-interrupted::-webkit-progress-bar {\n",
       "        background: #F44336;\n",
       "    }\n",
       "</style>\n"
      ],
      "text/plain": [
       "<IPython.core.display.HTML object>"
      ]
     },
     "metadata": {},
     "output_type": "display_data"
    },
    {
     "data": {
      "text/html": [
       "[Epoch: 00] Loss (3.962 / 3.940) - Accuracy (4.9% / 7.6%)<p>[Epoch: 01] Loss (3.545 / 3.619) - Accuracy (10.7% / 12.0%)<p>[Epoch: 02] Loss (3.294 / 3.424) - Accuracy (15.7% / 17.2%)<p>[Epoch: 03] Loss (3.112 / 3.266) - Accuracy (20.4% / 20.3%)<p>[Epoch: 04] Loss (2.964 / 3.140) - Accuracy (24.9% / 22.8%)"
      ],
      "text/plain": [
       "<IPython.core.display.HTML object>"
      ]
     },
     "metadata": {},
     "output_type": "display_data"
    },
    {
     "name": "stdout",
     "output_type": "stream",
     "text": [
      "[==================================================]\n",
      "SGD - 128: (0, 0, 0.3)\n"
     ]
    },
    {
     "data": {
      "text/html": [
       "\n",
       "<style>\n",
       "    /* Turns off some styling */\n",
       "    progress {\n",
       "        /* gets rid of default border in Firefox and Opera. */\n",
       "        border: none;\n",
       "        /* Needs to be in here for Safari polyfill so background images work as expected. */\n",
       "        background-size: auto;\n",
       "    }\n",
       "    progress:not([value]), progress:not([value])::-webkit-progress-bar {\n",
       "        background: repeating-linear-gradient(45deg, #7e7e7e, #7e7e7e 10px, #5c5c5c 10px, #5c5c5c 20px);\n",
       "    }\n",
       "    .progress-bar-interrupted, .progress-bar-interrupted::-webkit-progress-bar {\n",
       "        background: #F44336;\n",
       "    }\n",
       "</style>\n"
      ],
      "text/plain": [
       "<IPython.core.display.HTML object>"
      ]
     },
     "metadata": {},
     "output_type": "display_data"
    },
    {
     "data": {
      "text/html": [
       "[Epoch: 00] Loss (4.055 / 3.761) - Accuracy (2.8% / 4.4%)<p>[Epoch: 01] Loss (3.782 / 3.557) - Accuracy (5.4% / 6.6%)<p>[Epoch: 02] Loss (3.589 / 3.401) - Accuracy (8.3% / 11.9%)<p>[Epoch: 03] Loss (3.433 / 3.273) - Accuracy (12.0% / 16.6%)<p>[Epoch: 04] Loss (3.306 / 3.169) - Accuracy (15.5% / 19.9%)"
      ],
      "text/plain": [
       "<IPython.core.display.HTML object>"
      ]
     },
     "metadata": {},
     "output_type": "display_data"
    },
    {
     "name": "stdout",
     "output_type": "stream",
     "text": [
      "[==================================================]\n",
      "SGD - 128: (0, 0.001, 0.0)\n"
     ]
    },
    {
     "data": {
      "text/html": [
       "\n",
       "<style>\n",
       "    /* Turns off some styling */\n",
       "    progress {\n",
       "        /* gets rid of default border in Firefox and Opera. */\n",
       "        border: none;\n",
       "        /* Needs to be in here for Safari polyfill so background images work as expected. */\n",
       "        background-size: auto;\n",
       "    }\n",
       "    progress:not([value]), progress:not([value])::-webkit-progress-bar {\n",
       "        background: repeating-linear-gradient(45deg, #7e7e7e, #7e7e7e 10px, #5c5c5c 10px, #5c5c5c 20px);\n",
       "    }\n",
       "    .progress-bar-interrupted, .progress-bar-interrupted::-webkit-progress-bar {\n",
       "        background: #F44336;\n",
       "    }\n",
       "</style>\n"
      ],
      "text/plain": [
       "<IPython.core.display.HTML object>"
      ]
     },
     "metadata": {},
     "output_type": "display_data"
    },
    {
     "data": {
      "text/html": [
       "[Epoch: 00] Loss (4.057 / 4.057) - Accuracy (3.9% / 3.5%)<p>[Epoch: 01] Loss (3.672 / 3.784) - Accuracy (7.7% / 7.1%)<p>[Epoch: 02] Loss (3.422 / 3.592) - Accuracy (12.7% / 9.2%)<p>[Epoch: 03] Loss (3.236 / 3.426) - Accuracy (17.5% / 12.3%)<p>[Epoch: 04] Loss (3.077 / 3.288) - Accuracy (21.9% / 15.0%)"
      ],
      "text/plain": [
       "<IPython.core.display.HTML object>"
      ]
     },
     "metadata": {},
     "output_type": "display_data"
    },
    {
     "name": "stdout",
     "output_type": "stream",
     "text": [
      "[==================================================]\n",
      "SGD - 128: (0, 0.001, 0.3)\n"
     ]
    },
    {
     "data": {
      "text/html": [
       "\n",
       "<style>\n",
       "    /* Turns off some styling */\n",
       "    progress {\n",
       "        /* gets rid of default border in Firefox and Opera. */\n",
       "        border: none;\n",
       "        /* Needs to be in here for Safari polyfill so background images work as expected. */\n",
       "        background-size: auto;\n",
       "    }\n",
       "    progress:not([value]), progress:not([value])::-webkit-progress-bar {\n",
       "        background: repeating-linear-gradient(45deg, #7e7e7e, #7e7e7e 10px, #5c5c5c 10px, #5c5c5c 20px);\n",
       "    }\n",
       "    .progress-bar-interrupted, .progress-bar-interrupted::-webkit-progress-bar {\n",
       "        background: #F44336;\n",
       "    }\n",
       "</style>\n"
      ],
      "text/plain": [
       "<IPython.core.display.HTML object>"
      ]
     },
     "metadata": {},
     "output_type": "display_data"
    },
    {
     "data": {
      "text/html": [
       "[Epoch: 00] Loss (4.083 / 4.097) - Accuracy (3.5% / 3.2%)<p>[Epoch: 01] Loss (3.803 / 3.865) - Accuracy (6.5% / 5.2%)<p>[Epoch: 02] Loss (3.612 / 3.683) - Accuracy (9.7% / 7.6%)<p>[Epoch: 03] Loss (3.445 / 3.532) - Accuracy (13.0% / 10.9%)<p>[Epoch: 04] Loss (3.318 / 3.402) - Accuracy (16.0% / 14.2%)"
      ],
      "text/plain": [
       "<IPython.core.display.HTML object>"
      ]
     },
     "metadata": {},
     "output_type": "display_data"
    },
    {
     "name": "stdout",
     "output_type": "stream",
     "text": [
      "[==================================================]\n",
      "SGD - 128: (0, 0.01, 0.0)\n"
     ]
    },
    {
     "data": {
      "text/html": [
       "\n",
       "<style>\n",
       "    /* Turns off some styling */\n",
       "    progress {\n",
       "        /* gets rid of default border in Firefox and Opera. */\n",
       "        border: none;\n",
       "        /* Needs to be in here for Safari polyfill so background images work as expected. */\n",
       "        background-size: auto;\n",
       "    }\n",
       "    progress:not([value]), progress:not([value])::-webkit-progress-bar {\n",
       "        background: repeating-linear-gradient(45deg, #7e7e7e, #7e7e7e 10px, #5c5c5c 10px, #5c5c5c 20px);\n",
       "    }\n",
       "    .progress-bar-interrupted, .progress-bar-interrupted::-webkit-progress-bar {\n",
       "        background: #F44336;\n",
       "    }\n",
       "</style>\n"
      ],
      "text/plain": [
       "<IPython.core.display.HTML object>"
      ]
     },
     "metadata": {},
     "output_type": "display_data"
    },
    {
     "data": {
      "text/html": [
       "[Epoch: 00] Loss (3.903 / 3.908) - Accuracy (4.5% / 5.1%)<p>[Epoch: 01] Loss (3.546 / 3.669) - Accuracy (9.3% / 7.6%)<p>[Epoch: 02] Loss (3.308 / 3.476) - Accuracy (15.0% / 11.6%)<p>[Epoch: 03] Loss (3.122 / 3.324) - Accuracy (20.4% / 15.3%)<p>[Epoch: 04] Loss (2.964 / 3.186) - Accuracy (25.6% / 18.4%)"
      ],
      "text/plain": [
       "<IPython.core.display.HTML object>"
      ]
     },
     "metadata": {},
     "output_type": "display_data"
    },
    {
     "name": "stdout",
     "output_type": "stream",
     "text": [
      "[==================================================]\n",
      "SGD - 128: (0, 0.01, 0.3)\n"
     ]
    },
    {
     "data": {
      "text/html": [
       "\n",
       "<style>\n",
       "    /* Turns off some styling */\n",
       "    progress {\n",
       "        /* gets rid of default border in Firefox and Opera. */\n",
       "        border: none;\n",
       "        /* Needs to be in here for Safari polyfill so background images work as expected. */\n",
       "        background-size: auto;\n",
       "    }\n",
       "    progress:not([value]), progress:not([value])::-webkit-progress-bar {\n",
       "        background: repeating-linear-gradient(45deg, #7e7e7e, #7e7e7e 10px, #5c5c5c 10px, #5c5c5c 20px);\n",
       "    }\n",
       "    .progress-bar-interrupted, .progress-bar-interrupted::-webkit-progress-bar {\n",
       "        background: #F44336;\n",
       "    }\n",
       "</style>\n"
      ],
      "text/plain": [
       "<IPython.core.display.HTML object>"
      ]
     },
     "metadata": {},
     "output_type": "display_data"
    },
    {
     "data": {
      "text/html": [
       "[Epoch: 00] Loss (4.098 / 3.944) - Accuracy (3.0% / 2.7%)<p>[Epoch: 01] Loss (3.819 / 3.742) - Accuracy (5.6% / 6.3%)<p>[Epoch: 02] Loss (3.615 / 3.598) - Accuracy (9.1% / 8.2%)<p>[Epoch: 03] Loss (3.452 / 3.460) - Accuracy (12.2% / 11.2%)<p>[Epoch: 04] Loss (3.303 / 3.341) - Accuracy (16.1% / 14.1%)"
      ],
      "text/plain": [
       "<IPython.core.display.HTML object>"
      ]
     },
     "metadata": {},
     "output_type": "display_data"
    },
    {
     "name": "stdout",
     "output_type": "stream",
     "text": [
      "[==================================================]\n",
      "SGD - 128: (0.001, 0, 0.0)\n"
     ]
    },
    {
     "data": {
      "text/html": [
       "\n",
       "<style>\n",
       "    /* Turns off some styling */\n",
       "    progress {\n",
       "        /* gets rid of default border in Firefox and Opera. */\n",
       "        border: none;\n",
       "        /* Needs to be in here for Safari polyfill so background images work as expected. */\n",
       "        background-size: auto;\n",
       "    }\n",
       "    progress:not([value]), progress:not([value])::-webkit-progress-bar {\n",
       "        background: repeating-linear-gradient(45deg, #7e7e7e, #7e7e7e 10px, #5c5c5c 10px, #5c5c5c 20px);\n",
       "    }\n",
       "    .progress-bar-interrupted, .progress-bar-interrupted::-webkit-progress-bar {\n",
       "        background: #F44336;\n",
       "    }\n",
       "</style>\n"
      ],
      "text/plain": [
       "<IPython.core.display.HTML object>"
      ]
     },
     "metadata": {},
     "output_type": "display_data"
    },
    {
     "data": {
      "text/html": [
       "[Epoch: 00] Loss (3.973 / 3.844) - Accuracy (3.3% / 5.1%)<p>[Epoch: 01] Loss (3.591 / 3.551) - Accuracy (8.9% / 9.5%)<p>[Epoch: 02] Loss (3.335 / 3.361) - Accuracy (15.7% / 13.1%)<p>[Epoch: 03] Loss (3.146 / 3.211) - Accuracy (21.8% / 16.3%)<p>[Epoch: 04] Loss (2.992 / 3.116) - Accuracy (26.5% / 20.3%)"
      ],
      "text/plain": [
       "<IPython.core.display.HTML object>"
      ]
     },
     "metadata": {},
     "output_type": "display_data"
    },
    {
     "name": "stdout",
     "output_type": "stream",
     "text": [
      "[==================================================]\n",
      "SGD - 128: (0.001, 0, 0.3)\n"
     ]
    },
    {
     "data": {
      "text/html": [
       "\n",
       "<style>\n",
       "    /* Turns off some styling */\n",
       "    progress {\n",
       "        /* gets rid of default border in Firefox and Opera. */\n",
       "        border: none;\n",
       "        /* Needs to be in here for Safari polyfill so background images work as expected. */\n",
       "        background-size: auto;\n",
       "    }\n",
       "    progress:not([value]), progress:not([value])::-webkit-progress-bar {\n",
       "        background: repeating-linear-gradient(45deg, #7e7e7e, #7e7e7e 10px, #5c5c5c 10px, #5c5c5c 20px);\n",
       "    }\n",
       "    .progress-bar-interrupted, .progress-bar-interrupted::-webkit-progress-bar {\n",
       "        background: #F44336;\n",
       "    }\n",
       "</style>\n"
      ],
      "text/plain": [
       "<IPython.core.display.HTML object>"
      ]
     },
     "metadata": {},
     "output_type": "display_data"
    },
    {
     "data": {
      "text/html": [
       "[Epoch: 00] Loss (4.111 / 3.942) - Accuracy (3.2% / 4.9%)<p>[Epoch: 01] Loss (3.854 / 3.717) - Accuracy (5.5% / 8.5%)<p>[Epoch: 02] Loss (3.668 / 3.532) - Accuracy (8.2% / 12.8%)<p>[Epoch: 03] Loss (3.510 / 3.409) - Accuracy (11.1% / 15.8%)<p>[Epoch: 04] Loss (3.379 / 3.301) - Accuracy (14.7% / 18.0%)"
      ],
      "text/plain": [
       "<IPython.core.display.HTML object>"
      ]
     },
     "metadata": {},
     "output_type": "display_data"
    },
    {
     "name": "stdout",
     "output_type": "stream",
     "text": [
      "[==================================================]\n",
      "SGD - 128: (0.001, 0.001, 0.0)\n"
     ]
    },
    {
     "data": {
      "text/html": [
       "\n",
       "<style>\n",
       "    /* Turns off some styling */\n",
       "    progress {\n",
       "        /* gets rid of default border in Firefox and Opera. */\n",
       "        border: none;\n",
       "        /* Needs to be in here for Safari polyfill so background images work as expected. */\n",
       "        background-size: auto;\n",
       "    }\n",
       "    progress:not([value]), progress:not([value])::-webkit-progress-bar {\n",
       "        background: repeating-linear-gradient(45deg, #7e7e7e, #7e7e7e 10px, #5c5c5c 10px, #5c5c5c 20px);\n",
       "    }\n",
       "    .progress-bar-interrupted, .progress-bar-interrupted::-webkit-progress-bar {\n",
       "        background: #F44336;\n",
       "    }\n",
       "</style>\n"
      ],
      "text/plain": [
       "<IPython.core.display.HTML object>"
      ]
     },
     "metadata": {},
     "output_type": "display_data"
    },
    {
     "data": {
      "text/html": [
       "[Epoch: 00] Loss (3.894 / 3.936) - Accuracy (4.9% / 3.5%)<p>[Epoch: 01] Loss (3.509 / 3.648) - Accuracy (11.4% / 7.6%)<p>[Epoch: 02] Loss (3.257 / 3.450) - Accuracy (17.0% / 12.8%)<p>[Epoch: 03] Loss (3.071 / 3.302) - Accuracy (23.0% / 16.6%)<p>[Epoch: 04] Loss (2.924 / 3.171) - Accuracy (27.6% / 19.0%)"
      ],
      "text/plain": [
       "<IPython.core.display.HTML object>"
      ]
     },
     "metadata": {},
     "output_type": "display_data"
    },
    {
     "name": "stdout",
     "output_type": "stream",
     "text": [
      "[==================================================]\n",
      "SGD - 128: (0.001, 0.001, 0.3)\n"
     ]
    },
    {
     "data": {
      "text/html": [
       "\n",
       "<style>\n",
       "    /* Turns off some styling */\n",
       "    progress {\n",
       "        /* gets rid of default border in Firefox and Opera. */\n",
       "        border: none;\n",
       "        /* Needs to be in here for Safari polyfill so background images work as expected. */\n",
       "        background-size: auto;\n",
       "    }\n",
       "    progress:not([value]), progress:not([value])::-webkit-progress-bar {\n",
       "        background: repeating-linear-gradient(45deg, #7e7e7e, #7e7e7e 10px, #5c5c5c 10px, #5c5c5c 20px);\n",
       "    }\n",
       "    .progress-bar-interrupted, .progress-bar-interrupted::-webkit-progress-bar {\n",
       "        background: #F44336;\n",
       "    }\n",
       "</style>\n"
      ],
      "text/plain": [
       "<IPython.core.display.HTML object>"
      ]
     },
     "metadata": {},
     "output_type": "display_data"
    },
    {
     "data": {
      "text/html": [
       "[Epoch: 00] Loss (4.116 / 3.886) - Accuracy (2.9% / 4.6%)<p>[Epoch: 01] Loss (3.854 / 3.709) - Accuracy (4.5% / 6.5%)<p>[Epoch: 02] Loss (3.658 / 3.568) - Accuracy (6.8% / 10.6%)<p>[Epoch: 03] Loss (3.494 / 3.440) - Accuracy (10.1% / 14.1%)<p>[Epoch: 04] Loss (3.361 / 3.334) - Accuracy (13.7% / 16.5%)"
      ],
      "text/plain": [
       "<IPython.core.display.HTML object>"
      ]
     },
     "metadata": {},
     "output_type": "display_data"
    },
    {
     "name": "stdout",
     "output_type": "stream",
     "text": [
      "[==================================================]\n",
      "SGD - 128: (0.001, 0.01, 0.0)\n"
     ]
    },
    {
     "data": {
      "text/html": [
       "\n",
       "<style>\n",
       "    /* Turns off some styling */\n",
       "    progress {\n",
       "        /* gets rid of default border in Firefox and Opera. */\n",
       "        border: none;\n",
       "        /* Needs to be in here for Safari polyfill so background images work as expected. */\n",
       "        background-size: auto;\n",
       "    }\n",
       "    progress:not([value]), progress:not([value])::-webkit-progress-bar {\n",
       "        background: repeating-linear-gradient(45deg, #7e7e7e, #7e7e7e 10px, #5c5c5c 10px, #5c5c5c 20px);\n",
       "    }\n",
       "    .progress-bar-interrupted, .progress-bar-interrupted::-webkit-progress-bar {\n",
       "        background: #F44336;\n",
       "    }\n",
       "</style>\n"
      ],
      "text/plain": [
       "<IPython.core.display.HTML object>"
      ]
     },
     "metadata": {},
     "output_type": "display_data"
    },
    {
     "data": {
      "text/html": [
       "[Epoch: 00] Loss (3.945 / 4.019) - Accuracy (3.6% / 4.9%)<p>[Epoch: 01] Loss (3.547 / 3.742) - Accuracy (9.1% / 7.9%)<p>[Epoch: 02] Loss (3.301 / 3.532) - Accuracy (16.1% / 12.5%)<p>[Epoch: 03] Loss (3.112 / 3.356) - Accuracy (22.2% / 16.6%)<p>[Epoch: 04] Loss (2.957 / 3.208) - Accuracy (27.8% / 19.9%)"
      ],
      "text/plain": [
       "<IPython.core.display.HTML object>"
      ]
     },
     "metadata": {},
     "output_type": "display_data"
    },
    {
     "name": "stdout",
     "output_type": "stream",
     "text": [
      "[==================================================]\n",
      "SGD - 128: (0.001, 0.01, 0.3)\n"
     ]
    },
    {
     "data": {
      "text/html": [
       "\n",
       "<style>\n",
       "    /* Turns off some styling */\n",
       "    progress {\n",
       "        /* gets rid of default border in Firefox and Opera. */\n",
       "        border: none;\n",
       "        /* Needs to be in here for Safari polyfill so background images work as expected. */\n",
       "        background-size: auto;\n",
       "    }\n",
       "    progress:not([value]), progress:not([value])::-webkit-progress-bar {\n",
       "        background: repeating-linear-gradient(45deg, #7e7e7e, #7e7e7e 10px, #5c5c5c 10px, #5c5c5c 20px);\n",
       "    }\n",
       "    .progress-bar-interrupted, .progress-bar-interrupted::-webkit-progress-bar {\n",
       "        background: #F44336;\n",
       "    }\n",
       "</style>\n"
      ],
      "text/plain": [
       "<IPython.core.display.HTML object>"
      ]
     },
     "metadata": {},
     "output_type": "display_data"
    },
    {
     "data": {
      "text/html": [
       "[Epoch: 00] Loss (4.013 / 3.756) - Accuracy (3.4% / 4.1%)<p>[Epoch: 01] Loss (3.749 / 3.556) - Accuracy (5.8% / 7.6%)<p>[Epoch: 02] Loss (3.568 / 3.426) - Accuracy (9.0% / 10.9%)<p>[Epoch: 03] Loss (3.425 / 3.305) - Accuracy (12.0% / 16.9%)<p>[Epoch: 04] Loss (3.297 / 3.200) - Accuracy (14.8% / 20.9%)"
      ],
      "text/plain": [
       "<IPython.core.display.HTML object>"
      ]
     },
     "metadata": {},
     "output_type": "display_data"
    },
    {
     "name": "stdout",
     "output_type": "stream",
     "text": [
      "[==================================================]\n",
      "SGD - 128: (0.01, 0, 0.0)\n"
     ]
    },
    {
     "data": {
      "text/html": [
       "\n",
       "<style>\n",
       "    /* Turns off some styling */\n",
       "    progress {\n",
       "        /* gets rid of default border in Firefox and Opera. */\n",
       "        border: none;\n",
       "        /* Needs to be in here for Safari polyfill so background images work as expected. */\n",
       "        background-size: auto;\n",
       "    }\n",
       "    progress:not([value]), progress:not([value])::-webkit-progress-bar {\n",
       "        background: repeating-linear-gradient(45deg, #7e7e7e, #7e7e7e 10px, #5c5c5c 10px, #5c5c5c 20px);\n",
       "    }\n",
       "    .progress-bar-interrupted, .progress-bar-interrupted::-webkit-progress-bar {\n",
       "        background: #F44336;\n",
       "    }\n",
       "</style>\n"
      ],
      "text/plain": [
       "<IPython.core.display.HTML object>"
      ]
     },
     "metadata": {},
     "output_type": "display_data"
    },
    {
     "data": {
      "text/html": [
       "[Epoch: 00] Loss (3.896 / 3.718) - Accuracy (4.7% / 6.2%)<p>[Epoch: 01] Loss (3.481 / 3.425) - Accuracy (10.5% / 10.6%)<p>[Epoch: 02] Loss (3.237 / 3.242) - Accuracy (16.0% / 14.9%)<p>[Epoch: 03] Loss (3.054 / 3.115) - Accuracy (21.6% / 19.3%)<p>[Epoch: 04] Loss (2.913 / 3.000) - Accuracy (26.7% / 23.3%)"
      ],
      "text/plain": [
       "<IPython.core.display.HTML object>"
      ]
     },
     "metadata": {},
     "output_type": "display_data"
    },
    {
     "name": "stdout",
     "output_type": "stream",
     "text": [
      "[==================================================]\n",
      "SGD - 128: (0.01, 0, 0.3)\n"
     ]
    },
    {
     "data": {
      "text/html": [
       "\n",
       "<style>\n",
       "    /* Turns off some styling */\n",
       "    progress {\n",
       "        /* gets rid of default border in Firefox and Opera. */\n",
       "        border: none;\n",
       "        /* Needs to be in here for Safari polyfill so background images work as expected. */\n",
       "        background-size: auto;\n",
       "    }\n",
       "    progress:not([value]), progress:not([value])::-webkit-progress-bar {\n",
       "        background: repeating-linear-gradient(45deg, #7e7e7e, #7e7e7e 10px, #5c5c5c 10px, #5c5c5c 20px);\n",
       "    }\n",
       "    .progress-bar-interrupted, .progress-bar-interrupted::-webkit-progress-bar {\n",
       "        background: #F44336;\n",
       "    }\n",
       "</style>\n"
      ],
      "text/plain": [
       "<IPython.core.display.HTML object>"
      ]
     },
     "metadata": {},
     "output_type": "display_data"
    },
    {
     "data": {
      "text/html": [
       "[Epoch: 00] Loss (4.087 / 3.964) - Accuracy (3.4% / 3.5%)<p>[Epoch: 01] Loss (3.838 / 3.758) - Accuracy (5.1% / 6.5%)<p>[Epoch: 02] Loss (3.648 / 3.591) - Accuracy (7.4% / 9.8%)<p>[Epoch: 03] Loss (3.478 / 3.444) - Accuracy (10.4% / 13.0%)<p>[Epoch: 04] Loss (3.357 / 3.337) - Accuracy (13.0% / 18.2%)"
      ],
      "text/plain": [
       "<IPython.core.display.HTML object>"
      ]
     },
     "metadata": {},
     "output_type": "display_data"
    },
    {
     "name": "stdout",
     "output_type": "stream",
     "text": [
      "[==================================================]\n",
      "SGD - 128: (0.01, 0.001, 0.0)\n"
     ]
    },
    {
     "data": {
      "text/html": [
       "\n",
       "<style>\n",
       "    /* Turns off some styling */\n",
       "    progress {\n",
       "        /* gets rid of default border in Firefox and Opera. */\n",
       "        border: none;\n",
       "        /* Needs to be in here for Safari polyfill so background images work as expected. */\n",
       "        background-size: auto;\n",
       "    }\n",
       "    progress:not([value]), progress:not([value])::-webkit-progress-bar {\n",
       "        background: repeating-linear-gradient(45deg, #7e7e7e, #7e7e7e 10px, #5c5c5c 10px, #5c5c5c 20px);\n",
       "    }\n",
       "    .progress-bar-interrupted, .progress-bar-interrupted::-webkit-progress-bar {\n",
       "        background: #F44336;\n",
       "    }\n",
       "</style>\n"
      ],
      "text/plain": [
       "<IPython.core.display.HTML object>"
      ]
     },
     "metadata": {},
     "output_type": "display_data"
    },
    {
     "data": {
      "text/html": [
       "[Epoch: 00] Loss (3.942 / 3.922) - Accuracy (4.5% / 4.3%)<p>[Epoch: 01] Loss (3.563 / 3.637) - Accuracy (9.6% / 9.0%)<p>[Epoch: 02] Loss (3.315 / 3.440) - Accuracy (15.6% / 12.3%)<p>[Epoch: 03] Loss (3.128 / 3.271) - Accuracy (21.3% / 16.5%)<p>[Epoch: 04] Loss (2.971 / 3.138) - Accuracy (26.4% / 20.4%)"
      ],
      "text/plain": [
       "<IPython.core.display.HTML object>"
      ]
     },
     "metadata": {},
     "output_type": "display_data"
    },
    {
     "name": "stdout",
     "output_type": "stream",
     "text": [
      "[==================================================]\n",
      "SGD - 128: (0.01, 0.001, 0.3)\n"
     ]
    },
    {
     "data": {
      "text/html": [
       "\n",
       "<style>\n",
       "    /* Turns off some styling */\n",
       "    progress {\n",
       "        /* gets rid of default border in Firefox and Opera. */\n",
       "        border: none;\n",
       "        /* Needs to be in here for Safari polyfill so background images work as expected. */\n",
       "        background-size: auto;\n",
       "    }\n",
       "    progress:not([value]), progress:not([value])::-webkit-progress-bar {\n",
       "        background: repeating-linear-gradient(45deg, #7e7e7e, #7e7e7e 10px, #5c5c5c 10px, #5c5c5c 20px);\n",
       "    }\n",
       "    .progress-bar-interrupted, .progress-bar-interrupted::-webkit-progress-bar {\n",
       "        background: #F44336;\n",
       "    }\n",
       "</style>\n"
      ],
      "text/plain": [
       "<IPython.core.display.HTML object>"
      ]
     },
     "metadata": {},
     "output_type": "display_data"
    },
    {
     "data": {
      "text/html": [
       "[Epoch: 00] Loss (4.008 / 3.815) - Accuracy (3.7% / 4.6%)<p>[Epoch: 01] Loss (3.766 / 3.631) - Accuracy (6.3% / 7.3%)<p>[Epoch: 02] Loss (3.582 / 3.490) - Accuracy (9.1% / 10.0%)<p>[Epoch: 03] Loss (3.444 / 3.380) - Accuracy (11.7% / 12.0%)<p>[Epoch: 04] Loss (3.332 / 3.283) - Accuracy (14.5% / 16.5%)"
      ],
      "text/plain": [
       "<IPython.core.display.HTML object>"
      ]
     },
     "metadata": {},
     "output_type": "display_data"
    },
    {
     "name": "stdout",
     "output_type": "stream",
     "text": [
      "[==================================================]\n",
      "SGD - 128: (0.01, 0.01, 0.0)\n"
     ]
    },
    {
     "data": {
      "text/html": [
       "\n",
       "<style>\n",
       "    /* Turns off some styling */\n",
       "    progress {\n",
       "        /* gets rid of default border in Firefox and Opera. */\n",
       "        border: none;\n",
       "        /* Needs to be in here for Safari polyfill so background images work as expected. */\n",
       "        background-size: auto;\n",
       "    }\n",
       "    progress:not([value]), progress:not([value])::-webkit-progress-bar {\n",
       "        background: repeating-linear-gradient(45deg, #7e7e7e, #7e7e7e 10px, #5c5c5c 10px, #5c5c5c 20px);\n",
       "    }\n",
       "    .progress-bar-interrupted, .progress-bar-interrupted::-webkit-progress-bar {\n",
       "        background: #F44336;\n",
       "    }\n",
       "</style>\n"
      ],
      "text/plain": [
       "<IPython.core.display.HTML object>"
      ]
     },
     "metadata": {},
     "output_type": "display_data"
    },
    {
     "data": {
      "text/html": [
       "[Epoch: 00] Loss (3.970 / 3.877) - Accuracy (3.9% / 5.9%)<p>[Epoch: 01] Loss (3.574 / 3.619) - Accuracy (9.5% / 10.0%)<p>[Epoch: 02] Loss (3.336 / 3.432) - Accuracy (15.7% / 14.1%)<p>[Epoch: 03] Loss (3.152 / 3.302) - Accuracy (21.8% / 17.9%)<p>[Epoch: 04] Loss (2.994 / 3.174) - Accuracy (27.5% / 21.4%)"
      ],
      "text/plain": [
       "<IPython.core.display.HTML object>"
      ]
     },
     "metadata": {},
     "output_type": "display_data"
    },
    {
     "name": "stdout",
     "output_type": "stream",
     "text": [
      "[==================================================]\n",
      "SGD - 128: (0.01, 0.01, 0.3)\n"
     ]
    },
    {
     "data": {
      "text/html": [
       "\n",
       "<style>\n",
       "    /* Turns off some styling */\n",
       "    progress {\n",
       "        /* gets rid of default border in Firefox and Opera. */\n",
       "        border: none;\n",
       "        /* Needs to be in here for Safari polyfill so background images work as expected. */\n",
       "        background-size: auto;\n",
       "    }\n",
       "    progress:not([value]), progress:not([value])::-webkit-progress-bar {\n",
       "        background: repeating-linear-gradient(45deg, #7e7e7e, #7e7e7e 10px, #5c5c5c 10px, #5c5c5c 20px);\n",
       "    }\n",
       "    .progress-bar-interrupted, .progress-bar-interrupted::-webkit-progress-bar {\n",
       "        background: #F44336;\n",
       "    }\n",
       "</style>\n"
      ],
      "text/plain": [
       "<IPython.core.display.HTML object>"
      ]
     },
     "metadata": {},
     "output_type": "display_data"
    },
    {
     "data": {
      "text/html": [
       "[Epoch: 00] Loss (4.115 / 3.816) - Accuracy (2.9% / 3.8%)<p>[Epoch: 01] Loss (3.816 / 3.628) - Accuracy (5.4% / 8.2%)<p>[Epoch: 02] Loss (3.607 / 3.493) - Accuracy (7.9% / 10.1%)<p>[Epoch: 03] Loss (3.455 / 3.372) - Accuracy (10.7% / 12.2%)<p>[Epoch: 04] Loss (3.315 / 3.266) - Accuracy (13.7% / 15.5%)"
      ],
      "text/plain": [
       "<IPython.core.display.HTML object>"
      ]
     },
     "metadata": {},
     "output_type": "display_data"
    },
    {
     "name": "stdout",
     "output_type": "stream",
     "text": [
      "[==================================================]\n",
      "SGD - 256: (0, 0, 0.0)\n"
     ]
    },
    {
     "data": {
      "text/html": [
       "\n",
       "<style>\n",
       "    /* Turns off some styling */\n",
       "    progress {\n",
       "        /* gets rid of default border in Firefox and Opera. */\n",
       "        border: none;\n",
       "        /* Needs to be in here for Safari polyfill so background images work as expected. */\n",
       "        background-size: auto;\n",
       "    }\n",
       "    progress:not([value]), progress:not([value])::-webkit-progress-bar {\n",
       "        background: repeating-linear-gradient(45deg, #7e7e7e, #7e7e7e 10px, #5c5c5c 10px, #5c5c5c 20px);\n",
       "    }\n",
       "    .progress-bar-interrupted, .progress-bar-interrupted::-webkit-progress-bar {\n",
       "        background: #F44336;\n",
       "    }\n",
       "</style>\n"
      ],
      "text/plain": [
       "<IPython.core.display.HTML object>"
      ]
     },
     "metadata": {},
     "output_type": "display_data"
    },
    {
     "data": {
      "text/html": [
       "[Epoch: 00] Loss (4.092 / 4.073) - Accuracy (2.9% / 1.9%)<p>[Epoch: 01] Loss (3.844 / 3.892) - Accuracy (4.6% / 3.3%)<p>[Epoch: 02] Loss (3.659 / 3.750) - Accuracy (7.2% / 5.1%)<p>[Epoch: 03] Loss (3.500 / 3.611) - Accuracy (10.4% / 7.8%)<p>[Epoch: 04] Loss (3.370 / 3.503) - Accuracy (13.4% / 10.0%)"
      ],
      "text/plain": [
       "<IPython.core.display.HTML object>"
      ]
     },
     "metadata": {},
     "output_type": "display_data"
    },
    {
     "name": "stdout",
     "output_type": "stream",
     "text": [
      "[==================================================]\n",
      "SGD - 256: (0, 0, 0.3)\n"
     ]
    },
    {
     "data": {
      "text/html": [
       "\n",
       "<style>\n",
       "    /* Turns off some styling */\n",
       "    progress {\n",
       "        /* gets rid of default border in Firefox and Opera. */\n",
       "        border: none;\n",
       "        /* Needs to be in here for Safari polyfill so background images work as expected. */\n",
       "        background-size: auto;\n",
       "    }\n",
       "    progress:not([value]), progress:not([value])::-webkit-progress-bar {\n",
       "        background: repeating-linear-gradient(45deg, #7e7e7e, #7e7e7e 10px, #5c5c5c 10px, #5c5c5c 20px);\n",
       "    }\n",
       "    .progress-bar-interrupted, .progress-bar-interrupted::-webkit-progress-bar {\n",
       "        background: #F44336;\n",
       "    }\n",
       "</style>\n"
      ],
      "text/plain": [
       "<IPython.core.display.HTML object>"
      ]
     },
     "metadata": {},
     "output_type": "display_data"
    },
    {
     "data": {
      "text/html": [
       "[Epoch: 00] Loss (4.061 / 3.878) - Accuracy (3.3% / 5.1%)<p>[Epoch: 01] Loss (3.904 / 3.752) - Accuracy (4.4% / 6.5%)<p>[Epoch: 02] Loss (3.773 / 3.655) - Accuracy (5.8% / 7.4%)<p>[Epoch: 03] Loss (3.673 / 3.568) - Accuracy (7.2% / 9.3%)<p>[Epoch: 04] Loss (3.580 / 3.502) - Accuracy (9.0% / 11.4%)"
      ],
      "text/plain": [
       "<IPython.core.display.HTML object>"
      ]
     },
     "metadata": {},
     "output_type": "display_data"
    },
    {
     "name": "stdout",
     "output_type": "stream",
     "text": [
      "[==================================================]\n",
      "SGD - 256: (0, 0.001, 0.0)\n"
     ]
    },
    {
     "data": {
      "text/html": [
       "\n",
       "<style>\n",
       "    /* Turns off some styling */\n",
       "    progress {\n",
       "        /* gets rid of default border in Firefox and Opera. */\n",
       "        border: none;\n",
       "        /* Needs to be in here for Safari polyfill so background images work as expected. */\n",
       "        background-size: auto;\n",
       "    }\n",
       "    progress:not([value]), progress:not([value])::-webkit-progress-bar {\n",
       "        background: repeating-linear-gradient(45deg, #7e7e7e, #7e7e7e 10px, #5c5c5c 10px, #5c5c5c 20px);\n",
       "    }\n",
       "    .progress-bar-interrupted, .progress-bar-interrupted::-webkit-progress-bar {\n",
       "        background: #F44336;\n",
       "    }\n",
       "</style>\n"
      ],
      "text/plain": [
       "<IPython.core.display.HTML object>"
      ]
     },
     "metadata": {},
     "output_type": "display_data"
    },
    {
     "data": {
      "text/html": [
       "[Epoch: 00] Loss (3.952 / 4.010) - Accuracy (3.6% / 3.8%)<p>[Epoch: 01] Loss (3.714 / 3.821) - Accuracy (6.4% / 5.5%)<p>[Epoch: 02] Loss (3.540 / 3.670) - Accuracy (9.0% / 8.1%)<p>[Epoch: 03] Loss (3.396 / 3.552) - Accuracy (12.0% / 10.8%)<p>[Epoch: 04] Loss (3.277 / 3.452) - Accuracy (14.9% / 13.0%)"
      ],
      "text/plain": [
       "<IPython.core.display.HTML object>"
      ]
     },
     "metadata": {},
     "output_type": "display_data"
    },
    {
     "name": "stdout",
     "output_type": "stream",
     "text": [
      "[==================================================]\n",
      "SGD - 256: (0, 0.001, 0.3)\n"
     ]
    },
    {
     "data": {
      "text/html": [
       "\n",
       "<style>\n",
       "    /* Turns off some styling */\n",
       "    progress {\n",
       "        /* gets rid of default border in Firefox and Opera. */\n",
       "        border: none;\n",
       "        /* Needs to be in here for Safari polyfill so background images work as expected. */\n",
       "        background-size: auto;\n",
       "    }\n",
       "    progress:not([value]), progress:not([value])::-webkit-progress-bar {\n",
       "        background: repeating-linear-gradient(45deg, #7e7e7e, #7e7e7e 10px, #5c5c5c 10px, #5c5c5c 20px);\n",
       "    }\n",
       "    .progress-bar-interrupted, .progress-bar-interrupted::-webkit-progress-bar {\n",
       "        background: #F44336;\n",
       "    }\n",
       "</style>\n"
      ],
      "text/plain": [
       "<IPython.core.display.HTML object>"
      ]
     },
     "metadata": {},
     "output_type": "display_data"
    },
    {
     "data": {
      "text/html": [
       "[Epoch: 00] Loss (4.194 / 4.080) - Accuracy (2.9% / 3.0%)<p>[Epoch: 01] Loss (4.002 / 3.921) - Accuracy (4.0% / 3.0%)<p>[Epoch: 02] Loss (3.859 / 3.812) - Accuracy (5.3% / 5.1%)<p>[Epoch: 03] Loss (3.729 / 3.698) - Accuracy (6.9% / 6.2%)<p>[Epoch: 04] Loss (3.628 / 3.604) - Accuracy (8.4% / 7.6%)"
      ],
      "text/plain": [
       "<IPython.core.display.HTML object>"
      ]
     },
     "metadata": {},
     "output_type": "display_data"
    },
    {
     "name": "stdout",
     "output_type": "stream",
     "text": [
      "[==================================================]\n",
      "SGD - 256: (0, 0.01, 0.0)\n"
     ]
    },
    {
     "data": {
      "text/html": [
       "\n",
       "<style>\n",
       "    /* Turns off some styling */\n",
       "    progress {\n",
       "        /* gets rid of default border in Firefox and Opera. */\n",
       "        border: none;\n",
       "        /* Needs to be in here for Safari polyfill so background images work as expected. */\n",
       "        background-size: auto;\n",
       "    }\n",
       "    progress:not([value]), progress:not([value])::-webkit-progress-bar {\n",
       "        background: repeating-linear-gradient(45deg, #7e7e7e, #7e7e7e 10px, #5c5c5c 10px, #5c5c5c 20px);\n",
       "    }\n",
       "    .progress-bar-interrupted, .progress-bar-interrupted::-webkit-progress-bar {\n",
       "        background: #F44336;\n",
       "    }\n",
       "</style>\n"
      ],
      "text/plain": [
       "<IPython.core.display.HTML object>"
      ]
     },
     "metadata": {},
     "output_type": "display_data"
    },
    {
     "data": {
      "text/html": [
       "[Epoch: 00] Loss (4.144 / 4.109) - Accuracy (3.2% / 6.8%)<p>[Epoch: 01] Loss (3.847 / 3.862) - Accuracy (5.4% / 7.8%)<p>[Epoch: 02] Loss (3.639 / 3.690) - Accuracy (8.1% / 11.1%)<p>[Epoch: 03] Loss (3.475 / 3.551) - Accuracy (11.5% / 13.3%)<p>[Epoch: 04] Loss (3.334 / 3.433) - Accuracy (14.9% / 15.3%)"
      ],
      "text/plain": [
       "<IPython.core.display.HTML object>"
      ]
     },
     "metadata": {},
     "output_type": "display_data"
    },
    {
     "name": "stdout",
     "output_type": "stream",
     "text": [
      "[==================================================]\n",
      "SGD - 256: (0, 0.01, 0.3)\n"
     ]
    },
    {
     "data": {
      "text/html": [
       "\n",
       "<style>\n",
       "    /* Turns off some styling */\n",
       "    progress {\n",
       "        /* gets rid of default border in Firefox and Opera. */\n",
       "        border: none;\n",
       "        /* Needs to be in here for Safari polyfill so background images work as expected. */\n",
       "        background-size: auto;\n",
       "    }\n",
       "    progress:not([value]), progress:not([value])::-webkit-progress-bar {\n",
       "        background: repeating-linear-gradient(45deg, #7e7e7e, #7e7e7e 10px, #5c5c5c 10px, #5c5c5c 20px);\n",
       "    }\n",
       "    .progress-bar-interrupted, .progress-bar-interrupted::-webkit-progress-bar {\n",
       "        background: #F44336;\n",
       "    }\n",
       "</style>\n"
      ],
      "text/plain": [
       "<IPython.core.display.HTML object>"
      ]
     },
     "metadata": {},
     "output_type": "display_data"
    },
    {
     "data": {
      "text/html": [
       "[Epoch: 00] Loss (4.239 / 3.952) - Accuracy (2.5% / 3.6%)<p>[Epoch: 01] Loss (4.067 / 3.843) - Accuracy (3.2% / 4.9%)<p>[Epoch: 02] Loss (3.933 / 3.758) - Accuracy (4.1% / 5.9%)<p>[Epoch: 03] Loss (3.801 / 3.682) - Accuracy (5.6% / 7.3%)<p>[Epoch: 04] Loss (3.703 / 3.611) - Accuracy (7.0% / 8.5%)"
      ],
      "text/plain": [
       "<IPython.core.display.HTML object>"
      ]
     },
     "metadata": {},
     "output_type": "display_data"
    },
    {
     "name": "stdout",
     "output_type": "stream",
     "text": [
      "[==================================================]\n",
      "SGD - 256: (0.001, 0, 0.0)\n"
     ]
    },
    {
     "data": {
      "text/html": [
       "\n",
       "<style>\n",
       "    /* Turns off some styling */\n",
       "    progress {\n",
       "        /* gets rid of default border in Firefox and Opera. */\n",
       "        border: none;\n",
       "        /* Needs to be in here for Safari polyfill so background images work as expected. */\n",
       "        background-size: auto;\n",
       "    }\n",
       "    progress:not([value]), progress:not([value])::-webkit-progress-bar {\n",
       "        background: repeating-linear-gradient(45deg, #7e7e7e, #7e7e7e 10px, #5c5c5c 10px, #5c5c5c 20px);\n",
       "    }\n",
       "    .progress-bar-interrupted, .progress-bar-interrupted::-webkit-progress-bar {\n",
       "        background: #F44336;\n",
       "    }\n",
       "</style>\n"
      ],
      "text/plain": [
       "<IPython.core.display.HTML object>"
      ]
     },
     "metadata": {},
     "output_type": "display_data"
    },
    {
     "data": {
      "text/html": [
       "[Epoch: 00] Loss (4.040 / 3.988) - Accuracy (2.6% / 3.6%)<p>[Epoch: 01] Loss (3.781 / 3.809) - Accuracy (5.3% / 5.2%)<p>[Epoch: 02] Loss (3.598 / 3.683) - Accuracy (8.3% / 6.3%)<p>[Epoch: 03] Loss (3.455 / 3.576) - Accuracy (11.6% / 9.0%)<p>[Epoch: 04] Loss (3.330 / 3.469) - Accuracy (14.7% / 11.4%)"
      ],
      "text/plain": [
       "<IPython.core.display.HTML object>"
      ]
     },
     "metadata": {},
     "output_type": "display_data"
    },
    {
     "name": "stdout",
     "output_type": "stream",
     "text": [
      "[==================================================]\n",
      "SGD - 256: (0.001, 0, 0.3)\n"
     ]
    },
    {
     "data": {
      "text/html": [
       "\n",
       "<style>\n",
       "    /* Turns off some styling */\n",
       "    progress {\n",
       "        /* gets rid of default border in Firefox and Opera. */\n",
       "        border: none;\n",
       "        /* Needs to be in here for Safari polyfill so background images work as expected. */\n",
       "        background-size: auto;\n",
       "    }\n",
       "    progress:not([value]), progress:not([value])::-webkit-progress-bar {\n",
       "        background: repeating-linear-gradient(45deg, #7e7e7e, #7e7e7e 10px, #5c5c5c 10px, #5c5c5c 20px);\n",
       "    }\n",
       "    .progress-bar-interrupted, .progress-bar-interrupted::-webkit-progress-bar {\n",
       "        background: #F44336;\n",
       "    }\n",
       "</style>\n"
      ],
      "text/plain": [
       "<IPython.core.display.HTML object>"
      ]
     },
     "metadata": {},
     "output_type": "display_data"
    },
    {
     "data": {
      "text/html": [
       "[Epoch: 00] Loss (4.144 / 4.062) - Accuracy (3.6% / 4.3%)<p>[Epoch: 01] Loss (3.995 / 3.944) - Accuracy (4.8% / 6.0%)<p>[Epoch: 02] Loss (3.871 / 3.835) - Accuracy (5.4% / 7.0%)<p>[Epoch: 03] Loss (3.766 / 3.744) - Accuracy (6.7% / 7.3%)<p>[Epoch: 04] Loss (3.681 / 3.665) - Accuracy (7.7% / 8.5%)"
      ],
      "text/plain": [
       "<IPython.core.display.HTML object>"
      ]
     },
     "metadata": {},
     "output_type": "display_data"
    },
    {
     "name": "stdout",
     "output_type": "stream",
     "text": [
      "[==================================================]\n",
      "SGD - 256: (0.001, 0.001, 0.0)\n"
     ]
    },
    {
     "data": {
      "text/html": [
       "\n",
       "<style>\n",
       "    /* Turns off some styling */\n",
       "    progress {\n",
       "        /* gets rid of default border in Firefox and Opera. */\n",
       "        border: none;\n",
       "        /* Needs to be in here for Safari polyfill so background images work as expected. */\n",
       "        background-size: auto;\n",
       "    }\n",
       "    progress:not([value]), progress:not([value])::-webkit-progress-bar {\n",
       "        background: repeating-linear-gradient(45deg, #7e7e7e, #7e7e7e 10px, #5c5c5c 10px, #5c5c5c 20px);\n",
       "    }\n",
       "    .progress-bar-interrupted, .progress-bar-interrupted::-webkit-progress-bar {\n",
       "        background: #F44336;\n",
       "    }\n",
       "</style>\n"
      ],
      "text/plain": [
       "<IPython.core.display.HTML object>"
      ]
     },
     "metadata": {},
     "output_type": "display_data"
    },
    {
     "data": {
      "text/html": [
       "[Epoch: 00] Loss (4.094 / 4.101) - Accuracy (3.1% / 4.4%)<p>[Epoch: 01] Loss (3.819 / 3.918) - Accuracy (5.8% / 6.3%)<p>[Epoch: 02] Loss (3.617 / 3.762) - Accuracy (9.4% / 7.9%)<p>[Epoch: 03] Loss (3.459 / 3.642) - Accuracy (12.7% / 10.0%)<p>[Epoch: 04] Loss (3.328 / 3.551) - Accuracy (16.2% / 12.5%)"
      ],
      "text/plain": [
       "<IPython.core.display.HTML object>"
      ]
     },
     "metadata": {},
     "output_type": "display_data"
    },
    {
     "name": "stdout",
     "output_type": "stream",
     "text": [
      "[==================================================]\n",
      "SGD - 256: (0.001, 0.001, 0.3)\n"
     ]
    },
    {
     "data": {
      "text/html": [
       "\n",
       "<style>\n",
       "    /* Turns off some styling */\n",
       "    progress {\n",
       "        /* gets rid of default border in Firefox and Opera. */\n",
       "        border: none;\n",
       "        /* Needs to be in here for Safari polyfill so background images work as expected. */\n",
       "        background-size: auto;\n",
       "    }\n",
       "    progress:not([value]), progress:not([value])::-webkit-progress-bar {\n",
       "        background: repeating-linear-gradient(45deg, #7e7e7e, #7e7e7e 10px, #5c5c5c 10px, #5c5c5c 20px);\n",
       "    }\n",
       "    .progress-bar-interrupted, .progress-bar-interrupted::-webkit-progress-bar {\n",
       "        background: #F44336;\n",
       "    }\n",
       "</style>\n"
      ],
      "text/plain": [
       "<IPython.core.display.HTML object>"
      ]
     },
     "metadata": {},
     "output_type": "display_data"
    },
    {
     "data": {
      "text/html": [
       "[Epoch: 00] Loss (4.112 / 3.881) - Accuracy (2.6% / 3.8%)<p>[Epoch: 01] Loss (3.967 / 3.752) - Accuracy (3.2% / 4.6%)<p>[Epoch: 02] Loss (3.847 / 3.660) - Accuracy (4.1% / 5.9%)<p>[Epoch: 03] Loss (3.742 / 3.573) - Accuracy (5.3% / 7.1%)<p>[Epoch: 04] Loss (3.648 / 3.499) - Accuracy (6.5% / 8.7%)"
      ],
      "text/plain": [
       "<IPython.core.display.HTML object>"
      ]
     },
     "metadata": {},
     "output_type": "display_data"
    },
    {
     "name": "stdout",
     "output_type": "stream",
     "text": [
      "[==================================================]\n",
      "SGD - 256: (0.001, 0.01, 0.0)\n"
     ]
    },
    {
     "data": {
      "text/html": [
       "\n",
       "<style>\n",
       "    /* Turns off some styling */\n",
       "    progress {\n",
       "        /* gets rid of default border in Firefox and Opera. */\n",
       "        border: none;\n",
       "        /* Needs to be in here for Safari polyfill so background images work as expected. */\n",
       "        background-size: auto;\n",
       "    }\n",
       "    progress:not([value]), progress:not([value])::-webkit-progress-bar {\n",
       "        background: repeating-linear-gradient(45deg, #7e7e7e, #7e7e7e 10px, #5c5c5c 10px, #5c5c5c 20px);\n",
       "    }\n",
       "    .progress-bar-interrupted, .progress-bar-interrupted::-webkit-progress-bar {\n",
       "        background: #F44336;\n",
       "    }\n",
       "</style>\n"
      ],
      "text/plain": [
       "<IPython.core.display.HTML object>"
      ]
     },
     "metadata": {},
     "output_type": "display_data"
    },
    {
     "data": {
      "text/html": [
       "[Epoch: 00] Loss (4.042 / 4.154) - Accuracy (4.3% / 3.6%)<p>[Epoch: 01] Loss (3.780 / 3.941) - Accuracy (6.9% / 5.7%)<p>[Epoch: 02] Loss (3.597 / 3.777) - Accuracy (10.0% / 7.1%)<p>[Epoch: 03] Loss (3.454 / 3.649) - Accuracy (12.8% / 9.5%)<p>[Epoch: 04] Loss (3.334 / 3.545) - Accuracy (15.5% / 11.7%)"
      ],
      "text/plain": [
       "<IPython.core.display.HTML object>"
      ]
     },
     "metadata": {},
     "output_type": "display_data"
    },
    {
     "name": "stdout",
     "output_type": "stream",
     "text": [
      "[==================================================]\n",
      "SGD - 256: (0.001, 0.01, 0.3)\n"
     ]
    },
    {
     "data": {
      "text/html": [
       "\n",
       "<style>\n",
       "    /* Turns off some styling */\n",
       "    progress {\n",
       "        /* gets rid of default border in Firefox and Opera. */\n",
       "        border: none;\n",
       "        /* Needs to be in here for Safari polyfill so background images work as expected. */\n",
       "        background-size: auto;\n",
       "    }\n",
       "    progress:not([value]), progress:not([value])::-webkit-progress-bar {\n",
       "        background: repeating-linear-gradient(45deg, #7e7e7e, #7e7e7e 10px, #5c5c5c 10px, #5c5c5c 20px);\n",
       "    }\n",
       "    .progress-bar-interrupted, .progress-bar-interrupted::-webkit-progress-bar {\n",
       "        background: #F44336;\n",
       "    }\n",
       "</style>\n"
      ],
      "text/plain": [
       "<IPython.core.display.HTML object>"
      ]
     },
     "metadata": {},
     "output_type": "display_data"
    },
    {
     "data": {
      "text/html": [
       "[Epoch: 00] Loss (4.072 / 3.872) - Accuracy (2.6% / 4.0%)<p>[Epoch: 01] Loss (3.897 / 3.729) - Accuracy (4.7% / 7.4%)<p>[Epoch: 02] Loss (3.767 / 3.639) - Accuracy (6.8% / 9.8%)<p>[Epoch: 03] Loss (3.672 / 3.558) - Accuracy (8.4% / 11.4%)<p>[Epoch: 04] Loss (3.572 / 3.498) - Accuracy (10.0% / 12.0%)"
      ],
      "text/plain": [
       "<IPython.core.display.HTML object>"
      ]
     },
     "metadata": {},
     "output_type": "display_data"
    },
    {
     "name": "stdout",
     "output_type": "stream",
     "text": [
      "[==================================================]\n",
      "SGD - 256: (0.01, 0, 0.0)\n"
     ]
    },
    {
     "data": {
      "text/html": [
       "\n",
       "<style>\n",
       "    /* Turns off some styling */\n",
       "    progress {\n",
       "        /* gets rid of default border in Firefox and Opera. */\n",
       "        border: none;\n",
       "        /* Needs to be in here for Safari polyfill so background images work as expected. */\n",
       "        background-size: auto;\n",
       "    }\n",
       "    progress:not([value]), progress:not([value])::-webkit-progress-bar {\n",
       "        background: repeating-linear-gradient(45deg, #7e7e7e, #7e7e7e 10px, #5c5c5c 10px, #5c5c5c 20px);\n",
       "    }\n",
       "    .progress-bar-interrupted, .progress-bar-interrupted::-webkit-progress-bar {\n",
       "        background: #F44336;\n",
       "    }\n",
       "</style>\n"
      ],
      "text/plain": [
       "<IPython.core.display.HTML object>"
      ]
     },
     "metadata": {},
     "output_type": "display_data"
    },
    {
     "data": {
      "text/html": [
       "[Epoch: 00] Loss (4.027 / 4.248) - Accuracy (3.1% / 3.5%)<p>[Epoch: 01] Loss (3.767 / 4.030) - Accuracy (6.1% / 4.1%)<p>[Epoch: 02] Loss (3.577 / 3.875) - Accuracy (9.6% / 6.0%)<p>[Epoch: 03] Loss (3.432 / 3.720) - Accuracy (13.3% / 7.9%)<p>[Epoch: 04] Loss (3.309 / 3.604) - Accuracy (16.5% / 9.8%)"
      ],
      "text/plain": [
       "<IPython.core.display.HTML object>"
      ]
     },
     "metadata": {},
     "output_type": "display_data"
    },
    {
     "name": "stdout",
     "output_type": "stream",
     "text": [
      "[==================================================]\n",
      "SGD - 256: (0.01, 0, 0.3)\n"
     ]
    },
    {
     "data": {
      "text/html": [
       "\n",
       "<style>\n",
       "    /* Turns off some styling */\n",
       "    progress {\n",
       "        /* gets rid of default border in Firefox and Opera. */\n",
       "        border: none;\n",
       "        /* Needs to be in here for Safari polyfill so background images work as expected. */\n",
       "        background-size: auto;\n",
       "    }\n",
       "    progress:not([value]), progress:not([value])::-webkit-progress-bar {\n",
       "        background: repeating-linear-gradient(45deg, #7e7e7e, #7e7e7e 10px, #5c5c5c 10px, #5c5c5c 20px);\n",
       "    }\n",
       "    .progress-bar-interrupted, .progress-bar-interrupted::-webkit-progress-bar {\n",
       "        background: #F44336;\n",
       "    }\n",
       "</style>\n"
      ],
      "text/plain": [
       "<IPython.core.display.HTML object>"
      ]
     },
     "metadata": {},
     "output_type": "display_data"
    },
    {
     "data": {
      "text/html": [
       "[Epoch: 00] Loss (4.117 / 3.926) - Accuracy (3.6% / 4.4%)<p>[Epoch: 01] Loss (3.941 / 3.808) - Accuracy (4.7% / 5.1%)<p>[Epoch: 02] Loss (3.803 / 3.699) - Accuracy (6.1% / 6.6%)<p>[Epoch: 03] Loss (3.685 / 3.617) - Accuracy (7.6% / 8.4%)<p>[Epoch: 04] Loss (3.583 / 3.546) - Accuracy (9.3% / 10.9%)"
      ],
      "text/plain": [
       "<IPython.core.display.HTML object>"
      ]
     },
     "metadata": {},
     "output_type": "display_data"
    },
    {
     "name": "stdout",
     "output_type": "stream",
     "text": [
      "[==================================================]\n",
      "SGD - 256: (0.01, 0.001, 0.0)\n"
     ]
    },
    {
     "data": {
      "text/html": [
       "\n",
       "<style>\n",
       "    /* Turns off some styling */\n",
       "    progress {\n",
       "        /* gets rid of default border in Firefox and Opera. */\n",
       "        border: none;\n",
       "        /* Needs to be in here for Safari polyfill so background images work as expected. */\n",
       "        background-size: auto;\n",
       "    }\n",
       "    progress:not([value]), progress:not([value])::-webkit-progress-bar {\n",
       "        background: repeating-linear-gradient(45deg, #7e7e7e, #7e7e7e 10px, #5c5c5c 10px, #5c5c5c 20px);\n",
       "    }\n",
       "    .progress-bar-interrupted, .progress-bar-interrupted::-webkit-progress-bar {\n",
       "        background: #F44336;\n",
       "    }\n",
       "</style>\n"
      ],
      "text/plain": [
       "<IPython.core.display.HTML object>"
      ]
     },
     "metadata": {},
     "output_type": "display_data"
    },
    {
     "data": {
      "text/html": [
       "[Epoch: 00] Loss (4.033 / 3.990) - Accuracy (3.7% / 3.8%)<p>[Epoch: 01] Loss (3.786 / 3.806) - Accuracy (6.5% / 6.3%)<p>[Epoch: 02] Loss (3.593 / 3.666) - Accuracy (10.0% / 7.9%)<p>[Epoch: 03] Loss (3.441 / 3.539) - Accuracy (13.2% / 9.3%)<p>[Epoch: 04] Loss (3.316 / 3.437) - Accuracy (16.3% / 13.4%)"
      ],
      "text/plain": [
       "<IPython.core.display.HTML object>"
      ]
     },
     "metadata": {},
     "output_type": "display_data"
    },
    {
     "name": "stdout",
     "output_type": "stream",
     "text": [
      "[==================================================]\n",
      "SGD - 256: (0.01, 0.001, 0.3)\n"
     ]
    },
    {
     "data": {
      "text/html": [
       "\n",
       "<style>\n",
       "    /* Turns off some styling */\n",
       "    progress {\n",
       "        /* gets rid of default border in Firefox and Opera. */\n",
       "        border: none;\n",
       "        /* Needs to be in here for Safari polyfill so background images work as expected. */\n",
       "        background-size: auto;\n",
       "    }\n",
       "    progress:not([value]), progress:not([value])::-webkit-progress-bar {\n",
       "        background: repeating-linear-gradient(45deg, #7e7e7e, #7e7e7e 10px, #5c5c5c 10px, #5c5c5c 20px);\n",
       "    }\n",
       "    .progress-bar-interrupted, .progress-bar-interrupted::-webkit-progress-bar {\n",
       "        background: #F44336;\n",
       "    }\n",
       "</style>\n"
      ],
      "text/plain": [
       "<IPython.core.display.HTML object>"
      ]
     },
     "metadata": {},
     "output_type": "display_data"
    },
    {
     "data": {
      "text/html": [
       "[Epoch: 00] Loss (4.135 / 4.084) - Accuracy (2.4% / 2.2%)<p>[Epoch: 01] Loss (3.983 / 3.944) - Accuracy (3.2% / 4.4%)<p>[Epoch: 02] Loss (3.861 / 3.843) - Accuracy (4.4% / 5.9%)<p>[Epoch: 03] Loss (3.757 / 3.750) - Accuracy (5.6% / 8.1%)<p>[Epoch: 04] Loss (3.651 / 3.659) - Accuracy (7.2% / 9.3%)"
      ],
      "text/plain": [
       "<IPython.core.display.HTML object>"
      ]
     },
     "metadata": {},
     "output_type": "display_data"
    },
    {
     "name": "stdout",
     "output_type": "stream",
     "text": [
      "[==================================================]\n",
      "SGD - 256: (0.01, 0.01, 0.0)\n"
     ]
    },
    {
     "data": {
      "text/html": [
       "\n",
       "<style>\n",
       "    /* Turns off some styling */\n",
       "    progress {\n",
       "        /* gets rid of default border in Firefox and Opera. */\n",
       "        border: none;\n",
       "        /* Needs to be in here for Safari polyfill so background images work as expected. */\n",
       "        background-size: auto;\n",
       "    }\n",
       "    progress:not([value]), progress:not([value])::-webkit-progress-bar {\n",
       "        background: repeating-linear-gradient(45deg, #7e7e7e, #7e7e7e 10px, #5c5c5c 10px, #5c5c5c 20px);\n",
       "    }\n",
       "    .progress-bar-interrupted, .progress-bar-interrupted::-webkit-progress-bar {\n",
       "        background: #F44336;\n",
       "    }\n",
       "</style>\n"
      ],
      "text/plain": [
       "<IPython.core.display.HTML object>"
      ]
     },
     "metadata": {},
     "output_type": "display_data"
    },
    {
     "data": {
      "text/html": [
       "[Epoch: 00] Loss (4.065 / 4.046) - Accuracy (3.3% / 4.3%)<p>[Epoch: 01] Loss (3.819 / 3.865) - Accuracy (5.6% / 7.0%)<p>[Epoch: 02] Loss (3.637 / 3.717) - Accuracy (8.5% / 8.9%)<p>[Epoch: 03] Loss (3.491 / 3.598) - Accuracy (11.2% / 10.9%)<p>[Epoch: 04] Loss (3.362 / 3.482) - Accuracy (14.6% / 13.3%)"
      ],
      "text/plain": [
       "<IPython.core.display.HTML object>"
      ]
     },
     "metadata": {},
     "output_type": "display_data"
    },
    {
     "name": "stdout",
     "output_type": "stream",
     "text": [
      "[==================================================]\n",
      "SGD - 256: (0.01, 0.01, 0.3)\n"
     ]
    },
    {
     "data": {
      "text/html": [
       "\n",
       "<style>\n",
       "    /* Turns off some styling */\n",
       "    progress {\n",
       "        /* gets rid of default border in Firefox and Opera. */\n",
       "        border: none;\n",
       "        /* Needs to be in here for Safari polyfill so background images work as expected. */\n",
       "        background-size: auto;\n",
       "    }\n",
       "    progress:not([value]), progress:not([value])::-webkit-progress-bar {\n",
       "        background: repeating-linear-gradient(45deg, #7e7e7e, #7e7e7e 10px, #5c5c5c 10px, #5c5c5c 20px);\n",
       "    }\n",
       "    .progress-bar-interrupted, .progress-bar-interrupted::-webkit-progress-bar {\n",
       "        background: #F44336;\n",
       "    }\n",
       "</style>\n"
      ],
      "text/plain": [
       "<IPython.core.display.HTML object>"
      ]
     },
     "metadata": {},
     "output_type": "display_data"
    },
    {
     "data": {
      "text/html": [
       "[Epoch: 00] Loss (4.087 / 4.028) - Accuracy (2.9% / 2.8%)<p>[Epoch: 01] Loss (3.928 / 3.901) - Accuracy (4.0% / 3.6%)<p>[Epoch: 02] Loss (3.789 / 3.784) - Accuracy (5.9% / 5.7%)<p>[Epoch: 03] Loss (3.691 / 3.711) - Accuracy (7.4% / 7.8%)<p>[Epoch: 04] Loss (3.596 / 3.648) - Accuracy (9.6% / 9.5%)"
      ],
      "text/plain": [
       "<IPython.core.display.HTML object>"
      ]
     },
     "metadata": {},
     "output_type": "display_data"
    }
   ],
   "source": [
    "df_scores = pd.DataFrame({\n",
    "    'optim': [],\n",
    "    'batchsize': [],\n",
    "    'lr': [],\n",
    "    'regularization': [],\n",
    "    'L2': [],\n",
    "    'L1': [],\n",
    "    'dropout': [],\n",
    "    'test_accuracy': [],\n",
    "    'test_loss': [],\n",
    "    'train_accuracy': [],\n",
    "    'train_loss': [],\n",
    "    'time': [],\n",
    "})\n",
    "\n",
    "\n",
    "mp = progress_bar( range(len(optims)*len(batchsizes)*len(L2)*len(L1)*len(dropout)) )\n",
    "for _, (optim, batchsize, l2_, l1_, p) in zip(mp, product(optims, batchsizes, L2, L1, dropout)):\n",
    "    \n",
    "    start_time = perf_counter()\n",
    "    \n",
    "    model_setup['dropout'] = p\n",
    "    model_config['batch_size'] = batchsize\n",
    "    model_config['L2'] = l2_\n",
    "    model_config['L1'] = l1_\n",
    "\n",
    "    trainloader = get_dataLoader(train_data, batchsize, True)\n",
    "    testloader = get_dataLoader(test_data, batchsize, False)\n",
    "\n",
    "    print('['+'='*50+']')\n",
    "    print(f\"{optim} - {batchsize}: ({l2_}, {l1_}, {p})\")\n",
    "\n",
    "    model = model_(**model_setup).to(device)\n",
    "    \n",
    "    nn.DataParallel(model, device_ids=[CUDA])\n",
    "    cudnn.benchmark = True\n",
    "\n",
    "    loss_function = nn.CrossEntropyLoss()\n",
    "    optimizer = getattr(torch.optim, optim)(model.parameters(), lr=model_config['lr'])\n",
    "\n",
    "\n",
    "    kwargs = {\n",
    "        'model': model,\n",
    "        'loss_function': loss_function,\n",
    "        'optimizer': optimizer,\n",
    "        'lr_scheduler': None,\n",
    "        'map_classes': None,\n",
    "        'skip_classes': None,\n",
    "        'device': device,\n",
    "        'model_path': None,\n",
    "        'trainloader': trainloader,\n",
    "        'testloader': testloader,\n",
    "        'config': model_config\n",
    "    }\n",
    "\n",
    "    train_losses, test_losses, train_accs, test_accs, test_loss, test_acc, confusion_matrix_test, best_model_name = run_training_testing(**kwargs)\n",
    "    \n",
    "    end_time = round(perf_counter() - start_time, 3)\n",
    "    \n",
    "    df_scores.loc[df_scores.shape[0] + 1] = [\n",
    "        optim, batchsize, model_config['lr'], reg_type(l2_, l1_, p), l2_, l1_, p, test_accs[-1], test_losses[-1], train_accs[-1], train_losses[-1], end_time\n",
    "    ]"
   ]
  },
  {
   "cell_type": "code",
   "execution_count": 14,
   "metadata": {},
   "outputs": [],
   "source": [
    "df_scores = df_scores.sort_values(\n",
    "    ['test_accuracy','test_loss','train_accuracy','train_loss'],\n",
    "    ascending=[False, True, False, True]\n",
    ").reset_index(drop=True)\n",
    "\n",
    "df_scores.to_csv(path_trainingModels_regularization / f'scores-{DATASET.lower()}-{PREFIX.lower()}.csv', index=False)"
   ]
  },
  {
   "cell_type": "code",
   "execution_count": 15,
   "metadata": {},
   "outputs": [
    {
     "data": {
      "text/html": [
       "<div>\n",
       "<style scoped>\n",
       "    .dataframe tbody tr th:only-of-type {\n",
       "        vertical-align: middle;\n",
       "    }\n",
       "\n",
       "    .dataframe tbody tr th {\n",
       "        vertical-align: top;\n",
       "    }\n",
       "\n",
       "    .dataframe thead th {\n",
       "        text-align: right;\n",
       "    }\n",
       "</style>\n",
       "<table border=\"1\" class=\"dataframe\">\n",
       "  <thead>\n",
       "    <tr style=\"text-align: right;\">\n",
       "      <th></th>\n",
       "      <th>optim</th>\n",
       "      <th>batchsize</th>\n",
       "      <th>lr</th>\n",
       "      <th>regularization</th>\n",
       "      <th>L2</th>\n",
       "      <th>L1</th>\n",
       "      <th>dropout</th>\n",
       "      <th>test_accuracy</th>\n",
       "      <th>test_loss</th>\n",
       "      <th>train_accuracy</th>\n",
       "      <th>train_loss</th>\n",
       "      <th>time</th>\n",
       "    </tr>\n",
       "  </thead>\n",
       "  <tbody>\n",
       "    <tr>\n",
       "      <th>0</th>\n",
       "      <td>Adam</td>\n",
       "      <td>128.0</td>\n",
       "      <td>0.001</td>\n",
       "      <td>L2</td>\n",
       "      <td>0.001</td>\n",
       "      <td>0.0</td>\n",
       "      <td>0.0</td>\n",
       "      <td>0.955696</td>\n",
       "      <td>0.201967</td>\n",
       "      <td>0.995866</td>\n",
       "      <td>0.058822</td>\n",
       "      <td>128.117</td>\n",
       "    </tr>\n",
       "    <tr>\n",
       "      <th>1</th>\n",
       "      <td>Adam</td>\n",
       "      <td>128.0</td>\n",
       "      <td>0.001</td>\n",
       "      <td>L2</td>\n",
       "      <td>0.010</td>\n",
       "      <td>0.0</td>\n",
       "      <td>0.0</td>\n",
       "      <td>0.954114</td>\n",
       "      <td>0.636400</td>\n",
       "      <td>0.986757</td>\n",
       "      <td>0.343672</td>\n",
       "      <td>127.145</td>\n",
       "    </tr>\n",
       "    <tr>\n",
       "      <th>2</th>\n",
       "      <td>Adam</td>\n",
       "      <td>32.0</td>\n",
       "      <td>0.001</td>\n",
       "      <td>Dropout</td>\n",
       "      <td>0.000</td>\n",
       "      <td>0.0</td>\n",
       "      <td>0.3</td>\n",
       "      <td>0.950949</td>\n",
       "      <td>0.144069</td>\n",
       "      <td>0.979587</td>\n",
       "      <td>0.077799</td>\n",
       "      <td>141.991</td>\n",
       "    </tr>\n",
       "    <tr>\n",
       "      <th>3</th>\n",
       "      <td>Adam</td>\n",
       "      <td>32.0</td>\n",
       "      <td>0.001</td>\n",
       "      <td>L2-Dropout</td>\n",
       "      <td>0.001</td>\n",
       "      <td>0.0</td>\n",
       "      <td>0.3</td>\n",
       "      <td>0.950949</td>\n",
       "      <td>0.188374</td>\n",
       "      <td>0.975452</td>\n",
       "      <td>0.127791</td>\n",
       "      <td>150.114</td>\n",
       "    </tr>\n",
       "    <tr>\n",
       "      <th>4</th>\n",
       "      <td>Adam</td>\n",
       "      <td>128.0</td>\n",
       "      <td>0.001</td>\n",
       "      <td>L2-Dropout</td>\n",
       "      <td>0.010</td>\n",
       "      <td>0.0</td>\n",
       "      <td>0.3</td>\n",
       "      <td>0.949367</td>\n",
       "      <td>0.547436</td>\n",
       "      <td>0.977713</td>\n",
       "      <td>0.409302</td>\n",
       "      <td>128.422</td>\n",
       "    </tr>\n",
       "    <tr>\n",
       "      <th>5</th>\n",
       "      <td>Adam</td>\n",
       "      <td>256.0</td>\n",
       "      <td>0.001</td>\n",
       "      <td>L2</td>\n",
       "      <td>0.010</td>\n",
       "      <td>0.0</td>\n",
       "      <td>0.0</td>\n",
       "      <td>0.949367</td>\n",
       "      <td>0.662289</td>\n",
       "      <td>0.991408</td>\n",
       "      <td>0.316603</td>\n",
       "      <td>117.270</td>\n",
       "    </tr>\n",
       "    <tr>\n",
       "      <th>6</th>\n",
       "      <td>Adam</td>\n",
       "      <td>128.0</td>\n",
       "      <td>0.001</td>\n",
       "      <td>Dropout</td>\n",
       "      <td>0.000</td>\n",
       "      <td>0.0</td>\n",
       "      <td>0.3</td>\n",
       "      <td>0.947785</td>\n",
       "      <td>0.206136</td>\n",
       "      <td>0.981718</td>\n",
       "      <td>0.100997</td>\n",
       "      <td>129.107</td>\n",
       "    </tr>\n",
       "  </tbody>\n",
       "</table>\n",
       "</div>"
      ],
      "text/plain": [
       "  optim  batchsize     lr regularization     L2   L1  dropout  test_accuracy  \\\n",
       "0  Adam      128.0  0.001             L2  0.001  0.0      0.0       0.955696   \n",
       "1  Adam      128.0  0.001             L2  0.010  0.0      0.0       0.954114   \n",
       "2  Adam       32.0  0.001        Dropout  0.000  0.0      0.3       0.950949   \n",
       "3  Adam       32.0  0.001     L2-Dropout  0.001  0.0      0.3       0.950949   \n",
       "4  Adam      128.0  0.001     L2-Dropout  0.010  0.0      0.3       0.949367   \n",
       "5  Adam      256.0  0.001             L2  0.010  0.0      0.0       0.949367   \n",
       "6  Adam      128.0  0.001        Dropout  0.000  0.0      0.3       0.947785   \n",
       "\n",
       "   test_loss  train_accuracy  train_loss     time  \n",
       "0   0.201967        0.995866    0.058822  128.117  \n",
       "1   0.636400        0.986757    0.343672  127.145  \n",
       "2   0.144069        0.979587    0.077799  141.991  \n",
       "3   0.188374        0.975452    0.127791  150.114  \n",
       "4   0.547436        0.977713    0.409302  128.422  \n",
       "5   0.662289        0.991408    0.316603  117.270  \n",
       "6   0.206136        0.981718    0.100997  129.107  "
      ]
     },
     "execution_count": 15,
     "metadata": {},
     "output_type": "execute_result"
    }
   ],
   "source": [
    "df_scores.head(7)"
   ]
  },
  {
   "cell_type": "code",
   "execution_count": null,
   "metadata": {},
   "outputs": [],
   "source": []
  },
  {
   "cell_type": "code",
   "execution_count": null,
   "metadata": {},
   "outputs": [],
   "source": []
  }
 ],
 "metadata": {
  "accelerator": "GPU",
  "colab": {
   "collapsed_sections": [
    "mcDeYOA8d1wL"
   ],
   "provenance": []
  },
  "gpuClass": "standard",
  "kernelspec": {
   "display_name": "Python 3",
   "language": "python",
   "name": "python3"
  },
  "language_info": {
   "codemirror_mode": {
    "name": "ipython",
    "version": 3
   },
   "file_extension": ".py",
   "mimetype": "text/x-python",
   "name": "python",
   "nbconvert_exporter": "python",
   "pygments_lexer": "ipython3",
   "version": "3.6.8"
  },
  "vscode": {
   "interpreter": {
    "hash": "2b89e4666a1b1f5f90ada5928a1b04d9ad859bf674b23c56e0417352230a6456"
   }
  }
 },
 "nbformat": 4,
 "nbformat_minor": 1
}
