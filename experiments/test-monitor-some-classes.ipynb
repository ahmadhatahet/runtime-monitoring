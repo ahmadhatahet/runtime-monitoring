{
 "cells": [
  {
   "cell_type": "markdown",
   "metadata": {},
   "source": [
    "# Setup Variables and home directory"
   ]
  },
  {
   "cell_type": "markdown",
   "metadata": {},
   "source": [
    "MNIST, FashionMNIST, GTSRB, Cifar10"
   ]
  },
  {
   "cell_type": "code",
   "execution_count": 1,
   "metadata": {},
   "outputs": [
    {
     "data": {
      "text/plain": [
       "PosixPath('/home/ah19/runtime-monitoring')"
      ]
     },
     "execution_count": 1,
     "metadata": {},
     "output_type": "execute_result"
    }
   ],
   "source": [
    "# set homw directory\n",
    "import os\n",
    "from pathlib import Path\n",
    "\n",
    "base = Path().cwd()\n",
    "\n",
    "if base.name != 'runtime-monitoring':\n",
    "    os.chdir('../')\n",
    "    base = Path().cwd()\n",
    "\n",
    "base"
   ]
  },
  {
   "cell_type": "markdown",
   "metadata": {},
   "source": [
    "# Libraries"
   ]
  },
  {
   "cell_type": "code",
   "execution_count": 2,
   "metadata": {
    "id": "FLmxFGnxg6ZG"
   },
   "outputs": [],
   "source": [
    "import matplotlib.pyplot as plt\n",
    "import numpy as np\n",
    "import pandas as pd\n",
    "import json\n",
    "import time\n",
    "from fastprogress import progress_bar\n",
    "\n",
    "import torch\n",
    "import torchvision\n",
    "import torch.nn as nn\n",
    "import torch.backends.cudnn as cudnn\n",
    "import torch.nn.functional as F\n",
    "from torchinfo import summary\n",
    "\n",
    "cudnn.benchmark = True\n",
    "torch.set_float32_matmul_precision('high')"
   ]
  },
  {
   "cell_type": "code",
   "execution_count": 3,
   "metadata": {},
   "outputs": [],
   "source": [
    "from utilities.utils import *\n",
    "from utilities.scaleFunctions import *\n",
    "from utilities.pcaFunctions import *\n",
    "from utilities.pathManager import fetchPaths\n",
    "from utilities.MonitorBDD import MonitorBDD"
   ]
  },
  {
   "cell_type": "code",
   "execution_count": 4,
   "metadata": {},
   "outputs": [],
   "source": [
    "# disable warnings\n",
    "import warnings\n",
    "warnings.filterwarnings('ignore')"
   ]
  },
  {
   "cell_type": "markdown",
   "metadata": {},
   "source": [
    "### Setup Variables"
   ]
  },
  {
   "cell_type": "code",
   "execution_count": 5,
   "metadata": {},
   "outputs": [
    {
     "data": {
      "text/plain": [
       "'NVIDIA A100 80GB PCIe'"
      ]
     },
     "execution_count": 5,
     "metadata": {},
     "output_type": "execute_result"
    }
   ],
   "source": [
    "SEED = 42\n",
    "CUDA = 0\n",
    "GPU_NAME = f'cuda:{CUDA}'\n",
    "\n",
    "np.random.seed(SEED)\n",
    "torch.manual_seed(SEED)\n",
    "torch.cuda.manual_seed(SEED)\n",
    "\n",
    "device = get_device(GPU_NAME)\n",
    "torch.cuda.get_device_name(device)"
   ]
  },
  {
   "cell_type": "markdown",
   "metadata": {},
   "source": [
    "# Paths"
   ]
  },
  {
   "cell_type": "code",
   "execution_count": 6,
   "metadata": {},
   "outputs": [],
   "source": [
    "DATASET = 'MNIST'\n",
    "DATASET = 'FashionMNIST'\n",
    "DATASET = 'GTSRB'\n",
    "\n",
    "LHLs = {\n",
    "    'MNIST': 60,\n",
    "    'FashionMNIST': 30,\n",
    "    'GTSRB': 50\n",
    "}\n",
    "\n",
    "\n",
    "LHL = LHLs[DATASET]"
   ]
  },
  {
   "cell_type": "code",
   "execution_count": 7,
   "metadata": {},
   "outputs": [],
   "source": [
    "paths = fetchPaths(base, DATASET, '', False)\n",
    "\n",
    "path_data = paths['data']\n",
    "path_lhl = paths['lhl']\n",
    "\n",
    "path_saved_model = paths['saved_models'].parent\n",
    "\n",
    "configs = load_json(paths['configuration'])\n",
    "config = configs['configuration']\n",
    "model_setup = configs['model_setup']\n",
    "model_config = configs['model_config']\n",
    "optim_name = list(config['optimizer'].keys())[0]\n",
    "optim_args = config['optimizer'][optim_name]\n",
    "scheduler_name = list(config['scheduler'].keys())[0]\n",
    "scheduler_args = config['scheduler'][scheduler_name]\n",
    "batch_size = model_config['batch_size']"
   ]
  },
  {
   "cell_type": "code",
   "execution_count": 8,
   "metadata": {},
   "outputs": [
    {
     "data": {
      "text/plain": [
       "'GTSRB_AdamW-32-50_selected_classes'"
      ]
     },
     "execution_count": 8,
     "metadata": {},
     "output_type": "execute_result"
    }
   ],
   "source": [
    "POSTFIX = f'{optim_name}-{batch_size}-{LHL}'\n",
    "POSTFIX += '_selected_classes'\n",
    "FILENAME_POSTFIX = f'{DATASET}_{POSTFIX}'\n",
    "\n",
    "FILENAME_POSTFIX"
   ]
  },
  {
   "cell_type": "code",
   "execution_count": 9,
   "metadata": {},
   "outputs": [
    {
     "data": {
      "text/plain": [
       "PosixPath('/home/ah19/runtime-monitoring/experiments/GTSRB/saved-models/GTSRB_AdamW-32-50_selected_classes-acc-0.96-loss-0.163.pth.tar')"
      ]
     },
     "execution_count": 9,
     "metadata": {},
     "output_type": "execute_result"
    }
   ],
   "source": [
    "saved_model = list(path_saved_model.glob(f\"{FILENAME_POSTFIX}*.pth.tar\"))\n",
    "\n",
    "if len(saved_model) > 0: saved_model = saved_model[0]\n",
    "else: saved_model = None\n",
    "    \n",
    "saved_model"
   ]
  },
  {
   "cell_type": "markdown",
   "metadata": {
    "id": "h7eERD3yVH2H"
   },
   "source": [
    "# Import Data"
   ]
  },
  {
   "cell_type": "code",
   "execution_count": 10,
   "metadata": {},
   "outputs": [],
   "source": [
    "from models.mnist_model import MNIST_Model\n",
    "from models.fashionmnist_model import FashionMNIST_CNN\n",
    "from models.gtsrb_model import GTSRB_CNN\n",
    "\n",
    "from models.transformers import transformers\n",
    "\n",
    "models = {\n",
    "    'mnist': MNIST_Model,\n",
    "    'fashionmnist': FashionMNIST_CNN,\n",
    "    'gtsrb': GTSRB_CNN\n",
    "}\n",
    "\n",
    "model_ = models[DATASET.lower()]\n",
    "transformer = transformers[DATASET.lower()]"
   ]
  },
  {
   "cell_type": "code",
   "execution_count": 11,
   "metadata": {},
   "outputs": [
    {
     "data": {
      "text/plain": [
       "(64000, 4224)"
      ]
     },
     "execution_count": 11,
     "metadata": {},
     "output_type": "execute_result"
    }
   ],
   "source": [
    "feature_names = get_labels(DATASET)\n",
    "\n",
    "train_data = get_dataset(DATASET, path_data, train=True, transform=transformer['train'])\n",
    "test_data = get_dataset(DATASET, path_data, train=False, transform=transformer['test'])\n",
    "len(train_data), len(test_data)"
   ]
  },
  {
   "cell_type": "code",
   "execution_count": 12,
   "metadata": {},
   "outputs": [],
   "source": [
    "skip_classes = [2, 5, 35, 40]\n",
    "\n",
    "new_classes = np.setdiff1d( np.array(list(feature_names.keys())), skip_classes )\n",
    "\n",
    "class_map = { c:i for i, c in enumerate(new_classes)}\n",
    "class_map_rev = {v:k for k,v in class_map.items()}\n",
    "\n",
    "\n",
    "def collate_fn(batch):\n",
    "    id_drop = []\n",
    "    for i, (_, y) in enumerate(batch):\n",
    "        if y in skip_classes:\n",
    "            id_drop.append(i)\n",
    "    \n",
    "    for i in id_drop[::-1]:\n",
    "        batch.pop(i)\n",
    "    \n",
    "    x = torch.stack([x for x,_ in batch])\n",
    "    y = torch.tensor([y for _,y in batch])\n",
    "    \n",
    "    y.apply_(lambda c: class_map[c])\n",
    "    \n",
    "    return x, y"
   ]
  },
  {
   "cell_type": "code",
   "execution_count": 13,
   "metadata": {},
   "outputs": [],
   "source": [
    "trainloader = get_dataLoader(train_data, model_config['batch_size'], True, collate_fn=collate_fn)\n",
    "testloader = get_dataLoader(test_data, model_config['batch_size'], False, collate_fn=collate_fn)"
   ]
  },
  {
   "cell_type": "code",
   "execution_count": 14,
   "metadata": {},
   "outputs": [],
   "source": [
    "def create_model(lhl, num_classes):\n",
    "    \n",
    "    # model\n",
    "    model_setup['last_hidden_neurons'] = lhl\n",
    "    \n",
    "    # torch 2.0 compile and parallel data training\n",
    "    model = model_(**model_setup, outneurons = num_classes).to(device)\n",
    "    model = torch.compile(model)\n",
    "    nn.DataParallel(model, device_ids=[CUDA])\n",
    "    \n",
    "    # loss function\n",
    "    loss_function = nn.CrossEntropyLoss()\n",
    "    \n",
    "    # optimizer and scheduler\n",
    "    optimizer = getattr(torch.optim, optim_name)(model.parameters(), lr=model_config['lr'], **optim_args)\n",
    "    scheduler = getattr(torch.optim.lr_scheduler, scheduler_name)(optimizer, **scheduler_args)\n",
    "        \n",
    "    return model, loss_function, optimizer, scheduler"
   ]
  },
  {
   "cell_type": "code",
   "execution_count": 15,
   "metadata": {},
   "outputs": [],
   "source": [
    "if DATASET=='MNIST': model_config['epochs'] = 3\n",
    "if DATASET=='GTSRB': model_config['epochs'] = 8"
   ]
  },
  {
   "cell_type": "code",
   "execution_count": 16,
   "metadata": {},
   "outputs": [],
   "source": [
    "def start_training_testing(model_name, model, loss_function, optimizer, scheduler):\n",
    "    # training testing attributes\n",
    "    kwargs = {\n",
    "        'model': model,\n",
    "        'loss_function': loss_function,\n",
    "        'optimizer': optimizer,\n",
    "        'lr_scheduler': scheduler,\n",
    "        'device': device,\n",
    "        'model_path': path_saved_model / f\"{model_name}.pth.tar\",\n",
    "        'trainloader': trainloader,\n",
    "        'testloader': testloader,\n",
    "        'config': model_config\n",
    "    }\n",
    "\n",
    "    # run training testing\n",
    "    return run_training_testing(**kwargs)"
   ]
  },
  {
   "cell_type": "code",
   "execution_count": 17,
   "metadata": {
    "scrolled": false
   },
   "outputs": [],
   "source": [
    "model, loss_function, optimizer, scheduler = create_model(LHL, new_classes.shape[0])\n",
    "\n",
    "if saved_model is None:\n",
    "    (train_losses,\n",
    "    train_accs,\n",
    "    test_losses,\n",
    "    test_accs,\n",
    "    train_loss,\n",
    "    train_acc,\n",
    "    test_loss,\n",
    "    test_acc,\n",
    "    confusion_matrix_train,\n",
    "    confusion_matrix_test,\n",
    "    saved_model) = start_training_testing(FILENAME_POSTFIX, model, loss_function, optimizer, scheduler)"
   ]
  },
  {
   "cell_type": "code",
   "execution_count": 18,
   "metadata": {},
   "outputs": [],
   "source": [
    "load_checkpoint(model, saved_model)"
   ]
  },
  {
   "cell_type": "code",
   "execution_count": 19,
   "metadata": {},
   "outputs": [],
   "source": [
    "trainloader = get_dataLoader(train_data, model_config['batch_size'], True)\n",
    "testloader = get_dataLoader(test_data, model_config['batch_size'], False)"
   ]
  },
  {
   "cell_type": "code",
   "execution_count": 20,
   "metadata": {},
   "outputs": [],
   "source": [
    "def get_logits(loader):\n",
    "    df = pd.DataFrame()\n",
    "\n",
    "    with torch.no_grad():\n",
    "\n",
    "        for x, y in progress_bar(loader):\n",
    "\n",
    "            # extract last hidden layer and predicted class\n",
    "            logits, y_pred = model.output_last_layer(x.to(device))\n",
    "            \n",
    "            y_pred = y_pred.argmax(dim=1).cpu()\n",
    "\n",
    "            temp_df = pd.DataFrame(logits.cpu().numpy())\n",
    "            temp_df['y'] = y.cpu().numpy()\n",
    "            temp_df['true'] = temp_df['y'] == y_pred.apply_(lambda c: class_map_rev[c]).numpy()\n",
    "\n",
    "            df = pd.concat([df, temp_df])\n",
    "\n",
    "    return df"
   ]
  },
  {
   "cell_type": "code",
   "execution_count": 21,
   "metadata": {},
   "outputs": [
    {
     "data": {
      "text/html": [
       "\n",
       "    <div>\n",
       "        <style>\n",
       "            /* Turns off some styling */\n",
       "            progress {\n",
       "                /* gets rid of default border in Firefox and Opera. */\n",
       "                border: none;\n",
       "                /* Needs to be in here for Safari polyfill so background images work as expected. */\n",
       "                background-size: auto;\n",
       "            }\n",
       "            .progress-bar-interrupted, .progress-bar-interrupted::-webkit-progress-bar {\n",
       "                background: #F44336;\n",
       "            }\n",
       "        </style>\n",
       "      <progress value='2000' class='' max='2000' style='width:300px; height:20px; vertical-align: middle;'></progress>\n",
       "      100.00% [2000/2000 01:44<00:00]\n",
       "    </div>\n",
       "    "
      ],
      "text/plain": [
       "<IPython.core.display.HTML object>"
      ]
     },
     "metadata": {},
     "output_type": "display_data"
    }
   ],
   "source": [
    "df_train = get_logits(trainloader)"
   ]
  },
  {
   "cell_type": "code",
   "execution_count": 22,
   "metadata": {},
   "outputs": [
    {
     "data": {
      "text/html": [
       "\n",
       "    <div>\n",
       "        <style>\n",
       "            /* Turns off some styling */\n",
       "            progress {\n",
       "                /* gets rid of default border in Firefox and Opera. */\n",
       "                border: none;\n",
       "                /* Needs to be in here for Safari polyfill so background images work as expected. */\n",
       "                background-size: auto;\n",
       "            }\n",
       "            .progress-bar-interrupted, .progress-bar-interrupted::-webkit-progress-bar {\n",
       "                background: #F44336;\n",
       "            }\n",
       "        </style>\n",
       "      <progress value='132' class='' max='132' style='width:300px; height:20px; vertical-align: middle;'></progress>\n",
       "      100.00% [132/132 00:06<00:00]\n",
       "    </div>\n",
       "    "
      ],
      "text/plain": [
       "<IPython.core.display.HTML object>"
      ]
     },
     "metadata": {},
     "output_type": "display_data"
    }
   ],
   "source": [
    "df_test = get_logits(testloader)"
   ]
  },
  {
   "cell_type": "code",
   "execution_count": 61,
   "metadata": {},
   "outputs": [
    {
     "data": {
      "text/plain": [
       "((64000, 52), (4224, 52))"
      ]
     },
     "execution_count": 61,
     "metadata": {},
     "output_type": "execute_result"
    }
   ],
   "source": [
    "df_train.shape, df_test.shape"
   ]
  },
  {
   "cell_type": "code",
   "execution_count": 23,
   "metadata": {},
   "outputs": [
    {
     "data": {
      "text/plain": [
       "(58979, 51)"
      ]
     },
     "execution_count": 23,
     "metadata": {},
     "output_type": "execute_result"
    }
   ],
   "source": [
    "# select only true classified\n",
    "# df_true = df_train.copy()\n",
    "df_true = pd.concat([df_train[df_train[\"true\"] == True].copy(), df_test[df_test[\"true\"] == True].copy()])\n",
    "df_true = df_true.drop(\"true\", axis=1).reset_index(drop=True)\n",
    "\n",
    "# df_true = df_train[df_train[\"true\"] == True].copy()\n",
    "# df_true = df_true.drop(\"true\", axis=1).reset_index(drop=True)\n",
    "\n",
    "df_true.shape"
   ]
  },
  {
   "cell_type": "code",
   "execution_count": 24,
   "metadata": {},
   "outputs": [],
   "source": [
    "# fit scaler and pca\n",
    "scaler_ = fitStandardScalerSingle(df_true, LHL)\n",
    "pca_ = fitPCASingle(df_true, scaler=scaler_, numNeurons=LHL)"
   ]
  },
  {
   "cell_type": "code",
   "execution_count": 25,
   "metadata": {},
   "outputs": [],
   "source": [
    "df_train_pca = applyPCASingle(df_train, scaler_, pca_, numNeurons=LHL)\n",
    "df_test_pca = applyPCASingle(df_test, scaler_, pca_, numNeurons=LHL)\n",
    "df_true_pca = applyPCASingle(df_true, scaler_, pca_, numNeurons=LHL)"
   ]
  },
  {
   "cell_type": "code",
   "execution_count": 26,
   "metadata": {},
   "outputs": [],
   "source": [
    "gte_mean, top_third = neuronsLoadingsSingle(pca_, numNeurons=LHL, var_thld=0.9, loadings_thld=0.5)"
   ]
  },
  {
   "cell_type": "markdown",
   "metadata": {},
   "source": [
    "# Build BDD"
   ]
  },
  {
   "cell_type": "code",
   "execution_count": 27,
   "metadata": {},
   "outputs": [],
   "source": [
    "# cudd.BDD()"
   ]
  },
  {
   "cell_type": "code",
   "execution_count": 83,
   "metadata": {},
   "outputs": [
    {
     "data": {
      "text/plain": [
       "0.567"
      ]
     },
     "execution_count": 83,
     "metadata": {},
     "output_type": "execute_result"
    }
   ],
   "source": [
    "# each set of data has its own threshold\n",
    "thld_p = 0\n",
    "eta = 0\n",
    "\n",
    "neurons = []\n",
    "# neurons = gte_mean\n",
    "\n",
    "# if flavor=='pca':\n",
    "#     nerons = [f'x{i}' for i in range(numComponents(pca))]\n",
    "#     subset_name = 'components'\n",
    "\n",
    "# calculate threshold\n",
    "if thld_p == 0:\n",
    "    thld = np.zeros(df_true.drop('y', axis=1).shape[1])\n",
    "else: thld = np.quantile( df_true.drop('y', axis=1), thld_p, axis=0)\n",
    "\n",
    "# thld = np.mean( df_true.drop('y', axis=1), axis=0)\n",
    "\n",
    "st = time.perf_counter()\n",
    "\n",
    "df_train_cls = df_train.loc[~df_train['y'].isin(skip_classes)].copy()\n",
    "df_test_cls = df_test.loc[~df_test['y'].isin(skip_classes)].copy()\n",
    "df_eval = pd.concat([df_train.loc[df_train['y'].isin(skip_classes)].copy(),\n",
    "                     df_test.loc[df_test['y'].isin(skip_classes)].copy()])\n",
    "\n",
    "# BDD\n",
    "patterns = MonitorBDD( df_true.shape[1]-1, thld, neurons=neurons, reorder=False, memory=10)\n",
    "df_train_cls_copy, df_test_cls_copy, df_eval = patterns.add_dataframe( df_true, eta, eval_dfs=[\n",
    "    df_train_cls, df_test_cls, df_eval] )\n",
    "\n",
    "en = round(int(time.perf_counter() - st) / 60, 3)\n",
    "\n",
    "# score\n",
    "df_train_scores = patterns.score_dataframe_multi_eta(df_train_cls_copy, eta)\n",
    "df_test_scores = patterns.score_dataframe_multi_eta(df_test_cls_copy, eta)\n",
    "df_eval_scores = patterns.score_dataframe_multi_eta(df_eval, eta)\n",
    "\n",
    "# add metadata\n",
    "patterns.stats['num_observations'] = df_true.shape[0]\n",
    "\n",
    "en"
   ]
  },
  {
   "cell_type": "code",
   "execution_count": 84,
   "metadata": {
    "scrolled": false
   },
   "outputs": [
    {
     "data": {
      "text/html": [
       "<div>\n",
       "<style scoped>\n",
       "    .dataframe tbody tr th:only-of-type {\n",
       "        vertical-align: middle;\n",
       "    }\n",
       "\n",
       "    .dataframe tbody tr th {\n",
       "        vertical-align: top;\n",
       "    }\n",
       "\n",
       "    .dataframe thead th {\n",
       "        text-align: right;\n",
       "    }\n",
       "</style>\n",
       "<table border=\"1\" class=\"dataframe\">\n",
       "  <thead>\n",
       "    <tr style=\"text-align: right;\">\n",
       "      <th></th>\n",
       "      <th>thld</th>\n",
       "      <th>eta</th>\n",
       "      <th>build_time_min</th>\n",
       "      <th>size_mb</th>\n",
       "      <th>reorder_time_min</th>\n",
       "      <th>num_patterns</th>\n",
       "      <th>num_unique_patterns_%</th>\n",
       "      <th>num_reorder</th>\n",
       "      <th>num_neurons</th>\n",
       "      <th>start_time</th>\n",
       "      <th>end_time</th>\n",
       "      <th>num_observations</th>\n",
       "    </tr>\n",
       "  </thead>\n",
       "  <tbody>\n",
       "    <tr>\n",
       "      <th>1</th>\n",
       "      <td>NaN</td>\n",
       "      <td>0.0</td>\n",
       "      <td>0.183</td>\n",
       "      <td>214.6</td>\n",
       "      <td>0.0</td>\n",
       "      <td>58979.0</td>\n",
       "      <td>96.1</td>\n",
       "      <td>0.0</td>\n",
       "      <td>50.0</td>\n",
       "      <td>2023-09-16 13:15:35</td>\n",
       "      <td>2023-09-16 13:15:47</td>\n",
       "      <td>58979</td>\n",
       "    </tr>\n",
       "  </tbody>\n",
       "</table>\n",
       "</div>"
      ],
      "text/plain": [
       "  thld  eta  build_time_min  size_mb  reorder_time_min  num_patterns   \n",
       "1  NaN  0.0           0.183    214.6               0.0       58979.0  \\\n",
       "\n",
       "   num_unique_patterns_%  num_reorder  num_neurons           start_time   \n",
       "1                   96.1          0.0         50.0  2023-09-16 13:15:35  \\\n",
       "\n",
       "              end_time  num_observations  \n",
       "1  2023-09-16 13:15:47             58979  "
      ]
     },
     "execution_count": 84,
     "metadata": {},
     "output_type": "execute_result"
    }
   ],
   "source": [
    "patterns.stats"
   ]
  },
  {
   "cell_type": "code",
   "execution_count": 85,
   "metadata": {},
   "outputs": [
    {
     "data": {
      "text/html": [
       "<div>\n",
       "<style scoped>\n",
       "    .dataframe tbody tr th:only-of-type {\n",
       "        vertical-align: middle;\n",
       "    }\n",
       "\n",
       "    .dataframe tbody tr th {\n",
       "        vertical-align: top;\n",
       "    }\n",
       "\n",
       "    .dataframe thead th {\n",
       "        text-align: right;\n",
       "    }\n",
       "</style>\n",
       "<table border=\"1\" class=\"dataframe\">\n",
       "  <thead>\n",
       "    <tr style=\"text-align: right;\">\n",
       "      <th></th>\n",
       "      <th>y</th>\n",
       "      <th>total_count</th>\n",
       "      <th>total_misclassified</th>\n",
       "      <th>unrecognized</th>\n",
       "      <th>unrecognized_and_misclassified</th>\n",
       "      <th>unrecognized_and_classified</th>\n",
       "      <th>NPR</th>\n",
       "      <th>NPV</th>\n",
       "      <th>specificity</th>\n",
       "      <th>eta</th>\n",
       "      <th>subset_name</th>\n",
       "      <th>num_neurons</th>\n",
       "    </tr>\n",
       "  </thead>\n",
       "  <tbody>\n",
       "    <tr>\n",
       "      <th>39</th>\n",
       "      <td>all</td>\n",
       "      <td>58140.0</td>\n",
       "      <td>2805.0</td>\n",
       "      <td>2805.0</td>\n",
       "      <td>2805.0</td>\n",
       "      <td>0.0</td>\n",
       "      <td>0.048246</td>\n",
       "      <td>1.0</td>\n",
       "      <td>1.0</td>\n",
       "      <td>0</td>\n",
       "      <td>None</td>\n",
       "      <td>50.0</td>\n",
       "    </tr>\n",
       "  </tbody>\n",
       "</table>\n",
       "</div>"
      ],
      "text/plain": [
       "      y  total_count  total_misclassified  unrecognized   \n",
       "39  all      58140.0               2805.0        2805.0  \\\n",
       "\n",
       "    unrecognized_and_misclassified  unrecognized_and_classified       NPR   \n",
       "39                          2805.0                          0.0  0.048246  \\\n",
       "\n",
       "    NPV  specificity  eta subset_name  num_neurons  \n",
       "39  1.0          1.0    0        None         50.0  "
      ]
     },
     "execution_count": 85,
     "metadata": {},
     "output_type": "execute_result"
    }
   ],
   "source": [
    "df_train_scores.loc[ df_train_scores['y'] == 'all']"
   ]
  },
  {
   "cell_type": "code",
   "execution_count": 86,
   "metadata": {},
   "outputs": [
    {
     "data": {
      "text/html": [
       "<div>\n",
       "<style scoped>\n",
       "    .dataframe tbody tr th:only-of-type {\n",
       "        vertical-align: middle;\n",
       "    }\n",
       "\n",
       "    .dataframe tbody tr th {\n",
       "        vertical-align: top;\n",
       "    }\n",
       "\n",
       "    .dataframe thead th {\n",
       "        text-align: right;\n",
       "    }\n",
       "</style>\n",
       "<table border=\"1\" class=\"dataframe\">\n",
       "  <thead>\n",
       "    <tr style=\"text-align: right;\">\n",
       "      <th></th>\n",
       "      <th>y</th>\n",
       "      <th>total_count</th>\n",
       "      <th>total_misclassified</th>\n",
       "      <th>unrecognized</th>\n",
       "      <th>unrecognized_and_misclassified</th>\n",
       "      <th>unrecognized_and_classified</th>\n",
       "      <th>NPR</th>\n",
       "      <th>NPV</th>\n",
       "      <th>specificity</th>\n",
       "      <th>eta</th>\n",
       "      <th>subset_name</th>\n",
       "      <th>num_neurons</th>\n",
       "    </tr>\n",
       "  </thead>\n",
       "  <tbody>\n",
       "    <tr>\n",
       "      <th>39</th>\n",
       "      <td>all</td>\n",
       "      <td>3853.0</td>\n",
       "      <td>209.0</td>\n",
       "      <td>206.0</td>\n",
       "      <td>206.0</td>\n",
       "      <td>0.0</td>\n",
       "      <td>0.053465</td>\n",
       "      <td>1.0</td>\n",
       "      <td>0.985646</td>\n",
       "      <td>0</td>\n",
       "      <td>None</td>\n",
       "      <td>50.0</td>\n",
       "    </tr>\n",
       "  </tbody>\n",
       "</table>\n",
       "</div>"
      ],
      "text/plain": [
       "      y  total_count  total_misclassified  unrecognized   \n",
       "39  all       3853.0                209.0         206.0  \\\n",
       "\n",
       "    unrecognized_and_misclassified  unrecognized_and_classified       NPR   \n",
       "39                           206.0                          0.0  0.053465  \\\n",
       "\n",
       "    NPV  specificity  eta subset_name  num_neurons  \n",
       "39  1.0     0.985646    0        None         50.0  "
      ]
     },
     "execution_count": 86,
     "metadata": {},
     "output_type": "execute_result"
    }
   ],
   "source": [
    "df_test_scores.loc[ df_test_scores['y'] == 'all']"
   ]
  },
  {
   "cell_type": "code",
   "execution_count": 87,
   "metadata": {},
   "outputs": [
    {
     "data": {
      "text/html": [
       "<div>\n",
       "<style scoped>\n",
       "    .dataframe tbody tr th:only-of-type {\n",
       "        vertical-align: middle;\n",
       "    }\n",
       "\n",
       "    .dataframe tbody tr th {\n",
       "        vertical-align: top;\n",
       "    }\n",
       "\n",
       "    .dataframe thead th {\n",
       "        text-align: right;\n",
       "    }\n",
       "</style>\n",
       "<table border=\"1\" class=\"dataframe\">\n",
       "  <thead>\n",
       "    <tr style=\"text-align: right;\">\n",
       "      <th></th>\n",
       "      <th>y</th>\n",
       "      <th>total_count</th>\n",
       "      <th>total_misclassified</th>\n",
       "      <th>unrecognized</th>\n",
       "      <th>unrecognized_and_misclassified</th>\n",
       "      <th>unrecognized_and_classified</th>\n",
       "      <th>NPR</th>\n",
       "      <th>NPV</th>\n",
       "      <th>specificity</th>\n",
       "      <th>eta</th>\n",
       "      <th>subset_name</th>\n",
       "      <th>num_neurons</th>\n",
       "    </tr>\n",
       "  </thead>\n",
       "  <tbody>\n",
       "    <tr>\n",
       "      <th>4</th>\n",
       "      <td>all</td>\n",
       "      <td>6231.0</td>\n",
       "      <td>6231.0</td>\n",
       "      <td>6223.0</td>\n",
       "      <td>6223.0</td>\n",
       "      <td>0.0</td>\n",
       "      <td>0.998716</td>\n",
       "      <td>1.0</td>\n",
       "      <td>0.998716</td>\n",
       "      <td>0</td>\n",
       "      <td>None</td>\n",
       "      <td>50.0</td>\n",
       "    </tr>\n",
       "  </tbody>\n",
       "</table>\n",
       "</div>"
      ],
      "text/plain": [
       "     y  total_count  total_misclassified  unrecognized   \n",
       "4  all       6231.0               6231.0        6223.0  \\\n",
       "\n",
       "   unrecognized_and_misclassified  unrecognized_and_classified       NPR  NPV   \n",
       "4                          6223.0                          0.0  0.998716  1.0  \\\n",
       "\n",
       "   specificity  eta subset_name  num_neurons  \n",
       "4     0.998716    0        None         50.0  "
      ]
     },
     "execution_count": 87,
     "metadata": {},
     "output_type": "execute_result"
    }
   ],
   "source": [
    "df_eval_scores.loc[ df_eval_scores['y'] == 'all']"
   ]
  },
  {
   "cell_type": "code",
   "execution_count": 88,
   "metadata": {},
   "outputs": [
    {
     "data": {
      "text/html": [
       "<div>\n",
       "<style scoped>\n",
       "    .dataframe tbody tr th:only-of-type {\n",
       "        vertical-align: middle;\n",
       "    }\n",
       "\n",
       "    .dataframe tbody tr th {\n",
       "        vertical-align: top;\n",
       "    }\n",
       "\n",
       "    .dataframe thead th {\n",
       "        text-align: right;\n",
       "    }\n",
       "</style>\n",
       "<table border=\"1\" class=\"dataframe\">\n",
       "  <thead>\n",
       "    <tr style=\"text-align: right;\">\n",
       "      <th></th>\n",
       "      <th>y</th>\n",
       "      <th>total_count</th>\n",
       "      <th>total_misclassified</th>\n",
       "      <th>unrecognized</th>\n",
       "      <th>unrecognized_and_misclassified</th>\n",
       "      <th>unrecognized_and_classified</th>\n",
       "      <th>NPR</th>\n",
       "      <th>NPV</th>\n",
       "      <th>specificity</th>\n",
       "      <th>eta</th>\n",
       "      <th>subset_name</th>\n",
       "      <th>num_neurons</th>\n",
       "    </tr>\n",
       "  </thead>\n",
       "  <tbody>\n",
       "    <tr>\n",
       "      <th>0</th>\n",
       "      <td>2</td>\n",
       "      <td>1573.0</td>\n",
       "      <td>1573.0</td>\n",
       "      <td>1572.0</td>\n",
       "      <td>1572.0</td>\n",
       "      <td>0.0</td>\n",
       "      <td>0.999364</td>\n",
       "      <td>1.0</td>\n",
       "      <td>0.999364</td>\n",
       "      <td>0</td>\n",
       "      <td>None</td>\n",
       "      <td>50.0</td>\n",
       "    </tr>\n",
       "    <tr>\n",
       "      <th>1</th>\n",
       "      <td>5</td>\n",
       "      <td>1497.0</td>\n",
       "      <td>1497.0</td>\n",
       "      <td>1492.0</td>\n",
       "      <td>1492.0</td>\n",
       "      <td>0.0</td>\n",
       "      <td>0.996660</td>\n",
       "      <td>1.0</td>\n",
       "      <td>0.996660</td>\n",
       "      <td>0</td>\n",
       "      <td>None</td>\n",
       "      <td>50.0</td>\n",
       "    </tr>\n",
       "    <tr>\n",
       "      <th>2</th>\n",
       "      <td>35</td>\n",
       "      <td>1575.0</td>\n",
       "      <td>1575.0</td>\n",
       "      <td>1573.0</td>\n",
       "      <td>1573.0</td>\n",
       "      <td>0.0</td>\n",
       "      <td>0.998730</td>\n",
       "      <td>1.0</td>\n",
       "      <td>0.998730</td>\n",
       "      <td>0</td>\n",
       "      <td>None</td>\n",
       "      <td>50.0</td>\n",
       "    </tr>\n",
       "    <tr>\n",
       "      <th>3</th>\n",
       "      <td>40</td>\n",
       "      <td>1586.0</td>\n",
       "      <td>1586.0</td>\n",
       "      <td>1586.0</td>\n",
       "      <td>1586.0</td>\n",
       "      <td>0.0</td>\n",
       "      <td>1.000000</td>\n",
       "      <td>1.0</td>\n",
       "      <td>1.000000</td>\n",
       "      <td>0</td>\n",
       "      <td>None</td>\n",
       "      <td>50.0</td>\n",
       "    </tr>\n",
       "    <tr>\n",
       "      <th>4</th>\n",
       "      <td>all</td>\n",
       "      <td>6231.0</td>\n",
       "      <td>6231.0</td>\n",
       "      <td>6223.0</td>\n",
       "      <td>6223.0</td>\n",
       "      <td>0.0</td>\n",
       "      <td>0.998716</td>\n",
       "      <td>1.0</td>\n",
       "      <td>0.998716</td>\n",
       "      <td>0</td>\n",
       "      <td>None</td>\n",
       "      <td>50.0</td>\n",
       "    </tr>\n",
       "  </tbody>\n",
       "</table>\n",
       "</div>"
      ],
      "text/plain": [
       "     y  total_count  total_misclassified  unrecognized   \n",
       "0    2       1573.0               1573.0        1572.0  \\\n",
       "1    5       1497.0               1497.0        1492.0   \n",
       "2   35       1575.0               1575.0        1573.0   \n",
       "3   40       1586.0               1586.0        1586.0   \n",
       "4  all       6231.0               6231.0        6223.0   \n",
       "\n",
       "   unrecognized_and_misclassified  unrecognized_and_classified       NPR  NPV   \n",
       "0                          1572.0                          0.0  0.999364  1.0  \\\n",
       "1                          1492.0                          0.0  0.996660  1.0   \n",
       "2                          1573.0                          0.0  0.998730  1.0   \n",
       "3                          1586.0                          0.0  1.000000  1.0   \n",
       "4                          6223.0                          0.0  0.998716  1.0   \n",
       "\n",
       "   specificity  eta subset_name  num_neurons  \n",
       "0     0.999364    0        None         50.0  \n",
       "1     0.996660    0        None         50.0  \n",
       "2     0.998730    0        None         50.0  \n",
       "3     1.000000    0        None         50.0  \n",
       "4     0.998716    0        None         50.0  "
      ]
     },
     "execution_count": 88,
     "metadata": {},
     "output_type": "execute_result"
    }
   ],
   "source": [
    "df_eval_scores"
   ]
  },
  {
   "cell_type": "code",
   "execution_count": null,
   "metadata": {},
   "outputs": [],
   "source": []
  },
  {
   "cell_type": "code",
   "execution_count": null,
   "metadata": {},
   "outputs": [],
   "source": []
  },
  {
   "cell_type": "code",
   "execution_count": null,
   "metadata": {},
   "outputs": [],
   "source": []
  }
 ],
 "metadata": {
  "accelerator": "GPU",
  "colab": {
   "collapsed_sections": [
    "mcDeYOA8d1wL"
   ],
   "provenance": []
  },
  "gpuClass": "standard",
  "kernelspec": {
   "display_name": "Python 3 (ipykernel)",
   "language": "python",
   "name": "python3"
  },
  "language_info": {
   "codemirror_mode": {
    "name": "ipython",
    "version": 3
   },
   "file_extension": ".py",
   "mimetype": "text/x-python",
   "name": "python",
   "nbconvert_exporter": "python",
   "pygments_lexer": "ipython3",
   "version": "3.10.12"
  },
  "vscode": {
   "interpreter": {
    "hash": "2b89e4666a1b1f5f90ada5928a1b04d9ad859bf674b23c56e0417352230a6456"
   }
  }
 },
 "nbformat": 4,
 "nbformat_minor": 4
}
