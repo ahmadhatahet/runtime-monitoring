{
 "cells": [
  {
   "cell_type": "markdown",
   "metadata": {},
   "source": [
    "# Setup Variables"
   ]
  },
  {
   "cell_type": "markdown",
   "metadata": {},
   "source": [
    "MNIST, FashionMNIST, GTSRB, Cifar10"
   ]
  },
  {
   "cell_type": "code",
   "execution_count": 12,
   "metadata": {},
   "outputs": [],
   "source": [
    "DATASET = 'FashionMNIST'\n",
    "POSTFIX = 'Adam-32-30'\n",
    "FILENAME_POSTFIX = f'{DATASET}_{POSTFIX}'\n",
    "SEED = 42\n",
    "CUDA = 0\n",
    "GPU_NAME = f'cuda:{CUDA}'"
   ]
  },
  {
   "cell_type": "code",
   "execution_count": 2,
   "metadata": {},
   "outputs": [
    {
     "data": {
      "text/plain": [
       "PosixPath('/home/ah19/runtime-monitoring')"
      ]
     },
     "execution_count": 2,
     "metadata": {},
     "output_type": "execute_result"
    }
   ],
   "source": [
    "import os\n",
    "from pathlib import Path\n",
    "\n",
    "base = Path().cwd()\n",
    "\n",
    "if base.name != 'runtime-monitoring':\n",
    "    os.chdir('../')\n",
    "    base = Path().cwd()\n",
    "\n",
    "base"
   ]
  },
  {
   "cell_type": "markdown",
   "metadata": {},
   "source": [
    "# Libraries"
   ]
  },
  {
   "cell_type": "code",
   "execution_count": 3,
   "metadata": {
    "id": "FLmxFGnxg6ZG"
   },
   "outputs": [],
   "source": [
    "import pandas as pd\n",
    "import numpy as np\n",
    "from pathlib import Path\n",
    "\n",
    "from utilities.utils import load_json, load_pickle\n",
    "from utilities.pathManager import fetchPaths\n",
    "from utilities.MonitorUnifiedBDD import MonitorBDD"
   ]
  },
  {
   "cell_type": "markdown",
   "metadata": {},
   "source": [
    "# Paths"
   ]
  },
  {
   "cell_type": "code",
   "execution_count": 17,
   "metadata": {},
   "outputs": [],
   "source": [
    "paths = fetchPaths(base, DATASET, POSTFIX, False)\n",
    "\n",
    "path_data = paths['data']\n",
    "path_lhl = paths['lhl']\n",
    "path_lhl_raw = paths['lhl_raw']\n",
    "path_lhl_pca = paths['lhl_pca']\n",
    "\n",
    "# configs = load_json(paths['configuration'])\n",
    "# config = configs['configuration']\n",
    "# model_setup = configs['model_setup']\n",
    "# model_config = configs['model_config']\n",
    "# optim_name = list(config['optimizer'].keys())[0]\n",
    "# optim_args = config['optimizer'][optim_name]\n",
    "# scheduler_name = list(config['scheduler'].keys())[0]\n",
    "# scheduler_args = config['scheduler'][scheduler_name]"
   ]
  },
  {
   "cell_type": "markdown",
   "metadata": {
    "id": "h7eERD3yVH2H"
   },
   "source": [
    "# Seed"
   ]
  },
  {
   "cell_type": "code",
   "execution_count": 11,
   "metadata": {
    "id": "CS9DVaKDi_2C"
   },
   "outputs": [],
   "source": [
    "np.random.seed(SEED)"
   ]
  },
  {
   "cell_type": "markdown",
   "metadata": {
    "id": "h7eERD3yVH2H"
   },
   "source": [
    "# Import Data"
   ]
  },
  {
   "cell_type": "code",
   "execution_count": 95,
   "metadata": {},
   "outputs": [],
   "source": [
    "FLAVOR = 'raw'\n",
    "\n",
    "if FLAVOR == 'raw':\n",
    "    path_lhl = path_lhl_raw\n",
    "else: path_lhl = path_lhl_pca\n",
    "\n",
    "# import Data\n",
    "df_train = pd.read_csv(path_lhl / f\"{FILENAME_POSTFIX}_{FLAVOR}_train.csv\")\n",
    "\n",
    "# select only true classified\n",
    "df_true = df_train[df_train[\"true\"] == True].copy()\n",
    "df_true = df_true.drop(\"true\", axis=1).reset_index(drop=True)\n",
    "\n",
    "df_test = pd.read_csv(path_lhl / f\"{FILENAME_POSTFIX}_{FLAVOR}_test.csv\")"
   ]
  },
  {
   "cell_type": "markdown",
   "metadata": {},
   "source": [
    "# Shuffel and Split indecies"
   ]
  },
  {
   "cell_type": "code",
   "execution_count": 96,
   "metadata": {},
   "outputs": [
    {
     "data": {
      "text/plain": [
       "((57143,), (57143,))"
      ]
     },
     "execution_count": 96,
     "metadata": {},
     "output_type": "execute_result"
    }
   ],
   "source": [
    "periods = 5\n",
    "\n",
    "schuffled_index = df_true.index.to_numpy().copy()\n",
    "np.random.shuffle(schuffled_index)\n",
    "fragments_index = np.array_split(schuffled_index, periods)\n",
    "\n",
    "schuffled_index.shape, np.concatenate(fragments_index).shape"
   ]
  },
  {
   "cell_type": "markdown",
   "metadata": {},
   "source": [
    "# Build BDD"
   ]
  },
  {
   "cell_type": "code",
   "execution_count": 97,
   "metadata": {},
   "outputs": [
    {
     "name": "stderr",
     "output_type": "stream",
     "text": [
      "/home/ah19/runtime-monitoring/utilities/MonitorUnifiedBDD.py:154: UserWarning: Changed in `dd` version 0.5.7: In the `dict` returned by the method `dd.cudd.BDD.statistics`, the value of the key `'mem'` has changed to bytes (from 10**6 bytes).\n",
      "  bdd_stats = self.bdd.statistics()\n",
      "/home/ah19/runtime-monitoring/utilities/MonitorUnifiedBDD.py:154: UserWarning: Changed in `dd` version 0.5.7: In the `dict` returned by the method `dd.cudd.BDD.statistics`, the value of the key `'mem'` has changed to bytes (from 10**6 bytes).\n",
      "  bdd_stats = self.bdd.statistics()\n",
      "/home/ah19/runtime-monitoring/utilities/MonitorUnifiedBDD.py:154: UserWarning: Changed in `dd` version 0.5.7: In the `dict` returned by the method `dd.cudd.BDD.statistics`, the value of the key `'mem'` has changed to bytes (from 10**6 bytes).\n",
      "  bdd_stats = self.bdd.statistics()\n",
      "/home/ah19/runtime-monitoring/utilities/MonitorUnifiedBDD.py:154: UserWarning: Changed in `dd` version 0.5.7: In the `dict` returned by the method `dd.cudd.BDD.statistics`, the value of the key `'mem'` has changed to bytes (from 10**6 bytes).\n",
      "  bdd_stats = self.bdd.statistics()\n",
      "/home/ah19/runtime-monitoring/utilities/MonitorUnifiedBDD.py:154: UserWarning: Changed in `dd` version 0.5.7: In the `dict` returned by the method `dd.cudd.BDD.statistics`, the value of the key `'mem'` has changed to bytes (from 10**6 bytes).\n",
      "  bdd_stats = self.bdd.statistics()\n"
     ]
    }
   ],
   "source": [
    "# each set of data has its own threshold\n",
    "thld_p = 0.9\n",
    "eta = 0\n",
    "neurons = []\n",
    "\n",
    "\n",
    "# save scores and stats\n",
    "stats = pd.DataFrame()\n",
    "train_scores = pd.DataFrame()\n",
    "test_scores = pd.DataFrame()\n",
    "\n",
    "# buidl for each fragment\n",
    "for fragment in range(1, len(fragments_index)+1):\n",
    "    # calculate threshold\n",
    "    thld = np.quantile( df_true.drop('y', axis=1), thld_p)\n",
    "    \n",
    "    # indecies\n",
    "    ix = np.concatenate(fragments_index[:fragment])\n",
    "    \n",
    "    # BDD\n",
    "    patterns = MonitorBDD( df_true.shape[1]-1, thld, neurons=neurons)\n",
    "    df_train_copy, df_test_copy = patterns.add_dataframe( df_true.loc[ix], eta, eval_dfs=[df_train.copy(), df_test.copy()] )\n",
    "    \n",
    "    # score\n",
    "    df_train_scores = patterns.score_dataframe_multi_eta(df_train_copy, eta)\n",
    "    df_test_scores = patterns.score_dataframe_multi_eta(df_test_copy, eta)\n",
    "    \n",
    "    # add metadata\n",
    "    patterns.stats['thld'] = f'qth_{thld_p}'\n",
    "    patterns.stats['period'] = fragment\n",
    "    patterns.stats['num_observations'] = ix.shape[0]\n",
    "    df_train_scores['period'] = fragment\n",
    "    df_train_scores['num_observations'] = ix.shape[0]\n",
    "    df_test_scores['period'] = fragment\n",
    "    df_test_scores['num_observations'] = ix.shape[0]\n",
    "    \n",
    "    \n",
    "    # collect scores\n",
    "    stats = pd.concat([stats, patterns.stats])\n",
    "    train_scores = pd.concat([train_scores, df_train_scores])\n",
    "    test_scores = pd.concat([test_scores, df_test_scores])"
   ]
  },
  {
   "cell_type": "code",
   "execution_count": 98,
   "metadata": {},
   "outputs": [
    {
     "data": {
      "text/html": [
       "<div>\n",
       "<style scoped>\n",
       "    .dataframe tbody tr th:only-of-type {\n",
       "        vertical-align: middle;\n",
       "    }\n",
       "\n",
       "    .dataframe tbody tr th {\n",
       "        vertical-align: top;\n",
       "    }\n",
       "\n",
       "    .dataframe thead th {\n",
       "        text-align: right;\n",
       "    }\n",
       "</style>\n",
       "<table border=\"1\" class=\"dataframe\">\n",
       "  <thead>\n",
       "    <tr style=\"text-align: right;\">\n",
       "      <th></th>\n",
       "      <th>thld</th>\n",
       "      <th>eta</th>\n",
       "      <th>build_time</th>\n",
       "      <th>size_mb</th>\n",
       "      <th>reorder_time</th>\n",
       "      <th>num_reorder</th>\n",
       "      <th>num_neurons</th>\n",
       "      <th>start_time</th>\n",
       "      <th>end_time</th>\n",
       "      <th>period</th>\n",
       "      <th>num_observations</th>\n",
       "    </tr>\n",
       "  </thead>\n",
       "  <tbody>\n",
       "    <tr>\n",
       "      <th>1</th>\n",
       "      <td>qth_0.9</td>\n",
       "      <td>0.0</td>\n",
       "      <td>0.006</td>\n",
       "      <td>4304.498</td>\n",
       "      <td>0.0</td>\n",
       "      <td>0.0</td>\n",
       "      <td>30.0</td>\n",
       "      <td>2023-06-01 14:22:29</td>\n",
       "      <td>2023-06-01 14:22:29</td>\n",
       "      <td>1</td>\n",
       "      <td>11429</td>\n",
       "    </tr>\n",
       "    <tr>\n",
       "      <th>1</th>\n",
       "      <td>qth_0.9</td>\n",
       "      <td>0.0</td>\n",
       "      <td>0.013</td>\n",
       "      <td>4304.498</td>\n",
       "      <td>0.0</td>\n",
       "      <td>0.0</td>\n",
       "      <td>30.0</td>\n",
       "      <td>2023-06-01 14:22:34</td>\n",
       "      <td>2023-06-01 14:22:34</td>\n",
       "      <td>2</td>\n",
       "      <td>22858</td>\n",
       "    </tr>\n",
       "    <tr>\n",
       "      <th>1</th>\n",
       "      <td>qth_0.9</td>\n",
       "      <td>0.0</td>\n",
       "      <td>0.018</td>\n",
       "      <td>4304.498</td>\n",
       "      <td>0.0</td>\n",
       "      <td>0.0</td>\n",
       "      <td>30.0</td>\n",
       "      <td>2023-06-01 14:22:39</td>\n",
       "      <td>2023-06-01 14:22:40</td>\n",
       "      <td>3</td>\n",
       "      <td>34287</td>\n",
       "    </tr>\n",
       "    <tr>\n",
       "      <th>1</th>\n",
       "      <td>qth_0.9</td>\n",
       "      <td>0.0</td>\n",
       "      <td>0.023</td>\n",
       "      <td>4304.635</td>\n",
       "      <td>0.0</td>\n",
       "      <td>0.0</td>\n",
       "      <td>30.0</td>\n",
       "      <td>2023-06-01 14:22:44</td>\n",
       "      <td>2023-06-01 14:22:46</td>\n",
       "      <td>4</td>\n",
       "      <td>45715</td>\n",
       "    </tr>\n",
       "    <tr>\n",
       "      <th>1</th>\n",
       "      <td>qth_0.9</td>\n",
       "      <td>0.0</td>\n",
       "      <td>0.030</td>\n",
       "      <td>4304.637</td>\n",
       "      <td>0.0</td>\n",
       "      <td>0.0</td>\n",
       "      <td>30.0</td>\n",
       "      <td>2023-06-01 14:22:50</td>\n",
       "      <td>2023-06-01 14:22:52</td>\n",
       "      <td>5</td>\n",
       "      <td>57143</td>\n",
       "    </tr>\n",
       "  </tbody>\n",
       "</table>\n",
       "</div>"
      ],
      "text/plain": [
       "      thld  eta  build_time   size_mb  reorder_time  num_reorder  num_neurons   \n",
       "1  qth_0.9  0.0       0.006  4304.498           0.0          0.0         30.0  \\\n",
       "1  qth_0.9  0.0       0.013  4304.498           0.0          0.0         30.0   \n",
       "1  qth_0.9  0.0       0.018  4304.498           0.0          0.0         30.0   \n",
       "1  qth_0.9  0.0       0.023  4304.635           0.0          0.0         30.0   \n",
       "1  qth_0.9  0.0       0.030  4304.637           0.0          0.0         30.0   \n",
       "\n",
       "            start_time             end_time  period  num_observations  \n",
       "1  2023-06-01 14:22:29  2023-06-01 14:22:29       1             11429  \n",
       "1  2023-06-01 14:22:34  2023-06-01 14:22:34       2             22858  \n",
       "1  2023-06-01 14:22:39  2023-06-01 14:22:40       3             34287  \n",
       "1  2023-06-01 14:22:44  2023-06-01 14:22:46       4             45715  \n",
       "1  2023-06-01 14:22:50  2023-06-01 14:22:52       5             57143  "
      ]
     },
     "execution_count": 98,
     "metadata": {},
     "output_type": "execute_result"
    }
   ],
   "source": [
    "stats"
   ]
  },
  {
   "cell_type": "code",
   "execution_count": 99,
   "metadata": {},
   "outputs": [
    {
     "data": {
      "text/html": [
       "<div>\n",
       "<style scoped>\n",
       "    .dataframe tbody tr th:only-of-type {\n",
       "        vertical-align: middle;\n",
       "    }\n",
       "\n",
       "    .dataframe tbody tr th {\n",
       "        vertical-align: top;\n",
       "    }\n",
       "\n",
       "    .dataframe thead th {\n",
       "        text-align: right;\n",
       "    }\n",
       "</style>\n",
       "<table border=\"1\" class=\"dataframe\">\n",
       "  <thead>\n",
       "    <tr style=\"text-align: right;\">\n",
       "      <th></th>\n",
       "      <th>y</th>\n",
       "      <th>count</th>\n",
       "      <th>false</th>\n",
       "      <th>false_misclassified</th>\n",
       "      <th>false_classified</th>\n",
       "      <th>outOfPattern</th>\n",
       "      <th>outOfPatternMisclassified</th>\n",
       "      <th>outOfPatternClassified</th>\n",
       "      <th>eta</th>\n",
       "      <th>period</th>\n",
       "      <th>num_observations</th>\n",
       "    </tr>\n",
       "  </thead>\n",
       "  <tbody>\n",
       "    <tr>\n",
       "      <th>10</th>\n",
       "      <td>all</td>\n",
       "      <td>60000.0</td>\n",
       "      <td>1745.0</td>\n",
       "      <td>48.0</td>\n",
       "      <td>1697.0</td>\n",
       "      <td>0.029083</td>\n",
       "      <td>0.027507</td>\n",
       "      <td>0.972493</td>\n",
       "      <td>0</td>\n",
       "      <td>1</td>\n",
       "      <td>11429</td>\n",
       "    </tr>\n",
       "    <tr>\n",
       "      <th>10</th>\n",
       "      <td>all</td>\n",
       "      <td>60000.0</td>\n",
       "      <td>850.0</td>\n",
       "      <td>33.0</td>\n",
       "      <td>817.0</td>\n",
       "      <td>0.014167</td>\n",
       "      <td>0.038824</td>\n",
       "      <td>0.961176</td>\n",
       "      <td>0</td>\n",
       "      <td>2</td>\n",
       "      <td>22858</td>\n",
       "    </tr>\n",
       "    <tr>\n",
       "      <th>10</th>\n",
       "      <td>all</td>\n",
       "      <td>60000.0</td>\n",
       "      <td>413.0</td>\n",
       "      <td>29.0</td>\n",
       "      <td>384.0</td>\n",
       "      <td>0.006883</td>\n",
       "      <td>0.070218</td>\n",
       "      <td>0.929782</td>\n",
       "      <td>0</td>\n",
       "      <td>3</td>\n",
       "      <td>34287</td>\n",
       "    </tr>\n",
       "    <tr>\n",
       "      <th>10</th>\n",
       "      <td>all</td>\n",
       "      <td>60000.0</td>\n",
       "      <td>182.0</td>\n",
       "      <td>25.0</td>\n",
       "      <td>157.0</td>\n",
       "      <td>0.003033</td>\n",
       "      <td>0.137363</td>\n",
       "      <td>0.862637</td>\n",
       "      <td>0</td>\n",
       "      <td>4</td>\n",
       "      <td>45715</td>\n",
       "    </tr>\n",
       "    <tr>\n",
       "      <th>10</th>\n",
       "      <td>all</td>\n",
       "      <td>60000.0</td>\n",
       "      <td>19.0</td>\n",
       "      <td>19.0</td>\n",
       "      <td>0.0</td>\n",
       "      <td>0.000317</td>\n",
       "      <td>1.000000</td>\n",
       "      <td>0.000000</td>\n",
       "      <td>0</td>\n",
       "      <td>5</td>\n",
       "      <td>57143</td>\n",
       "    </tr>\n",
       "  </tbody>\n",
       "</table>\n",
       "</div>"
      ],
      "text/plain": [
       "      y    count   false  false_misclassified  false_classified  outOfPattern   \n",
       "10  all  60000.0  1745.0                 48.0            1697.0      0.029083  \\\n",
       "10  all  60000.0   850.0                 33.0             817.0      0.014167   \n",
       "10  all  60000.0   413.0                 29.0             384.0      0.006883   \n",
       "10  all  60000.0   182.0                 25.0             157.0      0.003033   \n",
       "10  all  60000.0    19.0                 19.0               0.0      0.000317   \n",
       "\n",
       "    outOfPatternMisclassified  outOfPatternClassified  eta  period   \n",
       "10                   0.027507                0.972493    0       1  \\\n",
       "10                   0.038824                0.961176    0       2   \n",
       "10                   0.070218                0.929782    0       3   \n",
       "10                   0.137363                0.862637    0       4   \n",
       "10                   1.000000                0.000000    0       5   \n",
       "\n",
       "    num_observations  \n",
       "10             11429  \n",
       "10             22858  \n",
       "10             34287  \n",
       "10             45715  \n",
       "10             57143  "
      ]
     },
     "execution_count": 99,
     "metadata": {},
     "output_type": "execute_result"
    }
   ],
   "source": [
    "train_scores.loc[ train_scores['y']== 'all']"
   ]
  },
  {
   "cell_type": "code",
   "execution_count": 100,
   "metadata": {},
   "outputs": [
    {
     "data": {
      "text/html": [
       "<div>\n",
       "<style scoped>\n",
       "    .dataframe tbody tr th:only-of-type {\n",
       "        vertical-align: middle;\n",
       "    }\n",
       "\n",
       "    .dataframe tbody tr th {\n",
       "        vertical-align: top;\n",
       "    }\n",
       "\n",
       "    .dataframe thead th {\n",
       "        text-align: right;\n",
       "    }\n",
       "</style>\n",
       "<table border=\"1\" class=\"dataframe\">\n",
       "  <thead>\n",
       "    <tr style=\"text-align: right;\">\n",
       "      <th></th>\n",
       "      <th>y</th>\n",
       "      <th>count</th>\n",
       "      <th>false</th>\n",
       "      <th>false_misclassified</th>\n",
       "      <th>false_classified</th>\n",
       "      <th>outOfPattern</th>\n",
       "      <th>outOfPatternMisclassified</th>\n",
       "      <th>outOfPatternClassified</th>\n",
       "      <th>eta</th>\n",
       "      <th>period</th>\n",
       "      <th>num_observations</th>\n",
       "    </tr>\n",
       "  </thead>\n",
       "  <tbody>\n",
       "    <tr>\n",
       "      <th>10</th>\n",
       "      <td>all</td>\n",
       "      <td>10000.0</td>\n",
       "      <td>333.0</td>\n",
       "      <td>14.0</td>\n",
       "      <td>319.0</td>\n",
       "      <td>0.0333</td>\n",
       "      <td>0.042042</td>\n",
       "      <td>0.957958</td>\n",
       "      <td>0</td>\n",
       "      <td>1</td>\n",
       "      <td>11429</td>\n",
       "    </tr>\n",
       "    <tr>\n",
       "      <th>10</th>\n",
       "      <td>all</td>\n",
       "      <td>10000.0</td>\n",
       "      <td>214.0</td>\n",
       "      <td>10.0</td>\n",
       "      <td>204.0</td>\n",
       "      <td>0.0214</td>\n",
       "      <td>0.046729</td>\n",
       "      <td>0.953271</td>\n",
       "      <td>0</td>\n",
       "      <td>2</td>\n",
       "      <td>22858</td>\n",
       "    </tr>\n",
       "    <tr>\n",
       "      <th>10</th>\n",
       "      <td>all</td>\n",
       "      <td>10000.0</td>\n",
       "      <td>148.0</td>\n",
       "      <td>4.0</td>\n",
       "      <td>144.0</td>\n",
       "      <td>0.0148</td>\n",
       "      <td>0.027027</td>\n",
       "      <td>0.972973</td>\n",
       "      <td>0</td>\n",
       "      <td>3</td>\n",
       "      <td>34287</td>\n",
       "    </tr>\n",
       "    <tr>\n",
       "      <th>10</th>\n",
       "      <td>all</td>\n",
       "      <td>10000.0</td>\n",
       "      <td>118.0</td>\n",
       "      <td>4.0</td>\n",
       "      <td>114.0</td>\n",
       "      <td>0.0118</td>\n",
       "      <td>0.033898</td>\n",
       "      <td>0.966102</td>\n",
       "      <td>0</td>\n",
       "      <td>4</td>\n",
       "      <td>45715</td>\n",
       "    </tr>\n",
       "    <tr>\n",
       "      <th>10</th>\n",
       "      <td>all</td>\n",
       "      <td>10000.0</td>\n",
       "      <td>91.0</td>\n",
       "      <td>1.0</td>\n",
       "      <td>90.0</td>\n",
       "      <td>0.0091</td>\n",
       "      <td>0.010989</td>\n",
       "      <td>0.989011</td>\n",
       "      <td>0</td>\n",
       "      <td>5</td>\n",
       "      <td>57143</td>\n",
       "    </tr>\n",
       "  </tbody>\n",
       "</table>\n",
       "</div>"
      ],
      "text/plain": [
       "      y    count  false  false_misclassified  false_classified  outOfPattern   \n",
       "10  all  10000.0  333.0                 14.0             319.0        0.0333  \\\n",
       "10  all  10000.0  214.0                 10.0             204.0        0.0214   \n",
       "10  all  10000.0  148.0                  4.0             144.0        0.0148   \n",
       "10  all  10000.0  118.0                  4.0             114.0        0.0118   \n",
       "10  all  10000.0   91.0                  1.0              90.0        0.0091   \n",
       "\n",
       "    outOfPatternMisclassified  outOfPatternClassified  eta  period   \n",
       "10                   0.042042                0.957958    0       1  \\\n",
       "10                   0.046729                0.953271    0       2   \n",
       "10                   0.027027                0.972973    0       3   \n",
       "10                   0.033898                0.966102    0       4   \n",
       "10                   0.010989                0.989011    0       5   \n",
       "\n",
       "    num_observations  \n",
       "10             11429  \n",
       "10             22858  \n",
       "10             34287  \n",
       "10             45715  \n",
       "10             57143  "
      ]
     },
     "execution_count": 100,
     "metadata": {},
     "output_type": "execute_result"
    }
   ],
   "source": [
    "test_scores.loc[ test_scores['y']== 'all']"
   ]
  },
  {
   "cell_type": "code",
   "execution_count": null,
   "metadata": {},
   "outputs": [],
   "source": []
  },
  {
   "cell_type": "code",
   "execution_count": null,
   "metadata": {},
   "outputs": [],
   "source": []
  },
  {
   "cell_type": "code",
   "execution_count": null,
   "metadata": {},
   "outputs": [],
   "source": []
  },
  {
   "cell_type": "code",
   "execution_count": null,
   "metadata": {},
   "outputs": [],
   "source": []
  },
  {
   "cell_type": "code",
   "execution_count": null,
   "metadata": {},
   "outputs": [],
   "source": []
  }
 ],
 "metadata": {
  "accelerator": "GPU",
  "colab": {
   "collapsed_sections": [
    "mcDeYOA8d1wL"
   ],
   "provenance": []
  },
  "gpuClass": "standard",
  "kernelspec": {
   "display_name": "Python 3 (ipykernel)",
   "language": "python",
   "name": "python3"
  },
  "language_info": {
   "codemirror_mode": {
    "name": "ipython",
    "version": 3
   },
   "file_extension": ".py",
   "mimetype": "text/x-python",
   "name": "python",
   "nbconvert_exporter": "python",
   "pygments_lexer": "ipython3",
   "version": "3.10.11"
  },
  "vscode": {
   "interpreter": {
    "hash": "2b89e4666a1b1f5f90ada5928a1b04d9ad859bf674b23c56e0417352230a6456"
   }
  }
 },
 "nbformat": 4,
 "nbformat_minor": 1
}
