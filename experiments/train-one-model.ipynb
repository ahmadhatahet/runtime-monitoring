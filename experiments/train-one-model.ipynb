{
 "cells": [
  {
   "cell_type": "markdown",
   "metadata": {},
   "source": [
    "**Model Source:**<br />\n",
    "https://github.com/kuangliu/pytorch-cifar/blob/49b7aa97b0c12fe0d4054e670403a16b6b834ddd/models/dla_simple.py"
   ]
  },
  {
   "cell_type": "markdown",
   "metadata": {},
   "source": [
    "# Setup Variables"
   ]
  },
  {
   "cell_type": "markdown",
   "metadata": {},
   "source": [
    "MNIST, FashionMNIST, GTSRB, Cifar10"
   ]
  },
  {
   "cell_type": "code",
   "execution_count": 34,
   "metadata": {},
   "outputs": [],
   "source": [
    "DATASET = 'GTSRB'\n",
    "SEED = 42\n",
    "CUDA = 0\n",
    "GPU_NAME = f'cuda:{CUDA}'"
   ]
  },
  {
   "cell_type": "code",
   "execution_count": 35,
   "metadata": {},
   "outputs": [
    {
     "data": {
      "text/plain": [
       "PosixPath('/home/ah19/runtime-monitoring')"
      ]
     },
     "execution_count": 35,
     "metadata": {},
     "output_type": "execute_result"
    }
   ],
   "source": [
    "import os\n",
    "from pathlib import Path\n",
    "\n",
    "base = Path().cwd()\n",
    "\n",
    "if base.name != 'runtime-monitoring':\n",
    "    os.chdir('../')\n",
    "    base = Path().cwd()\n",
    "\n",
    "base"
   ]
  },
  {
   "cell_type": "markdown",
   "metadata": {},
   "source": [
    "# Libraries"
   ]
  },
  {
   "cell_type": "code",
   "execution_count": 36,
   "metadata": {
    "id": "FLmxFGnxg6ZG"
   },
   "outputs": [],
   "source": [
    "import matplotlib.pyplot as plt\n",
    "import numpy as np\n",
    "import pandas as pd\n",
    "import json\n",
    "from fastprogress import progress_bar, master_bar\n",
    "\n",
    "import torch\n",
    "import torchvision\n",
    "import torch.nn as nn\n",
    "import torch.backends.cudnn as cudnn\n",
    "import torch.nn.functional as F\n",
    "from torchinfo import summary\n",
    "\n",
    "\n",
    "cudnn.benchmark = True\n",
    "torch.set_float32_matmul_precision('high')"
   ]
  },
  {
   "cell_type": "code",
   "execution_count": 37,
   "metadata": {},
   "outputs": [],
   "source": [
    "from utilities.utils import *\n",
    "from utilities.pathManager import fetchPaths\n",
    "from utilities.scaleFunctions import *\n",
    "from utilities.pcaFunctions import *"
   ]
  },
  {
   "cell_type": "code",
   "execution_count": 38,
   "metadata": {},
   "outputs": [],
   "source": [
    "# disable warnings\n",
    "import warnings\n",
    "warnings.filterwarnings('ignore')"
   ]
  },
  {
   "cell_type": "markdown",
   "metadata": {},
   "source": [
    "# Paths"
   ]
  },
  {
   "cell_type": "code",
   "execution_count": 39,
   "metadata": {},
   "outputs": [],
   "source": [
    "paths = fetchPaths(base, DATASET, '', False)\n",
    "path_data = paths['data']"
   ]
  },
  {
   "cell_type": "markdown",
   "metadata": {
    "id": "h7eERD3yVH2H"
   },
   "source": [
    "# GPU Device & Seed"
   ]
  },
  {
   "cell_type": "code",
   "execution_count": 40,
   "metadata": {
    "id": "CS9DVaKDi_2C"
   },
   "outputs": [],
   "source": [
    "np.random.seed(SEED)\n",
    "torch.manual_seed(SEED)\n",
    "torch.cuda.manual_seed(SEED)"
   ]
  },
  {
   "cell_type": "code",
   "execution_count": 41,
   "metadata": {
    "colab": {
     "base_uri": "https://localhost:8080/"
    },
    "id": "5jRXv8RAhzqa",
    "outputId": "d8ccff46-cebe-4890-ab1c-5b498a395e64"
   },
   "outputs": [
    {
     "data": {
      "text/plain": [
       "'NVIDIA A100 80GB PCIe'"
      ]
     },
     "execution_count": 41,
     "metadata": {},
     "output_type": "execute_result"
    }
   ],
   "source": [
    "device = get_device(GPU_NAME)\n",
    "torch.cuda.get_device_name(device)"
   ]
  },
  {
   "cell_type": "markdown",
   "metadata": {},
   "source": [
    "## Load model and settings"
   ]
  },
  {
   "cell_type": "code",
   "execution_count": 42,
   "metadata": {},
   "outputs": [],
   "source": [
    "# transformers\n",
    "tf_train = T.Compose([\n",
    "    T.ToTensor(),\n",
    "    T.Normalize((0.3381, 0.3101, 0.3194), (0.1625, 0.1625, 0.1721))\n",
    "])\n",
    "\n",
    "tf_test = T.Compose([\n",
    "    T.ToTensor(),\n",
    "    T.Normalize((0.3381, 0.3101, 0.3194), (0.1625, 0.1625, 0.1721))\n",
    "])"
   ]
  },
  {
   "cell_type": "code",
   "execution_count": 43,
   "metadata": {},
   "outputs": [],
   "source": [
    "class GTSRB_CNN(nn.Module):\n",
    "    def __init__(\n",
    "        self, channels=3, img_dim=30, outneurons=43, last_hidden_neurons=80, first_layer_norm=False,\n",
    "        weight_init='kaiming_uniform', bias=False, dropout=0.0, batchnorm=True\n",
    "    ):\n",
    "\n",
    "        super(GTSRB_CNN, self).__init__()\n",
    "\n",
    "        self.channels = channels\n",
    "        self.img_dim = img_dim\n",
    "        self.in_features = channels * img_dim * img_dim\n",
    "        self.num_classes = outneurons\n",
    "        self.last_hidden_neurons = last_hidden_neurons\n",
    "        self.dropout_p = dropout\n",
    "        self.batchnorm = batchnorm\n",
    "        self.first_layer_norm = first_layer_norm\n",
    "\n",
    "        # uniform(-1/sqrt(in_features), 1/sqrt(in_features))\n",
    "        weights = {\n",
    "            \"normal\": nn.init.normal_,\n",
    "            \"xavier\": nn.init.xavier_normal_,\n",
    "            \"xavier_uniform\": nn.init.xavier_uniform_,\n",
    "            \"kaiming\": nn.init.kaiming_normal_,\n",
    "            \"kaiming_uniform\": nn.init.kaiming_uniform_,\n",
    "        }\n",
    "\n",
    "        self.relu = nn.ReLU()\n",
    "        self.flatten = nn.Flatten()\n",
    "        # scaling data\n",
    "        self.scaleInputs = nn.BatchNorm2d(channels)\n",
    "        self.dropout_l = nn.Dropout(self.dropout_p)\n",
    "        self.pool = nn.MaxPool2d(2, 2)\n",
    "\n",
    "\n",
    "        self.cn1 = nn.Conv2d(channels, 128, 5, bias=bias)\n",
    "        self.bn1 = nn.BatchNorm2d(128)\n",
    "\n",
    "        self.cn2 = nn.Conv2d(128, 128, 3, bias=bias)\n",
    "        self.bn2 = nn.BatchNorm2d(128)\n",
    "\n",
    "        self.cn3 = nn.Conv2d(128, 64, 2, bias=bias)\n",
    "        self.bn3 = nn.BatchNorm2d(64)\n",
    "\n",
    "        self.cn4 = nn.Conv2d(64, 64, 2, bias=bias)\n",
    "        self.bn4 = nn.BatchNorm2d(64)\n",
    "\n",
    "        self.fc5 = nn.Linear(64 * 4 * 4, last_hidden_neurons, bias=bias)\n",
    "        self.bn5 = nn.BatchNorm1d(last_hidden_neurons)\n",
    "\n",
    "        self.output = nn.Linear(last_hidden_neurons, outneurons, bias=bias)\n",
    "\n",
    "\n",
    "        if weight_init:\n",
    "            self.__weight_init(weights[weight_init], bias)\n",
    "\n",
    "\n",
    "    def forward(self, x):\n",
    "\n",
    "        x = self._train(x)\n",
    "        if self.batchnorm: x = self.bn5(x)\n",
    "        x = self.relu(x)\n",
    "        x = self.output(x)\n",
    "\n",
    "        return x\n",
    "\n",
    "\n",
    "    def _train(self, x):\n",
    "\n",
    "        if self.first_layer_norm: x = self.scaleInputs(x)\n",
    "\n",
    "        x = self.pool(self.relu(self.bn1(self.cn1(x))))\n",
    "        x = self.pool(self.relu(self.bn2(self.cn2(x))))\n",
    "\n",
    "        x = self.relu(self.bn3(self.cn3(x)))\n",
    "        x = self.relu(self.bn4(self.cn4(x)))\n",
    "\n",
    "        x = self.flatten(x)\n",
    "        x = self.dropout_l(x)\n",
    "        x = self.fc5(x)\n",
    "\n",
    "        return x\n",
    "\n",
    "    def output_last_layer(self, x):\n",
    "\n",
    "        x = self._train(x)\n",
    "        out = x.clone().detach()\n",
    "        if self.batchnorm: x = self.bn5(x)\n",
    "        x = self.relu(x)\n",
    "        x = self.output(x)\n",
    "\n",
    "        return out, x\n",
    "\n",
    "    def _sum_weights(self):\n",
    "\n",
    "        total_weights = 0\n",
    "        for _, p in self.named_parameters():\n",
    "            total_weights += p.sum()\n",
    "\n",
    "        return total_weights.item()\n",
    "\n",
    "    def _sum_abs_weights(self):\n",
    "\n",
    "        total_weights = 0\n",
    "        for _, p in self.named_parameters():\n",
    "            total_weights += p.abs().sum()\n",
    "\n",
    "        return total_weights.item()\n",
    "\n",
    "    def _l1_regularization(self, alpha=1e-3):\n",
    "\n",
    "        total_weights = 0\n",
    "        for _, p in self.named_parameters():\n",
    "            total_weights += p.abs().sum()\n",
    "\n",
    "        return alpha * total_weights\n",
    "\n",
    "    def _l2_regularization(self, lambd=1e-3):\n",
    "\n",
    "        total_weights = 0\n",
    "        for _, p in self.named_parameters():\n",
    "            total_weights += p.pow(2).sum()\n",
    "\n",
    "        return lambd * total_weights\n",
    "\n",
    "    def _elastic_regularization(self, lambd=1e-3, alpha=1e-3):\n",
    "        return self._l2_regularization(lambd) + self._l1_regularization(alpha)\n",
    "\n",
    "    def __weight_init(self, fn, bias):\n",
    "\n",
    "        for m in self.modules():\n",
    "\n",
    "            if (\n",
    "                isinstance(m, nn.Linear)\n",
    "                or isinstance(m, nn.Conv2d)\n",
    "                or isinstance(m, nn.Conv1d)\n",
    "               ):\n",
    "                fn(m.weight)\n",
    "\n",
    "                if bias:\n",
    "                    nn.init.constant_(m.bias, 0)\n",
    "\n",
    "            if isinstance(m, nn.BatchNorm1d) or isinstance(m, nn.BatchNorm2d):\n",
    "                nn.init.constant_(m.weight, 1)\n",
    "                nn.init.constant_(m.bias, 0)"
   ]
  },
  {
   "cell_type": "markdown",
   "metadata": {},
   "source": [
    "### Configurations"
   ]
  },
  {
   "cell_type": "code",
   "execution_count": 44,
   "metadata": {},
   "outputs": [],
   "source": [
    "model_ = GTSRB_CNN\n",
    "\n",
    "lhl = 30\n",
    "\n",
    "model_setup = {\n",
    "    \"batchnorm\": 1,\n",
    "    \"dropout\": 0.25\n",
    "}\n",
    "\n",
    "model_config= {\n",
    "    \"batch_size\": 32,\n",
    "    \"lr\": 0.01,\n",
    "    \"epochs\": 30,\n",
    "    \"patience\": 4,\n",
    "    \"L2\": 1e-5,\n",
    "    \"L1\": 1e-5\n",
    "}"
   ]
  },
  {
   "cell_type": "markdown",
   "metadata": {
    "id": "h7eERD3yVH2H"
   },
   "source": [
    "# Load / Split / DataLoader"
   ]
  },
  {
   "cell_type": "code",
   "execution_count": 59,
   "metadata": {},
   "outputs": [
    {
     "data": {
      "text/plain": [
       "(42495, 4223)"
      ]
     },
     "execution_count": 59,
     "metadata": {},
     "output_type": "execute_result"
    }
   ],
   "source": [
    "feature_names = get_labels(DATASET)\n",
    "\n",
    "train_data = get_dataset(DATASET, path_data, train=True, transform=tf_train)\n",
    "test_data = get_dataset(DATASET, path_data, train=False, transform=tf_test)\n",
    "len(train_data), len(test_data)"
   ]
  },
  {
   "cell_type": "code",
   "execution_count": 60,
   "metadata": {
    "id": "94CFn70JlO-P"
   },
   "outputs": [],
   "source": [
    "trainloader = get_dataLoader(train_data, model_config['batch_size'], True)\n",
    "testloader = get_dataLoader(test_data, model_config['batch_size'], False)"
   ]
  },
  {
   "cell_type": "code",
   "execution_count": 61,
   "metadata": {},
   "outputs": [],
   "source": [
    "tf_denormalize = T.Normalize(\n",
    "    mean=[-m / s for m, s in zip(tf_train.transforms[-1].mean, tf_train.transforms[-1].std)],\n",
    "    std=[1/s for s in tf_train.transforms[-1].std]\n",
    ")"
   ]
  },
  {
   "cell_type": "code",
   "execution_count": 62,
   "metadata": {
    "scrolled": false
   },
   "outputs": [
    {
     "name": "stderr",
     "output_type": "stream",
     "text": [
      "Clipping input data to the valid range for imshow with RGB data ([0..1] for floats or [0..255] for integers).\n",
      "Clipping input data to the valid range for imshow with RGB data ([0..1] for floats or [0..255] for integers).\n",
      "Clipping input data to the valid range for imshow with RGB data ([0..1] for floats or [0..255] for integers).\n",
      "Clipping input data to the valid range for imshow with RGB data ([0..1] for floats or [0..255] for integers).\n",
      "Clipping input data to the valid range for imshow with RGB data ([0..1] for floats or [0..255] for integers).\n",
      "Clipping input data to the valid range for imshow with RGB data ([0..1] for floats or [0..255] for integers).\n",
      "Clipping input data to the valid range for imshow with RGB data ([0..1] for floats or [0..255] for integers).\n"
     ]
    },
    {
     "data": {
      "image/png": "[encoded data removed]",
      "text/plain": [
       "<Figure size 1200x500 with 12 Axes>"
      ]
     },
     "metadata": {},
     "output_type": "display_data"
    }
   ],
   "source": [
    "show_images_loader(trainloader, feature_names=feature_names, transform=tf_denormalize)"
   ]
  },
  {
   "cell_type": "markdown",
   "metadata": {},
   "source": [
    "# Helper Functions"
   ]
  },
  {
   "cell_type": "code",
   "execution_count": 63,
   "metadata": {},
   "outputs": [
    {
     "data": {
      "text/plain": [
       "DataParallel(\n",
       "  (module): OptimizedModule(\n",
       "    (_orig_mod): GTSRB_CNN(\n",
       "      (relu): ReLU()\n",
       "      (flatten): Flatten(start_dim=1, end_dim=-1)\n",
       "      (scaleInputs): BatchNorm2d(3, eps=1e-05, momentum=0.1, affine=True, track_running_stats=True)\n",
       "      (dropout_l): Dropout(p=0.25, inplace=False)\n",
       "      (pool): MaxPool2d(kernel_size=2, stride=2, padding=0, dilation=1, ceil_mode=False)\n",
       "      (cn1): Conv2d(3, 128, kernel_size=(5, 5), stride=(1, 1), bias=False)\n",
       "      (bn1): BatchNorm2d(128, eps=1e-05, momentum=0.1, affine=True, track_running_stats=True)\n",
       "      (cn2): Conv2d(128, 128, kernel_size=(3, 3), stride=(1, 1), bias=False)\n",
       "      (bn2): BatchNorm2d(128, eps=1e-05, momentum=0.1, affine=True, track_running_stats=True)\n",
       "      (cn3): Conv2d(128, 64, kernel_size=(2, 2), stride=(1, 1), bias=False)\n",
       "      (bn3): BatchNorm2d(64, eps=1e-05, momentum=0.1, affine=True, track_running_stats=True)\n",
       "      (cn4): Conv2d(64, 64, kernel_size=(2, 2), stride=(1, 1), bias=False)\n",
       "      (bn4): BatchNorm2d(64, eps=1e-05, momentum=0.1, affine=True, track_running_stats=True)\n",
       "      (fc5): Linear(in_features=1024, out_features=30, bias=False)\n",
       "      (bn5): BatchNorm1d(30, eps=1e-05, momentum=0.1, affine=True, track_running_stats=True)\n",
       "      (output): Linear(in_features=30, out_features=43, bias=False)\n",
       "    )\n",
       "  )\n",
       ")"
      ]
     },
     "execution_count": 63,
     "metadata": {},
     "output_type": "execute_result"
    }
   ],
   "source": [
    "model_setup['last_hidden_neurons'] = lhl\n",
    "\n",
    "model = model_(**model_setup).to(device)\n",
    "model = torch.compile(model)\n",
    "nn.DataParallel(model, device_ids=[CUDA])"
   ]
  },
  {
   "cell_type": "code",
   "execution_count": 64,
   "metadata": {},
   "outputs": [],
   "source": [
    "# loss function\n",
    "loss_function = nn.CrossEntropyLoss()\n",
    "\n",
    "optim_name = 'AdamW'\n",
    "optim_args = {}\n",
    "\n",
    "scheduler_name = 'MultiStepLR'\n",
    "scheduler_args = {'milestones': [5, 20, 25]}\n",
    "\n",
    "# optimizer and scheduler\n",
    "optimizer = getattr(torch.optim, optim_name)(model.parameters(), lr=model_config['lr'], **optim_args)\n",
    "scheduler = getattr(torch.optim.lr_scheduler, scheduler_name)(optimizer, **scheduler_args)"
   ]
  },
  {
   "cell_type": "code",
   "execution_count": 65,
   "metadata": {},
   "outputs": [],
   "source": [
    "# training testing attributes\n",
    "kwargs = {\n",
    "    'model': model,\n",
    "    'loss_function': loss_function,\n",
    "    'optimizer': optimizer,\n",
    "    'lr_scheduler': scheduler,\n",
    "    'map_classes': None,\n",
    "    'skip_classes': None,\n",
    "    'device': device,\n",
    "    'model_path': None,\n",
    "    'trainloader': trainloader,\n",
    "    'testloader': testloader,\n",
    "    'config': model_config\n",
    "}"
   ]
  },
  {
   "cell_type": "markdown",
   "metadata": {},
   "source": [
    "## Run Training"
   ]
  },
  {
   "cell_type": "code",
   "execution_count": 66,
   "metadata": {
    "scrolled": false
   },
   "outputs": [
    {
     "data": {
      "text/html": [
       "[Epoch: 00] Loss (1.886 / 0.689) - Accuracy (45.5% / 79.5%)<p>[Epoch: 01] Loss (0.995 / 0.402) - Accuracy (68.9% / 89.4%)<p>[Epoch: 02] Loss (0.817 / 0.442) - Accuracy (74.0% / 86.2%)<p>[Epoch: 03] Loss (0.735 / 0.313) - Accuracy (76.5% / 90.7%)<p>[Epoch: 04] Loss (0.681 / 0.352) - Accuracy (78.1% / 90.1%)<p>[Epoch: 05] Loss (0.423 / 0.210) - Accuracy (86.1% / 94.3%)<p>[Epoch: 06] Loss (0.343 / 0.203) - Accuracy (88.6% / 94.1%)<p>[Epoch: 07] Loss (0.299 / 0.218) - Accuracy (90.2% / 94.3%)<p>[Epoch: 08] Loss (0.267 / 0.225) - Accuracy (91.0% / 93.6%)<p>[Epoch: 09] Loss (0.244 / 0.216) - Accuracy (91.8% / 94.1%)<p>[Epoch: 10] Loss (0.220 / 0.239) - Accuracy (92.6% / 94.0%)<p>[Epoch: 11] Loss (0.202 / 0.222) - Accuracy (93.1% / 94.3%)<p>[Epoch: 12] Loss (0.185 / 0.229) - Accuracy (93.7% / 93.8%)<p>[Epoch: 13] Loss (0.172 / 0.257) - Accuracy (94.1% / 93.6%)<p>[Epoch: 14] Loss (0.160 / 0.246) - Accuracy (94.6% / 94.4%)<p>[Epoch: 15] Loss (0.155 / 0.267) - Accuracy (94.8% / 94.1%)<p>[Epoch: 16] Loss (0.146 / 0.267) - Accuracy (95.0% / 93.9%)<p>[Epoch: 17] Loss (0.142 / 0.292) - Accuracy (95.2% / 93.7%)<p>[Epoch: 18] Loss (0.132 / 0.267) - Accuracy (95.5% / 93.7%)<p>[Epoch: 19] Loss (0.128 / 0.282) - Accuracy (95.7% / 92.9%)<p>[Epoch: 20] Loss (0.097 / 0.284) - Accuracy (96.9% / 94.2%)<p>[Epoch: 21] Loss (0.084 / 0.283) - Accuracy (97.5% / 94.4%)<p>[Epoch: 22] Loss (0.079 / 0.277) - Accuracy (97.7% / 94.4%)<p>[Epoch: 23] Loss (0.073 / 0.290) - Accuracy (97.9% / 94.3%)<p>[Epoch: 24] Loss (0.070 / 0.284) - Accuracy (98.0% / 94.5%)<p>[Epoch: 25] Loss (0.066 / 0.279) - Accuracy (98.1% / 94.5%)<p>[Epoch: 26] Loss (0.065 / 0.283) - Accuracy (98.3% / 94.3%)<p>[Epoch: 27] Loss (0.066 / 0.278) - Accuracy (98.2% / 94.5%)<p>[Epoch: 28] Loss (0.064 / 0.282) - Accuracy (98.2% / 94.5%)<p>[Epoch: 29] Loss (0.064 / 0.278) - Accuracy (98.2% / 94.5%)"
      ],
      "text/plain": [
       "<IPython.core.display.HTML object>"
      ]
     },
     "metadata": {},
     "output_type": "display_data"
    },
    {
     "name": "stderr",
     "output_type": "stream",
     "text": [
      "[2023-07-13 16:40:27,947] torch._inductor.utils: [WARNING] using triton random, expect difference from eager\n"
     ]
    }
   ],
   "source": [
    "# train\n",
    "train_losses, test_losses, train_accs, test_accs, test_loss, test_acc, confusion_matrix_test, best_model_name = \\\n",
    "run_training_testing(**kwargs)"
   ]
  },
  {
   "cell_type": "code",
   "execution_count": null,
   "metadata": {},
   "outputs": [],
   "source": []
  },
  {
   "cell_type": "code",
   "execution_count": null,
   "metadata": {},
   "outputs": [],
   "source": []
  }
 ],
 "metadata": {
  "accelerator": "GPU",
  "colab": {
   "collapsed_sections": [
    "mcDeYOA8d1wL"
   ],
   "provenance": []
  },
  "gpuClass": "standard",
  "kernelspec": {
   "display_name": "Python 3",
   "language": "python",
   "name": "python3"
  },
  "language_info": {
   "codemirror_mode": {
    "name": "ipython",
    "version": 3
   },
   "file_extension": ".py",
   "mimetype": "text/x-python",
   "name": "python",
   "nbconvert_exporter": "python",
   "pygments_lexer": "ipython3",
   "version": "3.10.11"
  },
  "vscode": {
   "interpreter": {
    "hash": "2b89e4666a1b1f5f90ada5928a1b04d9ad859bf674b23c56e0417352230a6456"
   }
  }
 },
 "nbformat": 4,
 "nbformat_minor": 1
}
