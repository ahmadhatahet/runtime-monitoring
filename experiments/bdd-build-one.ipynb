{
 "cells": [
  {
   "cell_type": "markdown",
   "metadata": {},
   "source": [
    "# Setup Variables and home directory"
   ]
  },
  {
   "cell_type": "markdown",
   "metadata": {},
   "source": [
    "MNIST, FashionMNIST, GTSRB, Cifar10"
   ]
  },
  {
   "cell_type": "code",
   "execution_count": 1,
   "metadata": {},
   "outputs": [],
   "source": [
    "DATASET = 'MNIST'\n",
    "SEED = 42\n",
    "CUDA = 0\n",
    "GPU_NAME = f'cuda:{CUDA}'"
   ]
  },
  {
   "cell_type": "code",
   "execution_count": 2,
   "metadata": {},
   "outputs": [
    {
     "data": {
      "text/plain": [
       "PosixPath('/home/ah19/runtime-monitoring')"
      ]
     },
     "execution_count": 2,
     "metadata": {},
     "output_type": "execute_result"
    }
   ],
   "source": [
    "# set homw directory\n",
    "import os\n",
    "from pathlib import Path\n",
    "\n",
    "base = Path().cwd()\n",
    "\n",
    "if base.name != 'runtime-monitoring':\n",
    "    os.chdir('../')\n",
    "    base = Path().cwd()\n",
    "\n",
    "base"
   ]
  },
  {
   "cell_type": "code",
   "execution_count": 4,
   "metadata": {},
   "outputs": [
    {
     "data": {
      "text/plain": [
       "['SGD-32-5', 'SGD-32-30', 'SGD-32-60']"
      ]
     },
     "execution_count": 4,
     "metadata": {},
     "output_type": "execute_result"
    }
   ],
   "source": [
    "# print available models\n",
    "model_names = []\n",
    "for i in (base / 'experiments' / DATASET / 'saved-models').iterdir():\n",
    "    if i.name[:len(DATASET)] == DATASET:\n",
    "        model_names.append(i.name.replace(DATASET + '_', ''))\n",
    "        \n",
    "\n",
    "model_names.sort(key=lambda x: int(x.split('-')[-1]))\n",
    "model_names"
   ]
  },
  {
   "cell_type": "code",
   "execution_count": 5,
   "metadata": {},
   "outputs": [
    {
     "data": {
      "text/plain": [
       "'MNIST_SGD-32-5'"
      ]
     },
     "execution_count": 5,
     "metadata": {},
     "output_type": "execute_result"
    }
   ],
   "source": [
    "POSTFIX = model_names[0]\n",
    "FILENAME_POSTFIX = f'{DATASET}_{POSTFIX}'\n",
    "\n",
    "FILENAME_POSTFIX"
   ]
  },
  {
   "cell_type": "code",
   "execution_count": 6,
   "metadata": {},
   "outputs": [],
   "source": [
    "# disable warnings\n",
    "import warnings\n",
    "warnings.filterwarnings('ignore')"
   ]
  },
  {
   "cell_type": "markdown",
   "metadata": {},
   "source": [
    "# Libraries"
   ]
  },
  {
   "cell_type": "code",
   "execution_count": 7,
   "metadata": {
    "id": "FLmxFGnxg6ZG"
   },
   "outputs": [],
   "source": [
    "import pandas as pd\n",
    "import numpy as np\n",
    "import matplotlib.pyplot as plt\n",
    "import seaborn as sns\n",
    "\n",
    "from fastprogress import progress_bar\n",
    "\n",
    "from utilities.utils import load_json, load_pickle\n",
    "from utilities.pathManager import fetchPaths\n",
    "from utilities.MonitorUnifiedBDD import MonitorBDD"
   ]
  },
  {
   "cell_type": "markdown",
   "metadata": {},
   "source": [
    "# Paths"
   ]
  },
  {
   "cell_type": "code",
   "execution_count": 16,
   "metadata": {},
   "outputs": [],
   "source": [
    "paths = fetchPaths(base, DATASET, POSTFIX, False)\n",
    "\n",
    "path_data = paths['data']\n",
    "path_lhl = paths['lhl']\n",
    "path_lhl_raw = paths['lhl_raw']\n",
    "path_lhl_pca = paths['lhl_scaler_pca']"
   ]
  },
  {
   "cell_type": "markdown",
   "metadata": {
    "id": "h7eERD3yVH2H"
   },
   "source": [
    "# Seed"
   ]
  },
  {
   "cell_type": "code",
   "execution_count": 11,
   "metadata": {
    "id": "CS9DVaKDi_2C"
   },
   "outputs": [],
   "source": [
    "np.random.seed(SEED)"
   ]
  },
  {
   "cell_type": "markdown",
   "metadata": {
    "id": "h7eERD3yVH2H"
   },
   "source": [
    "# Import Data"
   ]
  },
  {
   "cell_type": "code",
   "execution_count": 17,
   "metadata": {},
   "outputs": [],
   "source": [
    "# import Data\n",
    "df_train = pd.read_csv(path_lhl_raw / f\"{FILENAME_POSTFIX}_{FLAVOR}_train.csv\")\n",
    "\n",
    "# select only true classified\n",
    "df_true = df_train[df_train[\"true\"] == True].copy()\n",
    "df_true = df_true.drop(\"true\", axis=1).reset_index(drop=True)\n",
    "\n",
    "df_test = pd.read_csv(path_lhl_raw / f\"{FILENAME_POSTFIX}_{FLAVOR}_test.csv\")"
   ]
  },
  {
   "cell_type": "code",
   "execution_count": 19,
   "metadata": {},
   "outputs": [],
   "source": [
    "gte_mean = load_json(path_lhl / \"neurons_scaler_pca_gte_mean.json\")\n",
    "top_third = load_json(path_lhl / \"neurons_scaler_pca_top_third.json\")"
   ]
  },
  {
   "cell_type": "markdown",
   "metadata": {},
   "source": [
    "# Build BDD"
   ]
  },
  {
   "cell_type": "code",
   "execution_count": 39,
   "metadata": {},
   "outputs": [],
   "source": [
    "# each set of data has its own threshold\n",
    "thld_p = 0.9\n",
    "eta = 0\n",
    "# neurons = []\n",
    "# neurons = gte_mean\n",
    "neurons = top_third\n",
    "\n",
    "\n",
    "# calculate threshold\n",
    "thld = np.quantile( df_true.drop('y', axis=1), thld_p, axis=0)\n",
    "\n",
    "\n",
    "# BDD\n",
    "patterns = MonitorBDD( df_true.shape[1]-1, thld, neurons=neurons)\n",
    "df_train_copy, df_test_copy = patterns.add_dataframe( df_true, eta, eval_dfs=[df_train.copy(), df_test.copy()] )\n",
    "\n",
    "\n",
    "# score\n",
    "df_train_scores = patterns.score_dataframe_multi_eta(df_train_copy, eta)\n",
    "df_test_scores = patterns.score_dataframe_multi_eta(df_test_copy, eta)\n",
    "\n",
    "\n",
    "# add metadata\n",
    "patterns.stats['thld'] = f'qth_{thld_p}'\n",
    "patterns.stats['num_observations'] = df_true.shape[0]"
   ]
  },
  {
   "cell_type": "code",
   "execution_count": 40,
   "metadata": {
    "scrolled": false
   },
   "outputs": [
    {
     "data": {
      "text/html": [
       "<div>\n",
       "<style scoped>\n",
       "    .dataframe tbody tr th:only-of-type {\n",
       "        vertical-align: middle;\n",
       "    }\n",
       "\n",
       "    .dataframe tbody tr th {\n",
       "        vertical-align: top;\n",
       "    }\n",
       "\n",
       "    .dataframe thead th {\n",
       "        text-align: right;\n",
       "    }\n",
       "</style>\n",
       "<table border=\"1\" class=\"dataframe\">\n",
       "  <thead>\n",
       "    <tr style=\"text-align: right;\">\n",
       "      <th></th>\n",
       "      <th>thld</th>\n",
       "      <th>eta</th>\n",
       "      <th>build_time</th>\n",
       "      <th>size_mb</th>\n",
       "      <th>reorder_time</th>\n",
       "      <th>num_patterns</th>\n",
       "      <th>num_unique_patterns</th>\n",
       "      <th>num_reorder</th>\n",
       "      <th>num_neurons</th>\n",
       "      <th>start_time</th>\n",
       "      <th>end_time</th>\n",
       "      <th>num_observations</th>\n",
       "    </tr>\n",
       "  </thead>\n",
       "  <tbody>\n",
       "    <tr>\n",
       "      <th>1</th>\n",
       "      <td>qth_0.9</td>\n",
       "      <td>0.0</td>\n",
       "      <td>0.001</td>\n",
       "      <td>4303.393</td>\n",
       "      <td>0.0</td>\n",
       "      <td>57011.0</td>\n",
       "      <td>11.0</td>\n",
       "      <td>0.0</td>\n",
       "      <td>5.0</td>\n",
       "      <td>2023-07-25 17:39:26</td>\n",
       "      <td>2023-07-25 17:39:26</td>\n",
       "      <td>57011</td>\n",
       "    </tr>\n",
       "  </tbody>\n",
       "</table>\n",
       "</div>"
      ],
      "text/plain": [
       "      thld  eta  build_time   size_mb  reorder_time  num_patterns   \n",
       "1  qth_0.9  0.0       0.001  4303.393           0.0       57011.0  \\\n",
       "\n",
       "   num_unique_patterns  num_reorder  num_neurons           start_time   \n",
       "1                 11.0          0.0          5.0  2023-07-25 17:39:26  \\\n",
       "\n",
       "              end_time  num_observations  \n",
       "1  2023-07-25 17:39:26             57011  "
      ]
     },
     "execution_count": 40,
     "metadata": {},
     "output_type": "execute_result"
    }
   ],
   "source": [
    "patterns.stats"
   ]
  },
  {
   "cell_type": "code",
   "execution_count": 41,
   "metadata": {},
   "outputs": [
    {
     "data": {
      "text/html": [
       "<div>\n",
       "<style scoped>\n",
       "    .dataframe tbody tr th:only-of-type {\n",
       "        vertical-align: middle;\n",
       "    }\n",
       "\n",
       "    .dataframe tbody tr th {\n",
       "        vertical-align: top;\n",
       "    }\n",
       "\n",
       "    .dataframe thead th {\n",
       "        text-align: right;\n",
       "    }\n",
       "</style>\n",
       "<table border=\"1\" class=\"dataframe\">\n",
       "  <thead>\n",
       "    <tr style=\"text-align: right;\">\n",
       "      <th></th>\n",
       "      <th>y</th>\n",
       "      <th>count</th>\n",
       "      <th>false</th>\n",
       "      <th>false_misclassified</th>\n",
       "      <th>false_classified</th>\n",
       "      <th>outOfPattern</th>\n",
       "      <th>outOfPatternMisclassified</th>\n",
       "      <th>outOfPatternClassified</th>\n",
       "      <th>eta</th>\n",
       "    </tr>\n",
       "  </thead>\n",
       "  <tbody>\n",
       "    <tr>\n",
       "      <th>10</th>\n",
       "      <td>all</td>\n",
       "      <td>60000.0</td>\n",
       "      <td>0.0</td>\n",
       "      <td>0.0</td>\n",
       "      <td>0.0</td>\n",
       "      <td>0.0</td>\n",
       "      <td>0.0</td>\n",
       "      <td>1.0</td>\n",
       "      <td>0</td>\n",
       "    </tr>\n",
       "  </tbody>\n",
       "</table>\n",
       "</div>"
      ],
      "text/plain": [
       "      y    count  false  false_misclassified  false_classified  outOfPattern   \n",
       "10  all  60000.0    0.0                  0.0               0.0           0.0  \\\n",
       "\n",
       "    outOfPatternMisclassified  outOfPatternClassified  eta  \n",
       "10                        0.0                     1.0    0  "
      ]
     },
     "execution_count": 41,
     "metadata": {},
     "output_type": "execute_result"
    }
   ],
   "source": [
    "df_train_scores.loc[ df_train_scores['y'] == 'all' ]"
   ]
  },
  {
   "cell_type": "code",
   "execution_count": 42,
   "metadata": {},
   "outputs": [
    {
     "data": {
      "text/html": [
       "<div>\n",
       "<style scoped>\n",
       "    .dataframe tbody tr th:only-of-type {\n",
       "        vertical-align: middle;\n",
       "    }\n",
       "\n",
       "    .dataframe tbody tr th {\n",
       "        vertical-align: top;\n",
       "    }\n",
       "\n",
       "    .dataframe thead th {\n",
       "        text-align: right;\n",
       "    }\n",
       "</style>\n",
       "<table border=\"1\" class=\"dataframe\">\n",
       "  <thead>\n",
       "    <tr style=\"text-align: right;\">\n",
       "      <th></th>\n",
       "      <th>y</th>\n",
       "      <th>count</th>\n",
       "      <th>false</th>\n",
       "      <th>false_misclassified</th>\n",
       "      <th>false_classified</th>\n",
       "      <th>outOfPattern</th>\n",
       "      <th>outOfPatternMisclassified</th>\n",
       "      <th>outOfPatternClassified</th>\n",
       "      <th>eta</th>\n",
       "    </tr>\n",
       "  </thead>\n",
       "  <tbody>\n",
       "    <tr>\n",
       "      <th>10</th>\n",
       "      <td>all</td>\n",
       "      <td>9984.0</td>\n",
       "      <td>0.0</td>\n",
       "      <td>0.0</td>\n",
       "      <td>0.0</td>\n",
       "      <td>0.0</td>\n",
       "      <td>0.0</td>\n",
       "      <td>1.0</td>\n",
       "      <td>0</td>\n",
       "    </tr>\n",
       "  </tbody>\n",
       "</table>\n",
       "</div>"
      ],
      "text/plain": [
       "      y   count  false  false_misclassified  false_classified  outOfPattern   \n",
       "10  all  9984.0    0.0                  0.0               0.0           0.0  \\\n",
       "\n",
       "    outOfPatternMisclassified  outOfPatternClassified  eta  \n",
       "10                        0.0                     1.0    0  "
      ]
     },
     "execution_count": 42,
     "metadata": {},
     "output_type": "execute_result"
    }
   ],
   "source": [
    "df_test_scores.loc[ df_test_scores['y'] == 'all' ]"
   ]
  },
  {
   "cell_type": "code",
   "execution_count": null,
   "metadata": {},
   "outputs": [],
   "source": []
  }
 ],
 "metadata": {
  "accelerator": "GPU",
  "colab": {
   "collapsed_sections": [
    "mcDeYOA8d1wL"
   ],
   "provenance": []
  },
  "gpuClass": "standard",
  "kernelspec": {
   "display_name": "Python 3",
   "language": "python",
   "name": "python3"
  },
  "language_info": {
   "codemirror_mode": {
    "name": "ipython",
    "version": 3
   },
   "file_extension": ".py",
   "mimetype": "text/x-python",
   "name": "python",
   "nbconvert_exporter": "python",
   "pygments_lexer": "ipython3",
   "version": "3.10.11"
  },
  "vscode": {
   "interpreter": {
    "hash": "2b89e4666a1b1f5f90ada5928a1b04d9ad859bf674b23c56e0417352230a6456"
   }
  }
 },
 "nbformat": 4,
 "nbformat_minor": 4
}
