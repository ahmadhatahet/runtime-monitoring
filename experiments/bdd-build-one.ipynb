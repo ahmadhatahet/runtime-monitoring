{
 "cells": [
  {
   "cell_type": "markdown",
   "metadata": {},
   "source": [
    "# Setup Variables and home directory"
   ]
  },
  {
   "cell_type": "markdown",
   "metadata": {},
   "source": [
    "MNIST, FashionMNIST, GTSRB, Cifar10"
   ]
  },
  {
   "cell_type": "code",
   "execution_count": 167,
   "metadata": {},
   "outputs": [],
   "source": [
    "DATASET = 'MNIST'\n",
    "SEED = 42\n",
    "CUDA = 0\n",
    "GPU_NAME = f'cuda:{CUDA}'"
   ]
  },
  {
   "cell_type": "code",
   "execution_count": 168,
   "metadata": {},
   "outputs": [
    {
     "data": {
      "text/plain": [
       "PosixPath('/home/ah19/runtime-monitoring')"
      ]
     },
     "execution_count": 168,
     "metadata": {},
     "output_type": "execute_result"
    }
   ],
   "source": [
    "# set homw directory\n",
    "import os\n",
    "from pathlib import Path\n",
    "\n",
    "base = Path().cwd()\n",
    "\n",
    "if base.name != 'runtime-monitoring':\n",
    "    os.chdir('../')\n",
    "    base = Path().cwd()\n",
    "\n",
    "base"
   ]
  },
  {
   "cell_type": "code",
   "execution_count": 169,
   "metadata": {},
   "outputs": [
    {
     "name": "stdout",
     "output_type": "stream",
     "text": [
      "0 SGD-32-5\n",
      "1 SGD-32-30\n",
      "2 SGD-32-60\n",
      "3 SGD-32-100\n",
      "4 SGD-32-150\n"
     ]
    }
   ],
   "source": [
    "# print available models\n",
    "model_names = []\n",
    "for i in (base / 'experiments' / DATASET / 'saved-models').iterdir():\n",
    "    if i.name[:len(DATASET)] == DATASET:\n",
    "        model_names.append(i.name.replace(DATASET + '_', ''))\n",
    "        \n",
    "\n",
    "model_names.sort(key=lambda x: int(x.split('-')[-1]))\n",
    "for i, m in enumerate(model_names):\n",
    "    print(i, m)"
   ]
  },
  {
   "cell_type": "code",
   "execution_count": 170,
   "metadata": {},
   "outputs": [
    {
     "data": {
      "text/plain": [
       "'MNIST_SGD-32-30'"
      ]
     },
     "execution_count": 170,
     "metadata": {},
     "output_type": "execute_result"
    }
   ],
   "source": [
    "POSTFIX = model_names[1]\n",
    "FILENAME_POSTFIX = f'{DATASET}_{POSTFIX}'\n",
    "\n",
    "FILENAME_POSTFIX"
   ]
  },
  {
   "cell_type": "code",
   "execution_count": 171,
   "metadata": {},
   "outputs": [],
   "source": [
    "# disable warnings\n",
    "import warnings\n",
    "warnings.filterwarnings('ignore')"
   ]
  },
  {
   "cell_type": "markdown",
   "metadata": {},
   "source": [
    "# Libraries"
   ]
  },
  {
   "cell_type": "code",
   "execution_count": 172,
   "metadata": {
    "id": "FLmxFGnxg6ZG"
   },
   "outputs": [],
   "source": [
    "import pandas as pd\n",
    "import numpy as np\n",
    "import matplotlib.pyplot as plt\n",
    "import seaborn as sns\n",
    "\n",
    "from fastprogress import progress_bar\n",
    "\n",
    "import torch\n",
    "\n",
    "from utilities.utils import load_json, load_pickle, get_dataset, get_dataLoader\n",
    "from utilities.pathManager import fetchPaths\n",
    "from utilities.MonitorUnifiedBDD import MonitorBDD"
   ]
  },
  {
   "cell_type": "markdown",
   "metadata": {},
   "source": [
    "# Paths"
   ]
  },
  {
   "cell_type": "code",
   "execution_count": 173,
   "metadata": {},
   "outputs": [],
   "source": [
    "paths = fetchPaths(base, DATASET, POSTFIX, False)\n",
    "\n",
    "path_data = paths['data']\n",
    "path_lhl = paths['lhl']\n",
    "path_lhl_raw = paths['lhl_raw']\n",
    "path_lhl_pca = paths['lhl_scaler_pca']"
   ]
  },
  {
   "cell_type": "markdown",
   "metadata": {
    "id": "h7eERD3yVH2H"
   },
   "source": [
    "# Seed"
   ]
  },
  {
   "cell_type": "code",
   "execution_count": 174,
   "metadata": {
    "id": "CS9DVaKDi_2C"
   },
   "outputs": [],
   "source": [
    "np.random.seed(SEED)"
   ]
  },
  {
   "cell_type": "markdown",
   "metadata": {
    "id": "h7eERD3yVH2H"
   },
   "source": [
    "# Import Data"
   ]
  },
  {
   "cell_type": "code",
   "execution_count": 175,
   "metadata": {},
   "outputs": [
    {
     "data": {
      "text/plain": [
       "((60000, 32), (9984, 32), (1000, 32), (67897, 31))"
      ]
     },
     "execution_count": 175,
     "metadata": {},
     "output_type": "execute_result"
    }
   ],
   "source": [
    "# import Data\n",
    "df_train = pd.read_csv(path_lhl_raw / f\"{FILENAME_POSTFIX}_raw_train.csv\")\n",
    "df_test = pd.read_csv(path_lhl_raw / f\"{FILENAME_POSTFIX}_raw_test.csv\")\n",
    "df_eval = pd.read_csv(path_lhl_raw / f\"{FILENAME_POSTFIX}_raw_evaluation.csv\")\n",
    "\n",
    "# select only true classified\n",
    "# df_true = df_train.copy()\n",
    "df_true = pd.concat([df_train[df_train[\"true\"] == True].copy(), df_test[df_test[\"true\"] == True].copy()])\n",
    "df_true = df_true.drop(\"true\", axis=1).reset_index(drop=True)\n",
    "\n",
    "# df_true = df_train[df_train[\"true\"] == True].copy()\n",
    "# df_true = df_true.drop(\"true\", axis=1).reset_index(drop=True)\n",
    "\n",
    "df_train.shape, df_test.shape, df_eval.shape, df_true.shape "
   ]
  },
  {
   "cell_type": "code",
   "execution_count": 176,
   "metadata": {},
   "outputs": [],
   "source": [
    "gte_mean = load_json(path_lhl / \"neurons_scaler_pca_gte_mean.json\")\n",
    "top_third = load_json(path_lhl / \"neurons_scaler_pca_top_third.json\")"
   ]
  },
  {
   "cell_type": "markdown",
   "metadata": {},
   "source": [
    "# Build BDD"
   ]
  },
  {
   "cell_type": "code",
   "execution_count": 177,
   "metadata": {},
   "outputs": [],
   "source": [
    "# each set of data has its own threshold\n",
    "thld_p = 0.5\n",
    "eta = 0\n",
    "neurons = []\n",
    "# neurons = gte_mean\n",
    "# neurons = top_third\n",
    "\n",
    "# calculate threshold\n",
    "thld = np.quantile( df_true.drop('y', axis=1), thld_p, axis=0)\n",
    "# thld1 = np.quantile( df_true.drop('y', axis=1), 0.2, axis=0)\n",
    "# thld2 = np.quantile( df_true.drop('y', axis=1), 0.5, axis=0)\n",
    "# thld3 = np.quantile( df_true.drop('y', axis=1), 0.8, axis=0)\n",
    "\n",
    "# from optuna\n",
    "# thld = np.array([ -1.19185404,  12.79635195,  -1.19906112,  12.44929473,\n",
    "#         14.64725433,  16.80028532, -17.45800917,   5.73160821,\n",
    "#         10.08039263,   6.48782773,  10.87014872,   4.84882803,\n",
    "#          0.37214349,   6.31361585, -13.87735332,  22.05217285,\n",
    "#         16.80681332,  -6.50966644,   1.86243299,   0.04027561,\n",
    "#         20.89539847,  -8.8872976 ,  -4.9736362 ,  10.8866549 ,\n",
    "#          2.08586646,  -0.49341795,  -6.21431094,  27.19567785,\n",
    "#         -7.96599741,   1.35437002])\n",
    "\n",
    "# BDD\n",
    "patterns = MonitorBDD( df_true.shape[1]-1, thld, neurons=neurons)\n",
    "df_train_copy, df_test_copy, df_eval_copy = patterns.add_dataframe( df_true, eta, eval_dfs=[df_train.copy(), df_test.copy(), df_eval.copy()] )\n",
    "\n",
    "\n",
    "# score\n",
    "df_train_scores = patterns.score_dataframe_multi_eta(df_train_copy, eta)\n",
    "df_test_scores = patterns.score_dataframe_multi_eta(df_test_copy, eta)\n",
    "df_eval_scores = patterns.score_dataframe_multi_eta(df_eval_copy, eta)\n",
    "\n",
    "# add metadata\n",
    "# patterns.stats['thld'] = f'qth_{thld_p}'\n",
    "patterns.stats['thld'] = f'optuna-30'\n",
    "patterns.stats['num_observations'] = df_true.shape[0]"
   ]
  },
  {
   "cell_type": "code",
   "execution_count": 178,
   "metadata": {
    "scrolled": false
   },
   "outputs": [
    {
     "data": {
      "text/html": [
       "<div>\n",
       "<style scoped>\n",
       "    .dataframe tbody tr th:only-of-type {\n",
       "        vertical-align: middle;\n",
       "    }\n",
       "\n",
       "    .dataframe tbody tr th {\n",
       "        vertical-align: top;\n",
       "    }\n",
       "\n",
       "    .dataframe thead th {\n",
       "        text-align: right;\n",
       "    }\n",
       "</style>\n",
       "<table border=\"1\" class=\"dataframe\">\n",
       "  <thead>\n",
       "    <tr style=\"text-align: right;\">\n",
       "      <th></th>\n",
       "      <th>thld</th>\n",
       "      <th>eta</th>\n",
       "      <th>build_time_min</th>\n",
       "      <th>size_mb</th>\n",
       "      <th>reorder_time_min</th>\n",
       "      <th>num_patterns</th>\n",
       "      <th>num_unique_patterns_%</th>\n",
       "      <th>num_reorder</th>\n",
       "      <th>num_neurons</th>\n",
       "      <th>start_time</th>\n",
       "      <th>end_time</th>\n",
       "      <th>num_observations</th>\n",
       "    </tr>\n",
       "  </thead>\n",
       "  <tbody>\n",
       "    <tr>\n",
       "      <th>1</th>\n",
       "      <td>optuna-30</td>\n",
       "      <td>0.0</td>\n",
       "      <td>2.4</td>\n",
       "      <td>4308.905</td>\n",
       "      <td>0.0</td>\n",
       "      <td>67897.0</td>\n",
       "      <td>38.7</td>\n",
       "      <td>0.0</td>\n",
       "      <td>30.0</td>\n",
       "      <td>2023-08-06 00:13:27</td>\n",
       "      <td>2023-08-06 00:13:28</td>\n",
       "      <td>67897</td>\n",
       "    </tr>\n",
       "  </tbody>\n",
       "</table>\n",
       "</div>"
      ],
      "text/plain": [
       "        thld  eta  build_time_min   size_mb  reorder_time_min  num_patterns   \n",
       "1  optuna-30  0.0             2.4  4308.905               0.0       67897.0  \\\n",
       "\n",
       "   num_unique_patterns_%  num_reorder  num_neurons           start_time   \n",
       "1                   38.7          0.0         30.0  2023-08-06 00:13:27  \\\n",
       "\n",
       "              end_time  num_observations  \n",
       "1  2023-08-06 00:13:28             67897  "
      ]
     },
     "execution_count": 178,
     "metadata": {},
     "output_type": "execute_result"
    }
   ],
   "source": [
    "patterns.stats"
   ]
  },
  {
   "cell_type": "code",
   "execution_count": 179,
   "metadata": {},
   "outputs": [
    {
     "data": {
      "text/html": [
       "<div>\n",
       "<style scoped>\n",
       "    .dataframe tbody tr th:only-of-type {\n",
       "        vertical-align: middle;\n",
       "    }\n",
       "\n",
       "    .dataframe tbody tr th {\n",
       "        vertical-align: top;\n",
       "    }\n",
       "\n",
       "    .dataframe thead th {\n",
       "        text-align: right;\n",
       "    }\n",
       "</style>\n",
       "<table border=\"1\" class=\"dataframe\">\n",
       "  <thead>\n",
       "    <tr style=\"text-align: right;\">\n",
       "      <th></th>\n",
       "      <th>y</th>\n",
       "      <th>count</th>\n",
       "      <th>false</th>\n",
       "      <th>false_misclassified</th>\n",
       "      <th>false_classified</th>\n",
       "      <th>outOfPattern</th>\n",
       "      <th>outOfPatternMisclassified</th>\n",
       "      <th>outOfPatternClassified</th>\n",
       "      <th>eta</th>\n",
       "    </tr>\n",
       "  </thead>\n",
       "  <tbody>\n",
       "    <tr>\n",
       "      <th>10</th>\n",
       "      <td>all</td>\n",
       "      <td>60000.0</td>\n",
       "      <td>1368.0</td>\n",
       "      <td>1368.0</td>\n",
       "      <td>0.0</td>\n",
       "      <td>0.0228</td>\n",
       "      <td>1.0</td>\n",
       "      <td>0.0</td>\n",
       "      <td>0</td>\n",
       "    </tr>\n",
       "  </tbody>\n",
       "</table>\n",
       "</div>"
      ],
      "text/plain": [
       "      y    count   false  false_misclassified  false_classified  outOfPattern   \n",
       "10  all  60000.0  1368.0               1368.0               0.0        0.0228  \\\n",
       "\n",
       "    outOfPatternMisclassified  outOfPatternClassified  eta  \n",
       "10                        1.0                     0.0    0  "
      ]
     },
     "execution_count": 179,
     "metadata": {},
     "output_type": "execute_result"
    }
   ],
   "source": [
    "df_train_scores.loc[ df_train_scores['y'] == 'all' ]"
   ]
  },
  {
   "cell_type": "code",
   "execution_count": 180,
   "metadata": {},
   "outputs": [
    {
     "data": {
      "text/html": [
       "<div>\n",
       "<style scoped>\n",
       "    .dataframe tbody tr th:only-of-type {\n",
       "        vertical-align: middle;\n",
       "    }\n",
       "\n",
       "    .dataframe tbody tr th {\n",
       "        vertical-align: top;\n",
       "    }\n",
       "\n",
       "    .dataframe thead th {\n",
       "        text-align: right;\n",
       "    }\n",
       "</style>\n",
       "<table border=\"1\" class=\"dataframe\">\n",
       "  <thead>\n",
       "    <tr style=\"text-align: right;\">\n",
       "      <th></th>\n",
       "      <th>y</th>\n",
       "      <th>count</th>\n",
       "      <th>false</th>\n",
       "      <th>false_misclassified</th>\n",
       "      <th>false_classified</th>\n",
       "      <th>outOfPattern</th>\n",
       "      <th>outOfPatternMisclassified</th>\n",
       "      <th>outOfPatternClassified</th>\n",
       "      <th>eta</th>\n",
       "    </tr>\n",
       "  </thead>\n",
       "  <tbody>\n",
       "    <tr>\n",
       "      <th>10</th>\n",
       "      <td>all</td>\n",
       "      <td>9984.0</td>\n",
       "      <td>216.0</td>\n",
       "      <td>216.0</td>\n",
       "      <td>0.0</td>\n",
       "      <td>0.021635</td>\n",
       "      <td>1.0</td>\n",
       "      <td>0.0</td>\n",
       "      <td>0</td>\n",
       "    </tr>\n",
       "  </tbody>\n",
       "</table>\n",
       "</div>"
      ],
      "text/plain": [
       "      y   count  false  false_misclassified  false_classified  outOfPattern   \n",
       "10  all  9984.0  216.0                216.0               0.0      0.021635  \\\n",
       "\n",
       "    outOfPatternMisclassified  outOfPatternClassified  eta  \n",
       "10                        1.0                     0.0    0  "
      ]
     },
     "execution_count": 180,
     "metadata": {},
     "output_type": "execute_result"
    }
   ],
   "source": [
    "df_test_scores.loc[ df_test_scores['y'] == 'all']"
   ]
  },
  {
   "cell_type": "code",
   "execution_count": 181,
   "metadata": {},
   "outputs": [
    {
     "data": {
      "text/html": [
       "<div>\n",
       "<style scoped>\n",
       "    .dataframe tbody tr th:only-of-type {\n",
       "        vertical-align: middle;\n",
       "    }\n",
       "\n",
       "    .dataframe tbody tr th {\n",
       "        vertical-align: top;\n",
       "    }\n",
       "\n",
       "    .dataframe thead th {\n",
       "        text-align: right;\n",
       "    }\n",
       "</style>\n",
       "<table border=\"1\" class=\"dataframe\">\n",
       "  <thead>\n",
       "    <tr style=\"text-align: right;\">\n",
       "      <th></th>\n",
       "      <th>y</th>\n",
       "      <th>count</th>\n",
       "      <th>false</th>\n",
       "      <th>false_misclassified</th>\n",
       "      <th>false_classified</th>\n",
       "      <th>outOfPattern</th>\n",
       "      <th>outOfPatternMisclassified</th>\n",
       "      <th>outOfPatternClassified</th>\n",
       "      <th>eta</th>\n",
       "    </tr>\n",
       "  </thead>\n",
       "  <tbody>\n",
       "    <tr>\n",
       "      <th>1</th>\n",
       "      <td>all</td>\n",
       "      <td>1000.0</td>\n",
       "      <td>906.0</td>\n",
       "      <td>0.0</td>\n",
       "      <td>906.0</td>\n",
       "      <td>0.906</td>\n",
       "      <td>1.0</td>\n",
       "      <td>0.0</td>\n",
       "      <td>0</td>\n",
       "    </tr>\n",
       "  </tbody>\n",
       "</table>\n",
       "</div>"
      ],
      "text/plain": [
       "     y   count  false  false_misclassified  false_classified  outOfPattern   \n",
       "1  all  1000.0  906.0                  0.0             906.0         0.906  \\\n",
       "\n",
       "   outOfPatternMisclassified  outOfPatternClassified  eta  \n",
       "1                        1.0                     0.0    0  "
      ]
     },
     "execution_count": 181,
     "metadata": {},
     "output_type": "execute_result"
    }
   ],
   "source": [
    "df_eval_scores.loc[ df_eval_scores['y'] == 'all' ]"
   ]
  },
  {
   "cell_type": "markdown",
   "metadata": {},
   "source": [
    "## Full Evaluation data"
   ]
  },
  {
   "cell_type": "code",
   "execution_count": 159,
   "metadata": {},
   "outputs": [],
   "source": [
    "from models.mnist_model import MNIST_Model\n",
    "from models.fashionmnist_model import FashionMNIST_CNN\n",
    "from models.gtsrb_model import GTSRB_CNN\n",
    "from models.cifar10_dla import Cifar10_DLA\n",
    "from models.cifar10_model import Cifar10_CNN\n",
    "\n",
    "from models.transformers import transformers\n",
    "\n",
    "models = {\n",
    "    'mnist': MNIST_Model,\n",
    "    'fashionmnist': FashionMNIST_CNN,\n",
    "    'gtsrb': GTSRB_CNN,\n",
    "#     'cifar10': Cifar10_DLA,\n",
    "    'cifar10': Cifar10_CNN\n",
    "}\n",
    "\n",
    "\n",
    "targets_datasets = {\n",
    "    'MNIST': 'FashionMNIST',\n",
    "    'FashionMNIST': 'MNIST',\n",
    "    'GTSRB': 'Cifar10',\n",
    "}"
   ]
  },
  {
   "cell_type": "code",
   "execution_count": 160,
   "metadata": {},
   "outputs": [],
   "source": [
    "# load sacler object\n",
    "sacler_ = load_pickle(path_lhl / f'scaler.pkl')\n",
    "# load pca object\n",
    "pca_ = load_pickle(path_lhl / f'scaler_pca.pkl')"
   ]
  },
  {
   "cell_type": "code",
   "execution_count": 161,
   "metadata": {},
   "outputs": [],
   "source": [
    "TARGET_DATASET = targets_datasets[DATASET]\n",
    "path_target_data = paths['data'].parent / TARGET_DATASET\n",
    "\n",
    "\n",
    "# load config file\n",
    "configs = load_json(paths['configuration'])\n",
    "# model config\n",
    "model_setup = configs['model_setup']\n",
    "# saved model\n",
    "path_model = next(paths['saved_models'].glob('*.pth.tar'))\n",
    "\n",
    "# load trained model\n",
    "model_ = models[DATASET.lower()]\n",
    "transformer = transformers[DATASET.lower()]['train']\n",
    "\n",
    "test_data = get_dataset(TARGET_DATASET, path_target_data, train=False, transform=transformer)\n",
    "testloader = get_dataLoader(test_data)"
   ]
  },
  {
   "cell_type": "code",
   "execution_count": 162,
   "metadata": {},
   "outputs": [],
   "source": [
    "N = int(POSTFIX.split('-')[-1])\n",
    "BS = testloader.batch_size\n",
    "\n",
    "\n",
    "model_setup['last_hidden_neurons'] = N\n",
    "model = model_(**model_setup)\n",
    "model = torch.compile(model)\n",
    "\n",
    "\n",
    "# load model weights\n",
    "model.load_state_dict(torch.load(path_model)['model'])\n",
    "\n",
    "# eavluation mode\n",
    "model.eval()\n",
    "\n",
    "# get last hidden layer logits for target data\n",
    "logits = np.zeros((BS * len(testloader), N), dtype=np.float64)\n",
    "\n",
    "for i, (x, _) in enumerate(testloader):\n",
    "    logits_target, _ = model.output_last_layer(x)\n",
    "    logits[BS*i:(i+1)*BS] = logits_target.numpy()\n",
    "    \n",
    "logits = pd.DataFrame(logits, columns=[f'x{i}' for i in range(logits.shape[1])])\n",
    "logits['y'] = 1\n",
    "logits['true'] = 1\n",
    "\n",
    "# # transform data\n",
    "# logits_target = applyPCASingle(logits_target, sacler_, pca_, N)"
   ]
  },
  {
   "cell_type": "code",
   "execution_count": 163,
   "metadata": {},
   "outputs": [],
   "source": [
    "logits_copy = logits.copy()\n",
    "patterns.evaluate_dataframe(logits_copy, 0)"
   ]
  },
  {
   "cell_type": "code",
   "execution_count": 164,
   "metadata": {},
   "outputs": [
    {
     "data": {
      "text/html": [
       "<div>\n",
       "<style scoped>\n",
       "    .dataframe tbody tr th:only-of-type {\n",
       "        vertical-align: middle;\n",
       "    }\n",
       "\n",
       "    .dataframe tbody tr th {\n",
       "        vertical-align: top;\n",
       "    }\n",
       "\n",
       "    .dataframe thead th {\n",
       "        text-align: right;\n",
       "    }\n",
       "</style>\n",
       "<table border=\"1\" class=\"dataframe\">\n",
       "  <thead>\n",
       "    <tr style=\"text-align: right;\">\n",
       "      <th></th>\n",
       "      <th>x0</th>\n",
       "      <th>x1</th>\n",
       "      <th>x2</th>\n",
       "      <th>x3</th>\n",
       "      <th>x4</th>\n",
       "      <th>x5</th>\n",
       "      <th>x6</th>\n",
       "      <th>x7</th>\n",
       "      <th>x8</th>\n",
       "      <th>x9</th>\n",
       "      <th>...</th>\n",
       "      <th>x23</th>\n",
       "      <th>x24</th>\n",
       "      <th>x25</th>\n",
       "      <th>x26</th>\n",
       "      <th>x27</th>\n",
       "      <th>x28</th>\n",
       "      <th>x29</th>\n",
       "      <th>y</th>\n",
       "      <th>true</th>\n",
       "      <th>bdd_0</th>\n",
       "    </tr>\n",
       "  </thead>\n",
       "  <tbody>\n",
       "    <tr>\n",
       "      <th>0</th>\n",
       "      <td>0.003632</td>\n",
       "      <td>0.182130</td>\n",
       "      <td>0.129657</td>\n",
       "      <td>0.114626</td>\n",
       "      <td>-1.465341</td>\n",
       "      <td>0.468010</td>\n",
       "      <td>0.349984</td>\n",
       "      <td>0.574371</td>\n",
       "      <td>0.741739</td>\n",
       "      <td>-0.587210</td>\n",
       "      <td>...</td>\n",
       "      <td>0.412588</td>\n",
       "      <td>-0.404800</td>\n",
       "      <td>1.110941</td>\n",
       "      <td>1.041918</td>\n",
       "      <td>-0.334109</td>\n",
       "      <td>-0.228985</td>\n",
       "      <td>-0.253282</td>\n",
       "      <td>1</td>\n",
       "      <td>1</td>\n",
       "      <td>0</td>\n",
       "    </tr>\n",
       "    <tr>\n",
       "      <th>1</th>\n",
       "      <td>-0.963079</td>\n",
       "      <td>0.312556</td>\n",
       "      <td>0.980052</td>\n",
       "      <td>0.453017</td>\n",
       "      <td>-0.139957</td>\n",
       "      <td>0.145112</td>\n",
       "      <td>0.546575</td>\n",
       "      <td>-0.017699</td>\n",
       "      <td>-0.080211</td>\n",
       "      <td>-0.190439</td>\n",
       "      <td>...</td>\n",
       "      <td>-0.596707</td>\n",
       "      <td>-0.346958</td>\n",
       "      <td>0.328312</td>\n",
       "      <td>0.521455</td>\n",
       "      <td>0.695181</td>\n",
       "      <td>-0.312496</td>\n",
       "      <td>-1.017301</td>\n",
       "      <td>1</td>\n",
       "      <td>1</td>\n",
       "      <td>0</td>\n",
       "    </tr>\n",
       "    <tr>\n",
       "      <th>2</th>\n",
       "      <td>-0.402968</td>\n",
       "      <td>0.203526</td>\n",
       "      <td>0.131765</td>\n",
       "      <td>-0.099070</td>\n",
       "      <td>-0.531941</td>\n",
       "      <td>0.455495</td>\n",
       "      <td>0.758335</td>\n",
       "      <td>0.369431</td>\n",
       "      <td>0.578867</td>\n",
       "      <td>-0.378273</td>\n",
       "      <td>...</td>\n",
       "      <td>-0.288610</td>\n",
       "      <td>0.084457</td>\n",
       "      <td>0.021671</td>\n",
       "      <td>0.185394</td>\n",
       "      <td>0.265477</td>\n",
       "      <td>-0.586579</td>\n",
       "      <td>-0.164806</td>\n",
       "      <td>1</td>\n",
       "      <td>1</td>\n",
       "      <td>0</td>\n",
       "    </tr>\n",
       "    <tr>\n",
       "      <th>3</th>\n",
       "      <td>0.295552</td>\n",
       "      <td>-0.174304</td>\n",
       "      <td>0.224718</td>\n",
       "      <td>-0.068794</td>\n",
       "      <td>-0.351254</td>\n",
       "      <td>-0.320608</td>\n",
       "      <td>-0.028574</td>\n",
       "      <td>-0.353354</td>\n",
       "      <td>-0.013269</td>\n",
       "      <td>-0.826952</td>\n",
       "      <td>...</td>\n",
       "      <td>-0.149710</td>\n",
       "      <td>0.012287</td>\n",
       "      <td>0.759326</td>\n",
       "      <td>0.097537</td>\n",
       "      <td>0.185930</td>\n",
       "      <td>-0.409140</td>\n",
       "      <td>0.036795</td>\n",
       "      <td>1</td>\n",
       "      <td>1</td>\n",
       "      <td>0</td>\n",
       "    </tr>\n",
       "    <tr>\n",
       "      <th>4</th>\n",
       "      <td>0.103591</td>\n",
       "      <td>-0.187605</td>\n",
       "      <td>-0.165391</td>\n",
       "      <td>-0.164101</td>\n",
       "      <td>-0.979601</td>\n",
       "      <td>0.399708</td>\n",
       "      <td>0.905554</td>\n",
       "      <td>0.465895</td>\n",
       "      <td>1.342914</td>\n",
       "      <td>-0.805566</td>\n",
       "      <td>...</td>\n",
       "      <td>0.518080</td>\n",
       "      <td>-0.627676</td>\n",
       "      <td>1.611081</td>\n",
       "      <td>0.445392</td>\n",
       "      <td>-0.055380</td>\n",
       "      <td>0.013853</td>\n",
       "      <td>-0.236062</td>\n",
       "      <td>1</td>\n",
       "      <td>1</td>\n",
       "      <td>0</td>\n",
       "    </tr>\n",
       "  </tbody>\n",
       "</table>\n",
       "<p>5 rows × 33 columns</p>\n",
       "</div>"
      ],
      "text/plain": [
       "         x0        x1        x2        x3        x4        x5        x6   \n",
       "0  0.003632  0.182130  0.129657  0.114626 -1.465341  0.468010  0.349984  \\\n",
       "1 -0.963079  0.312556  0.980052  0.453017 -0.139957  0.145112  0.546575   \n",
       "2 -0.402968  0.203526  0.131765 -0.099070 -0.531941  0.455495  0.758335   \n",
       "3  0.295552 -0.174304  0.224718 -0.068794 -0.351254 -0.320608 -0.028574   \n",
       "4  0.103591 -0.187605 -0.165391 -0.164101 -0.979601  0.399708  0.905554   \n",
       "\n",
       "         x7        x8        x9  ...       x23       x24       x25       x26   \n",
       "0  0.574371  0.741739 -0.587210  ...  0.412588 -0.404800  1.110941  1.041918  \\\n",
       "1 -0.017699 -0.080211 -0.190439  ... -0.596707 -0.346958  0.328312  0.521455   \n",
       "2  0.369431  0.578867 -0.378273  ... -0.288610  0.084457  0.021671  0.185394   \n",
       "3 -0.353354 -0.013269 -0.826952  ... -0.149710  0.012287  0.759326  0.097537   \n",
       "4  0.465895  1.342914 -0.805566  ...  0.518080 -0.627676  1.611081  0.445392   \n",
       "\n",
       "        x27       x28       x29  y  true  bdd_0  \n",
       "0 -0.334109 -0.228985 -0.253282  1     1      0  \n",
       "1  0.695181 -0.312496 -1.017301  1     1      0  \n",
       "2  0.265477 -0.586579 -0.164806  1     1      0  \n",
       "3  0.185930 -0.409140  0.036795  1     1      0  \n",
       "4 -0.055380  0.013853 -0.236062  1     1      0  \n",
       "\n",
       "[5 rows x 33 columns]"
      ]
     },
     "execution_count": 164,
     "metadata": {},
     "output_type": "execute_result"
    }
   ],
   "source": [
    "logits_copy.head()"
   ]
  },
  {
   "cell_type": "code",
   "execution_count": 165,
   "metadata": {},
   "outputs": [],
   "source": [
    "logits_scores = patterns.score_dataframe(logits_copy, 'bdd_0')"
   ]
  },
  {
   "cell_type": "code",
   "execution_count": 166,
   "metadata": {},
   "outputs": [
    {
     "data": {
      "text/html": [
       "<div>\n",
       "<style scoped>\n",
       "    .dataframe tbody tr th:only-of-type {\n",
       "        vertical-align: middle;\n",
       "    }\n",
       "\n",
       "    .dataframe tbody tr th {\n",
       "        vertical-align: top;\n",
       "    }\n",
       "\n",
       "    .dataframe thead th {\n",
       "        text-align: right;\n",
       "    }\n",
       "</style>\n",
       "<table border=\"1\" class=\"dataframe\">\n",
       "  <thead>\n",
       "    <tr style=\"text-align: right;\">\n",
       "      <th></th>\n",
       "      <th>count</th>\n",
       "      <th>bdd_0_false</th>\n",
       "      <th>bdd_0_false_misclassified</th>\n",
       "      <th>bdd_0_false_classified</th>\n",
       "      <th>outOfPattern</th>\n",
       "      <th>outOfPatternMisclassified</th>\n",
       "      <th>outOfPatternClassified</th>\n",
       "    </tr>\n",
       "    <tr>\n",
       "      <th>y</th>\n",
       "      <th></th>\n",
       "      <th></th>\n",
       "      <th></th>\n",
       "      <th></th>\n",
       "      <th></th>\n",
       "      <th></th>\n",
       "      <th></th>\n",
       "    </tr>\n",
       "  </thead>\n",
       "  <tbody>\n",
       "    <tr>\n",
       "      <th>1</th>\n",
       "      <td>9984.0</td>\n",
       "      <td>9361.0</td>\n",
       "      <td>0.0</td>\n",
       "      <td>9361.0</td>\n",
       "      <td>0.9376</td>\n",
       "      <td>1.0000</td>\n",
       "      <td>0.0</td>\n",
       "    </tr>\n",
       "    <tr>\n",
       "      <th>all</th>\n",
       "      <td>9984.0</td>\n",
       "      <td>9361.0</td>\n",
       "      <td>0.0</td>\n",
       "      <td>9361.0</td>\n",
       "      <td>0.9376</td>\n",
       "      <td>1.0000</td>\n",
       "      <td>0.0</td>\n",
       "    </tr>\n",
       "    <tr>\n",
       "      <th>all_mean</th>\n",
       "      <td>9984.0</td>\n",
       "      <td>9361.0</td>\n",
       "      <td>0.0</td>\n",
       "      <td>0.0</td>\n",
       "      <td>0.0000</td>\n",
       "      <td>0.9376</td>\n",
       "      <td>0.0</td>\n",
       "    </tr>\n",
       "  </tbody>\n",
       "</table>\n",
       "</div>"
      ],
      "text/plain": [
       "           count  bdd_0_false  bdd_0_false_misclassified   \n",
       "y                                                          \n",
       "1         9984.0       9361.0                        0.0  \\\n",
       "all       9984.0       9361.0                        0.0   \n",
       "all_mean  9984.0       9361.0                        0.0   \n",
       "\n",
       "          bdd_0_false_classified  outOfPattern  outOfPatternMisclassified   \n",
       "y                                                                           \n",
       "1                         9361.0        0.9376                     1.0000  \\\n",
       "all                       9361.0        0.9376                     1.0000   \n",
       "all_mean                     0.0        0.0000                     0.9376   \n",
       "\n",
       "          outOfPatternClassified  \n",
       "y                                 \n",
       "1                            0.0  \n",
       "all                          0.0  \n",
       "all_mean                     0.0  "
      ]
     },
     "execution_count": 166,
     "metadata": {},
     "output_type": "execute_result"
    }
   ],
   "source": [
    "logits_scores"
   ]
  },
  {
   "cell_type": "markdown",
   "metadata": {},
   "source": [
    "## Manual Test"
   ]
  },
  {
   "cell_type": "code",
   "execution_count": 15,
   "metadata": {},
   "outputs": [],
   "source": [
    "df_patterns = (df_true.drop('y', axis=1) >= thld).astype(np.int8)"
   ]
  },
  {
   "cell_type": "code",
   "execution_count": 16,
   "metadata": {},
   "outputs": [],
   "source": [
    "n = 100\n",
    "# df_test_patterns = (df_test.drop(['true','y'], axis=1).sample(n) >= thld).astype(np.int8)\n",
    "df_test_patterns = (df_test.drop(['true','y'], axis=1) >= thld).astype(np.int8)"
   ]
  },
  {
   "cell_type": "code",
   "execution_count": 17,
   "metadata": {},
   "outputs": [
    {
     "data": {
      "text/plain": [
       "4192"
      ]
     },
     "execution_count": 17,
     "metadata": {},
     "output_type": "execute_result"
    }
   ],
   "source": [
    "df_test_patterns.apply(lambda x: x.values in df_patterns.values, axis=1).sum()"
   ]
  },
  {
   "cell_type": "markdown",
   "metadata": {},
   "source": [
    "## Manual BDD"
   ]
  },
  {
   "cell_type": "code",
   "execution_count": 18,
   "metadata": {},
   "outputs": [],
   "source": [
    "from dd import cudd\n",
    "import time\n",
    "\n",
    "memory=1_000\n",
    "bdd = cudd.BDD(memory_estimate= memory * 2**30)\n",
    "root = bdd.false"
   ]
  },
  {
   "cell_type": "code",
   "execution_count": 19,
   "metadata": {},
   "outputs": [],
   "source": [
    "num_bits = 1\n",
    "vars_range = range(df_patterns.shape[1])\n",
    "vars = [f'x{n}_{i}' for i in range(num_bits) for n in vars_range]"
   ]
  },
  {
   "cell_type": "code",
   "execution_count": 20,
   "metadata": {},
   "outputs": [],
   "source": [
    "for v in vars:\n",
    "    bdd.add_var(v)\n",
    "\n",
    "vars = np.array([ *map(bdd.var, vars) ])\n",
    "vars_not = np.array([ ~v for v in vars ])"
   ]
  },
  {
   "cell_type": "code",
   "execution_count": 21,
   "metadata": {},
   "outputs": [],
   "source": [
    "# print(\n",
    "#     vars_not[0],\n",
    "#     vars[1],\n",
    "# )\n",
    "# print(df_patterns.iloc[0, :2])\n",
    "# np.where(df_patterns.iloc[0, :], vars, vars_not)[:2]"
   ]
  },
  {
   "cell_type": "code",
   "execution_count": 22,
   "metadata": {},
   "outputs": [],
   "source": [
    "construct_pattern = lambda row: np.bitwise_and.reduce( np.where(row, vars, vars_not) )\n",
    "test_pattern = lambda row: (root & construct_pattern(row) ) == bdd.false"
   ]
  },
  {
   "cell_type": "code",
   "execution_count": 23,
   "metadata": {},
   "outputs": [
    {
     "data": {
      "text/plain": [
       "'Finished in 69.874 seconds.'"
      ]
     },
     "execution_count": 23,
     "metadata": {},
     "output_type": "execute_result"
    }
   ],
   "source": [
    "t_start = time.perf_counter()\n",
    "\n",
    "results = np.zeros((df_patterns.shape[0] // 1000) + 1)\n",
    "\n",
    "for i, row in df_patterns.iterrows():\n",
    "    root |= construct_pattern( row )\n",
    "    if i % 1000 == 0:\n",
    "        results[i // 1000] = np.apply_along_axis(test_pattern, 1, df_test_patterns.to_numpy()).sum()\n",
    "        \n",
    "results[-1] = np.apply_along_axis(test_pattern, 1, df_test_patterns.to_numpy()).sum()\n",
    "\n",
    "t_end = time.perf_counter()\n",
    "f\"Finished in {round((t_end - t_start),3)} seconds.\""
   ]
  },
  {
   "cell_type": "code",
   "execution_count": 26,
   "metadata": {},
   "outputs": [
    {
     "data": {
      "text/plain": [
       "<Axes: >"
      ]
     },
     "execution_count": 26,
     "metadata": {},
     "output_type": "execute_result"
    },
    {
     "data": {
      "image/png": "[encoded data removed]",
      "text/plain": [
       "<Figure size 640x480 with 1 Axes>"
      ]
     },
     "metadata": {},
     "output_type": "display_data"
    }
   ],
   "source": [
    "sns.lineplot(x=range(results.shape[0]), y=results / df_test_patterns.shape[0])\n",
    "# plt.ylim(0)"
   ]
  },
  {
   "cell_type": "markdown",
   "metadata": {},
   "source": [
    "## Test vs Train"
   ]
  },
  {
   "cell_type": "code",
   "execution_count": 27,
   "metadata": {},
   "outputs": [],
   "source": [
    "# each set of data has its own threshold\n",
    "thld_p = 0.5\n",
    "eta = 0\n",
    "neurons = []\n",
    "# neurons = gte_mean\n",
    "# neurons = top_third\n",
    "\n",
    "\n",
    "df_true = df_test[df_test[\"true\"] == True].copy()\n",
    "df_true = df_true.drop(\"true\", axis=1).reset_index(drop=True)\n",
    "\n",
    "\n",
    "# calculate threshold\n",
    "thld = np.quantile( df_true.drop('y', axis=1), thld_p, axis=0)\n",
    "\n",
    "\n",
    "# BDD\n",
    "patterns = MonitorBDD( df_true.shape[1]-1, thld, neurons=neurons)\n",
    "df_train_copy, df_test_copy = patterns.add_dataframe( df_true, eta, eval_dfs=[df_train.copy(), df_test.copy()] )\n",
    "\n",
    "\n",
    "# score\n",
    "df_train_scores = patterns.score_dataframe_multi_eta(df_train_copy, eta)\n",
    "df_test_scores = patterns.score_dataframe_multi_eta(df_test_copy, eta)\n",
    "\n",
    "\n",
    "# add metadata\n",
    "patterns.stats['thld'] = f'qth_{thld_p}'\n",
    "patterns.stats['num_observations'] = df_true.shape[0]"
   ]
  },
  {
   "cell_type": "code",
   "execution_count": 28,
   "metadata": {
    "scrolled": false
   },
   "outputs": [
    {
     "data": {
      "text/html": [
       "<div>\n",
       "<style scoped>\n",
       "    .dataframe tbody tr th:only-of-type {\n",
       "        vertical-align: middle;\n",
       "    }\n",
       "\n",
       "    .dataframe tbody tr th {\n",
       "        vertical-align: top;\n",
       "    }\n",
       "\n",
       "    .dataframe thead th {\n",
       "        text-align: right;\n",
       "    }\n",
       "</style>\n",
       "<table border=\"1\" class=\"dataframe\">\n",
       "  <thead>\n",
       "    <tr style=\"text-align: right;\">\n",
       "      <th></th>\n",
       "      <th>thld</th>\n",
       "      <th>eta</th>\n",
       "      <th>build_time_min</th>\n",
       "      <th>size_mb</th>\n",
       "      <th>reorder_time_min</th>\n",
       "      <th>num_patterns</th>\n",
       "      <th>num_unique_patterns_%</th>\n",
       "      <th>num_reorder</th>\n",
       "      <th>num_neurons</th>\n",
       "      <th>start_time</th>\n",
       "      <th>end_time</th>\n",
       "      <th>num_observations</th>\n",
       "    </tr>\n",
       "  </thead>\n",
       "  <tbody>\n",
       "    <tr>\n",
       "      <th>1</th>\n",
       "      <td>qth_0.5</td>\n",
       "      <td>0.0</td>\n",
       "      <td>0.7</td>\n",
       "      <td>4310.014</td>\n",
       "      <td>0.0</td>\n",
       "      <td>4038.0</td>\n",
       "      <td>72.4</td>\n",
       "      <td>0.0</td>\n",
       "      <td>50.0</td>\n",
       "      <td>2023-08-03 10:51:29</td>\n",
       "      <td>2023-08-03 10:51:30</td>\n",
       "      <td>4038</td>\n",
       "    </tr>\n",
       "  </tbody>\n",
       "</table>\n",
       "</div>"
      ],
      "text/plain": [
       "      thld  eta  build_time_min   size_mb  reorder_time_min  num_patterns   \n",
       "1  qth_0.5  0.0             0.7  4310.014               0.0        4038.0  \\\n",
       "\n",
       "   num_unique_patterns_%  num_reorder  num_neurons           start_time   \n",
       "1                   72.4          0.0         50.0  2023-08-03 10:51:29  \\\n",
       "\n",
       "              end_time  num_observations  \n",
       "1  2023-08-03 10:51:30              4038  "
      ]
     },
     "execution_count": 28,
     "metadata": {},
     "output_type": "execute_result"
    }
   ],
   "source": [
    "patterns.stats"
   ]
  },
  {
   "cell_type": "code",
   "execution_count": 29,
   "metadata": {},
   "outputs": [
    {
     "data": {
      "text/html": [
       "<div>\n",
       "<style scoped>\n",
       "    .dataframe tbody tr th:only-of-type {\n",
       "        vertical-align: middle;\n",
       "    }\n",
       "\n",
       "    .dataframe tbody tr th {\n",
       "        vertical-align: top;\n",
       "    }\n",
       "\n",
       "    .dataframe thead th {\n",
       "        text-align: right;\n",
       "    }\n",
       "</style>\n",
       "<table border=\"1\" class=\"dataframe\">\n",
       "  <thead>\n",
       "    <tr style=\"text-align: right;\">\n",
       "      <th></th>\n",
       "      <th>y</th>\n",
       "      <th>count</th>\n",
       "      <th>false</th>\n",
       "      <th>false_misclassified</th>\n",
       "      <th>false_classified</th>\n",
       "      <th>outOfPattern</th>\n",
       "      <th>outOfPatternMisclassified</th>\n",
       "      <th>outOfPatternClassified</th>\n",
       "      <th>eta</th>\n",
       "    </tr>\n",
       "  </thead>\n",
       "  <tbody>\n",
       "    <tr>\n",
       "      <th>43</th>\n",
       "      <td>all</td>\n",
       "      <td>63968.0</td>\n",
       "      <td>62691.0</td>\n",
       "      <td>2344.0</td>\n",
       "      <td>60347.0</td>\n",
       "      <td>0.980037</td>\n",
       "      <td>0.03739</td>\n",
       "      <td>0.96261</td>\n",
       "      <td>0</td>\n",
       "    </tr>\n",
       "  </tbody>\n",
       "</table>\n",
       "</div>"
      ],
      "text/plain": [
       "      y    count    false  false_misclassified  false_classified   \n",
       "43  all  63968.0  62691.0               2344.0           60347.0  \\\n",
       "\n",
       "    outOfPattern  outOfPatternMisclassified  outOfPatternClassified  eta  \n",
       "43      0.980037                    0.03739                 0.96261    0  "
      ]
     },
     "execution_count": 29,
     "metadata": {},
     "output_type": "execute_result"
    }
   ],
   "source": [
    "df_train_scores.loc[ df_train_scores['y'] == 'all' ]"
   ]
  },
  {
   "cell_type": "code",
   "execution_count": 30,
   "metadata": {
    "scrolled": true
   },
   "outputs": [
    {
     "data": {
      "text/html": [
       "<div>\n",
       "<style scoped>\n",
       "    .dataframe tbody tr th:only-of-type {\n",
       "        vertical-align: middle;\n",
       "    }\n",
       "\n",
       "    .dataframe tbody tr th {\n",
       "        vertical-align: top;\n",
       "    }\n",
       "\n",
       "    .dataframe thead th {\n",
       "        text-align: right;\n",
       "    }\n",
       "</style>\n",
       "<table border=\"1\" class=\"dataframe\">\n",
       "  <thead>\n",
       "    <tr style=\"text-align: right;\">\n",
       "      <th></th>\n",
       "      <th>y</th>\n",
       "      <th>count</th>\n",
       "      <th>false</th>\n",
       "      <th>false_misclassified</th>\n",
       "      <th>false_classified</th>\n",
       "      <th>outOfPattern</th>\n",
       "      <th>outOfPatternMisclassified</th>\n",
       "      <th>outOfPatternClassified</th>\n",
       "      <th>eta</th>\n",
       "    </tr>\n",
       "  </thead>\n",
       "  <tbody>\n",
       "    <tr>\n",
       "      <th>43</th>\n",
       "      <td>all</td>\n",
       "      <td>4192.0</td>\n",
       "      <td>154.0</td>\n",
       "      <td>154.0</td>\n",
       "      <td>0.0</td>\n",
       "      <td>0.036737</td>\n",
       "      <td>1.0</td>\n",
       "      <td>0.0</td>\n",
       "      <td>0</td>\n",
       "    </tr>\n",
       "  </tbody>\n",
       "</table>\n",
       "</div>"
      ],
      "text/plain": [
       "      y   count  false  false_misclassified  false_classified  outOfPattern   \n",
       "43  all  4192.0  154.0                154.0               0.0      0.036737  \\\n",
       "\n",
       "    outOfPatternMisclassified  outOfPatternClassified  eta  \n",
       "43                        1.0                     0.0    0  "
      ]
     },
     "execution_count": 30,
     "metadata": {},
     "output_type": "execute_result"
    }
   ],
   "source": [
    "df_test_scores.loc[ df_test_scores['y'] == 'all' ]"
   ]
  },
  {
   "cell_type": "markdown",
   "metadata": {},
   "source": [
    "## Merge then sample Test"
   ]
  },
  {
   "cell_type": "code",
   "execution_count": 40,
   "metadata": {},
   "outputs": [],
   "source": [
    "from sklearn.model_selection import train_test_split\n",
    "\n",
    "# each set of data has its own threshold\n",
    "thld_p = 0.5\n",
    "eta = 0\n",
    "neurons = []\n",
    "# neurons = gte_mean\n",
    "# neurons = top_third\n",
    "\n",
    "df_train = pd.concat([df_train, df_test])\n",
    "df_train, df_test = train_test_split(df_train, test_size=0.2, shuffle=True, stratify=df_train['y'])\n",
    "\n",
    "# df_train = pd.concat([df_train, df_test])\n",
    "# df_test = df_train.sample(int(df_train.shape[0] * 0.2))\n",
    "\n",
    "\n",
    "df_true = df_train[df_train[\"true\"] == True].copy()\n",
    "df_true = df_true.drop(\"true\", axis=1).reset_index(drop=True)\n",
    "\n",
    "\n",
    "# calculate threshold\n",
    "thld = np.quantile( df_true.drop('y', axis=1), thld_p, axis=0)\n",
    "\n",
    "\n",
    "# BDD\n",
    "patterns = MonitorBDD( df_true.shape[1]-1, thld, neurons=neurons)\n",
    "df_train_copy, df_test_copy = patterns.add_dataframe( df_true, eta, eval_dfs=[df_train.copy(), df_test.copy()] )\n",
    "\n",
    "\n",
    "# score\n",
    "df_train_scores = patterns.score_dataframe_multi_eta(df_train_copy, eta)\n",
    "df_test_scores = patterns.score_dataframe_multi_eta(df_test_copy, eta)\n",
    "\n",
    "\n",
    "# add metadata\n",
    "patterns.stats['thld'] = f'qth_{thld_p}'\n",
    "patterns.stats['num_observations'] = df_true.shape[0]"
   ]
  },
  {
   "cell_type": "code",
   "execution_count": 41,
   "metadata": {
    "scrolled": false
   },
   "outputs": [
    {
     "data": {
      "text/html": [
       "<div>\n",
       "<style scoped>\n",
       "    .dataframe tbody tr th:only-of-type {\n",
       "        vertical-align: middle;\n",
       "    }\n",
       "\n",
       "    .dataframe tbody tr th {\n",
       "        vertical-align: top;\n",
       "    }\n",
       "\n",
       "    .dataframe thead th {\n",
       "        text-align: right;\n",
       "    }\n",
       "</style>\n",
       "<table border=\"1\" class=\"dataframe\">\n",
       "  <thead>\n",
       "    <tr style=\"text-align: right;\">\n",
       "      <th></th>\n",
       "      <th>thld</th>\n",
       "      <th>eta</th>\n",
       "      <th>build_time_min</th>\n",
       "      <th>size_mb</th>\n",
       "      <th>reorder_time_min</th>\n",
       "      <th>num_patterns</th>\n",
       "      <th>num_unique_patterns_%</th>\n",
       "      <th>num_reorder</th>\n",
       "      <th>num_neurons</th>\n",
       "      <th>start_time</th>\n",
       "      <th>end_time</th>\n",
       "      <th>num_observations</th>\n",
       "    </tr>\n",
       "  </thead>\n",
       "  <tbody>\n",
       "    <tr>\n",
       "      <th>1</th>\n",
       "      <td>qth_0.5</td>\n",
       "      <td>0.0</td>\n",
       "      <td>12.4</td>\n",
       "      <td>4341.121</td>\n",
       "      <td>0.0</td>\n",
       "      <td>52527.0</td>\n",
       "      <td>63.8</td>\n",
       "      <td>0.0</td>\n",
       "      <td>50.0</td>\n",
       "      <td>2023-08-03 10:58:00</td>\n",
       "      <td>2023-08-03 10:58:08</td>\n",
       "      <td>52527</td>\n",
       "    </tr>\n",
       "  </tbody>\n",
       "</table>\n",
       "</div>"
      ],
      "text/plain": [
       "      thld  eta  build_time_min   size_mb  reorder_time_min  num_patterns   \n",
       "1  qth_0.5  0.0            12.4  4341.121               0.0       52527.0  \\\n",
       "\n",
       "   num_unique_patterns_%  num_reorder  num_neurons           start_time   \n",
       "1                   63.8          0.0         50.0  2023-08-03 10:58:00  \\\n",
       "\n",
       "              end_time  num_observations  \n",
       "1  2023-08-03 10:58:08             52527  "
      ]
     },
     "execution_count": 41,
     "metadata": {},
     "output_type": "execute_result"
    }
   ],
   "source": [
    "patterns.stats"
   ]
  },
  {
   "cell_type": "code",
   "execution_count": 42,
   "metadata": {},
   "outputs": [
    {
     "data": {
      "text/html": [
       "<div>\n",
       "<style scoped>\n",
       "    .dataframe tbody tr th:only-of-type {\n",
       "        vertical-align: middle;\n",
       "    }\n",
       "\n",
       "    .dataframe tbody tr th {\n",
       "        vertical-align: top;\n",
       "    }\n",
       "\n",
       "    .dataframe thead th {\n",
       "        text-align: right;\n",
       "    }\n",
       "</style>\n",
       "<table border=\"1\" class=\"dataframe\">\n",
       "  <thead>\n",
       "    <tr style=\"text-align: right;\">\n",
       "      <th></th>\n",
       "      <th>y</th>\n",
       "      <th>count</th>\n",
       "      <th>false</th>\n",
       "      <th>false_misclassified</th>\n",
       "      <th>false_classified</th>\n",
       "      <th>outOfPattern</th>\n",
       "      <th>outOfPatternMisclassified</th>\n",
       "      <th>outOfPatternClassified</th>\n",
       "      <th>eta</th>\n",
       "    </tr>\n",
       "  </thead>\n",
       "  <tbody>\n",
       "    <tr>\n",
       "      <th>43</th>\n",
       "      <td>all</td>\n",
       "      <td>54528.0</td>\n",
       "      <td>1998.0</td>\n",
       "      <td>1998.0</td>\n",
       "      <td>0.0</td>\n",
       "      <td>0.036642</td>\n",
       "      <td>1.0</td>\n",
       "      <td>0.0</td>\n",
       "      <td>0</td>\n",
       "    </tr>\n",
       "  </tbody>\n",
       "</table>\n",
       "</div>"
      ],
      "text/plain": [
       "      y    count   false  false_misclassified  false_classified  outOfPattern   \n",
       "43  all  54528.0  1998.0               1998.0               0.0      0.036642  \\\n",
       "\n",
       "    outOfPatternMisclassified  outOfPatternClassified  eta  \n",
       "43                        1.0                     0.0    0  "
      ]
     },
     "execution_count": 42,
     "metadata": {},
     "output_type": "execute_result"
    }
   ],
   "source": [
    "df_train_scores.loc[ df_train_scores['y'] == 'all' ]"
   ]
  },
  {
   "cell_type": "code",
   "execution_count": 43,
   "metadata": {
    "scrolled": true
   },
   "outputs": [
    {
     "data": {
      "text/html": [
       "<div>\n",
       "<style scoped>\n",
       "    .dataframe tbody tr th:only-of-type {\n",
       "        vertical-align: middle;\n",
       "    }\n",
       "\n",
       "    .dataframe tbody tr th {\n",
       "        vertical-align: top;\n",
       "    }\n",
       "\n",
       "    .dataframe thead th {\n",
       "        text-align: right;\n",
       "    }\n",
       "</style>\n",
       "<table border=\"1\" class=\"dataframe\">\n",
       "  <thead>\n",
       "    <tr style=\"text-align: right;\">\n",
       "      <th></th>\n",
       "      <th>y</th>\n",
       "      <th>count</th>\n",
       "      <th>false</th>\n",
       "      <th>false_misclassified</th>\n",
       "      <th>false_classified</th>\n",
       "      <th>outOfPattern</th>\n",
       "      <th>outOfPatternMisclassified</th>\n",
       "      <th>outOfPatternClassified</th>\n",
       "      <th>eta</th>\n",
       "    </tr>\n",
       "  </thead>\n",
       "  <tbody>\n",
       "    <tr>\n",
       "      <th>43</th>\n",
       "      <td>all</td>\n",
       "      <td>13632.0</td>\n",
       "      <td>6674.0</td>\n",
       "      <td>498.0</td>\n",
       "      <td>6176.0</td>\n",
       "      <td>0.489583</td>\n",
       "      <td>0.074618</td>\n",
       "      <td>0.925382</td>\n",
       "      <td>0</td>\n",
       "    </tr>\n",
       "  </tbody>\n",
       "</table>\n",
       "</div>"
      ],
      "text/plain": [
       "      y    count   false  false_misclassified  false_classified  outOfPattern   \n",
       "43  all  13632.0  6674.0                498.0            6176.0      0.489583  \\\n",
       "\n",
       "    outOfPatternMisclassified  outOfPatternClassified  eta  \n",
       "43                   0.074618                0.925382    0  "
      ]
     },
     "execution_count": 43,
     "metadata": {},
     "output_type": "execute_result"
    }
   ],
   "source": [
    "df_test_scores.loc[ df_test_scores['y'] == 'all' ]"
   ]
  },
  {
   "cell_type": "code",
   "execution_count": null,
   "metadata": {},
   "outputs": [],
   "source": []
  },
  {
   "cell_type": "code",
   "execution_count": null,
   "metadata": {},
   "outputs": [],
   "source": []
  }
 ],
 "metadata": {
  "accelerator": "GPU",
  "colab": {
   "collapsed_sections": [
    "mcDeYOA8d1wL"
   ],
   "provenance": []
  },
  "gpuClass": "standard",
  "kernelspec": {
   "display_name": "Python 3",
   "language": "python",
   "name": "python3"
  },
  "language_info": {
   "codemirror_mode": {
    "name": "ipython",
    "version": 3
   },
   "file_extension": ".py",
   "mimetype": "text/x-python",
   "name": "python",
   "nbconvert_exporter": "python",
   "pygments_lexer": "ipython3",
   "version": "3.10.11"
  },
  "vscode": {
   "interpreter": {
    "hash": "2b89e4666a1b1f5f90ada5928a1b04d9ad859bf674b23c56e0417352230a6456"
   }
  }
 },
 "nbformat": 4,
 "nbformat_minor": 4
}
