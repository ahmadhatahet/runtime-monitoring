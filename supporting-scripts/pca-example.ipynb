{
 "cells": [
  {
   "cell_type": "markdown",
   "id": "94932d2c",
   "metadata": {},
   "source": [
    "# Import Libraries\n",
    "Source: https://www.kaggle.com/datasets/kukuroo3/body-performance-data"
   ]
  },
  {
   "cell_type": "code",
   "execution_count": 79,
   "id": "0893efc6",
   "metadata": {},
   "outputs": [],
   "source": [
    "# importing libraries\n",
    "import pandas as pd\n",
    "import numpy as np\n",
    "import seaborn as sns\n",
    "import matplotlib.pyplot as plt\n",
    "from fastprogress import progress_bar\n",
    "from sklearn.preprocessing import StandardScaler\n",
    "from sklearn.model_selection import train_test_split\n",
    "from sklearn.decomposition import PCA\n",
    "from sklearn.neural_network import MLPClassifier"
   ]
  },
  {
   "cell_type": "code",
   "execution_count": 80,
   "id": "90afe41f",
   "metadata": {},
   "outputs": [],
   "source": [
    "# ignore warnings\n",
    "import warnings\n",
    "warnings.filterwarnings('ignore')"
   ]
  },
  {
   "cell_type": "code",
   "execution_count": 81,
   "id": "f237d0de",
   "metadata": {},
   "outputs": [],
   "source": [
    "# set defult figuare settings\n",
    "sns.set_theme(\n",
    "    style='darkgrid',\n",
    "    rc={\"figure.figsize\":(16, 9)}\n",
    ")"
   ]
  },
  {
   "cell_type": "code",
   "execution_count": 82,
   "id": "bf55b753",
   "metadata": {},
   "outputs": [
    {
     "data": {
      "text/html": [
       "<div>\n",
       "<style scoped>\n",
       "    .dataframe tbody tr th:only-of-type {\n",
       "        vertical-align: middle;\n",
       "    }\n",
       "\n",
       "    .dataframe tbody tr th {\n",
       "        vertical-align: top;\n",
       "    }\n",
       "\n",
       "    .dataframe thead th {\n",
       "        text-align: right;\n",
       "    }\n",
       "</style>\n",
       "<table border=\"1\" class=\"dataframe\">\n",
       "  <thead>\n",
       "    <tr style=\"text-align: right;\">\n",
       "      <th></th>\n",
       "      <th>age</th>\n",
       "      <th>gender</th>\n",
       "      <th>height_cm</th>\n",
       "      <th>weight_kg</th>\n",
       "      <th>body fat_%</th>\n",
       "      <th>diastolic</th>\n",
       "      <th>systolic</th>\n",
       "      <th>gripForce</th>\n",
       "      <th>sit and bend forward_cm</th>\n",
       "      <th>sit-ups counts</th>\n",
       "      <th>broad jump_cm</th>\n",
       "      <th>class</th>\n",
       "    </tr>\n",
       "  </thead>\n",
       "  <tbody>\n",
       "    <tr>\n",
       "      <th>0</th>\n",
       "      <td>27.0</td>\n",
       "      <td>M</td>\n",
       "      <td>172.3</td>\n",
       "      <td>75.24</td>\n",
       "      <td>21.3</td>\n",
       "      <td>80.0</td>\n",
       "      <td>130.0</td>\n",
       "      <td>54.9</td>\n",
       "      <td>18.4</td>\n",
       "      <td>60.0</td>\n",
       "      <td>217.0</td>\n",
       "      <td>C</td>\n",
       "    </tr>\n",
       "    <tr>\n",
       "      <th>1</th>\n",
       "      <td>25.0</td>\n",
       "      <td>M</td>\n",
       "      <td>165.0</td>\n",
       "      <td>55.80</td>\n",
       "      <td>15.7</td>\n",
       "      <td>77.0</td>\n",
       "      <td>126.0</td>\n",
       "      <td>36.4</td>\n",
       "      <td>16.3</td>\n",
       "      <td>53.0</td>\n",
       "      <td>229.0</td>\n",
       "      <td>A</td>\n",
       "    </tr>\n",
       "    <tr>\n",
       "      <th>2</th>\n",
       "      <td>31.0</td>\n",
       "      <td>M</td>\n",
       "      <td>179.6</td>\n",
       "      <td>78.00</td>\n",
       "      <td>20.1</td>\n",
       "      <td>92.0</td>\n",
       "      <td>152.0</td>\n",
       "      <td>44.8</td>\n",
       "      <td>12.0</td>\n",
       "      <td>49.0</td>\n",
       "      <td>181.0</td>\n",
       "      <td>C</td>\n",
       "    </tr>\n",
       "    <tr>\n",
       "      <th>3</th>\n",
       "      <td>32.0</td>\n",
       "      <td>M</td>\n",
       "      <td>174.5</td>\n",
       "      <td>71.10</td>\n",
       "      <td>18.4</td>\n",
       "      <td>76.0</td>\n",
       "      <td>147.0</td>\n",
       "      <td>41.4</td>\n",
       "      <td>15.2</td>\n",
       "      <td>53.0</td>\n",
       "      <td>219.0</td>\n",
       "      <td>B</td>\n",
       "    </tr>\n",
       "    <tr>\n",
       "      <th>4</th>\n",
       "      <td>28.0</td>\n",
       "      <td>M</td>\n",
       "      <td>173.8</td>\n",
       "      <td>67.70</td>\n",
       "      <td>17.1</td>\n",
       "      <td>70.0</td>\n",
       "      <td>127.0</td>\n",
       "      <td>43.5</td>\n",
       "      <td>27.1</td>\n",
       "      <td>45.0</td>\n",
       "      <td>217.0</td>\n",
       "      <td>B</td>\n",
       "    </tr>\n",
       "  </tbody>\n",
       "</table>\n",
       "</div>"
      ],
      "text/plain": [
       "    age gender  height_cm  weight_kg  body fat_%  diastolic  systolic   \n",
       "0  27.0      M      172.3      75.24        21.3       80.0     130.0  \\\n",
       "1  25.0      M      165.0      55.80        15.7       77.0     126.0   \n",
       "2  31.0      M      179.6      78.00        20.1       92.0     152.0   \n",
       "3  32.0      M      174.5      71.10        18.4       76.0     147.0   \n",
       "4  28.0      M      173.8      67.70        17.1       70.0     127.0   \n",
       "\n",
       "   gripForce  sit and bend forward_cm  sit-ups counts  broad jump_cm class  \n",
       "0       54.9                     18.4            60.0          217.0     C  \n",
       "1       36.4                     16.3            53.0          229.0     A  \n",
       "2       44.8                     12.0            49.0          181.0     C  \n",
       "3       41.4                     15.2            53.0          219.0     B  \n",
       "4       43.5                     27.1            45.0          217.0     B  "
      ]
     },
     "execution_count": 82,
     "metadata": {},
     "output_type": "execute_result"
    }
   ],
   "source": [
    "# loading dataset\n",
    "df = pd.read_csv('data/bodyPerformance.csv')\n",
    "df.head()"
   ]
  },
  {
   "cell_type": "markdown",
   "id": "7cda2b31",
   "metadata": {},
   "source": [
    "### Drop NA & One Hot Encoding"
   ]
  },
  {
   "cell_type": "code",
   "execution_count": 83,
   "id": "0c9b4022",
   "metadata": {},
   "outputs": [],
   "source": [
    "# drop na values\n",
    "df.dropna(inplace=True)\n",
    "\n",
    "# reset index\n",
    "df.reset_index(inplace=True, drop=True)\n",
    "\n",
    "# one-hot encoding\n",
    "df = pd.get_dummies(df, columns=['gender'], drop_first=True)\n",
    "df['gender_M'] = df['gender_M'].astype(np.int8)"
   ]
  },
  {
   "cell_type": "markdown",
   "id": "d162063d",
   "metadata": {},
   "source": [
    "### Class Distribution"
   ]
  },
  {
   "cell_type": "code",
   "execution_count": 84,
   "id": "319222c1",
   "metadata": {},
   "outputs": [
    {
     "data": {
      "text/plain": [
       "<Axes: xlabel='class'>"
      ]
     },
     "execution_count": 84,
     "metadata": {},
     "output_type": "execute_result"
    },
    {
     "data": {
      "image/png": "[encoded data removed]",
      "text/plain": [
       "<Figure size 1600x900 with 1 Axes>"
      ]
     },
     "metadata": {},
     "output_type": "display_data"
    }
   ],
   "source": [
    "df['class'].value_counts().plot.bar(color='seagreen', hatch='/', edgecolor='black')"
   ]
  },
  {
   "cell_type": "markdown",
   "id": "671a5bea",
   "metadata": {},
   "source": [
    "### Normalize"
   ]
  },
  {
   "cell_type": "code",
   "execution_count": 85,
   "id": "5ba64c06",
   "metadata": {},
   "outputs": [],
   "source": [
    "# scaling the data\n",
    "scaler = StandardScaler()\n",
    "df_scaled = pd.DataFrame(scaler.fit_transform(df.drop(['gender_M', 'class'], axis=1)),\n",
    "                        columns=df.columns[:-2])\n",
    "\n",
    "df_scaled[['gender_M', 'class']] = df[['gender_M', 'class']]"
   ]
  },
  {
   "cell_type": "markdown",
   "id": "8e01f5df",
   "metadata": {},
   "source": [
    "### PCA"
   ]
  },
  {
   "cell_type": "code",
   "execution_count": 115,
   "id": "a184820b",
   "metadata": {},
   "outputs": [],
   "source": [
    "# split into variables x and target y\n",
    "x = df_scaled.drop(['class'], axis=1)\n",
    "y = df_scaled['class']"
   ]
  },
  {
   "cell_type": "code",
   "execution_count": 116,
   "id": "763cba6d",
   "metadata": {},
   "outputs": [
    {
     "data": {
      "text/html": [
       "<div>\n",
       "<style scoped>\n",
       "    .dataframe tbody tr th:only-of-type {\n",
       "        vertical-align: middle;\n",
       "    }\n",
       "\n",
       "    .dataframe tbody tr th {\n",
       "        vertical-align: top;\n",
       "    }\n",
       "\n",
       "    .dataframe thead th {\n",
       "        text-align: right;\n",
       "    }\n",
       "</style>\n",
       "<table border=\"1\" class=\"dataframe\">\n",
       "  <thead>\n",
       "    <tr style=\"text-align: right;\">\n",
       "      <th></th>\n",
       "      <th>age</th>\n",
       "      <th>height_cm</th>\n",
       "      <th>weight_kg</th>\n",
       "      <th>body fat_%</th>\n",
       "      <th>diastolic</th>\n",
       "      <th>systolic</th>\n",
       "      <th>gripForce</th>\n",
       "      <th>sit and bend forward_cm</th>\n",
       "      <th>sit-ups counts</th>\n",
       "      <th>broad jump_cm</th>\n",
       "      <th>gender_M</th>\n",
       "    </tr>\n",
       "  </thead>\n",
       "  <tbody>\n",
       "    <tr>\n",
       "      <th>11201</th>\n",
       "      <td>-0.570645</td>\n",
       "      <td>-0.956510</td>\n",
       "      <td>-0.924522</td>\n",
       "      <td>1.207159</td>\n",
       "      <td>0.205105</td>\n",
       "      <td>-0.627647</td>\n",
       "      <td>-1.031946</td>\n",
       "      <td>0.542873</td>\n",
       "      <td>1.136774</td>\n",
       "      <td>-0.429675</td>\n",
       "      <td>0</td>\n",
       "    </tr>\n",
       "    <tr>\n",
       "      <th>13266</th>\n",
       "      <td>-0.717432</td>\n",
       "      <td>0.348932</td>\n",
       "      <td>-0.288497</td>\n",
       "      <td>-0.970178</td>\n",
       "      <td>-0.353470</td>\n",
       "      <td>-1.103403</td>\n",
       "      <td>0.492836</td>\n",
       "      <td>0.199936</td>\n",
       "      <td>0.926634</td>\n",
       "      <td>1.250934</td>\n",
       "      <td>1</td>\n",
       "    </tr>\n",
       "    <tr>\n",
       "      <th>7222</th>\n",
       "      <td>0.970625</td>\n",
       "      <td>-0.042701</td>\n",
       "      <td>-0.916153</td>\n",
       "      <td>1.152036</td>\n",
       "      <td>-0.725853</td>\n",
       "      <td>-0.491716</td>\n",
       "      <td>-1.841398</td>\n",
       "      <td>-0.864351</td>\n",
       "      <td>-1.665099</td>\n",
       "      <td>-1.257437</td>\n",
       "      <td>0</td>\n",
       "    </tr>\n",
       "    <tr>\n",
       "      <th>12664</th>\n",
       "      <td>1.704563</td>\n",
       "      <td>-0.897171</td>\n",
       "      <td>-1.033316</td>\n",
       "      <td>0.463006</td>\n",
       "      <td>-0.912044</td>\n",
       "      <td>-1.647125</td>\n",
       "      <td>-1.380199</td>\n",
       "      <td>0.223587</td>\n",
       "      <td>0.086072</td>\n",
       "      <td>-1.834362</td>\n",
       "      <td>0</td>\n",
       "    </tr>\n",
       "    <tr>\n",
       "      <th>5727</th>\n",
       "      <td>-0.203676</td>\n",
       "      <td>1.049123</td>\n",
       "      <td>1.971065</td>\n",
       "      <td>0.655934</td>\n",
       "      <td>0.298200</td>\n",
       "      <td>0.663693</td>\n",
       "      <td>0.643432</td>\n",
       "      <td>-1.656654</td>\n",
       "      <td>1.136774</td>\n",
       "      <td>0.297753</td>\n",
       "      <td>1</td>\n",
       "    </tr>\n",
       "  </tbody>\n",
       "</table>\n",
       "</div>"
      ],
      "text/plain": [
       "            age  height_cm  weight_kg  body fat_%  diastolic  systolic   \n",
       "11201 -0.570645  -0.956510  -0.924522    1.207159   0.205105 -0.627647  \\\n",
       "13266 -0.717432   0.348932  -0.288497   -0.970178  -0.353470 -1.103403   \n",
       "7222   0.970625  -0.042701  -0.916153    1.152036  -0.725853 -0.491716   \n",
       "12664  1.704563  -0.897171  -1.033316    0.463006  -0.912044 -1.647125   \n",
       "5727  -0.203676   1.049123   1.971065    0.655934   0.298200  0.663693   \n",
       "\n",
       "       gripForce  sit and bend forward_cm  sit-ups counts  broad jump_cm   \n",
       "11201  -1.031946                 0.542873        1.136774      -0.429675  \\\n",
       "13266   0.492836                 0.199936        0.926634       1.250934   \n",
       "7222   -1.841398                -0.864351       -1.665099      -1.257437   \n",
       "12664  -1.380199                 0.223587        0.086072      -1.834362   \n",
       "5727    0.643432                -1.656654        1.136774       0.297753   \n",
       "\n",
       "       gender_M  \n",
       "11201         0  \n",
       "13266         1  \n",
       "7222          0  \n",
       "12664         0  \n",
       "5727          1  "
      ]
     },
     "execution_count": 116,
     "metadata": {},
     "output_type": "execute_result"
    }
   ],
   "source": [
    "x.sample(5)"
   ]
  },
  {
   "cell_type": "code",
   "execution_count": 117,
   "id": "737e66fb",
   "metadata": {},
   "outputs": [],
   "source": [
    "# apply PCA\n",
    "pca = PCA()\n",
    "x_pca = pd.DataFrame(pca.fit_transform(x),\n",
    "                     columns=[f'PC{i}' for i in range(1, x.shape[1]+1)])"
   ]
  },
  {
   "cell_type": "markdown",
   "id": "fd8305f5",
   "metadata": {},
   "source": [
    "### Explained Variance"
   ]
  },
  {
   "cell_type": "code",
   "execution_count": 216,
   "id": "f3a95e52",
   "metadata": {},
   "outputs": [
    {
     "data": {
      "text/plain": [
       "5"
      ]
     },
     "execution_count": 216,
     "metadata": {},
     "output_type": "execute_result"
    }
   ],
   "source": [
    "# number of PCs to obtain 90% of the original data\n",
    "num_components = max(np.where(~(np.cumsum(pca.explained_variance_ratio_) >= 0.9))[0]) + 1\n",
    "num_components"
   ]
  },
  {
   "cell_type": "code",
   "execution_count": 217,
   "id": "d94b4031",
   "metadata": {},
   "outputs": [
    {
     "data": {
      "image/png": "[encoded data removed]",
      "text/plain": [
       "<Figure size 1600x900 with 1 Axes>"
      ]
     },
     "metadata": {},
     "output_type": "display_data"
    }
   ],
   "source": [
    "# plot explained variance ratio\n",
    "ax = sns.barplot(x=x_pca.columns, y=pca.explained_variance_ratio_*100,\n",
    "                palette=['teal' if i <= num_components else 'gray' for i in range(len(pca.explained_variance_ratio_))])\n",
    "ax.bar_label(ax.containers[0], labels=[f'{round(i, 1)}%' for i in pca.explained_variance_ratio_*100])\n",
    "plt.yticks([])\n",
    "plt.axvline(num_components + 0.5, linestyle=':', linewidth=1, color='gray')\n",
    "plt.title('Explained Variance for each PC', fontsize=18)\n",
    "plt.show()"
   ]
  },
  {
   "cell_type": "code",
   "execution_count": 120,
   "id": "5e27ee40",
   "metadata": {},
   "outputs": [
    {
     "data": {
      "text/html": [
       "<div>\n",
       "<style scoped>\n",
       "    .dataframe tbody tr th:only-of-type {\n",
       "        vertical-align: middle;\n",
       "    }\n",
       "\n",
       "    .dataframe tbody tr th {\n",
       "        vertical-align: top;\n",
       "    }\n",
       "\n",
       "    .dataframe thead th {\n",
       "        text-align: right;\n",
       "    }\n",
       "</style>\n",
       "<table border=\"1\" class=\"dataframe\">\n",
       "  <thead>\n",
       "    <tr style=\"text-align: right;\">\n",
       "      <th></th>\n",
       "      <th>PC1</th>\n",
       "      <th>PC2</th>\n",
       "      <th>PC3</th>\n",
       "      <th>PC4</th>\n",
       "      <th>PC5</th>\n",
       "      <th>PC6</th>\n",
       "      <th>PC7</th>\n",
       "      <th>PC8</th>\n",
       "      <th>PC9</th>\n",
       "      <th>PC10</th>\n",
       "      <th>PC11</th>\n",
       "    </tr>\n",
       "  </thead>\n",
       "  <tbody>\n",
       "    <tr>\n",
       "      <th>age</th>\n",
       "      <td>0.406249</td>\n",
       "      <td>-0.558143</td>\n",
       "      <td>0.037912</td>\n",
       "      <td>-0.661776</td>\n",
       "      <td>0.194876</td>\n",
       "      <td>-0.058338</td>\n",
       "      <td>0.132274</td>\n",
       "      <td>0.124899</td>\n",
       "      <td>-0.090907</td>\n",
       "      <td>0.032291</td>\n",
       "      <td>-0.018563</td>\n",
       "    </tr>\n",
       "    <tr>\n",
       "      <th>height_cm</th>\n",
       "      <td>-0.863211</td>\n",
       "      <td>-0.093175</td>\n",
       "      <td>-0.246886</td>\n",
       "      <td>-0.015315</td>\n",
       "      <td>0.104817</td>\n",
       "      <td>0.262854</td>\n",
       "      <td>-0.231424</td>\n",
       "      <td>0.160774</td>\n",
       "      <td>-0.048658</td>\n",
       "      <td>0.152383</td>\n",
       "      <td>0.000521</td>\n",
       "    </tr>\n",
       "    <tr>\n",
       "      <th>weight_kg</th>\n",
       "      <td>-0.698792</td>\n",
       "      <td>-0.417310</td>\n",
       "      <td>-0.335821</td>\n",
       "      <td>0.173849</td>\n",
       "      <td>0.386726</td>\n",
       "      <td>-0.018747</td>\n",
       "      <td>0.003593</td>\n",
       "      <td>0.048660</td>\n",
       "      <td>-0.019776</td>\n",
       "      <td>-0.202894</td>\n",
       "      <td>-0.027783</td>\n",
       "    </tr>\n",
       "    <tr>\n",
       "      <th>body fat_%</th>\n",
       "      <td>0.673459</td>\n",
       "      <td>-0.354522</td>\n",
       "      <td>-0.185089</td>\n",
       "      <td>0.478614</td>\n",
       "      <td>0.310407</td>\n",
       "      <td>-0.133706</td>\n",
       "      <td>0.121315</td>\n",
       "      <td>-0.007604</td>\n",
       "      <td>-0.075750</td>\n",
       "      <td>0.148753</td>\n",
       "      <td>0.025367</td>\n",
       "    </tr>\n",
       "    <tr>\n",
       "      <th>diastolic</th>\n",
       "      <td>-0.224323</td>\n",
       "      <td>-0.718058</td>\n",
       "      <td>0.452988</td>\n",
       "      <td>0.218272</td>\n",
       "      <td>-0.204046</td>\n",
       "      <td>0.288034</td>\n",
       "      <td>0.236573</td>\n",
       "      <td>0.021637</td>\n",
       "      <td>0.009886</td>\n",
       "      <td>-0.013065</td>\n",
       "      <td>-0.002033</td>\n",
       "    </tr>\n",
       "    <tr>\n",
       "      <th>systolic</th>\n",
       "      <td>-0.302731</td>\n",
       "      <td>-0.736277</td>\n",
       "      <td>0.423821</td>\n",
       "      <td>0.060801</td>\n",
       "      <td>-0.123695</td>\n",
       "      <td>-0.266993</td>\n",
       "      <td>-0.308922</td>\n",
       "      <td>-0.027862</td>\n",
       "      <td>0.002699</td>\n",
       "      <td>0.013853</td>\n",
       "      <td>-0.003066</td>\n",
       "    </tr>\n",
       "    <tr>\n",
       "      <th>gripForce</th>\n",
       "      <td>-0.889371</td>\n",
       "      <td>-0.121334</td>\n",
       "      <td>-0.056016</td>\n",
       "      <td>-0.154334</td>\n",
       "      <td>0.176293</td>\n",
       "      <td>-0.070096</td>\n",
       "      <td>0.141440</td>\n",
       "      <td>-0.187751</td>\n",
       "      <td>0.256514</td>\n",
       "      <td>0.099891</td>\n",
       "      <td>-0.019746</td>\n",
       "    </tr>\n",
       "    <tr>\n",
       "      <th>sit and bend forward_cm</th>\n",
       "      <td>0.110171</td>\n",
       "      <td>0.401565</td>\n",
       "      <td>0.739331</td>\n",
       "      <td>-0.001842</td>\n",
       "      <td>0.512466</td>\n",
       "      <td>0.102299</td>\n",
       "      <td>-0.076777</td>\n",
       "      <td>-0.020223</td>\n",
       "      <td>0.003334</td>\n",
       "      <td>-0.012721</td>\n",
       "      <td>0.022495</td>\n",
       "    </tr>\n",
       "    <tr>\n",
       "      <th>sit-ups counts</th>\n",
       "      <td>-0.762481</td>\n",
       "      <td>0.398895</td>\n",
       "      <td>0.243516</td>\n",
       "      <td>0.124504</td>\n",
       "      <td>-0.067764</td>\n",
       "      <td>-0.235280</td>\n",
       "      <td>0.177149</td>\n",
       "      <td>0.304205</td>\n",
       "      <td>0.019641</td>\n",
       "      <td>0.022744</td>\n",
       "      <td>-0.002190</td>\n",
       "    </tr>\n",
       "    <tr>\n",
       "      <th>broad jump_cm</th>\n",
       "      <td>-0.894117</td>\n",
       "      <td>0.203842</td>\n",
       "      <td>0.097301</td>\n",
       "      <td>-0.037331</td>\n",
       "      <td>-0.034328</td>\n",
       "      <td>-0.055220</td>\n",
       "      <td>0.100268</td>\n",
       "      <td>-0.202700</td>\n",
       "      <td>-0.301915</td>\n",
       "      <td>0.029543</td>\n",
       "      <td>-0.028661</td>\n",
       "    </tr>\n",
       "    <tr>\n",
       "      <th>gender_M</th>\n",
       "      <td>-0.397845</td>\n",
       "      <td>-0.109954</td>\n",
       "      <td>-0.082410</td>\n",
       "      <td>-0.117256</td>\n",
       "      <td>-0.018238</td>\n",
       "      <td>-0.022489</td>\n",
       "      <td>0.035617</td>\n",
       "      <td>-0.023994</td>\n",
       "      <td>-0.019997</td>\n",
       "      <td>-0.029464</td>\n",
       "      <td>0.194114</td>\n",
       "    </tr>\n",
       "  </tbody>\n",
       "</table>\n",
       "</div>"
      ],
      "text/plain": [
       "                              PC1       PC2       PC3       PC4       PC5   \n",
       "age                      0.406249 -0.558143  0.037912 -0.661776  0.194876  \\\n",
       "height_cm               -0.863211 -0.093175 -0.246886 -0.015315  0.104817   \n",
       "weight_kg               -0.698792 -0.417310 -0.335821  0.173849  0.386726   \n",
       "body fat_%               0.673459 -0.354522 -0.185089  0.478614  0.310407   \n",
       "diastolic               -0.224323 -0.718058  0.452988  0.218272 -0.204046   \n",
       "systolic                -0.302731 -0.736277  0.423821  0.060801 -0.123695   \n",
       "gripForce               -0.889371 -0.121334 -0.056016 -0.154334  0.176293   \n",
       "sit and bend forward_cm  0.110171  0.401565  0.739331 -0.001842  0.512466   \n",
       "sit-ups counts          -0.762481  0.398895  0.243516  0.124504 -0.067764   \n",
       "broad jump_cm           -0.894117  0.203842  0.097301 -0.037331 -0.034328   \n",
       "gender_M                -0.397845 -0.109954 -0.082410 -0.117256 -0.018238   \n",
       "\n",
       "                              PC6       PC7       PC8       PC9      PC10   \n",
       "age                     -0.058338  0.132274  0.124899 -0.090907  0.032291  \\\n",
       "height_cm                0.262854 -0.231424  0.160774 -0.048658  0.152383   \n",
       "weight_kg               -0.018747  0.003593  0.048660 -0.019776 -0.202894   \n",
       "body fat_%              -0.133706  0.121315 -0.007604 -0.075750  0.148753   \n",
       "diastolic                0.288034  0.236573  0.021637  0.009886 -0.013065   \n",
       "systolic                -0.266993 -0.308922 -0.027862  0.002699  0.013853   \n",
       "gripForce               -0.070096  0.141440 -0.187751  0.256514  0.099891   \n",
       "sit and bend forward_cm  0.102299 -0.076777 -0.020223  0.003334 -0.012721   \n",
       "sit-ups counts          -0.235280  0.177149  0.304205  0.019641  0.022744   \n",
       "broad jump_cm           -0.055220  0.100268 -0.202700 -0.301915  0.029543   \n",
       "gender_M                -0.022489  0.035617 -0.023994 -0.019997 -0.029464   \n",
       "\n",
       "                             PC11  \n",
       "age                     -0.018563  \n",
       "height_cm                0.000521  \n",
       "weight_kg               -0.027783  \n",
       "body fat_%               0.025367  \n",
       "diastolic               -0.002033  \n",
       "systolic                -0.003066  \n",
       "gripForce               -0.019746  \n",
       "sit and bend forward_cm  0.022495  \n",
       "sit-ups counts          -0.002190  \n",
       "broad jump_cm           -0.028661  \n",
       "gender_M                 0.194114  "
      ]
     },
     "execution_count": 120,
     "metadata": {},
     "output_type": "execute_result"
    }
   ],
   "source": [
    "# calculate loadings\n",
    "pca_loadings = pca.components_.T * (np.sqrt(pca.explained_variance_))\n",
    "pca_loadings = pd.DataFrame(pca_loadings, columns=x_pca.columns, index=x.columns)\n",
    "\n",
    "pca_loadings"
   ]
  },
  {
   "cell_type": "code",
   "execution_count": 119,
   "id": "9591429c",
   "metadata": {},
   "outputs": [
    {
     "data": {
      "text/plain": [
       "1.0000000000000002"
      ]
     },
     "execution_count": 119,
     "metadata": {},
     "output_type": "execute_result"
    }
   ],
   "source": [
    "# sum of all coefficients regarding PC1 = ~1\n",
    "np.square(pca.components_[:, 1]).sum()"
   ]
  },
  {
   "cell_type": "code",
   "execution_count": 215,
   "id": "febdcb90",
   "metadata": {},
   "outputs": [
    {
     "data": {
      "text/html": [
       "<div>\n",
       "<style scoped>\n",
       "    .dataframe tbody tr th:only-of-type {\n",
       "        vertical-align: middle;\n",
       "    }\n",
       "\n",
       "    .dataframe tbody tr th {\n",
       "        vertical-align: top;\n",
       "    }\n",
       "\n",
       "    .dataframe thead th {\n",
       "        text-align: right;\n",
       "    }\n",
       "</style>\n",
       "<table border=\"1\" class=\"dataframe\">\n",
       "  <thead>\n",
       "    <tr style=\"text-align: right;\">\n",
       "      <th></th>\n",
       "      <th>PC1</th>\n",
       "      <th>PC2</th>\n",
       "      <th>PC3</th>\n",
       "      <th>PC4</th>\n",
       "    </tr>\n",
       "  </thead>\n",
       "  <tbody>\n",
       "    <tr>\n",
       "      <th>age</th>\n",
       "      <td>1</td>\n",
       "      <td>1</td>\n",
       "      <td>0</td>\n",
       "      <td>1</td>\n",
       "    </tr>\n",
       "    <tr>\n",
       "      <th>height_cm</th>\n",
       "      <td>1</td>\n",
       "      <td>0</td>\n",
       "      <td>1</td>\n",
       "      <td>0</td>\n",
       "    </tr>\n",
       "    <tr>\n",
       "      <th>weight_kg</th>\n",
       "      <td>1</td>\n",
       "      <td>1</td>\n",
       "      <td>1</td>\n",
       "      <td>0</td>\n",
       "    </tr>\n",
       "    <tr>\n",
       "      <th>body fat_%</th>\n",
       "      <td>1</td>\n",
       "      <td>1</td>\n",
       "      <td>0</td>\n",
       "      <td>1</td>\n",
       "    </tr>\n",
       "  </tbody>\n",
       "</table>\n",
       "</div>"
      ],
      "text/plain": [
       "            PC1  PC2  PC3  PC4\n",
       "age           1    1    0    1\n",
       "height_cm     1    0    1    0\n",
       "weight_kg     1    1    1    0\n",
       "body fat_%    1    1    0    1"
      ]
     },
     "execution_count": 215,
     "metadata": {},
     "output_type": "execute_result"
    }
   ],
   "source": [
    "# applying 0.2 threshold to loadings\n",
    "(pca_loadings.iloc[:4, :4].round(3).abs() >= 0.2).astype('int')"
   ]
  },
  {
   "cell_type": "markdown",
   "id": "a9c6d9f7",
   "metadata": {},
   "source": [
    "### Split into train and test"
   ]
  },
  {
   "cell_type": "code",
   "execution_count": 124,
   "id": "0300d202",
   "metadata": {},
   "outputs": [],
   "source": [
    "# split sclaed data\n",
    "x_train, x_test, y_train, y_test = train_test_split(x, y, shuffle=True, test_size=0.20, stratify=y)\n",
    "\n",
    "# \n",
    "y_train = y_train.map({'A':0, 'B':1, 'C':2, 'D':3})\n",
    "y_test = y_test.map({'A':0, 'B':1, 'C':2, 'D':3})\n",
    "\n",
    "# get the same split for pca data\n",
    "x_pca_train = x_pca.loc[x_train.index]\n",
    "x_pca_test = x_pca.loc[x_test.index]\n",
    "\n",
    "# assert all indecies for x and x_pca\n",
    "assert np.all(x_train.index == x_pca_train.index)\n",
    "assert np.all(x_test.index == x_pca_test.index)"
   ]
  },
  {
   "cell_type": "markdown",
   "id": "739e0cda",
   "metadata": {},
   "source": [
    "### MLP Classifier"
   ]
  },
  {
   "cell_type": "code",
   "execution_count": 161,
   "id": "be567cf4",
   "metadata": {},
   "outputs": [],
   "source": [
    "def fit_mlp_cls(x, y, x_test, y_test):\n",
    "    \"Train MLP model\"\n",
    "    cls = MLPClassifier(hidden_layer_sizes=[50, 50],\n",
    "                        batch_size=x.shape[0],\n",
    "                        shuffle=True,\n",
    "                        max_iter=100,\n",
    "                        early_stopping=True, n_iter_no_change=5)\n",
    "    cls.fit(x, y)\n",
    "    return cls, cls.n_iter_, cls.score(x, y), cls.score(x_test, y_test)"
   ]
  },
  {
   "cell_type": "code",
   "execution_count": 162,
   "id": "d2ba5cb1",
   "metadata": {},
   "outputs": [],
   "source": [
    "def calc_param_mlp(cls):\n",
    "    \"Calculate number of parameters for MLP model\"\n",
    "    params = 0\n",
    "    \n",
    "    for i in range(cls.n_layers_ - 3): # 3 input, output, last hidden layer\n",
    "        params += cls.hidden_layer_sizes[i] * cls.hidden_layer_sizes[i+1]\n",
    "        \n",
    "    params += cls.n_features_in_ * cls.hidden_layer_sizes[0]\n",
    "    params += cls.n_outputs_ * cls.hidden_layer_sizes[-1]\n",
    "    \n",
    "    params += sum(cls.hidden_layer_sizes) + cls.n_outputs_\n",
    "    \n",
    "    return params\n",
    "\n",
    "\n",
    "def compare_params(new, old):\n",
    "    return round((calc_param_mlp(new) - calc_param_mlp(old)) / calc_param_mlp(old), 4) * 100"
   ]
  },
  {
   "cell_type": "code",
   "execution_count": 175,
   "id": "03b31950",
   "metadata": {},
   "outputs": [
    {
     "data": {
      "text/html": [
       "\n",
       "    <div>\n",
       "        <style>\n",
       "            /* Turns off some styling */\n",
       "            progress {\n",
       "                /* gets rid of default border in Firefox and Opera. */\n",
       "                border: none;\n",
       "                /* Needs to be in here for Safari polyfill so background images work as expected. */\n",
       "                background-size: auto;\n",
       "            }\n",
       "            .progress-bar-interrupted, .progress-bar-interrupted::-webkit-progress-bar {\n",
       "                background: #F44336;\n",
       "            }\n",
       "        </style>\n",
       "      <progress value='11' class='' max='11' style='width:300px; height:20px; vertical-align: middle;'></progress>\n",
       "      100.00% [11/11 00:22<00:00]\n",
       "    </div>\n",
       "    "
      ],
      "text/plain": [
       "<IPython.core.display.HTML object>"
      ]
     },
     "metadata": {},
     "output_type": "display_data"
    }
   ],
   "source": [
    "# train MLP and gradually add columns\n",
    "scores = {'all':[], 'pca':[]}\n",
    "\n",
    "# run the model for 10 times\n",
    "for i in progress_bar(range(1, x_pca_train.shape[1]+1)):\n",
    "    \n",
    "    x_train_temp = x_train.iloc[:, :i]\n",
    "    x_test_temp = x_test.iloc[:, :i]\n",
    "    \n",
    "    x_pca_train_comp = x_pca_train.iloc[:, :i]\n",
    "    x_pca_test_comp = x_pca_test.iloc[:, :i]\n",
    "    \n",
    "    scores['all'].append(fit_mlp_cls(x_train_temp, y_train, x_test_temp, y_test)[-1])\n",
    "    scores['pca'].append(fit_mlp_cls(x_pca_train_comp, y_train, x_pca_test_comp, y_test)[-1])"
   ]
  },
  {
   "cell_type": "code",
   "execution_count": 176,
   "id": "86c63f9b",
   "metadata": {},
   "outputs": [
    {
     "data": {
      "image/png": "[encoded data removed]",
      "text/plain": [
       "<Figure size 1600x900 with 1 Axes>"
      ]
     },
     "metadata": {},
     "output_type": "display_data"
    }
   ],
   "source": [
    "sns.lineplot(x=range(1, x_pca_train.shape[1]+1), y=scores['pca'], label='PCA', linewidth=2)\n",
    "sns.lineplot(x=range(1, x_pca_train.shape[1]+1), y=scores['all'], label='RAW', linewidth=2)\n",
    "plt.xlabel('Columns')\n",
    "plt.ylabel('Accuracy')\n",
    "plt.ylim(0, 1)\n",
    "plt.title('MLP accuracy with increasing columns: PCA vs RAW', fontsize=18)\n",
    "plt.show()"
   ]
  },
  {
   "cell_type": "code",
   "execution_count": 220,
   "id": "032ff514",
   "metadata": {},
   "outputs": [
    {
     "name": "stdout",
     "output_type": "stream",
     "text": [
      "Best all accuracy: 61.40%\n",
      "Only 5 components of PCA accuracy: 58.01%\n",
      "The Accuracy of all data vs only 5 components of PCA is: ~-3.40%\n"
     ]
    }
   ],
   "source": [
    "print(\n",
    "    f\"Best all accuracy: {np.max(scores['all'])*100:.2f}%\",\n",
    "    f\"Only {num_components} components of PCA accuracy: {scores['pca'][num_components-1]*100:.2f}%\",\n",
    "    f\"The Accuracy of all data vs only {num_components} components of PCA is: ~{(scores['pca'][num_components-1] - np.max(scores['all']))*100:.2f}%\",\n",
    "    sep='\\n'\n",
    ")"
   ]
  },
  {
   "cell_type": "code",
   "execution_count": 156,
   "id": "8b2a8970",
   "metadata": {},
   "outputs": [],
   "source": [
    "def PCA(X , num_components):\n",
    "     \n",
    "    #Step-1\n",
    "    X_meaned = X - np.mean(X , axis = 0)\n",
    "     \n",
    "    #Step-2\n",
    "    cov_mat = np.cov(X_meaned , rowvar = False)\n",
    "     \n",
    "    #Step-3\n",
    "    eigen_values , eigen_vectors = np.linalg.eigh(cov_mat)\n",
    "     \n",
    "    #Step-4\n",
    "    sorted_index = np.argsort(eigen_values)[::-1]\n",
    "    sorted_eigenvalue = eigen_values[sorted_index]\n",
    "    sorted_eigenvectors = eigen_vectors[:,sorted_index]\n",
    "     \n",
    "    #Step-5\n",
    "    eigenvector_subset = sorted_eigenvectors[:,0:num_components]\n",
    "     \n",
    "    #Step-6\n",
    "    X_reduced = np.dot(eigenvector_subset.transpose() , X_meaned.transpose() ).transpose()\n",
    "     \n",
    "    return X_reduced"
   ]
  },
  {
   "cell_type": "code",
   "execution_count": null,
   "id": "5e8ae8b0",
   "metadata": {},
   "outputs": [],
   "source": []
  },
  {
   "cell_type": "code",
   "execution_count": null,
   "id": "d2093a71",
   "metadata": {},
   "outputs": [],
   "source": []
  },
  {
   "cell_type": "code",
   "execution_count": null,
   "id": "84c74ba3",
   "metadata": {},
   "outputs": [],
   "source": []
  }
 ],
 "metadata": {
  "kernelspec": {
   "display_name": "Python 3 (ipykernel)",
   "language": "python",
   "name": "python3"
  },
  "language_info": {
   "codemirror_mode": {
    "name": "ipython",
    "version": 3
   },
   "file_extension": ".py",
   "mimetype": "text/x-python",
   "name": "python",
   "nbconvert_exporter": "python",
   "pygments_lexer": "ipython3",
   "version": "3.10.12"
  }
 },
 "nbformat": 4,
 "nbformat_minor": 5
}
