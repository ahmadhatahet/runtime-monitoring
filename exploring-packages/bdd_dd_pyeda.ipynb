{
 "cells": [
  {
   "cell_type": "markdown",
   "metadata": {
    "id": "bg3r1pb868ZG"
   },
   "source": [
    "# PyEDA"
   ]
  },
  {
   "cell_type": "code",
   "execution_count": 3,
   "metadata": {
    "id": "H6f_8GSMcAVl"
   },
   "outputs": [],
   "source": [
    "%%capture\n",
    "\n",
    "!pip install pyeda dd"
   ]
  },
  {
   "cell_type": "code",
   "execution_count": 1,
   "metadata": {
    "id": "pXGE8-FrCtzm"
   },
   "outputs": [
    {
     "ename": "ModuleNotFoundError",
     "evalue": "No module named 'pyeda'",
     "output_type": "error",
     "traceback": [
      "\u001b[0;31m--------------------------------------------------------------------------\u001b[0m",
      "\u001b[0;31mModuleNotFoundError\u001b[0m                      Traceback (most recent call last)",
      "\u001b[0;32m<ipython-input-1-b5eb8ad4614c>\u001b[0m in \u001b[0;36m<module>\u001b[0;34m\u001b[0m\n\u001b[0;32m----> 1\u001b[0;31m \u001b[0;32mfrom\u001b[0m \u001b[0mpyeda\u001b[0m\u001b[0;34m.\u001b[0m\u001b[0minter\u001b[0m \u001b[0;32mimport\u001b[0m \u001b[0;34m*\u001b[0m\u001b[0;34m\u001b[0m\u001b[0;34m\u001b[0m\u001b[0m\n\u001b[0m\u001b[1;32m      2\u001b[0m \u001b[0;32mimport\u001b[0m \u001b[0mgraphviz\u001b[0m\u001b[0;34m\u001b[0m\u001b[0;34m\u001b[0m\u001b[0m\n\u001b[1;32m      3\u001b[0m \u001b[0;32mfrom\u001b[0m \u001b[0mPIL\u001b[0m \u001b[0;32mimport\u001b[0m \u001b[0mImage\u001b[0m\u001b[0;34m\u001b[0m\u001b[0;34m\u001b[0m\u001b[0m\n\u001b[1;32m      4\u001b[0m \u001b[0;32mimport\u001b[0m \u001b[0mrandom\u001b[0m\u001b[0;34m\u001b[0m\u001b[0;34m\u001b[0m\u001b[0m\n",
      "\u001b[0;31mModuleNotFoundError\u001b[0m: No module named 'pyeda'"
     ]
    }
   ],
   "source": [
    "from pyeda.inter import *\n",
    "import graphviz\n",
    "from PIL import Image\n",
    "import random"
   ]
  },
  {
   "cell_type": "code",
   "execution_count": null,
   "metadata": {
    "id": "rZ75qjryupG_"
   },
   "outputs": [],
   "source": [
    "# 1 = 0001\n",
    "str_binary = [format(i, '04b') for i in range(1, 5)]"
   ]
  },
  {
   "cell_type": "code",
   "execution_count": null,
   "metadata": {
    "id": "oNNQt5OatHns"
   },
   "outputs": [],
   "source": [
    "# 0001 = ~x4 & ~x3 & ~x2 & x1\n",
    "def convert_binary_str_to_expr(str_binary):\n",
    "    expr = ['~'*abs(int(str_binary[i])-1) + f'x{i}' for i in range(len(str_binary))]\n",
    "    return ' & '.join(expr)"
   ]
  },
  {
   "cell_type": "code",
   "execution_count": null,
   "metadata": {
    "id": "kpejNrkdtj9u"
   },
   "outputs": [],
   "source": [
    "# ~x4 & ~x3 & ~x2 & x1 | ~x4 & ~x3 & x2 & ~x1\n",
    "def join_exprs(str_binary):\n",
    "    formulas = []\n",
    "\n",
    "    for e in str_binary:\n",
    "        formulas.append( convert_binary_str_to_expr(e) )\n",
    "\n",
    "    return ' | '.join(formulas)"
   ]
  },
  {
   "cell_type": "code",
   "execution_count": null,
   "metadata": {
    "id": "5JC5dyZ8uMG9"
   },
   "outputs": [],
   "source": [
    "expression = join_exprs(str_binary)"
   ]
  },
  {
   "cell_type": "code",
   "execution_count": null,
   "metadata": {
    "colab": {
     "base_uri": "https://localhost:8080/",
     "height": 36
    },
    "executionInfo": {
     "elapsed": 34,
     "status": "ok",
     "timestamp": 1669627860324,
     "user": {
      "displayName": "Ahmad Hatahet",
      "userId": "04744914436475368613"
     },
     "user_tz": -60
    },
    "id": "z_E_uG7rD6i4",
    "outputId": "7cb6c2c0-2ceb-4705-e062-2ea59e9982d9"
   },
   "outputs": [
    {
     "data": {
      "application/vnd.google.colaboratory.intrinsic+json": {
       "type": "string"
      },
      "text/plain": [
       "'~x0 & ~x1 & ~x2 & x3 | ~x0 & ~x1 & x2 & ~x3 | ~x0 & ~x1 & x2 & x3 | ~x0 & x1 & ~x2 & ~x3'"
      ]
     },
     "execution_count": 7,
     "metadata": {},
     "output_type": "execute_result"
    }
   ],
   "source": [
    "expression"
   ]
  },
  {
   "cell_type": "code",
   "execution_count": null,
   "metadata": {
    "colab": {
     "base_uri": "https://localhost:8080/"
    },
    "executionInfo": {
     "elapsed": 30,
     "status": "ok",
     "timestamp": 1669627860325,
     "user": {
      "displayName": "Ahmad Hatahet",
      "userId": "04744914436475368613"
     },
     "user_tz": -60
    },
    "id": "7Hxr5Uktkxze",
    "outputId": "6215c605-7798-4b31-c4d9-4691d3f0e5e8"
   },
   "outputs": [
    {
     "data": {
      "text/plain": [
       "Or(And(~x0, ~x1, ~x2, x3), And(~x0, ~x1, x2, ~x3), And(~x0, ~x1, x2, x3), And(~x0, x1, ~x2, ~x3))"
      ]
     },
     "execution_count": 8,
     "metadata": {},
     "output_type": "execute_result"
    }
   ],
   "source": [
    "expr(expression)"
   ]
  },
  {
   "cell_type": "code",
   "execution_count": null,
   "metadata": {
    "id": "SgPDg-cHDOMO"
   },
   "outputs": [],
   "source": [
    "bdd_exprs = expr(expression)\n",
    "bdd = expr2bdd(bdd_exprs)"
   ]
  },
  {
   "cell_type": "code",
   "execution_count": null,
   "metadata": {
    "colab": {
     "base_uri": "https://localhost:8080/"
    },
    "id": "USm5TpgkxO23",
    "outputId": "62b1ba1c-c3ae-4c3c-e278-00a759f3fab4"
   },
   "outputs": [
    {
     "data": {
      "text/plain": [
       "x3 x2 x1 x0\n",
       " 0  0  0  0 : 0\n",
       " 0  0  0  1 : 0\n",
       " 0  0  1  0 : 1\n",
       " 0  0  1  1 : 0\n",
       " 0  1  0  0 : 1\n",
       " 0  1  0  1 : 0\n",
       " 0  1  1  0 : 0\n",
       " 0  1  1  1 : 0\n",
       " 1  0  0  0 : 1\n",
       " 1  0  0  1 : 0\n",
       " 1  0  1  0 : 0\n",
       " 1  0  1  1 : 0\n",
       " 1  1  0  0 : 1\n",
       " 1  1  0  1 : 0\n",
       " 1  1  1  0 : 0\n",
       " 1  1  1  1 : 0"
      ]
     },
     "execution_count": 9,
     "metadata": {},
     "output_type": "execute_result"
    }
   ],
   "source": [
    "bdd_truthtable = expr2truthtable( bdd_exprs )\n",
    "bdd_truthtable"
   ]
  },
  {
   "cell_type": "code",
   "execution_count": null,
   "metadata": {
    "colab": {
     "base_uri": "https://localhost:8080/",
     "height": 574
    },
    "id": "ikH_SU8mur0y",
    "outputId": "b6c27175-5885-4ee2-98ce-3796ee3cd168"
   },
   "outputs": [
    {
     "data": {
      "image/svg+xml": [
       "<?xml version=\"1.0\" encoding=\"UTF-8\" standalone=\"no\"?>\n",
       "<!DOCTYPE svg PUBLIC \"-//W3C//DTD SVG 1.1//EN\"\n",
       " \"http://www.w3.org/Graphics/SVG/1.1/DTD/svg11.dtd\">\n",
       "<!-- Generated by graphviz version 2.40.1 (20161225.0304)\n",
       " -->\n",
       "<!-- Title: BDD Pages: 1 -->\n",
       "<svg width=\"212pt\" height=\"414pt\"\n",
       " viewBox=\"0.00 0.00 211.80 414.39\" xmlns=\"http://www.w3.org/2000/svg\" xmlns:xlink=\"http://www.w3.org/1999/xlink\">\n",
       "<g id=\"graph0\" class=\"graph\" transform=\"scale(1 1) rotate(0) translate(4 410.3852)\">\n",
       "<title>BDD</title>\n",
       "<polygon fill=\"#ffffff\" stroke=\"transparent\" points=\"-4,4 -4,-410.3852 207.7982,-410.3852 207.7982,4 -4,4\"/>\n",
       "<!-- n140349769338128 -->\n",
       "<g id=\"node1\" class=\"node\">\n",
       "<title>n140349769338128</title>\n",
       "<polygon fill=\"none\" stroke=\"#000000\" points=\"94.7982,-36 40.7982,-36 40.7982,0 94.7982,0 94.7982,-36\"/>\n",
       "<text text-anchor=\"middle\" x=\"67.7982\" y=\"-14.3\" font-family=\"Times,serif\" font-size=\"14.00\" fill=\"#000000\">0</text>\n",
       "</g>\n",
       "<!-- n140349769338064 -->\n",
       "<g id=\"node2\" class=\"node\">\n",
       "<title>n140349769338064</title>\n",
       "<polygon fill=\"none\" stroke=\"#000000\" points=\"203.7982,-36 149.7982,-36 149.7982,0 203.7982,0 203.7982,-36\"/>\n",
       "<text text-anchor=\"middle\" x=\"176.7982\" y=\"-14.3\" font-family=\"Times,serif\" font-size=\"14.00\" fill=\"#000000\">1</text>\n",
       "</g>\n",
       "<!-- n140349761833040 -->\n",
       "<g id=\"node3\" class=\"node\">\n",
       "<title>n140349761833040</title>\n",
       "<ellipse fill=\"none\" stroke=\"#000000\" cx=\"157.7982\" cy=\"-107.7982\" rx=\"20.5982\" ry=\"20.5982\"/>\n",
       "<text text-anchor=\"middle\" x=\"157.7982\" y=\"-104.0982\" font-family=\"Times,serif\" font-size=\"14.00\" fill=\"#000000\">x3</text>\n",
       "</g>\n",
       "<!-- n140349761833040&#45;&#45;n140349769338128 -->\n",
       "<g id=\"edge1\" class=\"edge\">\n",
       "<title>n140349761833040&#45;&#45;n140349769338128</title>\n",
       "<path fill=\"none\" stroke=\"#000000\" stroke-dasharray=\"5,2\" d=\"M142.9365,-92.9698C127.3593,-77.4276 102.8651,-52.9883 86.1059,-36.2667\"/>\n",
       "<text text-anchor=\"middle\" x=\"121.7982\" y=\"-57.8\" font-family=\"Times,serif\" font-size=\"14.00\" fill=\"#000000\">0</text>\n",
       "</g>\n",
       "<!-- n140349761833040&#45;&#45;n140349769338064 -->\n",
       "<g id=\"edge2\" class=\"edge\">\n",
       "<title>n140349761833040&#45;&#45;n140349769338064</title>\n",
       "<path fill=\"none\" stroke=\"#000000\" d=\"M162.1095,-87.4216C165.3723,-72.0011 169.8129,-51.0137 172.955,-36.1635\"/>\n",
       "<text text-anchor=\"middle\" x=\"172.7982\" y=\"-57.8\" font-family=\"Times,serif\" font-size=\"14.00\" fill=\"#000000\">1</text>\n",
       "</g>\n",
       "<!-- n140349761831888 -->\n",
       "<g id=\"node4\" class=\"node\">\n",
       "<title>n140349761831888</title>\n",
       "<ellipse fill=\"none\" stroke=\"#000000\" cx=\"157.7982\" cy=\"-200.3945\" rx=\"20.5982\" ry=\"20.5982\"/>\n",
       "<text text-anchor=\"middle\" x=\"157.7982\" y=\"-196.6945\" font-family=\"Times,serif\" font-size=\"14.00\" fill=\"#000000\">x2</text>\n",
       "</g>\n",
       "<!-- n140349761831888&#45;&#45;n140349769338064 -->\n",
       "<g id=\"edge4\" class=\"edge\">\n",
       "<title>n140349761831888&#45;&#45;n140349769338064</title>\n",
       "<path fill=\"none\" stroke=\"#000000\" d=\"M167.8041,-182.1439C174.9594,-168.0032 183.9735,-147.6701 187.7982,-128.5963 194.2473,-96.4342 187.2804,-58.2167 181.8717,-36.169\"/>\n",
       "<text text-anchor=\"middle\" x=\"193.7982\" y=\"-104.0982\" font-family=\"Times,serif\" font-size=\"14.00\" fill=\"#000000\">1</text>\n",
       "</g>\n",
       "<!-- n140349761831888&#45;&#45;n140349761833040 -->\n",
       "<g id=\"edge3\" class=\"edge\">\n",
       "<title>n140349761831888&#45;&#45;n140349761833040</title>\n",
       "<path fill=\"none\" stroke=\"#000000\" stroke-dasharray=\"5,2\" d=\"M157.7982,-179.3829C157.7982,-164.229 157.7982,-143.8614 157.7982,-128.7265\"/>\n",
       "<text text-anchor=\"middle\" x=\"161.7982\" y=\"-150.3963\" font-family=\"Times,serif\" font-size=\"14.00\" fill=\"#000000\">0</text>\n",
       "</g>\n",
       "<!-- n140349761831440 -->\n",
       "<g id=\"node5\" class=\"node\">\n",
       "<title>n140349761831440</title>\n",
       "<ellipse fill=\"none\" stroke=\"#000000\" cx=\"97.7982\" cy=\"-107.7982\" rx=\"20.5982\" ry=\"20.5982\"/>\n",
       "<text text-anchor=\"middle\" x=\"97.7982\" y=\"-104.0982\" font-family=\"Times,serif\" font-size=\"14.00\" fill=\"#000000\">x3</text>\n",
       "</g>\n",
       "<!-- n140349761831440&#45;&#45;n140349769338128 -->\n",
       "<g id=\"edge6\" class=\"edge\">\n",
       "<title>n140349761831440&#45;&#45;n140349769338128</title>\n",
       "<path fill=\"none\" stroke=\"#000000\" d=\"M91.1402,-87.869C85.9615,-72.3679 78.8378,-51.0445 73.8263,-36.0437\"/>\n",
       "<text text-anchor=\"middle\" x=\"87.7982\" y=\"-57.8\" font-family=\"Times,serif\" font-size=\"14.00\" fill=\"#000000\">1</text>\n",
       "</g>\n",
       "<!-- n140349761831440&#45;&#45;n140349769338064 -->\n",
       "<g id=\"edge5\" class=\"edge\">\n",
       "<title>n140349761831440&#45;&#45;n140349769338064</title>\n",
       "<path fill=\"none\" stroke=\"#000000\" stroke-dasharray=\"5,2\" d=\"M111.5589,-92.1565C125.2631,-76.5791 146.2886,-52.6798 160.7459,-36.2464\"/>\n",
       "<text text-anchor=\"middle\" x=\"147.7982\" y=\"-57.8\" font-family=\"Times,serif\" font-size=\"14.00\" fill=\"#000000\">0</text>\n",
       "</g>\n",
       "<!-- n140349761830992 -->\n",
       "<g id=\"node6\" class=\"node\">\n",
       "<title>n140349761830992</title>\n",
       "<ellipse fill=\"none\" stroke=\"#000000\" cx=\"75.7982\" cy=\"-200.3945\" rx=\"20.5982\" ry=\"20.5982\"/>\n",
       "<text text-anchor=\"middle\" x=\"75.7982\" y=\"-196.6945\" font-family=\"Times,serif\" font-size=\"14.00\" fill=\"#000000\">x2</text>\n",
       "</g>\n",
       "<!-- n140349761830992&#45;&#45;n140349769338128 -->\n",
       "<g id=\"edge8\" class=\"edge\">\n",
       "<title>n140349761830992&#45;&#45;n140349769338128</title>\n",
       "<path fill=\"none\" stroke=\"#000000\" d=\"M70.0439,-180.1684C66.2905,-165.8919 61.7404,-146.241 59.7982,-128.5963 56.2175,-96.0662 60.9202,-57.9695 64.484,-36.0444\"/>\n",
       "<text text-anchor=\"middle\" x=\"63.7982\" y=\"-104.0982\" font-family=\"Times,serif\" font-size=\"14.00\" fill=\"#000000\">1</text>\n",
       "</g>\n",
       "<!-- n140349761830992&#45;&#45;n140349761831440 -->\n",
       "<g id=\"edge7\" class=\"edge\">\n",
       "<title>n140349761830992&#45;&#45;n140349761831440</title>\n",
       "<path fill=\"none\" stroke=\"#000000\" stroke-dasharray=\"5,2\" d=\"M80.6807,-179.8443C84.3264,-164.4996 89.2868,-143.6218 92.9293,-128.2908\"/>\n",
       "<text text-anchor=\"middle\" x=\"91.7982\" y=\"-150.3963\" font-family=\"Times,serif\" font-size=\"14.00\" fill=\"#000000\">0</text>\n",
       "</g>\n",
       "<!-- n140349761833232 -->\n",
       "<g id=\"node7\" class=\"node\">\n",
       "<title>n140349761833232</title>\n",
       "<ellipse fill=\"none\" stroke=\"#000000\" cx=\"75.7982\" cy=\"-292.9908\" rx=\"20.5982\" ry=\"20.5982\"/>\n",
       "<text text-anchor=\"middle\" x=\"75.7982\" y=\"-289.2908\" font-family=\"Times,serif\" font-size=\"14.00\" fill=\"#000000\">x1</text>\n",
       "</g>\n",
       "<!-- n140349761833232&#45;&#45;n140349761831888 -->\n",
       "<g id=\"edge9\" class=\"edge\">\n",
       "<title>n140349761833232&#45;&#45;n140349761831888</title>\n",
       "<path fill=\"none\" stroke=\"#000000\" stroke-dasharray=\"5,2\" d=\"M89.7083,-277.2831C104.7871,-260.2558 128.7143,-233.2366 143.8197,-216.1792\"/>\n",
       "<text text-anchor=\"middle\" x=\"124.7982\" y=\"-242.9926\" font-family=\"Times,serif\" font-size=\"14.00\" fill=\"#000000\">0</text>\n",
       "</g>\n",
       "<!-- n140349761833232&#45;&#45;n140349761830992 -->\n",
       "<g id=\"edge10\" class=\"edge\">\n",
       "<title>n140349761833232&#45;&#45;n140349761830992</title>\n",
       "<path fill=\"none\" stroke=\"#000000\" d=\"M75.7982,-271.9792C75.7982,-256.8253 75.7982,-236.4577 75.7982,-221.3228\"/>\n",
       "<text text-anchor=\"middle\" x=\"79.7982\" y=\"-242.9926\" font-family=\"Times,serif\" font-size=\"14.00\" fill=\"#000000\">1</text>\n",
       "</g>\n",
       "<!-- n140349761833616 -->\n",
       "<g id=\"node8\" class=\"node\">\n",
       "<title>n140349761833616</title>\n",
       "<ellipse fill=\"none\" stroke=\"#000000\" cx=\"20.7982\" cy=\"-385.5871\" rx=\"20.5982\" ry=\"20.5982\"/>\n",
       "<text text-anchor=\"middle\" x=\"20.7982\" y=\"-381.8871\" font-family=\"Times,serif\" font-size=\"14.00\" fill=\"#000000\">x0</text>\n",
       "</g>\n",
       "<!-- n140349761833616&#45;&#45;n140349769338128 -->\n",
       "<g id=\"edge12\" class=\"edge\">\n",
       "<title>n140349761833616&#45;&#45;n140349769338128</title>\n",
       "<path fill=\"none\" stroke=\"#000000\" d=\"M15.2919,-365.5287C10.6636,-346.8886 4.7982,-318.2774 4.7982,-292.9908 4.7982,-292.9908 4.7982,-292.9908 4.7982,-107.7982 4.7982,-78.8512 27.0081,-52.6214 45.0537,-36.0871\"/>\n",
       "<text text-anchor=\"middle\" x=\"8.7982\" y=\"-196.6945\" font-family=\"Times,serif\" font-size=\"14.00\" fill=\"#000000\">1</text>\n",
       "</g>\n",
       "<!-- n140349761833616&#45;&#45;n140349761833232 -->\n",
       "<g id=\"edge11\" class=\"edge\">\n",
       "<title>n140349761833616&#45;&#45;n140349761833232</title>\n",
       "<path fill=\"none\" stroke=\"#000000\" stroke-dasharray=\"5,2\" d=\"M31.6644,-367.293C41.3693,-350.9542 55.5012,-327.162 65.1416,-310.9317\"/>\n",
       "<text text-anchor=\"middle\" x=\"54.7982\" y=\"-335.5889\" font-family=\"Times,serif\" font-size=\"14.00\" fill=\"#000000\">0</text>\n",
       "</g>\n",
       "</g>\n",
       "</svg>\n"
      ],
      "text/plain": [
       "<graphviz.files.Source at 0x7fa5b9b471d0>"
      ]
     },
     "execution_count": 10,
     "metadata": {},
     "output_type": "execute_result"
    }
   ],
   "source": [
    "viz_filename = 'test_pyeda_todot.gv'\n",
    "viz_format = 'pdf'\n",
    "bdd_viz = graphviz.Source( bdd.to_dot(), filename=viz_filename, format=viz_format)\n",
    "\n",
    "# append img format automatically\n",
    "bdd_viz.render(filename=viz_filename)\n",
    "\n",
    "bdd_viz "
   ]
  },
  {
   "cell_type": "code",
   "execution_count": null,
   "metadata": {
    "id": "DaBNQ1msgjs8"
   },
   "outputs": [],
   "source": [
    "!find . -maxdepth 1 -name \"*.gv*\" -delete"
   ]
  },
  {
   "cell_type": "markdown",
   "metadata": {
    "id": "yTyftDpEyo4K"
   },
   "source": [
    "## Experiment"
   ]
  },
  {
   "cell_type": "code",
   "execution_count": null,
   "metadata": {
    "id": "x-36xdmIyuU8"
   },
   "outputs": [],
   "source": [
    "num_vars = 10 # simulate number of neurons\n",
    "num_exprs = 30 # simulate number of instances\n",
    "\n",
    "str_binary = []\n",
    "for _ in range(num_exprs):\n",
    "    # pick random number from normal distribuation\n",
    "    # if > 0 then neuron is active, else not active\n",
    "    str_binary.append( [random.gauss(0, 1) > 0 for _ in range(num_vars)] )"
   ]
  },
  {
   "cell_type": "code",
   "execution_count": null,
   "metadata": {
    "id": "LF4TVugtzbP1"
   },
   "outputs": [],
   "source": [
    "expression = join_exprs(str_binary)"
   ]
  },
  {
   "cell_type": "code",
   "execution_count": null,
   "metadata": {
    "colab": {
     "base_uri": "https://localhost:8080/",
     "height": 36
    },
    "id": "pPKvBASLz_Mf",
    "outputId": "24d061c7-85ca-4c9a-da80-5d3fdd6e585b"
   },
   "outputs": [
    {
     "data": {
      "application/vnd.google.colaboratory.intrinsic+json": {
       "type": "string"
      },
      "text/plain": [
       "'x0 & x1 & x2 & ~x3 & ~x4 & x5 & x6 & x7 & ~x8 & x9 | x0 & x1 & ~x2 & ~x3 & ~x4 & x5 & x6 & ~x7 & x8 '"
      ]
     },
     "execution_count": 14,
     "metadata": {},
     "output_type": "execute_result"
    }
   ],
   "source": [
    "expression[:100]"
   ]
  },
  {
   "cell_type": "code",
   "execution_count": null,
   "metadata": {
    "colab": {
     "base_uri": "https://localhost:8080/"
    },
    "id": "8TjGnr3x_I89",
    "outputId": "a51ab7be-87ed-42c0-8bef-ddc6b0cdd7c3"
   },
   "outputs": [
    {
     "data": {
      "text/plain": [
       "(x0, x1, x2, x3)"
      ]
     },
     "execution_count": 15,
     "metadata": {},
     "output_type": "execute_result"
    }
   ],
   "source": [
    "bdd.inputs"
   ]
  },
  {
   "cell_type": "code",
   "execution_count": null,
   "metadata": {
    "id": "dJyeSmeZyuU8"
   },
   "outputs": [],
   "source": [
    "# convert text expresseion to bdd expression\n",
    "bdd_exprs = expr(expression)\n",
    "\n",
    "# construct a tree from the expression\n",
    "bdd = expr2bdd(bdd_exprs)"
   ]
  },
  {
   "cell_type": "code",
   "execution_count": null,
   "metadata": {
    "id": "eTa7v4J20NDH"
   },
   "outputs": [],
   "source": [
    "# generate truth table\n",
    "bdd_truthtable = expr2truthtable( bdd )\n",
    "# bdd_truthtable"
   ]
  },
  {
   "cell_type": "code",
   "execution_count": null,
   "metadata": {
    "colab": {
     "base_uri": "https://localhost:8080/",
     "height": 36
    },
    "id": "7el8_LmZ0VAh",
    "outputId": "e4edfeae-3cea-41c8-82af-37a98f6e348e"
   },
   "outputs": [
    {
     "data": {
      "application/vnd.google.colaboratory.intrinsic+json": {
       "type": "string"
      },
      "text/plain": [
       "'test_pyeda.gv.pdf'"
      ]
     },
     "execution_count": 18,
     "metadata": {},
     "output_type": "execute_result"
    }
   ],
   "source": [
    "# save bdd representaion\n",
    "viz_filename = 'test_pyeda.gv'\n",
    "viz_format = 'pdf'\n",
    "bdd_viz = graphviz.Source( bdd.to_dot(), filename=viz_filename, format=viz_format)\n",
    "\n",
    "# img format appended automatically\n",
    "bdd_viz.render(filename=viz_filename)"
   ]
  },
  {
   "cell_type": "code",
   "execution_count": null,
   "metadata": {
    "colab": {
     "base_uri": "https://localhost:8080/"
    },
    "id": "g3hCUAFO_VzF",
    "outputId": "d6f5a812-6ad4-415b-96b8-ead4f1ee3e5b"
   },
   "outputs": [
    {
     "data": {
      "text/plain": [
       "{x0: 0, x1: 0, x2: 0, x3: 0, x4: 0, x5: 1, x6: 1, x7: 0, x8: 1, x9: 0}"
      ]
     },
     "execution_count": 36,
     "metadata": {},
     "output_type": "execute_result"
    }
   ],
   "source": [
    "bdd.satisfy_one()"
   ]
  },
  {
   "cell_type": "code",
   "execution_count": null,
   "metadata": {
    "id": "QT96O85B_p0-"
   },
   "outputs": [],
   "source": [
    "# get a true expr to test using satisfy_one()\n",
    "test_true = [v if s else ~v for v, s in zip(bdd.inputs, bdd.satisfy_one().values())]"
   ]
  },
  {
   "cell_type": "code",
   "execution_count": null,
   "metadata": {
    "colab": {
     "base_uri": "https://localhost:8080/"
    },
    "id": "6y3nlsSo4mG6",
    "outputId": "634aa15c-f4be-4a9c-9304-f53c944d4b73"
   },
   "outputs": [
    {
     "data": {
      "text/plain": [
       "[<pyeda.boolalg.bdd.BinaryDecisionDiagram at 0x7fa5b9b5df90>,\n",
       " <pyeda.boolalg.bdd.BinaryDecisionDiagram at 0x7fa5b9b5f090>,\n",
       " <pyeda.boolalg.bdd.BinaryDecisionDiagram at 0x7fa5b9b5f1d0>,\n",
       " <pyeda.boolalg.bdd.BinaryDecisionDiagram at 0x7fa5b9b5f250>,\n",
       " <pyeda.boolalg.bdd.BinaryDecisionDiagram at 0x7fa5b9b5f350>,\n",
       " x5,\n",
       " x6,\n",
       " <pyeda.boolalg.bdd.BinaryDecisionDiagram at 0x7fa5b9b5f490>,\n",
       " x8,\n",
       " <pyeda.boolalg.bdd.BinaryDecisionDiagram at 0x7fa5b9b5f390>]"
      ]
     },
     "execution_count": 37,
     "metadata": {},
     "output_type": "execute_result"
    }
   ],
   "source": [
    "test_true"
   ]
  },
  {
   "cell_type": "code",
   "execution_count": null,
   "metadata": {
    "colab": {
     "base_uri": "https://localhost:8080/"
    },
    "id": "OKJmXiw74yJ4",
    "outputId": "5d65cf5f-2285-4210-f558-fd26a7df5614"
   },
   "outputs": [
    {
     "data": {
      "text/plain": [
       "{}"
      ]
     },
     "execution_count": 35,
     "metadata": {},
     "output_type": "execute_result"
    }
   ],
   "source": [
    "# test if an expression exist\n",
    "\n",
    "# bdd.equivalent( expr2bdd( expr(test_true ) ) )\n",
    "# bdd.equivalent( expr(test_true ) )\n",
    "# bdd.equivalent( And(*test_true) )\n",
    "# bdd is And(*test_true)\n",
    "# And(bdd, And(*test_true)).satisfy_one() is None"
   ]
  },
  {
   "cell_type": "code",
   "execution_count": null,
   "metadata": {
    "colab": {
     "base_uri": "https://localhost:8080/"
    },
    "id": "i177NSbeyuU9",
    "outputId": "789487c1-e896-4c82-f863-dbef1b776d49"
   },
   "outputs": [
    {
     "name": "stdout",
     "output_type": "stream",
     "text": [
      "total true: 0 from: 100\n"
     ]
    }
   ],
   "source": [
    "# simulate stream data and test for all generated expressions\n",
    "\n",
    "num_exprs = 100 # number of test expressions\n",
    "\n",
    "results = 0\n",
    "for _ in range(num_exprs):\n",
    "    # generate text expressions then convert them to bdd\n",
    "    # test if two bdds are similar \n",
    "    # test_expr = expr2bdd( expr( convert_binary_str_to_expr([random.gauss(0, 1) > 0 for _ in range(num_vars)]) ) )\n",
    "\n",
    "    # generate expression from same bdd variables\n",
    "    # x0 & x1 & x2 & ~x3 & ~x4 & x5 & x6 & x7 & ~x8 & x9\n",
    "    test_expr = [x if random.gauss(0, 1) > 0 else ~x for x in bdd.inputs]\n",
    "\n",
    "\n",
    "    # test expr, +1 if founded\n",
    "    results += bdd.equivalent( And(*test_expr) ) # add and between vars\n",
    "\n",
    "print(f'total true: {results} from: {num_exprs}')"
   ]
  },
  {
   "cell_type": "markdown",
   "metadata": {
    "id": "783uUb8NCqSW"
   },
   "source": [
    "## [skip] try exprvars function, did not give the intended bdd"
   ]
  },
  {
   "cell_type": "code",
   "execution_count": null,
   "metadata": {
    "id": "emMRAaAJCUBx"
   },
   "outputs": [],
   "source": [
    "x = exprvars('x', num_vars)\n",
    "\n",
    "bdd_exprs = []\n",
    "for _ in range(num_exprs):\n",
    "    bdd_exprs.append( [v if random.gauss(0, 1) > 0 else ~v for v in x] )\n",
    "\n",
    "for i, e in enumerate(bdd_exprs):\n",
    "    bdd_exprs[i] = And(*e)\n",
    "\n",
    "bdd = Or(*bdd_exprs)"
   ]
  },
  {
   "cell_type": "code",
   "execution_count": null,
   "metadata": {
    "id": "_Pewyc70C4ML"
   },
   "outputs": [],
   "source": [
    "bdd_truthtable = expr2truthtable( bdd )"
   ]
  },
  {
   "cell_type": "code",
   "execution_count": null,
   "metadata": {
    "colab": {
     "base_uri": "https://localhost:8080/",
     "height": 36
    },
    "id": "arXeZXDAC94l",
    "outputId": "0fa9465c-f88b-46b7-afc5-b80e65aad87d"
   },
   "outputs": [
    {
     "data": {
      "application/vnd.google.colaboratory.intrinsic+json": {
       "type": "string"
      },
      "text/plain": [
       "'test_pyeda_exprvars.gv.pdf'"
      ]
     },
     "execution_count": 46,
     "metadata": {},
     "output_type": "execute_result"
    }
   ],
   "source": [
    "viz_filename = 'test_pyeda_exprvars.gv'\n",
    "viz_format = 'pdf'\n",
    "bdd_viz = graphviz.Source( bdd.to_dot(), filename=viz_filename, format=viz_format)\n",
    "\n",
    "# append img format automatically\n",
    "bdd_viz.render(filename=viz_filename)"
   ]
  },
  {
   "cell_type": "markdown",
   "metadata": {
    "id": "qb0WNoyk8ENS"
   },
   "source": [
    "## Test from documentation"
   ]
  },
  {
   "cell_type": "code",
   "execution_count": null,
   "metadata": {
    "colab": {
     "base_uri": "https://localhost:8080/"
    },
    "id": "lKPj_Lxh8Kfi",
    "outputId": "57ba87c1-8820-450d-c0cf-f1fd8036a662"
   },
   "outputs": [
    {
     "data": {
      "text/plain": [
       "True"
      ]
     },
     "execution_count": 60,
     "metadata": {},
     "output_type": "execute_result"
    }
   ],
   "source": [
    "# https://pyeda.readthedocs.io/en/latest/bdd.html?highlight=equivalence#formal-equivalence\n",
    "\n",
    "a, b, c = map(bddvar, 'abc')\n",
    "f1 = a ^ b ^ c\n",
    "f2 = a & ~b & ~c | ~a & b & ~c | ~a & ~b & c | a & b & c\n",
    "\n",
    "f1.equivalent(f2)"
   ]
  },
  {
   "cell_type": "code",
   "execution_count": null,
   "metadata": {
    "colab": {
     "base_uri": "https://localhost:8080/"
    },
    "id": "uX6oABZtMtoC",
    "outputId": "bac0e411-999e-460c-fc16-e855e2dd8be0"
   },
   "outputs": [
    {
     "data": {
      "text/plain": [
       "False"
      ]
     },
     "execution_count": 61,
     "metadata": {},
     "output_type": "execute_result"
    }
   ],
   "source": [
    "f1 = ~a & b & ~c\n",
    "f2 = a & ~b & ~c | ~a & b & ~c | ~a & ~b & c | a & b & c\n",
    "\n",
    "f1.equivalent(f2)"
   ]
  },
  {
   "cell_type": "code",
   "execution_count": null,
   "metadata": {
    "colab": {
     "base_uri": "https://localhost:8080/",
     "height": 428
    },
    "id": "mTz68GTMMynv",
    "outputId": "1c4ea258-ee81-4674-d744-7f2e3bf5935e"
   },
   "outputs": [
    {
     "data": {
      "image/svg+xml": [
       "<?xml version=\"1.0\" encoding=\"UTF-8\" standalone=\"no\"?>\n",
       "<!DOCTYPE svg PUBLIC \"-//W3C//DTD SVG 1.1//EN\"\n",
       " \"http://www.w3.org/Graphics/SVG/1.1/DTD/svg11.dtd\">\n",
       "<!-- Generated by graphviz version 2.40.1 (20161225.0304)\n",
       " -->\n",
       "<!-- Title: BDD Pages: 1 -->\n",
       "<svg width=\"139pt\" height=\"305pt\"\n",
       " viewBox=\"0.00 0.00 139.00 305.00\" xmlns=\"http://www.w3.org/2000/svg\" xmlns:xlink=\"http://www.w3.org/1999/xlink\">\n",
       "<g id=\"graph0\" class=\"graph\" transform=\"scale(1 1) rotate(0) translate(4 301)\">\n",
       "<title>BDD</title>\n",
       "<polygon fill=\"#ffffff\" stroke=\"transparent\" points=\"-4,4 -4,-301 135,-301 135,4 -4,4\"/>\n",
       "<!-- n140349769338128 -->\n",
       "<g id=\"node1\" class=\"node\">\n",
       "<title>n140349769338128</title>\n",
       "<polygon fill=\"none\" stroke=\"#000000\" points=\"54,-36 0,-36 0,0 54,0 54,-36\"/>\n",
       "<text text-anchor=\"middle\" x=\"27\" y=\"-14.3\" font-family=\"Times,serif\" font-size=\"14.00\" fill=\"#000000\">0</text>\n",
       "</g>\n",
       "<!-- n140349769338064 -->\n",
       "<g id=\"node2\" class=\"node\">\n",
       "<title>n140349769338064</title>\n",
       "<polygon fill=\"none\" stroke=\"#000000\" points=\"131,-36 77,-36 77,0 131,0 131,-36\"/>\n",
       "<text text-anchor=\"middle\" x=\"104\" y=\"-14.3\" font-family=\"Times,serif\" font-size=\"14.00\" fill=\"#000000\">1</text>\n",
       "</g>\n",
       "<!-- n140349749877904 -->\n",
       "<g id=\"node3\" class=\"node\">\n",
       "<title>n140349749877904</title>\n",
       "<ellipse fill=\"none\" stroke=\"#000000\" cx=\"21\" cy=\"-105\" rx=\"18\" ry=\"18\"/>\n",
       "<text text-anchor=\"middle\" x=\"21\" y=\"-101.3\" font-family=\"Times,serif\" font-size=\"14.00\" fill=\"#000000\">c</text>\n",
       "</g>\n",
       "<!-- n140349749877904&#45;&#45;n140349769338128 -->\n",
       "<g id=\"edge1\" class=\"edge\">\n",
       "<title>n140349749877904&#45;&#45;n140349769338128</title>\n",
       "<path fill=\"none\" stroke=\"#000000\" stroke-dasharray=\"5,2\" d=\"M18.9969,-87.0165C18.2328,-77.2289 17.8011,-64.922 19,-54 19.6427,-48.1449 20.8567,-41.8487 22.1483,-36.1847\"/>\n",
       "<text text-anchor=\"middle\" x=\"23\" y=\"-57.8\" font-family=\"Times,serif\" font-size=\"14.00\" fill=\"#000000\">0</text>\n",
       "</g>\n",
       "<!-- n140349749877904&#45;&#45;n140349769338064 -->\n",
       "<g id=\"edge2\" class=\"edge\">\n",
       "<title>n140349749877904&#45;&#45;n140349769338064</title>\n",
       "<path fill=\"none\" stroke=\"#000000\" d=\"M28.1431,-88.0964C33.1879,-77.4925 40.6975,-63.9873 50,-54 57.6795,-45.7551 67.5992,-38.4584 76.8371,-32.6272\"/>\n",
       "<text text-anchor=\"middle\" x=\"54\" y=\"-57.8\" font-family=\"Times,serif\" font-size=\"14.00\" fill=\"#000000\">1</text>\n",
       "</g>\n",
       "<!-- n140349749877136 -->\n",
       "<g id=\"node4\" class=\"node\">\n",
       "<title>n140349749877136</title>\n",
       "<ellipse fill=\"none\" stroke=\"#000000\" cx=\"88\" cy=\"-105\" rx=\"18\" ry=\"18\"/>\n",
       "<text text-anchor=\"middle\" x=\"88\" y=\"-101.3\" font-family=\"Times,serif\" font-size=\"14.00\" fill=\"#000000\">c</text>\n",
       "</g>\n",
       "<!-- n140349749877136&#45;&#45;n140349769338128 -->\n",
       "<g id=\"edge4\" class=\"edge\">\n",
       "<title>n140349749877136&#45;&#45;n140349769338128</title>\n",
       "<path fill=\"none\" stroke=\"#000000\" d=\"M79.0891,-88.9884C73.1877,-78.7404 65.0725,-65.2966 57,-54 52.7429,-48.0426 47.7712,-41.8246 43.1135,-36.2654\"/>\n",
       "<text text-anchor=\"middle\" x=\"71\" y=\"-57.8\" font-family=\"Times,serif\" font-size=\"14.00\" fill=\"#000000\">1</text>\n",
       "</g>\n",
       "<!-- n140349749877136&#45;&#45;n140349769338064 -->\n",
       "<g id=\"edge3\" class=\"edge\">\n",
       "<title>n140349749877136&#45;&#45;n140349769338064</title>\n",
       "<path fill=\"none\" stroke=\"#000000\" stroke-dasharray=\"5,2\" d=\"M91.3152,-86.9735C94.0612,-72.0422 97.9442,-50.9283 100.689,-36.0034\"/>\n",
       "<text text-anchor=\"middle\" x=\"100\" y=\"-57.8\" font-family=\"Times,serif\" font-size=\"14.00\" fill=\"#000000\">0</text>\n",
       "</g>\n",
       "<!-- n140349614943632 -->\n",
       "<g id=\"node5\" class=\"node\">\n",
       "<title>n140349614943632</title>\n",
       "<ellipse fill=\"none\" stroke=\"#000000\" cx=\"23\" cy=\"-192\" rx=\"18\" ry=\"18\"/>\n",
       "<text text-anchor=\"middle\" x=\"23\" y=\"-188.3\" font-family=\"Times,serif\" font-size=\"14.00\" fill=\"#000000\">b</text>\n",
       "</g>\n",
       "<!-- n140349614943632&#45;&#45;n140349749877904 -->\n",
       "<g id=\"edge5\" class=\"edge\">\n",
       "<title>n140349614943632&#45;&#45;n140349749877904</title>\n",
       "<path fill=\"none\" stroke=\"#000000\" stroke-dasharray=\"5,2\" d=\"M13.8008,-176.4151C10.6734,-170.2707 7.5728,-163.0141 6,-156 3.3344,-144.1127 7.4057,-130.9248 11.9752,-120.9381\"/>\n",
       "<text text-anchor=\"middle\" x=\"10\" y=\"-144.8\" font-family=\"Times,serif\" font-size=\"14.00\" fill=\"#000000\">0</text>\n",
       "</g>\n",
       "<!-- n140349614943632&#45;&#45;n140349749877136 -->\n",
       "<g id=\"edge6\" class=\"edge\">\n",
       "<title>n140349614943632&#45;&#45;n140349749877136</title>\n",
       "<path fill=\"none\" stroke=\"#000000\" d=\"M24.9359,-173.7145C26.7479,-163.3694 30.2479,-150.6194 37,-141 45.7172,-128.5811 60.1527,-118.9788 71.445,-112.8265\"/>\n",
       "<text text-anchor=\"middle\" x=\"41\" y=\"-144.8\" font-family=\"Times,serif\" font-size=\"14.00\" fill=\"#000000\">1</text>\n",
       "</g>\n",
       "<!-- n140349614943696 -->\n",
       "<g id=\"node6\" class=\"node\">\n",
       "<title>n140349614943696</title>\n",
       "<ellipse fill=\"none\" stroke=\"#000000\" cx=\"77\" cy=\"-192\" rx=\"18\" ry=\"18\"/>\n",
       "<text text-anchor=\"middle\" x=\"77\" y=\"-188.3\" font-family=\"Times,serif\" font-size=\"14.00\" fill=\"#000000\">b</text>\n",
       "</g>\n",
       "<!-- n140349614943696&#45;&#45;n140349749877904 -->\n",
       "<g id=\"edge8\" class=\"edge\">\n",
       "<title>n140349614943696&#45;&#45;n140349749877904</title>\n",
       "<path fill=\"none\" stroke=\"#000000\" d=\"M67.2455,-176.8458C57.0298,-160.9749 41.0747,-136.1875 30.8306,-120.2725\"/>\n",
       "<text text-anchor=\"middle\" x=\"56\" y=\"-144.8\" font-family=\"Times,serif\" font-size=\"14.00\" fill=\"#000000\">1</text>\n",
       "</g>\n",
       "<!-- n140349614943696&#45;&#45;n140349749877136 -->\n",
       "<g id=\"edge7\" class=\"edge\">\n",
       "<title>n140349614943696&#45;&#45;n140349749877136</title>\n",
       "<path fill=\"none\" stroke=\"#000000\" stroke-dasharray=\"5,2\" d=\"M79.2792,-173.9735C81.1671,-159.0422 83.8366,-137.9283 85.7237,-123.0034\"/>\n",
       "<text text-anchor=\"middle\" x=\"87\" y=\"-144.8\" font-family=\"Times,serif\" font-size=\"14.00\" fill=\"#000000\">0</text>\n",
       "</g>\n",
       "<!-- n140349614940432 -->\n",
       "<g id=\"node7\" class=\"node\">\n",
       "<title>n140349614940432</title>\n",
       "<ellipse fill=\"none\" stroke=\"#000000\" cx=\"49\" cy=\"-279\" rx=\"18\" ry=\"18\"/>\n",
       "<text text-anchor=\"middle\" x=\"49\" y=\"-275.3\" font-family=\"Times,serif\" font-size=\"14.00\" fill=\"#000000\">a</text>\n",
       "</g>\n",
       "<!-- n140349614940432&#45;&#45;n140349614943632 -->\n",
       "<g id=\"edge9\" class=\"edge\">\n",
       "<title>n140349614940432&#45;&#45;n140349614943632</title>\n",
       "<path fill=\"none\" stroke=\"#000000\" stroke-dasharray=\"5,2\" d=\"M43.7385,-261.3943C39.198,-246.2008 32.6771,-224.3812 28.1649,-209.2827\"/>\n",
       "<text text-anchor=\"middle\" x=\"41\" y=\"-231.8\" font-family=\"Times,serif\" font-size=\"14.00\" fill=\"#000000\">0</text>\n",
       "</g>\n",
       "<!-- n140349614940432&#45;&#45;n140349614943696 -->\n",
       "<g id=\"edge10\" class=\"edge\">\n",
       "<title>n140349614940432&#45;&#45;n140349614943696</title>\n",
       "<path fill=\"none\" stroke=\"#000000\" d=\"M54.5319,-261.8116C59.4407,-246.5593 66.5743,-224.3942 71.4796,-209.1527\"/>\n",
       "<text text-anchor=\"middle\" x=\"68\" y=\"-231.8\" font-family=\"Times,serif\" font-size=\"14.00\" fill=\"#000000\">1</text>\n",
       "</g>\n",
       "</g>\n",
       "</svg>\n"
      ],
      "text/plain": [
       "<graphviz.files.Source at 0x7fa5b0f7f3d0>"
      ]
     },
     "execution_count": 62,
     "metadata": {},
     "output_type": "execute_result"
    }
   ],
   "source": [
    "graphviz.Source( f2.to_dot())"
   ]
  },
  {
   "cell_type": "code",
   "execution_count": null,
   "metadata": {
    "colab": {
     "base_uri": "https://localhost:8080/"
    },
    "id": "EREKcvvl_hG0",
    "outputId": "d0539624-c89e-4c7e-bd8c-ce545945dff2"
   },
   "outputs": [
    {
     "data": {
      "text/plain": [
       "<pyeda.boolalg.bdd.BinaryDecisionDiagram at 0x7fa5b0f16850>"
      ]
     },
     "execution_count": 49,
     "metadata": {},
     "output_type": "execute_result"
    }
   ],
   "source": [
    "f1"
   ]
  },
  {
   "cell_type": "code",
   "execution_count": null,
   "metadata": {
    "colab": {
     "base_uri": "https://localhost:8080/"
    },
    "id": "r7BTPJzg_fl9",
    "outputId": "8aff9b2d-6572-46b1-c406-d31ab5d570c1"
   },
   "outputs": [
    {
     "data": {
      "text/plain": [
       "<pyeda.boolalg.bdd.BinaryDecisionDiagram at 0x7fa5b0f16850>"
      ]
     },
     "execution_count": 50,
     "metadata": {},
     "output_type": "execute_result"
    }
   ],
   "source": [
    "f2"
   ]
  },
  {
   "cell_type": "code",
   "execution_count": null,
   "metadata": {
    "colab": {
     "base_uri": "https://localhost:8080/"
    },
    "id": "H0DXtLqAH0Va",
    "outputId": "4fce82cd-7ab8-4f47-9081-c0dca071c873"
   },
   "outputs": [
    {
     "data": {
      "text/plain": [
       "Or(And(a, ~b, ~c), And(a, b, ~c), And(~a, ~b, c), And(a, b, c))"
      ]
     },
     "execution_count": 51,
     "metadata": {},
     "output_type": "execute_result"
    }
   ],
   "source": [
    "# how expr read text expr\n",
    "expr('a & ~b & ~c | a & b & ~c | ~a & ~b & c | a & b & c')"
   ]
  },
  {
   "cell_type": "code",
   "execution_count": null,
   "metadata": {
    "colab": {
     "base_uri": "https://localhost:8080/"
    },
    "id": "1vK1tvLhIFp8",
    "outputId": "b12431db-4fcc-4b1f-b030-b168256458a9"
   },
   "outputs": [
    {
     "data": {
      "text/plain": [
       "<pyeda.boolalg.bdd.BinaryDecisionDiagram at 0x7fa5b0f0f9d0>"
      ]
     },
     "execution_count": 55,
     "metadata": {},
     "output_type": "execute_result"
    }
   ],
   "source": []
  },
  {
   "cell_type": "code",
   "execution_count": null,
   "metadata": {
    "colab": {
     "base_uri": "https://localhost:8080/"
    },
    "id": "6tynX2ZPMayr",
    "outputId": "920cbc76-2ec8-4ef3-d0b9-ba2486d62d02"
   },
   "outputs": [
    {
     "data": {
      "text/plain": [
       "False"
      ]
     },
     "execution_count": 56,
     "metadata": {},
     "output_type": "execute_result"
    }
   ],
   "source": [
    " ~a == expr(0)"
   ]
  },
  {
   "cell_type": "code",
   "execution_count": null,
   "metadata": {
    "colab": {
     "base_uri": "https://localhost:8080/"
    },
    "id": "t2NCt_m4JfyA",
    "outputId": "a356b7a0-8c0c-4e78-b195-d802aa6888a7"
   },
   "outputs": [
    {
     "data": {
      "text/plain": [
       "~a0"
      ]
     },
     "execution_count": 57,
     "metadata": {},
     "output_type": "execute_result"
    }
   ],
   "source": [
    "a0 = exprvar('a0')\n",
    "~a0"
   ]
  },
  {
   "cell_type": "code",
   "execution_count": null,
   "metadata": {
    "id": "z5vkT5tOGtIp"
   },
   "outputs": [],
   "source": [
    "l_vars = [a, b, c]\n",
    "ll = ['100', '110', '001', '111']\n",
    "l_expr = []\n",
    "\n",
    "for l in ll:\n",
    "    t=[]\n",
    "    for i, v in zip(l,l_vars):\n",
    "\n",
    "        if abs(int(i)-1): t.append(~v)\n",
    "        else: t.append(v)\n",
    "\n",
    "    l_expr.append(And(*t))\n",
    "    # l_expr.append(t)\n",
    "\n",
    "f2 = Or(*l_expr)"
   ]
  },
  {
   "cell_type": "code",
   "execution_count": null,
   "metadata": {
    "colab": {
     "base_uri": "https://localhost:8080/",
     "height": 80
    },
    "id": "FgTUjgPNFaSO",
    "outputId": "a8a304fa-8b06-4fb9-b75b-a53f1f4d11e2"
   },
   "outputs": [
    {
     "data": {
      "image/svg+xml": [
       "<?xml version=\"1.0\" encoding=\"UTF-8\" standalone=\"no\"?>\n",
       "<!DOCTYPE svg PUBLIC \"-//W3C//DTD SVG 1.1//EN\"\n",
       " \"http://www.w3.org/Graphics/SVG/1.1/DTD/svg11.dtd\">\n",
       "<!-- Generated by graphviz version 2.40.1 (20161225.0304)\n",
       " -->\n",
       "<!-- Title: EXPR Pages: 1 -->\n",
       "<svg width=\"62pt\" height=\"44pt\"\n",
       " viewBox=\"0.00 0.00 62.00 44.00\" xmlns=\"http://www.w3.org/2000/svg\" xmlns:xlink=\"http://www.w3.org/1999/xlink\">\n",
       "<g id=\"graph0\" class=\"graph\" transform=\"scale(1 1) rotate(0) translate(4 40)\">\n",
       "<title>EXPR</title>\n",
       "<polygon fill=\"#ffffff\" stroke=\"transparent\" points=\"-4,4 -4,-40 58,-40 58,4 -4,4\"/>\n",
       "<!-- n140349768929600 -->\n",
       "<g id=\"node1\" class=\"node\">\n",
       "<title>n140349768929600</title>\n",
       "<polygon fill=\"none\" stroke=\"#000000\" points=\"54,-36 0,-36 0,0 54,0 54,-36\"/>\n",
       "<text text-anchor=\"middle\" x=\"27\" y=\"-14.3\" font-family=\"Times,serif\" font-size=\"14.00\" fill=\"#000000\">1</text>\n",
       "</g>\n",
       "</g>\n",
       "</svg>\n"
      ],
      "text/plain": [
       "<graphviz.files.Source at 0x7fa5b0f0fc90>"
      ]
     },
     "execution_count": 59,
     "metadata": {},
     "output_type": "execute_result"
    }
   ],
   "source": [
    "graphviz.Source( f2.to_dot())"
   ]
  },
  {
   "cell_type": "markdown",
   "metadata": {
    "id": "uqqjDeP6bA7L"
   },
   "source": [
    "# dd Pakage"
   ]
  },
  {
   "cell_type": "markdown",
   "metadata": {
    "id": "JYXUHcTCbUre"
   },
   "source": [
    "## General Example"
   ]
  },
  {
   "cell_type": "code",
   "execution_count": null,
   "metadata": {
    "id": "V3psOSekbC-K"
   },
   "outputs": [],
   "source": [
    "from dd.autoref import BDD, Function"
   ]
  },
  {
   "cell_type": "code",
   "execution_count": null,
   "metadata": {
    "id": "e-WtC897bFny"
   },
   "outputs": [],
   "source": [
    "# https://stackoverflow.com/questions/66160582/learning-binary-decision-diagrams-bdds-from-data-in-python\n",
    "bdd = BDD()"
   ]
  },
  {
   "cell_type": "code",
   "execution_count": null,
   "metadata": {
    "id": "yPuovpclbFl-"
   },
   "outputs": [],
   "source": [
    "bdd = BDD()\n",
    "bdd.declare('x1', 'x2', 'x3')"
   ]
  },
  {
   "cell_type": "code",
   "execution_count": null,
   "metadata": {
    "id": "2VcBFA6vbFkK"
   },
   "outputs": [],
   "source": [
    "# These are the assignments to the input variables\n",
    "# where the Boolean function is TRUE (the y).\n",
    "# The assignments where the Boolean function is FALSE\n",
    "# are not used in the disjunction below.\n",
    "data = [\n",
    "    dict(x1=True, x2=False, x3=True),\n",
    "    dict(x1=True, x2=True, x3=False),\n",
    "    dict(x1=True, x2=True, x3=True)\n",
    "]"
   ]
  },
  {
   "cell_type": "code",
   "execution_count": null,
   "metadata": {
    "id": "e3hf3WTdbFiV"
   },
   "outputs": [],
   "source": [
    "u = bdd.false"
   ]
  },
  {
   "cell_type": "code",
   "execution_count": null,
   "metadata": {
    "id": "Gc0DjVKvbFgg"
   },
   "outputs": [],
   "source": [
    "for d in data:\n",
    "    u |= bdd.cube(d)"
   ]
  },
  {
   "cell_type": "code",
   "execution_count": null,
   "metadata": {
    "id": "rFAsdSw4bFek"
   },
   "outputs": [],
   "source": [
    "[*bdd.pick_iter(u, ['x1', 'x2', 'x3'])]"
   ]
  },
  {
   "cell_type": "code",
   "execution_count": null,
   "metadata": {
    "id": "XPJO0n1ebFb_"
   },
   "outputs": [],
   "source": [
    "bdd.exist(dict(x1=True, x2=False, x3=True), u) == bdd.true"
   ]
  },
  {
   "cell_type": "code",
   "execution_count": null,
   "metadata": {
    "id": "CJAxMJHobFZa"
   },
   "outputs": [],
   "source": [
    "bdd.dump('dd-BDD.png', roots=[u])"
   ]
  },
  {
   "cell_type": "code",
   "execution_count": null,
   "metadata": {
    "id": "eElsnLygbFXR"
   },
   "outputs": [],
   "source": [
    "Image.open('dd-BDD.png', mode='r')"
   ]
  },
  {
   "cell_type": "code",
   "execution_count": null,
   "metadata": {
    "id": "3jj6BOSxbRp8"
   },
   "outputs": [],
   "source": [
    "filename = 'bdd.json'\n",
    "bdd.dump(filename, roots=[u])"
   ]
  },
  {
   "cell_type": "code",
   "execution_count": null,
   "metadata": {
    "id": "Csw-9rjNbSot"
   },
   "outputs": [],
   "source": [
    "loaded_bdd = BDD()\n",
    "roots = loaded_bdd.load(filename)\n",
    "loaded_bdd.vars"
   ]
  },
  {
   "cell_type": "markdown",
   "metadata": {
    "id": "8b6YbqNtbabl"
   },
   "source": [
    "## Experiment"
   ]
  },
  {
   "cell_type": "code",
   "execution_count": null,
   "metadata": {
    "id": "F5GMI_Xebeg4"
   },
   "outputs": [],
   "source": [
    "bdd = BDD()\n",
    "\n",
    "vars = [f'x{i}' for i in range(10)]\n",
    "# 1000 vars took 3m 33s\n",
    "\n",
    "bdd.declare(*vars)"
   ]
  },
  {
   "cell_type": "code",
   "execution_count": null,
   "metadata": {
    "id": "M6fG_VOBbqh7"
   },
   "outputs": [],
   "source": [
    "data = []\n",
    "for _ in range(30):\n",
    "    # data.append( {k: bool(round(random.gauss(0, 1),0)) for k in bdd.vars.keys()} )\n",
    "    data.append( { k: (random.gauss(0, 1)>2) for k in bdd.vars.keys() } )"
   ]
  },
  {
   "cell_type": "code",
   "execution_count": null,
   "metadata": {
    "id": "5em5oLb8bo6R"
   },
   "outputs": [],
   "source": [
    "u = bdd.false\n",
    "\n",
    "for d in data:\n",
    "    u |= bdd.cube(d)"
   ]
  },
  {
   "cell_type": "code",
   "execution_count": null,
   "metadata": {
    "id": "MEk5YOa3biPb"
   },
   "outputs": [],
   "source": [
    "temp = 0\n",
    "for _ in range(10_000):\n",
    "    temp += sum( [(random.gauss(0, 1)>1) for _ in range(10)] )\n",
    "\n",
    "print(f'AVG true per combination: {temp/10_000:.0f}')"
   ]
  },
  {
   "cell_type": "code",
   "execution_count": null,
   "metadata": {
    "id": "HarjA5F1bjUf"
   },
   "outputs": [],
   "source": [
    "{ k: (random.gauss(0, 1)>1) for k in bdd.vars.keys() }"
   ]
  },
  {
   "cell_type": "code",
   "execution_count": null,
   "metadata": {
    "id": "ZUSGg-znblJp"
   },
   "outputs": [],
   "source": [
    "results = []\n",
    "for i in range(1_000):\n",
    "    test_expr = { k: (random.gauss(0, 1)>1) for k in bdd.vars.keys() }\n",
    "\n",
    "    # print(test_expr)\n",
    "    results.append( bdd.exist(test_expr, u) == bdd.true )\n",
    "\n",
    "print(f'total true: {sum(results)}')"
   ]
  }
 ],
 "metadata": {
  "colab": {
   "collapsed_sections": [
    "783uUb8NCqSW"
   ],
   "provenance": []
  },
  "kernelspec": {
   "display_name": "Python 3 (ipykernel)",
   "language": "python",
   "name": "python3"
  },
  "language_info": {
   "codemirror_mode": {
    "name": "ipython",
    "version": 3
   },
   "file_extension": ".py",
   "mimetype": "text/x-python",
   "name": "python",
   "nbconvert_exporter": "python",
   "pygments_lexer": "ipython3",
   "version": "3.10.12"
  }
 },
 "nbformat": 4,
 "nbformat_minor": 1
}
