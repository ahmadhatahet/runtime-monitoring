{
 "cells": [
  {
   "cell_type": "code",
   "execution_count": 1,
   "id": "4579fc58",
   "metadata": {},
   "outputs": [],
   "source": [
    "from sklearn.decomposition import SparsePCA\n",
    "import pandas as pd\n",
    "import numpy as np\n",
    "import matplotlib.pyplot as plt\n",
    "from pathlib import Path"
   ]
  },
  {
   "cell_type": "code",
   "execution_count": 2,
   "id": "8ee1c5a0",
   "metadata": {},
   "outputs": [
    {
     "name": "stdout",
     "output_type": "stream",
     "text": [
      "/d/tuc/tuc_materials/thesis/scripts/testing_packages\n"
     ]
    }
   ],
   "source": [
    "!pwd"
   ]
  },
  {
   "cell_type": "code",
   "execution_count": 3,
   "id": "222a0b5f",
   "metadata": {},
   "outputs": [],
   "source": [
    "import os\n",
    "import sys\n",
    "module_path = os.path.abspath(os.path.join('..'))\n",
    "\n",
    "if module_path not in sys.path:\n",
    "    sys.path.append(module_path)"
   ]
  },
  {
   "cell_type": "code",
   "execution_count": 4,
   "id": "8fd6b1ee",
   "metadata": {},
   "outputs": [],
   "source": [
    "from utilities.config import *\n",
    "from utilities.paths import *\n",
    "from utilities.utils import *"
   ]
  },
  {
   "cell_type": "code",
   "execution_count": 5,
   "id": "9437101c",
   "metadata": {},
   "outputs": [
    {
     "data": {
      "text/plain": [
       "WindowsPath('D:/tuc/tuc_materials/thesis/scripts/models/testing_regulariztion/last_layer_data/MNIST-Elastic-[0.01-0.001-0.0]_validation.csv')"
      ]
     },
     "execution_count": 5,
     "metadata": {},
     "output_type": "execute_result"
    }
   ],
   "source": [
    "model_name = \"MNIST-Elastic-[0.01-0.001-0.0]\"\n",
    "df_file = last_hidden_layer_path / (model_name + '_validation.csv')\n",
    "df_file"
   ]
  },
  {
   "cell_type": "code",
   "execution_count": 6,
   "id": "b4079522",
   "metadata": {},
   "outputs": [],
   "source": [
    "df = pd.read_csv(df_file)"
   ]
  },
  {
   "cell_type": "code",
   "execution_count": 7,
   "id": "890dd3f7",
   "metadata": {},
   "outputs": [
    {
     "name": "stdout",
     "output_type": "stream",
     "text": [
      "<class 'pandas.core.frame.DataFrame'>\n",
      "RangeIndex: 6000 entries, 0 to 5999\n",
      "Data columns (total 31 columns):\n",
      " #   Column  Non-Null Count  Dtype  \n",
      "---  ------  --------------  -----  \n",
      " 0   x0      6000 non-null   float64\n",
      " 1   x1      6000 non-null   float64\n",
      " 2   x2      6000 non-null   float64\n",
      " 3   x3      6000 non-null   float64\n",
      " 4   x4      6000 non-null   float64\n",
      " 5   x5      6000 non-null   float64\n",
      " 6   x6      6000 non-null   float64\n",
      " 7   x7      6000 non-null   float64\n",
      " 8   x8      6000 non-null   float64\n",
      " 9   x9      6000 non-null   float64\n",
      " 10  x10     6000 non-null   float64\n",
      " 11  x11     6000 non-null   float64\n",
      " 12  x12     6000 non-null   float64\n",
      " 13  x13     6000 non-null   float64\n",
      " 14  x14     6000 non-null   float64\n",
      " 15  x15     6000 non-null   float64\n",
      " 16  x16     6000 non-null   float64\n",
      " 17  x17     6000 non-null   float64\n",
      " 18  x18     6000 non-null   float64\n",
      " 19  x19     6000 non-null   float64\n",
      " 20  x20     6000 non-null   float64\n",
      " 21  x21     6000 non-null   float64\n",
      " 22  x22     6000 non-null   float64\n",
      " 23  x23     6000 non-null   float64\n",
      " 24  x24     6000 non-null   float64\n",
      " 25  x25     6000 non-null   float64\n",
      " 26  x26     6000 non-null   float64\n",
      " 27  x27     6000 non-null   float64\n",
      " 28  x28     6000 non-null   float64\n",
      " 29  x29     6000 non-null   float64\n",
      " 30  y       6000 non-null   int64  \n",
      "dtypes: float64(30), int64(1)\n",
      "memory usage: 1.4 MB\n"
     ]
    }
   ],
   "source": [
    "df.info()"
   ]
  },
  {
   "cell_type": "code",
   "execution_count": 8,
   "id": "f6200b80",
   "metadata": {},
   "outputs": [],
   "source": [
    "y = df['y']\n",
    "df.drop('y', axis=1, inplace=True)"
   ]
  },
  {
   "cell_type": "code",
   "execution_count": 9,
   "id": "6c4001fd",
   "metadata": {},
   "outputs": [],
   "source": [
    "spca = SparsePCA()\n",
    "df_spca = pd.DataFrame( spca.fit_transform(df), columns=[f'SPC_{i}' for i in range(df.shape[1])] )"
   ]
  },
  {
   "cell_type": "code",
   "execution_count": 10,
   "id": "78efa5d9",
   "metadata": {},
   "outputs": [
    {
     "data": {
      "text/html": [
       "<div>\n",
       "<style scoped>\n",
       "    .dataframe tbody tr th:only-of-type {\n",
       "        vertical-align: middle;\n",
       "    }\n",
       "\n",
       "    .dataframe tbody tr th {\n",
       "        vertical-align: top;\n",
       "    }\n",
       "\n",
       "    .dataframe thead th {\n",
       "        text-align: right;\n",
       "    }\n",
       "</style>\n",
       "<table border=\"1\" class=\"dataframe\">\n",
       "  <thead>\n",
       "    <tr style=\"text-align: right;\">\n",
       "      <th></th>\n",
       "      <th>SPC_0</th>\n",
       "      <th>SPC_1</th>\n",
       "      <th>SPC_2</th>\n",
       "      <th>SPC_3</th>\n",
       "      <th>SPC_4</th>\n",
       "      <th>SPC_5</th>\n",
       "      <th>SPC_6</th>\n",
       "      <th>SPC_7</th>\n",
       "      <th>SPC_8</th>\n",
       "      <th>SPC_9</th>\n",
       "      <th>...</th>\n",
       "      <th>SPC_20</th>\n",
       "      <th>SPC_21</th>\n",
       "      <th>SPC_22</th>\n",
       "      <th>SPC_23</th>\n",
       "      <th>SPC_24</th>\n",
       "      <th>SPC_25</th>\n",
       "      <th>SPC_26</th>\n",
       "      <th>SPC_27</th>\n",
       "      <th>SPC_28</th>\n",
       "      <th>SPC_29</th>\n",
       "    </tr>\n",
       "  </thead>\n",
       "  <tbody>\n",
       "    <tr>\n",
       "      <th>0</th>\n",
       "      <td>-0.449682</td>\n",
       "      <td>-0.047978</td>\n",
       "      <td>-0.464012</td>\n",
       "      <td>0.800746</td>\n",
       "      <td>1.022827</td>\n",
       "      <td>0.948298</td>\n",
       "      <td>-0.160623</td>\n",
       "      <td>-0.353105</td>\n",
       "      <td>-0.436823</td>\n",
       "      <td>0.654580</td>\n",
       "      <td>...</td>\n",
       "      <td>-0.499248</td>\n",
       "      <td>-0.365186</td>\n",
       "      <td>2.169432</td>\n",
       "      <td>-0.262402</td>\n",
       "      <td>-0.462271</td>\n",
       "      <td>-0.258858</td>\n",
       "      <td>0.422511</td>\n",
       "      <td>0.781625</td>\n",
       "      <td>-0.269725</td>\n",
       "      <td>-0.275646</td>\n",
       "    </tr>\n",
       "    <tr>\n",
       "      <th>1</th>\n",
       "      <td>-0.429948</td>\n",
       "      <td>-0.850617</td>\n",
       "      <td>1.223779</td>\n",
       "      <td>-0.450534</td>\n",
       "      <td>1.707843</td>\n",
       "      <td>0.132480</td>\n",
       "      <td>-0.341785</td>\n",
       "      <td>0.007335</td>\n",
       "      <td>-0.436823</td>\n",
       "      <td>-0.394046</td>\n",
       "      <td>...</td>\n",
       "      <td>-0.092133</td>\n",
       "      <td>-0.093442</td>\n",
       "      <td>-0.394248</td>\n",
       "      <td>-0.573115</td>\n",
       "      <td>-0.462271</td>\n",
       "      <td>-0.388954</td>\n",
       "      <td>0.422511</td>\n",
       "      <td>-0.433885</td>\n",
       "      <td>-0.344255</td>\n",
       "      <td>-0.275646</td>\n",
       "    </tr>\n",
       "    <tr>\n",
       "      <th>2</th>\n",
       "      <td>-0.259973</td>\n",
       "      <td>-0.794914</td>\n",
       "      <td>0.714936</td>\n",
       "      <td>-0.450534</td>\n",
       "      <td>1.114345</td>\n",
       "      <td>1.090987</td>\n",
       "      <td>1.480248</td>\n",
       "      <td>-0.408597</td>\n",
       "      <td>-0.436823</td>\n",
       "      <td>-0.394046</td>\n",
       "      <td>...</td>\n",
       "      <td>1.416080</td>\n",
       "      <td>0.476656</td>\n",
       "      <td>-0.394248</td>\n",
       "      <td>-1.083078</td>\n",
       "      <td>-0.462271</td>\n",
       "      <td>-0.388954</td>\n",
       "      <td>0.422511</td>\n",
       "      <td>-0.433885</td>\n",
       "      <td>-0.344255</td>\n",
       "      <td>-0.275646</td>\n",
       "    </tr>\n",
       "    <tr>\n",
       "      <th>3</th>\n",
       "      <td>-0.449682</td>\n",
       "      <td>-0.021806</td>\n",
       "      <td>1.897546</td>\n",
       "      <td>-0.445275</td>\n",
       "      <td>1.425529</td>\n",
       "      <td>-0.415072</td>\n",
       "      <td>-0.341785</td>\n",
       "      <td>0.727575</td>\n",
       "      <td>-0.316065</td>\n",
       "      <td>-0.394046</td>\n",
       "      <td>...</td>\n",
       "      <td>-0.499248</td>\n",
       "      <td>0.256861</td>\n",
       "      <td>-0.394248</td>\n",
       "      <td>-0.154255</td>\n",
       "      <td>-0.019648</td>\n",
       "      <td>0.705007</td>\n",
       "      <td>0.422511</td>\n",
       "      <td>-0.311698</td>\n",
       "      <td>-0.344255</td>\n",
       "      <td>-0.275646</td>\n",
       "    </tr>\n",
       "    <tr>\n",
       "      <th>4</th>\n",
       "      <td>2.155388</td>\n",
       "      <td>0.434463</td>\n",
       "      <td>-0.438626</td>\n",
       "      <td>-0.450534</td>\n",
       "      <td>0.216737</td>\n",
       "      <td>0.428328</td>\n",
       "      <td>-0.341785</td>\n",
       "      <td>-0.408597</td>\n",
       "      <td>0.770433</td>\n",
       "      <td>0.055051</td>\n",
       "      <td>...</td>\n",
       "      <td>-0.499248</td>\n",
       "      <td>-0.365186</td>\n",
       "      <td>-0.394248</td>\n",
       "      <td>-0.839909</td>\n",
       "      <td>0.763510</td>\n",
       "      <td>-0.388954</td>\n",
       "      <td>-1.174978</td>\n",
       "      <td>-0.433885</td>\n",
       "      <td>-0.344255</td>\n",
       "      <td>0.328093</td>\n",
       "    </tr>\n",
       "  </tbody>\n",
       "</table>\n",
       "<p>5 rows × 30 columns</p>\n",
       "</div>"
      ],
      "text/plain": [
       "      SPC_0     SPC_1     SPC_2     SPC_3     SPC_4     SPC_5     SPC_6  \\\n",
       "0 -0.449682 -0.047978 -0.464012  0.800746  1.022827  0.948298 -0.160623   \n",
       "1 -0.429948 -0.850617  1.223779 -0.450534  1.707843  0.132480 -0.341785   \n",
       "2 -0.259973 -0.794914  0.714936 -0.450534  1.114345  1.090987  1.480248   \n",
       "3 -0.449682 -0.021806  1.897546 -0.445275  1.425529 -0.415072 -0.341785   \n",
       "4  2.155388  0.434463 -0.438626 -0.450534  0.216737  0.428328 -0.341785   \n",
       "\n",
       "      SPC_7     SPC_8     SPC_9  ...    SPC_20    SPC_21    SPC_22    SPC_23  \\\n",
       "0 -0.353105 -0.436823  0.654580  ... -0.499248 -0.365186  2.169432 -0.262402   \n",
       "1  0.007335 -0.436823 -0.394046  ... -0.092133 -0.093442 -0.394248 -0.573115   \n",
       "2 -0.408597 -0.436823 -0.394046  ...  1.416080  0.476656 -0.394248 -1.083078   \n",
       "3  0.727575 -0.316065 -0.394046  ... -0.499248  0.256861 -0.394248 -0.154255   \n",
       "4 -0.408597  0.770433  0.055051  ... -0.499248 -0.365186 -0.394248 -0.839909   \n",
       "\n",
       "     SPC_24    SPC_25    SPC_26    SPC_27    SPC_28    SPC_29  \n",
       "0 -0.462271 -0.258858  0.422511  0.781625 -0.269725 -0.275646  \n",
       "1 -0.462271 -0.388954  0.422511 -0.433885 -0.344255 -0.275646  \n",
       "2 -0.462271 -0.388954  0.422511 -0.433885 -0.344255 -0.275646  \n",
       "3 -0.019648  0.705007  0.422511 -0.311698 -0.344255 -0.275646  \n",
       "4  0.763510 -0.388954 -1.174978 -0.433885 -0.344255  0.328093  \n",
       "\n",
       "[5 rows x 30 columns]"
      ]
     },
     "execution_count": 10,
     "metadata": {},
     "output_type": "execute_result"
    }
   ],
   "source": [
    "df_spca.head(5)"
   ]
  },
  {
   "cell_type": "code",
   "execution_count": 13,
   "id": "b3e31b06",
   "metadata": {},
   "outputs": [],
   "source": [
    "spca_q, spca_r = np.linalg.qr(df_spca.values)"
   ]
  },
  {
   "cell_type": "code",
   "execution_count": 14,
   "id": "64994c86",
   "metadata": {},
   "outputs": [],
   "source": [
    "# compute adjusted variance\n",
    "variance = []\n",
    "for i in range(30):\n",
    "    variance.append(np.square(spca_r[i][i]))\n",
    "variance = np.array(variance)"
   ]
  },
  {
   "cell_type": "code",
   "execution_count": 16,
   "id": "33dbdf99",
   "metadata": {},
   "outputs": [],
   "source": [
    "variance_ratio = variance / 6000"
   ]
  },
  {
   "cell_type": "code",
   "execution_count": 18,
   "id": "cb5a139c",
   "metadata": {},
   "outputs": [],
   "source": [
    "fltr_variance_ratio = np.where( variance_ratio > 0.1, 1 , 0 )"
   ]
  },
  {
   "cell_type": "code",
   "execution_count": 19,
   "id": "9e9a0dd2",
   "metadata": {},
   "outputs": [
    {
     "data": {
      "text/plain": [
       "18"
      ]
     },
     "execution_count": 19,
     "metadata": {},
     "output_type": "execute_result"
    }
   ],
   "source": [
    "fltr_variance_ratio.sum()"
   ]
  },
  {
   "cell_type": "code",
   "execution_count": 26,
   "id": "9df0ce38",
   "metadata": {},
   "outputs": [
    {
     "data": {
      "text/plain": [
       "array([0.56090244, 0.45922014, 0.38038592, 0.38667088, 0.27735638,\n",
       "       0.31083087, 0.2364115 , 0.27572064, 0.18619092, 0.15470538,\n",
       "       0.12259171, 0.19694248, 0.11051821, 0.1976106 , 0.10364598,\n",
       "       0.16816666, 0.11001128, 0.10530115])"
      ]
     },
     "execution_count": 26,
     "metadata": {},
     "output_type": "execute_result"
    }
   ],
   "source": [
    "variance_ratio[ variance_ratio > 0.1 ]"
   ]
  },
  {
   "cell_type": "code",
   "execution_count": 27,
   "id": "cc8a9465",
   "metadata": {},
   "outputs": [
    {
     "data": {
      "text/plain": [
       "array([ 0,  1,  2,  3,  4,  5,  6,  7,  8,  9, 10, 11, 12, 13, 14, 15, 16,\n",
       "        0,  0,  0, 20,  0,  0,  0,  0,  0,  0,  0,  0,  0])"
      ]
     },
     "execution_count": 27,
     "metadata": {},
     "output_type": "execute_result"
    }
   ],
   "source": [
    "fltr_variance_ratio * range(30)"
   ]
  },
  {
   "cell_type": "code",
   "execution_count": null,
   "id": "bb547e83",
   "metadata": {},
   "outputs": [],
   "source": []
  },
  {
   "cell_type": "code",
   "execution_count": null,
   "id": "483c2361",
   "metadata": {},
   "outputs": [],
   "source": []
  },
  {
   "cell_type": "code",
   "execution_count": null,
   "id": "95a5d6f8",
   "metadata": {},
   "outputs": [],
   "source": []
  },
  {
   "cell_type": "code",
   "execution_count": null,
   "id": "22dd06cf",
   "metadata": {},
   "outputs": [],
   "source": []
  },
  {
   "cell_type": "code",
   "execution_count": null,
   "id": "542210c8",
   "metadata": {},
   "outputs": [],
   "source": []
  },
  {
   "cell_type": "code",
   "execution_count": null,
   "id": "ff7db7d0",
   "metadata": {},
   "outputs": [],
   "source": []
  },
  {
   "cell_type": "code",
   "execution_count": null,
   "id": "49e391f2",
   "metadata": {},
   "outputs": [],
   "source": []
  }
 ],
 "metadata": {
  "kernelspec": {
   "display_name": "Python 3 (ipykernel)",
   "language": "python",
   "name": "python3"
  },
  "language_info": {
   "codemirror_mode": {
    "name": "ipython",
    "version": 3
   },
   "file_extension": ".py",
   "mimetype": "text/x-python",
   "name": "python",
   "nbconvert_exporter": "python",
   "pygments_lexer": "ipython3",
   "version": "3.9.12"
  }
 },
 "nbformat": 4,
 "nbformat_minor": 5
}
