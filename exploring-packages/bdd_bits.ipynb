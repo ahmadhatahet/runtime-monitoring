{
 "cells": [
  {
   "cell_type": "markdown",
   "metadata": {},
   "source": [
    "# Setup"
   ]
  },
  {
   "cell_type": "code",
   "execution_count": 1,
   "metadata": {
    "executionInfo": {
     "elapsed": 9623,
     "status": "ok",
     "timestamp": 1671040500574,
     "user": {
      "displayName": "Ahmad Hatahet",
      "userId": "04744914436475368613"
     },
     "user_tz": -60
    },
    "id": "pXGE8-FrCtzm"
   },
   "outputs": [],
   "source": [
    "import pandas as pd\n",
    "import matplotlib.pyplot as plt\n",
    "import numpy as np\n",
    "from matplotlib import rcParams\n",
    "import seaborn as sns\n",
    "from pathlib import Path\n",
    "import time\n",
    "import sys\n",
    "from IPython.display import clear_output\n",
    "\n",
    "from fastprogress import master_bar, progress_bar\n",
    "\n",
    "plt.rcParams['figure.figsize'] = (15,6)\n",
    "plt.rcParams['font.size'] = 12\n",
    "sns.set_theme(style='darkgrid')"
   ]
  },
  {
   "cell_type": "code",
   "execution_count": 2,
   "metadata": {},
   "outputs": [],
   "source": [
    "import sys\n",
    "sys.path.append('/home/ah19/runtime-monitoring/utilities')"
   ]
  },
  {
   "cell_type": "code",
   "execution_count": 3,
   "metadata": {},
   "outputs": [],
   "source": [
    "from utils import *\n",
    "from pathManager import fetchPaths"
   ]
  },
  {
   "cell_type": "code",
   "execution_count": 10,
   "metadata": {},
   "outputs": [
    {
     "data": {
      "text/plain": [
       "(PosixPath('/home/ah19/runtime-monitoring'),\n",
       " PosixPath('/home/ah19/runtime-monitoring/MNIST'))"
      ]
     },
     "execution_count": 10,
     "metadata": {},
     "output_type": "execute_result"
    }
   ],
   "source": [
    "base = Path(\"/home/ah19/runtime-monitoring\")\n",
    "paths = fetchPaths(base, 'MNIST')\n",
    "\n",
    "path = paths['mnist']\n",
    "path_lastHiddenLayer = paths['lastHiddenLayer']\n",
    "\n",
    "base, path"
   ]
  },
  {
   "cell_type": "markdown",
   "metadata": {},
   "source": [
    "# Import Data"
   ]
  },
  {
   "cell_type": "code",
   "execution_count": 9,
   "metadata": {},
   "outputs": [
    {
     "name": "stdout",
     "output_type": "stream",
     "text": [
      "(6000, 32)\n"
     ]
    },
    {
     "data": {
      "text/plain": [
       "0.9505"
      ]
     },
     "execution_count": 9,
     "metadata": {},
     "output_type": "execute_result"
    }
   ],
   "source": [
    "model_name = 'MNIST-ElasticAllClasses'\n",
    "\n",
    "df_val = pd.read_csv(path_lastHiddenLayer / f'{model_name}_val.csv')\n",
    "\n",
    "df_val['true'] = (df_val['y_pred'] == df_val['y_true'])\n",
    "df_val.rename({'y_true': 'y'}, axis=1, inplace=True)\n",
    "df_val.drop(['y_pred'], axis=1, inplace=True)\n",
    "\n",
    "print(df_val.shape)\n",
    "\n",
    "df_val['true'].sum() / df_val.shape[0]"
   ]
  },
  {
   "cell_type": "markdown",
   "metadata": {},
   "source": [
    "# Bits"
   ]
  },
  {
   "cell_type": "code",
   "execution_count": 11,
   "metadata": {},
   "outputs": [],
   "source": [
    "dft = (df_val.iloc[:, :-2] > 0).astype('int8')\n",
    "dft += (df_val.iloc[:, :-2] > 0).astype('int8')"
   ]
  },
  {
   "cell_type": "code",
   "execution_count": 12,
   "metadata": {},
   "outputs": [
    {
     "data": {
      "text/plain": [
       "(5, 30)"
      ]
     },
     "execution_count": 12,
     "metadata": {},
     "output_type": "execute_result"
    }
   ],
   "source": [
    "ttt = dft.head().to_numpy()\n",
    "ttt.shape"
   ]
  },
  {
   "cell_type": "code",
   "execution_count": 14,
   "metadata": {},
   "outputs": [],
   "source": [
    "def multi_thlds(x):\n",
    "    x = x.reshape(x.shape[0], 1)\n",
    "    x = np.where(x == [0], [0, 0], # 0\n",
    "         np.where(x == [1], [1, 0], # 1\n",
    "         np.where(x == [2], [0, 1], # 2\n",
    "         [1, 1] ) ) )# 3\n",
    "    return np.reshape(x, x.shape[0] * 2)"
   ]
  },
  {
   "cell_type": "code",
   "execution_count": 15,
   "metadata": {},
   "outputs": [],
   "source": [
    "ttt = np.apply_along_axis(multi_thlds, 1, ttt)"
   ]
  },
  {
   "cell_type": "code",
   "execution_count": 16,
   "metadata": {},
   "outputs": [],
   "source": [
    "ttt = np.unique(ttt, axis=0)"
   ]
  },
  {
   "cell_type": "code",
   "execution_count": 17,
   "metadata": {},
   "outputs": [
    {
     "data": {
      "text/plain": [
       "(5, 60)"
      ]
     },
     "execution_count": 17,
     "metadata": {},
     "output_type": "execute_result"
    }
   ],
   "source": [
    "ttt.shape"
   ]
  },
  {
   "cell_type": "code",
   "execution_count": 18,
   "metadata": {},
   "outputs": [
    {
     "data": {
      "text/plain": [
       "array([[0, 0, 0, 0, 0, 0, 0, 1, 0, 0, 0, 0, 0, 0, 0, 1, 0, 1, 0, 0, 0, 1,\n",
       "        0, 0, 0, 0, 0, 0, 0, 0, 0, 1, 0, 1, 0, 1, 0, 0, 0, 1, 0, 0, 0, 0,\n",
       "        0, 0, 0, 0, 0, 0, 0, 1, 0, 1, 0, 0, 0, 0, 0, 0],\n",
       "       [0, 0, 0, 0, 0, 0, 0, 1, 0, 0, 0, 1, 0, 0, 0, 1, 0, 1, 0, 0, 0, 1,\n",
       "        0, 0, 0, 0, 0, 1, 0, 0, 0, 1, 0, 1, 0, 1, 0, 1, 0, 0, 0, 1, 0, 0,\n",
       "        0, 0, 0, 1, 0, 0, 0, 1, 0, 1, 0, 0, 0, 0, 0, 0],\n",
       "       [0, 0, 0, 0, 0, 0, 0, 1, 0, 1, 0, 0, 0, 0, 0, 0, 0, 0, 0, 1, 0, 0,\n",
       "        0, 0, 0, 1, 0, 1, 0, 1, 0, 0, 0, 0, 0, 1, 0, 0, 0, 0, 0, 0, 0, 0,\n",
       "        0, 0, 0, 1, 0, 1, 0, 1, 0, 0, 0, 1, 0, 0, 0, 0],\n",
       "       [0, 0, 0, 1, 0, 0, 0, 1, 0, 0, 0, 1, 0, 0, 0, 0, 0, 0, 0, 1, 0, 0,\n",
       "        0, 0, 0, 1, 0, 0, 0, 0, 0, 1, 0, 0, 0, 0, 0, 0, 0, 0, 0, 0, 0, 0,\n",
       "        0, 1, 0, 0, 0, 1, 0, 0, 0, 1, 0, 0, 0, 0, 0, 1],\n",
       "       [0, 1, 0, 0, 0, 0, 0, 0, 0, 0, 0, 1, 0, 0, 0, 0, 0, 1, 0, 1, 0, 0,\n",
       "        0, 1, 0, 0, 0, 0, 0, 0, 0, 0, 0, 1, 0, 0, 0, 1, 0, 1, 0, 1, 0, 0,\n",
       "        0, 0, 0, 1, 0, 1, 0, 0, 0, 0, 0, 0, 0, 1, 0, 1]])"
      ]
     },
     "execution_count": 18,
     "metadata": {},
     "output_type": "execute_result"
    }
   ],
   "source": [
    "ttt"
   ]
  },
  {
   "cell_type": "code",
   "execution_count": 23,
   "metadata": {},
   "outputs": [],
   "source": [
    "def add_one_pattern(x):\n",
    "    # replace 1 with vars and 0 with vars_not\n",
    "    return np.where( x == 1, 7, -3 )\n",
    "#     expr = np.bitwise_and.reduce( expr )\n",
    "#     self.roots |= expr"
   ]
  },
  {
   "cell_type": "code",
   "execution_count": 25,
   "metadata": {},
   "outputs": [],
   "source": [
    "ttt = np.apply_along_axis(add_one_pattern, 1, ttt)\n",
    "ttt"
   ]
  },
  {
   "cell_type": "code",
   "execution_count": 32,
   "metadata": {},
   "outputs": [],
   "source": [
    "ttt[:, 0:2] = 1000"
   ]
  },
  {
   "cell_type": "code",
   "execution_count": 33,
   "metadata": {},
   "outputs": [
    {
     "data": {
      "text/plain": [
       "array([[1000, 1000,   -3,   -3,   -3,   -3,   -3,    7,   -3,   -3,   -3,\n",
       "          -3,   -3,   -3,   -3,    7,   -3,    7,   -3,   -3,   -3,    7,\n",
       "          -3,   -3,   -3,   -3,   -3,   -3,   -3,   -3,   -3,    7,   -3,\n",
       "           7,   -3,    7,   -3,   -3,   -3,    7,   -3,   -3,   -3,   -3,\n",
       "          -3,   -3,   -3,   -3,   -3,   -3,   -3,    7,   -3,    7,   -3,\n",
       "          -3,   -3,   -3,   -3,   -3],\n",
       "       [1000, 1000,   -3,   -3,   -3,   -3,   -3,    7,   -3,   -3,   -3,\n",
       "           7,   -3,   -3,   -3,    7,   -3,    7,   -3,   -3,   -3,    7,\n",
       "          -3,   -3,   -3,   -3,   -3,    7,   -3,   -3,   -3,    7,   -3,\n",
       "           7,   -3,    7,   -3,    7,   -3,   -3,   -3,    7,   -3,   -3,\n",
       "          -3,   -3,   -3,    7,   -3,   -3,   -3,    7,   -3,    7,   -3,\n",
       "          -3,   -3,   -3,   -3,   -3],\n",
       "       [1000, 1000,   -3,   -3,   -3,   -3,   -3,    7,   -3,    7,   -3,\n",
       "          -3,   -3,   -3,   -3,   -3,   -3,   -3,   -3,    7,   -3,   -3,\n",
       "          -3,   -3,   -3,    7,   -3,    7,   -3,    7,   -3,   -3,   -3,\n",
       "          -3,   -3,    7,   -3,   -3,   -3,   -3,   -3,   -3,   -3,   -3,\n",
       "          -3,   -3,   -3,    7,   -3,    7,   -3,    7,   -3,   -3,   -3,\n",
       "           7,   -3,   -3,   -3,   -3],\n",
       "       [1000, 1000,   -3,    7,   -3,   -3,   -3,    7,   -3,   -3,   -3,\n",
       "           7,   -3,   -3,   -3,   -3,   -3,   -3,   -3,    7,   -3,   -3,\n",
       "          -3,   -3,   -3,    7,   -3,   -3,   -3,   -3,   -3,    7,   -3,\n",
       "          -3,   -3,   -3,   -3,   -3,   -3,   -3,   -3,   -3,   -3,   -3,\n",
       "          -3,    7,   -3,   -3,   -3,    7,   -3,   -3,   -3,    7,   -3,\n",
       "          -3,   -3,   -3,   -3,    7],\n",
       "       [1000, 1000,   -3,   -3,   -3,   -3,   -3,   -3,   -3,   -3,   -3,\n",
       "           7,   -3,   -3,   -3,   -3,   -3,    7,   -3,    7,   -3,   -3,\n",
       "          -3,    7,   -3,   -3,   -3,   -3,   -3,   -3,   -3,   -3,   -3,\n",
       "           7,   -3,   -3,   -3,    7,   -3,    7,   -3,    7,   -3,   -3,\n",
       "          -3,   -3,   -3,    7,   -3,    7,   -3,   -3,   -3,   -3,   -3,\n",
       "          -3,   -3,    7,   -3,    7]])"
      ]
     },
     "execution_count": 33,
     "metadata": {},
     "output_type": "execute_result"
    }
   ],
   "source": [
    "ttt"
   ]
  },
  {
   "cell_type": "code",
   "execution_count": 47,
   "metadata": {},
   "outputs": [
    {
     "data": {
      "text/plain": [
       "[array([[1, 1, 0, 0, 0, 0]], dtype=int8),\n",
       " array([[0, 1, 1, 0, 0, 0]], dtype=int8),\n",
       " array([[0, 0, 1, 1, 0, 0]], dtype=int8),\n",
       " array([[0, 0, 0, 1, 1, 0]], dtype=int8),\n",
       " array([[0, 0, 0, 0, 1, 1]], dtype=int8)]"
      ]
     },
     "execution_count": 47,
     "metadata": {},
     "output_type": "execute_result"
    }
   ],
   "source": [
    "# degree of freedom\n",
    "def flip_bit(patterns, eta):\n",
    "    \"\"\"flip n-th bit to allow more freedom(false positive)\n",
    "       if et = 0 then pattern as is\n",
    "       if et = 1 then loop over each bit and force it to one\n",
    "       et = 2 loop over 2 bits and flip them ... etc\n",
    "       drop any duplicate patterns\"\"\"\n",
    "\n",
    "    for nth in range(patterns.shape[1]-eta+1):\n",
    "        temp = patterns.copy()\n",
    "        temp[:, nth:nth+eta] = 1\n",
    "        temp = np.unique(temp, axis=0)\n",
    "        yield temp\n",
    "\n",
    "f = np.zeros((5, 6), dtype=np.int8)\n",
    "eta=2\n",
    "\n",
    "\n",
    "[*flip_bit(f, eta)]"
   ]
  },
  {
   "cell_type": "code",
   "execution_count": 48,
   "metadata": {},
   "outputs": [
    {
     "data": {
      "text/plain": [
       "array([[0, 0, 0, 0, 0, 0]], dtype=int8)"
      ]
     },
     "execution_count": 48,
     "metadata": {},
     "output_type": "execute_result"
    }
   ],
   "source": [
    "np.unique(f, axis=0)"
   ]
  },
  {
   "cell_type": "code",
   "execution_count": null,
   "metadata": {},
   "outputs": [],
   "source": []
  },
  {
   "cell_type": "code",
   "execution_count": null,
   "metadata": {},
   "outputs": [],
   "source": []
  },
  {
   "cell_type": "code",
   "execution_count": null,
   "metadata": {},
   "outputs": [],
   "source": []
  },
  {
   "cell_type": "code",
   "execution_count": null,
   "metadata": {},
   "outputs": [],
   "source": []
  }
 ],
 "metadata": {
  "colab": {
   "provenance": [
    {
     "file_id": "1r5x0yAy1Q1Glklq8woltTcizzfCm7Kwn",
     "timestamp": 1669503022126
    }
   ]
  },
  "gpuClass": "standard",
  "kernelspec": {
   "display_name": "Python 3",
   "language": "python",
   "name": "python3"
  },
  "language_info": {
   "codemirror_mode": {
    "name": "ipython",
    "version": 3
   },
   "file_extension": ".py",
   "mimetype": "text/x-python",
   "name": "python",
   "nbconvert_exporter": "python",
   "pygments_lexer": "ipython3",
   "version": "3.6.8"
  }
 },
 "nbformat": 4,
 "nbformat_minor": 1
}
