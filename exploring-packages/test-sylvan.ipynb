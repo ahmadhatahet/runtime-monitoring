{
 "cells": [
  {
   "cell_type": "code",
   "execution_count": 1,
   "id": "3d1afcda-be43-4350-a042-9a633c29eb81",
   "metadata": {},
   "outputs": [
    {
     "name": "stdout",
     "output_type": "stream",
     "text": [
      "\u001b[31mERROR: Could not find a version that satisfies the requirement sylvan (from versions: none)\u001b[0m\u001b[31m\n",
      "\u001b[0m\u001b[31mERROR: No matching distribution found for sylvan\u001b[0m\u001b[31m\n",
      "\u001b[0m"
     ]
    }
   ],
   "source": [
    "!pip install sylvan"
   ]
  },
  {
   "cell_type": "code",
   "execution_count": null,
   "id": "d1bccd3b-6b2c-44f6-b774-6a0d1d66613a",
   "metadata": {},
   "outputs": [],
   "source": [
    "import sylvan\n",
    "\n",
    "sylvan.init()\n",
    "\n",
    "# Create two BDD variables\n",
    "x = sylvan.ithvar(0)\n",
    "y = sylvan.ithvar(1)\n",
    "\n",
    "# Construct a BDD representing x ∧ y\n",
    "f = sylvan.And(x, y)\n",
    "\n",
    "# Construct a BDD representing x ∨ y\n",
    "g = sylvan.Or(x, y)\n",
    "\n",
    "# Perform the Sylvan algorithm in parallel\n",
    "res = sylvan.parallel_and(f, g)\n",
    "\n",
    "# Print the resulting BDD\n",
    "print(res)\n",
    "\n",
    "# Clean up\n",
    "sylvan.quit()"
   ]
  }
 ],
 "metadata": {
  "kernelspec": {
   "display_name": "Python 3",
   "language": "python",
   "name": "python3"
  },
  "language_info": {
   "codemirror_mode": {
    "name": "ipython",
    "version": 3
   },
   "file_extension": ".py",
   "mimetype": "text/x-python",
   "name": "python",
   "nbconvert_exporter": "python",
   "pygments_lexer": "ipython3",
   "version": "3.6.8"
  }
 },
 "nbformat": 4,
 "nbformat_minor": 5
}
