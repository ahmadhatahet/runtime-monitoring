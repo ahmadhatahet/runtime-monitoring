{
 "cells": [
  {
   "cell_type": "code",
   "execution_count": 1,
   "metadata": {
    "id": "WdOYGPWCPFDT",
    "scrolled": false
   },
   "outputs": [],
   "source": [
    "# dd\n",
    "# https://github.com/tulip-control/dd\n",
    "\n",
    "# PyDDLib\n",
    "# https://github.com/thiagopbueno/pyddlib/blob/master/pyddlib/bdd.py\n",
    "\n",
    "# PyEDA\n",
    "# https://github.com/cjdrake/pyeda/blob/master/doc/source/bdd.rst\n",
    "\n",
    "\n",
    "# !pip install dd pyeda pyddlib graphviz"
   ]
  },
  {
   "cell_type": "code",
   "execution_count": 2,
   "metadata": {
    "id": "tQJAylqCQ5L2"
   },
   "outputs": [],
   "source": [
    "import pandas as pd\n",
    "import numpy as np\n",
    "from graphviz import Source\n",
    "import matplotlib.pyplot as plt"
   ]
  },
  {
   "cell_type": "markdown",
   "metadata": {
    "id": "Q1pmVPaqDODE"
   },
   "source": [
    "# dd"
   ]
  },
  {
   "cell_type": "code",
   "execution_count": 5,
   "metadata": {
    "id": "rIgsNFFSQvDO"
   },
   "outputs": [],
   "source": [
    "from dd.autoref import BDD\n",
    "\n",
    "bdd = BDD()\n",
    "bdd.declare('x1', 'x2', 'x3')\n",
    "\n",
    "x1 = bdd.var('x1')\n",
    "x2 = bdd.var('x2')\n",
    "x3 = bdd.var('x3')"
   ]
  },
  {
   "cell_type": "code",
   "execution_count": 6,
   "metadata": {
    "colab": {
     "base_uri": "https://localhost:8080/",
     "height": 36
    },
    "id": "DYEaMEWPL3-O",
    "outputId": "13691ee9-3ab7-4c63-e511-d3b284c35a39"
   },
   "outputs": [
    {
     "data": {
      "text/plain": [
       "'(~ ite(x1, ite(x2, TRUE, (~ x3)), TRUE))'"
      ]
     },
     "execution_count": 6,
     "metadata": {},
     "output_type": "execute_result"
    }
   ],
   "source": [
    "img1 = x1 & ~x2 & x3\n",
    "img1.to_expr()"
   ]
  },
  {
   "cell_type": "code",
   "execution_count": 30,
   "metadata": {},
   "outputs": [],
   "source": [
    "# (img1 | bdd.exist([f'x1'], img1)).to_expr()"
   ]
  },
  {
   "cell_type": "code",
   "execution_count": 31,
   "metadata": {},
   "outputs": [],
   "source": [
    "# ( (img1 | bdd.exist([f'x1'], img1)) | bdd.exist([f'x2'], img1) ).to_expr()"
   ]
  },
  {
   "cell_type": "code",
   "execution_count": 32,
   "metadata": {},
   "outputs": [
    {
     "data": {
      "text/plain": [
       "'ite(x1, ite(x2, x3, TRUE), (~ ite(x2, TRUE, (~ x3))))'"
      ]
     },
     "execution_count": 32,
     "metadata": {},
     "output_type": "execute_result"
    }
   ],
   "source": [
    "# attempts to test enlarged patterns\n",
    "u = img1\n",
    "\n",
    "for i in range(1, 4):\n",
    "    u = u | bdd.exist([f'x{i}'], img1)\n",
    "\n",
    "img1 = u\n",
    "img1.to_expr()"
   ]
  },
  {
   "cell_type": "code",
   "execution_count": 16,
   "metadata": {},
   "outputs": [
    {
     "name": "stdout",
     "output_type": "stream",
     "text": [
      "x4 was not found!\n"
     ]
    }
   ],
   "source": [
    "try:\n",
    "    bdd.exist(['x4'], img1)\n",
    "except AssertionError as e:\n",
    "    print('x4 was not found!')"
   ]
  },
  {
   "cell_type": "code",
   "execution_count": 17,
   "metadata": {},
   "outputs": [
    {
     "data": {
      "text/plain": [
       "'(~ ite(x1, ite(x2, TRUE, (~ x3)), TRUE))'"
      ]
     },
     "execution_count": 17,
     "metadata": {},
     "output_type": "execute_result"
    }
   ],
   "source": [
    "# reset img1\n",
    "img1 = x1 & ~x2 & x3\n",
    "img1.to_expr()"
   ]
  },
  {
   "cell_type": "code",
   "execution_count": null,
   "metadata": {
    "id": "HcMbXfpiMOKE"
   },
   "outputs": [],
   "source": [
    "'''\n",
    "(~\n",
    "    ite(\n",
    "        x1,\n",
    "        ite(\n",
    "            x2,\n",
    "            TRUE,\n",
    "            (~ x3)\n",
    "        ),\n",
    "        TRUE\n",
    "    )\n",
    ")\n",
    "'''"
   ]
  },
  {
   "cell_type": "code",
   "execution_count": 46,
   "metadata": {
    "colab": {
     "base_uri": "https://localhost:8080/",
     "height": 36
    },
    "id": "nYrmJIdTL9J7",
    "outputId": "3cab87b4-eaa1-4cf3-f449-bcb184860ea1"
   },
   "outputs": [
    {
     "data": {
      "application/vnd.google.colaboratory.intrinsic+json": {
       "type": "string"
      },
      "text/plain": [
       "'(~ ite(x1, TRUE, (~ ite(x2, x3, FALSE))))'"
      ]
     },
     "execution_count": 46,
     "metadata": {},
     "output_type": "execute_result"
    }
   ],
   "source": [
    "img2 = ~x1 & x2 & x3\n",
    "img2.to_expr()"
   ]
  },
  {
   "cell_type": "code",
   "execution_count": 47,
   "metadata": {
    "colab": {
     "base_uri": "https://localhost:8080/"
    },
    "id": "bzBXS_AdMrVG",
    "outputId": "555c816f-ab73-4373-81d1-db5ced776b18"
   },
   "outputs": [
    {
     "data": {
      "text/plain": [
       "True"
      ]
     },
     "execution_count": 47,
     "metadata": {},
     "output_type": "execute_result"
    }
   ],
   "source": [
    "(img2 & (~x1 & x2 & ~x3)) == bdd.false"
   ]
  },
  {
   "cell_type": "code",
   "execution_count": 48,
   "metadata": {
    "colab": {
     "base_uri": "https://localhost:8080/",
     "height": 36
    },
    "id": "lQ-a183yL9DY",
    "outputId": "ccf5e744-5f13-4392-90e9-26f5657c64f8"
   },
   "outputs": [
    {
     "data": {
      "application/vnd.google.colaboratory.intrinsic+json": {
       "type": "string"
      },
      "text/plain": [
       "'(~ ite(x1, ite(x2, TRUE, (~ x3)), (~ ite(x2, x3, FALSE))))'"
      ]
     },
     "execution_count": 48,
     "metadata": {},
     "output_type": "execute_result"
    }
   ],
   "source": [
    "dd = img1 | img2\n",
    "dd.to_expr()"
   ]
  },
  {
   "cell_type": "code",
   "execution_count": null,
   "metadata": {
    "id": "srxZxOiBNlcz"
   },
   "outputs": [],
   "source": [
    "'''\n",
    "(~ \n",
    "    ite(\n",
    "        x1,\n",
    "        ite(\n",
    "            x2,\n",
    "            TRUE,\n",
    "            (~ x3)\n",
    "        ),\n",
    "        (~\n",
    "            ite(\n",
    "                x2,\n",
    "                x3,\n",
    "                FALSE\n",
    "            )\n",
    "        )\n",
    "    )\n",
    ")\n",
    "'''"
   ]
  },
  {
   "cell_type": "code",
   "execution_count": 52,
   "metadata": {
    "colab": {
     "base_uri": "https://localhost:8080/"
    },
    "id": "vQAqmsXKLtDI",
    "outputId": "995c1d95-6d63-4608-8c96-1d9d45042d2e"
   },
   "outputs": [
    {
     "data": {
      "text/plain": [
       "True"
      ]
     },
     "execution_count": 52,
     "metadata": {},
     "output_type": "execute_result"
    }
   ],
   "source": [
    "# test true\n",
    "img3 = ~x1 & x2 & ~x3\n",
    "(dd & img3) == bdd.false"
   ]
  },
  {
   "cell_type": "code",
   "execution_count": 53,
   "metadata": {
    "colab": {
     "base_uri": "https://localhost:8080/"
    },
    "id": "ebRVZtFFNzzm",
    "outputId": "a1677d68-c23c-4a20-81d4-5e44dfaf8368"
   },
   "outputs": [
    {
     "data": {
      "text/plain": [
       "False"
      ]
     },
     "execution_count": 53,
     "metadata": {},
     "output_type": "execute_result"
    }
   ],
   "source": [
    "img3 = ~x1 & x2 & x3\n",
    "(dd & img3) == bdd.false"
   ]
  },
  {
   "cell_type": "code",
   "execution_count": null,
   "metadata": {
    "id": "GGy_r-MvQu8o"
   },
   "outputs": [],
   "source": [
    "bdd.dump('test.png', [dd])"
   ]
  },
  {
   "cell_type": "markdown",
   "metadata": {
    "id": "qVG36nw_DQju"
   },
   "source": [
    "# PyDDlib"
   ]
  },
  {
   "cell_type": "code",
   "execution_count": null,
   "metadata": {
    "id": "Mi1J-cmBFatQ"
   },
   "outputs": [],
   "source": [
    "from pyddlib.bdd import BDD\n",
    "\n",
    "# bdd = BDD(-1, None, None, None)\n",
    "\n",
    "# x1 = bdd.variable(1)\n",
    "# x2 = bdd.variable(2)\n",
    "# x3 = bdd.variable(3)\n",
    "\n",
    "x1 = BDD.variable(1)\n",
    "x2 = BDD.variable(2)\n",
    "x3 = BDD.variable(3)"
   ]
  },
  {
   "cell_type": "code",
   "execution_count": null,
   "metadata": {
    "colab": {
     "base_uri": "https://localhost:8080/"
    },
    "id": "p0BgTEx8Fy0Y",
    "outputId": "e75d1757-bdde-4087-8852-c1beec64da68"
   },
   "outputs": [
    {
     "data": {
      "text/plain": [
       "@ (index=1, id=5)\n",
       "|  - (value=False, id=1)\n",
       "|  + (index=2, id=4)\n",
       "|  |  - (index=3, id=3)\n",
       "|  |  |  - (value=False, id=1)\n",
       "|  |  |  + (value=True, id=2)\n",
       "|  |  + (value=False, id=1)"
      ]
     },
     "execution_count": 159,
     "metadata": {},
     "output_type": "execute_result"
    }
   ],
   "source": [
    "img1 = x1 & ~x2 & x3\n",
    "img1"
   ]
  },
  {
   "cell_type": "code",
   "execution_count": null,
   "metadata": {
    "colab": {
     "base_uri": "https://localhost:8080/"
    },
    "id": "iKyai625Qu27",
    "outputId": "4040ccf5-9fb0-41a1-d85c-03cbb1fd1b3c"
   },
   "outputs": [
    {
     "data": {
      "text/plain": [
       "@ (index=1, id=5)\n",
       "|  - (index=2, id=4)\n",
       "|  |  - (value=False, id=1)\n",
       "|  |  + (index=3, id=3)\n",
       "|  |  |  - (value=False, id=1)\n",
       "|  |  |  + (value=True, id=2)\n",
       "|  + (value=False, id=1)"
      ]
     },
     "execution_count": 160,
     "metadata": {},
     "output_type": "execute_result"
    }
   ],
   "source": [
    "img2 = ~x1 & x2 & x3\n",
    "img2"
   ]
  },
  {
   "cell_type": "code",
   "execution_count": null,
   "metadata": {
    "colab": {
     "base_uri": "https://localhost:8080/"
    },
    "id": "_Vd95EhwQuz_",
    "outputId": "7c169442-434c-44d8-82a4-40b322ebcffc"
   },
   "outputs": [
    {
     "data": {
      "text/plain": [
       "@ (index=1, id=6)\n",
       "|  - (index=2, id=4)\n",
       "|  |  - (value=False, id=1)\n",
       "|  |  + (index=3, id=3)\n",
       "|  |  |  - (value=False, id=1)\n",
       "|  |  |  + (value=True, id=2)\n",
       "|  + (index=2, id=5)\n",
       "|  |  - (index=3, id=3)\n",
       "|  |  |  - (value=False, id=1)\n",
       "|  |  |  + (value=True, id=2)\n",
       "|  |  + (value=False, id=1)"
      ]
     },
     "execution_count": 161,
     "metadata": {},
     "output_type": "execute_result"
    }
   ],
   "source": [
    "dd = img1 | img2\n",
    "dd"
   ]
  },
  {
   "cell_type": "code",
   "execution_count": null,
   "metadata": {
    "colab": {
     "base_uri": "https://localhost:8080/"
    },
    "id": "UGi_37ZeHMBR",
    "outputId": "71419ec3-8852-46da-9cac-d6ba36ea74f8"
   },
   "outputs": [
    {
     "data": {
      "text/plain": [
       "(False, False)"
      ]
     },
     "execution_count": 162,
     "metadata": {},
     "output_type": "execute_result"
    }
   ],
   "source": [
    "dd.is_zero(), dd.is_one()"
   ]
  },
  {
   "cell_type": "code",
   "execution_count": null,
   "metadata": {
    "colab": {
     "base_uri": "https://localhost:8080/"
    },
    "id": "xSKYlLHOQuxo",
    "outputId": "51f6574e-3e84-4952-af9a-fff52a1679ed"
   },
   "outputs": [
    {
     "data": {
      "text/plain": [
       "@ (index=1, id=5)\n",
       "|  - (index=2, id=4)\n",
       "|  |  - (value=False, id=1)\n",
       "|  |  + (index=3, id=3)\n",
       "|  |  |  - (value=True, id=2)\n",
       "|  |  |  + (value=False, id=1)\n",
       "|  + (value=False, id=1)"
      ]
     },
     "execution_count": 163,
     "metadata": {},
     "output_type": "execute_result"
    }
   ],
   "source": [
    "img3 = ~x1 & x2 & ~x3\n",
    "img3"
   ]
  },
  {
   "cell_type": "code",
   "execution_count": null,
   "metadata": {
    "colab": {
     "base_uri": "https://localhost:8080/"
    },
    "id": "bUe7STxsQusD",
    "outputId": "7719d120-9f14-4a24-a714-c50a670a4521"
   },
   "outputs": [
    {
     "data": {
      "text/plain": [
       "True"
      ]
     },
     "execution_count": 166,
     "metadata": {},
     "output_type": "execute_result"
    }
   ],
   "source": [
    "img3 = ~x1 & x2 & ~x3\n",
    "(dd & img3).is_zero()"
   ]
  },
  {
   "cell_type": "code",
   "execution_count": null,
   "metadata": {
    "colab": {
     "base_uri": "https://localhost:8080/"
    },
    "id": "zYMsixLWIB93",
    "outputId": "57ac559a-2910-488f-887c-692977d5c547"
   },
   "outputs": [
    {
     "data": {
      "text/plain": [
       "False"
      ]
     },
     "execution_count": 165,
     "metadata": {},
     "output_type": "execute_result"
    }
   ],
   "source": [
    "img3 = ~x1 & x2 & x3\n",
    "(dd & img3).is_zero()"
   ]
  },
  {
   "cell_type": "code",
   "execution_count": null,
   "metadata": {
    "colab": {
     "base_uri": "https://localhost:8080/"
    },
    "id": "kvNDO-ETU2dU",
    "outputId": "61acc277-86c6-4106-d3a5-db2da174132f"
   },
   "outputs": [
    {
     "data": {
      "text/plain": [
       "False"
      ]
     },
     "execution_count": 167,
     "metadata": {},
     "output_type": "execute_result"
    }
   ],
   "source": [
    "img3 = x1\n",
    "(dd & img3).is_zero()"
   ]
  },
  {
   "cell_type": "code",
   "execution_count": null,
   "metadata": {
    "colab": {
     "base_uri": "https://localhost:8080/"
    },
    "id": "MeSFugnrU84j",
    "outputId": "117c2d24-c112-4673-ad38-90c0025762e3"
   },
   "outputs": [
    {
     "data": {
      "text/plain": [
       "True"
      ]
     },
     "execution_count": 172,
     "metadata": {},
     "output_type": "execute_result"
    }
   ],
   "source": [
    "img3 = ~x1 & ~x2\n",
    "(dd & img3).is_zero()"
   ]
  },
  {
   "cell_type": "code",
   "execution_count": null,
   "metadata": {
    "colab": {
     "base_uri": "https://localhost:8080/"
    },
    "id": "FquKsneVVN8i",
    "outputId": "a60bc739-3c06-4ce8-f0f9-fb0000be0b8e"
   },
   "outputs": [
    {
     "data": {
      "text/plain": [
       "True"
      ]
     },
     "execution_count": 181,
     "metadata": {},
     "output_type": "execute_result"
    }
   ],
   "source": [
    "img3 = ~x1 & ~x3\n",
    "(dd & img3).is_zero()"
   ]
  },
  {
   "cell_type": "code",
   "execution_count": null,
   "metadata": {
    "colab": {
     "base_uri": "https://localhost:8080/"
    },
    "id": "9XwyIPocVrww",
    "outputId": "869d623f-03eb-4236-8c0c-49e09378f6f5"
   },
   "outputs": [
    {
     "data": {
      "text/plain": [
       "@ (value=False, id=1)"
      ]
     },
     "execution_count": 182,
     "metadata": {},
     "output_type": "execute_result"
    }
   ],
   "source": [
    "dd & img3"
   ]
  },
  {
   "cell_type": "markdown",
   "metadata": {
    "id": "3YWM0PPFOnfI"
   },
   "source": [
    "# PyEDA"
   ]
  },
  {
   "cell_type": "code",
   "execution_count": 4,
   "metadata": {
    "scrolled": false
   },
   "outputs": [],
   "source": [
    "# !pip3 install pyeda"
   ]
  },
  {
   "cell_type": "code",
   "execution_count": 28,
   "metadata": {
    "id": "b4bhxQNuOqbg"
   },
   "outputs": [],
   "source": [
    "from pyeda.inter import *\n",
    "from pyeda.boolalg.bdd import BDDZERO, BDDONE\n",
    "from pyeda.boolalg.expr import ITE\n",
    "\n",
    "x1, x2, x3 = map(bddvar, 'x1 x2 x3'.split())"
   ]
  },
  {
   "cell_type": "code",
   "execution_count": 12,
   "metadata": {
    "colab": {
     "base_uri": "https://localhost:8080/"
    },
    "id": "8Tvc9LWCPSHy",
    "outputId": "4156631c-e191-44e4-d56b-90e1669eb566"
   },
   "outputs": [
    {
     "data": {
      "text/plain": [
       "(False, False)"
      ]
     },
     "execution_count": 12,
     "metadata": {},
     "output_type": "execute_result"
    }
   ],
   "source": [
    "(~x1).is_one(), (~x1).is_zero()"
   ]
  },
  {
   "cell_type": "code",
   "execution_count": 14,
   "metadata": {
    "colab": {
     "base_uri": "https://localhost:8080/",
     "height": 451
    },
    "id": "qvYVBQgRP8V6",
    "outputId": "70ec90fc-c10e-4eed-ab5f-c03385c4b5c4"
   },
   "outputs": [],
   "source": [
    "dd = BDDZERO\n",
    "\n",
    "img1 = x1 & ~x2 & x3\n",
    "dd |= img1\n",
    "\n",
    "img2 = ~x1 & x2 & x3\n",
    "dd |= img2"
   ]
  },
  {
   "cell_type": "code",
   "execution_count": 17,
   "metadata": {
    "colab": {
     "base_uri": "https://localhost:8080/"
    },
    "id": "iNQ2TGYbP8V9",
    "outputId": "36936c10-8653-40f5-8a1c-62e535a060c8"
   },
   "outputs": [
    {
     "data": {
      "text/plain": [
       "True"
      ]
     },
     "execution_count": 17,
     "metadata": {},
     "output_type": "execute_result"
    }
   ],
   "source": [
    "img3 = ~x1 & x2 & ~x3\n",
    "(dd & img3) == BDDZERO"
   ]
  },
  {
   "cell_type": "code",
   "execution_count": 19,
   "metadata": {},
   "outputs": [
    {
     "data": {
      "text/plain": [
       "False"
      ]
     },
     "execution_count": 19,
     "metadata": {},
     "output_type": "execute_result"
    }
   ],
   "source": [
    "img4 = ~x1 & x2 & x3\n",
    "(dd & img4) == BDDZERO"
   ]
  },
  {
   "cell_type": "markdown",
   "metadata": {
    "id": "gwHjyigea8cV"
   },
   "source": [
    "# Testing: how many vatiables till BDD return accuracy 100%?"
   ]
  },
  {
   "cell_type": "markdown",
   "metadata": {
    "id": "PfS3PcsjoB-d"
   },
   "source": [
    "## Function Parts"
   ]
  },
  {
   "cell_type": "code",
   "execution_count": 6,
   "metadata": {
    "colab": {
     "base_uri": "https://localhost:8080/"
    },
    "id": "8Ty3nP2_bR0z",
    "outputId": "73b8205f-b53e-4074-c9c3-63de7462f367"
   },
   "outputs": [
    {
     "data": {
      "text/plain": [
       "[('x1', 'x2', 'x3'),\n",
       " ('x1', 'x2', '~x3'),\n",
       " ('x1', '~x2', 'x3'),\n",
       " ('x1', '~x2', '~x3'),\n",
       " ('~x1', 'x2', 'x3'),\n",
       " ('~x1', 'x2', '~x3'),\n",
       " ('~x1', '~x2', 'x3'),\n",
       " ('~x1', '~x2', '~x3')]"
      ]
     },
     "execution_count": 6,
     "metadata": {},
     "output_type": "execute_result"
    }
   ],
   "source": [
    "from itertools import product\n",
    "\n",
    "[ *product(['x1', '~x1'], ['x2', '~x2'], ['x3', '~x3']) ]"
   ]
  },
  {
   "cell_type": "code",
   "execution_count": 57,
   "metadata": {
    "colab": {
     "base_uri": "https://localhost:8080/"
    },
    "id": "dFLM-OWFbIGI",
    "outputId": "12815ad1-243f-494d-b4ab-7a0ce3a5f3d9"
   },
   "outputs": [
    {
     "name": "stdout",
     "output_type": "stream",
     "text": [
      "expexted number of combinations is 1024\n"
     ]
    }
   ],
   "source": [
    "from dd.autoref import BDD\n",
    "\n",
    "bdd = BDD()\n",
    "\n",
    "num_vars = 10\n",
    "num_combs = np.power(2, num_vars)\n",
    "print( f\"expexted number of combinations is {np.power(2, num_vars)}\" ) \n",
    "\n",
    "vars = [ f'x{v}' for v in range(num_vars)]\n",
    "bdd.declare(*vars)\n",
    "\n",
    "vars = [[bdd.var(v), ~bdd.var(v)] for v in vars]"
   ]
  },
  {
   "cell_type": "code",
   "execution_count": 58,
   "metadata": {
    "colab": {
     "base_uri": "https://localhost:8080/",
     "height": 36
    },
    "id": "XIQoQAUHdAEl",
    "outputId": "10b0bae7-f8a2-4c42-ecd0-fb7e3878d240"
   },
   "outputs": [
    {
     "data": {
      "application/vnd.google.colaboratory.intrinsic+json": {
       "type": "string"
      },
      "text/plain": [
       "'(~ ite(x0, x1, TRUE))'"
      ]
     },
     "execution_count": 58,
     "metadata": {},
     "output_type": "execute_result"
    }
   ],
   "source": [
    "(vars[0][0] & vars[1][1]).to_expr()"
   ]
  },
  {
   "cell_type": "code",
   "execution_count": 59,
   "metadata": {
    "colab": {
     "base_uri": "https://localhost:8080/"
    },
    "id": "T185stl7bIC9",
    "outputId": "29fa6ae2-587f-4580-d993-92e268c240bc"
   },
   "outputs": [
    {
     "name": "stdout",
     "output_type": "stream",
     "text": [
      "ite(x0, ite(x1, ite(x2, ite(x3, ite(x4, ite(x5, ite(x6, ite(x7, ite(x8, x9, FALSE), FALSE), FALSE), FALSE), FALSE), FALSE), FALSE), FALSE), FALSE)\n"
     ]
    }
   ],
   "source": [
    "for comb in product(*vars):\n",
    "    print( np.bitwise_and.reduce(comb).to_expr() )\n",
    "\n",
    "    break"
   ]
  },
  {
   "cell_type": "code",
   "execution_count": 60,
   "metadata": {
    "id": "_lKKTHxCbIAn"
   },
   "outputs": [],
   "source": [
    "# initiate BDD\n",
    "dd = bdd.false\n",
    "add_combs = 200\n",
    "\n",
    "for _, comb in zip(range(add_combs), product(*vars)):\n",
    "    # print( np.bitwise_and.reduce(comb).to_expr() )\n",
    "    dd |= np.bitwise_and.reduce(comb)"
   ]
  },
  {
   "cell_type": "code",
   "execution_count": 65,
   "metadata": {
    "colab": {
     "base_uri": "https://localhost:8080/"
    },
    "id": "pJ8nAmZmgfqF",
    "outputId": "400df0bb-ebe2-40d5-c9fd-b127c0a8a810"
   },
   "outputs": [
    {
     "data": {
      "text/plain": [
       "(824, 1024, 0.8046875)"
      ]
     },
     "execution_count": 65,
     "metadata": {},
     "output_type": "execute_result"
    }
   ],
   "source": [
    "# test all combs\n",
    "total = 0\n",
    "\n",
    "def test_expr(expr1, expr2):\n",
    "    return (expr1 & expr2) == bdd.false\n",
    "\n",
    "for comb in product(*vars):\n",
    "    total += test_expr( dd, np.bitwise_and.reduce(comb) )\n",
    "\n",
    "total, num_combs, total / num_combs"
   ]
  },
  {
   "cell_type": "markdown",
   "metadata": {
    "id": "ZRmGrrmPoEwV"
   },
   "source": [
    "## Function"
   ]
  },
  {
   "cell_type": "code",
   "execution_count": 30,
   "metadata": {
    "id": "hee0q2MUiLxL"
   },
   "outputs": [],
   "source": [
    "# all together\n",
    "def run_dd_test(num_vars=5, perc=0.1):\n",
    "    '''\n",
    "    Test 2**num_vars vraiables\n",
    "    '''\n",
    "\n",
    "    from itertools import product\n",
    "    from dd.autoref import BDD\n",
    "\n",
    "    bdd = BDD()\n",
    "    num_combs = np.power(2, num_vars)\n",
    "    print( f\"num vars: {num_vars} | expexted combinations is {np.power(2, num_vars):,}\" ) \n",
    "    \n",
    "    # add variables to BDD\n",
    "    vars = [ f'x{v}' for v in range(num_vars)]\n",
    "    bdd.declare(*vars)\n",
    "    \n",
    "    # generate negeation for all variables\n",
    "    vars = [[bdd.var(v), ~bdd.var(v)] for v in vars]\n",
    "\n",
    "    # initiate BDD\n",
    "    dd = bdd.false\n",
    "    # add only numper small amount of expressions\n",
    "    add_combs = int(num_combs * perc)\n",
    "\n",
    "    # add only some combinations to the BDD\n",
    "    for _, comb in zip(range(add_combs), product(*vars)):\n",
    "        dd |= np.bitwise_and.reduce(comb)\n",
    "\n",
    "    # test all combs\n",
    "    total = 0\n",
    "\n",
    "    def test_expr_dd(expr1, expr2):\n",
    "        '''if comb is not found return True'''\n",
    "        return not ( (expr1 & expr2) == bdd.false )\n",
    "\n",
    "    # test all combinations against the added ones\n",
    "    for comb in product(*vars):\n",
    "        total += test_expr_dd( dd, np.bitwise_and.reduce(comb) )\n",
    "    \n",
    "    # delete variables\n",
    "    del BDD, bdd, dd, vars\n",
    "\n",
    "    print(f'perc: {perc} | total: {total} | num_combs: {num_combs} | accuracy: {total / num_combs}')\n",
    "    print('-' * 100)\n",
    "\n",
    "    return total, num_combs, total / num_combs"
   ]
  },
  {
   "cell_type": "code",
   "execution_count": 39,
   "metadata": {
    "colab": {
     "base_uri": "https://localhost:8080/"
    },
    "id": "0wL1AMXoimbY",
    "outputId": "9838655b-f8c3-45bb-e720-e14010b19f04"
   },
   "outputs": [
    {
     "name": "stdout",
     "output_type": "stream",
     "text": [
      "num vars: 5 | expexted combinations is 32\n",
      "perc: 0.1 | total: 3 | num_combs: 32 | accuracy: 0.09375\n",
      "----------------------------------------------------------------------------------------------------\n",
      "num vars: 6 | expexted combinations is 64\n",
      "perc: 0.1 | total: 6 | num_combs: 64 | accuracy: 0.09375\n",
      "----------------------------------------------------------------------------------------------------\n",
      "num vars: 7 | expexted combinations is 128\n",
      "perc: 0.1 | total: 12 | num_combs: 128 | accuracy: 0.09375\n",
      "----------------------------------------------------------------------------------------------------\n",
      "num vars: 8 | expexted combinations is 256\n",
      "perc: 0.1 | total: 25 | num_combs: 256 | accuracy: 0.09765625\n",
      "----------------------------------------------------------------------------------------------------\n",
      "num vars: 9 | expexted combinations is 512\n",
      "perc: 0.1 | total: 51 | num_combs: 512 | accuracy: 0.099609375\n",
      "----------------------------------------------------------------------------------------------------\n",
      "num vars: 10 | expexted combinations is 1,024\n",
      "perc: 0.1 | total: 102 | num_combs: 1024 | accuracy: 0.099609375\n",
      "----------------------------------------------------------------------------------------------------\n",
      "num vars: 11 | expexted combinations is 2,048\n",
      "perc: 0.1 | total: 204 | num_combs: 2048 | accuracy: 0.099609375\n",
      "----------------------------------------------------------------------------------------------------\n",
      "num vars: 12 | expexted combinations is 4,096\n",
      "perc: 0.1 | total: 409 | num_combs: 4096 | accuracy: 0.099853515625\n",
      "----------------------------------------------------------------------------------------------------\n",
      "num vars: 13 | expexted combinations is 8,192\n",
      "perc: 0.1 | total: 819 | num_combs: 8192 | accuracy: 0.0999755859375\n",
      "----------------------------------------------------------------------------------------------------\n",
      "num vars: 14 | expexted combinations is 16,384\n",
      "perc: 0.1 | total: 1638 | num_combs: 16384 | accuracy: 0.0999755859375\n",
      "----------------------------------------------------------------------------------------------------\n",
      "num vars: 15 | expexted combinations is 32,768\n",
      "perc: 0.1 | total: 3276 | num_combs: 32768 | accuracy: 0.0999755859375\n",
      "----------------------------------------------------------------------------------------------------\n",
      "CPU times: user 19.5 s, sys: 86.7 ms, total: 19.6 s\n",
      "Wall time: 19.7 s\n"
     ]
    }
   ],
   "source": [
    "%%time\n",
    "results = {}\n",
    "for n in range(5, 16):\n",
    "    results[n] = run_dd_test(n)"
   ]
  },
  {
   "cell_type": "code",
   "execution_count": 40,
   "metadata": {
    "colab": {
     "base_uri": "https://localhost:8080/"
    },
    "id": "JZlVWAw4jLYf",
    "outputId": "364adabb-3802-4e5e-bf57-eac8091e3b7a"
   },
   "outputs": [
    {
     "data": {
      "text/plain": [
       "{5: (3, 32, 0.09375),\n",
       " 6: (6, 64, 0.09375),\n",
       " 7: (12, 128, 0.09375),\n",
       " 8: (25, 256, 0.09765625),\n",
       " 9: (51, 512, 0.099609375),\n",
       " 10: (102, 1024, 0.099609375),\n",
       " 11: (204, 2048, 0.099609375),\n",
       " 12: (409, 4096, 0.099853515625),\n",
       " 13: (819, 8192, 0.0999755859375),\n",
       " 14: (1638, 16384, 0.0999755859375),\n",
       " 15: (3276, 32768, 0.0999755859375)}"
      ]
     },
     "execution_count": 40,
     "metadata": {},
     "output_type": "execute_result"
    }
   ],
   "source": [
    "results"
   ]
  },
  {
   "cell_type": "code",
   "execution_count": 33,
   "metadata": {
    "colab": {
     "base_uri": "https://localhost:8080/"
    },
    "id": "LGgoVIfSjXn8",
    "outputId": "136ef6c0-9d8e-447b-d40c-218fc50ab007"
   },
   "outputs": [
    {
     "name": "stdout",
     "output_type": "stream",
     "text": [
      "num vars: 10 | expexted combinations is 1,024\n",
      "perc: 0.1 | total: 102 | num_combs: 1024 | accuracy: 0.099609375\n",
      "----------------------------------------------------------------------------------------------------\n",
      "num vars: 10 | expexted combinations is 1,024\n",
      "perc: 0.2 | total: 204 | num_combs: 1024 | accuracy: 0.19921875\n",
      "----------------------------------------------------------------------------------------------------\n",
      "num vars: 10 | expexted combinations is 1,024\n",
      "perc: 0.3 | total: 307 | num_combs: 1024 | accuracy: 0.2998046875\n",
      "----------------------------------------------------------------------------------------------------\n",
      "num vars: 10 | expexted combinations is 1,024\n",
      "perc: 0.4 | total: 409 | num_combs: 1024 | accuracy: 0.3994140625\n",
      "----------------------------------------------------------------------------------------------------\n",
      "num vars: 10 | expexted combinations is 1,024\n",
      "perc: 0.5 | total: 512 | num_combs: 1024 | accuracy: 0.5\n",
      "----------------------------------------------------------------------------------------------------\n",
      "num vars: 10 | expexted combinations is 1,024\n",
      "perc: 0.6 | total: 614 | num_combs: 1024 | accuracy: 0.599609375\n",
      "----------------------------------------------------------------------------------------------------\n",
      "num vars: 10 | expexted combinations is 1,024\n",
      "perc: 0.7 | total: 716 | num_combs: 1024 | accuracy: 0.69921875\n",
      "----------------------------------------------------------------------------------------------------\n",
      "num vars: 10 | expexted combinations is 1,024\n",
      "perc: 0.8 | total: 819 | num_combs: 1024 | accuracy: 0.7998046875\n",
      "----------------------------------------------------------------------------------------------------\n",
      "num vars: 10 | expexted combinations is 1,024\n",
      "perc: 0.9 | total: 921 | num_combs: 1024 | accuracy: 0.8994140625\n",
      "----------------------------------------------------------------------------------------------------\n",
      "CPU times: user 2.86 s, sys: 7.98 ms, total: 2.87 s\n",
      "Wall time: 2.88 s\n"
     ]
    }
   ],
   "source": [
    "%%time\n",
    "results2 = {}\n",
    "\n",
    "for p in np.arange(0.1, 0.91, 0.1):\n",
    "    p = p.round(2)\n",
    "    results2[p] = run_dd_test(10, p)"
   ]
  },
  {
   "cell_type": "code",
   "execution_count": 34,
   "metadata": {
    "colab": {
     "base_uri": "https://localhost:8080/"
    },
    "id": "NdfGwh3Mkbh9",
    "outputId": "7ac2a824-8ee2-4d71-ee7c-744fdab5c07a"
   },
   "outputs": [
    {
     "data": {
      "text/plain": [
       "{0.1: (102, 1024, 0.099609375),\n",
       " 0.2: (204, 1024, 0.19921875),\n",
       " 0.3: (307, 1024, 0.2998046875),\n",
       " 0.4: (409, 1024, 0.3994140625),\n",
       " 0.5: (512, 1024, 0.5),\n",
       " 0.6: (614, 1024, 0.599609375),\n",
       " 0.7: (716, 1024, 0.69921875),\n",
       " 0.8: (819, 1024, 0.7998046875),\n",
       " 0.9: (921, 1024, 0.8994140625)}"
      ]
     },
     "execution_count": 34,
     "metadata": {},
     "output_type": "execute_result"
    }
   ],
   "source": [
    "results2"
   ]
  },
  {
   "cell_type": "code",
   "execution_count": null,
   "metadata": {
    "id": "h6bGMgRRzSnd"
   },
   "outputs": [],
   "source": []
  }
 ],
 "metadata": {
  "colab": {
   "collapsed_sections": [
    "qVG36nw_DQju",
    "3YWM0PPFOnfI",
    "PfS3PcsjoB-d"
   ],
   "provenance": [],
   "toc_visible": true
  },
  "kernelspec": {
   "display_name": "Python 3",
   "language": "python",
   "name": "python3"
  },
  "language_info": {
   "codemirror_mode": {
    "name": "ipython",
    "version": 3
   },
   "file_extension": ".py",
   "mimetype": "text/x-python",
   "name": "python",
   "nbconvert_exporter": "python",
   "pygments_lexer": "ipython3",
   "version": "3.10.11"
  }
 },
 "nbformat": 4,
 "nbformat_minor": 1
}
