{
 "cells": [
  {
   "cell_type": "markdown",
   "metadata": {
    "id": "JYXUHcTCbUre"
   },
   "source": [
    "## General Example"
   ]
  },
  {
   "cell_type": "code",
   "execution_count": 2,
   "metadata": {
    "id": "V3psOSekbC-K"
   },
   "outputs": [],
   "source": [
    "from dd import cudd"
   ]
  },
  {
   "cell_type": "code",
   "execution_count": 3,
   "metadata": {
    "id": "e-WtC897bFny"
   },
   "outputs": [],
   "source": [
    "# https://stackoverflow.com/questions/66160582/learning-binary-decision-diagrams-bdds-from-data-in-python\n",
    "bdd1 = cudd.BDD()\n",
    "bdd2 = cudd.BDD()"
   ]
  },
  {
   "cell_type": "code",
   "execution_count": 5,
   "metadata": {
    "id": "yPuovpclbFl-"
   },
   "outputs": [],
   "source": [
    "bdd = cudd.BDD()\n",
    "bdd.declare('x1', 'x2', 'x3')"
   ]
  },
  {
   "cell_type": "code",
   "execution_count": 6,
   "metadata": {
    "id": "2VcBFA6vbFkK"
   },
   "outputs": [],
   "source": [
    "# These are the assignments to the input variables\n",
    "# where the Boolean function is TRUE (the y).\n",
    "# The assignments where the Boolean function is FALSE\n",
    "# are not used in the disjunction below.\n",
    "data = [\n",
    "    dict(x1=True, x2=False, x3=True),\n",
    "    dict(x1=True, x2=True, x3=False),\n",
    "    dict(x1=True, x2=True, x3=True)\n",
    "]"
   ]
  },
  {
   "cell_type": "code",
   "execution_count": 7,
   "metadata": {
    "id": "e3hf3WTdbFiV"
   },
   "outputs": [],
   "source": [
    "u = bdd.false"
   ]
  },
  {
   "cell_type": "code",
   "execution_count": null,
   "metadata": {
    "id": "Gc0DjVKvbFgg"
   },
   "outputs": [],
   "source": [
    "for d in data:\n",
    "    u |= bdd.cube(d)"
   ]
  },
  {
   "cell_type": "code",
   "execution_count": null,
   "metadata": {
    "id": "rFAsdSw4bFek"
   },
   "outputs": [],
   "source": [
    "[*bdd.pick_iter(u, ['x1', 'x2', 'x3'])]"
   ]
  },
  {
   "cell_type": "code",
   "execution_count": null,
   "metadata": {
    "id": "XPJO0n1ebFb_"
   },
   "outputs": [],
   "source": [
    "bdd.exist(dict(x1=True, x2=False, x3=True), u) == bdd.true"
   ]
  },
  {
   "cell_type": "code",
   "execution_count": null,
   "metadata": {
    "id": "CJAxMJHobFZa"
   },
   "outputs": [],
   "source": [
    "bdd.dump('dd-BDD.png', roots=[u])"
   ]
  },
  {
   "cell_type": "code",
   "execution_count": null,
   "metadata": {
    "id": "eElsnLygbFXR"
   },
   "outputs": [],
   "source": [
    "Image.open('dd-BDD.png', mode='r')"
   ]
  },
  {
   "cell_type": "code",
   "execution_count": null,
   "metadata": {
    "id": "3jj6BOSxbRp8"
   },
   "outputs": [],
   "source": [
    "filename = 'bdd.json'\n",
    "bdd.dump(filename, roots=[u])"
   ]
  },
  {
   "cell_type": "code",
   "execution_count": null,
   "metadata": {
    "id": "Csw-9rjNbSot"
   },
   "outputs": [],
   "source": [
    "loaded_bdd = BDD()\n",
    "roots = loaded_bdd.load(filename)\n",
    "loaded_bdd.vars"
   ]
  },
  {
   "cell_type": "markdown",
   "metadata": {
    "id": "8b6YbqNtbabl"
   },
   "source": [
    "## Experiment"
   ]
  },
  {
   "cell_type": "code",
   "execution_count": null,
   "metadata": {
    "id": "F5GMI_Xebeg4"
   },
   "outputs": [],
   "source": [
    "bdd = BDD()\n",
    "\n",
    "vars = [f'x{i}' for i in range(10)]\n",
    "# 1000 vars took 3m 33s\n",
    "\n",
    "bdd.declare(*vars)"
   ]
  },
  {
   "cell_type": "code",
   "execution_count": null,
   "metadata": {
    "id": "M6fG_VOBbqh7"
   },
   "outputs": [],
   "source": [
    "data = []\n",
    "for _ in range(30):\n",
    "    # data.append( {k: bool(round(random.gauss(0, 1),0)) for k in bdd.vars.keys()} )\n",
    "    data.append( { k: (random.gauss(0, 1)>2) for k in bdd.vars.keys() } )"
   ]
  },
  {
   "cell_type": "code",
   "execution_count": null,
   "metadata": {
    "id": "5em5oLb8bo6R"
   },
   "outputs": [],
   "source": [
    "u = bdd.false\n",
    "\n",
    "for d in data:\n",
    "    u |= bdd.cube(d)"
   ]
  },
  {
   "cell_type": "code",
   "execution_count": null,
   "metadata": {
    "id": "MEk5YOa3biPb"
   },
   "outputs": [],
   "source": [
    "temp = 0\n",
    "for _ in range(10_000):\n",
    "    temp += sum( [(random.gauss(0, 1)>1) for _ in range(10)] )\n",
    "\n",
    "print(f'AVG true per combination: {temp/10_000:.0f}')"
   ]
  },
  {
   "cell_type": "code",
   "execution_count": null,
   "metadata": {
    "id": "HarjA5F1bjUf"
   },
   "outputs": [],
   "source": [
    "{ k: (random.gauss(0, 1)>1) for k in bdd.vars.keys() }"
   ]
  },
  {
   "cell_type": "code",
   "execution_count": null,
   "metadata": {
    "id": "ZUSGg-znblJp"
   },
   "outputs": [],
   "source": [
    "results = []\n",
    "for i in range(1_000):\n",
    "    test_expr = { k: (random.gauss(0, 1)>1) for k in bdd.vars.keys() }\n",
    "\n",
    "    # print(test_expr)\n",
    "    results.append( bdd.exist(test_expr, u) == bdd.true )\n",
    "\n",
    "print(f'total true: {sum(results)}')"
   ]
  }
 ],
 "metadata": {
  "colab": {
   "collapsed_sections": [
    "783uUb8NCqSW"
   ],
   "provenance": []
  },
  "kernelspec": {
   "display_name": "Python 3 (ipykernel)",
   "language": "python",
   "name": "python3"
  },
  "language_info": {
   "codemirror_mode": {
    "name": "ipython",
    "version": 3
   },
   "file_extension": ".py",
   "mimetype": "text/x-python",
   "name": "python",
   "nbconvert_exporter": "python",
   "pygments_lexer": "ipython3",
   "version": "3.10.11"
  }
 },
 "nbformat": 4,
 "nbformat_minor": 4
}
