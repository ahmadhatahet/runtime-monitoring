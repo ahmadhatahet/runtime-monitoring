{
 "cells": [
  {
   "cell_type": "markdown",
   "metadata": {
    "id": "JYXUHcTCbUre"
   },
   "source": [
    "## General Example"
   ]
  },
  {
   "cell_type": "code",
   "execution_count": 20,
   "metadata": {
    "id": "V3psOSekbC-K"
   },
   "outputs": [],
   "source": [
    "from dd import cudd\n",
    "from PIL import Image\n",
    "import random"
   ]
  },
  {
   "cell_type": "code",
   "execution_count": 2,
   "metadata": {
    "id": "e-WtC897bFny"
   },
   "outputs": [],
   "source": [
    "# https://stackoverflow.com/questions/66160582/learning-binary-decision-diagrams-bdds-from-data-in-python\n",
    "bdd1 = cudd.BDD()\n",
    "bdd2 = cudd.BDD()"
   ]
  },
  {
   "cell_type": "code",
   "execution_count": 3,
   "metadata": {
    "id": "yPuovpclbFl-"
   },
   "outputs": [],
   "source": [
    "bdd = cudd.BDD()\n",
    "bdd.declare('x1', 'x2', 'x3')"
   ]
  },
  {
   "cell_type": "code",
   "execution_count": 4,
   "metadata": {
    "id": "2VcBFA6vbFkK"
   },
   "outputs": [],
   "source": [
    "# These are the assignments to the input variables\n",
    "# where the Boolean function is TRUE (the y).\n",
    "# The assignments where the Boolean function is FALSE\n",
    "# are not used in the disjunction below.\n",
    "data = [\n",
    "    dict(x1=True, x2=False, x3=True),\n",
    "    dict(x1=True, x2=True, x3=False),\n",
    "    dict(x1=True, x2=True, x3=True)\n",
    "]"
   ]
  },
  {
   "cell_type": "code",
   "execution_count": 5,
   "metadata": {
    "id": "e3hf3WTdbFiV"
   },
   "outputs": [],
   "source": [
    "u = bdd.false"
   ]
  },
  {
   "cell_type": "code",
   "execution_count": 6,
   "metadata": {
    "id": "Gc0DjVKvbFgg"
   },
   "outputs": [],
   "source": [
    "for d in data:\n",
    "    u |= bdd.cube(d)"
   ]
  },
  {
   "cell_type": "code",
   "execution_count": 7,
   "metadata": {
    "id": "rFAsdSw4bFek"
   },
   "outputs": [
    {
     "data": {
      "text/plain": [
       "[{'x1': True, 'x2': False, 'x3': True},\n",
       " {'x3': False, 'x1': True, 'x2': True},\n",
       " {'x3': True, 'x1': True, 'x2': True}]"
      ]
     },
     "execution_count": 7,
     "metadata": {},
     "output_type": "execute_result"
    }
   ],
   "source": [
    "[*bdd.pick_iter(u, ['x1', 'x2', 'x3'])]"
   ]
  },
  {
   "cell_type": "code",
   "execution_count": 8,
   "metadata": {
    "id": "XPJO0n1ebFb_"
   },
   "outputs": [
    {
     "data": {
      "text/plain": [
       "True"
      ]
     },
     "execution_count": 8,
     "metadata": {},
     "output_type": "execute_result"
    }
   ],
   "source": [
    "bdd.exist(dict(x1=True, x2=False, x3=True), u) == bdd.true"
   ]
  },
  {
   "cell_type": "code",
   "execution_count": 9,
   "metadata": {
    "id": "CJAxMJHobFZa"
   },
   "outputs": [],
   "source": [
    "bdd.dump('dd-BDD.png', roots=[u])"
   ]
  },
  {
   "cell_type": "code",
   "execution_count": 12,
   "metadata": {
    "id": "eElsnLygbFXR"
   },
   "outputs": [
    {
     "data": {
      "image/png": "[encoded data removed]",
      "text/plain": [
       "<PIL.PngImagePlugin.PngImageFile image mode=RGB size=269x443>"
      ]
     },
     "execution_count": 12,
     "metadata": {},
     "output_type": "execute_result"
    }
   ],
   "source": [
    "Image.open('dd-BDD.png', mode='r')"
   ]
  },
  {
   "cell_type": "code",
   "execution_count": 13,
   "metadata": {
    "id": "3jj6BOSxbRp8"
   },
   "outputs": [],
   "source": [
    "filename = 'bdd.json'\n",
    "bdd.dump(filename, roots=[u])"
   ]
  },
  {
   "cell_type": "code",
   "execution_count": 15,
   "metadata": {
    "id": "Csw-9rjNbSot"
   },
   "outputs": [
    {
     "data": {
      "text/plain": [
       "{'x1', 'x2', 'x3'}"
      ]
     },
     "execution_count": 15,
     "metadata": {},
     "output_type": "execute_result"
    }
   ],
   "source": [
    "loaded_bdd = cudd.BDD()\n",
    "roots = loaded_bdd.load(filename)\n",
    "loaded_bdd.vars"
   ]
  },
  {
   "cell_type": "markdown",
   "metadata": {
    "id": "8b6YbqNtbabl"
   },
   "source": [
    "## Experiment"
   ]
  },
  {
   "cell_type": "code",
   "execution_count": 16,
   "metadata": {
    "id": "F5GMI_Xebeg4"
   },
   "outputs": [],
   "source": [
    "bdd = cudd.BDD()\n",
    "\n",
    "vars = [f'x{i}' for i in range(10)]\n",
    "# 1000 vars took 3m 33s\n",
    "\n",
    "bdd.declare(*vars)"
   ]
  },
  {
   "cell_type": "code",
   "execution_count": 22,
   "metadata": {},
   "outputs": [
    {
     "data": {
      "text/plain": [
       "{'x0', 'x1', 'x2', 'x3', 'x4', 'x5', 'x6', 'x7', 'x8', 'x9'}"
      ]
     },
     "execution_count": 22,
     "metadata": {},
     "output_type": "execute_result"
    }
   ],
   "source": [
    "bdd.vars"
   ]
  },
  {
   "cell_type": "code",
   "execution_count": 23,
   "metadata": {
    "id": "M6fG_VOBbqh7"
   },
   "outputs": [],
   "source": [
    "data = []\n",
    "for _ in range(30):\n",
    "    # data.append( {k: bool(round(random.gauss(0, 1),0)) for k in bdd.vars.keys()} )\n",
    "    data.append( { k: (random.gauss(0, 1)>2) for k in bdd.vars } )"
   ]
  },
  {
   "cell_type": "code",
   "execution_count": 24,
   "metadata": {
    "id": "5em5oLb8bo6R"
   },
   "outputs": [],
   "source": [
    "u = bdd.false\n",
    "\n",
    "for d in data:\n",
    "    u |= bdd.cube(d)"
   ]
  },
  {
   "cell_type": "code",
   "execution_count": 25,
   "metadata": {
    "id": "MEk5YOa3biPb"
   },
   "outputs": [
    {
     "name": "stdout",
     "output_type": "stream",
     "text": [
      "AVG true per combination: 2\n"
     ]
    }
   ],
   "source": [
    "temp = 0\n",
    "for _ in range(10_000):\n",
    "    temp += sum( [(random.gauss(0, 1)>1) for _ in range(10)] )\n",
    "\n",
    "print(f'AVG true per combination: {temp/10_000:.0f}')"
   ]
  },
  {
   "cell_type": "code",
   "execution_count": 27,
   "metadata": {
    "id": "HarjA5F1bjUf"
   },
   "outputs": [
    {
     "data": {
      "text/plain": [
       "{'x5': True,\n",
       " 'x8': False,\n",
       " 'x9': False,\n",
       " 'x6': False,\n",
       " 'x7': False,\n",
       " 'x4': False,\n",
       " 'x1': True,\n",
       " 'x3': False,\n",
       " 'x2': False,\n",
       " 'x0': False}"
      ]
     },
     "execution_count": 27,
     "metadata": {},
     "output_type": "execute_result"
    }
   ],
   "source": [
    "{ k: (random.gauss(0, 1)>1) for k in bdd.vars }"
   ]
  },
  {
   "cell_type": "code",
   "execution_count": 29,
   "metadata": {
    "id": "ZUSGg-znblJp"
   },
   "outputs": [
    {
     "name": "stdout",
     "output_type": "stream",
     "text": [
      "total true: 1000\n"
     ]
    }
   ],
   "source": [
    "results = []\n",
    "for i in range(1_000):\n",
    "    test_expr = { k: (random.gauss(0, 1)>1) for k in bdd.vars }\n",
    "\n",
    "    # print(test_expr)\n",
    "    results.append( bdd.exist(test_expr, u) == bdd.true )\n",
    "\n",
    "print(f'total true: {sum(results)}')"
   ]
  }
 ],
 "metadata": {
  "colab": {
   "collapsed_sections": [
    "783uUb8NCqSW"
   ],
   "provenance": []
  },
  "kernelspec": {
   "display_name": "Python 3 (ipykernel)",
   "language": "python",
   "name": "python3"
  },
  "language_info": {
   "codemirror_mode": {
    "name": "ipython",
    "version": 3
   },
   "file_extension": ".py",
   "mimetype": "text/x-python",
   "name": "python",
   "nbconvert_exporter": "python",
   "pygments_lexer": "ipython3",
   "version": "3.10.12"
  }
 },
 "nbformat": 4,
 "nbformat_minor": 4
}
