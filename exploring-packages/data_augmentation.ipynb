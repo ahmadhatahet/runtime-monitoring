{
  "cells": [
    {
      "cell_type": "code",
      "source": [
        "import numpy as np\n",
        "import matplotlib.pyplot as plt\n",
        "\n",
        "import torch\n",
        "import torch.nn as nn\n",
        "import torchvision.transforms as T"
      ],
      "metadata": {
        "id": "xo0N6Clg2AIW"
      },
      "id": "xo0N6Clg2AIW",
      "execution_count": 1,
      "outputs": []
    },
    {
      "cell_type": "code",
      "source": [
        "from paths import *\n",
        "from utils import *"
      ],
      "metadata": {
        "id": "BfMJGBHW0si8"
      },
      "id": "BfMJGBHW0si8",
      "execution_count": 156,
      "outputs": []
    },
    {
      "cell_type": "code",
      "execution_count": 157,
      "id": "58fa4119",
      "metadata": {
        "id": "58fa4119"
      },
      "outputs": [],
      "source": [
        "config = {\n",
        "    \"dataset\": \"CIFAR10\",\n",
        "    \"data_folder\": \"data\",\n",
        "    \"log_folder\": \"logs\",\n",
        "    \"prefix\": \"CNN-L2\",\n",
        "    \"seed\": 1234\n",
        "}"
      ]
    },
    {
      "cell_type": "code",
      "source": [
        "np.random.seed(config['seed'])\n",
        "torch.manual_seed(config['seed'])\n",
        "torch.cuda.manual_seed(config['seed'])"
      ],
      "metadata": {
        "id": "PTXdZwCE2C1Z"
      },
      "id": "PTXdZwCE2C1Z",
      "execution_count": 158,
      "outputs": []
    },
    {
      "cell_type": "code",
      "execution_count": 159,
      "id": "9a4decc5",
      "metadata": {
        "colab": {
          "base_uri": "https://localhost:8080/"
        },
        "id": "9a4decc5",
        "outputId": "186aac60-1d2c-42a0-d367-1ca5b4f99075"
      },
      "outputs": [
        {
          "output_type": "execute_result",
          "data": {
            "text/plain": [
              "{0: 'airplane',\n",
              " 1: 'automobile',\n",
              " 2: 'bird',\n",
              " 3: 'cat',\n",
              " 4: 'deer',\n",
              " 5: 'dog',\n",
              " 6: 'frog',\n",
              " 7: 'horse',\n",
              " 8: 'ship',\n",
              " 9: 'truck'}"
            ]
          },
          "metadata": {},
          "execution_count": 159
        }
      ],
      "source": [
        "feature_names = get_labels( config['dataset'] )\n",
        "feature_names"
      ]
    },
    {
      "cell_type": "markdown",
      "source": [
        "# Data Augmentation"
      ],
      "metadata": {
        "id": "AIp1f9gPXtK0"
      },
      "id": "AIp1f9gPXtK0"
    },
    {
      "cell_type": "code",
      "source": [
        "temp_loader = get_dataLoader(train_data, 5, True)"
      ],
      "metadata": {
        "id": "4EUKxAHiOYGF"
      },
      "id": "4EUKxAHiOYGF",
      "execution_count": 160,
      "outputs": []
    },
    {
      "cell_type": "code",
      "source": [
        "img, label = next( iter( temp_loader ) )\n",
        "img.shape, label.shape"
      ],
      "metadata": {
        "colab": {
          "base_uri": "https://localhost:8080/"
        },
        "id": "pC0njejoO4hF",
        "outputId": "52e97204-7462-4f04-9393-494b2561c911"
      },
      "id": "pC0njejoO4hF",
      "execution_count": 161,
      "outputs": [
        {
          "output_type": "execute_result",
          "data": {
            "text/plain": [
              "(torch.Size([5, 3, 32, 32]), torch.Size([5]))"
            ]
          },
          "metadata": {},
          "execution_count": 161
        }
      ]
    },
    {
      "cell_type": "code",
      "source": [
        "tf_RandomResizedCrop = T.RandomResizedCrop(32, scale=(0.08, 1.0), ratio=(0.75, 1.3))\n",
        "tf_RandomRotation = T.RandomRotation((20,60))\n",
        "tf_ColorJitter = T.ColorJitter(brightness=30, contrast=5, saturation=0, hue=0)"
      ],
      "metadata": {
        "id": "TtxCcIwhM568"
      },
      "id": "TtxCcIwhM568",
      "execution_count": 162,
      "outputs": []
    },
    {
      "cell_type": "code",
      "source": [
        "tf_RandomResizedCrop_img = tf_RandomResizedCrop(img)\n",
        "tf_RandomRotation_img = tf_RandomRotation(img)\n",
        "tf_ColorJitter_img = tf_ColorJitter(img)"
      ],
      "metadata": {
        "id": "KtPsKuhgPOLc"
      },
      "id": "KtPsKuhgPOLc",
      "execution_count": 163,
      "outputs": []
    },
    {
      "cell_type": "code",
      "source": [
        "fig, axs = plt.subplots( 1, 4, figsize=(10, 10 *4) )\n",
        "\n",
        "indx = np.random.randint(0,5)\n",
        "\n",
        "axs[0].imshow( img[indx].permute(1, 2, 0) )\n",
        "axs[1].imshow( tf_RandomResizedCrop_img[indx].permute(1, 2, 0) )\n",
        "axs[2].imshow( tf_RandomRotation_img[indx].permute(1, 2, 0) )\n",
        "axs[3].imshow(tf_ColorJitter_img[indx].permute(1, 2, 0) )"
      ],
      "metadata": {
        "colab": {
          "base_uri": "https://localhost:8080/",
          "height": 188
        },
        "id": "07pavGuyP8p2",
        "outputId": "5bdd9440-1294-4d4f-e9f1-e29713ebccaa"
      },
      "id": "07pavGuyP8p2",
      "execution_count": 167,
      "outputs": [
        {
          "output_type": "execute_result",
          "data": {
            "text/plain": [
              "<matplotlib.image.AxesImage at 0x7fd74c6516d0>"
            ]
          },
          "metadata": {},
          "execution_count": 167
        },
        {
          "output_type": "display_data",
          "data": {
            "text/plain": [
              "<Figure size 720x2880 with 4 Axes>"
            ],
            "image/png": "[encoded data removed]"
          },
          "metadata": {
            "needs_background": "light"
          }
        }
      ]
    },
    {
      "cell_type": "markdown",
      "source": [
        "# Collate_fn"
      ],
      "metadata": {
        "id": "V-wBbo14s8_I"
      },
      "id": "V-wBbo14s8_I"
    },
    {
      "cell_type": "code",
      "execution_count": 168,
      "id": "1497dc12",
      "metadata": {
        "colab": {
          "base_uri": "https://localhost:8080/"
        },
        "id": "1497dc12",
        "outputId": "8ae56cdf-c594-4272-8622-00454a3e9770"
      },
      "outputs": [
        {
          "output_type": "stream",
          "name": "stdout",
          "text": [
            "Files already downloaded and verified\n",
            "Files already downloaded and verified\n"
          ]
        },
        {
          "output_type": "execute_result",
          "data": {
            "text/plain": [
              "(50000, 10000)"
            ]
          },
          "metadata": {},
          "execution_count": 168
        }
      ],
      "source": [
        "train_full = get_dataset(config['dataset'], train=True)\n",
        "test_data = get_dataset(config['dataset'], train=False)\n",
        "\n",
        "len(train_full), len(test_data)"
      ]
    },
    {
      "cell_type": "code",
      "execution_count": 169,
      "id": "26b0033e",
      "metadata": {
        "id": "26b0033e"
      },
      "outputs": [],
      "source": [
        "val_split = int( len(train_full) * 0.15 )\n",
        "\n",
        "train_split = len(train_full) - val_split\n",
        "train_data, val_data = split_data(train_full, [train_split, val_split], config['seed'])"
      ]
    },
    {
      "cell_type": "code",
      "source": [
        "def _augmentation(img_size=32):\n",
        "    return [\n",
        "        T.RandomResizedCrop(img_size, scale=(0.08, 1.0), ratio=(0.75, 1.3)),\n",
        "        T.RandomRotation((20,60)),\n",
        "        T.ColorJitter(brightness=30, contrast=5, saturation=0, hue=0)\n",
        "    ]\n",
        "\n",
        "type_augmentation = _augmentation()"
      ],
      "metadata": {
        "id": "ugcBjkO4mWZM"
      },
      "id": "ugcBjkO4mWZM",
      "execution_count": 170,
      "outputs": []
    },
    {
      "cell_type": "code",
      "source": [
        "def random_augmentation(batch):\n",
        "    data = torch.stack([ type_augmentation[ np.random.randint(0, len(type_augmentation)-1) ](item[0]) for item in batch ])\n",
        "    label = torch.tensor([ item[1] for item in batch ])\n",
        "\n",
        "    return [ data, label ]"
      ],
      "metadata": {
        "id": "rH2_F3M_mw8o"
      },
      "id": "rH2_F3M_mw8o",
      "execution_count": 171,
      "outputs": []
    },
    {
      "cell_type": "code",
      "source": [
        "train_loader = DataLoader(train_data, batch_size=5)\n",
        "test_collate = DataLoader(train_data, batch_size=5, collate_fn=random_augmentation)"
      ],
      "metadata": {
        "id": "rrqofxrgqqd4"
      },
      "id": "rrqofxrgqqd4",
      "execution_count": 172,
      "outputs": []
    },
    {
      "cell_type": "code",
      "source": [
        "img_train, label_train = next( iter( train_loader ) )\n",
        "img_aug, label_aug = next( iter( test_collate ) )"
      ],
      "metadata": {
        "id": "bdjGzkEVqvaN"
      },
      "id": "bdjGzkEVqvaN",
      "execution_count": 173,
      "outputs": []
    },
    {
      "cell_type": "code",
      "source": [
        "fig, ax = plt.subplots( 5, 2, figsize=(3*2, 3*5 ) )\n",
        "\n",
        "for i in range(5):\n",
        "    ax[i, 0].imshow(img_aug[i].permute(1, 2, 0))\n",
        "    ax[i, 0].set_title( feature_names[ label_aug[i].item() ] )\n",
        "    ax[i, 0].axis(False)\n",
        "    \n",
        "    ax[i, 1].imshow(img_train[i].permute(1, 2, 0))\n",
        "    ax[i, 1].set_title( feature_names[ label_train[i].item() ] )\n",
        "    ax[i, 1].axis(False)\n",
        "\n",
        "plt.tight_layout()\n",
        "plt.show()"
      ],
      "metadata": {
        "colab": {
          "base_uri": "https://localhost:8080/",
          "height": 1000
        },
        "id": "RLpnrziVoD6t",
        "outputId": "0a993b5e-80b4-4df0-c0a0-9f7f4645890b"
      },
      "id": "RLpnrziVoD6t",
      "execution_count": 175,
      "outputs": [
        {
          "output_type": "display_data",
          "data": {
            "text/plain": [
              "<Figure size 432x1080 with 10 Axes>"
            ],
            "image/png": "[encoded data removed]"
          },
          "metadata": {
            "needs_background": "light"
          }
        }
      ]
    },
    {
      "cell_type": "markdown",
      "source": [
        "# Dataloader"
      ],
      "metadata": {
        "id": "cvDuN9igt_1Y"
      },
      "id": "cvDuN9igt_1Y"
    },
    {
      "cell_type": "code",
      "source": [
        "aug_split = int( len(train_data) * 0.20 )\n",
        "train_split = len(train_data) - aug_split\n",
        "\n",
        "\n",
        "_, aug_data = split_data(train_data, [train_split, aug_split])"
      ],
      "metadata": {
        "id": "X4ywbOmHX47m"
      },
      "id": "X4ywbOmHX47m",
      "execution_count": 176,
      "outputs": []
    },
    {
      "cell_type": "code",
      "execution_count": 177,
      "id": "aafb95a4",
      "metadata": {
        "id": "aafb95a4"
      },
      "outputs": [],
      "source": [
        "train_dataloader = get_dataLoader(train_data, 5, True)\n",
        "aug_dataloader = get_dataLoader(aug_data, 5, True, collate_fn=random_augmentation)\n",
        "val_dataloader = get_dataLoader(val_data, 5, False)\n",
        "test_dataloader = get_dataLoader(test_data, 5, False)"
      ]
    },
    {
      "cell_type": "code",
      "source": [
        "counter = 0\n",
        "\n",
        "for batch in merge_loaders([train_dataloader, aug_dataloader]):\n",
        "    counter += 1\n",
        "\n",
        "counter"
      ],
      "metadata": {
        "colab": {
          "base_uri": "https://localhost:8080/"
        },
        "id": "SX6B0U1oz_xG",
        "outputId": "7c45b509-01c2-49ca-b04d-513baa04329b"
      },
      "id": "SX6B0U1oz_xG",
      "execution_count": 178,
      "outputs": [
        {
          "output_type": "execute_result",
          "data": {
            "text/plain": [
              "10200"
            ]
          },
          "metadata": {},
          "execution_count": 178
        }
      ]
    },
    {
      "cell_type": "code",
      "source": [
        "counter = 0\n",
        "\n",
        "for loader in [train_dataloader, aug_dataloader]:\n",
        "    for batch in loader:\n",
        "        counter += 1\n",
        "        \n",
        "counter"
      ],
      "metadata": {
        "colab": {
          "base_uri": "https://localhost:8080/"
        },
        "id": "H-jTsUGVaFx4",
        "outputId": "bdf6e702-e20f-4dbf-8637-90a3c81ca9c3"
      },
      "id": "H-jTsUGVaFx4",
      "execution_count": 179,
      "outputs": [
        {
          "output_type": "execute_result",
          "data": {
            "text/plain": [
              "10200"
            ]
          },
          "metadata": {},
          "execution_count": 179
        }
      ]
    },
    {
      "cell_type": "code",
      "source": [
        "counter = 0\n",
        "\n",
        "for batch in train_dataloader:\n",
        "    counter += 1\n",
        "\n",
        "counter"
      ],
      "metadata": {
        "colab": {
          "base_uri": "https://localhost:8080/"
        },
        "id": "czmxTg5wlm0d",
        "outputId": "d0bb1cd9-3aa6-47a3-b7cc-3adb2529a3e5"
      },
      "id": "czmxTg5wlm0d",
      "execution_count": 180,
      "outputs": [
        {
          "output_type": "execute_result",
          "data": {
            "text/plain": [
              "8500"
            ]
          },
          "metadata": {},
          "execution_count": 180
        }
      ]
    },
    {
      "cell_type": "code",
      "source": [
        "counter = 0\n",
        "\n",
        "for batch in aug_dataloader:\n",
        "    counter += 1\n",
        "\n",
        "counter"
      ],
      "metadata": {
        "colab": {
          "base_uri": "https://localhost:8080/"
        },
        "id": "x6Z8YMqZlmvH",
        "outputId": "873f2aae-8e9d-469a-8160-81c641db3aca"
      },
      "id": "x6Z8YMqZlmvH",
      "execution_count": 181,
      "outputs": [
        {
          "output_type": "execute_result",
          "data": {
            "text/plain": [
              "1700"
            ]
          },
          "metadata": {},
          "execution_count": 181
        }
      ]
    },
    {
      "cell_type": "code",
      "source": [
        "t1 = next( iter( train_dataloader ) )\n",
        "t2 = next( iter( aug_dataloader ) )\n",
        "\n",
        "type(t1), type(t2)"
      ],
      "metadata": {
        "colab": {
          "base_uri": "https://localhost:8080/"
        },
        "id": "N3eRWmQplmp5",
        "outputId": "9ba91ebe-c68b-4b3b-8dfa-0aed4794648b"
      },
      "id": "N3eRWmQplmp5",
      "execution_count": 182,
      "outputs": [
        {
          "output_type": "execute_result",
          "data": {
            "text/plain": [
              "(list, list)"
            ]
          },
          "metadata": {},
          "execution_count": 182
        }
      ]
    },
    {
      "cell_type": "code",
      "source": [
        "len(t1), len(t2)"
      ],
      "metadata": {
        "colab": {
          "base_uri": "https://localhost:8080/"
        },
        "id": "aMa16iMJvSm5",
        "outputId": "0061bdbf-aff3-4e71-cf83-8e2634428516"
      },
      "id": "aMa16iMJvSm5",
      "execution_count": 183,
      "outputs": [
        {
          "output_type": "execute_result",
          "data": {
            "text/plain": [
              "(2, 2)"
            ]
          },
          "metadata": {},
          "execution_count": 183
        }
      ]
    },
    {
      "cell_type": "code",
      "source": [
        "type(t1[0]), type(t2[0])"
      ],
      "metadata": {
        "colab": {
          "base_uri": "https://localhost:8080/"
        },
        "id": "pHCOS3fvviEi",
        "outputId": "60b77508-c6da-427d-8455-e6ebb93466dd"
      },
      "id": "pHCOS3fvviEi",
      "execution_count": 184,
      "outputs": [
        {
          "output_type": "execute_result",
          "data": {
            "text/plain": [
              "(torch.Tensor, torch.Tensor)"
            ]
          },
          "metadata": {},
          "execution_count": 184
        }
      ]
    },
    {
      "cell_type": "code",
      "source": [
        "type(t1[0][0]), type(t2[0][0])"
      ],
      "metadata": {
        "colab": {
          "base_uri": "https://localhost:8080/"
        },
        "id": "2SVqyCvYlmnc",
        "outputId": "6287f416-3e74-49ba-8a9e-7b98bcc67232"
      },
      "id": "2SVqyCvYlmnc",
      "execution_count": 185,
      "outputs": [
        {
          "output_type": "execute_result",
          "data": {
            "text/plain": [
              "(torch.Tensor, torch.Tensor)"
            ]
          },
          "metadata": {},
          "execution_count": 185
        }
      ]
    },
    {
      "cell_type": "code",
      "source": [
        "len(t1[0][0]), len(t2[0][0])"
      ],
      "metadata": {
        "colab": {
          "base_uri": "https://localhost:8080/"
        },
        "id": "jk4je3wRv1IV",
        "outputId": "38d45712-199e-46c5-bff2-96ea2cde3339"
      },
      "id": "jk4je3wRv1IV",
      "execution_count": 186,
      "outputs": [
        {
          "output_type": "execute_result",
          "data": {
            "text/plain": [
              "(3, 3)"
            ]
          },
          "metadata": {},
          "execution_count": 186
        }
      ]
    },
    {
      "cell_type": "code",
      "source": [
        "t1[0][0].shape, t2[0][0].shape"
      ],
      "metadata": {
        "colab": {
          "base_uri": "https://localhost:8080/"
        },
        "id": "IE9NW11avtFz",
        "outputId": "7f6e944b-2838-4326-abf4-598bd8360780"
      },
      "id": "IE9NW11avtFz",
      "execution_count": 187,
      "outputs": [
        {
          "output_type": "execute_result",
          "data": {
            "text/plain": [
              "(torch.Size([3, 32, 32]), torch.Size([3, 32, 32]))"
            ]
          },
          "metadata": {},
          "execution_count": 187
        }
      ]
    },
    {
      "cell_type": "code",
      "source": [],
      "metadata": {
        "id": "OFnOiUTZyY8b"
      },
      "id": "OFnOiUTZyY8b",
      "execution_count": null,
      "outputs": []
    }
  ],
  "metadata": {
    "kernelspec": {
      "display_name": "Python 3 (ipykernel)",
      "language": "python",
      "name": "python3"
    },
    "vscode": {
      "interpreter": {
        "hash": "2b89e4666a1b1f5f90ada5928a1b04d9ad859bf674b23c56e0417352230a6456"
      }
    },
    "colab": {
      "provenance": []
    },
    "gpuClass": "standard"
  },
  "nbformat": 4,
  "nbformat_minor": 5
}