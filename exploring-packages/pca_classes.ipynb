{
 "cells": [
  {
   "cell_type": "code",
   "execution_count": null,
   "id": "20b00237",
   "metadata": {
    "id": "20b00237"
   },
   "outputs": [],
   "source": [
    "from sklearn.decomposition import PCA\n",
    "from sklearn.preprocessing import StandardScaler\n",
    "import pandas as pd\n",
    "import numpy as np\n",
    "import matplotlib.pyplot as plt\n",
    "from matplotlib import rcParams\n",
    "import seaborn as sns\n",
    "from pathlib import Path\n",
    "from ipywidgets import interact\n",
    "from IPython.display import display\n",
    "import pickle\n",
    "import json\n",
    "\n",
    "plt.rcParams[\"figure.figsize\"] = (15,6)"
   ]
  },
  {
   "cell_type": "code",
   "execution_count": null,
   "id": "HpumqufRinH6",
   "metadata": {
    "colab": {
     "base_uri": "https://localhost:8080/"
    },
    "id": "HpumqufRinH6",
    "outputId": "3546d340-b40b-4501-935f-429dc1af1855"
   },
   "outputs": [
    {
     "name": "stdout",
     "output_type": "stream",
     "text": [
      "Archive:  MNIST_WITHOUT_BN.zip\n",
      "  inflating: MNIST-logits-L2-without_BN_test.csv  \n",
      "  inflating: MNIST-logits-L2-without_BN_train.csv  \n",
      "  inflating: MNIST-logits-L2-without_BN_val.csv  \n"
     ]
    }
   ],
   "source": [
    "!unzip MNIST_WITHOUT_BN.zip"
   ]
  },
  {
   "cell_type": "code",
   "execution_count": null,
   "id": "d89ae216",
   "metadata": {
    "colab": {
     "base_uri": "https://localhost:8080/"
    },
    "id": "d89ae216",
    "outputId": "f2ef3a77-e582-4a75-89d2-3dd6bf0123ca"
   },
   "outputs": [
    {
     "data": {
      "text/plain": [
       "(6017, 41)"
      ]
     },
     "execution_count": 5,
     "metadata": {},
     "output_type": "execute_result"
    }
   ],
   "source": [
    "model_name = \"MNIST-logits-L2-without_BN\"\n",
    "stage = 'train'\n",
    "\n",
    "df = pd.read_csv(f'{model_name}_{stage}.csv')\n",
    "\n",
    "cls = 1\n",
    "\n",
    "df_cls = df.loc[ df['y'] == cls ].copy()\n",
    "\n",
    "df_cls.shape"
   ]
  },
  {
   "cell_type": "code",
   "execution_count": null,
   "id": "3722b735",
   "metadata": {
    "id": "3722b735"
   },
   "outputs": [],
   "source": [
    "y = df_cls['y']\n",
    "df_cls.drop('y', axis=1, inplace=True)\n",
    "\n",
    "scaler = StandardScaler()\n",
    "\n",
    "df_cls_scaled = pd.DataFrame( scaler.fit_transform(df_cls), columns=df_cls.columns)"
   ]
  },
  {
   "cell_type": "code",
   "execution_count": null,
   "id": "b3e48be4",
   "metadata": {
    "colab": {
     "base_uri": "https://localhost:8080/",
     "height": 299
    },
    "id": "b3e48be4",
    "outputId": "0788dee8-a0bf-4fe1-d104-cfe273aede95"
   },
   "outputs": [
    {
     "data": {
      "text/html": [
       "\n",
       "  <div id=\"df-da944508-f30a-433a-8777-3715a15d9436\">\n",
       "    <div class=\"colab-df-container\">\n",
       "      <div>\n",
       "<style scoped>\n",
       "    .dataframe tbody tr th:only-of-type {\n",
       "        vertical-align: middle;\n",
       "    }\n",
       "\n",
       "    .dataframe tbody tr th {\n",
       "        vertical-align: top;\n",
       "    }\n",
       "\n",
       "    .dataframe thead th {\n",
       "        text-align: right;\n",
       "    }\n",
       "</style>\n",
       "<table border=\"1\" class=\"dataframe\">\n",
       "  <thead>\n",
       "    <tr style=\"text-align: right;\">\n",
       "      <th></th>\n",
       "      <th>PC_0</th>\n",
       "      <th>PC_1</th>\n",
       "      <th>PC_2</th>\n",
       "      <th>PC_3</th>\n",
       "      <th>PC_4</th>\n",
       "      <th>PC_5</th>\n",
       "      <th>PC_6</th>\n",
       "      <th>PC_7</th>\n",
       "      <th>PC_8</th>\n",
       "      <th>PC_9</th>\n",
       "      <th>...</th>\n",
       "      <th>PC_30</th>\n",
       "      <th>PC_31</th>\n",
       "      <th>PC_32</th>\n",
       "      <th>PC_33</th>\n",
       "      <th>PC_34</th>\n",
       "      <th>PC_35</th>\n",
       "      <th>PC_36</th>\n",
       "      <th>PC_37</th>\n",
       "      <th>PC_38</th>\n",
       "      <th>PC_39</th>\n",
       "    </tr>\n",
       "  </thead>\n",
       "  <tbody>\n",
       "    <tr>\n",
       "      <th>0</th>\n",
       "      <td>1.618385</td>\n",
       "      <td>-3.830934</td>\n",
       "      <td>2.546620</td>\n",
       "      <td>1.344173</td>\n",
       "      <td>-1.494557</td>\n",
       "      <td>-0.858854</td>\n",
       "      <td>-0.398678</td>\n",
       "      <td>0.783921</td>\n",
       "      <td>0.894053</td>\n",
       "      <td>-0.536961</td>\n",
       "      <td>...</td>\n",
       "      <td>0.064682</td>\n",
       "      <td>0.356636</td>\n",
       "      <td>-0.294057</td>\n",
       "      <td>-0.003318</td>\n",
       "      <td>-0.005052</td>\n",
       "      <td>0.033607</td>\n",
       "      <td>0.238235</td>\n",
       "      <td>0.073116</td>\n",
       "      <td>0.161771</td>\n",
       "      <td>-0.257182</td>\n",
       "    </tr>\n",
       "    <tr>\n",
       "      <th>1</th>\n",
       "      <td>-1.472220</td>\n",
       "      <td>3.096028</td>\n",
       "      <td>4.069902</td>\n",
       "      <td>4.531387</td>\n",
       "      <td>-3.565890</td>\n",
       "      <td>3.484435</td>\n",
       "      <td>-1.601967</td>\n",
       "      <td>-0.965542</td>\n",
       "      <td>0.144256</td>\n",
       "      <td>1.298515</td>\n",
       "      <td>...</td>\n",
       "      <td>0.281472</td>\n",
       "      <td>0.769284</td>\n",
       "      <td>-0.551966</td>\n",
       "      <td>0.117480</td>\n",
       "      <td>0.551106</td>\n",
       "      <td>-0.510181</td>\n",
       "      <td>0.610400</td>\n",
       "      <td>0.386591</td>\n",
       "      <td>-0.263265</td>\n",
       "      <td>0.075574</td>\n",
       "    </tr>\n",
       "    <tr>\n",
       "      <th>2</th>\n",
       "      <td>5.931209</td>\n",
       "      <td>10.069716</td>\n",
       "      <td>4.776077</td>\n",
       "      <td>8.554013</td>\n",
       "      <td>-4.278206</td>\n",
       "      <td>0.417395</td>\n",
       "      <td>3.335996</td>\n",
       "      <td>1.999668</td>\n",
       "      <td>-2.398122</td>\n",
       "      <td>-0.701691</td>\n",
       "      <td>...</td>\n",
       "      <td>-0.401447</td>\n",
       "      <td>0.111362</td>\n",
       "      <td>-0.375413</td>\n",
       "      <td>-0.648705</td>\n",
       "      <td>0.717067</td>\n",
       "      <td>0.040778</td>\n",
       "      <td>0.327598</td>\n",
       "      <td>0.264462</td>\n",
       "      <td>0.487554</td>\n",
       "      <td>-0.363016</td>\n",
       "    </tr>\n",
       "    <tr>\n",
       "      <th>3</th>\n",
       "      <td>-0.263525</td>\n",
       "      <td>0.474573</td>\n",
       "      <td>-1.926078</td>\n",
       "      <td>-1.157672</td>\n",
       "      <td>0.604931</td>\n",
       "      <td>0.367694</td>\n",
       "      <td>-1.398267</td>\n",
       "      <td>-0.127589</td>\n",
       "      <td>-0.767995</td>\n",
       "      <td>-1.100178</td>\n",
       "      <td>...</td>\n",
       "      <td>0.161532</td>\n",
       "      <td>-0.621592</td>\n",
       "      <td>0.213605</td>\n",
       "      <td>0.377107</td>\n",
       "      <td>0.072190</td>\n",
       "      <td>0.542109</td>\n",
       "      <td>-0.018333</td>\n",
       "      <td>-0.062943</td>\n",
       "      <td>-0.176733</td>\n",
       "      <td>0.162671</td>\n",
       "    </tr>\n",
       "    <tr>\n",
       "      <th>4</th>\n",
       "      <td>0.170672</td>\n",
       "      <td>-0.734274</td>\n",
       "      <td>4.181681</td>\n",
       "      <td>0.363538</td>\n",
       "      <td>1.053187</td>\n",
       "      <td>-2.465559</td>\n",
       "      <td>0.343103</td>\n",
       "      <td>-0.675558</td>\n",
       "      <td>-0.926329</td>\n",
       "      <td>-1.349096</td>\n",
       "      <td>...</td>\n",
       "      <td>-0.361489</td>\n",
       "      <td>0.425142</td>\n",
       "      <td>-0.170822</td>\n",
       "      <td>-0.114071</td>\n",
       "      <td>-0.266496</td>\n",
       "      <td>0.397448</td>\n",
       "      <td>-0.195530</td>\n",
       "      <td>0.049499</td>\n",
       "      <td>0.248659</td>\n",
       "      <td>-0.086852</td>\n",
       "    </tr>\n",
       "  </tbody>\n",
       "</table>\n",
       "<p>5 rows × 40 columns</p>\n",
       "</div>\n",
       "      <button class=\"colab-df-convert\" onclick=\"convertToInteractive('df-da944508-f30a-433a-8777-3715a15d9436')\"\n",
       "              title=\"Convert this dataframe to an interactive table.\"\n",
       "              style=\"display:none;\">\n",
       "        \n",
       "  <svg xmlns=\"http://www.w3.org/2000/svg\" height=\"24px\"viewBox=\"0 0 24 24\"\n",
       "       width=\"24px\">\n",
       "    <path d=\"M0 0h24v24H0V0z\" fill=\"none\"/>\n",
       "    <path d=\"M18.56 5.44l.94 2.06.94-2.06 2.06-.94-2.06-.94-.94-2.06-.94 2.06-2.06.94zm-11 1L8.5 8.5l.94-2.06 2.06-.94-2.06-.94L8.5 2.5l-.94 2.06-2.06.94zm10 10l.94 2.06.94-2.06 2.06-.94-2.06-.94-.94-2.06-.94 2.06-2.06.94z\"/><path d=\"M17.41 7.96l-1.37-1.37c-.4-.4-.92-.59-1.43-.59-.52 0-1.04.2-1.43.59L10.3 9.45l-7.72 7.72c-.78.78-.78 2.05 0 2.83L4 21.41c.39.39.9.59 1.41.59.51 0 1.02-.2 1.41-.59l7.78-7.78 2.81-2.81c.8-.78.8-2.07 0-2.86zM5.41 20L4 18.59l7.72-7.72 1.47 1.35L5.41 20z\"/>\n",
       "  </svg>\n",
       "      </button>\n",
       "      \n",
       "  <style>\n",
       "    .colab-df-container {\n",
       "      display:flex;\n",
       "      flex-wrap:wrap;\n",
       "      gap: 12px;\n",
       "    }\n",
       "\n",
       "    .colab-df-convert {\n",
       "      background-color: #E8F0FE;\n",
       "      border: none;\n",
       "      border-radius: 50%;\n",
       "      cursor: pointer;\n",
       "      display: none;\n",
       "      fill: #1967D2;\n",
       "      height: 32px;\n",
       "      padding: 0 0 0 0;\n",
       "      width: 32px;\n",
       "    }\n",
       "\n",
       "    .colab-df-convert:hover {\n",
       "      background-color: #E2EBFA;\n",
       "      box-shadow: 0px 1px 2px rgba(60, 64, 67, 0.3), 0px 1px 3px 1px rgba(60, 64, 67, 0.15);\n",
       "      fill: #174EA6;\n",
       "    }\n",
       "\n",
       "    [theme=dark] .colab-df-convert {\n",
       "      background-color: #3B4455;\n",
       "      fill: #D2E3FC;\n",
       "    }\n",
       "\n",
       "    [theme=dark] .colab-df-convert:hover {\n",
       "      background-color: #434B5C;\n",
       "      box-shadow: 0px 1px 3px 1px rgba(0, 0, 0, 0.15);\n",
       "      filter: drop-shadow(0px 1px 2px rgba(0, 0, 0, 0.3));\n",
       "      fill: #FFFFFF;\n",
       "    }\n",
       "  </style>\n",
       "\n",
       "      <script>\n",
       "        const buttonEl =\n",
       "          document.querySelector('#df-da944508-f30a-433a-8777-3715a15d9436 button.colab-df-convert');\n",
       "        buttonEl.style.display =\n",
       "          google.colab.kernel.accessAllowed ? 'block' : 'none';\n",
       "\n",
       "        async function convertToInteractive(key) {\n",
       "          const element = document.querySelector('#df-da944508-f30a-433a-8777-3715a15d9436');\n",
       "          const dataTable =\n",
       "            await google.colab.kernel.invokeFunction('convertToInteractive',\n",
       "                                                     [key], {});\n",
       "          if (!dataTable) return;\n",
       "\n",
       "          const docLinkHtml = 'Like what you see? Visit the ' +\n",
       "            '<a target=\"_blank\" href=https://colab.research.google.com/notebooks/data_table.ipynb>data table notebook</a>'\n",
       "            + ' to learn more about interactive tables.';\n",
       "          element.innerHTML = '';\n",
       "          dataTable['output_type'] = 'display_data';\n",
       "          await google.colab.output.renderOutput(dataTable, element);\n",
       "          const docLink = document.createElement('div');\n",
       "          docLink.innerHTML = docLinkHtml;\n",
       "          element.appendChild(docLink);\n",
       "        }\n",
       "      </script>\n",
       "    </div>\n",
       "  </div>\n",
       "  "
      ],
      "text/plain": [
       "       PC_0       PC_1      PC_2      PC_3      PC_4      PC_5      PC_6  \\\n",
       "0  1.618385  -3.830934  2.546620  1.344173 -1.494557 -0.858854 -0.398678   \n",
       "1 -1.472220   3.096028  4.069902  4.531387 -3.565890  3.484435 -1.601967   \n",
       "2  5.931209  10.069716  4.776077  8.554013 -4.278206  0.417395  3.335996   \n",
       "3 -0.263525   0.474573 -1.926078 -1.157672  0.604931  0.367694 -1.398267   \n",
       "4  0.170672  -0.734274  4.181681  0.363538  1.053187 -2.465559  0.343103   \n",
       "\n",
       "       PC_7      PC_8      PC_9  ...     PC_30     PC_31     PC_32     PC_33  \\\n",
       "0  0.783921  0.894053 -0.536961  ...  0.064682  0.356636 -0.294057 -0.003318   \n",
       "1 -0.965542  0.144256  1.298515  ...  0.281472  0.769284 -0.551966  0.117480   \n",
       "2  1.999668 -2.398122 -0.701691  ... -0.401447  0.111362 -0.375413 -0.648705   \n",
       "3 -0.127589 -0.767995 -1.100178  ...  0.161532 -0.621592  0.213605  0.377107   \n",
       "4 -0.675558 -0.926329 -1.349096  ... -0.361489  0.425142 -0.170822 -0.114071   \n",
       "\n",
       "      PC_34     PC_35     PC_36     PC_37     PC_38     PC_39  \n",
       "0 -0.005052  0.033607  0.238235  0.073116  0.161771 -0.257182  \n",
       "1  0.551106 -0.510181  0.610400  0.386591 -0.263265  0.075574  \n",
       "2  0.717067  0.040778  0.327598  0.264462  0.487554 -0.363016  \n",
       "3  0.072190  0.542109 -0.018333 -0.062943 -0.176733  0.162671  \n",
       "4 -0.266496  0.397448 -0.195530  0.049499  0.248659 -0.086852  \n",
       "\n",
       "[5 rows x 40 columns]"
      ]
     },
     "execution_count": 8,
     "metadata": {},
     "output_type": "execute_result"
    }
   ],
   "source": [
    "# Scaled\n",
    "pca_cls = PCA()\n",
    "df_cls_scaled_pca = pd.DataFrame( pca_cls.fit_transform(df_cls_scaled),\n",
    "                                 columns=[f'PC_{i}' for i in range(df_cls_scaled.shape[1])] )\n",
    "\n",
    "df_cls_scaled_pca.head()"
   ]
  },
  {
   "cell_type": "markdown",
   "id": "Zh1IjD13NW64",
   "metadata": {
    "id": "Zh1IjD13NW64"
   },
   "source": [
    "Analysis"
   ]
  },
  {
   "cell_type": "code",
   "execution_count": null,
   "id": "6kbpoeI6NfQt",
   "metadata": {
    "colab": {
     "base_uri": "https://localhost:8080/",
     "height": 676
    },
    "id": "6kbpoeI6NfQt",
    "outputId": "b47c359a-600b-409a-e4bb-e9b22aeec33c"
   },
   "outputs": [
    {
     "data": {
      "text/html": [
       "\n",
       "  <div id=\"df-c5ff9021-0e48-4b8c-a2c8-8ee4eee2efe1\">\n",
       "    <div class=\"colab-df-container\">\n",
       "      <div>\n",
       "<style scoped>\n",
       "    .dataframe tbody tr th:only-of-type {\n",
       "        vertical-align: middle;\n",
       "    }\n",
       "\n",
       "    .dataframe tbody tr th {\n",
       "        vertical-align: top;\n",
       "    }\n",
       "\n",
       "    .dataframe thead th {\n",
       "        text-align: right;\n",
       "    }\n",
       "</style>\n",
       "<table border=\"1\" class=\"dataframe\">\n",
       "  <thead>\n",
       "    <tr style=\"text-align: right;\">\n",
       "      <th></th>\n",
       "      <th>x</th>\n",
       "      <th>variance</th>\n",
       "      <th>variance_ratio</th>\n",
       "      <th>cum_variance</th>\n",
       "      <th>singular_values</th>\n",
       "    </tr>\n",
       "  </thead>\n",
       "  <tbody>\n",
       "    <tr>\n",
       "      <th>0</th>\n",
       "      <td>x0</td>\n",
       "      <td>5.77</td>\n",
       "      <td>14.41</td>\n",
       "      <td>14.41</td>\n",
       "      <td>186.24</td>\n",
       "    </tr>\n",
       "    <tr>\n",
       "      <th>1</th>\n",
       "      <td>x1</td>\n",
       "      <td>5.17</td>\n",
       "      <td>12.91</td>\n",
       "      <td>27.32</td>\n",
       "      <td>176.28</td>\n",
       "    </tr>\n",
       "    <tr>\n",
       "      <th>2</th>\n",
       "      <td>x2</td>\n",
       "      <td>4.01</td>\n",
       "      <td>10.02</td>\n",
       "      <td>37.34</td>\n",
       "      <td>155.27</td>\n",
       "    </tr>\n",
       "    <tr>\n",
       "      <th>3</th>\n",
       "      <td>x3</td>\n",
       "      <td>3.55</td>\n",
       "      <td>8.88</td>\n",
       "      <td>46.22</td>\n",
       "      <td>146.18</td>\n",
       "    </tr>\n",
       "    <tr>\n",
       "      <th>4</th>\n",
       "      <td>x4</td>\n",
       "      <td>2.85</td>\n",
       "      <td>7.13</td>\n",
       "      <td>53.35</td>\n",
       "      <td>131.02</td>\n",
       "    </tr>\n",
       "    <tr>\n",
       "      <th>5</th>\n",
       "      <td>x5</td>\n",
       "      <td>2.60</td>\n",
       "      <td>6.51</td>\n",
       "      <td>59.86</td>\n",
       "      <td>125.18</td>\n",
       "    </tr>\n",
       "    <tr>\n",
       "      <th>6</th>\n",
       "      <td>x6</td>\n",
       "      <td>2.09</td>\n",
       "      <td>5.24</td>\n",
       "      <td>65.10</td>\n",
       "      <td>112.25</td>\n",
       "    </tr>\n",
       "    <tr>\n",
       "      <th>7</th>\n",
       "      <td>x7</td>\n",
       "      <td>1.77</td>\n",
       "      <td>4.42</td>\n",
       "      <td>69.51</td>\n",
       "      <td>103.11</td>\n",
       "    </tr>\n",
       "    <tr>\n",
       "      <th>8</th>\n",
       "      <td>x8</td>\n",
       "      <td>1.34</td>\n",
       "      <td>3.34</td>\n",
       "      <td>72.85</td>\n",
       "      <td>89.64</td>\n",
       "    </tr>\n",
       "    <tr>\n",
       "      <th>9</th>\n",
       "      <td>x9</td>\n",
       "      <td>1.14</td>\n",
       "      <td>2.85</td>\n",
       "      <td>75.70</td>\n",
       "      <td>82.88</td>\n",
       "    </tr>\n",
       "    <tr>\n",
       "      <th>10</th>\n",
       "      <td>x10</td>\n",
       "      <td>1.02</td>\n",
       "      <td>2.55</td>\n",
       "      <td>78.25</td>\n",
       "      <td>78.30</td>\n",
       "    </tr>\n",
       "    <tr>\n",
       "      <th>11</th>\n",
       "      <td>x11</td>\n",
       "      <td>0.82</td>\n",
       "      <td>2.04</td>\n",
       "      <td>80.29</td>\n",
       "      <td>70.12</td>\n",
       "    </tr>\n",
       "    <tr>\n",
       "      <th>12</th>\n",
       "      <td>x12</td>\n",
       "      <td>0.72</td>\n",
       "      <td>1.79</td>\n",
       "      <td>82.08</td>\n",
       "      <td>65.63</td>\n",
       "    </tr>\n",
       "    <tr>\n",
       "      <th>13</th>\n",
       "      <td>x13</td>\n",
       "      <td>0.62</td>\n",
       "      <td>1.54</td>\n",
       "      <td>83.62</td>\n",
       "      <td>60.83</td>\n",
       "    </tr>\n",
       "    <tr>\n",
       "      <th>14</th>\n",
       "      <td>x14</td>\n",
       "      <td>0.56</td>\n",
       "      <td>1.41</td>\n",
       "      <td>85.03</td>\n",
       "      <td>58.19</td>\n",
       "    </tr>\n",
       "    <tr>\n",
       "      <th>15</th>\n",
       "      <td>x15</td>\n",
       "      <td>0.49</td>\n",
       "      <td>1.22</td>\n",
       "      <td>86.25</td>\n",
       "      <td>54.25</td>\n",
       "    </tr>\n",
       "    <tr>\n",
       "      <th>16</th>\n",
       "      <td>x16</td>\n",
       "      <td>0.43</td>\n",
       "      <td>1.07</td>\n",
       "      <td>87.32</td>\n",
       "      <td>50.77</td>\n",
       "    </tr>\n",
       "    <tr>\n",
       "      <th>17</th>\n",
       "      <td>x17</td>\n",
       "      <td>0.42</td>\n",
       "      <td>1.06</td>\n",
       "      <td>88.38</td>\n",
       "      <td>50.41</td>\n",
       "    </tr>\n",
       "    <tr>\n",
       "      <th>18</th>\n",
       "      <td>x18</td>\n",
       "      <td>0.41</td>\n",
       "      <td>1.03</td>\n",
       "      <td>89.41</td>\n",
       "      <td>49.71</td>\n",
       "    </tr>\n",
       "    <tr>\n",
       "      <th>19</th>\n",
       "      <td>x19</td>\n",
       "      <td>0.39</td>\n",
       "      <td>0.97</td>\n",
       "      <td>90.37</td>\n",
       "      <td>48.25</td>\n",
       "    </tr>\n",
       "  </tbody>\n",
       "</table>\n",
       "</div>\n",
       "      <button class=\"colab-df-convert\" onclick=\"convertToInteractive('df-c5ff9021-0e48-4b8c-a2c8-8ee4eee2efe1')\"\n",
       "              title=\"Convert this dataframe to an interactive table.\"\n",
       "              style=\"display:none;\">\n",
       "        \n",
       "  <svg xmlns=\"http://www.w3.org/2000/svg\" height=\"24px\"viewBox=\"0 0 24 24\"\n",
       "       width=\"24px\">\n",
       "    <path d=\"M0 0h24v24H0V0z\" fill=\"none\"/>\n",
       "    <path d=\"M18.56 5.44l.94 2.06.94-2.06 2.06-.94-2.06-.94-.94-2.06-.94 2.06-2.06.94zm-11 1L8.5 8.5l.94-2.06 2.06-.94-2.06-.94L8.5 2.5l-.94 2.06-2.06.94zm10 10l.94 2.06.94-2.06 2.06-.94-2.06-.94-.94-2.06-.94 2.06-2.06.94z\"/><path d=\"M17.41 7.96l-1.37-1.37c-.4-.4-.92-.59-1.43-.59-.52 0-1.04.2-1.43.59L10.3 9.45l-7.72 7.72c-.78.78-.78 2.05 0 2.83L4 21.41c.39.39.9.59 1.41.59.51 0 1.02-.2 1.41-.59l7.78-7.78 2.81-2.81c.8-.78.8-2.07 0-2.86zM5.41 20L4 18.59l7.72-7.72 1.47 1.35L5.41 20z\"/>\n",
       "  </svg>\n",
       "      </button>\n",
       "      \n",
       "  <style>\n",
       "    .colab-df-container {\n",
       "      display:flex;\n",
       "      flex-wrap:wrap;\n",
       "      gap: 12px;\n",
       "    }\n",
       "\n",
       "    .colab-df-convert {\n",
       "      background-color: #E8F0FE;\n",
       "      border: none;\n",
       "      border-radius: 50%;\n",
       "      cursor: pointer;\n",
       "      display: none;\n",
       "      fill: #1967D2;\n",
       "      height: 32px;\n",
       "      padding: 0 0 0 0;\n",
       "      width: 32px;\n",
       "    }\n",
       "\n",
       "    .colab-df-convert:hover {\n",
       "      background-color: #E2EBFA;\n",
       "      box-shadow: 0px 1px 2px rgba(60, 64, 67, 0.3), 0px 1px 3px 1px rgba(60, 64, 67, 0.15);\n",
       "      fill: #174EA6;\n",
       "    }\n",
       "\n",
       "    [theme=dark] .colab-df-convert {\n",
       "      background-color: #3B4455;\n",
       "      fill: #D2E3FC;\n",
       "    }\n",
       "\n",
       "    [theme=dark] .colab-df-convert:hover {\n",
       "      background-color: #434B5C;\n",
       "      box-shadow: 0px 1px 3px 1px rgba(0, 0, 0, 0.15);\n",
       "      filter: drop-shadow(0px 1px 2px rgba(0, 0, 0, 0.3));\n",
       "      fill: #FFFFFF;\n",
       "    }\n",
       "  </style>\n",
       "\n",
       "      <script>\n",
       "        const buttonEl =\n",
       "          document.querySelector('#df-c5ff9021-0e48-4b8c-a2c8-8ee4eee2efe1 button.colab-df-convert');\n",
       "        buttonEl.style.display =\n",
       "          google.colab.kernel.accessAllowed ? 'block' : 'none';\n",
       "\n",
       "        async function convertToInteractive(key) {\n",
       "          const element = document.querySelector('#df-c5ff9021-0e48-4b8c-a2c8-8ee4eee2efe1');\n",
       "          const dataTable =\n",
       "            await google.colab.kernel.invokeFunction('convertToInteractive',\n",
       "                                                     [key], {});\n",
       "          if (!dataTable) return;\n",
       "\n",
       "          const docLinkHtml = 'Like what you see? Visit the ' +\n",
       "            '<a target=\"_blank\" href=https://colab.research.google.com/notebooks/data_table.ipynb>data table notebook</a>'\n",
       "            + ' to learn more about interactive tables.';\n",
       "          element.innerHTML = '';\n",
       "          dataTable['output_type'] = 'display_data';\n",
       "          await google.colab.output.renderOutput(dataTable, element);\n",
       "          const docLink = document.createElement('div');\n",
       "          docLink.innerHTML = docLinkHtml;\n",
       "          element.appendChild(docLink);\n",
       "        }\n",
       "      </script>\n",
       "    </div>\n",
       "  </div>\n",
       "  "
      ],
      "text/plain": [
       "      x  variance  variance_ratio  cum_variance  singular_values\n",
       "0    x0      5.77           14.41         14.41           186.24\n",
       "1    x1      5.17           12.91         27.32           176.28\n",
       "2    x2      4.01           10.02         37.34           155.27\n",
       "3    x3      3.55            8.88         46.22           146.18\n",
       "4    x4      2.85            7.13         53.35           131.02\n",
       "5    x5      2.60            6.51         59.86           125.18\n",
       "6    x6      2.09            5.24         65.10           112.25\n",
       "7    x7      1.77            4.42         69.51           103.11\n",
       "8    x8      1.34            3.34         72.85            89.64\n",
       "9    x9      1.14            2.85         75.70            82.88\n",
       "10  x10      1.02            2.55         78.25            78.30\n",
       "11  x11      0.82            2.04         80.29            70.12\n",
       "12  x12      0.72            1.79         82.08            65.63\n",
       "13  x13      0.62            1.54         83.62            60.83\n",
       "14  x14      0.56            1.41         85.03            58.19\n",
       "15  x15      0.49            1.22         86.25            54.25\n",
       "16  x16      0.43            1.07         87.32            50.77\n",
       "17  x17      0.42            1.06         88.38            50.41\n",
       "18  x18      0.41            1.03         89.41            49.71\n",
       "19  x19      0.39            0.97         90.37            48.25"
      ]
     },
     "execution_count": 14,
     "metadata": {},
     "output_type": "execute_result"
    }
   ],
   "source": [
    "var_df = pd.DataFrame({\n",
    "    'x': [f'x{i}' for i in range(df_cls_scaled.shape[1])],\n",
    "    'variance':pca_cls.explained_variance_,\n",
    "    'variance_ratio':pca_cls.explained_variance_ratio_ * 100,\n",
    "    'cum_variance': np.cumsum(pca_cls.explained_variance_ratio_ * 100),\n",
    "    'singular_values': pca_cls.singular_values_\n",
    "}).round(2)\n",
    "\n",
    "var_df.loc[var_df['cum_variance'] <= 91]"
   ]
  },
  {
   "cell_type": "code",
   "execution_count": null,
   "id": "ld1tLtD0fRvk",
   "metadata": {
    "colab": {
     "base_uri": "https://localhost:8080/",
     "height": 66,
     "referenced_widgets": [
      "c5bbc3e834c44036bec37dfd0ac46631",
      "a13e3a2ee4b947abb6bda3fbdc1c27ce",
      "d255e91454e5439495c6f9e03f9b7800",
      "d072f01195bc4a788bf5614e46bc9743",
      "ce1e2be993ea41bc8ab2dc2e4e646416",
      "166c25f520e14832843dfc02720eb76f",
      "7c6678eec4ab4b799e233a23e3e22995"
     ]
    },
    "id": "ld1tLtD0fRvk",
    "outputId": "7b7fd506-62bb-422d-c11a-a1156e44183b"
   },
   "outputs": [
    {
     "data": {
      "application/vnd.jupyter.widget-view+json": {
       "model_id": "c5bbc3e834c44036bec37dfd0ac46631",
       "version_major": 2,
       "version_minor": 0
      },
      "text/plain": [
       "interactive(children=(FloatSlider(value=90.0, description='v_thld', max=100.05, step=0.05), Output()), _dom_cl…"
      ]
     },
     "metadata": {},
     "output_type": "display_data"
    }
   ],
   "source": [
    "def num_component_fn(v_thld=90.0):\n",
    "    return var_df[ var_df['cum_variance'].round(2) <= v_thld ].shape[0]\n",
    "\n",
    "v_thld_val = interact(num_component_fn, v_thld=(0,100.05,0.05) )"
   ]
  },
  {
   "cell_type": "code",
   "execution_count": null,
   "id": "SGmvIuJBhNtZ",
   "metadata": {
    "id": "SGmvIuJBhNtZ"
   },
   "outputs": [],
   "source": [
    "num_component = num_component_fn(v_thld_val.widget.kwargs['v_thld']) + 1"
   ]
  },
  {
   "cell_type": "code",
   "execution_count": null,
   "id": "URiaHq0-SVzB",
   "metadata": {
    "colab": {
     "base_uri": "https://localhost:8080/",
     "height": 176
    },
    "id": "URiaHq0-SVzB",
    "outputId": "98367f7d-00c5-4679-fdaf-f3ae8e3a83b5"
   },
   "outputs": [
    {
     "data": {
      "text/html": [
       "\n",
       "  <div id=\"df-d74d1941-65f1-42e1-8a8b-3633605cb7f8\">\n",
       "    <div class=\"colab-df-container\">\n",
       "      <div>\n",
       "<style scoped>\n",
       "    .dataframe tbody tr th:only-of-type {\n",
       "        vertical-align: middle;\n",
       "    }\n",
       "\n",
       "    .dataframe tbody tr th {\n",
       "        vertical-align: top;\n",
       "    }\n",
       "\n",
       "    .dataframe thead th {\n",
       "        text-align: right;\n",
       "    }\n",
       "</style>\n",
       "<table border=\"1\" class=\"dataframe\">\n",
       "  <thead>\n",
       "    <tr style=\"text-align: right;\">\n",
       "      <th></th>\n",
       "      <th>PC_0</th>\n",
       "      <th>PC_1</th>\n",
       "      <th>PC_2</th>\n",
       "      <th>PC_3</th>\n",
       "      <th>PC_4</th>\n",
       "      <th>PC_5</th>\n",
       "      <th>PC_6</th>\n",
       "      <th>PC_7</th>\n",
       "      <th>PC_8</th>\n",
       "      <th>PC_9</th>\n",
       "      <th>PC_10</th>\n",
       "      <th>PC_11</th>\n",
       "      <th>PC_12</th>\n",
       "      <th>PC_13</th>\n",
       "      <th>PC_14</th>\n",
       "      <th>PC_15</th>\n",
       "      <th>PC_16</th>\n",
       "      <th>PC_17</th>\n",
       "      <th>PC_18</th>\n",
       "      <th>PC_19</th>\n",
       "    </tr>\n",
       "  </thead>\n",
       "  <tbody>\n",
       "    <tr>\n",
       "      <th>x0</th>\n",
       "      <td>0.157576</td>\n",
       "      <td>-0.164011</td>\n",
       "      <td>-0.101436</td>\n",
       "      <td>-0.013752</td>\n",
       "      <td>-0.347742</td>\n",
       "      <td>-0.177185</td>\n",
       "      <td>0.297078</td>\n",
       "      <td>0.206914</td>\n",
       "      <td>-0.010791</td>\n",
       "      <td>0.027420</td>\n",
       "      <td>0.093316</td>\n",
       "      <td>0.067154</td>\n",
       "      <td>0.116164</td>\n",
       "      <td>0.112570</td>\n",
       "      <td>0.274701</td>\n",
       "      <td>-0.207429</td>\n",
       "      <td>-0.187163</td>\n",
       "      <td>-0.310213</td>\n",
       "      <td>0.126019</td>\n",
       "      <td>0.134700</td>\n",
       "    </tr>\n",
       "    <tr>\n",
       "      <th>x1</th>\n",
       "      <td>-0.143318</td>\n",
       "      <td>-0.104884</td>\n",
       "      <td>0.006556</td>\n",
       "      <td>-0.185097</td>\n",
       "      <td>-0.055261</td>\n",
       "      <td>0.183792</td>\n",
       "      <td>-0.097942</td>\n",
       "      <td>-0.067518</td>\n",
       "      <td>0.171159</td>\n",
       "      <td>-0.137136</td>\n",
       "      <td>-0.094162</td>\n",
       "      <td>-0.004309</td>\n",
       "      <td>-0.177187</td>\n",
       "      <td>0.077691</td>\n",
       "      <td>-0.107534</td>\n",
       "      <td>-0.166400</td>\n",
       "      <td>-0.168177</td>\n",
       "      <td>0.123257</td>\n",
       "      <td>0.214873</td>\n",
       "      <td>0.250139</td>\n",
       "    </tr>\n",
       "  </tbody>\n",
       "</table>\n",
       "</div>\n",
       "      <button class=\"colab-df-convert\" onclick=\"convertToInteractive('df-d74d1941-65f1-42e1-8a8b-3633605cb7f8')\"\n",
       "              title=\"Convert this dataframe to an interactive table.\"\n",
       "              style=\"display:none;\">\n",
       "        \n",
       "  <svg xmlns=\"http://www.w3.org/2000/svg\" height=\"24px\"viewBox=\"0 0 24 24\"\n",
       "       width=\"24px\">\n",
       "    <path d=\"M0 0h24v24H0V0z\" fill=\"none\"/>\n",
       "    <path d=\"M18.56 5.44l.94 2.06.94-2.06 2.06-.94-2.06-.94-.94-2.06-.94 2.06-2.06.94zm-11 1L8.5 8.5l.94-2.06 2.06-.94-2.06-.94L8.5 2.5l-.94 2.06-2.06.94zm10 10l.94 2.06.94-2.06 2.06-.94-2.06-.94-.94-2.06-.94 2.06-2.06.94z\"/><path d=\"M17.41 7.96l-1.37-1.37c-.4-.4-.92-.59-1.43-.59-.52 0-1.04.2-1.43.59L10.3 9.45l-7.72 7.72c-.78.78-.78 2.05 0 2.83L4 21.41c.39.39.9.59 1.41.59.51 0 1.02-.2 1.41-.59l7.78-7.78 2.81-2.81c.8-.78.8-2.07 0-2.86zM5.41 20L4 18.59l7.72-7.72 1.47 1.35L5.41 20z\"/>\n",
       "  </svg>\n",
       "      </button>\n",
       "      \n",
       "  <style>\n",
       "    .colab-df-container {\n",
       "      display:flex;\n",
       "      flex-wrap:wrap;\n",
       "      gap: 12px;\n",
       "    }\n",
       "\n",
       "    .colab-df-convert {\n",
       "      background-color: #E8F0FE;\n",
       "      border: none;\n",
       "      border-radius: 50%;\n",
       "      cursor: pointer;\n",
       "      display: none;\n",
       "      fill: #1967D2;\n",
       "      height: 32px;\n",
       "      padding: 0 0 0 0;\n",
       "      width: 32px;\n",
       "    }\n",
       "\n",
       "    .colab-df-convert:hover {\n",
       "      background-color: #E2EBFA;\n",
       "      box-shadow: 0px 1px 2px rgba(60, 64, 67, 0.3), 0px 1px 3px 1px rgba(60, 64, 67, 0.15);\n",
       "      fill: #174EA6;\n",
       "    }\n",
       "\n",
       "    [theme=dark] .colab-df-convert {\n",
       "      background-color: #3B4455;\n",
       "      fill: #D2E3FC;\n",
       "    }\n",
       "\n",
       "    [theme=dark] .colab-df-convert:hover {\n",
       "      background-color: #434B5C;\n",
       "      box-shadow: 0px 1px 3px 1px rgba(0, 0, 0, 0.15);\n",
       "      filter: drop-shadow(0px 1px 2px rgba(0, 0, 0, 0.3));\n",
       "      fill: #FFFFFF;\n",
       "    }\n",
       "  </style>\n",
       "\n",
       "      <script>\n",
       "        const buttonEl =\n",
       "          document.querySelector('#df-d74d1941-65f1-42e1-8a8b-3633605cb7f8 button.colab-df-convert');\n",
       "        buttonEl.style.display =\n",
       "          google.colab.kernel.accessAllowed ? 'block' : 'none';\n",
       "\n",
       "        async function convertToInteractive(key) {\n",
       "          const element = document.querySelector('#df-d74d1941-65f1-42e1-8a8b-3633605cb7f8');\n",
       "          const dataTable =\n",
       "            await google.colab.kernel.invokeFunction('convertToInteractive',\n",
       "                                                     [key], {});\n",
       "          if (!dataTable) return;\n",
       "\n",
       "          const docLinkHtml = 'Like what you see? Visit the ' +\n",
       "            '<a target=\"_blank\" href=https://colab.research.google.com/notebooks/data_table.ipynb>data table notebook</a>'\n",
       "            + ' to learn more about interactive tables.';\n",
       "          element.innerHTML = '';\n",
       "          dataTable['output_type'] = 'display_data';\n",
       "          await google.colab.output.renderOutput(dataTable, element);\n",
       "          const docLink = document.createElement('div');\n",
       "          docLink.innerHTML = docLinkHtml;\n",
       "          element.appendChild(docLink);\n",
       "        }\n",
       "      </script>\n",
       "    </div>\n",
       "  </div>\n",
       "  "
      ],
      "text/plain": [
       "        PC_0      PC_1      PC_2      PC_3      PC_4      PC_5      PC_6  \\\n",
       "x0  0.157576 -0.164011 -0.101436 -0.013752 -0.347742 -0.177185  0.297078   \n",
       "x1 -0.143318 -0.104884  0.006556 -0.185097 -0.055261  0.183792 -0.097942   \n",
       "\n",
       "        PC_7      PC_8      PC_9     PC_10     PC_11     PC_12     PC_13  \\\n",
       "x0  0.206914 -0.010791  0.027420  0.093316  0.067154  0.116164  0.112570   \n",
       "x1 -0.067518  0.171159 -0.137136 -0.094162 -0.004309 -0.177187  0.077691   \n",
       "\n",
       "       PC_14     PC_15     PC_16     PC_17     PC_18     PC_19  \n",
       "x0  0.274701 -0.207429 -0.187163 -0.310213  0.126019  0.134700  \n",
       "x1 -0.107534 -0.166400 -0.168177  0.123257  0.214873  0.250139  "
      ]
     },
     "execution_count": 18,
     "metadata": {},
     "output_type": "execute_result"
    }
   ],
   "source": [
    "pca_component = pd.DataFrame( pca_cls.components_[:,:num_component],\n",
    "                            columns=[f'PC_{i}' for i in range(num_component)],\n",
    "                            index=[f'x{i}' for i in range(df_cls_scaled.shape[1])])\n",
    "\n",
    "pca_component[:2]"
   ]
  },
  {
   "cell_type": "code",
   "execution_count": null,
   "id": "woxsC_gXv8yO",
   "metadata": {
    "colab": {
     "base_uri": "https://localhost:8080/"
    },
    "id": "woxsC_gXv8yO",
    "outputId": "9067ef75-8324-49a3-dfe4-0fdff6d115fb"
   },
   "outputs": [
    {
     "data": {
      "text/plain": [
       "(40, 20)"
      ]
     },
     "execution_count": 19,
     "metadata": {},
     "output_type": "execute_result"
    }
   ],
   "source": [
    "pca_component.shape"
   ]
  },
  {
   "cell_type": "code",
   "execution_count": null,
   "id": "hfGA1-Rbu22e",
   "metadata": {
    "id": "hfGA1-Rbu22e"
   },
   "outputs": [],
   "source": [
    "pca_cls_loading = pca_component.multiply( np.sqrt(pca_cls.explained_variance_) , axis=0)"
   ]
  },
  {
   "cell_type": "code",
   "execution_count": null,
   "id": "1e8ebac5",
   "metadata": {
    "colab": {
     "base_uri": "https://localhost:8080/",
     "height": 176
    },
    "id": "1e8ebac5",
    "outputId": "ce97bfdc-f980-4c86-d96c-0d44c63e3a56"
   },
   "outputs": [
    {
     "data": {
      "text/html": [
       "\n",
       "  <div id=\"df-1d43d128-620a-4dd4-a298-9b8bd265aee9\">\n",
       "    <div class=\"colab-df-container\">\n",
       "      <div>\n",
       "<style scoped>\n",
       "    .dataframe tbody tr th:only-of-type {\n",
       "        vertical-align: middle;\n",
       "    }\n",
       "\n",
       "    .dataframe tbody tr th {\n",
       "        vertical-align: top;\n",
       "    }\n",
       "\n",
       "    .dataframe thead th {\n",
       "        text-align: right;\n",
       "    }\n",
       "</style>\n",
       "<table border=\"1\" class=\"dataframe\">\n",
       "  <thead>\n",
       "    <tr style=\"text-align: right;\">\n",
       "      <th></th>\n",
       "      <th>PC_0</th>\n",
       "      <th>PC_1</th>\n",
       "      <th>PC_2</th>\n",
       "      <th>PC_3</th>\n",
       "      <th>PC_4</th>\n",
       "      <th>PC_5</th>\n",
       "      <th>PC_6</th>\n",
       "      <th>PC_7</th>\n",
       "      <th>PC_8</th>\n",
       "      <th>PC_9</th>\n",
       "      <th>PC_10</th>\n",
       "      <th>PC_11</th>\n",
       "      <th>PC_12</th>\n",
       "      <th>PC_13</th>\n",
       "      <th>PC_14</th>\n",
       "      <th>PC_15</th>\n",
       "      <th>PC_16</th>\n",
       "      <th>PC_17</th>\n",
       "      <th>PC_18</th>\n",
       "      <th>PC_19</th>\n",
       "    </tr>\n",
       "  </thead>\n",
       "  <tbody>\n",
       "    <tr>\n",
       "      <th>x0</th>\n",
       "      <td>0.378359</td>\n",
       "      <td>-0.393810</td>\n",
       "      <td>-0.243559</td>\n",
       "      <td>-0.033020</td>\n",
       "      <td>-0.834970</td>\n",
       "      <td>-0.425442</td>\n",
       "      <td>0.713320</td>\n",
       "      <td>0.496823</td>\n",
       "      <td>-0.025910</td>\n",
       "      <td>0.065837</td>\n",
       "      <td>0.224063</td>\n",
       "      <td>0.161245</td>\n",
       "      <td>0.278922</td>\n",
       "      <td>0.270294</td>\n",
       "      <td>0.659588</td>\n",
       "      <td>-0.498061</td>\n",
       "      <td>-0.449399</td>\n",
       "      <td>-0.744857</td>\n",
       "      <td>0.302587</td>\n",
       "      <td>0.323430</td>\n",
       "    </tr>\n",
       "    <tr>\n",
       "      <th>x1</th>\n",
       "      <td>-0.325723</td>\n",
       "      <td>-0.238373</td>\n",
       "      <td>0.014900</td>\n",
       "      <td>-0.420677</td>\n",
       "      <td>-0.125595</td>\n",
       "      <td>0.417712</td>\n",
       "      <td>-0.222597</td>\n",
       "      <td>-0.153450</td>\n",
       "      <td>0.388999</td>\n",
       "      <td>-0.311674</td>\n",
       "      <td>-0.214005</td>\n",
       "      <td>-0.009793</td>\n",
       "      <td>-0.402698</td>\n",
       "      <td>0.176572</td>\n",
       "      <td>-0.244397</td>\n",
       "      <td>-0.378183</td>\n",
       "      <td>-0.382221</td>\n",
       "      <td>0.280132</td>\n",
       "      <td>0.488350</td>\n",
       "      <td>0.568499</td>\n",
       "    </tr>\n",
       "  </tbody>\n",
       "</table>\n",
       "</div>\n",
       "      <button class=\"colab-df-convert\" onclick=\"convertToInteractive('df-1d43d128-620a-4dd4-a298-9b8bd265aee9')\"\n",
       "              title=\"Convert this dataframe to an interactive table.\"\n",
       "              style=\"display:none;\">\n",
       "        \n",
       "  <svg xmlns=\"http://www.w3.org/2000/svg\" height=\"24px\"viewBox=\"0 0 24 24\"\n",
       "       width=\"24px\">\n",
       "    <path d=\"M0 0h24v24H0V0z\" fill=\"none\"/>\n",
       "    <path d=\"M18.56 5.44l.94 2.06.94-2.06 2.06-.94-2.06-.94-.94-2.06-.94 2.06-2.06.94zm-11 1L8.5 8.5l.94-2.06 2.06-.94-2.06-.94L8.5 2.5l-.94 2.06-2.06.94zm10 10l.94 2.06.94-2.06 2.06-.94-2.06-.94-.94-2.06-.94 2.06-2.06.94z\"/><path d=\"M17.41 7.96l-1.37-1.37c-.4-.4-.92-.59-1.43-.59-.52 0-1.04.2-1.43.59L10.3 9.45l-7.72 7.72c-.78.78-.78 2.05 0 2.83L4 21.41c.39.39.9.59 1.41.59.51 0 1.02-.2 1.41-.59l7.78-7.78 2.81-2.81c.8-.78.8-2.07 0-2.86zM5.41 20L4 18.59l7.72-7.72 1.47 1.35L5.41 20z\"/>\n",
       "  </svg>\n",
       "      </button>\n",
       "      \n",
       "  <style>\n",
       "    .colab-df-container {\n",
       "      display:flex;\n",
       "      flex-wrap:wrap;\n",
       "      gap: 12px;\n",
       "    }\n",
       "\n",
       "    .colab-df-convert {\n",
       "      background-color: #E8F0FE;\n",
       "      border: none;\n",
       "      border-radius: 50%;\n",
       "      cursor: pointer;\n",
       "      display: none;\n",
       "      fill: #1967D2;\n",
       "      height: 32px;\n",
       "      padding: 0 0 0 0;\n",
       "      width: 32px;\n",
       "    }\n",
       "\n",
       "    .colab-df-convert:hover {\n",
       "      background-color: #E2EBFA;\n",
       "      box-shadow: 0px 1px 2px rgba(60, 64, 67, 0.3), 0px 1px 3px 1px rgba(60, 64, 67, 0.15);\n",
       "      fill: #174EA6;\n",
       "    }\n",
       "\n",
       "    [theme=dark] .colab-df-convert {\n",
       "      background-color: #3B4455;\n",
       "      fill: #D2E3FC;\n",
       "    }\n",
       "\n",
       "    [theme=dark] .colab-df-convert:hover {\n",
       "      background-color: #434B5C;\n",
       "      box-shadow: 0px 1px 3px 1px rgba(0, 0, 0, 0.15);\n",
       "      filter: drop-shadow(0px 1px 2px rgba(0, 0, 0, 0.3));\n",
       "      fill: #FFFFFF;\n",
       "    }\n",
       "  </style>\n",
       "\n",
       "      <script>\n",
       "        const buttonEl =\n",
       "          document.querySelector('#df-1d43d128-620a-4dd4-a298-9b8bd265aee9 button.colab-df-convert');\n",
       "        buttonEl.style.display =\n",
       "          google.colab.kernel.accessAllowed ? 'block' : 'none';\n",
       "\n",
       "        async function convertToInteractive(key) {\n",
       "          const element = document.querySelector('#df-1d43d128-620a-4dd4-a298-9b8bd265aee9');\n",
       "          const dataTable =\n",
       "            await google.colab.kernel.invokeFunction('convertToInteractive',\n",
       "                                                     [key], {});\n",
       "          if (!dataTable) return;\n",
       "\n",
       "          const docLinkHtml = 'Like what you see? Visit the ' +\n",
       "            '<a target=\"_blank\" href=https://colab.research.google.com/notebooks/data_table.ipynb>data table notebook</a>'\n",
       "            + ' to learn more about interactive tables.';\n",
       "          element.innerHTML = '';\n",
       "          dataTable['output_type'] = 'display_data';\n",
       "          await google.colab.output.renderOutput(dataTable, element);\n",
       "          const docLink = document.createElement('div');\n",
       "          docLink.innerHTML = docLinkHtml;\n",
       "          element.appendChild(docLink);\n",
       "        }\n",
       "      </script>\n",
       "    </div>\n",
       "  </div>\n",
       "  "
      ],
      "text/plain": [
       "        PC_0      PC_1      PC_2      PC_3      PC_4      PC_5      PC_6  \\\n",
       "x0  0.378359 -0.393810 -0.243559 -0.033020 -0.834970 -0.425442  0.713320   \n",
       "x1 -0.325723 -0.238373  0.014900 -0.420677 -0.125595  0.417712 -0.222597   \n",
       "\n",
       "        PC_7      PC_8      PC_9     PC_10     PC_11     PC_12     PC_13  \\\n",
       "x0  0.496823 -0.025910  0.065837  0.224063  0.161245  0.278922  0.270294   \n",
       "x1 -0.153450  0.388999 -0.311674 -0.214005 -0.009793 -0.402698  0.176572   \n",
       "\n",
       "       PC_14     PC_15     PC_16     PC_17     PC_18     PC_19  \n",
       "x0  0.659588 -0.498061 -0.449399 -0.744857  0.302587  0.323430  \n",
       "x1 -0.244397 -0.378183 -0.382221  0.280132  0.488350  0.568499  "
      ]
     },
     "execution_count": 21,
     "metadata": {},
     "output_type": "execute_result"
    }
   ],
   "source": [
    "pca_cls_loading[:2]"
   ]
  },
  {
   "cell_type": "code",
   "execution_count": null,
   "id": "0c885b71",
   "metadata": {
    "colab": {
     "base_uri": "https://localhost:8080/",
     "height": 406
    },
    "id": "0c885b71",
    "outputId": "5255b5c9-9113-469c-c239-20f1a62f72a5"
   },
   "outputs": [
    {
     "data": {
      "image/png": "[encoded data removed]",
      "text/plain": [
       "<Figure size 1080x432 with 1 Axes>"
      ]
     },
     "metadata": {
      "needs_background": "light"
     },
     "output_type": "display_data"
    }
   ],
   "source": [
    "plt.bar(pca_cls_loading.columns, pca_cls.explained_variance_ratio_[:num_component])\n",
    "plt.xticks(pca_cls_loading.columns)\n",
    "plt.title(f'''num_component: {num_component}\n",
    "explained variance ratio: {pca_cls.explained_variance_ratio_[:num_component].sum().round(3)}''')\n",
    "plt.show()"
   ]
  },
  {
   "cell_type": "code",
   "execution_count": null,
   "id": "fd52c90e",
   "metadata": {
    "colab": {
     "base_uri": "https://localhost:8080/",
     "height": 439,
     "referenced_widgets": [
      "7ac74661fce34f0c9e8455591749fd8d",
      "674ec5eebc044f64bdfcbb17298c03f8",
      "2969c2dee70a4400b84b21233a166863",
      "a705573f7b344c46ba452c52c563857d",
      "2ac18f44db3a4cb694d6b4a187bda2d0",
      "fd716b97a7e04efcb91cfe8e3e391371",
      "5b182c9b174f49d687fe56ff021ed499"
     ]
    },
    "id": "fd52c90e",
    "outputId": "486a94e1-2667-4296-adc9-3178845c92bf"
   },
   "outputs": [
    {
     "data": {
      "application/vnd.jupyter.widget-view+json": {
       "model_id": "7ac74661fce34f0c9e8455591749fd8d",
       "version_major": 2,
       "version_minor": 0
      },
      "text/plain": [
       "interactive(children=(Dropdown(description='col', options=('PC_0', 'PC_1', 'PC_2', 'PC_3', 'PC_4', 'PC_5', 'PC…"
      ]
     },
     "metadata": {},
     "output_type": "display_data"
    },
    {
     "data": {
      "text/plain": [
       "<function __main__.make_bar(col='PC_0')>"
      ]
     },
     "metadata": {},
     "output_type": "display_data"
    }
   ],
   "source": [
    "def make_bar(col='PC_0'):\n",
    "    plt.bar(pca_cls_loading.index, pca_cls_loading[col])\n",
    "    plt.yticks(np.arange(-1,1.1, 0.1))\n",
    "    plt.xticks(pca_cls_loading.index)\n",
    "    plt.grid(axis='y')\n",
    "    plt.title(f'neurons correlation against {col}')\n",
    "    \n",
    "display( \n",
    "    interact(\n",
    "        make_bar,\n",
    "        col=pca_cls_loading.columns\n",
    "    )\n",
    ")"
   ]
  },
  {
   "cell_type": "markdown",
   "id": "qSXNosHE_u-M",
   "metadata": {
    "id": "qSXNosHE_u-M"
   },
   "source": [
    "# Functions"
   ]
  },
  {
   "cell_type": "code",
   "execution_count": null,
   "id": "PdTwNrr1qW8t",
   "metadata": {
    "id": "PdTwNrr1qW8t"
   },
   "outputs": [],
   "source": [
    "def save_pickle(filename, obj):\n",
    "    with open(filename, 'wb') as f:\n",
    "        pickle.dump( obj, f, pickle.HIGHEST_PROTOCOL)\n",
    "\n",
    "def load_pickle(filename):\n",
    "    with open(filename, 'rb') as f:\n",
    "        return pickle.load(f)\n",
    "\n",
    "def save_json(filename, obj):\n",
    "    with open(filename, 'w') as f:\n",
    "        json.dump( obj, f, indent=4)\n",
    "\n",
    "def load_json(filename):\n",
    "    with open(filename, 'r') as f:\n",
    "        return json.load(f)"
   ]
  },
  {
   "cell_type": "code",
   "execution_count": null,
   "id": "toprt6Izpcs7",
   "metadata": {
    "id": "toprt6Izpcs7"
   },
   "outputs": [],
   "source": [
    "def pca_each_class(df, folder_path, scale_data=True):\n",
    "    \n",
    "    _pca = {}\n",
    "    _scaler = {}\n",
    "    _classes = df['y'].drop_duplicates().sort_values().tolist()\n",
    "\n",
    "    for cls in _classes:\n",
    "\n",
    "        filename = f'pca_{cls}'\n",
    "\n",
    "        _pca[cls] = PCA()\n",
    "        df_cls = df[df['y'] == cls].drop('y', axis=1)\n",
    "\n",
    "        if scale_data:\n",
    "            filename += '_scaled'\n",
    "            _scaler[cls] = StandardScaler()\n",
    "            df_cls = pd.DataFrame( _scaler[cls].fit_transform(df_cls), columns=df_cls.columns)\n",
    "\n",
    "        df_cls_pca = pd.DataFrame( _pca[cls].fit_transform(df_cls), columns=[f'PC_{i}' for i in range(df_cls.shape[1])] )\n",
    "\n",
    "\n",
    "        filename += '.csv'\n",
    "        df_cls_pca.to_csv( folder_path / filename, index=False)\n",
    "\n",
    "    \n",
    "    save_pickle(folder_path / 'pca.pkl' , _pca)\n",
    "    \n",
    "    if scale_data:\n",
    "        save_pickle(folder_path / 'scaler.pkl' , _scaler)\n",
    "\n",
    "\n",
    "    return _pca"
   ]
  },
  {
   "cell_type": "code",
   "execution_count": null,
   "id": "7cSdqc0KugW3",
   "metadata": {
    "id": "7cSdqc0KugW3"
   },
   "outputs": [],
   "source": [
    "pca_folder_path = Path().cwd() / 'pca'\n",
    "pca_folder_path.mkdir(exist_ok=True)"
   ]
  },
  {
   "cell_type": "code",
   "execution_count": null,
   "id": "XtB4I3EfvKHe",
   "metadata": {
    "id": "XtB4I3EfvKHe"
   },
   "outputs": [],
   "source": [
    "pca_classes = pca_each_class(df, pca_folder_path)"
   ]
  },
  {
   "cell_type": "code",
   "execution_count": null,
   "id": "a_mc863Lu5-i",
   "metadata": {
    "id": "a_mc863Lu5-i"
   },
   "outputs": [],
   "source": [
    "def get_neurons_based_loadings(pca, columns, folder_path, var_thld=0.9, loadings_thld=0.2):\n",
    "\n",
    "    neurons = {}\n",
    "\n",
    "    pca_components_folder = folder_path / 'pca_components'\n",
    "    pca_components_folder.mkdir(exist_ok=True)\n",
    "\n",
    "    pca_loadings_folder = folder_path / 'pca_loadings'\n",
    "    pca_loadings_folder.mkdir(exist_ok=True)\n",
    "\n",
    "    for cls, _pca in pca.items():\n",
    "\n",
    "        num_component = sum(np.cumsum(_pca.explained_variance_ratio_).round(2) <= var_thld)\n",
    "\n",
    "        pca_components = pd.DataFrame(\n",
    "            _pca.components_[:,:num_component],\n",
    "            columns=[f'PC_{i}' for i in range(num_component)],\n",
    "            index=[f'x{i}' for i in range(columns.shape[0])]\n",
    "        )\n",
    "\n",
    "        pca_components.to_csv( pca_components_folder / f'pca_components_{cls}.csv', index=True )\n",
    "        \n",
    "        pca_loadings = pca_components.multiply( np.sqrt(_pca.explained_variance_) , axis=0)\n",
    "\n",
    "        pca_loadings.to_csv( pca_loadings_folder / f'pca_loadings_{cls}.csv', index=True )\n",
    "\n",
    "        neurons_loadings = (pca_loadings.abs() >= loadings_thld).sum(axis=1) / num_component\n",
    "        neurons[cls] = columns[ neurons_loadings >= loadings_thld ].tolist()\n",
    "\n",
    "    save_json(folder_path / 'neuron_loadings.json', neurons)\n",
    "\n",
    "    return neurons"
   ]
  },
  {
   "cell_type": "code",
   "execution_count": null,
   "id": "rU6_qNBFxxVy",
   "metadata": {
    "id": "rU6_qNBFxxVy"
   },
   "outputs": [],
   "source": [
    "neurons = get_neurons_based_loadings(pca_classes, df.columns[:-1], pca_folder_path)"
   ]
  },
  {
   "cell_type": "markdown",
   "id": "etuMcgHjZQv7",
   "metadata": {
    "id": "etuMcgHjZQv7"
   },
   "source": [
    "#Only Loadings"
   ]
  },
  {
   "cell_type": "code",
   "execution_count": null,
   "id": "gnP0Ll0ZZgeu",
   "metadata": {
    "colab": {
     "base_uri": "https://localhost:8080/"
    },
    "id": "gnP0Ll0ZZgeu",
    "outputId": "569f1825-1493-4b12-b7d7-d3f820cf057e"
   },
   "outputs": [
    {
     "data": {
      "text/plain": [
       "x0     0.80\n",
       "x1     0.75\n",
       "x2     0.60\n",
       "x3     0.65\n",
       "x4     0.35\n",
       "x5     0.45\n",
       "x6     0.45\n",
       "x7     0.35\n",
       "x8     0.30\n",
       "x9     0.25\n",
       "x10    0.20\n",
       "x11    0.20\n",
       "x12    0.25\n",
       "x13    0.15\n",
       "x14    0.05\n",
       "x15    0.05\n",
       "x16    0.05\n",
       "x17    0.05\n",
       "x18    0.10\n",
       "x19    0.00\n",
       "x20    0.00\n",
       "x21    0.00\n",
       "x22    0.00\n",
       "x23    0.00\n",
       "x24    0.00\n",
       "x25    0.00\n",
       "x26    0.00\n",
       "x27    0.00\n",
       "x28    0.00\n",
       "x29    0.00\n",
       "x30    0.00\n",
       "x31    0.00\n",
       "x32    0.00\n",
       "x33    0.00\n",
       "x34    0.00\n",
       "x35    0.00\n",
       "x36    0.00\n",
       "x37    0.00\n",
       "x38    0.00\n",
       "x39    0.00\n",
       "dtype: float64"
      ]
     },
     "execution_count": 30,
     "metadata": {},
     "output_type": "execute_result"
    }
   ],
   "source": [
    "loadings_thld = 0.2\n",
    "\n",
    "neurons_loadings = (pca_cls_loading.abs() >= loadings_thld).sum(axis=1) / num_component\n",
    "neurons_loadings"
   ]
  },
  {
   "cell_type": "code",
   "execution_count": null,
   "id": "cYlRUzLs_yN4",
   "metadata": {
    "colab": {
     "base_uri": "https://localhost:8080/"
    },
    "id": "cYlRUzLs_yN4",
    "outputId": "98bcfd7b-39f4-4185-df19-baccef652df7"
   },
   "outputs": [
    {
     "data": {
      "text/plain": [
       "['x0',\n",
       " 'x1',\n",
       " 'x2',\n",
       " 'x3',\n",
       " 'x4',\n",
       " 'x5',\n",
       " 'x6',\n",
       " 'x7',\n",
       " 'x8',\n",
       " 'x9',\n",
       " 'x10',\n",
       " 'x11',\n",
       " 'x12']"
      ]
     },
     "execution_count": 31,
     "metadata": {},
     "output_type": "execute_result"
    }
   ],
   "source": [
    "neurons[1]"
   ]
  },
  {
   "cell_type": "code",
   "execution_count": null,
   "id": "WlXHqJJ-ZgcW",
   "metadata": {
    "colab": {
     "base_uri": "https://localhost:8080/",
     "height": 407
    },
    "id": "WlXHqJJ-ZgcW",
    "outputId": "c26e2075-1147-47b5-ede8-063aa54ece90"
   },
   "outputs": [
    {
     "data": {
      "text/plain": [
       "Text(0.5, 1.0, 'number of neurons selected 13')"
      ]
     },
     "execution_count": 32,
     "metadata": {},
     "output_type": "execute_result"
    },
    {
     "data": {
      "image/png": "[encoded data removed]",
      "text/plain": [
       "<Figure size 1080x432 with 1 Axes>"
      ]
     },
     "metadata": {
      "needs_background": "light"
     },
     "output_type": "display_data"
    }
   ],
   "source": [
    "neurons_loadings_thld = neurons_loadings[ neurons_loadings >= loadings_thld ]\n",
    "\n",
    "plt.bar(neurons_loadings_thld.index, neurons_loadings_thld)\n",
    "plt.title(f'number of neurons selected {neurons_loadings_thld.shape[0]}')"
   ]
  },
  {
   "cell_type": "markdown",
   "id": "D2QtDGE2ZT9Z",
   "metadata": {
    "id": "D2QtDGE2ZT9Z"
   },
   "source": [
    "#Loadings and Variance Ratio"
   ]
  },
  {
   "cell_type": "code",
   "execution_count": null,
   "id": "2vU01YircvqT",
   "metadata": {
    "id": "2vU01YircvqT"
   },
   "outputs": [],
   "source": [
    "def sofmax_(arr):\n",
    "    exp_ = np.exp( arr )\n",
    "    return exp_ / np.sum(exp_)"
   ]
  },
  {
   "cell_type": "code",
   "execution_count": null,
   "id": "D0cchMsIZf9w",
   "metadata": {
    "colab": {
     "base_uri": "https://localhost:8080/"
    },
    "id": "D0cchMsIZf9w",
    "outputId": "5187d0ae-b416-4b7b-b1ae-8ae5b2f476d6"
   },
   "outputs": [
    {
     "data": {
      "text/plain": [
       "x0     0.115288\n",
       "x1     0.096834\n",
       "x2     0.060098\n",
       "x3     0.057711\n",
       "x4     0.024963\n",
       "x5     0.029296\n",
       "x6     0.023560\n",
       "x7     0.015460\n",
       "x8     0.010016\n",
       "x9     0.007135\n",
       "x10    0.005094\n",
       "x11    0.004086\n",
       "x12    0.004475\n",
       "x13    0.002306\n",
       "x14    0.000704\n",
       "x15    0.000611\n",
       "x16    0.000536\n",
       "x17    0.000528\n",
       "x18    0.001027\n",
       "x19    0.000000\n",
       "x20    0.000000\n",
       "x21    0.000000\n",
       "x22    0.000000\n",
       "x23    0.000000\n",
       "x24    0.000000\n",
       "x25    0.000000\n",
       "x26    0.000000\n",
       "x27    0.000000\n",
       "x28    0.000000\n",
       "x29    0.000000\n",
       "x30    0.000000\n",
       "x31    0.000000\n",
       "x32    0.000000\n",
       "x33    0.000000\n",
       "x34    0.000000\n",
       "x35    0.000000\n",
       "x36    0.000000\n",
       "x37    0.000000\n",
       "x38    0.000000\n",
       "x39    0.000000\n",
       "dtype: float64"
      ]
     },
     "execution_count": 64,
     "metadata": {},
     "output_type": "execute_result"
    }
   ],
   "source": [
    "# neurons_loadings_var = sofmax_(neurons_loadings * pca_cls.explained_variance_ratio_) * 100\n",
    "neurons_loadings_var = neurons_loadings * pca_cls.explained_variance_ratio_\n",
    "neurons_loadings_var"
   ]
  },
  {
   "cell_type": "code",
   "execution_count": null,
   "id": "-uqUjEwZZf7j",
   "metadata": {
    "colab": {
     "base_uri": "https://localhost:8080/",
     "height": 407
    },
    "id": "-uqUjEwZZf7j",
    "outputId": "75a4acd7-afbc-4735-cb0c-895a8a51aeeb"
   },
   "outputs": [
    {
     "data": {
      "text/plain": [
       "Text(0.5, 1.0, 'number of neurons selected 4')"
      ]
     },
     "execution_count": 65,
     "metadata": {},
     "output_type": "execute_result"
    },
    {
     "data": {
      "image/png": "[encoded data removed]",
      "text/plain": [
       "<Figure size 1080x432 with 1 Axes>"
      ]
     },
     "metadata": {
      "needs_background": "light"
     },
     "output_type": "display_data"
    }
   ],
   "source": [
    "loadings_var_thld = 0.2 * 0.2\n",
    "\n",
    "neurons_loadings_var_thld = neurons_loadings_var[ neurons_loadings_var >= loadings_var_thld]\n",
    "\n",
    "\n",
    "plt.bar(neurons_loadings_var_thld.index, neurons_loadings_var_thld)\n",
    "plt.title(f'number of neurons selected {neurons_loadings_var_thld.shape[0]}')"
   ]
  },
  {
   "cell_type": "markdown",
   "id": "6ncwbgzEieWD",
   "metadata": {
    "id": "6ncwbgzEieWD"
   },
   "source": [
    "#Loadings and Weights"
   ]
  },
  {
   "cell_type": "code",
   "execution_count": null,
   "id": "N9FkyQCWoWRa",
   "metadata": {
    "id": "N9FkyQCWoWRa"
   },
   "outputs": [],
   "source": [
    "def get_neurons_based_weight(df, split_thld=0.005, weight=0.25):\n",
    "\n",
    "    total_n = df.groupby('y').count()\n",
    "\n",
    "    activations = df > split_thld\n",
    "    activations['y'] = df['y']\n",
    "    activations = activations.groupby('y').sum()\n",
    "    activations = (activations / total_n) >= weight\n",
    "    del total_n\n",
    "\n",
    "    neurons = {}\n",
    "    for i, row in activations.iterrows():\n",
    "        neurons[i] =  set(df.columns[:-1][row])\n",
    "\n",
    "    save_json(folder_path / 'neuron_weights.json', neurons)\n",
    "\n",
    "    return neurons"
   ]
  },
  {
   "cell_type": "code",
   "execution_count": null,
   "id": "BrqnDvIUrqKH",
   "metadata": {
    "id": "BrqnDvIUrqKH"
   },
   "outputs": [],
   "source": [
    "temp = get_neurons_based_weight(df)"
   ]
  },
  {
   "cell_type": "code",
   "execution_count": null,
   "id": "s385zD1hGiFd",
   "metadata": {
    "colab": {
     "base_uri": "https://localhost:8080/"
    },
    "id": "s385zD1hGiFd",
    "outputId": "4030b10d-290a-405a-a8df-277659e5a096"
   },
   "outputs": [
    {
     "data": {
      "text/plain": [
       "{'x0',\n",
       " 'x10',\n",
       " 'x13',\n",
       " 'x15',\n",
       " 'x17',\n",
       " 'x23',\n",
       " 'x25',\n",
       " 'x3',\n",
       " 'x31',\n",
       " 'x37',\n",
       " 'x5',\n",
       " 'x6',\n",
       " 'x9'}"
      ]
     },
     "execution_count": 70,
     "metadata": {},
     "output_type": "execute_result"
    }
   ],
   "source": [
    "temp[1]"
   ]
  },
  {
   "cell_type": "code",
   "execution_count": null,
   "id": "WGbYEa7fK5eC",
   "metadata": {
    "id": "WGbYEa7fK5eC"
   },
   "outputs": [],
   "source": [
    "neurons_weights = (df_cls > 0.005).sum() / df_cls.count()"
   ]
  },
  {
   "cell_type": "code",
   "execution_count": null,
   "id": "Nt-n0PGCMmyU",
   "metadata": {
    "colab": {
     "base_uri": "https://localhost:8080/"
    },
    "id": "Nt-n0PGCMmyU",
    "outputId": "df9b840a-4aa9-4900-d219-6011992f2ae3"
   },
   "outputs": [
    {
     "data": {
      "text/plain": [
       "x0     0.783945\n",
       "x3     0.997341\n",
       "x5     0.930364\n",
       "x6     0.991524\n",
       "x9     0.927372\n",
       "x10    0.999834\n",
       "x13    0.999335\n",
       "x15    0.998504\n",
       "x17    0.435101\n",
       "x23    0.513046\n",
       "x25    0.942496\n",
       "x31    0.998006\n",
       "x37    0.574206\n",
       "dtype: float64"
      ]
     },
     "execution_count": 75,
     "metadata": {},
     "output_type": "execute_result"
    }
   ],
   "source": [
    "neurons_weights_thld = neurons_weights[ neurons_weights>= 0.25]\n",
    "neurons_weights_thld"
   ]
  },
  {
   "cell_type": "code",
   "execution_count": null,
   "id": "vWdCBoI2LEWd",
   "metadata": {
    "id": "vWdCBoI2LEWd"
   },
   "outputs": [],
   "source": [
    " neurons_loadings_weights = neurons_weights * neurons_loadings"
   ]
  },
  {
   "cell_type": "code",
   "execution_count": null,
   "id": "wdtbQ0CYikg7",
   "metadata": {
    "colab": {
     "base_uri": "https://localhost:8080/",
     "height": 407
    },
    "id": "wdtbQ0CYikg7",
    "outputId": "82f18b82-c09a-417a-d281-c8d2adaf0418"
   },
   "outputs": [
    {
     "data": {
      "text/plain": [
       "Text(0.5, 1.0, 'number of neurons selected 13')"
      ]
     },
     "execution_count": 58,
     "metadata": {},
     "output_type": "execute_result"
    },
    {
     "data": {
      "image/png": "[encoded data removed]",
      "text/plain": [
       "<Figure size 1080x432 with 1 Axes>"
      ]
     },
     "metadata": {
      "needs_background": "light"
     },
     "output_type": "display_data"
    }
   ],
   "source": [
    "loadings_weights_thld = 0.02 * 0.25\n",
    "\n",
    "neurons_loadings_weights_thld = neurons_loadings_weights[ neurons_loadings_weights >= loadings_weights_thld]\n",
    "\n",
    "\n",
    "plt.bar(neurons_loadings_weights_thld.index, neurons_loadings_weights_thld)\n",
    "plt.title(f'number of neurons selected {neurons_loadings_weights_thld.shape[0]}')"
   ]
  },
  {
   "cell_type": "code",
   "execution_count": null,
   "id": "2p0sSqOCxSTG",
   "metadata": {
    "colab": {
     "base_uri": "https://localhost:8080/"
    },
    "id": "2p0sSqOCxSTG",
    "outputId": "a447ba70-6bb4-41d0-c1e1-2526cd909512"
   },
   "outputs": [
    {
     "data": {
      "text/plain": [
       "True"
      ]
     },
     "execution_count": 79,
     "metadata": {},
     "output_type": "execute_result"
    }
   ],
   "source": [
    "# are the loadings and loadings_weights neurons the same?\n",
    "set(neurons_loadings_thld.index) | set(neurons_weights_thld.index) == set(neurons[1]) | temp[1]"
   ]
  },
  {
   "cell_type": "code",
   "execution_count": null,
   "id": "rfQj8-7JNbSa",
   "metadata": {
    "colab": {
     "base_uri": "https://localhost:8080/"
    },
    "id": "rfQj8-7JNbSa",
    "outputId": "87798c3c-5f2e-4b85-e8eb-5f7091b5a92d"
   },
   "outputs": [
    {
     "name": "stdout",
     "output_type": "stream",
     "text": [
      "updating: pca/ (stored 0%)\n",
      "  adding: pca/pca_components/ (stored 0%)\n",
      "  adding: pca/pca_components/pca_components_7.csv (deflated 52%)\n",
      "  adding: pca/pca_components/pca_components_4.csv (deflated 52%)\n",
      "  adding: pca/pca_components/pca_components_8.csv (deflated 52%)\n",
      "  adding: pca/pca_components/pca_components_2.csv (deflated 52%)\n",
      "  adding: pca/pca_components/pca_components_3.csv (deflated 52%)\n",
      "  adding: pca/pca_components/pca_components_6.csv (deflated 52%)\n",
      "  adding: pca/pca_components/pca_components_9.csv (deflated 52%)\n",
      "  adding: pca/pca_components/pca_components_5.csv (deflated 52%)\n",
      "  adding: pca/pca_components/pca_components_0.csv (deflated 52%)\n",
      "  adding: pca/pca_components/pca_components_1.csv (deflated 52%)\n",
      "  adding: pca/scaler.pkl (deflated 20%)\n",
      "  adding: pca/neurons.json (deflated 93%)\n",
      "  adding: pca/pca.pkl (deflated 6%)\n",
      "  adding: pca/pca_6_scaled.csv (deflated 54%)\n",
      "  adding: pca/pca_7_scaled.csv (deflated 54%)\n",
      "  adding: pca/pca_1_scaled.csv (deflated 54%)\n",
      "  adding: pca/pca_9_scaled.csv (deflated 54%)\n",
      "  adding: pca/pca_3_scaled.csv (deflated 54%)\n",
      "  adding: pca/pca_0_scaled.csv (deflated 54%)\n",
      "  adding: pca/pca_5_scaled.csv (deflated 54%)\n",
      "  adding: pca/pca_4_scaled.csv (deflated 54%)\n",
      "  adding: pca/pca_2_scaled.csv (deflated 54%)\n",
      "  adding: pca/pca_loadings/ (stored 0%)\n",
      "  adding: pca/pca_loadings/pca_loadings_5.csv (deflated 52%)\n",
      "  adding: pca/pca_loadings/pca_loadings_4.csv (deflated 52%)\n",
      "  adding: pca/pca_loadings/pca_loadings_6.csv (deflated 52%)\n",
      "  adding: pca/pca_loadings/pca_loadings_7.csv (deflated 52%)\n",
      "  adding: pca/pca_loadings/pca_loadings_9.csv (deflated 52%)\n",
      "  adding: pca/pca_loadings/pca_loadings_8.csv (deflated 52%)\n",
      "  adding: pca/pca_loadings/pca_loadings_3.csv (deflated 52%)\n",
      "  adding: pca/pca_loadings/pca_loadings_0.csv (deflated 52%)\n",
      "  adding: pca/pca_loadings/pca_loadings_2.csv (deflated 52%)\n",
      "  adding: pca/pca_loadings/pca_loadings_1.csv (deflated 52%)\n",
      "  adding: pca/pca_8_scaled.csv (deflated 54%)\n"
     ]
    }
   ],
   "source": [
    "!zip -r MNIST_WITHOUT_BN_PCA.zip ./pca"
   ]
  },
  {
   "cell_type": "markdown",
   "id": "QXolecKmZY8p",
   "metadata": {
    "id": "QXolecKmZY8p"
   },
   "source": [
    "#Loadings, Variance Ratio, and Weights"
   ]
  },
  {
   "cell_type": "code",
   "execution_count": null,
   "id": "8cd51417",
   "metadata": {
    "id": "8cd51417"
   },
   "outputs": [],
   "source": [
    "loadings_var_weights_thld = 0.2 * 0.2 * 0.25\n",
    "\n",
    "neurons_loadings_var_weights = neurons_loadings_weights * pca_cls.explained_variance_ratio_"
   ]
  },
  {
   "cell_type": "code",
   "execution_count": null,
   "id": "2jlIeYU8HQKc",
   "metadata": {
    "id": "2jlIeYU8HQKc"
   },
   "outputs": [],
   "source": [
    "neurons_loadings_var_weights_thld = neurons_loadings_var_weights[ neurons_loadings_var_weights >= loadings_var_weights_thld ]"
   ]
  },
  {
   "cell_type": "code",
   "execution_count": null,
   "id": "181093c4",
   "metadata": {
    "colab": {
     "base_uri": "https://localhost:8080/",
     "height": 407
    },
    "id": "181093c4",
    "outputId": "8771fa00-489e-4ea9-86f2-55668846a240"
   },
   "outputs": [
    {
     "data": {
      "text/plain": [
       "Text(0.5, 1.0, 'number of neurons selected 4')"
      ]
     },
     "execution_count": 62,
     "metadata": {},
     "output_type": "execute_result"
    },
    {
     "data": {
      "image/png": "[encoded data removed]",
      "text/plain": [
       "<Figure size 1080x432 with 1 Axes>"
      ]
     },
     "metadata": {
      "needs_background": "light"
     },
     "output_type": "display_data"
    }
   ],
   "source": [
    "plt.bar(neurons_loadings_var_weights_thld.index, neurons_loadings_var_weights_thld)\n",
    "plt.title(f'number of neurons selected {neurons_loadings_var_weights_thld.shape[0]}')"
   ]
  },
  {
   "cell_type": "code",
   "execution_count": null,
   "id": "fd570f91",
   "metadata": {
    "id": "fd570f91"
   },
   "outputs": [],
   "source": []
  },
  {
   "cell_type": "code",
   "execution_count": null,
   "id": "ddd6e48d",
   "metadata": {
    "id": "ddd6e48d"
   },
   "outputs": [],
   "source": []
  },
  {
   "cell_type": "code",
   "execution_count": null,
   "id": "c3e45f64",
   "metadata": {
    "id": "c3e45f64"
   },
   "outputs": [],
   "source": []
  },
  {
   "cell_type": "code",
   "execution_count": null,
   "id": "590524f0",
   "metadata": {
    "id": "590524f0"
   },
   "outputs": [],
   "source": []
  }
 ],
 "metadata": {
  "colab": {
   "collapsed_sections": [
    "D2QtDGE2ZT9Z",
    "QXolecKmZY8p"
   ],
   "provenance": []
  },
  "kernelspec": {
   "display_name": "Python 3",
   "language": "python",
   "name": "python3"
  },
  "language_info": {
   "codemirror_mode": {
    "name": "ipython",
    "version": 3
   },
   "file_extension": ".py",
   "mimetype": "text/x-python",
   "name": "python",
   "nbconvert_exporter": "python",
   "pygments_lexer": "ipython3",
   "version": "3.6.8"
  },
  "widgets": {
   "application/vnd.jupyter.widget-state+json": {
    "166c25f520e14832843dfc02720eb76f": {
     "model_module": "@jupyter-widgets/controls",
     "model_module_version": "1.5.0",
     "model_name": "SliderStyleModel",
     "state": {
      "_model_module": "@jupyter-widgets/controls",
      "_model_module_version": "1.5.0",
      "_model_name": "SliderStyleModel",
      "_view_count": null,
      "_view_module": "@jupyter-widgets/base",
      "_view_module_version": "1.2.0",
      "_view_name": "StyleView",
      "description_width": "",
      "handle_color": null
     }
    },
    "2969c2dee70a4400b84b21233a166863": {
     "model_module": "@jupyter-widgets/output",
     "model_module_version": "1.0.0",
     "model_name": "OutputModel",
     "state": {
      "_dom_classes": [],
      "_model_module": "@jupyter-widgets/output",
      "_model_module_version": "1.0.0",
      "_model_name": "OutputModel",
      "_view_count": null,
      "_view_module": "@jupyter-widgets/output",
      "_view_module_version": "1.0.0",
      "_view_name": "OutputView",
      "layout": "IPY_MODEL_5b182c9b174f49d687fe56ff021ed499",
      "msg_id": "",
      "outputs": [
       {
        "data": {
         "image/png": "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\n",
         "text/plain": "<Figure size 1080x432 with 1 Axes>"
        },
        "metadata": {
         "needs_background": "light"
        },
        "output_type": "display_data"
       }
      ]
     }
    },
    "2ac18f44db3a4cb694d6b4a187bda2d0": {
     "model_module": "@jupyter-widgets/base",
     "model_module_version": "1.2.0",
     "model_name": "LayoutModel",
     "state": {
      "_model_module": "@jupyter-widgets/base",
      "_model_module_version": "1.2.0",
      "_model_name": "LayoutModel",
      "_view_count": null,
      "_view_module": "@jupyter-widgets/base",
      "_view_module_version": "1.2.0",
      "_view_name": "LayoutView",
      "align_content": null,
      "align_items": null,
      "align_self": null,
      "border": null,
      "bottom": null,
      "display": null,
      "flex": null,
      "flex_flow": null,
      "grid_area": null,
      "grid_auto_columns": null,
      "grid_auto_flow": null,
      "grid_auto_rows": null,
      "grid_column": null,
      "grid_gap": null,
      "grid_row": null,
      "grid_template_areas": null,
      "grid_template_columns": null,
      "grid_template_rows": null,
      "height": null,
      "justify_content": null,
      "justify_items": null,
      "left": null,
      "margin": null,
      "max_height": null,
      "max_width": null,
      "min_height": null,
      "min_width": null,
      "object_fit": null,
      "object_position": null,
      "order": null,
      "overflow": null,
      "overflow_x": null,
      "overflow_y": null,
      "padding": null,
      "right": null,
      "top": null,
      "visibility": null,
      "width": null
     }
    },
    "5b182c9b174f49d687fe56ff021ed499": {
     "model_module": "@jupyter-widgets/base",
     "model_module_version": "1.2.0",
     "model_name": "LayoutModel",
     "state": {
      "_model_module": "@jupyter-widgets/base",
      "_model_module_version": "1.2.0",
      "_model_name": "LayoutModel",
      "_view_count": null,
      "_view_module": "@jupyter-widgets/base",
      "_view_module_version": "1.2.0",
      "_view_name": "LayoutView",
      "align_content": null,
      "align_items": null,
      "align_self": null,
      "border": null,
      "bottom": null,
      "display": null,
      "flex": null,
      "flex_flow": null,
      "grid_area": null,
      "grid_auto_columns": null,
      "grid_auto_flow": null,
      "grid_auto_rows": null,
      "grid_column": null,
      "grid_gap": null,
      "grid_row": null,
      "grid_template_areas": null,
      "grid_template_columns": null,
      "grid_template_rows": null,
      "height": null,
      "justify_content": null,
      "justify_items": null,
      "left": null,
      "margin": null,
      "max_height": null,
      "max_width": null,
      "min_height": null,
      "min_width": null,
      "object_fit": null,
      "object_position": null,
      "order": null,
      "overflow": null,
      "overflow_x": null,
      "overflow_y": null,
      "padding": null,
      "right": null,
      "top": null,
      "visibility": null,
      "width": null
     }
    },
    "674ec5eebc044f64bdfcbb17298c03f8": {
     "model_module": "@jupyter-widgets/controls",
     "model_module_version": "1.5.0",
     "model_name": "DropdownModel",
     "state": {
      "_dom_classes": [],
      "_model_module": "@jupyter-widgets/controls",
      "_model_module_version": "1.5.0",
      "_model_name": "DropdownModel",
      "_options_labels": [
       "PC_0",
       "PC_1",
       "PC_2",
       "PC_3",
       "PC_4",
       "PC_5",
       "PC_6",
       "PC_7",
       "PC_8",
       "PC_9",
       "PC_10",
       "PC_11",
       "PC_12",
       "PC_13",
       "PC_14",
       "PC_15",
       "PC_16",
       "PC_17",
       "PC_18",
       "PC_19"
      ],
      "_view_count": null,
      "_view_module": "@jupyter-widgets/controls",
      "_view_module_version": "1.5.0",
      "_view_name": "DropdownView",
      "description": "col",
      "description_tooltip": null,
      "disabled": false,
      "index": 0,
      "layout": "IPY_MODEL_2ac18f44db3a4cb694d6b4a187bda2d0",
      "style": "IPY_MODEL_fd716b97a7e04efcb91cfe8e3e391371"
     }
    },
    "7ac74661fce34f0c9e8455591749fd8d": {
     "model_module": "@jupyter-widgets/controls",
     "model_module_version": "1.5.0",
     "model_name": "VBoxModel",
     "state": {
      "_dom_classes": [
       "widget-interact"
      ],
      "_model_module": "@jupyter-widgets/controls",
      "_model_module_version": "1.5.0",
      "_model_name": "VBoxModel",
      "_view_count": null,
      "_view_module": "@jupyter-widgets/controls",
      "_view_module_version": "1.5.0",
      "_view_name": "VBoxView",
      "box_style": "",
      "children": [
       "IPY_MODEL_674ec5eebc044f64bdfcbb17298c03f8",
       "IPY_MODEL_2969c2dee70a4400b84b21233a166863"
      ],
      "layout": "IPY_MODEL_a705573f7b344c46ba452c52c563857d"
     }
    },
    "7c6678eec4ab4b799e233a23e3e22995": {
     "model_module": "@jupyter-widgets/base",
     "model_module_version": "1.2.0",
     "model_name": "LayoutModel",
     "state": {
      "_model_module": "@jupyter-widgets/base",
      "_model_module_version": "1.2.0",
      "_model_name": "LayoutModel",
      "_view_count": null,
      "_view_module": "@jupyter-widgets/base",
      "_view_module_version": "1.2.0",
      "_view_name": "LayoutView",
      "align_content": null,
      "align_items": null,
      "align_self": null,
      "border": null,
      "bottom": null,
      "display": null,
      "flex": null,
      "flex_flow": null,
      "grid_area": null,
      "grid_auto_columns": null,
      "grid_auto_flow": null,
      "grid_auto_rows": null,
      "grid_column": null,
      "grid_gap": null,
      "grid_row": null,
      "grid_template_areas": null,
      "grid_template_columns": null,
      "grid_template_rows": null,
      "height": null,
      "justify_content": null,
      "justify_items": null,
      "left": null,
      "margin": null,
      "max_height": null,
      "max_width": null,
      "min_height": null,
      "min_width": null,
      "object_fit": null,
      "object_position": null,
      "order": null,
      "overflow": null,
      "overflow_x": null,
      "overflow_y": null,
      "padding": null,
      "right": null,
      "top": null,
      "visibility": null,
      "width": null
     }
    },
    "a13e3a2ee4b947abb6bda3fbdc1c27ce": {
     "model_module": "@jupyter-widgets/controls",
     "model_module_version": "1.5.0",
     "model_name": "FloatSliderModel",
     "state": {
      "_dom_classes": [],
      "_model_module": "@jupyter-widgets/controls",
      "_model_module_version": "1.5.0",
      "_model_name": "FloatSliderModel",
      "_view_count": null,
      "_view_module": "@jupyter-widgets/controls",
      "_view_module_version": "1.5.0",
      "_view_name": "FloatSliderView",
      "continuous_update": true,
      "description": "v_thld",
      "description_tooltip": null,
      "disabled": false,
      "layout": "IPY_MODEL_ce1e2be993ea41bc8ab2dc2e4e646416",
      "max": 100.05,
      "min": 0,
      "orientation": "horizontal",
      "readout": true,
      "readout_format": ".2f",
      "step": 0.05,
      "style": "IPY_MODEL_166c25f520e14832843dfc02720eb76f",
      "value": 90
     }
    },
    "a705573f7b344c46ba452c52c563857d": {
     "model_module": "@jupyter-widgets/base",
     "model_module_version": "1.2.0",
     "model_name": "LayoutModel",
     "state": {
      "_model_module": "@jupyter-widgets/base",
      "_model_module_version": "1.2.0",
      "_model_name": "LayoutModel",
      "_view_count": null,
      "_view_module": "@jupyter-widgets/base",
      "_view_module_version": "1.2.0",
      "_view_name": "LayoutView",
      "align_content": null,
      "align_items": null,
      "align_self": null,
      "border": null,
      "bottom": null,
      "display": null,
      "flex": null,
      "flex_flow": null,
      "grid_area": null,
      "grid_auto_columns": null,
      "grid_auto_flow": null,
      "grid_auto_rows": null,
      "grid_column": null,
      "grid_gap": null,
      "grid_row": null,
      "grid_template_areas": null,
      "grid_template_columns": null,
      "grid_template_rows": null,
      "height": null,
      "justify_content": null,
      "justify_items": null,
      "left": null,
      "margin": null,
      "max_height": null,
      "max_width": null,
      "min_height": null,
      "min_width": null,
      "object_fit": null,
      "object_position": null,
      "order": null,
      "overflow": null,
      "overflow_x": null,
      "overflow_y": null,
      "padding": null,
      "right": null,
      "top": null,
      "visibility": null,
      "width": null
     }
    },
    "c5bbc3e834c44036bec37dfd0ac46631": {
     "model_module": "@jupyter-widgets/controls",
     "model_module_version": "1.5.0",
     "model_name": "VBoxModel",
     "state": {
      "_dom_classes": [
       "widget-interact"
      ],
      "_model_module": "@jupyter-widgets/controls",
      "_model_module_version": "1.5.0",
      "_model_name": "VBoxModel",
      "_view_count": null,
      "_view_module": "@jupyter-widgets/controls",
      "_view_module_version": "1.5.0",
      "_view_name": "VBoxView",
      "box_style": "",
      "children": [
       "IPY_MODEL_a13e3a2ee4b947abb6bda3fbdc1c27ce",
       "IPY_MODEL_d255e91454e5439495c6f9e03f9b7800"
      ],
      "layout": "IPY_MODEL_d072f01195bc4a788bf5614e46bc9743"
     }
    },
    "ce1e2be993ea41bc8ab2dc2e4e646416": {
     "model_module": "@jupyter-widgets/base",
     "model_module_version": "1.2.0",
     "model_name": "LayoutModel",
     "state": {
      "_model_module": "@jupyter-widgets/base",
      "_model_module_version": "1.2.0",
      "_model_name": "LayoutModel",
      "_view_count": null,
      "_view_module": "@jupyter-widgets/base",
      "_view_module_version": "1.2.0",
      "_view_name": "LayoutView",
      "align_content": null,
      "align_items": null,
      "align_self": null,
      "border": null,
      "bottom": null,
      "display": null,
      "flex": null,
      "flex_flow": null,
      "grid_area": null,
      "grid_auto_columns": null,
      "grid_auto_flow": null,
      "grid_auto_rows": null,
      "grid_column": null,
      "grid_gap": null,
      "grid_row": null,
      "grid_template_areas": null,
      "grid_template_columns": null,
      "grid_template_rows": null,
      "height": null,
      "justify_content": null,
      "justify_items": null,
      "left": null,
      "margin": null,
      "max_height": null,
      "max_width": null,
      "min_height": null,
      "min_width": null,
      "object_fit": null,
      "object_position": null,
      "order": null,
      "overflow": null,
      "overflow_x": null,
      "overflow_y": null,
      "padding": null,
      "right": null,
      "top": null,
      "visibility": null,
      "width": null
     }
    },
    "d072f01195bc4a788bf5614e46bc9743": {
     "model_module": "@jupyter-widgets/base",
     "model_module_version": "1.2.0",
     "model_name": "LayoutModel",
     "state": {
      "_model_module": "@jupyter-widgets/base",
      "_model_module_version": "1.2.0",
      "_model_name": "LayoutModel",
      "_view_count": null,
      "_view_module": "@jupyter-widgets/base",
      "_view_module_version": "1.2.0",
      "_view_name": "LayoutView",
      "align_content": null,
      "align_items": null,
      "align_self": null,
      "border": null,
      "bottom": null,
      "display": null,
      "flex": null,
      "flex_flow": null,
      "grid_area": null,
      "grid_auto_columns": null,
      "grid_auto_flow": null,
      "grid_auto_rows": null,
      "grid_column": null,
      "grid_gap": null,
      "grid_row": null,
      "grid_template_areas": null,
      "grid_template_columns": null,
      "grid_template_rows": null,
      "height": null,
      "justify_content": null,
      "justify_items": null,
      "left": null,
      "margin": null,
      "max_height": null,
      "max_width": null,
      "min_height": null,
      "min_width": null,
      "object_fit": null,
      "object_position": null,
      "order": null,
      "overflow": null,
      "overflow_x": null,
      "overflow_y": null,
      "padding": null,
      "right": null,
      "top": null,
      "visibility": null,
      "width": null
     }
    },
    "d255e91454e5439495c6f9e03f9b7800": {
     "model_module": "@jupyter-widgets/output",
     "model_module_version": "1.0.0",
     "model_name": "OutputModel",
     "state": {
      "_dom_classes": [],
      "_model_module": "@jupyter-widgets/output",
      "_model_module_version": "1.0.0",
      "_model_name": "OutputModel",
      "_view_count": null,
      "_view_module": "@jupyter-widgets/output",
      "_view_module_version": "1.0.0",
      "_view_name": "OutputView",
      "layout": "IPY_MODEL_7c6678eec4ab4b799e233a23e3e22995",
      "msg_id": "",
      "outputs": [
       {
        "data": {
         "text/plain": "19"
        },
        "metadata": {},
        "output_type": "display_data"
       }
      ]
     }
    },
    "fd716b97a7e04efcb91cfe8e3e391371": {
     "model_module": "@jupyter-widgets/controls",
     "model_module_version": "1.5.0",
     "model_name": "DescriptionStyleModel",
     "state": {
      "_model_module": "@jupyter-widgets/controls",
      "_model_module_version": "1.5.0",
      "_model_name": "DescriptionStyleModel",
      "_view_count": null,
      "_view_module": "@jupyter-widgets/base",
      "_view_module_version": "1.2.0",
      "_view_name": "StyleView",
      "description_width": ""
     }
    }
   }
  }
 },
 "nbformat": 4,
 "nbformat_minor": 5
}
