{
 "cells": [
  {
   "cell_type": "code",
   "execution_count": 1,
   "id": "973bdecb-ce35-4fac-8e08-f41e4270c67e",
   "metadata": {},
   "outputs": [],
   "source": [
    "import numpy as np\n",
    "import pandas as pd\n",
    "from pathlib import Path\n",
    "import gc"
   ]
  },
  {
   "cell_type": "code",
   "execution_count": 164,
   "id": "9c3a16a5-4d93-4c0c-8819-cfa9729ec4d7",
   "metadata": {},
   "outputs": [
    {
     "data": {
      "text/html": [
       "<div>\n",
       "<style scoped>\n",
       "    .dataframe tbody tr th:only-of-type {\n",
       "        vertical-align: middle;\n",
       "    }\n",
       "\n",
       "    .dataframe tbody tr th {\n",
       "        vertical-align: top;\n",
       "    }\n",
       "\n",
       "    .dataframe thead th {\n",
       "        text-align: right;\n",
       "    }\n",
       "</style>\n",
       "<table border=\"1\" class=\"dataframe\">\n",
       "  <thead>\n",
       "    <tr style=\"text-align: right;\">\n",
       "      <th></th>\n",
       "      <th>0</th>\n",
       "      <th>1</th>\n",
       "      <th>2</th>\n",
       "      <th>3</th>\n",
       "      <th>4</th>\n",
       "    </tr>\n",
       "  </thead>\n",
       "  <tbody>\n",
       "    <tr>\n",
       "      <th>0</th>\n",
       "      <td>1</td>\n",
       "      <td>1</td>\n",
       "      <td>1</td>\n",
       "      <td>0</td>\n",
       "      <td>1</td>\n",
       "    </tr>\n",
       "    <tr>\n",
       "      <th>1</th>\n",
       "      <td>1</td>\n",
       "      <td>1</td>\n",
       "      <td>0</td>\n",
       "      <td>0</td>\n",
       "      <td>0</td>\n",
       "    </tr>\n",
       "    <tr>\n",
       "      <th>2</th>\n",
       "      <td>1</td>\n",
       "      <td>1</td>\n",
       "      <td>0</td>\n",
       "      <td>0</td>\n",
       "      <td>1</td>\n",
       "    </tr>\n",
       "    <tr>\n",
       "      <th>3</th>\n",
       "      <td>1</td>\n",
       "      <td>0</td>\n",
       "      <td>0</td>\n",
       "      <td>1</td>\n",
       "      <td>1</td>\n",
       "    </tr>\n",
       "    <tr>\n",
       "      <th>4</th>\n",
       "      <td>0</td>\n",
       "      <td>1</td>\n",
       "      <td>0</td>\n",
       "      <td>0</td>\n",
       "      <td>1</td>\n",
       "    </tr>\n",
       "  </tbody>\n",
       "</table>\n",
       "</div>"
      ],
      "text/plain": [
       "   0  1  2  3  4\n",
       "0  1  1  1  0  1\n",
       "1  1  1  0  0  0\n",
       "2  1  1  0  0  1\n",
       "3  1  0  0  1  1\n",
       "4  0  1  0  0  1"
      ]
     },
     "execution_count": 164,
     "metadata": {},
     "output_type": "execute_result"
    }
   ],
   "source": [
    "patterns = pd.DataFrame(np.random.randint(0, 2, (5, 5)))\n",
    "patterns"
   ]
  },
  {
   "cell_type": "code",
   "execution_count": 165,
   "id": "95b06819",
   "metadata": {},
   "outputs": [],
   "source": [
    "def flip_pattern(patterns, eta):\n",
    "    \"\"\"flip n-th bit to allow more freedom(false positive)\n",
    "       if eta = 0 then pattern as is\n",
    "       if eta = 1 then loop over each bit and force it to one\n",
    "       eta = 2 loop over 2 bits and flip them ... etc\n",
    "       drop any duplicate patterns\"\"\"\n",
    "    temp = patterns.copy()\n",
    "    \n",
    "    for nth in range(patterns.shape[1]-eta+1):\n",
    "        t1 = temp.copy()\n",
    "        t0 = temp.copy()\n",
    "        \n",
    "        t1[:, nth:nth+eta] = 1\n",
    "        t0[:, nth:nth+eta] = 0\n",
    "        \n",
    "        # compare hamming distance to original\n",
    "        idx1 = (patterns ^ t1).sum(1) == eta\n",
    "        idx0 = (patterns ^ t0).sum(1) == eta\n",
    "        \n",
    "        if idx1.sum() == 0 and idx0.sum() == 0: continue\n",
    "\n",
    "        # pick rows with respect to eta\n",
    "        yield np.vstack([np.unique(t1[idx1], axis=0), np.unique(t0[idx0], axis=0)])"
   ]
  },
  {
   "cell_type": "code",
   "execution_count": 166,
   "id": "1c43467e",
   "metadata": {},
   "outputs": [],
   "source": [
    "m = 1\n",
    "\n",
    "t1 = patterns.to_numpy().copy()\n",
    "t1[:, m:m+1]=1\n",
    "t0 = patterns.to_numpy().copy()\n",
    "t0[:, m:m+1]=0"
   ]
  },
  {
   "cell_type": "code",
   "execution_count": 168,
   "id": "becb53d7",
   "metadata": {},
   "outputs": [
    {
     "data": {
      "text/plain": [
       "array([[1, 1, 0, 1, 1],\n",
       "       [0, 0, 0, 0, 1],\n",
       "       [1, 0, 0, 0, 0],\n",
       "       [1, 0, 0, 0, 1],\n",
       "       [1, 0, 1, 0, 1]])"
      ]
     },
     "execution_count": 168,
     "metadata": {},
     "output_type": "execute_result"
    }
   ],
   "source": [
    "list(flip_pattern(patterns.to_numpy(), 1))[m]"
   ]
  },
  {
   "cell_type": "code",
   "execution_count": 169,
   "id": "f6c82548",
   "metadata": {},
   "outputs": [
    {
     "data": {
      "text/plain": [
       "array([[1, 1, 0, 1, 1]])"
      ]
     },
     "execution_count": 169,
     "metadata": {},
     "output_type": "execute_result"
    }
   ],
   "source": [
    "t1[(patterns.to_numpy() ^ t1).sum(1) == 1]"
   ]
  },
  {
   "cell_type": "code",
   "execution_count": 170,
   "id": "75d8c853",
   "metadata": {},
   "outputs": [
    {
     "data": {
      "text/plain": [
       "array([[1, 0, 1, 0, 1],\n",
       "       [1, 0, 0, 0, 0],\n",
       "       [1, 0, 0, 0, 1],\n",
       "       [0, 0, 0, 0, 1]])"
      ]
     },
     "execution_count": 170,
     "metadata": {},
     "output_type": "execute_result"
    }
   ],
   "source": [
    "t0[(patterns.to_numpy() ^ t0).sum(1) == 1]"
   ]
  },
  {
   "cell_type": "code",
   "execution_count": 160,
   "id": "bdeeb911",
   "metadata": {},
   "outputs": [
    {
     "data": {
      "text/plain": [
       "(60000, 30)"
      ]
     },
     "execution_count": 160,
     "metadata": {},
     "output_type": "execute_result"
    }
   ],
   "source": [
    "patterns = pd.DataFrame(np.random.randint(0, 2, (60_000, 30)))\n",
    "patterns.shape"
   ]
  },
  {
   "cell_type": "code",
   "execution_count": 161,
   "id": "bc44b9ba-f6c6-41e3-b486-1d0fc55ddc18",
   "metadata": {},
   "outputs": [
    {
     "name": "stdout",
     "output_type": "stream",
     "text": [
      "6.74 s ± 19.9 ms per loop (mean ± std. dev. of 7 runs, 1 loop each)\n"
     ]
    }
   ],
   "source": [
    "%%timeit\n",
    "\n",
    "eta = 1\n",
    "df_eta = flip_pattern(patterns.to_numpy(), eta)\n",
    "\n",
    "for _ in df_eta: ...\n",
    "\n",
    "del df_eta\n",
    "gc.collect()"
   ]
  },
  {
   "cell_type": "code",
   "execution_count": 162,
   "id": "187fc3e1",
   "metadata": {},
   "outputs": [
    {
     "name": "stdout",
     "output_type": "stream",
     "text": [
      "680 ms ± 7.54 ms per loop (mean ± std. dev. of 7 runs, 1 loop each)\n"
     ]
    }
   ],
   "source": [
    "%%timeit\n",
    "\n",
    "eta = 5\n",
    "df_eta = flip_pattern(patterns.to_numpy(), eta)\n",
    "\n",
    "for _ in df_eta: ...\n",
    "\n",
    "del df_eta\n",
    "gc.collect()"
   ]
  },
  {
   "cell_type": "markdown",
   "id": "e54a3766",
   "metadata": {},
   "source": [
    "### XOR test"
   ]
  },
  {
   "cell_type": "code",
   "execution_count": 21,
   "id": "03698a8b",
   "metadata": {},
   "outputs": [],
   "source": [
    "a = 1\n",
    "b = 2"
   ]
  },
  {
   "cell_type": "code",
   "execution_count": 22,
   "id": "e9465468",
   "metadata": {},
   "outputs": [
    {
     "data": {
      "text/plain": [
       "('0b1', '0b10')"
      ]
     },
     "execution_count": 22,
     "metadata": {},
     "output_type": "execute_result"
    }
   ],
   "source": [
    "bin(a),bin(b)"
   ]
  },
  {
   "cell_type": "code",
   "execution_count": 23,
   "id": "22faac8a",
   "metadata": {},
   "outputs": [
    {
     "name": "stdout",
     "output_type": "stream",
     "text": [
      "3 0b11\n",
      "1 0b1\n",
      "2 0b10\n"
     ]
    }
   ],
   "source": [
    "a = a ^ b\n",
    "print(a, bin(a))\n",
    "\n",
    "b = a ^ b\n",
    "print(b, bin(b))\n",
    "\n",
    "a = a ^ b\n",
    "print(a, bin(a))"
   ]
  },
  {
   "cell_type": "code",
   "execution_count": 24,
   "id": "d2d3f224",
   "metadata": {},
   "outputs": [
    {
     "data": {
      "text/plain": [
       "('0b10', '0b1')"
      ]
     },
     "execution_count": 24,
     "metadata": {},
     "output_type": "execute_result"
    }
   ],
   "source": [
    "bin(a),bin(b)"
   ]
  },
  {
   "cell_type": "code",
   "execution_count": 25,
   "id": "4d90fb5b",
   "metadata": {},
   "outputs": [
    {
     "data": {
      "text/plain": [
       "(2, 1)"
      ]
     },
     "execution_count": 25,
     "metadata": {},
     "output_type": "execute_result"
    }
   ],
   "source": [
    "a, b"
   ]
  },
  {
   "cell_type": "code",
   "execution_count": null,
   "id": "d3b6f097",
   "metadata": {},
   "outputs": [],
   "source": []
  }
 ],
 "metadata": {
  "kernelspec": {
   "display_name": "Python 3 (ipykernel)",
   "language": "python",
   "name": "python3"
  },
  "language_info": {
   "codemirror_mode": {
    "name": "ipython",
    "version": 3
   },
   "file_extension": ".py",
   "mimetype": "text/x-python",
   "name": "python",
   "nbconvert_exporter": "python",
   "pygments_lexer": "ipython3",
   "version": "3.10.12"
  }
 },
 "nbformat": 4,
 "nbformat_minor": 5
}
