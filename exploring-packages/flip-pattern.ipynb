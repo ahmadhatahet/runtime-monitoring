{
 "cells": [
  {
   "cell_type": "code",
   "execution_count": 1,
   "id": "973bdecb-ce35-4fac-8e08-f41e4270c67e",
   "metadata": {},
   "outputs": [],
   "source": [
    "import numpy as np\n",
    "import pandas as pd\n",
    "from pathlib import Path\n",
    "import gc"
   ]
  },
  {
   "cell_type": "code",
   "execution_count": 6,
   "id": "9c3a16a5-4d93-4c0c-8819-cfa9729ec4d7",
   "metadata": {},
   "outputs": [
    {
     "data": {
      "text/html": [
       "<div>\n",
       "<style scoped>\n",
       "    .dataframe tbody tr th:only-of-type {\n",
       "        vertical-align: middle;\n",
       "    }\n",
       "\n",
       "    .dataframe tbody tr th {\n",
       "        vertical-align: top;\n",
       "    }\n",
       "\n",
       "    .dataframe thead th {\n",
       "        text-align: right;\n",
       "    }\n",
       "</style>\n",
       "<table border=\"1\" class=\"dataframe\">\n",
       "  <thead>\n",
       "    <tr style=\"text-align: right;\">\n",
       "      <th></th>\n",
       "      <th>0</th>\n",
       "      <th>1</th>\n",
       "      <th>2</th>\n",
       "      <th>3</th>\n",
       "      <th>4</th>\n",
       "      <th>5</th>\n",
       "      <th>6</th>\n",
       "      <th>7</th>\n",
       "      <th>8</th>\n",
       "      <th>9</th>\n",
       "    </tr>\n",
       "  </thead>\n",
       "  <tbody>\n",
       "    <tr>\n",
       "      <th>0</th>\n",
       "      <td>1</td>\n",
       "      <td>1</td>\n",
       "      <td>1</td>\n",
       "      <td>1</td>\n",
       "      <td>1</td>\n",
       "      <td>0</td>\n",
       "      <td>1</td>\n",
       "      <td>0</td>\n",
       "      <td>0</td>\n",
       "      <td>1</td>\n",
       "    </tr>\n",
       "    <tr>\n",
       "      <th>1</th>\n",
       "      <td>1</td>\n",
       "      <td>0</td>\n",
       "      <td>0</td>\n",
       "      <td>1</td>\n",
       "      <td>0</td>\n",
       "      <td>0</td>\n",
       "      <td>1</td>\n",
       "      <td>1</td>\n",
       "      <td>1</td>\n",
       "      <td>1</td>\n",
       "    </tr>\n",
       "    <tr>\n",
       "      <th>2</th>\n",
       "      <td>0</td>\n",
       "      <td>1</td>\n",
       "      <td>0</td>\n",
       "      <td>1</td>\n",
       "      <td>1</td>\n",
       "      <td>0</td>\n",
       "      <td>1</td>\n",
       "      <td>1</td>\n",
       "      <td>0</td>\n",
       "      <td>1</td>\n",
       "    </tr>\n",
       "    <tr>\n",
       "      <th>3</th>\n",
       "      <td>1</td>\n",
       "      <td>1</td>\n",
       "      <td>0</td>\n",
       "      <td>1</td>\n",
       "      <td>1</td>\n",
       "      <td>0</td>\n",
       "      <td>1</td>\n",
       "      <td>1</td>\n",
       "      <td>0</td>\n",
       "      <td>0</td>\n",
       "    </tr>\n",
       "    <tr>\n",
       "      <th>4</th>\n",
       "      <td>1</td>\n",
       "      <td>0</td>\n",
       "      <td>0</td>\n",
       "      <td>1</td>\n",
       "      <td>0</td>\n",
       "      <td>0</td>\n",
       "      <td>1</td>\n",
       "      <td>0</td>\n",
       "      <td>0</td>\n",
       "      <td>0</td>\n",
       "    </tr>\n",
       "  </tbody>\n",
       "</table>\n",
       "</div>"
      ],
      "text/plain": [
       "   0  1  2  3  4  5  6  7  8  9\n",
       "0  1  1  1  1  1  0  1  0  0  1\n",
       "1  1  0  0  1  0  0  1  1  1  1\n",
       "2  0  1  0  1  1  0  1  1  0  1\n",
       "3  1  1  0  1  1  0  1  1  0  0\n",
       "4  1  0  0  1  0  0  1  0  0  0"
      ]
     },
     "execution_count": 6,
     "metadata": {},
     "output_type": "execute_result"
    }
   ],
   "source": [
    "patterns = pd.DataFrame(np.random.randint(0, 2, (5, 10)))\n",
    "patterns"
   ]
  },
  {
   "cell_type": "code",
   "execution_count": 12,
   "id": "10005a89-90b5-4b4f-965e-a2d1c9da605f",
   "metadata": {},
   "outputs": [],
   "source": [
    "def generate_flipped_pattern(row, eta):\n",
    "    \"\"\"flip n-th bit to allow more freedom(false positive)\n",
    "       if et = 0 then pattern as is\n",
    "       if et = 1 then loop over each bit and force it to one\n",
    "       et = 2 loop over 2 bits and flip them ... etc\n",
    "       drop any duplicate patterns\"\"\"\n",
    "    temp = np.tile(row, (row.shape[0]-eta+1, 1) )\n",
    "\n",
    "    for nth in range(row.shape[0]-eta+1):\n",
    "        temp[nth, nth:nth+eta] = 1\n",
    "\n",
    "    return np.unique(temp, axis=0)\n",
    "\n",
    "\n",
    "def flip_pattern(patterns, eta):\n",
    "    df = pd.DataFrame()\n",
    "    \n",
    "    for i, base in patterns.iterrows():\n",
    "        # to calculate hamming distance\n",
    "        hamming_distance = lambda row: np.count_nonzero(base != row)\n",
    "    \n",
    "        # generate flipped patterns\n",
    "        flipped_pattern = generate_flipped_pattern(base, eta)\n",
    "        idx = np.where( np.apply_along_axis(hamming_distance, 1, flipped_pattern) == eta)\n",
    "        flipped = np.unique(flipped_pattern[idx], axis=0)\n",
    "        if len(flipped) == 0: continue\n",
    "\n",
    "        yield flipped"
   ]
  },
  {
   "cell_type": "code",
   "execution_count": 14,
   "id": "143cb787",
   "metadata": {},
   "outputs": [
    {
     "data": {
      "text/plain": [
       "array([[1, 0, 0, 1, 0, 0, 1, 1, 1, 1],\n",
       "       [1, 0, 0, 1, 0, 1, 1, 1, 1, 1],\n",
       "       [1, 0, 0, 1, 1, 0, 1, 1, 1, 1],\n",
       "       [1, 0, 0, 1, 1, 1, 1, 1, 1, 1],\n",
       "       [1, 0, 1, 1, 0, 0, 1, 1, 1, 1],\n",
       "       [1, 1, 0, 1, 0, 0, 1, 1, 1, 1],\n",
       "       [1, 1, 1, 1, 0, 0, 1, 1, 1, 1]])"
      ]
     },
     "execution_count": 14,
     "metadata": {},
     "output_type": "execute_result"
    }
   ],
   "source": [
    "generate_flipped_pattern(patterns.loc[1], 2)"
   ]
  },
  {
   "cell_type": "code",
   "execution_count": 15,
   "id": "0c70a879-4961-41aa-b708-169273ce38e1",
   "metadata": {},
   "outputs": [
    {
     "name": "stdout",
     "output_type": "stream",
     "text": [
      "[[1 1 1 1 1 0 1 1 1 1]]\n",
      "------------------------------\n",
      "[[1 0 0 1 1 1 1 1 1 1]\n",
      " [1 1 1 1 0 0 1 1 1 1]]\n",
      "------------------------------\n",
      "[[1 1 0 1 1 0 1 1 1 1]]\n",
      "------------------------------\n",
      "[[1 0 0 1 0 0 1 0 1 1]\n",
      " [1 0 0 1 0 0 1 1 1 0]\n",
      " [1 0 0 1 1 1 1 0 0 0]\n",
      " [1 1 1 1 0 0 1 0 0 0]]\n",
      "------------------------------\n"
     ]
    }
   ],
   "source": [
    "eta = 2\n",
    "df_eta = iter(flip_pattern(patterns, eta))\n",
    "\n",
    "for p in df_eta:\n",
    "    print(p)\n",
    "    print('-'*30)"
   ]
  },
  {
   "cell_type": "markdown",
   "id": "46863f6a",
   "metadata": {},
   "source": [
    "### Optimize for large dataframe"
   ]
  },
  {
   "cell_type": "code",
   "execution_count": 16,
   "id": "012bbe37",
   "metadata": {},
   "outputs": [
    {
     "data": {
      "text/plain": [
       "PosixPath('/home/ah19/runtime-monitoring/MNIST/lastHiddenLayer/raw/MNIST_Adam-256-60')"
      ]
     },
     "execution_count": 16,
     "metadata": {},
     "output_type": "execute_result"
    }
   ],
   "source": [
    "path = Path().cwd().parent / 'MNIST' / 'lastHiddenLayer' / 'raw' / 'MNIST_Adam-256-60'\n",
    "path"
   ]
  },
  {
   "cell_type": "code",
   "execution_count": 17,
   "id": "9d05aad4-9bb9-46d0-92af-589dc4fb877c",
   "metadata": {},
   "outputs": [],
   "source": [
    "# import Data\n",
    "df = pd.read_csv(path / f\"{path.name}_train.csv\")\n",
    "\n",
    "# split train data\n",
    "df_true = df[df[\"true\"] == True].copy()\n",
    "df_true = df_true.drop(\"true\", axis=1).reset_index(drop=True)\n",
    "\n",
    "y = df_true['y']\n",
    "df_true = (df_true.drop('y', axis=1) > 0).astype(np.int8).drop_duplicates()"
   ]
  },
  {
   "cell_type": "code",
   "execution_count": 18,
   "id": "e011292a-9460-4b71-b9e3-6be3e9c5f6b9",
   "metadata": {},
   "outputs": [
    {
     "data": {
      "text/html": [
       "<div>\n",
       "<style scoped>\n",
       "    .dataframe tbody tr th:only-of-type {\n",
       "        vertical-align: middle;\n",
       "    }\n",
       "\n",
       "    .dataframe tbody tr th {\n",
       "        vertical-align: top;\n",
       "    }\n",
       "\n",
       "    .dataframe thead th {\n",
       "        text-align: right;\n",
       "    }\n",
       "</style>\n",
       "<table border=\"1\" class=\"dataframe\">\n",
       "  <thead>\n",
       "    <tr style=\"text-align: right;\">\n",
       "      <th></th>\n",
       "      <th>x0</th>\n",
       "      <th>x1</th>\n",
       "      <th>x2</th>\n",
       "      <th>x3</th>\n",
       "      <th>x4</th>\n",
       "      <th>x5</th>\n",
       "      <th>x6</th>\n",
       "      <th>x7</th>\n",
       "      <th>x8</th>\n",
       "      <th>x9</th>\n",
       "      <th>...</th>\n",
       "      <th>x50</th>\n",
       "      <th>x51</th>\n",
       "      <th>x52</th>\n",
       "      <th>x53</th>\n",
       "      <th>x54</th>\n",
       "      <th>x55</th>\n",
       "      <th>x56</th>\n",
       "      <th>x57</th>\n",
       "      <th>x58</th>\n",
       "      <th>x59</th>\n",
       "    </tr>\n",
       "  </thead>\n",
       "  <tbody>\n",
       "    <tr>\n",
       "      <th>0</th>\n",
       "      <td>1</td>\n",
       "      <td>1</td>\n",
       "      <td>0</td>\n",
       "      <td>1</td>\n",
       "      <td>1</td>\n",
       "      <td>1</td>\n",
       "      <td>0</td>\n",
       "      <td>1</td>\n",
       "      <td>0</td>\n",
       "      <td>0</td>\n",
       "      <td>...</td>\n",
       "      <td>0</td>\n",
       "      <td>0</td>\n",
       "      <td>1</td>\n",
       "      <td>1</td>\n",
       "      <td>1</td>\n",
       "      <td>0</td>\n",
       "      <td>0</td>\n",
       "      <td>0</td>\n",
       "      <td>0</td>\n",
       "      <td>1</td>\n",
       "    </tr>\n",
       "    <tr>\n",
       "      <th>1</th>\n",
       "      <td>1</td>\n",
       "      <td>0</td>\n",
       "      <td>0</td>\n",
       "      <td>0</td>\n",
       "      <td>0</td>\n",
       "      <td>1</td>\n",
       "      <td>1</td>\n",
       "      <td>0</td>\n",
       "      <td>0</td>\n",
       "      <td>1</td>\n",
       "      <td>...</td>\n",
       "      <td>0</td>\n",
       "      <td>0</td>\n",
       "      <td>1</td>\n",
       "      <td>0</td>\n",
       "      <td>1</td>\n",
       "      <td>0</td>\n",
       "      <td>1</td>\n",
       "      <td>0</td>\n",
       "      <td>1</td>\n",
       "      <td>0</td>\n",
       "    </tr>\n",
       "    <tr>\n",
       "      <th>2</th>\n",
       "      <td>1</td>\n",
       "      <td>0</td>\n",
       "      <td>0</td>\n",
       "      <td>1</td>\n",
       "      <td>0</td>\n",
       "      <td>0</td>\n",
       "      <td>1</td>\n",
       "      <td>1</td>\n",
       "      <td>1</td>\n",
       "      <td>0</td>\n",
       "      <td>...</td>\n",
       "      <td>1</td>\n",
       "      <td>0</td>\n",
       "      <td>1</td>\n",
       "      <td>0</td>\n",
       "      <td>0</td>\n",
       "      <td>0</td>\n",
       "      <td>0</td>\n",
       "      <td>0</td>\n",
       "      <td>0</td>\n",
       "      <td>0</td>\n",
       "    </tr>\n",
       "    <tr>\n",
       "      <th>3</th>\n",
       "      <td>0</td>\n",
       "      <td>1</td>\n",
       "      <td>0</td>\n",
       "      <td>1</td>\n",
       "      <td>1</td>\n",
       "      <td>1</td>\n",
       "      <td>1</td>\n",
       "      <td>1</td>\n",
       "      <td>1</td>\n",
       "      <td>0</td>\n",
       "      <td>...</td>\n",
       "      <td>1</td>\n",
       "      <td>0</td>\n",
       "      <td>1</td>\n",
       "      <td>1</td>\n",
       "      <td>0</td>\n",
       "      <td>0</td>\n",
       "      <td>0</td>\n",
       "      <td>0</td>\n",
       "      <td>0</td>\n",
       "      <td>1</td>\n",
       "    </tr>\n",
       "    <tr>\n",
       "      <th>4</th>\n",
       "      <td>0</td>\n",
       "      <td>0</td>\n",
       "      <td>0</td>\n",
       "      <td>1</td>\n",
       "      <td>0</td>\n",
       "      <td>0</td>\n",
       "      <td>0</td>\n",
       "      <td>0</td>\n",
       "      <td>0</td>\n",
       "      <td>1</td>\n",
       "      <td>...</td>\n",
       "      <td>1</td>\n",
       "      <td>0</td>\n",
       "      <td>0</td>\n",
       "      <td>0</td>\n",
       "      <td>1</td>\n",
       "      <td>1</td>\n",
       "      <td>0</td>\n",
       "      <td>0</td>\n",
       "      <td>0</td>\n",
       "      <td>0</td>\n",
       "    </tr>\n",
       "  </tbody>\n",
       "</table>\n",
       "<p>5 rows × 60 columns</p>\n",
       "</div>"
      ],
      "text/plain": [
       "   x0  x1  x2  x3  x4  x5  x6  x7  x8  x9  ...  x50  x51  x52  x53  x54  x55   \n",
       "0   1   1   0   1   1   1   0   1   0   0  ...    0    0    1    1    1    0  \\\n",
       "1   1   0   0   0   0   1   1   0   0   1  ...    0    0    1    0    1    0   \n",
       "2   1   0   0   1   0   0   1   1   1   0  ...    1    0    1    0    0    0   \n",
       "3   0   1   0   1   1   1   1   1   1   0  ...    1    0    1    1    0    0   \n",
       "4   0   0   0   1   0   0   0   0   0   1  ...    1    0    0    0    1    1   \n",
       "\n",
       "   x56  x57  x58  x59  \n",
       "0    0    0    0    1  \n",
       "1    1    0    1    0  \n",
       "2    0    0    0    0  \n",
       "3    0    0    0    1  \n",
       "4    0    0    0    0  \n",
       "\n",
       "[5 rows x 60 columns]"
      ]
     },
     "execution_count": 18,
     "metadata": {},
     "output_type": "execute_result"
    }
   ],
   "source": [
    "df_true.head()"
   ]
  },
  {
   "cell_type": "code",
   "execution_count": 19,
   "id": "95b06819",
   "metadata": {},
   "outputs": [],
   "source": [
    "def flip_pattern(patterns, eta):\n",
    "    \"\"\"flip n-th bit to allow more freedom(false positive)\n",
    "       if eta = 0 then pattern as is\n",
    "       if eta = 1 then loop over each bit and force it to one\n",
    "       eta = 2 loop over 2 bits and flip them ... etc\n",
    "       drop any duplicate patterns\"\"\"\n",
    "    temp = patterns.copy()\n",
    "    for nth in range(df.shape[1]-eta+1):\n",
    "        temp[:, nth:nth+eta] = 1\n",
    "\n",
    "        # compare hamming distance to original\n",
    "        idx = (patterns ^ temp).sum(1) == eta\n",
    "        if idx.sum() == 0: continue\n",
    "\n",
    "        # pick rows with respect to eta\n",
    "        yield np.unique(temp[idx], axis=0)\n",
    "        \n",
    "        # reset to original value\n",
    "        temp[:, nth:nth+eta] = patterns[:, nth:nth+eta]"
   ]
  },
  {
   "cell_type": "code",
   "execution_count": 20,
   "id": "bc44b9ba-f6c6-41e3-b486-1d0fc55ddc18",
   "metadata": {},
   "outputs": [
    {
     "name": "stdout",
     "output_type": "stream",
     "text": [
      "The slowest run took 9.38 times longer than the fastest. This could mean that an intermediate result is being cached.\n",
      "212 ms ± 154 ms per loop (mean ± std. dev. of 7 runs, 1 loop each)\n"
     ]
    }
   ],
   "source": [
    "%%timeit\n",
    "\n",
    "eta = 1\n",
    "df_eta = flip_pattern(patterns.to_numpy(), eta)\n",
    "\n",
    "for d in df_eta: _\n",
    "\n",
    "del df_eta\n",
    "gc.collect()"
   ]
  },
  {
   "cell_type": "markdown",
   "id": "e54a3766",
   "metadata": {},
   "source": [
    "### XOR test"
   ]
  },
  {
   "cell_type": "code",
   "execution_count": 21,
   "id": "03698a8b",
   "metadata": {},
   "outputs": [],
   "source": [
    "a = 1\n",
    "b = 2"
   ]
  },
  {
   "cell_type": "code",
   "execution_count": 22,
   "id": "e9465468",
   "metadata": {},
   "outputs": [
    {
     "data": {
      "text/plain": [
       "('0b1', '0b10')"
      ]
     },
     "execution_count": 22,
     "metadata": {},
     "output_type": "execute_result"
    }
   ],
   "source": [
    "bin(a),bin(b)"
   ]
  },
  {
   "cell_type": "code",
   "execution_count": 23,
   "id": "22faac8a",
   "metadata": {},
   "outputs": [
    {
     "name": "stdout",
     "output_type": "stream",
     "text": [
      "3 0b11\n",
      "1 0b1\n",
      "2 0b10\n"
     ]
    }
   ],
   "source": [
    "a = a ^ b\n",
    "print(a, bin(a))\n",
    "\n",
    "b = a ^ b\n",
    "print(b, bin(b))\n",
    "\n",
    "a = a ^ b\n",
    "print(a, bin(a))"
   ]
  },
  {
   "cell_type": "code",
   "execution_count": 24,
   "id": "d2d3f224",
   "metadata": {},
   "outputs": [
    {
     "data": {
      "text/plain": [
       "('0b10', '0b1')"
      ]
     },
     "execution_count": 24,
     "metadata": {},
     "output_type": "execute_result"
    }
   ],
   "source": [
    "bin(a),bin(b)"
   ]
  },
  {
   "cell_type": "code",
   "execution_count": 25,
   "id": "4d90fb5b",
   "metadata": {},
   "outputs": [
    {
     "data": {
      "text/plain": [
       "(2, 1)"
      ]
     },
     "execution_count": 25,
     "metadata": {},
     "output_type": "execute_result"
    }
   ],
   "source": [
    "a, b"
   ]
  },
  {
   "cell_type": "code",
   "execution_count": null,
   "id": "d3b6f097",
   "metadata": {},
   "outputs": [],
   "source": []
  }
 ],
 "metadata": {
  "kernelspec": {
   "display_name": "Python 3 (ipykernel)",
   "language": "python",
   "name": "python3"
  },
  "language_info": {
   "codemirror_mode": {
    "name": "ipython",
    "version": 3
   },
   "file_extension": ".py",
   "mimetype": "text/x-python",
   "name": "python",
   "nbconvert_exporter": "python",
   "pygments_lexer": "ipython3",
   "version": "3.10.11"
  }
 },
 "nbformat": 4,
 "nbformat_minor": 5
}
